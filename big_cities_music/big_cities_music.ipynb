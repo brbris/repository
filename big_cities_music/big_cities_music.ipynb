{
 "cells": [
  {
   "cell_type": "markdown",
   "metadata": {
    "id": "E0vqbgi9ay0H"
   },
   "source": [
    "# Яндекс.Музыка"
   ]
  },
  {
   "cell_type": "markdown",
   "metadata": {
    "id": "Ml1hmfXC_Zcs"
   },
   "source": [
    "## Обзор данных\n",
    "\n",
    "Составьте первое представление о данных Яндекс.Музыки.\n",
    "\n",
    "\n"
   ]
  },
  {
   "cell_type": "markdown",
   "metadata": {
    "id": "57eAOGIz_Zcs"
   },
   "source": [
    "Основной инструмент аналитика — `pandas`. Импортируйте эту библиотеку."
   ]
  },
  {
   "cell_type": "code",
   "execution_count": 1,
   "metadata": {
    "id": "AXN7PHPN_Zcs"
   },
   "outputs": [],
   "source": [
    "import pandas as pd # импорт библиотеки pandas"
   ]
  },
  {
   "cell_type": "markdown",
   "metadata": {
    "id": "SG23P8tt_Zcs"
   },
   "source": [
    "Прочитайте файл `yandex_music_project.csv` из папки `/datasets` и сохраните его в переменной `df`:"
   ]
  },
  {
   "cell_type": "code",
   "execution_count": 2,
   "metadata": {
    "id": "fFVu7vqh_Zct"
   },
   "outputs": [],
   "source": [
    "df = pd.read_csv('/datasets/yandex_music_project.csv')# чтение файла с данными и сохранение в df"
   ]
  },
  {
   "cell_type": "markdown",
   "metadata": {
    "id": "rDoOMd3uTqnZ"
   },
   "source": [
    "Выведите на экран первые десять строк таблицы:"
   ]
  },
  {
   "cell_type": "code",
   "execution_count": 3,
   "metadata": {
    "id": "oWTVX3gW_Zct"
   },
   "outputs": [
    {
     "data": {
      "text/html": [
       "<div>\n",
       "<style scoped>\n",
       "    .dataframe tbody tr th:only-of-type {\n",
       "        vertical-align: middle;\n",
       "    }\n",
       "\n",
       "    .dataframe tbody tr th {\n",
       "        vertical-align: top;\n",
       "    }\n",
       "\n",
       "    .dataframe thead th {\n",
       "        text-align: right;\n",
       "    }\n",
       "</style>\n",
       "<table border=\"1\" class=\"dataframe\">\n",
       "  <thead>\n",
       "    <tr style=\"text-align: right;\">\n",
       "      <th></th>\n",
       "      <th>userID</th>\n",
       "      <th>Track</th>\n",
       "      <th>artist</th>\n",
       "      <th>genre</th>\n",
       "      <th>City</th>\n",
       "      <th>time</th>\n",
       "      <th>Day</th>\n",
       "    </tr>\n",
       "  </thead>\n",
       "  <tbody>\n",
       "    <tr>\n",
       "      <td>0</td>\n",
       "      <td>FFB692EC</td>\n",
       "      <td>Kamigata To Boots</td>\n",
       "      <td>The Mass Missile</td>\n",
       "      <td>rock</td>\n",
       "      <td>Saint-Petersburg</td>\n",
       "      <td>20:28:33</td>\n",
       "      <td>Wednesday</td>\n",
       "    </tr>\n",
       "    <tr>\n",
       "      <td>1</td>\n",
       "      <td>55204538</td>\n",
       "      <td>Delayed Because of Accident</td>\n",
       "      <td>Andreas Rönnberg</td>\n",
       "      <td>rock</td>\n",
       "      <td>Moscow</td>\n",
       "      <td>14:07:09</td>\n",
       "      <td>Friday</td>\n",
       "    </tr>\n",
       "    <tr>\n",
       "      <td>2</td>\n",
       "      <td>20EC38</td>\n",
       "      <td>Funiculì funiculà</td>\n",
       "      <td>Mario Lanza</td>\n",
       "      <td>pop</td>\n",
       "      <td>Saint-Petersburg</td>\n",
       "      <td>20:58:07</td>\n",
       "      <td>Wednesday</td>\n",
       "    </tr>\n",
       "    <tr>\n",
       "      <td>3</td>\n",
       "      <td>A3DD03C9</td>\n",
       "      <td>Dragons in the Sunset</td>\n",
       "      <td>Fire + Ice</td>\n",
       "      <td>folk</td>\n",
       "      <td>Saint-Petersburg</td>\n",
       "      <td>08:37:09</td>\n",
       "      <td>Monday</td>\n",
       "    </tr>\n",
       "    <tr>\n",
       "      <td>4</td>\n",
       "      <td>E2DC1FAE</td>\n",
       "      <td>Soul People</td>\n",
       "      <td>Space Echo</td>\n",
       "      <td>dance</td>\n",
       "      <td>Moscow</td>\n",
       "      <td>08:34:34</td>\n",
       "      <td>Monday</td>\n",
       "    </tr>\n",
       "    <tr>\n",
       "      <td>5</td>\n",
       "      <td>842029A1</td>\n",
       "      <td>Преданная</td>\n",
       "      <td>IMPERVTOR</td>\n",
       "      <td>rusrap</td>\n",
       "      <td>Saint-Petersburg</td>\n",
       "      <td>13:09:41</td>\n",
       "      <td>Friday</td>\n",
       "    </tr>\n",
       "    <tr>\n",
       "      <td>6</td>\n",
       "      <td>4CB90AA5</td>\n",
       "      <td>True</td>\n",
       "      <td>Roman Messer</td>\n",
       "      <td>dance</td>\n",
       "      <td>Moscow</td>\n",
       "      <td>13:00:07</td>\n",
       "      <td>Wednesday</td>\n",
       "    </tr>\n",
       "    <tr>\n",
       "      <td>7</td>\n",
       "      <td>F03E1C1F</td>\n",
       "      <td>Feeling This Way</td>\n",
       "      <td>Polina Griffith</td>\n",
       "      <td>dance</td>\n",
       "      <td>Moscow</td>\n",
       "      <td>20:47:49</td>\n",
       "      <td>Wednesday</td>\n",
       "    </tr>\n",
       "    <tr>\n",
       "      <td>8</td>\n",
       "      <td>8FA1D3BE</td>\n",
       "      <td>И вновь продолжается бой</td>\n",
       "      <td>NaN</td>\n",
       "      <td>ruspop</td>\n",
       "      <td>Moscow</td>\n",
       "      <td>09:17:40</td>\n",
       "      <td>Friday</td>\n",
       "    </tr>\n",
       "    <tr>\n",
       "      <td>9</td>\n",
       "      <td>E772D5C0</td>\n",
       "      <td>Pessimist</td>\n",
       "      <td>NaN</td>\n",
       "      <td>dance</td>\n",
       "      <td>Saint-Petersburg</td>\n",
       "      <td>21:20:49</td>\n",
       "      <td>Wednesday</td>\n",
       "    </tr>\n",
       "  </tbody>\n",
       "</table>\n",
       "</div>"
      ],
      "text/plain": [
       "     userID                        Track            artist   genre  \\\n",
       "0  FFB692EC            Kamigata To Boots  The Mass Missile    rock   \n",
       "1  55204538  Delayed Because of Accident  Andreas Rönnberg    rock   \n",
       "2    20EC38            Funiculì funiculà       Mario Lanza     pop   \n",
       "3  A3DD03C9        Dragons in the Sunset        Fire + Ice    folk   \n",
       "4  E2DC1FAE                  Soul People        Space Echo   dance   \n",
       "5  842029A1                    Преданная         IMPERVTOR  rusrap   \n",
       "6  4CB90AA5                         True      Roman Messer   dance   \n",
       "7  F03E1C1F             Feeling This Way   Polina Griffith   dance   \n",
       "8  8FA1D3BE     И вновь продолжается бой               NaN  ruspop   \n",
       "9  E772D5C0                    Pessimist               NaN   dance   \n",
       "\n",
       "             City        time        Day  \n",
       "0  Saint-Petersburg  20:28:33  Wednesday  \n",
       "1            Moscow  14:07:09     Friday  \n",
       "2  Saint-Petersburg  20:58:07  Wednesday  \n",
       "3  Saint-Petersburg  08:37:09     Monday  \n",
       "4            Moscow  08:34:34     Monday  \n",
       "5  Saint-Petersburg  13:09:41     Friday  \n",
       "6            Moscow  13:00:07  Wednesday  \n",
       "7            Moscow  20:47:49  Wednesday  \n",
       "8            Moscow  09:17:40     Friday  \n",
       "9  Saint-Petersburg  21:20:49  Wednesday  "
      ]
     },
     "metadata": {},
     "output_type": "display_data"
    }
   ],
   "source": [
    "display(df.head(10))# получение первых 10 строк таблицы df"
   ]
  },
  {
   "cell_type": "markdown",
   "metadata": {
    "id": "EO73Kwic_Zct"
   },
   "source": [
    "Одной командой получить общую информацию о таблице:"
   ]
  },
  {
   "cell_type": "code",
   "execution_count": 4,
   "metadata": {
    "id": "DSf2kIb-_Zct"
   },
   "outputs": [
    {
     "name": "stdout",
     "output_type": "stream",
     "text": [
      "<class 'pandas.core.frame.DataFrame'>\n",
      "RangeIndex: 65079 entries, 0 to 65078\n",
      "Data columns (total 7 columns):\n",
      "  userID    65079 non-null object\n",
      "Track       63848 non-null object\n",
      "artist      57876 non-null object\n",
      "genre       63881 non-null object\n",
      "  City      65079 non-null object\n",
      "time        65079 non-null object\n",
      "Day         65079 non-null object\n",
      "dtypes: object(7)\n",
      "memory usage: 3.5+ MB\n"
     ]
    }
   ],
   "source": [
    "df.info()# получение общей информации о данных в таблице df"
   ]
  },
  {
   "cell_type": "markdown",
   "metadata": {
    "id": "TaQ2Iwbr_Zct"
   },
   "source": [
    "Итак, в таблице семь столбцов. Тип данных во всех столбцах — `object`.\n",
    "\n",
    "Согласно документации к данным:\n",
    "* `userID` — идентификатор пользователя;\n",
    "* `Track` — название трека;  \n",
    "* `artist` — имя исполнителя;\n",
    "* `genre` — название жанра;\n",
    "* `City` — город пользователя;\n",
    "* `time` — время начала прослушивания;\n",
    "* `Day` — день недели.\n",
    "\n",
    "В названиях колонок видны три нарушения стиля:\n",
    "1. Строчные буквы сочетаются с прописными.\n",
    "2. Встречаются пробелы.\n",
    "3. Найдите ещё одну проблему в названии колонок и опишите её в этом пункте.\n",
    "\n",
    "\n",
    "\n",
    "Количество значений в столбцах различается. Значит, в данных есть пропущенные значения.\n"
   ]
  },
  {
   "cell_type": "markdown",
   "metadata": {
    "id": "MCB6-dXG_Zct"
   },
   "source": [
    "**Выводы**\n",
    "\n",
    "В каждой строке таблицы — данные о прослушанном треке. Часть колонок описывает саму композицию: название, исполнителя и жанр. Остальные данные рассказывают о пользователе: из какого он города, когда он слушал музыку. \n",
    "\n",
    "Предварительно можно утверждать, что, данных достаточно для проверки гипотез. Но встречаются пропуски в данных, а в названиях колонок — расхождения с хорошим стилем.\n",
    "\n",
    "Чтобы двигаться дальше, нужно устранить проблемы в данных."
   ]
  },
  {
   "cell_type": "markdown",
   "metadata": {
    "id": "SjYF6Ub9_Zct"
   },
   "source": [
    "## Предобработка данных\n",
    "Исправьте стиль в заголовках столбцов, исключите пропуски. Затем проверьте данные на дубликаты."
   ]
  },
  {
   "cell_type": "markdown",
   "metadata": {
    "id": "dIaKXr29_Zct"
   },
   "source": [
    "### Стиль заголовков\n",
    "Выведите на экран названия столбцов:"
   ]
  },
  {
   "cell_type": "code",
   "execution_count": 5,
   "metadata": {
    "id": "oKOTdF_Q_Zct"
   },
   "outputs": [
    {
     "data": {
      "text/plain": [
       "Index(['  userID', 'Track', 'artist', 'genre', '  City  ', 'time', 'Day'], dtype='object')"
      ]
     },
     "metadata": {},
     "output_type": "display_data"
    }
   ],
   "source": [
    "display(df.columns)# перечень названий столбцов таблицы df"
   ]
  },
  {
   "cell_type": "markdown",
   "metadata": {
    "id": "FPZA3ki8xe7T"
   },
   "source": []
  },
  {
   "cell_type": "markdown",
   "metadata": {
    "id": "zj5534cv_Zct"
   },
   "source": [
    "Приведите названия в соответствие с хорошим стилем:\n",
    "* несколько слов в названии запишите в «змеином_регистре»,\n",
    "* все символы сделайте строчными,\n",
    "* устраните пробелы.\n",
    "\n",
    "Для этого переименуйте колонки так:\n",
    "* `'  userID'` → `'user_id'`;\n",
    "* `'Track'` → `'track'`;\n",
    "* `'  City  '` → `'city'`;\n",
    "* `'Day'` → `'day'`."
   ]
  },
  {
   "cell_type": "code",
   "execution_count": 6,
   "metadata": {
    "id": "ISlFqs5y_Zct"
   },
   "outputs": [],
   "source": [
    "df = df.rename(columns={'  userID': 'user_id', 'Track': 'track', '  City  ': 'city', 'Day': 'day'}) # переименование столбцов"
   ]
  },
  {
   "cell_type": "markdown",
   "metadata": {
    "id": "1dqbh00J_Zct"
   },
   "source": [
    "Проверьте результат. Для этого ещё раз выведите на экран названия столбцов:"
   ]
  },
  {
   "cell_type": "code",
   "execution_count": 7,
   "metadata": {
    "id": "d4NOAmTW_Zct"
   },
   "outputs": [
    {
     "name": "stdout",
     "output_type": "stream",
     "text": [
      "Index(['user_id', 'track', 'artist', 'genre', 'city', 'time', 'day'], dtype='object')\n"
     ]
    }
   ],
   "source": [
    "print(df.columns)# проверка результатов - перечень названий столбцов"
   ]
  },
  {
   "cell_type": "markdown",
   "metadata": {
    "id": "5ISfbcfY_Zct"
   },
   "source": [
    "### Пропуски значений\n",
    "Сначала посчитайте, сколько в таблице пропущенных значений. Для этого достаточно двух методов `pandas`:"
   ]
  },
  {
   "cell_type": "code",
   "execution_count": 8,
   "metadata": {
    "id": "RskX29qr_Zct",
    "scrolled": true
   },
   "outputs": [
    {
     "data": {
      "text/plain": [
       "user_id       0\n",
       "track      1231\n",
       "artist     7203\n",
       "genre      1198\n",
       "city          0\n",
       "time          0\n",
       "day           0\n",
       "dtype: int64"
      ]
     },
     "metadata": {},
     "output_type": "display_data"
    }
   ],
   "source": [
    "display(df.isna().sum())# подсчёт пропусков"
   ]
  },
  {
   "cell_type": "markdown",
   "metadata": {
    "id": "qubhgnlO_Zct"
   },
   "source": [
    "Не все пропущенные значения влияют на исследование. Так в `track` и `artist` пропуски не важны для вашей работы. Достаточно заменить их явными обозначениями.\n",
    "\n",
    "Но пропуски в `genre` могут помешать сравнению музыкальных вкусов в Москве и Санкт-Петербурге. На практике было бы правильно установить причину пропусков и восстановить данные. Такой возможности нет в учебном проекте. Придётся:\n",
    "* заполнить и эти пропуски явными обозначениями,\n",
    "* оценить, насколько они повредят расчётам. "
   ]
  },
  {
   "cell_type": "markdown",
   "metadata": {
    "id": "fSv2laPA_Zct"
   },
   "source": [
    "Замените пропущенные значения в столбцах `track`, `artist` и `genre` на строку `'unknown'`. Для этого создайте список `columns_to_replace`, переберите его элементы циклом `for` и для каждого столбца выполните замену пропущенных значений:"
   ]
  },
  {
   "cell_type": "code",
   "execution_count": 9,
   "metadata": {
    "id": "KplB5qWs_Zct"
   },
   "outputs": [],
   "source": [
    "columns_to_replace = df.columns\n",
    "for column in columns_to_replace:\n",
    "    df[column] = df[column].fillna('unknown')# перебор названий столбцов в цикле и замена пропущенных значений на 'unknown'"
   ]
  },
  {
   "cell_type": "markdown",
   "metadata": {
    "id": "Ilsm-MZo_Zct"
   },
   "source": [
    "Убедитесь, что в таблице не осталось пропусков. Для этого ещё раз посчитайте пропущенные значения."
   ]
  },
  {
   "cell_type": "code",
   "execution_count": 10,
   "metadata": {
    "id": "Tq4nYRX4_Zct"
   },
   "outputs": [
    {
     "data": {
      "text/plain": [
       "user_id    0\n",
       "track      0\n",
       "artist     0\n",
       "genre      0\n",
       "city       0\n",
       "time       0\n",
       "day        0\n",
       "dtype: int64"
      ]
     },
     "metadata": {},
     "output_type": "display_data"
    }
   ],
   "source": [
    "display(df.isna().sum())# подсчёт пропусков"
   ]
  },
  {
   "cell_type": "markdown",
   "metadata": {
    "id": "BWKRtBJ3_Zct"
   },
   "source": [
    "### Дубликаты\n",
    "Посчитайте явные дубликаты в таблице одной командой:"
   ]
  },
  {
   "cell_type": "code",
   "execution_count": 11,
   "metadata": {
    "id": "36eES_S0_Zct"
   },
   "outputs": [
    {
     "name": "stdout",
     "output_type": "stream",
     "text": [
      "3826\n"
     ]
    }
   ],
   "source": [
    "print(df.duplicated().sum())# подсчёт явных дубликатов"
   ]
  },
  {
   "cell_type": "markdown",
   "metadata": {
    "id": "Ot25h6XR_Zct"
   },
   "source": [
    "Вызовите специальный метод `pandas`, чтобы удалить явные дубликаты:"
   ]
  },
  {
   "cell_type": "code",
   "execution_count": 12,
   "metadata": {
    "id": "exFHq6tt_Zct",
    "scrolled": false
   },
   "outputs": [],
   "source": [
    "df = df.drop_duplicates().reset_index(drop=True) # удаление явных дубликатов (с удалением старых индексов и формированием новых)"
   ]
  },
  {
   "cell_type": "markdown",
   "metadata": {
    "id": "Im2YwBEG_Zct"
   },
   "source": [
    "Ещё раз посчитайте явные дубликаты в таблице — убедитесь, что полностью от них избавились:"
   ]
  },
  {
   "cell_type": "code",
   "execution_count": 13,
   "metadata": {
    "id": "-8PuNWQ0_Zct"
   },
   "outputs": [
    {
     "name": "stdout",
     "output_type": "stream",
     "text": [
      "0\n"
     ]
    }
   ],
   "source": [
    "print(df.duplicated().sum())# проверка на отсутствие дубликатов"
   ]
  },
  {
   "cell_type": "markdown",
   "metadata": {
    "id": "QlFBsxAr_Zct"
   },
   "source": [
    "Теперь избавьтесь от неявных дубликатов в колонке `genre`. Например, название одного и того же жанра может быть записано немного по-разному. Такие ошибки тоже повлияют на результат исследования."
   ]
  },
  {
   "cell_type": "markdown",
   "metadata": {
    "id": "eSjWwsOh_Zct"
   },
   "source": [
    "Выведите на экран список уникальных названий жанров, отсортированный в алфавитном порядке. Для этого:\n",
    "* извлеките нужный столбец датафрейма, \n",
    "* примените к нему метод сортировки,\n",
    "* для отсортированного столбца вызовите метод, который вернёт уникальные значения из столбца."
   ]
  },
  {
   "cell_type": "code",
   "execution_count": 14,
   "metadata": {
    "id": "JIUcqzZN_Zct"
   },
   "outputs": [
    {
     "name": "stdout",
     "output_type": "stream",
     "text": [
      "['acid', 'acoustic', 'action', 'adult', 'africa', 'afrikaans', 'alternative', 'alternativepunk', 'ambient', 'americana', 'animated', 'anime', 'arabesk', 'arabic', 'arena', 'argentinetango', 'art', 'audiobook', 'author', 'avantgarde', 'axé', 'baile', 'balkan', 'beats', 'bigroom', 'black', 'bluegrass', 'blues', 'bollywood', 'bossa', 'brazilian', 'breakbeat', 'breaks', 'broadway', 'cantautori', 'cantopop', 'canzone', 'caribbean', 'caucasian', 'celtic', 'chamber', 'chanson', 'children', 'chill', 'chinese', 'choral', 'christian', 'christmas', 'classical', 'classicmetal', 'club', 'colombian', 'comedy', 'conjazz', 'contemporary', 'country', 'cuban', 'dance', 'dancehall', 'dancepop', 'dark', 'death', 'deep', 'deutschrock', 'deutschspr', 'dirty', 'disco', 'dnb', 'documentary', 'downbeat', 'downtempo', 'drum', 'dub', 'dubstep', 'eastern', 'easy', 'electronic', 'electropop', 'emo', 'entehno', 'epicmetal', 'estrada', 'ethnic', 'eurofolk', 'european', 'experimental', 'extrememetal', 'fado', 'fairytail', 'film', 'fitness', 'flamenco', 'folk', 'folklore', 'folkmetal', 'folkrock', 'folktronica', 'forró', 'frankreich', 'französisch', 'french', 'funk', 'future', 'gangsta', 'garage', 'german', 'ghazal', 'gitarre', 'glitch', 'gospel', 'gothic', 'grime', 'grunge', 'gypsy', 'handsup', \"hard'n'heavy\", 'hardcore', 'hardstyle', 'hardtechno', 'hip', 'hip-hop', 'hiphop', 'historisch', 'holiday', 'hop', 'horror', 'house', 'hymn', 'idm', 'independent', 'indian', 'indie', 'indipop', 'industrial', 'inspirational', 'instrumental', 'international', 'irish', 'jam', 'japanese', 'jazz', 'jewish', 'jpop', 'jungle', 'k-pop', 'karadeniz', 'karaoke', 'kayokyoku', 'korean', 'laiko', 'latin', 'latino', 'leftfield', 'local', 'lounge', 'loungeelectronic', 'lovers', 'malaysian', 'mandopop', 'marschmusik', 'meditative', 'mediterranean', 'melodic', 'metal', 'metalcore', 'mexican', 'middle', 'minimal', 'miscellaneous', 'modern', 'mood', 'mpb', 'muslim', 'native', 'neoklassik', 'neue', 'new', 'newage', 'newwave', 'nu', 'nujazz', 'numetal', 'oceania', 'old', 'opera', 'orchestral', 'other', 'piano', 'podcasts', 'pop', 'popdance', 'popelectronic', 'popeurodance', 'poprussian', 'post', 'posthardcore', 'postrock', 'power', 'progmetal', 'progressive', 'psychedelic', 'punjabi', 'punk', 'quebecois', 'ragga', 'ram', 'rancheras', 'rap', 'rave', 'reggae', 'reggaeton', 'regional', 'relax', 'religious', 'retro', 'rhythm', 'rnb', 'rnr', 'rock', 'rockabilly', 'rockalternative', 'rockindie', 'rockother', 'romance', 'roots', 'ruspop', 'rusrap', 'rusrock', 'russian', 'salsa', 'samba', 'scenic', 'schlager', 'self', 'sertanejo', 'shanson', 'shoegazing', 'showtunes', 'singer', 'ska', 'skarock', 'slow', 'smooth', 'soft', 'soul', 'soulful', 'sound', 'soundtrack', 'southern', 'specialty', 'speech', 'spiritual', 'sport', 'stonerrock', 'surf', 'swing', 'synthpop', 'synthrock', 'sängerportrait', 'tango', 'tanzorchester', 'taraftar', 'tatar', 'tech', 'techno', 'teen', 'thrash', 'top', 'traditional', 'tradjazz', 'trance', 'tribal', 'trip', 'triphop', 'tropical', 'türk', 'türkçe', 'ukrrock', 'unknown', 'urban', 'uzbek', 'variété', 'vi', 'videogame', 'vocal', 'western', 'world', 'worldbeat', 'ïîï', 'электроника']\n"
     ]
    }
   ],
   "source": [
    "sorted_unique_genres = sorted(df['genre'].unique()) # Просмотр уникальных названий жанров\n",
    "print(sorted_unique_genres)"
   ]
  },
  {
   "cell_type": "markdown",
   "metadata": {
    "id": "qej-Qmuo_Zct"
   },
   "source": [
    "Просмотрите список и найдите неявные дубликаты названия `hiphop`. Это могут быть названия с ошибками или альтернативные названия того же жанра.\n",
    "\n",
    "Вы увидите следующие неявные дубликаты:\n",
    "* *hip*,\n",
    "* *hop*,\n",
    "* *hip-hop*.\n",
    "\n",
    "Чтобы очистить от них таблицу, напишите функцию `replace_wrong_genres()` с двумя параметрами: \n",
    "* `wrong_genres` — список дубликатов,\n",
    "* `correct_genre` — строка с правильным значением.\n",
    "\n",
    "Функция должна исправить колонку `genre` в таблице `df`: заменить каждое значение из списка `wrong_genres` на значение из `correct_genre`."
   ]
  },
  {
   "cell_type": "code",
   "execution_count": 15,
   "metadata": {
    "id": "ErNDkmns_Zct"
   },
   "outputs": [],
   "source": [
    "def replace_wrong_genres(wrong_genres, correct_genre): # Функция для замены неявных дубликатов\n",
    "    for wrong_genre in wrong_genres:\n",
    "        df['genre'] = df['genre'].replace(wrong_genre, correct_genre)"
   ]
  },
  {
   "cell_type": "markdown",
   "metadata": {
    "id": "aDoBJxbA_Zct"
   },
   "source": [
    "Вызовите `replace_wrong_genres()` и передайте ей такие аргументы, чтобы она устранила неявные дубликаты: вместо `hip`, `hop` и `hip-hop` в таблице должно быть значение `hiphop`:"
   ]
  },
  {
   "cell_type": "code",
   "execution_count": 16,
   "metadata": {
    "id": "YN5i2hpmSo09"
   },
   "outputs": [],
   "source": [
    "duplicates = ['hip', 'hop', 'hip-hop']\n",
    "correct_word = 'hiphop'\n",
    "replace_wrong_genres(duplicates, correct_word)# Устранение неявных дубликатов"
   ]
  },
  {
   "cell_type": "markdown",
   "metadata": {
    "id": "zQKF16_RG15m"
   },
   "source": [
    "Проверьте, что заменили неправильные названия:\n",
    "\n",
    "*   hip\n",
    "*   hop\n",
    "*   hip-hop\n",
    "\n",
    "Выведите отсортированный список уникальных значений столбца `genre`:"
   ]
  },
  {
   "cell_type": "code",
   "execution_count": 17,
   "metadata": {
    "id": "wvixALnFG15m"
   },
   "outputs": [
    {
     "name": "stdout",
     "output_type": "stream",
     "text": [
      "['acid', 'acoustic', 'action', 'adult', 'africa', 'afrikaans', 'alternative', 'alternativepunk', 'ambient', 'americana', 'animated', 'anime', 'arabesk', 'arabic', 'arena', 'argentinetango', 'art', 'audiobook', 'author', 'avantgarde', 'axé', 'baile', 'balkan', 'beats', 'bigroom', 'black', 'bluegrass', 'blues', 'bollywood', 'bossa', 'brazilian', 'breakbeat', 'breaks', 'broadway', 'cantautori', 'cantopop', 'canzone', 'caribbean', 'caucasian', 'celtic', 'chamber', 'chanson', 'children', 'chill', 'chinese', 'choral', 'christian', 'christmas', 'classical', 'classicmetal', 'club', 'colombian', 'comedy', 'conjazz', 'contemporary', 'country', 'cuban', 'dance', 'dancehall', 'dancepop', 'dark', 'death', 'deep', 'deutschrock', 'deutschspr', 'dirty', 'disco', 'dnb', 'documentary', 'downbeat', 'downtempo', 'drum', 'dub', 'dubstep', 'eastern', 'easy', 'electronic', 'electropop', 'emo', 'entehno', 'epicmetal', 'estrada', 'ethnic', 'eurofolk', 'european', 'experimental', 'extrememetal', 'fado', 'fairytail', 'film', 'fitness', 'flamenco', 'folk', 'folklore', 'folkmetal', 'folkrock', 'folktronica', 'forró', 'frankreich', 'französisch', 'french', 'funk', 'future', 'gangsta', 'garage', 'german', 'ghazal', 'gitarre', 'glitch', 'gospel', 'gothic', 'grime', 'grunge', 'gypsy', 'handsup', \"hard'n'heavy\", 'hardcore', 'hardstyle', 'hardtechno', 'hiphop', 'historisch', 'holiday', 'horror', 'house', 'hymn', 'idm', 'independent', 'indian', 'indie', 'indipop', 'industrial', 'inspirational', 'instrumental', 'international', 'irish', 'jam', 'japanese', 'jazz', 'jewish', 'jpop', 'jungle', 'k-pop', 'karadeniz', 'karaoke', 'kayokyoku', 'korean', 'laiko', 'latin', 'latino', 'leftfield', 'local', 'lounge', 'loungeelectronic', 'lovers', 'malaysian', 'mandopop', 'marschmusik', 'meditative', 'mediterranean', 'melodic', 'metal', 'metalcore', 'mexican', 'middle', 'minimal', 'miscellaneous', 'modern', 'mood', 'mpb', 'muslim', 'native', 'neoklassik', 'neue', 'new', 'newage', 'newwave', 'nu', 'nujazz', 'numetal', 'oceania', 'old', 'opera', 'orchestral', 'other', 'piano', 'podcasts', 'pop', 'popdance', 'popelectronic', 'popeurodance', 'poprussian', 'post', 'posthardcore', 'postrock', 'power', 'progmetal', 'progressive', 'psychedelic', 'punjabi', 'punk', 'quebecois', 'ragga', 'ram', 'rancheras', 'rap', 'rave', 'reggae', 'reggaeton', 'regional', 'relax', 'religious', 'retro', 'rhythm', 'rnb', 'rnr', 'rock', 'rockabilly', 'rockalternative', 'rockindie', 'rockother', 'romance', 'roots', 'ruspop', 'rusrap', 'rusrock', 'russian', 'salsa', 'samba', 'scenic', 'schlager', 'self', 'sertanejo', 'shanson', 'shoegazing', 'showtunes', 'singer', 'ska', 'skarock', 'slow', 'smooth', 'soft', 'soul', 'soulful', 'sound', 'soundtrack', 'southern', 'specialty', 'speech', 'spiritual', 'sport', 'stonerrock', 'surf', 'swing', 'synthpop', 'synthrock', 'sängerportrait', 'tango', 'tanzorchester', 'taraftar', 'tatar', 'tech', 'techno', 'teen', 'thrash', 'top', 'traditional', 'tradjazz', 'trance', 'tribal', 'trip', 'triphop', 'tropical', 'türk', 'türkçe', 'ukrrock', 'unknown', 'urban', 'uzbek', 'variété', 'vi', 'videogame', 'vocal', 'western', 'world', 'worldbeat', 'ïîï', 'электроника']\n"
     ]
    }
   ],
   "source": [
    "print(sorted(df['genre'].unique()))# Проверка на неявные дубликаты"
   ]
  },
  {
   "cell_type": "markdown",
   "metadata": {
    "id": "jz6a9-7HQUDd"
   },
   "source": [
    "**Выводы**\n",
    "\n",
    "Предобработка обнаружила три проблемы в данных:\n",
    "\n",
    "- нарушения в стиле заголовков,\n",
    "- пропущенные значения,\n",
    "- дубликаты — явные и неявные.\n",
    "\n",
    "Вы исправили заголовки, чтобы упростить работу с таблицей. Без дубликатов исследование станет более точным.\n",
    "\n",
    "Пропущенные значения вы заменили на `'unknown'`. Ещё предстоит увидеть, не повредят ли исследованию пропуски в колонке `genre`.\n",
    "\n",
    "Теперь можно перейти к проверке гипотез. "
   ]
  },
  {
   "cell_type": "markdown",
   "metadata": {
    "id": "WttZHXH0SqKk"
   },
   "source": [
    "## Проверка гипотез"
   ]
  },
  {
   "cell_type": "markdown",
   "metadata": {
    "id": "Im936VVi_Zcu"
   },
   "source": [
    "### Сравнение поведения пользователей двух столиц"
   ]
  },
  {
   "cell_type": "markdown",
   "metadata": {
    "id": "nwt_MuaL_Zcu"
   },
   "source": [
    "Первая гипотеза утверждает, что пользователи по-разному слушают музыку в Москве и Санкт-Петербурге. Проверьте это предположение по данным о трёх днях недели — понедельнике, среде и пятнице. Для этого:\n",
    "\n",
    "* Разделите пользователей Москвы и Санкт-Петербурга\n",
    "* Сравните, сколько треков послушала каждая группа пользователей в понедельник, среду и пятницу.\n"
   ]
  },
  {
   "cell_type": "markdown",
   "metadata": {
    "id": "8Dw_YMmT_Zcu"
   },
   "source": [
    "Для тренировки сначала выполните каждый из расчётов по отдельности. \n",
    "\n",
    "Оцените активность пользователей в каждом городе. Сгруппируйте данные по городу и посчитайте прослушивания в каждой группе.\n",
    "\n"
   ]
  },
  {
   "cell_type": "code",
   "execution_count": 18,
   "metadata": {
    "id": "0_Qs96oh_Zcu"
   },
   "outputs": [
    {
     "data": {
      "text/html": [
       "<div>\n",
       "<style scoped>\n",
       "    .dataframe tbody tr th:only-of-type {\n",
       "        vertical-align: middle;\n",
       "    }\n",
       "\n",
       "    .dataframe tbody tr th {\n",
       "        vertical-align: top;\n",
       "    }\n",
       "\n",
       "    .dataframe thead th {\n",
       "        text-align: right;\n",
       "    }\n",
       "</style>\n",
       "<table border=\"1\" class=\"dataframe\">\n",
       "  <thead>\n",
       "    <tr style=\"text-align: right;\">\n",
       "      <th></th>\n",
       "      <th>user_id</th>\n",
       "      <th>track</th>\n",
       "      <th>artist</th>\n",
       "      <th>genre</th>\n",
       "      <th>time</th>\n",
       "      <th>day</th>\n",
       "    </tr>\n",
       "    <tr>\n",
       "      <th>city</th>\n",
       "      <th></th>\n",
       "      <th></th>\n",
       "      <th></th>\n",
       "      <th></th>\n",
       "      <th></th>\n",
       "      <th></th>\n",
       "    </tr>\n",
       "  </thead>\n",
       "  <tbody>\n",
       "    <tr>\n",
       "      <td>Moscow</td>\n",
       "      <td>42741</td>\n",
       "      <td>42741</td>\n",
       "      <td>42741</td>\n",
       "      <td>42741</td>\n",
       "      <td>42741</td>\n",
       "      <td>42741</td>\n",
       "    </tr>\n",
       "    <tr>\n",
       "      <td>Saint-Petersburg</td>\n",
       "      <td>18512</td>\n",
       "      <td>18512</td>\n",
       "      <td>18512</td>\n",
       "      <td>18512</td>\n",
       "      <td>18512</td>\n",
       "      <td>18512</td>\n",
       "    </tr>\n",
       "  </tbody>\n",
       "</table>\n",
       "</div>"
      ],
      "text/plain": [
       "                  user_id  track  artist  genre   time    day\n",
       "city                                                         \n",
       "Moscow              42741  42741   42741  42741  42741  42741\n",
       "Saint-Petersburg    18512  18512   18512  18512  18512  18512"
      ]
     },
     "execution_count": 18,
     "metadata": {},
     "output_type": "execute_result"
    }
   ],
   "source": [
    "df.groupby('city').count()# Подсчёт прослушиваний в каждом городе"
   ]
  },
  {
   "cell_type": "markdown",
   "metadata": {
    "id": "dzli3w8o_Zcu"
   },
   "source": [
    "В Москве прослушиваний больше, чем в Петербурге. Из этого не следует, что московские пользователи чаще слушают музыку. Просто самих пользователей в Москве больше.\n",
    "\n",
    "Теперь сгруппируйте данные по дню недели и подсчитайте прослушивания в понедельник, среду и пятницу. Учтите, что в данных есть информация только о прослушиваниях только за эти дни.\n"
   ]
  },
  {
   "cell_type": "code",
   "execution_count": 19,
   "metadata": {
    "id": "uZMKjiJz_Zcu"
   },
   "outputs": [
    {
     "data": {
      "text/html": [
       "<div>\n",
       "<style scoped>\n",
       "    .dataframe tbody tr th:only-of-type {\n",
       "        vertical-align: middle;\n",
       "    }\n",
       "\n",
       "    .dataframe tbody tr th {\n",
       "        vertical-align: top;\n",
       "    }\n",
       "\n",
       "    .dataframe thead th {\n",
       "        text-align: right;\n",
       "    }\n",
       "</style>\n",
       "<table border=\"1\" class=\"dataframe\">\n",
       "  <thead>\n",
       "    <tr style=\"text-align: right;\">\n",
       "      <th></th>\n",
       "      <th>user_id</th>\n",
       "      <th>track</th>\n",
       "      <th>artist</th>\n",
       "      <th>genre</th>\n",
       "      <th>city</th>\n",
       "      <th>time</th>\n",
       "    </tr>\n",
       "    <tr>\n",
       "      <th>day</th>\n",
       "      <th></th>\n",
       "      <th></th>\n",
       "      <th></th>\n",
       "      <th></th>\n",
       "      <th></th>\n",
       "      <th></th>\n",
       "    </tr>\n",
       "  </thead>\n",
       "  <tbody>\n",
       "    <tr>\n",
       "      <td>Friday</td>\n",
       "      <td>21840</td>\n",
       "      <td>21840</td>\n",
       "      <td>21840</td>\n",
       "      <td>21840</td>\n",
       "      <td>21840</td>\n",
       "      <td>21840</td>\n",
       "    </tr>\n",
       "    <tr>\n",
       "      <td>Monday</td>\n",
       "      <td>21354</td>\n",
       "      <td>21354</td>\n",
       "      <td>21354</td>\n",
       "      <td>21354</td>\n",
       "      <td>21354</td>\n",
       "      <td>21354</td>\n",
       "    </tr>\n",
       "    <tr>\n",
       "      <td>Wednesday</td>\n",
       "      <td>18059</td>\n",
       "      <td>18059</td>\n",
       "      <td>18059</td>\n",
       "      <td>18059</td>\n",
       "      <td>18059</td>\n",
       "      <td>18059</td>\n",
       "    </tr>\n",
       "  </tbody>\n",
       "</table>\n",
       "</div>"
      ],
      "text/plain": [
       "           user_id  track  artist  genre   city   time\n",
       "day                                                   \n",
       "Friday       21840  21840   21840  21840  21840  21840\n",
       "Monday       21354  21354   21354  21354  21354  21354\n",
       "Wednesday    18059  18059   18059  18059  18059  18059"
      ]
     },
     "execution_count": 19,
     "metadata": {},
     "output_type": "execute_result"
    }
   ],
   "source": [
    "df.groupby('day').count()# Подсчёт прослушиваний в каждый из трёх дней"
   ]
  },
  {
   "cell_type": "markdown",
   "metadata": {
    "id": "cC2tNrlL_Zcu"
   },
   "source": [
    "В среднем пользователи из двух городов менее активны по средам. Но картина может измениться, если рассмотреть каждый город в отдельности."
   ]
  },
  {
   "cell_type": "markdown",
   "metadata": {
    "id": "POzs8bGa_Zcu"
   },
   "source": [
    "Вы видели, как работает группировка по городу и по дням недели. Теперь напишите функцию, которая объединит два эти расчёта.\n",
    "\n",
    "Создайте функцию `number_tracks()`, которая посчитает прослушивания для заданного дня и города. Ей понадобятся два параметра:\n",
    "* день недели,\n",
    "* название города.\n",
    "\n",
    "В функции сохраните в переменную строки исходной таблицы, у которых значение:\n",
    "  * в колонке `day` равно параметру `day`,\n",
    "  * в колонке `city` равно параметру `city`.\n",
    "\n",
    "Для этого примените последовательную фильтрацию с логической индексацией.\n",
    "\n",
    "Затем посчитайте значения в столбце `user_id` получившейся таблицы. Результат сохраните в новую переменную. Верните эту переменную из функции."
   ]
  },
  {
   "cell_type": "code",
   "execution_count": 20,
   "metadata": {
    "id": "Nz3GdQB1_Zcu"
   },
   "outputs": [],
   "source": [
    "# <создание функции number_tracks()>\n",
    "# Объявляется функция с двумя параметрами: day, city.    \n",
    "# В переменной track_list сохраняются те строки таблицы df, для которых \n",
    "# значение в столбце 'day' равно параметру day и одновременно значение\n",
    "# в столбце 'city' равно параметру city (используйте последовательную фильтрацию\n",
    "# с помощью логической индексации).\n",
    "# В переменной track_list_count сохраняется число значений столбца 'user_id',\n",
    "# рассчитанное методом count() для таблицы track_list.\n",
    "# Функция возвращает число - значение track_list_count.\n",
    "\n",
    "def number_tracks(day, city): # Функция для подсчёта прослушиваний для конкретного города и дня. C помощью последовательной фильтрации с логической индексацией она \n",
    "    track_list = df[df['day'] == day]# сначала получит из исходной таблицы строки с нужным днём,\n",
    "    track_list = track_list[track_list['city'] == city] # затем из результата отфильтрует строки с нужным городом,\n",
    "    track_list_count = track_list[['user_id']].count() # методом count() посчитает количество значений в колонке user_id. \n",
    "    return(track_list_count) # Это количество функция вернёт в качестве результата\n"
   ]
  },
  {
   "cell_type": "markdown",
   "metadata": {
    "id": "ytf7xFrFJQ2r"
   },
   "source": [
    "Вызовите `number_tracks()` шесть раз, меняя значение параметров — так, чтобы получить данные для каждого города в каждый из трёх дней."
   ]
  },
  {
   "cell_type": "code",
   "execution_count": 21,
   "metadata": {
    "id": "rJcRATNQ_Zcu"
   },
   "outputs": [
    {
     "name": "stdout",
     "output_type": "stream",
     "text": [
      "user_id    15740\n",
      "dtype: int64\n"
     ]
    }
   ],
   "source": [
    "print(number_tracks('Monday', 'Moscow')) # количество прослушиваний в Москве по понедельникам"
   ]
  },
  {
   "cell_type": "code",
   "execution_count": 22,
   "metadata": {
    "id": "hq_ncZ5T_Zcu"
   },
   "outputs": [
    {
     "name": "stdout",
     "output_type": "stream",
     "text": [
      "user_id    5614\n",
      "dtype: int64\n"
     ]
    }
   ],
   "source": [
    "print(number_tracks('Monday', 'Saint-Petersburg'))# количество прослушиваний в Санкт-Петербурге по понедельникам"
   ]
  },
  {
   "cell_type": "code",
   "execution_count": 23,
   "metadata": {
    "id": "_NTy2VPU_Zcu"
   },
   "outputs": [
    {
     "name": "stdout",
     "output_type": "stream",
     "text": [
      "user_id    11056\n",
      "dtype: int64\n"
     ]
    }
   ],
   "source": [
    "print(number_tracks('Wednesday', 'Moscow'))# количество прослушиваний в Москве по средам"
   ]
  },
  {
   "cell_type": "code",
   "execution_count": 24,
   "metadata": {
    "id": "j2y3TAwo_Zcu"
   },
   "outputs": [
    {
     "name": "stdout",
     "output_type": "stream",
     "text": [
      "user_id    7003\n",
      "dtype: int64\n"
     ]
    }
   ],
   "source": [
    "print(number_tracks('Wednesday', 'Saint-Petersburg'))# количество прослушиваний в Санкт-Петербурге по средам"
   ]
  },
  {
   "cell_type": "code",
   "execution_count": 25,
   "metadata": {
    "id": "vYDw5u_K_Zcu"
   },
   "outputs": [
    {
     "name": "stdout",
     "output_type": "stream",
     "text": [
      "user_id    15945\n",
      "dtype: int64\n"
     ]
    }
   ],
   "source": [
    "print(number_tracks('Friday', 'Moscow'))# количество прослушиваний в Москве по пятницам"
   ]
  },
  {
   "cell_type": "code",
   "execution_count": 26,
   "metadata": {
    "id": "8_yzFtW3_Zcu"
   },
   "outputs": [
    {
     "name": "stdout",
     "output_type": "stream",
     "text": [
      "user_id    5895\n",
      "dtype: int64\n"
     ]
    }
   ],
   "source": [
    "print(number_tracks('Friday', 'Saint-Petersburg'))# количество прослушиваний в Санкт-Петербурге по пятницам"
   ]
  },
  {
   "cell_type": "code",
   "execution_count": 39,
   "metadata": {},
   "outputs": [
    {
     "name": "stdout",
     "output_type": "stream",
     "text": [
      "Количество прослушиваний в Moscow по Monday равно user_id    15740\n",
      "dtype: int64\n",
      "Количество прослушиваний в Moscow по Wednesday равно user_id    11056\n",
      "dtype: int64\n",
      "Количество прослушиваний в Moscow по Friday равно user_id    15945\n",
      "dtype: int64\n",
      "Количество прослушиваний в Saint-Petersburg по Monday равно user_id    5614\n",
      "dtype: int64\n",
      "Количество прослушиваний в Saint-Petersburg по Wednesday равно user_id    7003\n",
      "dtype: int64\n",
      "Количество прослушиваний в Saint-Petersburg по Friday равно user_id    5895\n",
      "dtype: int64\n"
     ]
    }
   ],
   "source": [
    "for weekday, city in zip(['Monday', 'Wednesday', 'Friday']*2, sorted(['Moscow', 'Saint-Petersburg']*3)):\n",
    "    print(f'Количество прослушиваний в {city} по {weekday} равно {number_tracks(weekday, city)}')"
   ]
  },
  {
   "cell_type": "markdown",
   "metadata": {
    "id": "7QXffbO-_Zcu"
   },
   "source": [
    "Создайте c помощью конструктора `pd.DataFrame` таблицу, где\n",
    "* названия колонок — `['city', 'monday', 'wednesday', 'friday']`;\n",
    "* данные — результаты, которые вы получили с помощью `number_tracks`."
   ]
  },
  {
   "cell_type": "code",
   "execution_count": 27,
   "metadata": {
    "id": "APAcLpOr_Zcu"
   },
   "outputs": [
    {
     "data": {
      "text/html": [
       "<div>\n",
       "<style scoped>\n",
       "    .dataframe tbody tr th:only-of-type {\n",
       "        vertical-align: middle;\n",
       "    }\n",
       "\n",
       "    .dataframe tbody tr th {\n",
       "        vertical-align: top;\n",
       "    }\n",
       "\n",
       "    .dataframe thead th {\n",
       "        text-align: right;\n",
       "    }\n",
       "</style>\n",
       "<table border=\"1\" class=\"dataframe\">\n",
       "  <thead>\n",
       "    <tr style=\"text-align: right;\">\n",
       "      <th></th>\n",
       "      <th>city</th>\n",
       "      <th>monday</th>\n",
       "      <th>wednesday</th>\n",
       "      <th>friday</th>\n",
       "    </tr>\n",
       "  </thead>\n",
       "  <tbody>\n",
       "    <tr>\n",
       "      <td>0</td>\n",
       "      <td>Saint-Petersburg</td>\n",
       "      <td>5614</td>\n",
       "      <td>7003</td>\n",
       "      <td>5895</td>\n",
       "    </tr>\n",
       "    <tr>\n",
       "      <td>1</td>\n",
       "      <td>Moscow</td>\n",
       "      <td>15740</td>\n",
       "      <td>11056</td>\n",
       "      <td>15945</td>\n",
       "    </tr>\n",
       "  </tbody>\n",
       "</table>\n",
       "</div>"
      ],
      "text/plain": [
       "               city  monday  wednesday  friday\n",
       "0  Saint-Petersburg    5614       7003    5895\n",
       "1            Moscow   15740      11056   15945"
      ]
     },
     "metadata": {},
     "output_type": "display_data"
    }
   ],
   "source": [
    "columns = ['city', 'monday', 'wednesday', 'friday'] # Список с названиями колонок таблицы по дням недели\n",
    "data = [['Saint-Petersburg', 5614, 7003, 5895], # Двумерный список с данными по прослушиваниям музыки в Санкт-Петербурге\n",
    "        ['Moscow', 15740, 11056, 15945]] # И данные по прослушиваниям музыки по дням недели в Москве.\n",
    "research_music_results = pd.DataFrame(data=data, columns=columns) # Таблица с результатами\n",
    "display(research_music_results) # Вывод таблицы на экран"
   ]
  },
  {
   "cell_type": "markdown",
   "metadata": {
    "id": "-EgPIHYu_Zcu"
   },
   "source": [
    "**Выводы**\n",
    "\n",
    "Данные показывают разницу поведения пользователей:\n",
    "\n",
    "- В Москве пик прослушиваний приходится на понедельник и пятницу, а в среду заметен спад.\n",
    "- В Петербурге, наоборот, больше слушают музыку по средам. Активность в понедельник и пятницу здесь почти в равной мере уступает среде.\n",
    "\n",
    "Значит, данные говорят в пользу первой гипотезы."
   ]
  },
  {
   "cell_type": "markdown",
   "metadata": {
    "id": "atZAxtq4_Zcu"
   },
   "source": [
    "### Музыка в начале и в конце недели"
   ]
  },
  {
   "cell_type": "markdown",
   "metadata": {
    "id": "eXrQqXFH_Zcu"
   },
   "source": [
    "Согласно второй гипотезе, утром в понедельник в Москве преобладают одни жанры, а в Петербурге — другие. Так же и вечером пятницы преобладают разные жанры — в зависимости от города."
   ]
  },
  {
   "cell_type": "markdown",
   "metadata": {
    "id": "S8UcW6Hw_Zcu"
   },
   "source": [
    "Сохраните таблицы с данными в две переменные:\n",
    "* по Москве — в `moscow_general`;\n",
    "* по Санкт-Петербургу — в `spb_general`."
   ]
  },
  {
   "cell_type": "code",
   "execution_count": 28,
   "metadata": {
    "id": "qeaFfM_P_Zcu"
   },
   "outputs": [],
   "source": [
    "moscow_general = df[df['city']=='Moscow']# получение таблицы moscow_general из тех строк таблицы df, \n",
    "                                            # для которых значение в столбце 'city' равно 'Moscow'\n"
   ]
  },
  {
   "cell_type": "code",
   "execution_count": 29,
   "metadata": {
    "id": "ORaVRKto_Zcu"
   },
   "outputs": [],
   "source": [
    "spb_general = df[df['city']=='Saint-Petersburg']# получение таблицы spb_general из тех строк таблицы df,\n",
    "                                                # для которых значение в столбце 'city' равно 'Saint-Petersburg'\n"
   ]
  },
  {
   "cell_type": "markdown",
   "metadata": {
    "id": "MEJV-CX2_Zcu"
   },
   "source": [
    "Создайте функцию `genre_weekday()` с четырьмя параметрами:\n",
    "* таблица (датафрейм) с данными,\n",
    "* день недели,\n",
    "* начальная временная метка в формате 'hh:mm', \n",
    "* последняя временная метка в формате 'hh:mm'.\n",
    "\n",
    "Функция должна вернуть информацию о топ-10 жанров тех треков, которые прослушивали в указанный день, в промежутке между двумя отметками времени."
   ]
  },
  {
   "cell_type": "code",
   "execution_count": 30,
   "metadata": {
    "id": "laJT9BYl_Zcu"
   },
   "outputs": [],
   "source": [
    "# Объявление функции genre_weekday() с параметрами table, day, time1, time2,\n",
    "# которая возвращает информацию о самых популярных жанрах в указанный день в\n",
    "# заданное время:\n",
    "# 1) в переменную genre_df сохраняются те строки переданного датафрейма table, для\n",
    "#    которых одновременно:\n",
    "#    - значение в столбце day равно значению аргумента day\n",
    "#    - значение в столбце time больше значения аргумента time1\n",
    "#    - значение в столбце time меньше значения аргумента time2\n",
    "#    Используйте последовательную фильтрацию с помощью логической индексации.\n",
    "# 2) сгруппировать датафрейм genre_df по столбцу genre, взять один из его\n",
    "#    столбцов и посчитать методом count() количество записей для каждого из\n",
    "#    присутствующих жанров, получившийся Series записать в переменную\n",
    "#    genre_df_count\n",
    "# 3) отсортировать genre_df_count по убыванию встречаемости и сохранить\n",
    "#    в переменную genre_df_sorted\n",
    "# 4) вернуть Series из 10 первых значений genre_df_sorted, это будут топ-10\n",
    "#    популярных жанров (в указанный день, в заданное время)\n",
    "\n",
    "def genre_weekday(table, day, time1, time2): # <создание функции genre_weekday() c четырьмя параметрами>\n",
    "    genre_df = table[table['day']==day] # объявление переменной genre_df с применением последовательной фильтрации, сначала при значении столбца day равного аргументу функции day,\n",
    "    genre_df = genre_df[genre_df['time']<=time2] # затем при значении в столбце time, меньшим аргумента time2,\n",
    "    genre_df = genre_df[genre_df['time']>=time1] # затем при значении в столбце time, большим аргумента time1.\n",
    "    genre_df_count = pd.DataFrame(genre_df.groupby('genre')['track'].count()) # группировка таблицы по столбцу genre и подсчет количества каждого из жанров,\n",
    "    genre_df_sorted = genre_df_count.sort_values(by='track', ascending=False) # сортировка полученного Series по убыванию значений встречаемости\n",
    "    result = genre_df_sorted.head(10) # топ-10 значений из genre_df_sorted\n",
    "    return result # функция фозвращает полученный результат"
   ]
  },
  {
   "cell_type": "markdown",
   "metadata": {
    "id": "la2s2_PF_Zcu"
   },
   "source": [
    "Cравните результаты функции `genre_weekday()` для Москвы и Санкт-Петербурга в понедельник утром (с 7:00 до 11:00) и в пятницу вечером (с 17:00 до 23:00):"
   ]
  },
  {
   "cell_type": "code",
   "execution_count": 31,
   "metadata": {
    "id": "yz7itPUQ_Zcu"
   },
   "outputs": [
    {
     "data": {
      "text/html": [
       "<div>\n",
       "<style scoped>\n",
       "    .dataframe tbody tr th:only-of-type {\n",
       "        vertical-align: middle;\n",
       "    }\n",
       "\n",
       "    .dataframe tbody tr th {\n",
       "        vertical-align: top;\n",
       "    }\n",
       "\n",
       "    .dataframe thead th {\n",
       "        text-align: right;\n",
       "    }\n",
       "</style>\n",
       "<table border=\"1\" class=\"dataframe\">\n",
       "  <thead>\n",
       "    <tr style=\"text-align: right;\">\n",
       "      <th></th>\n",
       "      <th>track</th>\n",
       "    </tr>\n",
       "    <tr>\n",
       "      <th>genre</th>\n",
       "      <th></th>\n",
       "    </tr>\n",
       "  </thead>\n",
       "  <tbody>\n",
       "    <tr>\n",
       "      <td>pop</td>\n",
       "      <td>781</td>\n",
       "    </tr>\n",
       "    <tr>\n",
       "      <td>dance</td>\n",
       "      <td>549</td>\n",
       "    </tr>\n",
       "    <tr>\n",
       "      <td>electronic</td>\n",
       "      <td>480</td>\n",
       "    </tr>\n",
       "    <tr>\n",
       "      <td>rock</td>\n",
       "      <td>474</td>\n",
       "    </tr>\n",
       "    <tr>\n",
       "      <td>hiphop</td>\n",
       "      <td>286</td>\n",
       "    </tr>\n",
       "    <tr>\n",
       "      <td>ruspop</td>\n",
       "      <td>186</td>\n",
       "    </tr>\n",
       "    <tr>\n",
       "      <td>world</td>\n",
       "      <td>181</td>\n",
       "    </tr>\n",
       "    <tr>\n",
       "      <td>rusrap</td>\n",
       "      <td>175</td>\n",
       "    </tr>\n",
       "    <tr>\n",
       "      <td>alternative</td>\n",
       "      <td>164</td>\n",
       "    </tr>\n",
       "    <tr>\n",
       "      <td>unknown</td>\n",
       "      <td>161</td>\n",
       "    </tr>\n",
       "  </tbody>\n",
       "</table>\n",
       "</div>"
      ],
      "text/plain": [
       "             track\n",
       "genre             \n",
       "pop            781\n",
       "dance          549\n",
       "electronic     480\n",
       "rock           474\n",
       "hiphop         286\n",
       "ruspop         186\n",
       "world          181\n",
       "rusrap         175\n",
       "alternative    164\n",
       "unknown        161"
      ]
     },
     "metadata": {},
     "output_type": "display_data"
    }
   ],
   "source": [
    "display(genre_weekday(moscow_general, 'Monday', '07:00', '11:00')) # вызов функции для утра понедельника в Москве (вместо df — таблица moscow_general)\n",
    "# объекты, хранящие время, являются строками и сравниваются как строки\n",
    "# пример вызова: genre_weekday(moscow_general, 'Monday', '07:00', '11:00')"
   ]
  },
  {
   "cell_type": "code",
   "execution_count": 32,
   "metadata": {
    "id": "kwUcHPdy_Zcu"
   },
   "outputs": [
    {
     "data": {
      "text/html": [
       "<div>\n",
       "<style scoped>\n",
       "    .dataframe tbody tr th:only-of-type {\n",
       "        vertical-align: middle;\n",
       "    }\n",
       "\n",
       "    .dataframe tbody tr th {\n",
       "        vertical-align: top;\n",
       "    }\n",
       "\n",
       "    .dataframe thead th {\n",
       "        text-align: right;\n",
       "    }\n",
       "</style>\n",
       "<table border=\"1\" class=\"dataframe\">\n",
       "  <thead>\n",
       "    <tr style=\"text-align: right;\">\n",
       "      <th></th>\n",
       "      <th>track</th>\n",
       "    </tr>\n",
       "    <tr>\n",
       "      <th>genre</th>\n",
       "      <th></th>\n",
       "    </tr>\n",
       "  </thead>\n",
       "  <tbody>\n",
       "    <tr>\n",
       "      <td>pop</td>\n",
       "      <td>218</td>\n",
       "    </tr>\n",
       "    <tr>\n",
       "      <td>dance</td>\n",
       "      <td>182</td>\n",
       "    </tr>\n",
       "    <tr>\n",
       "      <td>rock</td>\n",
       "      <td>162</td>\n",
       "    </tr>\n",
       "    <tr>\n",
       "      <td>electronic</td>\n",
       "      <td>147</td>\n",
       "    </tr>\n",
       "    <tr>\n",
       "      <td>hiphop</td>\n",
       "      <td>80</td>\n",
       "    </tr>\n",
       "    <tr>\n",
       "      <td>ruspop</td>\n",
       "      <td>64</td>\n",
       "    </tr>\n",
       "    <tr>\n",
       "      <td>alternative</td>\n",
       "      <td>58</td>\n",
       "    </tr>\n",
       "    <tr>\n",
       "      <td>rusrap</td>\n",
       "      <td>55</td>\n",
       "    </tr>\n",
       "    <tr>\n",
       "      <td>jazz</td>\n",
       "      <td>44</td>\n",
       "    </tr>\n",
       "    <tr>\n",
       "      <td>classical</td>\n",
       "      <td>40</td>\n",
       "    </tr>\n",
       "  </tbody>\n",
       "</table>\n",
       "</div>"
      ],
      "text/plain": [
       "             track\n",
       "genre             \n",
       "pop            218\n",
       "dance          182\n",
       "rock           162\n",
       "electronic     147\n",
       "hiphop          80\n",
       "ruspop          64\n",
       "alternative     58\n",
       "rusrap          55\n",
       "jazz            44\n",
       "classical       40"
      ]
     },
     "metadata": {},
     "output_type": "display_data"
    }
   ],
   "source": [
    "display(genre_weekday(spb_general, 'Monday', '07:00', '11:00'))# вызов функции для утра понедельника в Петербурге (вместо df — таблица spb_general)"
   ]
  },
  {
   "cell_type": "code",
   "execution_count": 33,
   "metadata": {
    "id": "EzXVRE1o_Zcu"
   },
   "outputs": [
    {
     "data": {
      "text/html": [
       "<div>\n",
       "<style scoped>\n",
       "    .dataframe tbody tr th:only-of-type {\n",
       "        vertical-align: middle;\n",
       "    }\n",
       "\n",
       "    .dataframe tbody tr th {\n",
       "        vertical-align: top;\n",
       "    }\n",
       "\n",
       "    .dataframe thead th {\n",
       "        text-align: right;\n",
       "    }\n",
       "</style>\n",
       "<table border=\"1\" class=\"dataframe\">\n",
       "  <thead>\n",
       "    <tr style=\"text-align: right;\">\n",
       "      <th></th>\n",
       "      <th>track</th>\n",
       "    </tr>\n",
       "    <tr>\n",
       "      <th>genre</th>\n",
       "      <th></th>\n",
       "    </tr>\n",
       "  </thead>\n",
       "  <tbody>\n",
       "    <tr>\n",
       "      <td>pop</td>\n",
       "      <td>713</td>\n",
       "    </tr>\n",
       "    <tr>\n",
       "      <td>rock</td>\n",
       "      <td>517</td>\n",
       "    </tr>\n",
       "    <tr>\n",
       "      <td>dance</td>\n",
       "      <td>495</td>\n",
       "    </tr>\n",
       "    <tr>\n",
       "      <td>electronic</td>\n",
       "      <td>482</td>\n",
       "    </tr>\n",
       "    <tr>\n",
       "      <td>hiphop</td>\n",
       "      <td>273</td>\n",
       "    </tr>\n",
       "    <tr>\n",
       "      <td>world</td>\n",
       "      <td>208</td>\n",
       "    </tr>\n",
       "    <tr>\n",
       "      <td>ruspop</td>\n",
       "      <td>170</td>\n",
       "    </tr>\n",
       "    <tr>\n",
       "      <td>alternative</td>\n",
       "      <td>163</td>\n",
       "    </tr>\n",
       "    <tr>\n",
       "      <td>classical</td>\n",
       "      <td>163</td>\n",
       "    </tr>\n",
       "    <tr>\n",
       "      <td>rusrap</td>\n",
       "      <td>142</td>\n",
       "    </tr>\n",
       "  </tbody>\n",
       "</table>\n",
       "</div>"
      ],
      "text/plain": [
       "             track\n",
       "genre             \n",
       "pop            713\n",
       "rock           517\n",
       "dance          495\n",
       "electronic     482\n",
       "hiphop         273\n",
       "world          208\n",
       "ruspop         170\n",
       "alternative    163\n",
       "classical      163\n",
       "rusrap         142"
      ]
     },
     "metadata": {},
     "output_type": "display_data"
    }
   ],
   "source": [
    "display(genre_weekday(moscow_general, 'Friday', '17:00', '23:00'))# вызов функции для вечера пятницы в Москве"
   ]
  },
  {
   "cell_type": "code",
   "execution_count": 34,
   "metadata": {
    "id": "JZaEKu5v_Zcu"
   },
   "outputs": [
    {
     "data": {
      "text/html": [
       "<div>\n",
       "<style scoped>\n",
       "    .dataframe tbody tr th:only-of-type {\n",
       "        vertical-align: middle;\n",
       "    }\n",
       "\n",
       "    .dataframe tbody tr th {\n",
       "        vertical-align: top;\n",
       "    }\n",
       "\n",
       "    .dataframe thead th {\n",
       "        text-align: right;\n",
       "    }\n",
       "</style>\n",
       "<table border=\"1\" class=\"dataframe\">\n",
       "  <thead>\n",
       "    <tr style=\"text-align: right;\">\n",
       "      <th></th>\n",
       "      <th>track</th>\n",
       "    </tr>\n",
       "    <tr>\n",
       "      <th>genre</th>\n",
       "      <th></th>\n",
       "    </tr>\n",
       "  </thead>\n",
       "  <tbody>\n",
       "    <tr>\n",
       "      <td>pop</td>\n",
       "      <td>256</td>\n",
       "    </tr>\n",
       "    <tr>\n",
       "      <td>electronic</td>\n",
       "      <td>216</td>\n",
       "    </tr>\n",
       "    <tr>\n",
       "      <td>rock</td>\n",
       "      <td>216</td>\n",
       "    </tr>\n",
       "    <tr>\n",
       "      <td>dance</td>\n",
       "      <td>210</td>\n",
       "    </tr>\n",
       "    <tr>\n",
       "      <td>hiphop</td>\n",
       "      <td>97</td>\n",
       "    </tr>\n",
       "    <tr>\n",
       "      <td>alternative</td>\n",
       "      <td>63</td>\n",
       "    </tr>\n",
       "    <tr>\n",
       "      <td>jazz</td>\n",
       "      <td>61</td>\n",
       "    </tr>\n",
       "    <tr>\n",
       "      <td>classical</td>\n",
       "      <td>60</td>\n",
       "    </tr>\n",
       "    <tr>\n",
       "      <td>rusrap</td>\n",
       "      <td>59</td>\n",
       "    </tr>\n",
       "    <tr>\n",
       "      <td>world</td>\n",
       "      <td>54</td>\n",
       "    </tr>\n",
       "  </tbody>\n",
       "</table>\n",
       "</div>"
      ],
      "text/plain": [
       "             track\n",
       "genre             \n",
       "pop            256\n",
       "electronic     216\n",
       "rock           216\n",
       "dance          210\n",
       "hiphop          97\n",
       "alternative     63\n",
       "jazz            61\n",
       "classical       60\n",
       "rusrap          59\n",
       "world           54"
      ]
     },
     "metadata": {},
     "output_type": "display_data"
    }
   ],
   "source": [
    "display(genre_weekday(spb_general, 'Friday', '17:00', '23:00'))# вызов функции для вечера пятницы в Петербурге"
   ]
  },
  {
   "cell_type": "markdown",
   "metadata": {
    "id": "wrCe4MNX_Zcu"
   },
   "source": [
    "**Выводы**\n",
    "\n",
    "Если сравнить топ-10 жанров в понедельник утром, можно сделать такие выводы:\n",
    "\n",
    "1. В Москве и Петербурге слушают похожую музыку. Единственное отличие — в московский рейтинг вошёл жанр “world”, а в петербургский — джаз и классика.\n",
    "\n",
    "2. В Москве пропущенных значений оказалось так много, что значение `'unknown'` заняло десятое место среди самых популярных жанров. Значит, пропущенные значения занимают существенную долю в данных и угрожают достоверности исследования.\n",
    "\n",
    "Вечер пятницы не меняет эту картину. Некоторые жанры поднимаются немного выше, другие спускаются, но в целом топ-10 остаётся тем же самым.\n",
    "\n",
    "Таким образом, вторая гипотеза подтвердилась лишь частично:\n",
    "* Пользователи слушают похожую музыку в начале недели и в конце.\n",
    "* Разница между Москвой и Петербургом не слишком выражена. В Москве чаще слушают русскую популярную музыку, в Петербурге — джаз.\n",
    "\n",
    "Однако пропуски в данных ставят под сомнение этот результат. В Москве их так много, что рейтинг топ-10 мог бы выглядеть иначе, если бы не утерянные  данные о жанрах."
   ]
  },
  {
   "cell_type": "markdown",
   "metadata": {
    "id": "JolODAqr_Zcu"
   },
   "source": [
    "### Жанровые предпочтения в Москве и Петербурге\n",
    "\n",
    "Гипотеза: Петербург — столица рэпа, музыку этого жанра там слушают чаще, чем в Москве.  А Москва — город контрастов, в котором, тем не менее, преобладает поп-музыка."
   ]
  },
  {
   "cell_type": "markdown",
   "metadata": {
    "id": "DlegSvaT_Zcu"
   },
   "source": [
    "Сгруппируйте таблицу `moscow_general` по жанру и посчитайте прослушивания треков каждого жанра методом `count()`. Затем отсортируйте результат в порядке убывания и сохраните его в таблице `moscow_genres`."
   ]
  },
  {
   "cell_type": "code",
   "execution_count": 35,
   "metadata": {
    "id": "r19lIPke_Zcu"
   },
   "outputs": [],
   "source": [
    "moscow_genres = moscow_general.groupby('genre')['track'].count()# одной строкой: группировка таблицы moscow_general по столбцу 'genre', подсчёт числа значений 'genre' в этой группировке методом count(), \n",
    "moscow_genres = pd.Series(moscow_genres.sort_values(ascending=False)) # сортировка получившегося Series в порядке убывания и сохранение в moscow_genres"
   ]
  },
  {
   "cell_type": "markdown",
   "metadata": {
    "id": "6kMuomxTiIr8"
   },
   "source": [
    "Выведите на экран первые десять строк `moscow_genres`:"
   ]
  },
  {
   "cell_type": "code",
   "execution_count": 36,
   "metadata": {
    "id": "WhCSooF8_Zcv"
   },
   "outputs": [
    {
     "data": {
      "text/plain": [
       "genre\n",
       "pop            5892\n",
       "dance          4435\n",
       "rock           3965\n",
       "electronic     3786\n",
       "hiphop         2096\n",
       "classical      1616\n",
       "world          1432\n",
       "alternative    1379\n",
       "ruspop         1372\n",
       "rusrap         1161\n",
       "Name: track, dtype: int64"
      ]
     },
     "metadata": {},
     "output_type": "display_data"
    }
   ],
   "source": [
    "display(moscow_genres.head(10))# просмотр первых 10 строк moscow_genres"
   ]
  },
  {
   "cell_type": "markdown",
   "metadata": {
    "id": "cnPG2vnN_Zcv"
   },
   "source": [
    "Теперь повторите то же и для Петербурга.\n",
    "\n",
    "Сгруппируйте таблицу `spb_general` по жанру. Посчитайте прослушивания треков каждого жанра. Результат отсортируйте в порядке убывания и сохраните в таблице `spb_genres`:\n"
   ]
  },
  {
   "cell_type": "code",
   "execution_count": 37,
   "metadata": {
    "id": "gluLIpE7_Zcv"
   },
   "outputs": [],
   "source": [
    "spb_genres = spb_general.groupby('genre')['track'].count()# # одной строкой: группировка таблицы spb_general по столбцу 'genre', подсчёт числа значений 'genre' в этой группировке методом count(), \n",
    "spb_genres = pd.Series(spb_genres.sort_values(ascending=False))# сортировка получившегося Series в порядке убывания и сохранение в spb_genres"
   ]
  },
  {
   "cell_type": "markdown",
   "metadata": {
    "id": "5Doha_ODgyQ8"
   },
   "source": [
    "Выведите на экран первые десять строк `spb_genres`:"
   ]
  },
  {
   "cell_type": "code",
   "execution_count": 38,
   "metadata": {
    "id": "uaGJHjVU_Zcv"
   },
   "outputs": [
    {
     "data": {
      "text/plain": [
       "genre\n",
       "pop            2431\n",
       "dance          1932\n",
       "rock           1879\n",
       "electronic     1736\n",
       "hiphop          960\n",
       "alternative     649\n",
       "classical       646\n",
       "rusrap          564\n",
       "ruspop          538\n",
       "world           515\n",
       "Name: track, dtype: int64"
      ]
     },
     "metadata": {},
     "output_type": "display_data"
    }
   ],
   "source": [
    "display(spb_genres.head(10))# просмотр первых 10 строк spb_genres"
   ]
  },
  {
   "cell_type": "markdown",
   "metadata": {
    "id": "RY51YJYu_Zcv"
   },
   "source": [
    "**Выводы**"
   ]
  },
  {
   "cell_type": "markdown",
   "metadata": {
    "id": "nVhnJEm__Zcv"
   },
   "source": [
    "Гипотеза частично подтвердилась:\n",
    "* Поп-музыка — самый популярный жанр в Москве, как и предполагала гипотеза. Более того, в топ-10 жанров встречается близкий жанр — русская популярная музыка.\n",
    "* Вопреки ожиданиям, рэп одинаково популярен в Москве и Петербурге. \n"
   ]
  },
  {
   "cell_type": "markdown",
   "metadata": {
    "id": "ykKQ0N65_Zcv"
   },
   "source": [
    "## Итоги исследования"
   ]
  },
  {
   "cell_type": "markdown",
   "metadata": {
    "id": "tjUwbHb3_Zcv"
   },
   "source": [
    "Вы проверили три гипотезы и установили:\n",
    "\n",
    "1. День недели по-разному влияет на активность пользователей в Москве и Петербурге. \n",
    "\n",
    "Первая гипотеза полностью подтвердилась.\n",
    "\n",
    "2. Музыкальные предпочтения не сильно меняются в течение недели — будь то Москва или Петербург. Небольшие различия заметны в начале недели, по понедельникам:\n",
    "* в Москве слушают музыку жанра “world”,\n",
    "* в Петербурге — джаз и классику.\n",
    "\n",
    "Таким образом, вторая гипотеза подтвердилась лишь отчасти. Этот результат мог оказаться иным, если бы не пропуски в данных.\n",
    "\n",
    "3. Во вкусах пользователей Москвы и Петербурга больше общего чем различий. Вопреки ожиданиям, предпочтения жанров в Петербурге напоминают московские.\n",
    "\n",
    "Третья гипотеза не подтвердилась. Если различия в предпочтениях и существуют, на основной массе пользователей они незаметны.\n",
    "\n",
    "**На практике исследования содержат проверки статистических гипотез.**\n",
    "Из данных одного сервиса не всегда можно сделать вывод о всех жителях города.\n",
    "Проверки статистических гипотез покажут, насколько они достоверны, исходя из имеющихся данных. \n",
    "С методами проверок гипотез вы ещё познакомитесь в следующих темах."
   ]
  }
 ],
 "metadata": {
  "ExecuteTimeLog": [
   {
    "duration": 4,
    "start_time": "2021-07-20T16:25:19.255Z"
   },
   {
    "duration": 3,
    "start_time": "2021-07-20T16:25:29.393Z"
   },
   {
    "duration": 196,
    "start_time": "2021-07-20T16:25:30.445Z"
   },
   {
    "duration": 16,
    "start_time": "2021-07-20T16:25:32.605Z"
   },
   {
    "duration": 3,
    "start_time": "2021-07-20T16:25:34.648Z"
   },
   {
    "duration": 42,
    "start_time": "2021-07-20T16:25:52.552Z"
   },
   {
    "duration": 4,
    "start_time": "2021-07-20T16:26:02.425Z"
   },
   {
    "duration": 4,
    "start_time": "2021-07-20T16:26:17.602Z"
   },
   {
    "duration": 5,
    "start_time": "2021-07-20T16:26:20.766Z"
   },
   {
    "duration": 6,
    "start_time": "2021-07-20T16:27:15.801Z"
   },
   {
    "duration": 3993,
    "start_time": "2021-07-20T16:28:07.969Z"
   },
   {
    "duration": -2235,
    "start_time": "2021-07-20T16:28:14.200Z"
   },
   {
    "duration": 307,
    "start_time": "2021-07-20T16:28:24.218Z"
   },
   {
    "duration": -972,
    "start_time": "2021-07-20T16:28:43.979Z"
   },
   {
    "duration": -983,
    "start_time": "2021-07-20T16:28:43.992Z"
   },
   {
    "duration": 8475,
    "start_time": "2021-07-20T16:28:54.904Z"
   },
   {
    "duration": -869,
    "start_time": "2021-07-20T16:29:04.250Z"
   },
   {
    "duration": 5,
    "start_time": "2021-07-20T17:06:27.369Z"
   },
   {
    "duration": 16,
    "start_time": "2021-07-20T17:06:46.385Z"
   },
   {
    "duration": 32,
    "start_time": "2021-07-20T17:06:52.108Z"
   },
   {
    "duration": 32,
    "start_time": "2021-07-20T17:06:57.975Z"
   },
   {
    "duration": 5,
    "start_time": "2021-07-20T17:07:09.225Z"
   },
   {
    "duration": 113,
    "start_time": "2021-07-20T17:14:21.082Z"
   },
   {
    "duration": 26,
    "start_time": "2021-07-20T17:17:03.051Z"
   },
   {
    "duration": 4,
    "start_time": "2021-07-20T17:17:32.055Z"
   },
   {
    "duration": 33,
    "start_time": "2021-07-20T17:24:53.069Z"
   },
   {
    "duration": 33,
    "start_time": "2021-07-20T17:26:54.201Z"
   },
   {
    "duration": 362,
    "start_time": "2021-07-20T17:32:01.110Z"
   },
   {
    "duration": 335,
    "start_time": "2021-07-20T17:32:36.116Z"
   },
   {
    "duration": 38,
    "start_time": "2021-07-20T17:36:00.774Z"
   },
   {
    "duration": 34,
    "start_time": "2021-07-20T17:36:25.323Z"
   },
   {
    "duration": 33,
    "start_time": "2021-07-20T17:36:43.793Z"
   },
   {
    "duration": 40,
    "start_time": "2021-07-20T17:36:46.553Z"
   },
   {
    "duration": 29,
    "start_time": "2021-07-20T17:36:49.363Z"
   },
   {
    "duration": 38,
    "start_time": "2021-07-20T17:37:25.164Z"
   },
   {
    "duration": 63,
    "start_time": "2021-07-20T17:38:58.677Z"
   },
   {
    "duration": 46,
    "start_time": "2021-07-20T17:39:00.767Z"
   },
   {
    "duration": 62,
    "start_time": "2021-07-20T17:39:15.667Z"
   },
   {
    "duration": 46,
    "start_time": "2021-07-20T17:39:17.607Z"
   },
   {
    "duration": 123,
    "start_time": "2021-07-20T17:39:37.708Z"
   },
   {
    "duration": 113,
    "start_time": "2021-07-20T17:39:48.227Z"
   },
   {
    "duration": 385,
    "start_time": "2021-07-20T17:46:48.871Z"
   },
   {
    "duration": 161,
    "start_time": "2021-07-20T17:48:29.378Z"
   },
   {
    "duration": 80,
    "start_time": "2021-07-20T17:49:22.524Z"
   },
   {
    "duration": 107,
    "start_time": "2021-07-20T17:49:29.887Z"
   },
   {
    "duration": 85,
    "start_time": "2021-07-20T17:49:32.655Z"
   },
   {
    "duration": 22,
    "start_time": "2021-07-20T17:51:05.879Z"
   },
   {
    "duration": 108,
    "start_time": "2021-07-20T19:18:53.707Z"
   },
   {
    "duration": 106,
    "start_time": "2021-07-20T19:19:15.319Z"
   },
   {
    "duration": 92,
    "start_time": "2021-07-20T19:28:46.217Z"
   },
   {
    "duration": 79,
    "start_time": "2021-07-20T19:28:49.602Z"
   },
   {
    "duration": 15,
    "start_time": "2021-07-20T19:31:30.390Z"
   },
   {
    "duration": 25,
    "start_time": "2021-07-20T19:31:38.773Z"
   },
   {
    "duration": 30,
    "start_time": "2021-07-20T19:31:44.273Z"
   },
   {
    "duration": 5,
    "start_time": "2021-07-20T19:31:47.451Z"
   },
   {
    "duration": 17,
    "start_time": "2021-07-20T19:31:49.810Z"
   },
   {
    "duration": 5,
    "start_time": "2021-07-20T19:32:00.070Z"
   },
   {
    "duration": 28,
    "start_time": "2021-07-20T19:32:06.527Z"
   },
   {
    "duration": 46,
    "start_time": "2021-07-20T19:32:08.769Z"
   },
   {
    "duration": 29,
    "start_time": "2021-07-20T19:32:12.618Z"
   },
   {
    "duration": 79,
    "start_time": "2021-07-20T19:32:14.788Z"
   },
   {
    "duration": 140,
    "start_time": "2021-07-20T19:32:16.680Z"
   },
   {
    "duration": 115,
    "start_time": "2021-07-20T19:32:19.287Z"
   },
   {
    "duration": 11,
    "start_time": "2021-07-20T19:32:30.131Z"
   },
   {
    "duration": 4,
    "start_time": "2021-07-20T19:32:34.902Z"
   },
   {
    "duration": 3,
    "start_time": "2021-07-20T19:32:38.774Z"
   },
   {
    "duration": 3,
    "start_time": "2021-07-20T19:32:40.424Z"
   },
   {
    "duration": 3,
    "start_time": "2021-07-20T19:32:41.708Z"
   },
   {
    "duration": 3,
    "start_time": "2021-07-20T19:32:42.011Z"
   },
   {
    "duration": 3,
    "start_time": "2021-07-20T19:32:42.517Z"
   },
   {
    "duration": 3,
    "start_time": "2021-07-20T19:32:42.831Z"
   },
   {
    "duration": 4,
    "start_time": "2021-07-20T19:32:43.020Z"
   },
   {
    "duration": 3,
    "start_time": "2021-07-20T19:32:43.191Z"
   },
   {
    "duration": 3,
    "start_time": "2021-07-20T19:32:43.394Z"
   },
   {
    "duration": 3,
    "start_time": "2021-07-20T19:32:43.592Z"
   },
   {
    "duration": 4,
    "start_time": "2021-07-20T19:32:43.810Z"
   },
   {
    "duration": 4,
    "start_time": "2021-07-20T19:32:44.338Z"
   },
   {
    "duration": 3,
    "start_time": "2021-07-20T19:32:45.291Z"
   },
   {
    "duration": 3,
    "start_time": "2021-07-20T19:32:45.480Z"
   },
   {
    "duration": 3,
    "start_time": "2021-07-20T19:32:45.895Z"
   },
   {
    "duration": 6,
    "start_time": "2021-07-20T19:32:46.261Z"
   },
   {
    "duration": 3,
    "start_time": "2021-07-20T19:32:46.497Z"
   },
   {
    "duration": 4,
    "start_time": "2021-07-20T19:32:46.687Z"
   },
   {
    "duration": 3,
    "start_time": "2021-07-20T19:32:46.847Z"
   },
   {
    "duration": 410,
    "start_time": "2021-07-22T10:40:32.464Z"
   },
   {
    "duration": 824,
    "start_time": "2021-07-22T10:41:23.172Z"
   },
   {
    "duration": 194,
    "start_time": "2021-07-22T10:41:24.852Z"
   },
   {
    "duration": 29,
    "start_time": "2021-07-22T10:41:25.049Z"
   },
   {
    "duration": 32,
    "start_time": "2021-07-22T10:41:25.081Z"
   },
   {
    "duration": 787,
    "start_time": "2021-07-22T10:41:40.088Z"
   },
   {
    "duration": 188,
    "start_time": "2021-07-22T10:41:40.877Z"
   },
   {
    "duration": 30,
    "start_time": "2021-07-22T10:41:41.069Z"
   },
   {
    "duration": 35,
    "start_time": "2021-07-22T10:41:41.103Z"
   },
   {
    "duration": 31,
    "start_time": "2021-07-22T10:41:41.141Z"
   },
   {
    "duration": 30,
    "start_time": "2021-07-22T10:41:41.175Z"
   },
   {
    "duration": 9,
    "start_time": "2021-07-22T10:41:41.208Z"
   },
   {
    "duration": 68,
    "start_time": "2021-07-22T10:41:41.222Z"
   },
   {
    "duration": 46,
    "start_time": "2021-07-22T10:41:41.294Z"
   },
   {
    "duration": 54,
    "start_time": "2021-07-22T10:41:41.343Z"
   },
   {
    "duration": 103,
    "start_time": "2021-07-22T10:41:41.399Z"
   },
   {
    "duration": 111,
    "start_time": "2021-07-22T10:41:41.504Z"
   },
   {
    "duration": 85,
    "start_time": "2021-07-22T10:41:41.617Z"
   },
   {
    "duration": 8,
    "start_time": "2021-07-22T10:41:41.704Z"
   },
   {
    "duration": 6,
    "start_time": "2021-07-22T10:41:41.714Z"
   },
   {
    "duration": 6,
    "start_time": "2021-07-22T10:41:41.722Z"
   },
   {
    "duration": 5,
    "start_time": "2021-07-22T10:41:41.731Z"
   },
   {
    "duration": 29,
    "start_time": "2021-07-22T10:41:41.738Z"
   },
   {
    "duration": 9,
    "start_time": "2021-07-22T10:41:41.770Z"
   },
   {
    "duration": 7,
    "start_time": "2021-07-22T10:41:41.782Z"
   },
   {
    "duration": 12,
    "start_time": "2021-07-22T10:41:41.791Z"
   },
   {
    "duration": 10,
    "start_time": "2021-07-22T10:41:41.805Z"
   },
   {
    "duration": 4,
    "start_time": "2021-07-22T10:41:41.819Z"
   },
   {
    "duration": 5,
    "start_time": "2021-07-22T10:41:41.825Z"
   },
   {
    "duration": 6,
    "start_time": "2021-07-22T10:41:41.833Z"
   },
   {
    "duration": 3,
    "start_time": "2021-07-22T10:41:41.868Z"
   },
   {
    "duration": 6,
    "start_time": "2021-07-22T10:41:41.874Z"
   },
   {
    "duration": 6,
    "start_time": "2021-07-22T10:41:41.882Z"
   },
   {
    "duration": 6,
    "start_time": "2021-07-22T10:41:41.890Z"
   },
   {
    "duration": 5,
    "start_time": "2021-07-22T10:41:41.898Z"
   },
   {
    "duration": 28,
    "start_time": "2021-07-22T10:41:41.906Z"
   },
   {
    "duration": 6,
    "start_time": "2021-07-22T10:41:41.937Z"
   },
   {
    "duration": 3,
    "start_time": "2021-07-22T10:41:41.968Z"
   },
   {
    "duration": 7,
    "start_time": "2021-07-22T10:41:41.973Z"
   },
   {
    "duration": 10,
    "start_time": "2021-07-22T10:41:41.982Z"
   },
   {
    "duration": 6,
    "start_time": "2021-07-22T10:41:41.994Z"
   },
   {
    "duration": 6,
    "start_time": "2021-07-22T10:41:42.002Z"
   },
   {
    "duration": 5,
    "start_time": "2021-07-22T10:41:42.010Z"
   },
   {
    "duration": 10,
    "start_time": "2021-07-22T10:42:45.735Z"
   },
   {
    "duration": 9,
    "start_time": "2021-07-22T10:42:53.488Z"
   },
   {
    "duration": 453,
    "start_time": "2021-07-22T10:43:08.888Z"
   },
   {
    "duration": 125,
    "start_time": "2021-07-22T10:43:18.217Z"
   },
   {
    "duration": 8,
    "start_time": "2021-07-22T10:43:33.728Z"
   },
   {
    "duration": 8,
    "start_time": "2021-07-22T10:43:39.176Z"
   },
   {
    "duration": 120,
    "start_time": "2021-07-22T10:43:46.984Z"
   },
   {
    "duration": 12,
    "start_time": "2021-07-22T10:43:55.536Z"
   },
   {
    "duration": 396,
    "start_time": "2021-07-22T10:46:07.376Z"
   },
   {
    "duration": 7,
    "start_time": "2021-07-22T10:46:17.568Z"
   },
   {
    "duration": 7,
    "start_time": "2021-07-22T10:46:21.816Z"
   },
   {
    "duration": 8,
    "start_time": "2021-07-22T10:46:35.256Z"
   },
   {
    "duration": 1341,
    "start_time": "2021-07-22T10:46:49.136Z"
   },
   {
    "duration": 379,
    "start_time": "2021-07-22T10:46:51.816Z"
   },
   {
    "duration": 507,
    "start_time": "2021-07-22T10:55:24.337Z"
   },
   {
    "duration": 7,
    "start_time": "2021-07-22T11:06:50.130Z"
   },
   {
    "duration": 9,
    "start_time": "2021-07-22T11:07:08.164Z"
   },
   {
    "duration": 7,
    "start_time": "2021-07-22T11:07:42.476Z"
   },
   {
    "duration": 8,
    "start_time": "2021-07-22T11:08:25.913Z"
   },
   {
    "duration": 7,
    "start_time": "2021-07-22T11:08:36.234Z"
   },
   {
    "duration": 8,
    "start_time": "2021-07-22T11:09:26.755Z"
   },
   {
    "duration": 8,
    "start_time": "2021-07-22T11:11:09.303Z"
   },
   {
    "duration": 9,
    "start_time": "2021-07-22T11:11:20.716Z"
   },
   {
    "duration": 9,
    "start_time": "2021-07-22T11:11:41.955Z"
   },
   {
    "duration": 10,
    "start_time": "2021-07-22T11:11:49.114Z"
   },
   {
    "duration": 377,
    "start_time": "2021-07-22T11:12:00.048Z"
   },
   {
    "duration": 8,
    "start_time": "2021-07-22T11:12:07.543Z"
   },
   {
    "duration": 8,
    "start_time": "2021-07-22T11:12:38.182Z"
   },
   {
    "duration": 9,
    "start_time": "2021-07-22T11:13:00.382Z"
   },
   {
    "duration": 4,
    "start_time": "2021-07-22T12:17:28.244Z"
   },
   {
    "duration": 224,
    "start_time": "2021-07-22T12:17:28.256Z"
   },
   {
    "duration": 17,
    "start_time": "2021-07-22T12:17:28.482Z"
   },
   {
    "duration": 35,
    "start_time": "2021-07-22T12:17:28.502Z"
   },
   {
    "duration": 29,
    "start_time": "2021-07-22T12:17:28.540Z"
   },
   {
    "duration": 19,
    "start_time": "2021-07-22T12:17:28.572Z"
   },
   {
    "duration": 4,
    "start_time": "2021-07-22T12:17:28.594Z"
   },
   {
    "duration": 34,
    "start_time": "2021-07-22T12:17:28.601Z"
   },
   {
    "duration": 74,
    "start_time": "2021-07-22T12:17:28.637Z"
   },
   {
    "duration": 30,
    "start_time": "2021-07-22T12:17:28.716Z"
   },
   {
    "duration": 86,
    "start_time": "2021-07-22T12:17:28.768Z"
   },
   {
    "duration": 100,
    "start_time": "2021-07-22T12:17:28.867Z"
   },
   {
    "duration": 73,
    "start_time": "2021-07-22T12:17:28.969Z"
   },
   {
    "duration": 23,
    "start_time": "2021-07-22T12:17:29.044Z"
   },
   {
    "duration": 3,
    "start_time": "2021-07-22T12:17:29.069Z"
   },
   {
    "duration": 8,
    "start_time": "2021-07-22T12:17:29.073Z"
   },
   {
    "duration": 5,
    "start_time": "2021-07-22T12:17:29.083Z"
   },
   {
    "duration": 7,
    "start_time": "2021-07-22T12:17:29.090Z"
   },
   {
    "duration": 10,
    "start_time": "2021-07-22T12:17:29.099Z"
   },
   {
    "duration": 13,
    "start_time": "2021-07-22T12:17:29.112Z"
   },
   {
    "duration": 6,
    "start_time": "2021-07-22T12:17:29.127Z"
   },
   {
    "duration": 32,
    "start_time": "2021-07-22T12:17:29.135Z"
   },
   {
    "duration": 5,
    "start_time": "2021-07-22T12:17:29.170Z"
   },
   {
    "duration": 6,
    "start_time": "2021-07-22T12:17:29.178Z"
   },
   {
    "duration": 11,
    "start_time": "2021-07-22T12:17:29.186Z"
   },
   {
    "duration": 6,
    "start_time": "2021-07-22T12:17:29.199Z"
   },
   {
    "duration": 5,
    "start_time": "2021-07-22T12:17:29.207Z"
   },
   {
    "duration": 3,
    "start_time": "2021-07-22T12:17:29.217Z"
   },
   {
    "duration": 45,
    "start_time": "2021-07-22T12:17:29.222Z"
   },
   {
    "duration": 9,
    "start_time": "2021-07-22T12:17:29.270Z"
   },
   {
    "duration": 12,
    "start_time": "2021-07-22T12:17:29.282Z"
   },
   {
    "duration": 6,
    "start_time": "2021-07-22T12:17:29.296Z"
   },
   {
    "duration": 12,
    "start_time": "2021-07-22T12:17:29.304Z"
   },
   {
    "duration": 5,
    "start_time": "2021-07-22T12:17:29.318Z"
   },
   {
    "duration": 6,
    "start_time": "2021-07-22T12:17:29.325Z"
   },
   {
    "duration": 7,
    "start_time": "2021-07-22T12:17:29.333Z"
   },
   {
    "duration": 25,
    "start_time": "2021-07-22T12:17:29.342Z"
   },
   {
    "duration": 6,
    "start_time": "2021-07-22T12:17:29.369Z"
   },
   {
    "duration": 9,
    "start_time": "2021-07-22T12:17:50.205Z"
   },
   {
    "duration": 9,
    "start_time": "2021-07-22T12:18:42.200Z"
   },
   {
    "duration": 8,
    "start_time": "2021-07-22T12:19:22.957Z"
   },
   {
    "duration": 9,
    "start_time": "2021-07-22T12:19:29.276Z"
   },
   {
    "duration": 4,
    "start_time": "2021-07-22T12:35:01.919Z"
   },
   {
    "duration": 389,
    "start_time": "2021-07-22T12:36:10.959Z"
   },
   {
    "duration": 15,
    "start_time": "2021-07-22T12:39:13.777Z"
   },
   {
    "duration": 15,
    "start_time": "2021-07-22T12:39:17.185Z"
   },
   {
    "duration": 5,
    "start_time": "2021-07-22T12:40:23.169Z"
   },
   {
    "duration": 8,
    "start_time": "2021-07-22T12:40:53.479Z"
   },
   {
    "duration": 45,
    "start_time": "2021-07-22T13:17:14.523Z"
   },
   {
    "duration": 45,
    "start_time": "2021-07-22T13:21:02.490Z"
   },
   {
    "duration": 766,
    "start_time": "2021-07-28T15:42:51.130Z"
   },
   {
    "duration": 170,
    "start_time": "2021-07-28T15:42:51.899Z"
   },
   {
    "duration": 28,
    "start_time": "2021-07-28T15:42:52.073Z"
   },
   {
    "duration": 58,
    "start_time": "2021-07-28T15:42:52.104Z"
   },
   {
    "duration": 6,
    "start_time": "2021-07-28T15:42:52.165Z"
   },
   {
    "duration": 30,
    "start_time": "2021-07-28T15:42:52.175Z"
   },
   {
    "duration": 5,
    "start_time": "2021-07-28T15:42:52.207Z"
   },
   {
    "duration": 65,
    "start_time": "2021-07-28T15:42:52.216Z"
   },
   {
    "duration": 40,
    "start_time": "2021-07-28T15:42:52.284Z"
   },
   {
    "duration": 47,
    "start_time": "2021-07-28T15:42:52.327Z"
   },
   {
    "duration": 90,
    "start_time": "2021-07-28T15:42:52.377Z"
   },
   {
    "duration": 107,
    "start_time": "2021-07-28T15:42:52.470Z"
   },
   {
    "duration": 77,
    "start_time": "2021-07-28T15:42:52.579Z"
   },
   {
    "duration": 8,
    "start_time": "2021-07-28T15:42:52.658Z"
   },
   {
    "duration": 4,
    "start_time": "2021-07-28T15:42:52.669Z"
   },
   {
    "duration": 15,
    "start_time": "2021-07-28T15:42:52.676Z"
   },
   {
    "duration": 18,
    "start_time": "2021-07-28T15:42:52.693Z"
   },
   {
    "duration": 78,
    "start_time": "2021-07-28T15:42:52.714Z"
   },
   {
    "duration": 39,
    "start_time": "2021-07-28T15:42:52.794Z"
   },
   {
    "duration": 87,
    "start_time": "2021-07-28T15:42:52.836Z"
   },
   {
    "duration": -9909,
    "start_time": "2021-07-28T15:43:02.835Z"
   },
   {
    "duration": -9915,
    "start_time": "2021-07-28T15:43:02.842Z"
   },
   {
    "duration": -9919,
    "start_time": "2021-07-28T15:43:02.847Z"
   },
   {
    "duration": -10082,
    "start_time": "2021-07-28T15:43:03.012Z"
   },
   {
    "duration": -10965,
    "start_time": "2021-07-28T15:43:03.896Z"
   },
   {
    "duration": -10968,
    "start_time": "2021-07-28T15:43:03.900Z"
   },
   {
    "duration": -10970,
    "start_time": "2021-07-28T15:43:03.904Z"
   },
   {
    "duration": -10973,
    "start_time": "2021-07-28T15:43:03.908Z"
   },
   {
    "duration": -10975,
    "start_time": "2021-07-28T15:43:03.912Z"
   },
   {
    "duration": -10979,
    "start_time": "2021-07-28T15:43:03.917Z"
   },
   {
    "duration": -10982,
    "start_time": "2021-07-28T15:43:03.921Z"
   },
   {
    "duration": -10985,
    "start_time": "2021-07-28T15:43:03.925Z"
   },
   {
    "duration": -10987,
    "start_time": "2021-07-28T15:43:03.929Z"
   },
   {
    "duration": -10990,
    "start_time": "2021-07-28T15:43:03.933Z"
   },
   {
    "duration": -10993,
    "start_time": "2021-07-28T15:43:03.937Z"
   },
   {
    "duration": -10995,
    "start_time": "2021-07-28T15:43:03.941Z"
   },
   {
    "duration": -11011,
    "start_time": "2021-07-28T15:43:03.958Z"
   },
   {
    "duration": -11014,
    "start_time": "2021-07-28T15:43:03.962Z"
   },
   {
    "duration": 132,
    "start_time": "2021-07-28T15:44:16.379Z"
   },
   {
    "duration": 4,
    "start_time": "2021-07-28T15:44:33.808Z"
   },
   {
    "duration": 13,
    "start_time": "2021-07-28T15:45:21.714Z"
   },
   {
    "duration": 4,
    "start_time": "2021-07-28T15:47:16.947Z"
   },
   {
    "duration": 13,
    "start_time": "2021-07-28T15:47:18.594Z"
   },
   {
    "duration": 5,
    "start_time": "2021-07-28T15:47:30.180Z"
   },
   {
    "duration": 12,
    "start_time": "2021-07-28T15:47:31.388Z"
   },
   {
    "duration": 5,
    "start_time": "2021-07-28T17:16:21.375Z"
   },
   {
    "duration": 16,
    "start_time": "2021-07-28T17:16:21.383Z"
   },
   {
    "duration": 7,
    "start_time": "2021-07-28T17:16:21.402Z"
   },
   {
    "duration": 713,
    "start_time": "2021-07-28T19:14:58.494Z"
   },
   {
    "duration": 386,
    "start_time": "2021-07-28T19:14:59.210Z"
   },
   {
    "duration": 25,
    "start_time": "2021-07-28T19:14:59.599Z"
   },
   {
    "duration": 32,
    "start_time": "2021-07-28T19:14:59.626Z"
   },
   {
    "duration": 26,
    "start_time": "2021-07-28T19:14:59.661Z"
   },
   {
    "duration": 25,
    "start_time": "2021-07-28T19:14:59.690Z"
   },
   {
    "duration": 6,
    "start_time": "2021-07-28T19:14:59.718Z"
   },
   {
    "duration": 58,
    "start_time": "2021-07-28T19:14:59.728Z"
   },
   {
    "duration": 38,
    "start_time": "2021-07-28T19:14:59.789Z"
   },
   {
    "duration": 25,
    "start_time": "2021-07-28T19:14:59.829Z"
   },
   {
    "duration": 74,
    "start_time": "2021-07-28T19:14:59.882Z"
   },
   {
    "duration": 112,
    "start_time": "2021-07-28T19:14:59.958Z"
   },
   {
    "duration": 75,
    "start_time": "2021-07-28T19:15:00.073Z"
   },
   {
    "duration": 8,
    "start_time": "2021-07-28T19:15:00.150Z"
   },
   {
    "duration": 4,
    "start_time": "2021-07-28T19:15:00.182Z"
   },
   {
    "duration": 18,
    "start_time": "2021-07-28T19:15:00.189Z"
   },
   {
    "duration": 10,
    "start_time": "2021-07-28T19:15:00.209Z"
   },
   {
    "duration": 66,
    "start_time": "2021-07-28T19:15:00.221Z"
   },
   {
    "duration": 42,
    "start_time": "2021-07-28T19:15:00.289Z"
   },
   {
    "duration": 4,
    "start_time": "2021-07-28T19:15:00.333Z"
   },
   {
    "duration": 43,
    "start_time": "2021-07-28T19:15:00.339Z"
   },
   {
    "duration": 5,
    "start_time": "2021-07-28T19:15:00.385Z"
   },
   {
    "duration": 9,
    "start_time": "2021-07-28T19:15:00.395Z"
   },
   {
    "duration": 6,
    "start_time": "2021-07-28T19:15:00.407Z"
   },
   {
    "duration": 8,
    "start_time": "2021-07-28T19:15:00.416Z"
   },
   {
    "duration": 8,
    "start_time": "2021-07-28T19:15:00.427Z"
   },
   {
    "duration": 10,
    "start_time": "2021-07-28T19:15:00.437Z"
   },
   {
    "duration": 7,
    "start_time": "2021-07-28T19:15:00.449Z"
   },
   {
    "duration": 3,
    "start_time": "2021-07-28T19:15:00.483Z"
   },
   {
    "duration": 6,
    "start_time": "2021-07-28T19:15:00.490Z"
   },
   {
    "duration": 11,
    "start_time": "2021-07-28T19:15:00.499Z"
   },
   {
    "duration": 8,
    "start_time": "2021-07-28T19:15:00.513Z"
   },
   {
    "duration": 18,
    "start_time": "2021-07-28T19:15:00.524Z"
   },
   {
    "duration": 14,
    "start_time": "2021-07-28T19:15:00.544Z"
   },
   {
    "duration": 7,
    "start_time": "2021-07-28T19:15:00.561Z"
   },
   {
    "duration": 15,
    "start_time": "2021-07-28T19:15:00.570Z"
   },
   {
    "duration": 9,
    "start_time": "2021-07-28T19:15:00.588Z"
   },
   {
    "duration": 6,
    "start_time": "2021-07-28T19:15:00.600Z"
   },
   {
    "duration": 5,
    "start_time": "2021-07-28T19:17:10.018Z"
   },
   {
    "duration": 20,
    "start_time": "2021-07-28T19:17:12.131Z"
   },
   {
    "duration": 5,
    "start_time": "2021-07-28T19:17:34.940Z"
   },
   {
    "duration": 29,
    "start_time": "2021-07-28T19:17:36.671Z"
   },
   {
    "duration": 627,
    "start_time": "2021-08-02T20:02:17.907Z"
   },
   {
    "duration": 132,
    "start_time": "2021-08-02T20:02:18.536Z"
   },
   {
    "duration": 14,
    "start_time": "2021-08-02T20:02:18.670Z"
   },
   {
    "duration": 34,
    "start_time": "2021-08-02T20:02:18.686Z"
   },
   {
    "duration": 5,
    "start_time": "2021-08-02T20:02:18.721Z"
   },
   {
    "duration": 24,
    "start_time": "2021-08-02T20:02:18.728Z"
   },
   {
    "duration": 4,
    "start_time": "2021-08-02T20:02:18.754Z"
   },
   {
    "duration": 52,
    "start_time": "2021-08-02T20:02:18.760Z"
   },
   {
    "duration": 29,
    "start_time": "2021-08-02T20:02:18.815Z"
   },
   {
    "duration": 21,
    "start_time": "2021-08-02T20:02:18.846Z"
   },
   {
    "duration": 79,
    "start_time": "2021-08-02T20:02:18.869Z"
   },
   {
    "duration": 82,
    "start_time": "2021-08-02T20:02:18.950Z"
   },
   {
    "duration": 49,
    "start_time": "2021-08-02T20:02:19.033Z"
   },
   {
    "duration": 10,
    "start_time": "2021-08-02T20:02:19.083Z"
   },
   {
    "duration": 4,
    "start_time": "2021-08-02T20:02:19.096Z"
   },
   {
    "duration": 11,
    "start_time": "2021-08-02T20:02:19.102Z"
   },
   {
    "duration": 9,
    "start_time": "2021-08-02T20:02:19.115Z"
   },
   {
    "duration": 37,
    "start_time": "2021-08-02T20:02:19.125Z"
   },
   {
    "duration": 42,
    "start_time": "2021-08-02T20:02:19.193Z"
   },
   {
    "duration": 4,
    "start_time": "2021-08-02T20:02:19.236Z"
   },
   {
    "duration": 20,
    "start_time": "2021-08-02T20:02:19.242Z"
   },
   {
    "duration": 2,
    "start_time": "2021-08-02T20:02:19.264Z"
   },
   {
    "duration": 3,
    "start_time": "2021-08-02T20:02:19.292Z"
   },
   {
    "duration": 9,
    "start_time": "2021-08-02T20:02:19.297Z"
   },
   {
    "duration": 6,
    "start_time": "2021-08-02T20:02:19.308Z"
   },
   {
    "duration": 10,
    "start_time": "2021-08-02T20:02:19.316Z"
   },
   {
    "duration": 8,
    "start_time": "2021-08-02T20:02:19.330Z"
   },
   {
    "duration": 8,
    "start_time": "2021-08-02T20:02:19.340Z"
   },
   {
    "duration": 7,
    "start_time": "2021-08-02T20:02:19.349Z"
   },
   {
    "duration": 7,
    "start_time": "2021-08-02T20:02:19.358Z"
   },
   {
    "duration": 13,
    "start_time": "2021-08-02T20:02:19.367Z"
   },
   {
    "duration": 7,
    "start_time": "2021-08-02T20:02:19.381Z"
   },
   {
    "duration": 12,
    "start_time": "2021-08-02T20:02:19.390Z"
   },
   {
    "duration": 16,
    "start_time": "2021-08-02T20:02:19.404Z"
   },
   {
    "duration": 12,
    "start_time": "2021-08-02T20:02:19.422Z"
   },
   {
    "duration": 9,
    "start_time": "2021-08-02T20:02:19.436Z"
   },
   {
    "duration": 8,
    "start_time": "2021-08-02T20:02:19.446Z"
   },
   {
    "duration": 9,
    "start_time": "2021-08-02T20:02:19.455Z"
   },
   {
    "duration": 4,
    "start_time": "2021-08-02T20:07:13.954Z"
   },
   {
    "duration": 17,
    "start_time": "2021-08-02T20:07:17.228Z"
   },
   {
    "duration": 17,
    "start_time": "2021-08-02T20:07:40.439Z"
   },
   {
    "duration": 4,
    "start_time": "2021-08-02T20:09:47.912Z"
   },
   {
    "duration": 18,
    "start_time": "2021-08-02T20:09:50.148Z"
   },
   {
    "duration": 273,
    "start_time": "2021-08-02T20:11:14.345Z"
   },
   {
    "duration": 3,
    "start_time": "2021-08-02T20:11:28.116Z"
   },
   {
    "duration": 4,
    "start_time": "2021-08-02T20:11:56.261Z"
   },
   {
    "duration": 18,
    "start_time": "2021-08-02T20:11:58.745Z"
   },
   {
    "duration": 4,
    "start_time": "2021-08-02T20:12:09.372Z"
   },
   {
    "duration": 18,
    "start_time": "2021-08-02T20:12:10.802Z"
   },
   {
    "duration": 4,
    "start_time": "2021-08-02T20:12:40.277Z"
   },
   {
    "duration": 12,
    "start_time": "2021-08-02T20:12:41.694Z"
   },
   {
    "duration": 3,
    "start_time": "2021-08-02T20:13:09.334Z"
   },
   {
    "duration": 17,
    "start_time": "2021-08-02T20:13:10.850Z"
   },
   {
    "duration": 29,
    "start_time": "2021-08-02T20:13:24.678Z"
   },
   {
    "duration": 4,
    "start_time": "2021-08-02T20:13:34.305Z"
   },
   {
    "duration": 28,
    "start_time": "2021-08-02T20:13:35.724Z"
   },
   {
    "duration": 3,
    "start_time": "2021-08-02T20:13:46.808Z"
   },
   {
    "duration": 26,
    "start_time": "2021-08-02T20:13:48.574Z"
   },
   {
    "duration": 5,
    "start_time": "2021-08-02T20:13:58.268Z"
   },
   {
    "duration": 19,
    "start_time": "2021-08-02T20:13:59.680Z"
   },
   {
    "duration": 16,
    "start_time": "2021-08-02T20:16:55.931Z"
   },
   {
    "duration": 19,
    "start_time": "2021-08-02T20:17:08.635Z"
   },
   {
    "duration": 19,
    "start_time": "2021-08-02T20:17:16.718Z"
   },
   {
    "duration": 16,
    "start_time": "2021-08-02T20:17:18.051Z"
   },
   {
    "duration": 17,
    "start_time": "2021-08-02T20:17:19.074Z"
   },
   {
    "duration": 16,
    "start_time": "2021-08-02T20:17:32.701Z"
   },
   {
    "duration": 18,
    "start_time": "2021-08-02T20:17:39.056Z"
   },
   {
    "duration": 18,
    "start_time": "2021-08-02T20:17:51.929Z"
   },
   {
    "duration": 5,
    "start_time": "2021-08-02T20:25:59.462Z"
   },
   {
    "duration": 8,
    "start_time": "2021-08-02T20:29:44.957Z"
   },
   {
    "duration": 11,
    "start_time": "2021-08-02T20:35:22.060Z"
   },
   {
    "duration": 10,
    "start_time": "2021-08-02T20:35:29.917Z"
   },
   {
    "duration": 21,
    "start_time": "2021-08-02T20:36:06.937Z"
   },
   {
    "duration": 84,
    "start_time": "2021-08-02T21:02:52.833Z"
   },
   {
    "duration": 4,
    "start_time": "2021-08-02T21:03:05.081Z"
   },
   {
    "duration": 76,
    "start_time": "2021-08-02T21:05:16.774Z"
   },
   {
    "duration": 6255,
    "start_time": "2021-08-02T21:05:29.433Z"
   },
   {
    "duration": 6140,
    "start_time": "2021-08-02T21:05:40.092Z"
   },
   {
    "duration": 5730,
    "start_time": "2021-08-02T21:06:01.421Z"
   },
   {
    "duration": 12,
    "start_time": "2021-08-02T21:06:55.018Z"
   },
   {
    "duration": 5742,
    "start_time": "2021-08-02T21:07:41.766Z"
   },
   {
    "duration": 5,
    "start_time": "2021-08-02T21:08:41.998Z"
   },
   {
    "duration": 5823,
    "start_time": "2021-08-02T21:08:43.920Z"
   },
   {
    "duration": 4,
    "start_time": "2021-08-02T21:11:21.196Z"
   },
   {
    "duration": 5399,
    "start_time": "2021-08-02T21:11:24.093Z"
   },
   {
    "duration": 4,
    "start_time": "2021-08-02T21:12:00.481Z"
   },
   {
    "duration": 6051,
    "start_time": "2021-08-02T21:12:02.033Z"
   },
   {
    "duration": 4,
    "start_time": "2021-08-02T21:13:23.931Z"
   },
   {
    "duration": 4,
    "start_time": "2021-08-02T21:13:32.072Z"
   },
   {
    "duration": 5334,
    "start_time": "2021-08-02T21:13:33.994Z"
   },
   {
    "duration": 4,
    "start_time": "2021-08-02T21:15:29.196Z"
   },
   {
    "duration": 5978,
    "start_time": "2021-08-02T21:15:30.720Z"
   },
   {
    "duration": 7,
    "start_time": "2021-08-11T19:55:20.194Z"
   },
   {
    "duration": 317,
    "start_time": "2021-08-11T19:55:22.216Z"
   },
   {
    "duration": 722,
    "start_time": "2021-08-11T19:55:34.841Z"
   },
   {
    "duration": 215,
    "start_time": "2021-08-11T19:55:35.566Z"
   },
   {
    "duration": 31,
    "start_time": "2021-08-11T19:55:35.785Z"
   },
   {
    "duration": 47,
    "start_time": "2021-08-11T19:55:35.818Z"
   },
   {
    "duration": 8,
    "start_time": "2021-08-11T19:55:35.868Z"
   },
   {
    "duration": 53,
    "start_time": "2021-08-11T19:55:35.880Z"
   },
   {
    "duration": 15,
    "start_time": "2021-08-11T19:55:35.936Z"
   },
   {
    "duration": 50,
    "start_time": "2021-08-11T19:55:35.957Z"
   },
   {
    "duration": 44,
    "start_time": "2021-08-11T19:55:36.010Z"
   },
   {
    "duration": 46,
    "start_time": "2021-08-11T19:55:36.056Z"
   },
   {
    "duration": 100,
    "start_time": "2021-08-11T19:55:36.104Z"
   },
   {
    "duration": 117,
    "start_time": "2021-08-11T19:55:36.207Z"
   },
   {
    "duration": 93,
    "start_time": "2021-08-11T19:55:36.326Z"
   },
   {
    "duration": 10,
    "start_time": "2021-08-11T19:55:36.422Z"
   },
   {
    "duration": 9,
    "start_time": "2021-08-11T19:55:36.435Z"
   },
   {
    "duration": 17,
    "start_time": "2021-08-11T19:55:36.446Z"
   },
   {
    "duration": 37,
    "start_time": "2021-08-11T19:55:36.466Z"
   },
   {
    "duration": 46,
    "start_time": "2021-08-11T19:55:36.506Z"
   },
   {
    "duration": 79,
    "start_time": "2021-08-11T19:55:36.554Z"
   },
   {
    "duration": 4,
    "start_time": "2021-08-11T19:55:36.636Z"
   },
   {
    "duration": 43,
    "start_time": "2021-08-11T19:55:36.642Z"
   },
   {
    "duration": 22,
    "start_time": "2021-08-11T19:55:36.688Z"
   },
   {
    "duration": 42,
    "start_time": "2021-08-11T19:55:36.715Z"
   },
   {
    "duration": 21,
    "start_time": "2021-08-11T19:55:36.760Z"
   },
   {
    "duration": 32,
    "start_time": "2021-08-11T19:55:36.783Z"
   },
   {
    "duration": 19,
    "start_time": "2021-08-11T19:55:36.817Z"
   },
   {
    "duration": 17,
    "start_time": "2021-08-11T19:55:36.838Z"
   },
   {
    "duration": 43,
    "start_time": "2021-08-11T19:55:36.857Z"
   },
   {
    "duration": 12,
    "start_time": "2021-08-11T19:55:36.903Z"
   },
   {
    "duration": 6,
    "start_time": "2021-08-11T19:55:36.917Z"
   },
   {
    "duration": 6936,
    "start_time": "2021-08-11T19:55:36.925Z"
   },
   {
    "duration": -860,
    "start_time": "2021-08-11T19:55:44.723Z"
   },
   {
    "duration": -869,
    "start_time": "2021-08-11T19:55:44.734Z"
   },
   {
    "duration": -877,
    "start_time": "2021-08-11T19:55:44.743Z"
   },
   {
    "duration": -885,
    "start_time": "2021-08-11T19:55:44.753Z"
   },
   {
    "duration": -896,
    "start_time": "2021-08-11T19:55:44.765Z"
   },
   {
    "duration": -945,
    "start_time": "2021-08-11T19:55:44.815Z"
   },
   {
    "duration": -952,
    "start_time": "2021-08-11T19:55:44.824Z"
   },
   {
    "duration": 6956,
    "start_time": "2021-08-11T19:57:37.386Z"
   },
   {
    "duration": 8285,
    "start_time": "2021-08-11T19:58:03.429Z"
   },
   {
    "duration": 5,
    "start_time": "2021-08-11T19:58:19.768Z"
   },
   {
    "duration": 7283,
    "start_time": "2021-08-11T19:58:21.675Z"
   },
   {
    "duration": 719,
    "start_time": "2021-08-14T13:52:45.577Z"
   },
   {
    "duration": 183,
    "start_time": "2021-08-14T13:52:46.298Z"
   },
   {
    "duration": 25,
    "start_time": "2021-08-14T13:52:46.484Z"
   },
   {
    "duration": 55,
    "start_time": "2021-08-14T13:52:46.512Z"
   },
   {
    "duration": 5,
    "start_time": "2021-08-14T13:52:46.570Z"
   },
   {
    "duration": 36,
    "start_time": "2021-08-14T13:52:46.577Z"
   },
   {
    "duration": 5,
    "start_time": "2021-08-14T13:52:46.615Z"
   },
   {
    "duration": 55,
    "start_time": "2021-08-14T13:52:46.623Z"
   },
   {
    "duration": 42,
    "start_time": "2021-08-14T13:52:46.682Z"
   },
   {
    "duration": 35,
    "start_time": "2021-08-14T13:52:46.727Z"
   },
   {
    "duration": 100,
    "start_time": "2021-08-14T13:52:46.765Z"
   },
   {
    "duration": 110,
    "start_time": "2021-08-14T13:52:46.868Z"
   },
   {
    "duration": 82,
    "start_time": "2021-08-14T13:52:46.980Z"
   },
   {
    "duration": 8,
    "start_time": "2021-08-14T13:52:47.064Z"
   },
   {
    "duration": 7,
    "start_time": "2021-08-14T13:52:47.075Z"
   },
   {
    "duration": 18,
    "start_time": "2021-08-14T13:52:47.085Z"
   },
   {
    "duration": 10,
    "start_time": "2021-08-14T13:52:47.106Z"
   },
   {
    "duration": 67,
    "start_time": "2021-08-14T13:52:47.157Z"
   },
   {
    "duration": 61,
    "start_time": "2021-08-14T13:52:47.226Z"
   },
   {
    "duration": 5,
    "start_time": "2021-08-14T13:52:47.289Z"
   },
   {
    "duration": 41,
    "start_time": "2021-08-14T13:52:47.297Z"
   },
   {
    "duration": 33,
    "start_time": "2021-08-14T13:52:47.357Z"
   },
   {
    "duration": 31,
    "start_time": "2021-08-14T13:52:47.397Z"
   },
   {
    "duration": 29,
    "start_time": "2021-08-14T13:52:47.456Z"
   },
   {
    "duration": 33,
    "start_time": "2021-08-14T13:52:47.487Z"
   },
   {
    "duration": 49,
    "start_time": "2021-08-14T13:52:47.523Z"
   },
   {
    "duration": 12,
    "start_time": "2021-08-14T13:52:47.574Z"
   },
   {
    "duration": 20,
    "start_time": "2021-08-14T13:52:47.588Z"
   },
   {
    "duration": 11,
    "start_time": "2021-08-14T13:52:47.611Z"
   },
   {
    "duration": 35,
    "start_time": "2021-08-14T13:52:47.624Z"
   },
   {
    "duration": 6733,
    "start_time": "2021-08-14T13:52:47.661Z"
   },
   {
    "duration": -622,
    "start_time": "2021-08-14T13:52:55.019Z"
   },
   {
    "duration": -626,
    "start_time": "2021-08-14T13:52:55.024Z"
   },
   {
    "duration": -630,
    "start_time": "2021-08-14T13:52:55.030Z"
   },
   {
    "duration": -630,
    "start_time": "2021-08-14T13:52:55.032Z"
   },
   {
    "duration": -631,
    "start_time": "2021-08-14T13:52:55.034Z"
   },
   {
    "duration": -632,
    "start_time": "2021-08-14T13:52:55.037Z"
   },
   {
    "duration": -633,
    "start_time": "2021-08-14T13:52:55.039Z"
   },
   {
    "duration": 6,
    "start_time": "2021-08-14T14:03:22.923Z"
   },
   {
    "duration": 6,
    "start_time": "2021-08-14T14:04:33.232Z"
   },
   {
    "duration": 5,
    "start_time": "2021-08-14T14:05:00.219Z"
   },
   {
    "duration": 6,
    "start_time": "2021-08-14T14:10:08.284Z"
   },
   {
    "duration": 5,
    "start_time": "2021-08-14T14:10:24.979Z"
   },
   {
    "duration": 6,
    "start_time": "2021-08-14T14:10:30.369Z"
   },
   {
    "duration": 6,
    "start_time": "2021-08-14T15:33:46.569Z"
   },
   {
    "duration": 1325,
    "start_time": "2021-08-14T15:33:48.794Z"
   },
   {
    "duration": 6,
    "start_time": "2021-08-14T15:35:09.580Z"
   },
   {
    "duration": 2002,
    "start_time": "2021-08-14T15:35:11.780Z"
   },
   {
    "duration": 6,
    "start_time": "2021-08-14T15:54:51.799Z"
   },
   {
    "duration": 522,
    "start_time": "2021-08-14T15:54:53.828Z"
   },
   {
    "duration": 6,
    "start_time": "2021-08-14T15:57:20.997Z"
   },
   {
    "duration": 563,
    "start_time": "2021-08-14T15:57:22.381Z"
   },
   {
    "duration": 5,
    "start_time": "2021-08-14T15:58:01.672Z"
   },
   {
    "duration": 21,
    "start_time": "2021-08-14T15:58:02.608Z"
   },
   {
    "duration": 523,
    "start_time": "2021-08-14T19:53:36.933Z"
   },
   {
    "duration": 121,
    "start_time": "2021-08-14T19:53:37.458Z"
   },
   {
    "duration": 16,
    "start_time": "2021-08-14T19:53:37.581Z"
   },
   {
    "duration": 23,
    "start_time": "2021-08-14T19:53:37.599Z"
   },
   {
    "duration": 3,
    "start_time": "2021-08-14T19:53:37.624Z"
   },
   {
    "duration": 20,
    "start_time": "2021-08-14T19:53:37.629Z"
   },
   {
    "duration": 6,
    "start_time": "2021-08-14T19:53:37.650Z"
   },
   {
    "duration": 19,
    "start_time": "2021-08-14T19:53:37.691Z"
   },
   {
    "duration": 28,
    "start_time": "2021-08-14T19:53:37.712Z"
   },
   {
    "duration": 19,
    "start_time": "2021-08-14T19:53:37.742Z"
   },
   {
    "duration": 72,
    "start_time": "2021-08-14T19:53:37.762Z"
   },
   {
    "duration": 68,
    "start_time": "2021-08-14T19:53:37.836Z"
   },
   {
    "duration": 43,
    "start_time": "2021-08-14T19:53:37.906Z"
   },
   {
    "duration": 5,
    "start_time": "2021-08-14T19:53:37.950Z"
   },
   {
    "duration": 3,
    "start_time": "2021-08-14T19:53:37.957Z"
   },
   {
    "duration": 30,
    "start_time": "2021-08-14T19:53:37.961Z"
   },
   {
    "duration": 6,
    "start_time": "2021-08-14T19:53:37.992Z"
   },
   {
    "duration": 30,
    "start_time": "2021-08-14T19:53:37.999Z"
   },
   {
    "duration": 28,
    "start_time": "2021-08-14T19:53:38.030Z"
   },
   {
    "duration": 3,
    "start_time": "2021-08-14T19:53:38.059Z"
   },
   {
    "duration": 39,
    "start_time": "2021-08-14T19:53:38.063Z"
   },
   {
    "duration": 12,
    "start_time": "2021-08-14T19:53:38.104Z"
   },
   {
    "duration": 13,
    "start_time": "2021-08-14T19:53:38.118Z"
   },
   {
    "duration": 12,
    "start_time": "2021-08-14T19:53:38.133Z"
   },
   {
    "duration": 15,
    "start_time": "2021-08-14T19:53:38.146Z"
   },
   {
    "duration": 38,
    "start_time": "2021-08-14T19:53:38.162Z"
   },
   {
    "duration": 6,
    "start_time": "2021-08-14T19:53:38.202Z"
   },
   {
    "duration": 36,
    "start_time": "2021-08-14T19:53:38.210Z"
   },
   {
    "duration": 8,
    "start_time": "2021-08-14T19:53:38.247Z"
   },
   {
    "duration": 10,
    "start_time": "2021-08-14T19:53:38.257Z"
   },
   {
    "duration": 30,
    "start_time": "2021-08-14T19:53:38.268Z"
   },
   {
    "duration": 2,
    "start_time": "2021-08-14T19:53:38.299Z"
   },
   {
    "duration": 7,
    "start_time": "2021-08-14T19:53:38.303Z"
   },
   {
    "duration": 8,
    "start_time": "2021-08-14T19:53:38.312Z"
   },
   {
    "duration": 7,
    "start_time": "2021-08-14T19:53:38.321Z"
   },
   {
    "duration": 6,
    "start_time": "2021-08-14T19:53:38.330Z"
   },
   {
    "duration": 7,
    "start_time": "2021-08-14T19:53:38.338Z"
   },
   {
    "duration": 7,
    "start_time": "2021-08-14T19:53:38.346Z"
   },
   {
    "duration": 3,
    "start_time": "2021-08-14T19:54:02.395Z"
   },
   {
    "duration": 530,
    "start_time": "2021-08-14T19:54:03.526Z"
   },
   {
    "duration": 3,
    "start_time": "2021-08-14T19:55:30.833Z"
   },
   {
    "duration": 15,
    "start_time": "2021-08-14T19:55:32.091Z"
   },
   {
    "duration": 4,
    "start_time": "2021-08-14T19:56:50.071Z"
   },
   {
    "duration": 21,
    "start_time": "2021-08-14T19:56:51.186Z"
   },
   {
    "duration": 3,
    "start_time": "2021-08-14T19:57:02.139Z"
   },
   {
    "duration": 17,
    "start_time": "2021-08-14T19:57:03.115Z"
   },
   {
    "duration": 13,
    "start_time": "2021-08-14T19:59:07.761Z"
   },
   {
    "duration": 19,
    "start_time": "2021-08-14T19:59:08.993Z"
   },
   {
    "duration": 14,
    "start_time": "2021-08-14T19:59:15.453Z"
   },
   {
    "duration": 4,
    "start_time": "2021-08-14T20:02:20.518Z"
   },
   {
    "duration": 18,
    "start_time": "2021-08-14T20:02:21.864Z"
   },
   {
    "duration": 13,
    "start_time": "2021-08-14T20:02:22.558Z"
   },
   {
    "duration": 20,
    "start_time": "2021-08-14T20:02:23.502Z"
   },
   {
    "duration": 13,
    "start_time": "2021-08-14T20:02:24.323Z"
   },
   {
    "duration": 561,
    "start_time": "2021-08-14T23:46:36.887Z"
   },
   {
    "duration": 125,
    "start_time": "2021-08-14T23:46:37.449Z"
   },
   {
    "duration": 15,
    "start_time": "2021-08-14T23:46:37.576Z"
   },
   {
    "duration": 23,
    "start_time": "2021-08-14T23:46:37.593Z"
   },
   {
    "duration": 3,
    "start_time": "2021-08-14T23:46:37.618Z"
   },
   {
    "duration": 33,
    "start_time": "2021-08-14T23:46:37.623Z"
   },
   {
    "duration": 3,
    "start_time": "2021-08-14T23:46:37.657Z"
   },
   {
    "duration": 21,
    "start_time": "2021-08-14T23:46:37.663Z"
   },
   {
    "duration": 27,
    "start_time": "2021-08-14T23:46:37.686Z"
   },
   {
    "duration": 40,
    "start_time": "2021-08-14T23:46:37.715Z"
   },
   {
    "duration": 62,
    "start_time": "2021-08-14T23:46:37.757Z"
   },
   {
    "duration": 70,
    "start_time": "2021-08-14T23:46:37.820Z"
   },
   {
    "duration": 54,
    "start_time": "2021-08-14T23:46:37.892Z"
   },
   {
    "duration": 6,
    "start_time": "2021-08-14T23:46:37.948Z"
   },
   {
    "duration": 4,
    "start_time": "2021-08-14T23:46:37.956Z"
   },
   {
    "duration": 10,
    "start_time": "2021-08-14T23:46:37.962Z"
   },
   {
    "duration": 7,
    "start_time": "2021-08-14T23:46:37.974Z"
   },
   {
    "duration": 62,
    "start_time": "2021-08-14T23:46:37.983Z"
   },
   {
    "duration": 29,
    "start_time": "2021-08-14T23:46:38.048Z"
   },
   {
    "duration": 5,
    "start_time": "2021-08-14T23:46:38.079Z"
   },
   {
    "duration": 23,
    "start_time": "2021-08-14T23:46:38.085Z"
   },
   {
    "duration": 36,
    "start_time": "2021-08-14T23:46:38.110Z"
   },
   {
    "duration": 15,
    "start_time": "2021-08-14T23:46:38.150Z"
   },
   {
    "duration": 16,
    "start_time": "2021-08-14T23:46:38.167Z"
   },
   {
    "duration": 18,
    "start_time": "2021-08-14T23:46:38.184Z"
   },
   {
    "duration": 49,
    "start_time": "2021-08-14T23:46:38.204Z"
   },
   {
    "duration": 7,
    "start_time": "2021-08-14T23:46:38.255Z"
   },
   {
    "duration": 11,
    "start_time": "2021-08-14T23:46:38.263Z"
   },
   {
    "duration": 9,
    "start_time": "2021-08-14T23:46:38.276Z"
   },
   {
    "duration": 4,
    "start_time": "2021-08-14T23:46:38.286Z"
   },
   {
    "duration": 22,
    "start_time": "2021-08-14T23:46:38.291Z"
   },
   {
    "duration": 38,
    "start_time": "2021-08-14T23:46:38.314Z"
   },
   {
    "duration": 18,
    "start_time": "2021-08-14T23:46:38.354Z"
   },
   {
    "duration": 13,
    "start_time": "2021-08-14T23:46:38.374Z"
   },
   {
    "duration": 2,
    "start_time": "2021-08-14T23:46:38.388Z"
   },
   {
    "duration": 5,
    "start_time": "2021-08-14T23:46:38.392Z"
   },
   {
    "duration": 4,
    "start_time": "2021-08-14T23:46:38.398Z"
   },
   {
    "duration": 6,
    "start_time": "2021-08-14T23:46:38.403Z"
   },
   {
    "duration": 317,
    "start_time": "2021-08-14T23:46:53.622Z"
   },
   {
    "duration": 730,
    "start_time": "2021-08-14T23:47:33.322Z"
   },
   {
    "duration": 301,
    "start_time": "2021-08-14T23:48:04.138Z"
   },
   {
    "duration": 276,
    "start_time": "2021-08-14T23:50:23.639Z"
   },
   {
    "duration": -1016,
    "start_time": "2021-08-14T23:50:24.935Z"
   },
   {
    "duration": 358,
    "start_time": "2021-08-14T23:50:46.090Z"
   },
   {
    "duration": 3,
    "start_time": "2021-08-14T23:50:49.498Z"
   },
   {
    "duration": 140,
    "start_time": "2021-08-14T23:50:49.504Z"
   },
   {
    "duration": 9,
    "start_time": "2021-08-14T23:50:49.646Z"
   },
   {
    "duration": 23,
    "start_time": "2021-08-14T23:50:49.658Z"
   },
   {
    "duration": 5,
    "start_time": "2021-08-14T23:50:49.683Z"
   },
   {
    "duration": 23,
    "start_time": "2021-08-14T23:50:49.689Z"
   },
   {
    "duration": 4,
    "start_time": "2021-08-14T23:50:49.713Z"
   },
   {
    "duration": 21,
    "start_time": "2021-08-14T23:50:49.741Z"
   },
   {
    "duration": 31,
    "start_time": "2021-08-14T23:50:49.765Z"
   },
   {
    "duration": 45,
    "start_time": "2021-08-14T23:50:49.798Z"
   },
   {
    "duration": 51,
    "start_time": "2021-08-14T23:50:49.845Z"
   },
   {
    "duration": 76,
    "start_time": "2021-08-14T23:50:49.898Z"
   },
   {
    "duration": 45,
    "start_time": "2021-08-14T23:50:49.975Z"
   },
   {
    "duration": 5,
    "start_time": "2021-08-14T23:50:50.022Z"
   },
   {
    "duration": 3,
    "start_time": "2021-08-14T23:50:50.040Z"
   },
   {
    "duration": 13,
    "start_time": "2021-08-14T23:50:50.045Z"
   },
   {
    "duration": 6,
    "start_time": "2021-08-14T23:50:50.060Z"
   },
   {
    "duration": 35,
    "start_time": "2021-08-14T23:50:50.068Z"
   },
   {
    "duration": 46,
    "start_time": "2021-08-14T23:50:50.105Z"
   },
   {
    "duration": 3,
    "start_time": "2021-08-14T23:50:50.153Z"
   },
   {
    "duration": 21,
    "start_time": "2021-08-14T23:50:50.157Z"
   },
   {
    "duration": 15,
    "start_time": "2021-08-14T23:50:50.179Z"
   },
   {
    "duration": 14,
    "start_time": "2021-08-14T23:50:50.195Z"
   },
   {
    "duration": 38,
    "start_time": "2021-08-14T23:50:50.212Z"
   },
   {
    "duration": 15,
    "start_time": "2021-08-14T23:50:50.252Z"
   },
   {
    "duration": 14,
    "start_time": "2021-08-14T23:50:50.269Z"
   },
   {
    "duration": 10,
    "start_time": "2021-08-14T23:50:50.285Z"
   },
   {
    "duration": 45,
    "start_time": "2021-08-14T23:50:50.296Z"
   },
   {
    "duration": 12,
    "start_time": "2021-08-14T23:50:50.343Z"
   },
   {
    "duration": 5,
    "start_time": "2021-08-14T23:50:50.356Z"
   },
   {
    "duration": 23,
    "start_time": "2021-08-14T23:50:50.363Z"
   },
   {
    "duration": 12,
    "start_time": "2021-08-14T23:50:50.388Z"
   },
   {
    "duration": 40,
    "start_time": "2021-08-14T23:50:50.402Z"
   },
   {
    "duration": 14,
    "start_time": "2021-08-14T23:50:50.443Z"
   },
   {
    "duration": 295,
    "start_time": "2021-08-14T23:50:50.459Z"
   },
   {
    "duration": -949,
    "start_time": "2021-08-14T23:50:51.705Z"
   },
   {
    "duration": -958,
    "start_time": "2021-08-14T23:50:51.715Z"
   },
   {
    "duration": -966,
    "start_time": "2021-08-14T23:50:51.724Z"
   },
   {
    "duration": 378,
    "start_time": "2021-08-14T23:51:20.603Z"
   },
   {
    "duration": 95,
    "start_time": "2021-08-14T23:52:00.260Z"
   },
   {
    "duration": 101,
    "start_time": "2021-08-14T23:54:07.171Z"
   },
   {
    "duration": 86,
    "start_time": "2021-08-14T23:54:18.393Z"
   },
   {
    "duration": 275,
    "start_time": "2021-08-14T23:54:24.590Z"
   },
   {
    "duration": 265,
    "start_time": "2021-08-15T00:01:41.592Z"
   },
   {
    "duration": 245,
    "start_time": "2021-08-15T00:02:08.547Z"
   },
   {
    "duration": 305,
    "start_time": "2021-08-15T00:02:42.040Z"
   },
   {
    "duration": 247,
    "start_time": "2021-08-15T00:03:33.520Z"
   },
   {
    "duration": 252,
    "start_time": "2021-08-15T00:05:01.933Z"
   },
   {
    "duration": 269,
    "start_time": "2021-08-15T00:05:11.885Z"
   },
   {
    "duration": 285,
    "start_time": "2021-08-15T00:05:43.158Z"
   },
   {
    "duration": 264,
    "start_time": "2021-08-15T00:06:21.781Z"
   },
   {
    "duration": 7,
    "start_time": "2021-08-15T00:07:05.005Z"
   },
   {
    "duration": 12,
    "start_time": "2021-08-15T00:07:34.121Z"
   },
   {
    "duration": 2,
    "start_time": "2021-08-15T00:07:43.508Z"
   },
   {
    "duration": 129,
    "start_time": "2021-08-15T00:07:43.514Z"
   },
   {
    "duration": 9,
    "start_time": "2021-08-15T00:07:43.645Z"
   },
   {
    "duration": 26,
    "start_time": "2021-08-15T00:07:43.657Z"
   },
   {
    "duration": 4,
    "start_time": "2021-08-15T00:07:43.684Z"
   },
   {
    "duration": 16,
    "start_time": "2021-08-15T00:07:43.689Z"
   },
   {
    "duration": 34,
    "start_time": "2021-08-15T00:07:43.707Z"
   },
   {
    "duration": 24,
    "start_time": "2021-08-15T00:07:43.744Z"
   },
   {
    "duration": 32,
    "start_time": "2021-08-15T00:07:43.770Z"
   },
   {
    "duration": 37,
    "start_time": "2021-08-15T00:07:43.804Z"
   },
   {
    "duration": 52,
    "start_time": "2021-08-15T00:07:43.843Z"
   },
   {
    "duration": 79,
    "start_time": "2021-08-15T00:07:43.897Z"
   },
   {
    "duration": 44,
    "start_time": "2021-08-15T00:07:43.978Z"
   },
   {
    "duration": 5,
    "start_time": "2021-08-15T00:07:44.024Z"
   },
   {
    "duration": 2,
    "start_time": "2021-08-15T00:07:44.041Z"
   },
   {
    "duration": 10,
    "start_time": "2021-08-15T00:07:44.045Z"
   },
   {
    "duration": 5,
    "start_time": "2021-08-15T00:07:44.057Z"
   },
   {
    "duration": 38,
    "start_time": "2021-08-15T00:07:44.064Z"
   },
   {
    "duration": 48,
    "start_time": "2021-08-15T00:07:44.103Z"
   },
   {
    "duration": 4,
    "start_time": "2021-08-15T00:07:44.153Z"
   },
   {
    "duration": 21,
    "start_time": "2021-08-15T00:07:44.159Z"
   },
   {
    "duration": 14,
    "start_time": "2021-08-15T00:07:44.182Z"
   },
   {
    "duration": 14,
    "start_time": "2021-08-15T00:07:44.197Z"
   },
   {
    "duration": 40,
    "start_time": "2021-08-15T00:07:44.214Z"
   },
   {
    "duration": 17,
    "start_time": "2021-08-15T00:07:44.255Z"
   },
   {
    "duration": 14,
    "start_time": "2021-08-15T00:07:44.274Z"
   },
   {
    "duration": 7,
    "start_time": "2021-08-15T00:07:44.289Z"
   },
   {
    "duration": 43,
    "start_time": "2021-08-15T00:07:44.298Z"
   },
   {
    "duration": 13,
    "start_time": "2021-08-15T00:07:44.342Z"
   },
   {
    "duration": 4,
    "start_time": "2021-08-15T00:07:44.356Z"
   },
   {
    "duration": 23,
    "start_time": "2021-08-15T00:07:44.362Z"
   },
   {
    "duration": 12,
    "start_time": "2021-08-15T00:07:44.387Z"
   },
   {
    "duration": 41,
    "start_time": "2021-08-15T00:07:44.401Z"
   },
   {
    "duration": 15,
    "start_time": "2021-08-15T00:07:44.443Z"
   },
   {
    "duration": 12,
    "start_time": "2021-08-15T00:07:44.459Z"
   },
   {
    "duration": 250,
    "start_time": "2021-08-15T00:07:44.473Z"
   },
   {
    "duration": -957,
    "start_time": "2021-08-15T00:07:45.682Z"
   },
   {
    "duration": -994,
    "start_time": "2021-08-15T00:07:45.720Z"
   },
   {
    "duration": 11,
    "start_time": "2021-08-15T00:08:52.322Z"
   },
   {
    "duration": 11,
    "start_time": "2021-08-15T00:09:49.289Z"
   },
   {
    "duration": 5,
    "start_time": "2021-08-15T00:09:54.891Z"
   },
   {
    "duration": 262,
    "start_time": "2021-08-15T00:10:45.776Z"
   },
   {
    "duration": 257,
    "start_time": "2021-08-15T00:11:00.625Z"
   },
   {
    "duration": 3,
    "start_time": "2021-08-15T00:17:31.673Z"
   },
   {
    "duration": 9,
    "start_time": "2021-08-15T00:19:48.137Z"
   },
   {
    "duration": 5,
    "start_time": "2021-08-15T00:19:51.299Z"
   },
   {
    "duration": 251,
    "start_time": "2021-08-15T00:21:43.897Z"
   },
   {
    "duration": 252,
    "start_time": "2021-08-15T00:22:10.666Z"
   },
   {
    "duration": 7,
    "start_time": "2021-08-15T00:22:20.049Z"
   },
   {
    "duration": 4,
    "start_time": "2021-08-15T00:22:38.114Z"
   },
   {
    "duration": 5,
    "start_time": "2021-08-15T00:22:49.192Z"
   },
   {
    "duration": 756,
    "start_time": "2021-08-15T07:00:50.176Z"
   },
   {
    "duration": 181,
    "start_time": "2021-08-15T07:00:50.935Z"
   },
   {
    "duration": 25,
    "start_time": "2021-08-15T07:00:51.119Z"
   },
   {
    "duration": 33,
    "start_time": "2021-08-15T07:00:51.156Z"
   },
   {
    "duration": 5,
    "start_time": "2021-08-15T07:00:51.192Z"
   },
   {
    "duration": 57,
    "start_time": "2021-08-15T07:00:51.200Z"
   },
   {
    "duration": 5,
    "start_time": "2021-08-15T07:00:51.259Z"
   },
   {
    "duration": 31,
    "start_time": "2021-08-15T07:00:51.268Z"
   },
   {
    "duration": 64,
    "start_time": "2021-08-15T07:00:51.303Z"
   },
   {
    "duration": 27,
    "start_time": "2021-08-15T07:00:51.370Z"
   },
   {
    "duration": 105,
    "start_time": "2021-08-15T07:00:51.399Z"
   },
   {
    "duration": 106,
    "start_time": "2021-08-15T07:00:51.506Z"
   },
   {
    "duration": 83,
    "start_time": "2021-08-15T07:00:51.614Z"
   },
   {
    "duration": 7,
    "start_time": "2021-08-15T07:00:51.700Z"
   },
   {
    "duration": 4,
    "start_time": "2021-08-15T07:00:51.710Z"
   },
   {
    "duration": 40,
    "start_time": "2021-08-15T07:00:51.716Z"
   },
   {
    "duration": 8,
    "start_time": "2021-08-15T07:00:51.758Z"
   },
   {
    "duration": 44,
    "start_time": "2021-08-15T07:00:51.769Z"
   },
   {
    "duration": 72,
    "start_time": "2021-08-15T07:00:51.816Z"
   },
   {
    "duration": 5,
    "start_time": "2021-08-15T07:00:51.890Z"
   },
   {
    "duration": 28,
    "start_time": "2021-08-15T07:00:51.897Z"
   },
   {
    "duration": 40,
    "start_time": "2021-08-15T07:00:51.928Z"
   },
   {
    "duration": 22,
    "start_time": "2021-08-15T07:00:51.973Z"
   },
   {
    "duration": 18,
    "start_time": "2021-08-15T07:00:51.998Z"
   },
   {
    "duration": 61,
    "start_time": "2021-08-15T07:00:52.019Z"
   },
   {
    "duration": 25,
    "start_time": "2021-08-15T07:00:52.083Z"
   },
   {
    "duration": 13,
    "start_time": "2021-08-15T07:00:52.111Z"
   },
   {
    "duration": 17,
    "start_time": "2021-08-15T07:00:52.157Z"
   },
   {
    "duration": 15,
    "start_time": "2021-08-15T07:00:52.177Z"
   },
   {
    "duration": 8,
    "start_time": "2021-08-15T07:00:52.194Z"
   },
   {
    "duration": 70,
    "start_time": "2021-08-15T07:00:52.205Z"
   },
   {
    "duration": 21,
    "start_time": "2021-08-15T07:00:52.278Z"
   },
   {
    "duration": 57,
    "start_time": "2021-08-15T07:00:52.302Z"
   },
   {
    "duration": 23,
    "start_time": "2021-08-15T07:00:52.362Z"
   },
   {
    "duration": 15,
    "start_time": "2021-08-15T07:00:52.388Z"
   },
   {
    "duration": 8,
    "start_time": "2021-08-15T07:00:52.406Z"
   },
   {
    "duration": 11,
    "start_time": "2021-08-15T07:00:52.456Z"
   },
   {
    "duration": 8,
    "start_time": "2021-08-15T07:00:52.469Z"
   },
   {
    "duration": 7,
    "start_time": "2021-08-15T07:01:09.236Z"
   },
   {
    "duration": 4,
    "start_time": "2021-08-15T07:04:01.306Z"
   },
   {
    "duration": 227,
    "start_time": "2021-08-15T07:04:01.312Z"
   },
   {
    "duration": 20,
    "start_time": "2021-08-15T07:04:01.543Z"
   },
   {
    "duration": 71,
    "start_time": "2021-08-15T07:04:01.566Z"
   },
   {
    "duration": 31,
    "start_time": "2021-08-15T07:04:01.639Z"
   },
   {
    "duration": 44,
    "start_time": "2021-08-15T07:04:01.672Z"
   },
   {
    "duration": 15,
    "start_time": "2021-08-15T07:04:01.719Z"
   },
   {
    "duration": 68,
    "start_time": "2021-08-15T07:04:01.737Z"
   },
   {
    "duration": 65,
    "start_time": "2021-08-15T07:04:01.809Z"
   },
   {
    "duration": 29,
    "start_time": "2021-08-15T07:04:01.878Z"
   },
   {
    "duration": 109,
    "start_time": "2021-08-15T07:04:01.910Z"
   },
   {
    "duration": 130,
    "start_time": "2021-08-15T07:04:02.022Z"
   },
   {
    "duration": 124,
    "start_time": "2021-08-15T07:04:02.157Z"
   },
   {
    "duration": 12,
    "start_time": "2021-08-15T07:04:02.284Z"
   },
   {
    "duration": 71,
    "start_time": "2021-08-15T07:04:02.299Z"
   },
   {
    "duration": 40,
    "start_time": "2021-08-15T07:04:02.372Z"
   },
   {
    "duration": 21,
    "start_time": "2021-08-15T07:04:02.414Z"
   },
   {
    "duration": 66,
    "start_time": "2021-08-15T07:04:02.437Z"
   },
   {
    "duration": 44,
    "start_time": "2021-08-15T07:04:02.505Z"
   },
   {
    "duration": 5,
    "start_time": "2021-08-15T07:04:02.556Z"
   },
   {
    "duration": 46,
    "start_time": "2021-08-15T07:04:02.564Z"
   },
   {
    "duration": 22,
    "start_time": "2021-08-15T07:04:02.612Z"
   },
   {
    "duration": 34,
    "start_time": "2021-08-15T07:04:02.637Z"
   },
   {
    "duration": 21,
    "start_time": "2021-08-15T07:04:02.674Z"
   },
   {
    "duration": 39,
    "start_time": "2021-08-15T07:04:02.698Z"
   },
   {
    "duration": 35,
    "start_time": "2021-08-15T07:04:02.739Z"
   },
   {
    "duration": 12,
    "start_time": "2021-08-15T07:04:02.779Z"
   },
   {
    "duration": 28,
    "start_time": "2021-08-15T07:04:02.794Z"
   },
   {
    "duration": 41,
    "start_time": "2021-08-15T07:04:02.825Z"
   },
   {
    "duration": 6,
    "start_time": "2021-08-15T07:04:02.868Z"
   },
   {
    "duration": 42,
    "start_time": "2021-08-15T07:04:02.877Z"
   },
   {
    "duration": 19,
    "start_time": "2021-08-15T07:04:02.921Z"
   },
   {
    "duration": 30,
    "start_time": "2021-08-15T07:04:02.956Z"
   },
   {
    "duration": 23,
    "start_time": "2021-08-15T07:04:02.989Z"
   },
   {
    "duration": 49,
    "start_time": "2021-08-15T07:04:03.015Z"
   },
   {
    "duration": 10,
    "start_time": "2021-08-15T07:04:03.067Z"
   },
   {
    "duration": 17,
    "start_time": "2021-08-15T07:04:03.079Z"
   },
   {
    "duration": 6,
    "start_time": "2021-08-15T07:04:03.098Z"
   },
   {
    "duration": 4,
    "start_time": "2021-08-15T07:04:43.097Z"
   },
   {
    "duration": 277,
    "start_time": "2021-08-15T07:04:43.104Z"
   },
   {
    "duration": 16,
    "start_time": "2021-08-15T07:04:43.383Z"
   },
   {
    "duration": 35,
    "start_time": "2021-08-15T07:04:43.402Z"
   },
   {
    "duration": 6,
    "start_time": "2021-08-15T07:04:43.457Z"
   },
   {
    "duration": 26,
    "start_time": "2021-08-15T07:04:43.466Z"
   },
   {
    "duration": 5,
    "start_time": "2021-08-15T07:04:43.496Z"
   },
   {
    "duration": 66,
    "start_time": "2021-08-15T07:04:43.504Z"
   },
   {
    "duration": 43,
    "start_time": "2021-08-15T07:04:43.573Z"
   },
   {
    "duration": 55,
    "start_time": "2021-08-15T07:04:43.619Z"
   },
   {
    "duration": 108,
    "start_time": "2021-08-15T07:04:43.677Z"
   },
   {
    "duration": 145,
    "start_time": "2021-08-15T07:04:43.788Z"
   },
   {
    "duration": 127,
    "start_time": "2021-08-15T07:04:43.936Z"
   },
   {
    "duration": 11,
    "start_time": "2021-08-15T07:04:44.066Z"
   },
   {
    "duration": 5,
    "start_time": "2021-08-15T07:04:44.080Z"
   },
   {
    "duration": 27,
    "start_time": "2021-08-15T07:04:44.088Z"
   },
   {
    "duration": 39,
    "start_time": "2021-08-15T07:04:44.119Z"
   },
   {
    "duration": 50,
    "start_time": "2021-08-15T07:04:44.160Z"
   },
   {
    "duration": 73,
    "start_time": "2021-08-15T07:04:44.214Z"
   },
   {
    "duration": 5,
    "start_time": "2021-08-15T07:04:44.290Z"
   },
   {
    "duration": 33,
    "start_time": "2021-08-15T07:04:44.297Z"
   },
   {
    "duration": 37,
    "start_time": "2021-08-15T07:04:44.333Z"
   },
   {
    "duration": 24,
    "start_time": "2021-08-15T07:04:44.372Z"
   },
   {
    "duration": 21,
    "start_time": "2021-08-15T07:04:44.399Z"
   },
   {
    "duration": 52,
    "start_time": "2021-08-15T07:04:44.423Z"
   },
   {
    "duration": 21,
    "start_time": "2021-08-15T07:04:44.478Z"
   },
   {
    "duration": 13,
    "start_time": "2021-08-15T07:04:44.501Z"
   },
   {
    "duration": 54,
    "start_time": "2021-08-15T07:04:44.516Z"
   },
   {
    "duration": 17,
    "start_time": "2021-08-15T07:04:44.572Z"
   },
   {
    "duration": 7,
    "start_time": "2021-08-15T07:04:44.591Z"
   },
   {
    "duration": 61,
    "start_time": "2021-08-15T07:04:44.600Z"
   },
   {
    "duration": 18,
    "start_time": "2021-08-15T07:04:44.663Z"
   },
   {
    "duration": 29,
    "start_time": "2021-08-15T07:04:44.684Z"
   },
   {
    "duration": 51,
    "start_time": "2021-08-15T07:04:44.715Z"
   },
   {
    "duration": 12,
    "start_time": "2021-08-15T07:04:44.769Z"
   },
   {
    "duration": 6,
    "start_time": "2021-08-15T07:04:44.783Z"
   },
   {
    "duration": 10,
    "start_time": "2021-08-15T07:04:44.792Z"
   },
   {
    "duration": 6,
    "start_time": "2021-08-15T07:04:44.804Z"
   },
   {
    "duration": 769,
    "start_time": "2021-08-15T07:59:48.722Z"
   },
   {
    "duration": 192,
    "start_time": "2021-08-15T07:59:49.494Z"
   },
   {
    "duration": 25,
    "start_time": "2021-08-15T07:59:49.689Z"
   },
   {
    "duration": 50,
    "start_time": "2021-08-15T07:59:49.717Z"
   },
   {
    "duration": 5,
    "start_time": "2021-08-15T07:59:49.770Z"
   },
   {
    "duration": 30,
    "start_time": "2021-08-15T07:59:49.778Z"
   },
   {
    "duration": 5,
    "start_time": "2021-08-15T07:59:49.810Z"
   },
   {
    "duration": 63,
    "start_time": "2021-08-15T07:59:49.819Z"
   },
   {
    "duration": 41,
    "start_time": "2021-08-15T07:59:49.885Z"
   },
   {
    "duration": 56,
    "start_time": "2021-08-15T07:59:49.928Z"
   },
   {
    "duration": 103,
    "start_time": "2021-08-15T07:59:49.986Z"
   },
   {
    "duration": 121,
    "start_time": "2021-08-15T07:59:50.091Z"
   },
   {
    "duration": 93,
    "start_time": "2021-08-15T07:59:50.215Z"
   },
   {
    "duration": 7,
    "start_time": "2021-08-15T07:59:50.310Z"
   },
   {
    "duration": 17,
    "start_time": "2021-08-15T07:59:50.319Z"
   },
   {
    "duration": 14,
    "start_time": "2021-08-15T07:59:50.356Z"
   },
   {
    "duration": 17,
    "start_time": "2021-08-15T07:59:50.373Z"
   },
   {
    "duration": 63,
    "start_time": "2021-08-15T07:59:50.393Z"
   },
   {
    "duration": 47,
    "start_time": "2021-08-15T07:59:50.459Z"
   },
   {
    "duration": 6,
    "start_time": "2021-08-15T07:59:50.509Z"
   },
   {
    "duration": 57,
    "start_time": "2021-08-15T07:59:50.518Z"
   },
   {
    "duration": 21,
    "start_time": "2021-08-15T07:59:50.578Z"
   },
   {
    "duration": 51,
    "start_time": "2021-08-15T07:59:50.604Z"
   },
   {
    "duration": 32,
    "start_time": "2021-08-15T07:59:50.660Z"
   },
   {
    "duration": 37,
    "start_time": "2021-08-15T07:59:50.695Z"
   },
   {
    "duration": 32,
    "start_time": "2021-08-15T07:59:50.758Z"
   },
   {
    "duration": 16,
    "start_time": "2021-08-15T07:59:50.794Z"
   },
   {
    "duration": 53,
    "start_time": "2021-08-15T07:59:50.813Z"
   },
   {
    "duration": 18,
    "start_time": "2021-08-15T07:59:50.869Z"
   },
   {
    "duration": 8,
    "start_time": "2021-08-15T07:59:50.891Z"
   },
   {
    "duration": 60,
    "start_time": "2021-08-15T07:59:50.903Z"
   },
   {
    "duration": 21,
    "start_time": "2021-08-15T07:59:50.965Z"
   },
   {
    "duration": 28,
    "start_time": "2021-08-15T07:59:50.988Z"
   },
   {
    "duration": 53,
    "start_time": "2021-08-15T07:59:51.019Z"
   },
   {
    "duration": 12,
    "start_time": "2021-08-15T07:59:51.075Z"
   },
   {
    "duration": 15,
    "start_time": "2021-08-15T07:59:51.089Z"
   },
   {
    "duration": 20,
    "start_time": "2021-08-15T07:59:51.107Z"
   },
   {
    "duration": 28,
    "start_time": "2021-08-15T07:59:51.129Z"
   },
   {
    "duration": 107,
    "start_time": "2021-08-15T08:16:14.619Z"
   },
   {
    "duration": 362,
    "start_time": "2023-02-03T18:01:23.125Z"
   }
  ],
  "colab": {
   "collapsed_sections": [
    "E0vqbgi9ay0H",
    "VUC88oWjTJw2"
   ],
   "name": "yandex_music_project_2021.2.ipynb",
   "provenance": []
  },
  "kernelspec": {
   "display_name": "Python 3 (ipykernel)",
   "language": "python",
   "name": "python3"
  },
  "language_info": {
   "codemirror_mode": {
    "name": "ipython",
    "version": 3
   },
   "file_extension": ".py",
   "mimetype": "text/x-python",
   "name": "python",
   "nbconvert_exporter": "python",
   "pygments_lexer": "ipython3",
   "version": "3.9.5"
  },
  "toc": {
   "base_numbering": 1,
   "nav_menu": {},
   "number_sections": true,
   "sideBar": true,
   "skip_h1_title": true,
   "title_cell": "Table of Contents",
   "title_sidebar": "Contents",
   "toc_cell": false,
   "toc_position": {},
   "toc_section_display": true,
   "toc_window_display": true
  }
 },
 "nbformat": 4,
 "nbformat_minor": 1
}
