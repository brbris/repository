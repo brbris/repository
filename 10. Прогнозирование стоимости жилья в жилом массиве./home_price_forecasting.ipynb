{
 "cells": [
  {
   "cell_type": "markdown",
   "id": "GEqQaHzsZ_bA",
   "metadata": {
    "id": "GEqQaHzsZ_bA"
   },
   "source": [
    "# Предсказание стоимости жилья"
   ]
  },
  {
   "cell_type": "markdown",
   "id": "53871372",
   "metadata": {
    "id": "53871372"
   },
   "source": [
    "## Подготовка данных"
   ]
  },
  {
   "cell_type": "markdown",
   "id": "8070f49f",
   "metadata": {},
   "source": [
    "### Инициализация spark-сессии"
   ]
  },
  {
   "cell_type": "markdown",
   "id": "c9997831",
   "metadata": {},
   "source": [
    "Импортирую нужные модули для инициализации  spark-сессии, чтения и манипуляции данных, трансформации признаков, алгоритм логистической регрессии из pyspark.ml.classification и модули из pyspark.ml.evaluation для оценки качества модели:"
   ]
  },
  {
   "cell_type": "code",
   "execution_count": 1,
   "id": "d3d7dd9e",
   "metadata": {},
   "outputs": [],
   "source": [
    "import pandas as pd\n",
    "import numpy as np\n",
    "\n",
    "import pyspark\n",
    "from pyspark.sql import SparkSession\n",
    "from pyspark.sql.types import *\n",
    "import pyspark.sql.functions as F\n",
    "\n",
    "from pyspark.ml.feature import StringIndexer, VectorAssembler, StandardScaler\n",
    "from pyspark.ml.classification import LogisticRegression\n",
    "from pyspark.ml.evaluation import BinaryClassificationEvaluator, MulticlassClassificationEvaluator\n",
    "\n",
    "pyspark_version = pyspark.__version__\n",
    "if int(pyspark_version[:1]) == 3:\n",
    "    from pyspark.ml.feature import OneHotEncoder    \n",
    "elif int(pyspark_version[:1]) == 2:\n",
    "    from pyspark.ml.feature import OneHotEncodeEstimator\n",
    "        \n",
    "RANDOM_SEED = 2022"
   ]
  },
  {
   "cell_type": "code",
   "execution_count": 2,
   "id": "df92e3ec",
   "metadata": {
    "id": "df92e3ec"
   },
   "outputs": [],
   "source": [
    "from pyspark.sql import SparkSession\n",
    "\n",
    "spark = SparkSession \\\n",
    "    .builder \\\n",
    "    .master(\"local\")\\\n",
    "    .appName(\"Python Spark SQL basic example\") \\\n",
    "    .getOrCreate()"
   ]
  },
  {
   "cell_type": "markdown",
   "id": "6723f324",
   "metadata": {},
   "source": [
    "### Прочитение содержимого файла"
   ]
  },
  {
   "cell_type": "markdown",
   "id": "d69673fb",
   "metadata": {},
   "source": [
    "Прочитаю файл `/datasets/housing.csv.` методом load():"
   ]
  },
  {
   "cell_type": "code",
   "execution_count": 3,
   "id": "0934598d",
   "metadata": {
    "scrolled": true
   },
   "outputs": [
    {
     "name": "stderr",
     "output_type": "stream",
     "text": [
      "[Stage 1:>                                                          (0 + 1) / 1]\r"
     ]
    },
    {
     "name": "stdout",
     "output_type": "stream",
     "text": [
      "Схема таблицы \"df_housing\":\n",
      "root\n",
      " |-- longitude: double (nullable = true)\n",
      " |-- latitude: double (nullable = true)\n",
      " |-- housing_median_age: double (nullable = true)\n",
      " |-- total_rooms: double (nullable = true)\n",
      " |-- total_bedrooms: double (nullable = true)\n",
      " |-- population: double (nullable = true)\n",
      " |-- households: double (nullable = true)\n",
      " |-- median_income: double (nullable = true)\n",
      " |-- median_house_value: double (nullable = true)\n",
      " |-- ocean_proximity: string (nullable = true)\n",
      "\n"
     ]
    },
    {
     "name": "stderr",
     "output_type": "stream",
     "text": [
      "                                                                                \r"
     ]
    }
   ],
   "source": [
    "df_housing = spark.read.load('/datasets/housing.csv', format='csv', sep=',', inferSchema=True, header='true')\n",
    "print('Схема таблицы \"df_housing\":')\n",
    "df_housing.printSchema()"
   ]
  },
  {
   "cell_type": "code",
   "execution_count": 4,
   "id": "abc36a73",
   "metadata": {},
   "outputs": [
    {
     "name": "stdout",
     "output_type": "stream",
     "text": [
      "+---------+--------+------------------+-----------+--------------+----------+----------+-------------+------------------+---------------+\n",
      "|longitude|latitude|housing_median_age|total_rooms|total_bedrooms|population|households|median_income|median_house_value|ocean_proximity|\n",
      "+---------+--------+------------------+-----------+--------------+----------+----------+-------------+------------------+---------------+\n",
      "|  -122.23|   37.88|              41.0|      880.0|         129.0|     322.0|     126.0|       8.3252|          452600.0|       NEAR BAY|\n",
      "|  -122.22|   37.86|              21.0|     7099.0|        1106.0|    2401.0|    1138.0|       8.3014|          358500.0|       NEAR BAY|\n",
      "|  -122.24|   37.85|              52.0|     1467.0|         190.0|     496.0|     177.0|       7.2574|          352100.0|       NEAR BAY|\n",
      "|  -122.25|   37.85|              52.0|     1274.0|         235.0|     558.0|     219.0|       5.6431|          341300.0|       NEAR BAY|\n",
      "|  -122.25|   37.85|              52.0|     1627.0|         280.0|     565.0|     259.0|       3.8462|          342200.0|       NEAR BAY|\n",
      "|  -122.25|   37.85|              52.0|      919.0|         213.0|     413.0|     193.0|       4.0368|          269700.0|       NEAR BAY|\n",
      "|  -122.25|   37.84|              52.0|     2535.0|         489.0|    1094.0|     514.0|       3.6591|          299200.0|       NEAR BAY|\n",
      "|  -122.25|   37.84|              52.0|     3104.0|         687.0|    1157.0|     647.0|         3.12|          241400.0|       NEAR BAY|\n",
      "|  -122.26|   37.84|              42.0|     2555.0|         665.0|    1206.0|     595.0|       2.0804|          226700.0|       NEAR BAY|\n",
      "|  -122.25|   37.84|              52.0|     3549.0|         707.0|    1551.0|     714.0|       3.6912|          261100.0|       NEAR BAY|\n",
      "+---------+--------+------------------+-----------+--------------+----------+----------+-------------+------------------+---------------+\n",
      "only showing top 10 rows\n",
      "\n",
      "None\n"
     ]
    }
   ],
   "source": [
    "print(df_housing.show(10))"
   ]
  },
  {
   "cell_type": "code",
   "execution_count": 5,
   "id": "a3c2d1b8",
   "metadata": {
    "scrolled": true
   },
   "outputs": [
    {
     "name": "stdout",
     "output_type": "stream",
     "text": [
      "               column    type\n",
      "0           longitude  double\n",
      "1            latitude  double\n",
      "2  housing_median_age  double\n",
      "3         total_rooms  double\n",
      "4      total_bedrooms  double\n",
      "5          population  double\n",
      "6          households  double\n",
      "7       median_income  double\n",
      "8  median_house_value  double\n",
      "9     ocean_proximity  string\n"
     ]
    }
   ],
   "source": [
    "print(pd.DataFrame(df_housing.dtypes, columns=['column', 'type']).head(10)) "
   ]
  },
  {
   "cell_type": "markdown",
   "id": "62cb90a0",
   "metadata": {},
   "source": [
    "Таблица содержит 10 столбцов с типами `double` и `string`"
   ]
  },
  {
   "cell_type": "markdown",
   "id": "2422d51d",
   "metadata": {},
   "source": [
    "Исследую базовые описательные статистики таблицы:"
   ]
  },
  {
   "cell_type": "code",
   "execution_count": 6,
   "id": "60c56892",
   "metadata": {
    "scrolled": false
   },
   "outputs": [
    {
     "name": "stderr",
     "output_type": "stream",
     "text": [
      "                                                                                \r"
     ]
    },
    {
     "data": {
      "text/html": [
       "<div>\n",
       "<style scoped>\n",
       "    .dataframe tbody tr th:only-of-type {\n",
       "        vertical-align: middle;\n",
       "    }\n",
       "\n",
       "    .dataframe tbody tr th {\n",
       "        vertical-align: top;\n",
       "    }\n",
       "\n",
       "    .dataframe thead th {\n",
       "        text-align: right;\n",
       "    }\n",
       "</style>\n",
       "<table border=\"1\" class=\"dataframe\">\n",
       "  <thead>\n",
       "    <tr style=\"text-align: right;\">\n",
       "      <th></th>\n",
       "      <th>summary</th>\n",
       "      <th>longitude</th>\n",
       "      <th>latitude</th>\n",
       "      <th>housing_median_age</th>\n",
       "      <th>total_rooms</th>\n",
       "      <th>total_bedrooms</th>\n",
       "      <th>population</th>\n",
       "      <th>households</th>\n",
       "      <th>median_income</th>\n",
       "      <th>median_house_value</th>\n",
       "      <th>ocean_proximity</th>\n",
       "    </tr>\n",
       "  </thead>\n",
       "  <tbody>\n",
       "    <tr>\n",
       "      <th>0</th>\n",
       "      <td>count</td>\n",
       "      <td>20640</td>\n",
       "      <td>20640</td>\n",
       "      <td>20640</td>\n",
       "      <td>20640</td>\n",
       "      <td>20433</td>\n",
       "      <td>20640</td>\n",
       "      <td>20640</td>\n",
       "      <td>20640</td>\n",
       "      <td>20640</td>\n",
       "      <td>20640</td>\n",
       "    </tr>\n",
       "    <tr>\n",
       "      <th>1</th>\n",
       "      <td>mean</td>\n",
       "      <td>-119.56970445736148</td>\n",
       "      <td>35.6318614341087</td>\n",
       "      <td>28.639486434108527</td>\n",
       "      <td>2635.7630813953488</td>\n",
       "      <td>537.8705525375618</td>\n",
       "      <td>1425.4767441860465</td>\n",
       "      <td>499.5396802325581</td>\n",
       "      <td>3.8706710029070246</td>\n",
       "      <td>206855.81690891474</td>\n",
       "      <td>None</td>\n",
       "    </tr>\n",
       "    <tr>\n",
       "      <th>2</th>\n",
       "      <td>stddev</td>\n",
       "      <td>2.003531723502584</td>\n",
       "      <td>2.135952397457101</td>\n",
       "      <td>12.58555761211163</td>\n",
       "      <td>2181.6152515827944</td>\n",
       "      <td>421.38507007403115</td>\n",
       "      <td>1132.46212176534</td>\n",
       "      <td>382.3297528316098</td>\n",
       "      <td>1.899821717945263</td>\n",
       "      <td>115395.61587441359</td>\n",
       "      <td>None</td>\n",
       "    </tr>\n",
       "    <tr>\n",
       "      <th>3</th>\n",
       "      <td>min</td>\n",
       "      <td>-124.35</td>\n",
       "      <td>32.54</td>\n",
       "      <td>1.0</td>\n",
       "      <td>2.0</td>\n",
       "      <td>1.0</td>\n",
       "      <td>3.0</td>\n",
       "      <td>1.0</td>\n",
       "      <td>0.4999</td>\n",
       "      <td>14999.0</td>\n",
       "      <td>&lt;1H OCEAN</td>\n",
       "    </tr>\n",
       "    <tr>\n",
       "      <th>4</th>\n",
       "      <td>max</td>\n",
       "      <td>-114.31</td>\n",
       "      <td>41.95</td>\n",
       "      <td>52.0</td>\n",
       "      <td>39320.0</td>\n",
       "      <td>6445.0</td>\n",
       "      <td>35682.0</td>\n",
       "      <td>6082.0</td>\n",
       "      <td>15.0001</td>\n",
       "      <td>500001.0</td>\n",
       "      <td>NEAR OCEAN</td>\n",
       "    </tr>\n",
       "  </tbody>\n",
       "</table>\n",
       "</div>"
      ],
      "text/plain": [
       "  summary            longitude           latitude  housing_median_age  \\\n",
       "0   count                20640              20640               20640   \n",
       "1    mean  -119.56970445736148   35.6318614341087  28.639486434108527   \n",
       "2  stddev    2.003531723502584  2.135952397457101   12.58555761211163   \n",
       "3     min              -124.35              32.54                 1.0   \n",
       "4     max              -114.31              41.95                52.0   \n",
       "\n",
       "          total_rooms      total_bedrooms          population  \\\n",
       "0               20640               20433               20640   \n",
       "1  2635.7630813953488   537.8705525375618  1425.4767441860465   \n",
       "2  2181.6152515827944  421.38507007403115    1132.46212176534   \n",
       "3                 2.0                 1.0                 3.0   \n",
       "4             39320.0              6445.0             35682.0   \n",
       "\n",
       "          households       median_income  median_house_value ocean_proximity  \n",
       "0              20640               20640               20640           20640  \n",
       "1  499.5396802325581  3.8706710029070246  206855.81690891474            None  \n",
       "2  382.3297528316098   1.899821717945263  115395.61587441359            None  \n",
       "3                1.0              0.4999             14999.0       <1H OCEAN  \n",
       "4             6082.0             15.0001            500001.0      NEAR OCEAN  "
      ]
     },
     "execution_count": 6,
     "metadata": {},
     "output_type": "execute_result"
    }
   ],
   "source": [
    "df_housing.describe().toPandas()"
   ]
  },
  {
   "cell_type": "markdown",
   "id": "34923932",
   "metadata": {},
   "source": [
    "Датасет содержит 20640 строк. Максимальная медианная стоимость дома - 500 тысяч долларов."
   ]
  },
  {
   "cell_type": "markdown",
   "id": "63d7c3ee",
   "metadata": {},
   "source": [
    "### Предобработка данных"
   ]
  },
  {
   "cell_type": "markdown",
   "id": "b3310fbd",
   "metadata": {},
   "source": [
    "#### Исследование пропусков"
   ]
  },
  {
   "cell_type": "code",
   "execution_count": 7,
   "id": "0ef9969b",
   "metadata": {},
   "outputs": [
    {
     "name": "stdout",
     "output_type": "stream",
     "text": [
      "+---------+--------+------------------+-----------+--------------+----------+----------+-------------+------------------+---------------+\n",
      "|longitude|latitude|housing_median_age|total_rooms|total_bedrooms|population|households|median_income|median_house_value|ocean_proximity|\n",
      "+---------+--------+------------------+-----------+--------------+----------+----------+-------------+------------------+---------------+\n",
      "|  -122.23|   37.88|              41.0|      880.0|         129.0|     322.0|     126.0|       8.3252|          452600.0|       NEAR BAY|\n",
      "|  -122.22|   37.86|              21.0|     7099.0|        1106.0|    2401.0|    1138.0|       8.3014|          358500.0|       NEAR BAY|\n",
      "|  -122.24|   37.85|              52.0|     1467.0|         190.0|     496.0|     177.0|       7.2574|          352100.0|       NEAR BAY|\n",
      "|  -122.25|   37.85|              52.0|     1274.0|         235.0|     558.0|     219.0|       5.6431|          341300.0|       NEAR BAY|\n",
      "|  -122.25|   37.85|              52.0|     1627.0|         280.0|     565.0|     259.0|       3.8462|          342200.0|       NEAR BAY|\n",
      "|  -122.25|   37.85|              52.0|      919.0|         213.0|     413.0|     193.0|       4.0368|          269700.0|       NEAR BAY|\n",
      "|  -122.25|   37.84|              52.0|     2535.0|         489.0|    1094.0|     514.0|       3.6591|          299200.0|       NEAR BAY|\n",
      "|  -122.25|   37.84|              52.0|     3104.0|         687.0|    1157.0|     647.0|         3.12|          241400.0|       NEAR BAY|\n",
      "|  -122.26|   37.84|              42.0|     2555.0|         665.0|    1206.0|     595.0|       2.0804|          226700.0|       NEAR BAY|\n",
      "|  -122.25|   37.84|              52.0|     3549.0|         707.0|    1551.0|     714.0|       3.6912|          261100.0|       NEAR BAY|\n",
      "|  -122.26|   37.85|              52.0|     2202.0|         434.0|     910.0|     402.0|       3.2031|          281500.0|       NEAR BAY|\n",
      "|  -122.26|   37.85|              52.0|     3503.0|         752.0|    1504.0|     734.0|       3.2705|          241800.0|       NEAR BAY|\n",
      "|  -122.26|   37.85|              52.0|     2491.0|         474.0|    1098.0|     468.0|        3.075|          213500.0|       NEAR BAY|\n",
      "|  -122.26|   37.84|              52.0|      696.0|         191.0|     345.0|     174.0|       2.6736|          191300.0|       NEAR BAY|\n",
      "|  -122.26|   37.85|              52.0|     2643.0|         626.0|    1212.0|     620.0|       1.9167|          159200.0|       NEAR BAY|\n",
      "|  -122.26|   37.85|              50.0|     1120.0|         283.0|     697.0|     264.0|        2.125|          140000.0|       NEAR BAY|\n",
      "|  -122.27|   37.85|              52.0|     1966.0|         347.0|     793.0|     331.0|        2.775|          152500.0|       NEAR BAY|\n",
      "|  -122.27|   37.85|              52.0|     1228.0|         293.0|     648.0|     303.0|       2.1202|          155500.0|       NEAR BAY|\n",
      "|  -122.26|   37.84|              50.0|     2239.0|         455.0|     990.0|     419.0|       1.9911|          158700.0|       NEAR BAY|\n",
      "|  -122.27|   37.84|              52.0|     1503.0|         298.0|     690.0|     275.0|       2.6033|          162900.0|       NEAR BAY|\n",
      "|  -122.27|   37.85|              40.0|      751.0|         184.0|     409.0|     166.0|       1.3578|          147500.0|       NEAR BAY|\n",
      "|  -122.27|   37.85|              42.0|     1639.0|         367.0|     929.0|     366.0|       1.7135|          159800.0|       NEAR BAY|\n",
      "|  -122.27|   37.84|              52.0|     2436.0|         541.0|    1015.0|     478.0|        1.725|          113900.0|       NEAR BAY|\n",
      "|  -122.27|   37.84|              52.0|     1688.0|         337.0|     853.0|     325.0|       2.1806|           99700.0|       NEAR BAY|\n",
      "|  -122.27|   37.84|              52.0|     2224.0|         437.0|    1006.0|     422.0|          2.6|          132600.0|       NEAR BAY|\n",
      "|  -122.28|   37.85|              41.0|      535.0|         123.0|     317.0|     119.0|       2.4038|          107500.0|       NEAR BAY|\n",
      "|  -122.28|   37.85|              49.0|     1130.0|         244.0|     607.0|     239.0|       2.4597|           93800.0|       NEAR BAY|\n",
      "|  -122.28|   37.85|              52.0|     1898.0|         421.0|    1102.0|     397.0|        1.808|          105500.0|       NEAR BAY|\n",
      "|  -122.28|   37.84|              50.0|     2082.0|         492.0|    1131.0|     473.0|       1.6424|          108900.0|       NEAR BAY|\n",
      "|  -122.28|   37.84|              52.0|      729.0|         160.0|     395.0|     155.0|       1.6875|          132000.0|       NEAR BAY|\n",
      "|  -122.28|   37.84|              49.0|     1916.0|         447.0|     863.0|     378.0|       1.9274|          122300.0|       NEAR BAY|\n",
      "|  -122.28|   37.84|              52.0|     2153.0|         481.0|    1168.0|     441.0|       1.9615|          115200.0|       NEAR BAY|\n",
      "|  -122.27|   37.84|              48.0|     1922.0|         409.0|    1026.0|     335.0|       1.7969|          110400.0|       NEAR BAY|\n",
      "|  -122.27|   37.83|              49.0|     1655.0|         366.0|     754.0|     329.0|        1.375|          104900.0|       NEAR BAY|\n",
      "|  -122.27|   37.83|              51.0|     2665.0|         574.0|    1258.0|     536.0|       2.7303|          109700.0|       NEAR BAY|\n",
      "|  -122.27|   37.83|              49.0|     1215.0|         282.0|     570.0|     264.0|       1.4861|           97200.0|       NEAR BAY|\n",
      "|  -122.27|   37.83|              48.0|     1798.0|         432.0|     987.0|     374.0|       1.0972|          104500.0|       NEAR BAY|\n",
      "|  -122.28|   37.83|              52.0|     1511.0|         390.0|     901.0|     403.0|       1.4103|          103900.0|       NEAR BAY|\n",
      "|  -122.26|   37.83|              52.0|     1470.0|         330.0|     689.0|     309.0|         3.48|          191400.0|       NEAR BAY|\n",
      "|  -122.26|   37.83|              52.0|     2432.0|         715.0|    1377.0|     696.0|       2.5898|          176000.0|       NEAR BAY|\n",
      "|  -122.26|   37.83|              52.0|     1665.0|         419.0|     946.0|     395.0|       2.0978|          155400.0|       NEAR BAY|\n",
      "|  -122.26|   37.83|              51.0|      936.0|         311.0|     517.0|     249.0|       1.2852|          150000.0|       NEAR BAY|\n",
      "|  -122.26|   37.84|              49.0|      713.0|         202.0|     462.0|     189.0|        1.025|          118800.0|       NEAR BAY|\n",
      "|  -122.26|   37.84|              52.0|      950.0|         202.0|     467.0|     198.0|       3.9643|          188800.0|       NEAR BAY|\n",
      "|  -122.26|   37.83|              52.0|     1443.0|         311.0|     660.0|     292.0|       3.0125|          184400.0|       NEAR BAY|\n",
      "|  -122.26|   37.83|              52.0|     1656.0|         420.0|     718.0|     382.0|       2.6768|          182300.0|       NEAR BAY|\n",
      "|  -122.26|   37.83|              50.0|     1125.0|         322.0|     616.0|     304.0|        2.026|          142500.0|       NEAR BAY|\n",
      "|  -122.27|   37.82|              43.0|     1007.0|         312.0|     558.0|     253.0|       1.7348|          137500.0|       NEAR BAY|\n",
      "|  -122.26|   37.82|              40.0|      624.0|         195.0|     423.0|     160.0|       0.9506|          187500.0|       NEAR BAY|\n",
      "|  -122.27|   37.82|              40.0|      946.0|         375.0|     700.0|     352.0|        1.775|          112500.0|       NEAR BAY|\n",
      "|  -122.27|   37.82|              21.0|      896.0|         453.0|     735.0|     438.0|       0.9218|          171900.0|       NEAR BAY|\n",
      "|  -122.27|   37.82|              43.0|     1868.0|         456.0|    1061.0|     407.0|       1.5045|           93800.0|       NEAR BAY|\n",
      "|  -122.27|   37.82|              41.0|     3221.0|         853.0|    1959.0|     720.0|       1.1108|           97500.0|       NEAR BAY|\n",
      "|  -122.27|   37.82|              52.0|     1630.0|         456.0|    1162.0|     400.0|       1.2475|          104200.0|       NEAR BAY|\n",
      "|  -122.28|   37.82|              52.0|     1170.0|         235.0|     701.0|     233.0|       1.6098|           87500.0|       NEAR BAY|\n",
      "|  -122.28|   37.82|              52.0|      945.0|         243.0|     576.0|     220.0|       1.4113|           83100.0|       NEAR BAY|\n",
      "|  -122.28|   37.82|              52.0|     1238.0|         288.0|     622.0|     259.0|       1.5057|           87500.0|       NEAR BAY|\n",
      "|  -122.28|   37.82|              52.0|     1489.0|         335.0|     728.0|     244.0|       0.8172|           85300.0|       NEAR BAY|\n",
      "|  -122.28|   37.82|              52.0|     1387.0|         341.0|    1074.0|     304.0|       1.2171|           80300.0|       NEAR BAY|\n",
      "|  -122.29|   37.82|               2.0|      158.0|          43.0|      94.0|      57.0|       2.5625|           60000.0|       NEAR BAY|\n",
      "|  -122.29|   37.83|              52.0|     1121.0|         211.0|     554.0|     187.0|       3.3929|           75700.0|       NEAR BAY|\n",
      "|  -122.29|   37.82|              49.0|      135.0|          29.0|      86.0|      23.0|       6.1183|           75000.0|       NEAR BAY|\n",
      "|  -122.29|   37.81|              50.0|      760.0|         190.0|     377.0|     122.0|       0.9011|           86100.0|       NEAR BAY|\n",
      "|   -122.3|   37.81|              52.0|     1224.0|         237.0|     521.0|     159.0|        1.191|           76100.0|       NEAR BAY|\n",
      "|   -122.3|   37.81|              48.0|      828.0|         182.0|     392.0|     133.0|       2.5938|           73500.0|       NEAR BAY|\n",
      "|   -122.3|   37.81|              52.0|     1010.0|         209.0|     604.0|     187.0|       1.1667|           78400.0|       NEAR BAY|\n",
      "|   -122.3|   37.81|              48.0|     1455.0|         354.0|     788.0|     332.0|       0.8056|           84400.0|       NEAR BAY|\n",
      "|  -122.29|    37.8|              52.0|     1027.0|         244.0|     492.0|     147.0|       2.6094|           81300.0|       NEAR BAY|\n",
      "|   -122.3|   37.81|              52.0|      572.0|         109.0|     274.0|      82.0|       1.8516|           85000.0|       NEAR BAY|\n",
      "|  -122.29|   37.81|              46.0|     2801.0|         644.0|    1823.0|     611.0|       0.9802|          129200.0|       NEAR BAY|\n",
      "|  -122.29|   37.81|              26.0|      768.0|         152.0|     392.0|     127.0|       1.7719|           82500.0|       NEAR BAY|\n",
      "|  -122.29|   37.81|              46.0|      935.0|         297.0|     582.0|     277.0|       0.7286|           95200.0|       NEAR BAY|\n",
      "|  -122.29|   37.81|              49.0|      844.0|         204.0|     560.0|     152.0|         1.75|           75000.0|       NEAR BAY|\n",
      "|  -122.29|   37.81|              46.0|       12.0|           4.0|      18.0|       7.0|       0.4999|           67500.0|       NEAR BAY|\n",
      "|  -122.29|   37.81|              20.0|      835.0|         161.0|     290.0|     133.0|        2.483|          137500.0|       NEAR BAY|\n",
      "|  -122.28|   37.81|              17.0|     1237.0|         462.0|     762.0|     439.0|       0.9241|          177500.0|       NEAR BAY|\n",
      "|  -122.28|   37.81|              36.0|     2914.0|         562.0|    1236.0|     509.0|       2.4464|          102100.0|       NEAR BAY|\n",
      "|  -122.28|   37.81|              19.0|     1207.0|         243.0|     721.0|     207.0|       1.1111|          108300.0|       NEAR BAY|\n",
      "|  -122.29|   37.81|              23.0|     1745.0|         374.0|    1054.0|     325.0|       0.8026|          112500.0|       NEAR BAY|\n",
      "|  -122.28|    37.8|              38.0|      684.0|         176.0|     344.0|     155.0|       2.0114|          131300.0|       NEAR BAY|\n",
      "|  -122.28|   37.81|              17.0|      924.0|         289.0|     609.0|     289.0|          1.5|          162500.0|       NEAR BAY|\n",
      "|  -122.27|   37.81|              52.0|      210.0|          56.0|     183.0|      56.0|       1.1667|          112500.0|       NEAR BAY|\n",
      "|  -122.28|   37.81|              52.0|      340.0|          97.0|     200.0|      87.0|       1.5208|          112500.0|       NEAR BAY|\n",
      "|  -122.28|   37.81|              52.0|      386.0|         164.0|     346.0|     155.0|       0.8075|          137500.0|       NEAR BAY|\n",
      "|  -122.28|   37.81|              35.0|      948.0|         184.0|     467.0|     169.0|       1.8088|          118800.0|       NEAR BAY|\n",
      "|  -122.28|   37.81|              52.0|      773.0|         143.0|     377.0|     115.0|       2.4083|           98200.0|       NEAR BAY|\n",
      "|  -122.27|   37.81|              40.0|      880.0|         451.0|     582.0|     380.0|        0.977|          118800.0|       NEAR BAY|\n",
      "|  -122.27|   37.81|              10.0|      875.0|         348.0|     546.0|     330.0|         0.76|          162500.0|       NEAR BAY|\n",
      "|  -122.27|    37.8|              10.0|      105.0|          42.0|     125.0|      39.0|       0.9722|          137500.0|       NEAR BAY|\n",
      "|  -122.27|    37.8|              52.0|      249.0|          78.0|     396.0|      85.0|       1.2434|          500001.0|       NEAR BAY|\n",
      "|  -122.27|    37.8|              16.0|      994.0|         392.0|     800.0|     362.0|       2.0938|          162500.0|       NEAR BAY|\n",
      "|  -122.28|    37.8|              52.0|      215.0|          87.0|     904.0|      88.0|       0.8668|          137500.0|       NEAR BAY|\n",
      "|  -122.28|    37.8|              52.0|       96.0|          31.0|     191.0|      34.0|         0.75|          162500.0|       NEAR BAY|\n",
      "|  -122.27|   37.79|              27.0|     1055.0|         347.0|     718.0|     302.0|       2.6354|          187500.0|       NEAR BAY|\n",
      "|  -122.27|    37.8|              39.0|     1715.0|         623.0|    1327.0|     467.0|       1.8477|          179200.0|       NEAR BAY|\n",
      "|  -122.26|    37.8|              36.0|     5329.0|        2477.0|    3469.0|    2323.0|       2.0096|          130000.0|       NEAR BAY|\n",
      "|  -122.26|   37.82|              31.0|     4596.0|        1331.0|    2048.0|    1180.0|       2.8345|          183800.0|       NEAR BAY|\n",
      "|  -122.26|   37.81|              29.0|      335.0|         107.0|     202.0|      91.0|       2.0062|          125000.0|       NEAR BAY|\n",
      "|  -122.26|   37.82|              22.0|     3682.0|        1270.0|    2024.0|    1250.0|       1.2185|          170000.0|       NEAR BAY|\n",
      "|  -122.26|   37.82|              37.0|     3633.0|        1085.0|    1838.0|     980.0|       2.6104|          193100.0|       NEAR BAY|\n",
      "+---------+--------+------------------+-----------+--------------+----------+----------+-------------+------------------+---------------+\n",
      "only showing top 100 rows\n",
      "\n"
     ]
    }
   ],
   "source": [
    "df_housing.show(100)"
   ]
  },
  {
   "cell_type": "code",
   "execution_count": 8,
   "id": "7ca11ed0",
   "metadata": {},
   "outputs": [
    {
     "name": "stdout",
     "output_type": "stream",
     "text": [
      "longitude 0\n",
      "latitude 0\n",
      "housing_median_age 0\n",
      "total_rooms 0\n",
      "total_bedrooms 207\n",
      "population 0\n",
      "households 0\n",
      "median_income 0\n",
      "median_house_value 0\n",
      "ocean_proximity 0\n",
      "+---------+--------+------------------+-----------+--------------+----------+----------+-------------+------------------+---------------+\n",
      "|longitude|latitude|housing_median_age|total_rooms|total_bedrooms|population|households|median_income|median_house_value|ocean_proximity|\n",
      "+---------+--------+------------------+-----------+--------------+----------+----------+-------------+------------------+---------------+\n",
      "|        0|       0|                 0|          0|           207|         0|         0|            0|                 0|              0|\n",
      "+---------+--------+------------------+-----------+--------------+----------+----------+-------------+------------------+---------------+\n",
      "\n"
     ]
    }
   ],
   "source": [
    "columns = df_housing.columns\n",
    "\n",
    "for column in columns:\n",
    "    check_col = F.col(column).isNull()\n",
    "    print(column, df_housing.filter(check_col).count())\n",
    "    \n",
    "from pyspark.sql.functions import col,sum\n",
    "df_housing.select(*(sum(col(c).isNull().cast(\"int\")).alias(c) for c in df_housing.columns)).show()"
   ]
  },
  {
   "cell_type": "markdown",
   "id": "a5985a4f",
   "metadata": {},
   "source": [
    "В данных есть 207 пропущенных значений в столбце `total_bedrooms`. Вероятнее всего данные пропуски относятся к квартирам-студиям, поэтому пропуски заполню нулями"
   ]
  },
  {
   "cell_type": "code",
   "execution_count": 9,
   "id": "e74ffd30",
   "metadata": {},
   "outputs": [],
   "source": [
    "df_housing = df_housing.na.fill(0)"
   ]
  },
  {
   "cell_type": "markdown",
   "id": "d42b969e",
   "metadata": {},
   "source": [
    "#### Преобразование данных"
   ]
  },
  {
   "cell_type": "markdown",
   "id": "75a10fed",
   "metadata": {},
   "source": [
    "Создаю несколько новых столбцов с признаками, которые могут быть подходящими для модели машинного обучения:\n",
    "\n",
    "* `rooms_per_household` - отношение количества комнат total_rooms к количеству домовладений households.\n",
    "* `population_in_household` - отношение количества жителей population к количеству домовладений households.\n",
    "* `bedroom_index` - отношение количества спален total_bedrooms к общему количеству комнат total_rooms."
   ]
  },
  {
   "cell_type": "code",
   "execution_count": 10,
   "id": "3e763796",
   "metadata": {},
   "outputs": [
    {
     "name": "stdout",
     "output_type": "stream",
     "text": [
      "root\n",
      " |-- longitude: double (nullable = false)\n",
      " |-- latitude: double (nullable = false)\n",
      " |-- housing_median_age: double (nullable = false)\n",
      " |-- total_rooms: double (nullable = false)\n",
      " |-- total_bedrooms: double (nullable = false)\n",
      " |-- population: double (nullable = false)\n",
      " |-- households: double (nullable = false)\n",
      " |-- median_income: double (nullable = false)\n",
      " |-- median_house_value: double (nullable = false)\n",
      " |-- ocean_proximity: string (nullable = true)\n",
      " |-- rooms_per_household: double (nullable = true)\n",
      " |-- population_in_household: double (nullable = true)\n",
      " |-- bedroom_index: double (nullable = true)\n",
      "\n"
     ]
    }
   ],
   "source": [
    "df_housing = df_housing.withColumn('rooms_per_household', F.col('total_rooms') / F.col('households')).withColumn('population_in_household', F.col('population') / F.col('households')).withColumn('bedroom_index', F.col('total_bedrooms') / F.col('total_rooms'))\n",
    "\n",
    "df_housing.printSchema()"
   ]
  },
  {
   "cell_type": "code",
   "execution_count": 11,
   "id": "df988b83",
   "metadata": {},
   "outputs": [],
   "source": [
    "exclude = ['longitude', 'latitude']\n",
    "selected_columns = [col for col in df_housing.columns if col not in exclude]\n",
    "path = './california_housing_w_features'\n",
    "\n",
    "\n",
    "# df_housing.select(selected_columns).write.format('csv').save(path,мусещк header=True)"
   ]
  },
  {
   "cell_type": "code",
   "execution_count": 12,
   "id": "7b02386b",
   "metadata": {},
   "outputs": [],
   "source": [
    "X = df_housing\n",
    "\n",
    "X_train, X_test = df_housing.randomSplit([.8,.2], seed=RANDOM_SEED)"
   ]
  },
  {
   "cell_type": "markdown",
   "id": "e4f260a0",
   "metadata": {},
   "source": [
    "Трансформирую категориальные признаки с помощью трансформера StringIndexer"
   ]
  },
  {
   "cell_type": "code",
   "execution_count": 13,
   "id": "8d3516c3",
   "metadata": {},
   "outputs": [
    {
     "name": "stderr",
     "output_type": "stream",
     "text": [
      "                                                                                \r"
     ]
    }
   ],
   "source": [
    "from pyspark.ml.feature import OneHotEncoder\n",
    "\n",
    "categorical_cols = ['ocean_proximity']\n",
    "categorical_indice = ['ocean_proximity_idx']\n",
    "categorical_codes = 'categorical_features'\n",
    "\n",
    "numerical_cols = list(set(X.columns) - set(categorical_cols) - set(['median_house_value']))\n",
    "# Ниже из сообщения оь ошибке обнаружилось, что в тестовой выборке встречается редкий таргет, которого нет в тренировочной выборке.\n",
    "# По умолчанию при встрече такого значения индексер выдает ошибку. Чтобы этого избежать, я добавила отдельную категорию handleInvalid='keep', которая будет сигнализировать о том,\n",
    "# что такого модель еще не видела, при этом модель будет выдавать хоть-какие-то предсказания для таких объектов (но не факт, что корректные).\n",
    "indexer = StringIndexer(inputCols=categorical_cols, \n",
    "                        outputCols=categorical_indice,\n",
    "                        handleInvalid='keep') \n",
    "\n",
    "indexer = indexer.fit(X_train)\n",
    "\n",
    "X_train = indexer.transform(X_train)\n",
    "X_test = indexer.transform(X_test)"
   ]
  },
  {
   "cell_type": "code",
   "execution_count": 14,
   "id": "3a5d2911",
   "metadata": {},
   "outputs": [
    {
     "name": "stdout",
     "output_type": "stream",
     "text": [
      "['total_rooms', 'housing_median_age', 'bedroom_index', 'rooms_per_household', 'total_bedrooms', 'median_income', 'longitude', 'population', 'latitude', 'households', 'population_in_household']\n"
     ]
    }
   ],
   "source": [
    "print(numerical_cols)"
   ]
  },
  {
   "cell_type": "markdown",
   "id": "7f3da82b",
   "metadata": {},
   "source": [
    "Преобразую столбец с категориальными значениями техникой One hot encoding:"
   ]
  },
  {
   "cell_type": "code",
   "execution_count": 15,
   "id": "8c288852",
   "metadata": {},
   "outputs": [],
   "source": [
    "encoder = OneHotEncoder(inputCols=categorical_indice, outputCols=['categorical_features'], handleInvalid='keep') \n",
    "encoder = encoder.fit(X_train)\n",
    "\n",
    "assembler_numerical = VectorAssembler(inputCols=numerical_cols, outputCol='numerical_features')\n",
    "assembler_all = VectorAssembler(inputCols=numerical_cols + ['categorical_features'], outputCol='all_features')"
   ]
  },
  {
   "cell_type": "code",
   "execution_count": 16,
   "id": "7e997054",
   "metadata": {},
   "outputs": [],
   "source": [
    "X_train = encoder.transform(X_train)\n",
    "X_test = encoder.transform(X_test)"
   ]
  },
  {
   "cell_type": "markdown",
   "id": "2a538975",
   "metadata": {},
   "source": [
    "Склеиваю фичи в один столбец"
   ]
  },
  {
   "cell_type": "code",
   "execution_count": 17,
   "id": "c13bb991",
   "metadata": {},
   "outputs": [],
   "source": [
    "X_train = assembler_numerical.transform(X_train)\n",
    "X_test = assembler_numerical.transform(X_test)\n",
    "\n",
    "X_train = assembler_all.transform(X_train)\n",
    "X_test = assembler_all.transform(X_test)"
   ]
  },
  {
   "cell_type": "markdown",
   "id": "9f0a82f3",
   "metadata": {
    "id": "9f0a82f3"
   },
   "source": [
    "# Обучение моделей"
   ]
  },
  {
   "cell_type": "code",
   "execution_count": 18,
   "id": "2897e69b",
   "metadata": {},
   "outputs": [
    {
     "name": "stderr",
     "output_type": "stream",
     "text": [
      "23/02/06 18:59:27 WARN Instrumentation: [1562b62b] regParam is zero, which might cause numerical instability and overfitting.\n",
      "23/02/06 18:59:28 WARN BLAS: Failed to load implementation from: com.github.fommil.netlib.NativeSystemBLAS\n",
      "23/02/06 18:59:28 WARN BLAS: Failed to load implementation from: com.github.fommil.netlib.NativeRefBLAS\n",
      "23/02/06 18:59:29 WARN LAPACK: Failed to load implementation from: com.github.fommil.netlib.NativeSystemLAPACK\n",
      "23/02/06 18:59:29 WARN LAPACK: Failed to load implementation from: com.github.fommil.netlib.NativeRefLAPACK\n",
      "23/02/06 18:59:31 WARN Instrumentation: [f30f5735] regParam is zero, which might cause numerical instability and overfitting.\n",
      "23/02/06 18:59:32 WARN Instrumentation: [f30f5735] Cholesky solver failed due to singular covariance matrix. Retrying with Quasi-Newton solver.\n"
     ]
    }
   ],
   "source": [
    "from pyspark.ml.regression import LinearRegression\n",
    "\n",
    "model_numerical = LinearRegression(featuresCol='numerical_features', labelCol='median_house_value')\n",
    "model_numerical = model_numerical.fit(X_train)\n",
    "\n",
    "model_all = LinearRegression(featuresCol='all_features', labelCol='median_house_value')\n",
    "model_all = model_all.fit(X_train)"
   ]
  },
  {
   "cell_type": "markdown",
   "id": "8bbc5c74",
   "metadata": {},
   "source": [
    "Применение обученных моделей для тренировочных и тестовых датасетов:"
   ]
  },
  {
   "cell_type": "code",
   "execution_count": 19,
   "id": "f91a0ca7",
   "metadata": {},
   "outputs": [],
   "source": [
    "predictions_all_X_train = model_all.transform(X_train)\n",
    "predictions_numerical_X_train = model_numerical.transform(X_train)\n",
    "\n",
    "predictions_all_X_test= model_all.transform(X_test)\n",
    "predictions_numerical_X_test = model_numerical.transform(X_test)"
   ]
  },
  {
   "cell_type": "markdown",
   "id": "79d0c44d",
   "metadata": {},
   "source": [
    "Измеряю метрики RMSE, MAE и R2:"
   ]
  },
  {
   "cell_type": "code",
   "execution_count": 20,
   "id": "cb96166b",
   "metadata": {},
   "outputs": [],
   "source": [
    "from pyspark.ml.evaluation import RegressionEvaluator"
   ]
  },
  {
   "cell_type": "markdown",
   "id": "94e7c99e",
   "metadata": {},
   "source": [
    "Создаю объекты для каждой метрики"
   ]
  },
  {
   "cell_type": "code",
   "execution_count": 21,
   "id": "7db715fb",
   "metadata": {},
   "outputs": [],
   "source": [
    "rmse_eval = RegressionEvaluator(labelCol='median_house_value', metricName='rmse')\n",
    "mae_eval = RegressionEvaluator(labelCol='median_house_value', metricName='mae')\n",
    "r2_eval = RegressionEvaluator(labelCol='median_house_value', metricName='r2')"
   ]
  },
  {
   "cell_type": "code",
   "execution_count": 22,
   "id": "6e7e3371",
   "metadata": {},
   "outputs": [
    {
     "name": "stdout",
     "output_type": "stream",
     "text": [
      "rmse_train_all: 68194.86599560683\n"
     ]
    },
    {
     "name": "stderr",
     "output_type": "stream",
     "text": [
      "                                                                                \r"
     ]
    },
    {
     "name": "stdout",
     "output_type": "stream",
     "text": [
      "rmse_numerical_train: 68984.8717330931\n",
      "\n",
      "rmse_test_all: 67815.0600878124\n",
      "rmse_numerical_test: 68321.40692240147\n"
     ]
    }
   ],
   "source": [
    "print('rmse_train_all:', rmse_eval.evaluate(predictions_all_X_train))\n",
    "print('rmse_numerical_train:', rmse_eval.evaluate(predictions_numerical_X_train))\n",
    "print()\n",
    "print('rmse_test_all:', rmse_eval.evaluate(predictions_all_X_test))\n",
    "print('rmse_numerical_test:', rmse_eval.evaluate(predictions_numerical_X_test))"
   ]
  },
  {
   "cell_type": "markdown",
   "id": "426fd91a",
   "metadata": {},
   "source": [
    "При использовании численных данных модель ошибается на 68321 долларов. При использовании всего набора фичей модель ошибается немного меньше, на 67815 долларов."
   ]
  },
  {
   "cell_type": "code",
   "execution_count": 23,
   "id": "45e4ff19",
   "metadata": {},
   "outputs": [
    {
     "name": "stdout",
     "output_type": "stream",
     "text": [
      "mae_train_all: 49229.73468125497\n",
      "mae_numerical_train: 50169.34263196681\n",
      "\n",
      "mae_test_all: 49378.95435612814\n",
      "mae_numerical_test: 50102.47502720972\n"
     ]
    }
   ],
   "source": [
    "print('mae_train_all:', mae_eval.evaluate(predictions_all_X_train))\n",
    "print('mae_numerical_train:', mae_eval.evaluate(predictions_numerical_X_train))\n",
    "print()\n",
    "print('mae_test_all:', mae_eval.evaluate(predictions_all_X_test))\n",
    "print('mae_numerical_test:', mae_eval.evaluate(predictions_numerical_X_test))"
   ]
  },
  {
   "cell_type": "markdown",
   "id": "40ff4cd1",
   "metadata": {},
   "source": [
    "Среднее отклонение предсказания модели от таргетов на численных признаках - 50102 долларов.\n",
    "Среднее отклонение предсказания модели от таргетов на всем наборе признаков - 49378 долларов."
   ]
  },
  {
   "cell_type": "code",
   "execution_count": 24,
   "id": "48076e4d",
   "metadata": {},
   "outputs": [
    {
     "name": "stdout",
     "output_type": "stream",
     "text": [
      "r2_train_all: 0.6491678548576989\n",
      "r2_numerical_train: 0.6409923189206566\n",
      "\n",
      "r2_test_all: 0.6603202157445335\n",
      "r2_numerical_test: 0.6552287834349364\n"
     ]
    }
   ],
   "source": [
    "print('r2_train_all:', r2_eval.evaluate(predictions_all_X_train))\n",
    "print('r2_numerical_train:', r2_eval.evaluate(predictions_numerical_X_train))\n",
    "print()\n",
    "print('r2_test_all:', r2_eval.evaluate(predictions_all_X_test))\n",
    "print('r2_numerical_test:', r2_eval.evaluate(predictions_numerical_X_test))"
   ]
  },
  {
   "cell_type": "markdown",
   "id": "c60c9bd2",
   "metadata": {},
   "source": [
    "Самая ваджная метрика R2, потому что она показывает насколько лучше моя модель относительно среднего. Моя модель на тренировочных выборках лучше константной на 64%, на тестовых на 65%.\n",
    "\n",
    "На всех фичах данных метрика лучше чем только на численных. Вероятно, использовать все фичи луше, чем только численные."
   ]
  },
  {
   "cell_type": "markdown",
   "id": "757fd103",
   "metadata": {
    "id": "757fd103"
   },
   "source": [
    "# Анализ результатов"
   ]
  },
  {
   "cell_type": "markdown",
   "id": "3a09d4c9",
   "metadata": {},
   "source": [
    "Модель, которая построена на всех признаках, работает лучше, чем модель, построенная лишь на числовых признаках. Это означает, что категориальные признаки добавляют точности модели. Переобучения в данных нет, поскольку метрики на тренировочной и тестовой выборках отличаются слабо."
   ]
  }
 ],
 "metadata": {
  "ExecuteTimeLog": [
   {
    "duration": 49,
    "start_time": "2023-02-05T21:02:12.975Z"
   },
   {
    "duration": 423,
    "start_time": "2023-02-05T21:06:06.357Z"
   },
   {
    "duration": 54,
    "start_time": "2023-02-05T21:06:06.938Z"
   },
   {
    "duration": 47,
    "start_time": "2023-02-05T21:08:04.647Z"
   },
   {
    "duration": 46,
    "start_time": "2023-02-05T21:08:12.554Z"
   },
   {
    "duration": 47,
    "start_time": "2023-02-05T21:08:48.956Z"
   },
   {
    "duration": 24313,
    "start_time": "2023-02-05T21:09:03.750Z"
   },
   {
    "duration": 11365,
    "start_time": "2023-02-05T21:12:53.910Z"
   },
   {
    "duration": 814,
    "start_time": "2023-02-05T21:16:34.241Z"
   },
   {
    "duration": 404,
    "start_time": "2023-02-05T21:16:47.885Z"
   },
   {
    "duration": 8,
    "start_time": "2023-02-05T21:17:03.144Z"
   },
   {
    "duration": 336,
    "start_time": "2023-02-05T21:17:10.293Z"
   },
   {
    "duration": 354,
    "start_time": "2023-02-05T21:17:16.883Z"
   },
   {
    "duration": 77,
    "start_time": "2023-02-05T21:17:45.498Z"
   },
   {
    "duration": 258,
    "start_time": "2023-02-05T21:18:23.181Z"
   },
   {
    "duration": 63,
    "start_time": "2023-02-05T21:20:42.889Z"
   },
   {
    "duration": 56,
    "start_time": "2023-02-05T21:21:08.692Z"
   },
   {
    "duration": 854,
    "start_time": "2023-02-05T21:47:14.975Z"
   },
   {
    "duration": 15,
    "start_time": "2023-02-05T21:52:13.180Z"
   },
   {
    "duration": 9,
    "start_time": "2023-02-05T21:52:21.548Z"
   },
   {
    "duration": 8,
    "start_time": "2023-02-05T21:52:34.092Z"
   },
   {
    "duration": 422,
    "start_time": "2023-02-05T21:52:53.400Z"
   },
   {
    "duration": 15728,
    "start_time": "2023-02-05T21:52:53.824Z"
   },
   {
    "duration": 9673,
    "start_time": "2023-02-05T21:53:09.554Z"
   },
   {
    "duration": 801,
    "start_time": "2023-02-05T21:53:19.229Z"
   },
   {
    "duration": 31,
    "start_time": "2023-02-05T21:53:20.032Z"
   },
   {
    "duration": 128,
    "start_time": "2023-02-05T21:53:20.064Z"
   },
   {
    "duration": 8,
    "start_time": "2023-02-05T21:56:47.522Z"
   },
   {
    "duration": 3825,
    "start_time": "2023-02-05T21:56:53.445Z"
   },
   {
    "duration": 11,
    "start_time": "2023-02-05T22:14:16.390Z"
   },
   {
    "duration": 21,
    "start_time": "2023-02-05T22:14:52.315Z"
   },
   {
    "duration": 4562,
    "start_time": "2023-02-05T22:14:57.469Z"
   },
   {
    "duration": 327,
    "start_time": "2023-02-05T22:25:42.823Z"
   },
   {
    "duration": 4,
    "start_time": "2023-02-05T22:25:44.780Z"
   },
   {
    "duration": 5,
    "start_time": "2023-02-05T22:28:00.656Z"
   },
   {
    "duration": 3,
    "start_time": "2023-02-05T22:29:37.612Z"
   },
   {
    "duration": 114,
    "start_time": "2023-02-05T22:30:49.672Z"
   },
   {
    "duration": 106,
    "start_time": "2023-02-05T22:50:40.023Z"
   },
   {
    "duration": 41,
    "start_time": "2023-02-05T22:51:35.988Z"
   },
   {
    "duration": 17,
    "start_time": "2023-02-05T22:52:39.454Z"
   },
   {
    "duration": 311,
    "start_time": "2023-02-05T22:56:33.733Z"
   },
   {
    "duration": 3,
    "start_time": "2023-02-05T22:56:54.120Z"
   },
   {
    "duration": 3,
    "start_time": "2023-02-05T23:00:22.906Z"
   },
   {
    "duration": 3,
    "start_time": "2023-02-05T23:04:44.540Z"
   },
   {
    "duration": 8,
    "start_time": "2023-02-05T23:06:24.396Z"
   },
   {
    "duration": 7,
    "start_time": "2023-02-05T23:06:39.985Z"
   },
   {
    "duration": 3,
    "start_time": "2023-02-05T23:07:29.113Z"
   },
   {
    "duration": 3,
    "start_time": "2023-02-05T23:09:40.421Z"
   },
   {
    "duration": 3,
    "start_time": "2023-02-05T23:09:58.941Z"
   },
   {
    "duration": 30,
    "start_time": "2023-02-05T23:17:08.978Z"
   },
   {
    "duration": 13,
    "start_time": "2023-02-05T23:18:16.614Z"
   },
   {
    "duration": 1653,
    "start_time": "2023-02-05T23:18:58.905Z"
   },
   {
    "duration": 88,
    "start_time": "2023-02-05T23:19:12.355Z"
   },
   {
    "duration": 691,
    "start_time": "2023-02-05T23:19:26.887Z"
   },
   {
    "duration": 14959,
    "start_time": "2023-02-05T23:19:27.579Z"
   },
   {
    "duration": 8696,
    "start_time": "2023-02-05T23:19:42.540Z"
   },
   {
    "duration": 791,
    "start_time": "2023-02-05T23:19:51.239Z"
   },
   {
    "duration": 39,
    "start_time": "2023-02-05T23:19:52.032Z"
   },
   {
    "duration": 3922,
    "start_time": "2023-02-05T23:19:52.127Z"
   },
   {
    "duration": 4436,
    "start_time": "2023-02-05T23:19:56.051Z"
   },
   {
    "duration": 112,
    "start_time": "2023-02-05T23:20:00.529Z"
   },
   {
    "duration": 4,
    "start_time": "2023-02-05T23:20:00.643Z"
   },
   {
    "duration": 1420,
    "start_time": "2023-02-05T23:20:00.651Z"
   },
   {
    "duration": 0,
    "start_time": "2023-02-05T23:20:02.072Z"
   },
   {
    "duration": 0,
    "start_time": "2023-02-05T23:20:02.074Z"
   },
   {
    "duration": 0,
    "start_time": "2023-02-05T23:20:02.075Z"
   },
   {
    "duration": 0,
    "start_time": "2023-02-05T23:20:02.076Z"
   },
   {
    "duration": 102,
    "start_time": "2023-02-05T23:20:13.327Z"
   },
   {
    "duration": 746,
    "start_time": "2023-02-05T23:20:27.422Z"
   },
   {
    "duration": 15175,
    "start_time": "2023-02-05T23:20:28.170Z"
   },
   {
    "duration": 8209,
    "start_time": "2023-02-05T23:20:43.347Z"
   },
   {
    "duration": 769,
    "start_time": "2023-02-05T23:20:51.558Z"
   },
   {
    "duration": 30,
    "start_time": "2023-02-05T23:20:52.328Z"
   },
   {
    "duration": 4410,
    "start_time": "2023-02-05T23:20:52.360Z"
   },
   {
    "duration": 4511,
    "start_time": "2023-02-05T23:20:56.827Z"
   },
   {
    "duration": 106,
    "start_time": "2023-02-05T23:21:01.340Z"
   },
   {
    "duration": 4,
    "start_time": "2023-02-05T23:21:01.448Z"
   },
   {
    "duration": 1586,
    "start_time": "2023-02-05T23:21:01.454Z"
   },
   {
    "duration": 3,
    "start_time": "2023-02-05T23:21:03.042Z"
   },
   {
    "duration": 4,
    "start_time": "2023-02-05T23:21:03.047Z"
   },
   {
    "duration": 5,
    "start_time": "2023-02-05T23:21:03.053Z"
   },
   {
    "duration": 67,
    "start_time": "2023-02-05T23:21:03.060Z"
   },
   {
    "duration": 201,
    "start_time": "2023-02-05T23:24:24.214Z"
   },
   {
    "duration": 47,
    "start_time": "2023-02-05T23:25:45.135Z"
   },
   {
    "duration": 53,
    "start_time": "2023-02-05T23:27:05.402Z"
   },
   {
    "duration": 265,
    "start_time": "2023-02-05T23:27:08.197Z"
   },
   {
    "duration": 269,
    "start_time": "2023-02-05T23:28:51.727Z"
   },
   {
    "duration": 459,
    "start_time": "2023-02-05T23:31:31.995Z"
   },
   {
    "duration": 3052,
    "start_time": "2023-02-05T23:31:42.405Z"
   },
   {
    "duration": 4566,
    "start_time": "2023-02-05T23:31:52.380Z"
   },
   {
    "duration": 10,
    "start_time": "2023-02-05T23:34:39.088Z"
   },
   {
    "duration": 103,
    "start_time": "2023-02-05T23:35:01.646Z"
   },
   {
    "duration": 99,
    "start_time": "2023-02-05T23:35:55.685Z"
   },
   {
    "duration": 112,
    "start_time": "2023-02-05T23:36:32.842Z"
   },
   {
    "duration": 93,
    "start_time": "2023-02-05T23:36:42.664Z"
   },
   {
    "duration": 370,
    "start_time": "2023-02-05T23:38:22.172Z"
   },
   {
    "duration": 755,
    "start_time": "2023-02-05T23:38:42.007Z"
   },
   {
    "duration": 15406,
    "start_time": "2023-02-05T23:38:42.764Z"
   },
   {
    "duration": 9055,
    "start_time": "2023-02-05T23:38:58.173Z"
   },
   {
    "duration": 806,
    "start_time": "2023-02-05T23:39:07.231Z"
   },
   {
    "duration": 89,
    "start_time": "2023-02-05T23:39:08.039Z"
   },
   {
    "duration": 4620,
    "start_time": "2023-02-05T23:39:08.131Z"
   },
   {
    "duration": 4629,
    "start_time": "2023-02-05T23:39:12.753Z"
   },
   {
    "duration": 33,
    "start_time": "2023-02-05T23:39:17.428Z"
   },
   {
    "duration": 5,
    "start_time": "2023-02-05T23:39:17.527Z"
   },
   {
    "duration": 612,
    "start_time": "2023-02-05T23:39:17.535Z"
   },
   {
    "duration": 305,
    "start_time": "2023-02-05T23:39:18.149Z"
   },
   {
    "duration": 0,
    "start_time": "2023-02-05T23:39:18.455Z"
   },
   {
    "duration": 0,
    "start_time": "2023-02-05T23:39:18.457Z"
   },
   {
    "duration": 0,
    "start_time": "2023-02-05T23:39:18.458Z"
   },
   {
    "duration": 0,
    "start_time": "2023-02-05T23:39:18.459Z"
   },
   {
    "duration": 1475,
    "start_time": "2023-02-05T23:39:45.852Z"
   },
   {
    "duration": 106,
    "start_time": "2023-02-05T23:40:04.243Z"
   },
   {
    "duration": 683,
    "start_time": "2023-02-05T23:40:28.186Z"
   },
   {
    "duration": 15275,
    "start_time": "2023-02-05T23:40:28.871Z"
   },
   {
    "duration": 9284,
    "start_time": "2023-02-05T23:40:44.149Z"
   },
   {
    "duration": 801,
    "start_time": "2023-02-05T23:40:53.435Z"
   },
   {
    "duration": 99,
    "start_time": "2023-02-05T23:40:54.241Z"
   },
   {
    "duration": 4287,
    "start_time": "2023-02-05T23:40:54.342Z"
   },
   {
    "duration": 5109,
    "start_time": "2023-02-05T23:40:58.631Z"
   },
   {
    "duration": 124,
    "start_time": "2023-02-05T23:41:03.742Z"
   },
   {
    "duration": 5,
    "start_time": "2023-02-05T23:41:03.928Z"
   },
   {
    "duration": 626,
    "start_time": "2023-02-05T23:41:03.936Z"
   },
   {
    "duration": 1510,
    "start_time": "2023-02-05T23:41:04.564Z"
   },
   {
    "duration": 0,
    "start_time": "2023-02-05T23:41:06.076Z"
   },
   {
    "duration": 0,
    "start_time": "2023-02-05T23:41:06.076Z"
   },
   {
    "duration": 0,
    "start_time": "2023-02-05T23:41:06.078Z"
   },
   {
    "duration": 0,
    "start_time": "2023-02-05T23:41:06.079Z"
   },
   {
    "duration": 984,
    "start_time": "2023-02-05T23:42:06.974Z"
   },
   {
    "duration": 695,
    "start_time": "2023-02-05T23:42:19.665Z"
   },
   {
    "duration": 14704,
    "start_time": "2023-02-05T23:42:20.362Z"
   },
   {
    "duration": 8788,
    "start_time": "2023-02-05T23:42:35.070Z"
   },
   {
    "duration": 688,
    "start_time": "2023-02-05T23:42:43.860Z"
   },
   {
    "duration": 99,
    "start_time": "2023-02-05T23:42:44.551Z"
   },
   {
    "duration": 4776,
    "start_time": "2023-02-05T23:42:44.652Z"
   },
   {
    "duration": 4998,
    "start_time": "2023-02-05T23:42:49.430Z"
   },
   {
    "duration": 124,
    "start_time": "2023-02-05T23:42:54.430Z"
   },
   {
    "duration": 71,
    "start_time": "2023-02-05T23:42:54.556Z"
   },
   {
    "duration": 611,
    "start_time": "2023-02-05T23:42:54.629Z"
   },
   {
    "duration": 1853,
    "start_time": "2023-02-05T23:42:55.242Z"
   },
   {
    "duration": 0,
    "start_time": "2023-02-05T23:42:57.097Z"
   },
   {
    "duration": 0,
    "start_time": "2023-02-05T23:42:57.098Z"
   },
   {
    "duration": 0,
    "start_time": "2023-02-05T23:42:57.098Z"
   },
   {
    "duration": 0,
    "start_time": "2023-02-05T23:42:57.099Z"
   },
   {
    "duration": 689,
    "start_time": "2023-02-05T23:44:20.983Z"
   },
   {
    "duration": 15158,
    "start_time": "2023-02-05T23:44:21.674Z"
   },
   {
    "duration": 8793,
    "start_time": "2023-02-05T23:44:36.834Z"
   },
   {
    "duration": 698,
    "start_time": "2023-02-05T23:44:45.630Z"
   },
   {
    "duration": 32,
    "start_time": "2023-02-05T23:44:46.329Z"
   },
   {
    "duration": 4582,
    "start_time": "2023-02-05T23:44:46.362Z"
   },
   {
    "duration": 4632,
    "start_time": "2023-02-05T23:44:50.946Z"
   },
   {
    "duration": 99,
    "start_time": "2023-02-05T23:44:55.628Z"
   },
   {
    "duration": 6,
    "start_time": "2023-02-05T23:44:55.729Z"
   },
   {
    "duration": 597,
    "start_time": "2023-02-05T23:44:55.737Z"
   },
   {
    "duration": 1715,
    "start_time": "2023-02-05T23:44:56.337Z"
   },
   {
    "duration": 0,
    "start_time": "2023-02-05T23:44:58.054Z"
   },
   {
    "duration": 0,
    "start_time": "2023-02-05T23:44:58.055Z"
   },
   {
    "duration": 0,
    "start_time": "2023-02-05T23:44:58.056Z"
   },
   {
    "duration": 0,
    "start_time": "2023-02-05T23:44:58.058Z"
   },
   {
    "duration": 8,
    "start_time": "2023-02-05T23:47:52.542Z"
   },
   {
    "duration": 694,
    "start_time": "2023-02-05T23:49:22.866Z"
   },
   {
    "duration": 15400,
    "start_time": "2023-02-05T23:49:23.562Z"
   },
   {
    "duration": 8994,
    "start_time": "2023-02-05T23:49:38.965Z"
   },
   {
    "duration": 870,
    "start_time": "2023-02-05T23:49:47.961Z"
   },
   {
    "duration": 93,
    "start_time": "2023-02-05T23:49:48.834Z"
   },
   {
    "duration": 4600,
    "start_time": "2023-02-05T23:49:48.929Z"
   },
   {
    "duration": 4634,
    "start_time": "2023-02-05T23:49:53.531Z"
   },
   {
    "duration": 169,
    "start_time": "2023-02-05T23:49:58.169Z"
   },
   {
    "duration": 5,
    "start_time": "2023-02-05T23:49:58.340Z"
   },
   {
    "duration": 608,
    "start_time": "2023-02-05T23:49:58.347Z"
   },
   {
    "duration": 1878,
    "start_time": "2023-02-05T23:49:58.957Z"
   },
   {
    "duration": 250,
    "start_time": "2023-02-05T23:50:00.837Z"
   },
   {
    "duration": 0,
    "start_time": "2023-02-05T23:50:01.089Z"
   },
   {
    "duration": 0,
    "start_time": "2023-02-05T23:50:01.090Z"
   },
   {
    "duration": 0,
    "start_time": "2023-02-05T23:50:01.095Z"
   },
   {
    "duration": 0,
    "start_time": "2023-02-05T23:50:01.096Z"
   },
   {
    "duration": 85,
    "start_time": "2023-02-05T23:50:09.581Z"
   },
   {
    "duration": 92,
    "start_time": "2023-02-05T23:50:24.281Z"
   },
   {
    "duration": 688,
    "start_time": "2023-02-05T23:50:32.075Z"
   },
   {
    "duration": 15567,
    "start_time": "2023-02-05T23:50:32.765Z"
   },
   {
    "duration": 9210,
    "start_time": "2023-02-05T23:50:48.335Z"
   },
   {
    "duration": 796,
    "start_time": "2023-02-05T23:50:57.547Z"
   },
   {
    "duration": 94,
    "start_time": "2023-02-05T23:50:58.348Z"
   },
   {
    "duration": 4808,
    "start_time": "2023-02-05T23:50:58.444Z"
   },
   {
    "duration": 4575,
    "start_time": "2023-02-05T23:51:03.253Z"
   },
   {
    "duration": 124,
    "start_time": "2023-02-05T23:51:07.829Z"
   },
   {
    "duration": 5,
    "start_time": "2023-02-05T23:51:07.955Z"
   },
   {
    "duration": 684,
    "start_time": "2023-02-05T23:51:07.961Z"
   },
   {
    "duration": 1694,
    "start_time": "2023-02-05T23:51:08.647Z"
   },
   {
    "duration": 243,
    "start_time": "2023-02-05T23:51:10.345Z"
   },
   {
    "duration": 0,
    "start_time": "2023-02-05T23:51:10.589Z"
   },
   {
    "duration": 0,
    "start_time": "2023-02-05T23:51:10.591Z"
   },
   {
    "duration": 1,
    "start_time": "2023-02-05T23:51:10.591Z"
   },
   {
    "duration": 0,
    "start_time": "2023-02-05T23:51:10.592Z"
   },
   {
    "duration": 813,
    "start_time": "2023-02-05T23:51:35.249Z"
   },
   {
    "duration": 3189,
    "start_time": "2023-02-05T23:52:42.957Z"
   },
   {
    "duration": 9,
    "start_time": "2023-02-06T00:00:08.021Z"
   },
   {
    "duration": 724,
    "start_time": "2023-02-06T00:01:45.441Z"
   },
   {
    "duration": 15379,
    "start_time": "2023-02-06T00:01:46.167Z"
   },
   {
    "duration": 8893,
    "start_time": "2023-02-06T00:02:01.548Z"
   },
   {
    "duration": 695,
    "start_time": "2023-02-06T00:02:10.444Z"
   },
   {
    "duration": 86,
    "start_time": "2023-02-06T00:02:11.141Z"
   },
   {
    "duration": 3928,
    "start_time": "2023-02-06T00:02:11.228Z"
   },
   {
    "duration": 5284,
    "start_time": "2023-02-06T00:02:15.158Z"
   },
   {
    "duration": 99,
    "start_time": "2023-02-06T00:02:20.444Z"
   },
   {
    "duration": 4,
    "start_time": "2023-02-06T00:02:20.545Z"
   },
   {
    "duration": 588,
    "start_time": "2023-02-06T00:02:20.551Z"
   },
   {
    "duration": 1726,
    "start_time": "2023-02-06T00:02:21.141Z"
   },
   {
    "duration": 274,
    "start_time": "2023-02-06T00:02:22.869Z"
   },
   {
    "duration": 0,
    "start_time": "2023-02-06T00:02:23.145Z"
   },
   {
    "duration": 0,
    "start_time": "2023-02-06T00:02:23.146Z"
   },
   {
    "duration": 0,
    "start_time": "2023-02-06T00:02:23.148Z"
   },
   {
    "duration": 0,
    "start_time": "2023-02-06T00:02:23.149Z"
   },
   {
    "duration": 0,
    "start_time": "2023-02-06T00:02:23.150Z"
   },
   {
    "duration": 730,
    "start_time": "2023-02-06T00:03:45.605Z"
   },
   {
    "duration": 14800,
    "start_time": "2023-02-06T00:03:46.338Z"
   },
   {
    "duration": 8230,
    "start_time": "2023-02-06T00:04:01.141Z"
   },
   {
    "duration": 687,
    "start_time": "2023-02-06T00:04:09.372Z"
   },
   {
    "duration": 94,
    "start_time": "2023-02-06T00:04:10.061Z"
   },
   {
    "duration": 4291,
    "start_time": "2023-02-06T00:04:10.156Z"
   },
   {
    "duration": 4815,
    "start_time": "2023-02-06T00:04:14.449Z"
   },
   {
    "duration": 33,
    "start_time": "2023-02-06T00:04:19.326Z"
   },
   {
    "duration": 71,
    "start_time": "2023-02-06T00:04:19.360Z"
   },
   {
    "duration": 601,
    "start_time": "2023-02-06T00:04:19.433Z"
   },
   {
    "duration": 1725,
    "start_time": "2023-02-06T00:04:20.036Z"
   },
   {
    "duration": 172,
    "start_time": "2023-02-06T00:04:21.762Z"
   },
   {
    "duration": 127,
    "start_time": "2023-02-06T00:04:21.936Z"
   },
   {
    "duration": 0,
    "start_time": "2023-02-06T00:04:22.065Z"
   },
   {
    "duration": 0,
    "start_time": "2023-02-06T00:04:22.066Z"
   },
   {
    "duration": 0,
    "start_time": "2023-02-06T00:04:22.068Z"
   },
   {
    "duration": 0,
    "start_time": "2023-02-06T00:04:22.070Z"
   },
   {
    "duration": 21,
    "start_time": "2023-02-06T00:04:38.637Z"
   },
   {
    "duration": 8,
    "start_time": "2023-02-06T00:06:50.998Z"
   },
   {
    "duration": 283,
    "start_time": "2023-02-06T00:06:56.969Z"
   },
   {
    "duration": 14,
    "start_time": "2023-02-06T00:07:23.745Z"
   },
   {
    "duration": 9,
    "start_time": "2023-02-06T00:07:35.113Z"
   },
   {
    "duration": 9,
    "start_time": "2023-02-06T00:07:42.035Z"
   },
   {
    "duration": 17,
    "start_time": "2023-02-06T00:07:53.462Z"
   },
   {
    "duration": 10,
    "start_time": "2023-02-06T00:08:45.187Z"
   },
   {
    "duration": 21,
    "start_time": "2023-02-06T00:08:58.594Z"
   },
   {
    "duration": 707,
    "start_time": "2023-02-06T00:09:57.324Z"
   },
   {
    "duration": 14919,
    "start_time": "2023-02-06T00:09:58.033Z"
   },
   {
    "duration": 8876,
    "start_time": "2023-02-06T00:10:12.954Z"
   },
   {
    "duration": 628,
    "start_time": "2023-02-06T00:10:21.831Z"
   },
   {
    "duration": 29,
    "start_time": "2023-02-06T00:10:22.530Z"
   },
   {
    "duration": 3980,
    "start_time": "2023-02-06T00:10:22.560Z"
   },
   {
    "duration": 4398,
    "start_time": "2023-02-06T00:10:26.542Z"
   },
   {
    "duration": 105,
    "start_time": "2023-02-06T00:10:30.943Z"
   },
   {
    "duration": 5,
    "start_time": "2023-02-06T00:10:31.050Z"
   },
   {
    "duration": 133,
    "start_time": "2023-02-06T00:10:31.057Z"
   },
   {
    "duration": 0,
    "start_time": "2023-02-06T00:10:31.193Z"
   },
   {
    "duration": 0,
    "start_time": "2023-02-06T00:10:31.194Z"
   },
   {
    "duration": 0,
    "start_time": "2023-02-06T00:10:31.195Z"
   },
   {
    "duration": 0,
    "start_time": "2023-02-06T00:10:31.196Z"
   },
   {
    "duration": 0,
    "start_time": "2023-02-06T00:10:31.197Z"
   },
   {
    "duration": 0,
    "start_time": "2023-02-06T00:10:31.197Z"
   },
   {
    "duration": 0,
    "start_time": "2023-02-06T00:10:31.198Z"
   },
   {
    "duration": 0,
    "start_time": "2023-02-06T00:10:31.204Z"
   },
   {
    "duration": 377,
    "start_time": "2023-02-06T00:10:58.860Z"
   },
   {
    "duration": 1740,
    "start_time": "2023-02-06T00:11:01.013Z"
   },
   {
    "duration": 91,
    "start_time": "2023-02-06T00:11:02.755Z"
   },
   {
    "duration": 93,
    "start_time": "2023-02-06T00:11:02.849Z"
   },
   {
    "duration": 110,
    "start_time": "2023-02-06T00:11:02.944Z"
   },
   {
    "duration": 23,
    "start_time": "2023-02-06T00:11:33.699Z"
   },
   {
    "duration": 8,
    "start_time": "2023-02-06T00:17:51.197Z"
   },
   {
    "duration": 736,
    "start_time": "2023-02-06T00:18:02.433Z"
   },
   {
    "duration": 15061,
    "start_time": "2023-02-06T00:18:03.171Z"
   },
   {
    "duration": 8710,
    "start_time": "2023-02-06T00:18:18.234Z"
   },
   {
    "duration": 692,
    "start_time": "2023-02-06T00:18:26.946Z"
   },
   {
    "duration": 90,
    "start_time": "2023-02-06T00:18:27.642Z"
   },
   {
    "duration": 4394,
    "start_time": "2023-02-06T00:18:27.734Z"
   },
   {
    "duration": 4813,
    "start_time": "2023-02-06T00:18:32.130Z"
   },
   {
    "duration": 105,
    "start_time": "2023-02-06T00:18:36.945Z"
   },
   {
    "duration": 4,
    "start_time": "2023-02-06T00:18:37.052Z"
   },
   {
    "duration": 488,
    "start_time": "2023-02-06T00:18:37.058Z"
   },
   {
    "duration": 1993,
    "start_time": "2023-02-06T00:18:37.548Z"
   },
   {
    "duration": 0,
    "start_time": "2023-02-06T00:18:39.543Z"
   },
   {
    "duration": 0,
    "start_time": "2023-02-06T00:18:39.544Z"
   },
   {
    "duration": 0,
    "start_time": "2023-02-06T00:18:39.545Z"
   },
   {
    "duration": 0,
    "start_time": "2023-02-06T00:18:39.546Z"
   },
   {
    "duration": 0,
    "start_time": "2023-02-06T00:18:39.547Z"
   },
   {
    "duration": 0,
    "start_time": "2023-02-06T00:18:39.551Z"
   },
   {
    "duration": 0,
    "start_time": "2023-02-06T00:18:39.552Z"
   },
   {
    "duration": 764,
    "start_time": "2023-02-06T00:19:22.900Z"
   },
   {
    "duration": 15077,
    "start_time": "2023-02-06T00:19:23.666Z"
   },
   {
    "duration": 8582,
    "start_time": "2023-02-06T00:19:38.745Z"
   },
   {
    "duration": 809,
    "start_time": "2023-02-06T00:19:47.330Z"
   },
   {
    "duration": 89,
    "start_time": "2023-02-06T00:19:48.141Z"
   },
   {
    "duration": 3926,
    "start_time": "2023-02-06T00:19:48.231Z"
   },
   {
    "duration": 4500,
    "start_time": "2023-02-06T00:19:52.159Z"
   },
   {
    "duration": 176,
    "start_time": "2023-02-06T00:19:56.661Z"
   },
   {
    "duration": 4,
    "start_time": "2023-02-06T00:19:56.839Z"
   },
   {
    "duration": 411,
    "start_time": "2023-02-06T00:19:56.845Z"
   },
   {
    "duration": 1588,
    "start_time": "2023-02-06T00:19:57.258Z"
   },
   {
    "duration": 0,
    "start_time": "2023-02-06T00:19:58.847Z"
   },
   {
    "duration": 0,
    "start_time": "2023-02-06T00:19:58.848Z"
   },
   {
    "duration": 0,
    "start_time": "2023-02-06T00:19:58.849Z"
   },
   {
    "duration": 0,
    "start_time": "2023-02-06T00:19:58.851Z"
   },
   {
    "duration": 0,
    "start_time": "2023-02-06T00:19:58.851Z"
   },
   {
    "duration": 0,
    "start_time": "2023-02-06T00:19:58.852Z"
   },
   {
    "duration": 0,
    "start_time": "2023-02-06T00:19:58.853Z"
   },
   {
    "duration": 91,
    "start_time": "2023-02-06T00:20:16.684Z"
   },
   {
    "duration": 725,
    "start_time": "2023-02-06T00:20:26.144Z"
   },
   {
    "duration": 14794,
    "start_time": "2023-02-06T00:20:26.871Z"
   },
   {
    "duration": 8760,
    "start_time": "2023-02-06T00:20:41.667Z"
   },
   {
    "duration": 701,
    "start_time": "2023-02-06T00:20:50.430Z"
   },
   {
    "duration": 28,
    "start_time": "2023-02-06T00:20:51.133Z"
   },
   {
    "duration": 3996,
    "start_time": "2023-02-06T00:20:51.163Z"
   },
   {
    "duration": 4621,
    "start_time": "2023-02-06T00:20:55.161Z"
   },
   {
    "duration": 112,
    "start_time": "2023-02-06T00:20:59.828Z"
   },
   {
    "duration": 4,
    "start_time": "2023-02-06T00:20:59.942Z"
   },
   {
    "duration": 487,
    "start_time": "2023-02-06T00:20:59.948Z"
   },
   {
    "duration": 1739,
    "start_time": "2023-02-06T00:21:00.436Z"
   },
   {
    "duration": 0,
    "start_time": "2023-02-06T00:21:02.176Z"
   },
   {
    "duration": 0,
    "start_time": "2023-02-06T00:21:02.178Z"
   },
   {
    "duration": 0,
    "start_time": "2023-02-06T00:21:02.179Z"
   },
   {
    "duration": 0,
    "start_time": "2023-02-06T00:21:02.180Z"
   },
   {
    "duration": 0,
    "start_time": "2023-02-06T00:21:02.181Z"
   },
   {
    "duration": 0,
    "start_time": "2023-02-06T00:21:02.182Z"
   },
   {
    "duration": 0,
    "start_time": "2023-02-06T00:21:02.184Z"
   },
   {
    "duration": 659,
    "start_time": "2023-02-06T00:21:47.814Z"
   },
   {
    "duration": 14261,
    "start_time": "2023-02-06T00:21:48.475Z"
   },
   {
    "duration": 8023,
    "start_time": "2023-02-06T00:22:02.738Z"
   },
   {
    "duration": 715,
    "start_time": "2023-02-06T00:22:10.827Z"
   },
   {
    "duration": 88,
    "start_time": "2023-02-06T00:22:11.544Z"
   },
   {
    "duration": 3812,
    "start_time": "2023-02-06T00:22:11.634Z"
   },
   {
    "duration": 4680,
    "start_time": "2023-02-06T00:22:15.449Z"
   },
   {
    "duration": 115,
    "start_time": "2023-02-06T00:22:20.131Z"
   },
   {
    "duration": 5,
    "start_time": "2023-02-06T00:22:20.247Z"
   },
   {
    "duration": 498,
    "start_time": "2023-02-06T00:22:20.254Z"
   },
   {
    "duration": 1800,
    "start_time": "2023-02-06T00:22:20.754Z"
   },
   {
    "duration": 176,
    "start_time": "2023-02-06T00:22:22.556Z"
   },
   {
    "duration": 119,
    "start_time": "2023-02-06T00:22:22.733Z"
   },
   {
    "duration": 188,
    "start_time": "2023-02-06T00:22:22.856Z"
   },
   {
    "duration": 0,
    "start_time": "2023-02-06T00:22:23.046Z"
   },
   {
    "duration": 0,
    "start_time": "2023-02-06T00:22:23.047Z"
   },
   {
    "duration": 0,
    "start_time": "2023-02-06T00:22:23.049Z"
   },
   {
    "duration": 0,
    "start_time": "2023-02-06T00:22:23.050Z"
   },
   {
    "duration": 1719,
    "start_time": "2023-02-06T00:22:53.212Z"
   },
   {
    "duration": 451,
    "start_time": "2023-02-06T00:24:59.590Z"
   },
   {
    "duration": 1122,
    "start_time": "2023-02-06T00:25:25.314Z"
   },
   {
    "duration": 724,
    "start_time": "2023-02-06T00:29:00.645Z"
   },
   {
    "duration": 14805,
    "start_time": "2023-02-06T00:29:01.371Z"
   },
   {
    "duration": 8630,
    "start_time": "2023-02-06T00:29:16.228Z"
   },
   {
    "duration": 786,
    "start_time": "2023-02-06T00:29:24.859Z"
   },
   {
    "duration": 92,
    "start_time": "2023-02-06T00:29:25.650Z"
   },
   {
    "duration": 4500,
    "start_time": "2023-02-06T00:29:25.744Z"
   },
   {
    "duration": 286,
    "start_time": "2023-02-06T00:29:30.246Z"
   },
   {
    "duration": 4530,
    "start_time": "2023-02-06T00:29:30.534Z"
   },
   {
    "duration": 163,
    "start_time": "2023-02-06T00:29:35.067Z"
   },
   {
    "duration": 5,
    "start_time": "2023-02-06T00:29:35.232Z"
   },
   {
    "duration": 492,
    "start_time": "2023-02-06T00:29:35.239Z"
   },
   {
    "duration": 1700,
    "start_time": "2023-02-06T00:29:35.734Z"
   },
   {
    "duration": 125,
    "start_time": "2023-02-06T00:29:37.436Z"
   },
   {
    "duration": 263,
    "start_time": "2023-02-06T00:29:37.564Z"
   },
   {
    "duration": 710,
    "start_time": "2023-02-06T00:29:37.828Z"
   },
   {
    "duration": 2088,
    "start_time": "2023-02-06T00:29:38.539Z"
   },
   {
    "duration": 0,
    "start_time": "2023-02-06T00:29:40.629Z"
   },
   {
    "duration": 0,
    "start_time": "2023-02-06T00:29:40.631Z"
   },
   {
    "duration": 0,
    "start_time": "2023-02-06T00:29:40.632Z"
   },
   {
    "duration": 0,
    "start_time": "2023-02-06T00:29:40.634Z"
   },
   {
    "duration": 710,
    "start_time": "2023-02-06T00:29:54.960Z"
   },
   {
    "duration": 14859,
    "start_time": "2023-02-06T00:29:55.672Z"
   },
   {
    "duration": 8698,
    "start_time": "2023-02-06T00:30:10.533Z"
   },
   {
    "duration": 817,
    "start_time": "2023-02-06T00:30:19.234Z"
   },
   {
    "duration": 98,
    "start_time": "2023-02-06T00:30:20.053Z"
   },
   {
    "duration": 4393,
    "start_time": "2023-02-06T00:30:20.153Z"
   },
   {
    "duration": 436,
    "start_time": "2023-02-06T00:30:24.548Z"
   },
   {
    "duration": 4368,
    "start_time": "2023-02-06T00:30:24.985Z"
   },
   {
    "duration": 172,
    "start_time": "2023-02-06T00:30:29.355Z"
   },
   {
    "duration": 4,
    "start_time": "2023-02-06T00:30:29.530Z"
   },
   {
    "duration": 425,
    "start_time": "2023-02-06T00:30:29.536Z"
   },
   {
    "duration": 1799,
    "start_time": "2023-02-06T00:30:30.028Z"
   },
   {
    "duration": 143,
    "start_time": "2023-02-06T00:30:31.829Z"
   },
   {
    "duration": 130,
    "start_time": "2023-02-06T00:30:32.028Z"
   },
   {
    "duration": 775,
    "start_time": "2023-02-06T00:30:32.159Z"
   },
   {
    "duration": 1818,
    "start_time": "2023-02-06T00:30:32.935Z"
   },
   {
    "duration": 0,
    "start_time": "2023-02-06T00:30:34.754Z"
   },
   {
    "duration": 0,
    "start_time": "2023-02-06T00:30:34.756Z"
   },
   {
    "duration": 0,
    "start_time": "2023-02-06T00:30:34.756Z"
   },
   {
    "duration": 0,
    "start_time": "2023-02-06T00:30:34.757Z"
   },
   {
    "duration": 1031,
    "start_time": "2023-02-06T00:31:04.705Z"
   },
   {
    "duration": 448,
    "start_time": "2023-02-06T00:31:20.911Z"
   },
   {
    "duration": 12,
    "start_time": "2023-02-06T00:32:18.262Z"
   },
   {
    "duration": 681,
    "start_time": "2023-02-06T00:32:45.846Z"
   },
   {
    "duration": 2593,
    "start_time": "2023-02-06T00:33:15.862Z"
   },
   {
    "duration": 424,
    "start_time": "2023-02-06T00:33:23.526Z"
   },
   {
    "duration": 247,
    "start_time": "2023-02-06T00:33:36.388Z"
   },
   {
    "duration": 324,
    "start_time": "2023-02-06T00:35:17.518Z"
   },
   {
    "duration": 21,
    "start_time": "2023-02-06T00:37:06.059Z"
   },
   {
    "duration": 1003,
    "start_time": "2023-02-06T00:37:07.361Z"
   },
   {
    "duration": 667,
    "start_time": "2023-02-06T00:37:17.201Z"
   },
   {
    "duration": 14681,
    "start_time": "2023-02-06T00:37:17.870Z"
   },
   {
    "duration": 8504,
    "start_time": "2023-02-06T00:37:32.554Z"
   },
   {
    "duration": 781,
    "start_time": "2023-02-06T00:37:41.060Z"
   },
   {
    "duration": 93,
    "start_time": "2023-02-06T00:37:41.843Z"
   },
   {
    "duration": 4214,
    "start_time": "2023-02-06T00:37:41.938Z"
   },
   {
    "duration": 382,
    "start_time": "2023-02-06T00:37:46.153Z"
   },
   {
    "duration": 4613,
    "start_time": "2023-02-06T00:37:46.537Z"
   },
   {
    "duration": 101,
    "start_time": "2023-02-06T00:37:51.152Z"
   },
   {
    "duration": 6,
    "start_time": "2023-02-06T00:37:51.255Z"
   },
   {
    "duration": 26,
    "start_time": "2023-02-06T00:37:51.327Z"
   },
   {
    "duration": 2325,
    "start_time": "2023-02-06T00:37:51.355Z"
   },
   {
    "duration": 153,
    "start_time": "2023-02-06T00:37:53.681Z"
   },
   {
    "duration": 124,
    "start_time": "2023-02-06T00:37:53.838Z"
   },
   {
    "duration": 395,
    "start_time": "2023-02-06T00:37:53.964Z"
   },
   {
    "duration": 1872,
    "start_time": "2023-02-06T00:37:54.361Z"
   },
   {
    "duration": 0,
    "start_time": "2023-02-06T00:37:56.234Z"
   },
   {
    "duration": 0,
    "start_time": "2023-02-06T00:37:56.236Z"
   },
   {
    "duration": 0,
    "start_time": "2023-02-06T00:37:56.236Z"
   },
   {
    "duration": 0,
    "start_time": "2023-02-06T00:37:56.237Z"
   },
   {
    "duration": 471,
    "start_time": "2023-02-06T00:38:18.179Z"
   },
   {
    "duration": 24,
    "start_time": "2023-02-06T00:40:43.980Z"
   },
   {
    "duration": 4194,
    "start_time": "2023-02-06T00:40:50.845Z"
   },
   {
    "duration": 3519,
    "start_time": "2023-02-06T00:41:06.528Z"
   },
   {
    "duration": 9,
    "start_time": "2023-02-06T00:42:57.940Z"
   },
   {
    "duration": 293,
    "start_time": "2023-02-06T00:43:02.178Z"
   },
   {
    "duration": 930,
    "start_time": "2023-02-06T00:43:15.405Z"
   },
   {
    "duration": 415,
    "start_time": "2023-02-06T00:44:31.060Z"
   },
   {
    "duration": 721,
    "start_time": "2023-02-06T00:45:00.145Z"
   },
   {
    "duration": 14683,
    "start_time": "2023-02-06T00:45:00.868Z"
   },
   {
    "duration": 8206,
    "start_time": "2023-02-06T00:45:15.553Z"
   },
   {
    "duration": 685,
    "start_time": "2023-02-06T00:45:23.761Z"
   },
   {
    "duration": 95,
    "start_time": "2023-02-06T00:45:24.450Z"
   },
   {
    "duration": 3981,
    "start_time": "2023-02-06T00:45:24.546Z"
   },
   {
    "duration": 321,
    "start_time": "2023-02-06T00:45:28.529Z"
   },
   {
    "duration": 4601,
    "start_time": "2023-02-06T00:45:28.852Z"
   },
   {
    "duration": 103,
    "start_time": "2023-02-06T00:45:33.455Z"
   },
   {
    "duration": 5,
    "start_time": "2023-02-06T00:45:33.627Z"
   },
   {
    "duration": 34,
    "start_time": "2023-02-06T00:45:33.633Z"
   },
   {
    "duration": 2284,
    "start_time": "2023-02-06T00:45:33.669Z"
   },
   {
    "duration": 93,
    "start_time": "2023-02-06T00:45:35.955Z"
   },
   {
    "duration": 138,
    "start_time": "2023-02-06T00:45:36.052Z"
   },
   {
    "duration": 0,
    "start_time": "2023-02-06T00:45:36.192Z"
   },
   {
    "duration": 0,
    "start_time": "2023-02-06T00:45:36.193Z"
   },
   {
    "duration": 0,
    "start_time": "2023-02-06T00:45:36.194Z"
   },
   {
    "duration": 0,
    "start_time": "2023-02-06T00:45:36.196Z"
   },
   {
    "duration": 0,
    "start_time": "2023-02-06T00:45:36.197Z"
   },
   {
    "duration": 0,
    "start_time": "2023-02-06T00:45:36.199Z"
   },
   {
    "duration": 2090,
    "start_time": "2023-02-06T00:45:46.293Z"
   },
   {
    "duration": 90,
    "start_time": "2023-02-06T00:46:43.213Z"
   },
   {
    "duration": 750,
    "start_time": "2023-02-06T00:46:59.817Z"
   },
   {
    "duration": 14958,
    "start_time": "2023-02-06T00:47:00.569Z"
   },
   {
    "duration": 8128,
    "start_time": "2023-02-06T00:47:15.530Z"
   },
   {
    "duration": 691,
    "start_time": "2023-02-06T00:47:23.660Z"
   },
   {
    "duration": 97,
    "start_time": "2023-02-06T00:47:24.355Z"
   },
   {
    "duration": 4215,
    "start_time": "2023-02-06T00:47:24.454Z"
   },
   {
    "duration": 384,
    "start_time": "2023-02-06T00:47:28.671Z"
   },
   {
    "duration": 4670,
    "start_time": "2023-02-06T00:47:29.057Z"
   },
   {
    "duration": 111,
    "start_time": "2023-02-06T00:47:33.729Z"
   },
   {
    "duration": 4,
    "start_time": "2023-02-06T00:47:33.842Z"
   },
   {
    "duration": 86,
    "start_time": "2023-02-06T00:47:33.847Z"
   },
   {
    "duration": 2342,
    "start_time": "2023-02-06T00:47:33.935Z"
   },
   {
    "duration": 90,
    "start_time": "2023-02-06T00:47:36.279Z"
   },
   {
    "duration": 2,
    "start_time": "2023-02-06T00:47:36.429Z"
   },
   {
    "duration": 2230,
    "start_time": "2023-02-06T00:47:36.433Z"
   },
   {
    "duration": 352,
    "start_time": "2023-02-06T00:47:38.664Z"
   },
   {
    "duration": 1,
    "start_time": "2023-02-06T00:47:39.017Z"
   },
   {
    "duration": 0,
    "start_time": "2023-02-06T00:47:39.019Z"
   },
   {
    "duration": 0,
    "start_time": "2023-02-06T00:47:39.023Z"
   },
   {
    "duration": 0,
    "start_time": "2023-02-06T00:47:39.024Z"
   },
   {
    "duration": 97,
    "start_time": "2023-02-06T00:48:12.568Z"
   },
   {
    "duration": 89,
    "start_time": "2023-02-06T00:48:24.649Z"
   },
   {
    "duration": 768,
    "start_time": "2023-02-06T00:48:25.971Z"
   },
   {
    "duration": 81057,
    "start_time": "2023-02-06T00:48:50.804Z"
   },
   {
    "duration": 703,
    "start_time": "2023-02-06T00:50:34.862Z"
   },
   {
    "duration": 14783,
    "start_time": "2023-02-06T00:50:35.568Z"
   },
   {
    "duration": 8498,
    "start_time": "2023-02-06T00:50:50.354Z"
   },
   {
    "duration": 683,
    "start_time": "2023-02-06T00:50:58.855Z"
   },
   {
    "duration": 29,
    "start_time": "2023-02-06T00:50:59.540Z"
   },
   {
    "duration": 3873,
    "start_time": "2023-02-06T00:50:59.571Z"
   },
   {
    "duration": 298,
    "start_time": "2023-02-06T00:51:03.445Z"
   },
   {
    "duration": 4427,
    "start_time": "2023-02-06T00:51:03.745Z"
   },
   {
    "duration": 0,
    "start_time": "2023-02-06T00:51:08.174Z"
   },
   {
    "duration": 0,
    "start_time": "2023-02-06T00:51:08.175Z"
   },
   {
    "duration": 0,
    "start_time": "2023-02-06T00:51:08.176Z"
   },
   {
    "duration": 0,
    "start_time": "2023-02-06T00:51:08.180Z"
   },
   {
    "duration": 0,
    "start_time": "2023-02-06T00:51:08.181Z"
   },
   {
    "duration": 0,
    "start_time": "2023-02-06T00:51:08.182Z"
   },
   {
    "duration": 0,
    "start_time": "2023-02-06T00:51:08.183Z"
   },
   {
    "duration": 0,
    "start_time": "2023-02-06T00:51:08.184Z"
   },
   {
    "duration": 0,
    "start_time": "2023-02-06T00:51:08.186Z"
   },
   {
    "duration": 0,
    "start_time": "2023-02-06T00:51:08.187Z"
   },
   {
    "duration": 0,
    "start_time": "2023-02-06T00:51:08.188Z"
   },
   {
    "duration": 0,
    "start_time": "2023-02-06T00:51:08.189Z"
   },
   {
    "duration": 3057,
    "start_time": "2023-02-06T00:51:15.905Z"
   },
   {
    "duration": 3184,
    "start_time": "2023-02-06T00:51:25.392Z"
   },
   {
    "duration": 4,
    "start_time": "2023-02-06T00:52:18.990Z"
   },
   {
    "duration": 3023,
    "start_time": "2023-02-06T00:52:23.255Z"
   },
   {
    "duration": 750,
    "start_time": "2023-02-06T00:59:01.011Z"
   },
   {
    "duration": 14969,
    "start_time": "2023-02-06T00:59:01.763Z"
   },
   {
    "duration": 8118,
    "start_time": "2023-02-06T00:59:16.734Z"
   },
   {
    "duration": 690,
    "start_time": "2023-02-06T00:59:24.854Z"
   },
   {
    "duration": 99,
    "start_time": "2023-02-06T00:59:25.548Z"
   },
   {
    "duration": 4012,
    "start_time": "2023-02-06T00:59:25.648Z"
   },
   {
    "duration": 282,
    "start_time": "2023-02-06T00:59:29.661Z"
   },
   {
    "duration": 5313,
    "start_time": "2023-02-06T00:59:29.945Z"
   },
   {
    "duration": 93,
    "start_time": "2023-02-06T00:59:35.261Z"
   },
   {
    "duration": 4,
    "start_time": "2023-02-06T00:59:35.356Z"
   },
   {
    "duration": 87,
    "start_time": "2023-02-06T00:59:35.362Z"
   },
   {
    "duration": 2488,
    "start_time": "2023-02-06T00:59:35.451Z"
   },
   {
    "duration": 104,
    "start_time": "2023-02-06T00:59:37.941Z"
   },
   {
    "duration": 197,
    "start_time": "2023-02-06T00:59:38.048Z"
   },
   {
    "duration": 3096,
    "start_time": "2023-02-06T00:59:38.247Z"
   },
   {
    "duration": 51107,
    "start_time": "2023-02-06T00:59:41.345Z"
   },
   {
    "duration": 0,
    "start_time": "2023-02-06T01:00:32.454Z"
   },
   {
    "duration": 0,
    "start_time": "2023-02-06T01:00:32.455Z"
   },
   {
    "duration": 0,
    "start_time": "2023-02-06T01:00:32.456Z"
   },
   {
    "duration": 0,
    "start_time": "2023-02-06T01:00:32.457Z"
   },
   {
    "duration": 25909,
    "start_time": "2023-02-06T01:00:57.085Z"
   },
   {
    "duration": 742,
    "start_time": "2023-02-06T01:04:16.825Z"
   },
   {
    "duration": 14303,
    "start_time": "2023-02-06T01:04:17.569Z"
   },
   {
    "duration": 8183,
    "start_time": "2023-02-06T01:04:31.874Z"
   },
   {
    "duration": 783,
    "start_time": "2023-02-06T01:04:40.059Z"
   },
   {
    "duration": 85,
    "start_time": "2023-02-06T01:04:40.845Z"
   },
   {
    "duration": 4103,
    "start_time": "2023-02-06T01:04:40.932Z"
   },
   {
    "duration": 312,
    "start_time": "2023-02-06T01:04:45.036Z"
   },
   {
    "duration": 5298,
    "start_time": "2023-02-06T01:04:45.350Z"
   },
   {
    "duration": 94,
    "start_time": "2023-02-06T01:04:50.650Z"
   },
   {
    "duration": 4,
    "start_time": "2023-02-06T01:04:50.746Z"
   },
   {
    "duration": 78,
    "start_time": "2023-02-06T01:04:50.751Z"
   },
   {
    "duration": 2248,
    "start_time": "2023-02-06T01:04:50.831Z"
   },
   {
    "duration": 167,
    "start_time": "2023-02-06T01:04:53.081Z"
   },
   {
    "duration": 176,
    "start_time": "2023-02-06T01:04:53.252Z"
   },
   {
    "duration": 3358,
    "start_time": "2023-02-06T01:04:53.430Z"
   },
   {
    "duration": 185073,
    "start_time": "2023-02-06T01:04:56.790Z"
   },
   {
    "duration": 0,
    "start_time": "2023-02-06T01:08:01.864Z"
   },
   {
    "duration": 0,
    "start_time": "2023-02-06T01:08:01.865Z"
   },
   {
    "duration": 0,
    "start_time": "2023-02-06T01:08:01.866Z"
   },
   {
    "duration": 0,
    "start_time": "2023-02-06T01:08:01.867Z"
   },
   {
    "duration": 627,
    "start_time": "2023-02-06T01:08:51.254Z"
   },
   {
    "duration": 14922,
    "start_time": "2023-02-06T01:08:51.928Z"
   },
   {
    "duration": 8502,
    "start_time": "2023-02-06T01:09:06.853Z"
   },
   {
    "duration": 773,
    "start_time": "2023-02-06T01:09:15.357Z"
   },
   {
    "duration": 28,
    "start_time": "2023-02-06T01:09:16.135Z"
   },
   {
    "duration": 3996,
    "start_time": "2023-02-06T01:09:16.165Z"
   },
   {
    "duration": 421,
    "start_time": "2023-02-06T01:09:20.163Z"
   },
   {
    "duration": 5603,
    "start_time": "2023-02-06T01:09:20.626Z"
   },
   {
    "duration": 103,
    "start_time": "2023-02-06T01:09:26.231Z"
   },
   {
    "duration": 4,
    "start_time": "2023-02-06T01:09:26.336Z"
   },
   {
    "duration": 88,
    "start_time": "2023-02-06T01:09:26.341Z"
   },
   {
    "duration": 2217,
    "start_time": "2023-02-06T01:09:26.431Z"
   },
   {
    "duration": 182,
    "start_time": "2023-02-06T01:09:28.651Z"
   },
   {
    "duration": 111,
    "start_time": "2023-02-06T01:09:28.836Z"
   },
   {
    "duration": 3412,
    "start_time": "2023-02-06T01:09:28.950Z"
   },
   {
    "duration": 0,
    "start_time": "2023-02-06T01:14:34.168Z"
   },
   {
    "duration": 0,
    "start_time": "2023-02-06T01:14:34.169Z"
   },
   {
    "duration": 0,
    "start_time": "2023-02-06T01:14:34.227Z"
   },
   {
    "duration": 0,
    "start_time": "2023-02-06T01:14:34.228Z"
   },
   {
    "duration": 0,
    "start_time": "2023-02-06T01:14:34.230Z"
   },
   {
    "duration": 691,
    "start_time": "2023-02-06T01:14:41.071Z"
   },
   {
    "duration": 14687,
    "start_time": "2023-02-06T01:14:41.764Z"
   },
   {
    "duration": 8398,
    "start_time": "2023-02-06T01:14:56.453Z"
   },
   {
    "duration": 674,
    "start_time": "2023-02-06T01:15:04.853Z"
   },
   {
    "duration": 33,
    "start_time": "2023-02-06T01:15:05.530Z"
   },
   {
    "duration": 4402,
    "start_time": "2023-02-06T01:15:05.565Z"
   },
   {
    "duration": 372,
    "start_time": "2023-02-06T01:15:09.969Z"
   },
   {
    "duration": 5495,
    "start_time": "2023-02-06T01:15:10.343Z"
   },
   {
    "duration": 99,
    "start_time": "2023-02-06T01:15:15.840Z"
   },
   {
    "duration": 4,
    "start_time": "2023-02-06T01:15:15.941Z"
   },
   {
    "duration": 87,
    "start_time": "2023-02-06T01:15:15.946Z"
   },
   {
    "duration": 2252,
    "start_time": "2023-02-06T01:15:16.035Z"
   },
   {
    "duration": 114,
    "start_time": "2023-02-06T01:15:18.328Z"
   },
   {
    "duration": 231,
    "start_time": "2023-02-06T01:15:18.444Z"
   },
   {
    "duration": 708,
    "start_time": "2023-02-06T01:16:13.359Z"
   },
   {
    "duration": 14987,
    "start_time": "2023-02-06T01:16:14.069Z"
   },
   {
    "duration": 8480,
    "start_time": "2023-02-06T01:16:29.058Z"
   },
   {
    "duration": 696,
    "start_time": "2023-02-06T01:16:37.540Z"
   },
   {
    "duration": 89,
    "start_time": "2023-02-06T01:16:38.238Z"
   },
   {
    "duration": 4226,
    "start_time": "2023-02-06T01:16:38.329Z"
   },
   {
    "duration": 415,
    "start_time": "2023-02-06T01:16:42.557Z"
   },
   {
    "duration": 4774,
    "start_time": "2023-02-06T01:16:42.974Z"
   },
   {
    "duration": 101,
    "start_time": "2023-02-06T01:16:47.750Z"
   },
   {
    "duration": 4,
    "start_time": "2023-02-06T01:16:47.853Z"
   },
   {
    "duration": 88,
    "start_time": "2023-02-06T01:16:47.859Z"
   },
   {
    "duration": 2481,
    "start_time": "2023-02-06T01:16:47.949Z"
   },
   {
    "duration": 116,
    "start_time": "2023-02-06T01:16:50.431Z"
   },
   {
    "duration": 297,
    "start_time": "2023-02-06T01:16:50.550Z"
   },
   {
    "duration": 728,
    "start_time": "2023-02-06T01:27:32.503Z"
   },
   {
    "duration": 14298,
    "start_time": "2023-02-06T01:27:33.233Z"
   },
   {
    "duration": 8205,
    "start_time": "2023-02-06T01:27:47.533Z"
   },
   {
    "duration": 716,
    "start_time": "2023-02-06T01:27:55.740Z"
   },
   {
    "duration": 96,
    "start_time": "2023-02-06T01:27:56.458Z"
   },
   {
    "duration": 4078,
    "start_time": "2023-02-06T01:27:56.556Z"
   },
   {
    "duration": 312,
    "start_time": "2023-02-06T01:28:00.636Z"
   },
   {
    "duration": 5280,
    "start_time": "2023-02-06T01:28:00.951Z"
   },
   {
    "duration": 208,
    "start_time": "2023-02-06T01:28:06.234Z"
   },
   {
    "duration": 102,
    "start_time": "2023-02-06T01:28:06.444Z"
   },
   {
    "duration": 5,
    "start_time": "2023-02-06T01:28:06.548Z"
   },
   {
    "duration": 84,
    "start_time": "2023-02-06T01:28:06.555Z"
   },
   {
    "duration": 2015,
    "start_time": "2023-02-06T01:28:06.641Z"
   },
   {
    "duration": 277,
    "start_time": "2023-02-06T01:28:08.658Z"
   },
   {
    "duration": 118,
    "start_time": "2023-02-06T01:28:08.937Z"
   },
   {
    "duration": 270,
    "start_time": "2023-02-06T01:28:09.057Z"
   },
   {
    "duration": 725,
    "start_time": "2023-02-06T07:48:26.142Z"
   },
   {
    "duration": 15893,
    "start_time": "2023-02-06T07:48:26.870Z"
   },
   {
    "duration": 9861,
    "start_time": "2023-02-06T07:48:42.766Z"
   },
   {
    "duration": 839,
    "start_time": "2023-02-06T07:48:52.630Z"
   },
   {
    "duration": 31,
    "start_time": "2023-02-06T07:48:53.529Z"
   },
   {
    "duration": 4803,
    "start_time": "2023-02-06T07:48:53.562Z"
   },
   {
    "duration": 373,
    "start_time": "2023-02-06T07:48:58.367Z"
   },
   {
    "duration": 5992,
    "start_time": "2023-02-06T07:48:58.742Z"
   },
   {
    "duration": 198,
    "start_time": "2023-02-06T07:49:04.736Z"
   },
   {
    "duration": 110,
    "start_time": "2023-02-06T07:49:04.936Z"
   },
   {
    "duration": 7,
    "start_time": "2023-02-06T07:49:05.048Z"
   },
   {
    "duration": 97,
    "start_time": "2023-02-06T07:49:05.057Z"
   },
   {
    "duration": 2290,
    "start_time": "2023-02-06T07:49:05.156Z"
   },
   {
    "duration": 231,
    "start_time": "2023-02-06T07:49:07.450Z"
   },
   {
    "duration": 168,
    "start_time": "2023-02-06T07:49:07.683Z"
   },
   {
    "duration": 287,
    "start_time": "2023-02-06T07:49:07.853Z"
   },
   {
    "duration": 463909,
    "start_time": "2023-02-06T07:49:08.142Z"
   },
   {
    "duration": 54,
    "start_time": "2023-02-06T07:56:57.898Z"
   },
   {
    "duration": 74598,
    "start_time": "2023-02-06T07:59:07.057Z"
   },
   {
    "duration": 668,
    "start_time": "2023-02-06T08:01:03.769Z"
   },
   {
    "duration": 16394,
    "start_time": "2023-02-06T08:01:04.442Z"
   },
   {
    "duration": 10512,
    "start_time": "2023-02-06T08:01:20.838Z"
   },
   {
    "duration": 798,
    "start_time": "2023-02-06T08:01:31.352Z"
   },
   {
    "duration": 92,
    "start_time": "2023-02-06T08:01:32.153Z"
   },
   {
    "duration": 4824,
    "start_time": "2023-02-06T08:01:32.247Z"
   },
   {
    "duration": 397,
    "start_time": "2023-02-06T08:01:37.130Z"
   },
   {
    "duration": 6029,
    "start_time": "2023-02-06T08:01:37.529Z"
   },
   {
    "duration": 125,
    "start_time": "2023-02-06T08:03:20.143Z"
   },
   {
    "duration": 9,
    "start_time": "2023-02-06T08:04:58.637Z"
   },
   {
    "duration": 16,
    "start_time": "2023-02-06T08:04:58.648Z"
   },
   {
    "duration": 689,
    "start_time": "2023-02-06T08:04:58.667Z"
   },
   {
    "duration": 214,
    "start_time": "2023-02-06T08:04:59.358Z"
   },
   {
    "duration": 7,
    "start_time": "2023-02-06T08:04:59.574Z"
   },
   {
    "duration": 1768,
    "start_time": "2023-02-06T08:04:59.582Z"
   },
   {
    "duration": 255,
    "start_time": "2023-02-06T08:05:01.352Z"
   },
   {
    "duration": 3668,
    "start_time": "2023-02-06T08:05:01.608Z"
   },
   {
    "duration": 152,
    "start_time": "2023-02-06T08:05:05.278Z"
   },
   {
    "duration": 109,
    "start_time": "2023-02-06T08:05:05.433Z"
   },
   {
    "duration": 4,
    "start_time": "2023-02-06T08:05:05.547Z"
   },
   {
    "duration": 98,
    "start_time": "2023-02-06T08:05:05.552Z"
   },
   {
    "duration": 2615,
    "start_time": "2023-02-06T08:05:05.652Z"
   },
   {
    "duration": 265,
    "start_time": "2023-02-06T08:05:08.269Z"
   },
   {
    "duration": 139,
    "start_time": "2023-02-06T08:05:08.538Z"
   },
   {
    "duration": 226,
    "start_time": "2023-02-06T08:05:08.727Z"
   },
   {
    "duration": 1062,
    "start_time": "2023-02-06T08:05:46.868Z"
   },
   {
    "duration": 4,
    "start_time": "2023-02-06T08:06:09.669Z"
   },
   {
    "duration": 6,
    "start_time": "2023-02-06T08:11:01.769Z"
   },
   {
    "duration": 558,
    "start_time": "2023-02-06T08:11:16.274Z"
   },
   {
    "duration": 565,
    "start_time": "2023-02-06T08:11:37.389Z"
   },
   {
    "duration": 93,
    "start_time": "2023-02-06T08:11:43.659Z"
   },
   {
    "duration": 5706,
    "start_time": "2023-02-06T08:11:53.950Z"
   },
   {
    "duration": 2962,
    "start_time": "2023-02-06T08:13:00.421Z"
   },
   {
    "duration": 2659,
    "start_time": "2023-02-06T08:13:18.160Z"
   },
   {
    "duration": 2144,
    "start_time": "2023-02-06T08:13:29.239Z"
   },
   {
    "duration": 9,
    "start_time": "2023-02-06T08:16:55.635Z"
   },
   {
    "duration": 5418,
    "start_time": "2023-02-06T08:17:42.420Z"
   },
   {
    "duration": 2809,
    "start_time": "2023-02-06T10:13:02.559Z"
   },
   {
    "duration": 13,
    "start_time": "2023-02-06T10:13:12.639Z"
   },
   {
    "duration": 2968,
    "start_time": "2023-02-06T10:13:23.403Z"
   },
   {
    "duration": 141,
    "start_time": "2023-02-06T10:13:41.445Z"
   },
   {
    "duration": 132,
    "start_time": "2023-02-06T10:14:09.085Z"
   },
   {
    "duration": 2773,
    "start_time": "2023-02-06T10:17:20.174Z"
   },
   {
    "duration": 4,
    "start_time": "2023-02-06T10:17:29.054Z"
   },
   {
    "duration": 7,
    "start_time": "2023-02-06T10:17:29.060Z"
   },
   {
    "duration": 377,
    "start_time": "2023-02-06T10:17:29.069Z"
   },
   {
    "duration": 121,
    "start_time": "2023-02-06T10:17:29.448Z"
   },
   {
    "duration": 7,
    "start_time": "2023-02-06T10:17:29.571Z"
   },
   {
    "duration": 1488,
    "start_time": "2023-02-06T10:17:29.580Z"
   },
   {
    "duration": 268,
    "start_time": "2023-02-06T10:17:31.070Z"
   },
   {
    "duration": 2331,
    "start_time": "2023-02-06T10:17:31.346Z"
   },
   {
    "duration": 2096,
    "start_time": "2023-02-06T10:18:30.754Z"
   },
   {
    "duration": 4,
    "start_time": "2023-02-06T10:28:23.975Z"
   },
   {
    "duration": 4,
    "start_time": "2023-02-06T10:29:50.077Z"
   },
   {
    "duration": 670,
    "start_time": "2023-02-06T14:50:22.593Z"
   },
   {
    "duration": 742,
    "start_time": "2023-02-06T14:50:29.603Z"
   },
   {
    "duration": 21322,
    "start_time": "2023-02-06T14:50:30.347Z"
   },
   {
    "duration": 10037,
    "start_time": "2023-02-06T14:50:51.672Z"
   },
   {
    "duration": 786,
    "start_time": "2023-02-06T14:51:01.713Z"
   },
   {
    "duration": 41,
    "start_time": "2023-02-06T14:51:02.502Z"
   },
   {
    "duration": 4456,
    "start_time": "2023-02-06T14:51:02.545Z"
   },
   {
    "duration": 397,
    "start_time": "2023-02-06T14:51:07.003Z"
   },
   {
    "duration": 6215,
    "start_time": "2023-02-06T14:51:07.402Z"
   },
   {
    "duration": 206,
    "start_time": "2023-02-06T14:51:13.619Z"
   },
   {
    "duration": 105,
    "start_time": "2023-02-06T14:51:13.828Z"
   },
   {
    "duration": 64,
    "start_time": "2023-02-06T14:51:13.936Z"
   },
   {
    "duration": 98,
    "start_time": "2023-02-06T14:51:14.003Z"
   },
   {
    "duration": 2413,
    "start_time": "2023-02-06T14:51:14.107Z"
   },
   {
    "duration": 421,
    "start_time": "2023-02-06T14:51:16.523Z"
   },
   {
    "duration": 253,
    "start_time": "2023-02-06T14:51:16.948Z"
   },
   {
    "duration": 224,
    "start_time": "2023-02-06T14:51:17.203Z"
   },
   {
    "duration": 131,
    "start_time": "2023-02-06T14:51:17.429Z"
   },
   {
    "duration": 6754,
    "start_time": "2023-02-06T14:59:19.452Z"
   },
   {
    "duration": 57,
    "start_time": "2023-02-06T15:17:25.588Z"
   },
   {
    "duration": 3055,
    "start_time": "2023-02-06T16:26:47.265Z"
   },
   {
    "duration": 734,
    "start_time": "2023-02-06T16:27:04.888Z"
   },
   {
    "duration": 15505,
    "start_time": "2023-02-06T16:27:05.624Z"
   },
   {
    "duration": 8412,
    "start_time": "2023-02-06T16:27:21.132Z"
   },
   {
    "duration": 629,
    "start_time": "2023-02-06T16:27:29.600Z"
   },
   {
    "duration": 30,
    "start_time": "2023-02-06T16:27:30.300Z"
   },
   {
    "duration": 4076,
    "start_time": "2023-02-06T16:27:30.332Z"
   },
   {
    "duration": 303,
    "start_time": "2023-02-06T16:27:34.410Z"
   },
   {
    "duration": 5106,
    "start_time": "2023-02-06T16:27:34.715Z"
   },
   {
    "duration": 206,
    "start_time": "2023-02-06T16:27:39.823Z"
   },
   {
    "duration": 171,
    "start_time": "2023-02-06T16:27:40.031Z"
   },
   {
    "duration": 5,
    "start_time": "2023-02-06T16:27:40.204Z"
   },
   {
    "duration": 89,
    "start_time": "2023-02-06T16:27:40.211Z"
   },
   {
    "duration": 2516,
    "start_time": "2023-02-06T16:27:40.302Z"
   },
   {
    "duration": 230,
    "start_time": "2023-02-06T16:27:42.821Z"
   },
   {
    "duration": 160,
    "start_time": "2023-02-06T16:27:43.053Z"
   },
   {
    "duration": 297,
    "start_time": "2023-02-06T16:27:43.215Z"
   },
   {
    "duration": 6486,
    "start_time": "2023-02-06T16:27:43.514Z"
   },
   {
    "duration": 143,
    "start_time": "2023-02-06T16:33:19.807Z"
   },
   {
    "duration": 104,
    "start_time": "2023-02-06T16:33:46.128Z"
   },
   {
    "duration": 695,
    "start_time": "2023-02-06T16:34:02.052Z"
   },
   {
    "duration": 15249,
    "start_time": "2023-02-06T16:34:02.750Z"
   },
   {
    "duration": 9298,
    "start_time": "2023-02-06T16:34:18.001Z"
   },
   {
    "duration": 707,
    "start_time": "2023-02-06T16:34:27.302Z"
   },
   {
    "duration": 91,
    "start_time": "2023-02-06T16:34:28.011Z"
   },
   {
    "duration": 4399,
    "start_time": "2023-02-06T16:34:28.104Z"
   },
   {
    "duration": 324,
    "start_time": "2023-02-06T16:34:32.504Z"
   },
   {
    "duration": 5685,
    "start_time": "2023-02-06T16:34:32.830Z"
   },
   {
    "duration": 202,
    "start_time": "2023-02-06T16:34:38.517Z"
   },
   {
    "duration": 110,
    "start_time": "2023-02-06T16:34:38.721Z"
   },
   {
    "duration": 66,
    "start_time": "2023-02-06T16:34:38.833Z"
   },
   {
    "duration": 25,
    "start_time": "2023-02-06T16:34:38.901Z"
   },
   {
    "duration": 2695,
    "start_time": "2023-02-06T16:34:38.928Z"
   },
   {
    "duration": 281,
    "start_time": "2023-02-06T16:34:41.625Z"
   },
   {
    "duration": 119,
    "start_time": "2023-02-06T16:34:41.908Z"
   },
   {
    "duration": 296,
    "start_time": "2023-02-06T16:34:42.028Z"
   },
   {
    "duration": 6312,
    "start_time": "2023-02-06T16:34:42.326Z"
   },
   {
    "duration": 3,
    "start_time": "2023-02-06T16:35:13.036Z"
   },
   {
    "duration": 43,
    "start_time": "2023-02-06T16:44:19.495Z"
   },
   {
    "duration": 100,
    "start_time": "2023-02-06T16:44:52.940Z"
   },
   {
    "duration": 24,
    "start_time": "2023-02-06T16:47:43.454Z"
   },
   {
    "duration": 47,
    "start_time": "2023-02-06T16:47:53.684Z"
   },
   {
    "duration": 2,
    "start_time": "2023-02-06T16:52:34.523Z"
   },
   {
    "duration": 2,
    "start_time": "2023-02-06T16:52:48.969Z"
   },
   {
    "duration": 10,
    "start_time": "2023-02-06T16:55:18.465Z"
   },
   {
    "duration": 12,
    "start_time": "2023-02-06T16:57:58.077Z"
   },
   {
    "duration": 11,
    "start_time": "2023-02-06T16:58:00.000Z"
   },
   {
    "duration": 18,
    "start_time": "2023-02-06T16:58:25.884Z"
   },
   {
    "duration": 46,
    "start_time": "2023-02-06T16:59:11.650Z"
   },
   {
    "duration": 76,
    "start_time": "2023-02-06T17:02:09.449Z"
   },
   {
    "duration": 2417,
    "start_time": "2023-02-06T17:02:46.284Z"
   },
   {
    "duration": 91,
    "start_time": "2023-02-06T17:13:09.634Z"
   },
   {
    "duration": 741,
    "start_time": "2023-02-06T17:14:03.082Z"
   },
   {
    "duration": 15478,
    "start_time": "2023-02-06T17:14:03.825Z"
   },
   {
    "duration": 9220,
    "start_time": "2023-02-06T17:14:19.306Z"
   },
   {
    "duration": 702,
    "start_time": "2023-02-06T17:14:28.528Z"
   },
   {
    "duration": 90,
    "start_time": "2023-02-06T17:14:29.234Z"
   },
   {
    "duration": 4113,
    "start_time": "2023-02-06T17:14:29.326Z"
   },
   {
    "duration": 418,
    "start_time": "2023-02-06T17:14:33.440Z"
   },
   {
    "duration": 4785,
    "start_time": "2023-02-06T17:14:33.859Z"
   },
   {
    "duration": 172,
    "start_time": "2023-02-06T17:14:38.646Z"
   },
   {
    "duration": 98,
    "start_time": "2023-02-06T17:14:38.820Z"
   },
   {
    "duration": 5,
    "start_time": "2023-02-06T17:14:38.920Z"
   },
   {
    "duration": 98,
    "start_time": "2023-02-06T17:14:38.927Z"
   },
   {
    "duration": 2307,
    "start_time": "2023-02-06T17:14:39.027Z"
   },
   {
    "duration": 3,
    "start_time": "2023-02-06T17:14:41.337Z"
   },
   {
    "duration": 266,
    "start_time": "2023-02-06T17:14:41.342Z"
   },
   {
    "duration": 124,
    "start_time": "2023-02-06T17:14:41.609Z"
   },
   {
    "duration": 271,
    "start_time": "2023-02-06T17:14:41.734Z"
   },
   {
    "duration": 7403,
    "start_time": "2023-02-06T17:14:42.007Z"
   },
   {
    "duration": 214,
    "start_time": "2023-02-06T17:14:49.412Z"
   },
   {
    "duration": 4,
    "start_time": "2023-02-06T17:14:49.627Z"
   },
   {
    "duration": 21,
    "start_time": "2023-02-06T17:14:49.633Z"
   },
   {
    "duration": 2364,
    "start_time": "2023-02-06T17:14:49.655Z"
   },
   {
    "duration": 717,
    "start_time": "2023-02-06T17:17:08.915Z"
   },
   {
    "duration": 15306,
    "start_time": "2023-02-06T17:17:09.634Z"
   },
   {
    "duration": 8856,
    "start_time": "2023-02-06T17:17:24.942Z"
   },
   {
    "duration": 732,
    "start_time": "2023-02-06T17:17:33.800Z"
   },
   {
    "duration": 91,
    "start_time": "2023-02-06T17:17:34.535Z"
   },
   {
    "duration": 4315,
    "start_time": "2023-02-06T17:17:34.628Z"
   },
   {
    "duration": 318,
    "start_time": "2023-02-06T17:17:38.998Z"
   },
   {
    "duration": 4988,
    "start_time": "2023-02-06T17:17:39.317Z"
   },
   {
    "duration": 197,
    "start_time": "2023-02-06T17:17:44.307Z"
   },
   {
    "duration": 110,
    "start_time": "2023-02-06T17:17:44.506Z"
   },
   {
    "duration": 4,
    "start_time": "2023-02-06T17:17:44.618Z"
   },
   {
    "duration": 99,
    "start_time": "2023-02-06T17:17:44.624Z"
   },
   {
    "duration": 2778,
    "start_time": "2023-02-06T17:17:44.725Z"
   },
   {
    "duration": 3,
    "start_time": "2023-02-06T17:17:47.508Z"
   },
   {
    "duration": 286,
    "start_time": "2023-02-06T17:17:47.513Z"
   },
   {
    "duration": 129,
    "start_time": "2023-02-06T17:17:47.801Z"
   },
   {
    "duration": 377,
    "start_time": "2023-02-06T17:17:47.932Z"
   },
   {
    "duration": 7005,
    "start_time": "2023-02-06T17:17:48.311Z"
   },
   {
    "duration": 199,
    "start_time": "2023-02-06T17:17:55.318Z"
   },
   {
    "duration": 4,
    "start_time": "2023-02-06T17:17:55.519Z"
   },
   {
    "duration": 21,
    "start_time": "2023-02-06T17:17:55.525Z"
   },
   {
    "duration": 2457,
    "start_time": "2023-02-06T17:17:55.548Z"
   },
   {
    "duration": 45,
    "start_time": "2023-02-06T17:23:20.664Z"
   },
   {
    "duration": 1923,
    "start_time": "2023-02-06T17:25:01.344Z"
   },
   {
    "duration": 1686,
    "start_time": "2023-02-06T17:25:10.642Z"
   },
   {
    "duration": 1436,
    "start_time": "2023-02-06T17:26:34.418Z"
   },
   {
    "duration": 1318,
    "start_time": "2023-02-06T17:27:26.721Z"
   },
   {
    "duration": 45,
    "start_time": "2023-02-06T17:41:27.116Z"
   },
   {
    "duration": 69,
    "start_time": "2023-02-06T18:48:00.632Z"
   },
   {
    "duration": 681,
    "start_time": "2023-02-06T18:58:46.688Z"
   },
   {
    "duration": 15376,
    "start_time": "2023-02-06T18:58:47.371Z"
   },
   {
    "duration": 9703,
    "start_time": "2023-02-06T18:59:02.749Z"
   },
   {
    "duration": 792,
    "start_time": "2023-02-06T18:59:12.454Z"
   },
   {
    "duration": 97,
    "start_time": "2023-02-06T18:59:13.250Z"
   },
   {
    "duration": 4207,
    "start_time": "2023-02-06T18:59:13.349Z"
   },
   {
    "duration": 379,
    "start_time": "2023-02-06T18:59:17.558Z"
   },
   {
    "duration": 5204,
    "start_time": "2023-02-06T18:59:17.938Z"
   },
   {
    "duration": 203,
    "start_time": "2023-02-06T18:59:23.144Z"
   },
   {
    "duration": 99,
    "start_time": "2023-02-06T18:59:23.348Z"
   },
   {
    "duration": 4,
    "start_time": "2023-02-06T18:59:23.449Z"
   },
   {
    "duration": 96,
    "start_time": "2023-02-06T18:59:23.454Z"
   },
   {
    "duration": 2680,
    "start_time": "2023-02-06T18:59:23.553Z"
   },
   {
    "duration": 3,
    "start_time": "2023-02-06T18:59:26.237Z"
   },
   {
    "duration": 328,
    "start_time": "2023-02-06T18:59:26.242Z"
   },
   {
    "duration": 178,
    "start_time": "2023-02-06T18:59:26.572Z"
   },
   {
    "duration": 286,
    "start_time": "2023-02-06T18:59:26.752Z"
   },
   {
    "duration": 7691,
    "start_time": "2023-02-06T18:59:27.040Z"
   },
   {
    "duration": 203,
    "start_time": "2023-02-06T18:59:34.733Z"
   },
   {
    "duration": 3,
    "start_time": "2023-02-06T18:59:34.937Z"
   },
   {
    "duration": 85,
    "start_time": "2023-02-06T18:59:34.942Z"
   },
   {
    "duration": 3226,
    "start_time": "2023-02-06T18:59:35.029Z"
   },
   {
    "duration": 2696,
    "start_time": "2023-02-06T18:59:38.258Z"
   },
   {
    "duration": 2397,
    "start_time": "2023-02-06T18:59:40.957Z"
   },
   {
    "duration": 8,
    "start_time": "2023-02-07T07:13:19.061Z"
   },
   {
    "duration": 4,
    "start_time": "2023-02-07T07:20:29.477Z"
   }
  ],
  "colab": {
   "name": "PySparkSprint.ipynb",
   "provenance": []
  },
  "kernelspec": {
   "display_name": "Python 3 (ipykernel)",
   "language": "python",
   "name": "python3"
  },
  "language_info": {
   "codemirror_mode": {
    "name": "ipython",
    "version": 3
   },
   "file_extension": ".py",
   "mimetype": "text/x-python",
   "name": "python",
   "nbconvert_exporter": "python",
   "pygments_lexer": "ipython3",
   "version": "3.9.5"
  },
  "toc": {
   "base_numbering": 1,
   "nav_menu": {},
   "number_sections": true,
   "sideBar": true,
   "skip_h1_title": true,
   "title_cell": "Table of Contents",
   "title_sidebar": "Contents",
   "toc_cell": false,
   "toc_position": {},
   "toc_section_display": true,
   "toc_window_display": false
  }
 },
 "nbformat": 4,
 "nbformat_minor": 5
}
