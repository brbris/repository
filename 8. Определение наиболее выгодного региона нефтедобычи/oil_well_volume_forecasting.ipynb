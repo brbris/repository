{
 "cells": [
  {
   "cell_type": "markdown",
   "metadata": {},
   "source": [
    "# Выбор локации для скважины"
   ]
  },
  {
   "cell_type": "markdown",
   "metadata": {},
   "source": [
    "## Загрузка и подготовка данных"
   ]
  },
  {
   "cell_type": "markdown",
   "metadata": {},
   "source": [
    "Импортирую библиотеку pandas. Здесь будут храниться все импорты за проект."
   ]
  },
  {
   "cell_type": "code",
   "execution_count": 1,
   "metadata": {},
   "outputs": [],
   "source": [
    "import numpy as np\n",
    "from numpy.random import RandomState\n",
    "\n",
    "import os\n",
    "\n",
    "import pandas as pd\n",
    "import matplotlib.pyplot as plt\n",
    "\n",
    "import seaborn as sns\n",
    "\n",
    "from scipy import stats as st\n",
    "\n",
    "from sklearn.linear_model import LinearRegression\n",
    "from sklearn.metrics import mean_squared_error\n",
    "from sklearn.metrics import r2_score\n",
    "from sklearn.model_selection import train_test_split\n",
    "from sklearn.preprocessing import StandardScaler"
   ]
  },
  {
   "cell_type": "markdown",
   "metadata": {},
   "source": [
    "### Загрузка данных"
   ]
  },
  {
   "cell_type": "markdown",
   "metadata": {},
   "source": [
    "Заружаю файлы по трем регионам:"
   ]
  },
  {
   "cell_type": "code",
   "execution_count": 2,
   "metadata": {},
   "outputs": [],
   "source": [
    "region_1 = pd.read_csv('/datasets/geo_data_0.csv')\n",
    "region_2 = pd.read_csv('/datasets/geo_data_1.csv')\n",
    "region_3 = pd.read_csv('/datasets/geo_data_2.csv')"
   ]
  },
  {
   "cell_type": "markdown",
   "metadata": {},
   "source": [
    "### Первичный анализ данных"
   ]
  },
  {
   "cell_type": "markdown",
   "metadata": {},
   "source": [
    "Визуальная оценка датасета первого региона:"
   ]
  },
  {
   "cell_type": "code",
   "execution_count": 3,
   "metadata": {},
   "outputs": [
    {
     "data": {
      "text/html": [
       "<div>\n",
       "<style scoped>\n",
       "    .dataframe tbody tr th:only-of-type {\n",
       "        vertical-align: middle;\n",
       "    }\n",
       "\n",
       "    .dataframe tbody tr th {\n",
       "        vertical-align: top;\n",
       "    }\n",
       "\n",
       "    .dataframe thead th {\n",
       "        text-align: right;\n",
       "    }\n",
       "</style>\n",
       "<table border=\"1\" class=\"dataframe\">\n",
       "  <thead>\n",
       "    <tr style=\"text-align: right;\">\n",
       "      <th></th>\n",
       "      <th>id</th>\n",
       "      <th>f0</th>\n",
       "      <th>f1</th>\n",
       "      <th>f2</th>\n",
       "      <th>product</th>\n",
       "    </tr>\n",
       "  </thead>\n",
       "  <tbody>\n",
       "    <tr>\n",
       "      <th>0</th>\n",
       "      <td>txEyH</td>\n",
       "      <td>0.705745</td>\n",
       "      <td>-0.497823</td>\n",
       "      <td>1.221170</td>\n",
       "      <td>105.280062</td>\n",
       "    </tr>\n",
       "    <tr>\n",
       "      <th>1</th>\n",
       "      <td>2acmU</td>\n",
       "      <td>1.334711</td>\n",
       "      <td>-0.340164</td>\n",
       "      <td>4.365080</td>\n",
       "      <td>73.037750</td>\n",
       "    </tr>\n",
       "    <tr>\n",
       "      <th>2</th>\n",
       "      <td>409Wp</td>\n",
       "      <td>1.022732</td>\n",
       "      <td>0.151990</td>\n",
       "      <td>1.419926</td>\n",
       "      <td>85.265647</td>\n",
       "    </tr>\n",
       "    <tr>\n",
       "      <th>3</th>\n",
       "      <td>iJLyR</td>\n",
       "      <td>-0.032172</td>\n",
       "      <td>0.139033</td>\n",
       "      <td>2.978566</td>\n",
       "      <td>168.620776</td>\n",
       "    </tr>\n",
       "    <tr>\n",
       "      <th>4</th>\n",
       "      <td>Xdl7t</td>\n",
       "      <td>1.988431</td>\n",
       "      <td>0.155413</td>\n",
       "      <td>4.751769</td>\n",
       "      <td>154.036647</td>\n",
       "    </tr>\n",
       "    <tr>\n",
       "      <th>5</th>\n",
       "      <td>wX4Hy</td>\n",
       "      <td>0.969570</td>\n",
       "      <td>0.489775</td>\n",
       "      <td>-0.735383</td>\n",
       "      <td>64.741541</td>\n",
       "    </tr>\n",
       "    <tr>\n",
       "      <th>6</th>\n",
       "      <td>tL6pL</td>\n",
       "      <td>0.645075</td>\n",
       "      <td>0.530656</td>\n",
       "      <td>1.780266</td>\n",
       "      <td>49.055285</td>\n",
       "    </tr>\n",
       "    <tr>\n",
       "      <th>7</th>\n",
       "      <td>BYPU6</td>\n",
       "      <td>-0.400648</td>\n",
       "      <td>0.808337</td>\n",
       "      <td>-5.624670</td>\n",
       "      <td>72.943292</td>\n",
       "    </tr>\n",
       "    <tr>\n",
       "      <th>8</th>\n",
       "      <td>j9Oui</td>\n",
       "      <td>0.643105</td>\n",
       "      <td>-0.551583</td>\n",
       "      <td>2.372141</td>\n",
       "      <td>113.356160</td>\n",
       "    </tr>\n",
       "    <tr>\n",
       "      <th>9</th>\n",
       "      <td>OLuZU</td>\n",
       "      <td>2.173381</td>\n",
       "      <td>0.563698</td>\n",
       "      <td>9.441852</td>\n",
       "      <td>127.910945</td>\n",
       "    </tr>\n",
       "  </tbody>\n",
       "</table>\n",
       "</div>"
      ],
      "text/plain": [
       "      id        f0        f1        f2     product\n",
       "0  txEyH  0.705745 -0.497823  1.221170  105.280062\n",
       "1  2acmU  1.334711 -0.340164  4.365080   73.037750\n",
       "2  409Wp  1.022732  0.151990  1.419926   85.265647\n",
       "3  iJLyR -0.032172  0.139033  2.978566  168.620776\n",
       "4  Xdl7t  1.988431  0.155413  4.751769  154.036647\n",
       "5  wX4Hy  0.969570  0.489775 -0.735383   64.741541\n",
       "6  tL6pL  0.645075  0.530656  1.780266   49.055285\n",
       "7  BYPU6 -0.400648  0.808337 -5.624670   72.943292\n",
       "8  j9Oui  0.643105 -0.551583  2.372141  113.356160\n",
       "9  OLuZU  2.173381  0.563698  9.441852  127.910945"
      ]
     },
     "metadata": {},
     "output_type": "display_data"
    }
   ],
   "source": [
    "display(region_1.head(10))"
   ]
  },
  {
   "cell_type": "markdown",
   "metadata": {},
   "source": [
    "Данные выглядят нормально, посмотрим, что в информации по датафрейму:"
   ]
  },
  {
   "cell_type": "code",
   "execution_count": 4,
   "metadata": {},
   "outputs": [
    {
     "name": "stdout",
     "output_type": "stream",
     "text": [
      "<class 'pandas.core.frame.DataFrame'>\n",
      "RangeIndex: 100000 entries, 0 to 99999\n",
      "Data columns (total 5 columns):\n",
      " #   Column   Non-Null Count   Dtype  \n",
      "---  ------   --------------   -----  \n",
      " 0   id       100000 non-null  object \n",
      " 1   f0       100000 non-null  float64\n",
      " 2   f1       100000 non-null  float64\n",
      " 3   f2       100000 non-null  float64\n",
      " 4   product  100000 non-null  float64\n",
      "dtypes: float64(4), object(1)\n",
      "memory usage: 3.8+ MB\n"
     ]
    }
   ],
   "source": [
    "region_1.info()"
   ]
  },
  {
   "cell_type": "code",
   "execution_count": 5,
   "metadata": {},
   "outputs": [
    {
     "name": "stdout",
     "output_type": "stream",
     "text": [
      "id         0\n",
      "f0         0\n",
      "f1         0\n",
      "f2         0\n",
      "product    0\n",
      "dtype: int64\n"
     ]
    }
   ],
   "source": [
    "print(region_1.isna().sum())"
   ]
  },
  {
   "cell_type": "markdown",
   "metadata": {},
   "source": [
    "В таблице 5 столбцов с типами данных float64 и object, и 100 000 строк. Явных пропусков в данных нет."
   ]
  },
  {
   "cell_type": "markdown",
   "metadata": {},
   "source": [
    "Визуальная оценка датасета второго региона:"
   ]
  },
  {
   "cell_type": "code",
   "execution_count": 6,
   "metadata": {},
   "outputs": [
    {
     "data": {
      "text/html": [
       "<div>\n",
       "<style scoped>\n",
       "    .dataframe tbody tr th:only-of-type {\n",
       "        vertical-align: middle;\n",
       "    }\n",
       "\n",
       "    .dataframe tbody tr th {\n",
       "        vertical-align: top;\n",
       "    }\n",
       "\n",
       "    .dataframe thead th {\n",
       "        text-align: right;\n",
       "    }\n",
       "</style>\n",
       "<table border=\"1\" class=\"dataframe\">\n",
       "  <thead>\n",
       "    <tr style=\"text-align: right;\">\n",
       "      <th></th>\n",
       "      <th>id</th>\n",
       "      <th>f0</th>\n",
       "      <th>f1</th>\n",
       "      <th>f2</th>\n",
       "      <th>product</th>\n",
       "    </tr>\n",
       "  </thead>\n",
       "  <tbody>\n",
       "    <tr>\n",
       "      <th>0</th>\n",
       "      <td>kBEdx</td>\n",
       "      <td>-15.001348</td>\n",
       "      <td>-8.276000</td>\n",
       "      <td>-0.005876</td>\n",
       "      <td>3.179103</td>\n",
       "    </tr>\n",
       "    <tr>\n",
       "      <th>1</th>\n",
       "      <td>62mP7</td>\n",
       "      <td>14.272088</td>\n",
       "      <td>-3.475083</td>\n",
       "      <td>0.999183</td>\n",
       "      <td>26.953261</td>\n",
       "    </tr>\n",
       "    <tr>\n",
       "      <th>2</th>\n",
       "      <td>vyE1P</td>\n",
       "      <td>6.263187</td>\n",
       "      <td>-5.948386</td>\n",
       "      <td>5.001160</td>\n",
       "      <td>134.766305</td>\n",
       "    </tr>\n",
       "    <tr>\n",
       "      <th>3</th>\n",
       "      <td>KcrkZ</td>\n",
       "      <td>-13.081196</td>\n",
       "      <td>-11.506057</td>\n",
       "      <td>4.999415</td>\n",
       "      <td>137.945408</td>\n",
       "    </tr>\n",
       "    <tr>\n",
       "      <th>4</th>\n",
       "      <td>AHL4O</td>\n",
       "      <td>12.702195</td>\n",
       "      <td>-8.147433</td>\n",
       "      <td>5.004363</td>\n",
       "      <td>134.766305</td>\n",
       "    </tr>\n",
       "    <tr>\n",
       "      <th>5</th>\n",
       "      <td>HHckp</td>\n",
       "      <td>-3.327590</td>\n",
       "      <td>-2.205276</td>\n",
       "      <td>3.003647</td>\n",
       "      <td>84.038886</td>\n",
       "    </tr>\n",
       "    <tr>\n",
       "      <th>6</th>\n",
       "      <td>h5Ujo</td>\n",
       "      <td>-11.142655</td>\n",
       "      <td>-10.133399</td>\n",
       "      <td>4.002382</td>\n",
       "      <td>110.992147</td>\n",
       "    </tr>\n",
       "    <tr>\n",
       "      <th>7</th>\n",
       "      <td>muH9x</td>\n",
       "      <td>4.234715</td>\n",
       "      <td>-0.001354</td>\n",
       "      <td>2.004588</td>\n",
       "      <td>53.906522</td>\n",
       "    </tr>\n",
       "    <tr>\n",
       "      <th>8</th>\n",
       "      <td>YiRkx</td>\n",
       "      <td>13.355129</td>\n",
       "      <td>-0.332068</td>\n",
       "      <td>4.998647</td>\n",
       "      <td>134.766305</td>\n",
       "    </tr>\n",
       "    <tr>\n",
       "      <th>9</th>\n",
       "      <td>jG6Gi</td>\n",
       "      <td>1.069227</td>\n",
       "      <td>-11.025667</td>\n",
       "      <td>4.997844</td>\n",
       "      <td>137.945408</td>\n",
       "    </tr>\n",
       "  </tbody>\n",
       "</table>\n",
       "</div>"
      ],
      "text/plain": [
       "      id         f0         f1        f2     product\n",
       "0  kBEdx -15.001348  -8.276000 -0.005876    3.179103\n",
       "1  62mP7  14.272088  -3.475083  0.999183   26.953261\n",
       "2  vyE1P   6.263187  -5.948386  5.001160  134.766305\n",
       "3  KcrkZ -13.081196 -11.506057  4.999415  137.945408\n",
       "4  AHL4O  12.702195  -8.147433  5.004363  134.766305\n",
       "5  HHckp  -3.327590  -2.205276  3.003647   84.038886\n",
       "6  h5Ujo -11.142655 -10.133399  4.002382  110.992147\n",
       "7  muH9x   4.234715  -0.001354  2.004588   53.906522\n",
       "8  YiRkx  13.355129  -0.332068  4.998647  134.766305\n",
       "9  jG6Gi   1.069227 -11.025667  4.997844  137.945408"
      ]
     },
     "metadata": {},
     "output_type": "display_data"
    }
   ],
   "source": [
    "display(region_2.head(10))"
   ]
  },
  {
   "cell_type": "code",
   "execution_count": 7,
   "metadata": {},
   "outputs": [
    {
     "data": {
      "text/plain": [
       "53.906522     8472\n",
       "26.953261     8468\n",
       "84.038886     8431\n",
       "57.085625     8390\n",
       "3.179103      8337\n",
       "80.859783     8320\n",
       "30.132364     8306\n",
       "134.766305    8304\n",
       "110.992147    8303\n",
       "0.000000      8235\n",
       "137.945408    8233\n",
       "107.813044    8201\n",
       "Name: product, dtype: int64"
      ]
     },
     "execution_count": 7,
     "metadata": {},
     "output_type": "execute_result"
    }
   ],
   "source": [
    "region_2['product'].value_counts()"
   ]
  },
  {
   "cell_type": "markdown",
   "metadata": {},
   "source": [
    "Данные выглядят ненормально."
   ]
  },
  {
   "cell_type": "code",
   "execution_count": 8,
   "metadata": {
    "scrolled": true
   },
   "outputs": [
    {
     "name": "stdout",
     "output_type": "stream",
     "text": [
      "<class 'pandas.core.frame.DataFrame'>\n",
      "RangeIndex: 100000 entries, 0 to 99999\n",
      "Data columns (total 5 columns):\n",
      " #   Column   Non-Null Count   Dtype  \n",
      "---  ------   --------------   -----  \n",
      " 0   id       100000 non-null  object \n",
      " 1   f0       100000 non-null  float64\n",
      " 2   f1       100000 non-null  float64\n",
      " 3   f2       100000 non-null  float64\n",
      " 4   product  100000 non-null  float64\n",
      "dtypes: float64(4), object(1)\n",
      "memory usage: 3.8+ MB\n"
     ]
    }
   ],
   "source": [
    "region_2.info()"
   ]
  },
  {
   "cell_type": "code",
   "execution_count": 9,
   "metadata": {},
   "outputs": [
    {
     "name": "stdout",
     "output_type": "stream",
     "text": [
      "id         0\n",
      "f0         0\n",
      "f1         0\n",
      "f2         0\n",
      "product    0\n",
      "dtype: int64\n"
     ]
    }
   ],
   "source": [
    "print(region_2.isna().sum())"
   ]
  },
  {
   "cell_type": "markdown",
   "metadata": {},
   "source": [
    "В таблице также 5 столбцов с типами данных float64 и object, и 100 000 строк. Явных пропусков в данных нет."
   ]
  },
  {
   "cell_type": "markdown",
   "metadata": {},
   "source": [
    "Посмотрим на третий датасет:"
   ]
  },
  {
   "cell_type": "code",
   "execution_count": 10,
   "metadata": {
    "scrolled": false
   },
   "outputs": [
    {
     "data": {
      "text/html": [
       "<div>\n",
       "<style scoped>\n",
       "    .dataframe tbody tr th:only-of-type {\n",
       "        vertical-align: middle;\n",
       "    }\n",
       "\n",
       "    .dataframe tbody tr th {\n",
       "        vertical-align: top;\n",
       "    }\n",
       "\n",
       "    .dataframe thead th {\n",
       "        text-align: right;\n",
       "    }\n",
       "</style>\n",
       "<table border=\"1\" class=\"dataframe\">\n",
       "  <thead>\n",
       "    <tr style=\"text-align: right;\">\n",
       "      <th></th>\n",
       "      <th>id</th>\n",
       "      <th>f0</th>\n",
       "      <th>f1</th>\n",
       "      <th>f2</th>\n",
       "      <th>product</th>\n",
       "    </tr>\n",
       "  </thead>\n",
       "  <tbody>\n",
       "    <tr>\n",
       "      <th>0</th>\n",
       "      <td>fwXo0</td>\n",
       "      <td>-1.146987</td>\n",
       "      <td>0.963328</td>\n",
       "      <td>-0.828965</td>\n",
       "      <td>27.758673</td>\n",
       "    </tr>\n",
       "    <tr>\n",
       "      <th>1</th>\n",
       "      <td>WJtFt</td>\n",
       "      <td>0.262778</td>\n",
       "      <td>0.269839</td>\n",
       "      <td>-2.530187</td>\n",
       "      <td>56.069697</td>\n",
       "    </tr>\n",
       "    <tr>\n",
       "      <th>2</th>\n",
       "      <td>ovLUW</td>\n",
       "      <td>0.194587</td>\n",
       "      <td>0.289035</td>\n",
       "      <td>-5.586433</td>\n",
       "      <td>62.871910</td>\n",
       "    </tr>\n",
       "    <tr>\n",
       "      <th>3</th>\n",
       "      <td>q6cA6</td>\n",
       "      <td>2.236060</td>\n",
       "      <td>-0.553760</td>\n",
       "      <td>0.930038</td>\n",
       "      <td>114.572842</td>\n",
       "    </tr>\n",
       "    <tr>\n",
       "      <th>4</th>\n",
       "      <td>WPMUX</td>\n",
       "      <td>-0.515993</td>\n",
       "      <td>1.716266</td>\n",
       "      <td>5.899011</td>\n",
       "      <td>149.600746</td>\n",
       "    </tr>\n",
       "    <tr>\n",
       "      <th>5</th>\n",
       "      <td>LzZXx</td>\n",
       "      <td>-0.758092</td>\n",
       "      <td>0.710691</td>\n",
       "      <td>2.585887</td>\n",
       "      <td>90.222465</td>\n",
       "    </tr>\n",
       "    <tr>\n",
       "      <th>6</th>\n",
       "      <td>WBHRv</td>\n",
       "      <td>-0.574891</td>\n",
       "      <td>0.317727</td>\n",
       "      <td>1.773745</td>\n",
       "      <td>45.641478</td>\n",
       "    </tr>\n",
       "    <tr>\n",
       "      <th>7</th>\n",
       "      <td>XO8fn</td>\n",
       "      <td>-1.906649</td>\n",
       "      <td>-2.458350</td>\n",
       "      <td>-0.177097</td>\n",
       "      <td>72.480640</td>\n",
       "    </tr>\n",
       "    <tr>\n",
       "      <th>8</th>\n",
       "      <td>ybmQ5</td>\n",
       "      <td>1.776292</td>\n",
       "      <td>-0.279356</td>\n",
       "      <td>3.004156</td>\n",
       "      <td>106.616832</td>\n",
       "    </tr>\n",
       "    <tr>\n",
       "      <th>9</th>\n",
       "      <td>OilcN</td>\n",
       "      <td>-1.214452</td>\n",
       "      <td>-0.439314</td>\n",
       "      <td>5.922514</td>\n",
       "      <td>52.954532</td>\n",
       "    </tr>\n",
       "  </tbody>\n",
       "</table>\n",
       "</div>"
      ],
      "text/plain": [
       "      id        f0        f1        f2     product\n",
       "0  fwXo0 -1.146987  0.963328 -0.828965   27.758673\n",
       "1  WJtFt  0.262778  0.269839 -2.530187   56.069697\n",
       "2  ovLUW  0.194587  0.289035 -5.586433   62.871910\n",
       "3  q6cA6  2.236060 -0.553760  0.930038  114.572842\n",
       "4  WPMUX -0.515993  1.716266  5.899011  149.600746\n",
       "5  LzZXx -0.758092  0.710691  2.585887   90.222465\n",
       "6  WBHRv -0.574891  0.317727  1.773745   45.641478\n",
       "7  XO8fn -1.906649 -2.458350 -0.177097   72.480640\n",
       "8  ybmQ5  1.776292 -0.279356  3.004156  106.616832\n",
       "9  OilcN -1.214452 -0.439314  5.922514   52.954532"
      ]
     },
     "metadata": {},
     "output_type": "display_data"
    }
   ],
   "source": [
    "display(region_3.head(10))"
   ]
  },
  {
   "cell_type": "markdown",
   "metadata": {},
   "source": [
    "Выглядит хорошо."
   ]
  },
  {
   "cell_type": "code",
   "execution_count": 11,
   "metadata": {},
   "outputs": [
    {
     "name": "stdout",
     "output_type": "stream",
     "text": [
      "<class 'pandas.core.frame.DataFrame'>\n",
      "RangeIndex: 100000 entries, 0 to 99999\n",
      "Data columns (total 5 columns):\n",
      " #   Column   Non-Null Count   Dtype  \n",
      "---  ------   --------------   -----  \n",
      " 0   id       100000 non-null  object \n",
      " 1   f0       100000 non-null  float64\n",
      " 2   f1       100000 non-null  float64\n",
      " 3   f2       100000 non-null  float64\n",
      " 4   product  100000 non-null  float64\n",
      "dtypes: float64(4), object(1)\n",
      "memory usage: 3.8+ MB\n"
     ]
    }
   ],
   "source": [
    "region_3.info()"
   ]
  },
  {
   "cell_type": "code",
   "execution_count": 12,
   "metadata": {},
   "outputs": [
    {
     "name": "stdout",
     "output_type": "stream",
     "text": [
      "id         0\n",
      "f0         0\n",
      "f1         0\n",
      "f2         0\n",
      "product    0\n",
      "dtype: int64\n"
     ]
    }
   ],
   "source": [
    "print(region_3.isna().sum())"
   ]
  },
  {
   "cell_type": "markdown",
   "metadata": {},
   "source": [
    "Аналогично, в таблице также 5 столбцов с типами данных float64 и object, и 100 000 строк. Явных пропусков в данных нет."
   ]
  },
  {
   "cell_type": "markdown",
   "metadata": {},
   "source": [
    "На первый взгляд проблем с данными нет."
   ]
  },
  {
   "cell_type": "markdown",
   "metadata": {},
   "source": [
    "### Предобработка данных"
   ]
  },
  {
   "cell_type": "markdown",
   "metadata": {},
   "source": [
    "#### Поиск дубликатов"
   ]
  },
  {
   "cell_type": "markdown",
   "metadata": {},
   "source": [
    "Изучу датасеты на предмет наличия дубликатов:"
   ]
  },
  {
   "cell_type": "code",
   "execution_count": 13,
   "metadata": {},
   "outputs": [
    {
     "name": "stdout",
     "output_type": "stream",
     "text": [
      "Дубликатов строк в region_1: 0\n"
     ]
    }
   ],
   "source": [
    "print('Дубликатов строк в region_1:', region_1.duplicated().sum() )"
   ]
  },
  {
   "cell_type": "code",
   "execution_count": 14,
   "metadata": {},
   "outputs": [
    {
     "name": "stdout",
     "output_type": "stream",
     "text": [
      "Дубликатов строк в region_2: 0\n"
     ]
    }
   ],
   "source": [
    "print('Дубликатов строк в region_2:', region_2.duplicated().sum() )"
   ]
  },
  {
   "cell_type": "code",
   "execution_count": 15,
   "metadata": {},
   "outputs": [
    {
     "name": "stdout",
     "output_type": "stream",
     "text": [
      "Дубликатов строк в region_3: 0\n"
     ]
    }
   ],
   "source": [
    "print('Дубликатов строк в region_3:', region_3.duplicated().sum() )"
   ]
  },
  {
   "cell_type": "markdown",
   "metadata": {},
   "source": [
    "Дублирующих строк не обнаружено. Есть смысл изучить дубликаты столбца `id`:"
   ]
  },
  {
   "cell_type": "code",
   "execution_count": 16,
   "metadata": {
    "scrolled": true
   },
   "outputs": [
    {
     "name": "stdout",
     "output_type": "stream",
     "text": [
      "10\n"
     ]
    }
   ],
   "source": [
    "print(region_1['id'].duplicated().sum())"
   ]
  },
  {
   "cell_type": "code",
   "execution_count": 17,
   "metadata": {
    "scrolled": true
   },
   "outputs": [
    {
     "name": "stdout",
     "output_type": "stream",
     "text": [
      "4\n"
     ]
    }
   ],
   "source": [
    "print(region_2['id'].duplicated().sum())"
   ]
  },
  {
   "cell_type": "code",
   "execution_count": 18,
   "metadata": {},
   "outputs": [
    {
     "name": "stdout",
     "output_type": "stream",
     "text": [
      "4\n"
     ]
    }
   ],
   "source": [
    "print(region_3['id'].duplicated().sum())"
   ]
  },
  {
   "cell_type": "markdown",
   "metadata": {},
   "source": [
    "Id повторяются, изучим визуально эти строки:"
   ]
  },
  {
   "cell_type": "code",
   "execution_count": 19,
   "metadata": {},
   "outputs": [
    {
     "data": {
      "text/html": [
       "<div>\n",
       "<style scoped>\n",
       "    .dataframe tbody tr th:only-of-type {\n",
       "        vertical-align: middle;\n",
       "    }\n",
       "\n",
       "    .dataframe tbody tr th {\n",
       "        vertical-align: top;\n",
       "    }\n",
       "\n",
       "    .dataframe thead th {\n",
       "        text-align: right;\n",
       "    }\n",
       "</style>\n",
       "<table border=\"1\" class=\"dataframe\">\n",
       "  <thead>\n",
       "    <tr style=\"text-align: right;\">\n",
       "      <th></th>\n",
       "      <th>id</th>\n",
       "      <th>f0</th>\n",
       "      <th>f1</th>\n",
       "      <th>f2</th>\n",
       "      <th>product</th>\n",
       "    </tr>\n",
       "  </thead>\n",
       "  <tbody>\n",
       "    <tr>\n",
       "      <th>931</th>\n",
       "      <td>HZww2</td>\n",
       "      <td>0.755284</td>\n",
       "      <td>0.368511</td>\n",
       "      <td>1.863211</td>\n",
       "      <td>30.681774</td>\n",
       "    </tr>\n",
       "    <tr>\n",
       "      <th>1364</th>\n",
       "      <td>bxg6G</td>\n",
       "      <td>0.411645</td>\n",
       "      <td>0.856830</td>\n",
       "      <td>-3.653440</td>\n",
       "      <td>73.604260</td>\n",
       "    </tr>\n",
       "    <tr>\n",
       "      <th>1949</th>\n",
       "      <td>QcMuo</td>\n",
       "      <td>0.506563</td>\n",
       "      <td>-0.323775</td>\n",
       "      <td>-2.215583</td>\n",
       "      <td>75.496502</td>\n",
       "    </tr>\n",
       "    <tr>\n",
       "      <th>3389</th>\n",
       "      <td>A5aEY</td>\n",
       "      <td>-0.039949</td>\n",
       "      <td>0.156872</td>\n",
       "      <td>0.209861</td>\n",
       "      <td>89.249364</td>\n",
       "    </tr>\n",
       "    <tr>\n",
       "      <th>7530</th>\n",
       "      <td>HZww2</td>\n",
       "      <td>1.061194</td>\n",
       "      <td>-0.373969</td>\n",
       "      <td>10.430210</td>\n",
       "      <td>158.828695</td>\n",
       "    </tr>\n",
       "    <tr>\n",
       "      <th>16633</th>\n",
       "      <td>fiKDv</td>\n",
       "      <td>0.157341</td>\n",
       "      <td>1.028359</td>\n",
       "      <td>5.585586</td>\n",
       "      <td>95.817889</td>\n",
       "    </tr>\n",
       "    <tr>\n",
       "      <th>21426</th>\n",
       "      <td>Tdehs</td>\n",
       "      <td>0.829407</td>\n",
       "      <td>0.298807</td>\n",
       "      <td>-0.049563</td>\n",
       "      <td>96.035308</td>\n",
       "    </tr>\n",
       "    <tr>\n",
       "      <th>41724</th>\n",
       "      <td>bxg6G</td>\n",
       "      <td>-0.823752</td>\n",
       "      <td>0.546319</td>\n",
       "      <td>3.630479</td>\n",
       "      <td>93.007798</td>\n",
       "    </tr>\n",
       "    <tr>\n",
       "      <th>42529</th>\n",
       "      <td>AGS9W</td>\n",
       "      <td>1.454747</td>\n",
       "      <td>-0.479651</td>\n",
       "      <td>0.683380</td>\n",
       "      <td>126.370504</td>\n",
       "    </tr>\n",
       "    <tr>\n",
       "      <th>51970</th>\n",
       "      <td>A5aEY</td>\n",
       "      <td>-0.180335</td>\n",
       "      <td>0.935548</td>\n",
       "      <td>-2.094773</td>\n",
       "      <td>33.020205</td>\n",
       "    </tr>\n",
       "    <tr>\n",
       "      <th>60140</th>\n",
       "      <td>TtcGQ</td>\n",
       "      <td>0.569276</td>\n",
       "      <td>-0.104876</td>\n",
       "      <td>6.440215</td>\n",
       "      <td>85.350186</td>\n",
       "    </tr>\n",
       "    <tr>\n",
       "      <th>63593</th>\n",
       "      <td>QcMuo</td>\n",
       "      <td>0.635635</td>\n",
       "      <td>-0.473422</td>\n",
       "      <td>0.862670</td>\n",
       "      <td>64.578675</td>\n",
       "    </tr>\n",
       "    <tr>\n",
       "      <th>64022</th>\n",
       "      <td>74z30</td>\n",
       "      <td>0.741456</td>\n",
       "      <td>0.459229</td>\n",
       "      <td>5.153109</td>\n",
       "      <td>140.771492</td>\n",
       "    </tr>\n",
       "    <tr>\n",
       "      <th>66136</th>\n",
       "      <td>74z30</td>\n",
       "      <td>1.084962</td>\n",
       "      <td>-0.312358</td>\n",
       "      <td>6.990771</td>\n",
       "      <td>127.643327</td>\n",
       "    </tr>\n",
       "    <tr>\n",
       "      <th>69163</th>\n",
       "      <td>AGS9W</td>\n",
       "      <td>-0.933795</td>\n",
       "      <td>0.116194</td>\n",
       "      <td>-3.655896</td>\n",
       "      <td>19.230453</td>\n",
       "    </tr>\n",
       "    <tr>\n",
       "      <th>75715</th>\n",
       "      <td>Tdehs</td>\n",
       "      <td>0.112079</td>\n",
       "      <td>0.430296</td>\n",
       "      <td>3.218993</td>\n",
       "      <td>60.964018</td>\n",
       "    </tr>\n",
       "    <tr>\n",
       "      <th>89582</th>\n",
       "      <td>bsk9y</td>\n",
       "      <td>0.398908</td>\n",
       "      <td>-0.400253</td>\n",
       "      <td>10.122376</td>\n",
       "      <td>163.433078</td>\n",
       "    </tr>\n",
       "    <tr>\n",
       "      <th>90815</th>\n",
       "      <td>fiKDv</td>\n",
       "      <td>0.049883</td>\n",
       "      <td>0.841313</td>\n",
       "      <td>6.394613</td>\n",
       "      <td>137.346586</td>\n",
       "    </tr>\n",
       "    <tr>\n",
       "      <th>92341</th>\n",
       "      <td>TtcGQ</td>\n",
       "      <td>0.110711</td>\n",
       "      <td>1.022689</td>\n",
       "      <td>0.911381</td>\n",
       "      <td>101.318008</td>\n",
       "    </tr>\n",
       "    <tr>\n",
       "      <th>97785</th>\n",
       "      <td>bsk9y</td>\n",
       "      <td>0.378429</td>\n",
       "      <td>0.005837</td>\n",
       "      <td>0.160827</td>\n",
       "      <td>160.637302</td>\n",
       "    </tr>\n",
       "  </tbody>\n",
       "</table>\n",
       "</div>"
      ],
      "text/plain": [
       "          id        f0        f1         f2     product\n",
       "931    HZww2  0.755284  0.368511   1.863211   30.681774\n",
       "1364   bxg6G  0.411645  0.856830  -3.653440   73.604260\n",
       "1949   QcMuo  0.506563 -0.323775  -2.215583   75.496502\n",
       "3389   A5aEY -0.039949  0.156872   0.209861   89.249364\n",
       "7530   HZww2  1.061194 -0.373969  10.430210  158.828695\n",
       "16633  fiKDv  0.157341  1.028359   5.585586   95.817889\n",
       "21426  Tdehs  0.829407  0.298807  -0.049563   96.035308\n",
       "41724  bxg6G -0.823752  0.546319   3.630479   93.007798\n",
       "42529  AGS9W  1.454747 -0.479651   0.683380  126.370504\n",
       "51970  A5aEY -0.180335  0.935548  -2.094773   33.020205\n",
       "60140  TtcGQ  0.569276 -0.104876   6.440215   85.350186\n",
       "63593  QcMuo  0.635635 -0.473422   0.862670   64.578675\n",
       "64022  74z30  0.741456  0.459229   5.153109  140.771492\n",
       "66136  74z30  1.084962 -0.312358   6.990771  127.643327\n",
       "69163  AGS9W -0.933795  0.116194  -3.655896   19.230453\n",
       "75715  Tdehs  0.112079  0.430296   3.218993   60.964018\n",
       "89582  bsk9y  0.398908 -0.400253  10.122376  163.433078\n",
       "90815  fiKDv  0.049883  0.841313   6.394613  137.346586\n",
       "92341  TtcGQ  0.110711  1.022689   0.911381  101.318008\n",
       "97785  bsk9y  0.378429  0.005837   0.160827  160.637302"
      ]
     },
     "metadata": {},
     "output_type": "display_data"
    }
   ],
   "source": [
    "display(region_1[region_1.duplicated(subset='id', keep=False)])"
   ]
  },
  {
   "cell_type": "code",
   "execution_count": 20,
   "metadata": {},
   "outputs": [
    {
     "data": {
      "text/html": [
       "<div>\n",
       "<style scoped>\n",
       "    .dataframe tbody tr th:only-of-type {\n",
       "        vertical-align: middle;\n",
       "    }\n",
       "\n",
       "    .dataframe tbody tr th {\n",
       "        vertical-align: top;\n",
       "    }\n",
       "\n",
       "    .dataframe thead th {\n",
       "        text-align: right;\n",
       "    }\n",
       "</style>\n",
       "<table border=\"1\" class=\"dataframe\">\n",
       "  <thead>\n",
       "    <tr style=\"text-align: right;\">\n",
       "      <th></th>\n",
       "      <th>id</th>\n",
       "      <th>f0</th>\n",
       "      <th>f1</th>\n",
       "      <th>f2</th>\n",
       "      <th>product</th>\n",
       "    </tr>\n",
       "  </thead>\n",
       "  <tbody>\n",
       "    <tr>\n",
       "      <th>1305</th>\n",
       "      <td>LHZR0</td>\n",
       "      <td>11.170835</td>\n",
       "      <td>-1.945066</td>\n",
       "      <td>3.002872</td>\n",
       "      <td>80.859783</td>\n",
       "    </tr>\n",
       "    <tr>\n",
       "      <th>2721</th>\n",
       "      <td>bfPNe</td>\n",
       "      <td>-9.494442</td>\n",
       "      <td>-5.463692</td>\n",
       "      <td>4.006042</td>\n",
       "      <td>110.992147</td>\n",
       "    </tr>\n",
       "    <tr>\n",
       "      <th>5849</th>\n",
       "      <td>5ltQ6</td>\n",
       "      <td>-3.435401</td>\n",
       "      <td>-12.296043</td>\n",
       "      <td>1.999796</td>\n",
       "      <td>57.085625</td>\n",
       "    </tr>\n",
       "    <tr>\n",
       "      <th>41906</th>\n",
       "      <td>LHZR0</td>\n",
       "      <td>-8.989672</td>\n",
       "      <td>-4.286607</td>\n",
       "      <td>2.009139</td>\n",
       "      <td>57.085625</td>\n",
       "    </tr>\n",
       "    <tr>\n",
       "      <th>47591</th>\n",
       "      <td>wt4Uk</td>\n",
       "      <td>-9.091098</td>\n",
       "      <td>-8.109279</td>\n",
       "      <td>-0.002314</td>\n",
       "      <td>3.179103</td>\n",
       "    </tr>\n",
       "    <tr>\n",
       "      <th>82178</th>\n",
       "      <td>bfPNe</td>\n",
       "      <td>-6.202799</td>\n",
       "      <td>-4.820045</td>\n",
       "      <td>2.995107</td>\n",
       "      <td>84.038886</td>\n",
       "    </tr>\n",
       "    <tr>\n",
       "      <th>82873</th>\n",
       "      <td>wt4Uk</td>\n",
       "      <td>10.259972</td>\n",
       "      <td>-9.376355</td>\n",
       "      <td>4.994297</td>\n",
       "      <td>134.766305</td>\n",
       "    </tr>\n",
       "    <tr>\n",
       "      <th>84461</th>\n",
       "      <td>5ltQ6</td>\n",
       "      <td>18.213839</td>\n",
       "      <td>2.191999</td>\n",
       "      <td>3.993869</td>\n",
       "      <td>107.813044</td>\n",
       "    </tr>\n",
       "  </tbody>\n",
       "</table>\n",
       "</div>"
      ],
      "text/plain": [
       "          id         f0         f1        f2     product\n",
       "1305   LHZR0  11.170835  -1.945066  3.002872   80.859783\n",
       "2721   bfPNe  -9.494442  -5.463692  4.006042  110.992147\n",
       "5849   5ltQ6  -3.435401 -12.296043  1.999796   57.085625\n",
       "41906  LHZR0  -8.989672  -4.286607  2.009139   57.085625\n",
       "47591  wt4Uk  -9.091098  -8.109279 -0.002314    3.179103\n",
       "82178  bfPNe  -6.202799  -4.820045  2.995107   84.038886\n",
       "82873  wt4Uk  10.259972  -9.376355  4.994297  134.766305\n",
       "84461  5ltQ6  18.213839   2.191999  3.993869  107.813044"
      ]
     },
     "metadata": {},
     "output_type": "display_data"
    }
   ],
   "source": [
    "display(region_2[region_2.duplicated(subset='id', keep=False)])"
   ]
  },
  {
   "cell_type": "code",
   "execution_count": 21,
   "metadata": {
    "scrolled": false
   },
   "outputs": [
    {
     "data": {
      "text/html": [
       "<div>\n",
       "<style scoped>\n",
       "    .dataframe tbody tr th:only-of-type {\n",
       "        vertical-align: middle;\n",
       "    }\n",
       "\n",
       "    .dataframe tbody tr th {\n",
       "        vertical-align: top;\n",
       "    }\n",
       "\n",
       "    .dataframe thead th {\n",
       "        text-align: right;\n",
       "    }\n",
       "</style>\n",
       "<table border=\"1\" class=\"dataframe\">\n",
       "  <thead>\n",
       "    <tr style=\"text-align: right;\">\n",
       "      <th></th>\n",
       "      <th>id</th>\n",
       "      <th>f0</th>\n",
       "      <th>f1</th>\n",
       "      <th>f2</th>\n",
       "      <th>product</th>\n",
       "    </tr>\n",
       "  </thead>\n",
       "  <tbody>\n",
       "    <tr>\n",
       "      <th>11449</th>\n",
       "      <td>VF7Jo</td>\n",
       "      <td>2.122656</td>\n",
       "      <td>-0.858275</td>\n",
       "      <td>5.746001</td>\n",
       "      <td>181.716817</td>\n",
       "    </tr>\n",
       "    <tr>\n",
       "      <th>28039</th>\n",
       "      <td>xCHr8</td>\n",
       "      <td>1.633027</td>\n",
       "      <td>0.368135</td>\n",
       "      <td>-2.378367</td>\n",
       "      <td>6.120525</td>\n",
       "    </tr>\n",
       "    <tr>\n",
       "      <th>43233</th>\n",
       "      <td>xCHr8</td>\n",
       "      <td>-0.847066</td>\n",
       "      <td>2.101796</td>\n",
       "      <td>5.597130</td>\n",
       "      <td>184.388641</td>\n",
       "    </tr>\n",
       "    <tr>\n",
       "      <th>44378</th>\n",
       "      <td>Vcm5J</td>\n",
       "      <td>-1.229484</td>\n",
       "      <td>-2.439204</td>\n",
       "      <td>1.222909</td>\n",
       "      <td>137.968290</td>\n",
       "    </tr>\n",
       "    <tr>\n",
       "      <th>45404</th>\n",
       "      <td>KUPhW</td>\n",
       "      <td>0.231846</td>\n",
       "      <td>-1.698941</td>\n",
       "      <td>4.990775</td>\n",
       "      <td>11.716299</td>\n",
       "    </tr>\n",
       "    <tr>\n",
       "      <th>49564</th>\n",
       "      <td>VF7Jo</td>\n",
       "      <td>-0.883115</td>\n",
       "      <td>0.560537</td>\n",
       "      <td>0.723601</td>\n",
       "      <td>136.233420</td>\n",
       "    </tr>\n",
       "    <tr>\n",
       "      <th>55967</th>\n",
       "      <td>KUPhW</td>\n",
       "      <td>1.211150</td>\n",
       "      <td>3.176408</td>\n",
       "      <td>5.543540</td>\n",
       "      <td>132.831802</td>\n",
       "    </tr>\n",
       "    <tr>\n",
       "      <th>95090</th>\n",
       "      <td>Vcm5J</td>\n",
       "      <td>2.587702</td>\n",
       "      <td>1.986875</td>\n",
       "      <td>2.482245</td>\n",
       "      <td>92.327572</td>\n",
       "    </tr>\n",
       "  </tbody>\n",
       "</table>\n",
       "</div>"
      ],
      "text/plain": [
       "          id        f0        f1        f2     product\n",
       "11449  VF7Jo  2.122656 -0.858275  5.746001  181.716817\n",
       "28039  xCHr8  1.633027  0.368135 -2.378367    6.120525\n",
       "43233  xCHr8 -0.847066  2.101796  5.597130  184.388641\n",
       "44378  Vcm5J -1.229484 -2.439204  1.222909  137.968290\n",
       "45404  KUPhW  0.231846 -1.698941  4.990775   11.716299\n",
       "49564  VF7Jo -0.883115  0.560537  0.723601  136.233420\n",
       "55967  KUPhW  1.211150  3.176408  5.543540  132.831802\n",
       "95090  Vcm5J  2.587702  1.986875  2.482245   92.327572"
      ]
     },
     "metadata": {},
     "output_type": "display_data"
    }
   ],
   "source": [
    "display(region_3[region_3.duplicated(subset='id', keep=False)])"
   ]
  },
  {
   "cell_type": "markdown",
   "metadata": {},
   "source": [
    "Видимо, несколько раз взяты разные данные по одной и той же скважине. Повторов довольно мало, вряд ли это повлияет на обучение модели, не буду трогать."
   ]
  },
  {
   "cell_type": "markdown",
   "metadata": {},
   "source": [
    "#### Количественные данные"
   ]
  },
  {
   "cell_type": "markdown",
   "metadata": {},
   "source": [
    "Изучим есть ли особенности в количественных признаках:"
   ]
  },
  {
   "cell_type": "markdown",
   "metadata": {},
   "source": [
    "Посмотрим, как распределены данные"
   ]
  },
  {
   "cell_type": "code",
   "execution_count": 22,
   "metadata": {},
   "outputs": [
    {
     "data": {
      "image/png": "[encoded data removed]",
      "text/plain": [
       "<Figure size 432x288 with 1 Axes>"
      ]
     },
     "metadata": {
      "needs_background": "light"
     },
     "output_type": "display_data"
    }
   ],
   "source": [
    "plt_region_1 = region_1['product'].hist(bins=100)\n",
    "\n",
    "plt.xlabel('Product amount, 1000 barrels') # подписи осей\n",
    "plt.ylabel('Frequency')\n",
    "plt.title('Частота встречаемости количества продукта в регионе 1') # заголовок\n",
    "plt.show()"
   ]
  },
  {
   "cell_type": "code",
   "execution_count": 23,
   "metadata": {
    "scrolled": false
   },
   "outputs": [
    {
     "data": {
      "image/png": "[encoded data removed]",
      "text/plain": [
       "<Figure size 432x288 with 1 Axes>"
      ]
     },
     "metadata": {
      "needs_background": "light"
     },
     "output_type": "display_data"
    }
   ],
   "source": [
    "plt_region_1 = region_2['product'].hist(bins=50)\n",
    "plt.xlabel('Product amount, 1000 barrels') # подписи осей\n",
    "plt.ylabel('Frequency')\n",
    "plt.title('Частота встречаемости количества продукта в регионе 2') # заголовок\n",
    "plt.show()"
   ]
  },
  {
   "cell_type": "code",
   "execution_count": 24,
   "metadata": {
    "scrolled": true
   },
   "outputs": [
    {
     "name": "stdout",
     "output_type": "stream",
     "text": [
      "53.906522     8472\n",
      "26.953261     8468\n",
      "84.038886     8431\n",
      "57.085625     8390\n",
      "3.179103      8337\n",
      "80.859783     8320\n",
      "30.132364     8306\n",
      "134.766305    8304\n",
      "110.992147    8303\n",
      "0.000000      8235\n",
      "137.945408    8233\n",
      "107.813044    8201\n",
      "Name: product, dtype: int64\n"
     ]
    }
   ],
   "source": [
    "print(region_2['product'].value_counts())"
   ]
  },
  {
   "cell_type": "code",
   "execution_count": 25,
   "metadata": {
    "scrolled": true
   },
   "outputs": [
    {
     "data": {
      "image/png": "[encoded data removed]",
      "text/plain": [
       "<Figure size 432x288 with 1 Axes>"
      ]
     },
     "metadata": {
      "needs_background": "light"
     },
     "output_type": "display_data"
    }
   ],
   "source": [
    "plt_region_1 = region_3['product'].hist(bins=100)\n",
    "plt.xlabel('Product amount, 1000 barrels') # подписи осей\n",
    "plt.ylabel('Frequency')\n",
    "plt.title('Частота встречаемости количества продукта в регионе 3') # заголовок\n",
    "plt.show()"
   ]
  },
  {
   "cell_type": "markdown",
   "metadata": {},
   "source": [
    "Графики распределения прибыли напоминают нормальные распределения, а график второго - наличие определенных кластеров значений."
   ]
  },
  {
   "cell_type": "markdown",
   "metadata": {},
   "source": [
    "Не знаю пока, какие выводы можно сделать по данным графикам, пока можно обратить внимание на природу распределения, отличного от нормального и поискать закономерности в случае необходимости."
   ]
  },
  {
   "cell_type": "markdown",
   "metadata": {},
   "source": [
    "### Вывод"
   ]
  },
  {
   "cell_type": "markdown",
   "metadata": {},
   "source": [
    "Данные по трем регионам загружены. Явных проблем в данных нет. Исследована корректность данных и наличие особенностей в них. Данные первого и третьего региона распределены непрерывно, данные второго региона имеют дискретную природу распределения, что может быть связано с особенностями добычи продукта в данном регионе. Имеется большое количество нулевых значений неизвестной природы (возможно, получить нефть в этих точках не смогли)."
   ]
  },
  {
   "cell_type": "markdown",
   "metadata": {},
   "source": [
    "## Обучение и проверка модели"
   ]
  },
  {
   "cell_type": "markdown",
   "metadata": {},
   "source": [
    "### Обучение моделей"
   ]
  },
  {
   "cell_type": "code",
   "execution_count": 26,
   "metadata": {},
   "outputs": [],
   "source": [
    "# Определение фичей и таргетов для каждого региона\n",
    "regions = [region_1, region_2, region_3]\n",
    "region_features_targets_train = []\n",
    "region_features_targets_valid = []\n",
    "\n",
    "\n",
    "for region_index in range(len(regions)):\n",
    "    features = regions[region_index].drop(['product', 'id'], axis=1)\n",
    "    targets = regions[region_index]['product']\n",
    "    \n",
    "    features_train, features_valid, target_train, target_valid = train_test_split(features, targets, test_size=0.25, random_state=12345)\n",
    "    \n",
    "    # Разделение фичей и таргетов на тренировочные и валидационные\n",
    "    region_features_targets_train.append([features_train, target_train])\n",
    "    region_features_targets_valid.append([features_valid, target_valid])\n"
   ]
  },
  {
   "cell_type": "markdown",
   "metadata": {},
   "source": [
    "_Важно:  К региону фичей буду обращаться в списках через индексы. Номер региона = (индекс списка - 1). Фичи в списках `region_features_targets_valid` и `region_features_targets_valid` находятся в подсписках под индексом `0`, таргеты - в подсписках под индексом `1`:_\n",
    "\n",
    "        Фичи региона тренировочной выборки = region_features_targets_train[Индекс региона][0]\n",
    "        Таргеты региона валидационной выборки = region_features_targets_train[Индекс региона][1]"
   ]
  },
  {
   "cell_type": "code",
   "execution_count": 27,
   "metadata": {
    "scrolled": true
   },
   "outputs": [
    {
     "name": "stdout",
     "output_type": "stream",
     "text": [
      "Тренировочные фичи и таргеты первого региона:\n"
     ]
    },
    {
     "data": {
      "text/html": [
       "<div>\n",
       "<style scoped>\n",
       "    .dataframe tbody tr th:only-of-type {\n",
       "        vertical-align: middle;\n",
       "    }\n",
       "\n",
       "    .dataframe tbody tr th {\n",
       "        vertical-align: top;\n",
       "    }\n",
       "\n",
       "    .dataframe thead th {\n",
       "        text-align: right;\n",
       "    }\n",
       "</style>\n",
       "<table border=\"1\" class=\"dataframe\">\n",
       "  <thead>\n",
       "    <tr style=\"text-align: right;\">\n",
       "      <th></th>\n",
       "      <th>f0</th>\n",
       "      <th>f1</th>\n",
       "      <th>f2</th>\n",
       "    </tr>\n",
       "  </thead>\n",
       "  <tbody>\n",
       "    <tr>\n",
       "      <th>27212</th>\n",
       "      <td>0.022450</td>\n",
       "      <td>0.951034</td>\n",
       "      <td>2.197333</td>\n",
       "    </tr>\n",
       "    <tr>\n",
       "      <th>7866</th>\n",
       "      <td>1.766731</td>\n",
       "      <td>0.007835</td>\n",
       "      <td>6.436602</td>\n",
       "    </tr>\n",
       "    <tr>\n",
       "      <th>62041</th>\n",
       "      <td>0.724514</td>\n",
       "      <td>0.666063</td>\n",
       "      <td>1.840177</td>\n",
       "    </tr>\n",
       "    <tr>\n",
       "      <th>70185</th>\n",
       "      <td>-1.104181</td>\n",
       "      <td>0.255268</td>\n",
       "      <td>2.026156</td>\n",
       "    </tr>\n",
       "    <tr>\n",
       "      <th>82230</th>\n",
       "      <td>-0.635263</td>\n",
       "      <td>0.747990</td>\n",
       "      <td>6.643327</td>\n",
       "    </tr>\n",
       "  </tbody>\n",
       "</table>\n",
       "</div>"
      ],
      "text/plain": [
       "             f0        f1        f2\n",
       "27212  0.022450  0.951034  2.197333\n",
       "7866   1.766731  0.007835  6.436602\n",
       "62041  0.724514  0.666063  1.840177\n",
       "70185 -1.104181  0.255268  2.026156\n",
       "82230 -0.635263  0.747990  6.643327"
      ]
     },
     "metadata": {},
     "output_type": "display_data"
    },
    {
     "data": {
      "text/plain": [
       "27212    147.370612\n",
       "7866     147.630053\n",
       "62041     77.696728\n",
       "70185     55.210501\n",
       "82230    113.891723\n",
       "Name: product, dtype: float64"
      ]
     },
     "metadata": {},
     "output_type": "display_data"
    },
    {
     "name": "stdout",
     "output_type": "stream",
     "text": [
      "Размер данных тренировочных таргетов первого региона: (25000, 3)\n",
      "Размер данных тренировочных фичей первого региона: (25000,)\n",
      "\n",
      "Валидационные фичи и таргеты первого региона:\n"
     ]
    },
    {
     "data": {
      "text/html": [
       "<div>\n",
       "<style scoped>\n",
       "    .dataframe tbody tr th:only-of-type {\n",
       "        vertical-align: middle;\n",
       "    }\n",
       "\n",
       "    .dataframe tbody tr th {\n",
       "        vertical-align: top;\n",
       "    }\n",
       "\n",
       "    .dataframe thead th {\n",
       "        text-align: right;\n",
       "    }\n",
       "</style>\n",
       "<table border=\"1\" class=\"dataframe\">\n",
       "  <thead>\n",
       "    <tr style=\"text-align: right;\">\n",
       "      <th></th>\n",
       "      <th>f0</th>\n",
       "      <th>f1</th>\n",
       "      <th>f2</th>\n",
       "    </tr>\n",
       "  </thead>\n",
       "  <tbody>\n",
       "    <tr>\n",
       "      <th>71751</th>\n",
       "      <td>-0.371866</td>\n",
       "      <td>-1.862494</td>\n",
       "      <td>3.002210</td>\n",
       "    </tr>\n",
       "    <tr>\n",
       "      <th>80493</th>\n",
       "      <td>9.015122</td>\n",
       "      <td>-13.881455</td>\n",
       "      <td>1.995363</td>\n",
       "    </tr>\n",
       "    <tr>\n",
       "      <th>2655</th>\n",
       "      <td>-6.507568</td>\n",
       "      <td>-4.817448</td>\n",
       "      <td>1.003449</td>\n",
       "    </tr>\n",
       "    <tr>\n",
       "      <th>53233</th>\n",
       "      <td>14.560845</td>\n",
       "      <td>-10.667755</td>\n",
       "      <td>1.995175</td>\n",
       "    </tr>\n",
       "    <tr>\n",
       "      <th>91141</th>\n",
       "      <td>6.090476</td>\n",
       "      <td>-4.494723</td>\n",
       "      <td>0.013815</td>\n",
       "    </tr>\n",
       "  </tbody>\n",
       "</table>\n",
       "</div>"
      ],
      "text/plain": [
       "              f0         f1        f2\n",
       "71751  -0.371866  -1.862494  3.002210\n",
       "80493   9.015122 -13.881455  1.995363\n",
       "2655   -6.507568  -4.817448  1.003449\n",
       "53233  14.560845 -10.667755  1.995175\n",
       "91141   6.090476  -4.494723  0.013815"
      ]
     },
     "metadata": {},
     "output_type": "display_data"
    },
    {
     "data": {
      "text/plain": [
       "71751    80.859783\n",
       "80493    53.906522\n",
       "2655     30.132364\n",
       "53233    53.906522\n",
       "91141     0.000000\n",
       "Name: product, dtype: float64"
      ]
     },
     "metadata": {},
     "output_type": "display_data"
    },
    {
     "name": "stdout",
     "output_type": "stream",
     "text": [
      "\n",
      "Размер данных валидационных таргетов первого региона: (25000, 3)\n",
      "Размер данных валидационных фичей первого региона: (25000,)\n"
     ]
    }
   ],
   "source": [
    "# Проверка правильности разделения фичей и таргетов на примере первого региона\n",
    "print('Тренировочные фичи и таргеты первого региона:')\n",
    "display(region_features_targets_train[0][0].head())\n",
    "display(region_features_targets_train[0][1].head())\n",
    "\n",
    "print('Размер данных тренировочных таргетов первого региона:', region_features_targets_valid[1][0].shape)\n",
    "print('Размер данных тренировочных фичей первого региона:', region_features_targets_valid[1][1].shape)\n",
    "print()\n",
    "print('Валидационные фичи и таргеты первого региона:')\n",
    "display(region_features_targets_valid[1][0].head())\n",
    "display(region_features_targets_valid[1][1].head())\n",
    "print()\n",
    "print('Размер данных валидационных таргетов первого региона:', region_features_targets_valid[1][0].shape)\n",
    "print('Размер данных валидационных фичей первого региона:', region_features_targets_valid[1][1].shape)\n"
   ]
  },
  {
   "cell_type": "markdown",
   "metadata": {},
   "source": [
    "Пропорции правильные, данные разделены верно"
   ]
  },
  {
   "cell_type": "markdown",
   "metadata": {},
   "source": [
    "Функция для автоматизации обучения моделей"
   ]
  },
  {
   "cell_type": "code",
   "execution_count": 28,
   "metadata": {
    "scrolled": false
   },
   "outputs": [
    {
     "name": "stdout",
     "output_type": "stream",
     "text": [
      "Регион 1:\n",
      "Модель линейной регрессии для региона обучена.\n",
      "Регион 2:\n",
      "Модель линейной регрессии для региона обучена.\n",
      "Регион 3:\n",
      "Модель линейной регрессии для региона обучена.\n"
     ]
    }
   ],
   "source": [
    "def fit_model(features, target):\n",
    "    scaler = StandardScaler()\n",
    "    scaler.fit(features)\n",
    "    features_scaled = scaler.transform(features)\n",
    "    model_LinearR = LinearRegression()\n",
    "    model_LinearR.fit(features_scaled, target)\n",
    "    print(\"Модель линейной регрессии для региона обучена.\")    \n",
    "    return model_LinearR, scaler\n",
    "\n",
    "models = []\n",
    "scalers = []\n",
    "\n",
    "for region_index in range(len(region_features_targets_train)):\n",
    "    features_train = region_features_targets_train[region_index][0]\n",
    "    target_train = region_features_targets_train[region_index][1]\n",
    "    print(\"Регион \" + str(region_index+1) + ':')\n",
    "    model, scaler = fit_model(features_train, target_train)\n",
    "    models.append(model)\n",
    "    scalers.append(scaler)"
   ]
  },
  {
   "cell_type": "markdown",
   "metadata": {},
   "source": [
    "Получу предсказания моделей по всем регионам:"
   ]
  },
  {
   "cell_type": "code",
   "execution_count": 29,
   "metadata": {
    "scrolled": true
   },
   "outputs": [
    {
     "name": "stdout",
     "output_type": "stream",
     "text": [
      "Список предсказаний для регионов 1, 2, 3 соответственно:\n"
     ]
    },
    {
     "data": {
      "text/plain": [
       "[array([ 95.89495185,  77.57258261,  77.89263965, ...,  61.50983303,\n",
       "        118.18039721, 118.16939229]),\n",
       " array([ 82.66331365,  54.43178616,  29.74875995, ..., 137.87934053,\n",
       "         83.76196568,  53.95846638]),\n",
       " array([ 93.59963303,  75.10515854,  90.06680936, ...,  99.40728116,\n",
       "         77.77991248, 129.03241718])]"
      ]
     },
     "metadata": {},
     "output_type": "display_data"
    }
   ],
   "source": [
    "def predict_model(model, scaler, features):\n",
    "    return model.predict(scaler.transform(features))\n",
    "\n",
    "predictions_list = []\n",
    "\n",
    "for region_index in range(len(models)):\n",
    "    features_valid = region_features_targets_valid[region_index][0]\n",
    "\n",
    "    model = models[region_index]\n",
    "    scaler = scalers[region_index]\n",
    "    predicted_valid = predict_model(model, scaler, features_valid) # Предсказания для региона \n",
    "    predictions_list.append(predicted_valid) # Добавляю в список\n",
    "    \n",
    "    \n",
    "print('Список предсказаний для регионов 1, 2, 3 соответственно:')\n",
    "display(predictions_list)"
   ]
  },
  {
   "cell_type": "markdown",
   "metadata": {},
   "source": [
    "### Проверка моделей"
   ]
  },
  {
   "cell_type": "code",
   "execution_count": 30,
   "metadata": {},
   "outputs": [
    {
     "name": "stdout",
     "output_type": "stream",
     "text": [
      "MSE для 1 региона = 1412.2129364399243\n",
      "RMSE для  1 региона = 37.5794217150813\n",
      "\n",
      "MSE для 2 региона = 0.7976263360391157\n",
      "RMSE для  2 региона = 0.893099286775617\n",
      "\n",
      "MSE для 3 региона = 1602.3775813236196\n",
      "RMSE для  3 региона = 40.02970873393434\n",
      "\n"
     ]
    }
   ],
   "source": [
    "mse_lst = []\n",
    "for region_index in range(len(predictions_list)):\n",
    "    mse = mean_squared_error(region_features_targets_valid[region_index][1], predictions_list[region_index])\n",
    "    print(\"MSE для \" + str(region_index+1) + ' региона =', mse)\n",
    "    print(\"RMSE для \", str(region_index+1) + ' региона =', mse ** 0.5)\n",
    "    print()\n",
    "    mse_lst.append(mse)"
   ]
  },
  {
   "cell_type": "markdown",
   "metadata": {},
   "source": [
    "Меньше всего разброс данных во втором регионе."
   ]
  },
  {
   "cell_type": "code",
   "execution_count": 31,
   "metadata": {},
   "outputs": [
    {
     "name": "stdout",
     "output_type": "stream",
     "text": [
      "Cредний запас предсказанного сырья в регионе № 1 = 92.59256778438035\n",
      "Cредний запас предсказанного сырья в регионе № 2 = 68.728546895446\n",
      "Cредний запас предсказанного сырья в регионе № 3 = 94.96504596800489\n"
     ]
    }
   ],
   "source": [
    "mean_pred_product_lst = []\n",
    "def mean_product(predictions_lst, mean_pred_product_lst):\n",
    "    for region_index in range(len(predictions_lst)):\n",
    "        prediction = predictions_lst[region_index]\n",
    "        print('Cредний запас предсказанного сырья в регионе №', region_index + 1, '=', prediction.mean())\n",
    "        mean_pred_product_lst.append(prediction.mean())\n",
    "        \n",
    "mean_product(predictions_list, mean_pred_product_lst)"
   ]
  },
  {
   "cell_type": "code",
   "execution_count": 32,
   "metadata": {
    "scrolled": false
   },
   "outputs": [
    {
     "name": "stdout",
     "output_type": "stream",
     "text": [
      "Список среднего запаса предсказанного сырья для регионов 1, 2, 3 соответственно:\n",
      "[92.59256778438035, 68.728546895446, 94.96504596800489]\n"
     ]
    }
   ],
   "source": [
    "print('Список среднего запаса предсказанного сырья для регионов 1, 2, 3 соответственно:') \n",
    "print(mean_pred_product_lst)"
   ]
  },
  {
   "cell_type": "markdown",
   "metadata": {},
   "source": [
    "Чтобы оценить качество работы моделей, посчитаю коэфициент детерминации:"
   ]
  },
  {
   "cell_type": "code",
   "execution_count": 33,
   "metadata": {},
   "outputs": [
    {
     "name": "stdout",
     "output_type": "stream",
     "text": [
      "\n",
      "Регион №1:\n",
      "R2 = 0.27994321524487786\n",
      "Метрика R2 больше нуля - модель работает лучше, чем константная. Качество модели хорошее.\n",
      "\n",
      "Регион №2:\n",
      "R2 = 0.9996233978805127\n",
      "Метрика R2 больше нуля - модель работает лучше, чем константная. Качество модели хорошее.\n",
      "\n",
      "Регион №3:\n",
      "R2 = 0.20524758386040443\n",
      "Метрика R2 больше нуля - модель работает лучше, чем константная. Качество модели хорошее.\n"
     ]
    }
   ],
   "source": [
    "r2_lst = []\n",
    "for region_index in range(len(predictions_list)):\n",
    "    print()\n",
    "    print(\"Регион №\" + str(region_index + 1) + ':')\n",
    "    predicted_valid = predictions_list[region_index]\n",
    "    target_valid = region_features_targets_valid[region_index][1]\n",
    "    r2 = r2_score(target_valid, predicted_valid)\n",
    "    print(\"R2 =\", r2_score(target_valid, predicted_valid))\n",
    "    if r2 > 0:\n",
    "        print(\"Метрика R2 больше нуля - модель работает лучше, чем константная. Качество модели хорошее.\")\n",
    "    elif r2 < 0:\n",
    "        print(\"Метрика R2 меньше нуля - модель работает хуже константной - качество очень плохое\")\n",
    "    else:\n",
    "        print('Работа модели не отличается от константной')\n",
    "    r2_lst.append(r2)\n"
   ]
  },
  {
   "cell_type": "markdown",
   "metadata": {},
   "source": [
    "### Вывод"
   ]
  },
  {
   "cell_type": "markdown",
   "metadata": {},
   "source": [
    "Были поделаны следующие этапы в данном разделе:\n",
    "\n",
    "   * Создала цикл в котором вытаскиваю из датасетов фичи и таргеты, разделяю их на тренировочные и валидационные и кладу в список фичей и список таргетов. Посмотрела, правильно ли получилось;\n",
    "   * Написала функцию для автоматизации обучения моделей;\n",
    "   * Обучила модели в цикле и сохранила в списки модели и соответсвующие им скалеры;\n",
    "   * Написала функцию для получения предсказаний моделей;\n",
    "   * Получила предсказания моделей через цикл и сохранила в список;\n",
    "   * Измерила метрики MSE и RMSE для каждой модели;\n",
    "   * Посчитала коэфициент детерминации R2 через цикл для модели каждого региона, автоматизировала выводы "
   ]
  },
  {
   "cell_type": "markdown",
   "metadata": {},
   "source": [
    "Были созданы следующие списки для дальнейшей работы по 1, 2 и 3 регионам:\n",
    "\n",
    "   1. `region_features_targets_train` - список пар тренировочных фичей и таргетов для трех регионов\n",
    "   2. `region_features_targets_valid` - список пар валидационных фичей и таргетов для трех регионов\n",
    "   3. `models` - список обученных моделей\n",
    "   4. `scalers` - список соответствующих моделям скалеров\n",
    "   5. `predictions_list` - список предсказаний\n",
    "   6. `mse_lst` - список MSE\n",
    "   7. `mean_pred_product_lst` - список предполагаемых средних значений добытого продукта на основе предсказанных объемов\n",
    "   8. `r2_lst` - список коэфициентов детерминации"
   ]
  },
  {
   "cell_type": "markdown",
   "metadata": {},
   "source": [
    "Выявлено, что модель второго региона работает почти идеально на валидационной выборке. Для первого и третьего - предсказывает не идеально, но лучше среднего."
   ]
  },
  {
   "cell_type": "markdown",
   "metadata": {},
   "source": [
    "## Подготовка к расчёту прибыли"
   ]
  },
  {
   "cell_type": "markdown",
   "metadata": {},
   "source": [
    "### Ключевые значения для расчетов"
   ]
  },
  {
   "cell_type": "markdown",
   "metadata": {},
   "source": [
    "Подготовлю ключевые значения для расчётов сохранить в отдельных переменных."
   ]
  },
  {
   "cell_type": "markdown",
   "metadata": {},
   "source": [
    "При разведке региона исследуют 500 точек, из которых с помощью машинного обучения выбирают 200 лучших для разработки.\n",
    "\n",
    "- Бюджет на разработку скважин в регионе — `10 млрд рублей`.\n",
    "- Один баррель сырья приносит `450 рублей` дохода. Доход с каждой единицы продукта составляет `450 тыс. рублей`, поскольку объём указан в тысячах баррелей.\n",
    "- После оценки рисков нужно оставить лишь те регионы, в которых вероятность убытков меньше 2.5%. Среди них выбирают регион с наибольшей средней прибылью."
   ]
  },
  {
   "cell_type": "markdown",
   "metadata": {},
   "source": [
    "Нужно посчитать, при каких объемах добычи нефти чистая прибыль больше нуля.\n",
    "\n",
    "**`Чистая прибыль =  Операционная прибыль - Налоги и кредиты`**"
   ]
  },
  {
   "cell_type": "markdown",
   "metadata": {},
   "source": [
    "Для этого понадобятся следующие расчеты:\n",
    "\n",
    "**`Операционная прибыль = Валовая прибыль продукта - операционные расходы продукта`**\n",
    "\n",
    "**`Валовая прибыль продукта = Оборот продукта - себестоимость продукта`**\n",
    "\n",
    "**`Оборот с единицы продукта = Доход с каждой единицы продукта региона х объем добытого продукта в регионе`**\n",
    "\n",
    "**`Cебестоимость единицы продукта = Бюджет на разработку скважин в регионе / Число разрабатываемых скважин в регионе`**\n"
   ]
  },
  {
   "cell_type": "markdown",
   "metadata": {},
   "source": [
    "Объявляю необходимые константы для дальнейших расчетов:"
   ]
  },
  {
   "cell_type": "code",
   "execution_count": 34,
   "metadata": {},
   "outputs": [],
   "source": [
    "REGION_BUDGET = 10 ** 10 # Бюджет региона"
   ]
  },
  {
   "cell_type": "markdown",
   "metadata": {},
   "source": [
    "Количество точек, которое предполагается к исследованию для разработки скважин:"
   ]
  },
  {
   "cell_type": "code",
   "execution_count": 35,
   "metadata": {},
   "outputs": [],
   "source": [
    "NUM_POINTS_TO_INVESTIGATE = 500 # Число исследуемых точек"
   ]
  },
  {
   "cell_type": "markdown",
   "metadata": {},
   "source": [
    "В одном регионе разрабатываю 200 самых прибыльных точек:"
   ]
  },
  {
   "cell_type": "code",
   "execution_count": 36,
   "metadata": {},
   "outputs": [],
   "source": [
    "NUM_POINTS_FOR_DEVELOPMENT = 200 # Число самых прибыльных точек из NUM_POINTS_TO_INVESTIGATE, которые будут разработаны"
   ]
  },
  {
   "cell_type": "markdown",
   "metadata": {},
   "source": [
    "Cтоимость разработки одной точки в регионе:"
   ]
  },
  {
   "cell_type": "code",
   "execution_count": 37,
   "metadata": {},
   "outputs": [],
   "source": [
    "СOST_POINT = REGION_BUDGET / NUM_POINTS_FOR_DEVELOPMENT # Cтоимость разработки одной точки"
   ]
  },
  {
   "cell_type": "code",
   "execution_count": 38,
   "metadata": {},
   "outputs": [],
   "source": [
    "BARREL_COST = 450 # Доход с одного барелля"
   ]
  },
  {
   "cell_type": "code",
   "execution_count": 39,
   "metadata": {},
   "outputs": [],
   "source": [
    "K_BARREL_COST = BARREL_COST * 1000 # Доход c одной единицы продукта"
   ]
  },
  {
   "cell_type": "markdown",
   "metadata": {},
   "source": [
    "Число итераций bootstrap:"
   ]
  },
  {
   "cell_type": "code",
   "execution_count": 40,
   "metadata": {},
   "outputs": [],
   "source": [
    "ITERATIONS = 1000"
   ]
  },
  {
   "cell_type": "markdown",
   "metadata": {},
   "source": [
    "### Минимальное среднее количество продукта"
   ]
  },
  {
   "cell_type": "markdown",
   "metadata": {},
   "source": [
    "Посчитаю минимальное среднее количество продукта в месторождениях региона, достаточное для разработки."
   ]
  },
  {
   "cell_type": "code",
   "execution_count": 41,
   "metadata": {},
   "outputs": [
    {
     "name": "stdout",
     "output_type": "stream",
     "text": [
      "MINIMUM_AMOUNT_TO_DEVELOP_PER_POINT\n"
     ]
    }
   ],
   "source": [
    "print('minimum_amount_to_develop_per_point'.upper())"
   ]
  },
  {
   "cell_type": "code",
   "execution_count": 42,
   "metadata": {},
   "outputs": [
    {
     "name": "stdout",
     "output_type": "stream",
     "text": [
      "Общее количество сырья, которое нужно добыть для освоения бюджета: 22222 тысячи баррелей\n"
     ]
    }
   ],
   "source": [
    "PRODUCT_AMOUNT_TO_DEVELOP = REGION_BUDGET / K_BARREL_COST\n",
    "print(\"Общее количество сырья, которое нужно добыть для освоения бюджета:\", int(PRODUCT_AMOUNT_TO_DEVELOP), \"тысячи баррелей\")"
   ]
  },
  {
   "cell_type": "code",
   "execution_count": 43,
   "metadata": {
    "scrolled": true
   },
   "outputs": [
    {
     "name": "stdout",
     "output_type": "stream",
     "text": [
      "Требуемый от одной точки объём сырья: 111 тысяч баррелей\n"
     ]
    }
   ],
   "source": [
    "MINIMUM_AMOUNT_TO_DEVELOP_PER_POINT = PRODUCT_AMOUNT_TO_DEVELOP / NUM_POINTS_FOR_DEVELOPMENT\n",
    "print('Требуемый от одной точки объём сырья:', int(MINIMUM_AMOUNT_TO_DEVELOP_PER_POINT), 'тысяч баррелей')"
   ]
  },
  {
   "cell_type": "code",
   "execution_count": 44,
   "metadata": {},
   "outputs": [
    {
     "name": "stdout",
     "output_type": "stream",
     "text": [
      "Средний предсказанный объем продукта в регионе 1 больше минимально необходимого. Можно вести разработку скважин.\n",
      "Средний предсказанный объем продукта в регионе 2 больше минимально необходимого. Можно вести разработку скважин.\n",
      "Средний предсказанный объем продукта в регионе 3 больше минимально необходимого. Можно вести разработку скважин.\n"
     ]
    }
   ],
   "source": [
    "predictions_sorted = []\n",
    "\n",
    "for region_index in range(len(predictions_list)):\n",
    "    result_indice = predictions_list[region_index].argsort()[::-1][:NUM_POINTS_FOR_DEVELOPMENT]\n",
    "    best_sum = 0\n",
    "    for index in result_indice:\n",
    "        best_sum += region_features_targets_valid[region_index][1].to_numpy()[index]\n",
    "    result = best_sum / NUM_POINTS_FOR_DEVELOPMENT\n",
    "    predictions_sorted.append(result)\n",
    "\n",
    "for region_index in range(len(predictions_sorted)):\n",
    "    if predictions_sorted[region_index] > MINIMUM_AMOUNT_TO_DEVELOP_PER_POINT:\n",
    "        print('Средний предсказанный объем продукта в регионе', region_index + 1, 'больше минимально необходимого. Можно вести разработку скважин.' )\n",
    "    else:\n",
    "        print('Средний предсказанный объем продукта в регионе', region_index + 1, 'меньше минимально необходимого. Разработка в регионе скорее всего будет убыточной.') "
   ]
  },
  {
   "cell_type": "markdown",
   "metadata": {},
   "source": [
    "### Выводы"
   ]
  },
  {
   "cell_type": "markdown",
   "metadata": {},
   "source": [
    "Были подготовлены константы для дальнейших расчетов. Также посчитаны средние предсказанные объемы продукта в каждом регионе, и сравнены с минимально необходимым для безубыточной разработки значением.\n",
    "Минимальный объём  добываемого сырья в каждой точке = 111 тысяч баррелей. Средняя предсказанная прибыль в предполагаемых лучших точках будет больше минимально необхого во всех трех регионах."
   ]
  },
  {
   "cell_type": "markdown",
   "metadata": {},
   "source": [
    "## Расчёт прибыли и рисков "
   ]
  },
  {
   "cell_type": "markdown",
   "metadata": {},
   "source": [
    "После оценки рисков нужно оставить лишь те регионы, в которых вероятность убытков меньше 2.5%.\n",
    "\n",
    "Среди них выбирают регион с наибольшей средней прибылью.\n",
    "\n",
    "\n",
    "Применить технику Bootstrap с 1000 выборок, чтобы найти распределение прибыли.\n",
    "Найти среднюю прибыль, 95%-й доверительный интервал и риск убытков. Убыток — это отрицательная прибыль.\n",
    "Написать выводы: предложить регион для разработки скважин и обоснуйте выбор."
   ]
  },
  {
   "cell_type": "markdown",
   "metadata": {},
   "source": [
    "Посчитать квантиль распределения для отрицательных прибылей\n",
    "Оставить только те регионы где этот квантиль меньше 2.5%"
   ]
  },
  {
   "cell_type": "code",
   "execution_count": 45,
   "metadata": {},
   "outputs": [],
   "source": [
    "def profit(target, probabilities, K_BARREL_COST, NUM_POINTS_FOR_DEVELOPMENT, СOST_POINT):\n",
    "    predictions_sorted_indice = probabilities.argsort()[::-1][:NUM_POINTS_FOR_DEVELOPMENT]\n",
    "    selected = target.to_numpy()[predictions_sorted_indice]\n",
    "    products = selected.sum()\n",
    "    revenue = K_BARREL_COST * products\n",
    "    return revenue - СOST_POINT * NUM_POINTS_FOR_DEVELOPMENT"
   ]
  },
  {
   "cell_type": "markdown",
   "metadata": {},
   "source": [
    "### Bootstrap"
   ]
  },
  {
   "cell_type": "markdown",
   "metadata": {},
   "source": [
    "Процедурой бутстреп создам 1000 подвыборок:"
   ]
  },
  {
   "cell_type": "code",
   "execution_count": 46,
   "metadata": {},
   "outputs": [],
   "source": [
    "state = RandomState(seed=12345)"
   ]
  },
  {
   "cell_type": "code",
   "execution_count": 47,
   "metadata": {
    "scrolled": true
   },
   "outputs": [
    {
     "name": "stdout",
     "output_type": "stream",
     "text": [
      "Регион № 1\n",
      "Средняя прибыль = 396 миллионов рублей\n",
      "95%-ый доверительный интервал: (-111, 909) миллионов рублей\n",
      "Риск убытков = 6.9 %\n",
      "\n",
      "Регион № 2\n",
      "Средняя прибыль = 461 миллионов рублей\n",
      "95%-ый доверительный интервал: (78, 862) миллионов рублей\n",
      "Риск убытков = 0.7000000000000001 %\n",
      "\n",
      "Регион № 3\n",
      "Средняя прибыль = 392 миллионов рублей\n",
      "95%-ый доверительный интервал: (-112, 934) миллионов рублей\n",
      "Риск убытков = 6.5 %\n",
      "\n"
     ]
    }
   ],
   "source": [
    "targets_valid = []\n",
    "for region_index in range(len(region_features_targets_valid)):\n",
    "    result = region_features_targets_valid[region_index][1]\n",
    "    targets_valid.append(result)\n",
    "\n",
    "mean_revenues = []\n",
    "risks = []\n",
    "\n",
    "for region_index in range(len(targets_valid)):\n",
    "    profit_values = []\n",
    "    target_valid = targets_valid[region_index].reset_index(drop=True)\n",
    "    predicted_valid = predictions_list[region_index]\n",
    "    print(\"Регион №\", region_index+1)\n",
    "    for i in range(ITERATIONS):\n",
    "        target_sample = target_valid.sample(NUM_POINTS_TO_INVESTIGATE, replace=True, random_state=state)\n",
    "        predictions_sample = predicted_valid[target_sample.index]\n",
    "        profit_values.append(profit(target_sample, predictions_sample, K_BARREL_COST, NUM_POINTS_FOR_DEVELOPMENT, СOST_POINT))\n",
    "\n",
    "    profit_values = pd.Series(profit_values)\n",
    "    mean_profit = profit_values.mean()\n",
    "    mean_revenues.append(mean_profit)\n",
    "    \n",
    "    confidence_interval = (int((profit_values.quantile(0.025) / 10**6)), int((profit_values.quantile(0.975) / 10**6)))\n",
    "    negative_profit_chance = (profit_values < 0).mean()\n",
    "\n",
    "    print(\"Средняя прибыль =\", int(mean_profit / 10**6), 'миллионов рублей')\n",
    "    print(\"95%-ый доверительный интервал:\", confidence_interval, 'миллионов рублей')\n",
    "    print(\"Риск убытков =\", negative_profit_chance * 100, \"%\")\n",
    "    risks.append(negative_profit_chance * 100)    \n",
    "    print()\n"
   ]
  },
  {
   "cell_type": "markdown",
   "metadata": {},
   "source": [
    "### Максимальная средняя прибыль"
   ]
  },
  {
   "cell_type": "code",
   "execution_count": 48,
   "metadata": {},
   "outputs": [
    {
     "name": "stdout",
     "output_type": "stream",
     "text": [
      "[396164984.8023711, 461155817.2772397, 392950475.17060447]\n"
     ]
    }
   ],
   "source": [
    "print(mean_revenues)"
   ]
  },
  {
   "cell_type": "markdown",
   "metadata": {},
   "source": [
    "Посмотрю максимальную среднюю прибыль для регионов с риском убытков менее 2,5%:"
   ]
  },
  {
   "cell_type": "code",
   "execution_count": 49,
   "metadata": {
    "scrolled": true
   },
   "outputs": [
    {
     "name": "stdout",
     "output_type": "stream",
     "text": [
      "Максимальная средняя прибыль равна 461 млн. рублей в регионе № 2\n"
     ]
    }
   ],
   "source": [
    "best_revenues = []\n",
    "for region_index in range(len(mean_revenues)):\n",
    "    if risks[region_index] < 2.5:\n",
    "        best_revenues.append([mean_revenues[region_index], region_index])\n",
    "\n",
    "best_revenues = np.array(best_revenues)\n",
    "\n",
    "max_rev_index = best_revenues[:, 0].argmax()\n",
    "\n",
    "\n",
    "print('Максимальная средняя прибыль равна', int((best_revenues[max_rev_index, 0] / 10** 6)), \n",
    "      'млн. рублей в регионе №', int(best_revenues[max_rev_index, 1] + 1))"
   ]
  },
  {
   "cell_type": "markdown",
   "metadata": {},
   "source": [
    "### Вывод"
   ]
  },
  {
   "cell_type": "markdown",
   "metadata": {},
   "source": [
    "Применена техника Bootstrap с 1000 выборок, с помощью которой найдены распределения прибыли в регионах.\n",
    "Определена возможная средняя прибыль 500 точек каждого региона, найдены 95%-й доверительный интервалы и соответствующие риски убытков. Определена максимальная средняя прибыль, которая равна 461 млн. рублей и соответсвует региону № 2. "
   ]
  },
  {
   "cell_type": "markdown",
   "metadata": {},
   "source": [
    "## Summary"
   ]
  },
  {
   "cell_type": "markdown",
   "metadata": {},
   "source": [
    "В ходе проведенного исследования с помощью машинного обучения был определен регион с максимальной суммарной прибылью отобранных скважин - этим регионом является второй регион, соответствующий датасету `region_2`. \n",
    "\n",
    "Данные регионов были исследованы и предобработаны, в ходе чего была выявлена разная природа распределений датасетов - нормальные распределения данных 1 и 3 регионов и дискретное распределение данных 2-го региона. В данных второго региона  присутствует большое количество нулевых значений, природа которых неизвестна и может искажать исследование.\n",
    "\n",
    "Для каждого региона в автоматизированном режиме были обучены модели, которые предсказали объёмы запасов в новых скважинах. Из предсказанных значений были случайным образом отобраны 500 точек для разработки скважин, среди них были отобраны 200 точек с наилучшими показателями. Посчитаны возможные прибыли и риски техникой Bootstrap, отобраны регионы с рисками менее 2,5% и найдена максимальная возможная средняя прибыль - `461 млн. рублей`. \n",
    "\n",
    "Таким образом, компании «ГлавРосГосНефть» рекомендовано исследовать для разработки скважин `второй регион` для добычи нефти, т.к. он, согласно исследованию, определен наиболее прибыльным при минимальных рисках убытков. "
   ]
  }
 ],
 "metadata": {
  "ExecuteTimeLog": [
   {
    "duration": 56,
    "start_time": "2022-11-10T18:02:33.475Z"
   },
   {
    "duration": 389,
    "start_time": "2022-11-10T18:02:38.883Z"
   },
   {
    "duration": 71,
    "start_time": "2022-11-10T18:02:39.310Z"
   },
   {
    "duration": 848,
    "start_time": "2022-11-10T18:02:39.780Z"
   },
   {
    "duration": 343,
    "start_time": "2022-11-10T18:02:44.926Z"
   },
   {
    "duration": 16,
    "start_time": "2022-11-10T18:05:03.472Z"
   },
   {
    "duration": 14,
    "start_time": "2022-11-10T18:06:43.925Z"
   },
   {
    "duration": 10,
    "start_time": "2022-11-10T18:17:22.343Z"
   },
   {
    "duration": 14,
    "start_time": "2022-11-10T18:18:02.108Z"
   },
   {
    "duration": 70,
    "start_time": "2022-11-10T18:18:43.766Z"
   },
   {
    "duration": 12,
    "start_time": "2022-11-10T18:19:27.426Z"
   },
   {
    "duration": 11,
    "start_time": "2022-11-10T18:20:29.616Z"
   },
   {
    "duration": 69,
    "start_time": "2022-11-10T18:22:49.943Z"
   },
   {
    "duration": 14,
    "start_time": "2022-11-10T18:23:12.300Z"
   },
   {
    "duration": 2,
    "start_time": "2022-11-10T18:25:01.185Z"
   },
   {
    "duration": 68,
    "start_time": "2022-11-10T18:26:25.927Z"
   },
   {
    "duration": 70,
    "start_time": "2022-11-10T18:34:01.164Z"
   },
   {
    "duration": 70,
    "start_time": "2022-11-10T18:34:11.233Z"
   },
   {
    "duration": 79,
    "start_time": "2022-11-10T18:34:34.058Z"
   },
   {
    "duration": 11,
    "start_time": "2022-11-10T18:40:50.125Z"
   },
   {
    "duration": 43,
    "start_time": "2022-11-10T19:04:10.831Z"
   },
   {
    "duration": 50,
    "start_time": "2022-11-10T19:04:57.040Z"
   },
   {
    "duration": 61,
    "start_time": "2022-11-10T19:05:12.214Z"
   },
   {
    "duration": 57,
    "start_time": "2022-11-10T19:05:28.613Z"
   },
   {
    "duration": 61,
    "start_time": "2022-11-10T19:05:40.547Z"
   },
   {
    "duration": 26,
    "start_time": "2022-11-10T19:07:18.933Z"
   },
   {
    "duration": 18,
    "start_time": "2022-11-10T19:08:41.507Z"
   },
   {
    "duration": 17,
    "start_time": "2022-11-10T19:08:53.024Z"
   },
   {
    "duration": 15,
    "start_time": "2022-11-10T19:09:06.194Z"
   },
   {
    "duration": 26,
    "start_time": "2022-11-10T19:10:19.259Z"
   },
   {
    "duration": 20,
    "start_time": "2022-11-10T19:11:31.036Z"
   },
   {
    "duration": 16,
    "start_time": "2022-11-10T19:14:26.315Z"
   },
   {
    "duration": 312,
    "start_time": "2022-11-10T19:14:46.053Z"
   },
   {
    "duration": 21,
    "start_time": "2022-11-10T19:15:01.510Z"
   },
   {
    "duration": 20,
    "start_time": "2022-11-10T19:16:02.950Z"
   },
   {
    "duration": 8,
    "start_time": "2022-11-10T19:18:11.564Z"
   },
   {
    "duration": 7,
    "start_time": "2022-11-10T19:28:56.915Z"
   },
   {
    "duration": 27,
    "start_time": "2022-11-10T19:30:18.138Z"
   },
   {
    "duration": 27,
    "start_time": "2022-11-10T19:30:36.092Z"
   },
   {
    "duration": 28,
    "start_time": "2022-11-10T19:30:53.783Z"
   },
   {
    "duration": 68,
    "start_time": "2022-11-10T19:33:26.139Z"
   },
   {
    "duration": 29,
    "start_time": "2022-11-10T19:33:37.160Z"
   },
   {
    "duration": 29,
    "start_time": "2022-11-10T19:34:20.504Z"
   },
   {
    "duration": 49,
    "start_time": "2022-11-10T19:34:34.047Z"
   },
   {
    "duration": 79,
    "start_time": "2022-11-10T19:37:46.146Z"
   },
   {
    "duration": 46,
    "start_time": "2022-11-11T09:34:13.383Z"
   },
   {
    "duration": 366,
    "start_time": "2022-11-11T09:34:32.988Z"
   },
   {
    "duration": 1478,
    "start_time": "2022-11-11T09:34:33.356Z"
   },
   {
    "duration": 18,
    "start_time": "2022-11-11T09:34:34.836Z"
   },
   {
    "duration": 16,
    "start_time": "2022-11-11T09:34:34.856Z"
   },
   {
    "duration": 9,
    "start_time": "2022-11-11T09:34:34.875Z"
   },
   {
    "duration": 16,
    "start_time": "2022-11-11T09:34:34.886Z"
   },
   {
    "duration": 35,
    "start_time": "2022-11-11T09:34:34.904Z"
   },
   {
    "duration": 16,
    "start_time": "2022-11-11T09:34:34.941Z"
   },
   {
    "duration": 46,
    "start_time": "2022-11-11T09:34:34.959Z"
   },
   {
    "duration": 61,
    "start_time": "2022-11-11T09:34:35.007Z"
   },
   {
    "duration": 47,
    "start_time": "2022-11-11T09:34:35.069Z"
   },
   {
    "duration": 31,
    "start_time": "2022-11-11T09:34:35.118Z"
   },
   {
    "duration": 24,
    "start_time": "2022-11-11T09:34:35.150Z"
   },
   {
    "duration": 24,
    "start_time": "2022-11-11T09:34:35.177Z"
   },
   {
    "duration": 41,
    "start_time": "2022-11-11T09:34:35.203Z"
   },
   {
    "duration": 30,
    "start_time": "2022-11-11T09:34:35.246Z"
   },
   {
    "duration": 32,
    "start_time": "2022-11-11T09:34:35.278Z"
   },
   {
    "duration": 660,
    "start_time": "2022-11-11T09:34:35.334Z"
   },
   {
    "duration": 1549,
    "start_time": "2022-11-11T09:36:00.401Z"
   },
   {
    "duration": 1404,
    "start_time": "2022-11-11T09:37:01.251Z"
   },
   {
    "duration": 316,
    "start_time": "2022-11-11T09:37:18.596Z"
   },
   {
    "duration": 271,
    "start_time": "2022-11-11T09:37:28.562Z"
   },
   {
    "duration": 255,
    "start_time": "2022-11-11T09:55:53.113Z"
   },
   {
    "duration": 202,
    "start_time": "2022-11-11T09:56:07.837Z"
   },
   {
    "duration": 155,
    "start_time": "2022-11-11T09:56:15.367Z"
   },
   {
    "duration": 162,
    "start_time": "2022-11-11T09:56:22.762Z"
   },
   {
    "duration": 150,
    "start_time": "2022-11-11T09:56:29.831Z"
   },
   {
    "duration": 150,
    "start_time": "2022-11-11T09:56:37.569Z"
   },
   {
    "duration": 153,
    "start_time": "2022-11-11T09:56:47.832Z"
   },
   {
    "duration": 259,
    "start_time": "2022-11-11T09:56:59.435Z"
   },
   {
    "duration": 297,
    "start_time": "2022-11-11T09:57:10.709Z"
   },
   {
    "duration": 154,
    "start_time": "2022-11-11T09:57:20.944Z"
   },
   {
    "duration": 276,
    "start_time": "2022-11-11T09:57:38.429Z"
   },
   {
    "duration": 144,
    "start_time": "2022-11-11T09:57:51.449Z"
   },
   {
    "duration": 252,
    "start_time": "2022-11-11T09:57:59.246Z"
   },
   {
    "duration": 261,
    "start_time": "2022-11-11T09:59:01.204Z"
   },
   {
    "duration": 912,
    "start_time": "2022-11-11T09:59:12.551Z"
   },
   {
    "duration": 199,
    "start_time": "2022-11-11T09:59:17.599Z"
   },
   {
    "duration": 617,
    "start_time": "2022-11-11T13:09:28.158Z"
   },
   {
    "duration": 108,
    "start_time": "2022-11-11T13:13:15.532Z"
   },
   {
    "duration": 23,
    "start_time": "2022-11-11T13:13:31.127Z"
   },
   {
    "duration": 1012,
    "start_time": "2022-11-11T13:34:51.981Z"
   },
   {
    "duration": 375,
    "start_time": "2022-11-11T13:34:52.995Z"
   },
   {
    "duration": 17,
    "start_time": "2022-11-11T13:34:53.372Z"
   },
   {
    "duration": 31,
    "start_time": "2022-11-11T13:34:53.391Z"
   },
   {
    "duration": 18,
    "start_time": "2022-11-11T13:34:53.424Z"
   },
   {
    "duration": 27,
    "start_time": "2022-11-11T13:34:53.444Z"
   },
   {
    "duration": 9,
    "start_time": "2022-11-11T13:34:53.473Z"
   },
   {
    "duration": 27,
    "start_time": "2022-11-11T13:34:53.484Z"
   },
   {
    "duration": 52,
    "start_time": "2022-11-11T13:34:53.512Z"
   },
   {
    "duration": 40,
    "start_time": "2022-11-11T13:34:53.566Z"
   },
   {
    "duration": 49,
    "start_time": "2022-11-11T13:34:53.609Z"
   },
   {
    "duration": 16,
    "start_time": "2022-11-11T13:34:53.660Z"
   },
   {
    "duration": 33,
    "start_time": "2022-11-11T13:34:53.678Z"
   },
   {
    "duration": 24,
    "start_time": "2022-11-11T13:34:53.713Z"
   },
   {
    "duration": 40,
    "start_time": "2022-11-11T13:34:53.739Z"
   },
   {
    "duration": 27,
    "start_time": "2022-11-11T13:34:53.781Z"
   },
   {
    "duration": 45,
    "start_time": "2022-11-11T13:34:53.810Z"
   },
   {
    "duration": 53,
    "start_time": "2022-11-11T13:34:53.856Z"
   },
   {
    "duration": 0,
    "start_time": "2022-11-11T13:34:53.910Z"
   },
   {
    "duration": 0,
    "start_time": "2022-11-11T13:34:53.912Z"
   },
   {
    "duration": 0,
    "start_time": "2022-11-11T13:34:53.913Z"
   },
   {
    "duration": 0,
    "start_time": "2022-11-11T13:34:53.914Z"
   },
   {
    "duration": 1107,
    "start_time": "2022-11-11T13:41:10.908Z"
   },
   {
    "duration": 385,
    "start_time": "2022-11-11T13:41:12.017Z"
   },
   {
    "duration": 17,
    "start_time": "2022-11-11T13:41:12.405Z"
   },
   {
    "duration": 21,
    "start_time": "2022-11-11T13:41:12.425Z"
   },
   {
    "duration": 10,
    "start_time": "2022-11-11T13:41:12.448Z"
   },
   {
    "duration": 20,
    "start_time": "2022-11-11T13:41:12.460Z"
   },
   {
    "duration": 10,
    "start_time": "2022-11-11T13:41:12.481Z"
   },
   {
    "duration": 17,
    "start_time": "2022-11-11T13:41:12.493Z"
   },
   {
    "duration": 46,
    "start_time": "2022-11-11T13:41:12.533Z"
   },
   {
    "duration": 60,
    "start_time": "2022-11-11T13:41:12.581Z"
   },
   {
    "duration": 52,
    "start_time": "2022-11-11T13:41:12.642Z"
   },
   {
    "duration": 39,
    "start_time": "2022-11-11T13:41:12.696Z"
   },
   {
    "duration": 27,
    "start_time": "2022-11-11T13:41:12.736Z"
   },
   {
    "duration": 21,
    "start_time": "2022-11-11T13:41:12.765Z"
   },
   {
    "duration": 32,
    "start_time": "2022-11-11T13:41:12.787Z"
   },
   {
    "duration": 37,
    "start_time": "2022-11-11T13:41:12.821Z"
   },
   {
    "duration": 43,
    "start_time": "2022-11-11T13:41:12.860Z"
   },
   {
    "duration": 50,
    "start_time": "2022-11-11T13:41:12.905Z"
   },
   {
    "duration": 0,
    "start_time": "2022-11-11T13:41:12.956Z"
   },
   {
    "duration": 0,
    "start_time": "2022-11-11T13:41:12.958Z"
   },
   {
    "duration": 0,
    "start_time": "2022-11-11T13:41:12.958Z"
   },
   {
    "duration": 0,
    "start_time": "2022-11-11T13:41:12.959Z"
   },
   {
    "duration": 567,
    "start_time": "2022-11-11T13:43:10.223Z"
   },
   {
    "duration": 187,
    "start_time": "2022-11-11T13:43:11.704Z"
   },
   {
    "duration": 264,
    "start_time": "2022-11-11T13:43:13.092Z"
   },
   {
    "duration": 115,
    "start_time": "2022-11-11T13:43:20.345Z"
   },
   {
    "duration": 6,
    "start_time": "2022-11-11T14:57:13.119Z"
   },
   {
    "duration": 11,
    "start_time": "2022-11-11T14:58:28.238Z"
   },
   {
    "duration": 10,
    "start_time": "2022-11-11T15:01:10.504Z"
   },
   {
    "duration": 7,
    "start_time": "2022-11-11T15:02:02.739Z"
   },
   {
    "duration": 60,
    "start_time": "2022-11-11T15:49:43.472Z"
   },
   {
    "duration": 12,
    "start_time": "2022-11-11T15:55:56.246Z"
   },
   {
    "duration": 143,
    "start_time": "2022-11-11T15:56:47.547Z"
   },
   {
    "duration": 19,
    "start_time": "2022-11-11T15:56:54.903Z"
   },
   {
    "duration": 1437,
    "start_time": "2022-11-11T16:00:40.852Z"
   },
   {
    "duration": 405,
    "start_time": "2022-11-11T16:00:42.291Z"
   },
   {
    "duration": 16,
    "start_time": "2022-11-11T16:00:42.697Z"
   },
   {
    "duration": 32,
    "start_time": "2022-11-11T16:00:42.716Z"
   },
   {
    "duration": 12,
    "start_time": "2022-11-11T16:00:42.750Z"
   },
   {
    "duration": 47,
    "start_time": "2022-11-11T16:00:42.764Z"
   },
   {
    "duration": 11,
    "start_time": "2022-11-11T16:00:42.813Z"
   },
   {
    "duration": 32,
    "start_time": "2022-11-11T16:00:42.826Z"
   },
   {
    "duration": 48,
    "start_time": "2022-11-11T16:00:42.859Z"
   },
   {
    "duration": 48,
    "start_time": "2022-11-11T16:00:42.910Z"
   },
   {
    "duration": 45,
    "start_time": "2022-11-11T16:00:42.960Z"
   },
   {
    "duration": 35,
    "start_time": "2022-11-11T16:00:43.007Z"
   },
   {
    "duration": 43,
    "start_time": "2022-11-11T16:00:43.043Z"
   },
   {
    "duration": 32,
    "start_time": "2022-11-11T16:00:43.088Z"
   },
   {
    "duration": 42,
    "start_time": "2022-11-11T16:00:43.122Z"
   },
   {
    "duration": 44,
    "start_time": "2022-11-11T16:00:43.165Z"
   },
   {
    "duration": 38,
    "start_time": "2022-11-11T16:00:43.211Z"
   },
   {
    "duration": 314,
    "start_time": "2022-11-11T16:00:43.252Z"
   },
   {
    "duration": 213,
    "start_time": "2022-11-11T16:00:43.568Z"
   },
   {
    "duration": 280,
    "start_time": "2022-11-11T16:00:43.783Z"
   },
   {
    "duration": 1513,
    "start_time": "2022-11-11T16:02:50.126Z"
   },
   {
    "duration": 398,
    "start_time": "2022-11-11T16:02:51.641Z"
   },
   {
    "duration": 15,
    "start_time": "2022-11-11T16:02:52.042Z"
   },
   {
    "duration": 19,
    "start_time": "2022-11-11T16:02:52.059Z"
   },
   {
    "duration": 11,
    "start_time": "2022-11-11T16:02:52.080Z"
   },
   {
    "duration": 20,
    "start_time": "2022-11-11T16:02:52.093Z"
   },
   {
    "duration": 33,
    "start_time": "2022-11-11T16:02:52.114Z"
   },
   {
    "duration": 21,
    "start_time": "2022-11-11T16:02:52.149Z"
   },
   {
    "duration": 46,
    "start_time": "2022-11-11T16:02:52.172Z"
   },
   {
    "duration": 61,
    "start_time": "2022-11-11T16:02:52.220Z"
   },
   {
    "duration": 54,
    "start_time": "2022-11-11T16:02:52.283Z"
   },
   {
    "duration": 25,
    "start_time": "2022-11-11T16:02:52.339Z"
   },
   {
    "duration": 24,
    "start_time": "2022-11-11T16:02:52.365Z"
   },
   {
    "duration": 19,
    "start_time": "2022-11-11T16:02:52.390Z"
   },
   {
    "duration": 56,
    "start_time": "2022-11-11T16:02:52.411Z"
   },
   {
    "duration": 27,
    "start_time": "2022-11-11T16:02:52.468Z"
   },
   {
    "duration": 51,
    "start_time": "2022-11-11T16:02:52.496Z"
   },
   {
    "duration": 288,
    "start_time": "2022-11-11T16:02:52.548Z"
   },
   {
    "duration": 209,
    "start_time": "2022-11-11T16:02:52.841Z"
   },
   {
    "duration": 266,
    "start_time": "2022-11-11T16:02:53.051Z"
   },
   {
    "duration": 24,
    "start_time": "2022-11-11T16:02:53.318Z"
   },
   {
    "duration": 4,
    "start_time": "2022-11-11T16:02:53.348Z"
   },
   {
    "duration": 33,
    "start_time": "2022-11-11T16:12:08.727Z"
   },
   {
    "duration": 12,
    "start_time": "2022-11-11T16:12:54.137Z"
   },
   {
    "duration": 29,
    "start_time": "2022-11-11T16:12:55.022Z"
   },
   {
    "duration": 112,
    "start_time": "2022-11-11T16:13:39.605Z"
   },
   {
    "duration": 2,
    "start_time": "2022-11-11T16:14:18.730Z"
   },
   {
    "duration": 10,
    "start_time": "2022-11-11T16:14:23.299Z"
   },
   {
    "duration": 9,
    "start_time": "2022-11-11T16:15:43.433Z"
   },
   {
    "duration": 36,
    "start_time": "2022-11-11T16:15:53.718Z"
   },
   {
    "duration": 1354,
    "start_time": "2022-11-11T16:17:58.319Z"
   },
   {
    "duration": 371,
    "start_time": "2022-11-11T16:17:59.675Z"
   },
   {
    "duration": 13,
    "start_time": "2022-11-11T16:18:00.048Z"
   },
   {
    "duration": 35,
    "start_time": "2022-11-11T16:18:00.063Z"
   },
   {
    "duration": 22,
    "start_time": "2022-11-11T16:18:00.099Z"
   },
   {
    "duration": 41,
    "start_time": "2022-11-11T16:18:00.123Z"
   },
   {
    "duration": 39,
    "start_time": "2022-11-11T16:18:00.165Z"
   },
   {
    "duration": 44,
    "start_time": "2022-11-11T16:18:00.206Z"
   },
   {
    "duration": 72,
    "start_time": "2022-11-11T16:18:00.252Z"
   },
   {
    "duration": 39,
    "start_time": "2022-11-11T16:18:00.327Z"
   },
   {
    "duration": 45,
    "start_time": "2022-11-11T16:18:00.368Z"
   },
   {
    "duration": 51,
    "start_time": "2022-11-11T16:18:00.415Z"
   },
   {
    "duration": 54,
    "start_time": "2022-11-11T16:18:00.467Z"
   },
   {
    "duration": 55,
    "start_time": "2022-11-11T16:18:00.523Z"
   },
   {
    "duration": 64,
    "start_time": "2022-11-11T16:18:00.580Z"
   },
   {
    "duration": 37,
    "start_time": "2022-11-11T16:18:00.646Z"
   },
   {
    "duration": 37,
    "start_time": "2022-11-11T16:18:00.686Z"
   },
   {
    "duration": 319,
    "start_time": "2022-11-11T16:18:00.725Z"
   },
   {
    "duration": 213,
    "start_time": "2022-11-11T16:18:01.046Z"
   },
   {
    "duration": 265,
    "start_time": "2022-11-11T16:18:01.261Z"
   },
   {
    "duration": 11,
    "start_time": "2022-11-11T16:18:01.533Z"
   },
   {
    "duration": 45,
    "start_time": "2022-11-11T16:18:01.546Z"
   },
   {
    "duration": 10,
    "start_time": "2022-11-11T16:18:01.593Z"
   },
   {
    "duration": 69,
    "start_time": "2022-11-11T16:18:01.604Z"
   },
   {
    "duration": 253,
    "start_time": "2022-11-11T16:18:01.674Z"
   },
   {
    "duration": 3,
    "start_time": "2022-11-11T16:27:39.280Z"
   },
   {
    "duration": 14,
    "start_time": "2022-11-11T16:27:39.997Z"
   },
   {
    "duration": 14,
    "start_time": "2022-11-11T16:28:25.492Z"
   },
   {
    "duration": 16,
    "start_time": "2022-11-11T16:28:56.412Z"
   },
   {
    "duration": 8,
    "start_time": "2022-11-11T16:30:52.279Z"
   },
   {
    "duration": 4,
    "start_time": "2022-11-11T16:31:29.373Z"
   },
   {
    "duration": 13,
    "start_time": "2022-11-11T16:34:03.652Z"
   },
   {
    "duration": 1393,
    "start_time": "2022-11-11T16:34:38.215Z"
   },
   {
    "duration": 419,
    "start_time": "2022-11-11T16:34:39.610Z"
   },
   {
    "duration": 19,
    "start_time": "2022-11-11T16:34:40.031Z"
   },
   {
    "duration": 16,
    "start_time": "2022-11-11T16:34:40.053Z"
   },
   {
    "duration": 10,
    "start_time": "2022-11-11T16:34:40.070Z"
   },
   {
    "duration": 23,
    "start_time": "2022-11-11T16:34:40.081Z"
   },
   {
    "duration": 36,
    "start_time": "2022-11-11T16:34:40.105Z"
   },
   {
    "duration": 20,
    "start_time": "2022-11-11T16:34:40.144Z"
   },
   {
    "duration": 43,
    "start_time": "2022-11-11T16:34:40.166Z"
   },
   {
    "duration": 60,
    "start_time": "2022-11-11T16:34:40.212Z"
   },
   {
    "duration": 44,
    "start_time": "2022-11-11T16:34:40.274Z"
   },
   {
    "duration": 42,
    "start_time": "2022-11-11T16:34:40.319Z"
   },
   {
    "duration": 21,
    "start_time": "2022-11-11T16:34:40.362Z"
   },
   {
    "duration": 18,
    "start_time": "2022-11-11T16:34:40.385Z"
   },
   {
    "duration": 48,
    "start_time": "2022-11-11T16:34:40.405Z"
   },
   {
    "duration": 29,
    "start_time": "2022-11-11T16:34:40.455Z"
   },
   {
    "duration": 30,
    "start_time": "2022-11-11T16:34:40.485Z"
   },
   {
    "duration": 303,
    "start_time": "2022-11-11T16:34:40.533Z"
   },
   {
    "duration": 242,
    "start_time": "2022-11-11T16:34:40.839Z"
   },
   {
    "duration": 296,
    "start_time": "2022-11-11T16:34:41.082Z"
   },
   {
    "duration": 11,
    "start_time": "2022-11-11T16:34:41.380Z"
   },
   {
    "duration": 64,
    "start_time": "2022-11-11T16:34:41.393Z"
   },
   {
    "duration": 9,
    "start_time": "2022-11-11T16:34:41.460Z"
   },
   {
    "duration": 21,
    "start_time": "2022-11-11T16:34:41.470Z"
   },
   {
    "duration": 113,
    "start_time": "2022-11-11T16:34:41.493Z"
   },
   {
    "duration": 11,
    "start_time": "2022-11-11T16:39:36.378Z"
   },
   {
    "duration": 29,
    "start_time": "2022-11-11T16:40:01.966Z"
   },
   {
    "duration": 6,
    "start_time": "2022-11-11T16:40:34.678Z"
   },
   {
    "duration": 9,
    "start_time": "2022-11-11T16:41:55.921Z"
   },
   {
    "duration": 4,
    "start_time": "2022-11-11T16:42:01.202Z"
   },
   {
    "duration": 3,
    "start_time": "2022-11-11T16:42:02.272Z"
   },
   {
    "duration": 16,
    "start_time": "2022-11-11T16:42:39.929Z"
   },
   {
    "duration": 10,
    "start_time": "2022-11-11T16:43:55.230Z"
   },
   {
    "duration": 96,
    "start_time": "2022-11-11T16:44:02.042Z"
   },
   {
    "duration": 12,
    "start_time": "2022-11-11T16:44:10.501Z"
   },
   {
    "duration": 10,
    "start_time": "2022-11-11T16:44:22.020Z"
   },
   {
    "duration": 19,
    "start_time": "2022-11-11T16:44:32.259Z"
   },
   {
    "duration": 4,
    "start_time": "2022-11-11T17:03:30.630Z"
   },
   {
    "duration": 6,
    "start_time": "2022-11-11T17:03:57.625Z"
   },
   {
    "duration": 5,
    "start_time": "2022-11-11T17:05:17.752Z"
   },
   {
    "duration": 4,
    "start_time": "2022-11-11T17:05:18.300Z"
   },
   {
    "duration": 9,
    "start_time": "2022-11-11T17:05:38.333Z"
   },
   {
    "duration": 13,
    "start_time": "2022-11-11T17:05:48.223Z"
   },
   {
    "duration": 1348,
    "start_time": "2022-11-11T17:06:48.592Z"
   },
   {
    "duration": 380,
    "start_time": "2022-11-11T17:06:49.943Z"
   },
   {
    "duration": 14,
    "start_time": "2022-11-11T17:06:50.325Z"
   },
   {
    "duration": 16,
    "start_time": "2022-11-11T17:06:50.341Z"
   },
   {
    "duration": 9,
    "start_time": "2022-11-11T17:06:50.359Z"
   },
   {
    "duration": 18,
    "start_time": "2022-11-11T17:06:50.369Z"
   },
   {
    "duration": 10,
    "start_time": "2022-11-11T17:06:50.389Z"
   },
   {
    "duration": 40,
    "start_time": "2022-11-11T17:06:50.400Z"
   },
   {
    "duration": 44,
    "start_time": "2022-11-11T17:06:50.442Z"
   },
   {
    "duration": 60,
    "start_time": "2022-11-11T17:06:50.489Z"
   },
   {
    "duration": 50,
    "start_time": "2022-11-11T17:06:50.551Z"
   },
   {
    "duration": 32,
    "start_time": "2022-11-11T17:06:50.603Z"
   },
   {
    "duration": 32,
    "start_time": "2022-11-11T17:06:50.637Z"
   },
   {
    "duration": 22,
    "start_time": "2022-11-11T17:06:50.671Z"
   },
   {
    "duration": 46,
    "start_time": "2022-11-11T17:06:50.695Z"
   },
   {
    "duration": 28,
    "start_time": "2022-11-11T17:06:50.743Z"
   },
   {
    "duration": 34,
    "start_time": "2022-11-11T17:06:50.774Z"
   },
   {
    "duration": 301,
    "start_time": "2022-11-11T17:06:50.809Z"
   },
   {
    "duration": 209,
    "start_time": "2022-11-11T17:06:51.113Z"
   },
   {
    "duration": 335,
    "start_time": "2022-11-11T17:06:51.324Z"
   },
   {
    "duration": 11,
    "start_time": "2022-11-11T17:06:51.661Z"
   },
   {
    "duration": 36,
    "start_time": "2022-11-11T17:06:51.674Z"
   },
   {
    "duration": 8,
    "start_time": "2022-11-11T17:06:51.711Z"
   },
   {
    "duration": 9,
    "start_time": "2022-11-11T17:06:51.732Z"
   },
   {
    "duration": 21,
    "start_time": "2022-11-11T17:06:51.742Z"
   },
   {
    "duration": 4,
    "start_time": "2022-11-11T17:06:51.765Z"
   },
   {
    "duration": 11,
    "start_time": "2022-11-11T17:06:51.771Z"
   },
   {
    "duration": 3,
    "start_time": "2022-11-11T17:06:51.785Z"
   },
   {
    "duration": 110,
    "start_time": "2022-11-11T17:06:51.790Z"
   },
   {
    "duration": 0,
    "start_time": "2022-11-11T17:06:51.902Z"
   },
   {
    "duration": 16,
    "start_time": "2022-11-11T17:15:55.008Z"
   },
   {
    "duration": 1331,
    "start_time": "2022-11-11T17:16:02.884Z"
   },
   {
    "duration": 408,
    "start_time": "2022-11-11T17:16:04.217Z"
   },
   {
    "duration": 18,
    "start_time": "2022-11-11T17:16:04.627Z"
   },
   {
    "duration": 35,
    "start_time": "2022-11-11T17:16:04.647Z"
   },
   {
    "duration": 10,
    "start_time": "2022-11-11T17:16:04.683Z"
   },
   {
    "duration": 23,
    "start_time": "2022-11-11T17:16:04.695Z"
   },
   {
    "duration": 23,
    "start_time": "2022-11-11T17:16:04.720Z"
   },
   {
    "duration": 25,
    "start_time": "2022-11-11T17:16:04.745Z"
   },
   {
    "duration": 44,
    "start_time": "2022-11-11T17:16:04.772Z"
   },
   {
    "duration": 44,
    "start_time": "2022-11-11T17:16:04.833Z"
   },
   {
    "duration": 58,
    "start_time": "2022-11-11T17:16:04.879Z"
   },
   {
    "duration": 22,
    "start_time": "2022-11-11T17:16:04.939Z"
   },
   {
    "duration": 21,
    "start_time": "2022-11-11T17:16:04.963Z"
   },
   {
    "duration": 24,
    "start_time": "2022-11-11T17:16:04.986Z"
   },
   {
    "duration": 58,
    "start_time": "2022-11-11T17:16:05.012Z"
   },
   {
    "duration": 27,
    "start_time": "2022-11-11T17:16:05.071Z"
   },
   {
    "duration": 56,
    "start_time": "2022-11-11T17:16:05.099Z"
   },
   {
    "duration": 312,
    "start_time": "2022-11-11T17:16:05.158Z"
   },
   {
    "duration": 231,
    "start_time": "2022-11-11T17:16:05.472Z"
   },
   {
    "duration": 389,
    "start_time": "2022-11-11T17:16:05.705Z"
   },
   {
    "duration": 10,
    "start_time": "2022-11-11T17:16:06.096Z"
   },
   {
    "duration": 56,
    "start_time": "2022-11-11T17:16:06.108Z"
   },
   {
    "duration": 6,
    "start_time": "2022-11-11T17:16:06.166Z"
   },
   {
    "duration": 8,
    "start_time": "2022-11-11T17:16:06.174Z"
   },
   {
    "duration": 21,
    "start_time": "2022-11-11T17:16:06.183Z"
   },
   {
    "duration": 10,
    "start_time": "2022-11-11T17:16:06.205Z"
   },
   {
    "duration": 12,
    "start_time": "2022-11-11T17:16:06.216Z"
   },
   {
    "duration": 8,
    "start_time": "2022-11-11T17:16:06.230Z"
   },
   {
    "duration": 182,
    "start_time": "2022-11-11T17:16:06.241Z"
   },
   {
    "duration": 0,
    "start_time": "2022-11-11T17:16:06.425Z"
   },
   {
    "duration": 15,
    "start_time": "2022-11-11T17:18:10.963Z"
   },
   {
    "duration": 18,
    "start_time": "2022-11-11T17:52:30.959Z"
   },
   {
    "duration": 8,
    "start_time": "2022-11-11T17:52:51.671Z"
   },
   {
    "duration": 10,
    "start_time": "2022-11-11T17:52:52.798Z"
   },
   {
    "duration": 8,
    "start_time": "2022-11-11T17:53:27.039Z"
   },
   {
    "duration": 31,
    "start_time": "2022-11-11T17:53:27.699Z"
   },
   {
    "duration": 17,
    "start_time": "2022-11-11T17:54:19.189Z"
   },
   {
    "duration": 1321,
    "start_time": "2022-11-11T17:54:51.494Z"
   },
   {
    "duration": 384,
    "start_time": "2022-11-11T17:54:52.817Z"
   },
   {
    "duration": 14,
    "start_time": "2022-11-11T17:54:53.203Z"
   },
   {
    "duration": 37,
    "start_time": "2022-11-11T17:54:53.219Z"
   },
   {
    "duration": 9,
    "start_time": "2022-11-11T17:54:53.258Z"
   },
   {
    "duration": 29,
    "start_time": "2022-11-11T17:54:53.269Z"
   },
   {
    "duration": 9,
    "start_time": "2022-11-11T17:54:53.300Z"
   },
   {
    "duration": 21,
    "start_time": "2022-11-11T17:54:53.311Z"
   },
   {
    "duration": 45,
    "start_time": "2022-11-11T17:54:53.333Z"
   },
   {
    "duration": 60,
    "start_time": "2022-11-11T17:54:53.382Z"
   },
   {
    "duration": 48,
    "start_time": "2022-11-11T17:54:53.444Z"
   },
   {
    "duration": 17,
    "start_time": "2022-11-11T17:54:53.494Z"
   },
   {
    "duration": 31,
    "start_time": "2022-11-11T17:54:53.533Z"
   },
   {
    "duration": 23,
    "start_time": "2022-11-11T17:54:53.566Z"
   },
   {
    "duration": 67,
    "start_time": "2022-11-11T17:54:53.591Z"
   },
   {
    "duration": 27,
    "start_time": "2022-11-11T17:54:53.660Z"
   },
   {
    "duration": 45,
    "start_time": "2022-11-11T17:54:53.689Z"
   },
   {
    "duration": 281,
    "start_time": "2022-11-11T17:54:53.735Z"
   },
   {
    "duration": 206,
    "start_time": "2022-11-11T17:54:54.018Z"
   },
   {
    "duration": 328,
    "start_time": "2022-11-11T17:54:54.226Z"
   },
   {
    "duration": 17,
    "start_time": "2022-11-11T17:54:54.555Z"
   },
   {
    "duration": 7,
    "start_time": "2022-11-11T17:54:54.574Z"
   },
   {
    "duration": 49,
    "start_time": "2022-11-11T17:54:54.583Z"
   },
   {
    "duration": 127,
    "start_time": "2022-11-11T17:54:54.634Z"
   },
   {
    "duration": 0,
    "start_time": "2022-11-11T17:54:54.763Z"
   },
   {
    "duration": 31,
    "start_time": "2022-11-11T17:58:05.899Z"
   },
   {
    "duration": 23,
    "start_time": "2022-11-11T17:58:11.568Z"
   },
   {
    "duration": 6,
    "start_time": "2022-11-11T17:58:15.593Z"
   },
   {
    "duration": 10,
    "start_time": "2022-11-11T18:00:00.046Z"
   },
   {
    "duration": 8,
    "start_time": "2022-11-11T18:01:22.041Z"
   },
   {
    "duration": 9,
    "start_time": "2022-11-11T18:12:03.400Z"
   },
   {
    "duration": 3,
    "start_time": "2022-11-11T18:12:43.180Z"
   },
   {
    "duration": 8,
    "start_time": "2022-11-11T18:12:50.132Z"
   },
   {
    "duration": 4,
    "start_time": "2022-11-11T18:13:05.618Z"
   },
   {
    "duration": 3,
    "start_time": "2022-11-11T18:13:21.392Z"
   },
   {
    "duration": 7,
    "start_time": "2022-11-11T18:16:08.290Z"
   },
   {
    "duration": 4,
    "start_time": "2022-11-11T18:16:33.945Z"
   },
   {
    "duration": 1371,
    "start_time": "2022-11-11T18:17:03.102Z"
   },
   {
    "duration": 384,
    "start_time": "2022-11-11T18:17:04.475Z"
   },
   {
    "duration": 15,
    "start_time": "2022-11-11T18:17:04.861Z"
   },
   {
    "duration": 17,
    "start_time": "2022-11-11T18:17:04.878Z"
   },
   {
    "duration": 13,
    "start_time": "2022-11-11T18:17:04.898Z"
   },
   {
    "duration": 32,
    "start_time": "2022-11-11T18:17:04.913Z"
   },
   {
    "duration": 9,
    "start_time": "2022-11-11T18:17:04.947Z"
   },
   {
    "duration": 25,
    "start_time": "2022-11-11T18:17:04.958Z"
   },
   {
    "duration": 58,
    "start_time": "2022-11-11T18:17:04.985Z"
   },
   {
    "duration": 46,
    "start_time": "2022-11-11T18:17:05.045Z"
   },
   {
    "duration": 65,
    "start_time": "2022-11-11T18:17:05.092Z"
   },
   {
    "duration": 18,
    "start_time": "2022-11-11T18:17:05.158Z"
   },
   {
    "duration": 32,
    "start_time": "2022-11-11T18:17:05.178Z"
   },
   {
    "duration": 27,
    "start_time": "2022-11-11T18:17:05.213Z"
   },
   {
    "duration": 40,
    "start_time": "2022-11-11T18:17:05.241Z"
   },
   {
    "duration": 28,
    "start_time": "2022-11-11T18:17:05.283Z"
   },
   {
    "duration": 42,
    "start_time": "2022-11-11T18:17:05.313Z"
   },
   {
    "duration": 281,
    "start_time": "2022-11-11T18:17:05.356Z"
   },
   {
    "duration": 234,
    "start_time": "2022-11-11T18:17:05.639Z"
   },
   {
    "duration": 341,
    "start_time": "2022-11-11T18:17:05.875Z"
   },
   {
    "duration": 22,
    "start_time": "2022-11-11T18:17:06.218Z"
   },
   {
    "duration": 9,
    "start_time": "2022-11-11T18:17:06.242Z"
   },
   {
    "duration": 50,
    "start_time": "2022-11-11T18:17:06.253Z"
   },
   {
    "duration": 33,
    "start_time": "2022-11-11T18:17:06.305Z"
   },
   {
    "duration": 8,
    "start_time": "2022-11-11T18:17:06.341Z"
   },
   {
    "duration": 184,
    "start_time": "2022-11-11T18:17:06.351Z"
   },
   {
    "duration": 16,
    "start_time": "2022-11-11T18:17:06.537Z"
   },
   {
    "duration": 20,
    "start_time": "2022-11-11T18:17:06.554Z"
   },
   {
    "duration": 111,
    "start_time": "2022-11-11T18:19:52.671Z"
   },
   {
    "duration": 3,
    "start_time": "2022-11-11T18:20:21.225Z"
   },
   {
    "duration": 5,
    "start_time": "2022-11-11T18:20:35.614Z"
   },
   {
    "duration": 15,
    "start_time": "2022-11-11T18:24:55.457Z"
   },
   {
    "duration": 6,
    "start_time": "2022-11-11T18:24:55.873Z"
   },
   {
    "duration": 14,
    "start_time": "2022-11-11T18:24:56.684Z"
   },
   {
    "duration": 6,
    "start_time": "2022-11-11T18:26:31.577Z"
   },
   {
    "duration": 13,
    "start_time": "2022-11-11T18:26:32.564Z"
   },
   {
    "duration": 11,
    "start_time": "2022-11-11T18:26:33.360Z"
   },
   {
    "duration": 5,
    "start_time": "2022-11-11T18:26:35.046Z"
   },
   {
    "duration": 4,
    "start_time": "2022-11-11T18:26:40.960Z"
   },
   {
    "duration": 4,
    "start_time": "2022-11-11T18:26:41.915Z"
   },
   {
    "duration": 5,
    "start_time": "2022-11-11T18:26:44.084Z"
   },
   {
    "duration": 4,
    "start_time": "2022-11-11T18:29:12.100Z"
   },
   {
    "duration": 12,
    "start_time": "2022-11-11T18:29:12.571Z"
   },
   {
    "duration": 12,
    "start_time": "2022-11-11T18:29:13.151Z"
   },
   {
    "duration": 8,
    "start_time": "2022-11-11T18:29:17.438Z"
   },
   {
    "duration": 5,
    "start_time": "2022-11-11T18:29:21.399Z"
   },
   {
    "duration": 4,
    "start_time": "2022-11-11T18:29:23.194Z"
   },
   {
    "duration": 5,
    "start_time": "2022-11-11T18:29:26.264Z"
   },
   {
    "duration": 5,
    "start_time": "2022-11-11T18:33:33.349Z"
   },
   {
    "duration": 29,
    "start_time": "2022-11-11T18:33:33.356Z"
   },
   {
    "duration": 10,
    "start_time": "2022-11-11T18:33:33.387Z"
   },
   {
    "duration": 33,
    "start_time": "2022-11-11T18:33:33.400Z"
   },
   {
    "duration": 108,
    "start_time": "2022-11-11T18:33:33.435Z"
   },
   {
    "duration": 13,
    "start_time": "2022-11-11T18:33:33.544Z"
   },
   {
    "duration": 12,
    "start_time": "2022-11-11T18:33:33.558Z"
   },
   {
    "duration": 7,
    "start_time": "2022-11-11T18:33:33.571Z"
   },
   {
    "duration": 52,
    "start_time": "2022-11-11T18:33:33.581Z"
   },
   {
    "duration": 11,
    "start_time": "2022-11-11T18:33:33.635Z"
   },
   {
    "duration": 85,
    "start_time": "2022-11-11T18:33:33.647Z"
   },
   {
    "duration": 103,
    "start_time": "2022-11-11T18:33:33.736Z"
   },
   {
    "duration": 6,
    "start_time": "2022-11-11T18:33:33.841Z"
   },
   {
    "duration": 19,
    "start_time": "2022-11-11T18:33:33.849Z"
   },
   {
    "duration": 5,
    "start_time": "2022-11-11T18:33:33.870Z"
   },
   {
    "duration": 15,
    "start_time": "2022-11-11T18:33:33.877Z"
   },
   {
    "duration": 13,
    "start_time": "2022-11-11T18:33:33.894Z"
   },
   {
    "duration": 28,
    "start_time": "2022-11-11T18:33:33.909Z"
   },
   {
    "duration": 96,
    "start_time": "2022-11-11T18:33:33.939Z"
   },
   {
    "duration": 96,
    "start_time": "2022-11-11T18:33:34.038Z"
   },
   {
    "duration": 17,
    "start_time": "2022-11-11T18:33:34.136Z"
   },
   {
    "duration": 4,
    "start_time": "2022-11-11T18:36:57.333Z"
   },
   {
    "duration": 13,
    "start_time": "2022-11-11T18:36:57.340Z"
   },
   {
    "duration": 11,
    "start_time": "2022-11-11T18:36:57.355Z"
   },
   {
    "duration": 7,
    "start_time": "2022-11-11T18:36:57.368Z"
   },
   {
    "duration": 160,
    "start_time": "2022-11-11T18:36:57.377Z"
   },
   {
    "duration": 4,
    "start_time": "2022-11-11T18:36:57.539Z"
   },
   {
    "duration": 6,
    "start_time": "2022-11-11T18:36:57.545Z"
   },
   {
    "duration": 5,
    "start_time": "2022-11-11T18:50:55.270Z"
   },
   {
    "duration": 14,
    "start_time": "2022-11-11T18:50:55.276Z"
   },
   {
    "duration": 11,
    "start_time": "2022-11-11T18:50:55.291Z"
   },
   {
    "duration": 9,
    "start_time": "2022-11-11T18:50:55.304Z"
   },
   {
    "duration": 100,
    "start_time": "2022-11-11T18:50:55.336Z"
   },
   {
    "duration": 10,
    "start_time": "2022-11-11T18:50:55.437Z"
   },
   {
    "duration": 17,
    "start_time": "2022-11-11T18:50:55.449Z"
   },
   {
    "duration": 20,
    "start_time": "2022-11-11T18:50:55.467Z"
   },
   {
    "duration": 15,
    "start_time": "2022-11-11T18:50:55.489Z"
   },
   {
    "duration": 28,
    "start_time": "2022-11-11T18:50:55.505Z"
   },
   {
    "duration": 6,
    "start_time": "2022-11-11T18:50:55.534Z"
   },
   {
    "duration": 192,
    "start_time": "2022-11-11T18:50:55.542Z"
   },
   {
    "duration": 8,
    "start_time": "2022-11-11T18:50:55.736Z"
   },
   {
    "duration": 6,
    "start_time": "2022-11-11T18:50:55.747Z"
   },
   {
    "duration": 5,
    "start_time": "2022-11-11T18:52:55.815Z"
   },
   {
    "duration": 27,
    "start_time": "2022-11-11T18:52:55.822Z"
   },
   {
    "duration": 10,
    "start_time": "2022-11-11T18:52:55.851Z"
   },
   {
    "duration": 15,
    "start_time": "2022-11-11T18:52:55.862Z"
   },
   {
    "duration": 102,
    "start_time": "2022-11-11T18:52:55.933Z"
   },
   {
    "duration": 12,
    "start_time": "2022-11-11T18:52:56.037Z"
   },
   {
    "duration": 8,
    "start_time": "2022-11-11T18:52:56.051Z"
   },
   {
    "duration": 7,
    "start_time": "2022-11-11T18:52:56.061Z"
   },
   {
    "duration": 15,
    "start_time": "2022-11-11T18:52:56.070Z"
   },
   {
    "duration": 11,
    "start_time": "2022-11-11T18:52:56.087Z"
   },
   {
    "duration": 32,
    "start_time": "2022-11-11T18:52:56.101Z"
   },
   {
    "duration": 4,
    "start_time": "2022-11-11T18:52:56.135Z"
   },
   {
    "duration": 101,
    "start_time": "2022-11-11T18:52:56.141Z"
   },
   {
    "duration": 14,
    "start_time": "2022-11-11T18:52:56.244Z"
   },
   {
    "duration": 1330,
    "start_time": "2022-11-11T18:53:54.472Z"
   },
   {
    "duration": 411,
    "start_time": "2022-11-11T18:53:55.805Z"
   },
   {
    "duration": 16,
    "start_time": "2022-11-11T18:53:56.218Z"
   },
   {
    "duration": 19,
    "start_time": "2022-11-11T18:53:56.236Z"
   },
   {
    "duration": 18,
    "start_time": "2022-11-11T18:53:56.256Z"
   },
   {
    "duration": 55,
    "start_time": "2022-11-11T18:53:56.276Z"
   },
   {
    "duration": 41,
    "start_time": "2022-11-11T18:53:56.334Z"
   },
   {
    "duration": 32,
    "start_time": "2022-11-11T18:53:56.377Z"
   },
   {
    "duration": 67,
    "start_time": "2022-11-11T18:53:56.411Z"
   },
   {
    "duration": 68,
    "start_time": "2022-11-11T18:53:56.481Z"
   },
   {
    "duration": 64,
    "start_time": "2022-11-11T18:53:56.551Z"
   },
   {
    "duration": 23,
    "start_time": "2022-11-11T18:53:56.633Z"
   },
   {
    "duration": 43,
    "start_time": "2022-11-11T18:53:56.658Z"
   },
   {
    "duration": 23,
    "start_time": "2022-11-11T18:53:56.702Z"
   },
   {
    "duration": 32,
    "start_time": "2022-11-11T18:53:56.727Z"
   },
   {
    "duration": 26,
    "start_time": "2022-11-11T18:53:56.761Z"
   },
   {
    "duration": 45,
    "start_time": "2022-11-11T18:53:56.789Z"
   },
   {
    "duration": 291,
    "start_time": "2022-11-11T18:53:56.836Z"
   },
   {
    "duration": 206,
    "start_time": "2022-11-11T18:53:57.128Z"
   },
   {
    "duration": 354,
    "start_time": "2022-11-11T18:53:57.335Z"
   },
   {
    "duration": 8,
    "start_time": "2022-11-11T18:53:57.691Z"
   },
   {
    "duration": 22,
    "start_time": "2022-11-11T18:53:57.701Z"
   },
   {
    "duration": 19,
    "start_time": "2022-11-11T18:53:57.725Z"
   },
   {
    "duration": 123,
    "start_time": "2022-11-11T18:53:57.746Z"
   },
   {
    "duration": 0,
    "start_time": "2022-11-11T18:53:57.871Z"
   },
   {
    "duration": 0,
    "start_time": "2022-11-11T18:53:57.872Z"
   },
   {
    "duration": 0,
    "start_time": "2022-11-11T18:53:57.874Z"
   },
   {
    "duration": 0,
    "start_time": "2022-11-11T18:53:57.876Z"
   },
   {
    "duration": 0,
    "start_time": "2022-11-11T18:53:57.878Z"
   },
   {
    "duration": 0,
    "start_time": "2022-11-11T18:53:57.879Z"
   },
   {
    "duration": 0,
    "start_time": "2022-11-11T18:53:57.881Z"
   },
   {
    "duration": 0,
    "start_time": "2022-11-11T18:53:57.882Z"
   },
   {
    "duration": 0,
    "start_time": "2022-11-11T18:53:57.884Z"
   },
   {
    "duration": 0,
    "start_time": "2022-11-11T18:53:57.885Z"
   },
   {
    "duration": 0,
    "start_time": "2022-11-11T18:53:57.887Z"
   },
   {
    "duration": 0,
    "start_time": "2022-11-11T18:53:57.889Z"
   },
   {
    "duration": 0,
    "start_time": "2022-11-11T18:53:57.890Z"
   },
   {
    "duration": 0,
    "start_time": "2022-11-11T18:53:57.891Z"
   },
   {
    "duration": 0,
    "start_time": "2022-11-11T18:53:57.893Z"
   },
   {
    "duration": 0,
    "start_time": "2022-11-11T18:53:57.895Z"
   },
   {
    "duration": 0,
    "start_time": "2022-11-11T18:53:57.934Z"
   },
   {
    "duration": 1387,
    "start_time": "2022-11-11T18:57:57.745Z"
   },
   {
    "duration": 364,
    "start_time": "2022-11-11T18:57:59.134Z"
   },
   {
    "duration": 13,
    "start_time": "2022-11-11T18:57:59.500Z"
   },
   {
    "duration": 27,
    "start_time": "2022-11-11T18:57:59.516Z"
   },
   {
    "duration": 11,
    "start_time": "2022-11-11T18:57:59.545Z"
   },
   {
    "duration": 19,
    "start_time": "2022-11-11T18:57:59.557Z"
   },
   {
    "duration": 9,
    "start_time": "2022-11-11T18:57:59.578Z"
   },
   {
    "duration": 19,
    "start_time": "2022-11-11T18:57:59.588Z"
   },
   {
    "duration": 69,
    "start_time": "2022-11-11T18:57:59.609Z"
   },
   {
    "duration": 56,
    "start_time": "2022-11-11T18:57:59.680Z"
   },
   {
    "duration": 44,
    "start_time": "2022-11-11T18:57:59.737Z"
   },
   {
    "duration": 17,
    "start_time": "2022-11-11T18:57:59.784Z"
   },
   {
    "duration": 37,
    "start_time": "2022-11-11T18:57:59.803Z"
   },
   {
    "duration": 20,
    "start_time": "2022-11-11T18:57:59.842Z"
   },
   {
    "duration": 32,
    "start_time": "2022-11-11T18:57:59.864Z"
   },
   {
    "duration": 46,
    "start_time": "2022-11-11T18:57:59.897Z"
   },
   {
    "duration": 26,
    "start_time": "2022-11-11T18:57:59.944Z"
   },
   {
    "duration": 299,
    "start_time": "2022-11-11T18:57:59.972Z"
   },
   {
    "duration": 211,
    "start_time": "2022-11-11T18:58:00.273Z"
   },
   {
    "duration": 393,
    "start_time": "2022-11-11T18:58:00.486Z"
   },
   {
    "duration": 6,
    "start_time": "2022-11-11T18:58:00.881Z"
   },
   {
    "duration": 39,
    "start_time": "2022-11-11T18:58:00.888Z"
   },
   {
    "duration": 71,
    "start_time": "2022-11-11T18:58:00.928Z"
   },
   {
    "duration": 133,
    "start_time": "2022-11-11T18:58:01.001Z"
   },
   {
    "duration": 104,
    "start_time": "2022-11-11T18:58:01.137Z"
   },
   {
    "duration": 36,
    "start_time": "2022-11-11T18:58:01.243Z"
   },
   {
    "duration": 38,
    "start_time": "2022-11-11T18:58:01.281Z"
   },
   {
    "duration": 31,
    "start_time": "2022-11-11T18:58:01.323Z"
   },
   {
    "duration": 39,
    "start_time": "2022-11-11T18:58:01.356Z"
   },
   {
    "duration": 44,
    "start_time": "2022-11-11T18:58:01.398Z"
   },
   {
    "duration": 141,
    "start_time": "2022-11-11T18:58:01.444Z"
   },
   {
    "duration": 0,
    "start_time": "2022-11-11T18:58:01.587Z"
   },
   {
    "duration": 0,
    "start_time": "2022-11-11T18:58:01.589Z"
   },
   {
    "duration": 0,
    "start_time": "2022-11-11T18:58:01.590Z"
   },
   {
    "duration": 0,
    "start_time": "2022-11-11T18:58:01.592Z"
   },
   {
    "duration": 0,
    "start_time": "2022-11-11T18:58:01.593Z"
   },
   {
    "duration": 0,
    "start_time": "2022-11-11T18:58:01.594Z"
   },
   {
    "duration": 0,
    "start_time": "2022-11-11T18:58:01.596Z"
   },
   {
    "duration": 0,
    "start_time": "2022-11-11T18:58:01.597Z"
   },
   {
    "duration": 0,
    "start_time": "2022-11-11T18:58:01.598Z"
   },
   {
    "duration": 0,
    "start_time": "2022-11-11T18:58:01.599Z"
   },
   {
    "duration": 1432,
    "start_time": "2022-11-11T18:58:25.512Z"
   },
   {
    "duration": 381,
    "start_time": "2022-11-11T18:58:26.946Z"
   },
   {
    "duration": 15,
    "start_time": "2022-11-11T18:58:27.329Z"
   },
   {
    "duration": 15,
    "start_time": "2022-11-11T18:58:27.346Z"
   },
   {
    "duration": 9,
    "start_time": "2022-11-11T18:58:27.362Z"
   },
   {
    "duration": 21,
    "start_time": "2022-11-11T18:58:27.373Z"
   },
   {
    "duration": 9,
    "start_time": "2022-11-11T18:58:27.396Z"
   },
   {
    "duration": 34,
    "start_time": "2022-11-11T18:58:27.406Z"
   },
   {
    "duration": 42,
    "start_time": "2022-11-11T18:58:27.442Z"
   },
   {
    "duration": 62,
    "start_time": "2022-11-11T18:58:27.487Z"
   },
   {
    "duration": 44,
    "start_time": "2022-11-11T18:58:27.550Z"
   },
   {
    "duration": 17,
    "start_time": "2022-11-11T18:58:27.596Z"
   },
   {
    "duration": 32,
    "start_time": "2022-11-11T18:58:27.615Z"
   },
   {
    "duration": 19,
    "start_time": "2022-11-11T18:58:27.649Z"
   },
   {
    "duration": 29,
    "start_time": "2022-11-11T18:58:27.671Z"
   },
   {
    "duration": 49,
    "start_time": "2022-11-11T18:58:27.702Z"
   },
   {
    "duration": 27,
    "start_time": "2022-11-11T18:58:27.752Z"
   },
   {
    "duration": 293,
    "start_time": "2022-11-11T18:58:27.781Z"
   },
   {
    "duration": 213,
    "start_time": "2022-11-11T18:58:28.075Z"
   },
   {
    "duration": 341,
    "start_time": "2022-11-11T18:58:28.290Z"
   },
   {
    "duration": 5,
    "start_time": "2022-11-11T18:58:28.633Z"
   },
   {
    "duration": 17,
    "start_time": "2022-11-11T18:58:28.640Z"
   },
   {
    "duration": 13,
    "start_time": "2022-11-11T18:58:28.658Z"
   },
   {
    "duration": 7,
    "start_time": "2022-11-11T18:58:28.673Z"
   },
   {
    "duration": 61,
    "start_time": "2022-11-11T18:58:28.682Z"
   },
   {
    "duration": 5,
    "start_time": "2022-11-11T18:58:28.832Z"
   },
   {
    "duration": 9,
    "start_time": "2022-11-11T18:58:28.839Z"
   },
   {
    "duration": 8,
    "start_time": "2022-11-11T18:58:28.851Z"
   },
   {
    "duration": 16,
    "start_time": "2022-11-11T18:58:28.860Z"
   },
   {
    "duration": 11,
    "start_time": "2022-11-11T18:58:28.877Z"
   },
   {
    "duration": 45,
    "start_time": "2022-11-11T18:58:28.890Z"
   },
   {
    "duration": 95,
    "start_time": "2022-11-11T18:58:28.939Z"
   },
   {
    "duration": 3,
    "start_time": "2022-11-11T18:58:29.036Z"
   },
   {
    "duration": 8,
    "start_time": "2022-11-11T18:58:29.041Z"
   },
   {
    "duration": 8,
    "start_time": "2022-11-11T18:58:29.050Z"
   },
   {
    "duration": 17,
    "start_time": "2022-11-11T18:58:29.059Z"
   },
   {
    "duration": 12,
    "start_time": "2022-11-11T18:58:29.078Z"
   },
   {
    "duration": 41,
    "start_time": "2022-11-11T18:58:29.092Z"
   },
   {
    "duration": 98,
    "start_time": "2022-11-11T18:58:29.136Z"
   },
   {
    "duration": 4,
    "start_time": "2022-11-11T18:58:29.236Z"
   },
   {
    "duration": 7,
    "start_time": "2022-11-11T18:58:29.241Z"
   },
   {
    "duration": 107,
    "start_time": "2022-11-11T19:10:24.528Z"
   },
   {
    "duration": 3,
    "start_time": "2022-11-11T19:13:49.725Z"
   },
   {
    "duration": 14,
    "start_time": "2022-11-11T19:13:58.266Z"
   },
   {
    "duration": 19,
    "start_time": "2022-11-11T19:14:48.816Z"
   },
   {
    "duration": 61,
    "start_time": "2022-11-11T19:16:00.171Z"
   },
   {
    "duration": 9,
    "start_time": "2022-11-11T19:16:20.999Z"
   },
   {
    "duration": 1456,
    "start_time": "2022-11-11T19:19:10.294Z"
   },
   {
    "duration": 404,
    "start_time": "2022-11-11T19:19:11.752Z"
   },
   {
    "duration": 15,
    "start_time": "2022-11-11T19:19:12.159Z"
   },
   {
    "duration": 19,
    "start_time": "2022-11-11T19:19:12.177Z"
   },
   {
    "duration": 10,
    "start_time": "2022-11-11T19:19:12.197Z"
   },
   {
    "duration": 35,
    "start_time": "2022-11-11T19:19:12.209Z"
   },
   {
    "duration": 10,
    "start_time": "2022-11-11T19:19:12.246Z"
   },
   {
    "duration": 20,
    "start_time": "2022-11-11T19:19:12.258Z"
   },
   {
    "duration": 62,
    "start_time": "2022-11-11T19:19:12.280Z"
   },
   {
    "duration": 40,
    "start_time": "2022-11-11T19:19:12.345Z"
   },
   {
    "duration": 57,
    "start_time": "2022-11-11T19:19:12.387Z"
   },
   {
    "duration": 17,
    "start_time": "2022-11-11T19:19:12.446Z"
   },
   {
    "duration": 22,
    "start_time": "2022-11-11T19:19:12.464Z"
   },
   {
    "duration": 19,
    "start_time": "2022-11-11T19:19:12.488Z"
   },
   {
    "duration": 47,
    "start_time": "2022-11-11T19:19:12.509Z"
   },
   {
    "duration": 41,
    "start_time": "2022-11-11T19:19:12.558Z"
   },
   {
    "duration": 54,
    "start_time": "2022-11-11T19:19:12.602Z"
   },
   {
    "duration": 285,
    "start_time": "2022-11-11T19:19:12.658Z"
   },
   {
    "duration": 214,
    "start_time": "2022-11-11T19:19:12.945Z"
   },
   {
    "duration": 332,
    "start_time": "2022-11-11T19:19:13.161Z"
   },
   {
    "duration": 3,
    "start_time": "2022-11-11T19:19:13.495Z"
   },
   {
    "duration": 34,
    "start_time": "2022-11-11T19:19:13.500Z"
   },
   {
    "duration": 69,
    "start_time": "2022-11-11T19:19:13.536Z"
   },
   {
    "duration": 9,
    "start_time": "2022-11-11T19:19:13.607Z"
   },
   {
    "duration": 18,
    "start_time": "2022-11-11T19:19:13.618Z"
   },
   {
    "duration": 16,
    "start_time": "2022-11-11T19:19:13.638Z"
   },
   {
    "duration": 12,
    "start_time": "2022-11-11T19:19:13.656Z"
   },
   {
    "duration": 62,
    "start_time": "2022-11-11T19:19:13.671Z"
   },
   {
    "duration": 4,
    "start_time": "2022-11-11T19:19:13.735Z"
   },
   {
    "duration": 96,
    "start_time": "2022-11-11T19:19:13.741Z"
   },
   {
    "duration": 7,
    "start_time": "2022-11-11T19:19:13.839Z"
   },
   {
    "duration": 17,
    "start_time": "2022-11-11T19:19:13.848Z"
   },
   {
    "duration": 88,
    "start_time": "2022-11-11T19:19:13.867Z"
   },
   {
    "duration": 13,
    "start_time": "2022-11-11T19:19:13.957Z"
   },
   {
    "duration": 32,
    "start_time": "2022-11-11T19:19:13.972Z"
   },
   {
    "duration": 19,
    "start_time": "2022-11-11T19:19:14.006Z"
   },
   {
    "duration": 15,
    "start_time": "2022-11-11T19:19:14.027Z"
   },
   {
    "duration": 5,
    "start_time": "2022-11-11T19:19:14.044Z"
   },
   {
    "duration": 81,
    "start_time": "2022-11-11T19:19:14.052Z"
   },
   {
    "duration": 98,
    "start_time": "2022-11-11T19:19:14.136Z"
   },
   {
    "duration": 8,
    "start_time": "2022-11-11T19:19:14.236Z"
   },
   {
    "duration": 18,
    "start_time": "2022-11-11T19:19:14.245Z"
   },
   {
    "duration": 77,
    "start_time": "2022-11-11T19:19:14.264Z"
   },
   {
    "duration": 9,
    "start_time": "2022-11-11T19:19:14.343Z"
   },
   {
    "duration": 7,
    "start_time": "2022-11-11T19:19:14.354Z"
   },
   {
    "duration": 14,
    "start_time": "2022-11-11T19:19:14.363Z"
   },
   {
    "duration": 11,
    "start_time": "2022-11-11T19:19:14.379Z"
   },
   {
    "duration": 44,
    "start_time": "2022-11-11T19:19:14.392Z"
   },
   {
    "duration": 99,
    "start_time": "2022-11-11T19:19:14.439Z"
   },
   {
    "duration": 6,
    "start_time": "2022-11-11T19:19:14.540Z"
   },
   {
    "duration": 8,
    "start_time": "2022-11-11T19:19:14.548Z"
   },
   {
    "duration": 3,
    "start_time": "2022-11-11T19:24:52.328Z"
   },
   {
    "duration": 1481,
    "start_time": "2022-11-12T02:26:44.555Z"
   },
   {
    "duration": 1412,
    "start_time": "2022-11-12T02:26:46.038Z"
   },
   {
    "duration": 13,
    "start_time": "2022-11-12T02:26:47.452Z"
   },
   {
    "duration": 13,
    "start_time": "2022-11-12T02:26:47.467Z"
   },
   {
    "duration": 8,
    "start_time": "2022-11-12T02:26:47.482Z"
   },
   {
    "duration": 17,
    "start_time": "2022-11-12T02:26:47.491Z"
   },
   {
    "duration": 9,
    "start_time": "2022-11-12T02:26:47.510Z"
   },
   {
    "duration": 36,
    "start_time": "2022-11-12T02:26:47.520Z"
   },
   {
    "duration": 40,
    "start_time": "2022-11-12T02:26:47.558Z"
   },
   {
    "duration": 48,
    "start_time": "2022-11-12T02:26:47.601Z"
   },
   {
    "duration": 39,
    "start_time": "2022-11-12T02:26:47.651Z"
   },
   {
    "duration": 14,
    "start_time": "2022-11-12T02:26:47.692Z"
   },
   {
    "duration": 17,
    "start_time": "2022-11-12T02:26:47.708Z"
   },
   {
    "duration": 16,
    "start_time": "2022-11-12T02:26:47.747Z"
   },
   {
    "duration": 27,
    "start_time": "2022-11-12T02:26:47.764Z"
   },
   {
    "duration": 22,
    "start_time": "2022-11-12T02:26:47.793Z"
   },
   {
    "duration": 43,
    "start_time": "2022-11-12T02:26:47.816Z"
   },
   {
    "duration": 251,
    "start_time": "2022-11-12T02:26:47.861Z"
   },
   {
    "duration": 187,
    "start_time": "2022-11-12T02:26:48.113Z"
   },
   {
    "duration": 305,
    "start_time": "2022-11-12T02:26:48.302Z"
   },
   {
    "duration": 3,
    "start_time": "2022-11-12T02:26:48.608Z"
   },
   {
    "duration": 6,
    "start_time": "2022-11-12T02:26:48.612Z"
   },
   {
    "duration": 6,
    "start_time": "2022-11-12T02:26:48.619Z"
   },
   {
    "duration": 11,
    "start_time": "2022-11-12T02:26:48.626Z"
   },
   {
    "duration": 9,
    "start_time": "2022-11-12T02:26:48.639Z"
   },
   {
    "duration": 11,
    "start_time": "2022-11-12T02:26:48.649Z"
   },
   {
    "duration": 14,
    "start_time": "2022-11-12T02:26:48.662Z"
   },
   {
    "duration": 169,
    "start_time": "2022-11-12T02:26:48.680Z"
   },
   {
    "duration": 5,
    "start_time": "2022-11-12T02:26:48.853Z"
   },
   {
    "duration": 98,
    "start_time": "2022-11-12T02:26:48.860Z"
   },
   {
    "duration": 96,
    "start_time": "2022-11-12T02:26:48.962Z"
   },
   {
    "duration": 6,
    "start_time": "2022-11-12T02:26:49.060Z"
   },
   {
    "duration": 5,
    "start_time": "2022-11-12T02:26:49.068Z"
   },
   {
    "duration": 6,
    "start_time": "2022-11-12T02:26:49.074Z"
   },
   {
    "duration": 15,
    "start_time": "2022-11-12T02:26:49.082Z"
   },
   {
    "duration": 9,
    "start_time": "2022-11-12T02:26:49.098Z"
   },
   {
    "duration": 14,
    "start_time": "2022-11-12T02:26:49.108Z"
   },
   {
    "duration": 12,
    "start_time": "2022-11-12T02:26:49.124Z"
   },
   {
    "duration": 9,
    "start_time": "2022-11-12T02:26:49.139Z"
   },
   {
    "duration": 10,
    "start_time": "2022-11-12T02:26:49.155Z"
   },
   {
    "duration": 9,
    "start_time": "2022-11-12T02:26:49.248Z"
   },
   {
    "duration": 90,
    "start_time": "2022-11-12T02:26:49.259Z"
   },
   {
    "duration": 9,
    "start_time": "2022-11-12T02:26:49.350Z"
   },
   {
    "duration": 3,
    "start_time": "2022-11-12T02:26:49.361Z"
   },
   {
    "duration": 6,
    "start_time": "2022-11-12T02:26:49.365Z"
   },
   {
    "duration": 13,
    "start_time": "2022-11-12T02:26:49.372Z"
   },
   {
    "duration": 7,
    "start_time": "2022-11-12T02:26:49.387Z"
   },
   {
    "duration": 17,
    "start_time": "2022-11-12T02:26:49.396Z"
   },
   {
    "duration": 11,
    "start_time": "2022-11-12T02:26:49.415Z"
   },
   {
    "duration": 5,
    "start_time": "2022-11-12T02:26:49.448Z"
   },
   {
    "duration": 93,
    "start_time": "2022-11-12T02:26:49.455Z"
   },
   {
    "duration": 5,
    "start_time": "2022-11-12T02:26:49.551Z"
   },
   {
    "duration": 11,
    "start_time": "2022-11-12T02:26:49.648Z"
   },
   {
    "duration": 8,
    "start_time": "2022-11-12T02:26:49.661Z"
   },
   {
    "duration": 7,
    "start_time": "2022-11-12T09:43:35.769Z"
   },
   {
    "duration": 8,
    "start_time": "2022-11-12T09:54:27.879Z"
   },
   {
    "duration": 3,
    "start_time": "2022-11-12T09:54:29.157Z"
   },
   {
    "duration": 3,
    "start_time": "2022-11-12T09:54:33.965Z"
   },
   {
    "duration": 3,
    "start_time": "2022-11-12T10:01:29.456Z"
   },
   {
    "duration": 42,
    "start_time": "2022-11-12T10:09:50.169Z"
   },
   {
    "duration": 44,
    "start_time": "2022-11-12T10:16:15.111Z"
   },
   {
    "duration": 1527,
    "start_time": "2022-11-12T10:16:39.983Z"
   },
   {
    "duration": 1533,
    "start_time": "2022-11-12T10:16:41.512Z"
   },
   {
    "duration": 14,
    "start_time": "2022-11-12T10:16:43.047Z"
   },
   {
    "duration": 20,
    "start_time": "2022-11-12T10:16:43.063Z"
   },
   {
    "duration": 10,
    "start_time": "2022-11-12T10:16:43.084Z"
   },
   {
    "duration": 19,
    "start_time": "2022-11-12T10:16:43.095Z"
   },
   {
    "duration": 23,
    "start_time": "2022-11-12T10:16:43.116Z"
   },
   {
    "duration": 23,
    "start_time": "2022-11-12T10:16:43.140Z"
   },
   {
    "duration": 47,
    "start_time": "2022-11-12T10:16:43.165Z"
   },
   {
    "duration": 44,
    "start_time": "2022-11-12T10:16:43.214Z"
   },
   {
    "duration": 56,
    "start_time": "2022-11-12T10:16:43.260Z"
   },
   {
    "duration": 16,
    "start_time": "2022-11-12T10:16:43.318Z"
   },
   {
    "duration": 21,
    "start_time": "2022-11-12T10:16:43.336Z"
   },
   {
    "duration": 30,
    "start_time": "2022-11-12T10:16:43.359Z"
   },
   {
    "duration": 77,
    "start_time": "2022-11-12T10:16:43.391Z"
   },
   {
    "duration": 27,
    "start_time": "2022-11-12T10:16:43.470Z"
   },
   {
    "duration": 28,
    "start_time": "2022-11-12T10:16:43.499Z"
   },
   {
    "duration": 286,
    "start_time": "2022-11-12T10:16:43.528Z"
   },
   {
    "duration": 200,
    "start_time": "2022-11-12T10:16:43.816Z"
   },
   {
    "duration": 331,
    "start_time": "2022-11-12T10:16:44.018Z"
   },
   {
    "duration": 2,
    "start_time": "2022-11-12T10:16:44.351Z"
   },
   {
    "duration": 18,
    "start_time": "2022-11-12T10:16:44.354Z"
   },
   {
    "duration": 12,
    "start_time": "2022-11-12T10:16:44.373Z"
   },
   {
    "duration": 18,
    "start_time": "2022-11-12T10:16:44.387Z"
   },
   {
    "duration": 30,
    "start_time": "2022-11-12T10:16:44.407Z"
   },
   {
    "duration": 17,
    "start_time": "2022-11-12T10:16:44.439Z"
   },
   {
    "duration": 24,
    "start_time": "2022-11-12T10:16:44.457Z"
   },
   {
    "duration": 201,
    "start_time": "2022-11-12T10:16:44.487Z"
   },
   {
    "duration": 191,
    "start_time": "2022-11-12T10:16:44.690Z"
   },
   {
    "duration": 8,
    "start_time": "2022-11-12T10:16:44.883Z"
   },
   {
    "duration": 20,
    "start_time": "2022-11-12T10:16:44.892Z"
   },
   {
    "duration": 20,
    "start_time": "2022-11-12T10:16:44.913Z"
   },
   {
    "duration": 8,
    "start_time": "2022-11-12T10:16:44.934Z"
   },
   {
    "duration": 17,
    "start_time": "2022-11-12T10:16:44.944Z"
   },
   {
    "duration": 13,
    "start_time": "2022-11-12T10:16:44.962Z"
   },
   {
    "duration": 14,
    "start_time": "2022-11-12T10:16:44.977Z"
   },
   {
    "duration": 54,
    "start_time": "2022-11-12T10:16:44.993Z"
   },
   {
    "duration": 23,
    "start_time": "2022-11-12T10:16:45.049Z"
   },
   {
    "duration": 19,
    "start_time": "2022-11-12T10:16:45.074Z"
   },
   {
    "duration": 97,
    "start_time": "2022-11-12T10:16:45.095Z"
   },
   {
    "duration": 11,
    "start_time": "2022-11-12T10:16:45.281Z"
   },
   {
    "duration": 12,
    "start_time": "2022-11-12T10:16:45.293Z"
   },
   {
    "duration": 17,
    "start_time": "2022-11-12T10:16:45.307Z"
   },
   {
    "duration": 7,
    "start_time": "2022-11-12T10:16:45.325Z"
   },
   {
    "duration": 7,
    "start_time": "2022-11-12T10:16:45.334Z"
   },
   {
    "duration": 27,
    "start_time": "2022-11-12T10:16:45.343Z"
   },
   {
    "duration": 9,
    "start_time": "2022-11-12T10:16:45.372Z"
   },
   {
    "duration": 21,
    "start_time": "2022-11-12T10:16:45.384Z"
   },
   {
    "duration": 36,
    "start_time": "2022-11-12T10:16:45.407Z"
   },
   {
    "duration": 6,
    "start_time": "2022-11-12T10:16:45.445Z"
   },
   {
    "duration": 136,
    "start_time": "2022-11-12T10:16:45.453Z"
   },
   {
    "duration": 7,
    "start_time": "2022-11-12T10:16:45.592Z"
   },
   {
    "duration": 15,
    "start_time": "2022-11-12T10:16:45.600Z"
   },
   {
    "duration": 13,
    "start_time": "2022-11-12T10:16:45.617Z"
   },
   {
    "duration": 11,
    "start_time": "2022-11-12T10:16:45.631Z"
   },
   {
    "duration": 23,
    "start_time": "2022-11-12T10:16:45.643Z"
   },
   {
    "duration": 21,
    "start_time": "2022-11-12T10:16:45.668Z"
   },
   {
    "duration": 844,
    "start_time": "2022-11-12T10:16:45.690Z"
   },
   {
    "duration": 1316,
    "start_time": "2022-11-12T10:18:06.207Z"
   },
   {
    "duration": 358,
    "start_time": "2022-11-12T10:18:07.525Z"
   },
   {
    "duration": 14,
    "start_time": "2022-11-12T10:18:07.885Z"
   },
   {
    "duration": 14,
    "start_time": "2022-11-12T10:18:07.901Z"
   },
   {
    "duration": 9,
    "start_time": "2022-11-12T10:18:07.917Z"
   },
   {
    "duration": 19,
    "start_time": "2022-11-12T10:18:07.927Z"
   },
   {
    "duration": 32,
    "start_time": "2022-11-12T10:18:07.948Z"
   },
   {
    "duration": 20,
    "start_time": "2022-11-12T10:18:07.981Z"
   },
   {
    "duration": 41,
    "start_time": "2022-11-12T10:18:08.003Z"
   },
   {
    "duration": 51,
    "start_time": "2022-11-12T10:18:08.047Z"
   },
   {
    "duration": 41,
    "start_time": "2022-11-12T10:18:08.100Z"
   },
   {
    "duration": 17,
    "start_time": "2022-11-12T10:18:08.143Z"
   },
   {
    "duration": 17,
    "start_time": "2022-11-12T10:18:08.182Z"
   },
   {
    "duration": 28,
    "start_time": "2022-11-12T10:18:08.200Z"
   },
   {
    "duration": 30,
    "start_time": "2022-11-12T10:18:08.230Z"
   },
   {
    "duration": 34,
    "start_time": "2022-11-12T10:18:08.262Z"
   },
   {
    "duration": 26,
    "start_time": "2022-11-12T10:18:08.298Z"
   },
   {
    "duration": 282,
    "start_time": "2022-11-12T10:18:08.326Z"
   },
   {
    "duration": 218,
    "start_time": "2022-11-12T10:18:08.610Z"
   },
   {
    "duration": 323,
    "start_time": "2022-11-12T10:18:08.830Z"
   },
   {
    "duration": 2,
    "start_time": "2022-11-12T10:18:09.155Z"
   },
   {
    "duration": 16,
    "start_time": "2022-11-12T10:18:09.159Z"
   },
   {
    "duration": 5,
    "start_time": "2022-11-12T10:18:09.177Z"
   },
   {
    "duration": 12,
    "start_time": "2022-11-12T10:18:09.183Z"
   },
   {
    "duration": 9,
    "start_time": "2022-11-12T10:18:09.196Z"
   },
   {
    "duration": 23,
    "start_time": "2022-11-12T10:18:09.207Z"
   },
   {
    "duration": 15,
    "start_time": "2022-11-12T10:18:09.233Z"
   },
   {
    "duration": 33,
    "start_time": "2022-11-12T10:18:09.253Z"
   },
   {
    "duration": 108,
    "start_time": "2022-11-12T10:18:09.289Z"
   },
   {
    "duration": 10,
    "start_time": "2022-11-12T10:18:09.398Z"
   },
   {
    "duration": 11,
    "start_time": "2022-11-12T10:18:09.409Z"
   },
   {
    "duration": 8,
    "start_time": "2022-11-12T10:18:09.421Z"
   },
   {
    "duration": 6,
    "start_time": "2022-11-12T10:18:09.431Z"
   },
   {
    "duration": 6,
    "start_time": "2022-11-12T10:18:09.438Z"
   },
   {
    "duration": 11,
    "start_time": "2022-11-12T10:18:09.479Z"
   },
   {
    "duration": 17,
    "start_time": "2022-11-12T10:18:09.491Z"
   },
   {
    "duration": 22,
    "start_time": "2022-11-12T10:18:09.509Z"
   },
   {
    "duration": 13,
    "start_time": "2022-11-12T10:18:09.532Z"
   },
   {
    "duration": 34,
    "start_time": "2022-11-12T10:18:09.547Z"
   },
   {
    "duration": 98,
    "start_time": "2022-11-12T10:18:09.583Z"
   },
   {
    "duration": 4,
    "start_time": "2022-11-12T10:18:09.682Z"
   },
   {
    "duration": 6,
    "start_time": "2022-11-12T10:18:09.688Z"
   },
   {
    "duration": 9,
    "start_time": "2022-11-12T10:18:09.696Z"
   },
   {
    "duration": 12,
    "start_time": "2022-11-12T10:18:09.706Z"
   },
   {
    "duration": 7,
    "start_time": "2022-11-12T10:18:09.720Z"
   },
   {
    "duration": 13,
    "start_time": "2022-11-12T10:18:09.729Z"
   },
   {
    "duration": 7,
    "start_time": "2022-11-12T10:18:09.744Z"
   },
   {
    "duration": 32,
    "start_time": "2022-11-12T10:18:09.752Z"
   },
   {
    "duration": 12,
    "start_time": "2022-11-12T10:18:09.786Z"
   },
   {
    "duration": 4,
    "start_time": "2022-11-12T10:18:09.800Z"
   },
   {
    "duration": 86,
    "start_time": "2022-11-12T10:18:09.805Z"
   },
   {
    "duration": 92,
    "start_time": "2022-11-12T10:18:09.894Z"
   },
   {
    "duration": 9,
    "start_time": "2022-11-12T10:18:09.988Z"
   },
   {
    "duration": 9,
    "start_time": "2022-11-12T10:18:09.998Z"
   },
   {
    "duration": 7,
    "start_time": "2022-11-12T10:18:10.009Z"
   },
   {
    "duration": 6,
    "start_time": "2022-11-12T10:18:10.018Z"
   },
   {
    "duration": 6,
    "start_time": "2022-11-12T10:18:10.026Z"
   },
   {
    "duration": 817,
    "start_time": "2022-11-12T10:18:10.033Z"
   },
   {
    "duration": 712,
    "start_time": "2022-11-12T10:19:43.186Z"
   },
   {
    "duration": 13,
    "start_time": "2022-11-12T10:20:55.474Z"
   },
   {
    "duration": 3,
    "start_time": "2022-11-12T10:21:24.338Z"
   },
   {
    "duration": 2,
    "start_time": "2022-11-12T10:21:27.729Z"
   },
   {
    "duration": 790,
    "start_time": "2022-11-12T10:21:32.947Z"
   },
   {
    "duration": 4,
    "start_time": "2022-11-12T10:22:53.210Z"
   },
   {
    "duration": 4,
    "start_time": "2022-11-12T10:22:54.435Z"
   },
   {
    "duration": 42,
    "start_time": "2022-11-12T10:22:58.128Z"
   },
   {
    "duration": 3,
    "start_time": "2022-11-12T10:25:37.110Z"
   },
   {
    "duration": 34,
    "start_time": "2022-11-12T10:25:47.360Z"
   },
   {
    "duration": 32,
    "start_time": "2022-11-12T10:26:06.343Z"
   },
   {
    "duration": 4,
    "start_time": "2022-11-12T10:26:50.796Z"
   },
   {
    "duration": 34,
    "start_time": "2022-11-12T10:26:51.849Z"
   },
   {
    "duration": 29,
    "start_time": "2022-11-12T10:27:20.695Z"
   },
   {
    "duration": 12,
    "start_time": "2022-11-12T10:36:30.074Z"
   },
   {
    "duration": 13,
    "start_time": "2022-11-12T10:37:08.797Z"
   },
   {
    "duration": 12,
    "start_time": "2022-11-12T10:37:53.616Z"
   },
   {
    "duration": 1776,
    "start_time": "2022-11-12T10:38:02.854Z"
   },
   {
    "duration": 1888,
    "start_time": "2022-11-12T10:38:38.402Z"
   },
   {
    "duration": 1913,
    "start_time": "2022-11-12T10:39:04.468Z"
   },
   {
    "duration": 1730,
    "start_time": "2022-11-12T10:39:30.156Z"
   },
   {
    "duration": 1832,
    "start_time": "2022-11-12T10:43:42.513Z"
   },
   {
    "duration": 1823,
    "start_time": "2022-11-12T10:44:18.432Z"
   },
   {
    "duration": 27,
    "start_time": "2022-11-12T10:44:37.194Z"
   },
   {
    "duration": 26,
    "start_time": "2022-11-12T10:47:56.670Z"
   },
   {
    "duration": 3,
    "start_time": "2022-11-12T11:17:44.110Z"
   },
   {
    "duration": 3,
    "start_time": "2022-11-12T11:17:45.491Z"
   },
   {
    "duration": 12,
    "start_time": "2022-11-12T11:18:12.332Z"
   },
   {
    "duration": 3,
    "start_time": "2022-11-12T11:18:39.722Z"
   },
   {
    "duration": 2,
    "start_time": "2022-11-12T11:18:47.221Z"
   },
   {
    "duration": 11,
    "start_time": "2022-11-12T11:18:49.676Z"
   },
   {
    "duration": 3,
    "start_time": "2022-11-12T11:19:04.989Z"
   },
   {
    "duration": 3,
    "start_time": "2022-11-12T11:19:06.873Z"
   },
   {
    "duration": 42,
    "start_time": "2022-11-12T11:19:13.750Z"
   },
   {
    "duration": 4,
    "start_time": "2022-11-12T11:19:51.434Z"
   },
   {
    "duration": 9,
    "start_time": "2022-11-12T11:19:56.794Z"
   },
   {
    "duration": 4,
    "start_time": "2022-11-12T11:21:49.368Z"
   },
   {
    "duration": 3,
    "start_time": "2022-11-12T11:21:59.550Z"
   },
   {
    "duration": 4,
    "start_time": "2022-11-12T11:22:02.207Z"
   },
   {
    "duration": 11,
    "start_time": "2022-11-12T11:22:15.637Z"
   },
   {
    "duration": 9,
    "start_time": "2022-11-12T11:22:26.701Z"
   },
   {
    "duration": 11,
    "start_time": "2022-11-12T11:23:12.088Z"
   },
   {
    "duration": 21,
    "start_time": "2022-11-12T11:23:50.498Z"
   },
   {
    "duration": 4,
    "start_time": "2022-11-12T11:24:22.655Z"
   },
   {
    "duration": 24,
    "start_time": "2022-11-12T11:24:27.492Z"
   },
   {
    "duration": 34,
    "start_time": "2022-11-12T12:37:50.800Z"
   },
   {
    "duration": 10,
    "start_time": "2022-11-12T12:38:57.322Z"
   },
   {
    "duration": 9,
    "start_time": "2022-11-12T12:39:09.057Z"
   },
   {
    "duration": 9,
    "start_time": "2022-11-12T12:39:13.640Z"
   },
   {
    "duration": 36,
    "start_time": "2022-11-12T12:40:42.344Z"
   },
   {
    "duration": 1390,
    "start_time": "2022-11-12T12:42:48.172Z"
   },
   {
    "duration": 385,
    "start_time": "2022-11-12T12:42:49.564Z"
   },
   {
    "duration": 14,
    "start_time": "2022-11-12T12:42:49.950Z"
   },
   {
    "duration": 24,
    "start_time": "2022-11-12T12:42:49.966Z"
   },
   {
    "duration": 10,
    "start_time": "2022-11-12T12:42:49.992Z"
   },
   {
    "duration": 30,
    "start_time": "2022-11-12T12:42:50.004Z"
   },
   {
    "duration": 25,
    "start_time": "2022-11-12T12:42:50.036Z"
   },
   {
    "duration": 27,
    "start_time": "2022-11-12T12:42:50.062Z"
   },
   {
    "duration": 50,
    "start_time": "2022-11-12T12:42:50.091Z"
   },
   {
    "duration": 53,
    "start_time": "2022-11-12T12:42:50.144Z"
   },
   {
    "duration": 51,
    "start_time": "2022-11-12T12:42:50.199Z"
   },
   {
    "duration": 29,
    "start_time": "2022-11-12T12:42:50.252Z"
   },
   {
    "duration": 27,
    "start_time": "2022-11-12T12:42:50.283Z"
   },
   {
    "duration": 26,
    "start_time": "2022-11-12T12:42:50.312Z"
   },
   {
    "duration": 40,
    "start_time": "2022-11-12T12:42:50.340Z"
   },
   {
    "duration": 26,
    "start_time": "2022-11-12T12:42:50.382Z"
   },
   {
    "duration": 30,
    "start_time": "2022-11-12T12:42:50.411Z"
   },
   {
    "duration": 296,
    "start_time": "2022-11-12T12:42:50.443Z"
   },
   {
    "duration": 211,
    "start_time": "2022-11-12T12:42:50.741Z"
   },
   {
    "duration": 340,
    "start_time": "2022-11-12T12:42:50.955Z"
   },
   {
    "duration": 3,
    "start_time": "2022-11-12T12:42:51.297Z"
   },
   {
    "duration": 17,
    "start_time": "2022-11-12T12:42:51.302Z"
   },
   {
    "duration": 11,
    "start_time": "2022-11-12T12:42:51.321Z"
   },
   {
    "duration": 22,
    "start_time": "2022-11-12T12:42:51.334Z"
   },
   {
    "duration": 15,
    "start_time": "2022-11-12T12:42:51.358Z"
   },
   {
    "duration": 28,
    "start_time": "2022-11-12T12:42:51.375Z"
   },
   {
    "duration": 19,
    "start_time": "2022-11-12T12:42:51.405Z"
   },
   {
    "duration": 7,
    "start_time": "2022-11-12T12:42:51.427Z"
   },
   {
    "duration": 145,
    "start_time": "2022-11-12T12:42:51.436Z"
   },
   {
    "duration": 17,
    "start_time": "2022-11-12T12:42:51.583Z"
   },
   {
    "duration": 35,
    "start_time": "2022-11-12T12:42:51.601Z"
   },
   {
    "duration": 8,
    "start_time": "2022-11-12T12:42:51.638Z"
   },
   {
    "duration": 8,
    "start_time": "2022-11-12T12:42:51.648Z"
   },
   {
    "duration": 19,
    "start_time": "2022-11-12T12:42:51.658Z"
   },
   {
    "duration": 28,
    "start_time": "2022-11-12T12:42:51.679Z"
   },
   {
    "duration": 9,
    "start_time": "2022-11-12T12:42:51.709Z"
   },
   {
    "duration": 19,
    "start_time": "2022-11-12T12:42:51.719Z"
   },
   {
    "duration": 14,
    "start_time": "2022-11-12T12:42:51.740Z"
   },
   {
    "duration": 24,
    "start_time": "2022-11-12T12:42:51.755Z"
   },
   {
    "duration": 100,
    "start_time": "2022-11-12T12:42:51.782Z"
   },
   {
    "duration": 98,
    "start_time": "2022-11-12T12:42:51.885Z"
   },
   {
    "duration": 10,
    "start_time": "2022-11-12T12:42:51.985Z"
   },
   {
    "duration": 7,
    "start_time": "2022-11-12T12:42:51.997Z"
   },
   {
    "duration": 4,
    "start_time": "2022-11-12T12:42:52.006Z"
   },
   {
    "duration": 5,
    "start_time": "2022-11-12T12:42:52.011Z"
   },
   {
    "duration": 12,
    "start_time": "2022-11-12T12:42:52.018Z"
   },
   {
    "duration": 10,
    "start_time": "2022-11-12T12:42:52.031Z"
   },
   {
    "duration": 20,
    "start_time": "2022-11-12T12:42:52.042Z"
   },
   {
    "duration": 21,
    "start_time": "2022-11-12T12:42:52.064Z"
   },
   {
    "duration": 13,
    "start_time": "2022-11-12T12:42:52.086Z"
   },
   {
    "duration": 82,
    "start_time": "2022-11-12T12:42:52.100Z"
   },
   {
    "duration": 107,
    "start_time": "2022-11-12T12:42:52.184Z"
   },
   {
    "duration": 18,
    "start_time": "2022-11-12T12:42:52.293Z"
   },
   {
    "duration": 8,
    "start_time": "2022-11-12T12:42:52.312Z"
   },
   {
    "duration": 5,
    "start_time": "2022-11-12T12:42:52.322Z"
   },
   {
    "duration": 20,
    "start_time": "2022-11-12T12:42:52.329Z"
   },
   {
    "duration": 6,
    "start_time": "2022-11-12T12:42:52.351Z"
   },
   {
    "duration": 8,
    "start_time": "2022-11-12T12:42:52.359Z"
   },
   {
    "duration": 41,
    "start_time": "2022-11-12T12:42:52.369Z"
   },
   {
    "duration": 147,
    "start_time": "2022-11-12T12:42:52.412Z"
   },
   {
    "duration": 21,
    "start_time": "2022-11-12T12:45:19.834Z"
   },
   {
    "duration": 22,
    "start_time": "2022-11-12T12:47:11.718Z"
   },
   {
    "duration": 2,
    "start_time": "2022-11-12T12:49:49.835Z"
   },
   {
    "duration": 23,
    "start_time": "2022-11-12T13:02:40.002Z"
   },
   {
    "duration": 16,
    "start_time": "2022-11-12T13:03:17.212Z"
   },
   {
    "duration": 29,
    "start_time": "2022-11-12T13:04:16.385Z"
   },
   {
    "duration": 16,
    "start_time": "2022-11-12T13:04:25.206Z"
   },
   {
    "duration": 17,
    "start_time": "2022-11-12T13:04:50.774Z"
   },
   {
    "duration": 18,
    "start_time": "2022-11-12T13:06:56.621Z"
   },
   {
    "duration": 14,
    "start_time": "2022-11-12T13:07:29.514Z"
   },
   {
    "duration": 13,
    "start_time": "2022-11-12T13:07:44.111Z"
   },
   {
    "duration": 12,
    "start_time": "2022-11-12T13:08:02.185Z"
   },
   {
    "duration": 22,
    "start_time": "2022-11-12T13:09:49.115Z"
   },
   {
    "duration": 14,
    "start_time": "2022-11-12T13:09:50.353Z"
   },
   {
    "duration": 110,
    "start_time": "2022-11-12T13:10:34.678Z"
   },
   {
    "duration": 761,
    "start_time": "2022-11-12T13:10:46.585Z"
   },
   {
    "duration": 21,
    "start_time": "2022-11-12T13:12:09.798Z"
   },
   {
    "duration": 16,
    "start_time": "2022-11-12T13:12:11.389Z"
   },
   {
    "duration": 15,
    "start_time": "2022-11-12T13:13:07.702Z"
   },
   {
    "duration": 41,
    "start_time": "2022-11-12T13:38:06.086Z"
   },
   {
    "duration": 0,
    "start_time": "2022-11-12T13:38:06.129Z"
   },
   {
    "duration": 0,
    "start_time": "2022-11-12T13:38:06.130Z"
   },
   {
    "duration": 0,
    "start_time": "2022-11-12T13:38:06.131Z"
   },
   {
    "duration": 0,
    "start_time": "2022-11-12T13:38:06.133Z"
   },
   {
    "duration": 0,
    "start_time": "2022-11-12T13:38:06.134Z"
   },
   {
    "duration": 0,
    "start_time": "2022-11-12T13:38:06.135Z"
   },
   {
    "duration": 0,
    "start_time": "2022-11-12T13:38:06.137Z"
   },
   {
    "duration": 18,
    "start_time": "2022-11-12T13:38:21.639Z"
   },
   {
    "duration": 13,
    "start_time": "2022-11-12T13:38:21.661Z"
   },
   {
    "duration": 34,
    "start_time": "2022-11-12T13:38:21.677Z"
   },
   {
    "duration": 43,
    "start_time": "2022-11-12T13:38:21.713Z"
   },
   {
    "duration": 36,
    "start_time": "2022-11-12T13:38:21.759Z"
   },
   {
    "duration": 23,
    "start_time": "2022-11-12T13:38:21.796Z"
   },
   {
    "duration": 29,
    "start_time": "2022-11-12T13:38:21.821Z"
   },
   {
    "duration": 6,
    "start_time": "2022-11-12T13:39:07.420Z"
   },
   {
    "duration": 5,
    "start_time": "2022-11-12T13:41:06.321Z"
   },
   {
    "duration": 6,
    "start_time": "2022-11-12T13:43:44.217Z"
   },
   {
    "duration": 6,
    "start_time": "2022-11-12T13:47:59.270Z"
   },
   {
    "duration": 43,
    "start_time": "2022-11-12T13:57:30.999Z"
   },
   {
    "duration": 3,
    "start_time": "2022-11-12T13:57:36.830Z"
   },
   {
    "duration": 5,
    "start_time": "2022-11-12T13:58:32.573Z"
   },
   {
    "duration": 14,
    "start_time": "2022-11-12T14:01:06.760Z"
   },
   {
    "duration": 4,
    "start_time": "2022-11-12T14:01:10.074Z"
   },
   {
    "duration": 12,
    "start_time": "2022-11-12T14:01:10.974Z"
   },
   {
    "duration": 5,
    "start_time": "2022-11-12T14:01:47.473Z"
   },
   {
    "duration": 9,
    "start_time": "2022-11-12T14:03:56.589Z"
   },
   {
    "duration": 4,
    "start_time": "2022-11-12T14:04:00.140Z"
   },
   {
    "duration": 13,
    "start_time": "2022-11-12T14:04:00.574Z"
   },
   {
    "duration": 5,
    "start_time": "2022-11-12T14:04:19.968Z"
   },
   {
    "duration": 5,
    "start_time": "2022-11-12T14:04:21.010Z"
   },
   {
    "duration": 13,
    "start_time": "2022-11-12T14:04:21.664Z"
   },
   {
    "duration": 4,
    "start_time": "2022-11-12T14:04:50.202Z"
   },
   {
    "duration": 5,
    "start_time": "2022-11-12T14:04:50.669Z"
   },
   {
    "duration": 3,
    "start_time": "2022-11-12T14:04:51.101Z"
   },
   {
    "duration": 4,
    "start_time": "2022-11-12T14:05:08.003Z"
   },
   {
    "duration": 6,
    "start_time": "2022-11-12T14:05:08.888Z"
   },
   {
    "duration": 4,
    "start_time": "2022-11-12T14:05:09.315Z"
   },
   {
    "duration": 4,
    "start_time": "2022-11-12T14:07:02.301Z"
   },
   {
    "duration": 5,
    "start_time": "2022-11-12T14:07:03.486Z"
   },
   {
    "duration": 5,
    "start_time": "2022-11-12T14:07:04.137Z"
   },
   {
    "duration": 4,
    "start_time": "2022-11-12T14:09:05.101Z"
   },
   {
    "duration": 1524,
    "start_time": "2022-11-12T19:12:51.951Z"
   },
   {
    "duration": 1443,
    "start_time": "2022-11-12T19:12:53.477Z"
   },
   {
    "duration": 15,
    "start_time": "2022-11-12T19:12:54.922Z"
   },
   {
    "duration": 14,
    "start_time": "2022-11-12T19:12:54.940Z"
   },
   {
    "duration": 9,
    "start_time": "2022-11-12T19:12:54.955Z"
   },
   {
    "duration": 21,
    "start_time": "2022-11-12T19:12:54.966Z"
   },
   {
    "duration": 9,
    "start_time": "2022-11-12T19:12:54.989Z"
   },
   {
    "duration": 16,
    "start_time": "2022-11-12T19:12:54.999Z"
   },
   {
    "duration": 63,
    "start_time": "2022-11-12T19:12:55.017Z"
   },
   {
    "duration": 40,
    "start_time": "2022-11-12T19:12:55.083Z"
   },
   {
    "duration": 64,
    "start_time": "2022-11-12T19:12:55.126Z"
   },
   {
    "duration": 21,
    "start_time": "2022-11-12T19:12:55.192Z"
   },
   {
    "duration": 21,
    "start_time": "2022-11-12T19:12:55.215Z"
   },
   {
    "duration": 26,
    "start_time": "2022-11-12T19:12:55.238Z"
   },
   {
    "duration": 45,
    "start_time": "2022-11-12T19:12:55.266Z"
   },
   {
    "duration": 28,
    "start_time": "2022-11-12T19:12:55.312Z"
   },
   {
    "duration": 53,
    "start_time": "2022-11-12T19:12:55.341Z"
   },
   {
    "duration": 309,
    "start_time": "2022-11-12T19:12:55.396Z"
   },
   {
    "duration": 258,
    "start_time": "2022-11-12T19:12:55.706Z"
   },
   {
    "duration": 395,
    "start_time": "2022-11-12T19:12:55.966Z"
   },
   {
    "duration": 2,
    "start_time": "2022-11-12T19:12:56.363Z"
   },
   {
    "duration": 13,
    "start_time": "2022-11-12T19:12:56.367Z"
   },
   {
    "duration": 117,
    "start_time": "2022-11-12T19:12:56.382Z"
   },
   {
    "duration": 0,
    "start_time": "2022-11-12T19:12:56.501Z"
   },
   {
    "duration": 0,
    "start_time": "2022-11-12T19:12:56.502Z"
   },
   {
    "duration": 0,
    "start_time": "2022-11-12T19:12:56.503Z"
   },
   {
    "duration": 2,
    "start_time": "2022-11-12T19:13:09.615Z"
   },
   {
    "duration": 9,
    "start_time": "2022-11-12T19:13:10.095Z"
   },
   {
    "duration": 5,
    "start_time": "2022-11-12T19:13:10.485Z"
   },
   {
    "duration": 13,
    "start_time": "2022-11-12T19:13:11.671Z"
   },
   {
    "duration": 16,
    "start_time": "2022-11-12T19:13:12.114Z"
   },
   {
    "duration": 7,
    "start_time": "2022-11-12T19:13:13.181Z"
   },
   {
    "duration": 7,
    "start_time": "2022-11-12T19:13:15.350Z"
   },
   {
    "duration": 5,
    "start_time": "2022-11-12T19:13:17.100Z"
   },
   {
    "duration": 4,
    "start_time": "2022-11-12T19:13:20.636Z"
   },
   {
    "duration": 4,
    "start_time": "2022-11-12T19:13:22.979Z"
   },
   {
    "duration": 972,
    "start_time": "2022-11-12T19:23:06.678Z"
   },
   {
    "duration": 4,
    "start_time": "2022-11-12T19:23:18.842Z"
   },
   {
    "duration": 1900,
    "start_time": "2022-11-12T19:23:23.890Z"
   },
   {
    "duration": 9,
    "start_time": "2022-11-12T19:24:31.114Z"
   },
   {
    "duration": 764,
    "start_time": "2022-11-12T19:25:02.846Z"
   },
   {
    "duration": 1523,
    "start_time": "2022-11-12T19:25:15.386Z"
   },
   {
    "duration": 401,
    "start_time": "2022-11-12T19:25:16.911Z"
   },
   {
    "duration": 13,
    "start_time": "2022-11-12T19:25:17.314Z"
   },
   {
    "duration": 22,
    "start_time": "2022-11-12T19:25:17.330Z"
   },
   {
    "duration": 32,
    "start_time": "2022-11-12T19:25:17.355Z"
   },
   {
    "duration": 32,
    "start_time": "2022-11-12T19:25:17.389Z"
   },
   {
    "duration": 11,
    "start_time": "2022-11-12T19:25:17.422Z"
   },
   {
    "duration": 28,
    "start_time": "2022-11-12T19:25:17.435Z"
   },
   {
    "duration": 54,
    "start_time": "2022-11-12T19:25:17.465Z"
   },
   {
    "duration": 58,
    "start_time": "2022-11-12T19:25:17.523Z"
   },
   {
    "duration": 50,
    "start_time": "2022-11-12T19:25:17.584Z"
   },
   {
    "duration": 18,
    "start_time": "2022-11-12T19:25:17.635Z"
   },
   {
    "duration": 50,
    "start_time": "2022-11-12T19:25:17.655Z"
   },
   {
    "duration": 27,
    "start_time": "2022-11-12T19:25:17.707Z"
   },
   {
    "duration": 39,
    "start_time": "2022-11-12T19:25:17.736Z"
   },
   {
    "duration": 29,
    "start_time": "2022-11-12T19:25:17.777Z"
   },
   {
    "duration": 38,
    "start_time": "2022-11-12T19:25:17.808Z"
   },
   {
    "duration": 293,
    "start_time": "2022-11-12T19:25:17.848Z"
   },
   {
    "duration": 210,
    "start_time": "2022-11-12T19:25:18.142Z"
   },
   {
    "duration": 374,
    "start_time": "2022-11-12T19:25:18.353Z"
   },
   {
    "duration": 2,
    "start_time": "2022-11-12T19:25:18.729Z"
   },
   {
    "duration": 12,
    "start_time": "2022-11-12T19:25:18.733Z"
   },
   {
    "duration": 27,
    "start_time": "2022-11-12T19:25:18.747Z"
   },
   {
    "duration": 33,
    "start_time": "2022-11-12T19:25:18.776Z"
   },
   {
    "duration": 18,
    "start_time": "2022-11-12T19:25:18.811Z"
   },
   {
    "duration": 19,
    "start_time": "2022-11-12T19:25:18.831Z"
   },
   {
    "duration": 18,
    "start_time": "2022-11-12T19:25:18.852Z"
   },
   {
    "duration": 106,
    "start_time": "2022-11-12T19:25:18.874Z"
   },
   {
    "duration": 106,
    "start_time": "2022-11-12T19:25:18.983Z"
   },
   {
    "duration": 13,
    "start_time": "2022-11-12T19:25:19.091Z"
   },
   {
    "duration": 12,
    "start_time": "2022-11-12T19:25:19.106Z"
   },
   {
    "duration": 15,
    "start_time": "2022-11-12T19:25:19.120Z"
   },
   {
    "duration": 12,
    "start_time": "2022-11-12T19:25:19.137Z"
   },
   {
    "duration": 22,
    "start_time": "2022-11-12T19:25:19.151Z"
   },
   {
    "duration": 26,
    "start_time": "2022-11-12T19:25:19.175Z"
   },
   {
    "duration": 23,
    "start_time": "2022-11-12T19:25:19.203Z"
   },
   {
    "duration": 23,
    "start_time": "2022-11-12T19:25:19.228Z"
   },
   {
    "duration": 25,
    "start_time": "2022-11-12T19:25:19.253Z"
   },
   {
    "duration": 36,
    "start_time": "2022-11-12T19:25:19.280Z"
   },
   {
    "duration": 110,
    "start_time": "2022-11-12T19:25:19.379Z"
   },
   {
    "duration": 12,
    "start_time": "2022-11-12T19:25:19.490Z"
   },
   {
    "duration": 12,
    "start_time": "2022-11-12T19:25:19.503Z"
   },
   {
    "duration": 8,
    "start_time": "2022-11-12T19:25:19.517Z"
   },
   {
    "duration": 8,
    "start_time": "2022-11-12T19:25:19.526Z"
   },
   {
    "duration": 9,
    "start_time": "2022-11-12T19:25:19.536Z"
   },
   {
    "duration": 17,
    "start_time": "2022-11-12T19:25:19.547Z"
   },
   {
    "duration": 10,
    "start_time": "2022-11-12T19:25:19.567Z"
   },
   {
    "duration": 26,
    "start_time": "2022-11-12T19:25:19.579Z"
   },
   {
    "duration": 18,
    "start_time": "2022-11-12T19:25:19.607Z"
   },
   {
    "duration": 56,
    "start_time": "2022-11-12T19:25:19.627Z"
   },
   {
    "duration": 96,
    "start_time": "2022-11-12T19:25:19.685Z"
   },
   {
    "duration": 20,
    "start_time": "2022-11-12T19:25:19.783Z"
   },
   {
    "duration": 19,
    "start_time": "2022-11-12T19:25:19.805Z"
   },
   {
    "duration": 17,
    "start_time": "2022-11-12T19:25:19.826Z"
   },
   {
    "duration": 11,
    "start_time": "2022-11-12T19:25:19.844Z"
   },
   {
    "duration": 25,
    "start_time": "2022-11-12T19:25:19.857Z"
   },
   {
    "duration": 18,
    "start_time": "2022-11-12T19:25:19.884Z"
   },
   {
    "duration": 38,
    "start_time": "2022-11-12T19:25:19.904Z"
   },
   {
    "duration": 24,
    "start_time": "2022-11-12T19:25:19.943Z"
   },
   {
    "duration": 52,
    "start_time": "2022-11-12T19:25:19.969Z"
   },
   {
    "duration": 0,
    "start_time": "2022-11-12T19:25:20.023Z"
   },
   {
    "duration": 0,
    "start_time": "2022-11-12T19:25:20.025Z"
   },
   {
    "duration": 0,
    "start_time": "2022-11-12T19:25:20.027Z"
   },
   {
    "duration": 0,
    "start_time": "2022-11-12T19:25:20.028Z"
   },
   {
    "duration": 0,
    "start_time": "2022-11-12T19:25:20.030Z"
   },
   {
    "duration": 0,
    "start_time": "2022-11-12T19:25:20.031Z"
   },
   {
    "duration": 0,
    "start_time": "2022-11-12T19:25:20.032Z"
   },
   {
    "duration": 0,
    "start_time": "2022-11-12T19:25:20.034Z"
   },
   {
    "duration": 0,
    "start_time": "2022-11-12T19:25:20.035Z"
   },
   {
    "duration": 0,
    "start_time": "2022-11-12T19:25:20.036Z"
   },
   {
    "duration": 0,
    "start_time": "2022-11-12T19:25:20.038Z"
   },
   {
    "duration": 0,
    "start_time": "2022-11-12T19:25:20.039Z"
   },
   {
    "duration": 0,
    "start_time": "2022-11-12T19:25:20.041Z"
   },
   {
    "duration": 30,
    "start_time": "2022-11-12T19:25:37.380Z"
   },
   {
    "duration": 31,
    "start_time": "2022-11-12T19:25:37.413Z"
   },
   {
    "duration": 44,
    "start_time": "2022-11-12T19:25:37.447Z"
   },
   {
    "duration": 21,
    "start_time": "2022-11-12T19:25:37.493Z"
   },
   {
    "duration": 18,
    "start_time": "2022-11-12T19:25:37.517Z"
   },
   {
    "duration": 47,
    "start_time": "2022-11-12T19:25:37.537Z"
   },
   {
    "duration": 14,
    "start_time": "2022-11-12T19:25:37.586Z"
   },
   {
    "duration": 15,
    "start_time": "2022-11-12T19:25:37.602Z"
   },
   {
    "duration": 10,
    "start_time": "2022-11-12T19:25:37.619Z"
   },
   {
    "duration": 14,
    "start_time": "2022-11-12T19:25:37.631Z"
   },
   {
    "duration": 10,
    "start_time": "2022-11-12T19:25:37.647Z"
   },
   {
    "duration": 45,
    "start_time": "2022-11-12T19:25:37.658Z"
   },
   {
    "duration": 0,
    "start_time": "2022-11-12T19:25:37.705Z"
   },
   {
    "duration": 109,
    "start_time": "2022-11-12T19:25:58.416Z"
   },
   {
    "duration": 9,
    "start_time": "2022-11-12T19:26:15.425Z"
   },
   {
    "duration": 10,
    "start_time": "2022-11-12T19:27:07.834Z"
   },
   {
    "duration": 4,
    "start_time": "2022-11-12T19:31:43.737Z"
   },
   {
    "duration": 9,
    "start_time": "2022-11-12T19:32:29.372Z"
   },
   {
    "duration": 55,
    "start_time": "2022-11-12T19:39:38.156Z"
   },
   {
    "duration": 46,
    "start_time": "2022-11-12T19:39:53.666Z"
   },
   {
    "duration": 45,
    "start_time": "2022-11-12T19:40:37.102Z"
   },
   {
    "duration": 9,
    "start_time": "2022-11-12T19:40:47.887Z"
   },
   {
    "duration": 10,
    "start_time": "2022-11-12T19:41:33.901Z"
   },
   {
    "duration": 10,
    "start_time": "2022-11-12T19:41:44.201Z"
   },
   {
    "duration": 10,
    "start_time": "2022-11-12T19:42:18.849Z"
   },
   {
    "duration": 46,
    "start_time": "2022-11-12T19:45:05.692Z"
   },
   {
    "duration": 1370,
    "start_time": "2022-11-12T19:45:27.782Z"
   },
   {
    "duration": 408,
    "start_time": "2022-11-12T19:45:29.154Z"
   },
   {
    "duration": 18,
    "start_time": "2022-11-12T19:45:29.564Z"
   },
   {
    "duration": 27,
    "start_time": "2022-11-12T19:45:29.584Z"
   },
   {
    "duration": 13,
    "start_time": "2022-11-12T19:45:29.612Z"
   },
   {
    "duration": 27,
    "start_time": "2022-11-12T19:45:29.627Z"
   },
   {
    "duration": 10,
    "start_time": "2022-11-12T19:45:29.656Z"
   },
   {
    "duration": 26,
    "start_time": "2022-11-12T19:45:29.667Z"
   },
   {
    "duration": 49,
    "start_time": "2022-11-12T19:45:29.695Z"
   },
   {
    "duration": 68,
    "start_time": "2022-11-12T19:45:29.746Z"
   },
   {
    "duration": 64,
    "start_time": "2022-11-12T19:45:29.815Z"
   },
   {
    "duration": 19,
    "start_time": "2022-11-12T19:45:29.881Z"
   },
   {
    "duration": 50,
    "start_time": "2022-11-12T19:45:29.902Z"
   },
   {
    "duration": 47,
    "start_time": "2022-11-12T19:45:29.954Z"
   },
   {
    "duration": 70,
    "start_time": "2022-11-12T19:45:30.003Z"
   },
   {
    "duration": 40,
    "start_time": "2022-11-12T19:45:30.074Z"
   },
   {
    "duration": 42,
    "start_time": "2022-11-12T19:45:30.116Z"
   },
   {
    "duration": 369,
    "start_time": "2022-11-12T19:45:30.160Z"
   },
   {
    "duration": 243,
    "start_time": "2022-11-12T19:45:30.531Z"
   },
   {
    "duration": 390,
    "start_time": "2022-11-12T19:45:30.775Z"
   },
   {
    "duration": 2,
    "start_time": "2022-11-12T19:45:31.167Z"
   },
   {
    "duration": 41,
    "start_time": "2022-11-12T19:45:31.171Z"
   },
   {
    "duration": 56,
    "start_time": "2022-11-12T19:45:31.215Z"
   },
   {
    "duration": 51,
    "start_time": "2022-11-12T19:45:31.273Z"
   },
   {
    "duration": 21,
    "start_time": "2022-11-12T19:45:31.325Z"
   },
   {
    "duration": 43,
    "start_time": "2022-11-12T19:45:31.347Z"
   },
   {
    "duration": 43,
    "start_time": "2022-11-12T19:45:31.392Z"
   },
   {
    "duration": 26,
    "start_time": "2022-11-12T19:45:31.439Z"
   },
   {
    "duration": 115,
    "start_time": "2022-11-12T19:45:31.468Z"
   },
   {
    "duration": 30,
    "start_time": "2022-11-12T19:45:31.585Z"
   },
   {
    "duration": 42,
    "start_time": "2022-11-12T19:45:31.618Z"
   },
   {
    "duration": 21,
    "start_time": "2022-11-12T19:45:31.662Z"
   },
   {
    "duration": 18,
    "start_time": "2022-11-12T19:45:31.684Z"
   },
   {
    "duration": 18,
    "start_time": "2022-11-12T19:45:31.703Z"
   },
   {
    "duration": 32,
    "start_time": "2022-11-12T19:45:31.723Z"
   },
   {
    "duration": 25,
    "start_time": "2022-11-12T19:45:31.756Z"
   },
   {
    "duration": 42,
    "start_time": "2022-11-12T19:45:31.783Z"
   },
   {
    "duration": 26,
    "start_time": "2022-11-12T19:45:31.827Z"
   },
   {
    "duration": 34,
    "start_time": "2022-11-12T19:45:31.855Z"
   },
   {
    "duration": 97,
    "start_time": "2022-11-12T19:45:31.892Z"
   },
   {
    "duration": 90,
    "start_time": "2022-11-12T19:45:31.990Z"
   },
   {
    "duration": 10,
    "start_time": "2022-11-12T19:45:32.082Z"
   },
   {
    "duration": 52,
    "start_time": "2022-11-12T19:45:32.093Z"
   },
   {
    "duration": 38,
    "start_time": "2022-11-12T19:45:32.147Z"
   },
   {
    "duration": 30,
    "start_time": "2022-11-12T19:45:32.187Z"
   },
   {
    "duration": 29,
    "start_time": "2022-11-12T19:45:32.220Z"
   },
   {
    "duration": 47,
    "start_time": "2022-11-12T19:45:32.251Z"
   },
   {
    "duration": 57,
    "start_time": "2022-11-12T19:45:32.300Z"
   },
   {
    "duration": 25,
    "start_time": "2022-11-12T19:45:32.359Z"
   },
   {
    "duration": 33,
    "start_time": "2022-11-12T19:45:32.386Z"
   },
   {
    "duration": 61,
    "start_time": "2022-11-12T19:45:32.421Z"
   },
   {
    "duration": 103,
    "start_time": "2022-11-12T19:45:32.484Z"
   },
   {
    "duration": 49,
    "start_time": "2022-11-12T19:45:32.589Z"
   },
   {
    "duration": 18,
    "start_time": "2022-11-12T19:45:32.640Z"
   },
   {
    "duration": 36,
    "start_time": "2022-11-12T19:45:32.660Z"
   },
   {
    "duration": 27,
    "start_time": "2022-11-12T19:45:32.698Z"
   },
   {
    "duration": 22,
    "start_time": "2022-11-12T19:45:32.727Z"
   },
   {
    "duration": 57,
    "start_time": "2022-11-12T19:45:32.751Z"
   },
   {
    "duration": 22,
    "start_time": "2022-11-12T19:45:32.811Z"
   },
   {
    "duration": 50,
    "start_time": "2022-11-12T19:45:32.835Z"
   },
   {
    "duration": 41,
    "start_time": "2022-11-12T19:45:32.888Z"
   },
   {
    "duration": 0,
    "start_time": "2022-11-12T19:45:32.931Z"
   },
   {
    "duration": 0,
    "start_time": "2022-11-12T19:45:32.932Z"
   },
   {
    "duration": 0,
    "start_time": "2022-11-12T19:45:32.934Z"
   },
   {
    "duration": 0,
    "start_time": "2022-11-12T19:45:32.935Z"
   },
   {
    "duration": 0,
    "start_time": "2022-11-12T19:45:32.937Z"
   },
   {
    "duration": 0,
    "start_time": "2022-11-12T19:45:32.938Z"
   },
   {
    "duration": 0,
    "start_time": "2022-11-12T19:45:32.940Z"
   },
   {
    "duration": 0,
    "start_time": "2022-11-12T19:45:32.942Z"
   },
   {
    "duration": 0,
    "start_time": "2022-11-12T19:45:32.943Z"
   },
   {
    "duration": 0,
    "start_time": "2022-11-12T19:45:32.945Z"
   },
   {
    "duration": 0,
    "start_time": "2022-11-12T19:45:32.946Z"
   },
   {
    "duration": 0,
    "start_time": "2022-11-12T19:45:32.947Z"
   },
   {
    "duration": 0,
    "start_time": "2022-11-12T19:45:32.949Z"
   },
   {
    "duration": 0,
    "start_time": "2022-11-12T19:45:32.950Z"
   },
   {
    "duration": 6,
    "start_time": "2022-11-12T19:46:07.797Z"
   },
   {
    "duration": 4,
    "start_time": "2022-11-12T19:48:15.720Z"
   },
   {
    "duration": 4,
    "start_time": "2022-11-12T19:48:25.382Z"
   },
   {
    "duration": 4,
    "start_time": "2022-11-12T19:48:29.385Z"
   },
   {
    "duration": 8,
    "start_time": "2022-11-12T19:51:50.403Z"
   },
   {
    "duration": 4,
    "start_time": "2022-11-12T19:56:41.828Z"
   },
   {
    "duration": 10,
    "start_time": "2022-11-12T19:57:34.188Z"
   },
   {
    "duration": 5,
    "start_time": "2022-11-12T19:57:34.966Z"
   },
   {
    "duration": 12,
    "start_time": "2022-11-12T19:58:00.705Z"
   },
   {
    "duration": 4,
    "start_time": "2022-11-12T19:58:01.207Z"
   },
   {
    "duration": 13,
    "start_time": "2022-11-12T20:00:08.964Z"
   },
   {
    "duration": 49,
    "start_time": "2022-11-12T20:01:16.209Z"
   },
   {
    "duration": 14,
    "start_time": "2022-11-12T20:01:27.426Z"
   },
   {
    "duration": 14,
    "start_time": "2022-11-12T20:01:36.758Z"
   },
   {
    "duration": 15,
    "start_time": "2022-11-12T20:02:02.216Z"
   },
   {
    "duration": 29,
    "start_time": "2022-11-12T20:02:17.326Z"
   },
   {
    "duration": 863,
    "start_time": "2022-11-12T20:03:28.760Z"
   },
   {
    "duration": 3,
    "start_time": "2022-11-12T20:05:24.573Z"
   },
   {
    "duration": 4,
    "start_time": "2022-11-12T20:05:24.871Z"
   },
   {
    "duration": 4,
    "start_time": "2022-11-12T20:05:25.196Z"
   },
   {
    "duration": 27,
    "start_time": "2022-11-12T20:05:25.977Z"
   },
   {
    "duration": 4,
    "start_time": "2022-11-12T20:05:26.286Z"
   },
   {
    "duration": 14,
    "start_time": "2022-11-12T20:05:27.558Z"
   },
   {
    "duration": 3,
    "start_time": "2022-11-12T20:07:08.031Z"
   },
   {
    "duration": 1605,
    "start_time": "2022-11-12T20:07:48.806Z"
   },
   {
    "duration": 409,
    "start_time": "2022-11-12T20:07:50.413Z"
   },
   {
    "duration": 17,
    "start_time": "2022-11-12T20:07:50.824Z"
   },
   {
    "duration": 15,
    "start_time": "2022-11-12T20:07:50.843Z"
   },
   {
    "duration": 39,
    "start_time": "2022-11-12T20:07:50.859Z"
   },
   {
    "duration": 37,
    "start_time": "2022-11-12T20:07:50.900Z"
   },
   {
    "duration": 23,
    "start_time": "2022-11-12T20:07:50.939Z"
   },
   {
    "duration": 26,
    "start_time": "2022-11-12T20:07:50.965Z"
   },
   {
    "duration": 58,
    "start_time": "2022-11-12T20:07:50.993Z"
   },
   {
    "duration": 73,
    "start_time": "2022-11-12T20:07:51.055Z"
   },
   {
    "duration": 66,
    "start_time": "2022-11-12T20:07:51.130Z"
   },
   {
    "duration": 19,
    "start_time": "2022-11-12T20:07:51.198Z"
   },
   {
    "duration": 40,
    "start_time": "2022-11-12T20:07:51.219Z"
   },
   {
    "duration": 31,
    "start_time": "2022-11-12T20:07:51.261Z"
   },
   {
    "duration": 36,
    "start_time": "2022-11-12T20:07:51.294Z"
   },
   {
    "duration": 28,
    "start_time": "2022-11-12T20:07:51.332Z"
   },
   {
    "duration": 43,
    "start_time": "2022-11-12T20:07:51.362Z"
   },
   {
    "duration": 315,
    "start_time": "2022-11-12T20:07:51.407Z"
   },
   {
    "duration": 209,
    "start_time": "2022-11-12T20:07:51.725Z"
   },
   {
    "duration": 364,
    "start_time": "2022-11-12T20:07:51.936Z"
   },
   {
    "duration": 3,
    "start_time": "2022-11-12T20:07:52.301Z"
   },
   {
    "duration": 14,
    "start_time": "2022-11-12T20:07:52.306Z"
   },
   {
    "duration": 12,
    "start_time": "2022-11-12T20:07:52.322Z"
   },
   {
    "duration": 18,
    "start_time": "2022-11-12T20:07:52.336Z"
   },
   {
    "duration": 14,
    "start_time": "2022-11-12T20:07:52.356Z"
   },
   {
    "duration": 38,
    "start_time": "2022-11-12T20:07:52.372Z"
   },
   {
    "duration": 19,
    "start_time": "2022-11-12T20:07:52.416Z"
   },
   {
    "duration": 40,
    "start_time": "2022-11-12T20:07:52.443Z"
   },
   {
    "duration": 111,
    "start_time": "2022-11-12T20:07:52.486Z"
   },
   {
    "duration": 83,
    "start_time": "2022-11-12T20:07:52.599Z"
   },
   {
    "duration": 14,
    "start_time": "2022-11-12T20:07:52.684Z"
   },
   {
    "duration": 13,
    "start_time": "2022-11-12T20:07:52.700Z"
   },
   {
    "duration": 8,
    "start_time": "2022-11-12T20:07:52.715Z"
   },
   {
    "duration": 8,
    "start_time": "2022-11-12T20:07:52.725Z"
   },
   {
    "duration": 25,
    "start_time": "2022-11-12T20:07:52.735Z"
   },
   {
    "duration": 27,
    "start_time": "2022-11-12T20:07:52.768Z"
   },
   {
    "duration": 23,
    "start_time": "2022-11-12T20:07:52.797Z"
   },
   {
    "duration": 14,
    "start_time": "2022-11-12T20:07:52.822Z"
   },
   {
    "duration": 44,
    "start_time": "2022-11-12T20:07:52.838Z"
   },
   {
    "duration": 104,
    "start_time": "2022-11-12T20:07:52.885Z"
   },
   {
    "duration": 8,
    "start_time": "2022-11-12T20:07:52.991Z"
   },
   {
    "duration": 8,
    "start_time": "2022-11-12T20:07:53.001Z"
   },
   {
    "duration": 8,
    "start_time": "2022-11-12T20:07:53.011Z"
   },
   {
    "duration": 6,
    "start_time": "2022-11-12T20:07:53.020Z"
   },
   {
    "duration": 5,
    "start_time": "2022-11-12T20:07:53.028Z"
   },
   {
    "duration": 13,
    "start_time": "2022-11-12T20:07:53.035Z"
   },
   {
    "duration": 9,
    "start_time": "2022-11-12T20:07:53.050Z"
   },
   {
    "duration": 26,
    "start_time": "2022-11-12T20:07:53.061Z"
   },
   {
    "duration": 116,
    "start_time": "2022-11-12T20:07:53.088Z"
   },
   {
    "duration": 0,
    "start_time": "2022-11-12T20:07:53.207Z"
   },
   {
    "duration": 0,
    "start_time": "2022-11-12T20:07:53.209Z"
   },
   {
    "duration": 0,
    "start_time": "2022-11-12T20:07:53.210Z"
   },
   {
    "duration": 0,
    "start_time": "2022-11-12T20:07:53.212Z"
   },
   {
    "duration": 0,
    "start_time": "2022-11-12T20:07:53.213Z"
   },
   {
    "duration": 0,
    "start_time": "2022-11-12T20:07:53.215Z"
   },
   {
    "duration": 0,
    "start_time": "2022-11-12T20:07:53.217Z"
   },
   {
    "duration": 0,
    "start_time": "2022-11-12T20:07:53.219Z"
   },
   {
    "duration": 0,
    "start_time": "2022-11-12T20:07:53.220Z"
   },
   {
    "duration": 0,
    "start_time": "2022-11-12T20:07:53.223Z"
   },
   {
    "duration": 1,
    "start_time": "2022-11-12T20:07:53.224Z"
   },
   {
    "duration": 0,
    "start_time": "2022-11-12T20:07:53.226Z"
   },
   {
    "duration": 0,
    "start_time": "2022-11-12T20:07:53.227Z"
   },
   {
    "duration": 0,
    "start_time": "2022-11-12T20:07:53.229Z"
   },
   {
    "duration": 0,
    "start_time": "2022-11-12T20:07:53.231Z"
   },
   {
    "duration": 0,
    "start_time": "2022-11-12T20:07:53.233Z"
   },
   {
    "duration": 0,
    "start_time": "2022-11-12T20:07:53.234Z"
   },
   {
    "duration": 0,
    "start_time": "2022-11-12T20:07:53.236Z"
   },
   {
    "duration": 0,
    "start_time": "2022-11-12T20:07:53.280Z"
   },
   {
    "duration": 0,
    "start_time": "2022-11-12T20:07:53.282Z"
   },
   {
    "duration": 0,
    "start_time": "2022-11-12T20:07:53.283Z"
   },
   {
    "duration": 0,
    "start_time": "2022-11-12T20:07:53.285Z"
   },
   {
    "duration": 0,
    "start_time": "2022-11-12T20:07:53.286Z"
   },
   {
    "duration": 0,
    "start_time": "2022-11-12T20:07:53.288Z"
   },
   {
    "duration": 0,
    "start_time": "2022-11-12T20:07:53.289Z"
   },
   {
    "duration": 0,
    "start_time": "2022-11-12T20:07:53.291Z"
   },
   {
    "duration": 0,
    "start_time": "2022-11-12T20:07:53.292Z"
   },
   {
    "duration": 1366,
    "start_time": "2022-11-12T20:09:32.970Z"
   },
   {
    "duration": 380,
    "start_time": "2022-11-12T20:09:34.338Z"
   },
   {
    "duration": 13,
    "start_time": "2022-11-12T20:09:34.720Z"
   },
   {
    "duration": 14,
    "start_time": "2022-11-12T20:09:34.735Z"
   },
   {
    "duration": 9,
    "start_time": "2022-11-12T20:09:34.751Z"
   },
   {
    "duration": 15,
    "start_time": "2022-11-12T20:09:34.782Z"
   },
   {
    "duration": 9,
    "start_time": "2022-11-12T20:09:34.798Z"
   },
   {
    "duration": 19,
    "start_time": "2022-11-12T20:09:34.809Z"
   },
   {
    "duration": 66,
    "start_time": "2022-11-12T20:09:34.830Z"
   },
   {
    "duration": 41,
    "start_time": "2022-11-12T20:09:34.898Z"
   },
   {
    "duration": 75,
    "start_time": "2022-11-12T20:09:34.941Z"
   },
   {
    "duration": 19,
    "start_time": "2022-11-12T20:09:35.018Z"
   },
   {
    "duration": 40,
    "start_time": "2022-11-12T20:09:35.039Z"
   },
   {
    "duration": 17,
    "start_time": "2022-11-12T20:09:35.081Z"
   },
   {
    "duration": 34,
    "start_time": "2022-11-12T20:09:35.100Z"
   },
   {
    "duration": 25,
    "start_time": "2022-11-12T20:09:35.136Z"
   },
   {
    "duration": 27,
    "start_time": "2022-11-12T20:09:35.180Z"
   },
   {
    "duration": 324,
    "start_time": "2022-11-12T20:09:35.209Z"
   },
   {
    "duration": 214,
    "start_time": "2022-11-12T20:09:35.535Z"
   },
   {
    "duration": 346,
    "start_time": "2022-11-12T20:09:35.751Z"
   },
   {
    "duration": 3,
    "start_time": "2022-11-12T20:09:36.099Z"
   },
   {
    "duration": 10,
    "start_time": "2022-11-12T20:09:36.104Z"
   },
   {
    "duration": 14,
    "start_time": "2022-11-12T20:09:36.115Z"
   },
   {
    "duration": 29,
    "start_time": "2022-11-12T20:09:36.131Z"
   },
   {
    "duration": 25,
    "start_time": "2022-11-12T20:09:36.161Z"
   },
   {
    "duration": 27,
    "start_time": "2022-11-12T20:09:36.188Z"
   },
   {
    "duration": 18,
    "start_time": "2022-11-12T20:09:36.218Z"
   },
   {
    "duration": 37,
    "start_time": "2022-11-12T20:09:36.242Z"
   },
   {
    "duration": 100,
    "start_time": "2022-11-12T20:09:36.281Z"
   },
   {
    "duration": 13,
    "start_time": "2022-11-12T20:09:36.383Z"
   },
   {
    "duration": 19,
    "start_time": "2022-11-12T20:09:36.397Z"
   },
   {
    "duration": 18,
    "start_time": "2022-11-12T20:09:36.417Z"
   },
   {
    "duration": 10,
    "start_time": "2022-11-12T20:09:36.436Z"
   },
   {
    "duration": 15,
    "start_time": "2022-11-12T20:09:36.448Z"
   },
   {
    "duration": 19,
    "start_time": "2022-11-12T20:09:36.465Z"
   },
   {
    "duration": 10,
    "start_time": "2022-11-12T20:09:36.486Z"
   },
   {
    "duration": 33,
    "start_time": "2022-11-12T20:09:36.498Z"
   },
   {
    "duration": 20,
    "start_time": "2022-11-12T20:09:36.532Z"
   },
   {
    "duration": 26,
    "start_time": "2022-11-12T20:09:36.554Z"
   },
   {
    "duration": 4,
    "start_time": "2022-11-12T20:09:36.583Z"
   },
   {
    "duration": 122,
    "start_time": "2022-11-12T20:09:36.589Z"
   },
   {
    "duration": 23,
    "start_time": "2022-11-12T20:09:36.713Z"
   },
   {
    "duration": 41,
    "start_time": "2022-11-12T20:09:36.738Z"
   },
   {
    "duration": 3,
    "start_time": "2022-11-12T20:09:36.782Z"
   },
   {
    "duration": 19,
    "start_time": "2022-11-12T20:09:36.787Z"
   },
   {
    "duration": 16,
    "start_time": "2022-11-12T20:09:36.809Z"
   },
   {
    "duration": 12,
    "start_time": "2022-11-12T20:09:36.826Z"
   },
   {
    "duration": 23,
    "start_time": "2022-11-12T20:09:36.840Z"
   },
   {
    "duration": 128,
    "start_time": "2022-11-12T20:09:36.866Z"
   },
   {
    "duration": 0,
    "start_time": "2022-11-12T20:09:36.997Z"
   },
   {
    "duration": 0,
    "start_time": "2022-11-12T20:09:36.998Z"
   },
   {
    "duration": 0,
    "start_time": "2022-11-12T20:09:37.000Z"
   },
   {
    "duration": 0,
    "start_time": "2022-11-12T20:09:37.001Z"
   },
   {
    "duration": 0,
    "start_time": "2022-11-12T20:09:37.002Z"
   },
   {
    "duration": 0,
    "start_time": "2022-11-12T20:09:37.004Z"
   },
   {
    "duration": 0,
    "start_time": "2022-11-12T20:09:37.006Z"
   },
   {
    "duration": 0,
    "start_time": "2022-11-12T20:09:37.007Z"
   },
   {
    "duration": 0,
    "start_time": "2022-11-12T20:09:37.009Z"
   },
   {
    "duration": 0,
    "start_time": "2022-11-12T20:09:37.011Z"
   },
   {
    "duration": 0,
    "start_time": "2022-11-12T20:09:37.012Z"
   },
   {
    "duration": 0,
    "start_time": "2022-11-12T20:09:37.014Z"
   },
   {
    "duration": 0,
    "start_time": "2022-11-12T20:09:37.016Z"
   },
   {
    "duration": 0,
    "start_time": "2022-11-12T20:09:37.017Z"
   },
   {
    "duration": 0,
    "start_time": "2022-11-12T20:09:37.019Z"
   },
   {
    "duration": 0,
    "start_time": "2022-11-12T20:09:37.020Z"
   },
   {
    "duration": 0,
    "start_time": "2022-11-12T20:09:37.022Z"
   },
   {
    "duration": 0,
    "start_time": "2022-11-12T20:09:37.025Z"
   },
   {
    "duration": 0,
    "start_time": "2022-11-12T20:09:37.026Z"
   },
   {
    "duration": 0,
    "start_time": "2022-11-12T20:09:37.027Z"
   },
   {
    "duration": 0,
    "start_time": "2022-11-12T20:09:37.028Z"
   },
   {
    "duration": 0,
    "start_time": "2022-11-12T20:09:37.080Z"
   },
   {
    "duration": 0,
    "start_time": "2022-11-12T20:09:37.081Z"
   },
   {
    "duration": 0,
    "start_time": "2022-11-12T20:09:37.082Z"
   },
   {
    "duration": 0,
    "start_time": "2022-11-12T20:09:37.084Z"
   },
   {
    "duration": 0,
    "start_time": "2022-11-12T20:09:37.085Z"
   },
   {
    "duration": 0,
    "start_time": "2022-11-12T20:09:37.086Z"
   },
   {
    "duration": 6,
    "start_time": "2022-11-12T20:13:28.531Z"
   },
   {
    "duration": 19,
    "start_time": "2022-11-12T20:13:28.539Z"
   },
   {
    "duration": 14,
    "start_time": "2022-11-12T20:13:28.561Z"
   },
   {
    "duration": 0,
    "start_time": "2022-11-12T20:13:28.577Z"
   },
   {
    "duration": 0,
    "start_time": "2022-11-12T20:13:28.578Z"
   },
   {
    "duration": 0,
    "start_time": "2022-11-12T20:13:28.579Z"
   },
   {
    "duration": 0,
    "start_time": "2022-11-12T20:13:28.580Z"
   },
   {
    "duration": 18,
    "start_time": "2022-11-12T20:13:28.582Z"
   },
   {
    "duration": 0,
    "start_time": "2022-11-12T20:13:28.602Z"
   },
   {
    "duration": 0,
    "start_time": "2022-11-12T20:13:28.603Z"
   },
   {
    "duration": 0,
    "start_time": "2022-11-12T20:13:28.605Z"
   },
   {
    "duration": 21,
    "start_time": "2022-11-12T20:13:28.607Z"
   },
   {
    "duration": 0,
    "start_time": "2022-11-12T20:13:28.632Z"
   },
   {
    "duration": 0,
    "start_time": "2022-11-12T20:13:28.636Z"
   },
   {
    "duration": 0,
    "start_time": "2022-11-12T20:13:28.637Z"
   },
   {
    "duration": 0,
    "start_time": "2022-11-12T20:13:28.641Z"
   },
   {
    "duration": 708,
    "start_time": "2022-11-12T20:13:28.643Z"
   },
   {
    "duration": 0,
    "start_time": "2022-11-12T20:13:29.353Z"
   },
   {
    "duration": 0,
    "start_time": "2022-11-12T20:13:29.355Z"
   },
   {
    "duration": 0,
    "start_time": "2022-11-12T20:13:29.357Z"
   },
   {
    "duration": 0,
    "start_time": "2022-11-12T20:13:29.358Z"
   },
   {
    "duration": 0,
    "start_time": "2022-11-12T20:13:29.359Z"
   },
   {
    "duration": 0,
    "start_time": "2022-11-12T20:13:29.360Z"
   },
   {
    "duration": 0,
    "start_time": "2022-11-12T20:13:29.361Z"
   },
   {
    "duration": 0,
    "start_time": "2022-11-12T20:13:29.362Z"
   },
   {
    "duration": 0,
    "start_time": "2022-11-12T20:13:29.363Z"
   },
   {
    "duration": 0,
    "start_time": "2022-11-12T20:13:29.364Z"
   },
   {
    "duration": 0,
    "start_time": "2022-11-12T20:13:29.365Z"
   },
   {
    "duration": 1,
    "start_time": "2022-11-12T20:13:29.366Z"
   },
   {
    "duration": 0,
    "start_time": "2022-11-12T20:13:29.367Z"
   },
   {
    "duration": 18,
    "start_time": "2022-11-12T20:14:51.530Z"
   },
   {
    "duration": 15,
    "start_time": "2022-11-12T20:14:51.551Z"
   },
   {
    "duration": 18,
    "start_time": "2022-11-12T20:14:51.568Z"
   },
   {
    "duration": 124,
    "start_time": "2022-11-12T20:14:51.590Z"
   },
   {
    "duration": 10,
    "start_time": "2022-11-12T20:14:51.780Z"
   },
   {
    "duration": 11,
    "start_time": "2022-11-12T20:14:51.793Z"
   },
   {
    "duration": 12,
    "start_time": "2022-11-12T20:14:51.806Z"
   },
   {
    "duration": 14,
    "start_time": "2022-11-12T20:14:51.820Z"
   },
   {
    "duration": 12,
    "start_time": "2022-11-12T20:14:51.836Z"
   },
   {
    "duration": 16,
    "start_time": "2022-11-12T20:14:51.850Z"
   },
   {
    "duration": 39,
    "start_time": "2022-11-12T20:14:51.868Z"
   },
   {
    "duration": 5,
    "start_time": "2022-11-12T20:14:51.909Z"
   },
   {
    "duration": 29,
    "start_time": "2022-11-12T20:14:51.916Z"
   },
   {
    "duration": 15,
    "start_time": "2022-11-12T20:14:51.947Z"
   },
   {
    "duration": 34,
    "start_time": "2022-11-12T20:14:51.964Z"
   },
   {
    "duration": 879,
    "start_time": "2022-11-12T20:14:52.001Z"
   },
   {
    "duration": 0,
    "start_time": "2022-11-12T20:14:52.883Z"
   },
   {
    "duration": 0,
    "start_time": "2022-11-12T20:14:52.884Z"
   },
   {
    "duration": 0,
    "start_time": "2022-11-12T20:14:52.885Z"
   },
   {
    "duration": 0,
    "start_time": "2022-11-12T20:14:52.885Z"
   },
   {
    "duration": 0,
    "start_time": "2022-11-12T20:14:52.887Z"
   },
   {
    "duration": 0,
    "start_time": "2022-11-12T20:14:52.888Z"
   },
   {
    "duration": 0,
    "start_time": "2022-11-12T20:14:52.890Z"
   },
   {
    "duration": 0,
    "start_time": "2022-11-12T20:14:52.891Z"
   },
   {
    "duration": 0,
    "start_time": "2022-11-12T20:14:52.892Z"
   },
   {
    "duration": 0,
    "start_time": "2022-11-12T20:14:52.894Z"
   },
   {
    "duration": 0,
    "start_time": "2022-11-12T20:14:52.896Z"
   },
   {
    "duration": 0,
    "start_time": "2022-11-12T20:14:52.898Z"
   },
   {
    "duration": 0,
    "start_time": "2022-11-12T20:14:52.899Z"
   },
   {
    "duration": 20,
    "start_time": "2022-11-12T20:16:21.150Z"
   },
   {
    "duration": 12,
    "start_time": "2022-11-12T20:17:13.092Z"
   },
   {
    "duration": 28,
    "start_time": "2022-11-12T20:17:13.106Z"
   },
   {
    "duration": 24,
    "start_time": "2022-11-12T20:17:13.137Z"
   },
   {
    "duration": 12,
    "start_time": "2022-11-12T20:17:13.163Z"
   },
   {
    "duration": 12,
    "start_time": "2022-11-12T20:17:13.178Z"
   },
   {
    "duration": 17,
    "start_time": "2022-11-12T20:17:13.192Z"
   },
   {
    "duration": 903,
    "start_time": "2022-11-12T20:17:13.211Z"
   },
   {
    "duration": 0,
    "start_time": "2022-11-12T20:17:14.115Z"
   },
   {
    "duration": 0,
    "start_time": "2022-11-12T20:17:14.117Z"
   },
   {
    "duration": 0,
    "start_time": "2022-11-12T20:17:14.118Z"
   },
   {
    "duration": 0,
    "start_time": "2022-11-12T20:17:14.119Z"
   },
   {
    "duration": 0,
    "start_time": "2022-11-12T20:17:14.120Z"
   },
   {
    "duration": 0,
    "start_time": "2022-11-12T20:17:14.121Z"
   },
   {
    "duration": 0,
    "start_time": "2022-11-12T20:17:14.122Z"
   },
   {
    "duration": 7,
    "start_time": "2022-11-12T20:19:15.204Z"
   },
   {
    "duration": 4,
    "start_time": "2022-11-12T20:19:25.717Z"
   },
   {
    "duration": 5,
    "start_time": "2022-11-12T20:19:28.117Z"
   },
   {
    "duration": 5,
    "start_time": "2022-11-12T20:19:37.563Z"
   },
   {
    "duration": 4,
    "start_time": "2022-11-12T20:20:24.047Z"
   },
   {
    "duration": 5,
    "start_time": "2022-11-12T20:20:24.756Z"
   },
   {
    "duration": 5,
    "start_time": "2022-11-12T20:20:25.423Z"
   },
   {
    "duration": 6,
    "start_time": "2022-11-12T20:25:31.249Z"
   },
   {
    "duration": 10,
    "start_time": "2022-11-12T20:29:50.351Z"
   },
   {
    "duration": 10,
    "start_time": "2022-11-12T20:30:53.151Z"
   },
   {
    "duration": 4,
    "start_time": "2022-11-12T20:31:13.874Z"
   },
   {
    "duration": 24,
    "start_time": "2022-11-12T20:31:14.282Z"
   },
   {
    "duration": 35,
    "start_time": "2022-11-12T20:32:03.713Z"
   },
   {
    "duration": 466,
    "start_time": "2022-11-12T20:33:30.046Z"
   },
   {
    "duration": 46,
    "start_time": "2022-11-12T20:34:51.126Z"
   },
   {
    "duration": 474,
    "start_time": "2022-11-12T20:34:51.587Z"
   },
   {
    "duration": 18,
    "start_time": "2022-11-12T20:38:56.402Z"
   },
   {
    "duration": 2280,
    "start_time": "2022-11-12T20:39:18.183Z"
   },
   {
    "duration": 2345,
    "start_time": "2022-11-12T20:39:45.217Z"
   },
   {
    "duration": 2268,
    "start_time": "2022-11-12T20:43:38.695Z"
   },
   {
    "duration": 44,
    "start_time": "2022-11-12T20:47:08.298Z"
   },
   {
    "duration": 44,
    "start_time": "2022-11-12T20:47:56.355Z"
   },
   {
    "duration": 11,
    "start_time": "2022-11-12T20:52:27.697Z"
   },
   {
    "duration": 12,
    "start_time": "2022-11-12T20:53:27.174Z"
   },
   {
    "duration": 8,
    "start_time": "2022-11-12T21:02:35.049Z"
   },
   {
    "duration": 732,
    "start_time": "2022-11-12T21:02:36.324Z"
   },
   {
    "duration": 0,
    "start_time": "2022-11-12T21:02:37.058Z"
   },
   {
    "duration": 3,
    "start_time": "2022-11-12T21:06:20.859Z"
   },
   {
    "duration": 3,
    "start_time": "2022-11-12T21:06:22.374Z"
   },
   {
    "duration": 261,
    "start_time": "2022-11-12T21:06:31.416Z"
   },
   {
    "duration": 3,
    "start_time": "2022-11-12T21:12:22.346Z"
   },
   {
    "duration": 3,
    "start_time": "2022-11-12T21:12:55.198Z"
   },
   {
    "duration": 198,
    "start_time": "2022-11-12T21:15:07.553Z"
   },
   {
    "duration": 3,
    "start_time": "2022-11-12T21:16:39.794Z"
   },
   {
    "duration": 3,
    "start_time": "2022-11-12T21:16:41.025Z"
   },
   {
    "duration": 193,
    "start_time": "2022-11-12T21:16:41.897Z"
   },
   {
    "duration": 201,
    "start_time": "2022-11-12T21:20:07.181Z"
   },
   {
    "duration": 182,
    "start_time": "2022-11-12T21:21:51.987Z"
   },
   {
    "duration": 189,
    "start_time": "2022-11-12T21:22:31.060Z"
   },
   {
    "duration": 17,
    "start_time": "2022-11-12T21:24:19.416Z"
   },
   {
    "duration": 774,
    "start_time": "2022-11-12T21:25:15.255Z"
   },
   {
    "duration": 693,
    "start_time": "2022-11-12T21:25:35.197Z"
   },
   {
    "duration": 3,
    "start_time": "2022-11-12T21:25:41.818Z"
   },
   {
    "duration": 3,
    "start_time": "2022-11-12T21:25:43.077Z"
   },
   {
    "duration": 11,
    "start_time": "2022-11-12T21:25:44.453Z"
   },
   {
    "duration": 3,
    "start_time": "2022-11-12T21:26:32.220Z"
   },
   {
    "duration": 3,
    "start_time": "2022-11-12T21:26:33.819Z"
   },
   {
    "duration": 11,
    "start_time": "2022-11-12T21:26:35.592Z"
   },
   {
    "duration": 11,
    "start_time": "2022-11-12T21:26:55.849Z"
   },
   {
    "duration": 4,
    "start_time": "2022-11-12T21:27:05.338Z"
   },
   {
    "duration": 399,
    "start_time": "2022-11-12T21:27:05.349Z"
   },
   {
    "duration": 11,
    "start_time": "2022-11-12T21:27:05.749Z"
   },
   {
    "duration": 14,
    "start_time": "2022-11-12T21:27:05.780Z"
   },
   {
    "duration": 15,
    "start_time": "2022-11-12T21:27:05.796Z"
   },
   {
    "duration": 28,
    "start_time": "2022-11-12T21:27:05.813Z"
   },
   {
    "duration": 10,
    "start_time": "2022-11-12T21:27:05.842Z"
   },
   {
    "duration": 32,
    "start_time": "2022-11-12T21:27:05.853Z"
   },
   {
    "duration": 43,
    "start_time": "2022-11-12T21:27:05.887Z"
   },
   {
    "duration": 55,
    "start_time": "2022-11-12T21:27:05.931Z"
   },
   {
    "duration": 40,
    "start_time": "2022-11-12T21:27:05.989Z"
   },
   {
    "duration": 15,
    "start_time": "2022-11-12T21:27:06.031Z"
   },
   {
    "duration": 40,
    "start_time": "2022-11-12T21:27:06.048Z"
   },
   {
    "duration": 24,
    "start_time": "2022-11-12T21:27:06.089Z"
   },
   {
    "duration": 36,
    "start_time": "2022-11-12T21:27:06.115Z"
   },
   {
    "duration": 38,
    "start_time": "2022-11-12T21:27:06.153Z"
   },
   {
    "duration": 27,
    "start_time": "2022-11-12T21:27:06.193Z"
   },
   {
    "duration": 270,
    "start_time": "2022-11-12T21:27:06.222Z"
   },
   {
    "duration": 205,
    "start_time": "2022-11-12T21:27:06.494Z"
   },
   {
    "duration": 390,
    "start_time": "2022-11-12T21:27:06.701Z"
   },
   {
    "duration": 3,
    "start_time": "2022-11-12T21:27:07.093Z"
   },
   {
    "duration": 18,
    "start_time": "2022-11-12T21:27:07.097Z"
   },
   {
    "duration": 8,
    "start_time": "2022-11-12T21:27:07.117Z"
   },
   {
    "duration": 26,
    "start_time": "2022-11-12T21:27:07.127Z"
   },
   {
    "duration": 10,
    "start_time": "2022-11-12T21:27:07.155Z"
   },
   {
    "duration": 16,
    "start_time": "2022-11-12T21:27:07.167Z"
   },
   {
    "duration": 11,
    "start_time": "2022-11-12T21:27:07.184Z"
   },
   {
    "duration": 9,
    "start_time": "2022-11-12T21:27:07.197Z"
   },
   {
    "duration": 80,
    "start_time": "2022-11-12T21:27:07.212Z"
   },
   {
    "duration": 8,
    "start_time": "2022-11-12T21:27:07.380Z"
   },
   {
    "duration": 10,
    "start_time": "2022-11-12T21:27:07.389Z"
   },
   {
    "duration": 8,
    "start_time": "2022-11-12T21:27:07.400Z"
   },
   {
    "duration": 4,
    "start_time": "2022-11-12T21:27:07.410Z"
   },
   {
    "duration": 14,
    "start_time": "2022-11-12T21:27:07.416Z"
   },
   {
    "duration": 18,
    "start_time": "2022-11-12T21:27:07.431Z"
   },
   {
    "duration": 16,
    "start_time": "2022-11-12T21:27:07.450Z"
   },
   {
    "duration": 26,
    "start_time": "2022-11-12T21:27:07.467Z"
   },
   {
    "duration": 9,
    "start_time": "2022-11-12T21:27:07.495Z"
   },
   {
    "duration": 75,
    "start_time": "2022-11-12T21:27:07.506Z"
   },
   {
    "duration": 99,
    "start_time": "2022-11-12T21:27:07.583Z"
   },
   {
    "duration": 16,
    "start_time": "2022-11-12T21:27:07.685Z"
   },
   {
    "duration": 28,
    "start_time": "2022-11-12T21:27:07.703Z"
   },
   {
    "duration": 30,
    "start_time": "2022-11-12T21:27:07.733Z"
   },
   {
    "duration": 14,
    "start_time": "2022-11-12T21:27:07.765Z"
   },
   {
    "duration": 12,
    "start_time": "2022-11-12T21:27:07.781Z"
   },
   {
    "duration": 26,
    "start_time": "2022-11-12T21:27:07.795Z"
   },
   {
    "duration": 14,
    "start_time": "2022-11-12T21:27:07.823Z"
   },
   {
    "duration": 21,
    "start_time": "2022-11-12T21:27:07.839Z"
   },
   {
    "duration": 12,
    "start_time": "2022-11-12T21:27:07.861Z"
   },
   {
    "duration": 20,
    "start_time": "2022-11-12T21:27:07.874Z"
   },
   {
    "duration": 97,
    "start_time": "2022-11-12T21:27:07.896Z"
   },
   {
    "duration": 4,
    "start_time": "2022-11-12T21:27:08.080Z"
   },
   {
    "duration": 9,
    "start_time": "2022-11-12T21:27:08.086Z"
   },
   {
    "duration": 16,
    "start_time": "2022-11-12T21:27:08.096Z"
   },
   {
    "duration": 8,
    "start_time": "2022-11-12T21:27:08.114Z"
   },
   {
    "duration": 10,
    "start_time": "2022-11-12T21:27:08.123Z"
   },
   {
    "duration": 20,
    "start_time": "2022-11-12T21:27:08.134Z"
   },
   {
    "duration": 25,
    "start_time": "2022-11-12T21:27:08.156Z"
   },
   {
    "duration": 13,
    "start_time": "2022-11-12T21:27:08.183Z"
   },
   {
    "duration": 15,
    "start_time": "2022-11-12T21:27:08.197Z"
   },
   {
    "duration": 19,
    "start_time": "2022-11-12T21:27:08.214Z"
   },
   {
    "duration": 18,
    "start_time": "2022-11-12T21:27:08.235Z"
   },
   {
    "duration": 12,
    "start_time": "2022-11-12T21:27:08.254Z"
   },
   {
    "duration": 10,
    "start_time": "2022-11-12T21:27:08.268Z"
   },
   {
    "duration": 16,
    "start_time": "2022-11-12T21:27:08.279Z"
   },
   {
    "duration": 11,
    "start_time": "2022-11-12T21:27:08.297Z"
   },
   {
    "duration": 14,
    "start_time": "2022-11-12T21:27:08.310Z"
   },
   {
    "duration": 14,
    "start_time": "2022-11-12T21:27:08.326Z"
   },
   {
    "duration": 9,
    "start_time": "2022-11-12T21:27:08.342Z"
   },
   {
    "duration": 12,
    "start_time": "2022-11-12T21:27:08.352Z"
   },
   {
    "duration": 13,
    "start_time": "2022-11-12T21:27:08.366Z"
   },
   {
    "duration": 6,
    "start_time": "2022-11-12T21:27:08.381Z"
   },
   {
    "duration": 18,
    "start_time": "2022-11-12T21:27:08.388Z"
   },
   {
    "duration": 9,
    "start_time": "2022-11-12T21:27:08.407Z"
   },
   {
    "duration": 17,
    "start_time": "2022-11-12T21:27:08.417Z"
   },
   {
    "duration": 13,
    "start_time": "2022-11-12T21:27:08.438Z"
   },
   {
    "duration": 17,
    "start_time": "2022-11-12T21:27:33.201Z"
   },
   {
    "duration": 1632,
    "start_time": "2022-11-13T02:59:43.300Z"
   },
   {
    "duration": 1492,
    "start_time": "2022-11-13T02:59:44.934Z"
   },
   {
    "duration": 14,
    "start_time": "2022-11-13T02:59:46.428Z"
   },
   {
    "duration": 16,
    "start_time": "2022-11-13T02:59:46.444Z"
   },
   {
    "duration": 8,
    "start_time": "2022-11-13T02:59:46.462Z"
   },
   {
    "duration": 30,
    "start_time": "2022-11-13T02:59:46.472Z"
   },
   {
    "duration": 9,
    "start_time": "2022-11-13T02:59:46.504Z"
   },
   {
    "duration": 23,
    "start_time": "2022-11-13T02:59:46.514Z"
   },
   {
    "duration": 51,
    "start_time": "2022-11-13T02:59:46.538Z"
   },
   {
    "duration": 42,
    "start_time": "2022-11-13T02:59:46.592Z"
   },
   {
    "duration": 65,
    "start_time": "2022-11-13T02:59:46.635Z"
   },
   {
    "duration": 17,
    "start_time": "2022-11-13T02:59:46.702Z"
   },
   {
    "duration": 23,
    "start_time": "2022-11-13T02:59:46.721Z"
   },
   {
    "duration": 20,
    "start_time": "2022-11-13T02:59:46.746Z"
   },
   {
    "duration": 45,
    "start_time": "2022-11-13T02:59:46.767Z"
   },
   {
    "duration": 28,
    "start_time": "2022-11-13T02:59:46.813Z"
   },
   {
    "duration": 42,
    "start_time": "2022-11-13T02:59:46.843Z"
   },
   {
    "duration": 271,
    "start_time": "2022-11-13T02:59:46.887Z"
   },
   {
    "duration": 198,
    "start_time": "2022-11-13T02:59:47.160Z"
   },
   {
    "duration": 324,
    "start_time": "2022-11-13T02:59:47.359Z"
   },
   {
    "duration": 2,
    "start_time": "2022-11-13T02:59:47.685Z"
   },
   {
    "duration": 19,
    "start_time": "2022-11-13T02:59:47.689Z"
   },
   {
    "duration": 25,
    "start_time": "2022-11-13T02:59:47.710Z"
   },
   {
    "duration": 17,
    "start_time": "2022-11-13T02:59:47.737Z"
   },
   {
    "duration": 20,
    "start_time": "2022-11-13T02:59:47.755Z"
   },
   {
    "duration": 30,
    "start_time": "2022-11-13T02:59:47.777Z"
   },
   {
    "duration": 72,
    "start_time": "2022-11-13T02:59:47.808Z"
   },
   {
    "duration": 92,
    "start_time": "2022-11-13T02:59:47.889Z"
   },
   {
    "duration": 98,
    "start_time": "2022-11-13T02:59:47.984Z"
   },
   {
    "duration": 108,
    "start_time": "2022-11-13T02:59:48.085Z"
   },
   {
    "duration": 15,
    "start_time": "2022-11-13T02:59:48.195Z"
   },
   {
    "duration": 19,
    "start_time": "2022-11-13T02:59:48.212Z"
   },
   {
    "duration": 25,
    "start_time": "2022-11-13T02:59:48.233Z"
   },
   {
    "duration": 13,
    "start_time": "2022-11-13T02:59:48.260Z"
   },
   {
    "duration": 20,
    "start_time": "2022-11-13T02:59:48.274Z"
   },
   {
    "duration": 12,
    "start_time": "2022-11-13T02:59:48.296Z"
   },
   {
    "duration": 33,
    "start_time": "2022-11-13T02:59:48.309Z"
   },
   {
    "duration": 14,
    "start_time": "2022-11-13T02:59:48.344Z"
   },
   {
    "duration": 22,
    "start_time": "2022-11-13T02:59:48.359Z"
   },
   {
    "duration": 98,
    "start_time": "2022-11-13T02:59:48.384Z"
   },
   {
    "duration": 95,
    "start_time": "2022-11-13T02:59:48.485Z"
   },
   {
    "duration": 23,
    "start_time": "2022-11-13T02:59:48.581Z"
   },
   {
    "duration": 14,
    "start_time": "2022-11-13T02:59:48.606Z"
   },
   {
    "duration": 18,
    "start_time": "2022-11-13T02:59:48.622Z"
   },
   {
    "duration": 20,
    "start_time": "2022-11-13T02:59:48.642Z"
   },
   {
    "duration": 24,
    "start_time": "2022-11-13T02:59:48.663Z"
   },
   {
    "duration": 22,
    "start_time": "2022-11-13T02:59:48.689Z"
   },
   {
    "duration": 23,
    "start_time": "2022-11-13T02:59:48.713Z"
   },
   {
    "duration": 26,
    "start_time": "2022-11-13T02:59:48.738Z"
   },
   {
    "duration": 18,
    "start_time": "2022-11-13T02:59:48.766Z"
   },
   {
    "duration": 96,
    "start_time": "2022-11-13T02:59:48.787Z"
   },
   {
    "duration": 95,
    "start_time": "2022-11-13T02:59:48.886Z"
   },
   {
    "duration": 15,
    "start_time": "2022-11-13T02:59:48.983Z"
   },
   {
    "duration": 27,
    "start_time": "2022-11-13T02:59:49.001Z"
   },
   {
    "duration": 13,
    "start_time": "2022-11-13T02:59:49.030Z"
   },
   {
    "duration": 22,
    "start_time": "2022-11-13T02:59:49.045Z"
   },
   {
    "duration": 27,
    "start_time": "2022-11-13T02:59:49.068Z"
   },
   {
    "duration": 39,
    "start_time": "2022-11-13T02:59:49.097Z"
   },
   {
    "duration": 5,
    "start_time": "2022-11-13T02:59:49.138Z"
   },
   {
    "duration": 21,
    "start_time": "2022-11-13T02:59:49.144Z"
   },
   {
    "duration": 14,
    "start_time": "2022-11-13T02:59:49.167Z"
   },
   {
    "duration": 38,
    "start_time": "2022-11-13T02:59:49.183Z"
   },
   {
    "duration": 26,
    "start_time": "2022-11-13T02:59:49.223Z"
   },
   {
    "duration": 28,
    "start_time": "2022-11-13T02:59:49.251Z"
   },
   {
    "duration": 45,
    "start_time": "2022-11-13T02:59:49.281Z"
   },
   {
    "duration": 16,
    "start_time": "2022-11-13T02:59:49.329Z"
   },
   {
    "duration": 22,
    "start_time": "2022-11-13T02:59:49.347Z"
   },
   {
    "duration": 13,
    "start_time": "2022-11-13T02:59:49.372Z"
   },
   {
    "duration": 16,
    "start_time": "2022-11-13T02:59:49.387Z"
   },
   {
    "duration": 9,
    "start_time": "2022-11-13T02:59:49.405Z"
   },
   {
    "duration": 27,
    "start_time": "2022-11-13T02:59:49.416Z"
   },
   {
    "duration": 21,
    "start_time": "2022-11-13T02:59:49.445Z"
   },
   {
    "duration": 13,
    "start_time": "2022-11-13T02:59:49.469Z"
   },
   {
    "duration": 13,
    "start_time": "2022-11-13T02:59:49.484Z"
   },
   {
    "duration": 11,
    "start_time": "2022-11-13T02:59:49.498Z"
   },
   {
    "duration": 126,
    "start_time": "2022-11-13T02:59:49.511Z"
   },
   {
    "duration": 5,
    "start_time": "2022-11-13T03:00:03.969Z"
   },
   {
    "duration": 4,
    "start_time": "2022-11-13T03:00:08.866Z"
   },
   {
    "duration": 12,
    "start_time": "2022-11-13T03:00:18.528Z"
   },
   {
    "duration": 22,
    "start_time": "2022-11-13T03:00:32.885Z"
   },
   {
    "duration": 16,
    "start_time": "2022-11-13T03:00:57.499Z"
   },
   {
    "duration": 12,
    "start_time": "2022-11-13T03:01:10.793Z"
   },
   {
    "duration": 20,
    "start_time": "2022-11-13T03:01:36.471Z"
   },
   {
    "duration": 21,
    "start_time": "2022-11-13T03:01:40.595Z"
   },
   {
    "duration": 1488,
    "start_time": "2022-11-13T03:01:44.015Z"
   },
   {
    "duration": 363,
    "start_time": "2022-11-13T03:01:45.505Z"
   },
   {
    "duration": 16,
    "start_time": "2022-11-13T03:01:45.869Z"
   },
   {
    "duration": 16,
    "start_time": "2022-11-13T03:01:45.887Z"
   },
   {
    "duration": 9,
    "start_time": "2022-11-13T03:01:45.904Z"
   },
   {
    "duration": 28,
    "start_time": "2022-11-13T03:01:45.915Z"
   },
   {
    "duration": 10,
    "start_time": "2022-11-13T03:01:45.944Z"
   },
   {
    "duration": 28,
    "start_time": "2022-11-13T03:01:45.956Z"
   },
   {
    "duration": 43,
    "start_time": "2022-11-13T03:01:45.986Z"
   },
   {
    "duration": 51,
    "start_time": "2022-11-13T03:01:46.031Z"
   },
   {
    "duration": 41,
    "start_time": "2022-11-13T03:01:46.084Z"
   },
   {
    "duration": 15,
    "start_time": "2022-11-13T03:01:46.126Z"
   },
   {
    "duration": 39,
    "start_time": "2022-11-13T03:01:46.142Z"
   },
   {
    "duration": 26,
    "start_time": "2022-11-13T03:01:46.183Z"
   },
   {
    "duration": 37,
    "start_time": "2022-11-13T03:01:46.211Z"
   },
   {
    "duration": 29,
    "start_time": "2022-11-13T03:01:46.250Z"
   },
   {
    "duration": 28,
    "start_time": "2022-11-13T03:01:46.281Z"
   },
   {
    "duration": 277,
    "start_time": "2022-11-13T03:01:46.311Z"
   },
   {
    "duration": 200,
    "start_time": "2022-11-13T03:01:46.589Z"
   },
   {
    "duration": 319,
    "start_time": "2022-11-13T03:01:46.790Z"
   },
   {
    "duration": 2,
    "start_time": "2022-11-13T03:01:47.110Z"
   },
   {
    "duration": 10,
    "start_time": "2022-11-13T03:01:47.114Z"
   },
   {
    "duration": 9,
    "start_time": "2022-11-13T03:01:47.126Z"
   },
   {
    "duration": 12,
    "start_time": "2022-11-13T03:01:47.137Z"
   },
   {
    "duration": 7,
    "start_time": "2022-11-13T03:01:47.151Z"
   },
   {
    "duration": 20,
    "start_time": "2022-11-13T03:01:47.160Z"
   },
   {
    "duration": 13,
    "start_time": "2022-11-13T03:01:47.181Z"
   },
   {
    "duration": 10,
    "start_time": "2022-11-13T03:01:47.198Z"
   },
   {
    "duration": 172,
    "start_time": "2022-11-13T03:01:47.210Z"
   },
   {
    "duration": 10,
    "start_time": "2022-11-13T03:01:47.383Z"
   },
   {
    "duration": 5,
    "start_time": "2022-11-13T03:01:47.395Z"
   },
   {
    "duration": 6,
    "start_time": "2022-11-13T03:01:47.402Z"
   },
   {
    "duration": 4,
    "start_time": "2022-11-13T03:01:47.409Z"
   },
   {
    "duration": 6,
    "start_time": "2022-11-13T03:01:47.414Z"
   },
   {
    "duration": 13,
    "start_time": "2022-11-13T03:01:47.421Z"
   },
   {
    "duration": 7,
    "start_time": "2022-11-13T03:01:47.435Z"
   },
   {
    "duration": 29,
    "start_time": "2022-11-13T03:01:47.443Z"
   },
   {
    "duration": 14,
    "start_time": "2022-11-13T03:01:47.473Z"
   },
   {
    "duration": 9,
    "start_time": "2022-11-13T03:01:47.488Z"
   },
   {
    "duration": 181,
    "start_time": "2022-11-13T03:01:47.499Z"
   },
   {
    "duration": 19,
    "start_time": "2022-11-13T03:01:47.681Z"
   },
   {
    "duration": 19,
    "start_time": "2022-11-13T03:01:47.701Z"
   },
   {
    "duration": 29,
    "start_time": "2022-11-13T03:01:47.721Z"
   },
   {
    "duration": 20,
    "start_time": "2022-11-13T03:01:47.751Z"
   },
   {
    "duration": 35,
    "start_time": "2022-11-13T03:01:47.772Z"
   },
   {
    "duration": 20,
    "start_time": "2022-11-13T03:01:47.809Z"
   },
   {
    "duration": 18,
    "start_time": "2022-11-13T03:01:47.830Z"
   },
   {
    "duration": 29,
    "start_time": "2022-11-13T03:01:47.850Z"
   },
   {
    "duration": 19,
    "start_time": "2022-11-13T03:01:47.880Z"
   },
   {
    "duration": 5,
    "start_time": "2022-11-13T03:01:47.900Z"
   },
   {
    "duration": 75,
    "start_time": "2022-11-13T03:01:47.907Z"
   },
   {
    "duration": 96,
    "start_time": "2022-11-13T03:01:47.985Z"
   },
   {
    "duration": 10,
    "start_time": "2022-11-13T03:01:48.083Z"
   },
   {
    "duration": 32,
    "start_time": "2022-11-13T03:01:48.094Z"
   },
   {
    "duration": 37,
    "start_time": "2022-11-13T03:01:48.127Z"
   },
   {
    "duration": 8,
    "start_time": "2022-11-13T03:01:48.166Z"
   },
   {
    "duration": 21,
    "start_time": "2022-11-13T03:01:48.175Z"
   },
   {
    "duration": 36,
    "start_time": "2022-11-13T03:01:48.197Z"
   },
   {
    "duration": 18,
    "start_time": "2022-11-13T03:01:48.234Z"
   },
   {
    "duration": 28,
    "start_time": "2022-11-13T03:01:48.254Z"
   },
   {
    "duration": 18,
    "start_time": "2022-11-13T03:01:48.284Z"
   },
   {
    "duration": 33,
    "start_time": "2022-11-13T03:01:48.304Z"
   },
   {
    "duration": 20,
    "start_time": "2022-11-13T03:01:48.339Z"
   },
   {
    "duration": 21,
    "start_time": "2022-11-13T03:01:48.361Z"
   },
   {
    "duration": 22,
    "start_time": "2022-11-13T03:01:48.384Z"
   },
   {
    "duration": 22,
    "start_time": "2022-11-13T03:01:48.408Z"
   },
   {
    "duration": 27,
    "start_time": "2022-11-13T03:01:48.432Z"
   },
   {
    "duration": 24,
    "start_time": "2022-11-13T03:01:48.461Z"
   },
   {
    "duration": 27,
    "start_time": "2022-11-13T03:01:48.487Z"
   },
   {
    "duration": 16,
    "start_time": "2022-11-13T03:01:48.516Z"
   },
   {
    "duration": 26,
    "start_time": "2022-11-13T03:01:48.534Z"
   },
   {
    "duration": 20,
    "start_time": "2022-11-13T03:01:48.561Z"
   },
   {
    "duration": 9,
    "start_time": "2022-11-13T03:01:48.582Z"
   },
   {
    "duration": 48,
    "start_time": "2022-11-13T03:01:48.592Z"
   },
   {
    "duration": 21,
    "start_time": "2022-11-13T03:01:48.642Z"
   },
   {
    "duration": 134,
    "start_time": "2022-11-13T03:01:48.665Z"
   },
   {
    "duration": 1474,
    "start_time": "2022-11-13T03:11:43.830Z"
   },
   {
    "duration": 413,
    "start_time": "2022-11-13T03:11:45.306Z"
   },
   {
    "duration": 15,
    "start_time": "2022-11-13T03:11:45.721Z"
   },
   {
    "duration": 41,
    "start_time": "2022-11-13T03:11:45.738Z"
   },
   {
    "duration": 20,
    "start_time": "2022-11-13T03:11:45.781Z"
   },
   {
    "duration": 50,
    "start_time": "2022-11-13T03:11:45.803Z"
   },
   {
    "duration": 32,
    "start_time": "2022-11-13T03:11:45.855Z"
   },
   {
    "duration": 26,
    "start_time": "2022-11-13T03:11:45.888Z"
   },
   {
    "duration": 62,
    "start_time": "2022-11-13T03:11:45.916Z"
   },
   {
    "duration": 44,
    "start_time": "2022-11-13T03:11:45.980Z"
   },
   {
    "duration": 55,
    "start_time": "2022-11-13T03:11:46.026Z"
   },
   {
    "duration": 18,
    "start_time": "2022-11-13T03:11:46.082Z"
   },
   {
    "duration": 35,
    "start_time": "2022-11-13T03:11:46.102Z"
   },
   {
    "duration": 32,
    "start_time": "2022-11-13T03:11:46.138Z"
   },
   {
    "duration": 60,
    "start_time": "2022-11-13T03:11:46.172Z"
   },
   {
    "duration": 30,
    "start_time": "2022-11-13T03:11:46.235Z"
   },
   {
    "duration": 29,
    "start_time": "2022-11-13T03:11:46.267Z"
   },
   {
    "duration": 275,
    "start_time": "2022-11-13T03:11:46.298Z"
   },
   {
    "duration": 191,
    "start_time": "2022-11-13T03:11:46.579Z"
   },
   {
    "duration": 345,
    "start_time": "2022-11-13T03:11:46.771Z"
   },
   {
    "duration": 3,
    "start_time": "2022-11-13T03:11:47.118Z"
   },
   {
    "duration": 11,
    "start_time": "2022-11-13T03:11:47.123Z"
   },
   {
    "duration": 10,
    "start_time": "2022-11-13T03:11:47.136Z"
   },
   {
    "duration": 21,
    "start_time": "2022-11-13T03:11:47.147Z"
   },
   {
    "duration": 20,
    "start_time": "2022-11-13T03:11:47.169Z"
   },
   {
    "duration": 22,
    "start_time": "2022-11-13T03:11:47.190Z"
   },
   {
    "duration": 33,
    "start_time": "2022-11-13T03:11:47.214Z"
   },
   {
    "duration": 13,
    "start_time": "2022-11-13T03:11:47.251Z"
   },
   {
    "duration": 16,
    "start_time": "2022-11-13T03:11:47.266Z"
   },
   {
    "duration": 118,
    "start_time": "2022-11-13T03:11:47.285Z"
   },
   {
    "duration": 24,
    "start_time": "2022-11-13T03:11:47.405Z"
   },
   {
    "duration": 73,
    "start_time": "2022-11-13T03:11:47.431Z"
   },
   {
    "duration": 20,
    "start_time": "2022-11-13T03:11:47.505Z"
   },
   {
    "duration": 22,
    "start_time": "2022-11-13T03:11:47.527Z"
   },
   {
    "duration": 28,
    "start_time": "2022-11-13T03:11:47.550Z"
   },
   {
    "duration": 31,
    "start_time": "2022-11-13T03:11:47.580Z"
   },
   {
    "duration": 30,
    "start_time": "2022-11-13T03:11:47.613Z"
   },
   {
    "duration": 22,
    "start_time": "2022-11-13T03:11:47.645Z"
   },
   {
    "duration": 7,
    "start_time": "2022-11-13T03:11:47.669Z"
   },
   {
    "duration": 104,
    "start_time": "2022-11-13T03:11:47.678Z"
   },
   {
    "duration": 124,
    "start_time": "2022-11-13T03:11:47.784Z"
   },
   {
    "duration": 38,
    "start_time": "2022-11-13T03:11:47.910Z"
   },
   {
    "duration": 36,
    "start_time": "2022-11-13T03:11:47.950Z"
   },
   {
    "duration": 23,
    "start_time": "2022-11-13T03:11:47.988Z"
   },
   {
    "duration": 15,
    "start_time": "2022-11-13T03:11:48.013Z"
   },
   {
    "duration": 24,
    "start_time": "2022-11-13T03:11:48.029Z"
   },
   {
    "duration": 12,
    "start_time": "2022-11-13T03:11:48.054Z"
   },
   {
    "duration": 24,
    "start_time": "2022-11-13T03:11:48.068Z"
   },
   {
    "duration": 12,
    "start_time": "2022-11-13T03:11:48.094Z"
   },
   {
    "duration": 13,
    "start_time": "2022-11-13T03:11:48.108Z"
   },
   {
    "duration": 57,
    "start_time": "2022-11-13T03:11:48.123Z"
   },
   {
    "duration": 104,
    "start_time": "2022-11-13T03:11:48.185Z"
   },
   {
    "duration": 31,
    "start_time": "2022-11-13T03:11:48.290Z"
   },
   {
    "duration": 43,
    "start_time": "2022-11-13T03:11:48.322Z"
   },
   {
    "duration": 18,
    "start_time": "2022-11-13T03:11:48.367Z"
   },
   {
    "duration": 18,
    "start_time": "2022-11-13T03:11:48.387Z"
   },
   {
    "duration": 16,
    "start_time": "2022-11-13T03:11:48.406Z"
   },
   {
    "duration": 32,
    "start_time": "2022-11-13T03:11:48.424Z"
   },
   {
    "duration": 17,
    "start_time": "2022-11-13T03:11:48.457Z"
   },
   {
    "duration": 30,
    "start_time": "2022-11-13T03:11:48.476Z"
   },
   {
    "duration": 19,
    "start_time": "2022-11-13T03:11:48.508Z"
   },
   {
    "duration": 15,
    "start_time": "2022-11-13T03:11:48.528Z"
   },
   {
    "duration": 32,
    "start_time": "2022-11-13T03:11:48.544Z"
   },
   {
    "duration": 28,
    "start_time": "2022-11-13T03:11:48.577Z"
   },
   {
    "duration": 19,
    "start_time": "2022-11-13T03:11:48.607Z"
   },
   {
    "duration": 27,
    "start_time": "2022-11-13T03:11:48.628Z"
   },
   {
    "duration": 27,
    "start_time": "2022-11-13T03:11:48.657Z"
   },
   {
    "duration": 34,
    "start_time": "2022-11-13T03:11:48.685Z"
   },
   {
    "duration": 21,
    "start_time": "2022-11-13T03:11:48.721Z"
   },
   {
    "duration": 13,
    "start_time": "2022-11-13T03:11:48.744Z"
   },
   {
    "duration": 19,
    "start_time": "2022-11-13T03:11:48.759Z"
   },
   {
    "duration": 19,
    "start_time": "2022-11-13T03:11:48.779Z"
   },
   {
    "duration": 19,
    "start_time": "2022-11-13T03:11:48.799Z"
   },
   {
    "duration": 13,
    "start_time": "2022-11-13T03:11:48.820Z"
   },
   {
    "duration": 34,
    "start_time": "2022-11-13T03:11:48.834Z"
   },
   {
    "duration": 138,
    "start_time": "2022-11-13T03:11:48.871Z"
   },
   {
    "duration": 2282,
    "start_time": "2022-11-14T11:31:08.216Z"
   },
   {
    "duration": 1499,
    "start_time": "2022-11-14T11:31:10.500Z"
   },
   {
    "duration": 160,
    "start_time": "2022-11-14T11:31:12.001Z"
   },
   {
    "duration": 0,
    "start_time": "2022-11-14T11:31:12.165Z"
   },
   {
    "duration": 0,
    "start_time": "2022-11-14T11:31:12.166Z"
   },
   {
    "duration": 0,
    "start_time": "2022-11-14T11:31:12.167Z"
   },
   {
    "duration": 0,
    "start_time": "2022-11-14T11:31:12.168Z"
   },
   {
    "duration": 0,
    "start_time": "2022-11-14T11:31:12.169Z"
   },
   {
    "duration": 0,
    "start_time": "2022-11-14T11:31:12.170Z"
   },
   {
    "duration": 0,
    "start_time": "2022-11-14T11:31:12.172Z"
   },
   {
    "duration": 0,
    "start_time": "2022-11-14T11:31:12.173Z"
   },
   {
    "duration": 0,
    "start_time": "2022-11-14T11:31:12.174Z"
   },
   {
    "duration": 0,
    "start_time": "2022-11-14T11:31:12.176Z"
   },
   {
    "duration": 0,
    "start_time": "2022-11-14T11:31:12.178Z"
   },
   {
    "duration": 0,
    "start_time": "2022-11-14T11:31:12.179Z"
   },
   {
    "duration": 0,
    "start_time": "2022-11-14T11:31:12.180Z"
   },
   {
    "duration": 0,
    "start_time": "2022-11-14T11:31:12.181Z"
   },
   {
    "duration": 0,
    "start_time": "2022-11-14T11:31:12.182Z"
   },
   {
    "duration": 0,
    "start_time": "2022-11-14T11:31:12.183Z"
   },
   {
    "duration": 0,
    "start_time": "2022-11-14T11:31:12.213Z"
   },
   {
    "duration": 0,
    "start_time": "2022-11-14T11:31:12.214Z"
   },
   {
    "duration": 0,
    "start_time": "2022-11-14T11:31:12.215Z"
   },
   {
    "duration": 0,
    "start_time": "2022-11-14T11:31:12.217Z"
   },
   {
    "duration": 0,
    "start_time": "2022-11-14T11:31:12.217Z"
   },
   {
    "duration": 0,
    "start_time": "2022-11-14T11:31:12.219Z"
   },
   {
    "duration": 0,
    "start_time": "2022-11-14T11:31:12.220Z"
   },
   {
    "duration": 0,
    "start_time": "2022-11-14T11:31:12.221Z"
   },
   {
    "duration": 0,
    "start_time": "2022-11-14T11:31:12.222Z"
   },
   {
    "duration": 0,
    "start_time": "2022-11-14T11:31:12.223Z"
   },
   {
    "duration": 0,
    "start_time": "2022-11-14T11:31:12.224Z"
   },
   {
    "duration": 0,
    "start_time": "2022-11-14T11:31:12.225Z"
   },
   {
    "duration": 0,
    "start_time": "2022-11-14T11:31:12.226Z"
   },
   {
    "duration": 0,
    "start_time": "2022-11-14T11:31:12.227Z"
   },
   {
    "duration": 0,
    "start_time": "2022-11-14T11:31:12.228Z"
   },
   {
    "duration": 0,
    "start_time": "2022-11-14T11:31:12.229Z"
   },
   {
    "duration": 0,
    "start_time": "2022-11-14T11:31:12.230Z"
   },
   {
    "duration": 0,
    "start_time": "2022-11-14T11:31:12.231Z"
   },
   {
    "duration": 0,
    "start_time": "2022-11-14T11:31:12.233Z"
   },
   {
    "duration": 0,
    "start_time": "2022-11-14T11:31:12.234Z"
   },
   {
    "duration": 0,
    "start_time": "2022-11-14T11:31:12.235Z"
   },
   {
    "duration": 0,
    "start_time": "2022-11-14T11:31:12.237Z"
   },
   {
    "duration": 0,
    "start_time": "2022-11-14T11:31:12.237Z"
   },
   {
    "duration": 0,
    "start_time": "2022-11-14T11:31:12.239Z"
   },
   {
    "duration": 0,
    "start_time": "2022-11-14T11:31:12.240Z"
   },
   {
    "duration": 0,
    "start_time": "2022-11-14T11:31:12.241Z"
   },
   {
    "duration": 0,
    "start_time": "2022-11-14T11:31:12.242Z"
   },
   {
    "duration": 0,
    "start_time": "2022-11-14T11:31:12.243Z"
   },
   {
    "duration": 0,
    "start_time": "2022-11-14T11:31:12.245Z"
   },
   {
    "duration": 0,
    "start_time": "2022-11-14T11:31:12.245Z"
   },
   {
    "duration": 0,
    "start_time": "2022-11-14T11:31:12.246Z"
   },
   {
    "duration": 0,
    "start_time": "2022-11-14T11:31:12.247Z"
   },
   {
    "duration": 0,
    "start_time": "2022-11-14T11:31:12.248Z"
   },
   {
    "duration": 0,
    "start_time": "2022-11-14T11:31:12.313Z"
   },
   {
    "duration": 0,
    "start_time": "2022-11-14T11:31:12.314Z"
   },
   {
    "duration": 1,
    "start_time": "2022-11-14T11:31:12.315Z"
   },
   {
    "duration": 0,
    "start_time": "2022-11-14T11:31:12.317Z"
   },
   {
    "duration": 0,
    "start_time": "2022-11-14T11:31:12.318Z"
   },
   {
    "duration": 0,
    "start_time": "2022-11-14T11:31:12.319Z"
   },
   {
    "duration": 0,
    "start_time": "2022-11-14T11:31:12.320Z"
   },
   {
    "duration": 0,
    "start_time": "2022-11-14T11:31:12.322Z"
   },
   {
    "duration": 0,
    "start_time": "2022-11-14T11:31:12.324Z"
   },
   {
    "duration": 0,
    "start_time": "2022-11-14T11:31:12.325Z"
   },
   {
    "duration": 0,
    "start_time": "2022-11-14T11:31:12.327Z"
   },
   {
    "duration": 0,
    "start_time": "2022-11-14T11:31:12.328Z"
   },
   {
    "duration": 0,
    "start_time": "2022-11-14T11:31:12.329Z"
   },
   {
    "duration": 0,
    "start_time": "2022-11-14T11:31:12.330Z"
   },
   {
    "duration": 0,
    "start_time": "2022-11-14T11:31:12.331Z"
   },
   {
    "duration": 0,
    "start_time": "2022-11-14T11:31:12.332Z"
   },
   {
    "duration": 0,
    "start_time": "2022-11-14T11:31:12.333Z"
   },
   {
    "duration": 0,
    "start_time": "2022-11-14T11:31:12.334Z"
   },
   {
    "duration": 0,
    "start_time": "2022-11-14T11:31:12.335Z"
   },
   {
    "duration": 0,
    "start_time": "2022-11-14T11:31:12.336Z"
   },
   {
    "duration": 0,
    "start_time": "2022-11-14T11:31:12.337Z"
   },
   {
    "duration": 0,
    "start_time": "2022-11-14T11:31:12.338Z"
   },
   {
    "duration": 0,
    "start_time": "2022-11-14T11:31:12.339Z"
   },
   {
    "duration": 0,
    "start_time": "2022-11-14T11:31:12.340Z"
   },
   {
    "duration": 0,
    "start_time": "2022-11-14T11:31:12.341Z"
   },
   {
    "duration": 0,
    "start_time": "2022-11-14T11:31:12.342Z"
   },
   {
    "duration": 0,
    "start_time": "2022-11-14T11:31:12.343Z"
   },
   {
    "duration": 0,
    "start_time": "2022-11-14T11:31:12.344Z"
   },
   {
    "duration": 0,
    "start_time": "2022-11-14T11:31:12.345Z"
   },
   {
    "duration": 0,
    "start_time": "2022-11-14T11:31:12.346Z"
   },
   {
    "duration": 0,
    "start_time": "2022-11-14T11:31:12.347Z"
   },
   {
    "duration": 4,
    "start_time": "2022-11-14T11:32:53.729Z"
   },
   {
    "duration": 1291,
    "start_time": "2022-11-14T11:32:53.760Z"
   },
   {
    "duration": 818,
    "start_time": "2022-11-14T11:32:55.053Z"
   },
   {
    "duration": 12,
    "start_time": "2022-11-14T11:32:55.872Z"
   },
   {
    "duration": 13,
    "start_time": "2022-11-14T11:32:55.886Z"
   },
   {
    "duration": 13,
    "start_time": "2022-11-14T11:32:55.900Z"
   },
   {
    "duration": 9,
    "start_time": "2022-11-14T11:32:55.914Z"
   },
   {
    "duration": 12,
    "start_time": "2022-11-14T11:32:55.924Z"
   },
   {
    "duration": 9,
    "start_time": "2022-11-14T11:32:55.938Z"
   },
   {
    "duration": 15,
    "start_time": "2022-11-14T11:32:55.949Z"
   },
   {
    "duration": 75,
    "start_time": "2022-11-14T11:32:55.966Z"
   },
   {
    "duration": 38,
    "start_time": "2022-11-14T11:32:56.043Z"
   },
   {
    "duration": 58,
    "start_time": "2022-11-14T11:32:56.083Z"
   },
   {
    "duration": 15,
    "start_time": "2022-11-14T11:32:56.142Z"
   },
   {
    "duration": 26,
    "start_time": "2022-11-14T11:32:56.159Z"
   },
   {
    "duration": 27,
    "start_time": "2022-11-14T11:32:56.187Z"
   },
   {
    "duration": 27,
    "start_time": "2022-11-14T11:32:56.215Z"
   },
   {
    "duration": 25,
    "start_time": "2022-11-14T11:32:56.243Z"
   },
   {
    "duration": 46,
    "start_time": "2022-11-14T11:32:56.269Z"
   },
   {
    "duration": 252,
    "start_time": "2022-11-14T11:32:56.317Z"
   },
   {
    "duration": 185,
    "start_time": "2022-11-14T11:32:56.570Z"
   },
   {
    "duration": 6,
    "start_time": "2022-11-14T11:32:56.756Z"
   },
   {
    "duration": 353,
    "start_time": "2022-11-14T11:32:56.764Z"
   },
   {
    "duration": 3,
    "start_time": "2022-11-14T11:32:57.118Z"
   },
   {
    "duration": 21,
    "start_time": "2022-11-14T11:32:57.123Z"
   },
   {
    "duration": 75,
    "start_time": "2022-11-14T11:32:57.146Z"
   },
   {
    "duration": 9,
    "start_time": "2022-11-14T11:32:57.223Z"
   },
   {
    "duration": 15,
    "start_time": "2022-11-14T11:32:57.233Z"
   },
   {
    "duration": 18,
    "start_time": "2022-11-14T11:32:57.253Z"
   },
   {
    "duration": 14,
    "start_time": "2022-11-14T11:32:57.272Z"
   },
   {
    "duration": 37,
    "start_time": "2022-11-14T11:32:57.288Z"
   },
   {
    "duration": 87,
    "start_time": "2022-11-14T11:32:57.326Z"
   },
   {
    "duration": 16,
    "start_time": "2022-11-14T11:32:57.415Z"
   },
   {
    "duration": 80,
    "start_time": "2022-11-14T11:32:57.433Z"
   },
   {
    "duration": 9,
    "start_time": "2022-11-14T11:32:57.514Z"
   },
   {
    "duration": 9,
    "start_time": "2022-11-14T11:32:57.525Z"
   },
   {
    "duration": 14,
    "start_time": "2022-11-14T11:32:57.536Z"
   },
   {
    "duration": 68,
    "start_time": "2022-11-14T11:32:57.551Z"
   },
   {
    "duration": 8,
    "start_time": "2022-11-14T11:32:57.621Z"
   },
   {
    "duration": 8,
    "start_time": "2022-11-14T11:32:57.630Z"
   },
   {
    "duration": 13,
    "start_time": "2022-11-14T11:32:57.639Z"
   },
   {
    "duration": 11,
    "start_time": "2022-11-14T11:32:57.653Z"
   },
   {
    "duration": 51,
    "start_time": "2022-11-14T11:32:57.665Z"
   },
   {
    "duration": 3,
    "start_time": "2022-11-14T11:32:57.718Z"
   },
   {
    "duration": 96,
    "start_time": "2022-11-14T11:32:57.724Z"
   },
   {
    "duration": 5,
    "start_time": "2022-11-14T11:32:57.822Z"
   },
   {
    "duration": 8,
    "start_time": "2022-11-14T11:32:57.829Z"
   },
   {
    "duration": 84,
    "start_time": "2022-11-14T11:32:57.838Z"
   },
   {
    "duration": 62,
    "start_time": "2022-11-14T11:32:57.924Z"
   },
   {
    "duration": 9,
    "start_time": "2022-11-14T11:32:57.988Z"
   },
   {
    "duration": 18,
    "start_time": "2022-11-14T11:32:57.998Z"
   },
   {
    "duration": 18,
    "start_time": "2022-11-14T11:32:58.018Z"
   },
   {
    "duration": 12,
    "start_time": "2022-11-14T11:32:58.037Z"
   },
   {
    "duration": 4,
    "start_time": "2022-11-14T11:32:58.050Z"
   },
   {
    "duration": 160,
    "start_time": "2022-11-14T11:32:58.056Z"
   },
   {
    "duration": 7,
    "start_time": "2022-11-14T11:32:58.217Z"
   },
   {
    "duration": 5,
    "start_time": "2022-11-14T11:32:58.225Z"
   },
   {
    "duration": 6,
    "start_time": "2022-11-14T11:32:58.231Z"
   },
   {
    "duration": 5,
    "start_time": "2022-11-14T11:32:58.239Z"
   },
   {
    "duration": 6,
    "start_time": "2022-11-14T11:32:58.245Z"
   },
   {
    "duration": 5,
    "start_time": "2022-11-14T11:32:58.253Z"
   },
   {
    "duration": 20,
    "start_time": "2022-11-14T11:32:58.259Z"
   },
   {
    "duration": 3,
    "start_time": "2022-11-14T11:32:58.280Z"
   },
   {
    "duration": 12,
    "start_time": "2022-11-14T11:32:58.312Z"
   },
   {
    "duration": 9,
    "start_time": "2022-11-14T11:32:58.326Z"
   },
   {
    "duration": 13,
    "start_time": "2022-11-14T11:32:58.336Z"
   },
   {
    "duration": 9,
    "start_time": "2022-11-14T11:32:58.350Z"
   },
   {
    "duration": 8,
    "start_time": "2022-11-14T11:32:58.360Z"
   },
   {
    "duration": 8,
    "start_time": "2022-11-14T11:32:58.369Z"
   },
   {
    "duration": 35,
    "start_time": "2022-11-14T11:32:58.379Z"
   },
   {
    "duration": 8,
    "start_time": "2022-11-14T11:32:58.416Z"
   },
   {
    "duration": 7,
    "start_time": "2022-11-14T11:32:58.426Z"
   },
   {
    "duration": 6,
    "start_time": "2022-11-14T11:32:58.434Z"
   },
   {
    "duration": 6,
    "start_time": "2022-11-14T11:32:58.441Z"
   },
   {
    "duration": 6,
    "start_time": "2022-11-14T11:32:58.448Z"
   },
   {
    "duration": 5,
    "start_time": "2022-11-14T11:32:58.455Z"
   },
   {
    "duration": 9,
    "start_time": "2022-11-14T11:32:58.462Z"
   },
   {
    "duration": 40,
    "start_time": "2022-11-14T11:32:58.472Z"
   },
   {
    "duration": 11,
    "start_time": "2022-11-14T11:32:58.514Z"
   },
   {
    "duration": 4,
    "start_time": "2022-11-14T11:32:58.527Z"
   },
   {
    "duration": 6554,
    "start_time": "2022-11-14T11:32:58.533Z"
   },
   {
    "duration": 3,
    "start_time": "2022-11-14T11:33:05.089Z"
   },
   {
    "duration": 4,
    "start_time": "2022-11-14T11:33:05.097Z"
   },
   {
    "duration": 1457,
    "start_time": "2022-11-15T00:46:03.372Z"
   },
   {
    "duration": 1494,
    "start_time": "2022-11-15T00:46:04.831Z"
   },
   {
    "duration": 19,
    "start_time": "2022-11-15T00:46:06.327Z"
   },
   {
    "duration": 22,
    "start_time": "2022-11-15T00:46:06.348Z"
   },
   {
    "duration": 14,
    "start_time": "2022-11-15T00:46:06.372Z"
   },
   {
    "duration": 25,
    "start_time": "2022-11-15T00:46:06.388Z"
   },
   {
    "duration": 25,
    "start_time": "2022-11-15T00:46:06.415Z"
   },
   {
    "duration": 12,
    "start_time": "2022-11-15T00:46:06.443Z"
   },
   {
    "duration": 24,
    "start_time": "2022-11-15T00:46:06.458Z"
   },
   {
    "duration": 68,
    "start_time": "2022-11-15T00:46:06.485Z"
   },
   {
    "duration": 43,
    "start_time": "2022-11-15T00:46:06.555Z"
   },
   {
    "duration": 51,
    "start_time": "2022-11-15T00:46:06.612Z"
   },
   {
    "duration": 17,
    "start_time": "2022-11-15T00:46:06.664Z"
   },
   {
    "duration": 41,
    "start_time": "2022-11-15T00:46:06.683Z"
   },
   {
    "duration": 19,
    "start_time": "2022-11-15T00:46:06.726Z"
   },
   {
    "duration": 32,
    "start_time": "2022-11-15T00:46:06.746Z"
   },
   {
    "duration": 45,
    "start_time": "2022-11-15T00:46:06.780Z"
   },
   {
    "duration": 28,
    "start_time": "2022-11-15T00:46:06.827Z"
   },
   {
    "duration": 303,
    "start_time": "2022-11-15T00:46:06.857Z"
   },
   {
    "duration": 201,
    "start_time": "2022-11-15T00:46:07.161Z"
   },
   {
    "duration": 6,
    "start_time": "2022-11-15T00:46:07.363Z"
   },
   {
    "duration": 346,
    "start_time": "2022-11-15T00:46:07.370Z"
   },
   {
    "duration": 2,
    "start_time": "2022-11-15T00:46:07.718Z"
   },
   {
    "duration": 24,
    "start_time": "2022-11-15T00:46:07.722Z"
   },
   {
    "duration": 72,
    "start_time": "2022-11-15T00:46:07.747Z"
   },
   {
    "duration": 10,
    "start_time": "2022-11-15T00:46:07.821Z"
   },
   {
    "duration": 7,
    "start_time": "2022-11-15T00:46:07.832Z"
   },
   {
    "duration": 14,
    "start_time": "2022-11-15T00:46:07.843Z"
   },
   {
    "duration": 14,
    "start_time": "2022-11-15T00:46:07.859Z"
   },
   {
    "duration": 46,
    "start_time": "2022-11-15T00:46:07.874Z"
   },
   {
    "duration": 97,
    "start_time": "2022-11-15T00:46:07.922Z"
   },
   {
    "duration": 11,
    "start_time": "2022-11-15T00:46:08.021Z"
   },
   {
    "duration": 14,
    "start_time": "2022-11-15T00:46:08.033Z"
   },
   {
    "duration": 11,
    "start_time": "2022-11-15T00:46:08.049Z"
   },
   {
    "duration": 6,
    "start_time": "2022-11-15T00:46:08.062Z"
   },
   {
    "duration": 15,
    "start_time": "2022-11-15T00:46:08.113Z"
   },
   {
    "duration": 65,
    "start_time": "2022-11-15T00:46:08.130Z"
   },
   {
    "duration": 10,
    "start_time": "2022-11-15T00:46:08.212Z"
   },
   {
    "duration": 8,
    "start_time": "2022-11-15T00:46:08.223Z"
   },
   {
    "duration": 15,
    "start_time": "2022-11-15T00:46:08.232Z"
   },
   {
    "duration": 11,
    "start_time": "2022-11-15T00:46:08.249Z"
   },
   {
    "duration": 54,
    "start_time": "2022-11-15T00:46:08.261Z"
   },
   {
    "duration": 5,
    "start_time": "2022-11-15T00:46:08.317Z"
   },
   {
    "duration": 91,
    "start_time": "2022-11-15T00:46:08.324Z"
   },
   {
    "duration": 6,
    "start_time": "2022-11-15T00:46:08.417Z"
   },
   {
    "duration": 9,
    "start_time": "2022-11-15T00:46:08.424Z"
   },
   {
    "duration": 22,
    "start_time": "2022-11-15T00:46:08.435Z"
   },
   {
    "duration": 104,
    "start_time": "2022-11-15T00:46:08.459Z"
   },
   {
    "duration": 9,
    "start_time": "2022-11-15T00:46:08.565Z"
   },
   {
    "duration": 7,
    "start_time": "2022-11-15T00:46:08.576Z"
   },
   {
    "duration": 30,
    "start_time": "2022-11-15T00:46:08.584Z"
   },
   {
    "duration": 13,
    "start_time": "2022-11-15T00:46:08.616Z"
   },
   {
    "duration": 12,
    "start_time": "2022-11-15T00:46:08.630Z"
   },
   {
    "duration": 8,
    "start_time": "2022-11-15T00:46:08.713Z"
   },
   {
    "duration": 6,
    "start_time": "2022-11-15T00:46:08.813Z"
   },
   {
    "duration": 11,
    "start_time": "2022-11-15T00:46:08.821Z"
   },
   {
    "duration": 8,
    "start_time": "2022-11-15T00:46:08.834Z"
   },
   {
    "duration": 4,
    "start_time": "2022-11-15T00:46:08.843Z"
   },
   {
    "duration": 5,
    "start_time": "2022-11-15T00:46:08.849Z"
   },
   {
    "duration": 5,
    "start_time": "2022-11-15T00:46:08.855Z"
   },
   {
    "duration": 22,
    "start_time": "2022-11-15T00:46:08.862Z"
   },
   {
    "duration": 29,
    "start_time": "2022-11-15T00:46:08.885Z"
   },
   {
    "duration": 14,
    "start_time": "2022-11-15T00:46:08.915Z"
   },
   {
    "duration": 12,
    "start_time": "2022-11-15T00:46:08.930Z"
   },
   {
    "duration": 11,
    "start_time": "2022-11-15T00:46:08.943Z"
   },
   {
    "duration": 10,
    "start_time": "2022-11-15T00:46:08.955Z"
   },
   {
    "duration": 12,
    "start_time": "2022-11-15T00:46:08.967Z"
   },
   {
    "duration": 40,
    "start_time": "2022-11-15T00:46:08.980Z"
   },
   {
    "duration": 11,
    "start_time": "2022-11-15T00:46:09.021Z"
   },
   {
    "duration": 14,
    "start_time": "2022-11-15T00:46:09.036Z"
   },
   {
    "duration": 10,
    "start_time": "2022-11-15T00:46:09.052Z"
   },
   {
    "duration": 21,
    "start_time": "2022-11-15T00:46:09.063Z"
   },
   {
    "duration": 6,
    "start_time": "2022-11-15T00:46:09.086Z"
   },
   {
    "duration": 6,
    "start_time": "2022-11-15T00:46:09.112Z"
   },
   {
    "duration": 10,
    "start_time": "2022-11-15T00:46:09.120Z"
   },
   {
    "duration": 9,
    "start_time": "2022-11-15T00:46:09.131Z"
   },
   {
    "duration": 7,
    "start_time": "2022-11-15T00:46:09.142Z"
   },
   {
    "duration": 15,
    "start_time": "2022-11-15T00:46:09.151Z"
   },
   {
    "duration": 6,
    "start_time": "2022-11-15T00:46:09.168Z"
   },
   {
    "duration": 7933,
    "start_time": "2022-11-15T00:46:09.176Z"
   },
   {
    "duration": 3,
    "start_time": "2022-11-15T00:46:17.112Z"
   },
   {
    "duration": 4,
    "start_time": "2022-11-15T00:46:17.120Z"
   },
   {
    "duration": 3,
    "start_time": "2022-11-15T01:38:47.378Z"
   },
   {
    "duration": 4,
    "start_time": "2022-11-15T01:38:51.336Z"
   },
   {
    "duration": 3,
    "start_time": "2022-11-15T01:39:30.221Z"
   },
   {
    "duration": 1650,
    "start_time": "2022-11-15T01:47:34.556Z"
   },
   {
    "duration": 386,
    "start_time": "2022-11-15T01:47:36.208Z"
   },
   {
    "duration": 17,
    "start_time": "2022-11-15T01:47:36.596Z"
   },
   {
    "duration": 14,
    "start_time": "2022-11-15T01:47:36.615Z"
   },
   {
    "duration": 9,
    "start_time": "2022-11-15T01:47:36.630Z"
   },
   {
    "duration": 16,
    "start_time": "2022-11-15T01:47:36.640Z"
   },
   {
    "duration": 13,
    "start_time": "2022-11-15T01:47:36.658Z"
   },
   {
    "duration": 9,
    "start_time": "2022-11-15T01:47:36.672Z"
   },
   {
    "duration": 37,
    "start_time": "2022-11-15T01:47:36.682Z"
   },
   {
    "duration": 45,
    "start_time": "2022-11-15T01:47:36.721Z"
   },
   {
    "duration": 64,
    "start_time": "2022-11-15T01:47:36.767Z"
   },
   {
    "duration": 47,
    "start_time": "2022-11-15T01:47:36.833Z"
   },
   {
    "duration": 31,
    "start_time": "2022-11-15T01:47:36.882Z"
   },
   {
    "duration": 17,
    "start_time": "2022-11-15T01:47:36.915Z"
   },
   {
    "duration": 25,
    "start_time": "2022-11-15T01:47:36.934Z"
   },
   {
    "duration": 32,
    "start_time": "2022-11-15T01:47:36.961Z"
   },
   {
    "duration": 40,
    "start_time": "2022-11-15T01:47:36.994Z"
   },
   {
    "duration": 30,
    "start_time": "2022-11-15T01:47:37.036Z"
   },
   {
    "duration": 301,
    "start_time": "2022-11-15T01:47:37.068Z"
   },
   {
    "duration": 217,
    "start_time": "2022-11-15T01:47:37.371Z"
   },
   {
    "duration": 6,
    "start_time": "2022-11-15T01:47:37.590Z"
   },
   {
    "duration": 333,
    "start_time": "2022-11-15T01:47:37.598Z"
   },
   {
    "duration": 3,
    "start_time": "2022-11-15T01:47:37.933Z"
   },
   {
    "duration": 25,
    "start_time": "2022-11-15T01:47:37.938Z"
   },
   {
    "duration": 72,
    "start_time": "2022-11-15T01:47:37.965Z"
   },
   {
    "duration": 9,
    "start_time": "2022-11-15T01:47:38.039Z"
   },
   {
    "duration": 13,
    "start_time": "2022-11-15T01:47:38.049Z"
   },
   {
    "duration": 25,
    "start_time": "2022-11-15T01:47:38.066Z"
   },
   {
    "duration": 13,
    "start_time": "2022-11-15T01:47:38.093Z"
   },
   {
    "duration": 9,
    "start_time": "2022-11-15T01:47:38.107Z"
   },
   {
    "duration": 95,
    "start_time": "2022-11-15T01:47:38.118Z"
   },
   {
    "duration": 96,
    "start_time": "2022-11-15T01:47:38.217Z"
   },
   {
    "duration": 3,
    "start_time": "2022-11-15T01:47:38.315Z"
   },
   {
    "duration": 16,
    "start_time": "2022-11-15T01:47:38.319Z"
   },
   {
    "duration": 17,
    "start_time": "2022-11-15T01:47:38.337Z"
   },
   {
    "duration": 22,
    "start_time": "2022-11-15T01:47:38.355Z"
   },
   {
    "duration": 65,
    "start_time": "2022-11-15T01:47:38.379Z"
   },
   {
    "duration": 9,
    "start_time": "2022-11-15T01:47:38.446Z"
   },
   {
    "duration": 15,
    "start_time": "2022-11-15T01:47:38.457Z"
   },
   {
    "duration": 21,
    "start_time": "2022-11-15T01:47:38.474Z"
   },
   {
    "duration": 17,
    "start_time": "2022-11-15T01:47:38.497Z"
   },
   {
    "duration": 13,
    "start_time": "2022-11-15T01:47:38.515Z"
   },
   {
    "duration": 90,
    "start_time": "2022-11-15T01:47:38.531Z"
   },
   {
    "duration": 11,
    "start_time": "2022-11-15T01:47:38.713Z"
   },
   {
    "duration": 11,
    "start_time": "2022-11-15T01:47:38.726Z"
   },
   {
    "duration": 11,
    "start_time": "2022-11-15T01:47:38.738Z"
   },
   {
    "duration": 24,
    "start_time": "2022-11-15T01:47:38.751Z"
   },
   {
    "duration": 61,
    "start_time": "2022-11-15T01:47:38.777Z"
   },
   {
    "duration": 9,
    "start_time": "2022-11-15T01:47:38.839Z"
   },
   {
    "duration": 12,
    "start_time": "2022-11-15T01:47:38.849Z"
   },
   {
    "duration": 28,
    "start_time": "2022-11-15T01:47:38.863Z"
   },
   {
    "duration": 13,
    "start_time": "2022-11-15T01:47:38.893Z"
   },
   {
    "duration": 13,
    "start_time": "2022-11-15T01:47:38.908Z"
   },
   {
    "duration": 99,
    "start_time": "2022-11-15T01:47:39.013Z"
   },
   {
    "duration": 14,
    "start_time": "2022-11-15T01:47:39.114Z"
   },
   {
    "duration": 9,
    "start_time": "2022-11-15T01:47:39.130Z"
   },
   {
    "duration": 13,
    "start_time": "2022-11-15T01:47:39.141Z"
   },
   {
    "duration": 7,
    "start_time": "2022-11-15T01:47:39.156Z"
   },
   {
    "duration": 12,
    "start_time": "2022-11-15T01:47:39.165Z"
   },
   {
    "duration": 12,
    "start_time": "2022-11-15T01:47:39.179Z"
   },
   {
    "duration": 29,
    "start_time": "2022-11-15T01:47:39.193Z"
   },
   {
    "duration": 4,
    "start_time": "2022-11-15T01:47:39.224Z"
   },
   {
    "duration": 21,
    "start_time": "2022-11-15T01:47:39.229Z"
   },
   {
    "duration": 10,
    "start_time": "2022-11-15T01:47:39.252Z"
   },
   {
    "duration": 17,
    "start_time": "2022-11-15T01:47:39.265Z"
   },
   {
    "duration": 33,
    "start_time": "2022-11-15T01:47:39.283Z"
   },
   {
    "duration": 14,
    "start_time": "2022-11-15T01:47:39.318Z"
   },
   {
    "duration": 14,
    "start_time": "2022-11-15T01:47:39.334Z"
   },
   {
    "duration": 14,
    "start_time": "2022-11-15T01:47:39.350Z"
   },
   {
    "duration": 13,
    "start_time": "2022-11-15T01:47:39.366Z"
   },
   {
    "duration": 9,
    "start_time": "2022-11-15T01:47:39.381Z"
   },
   {
    "duration": 8,
    "start_time": "2022-11-15T01:47:39.411Z"
   },
   {
    "duration": 11,
    "start_time": "2022-11-15T01:47:39.420Z"
   },
   {
    "duration": 10,
    "start_time": "2022-11-15T01:47:39.433Z"
   },
   {
    "duration": 9,
    "start_time": "2022-11-15T01:47:39.444Z"
   },
   {
    "duration": 16,
    "start_time": "2022-11-15T01:47:39.455Z"
   },
   {
    "duration": 20,
    "start_time": "2022-11-15T01:47:39.472Z"
   },
   {
    "duration": 8,
    "start_time": "2022-11-15T01:47:39.493Z"
   },
   {
    "duration": 7073,
    "start_time": "2022-11-15T01:47:39.503Z"
   },
   {
    "duration": 4,
    "start_time": "2022-11-15T01:47:46.577Z"
   },
   {
    "duration": 22,
    "start_time": "2022-11-15T01:47:46.582Z"
   },
   {
    "duration": 3,
    "start_time": "2022-11-15T01:47:57.969Z"
   },
   {
    "duration": 422,
    "start_time": "2022-11-15T01:48:11.361Z"
   },
   {
    "duration": 5,
    "start_time": "2022-11-15T01:48:44.123Z"
   },
   {
    "duration": 1584,
    "start_time": "2022-11-15T01:49:08.398Z"
   },
   {
    "duration": 366,
    "start_time": "2022-11-15T01:49:09.984Z"
   },
   {
    "duration": 14,
    "start_time": "2022-11-15T01:49:10.351Z"
   },
   {
    "duration": 24,
    "start_time": "2022-11-15T01:49:10.367Z"
   },
   {
    "duration": 10,
    "start_time": "2022-11-15T01:49:10.393Z"
   },
   {
    "duration": 15,
    "start_time": "2022-11-15T01:49:10.405Z"
   },
   {
    "duration": 12,
    "start_time": "2022-11-15T01:49:10.422Z"
   },
   {
    "duration": 9,
    "start_time": "2022-11-15T01:49:10.436Z"
   },
   {
    "duration": 19,
    "start_time": "2022-11-15T01:49:10.446Z"
   },
   {
    "duration": 68,
    "start_time": "2022-11-15T01:49:10.468Z"
   },
   {
    "duration": 43,
    "start_time": "2022-11-15T01:49:10.538Z"
   },
   {
    "duration": 68,
    "start_time": "2022-11-15T01:49:10.583Z"
   },
   {
    "duration": 17,
    "start_time": "2022-11-15T01:49:10.653Z"
   },
   {
    "duration": 26,
    "start_time": "2022-11-15T01:49:10.671Z"
   },
   {
    "duration": 25,
    "start_time": "2022-11-15T01:49:10.698Z"
   },
   {
    "duration": 38,
    "start_time": "2022-11-15T01:49:10.725Z"
   },
   {
    "duration": 27,
    "start_time": "2022-11-15T01:49:10.764Z"
   },
   {
    "duration": 38,
    "start_time": "2022-11-15T01:49:10.793Z"
   },
   {
    "duration": 282,
    "start_time": "2022-11-15T01:49:10.832Z"
   },
   {
    "duration": 209,
    "start_time": "2022-11-15T01:49:11.116Z"
   },
   {
    "duration": 5,
    "start_time": "2022-11-15T01:49:11.327Z"
   },
   {
    "duration": 338,
    "start_time": "2022-11-15T01:49:11.334Z"
   },
   {
    "duration": 3,
    "start_time": "2022-11-15T01:49:11.673Z"
   },
   {
    "duration": 25,
    "start_time": "2022-11-15T01:49:11.677Z"
   },
   {
    "duration": 54,
    "start_time": "2022-11-15T01:49:11.704Z"
   },
   {
    "duration": 9,
    "start_time": "2022-11-15T01:49:11.760Z"
   },
   {
    "duration": 7,
    "start_time": "2022-11-15T01:49:11.771Z"
   },
   {
    "duration": 30,
    "start_time": "2022-11-15T01:49:11.782Z"
   },
   {
    "duration": 11,
    "start_time": "2022-11-15T01:49:11.814Z"
   },
   {
    "duration": 8,
    "start_time": "2022-11-15T01:49:11.827Z"
   },
   {
    "duration": 78,
    "start_time": "2022-11-15T01:49:11.837Z"
   },
   {
    "duration": 97,
    "start_time": "2022-11-15T01:49:11.916Z"
   },
   {
    "duration": 4,
    "start_time": "2022-11-15T01:49:12.014Z"
   },
   {
    "duration": 14,
    "start_time": "2022-11-15T01:49:12.019Z"
   },
   {
    "duration": 10,
    "start_time": "2022-11-15T01:49:12.035Z"
   },
   {
    "duration": 16,
    "start_time": "2022-11-15T01:49:12.047Z"
   },
   {
    "duration": 63,
    "start_time": "2022-11-15T01:49:12.065Z"
   },
   {
    "duration": 10,
    "start_time": "2022-11-15T01:49:12.130Z"
   },
   {
    "duration": 8,
    "start_time": "2022-11-15T01:49:12.142Z"
   },
   {
    "duration": 15,
    "start_time": "2022-11-15T01:49:12.151Z"
   },
   {
    "duration": 12,
    "start_time": "2022-11-15T01:49:12.168Z"
   },
   {
    "duration": 33,
    "start_time": "2022-11-15T01:49:12.182Z"
   },
   {
    "duration": 4,
    "start_time": "2022-11-15T01:49:12.217Z"
   },
   {
    "duration": 91,
    "start_time": "2022-11-15T01:49:12.223Z"
   },
   {
    "duration": 6,
    "start_time": "2022-11-15T01:49:12.316Z"
   },
   {
    "duration": 8,
    "start_time": "2022-11-15T01:49:12.323Z"
   },
   {
    "duration": 14,
    "start_time": "2022-11-15T01:49:12.332Z"
   },
   {
    "duration": 86,
    "start_time": "2022-11-15T01:49:12.348Z"
   },
   {
    "duration": 9,
    "start_time": "2022-11-15T01:49:12.436Z"
   },
   {
    "duration": 7,
    "start_time": "2022-11-15T01:49:12.447Z"
   },
   {
    "duration": 15,
    "start_time": "2022-11-15T01:49:12.456Z"
   },
   {
    "duration": 13,
    "start_time": "2022-11-15T01:49:12.472Z"
   },
   {
    "duration": 29,
    "start_time": "2022-11-15T01:49:12.487Z"
   },
   {
    "duration": 107,
    "start_time": "2022-11-15T01:49:12.517Z"
   },
   {
    "duration": 10,
    "start_time": "2022-11-15T01:49:12.625Z"
   },
   {
    "duration": 18,
    "start_time": "2022-11-15T01:49:12.637Z"
   },
   {
    "duration": 8,
    "start_time": "2022-11-15T01:49:12.657Z"
   },
   {
    "duration": 5,
    "start_time": "2022-11-15T01:49:12.666Z"
   },
   {
    "duration": 3,
    "start_time": "2022-11-15T01:49:12.713Z"
   },
   {
    "duration": 13,
    "start_time": "2022-11-15T01:49:12.718Z"
   },
   {
    "duration": 23,
    "start_time": "2022-11-15T01:49:12.732Z"
   },
   {
    "duration": 4,
    "start_time": "2022-11-15T01:49:12.756Z"
   },
   {
    "duration": 16,
    "start_time": "2022-11-15T01:49:12.761Z"
   },
   {
    "duration": 11,
    "start_time": "2022-11-15T01:49:12.779Z"
   },
   {
    "duration": 26,
    "start_time": "2022-11-15T01:49:12.791Z"
   },
   {
    "duration": 8,
    "start_time": "2022-11-15T01:49:12.819Z"
   },
   {
    "duration": 9,
    "start_time": "2022-11-15T01:49:12.829Z"
   },
   {
    "duration": 17,
    "start_time": "2022-11-15T01:49:12.840Z"
   },
   {
    "duration": 13,
    "start_time": "2022-11-15T01:49:12.858Z"
   },
   {
    "duration": 14,
    "start_time": "2022-11-15T01:49:12.872Z"
   },
   {
    "duration": 29,
    "start_time": "2022-11-15T01:49:12.887Z"
   },
   {
    "duration": 18,
    "start_time": "2022-11-15T01:49:12.918Z"
   },
   {
    "duration": 9,
    "start_time": "2022-11-15T01:49:12.937Z"
   },
   {
    "duration": 10,
    "start_time": "2022-11-15T01:49:12.947Z"
   },
   {
    "duration": 7,
    "start_time": "2022-11-15T01:49:12.958Z"
   },
   {
    "duration": 15,
    "start_time": "2022-11-15T01:49:12.967Z"
   },
   {
    "duration": 17,
    "start_time": "2022-11-15T01:49:12.984Z"
   },
   {
    "duration": 8,
    "start_time": "2022-11-15T01:49:13.003Z"
   },
   {
    "duration": 7044,
    "start_time": "2022-11-15T01:49:13.012Z"
   },
   {
    "duration": 400,
    "start_time": "2022-11-15T01:49:20.057Z"
   },
   {
    "duration": 3,
    "start_time": "2022-11-15T01:49:20.459Z"
   },
   {
    "duration": 30,
    "start_time": "2022-11-15T01:49:20.467Z"
   },
   {
    "duration": 1552,
    "start_time": "2022-11-15T01:55:00.758Z"
   },
   {
    "duration": 368,
    "start_time": "2022-11-15T01:55:02.312Z"
   },
   {
    "duration": 14,
    "start_time": "2022-11-15T01:55:02.682Z"
   },
   {
    "duration": 28,
    "start_time": "2022-11-15T01:55:02.698Z"
   },
   {
    "duration": 10,
    "start_time": "2022-11-15T01:55:02.728Z"
   },
   {
    "duration": 17,
    "start_time": "2022-11-15T01:55:02.740Z"
   },
   {
    "duration": 23,
    "start_time": "2022-11-15T01:55:02.759Z"
   },
   {
    "duration": 11,
    "start_time": "2022-11-15T01:55:02.784Z"
   },
   {
    "duration": 20,
    "start_time": "2022-11-15T01:55:02.797Z"
   },
   {
    "duration": 47,
    "start_time": "2022-11-15T01:55:02.820Z"
   },
   {
    "duration": 57,
    "start_time": "2022-11-15T01:55:02.869Z"
   },
   {
    "duration": 46,
    "start_time": "2022-11-15T01:55:02.927Z"
   },
   {
    "duration": 37,
    "start_time": "2022-11-15T01:55:02.974Z"
   },
   {
    "duration": 17,
    "start_time": "2022-11-15T01:55:03.013Z"
   },
   {
    "duration": 31,
    "start_time": "2022-11-15T01:55:03.032Z"
   },
   {
    "duration": 35,
    "start_time": "2022-11-15T01:55:03.065Z"
   },
   {
    "duration": 30,
    "start_time": "2022-11-15T01:55:03.101Z"
   },
   {
    "duration": 28,
    "start_time": "2022-11-15T01:55:03.132Z"
   },
   {
    "duration": 289,
    "start_time": "2022-11-15T01:55:03.161Z"
   },
   {
    "duration": 226,
    "start_time": "2022-11-15T01:55:03.451Z"
   },
   {
    "duration": 6,
    "start_time": "2022-11-15T01:55:03.678Z"
   },
   {
    "duration": 363,
    "start_time": "2022-11-15T01:55:03.686Z"
   },
   {
    "duration": 3,
    "start_time": "2022-11-15T01:55:04.050Z"
   },
   {
    "duration": 25,
    "start_time": "2022-11-15T01:55:04.055Z"
   },
   {
    "duration": 70,
    "start_time": "2022-11-15T01:55:04.082Z"
   },
   {
    "duration": 9,
    "start_time": "2022-11-15T01:55:04.154Z"
   },
   {
    "duration": 11,
    "start_time": "2022-11-15T01:55:04.165Z"
   },
   {
    "duration": 14,
    "start_time": "2022-11-15T01:55:04.180Z"
   },
   {
    "duration": 27,
    "start_time": "2022-11-15T01:55:04.196Z"
   },
   {
    "duration": 17,
    "start_time": "2022-11-15T01:55:04.224Z"
   },
   {
    "duration": 99,
    "start_time": "2022-11-15T01:55:04.315Z"
   },
   {
    "duration": 15,
    "start_time": "2022-11-15T01:55:04.415Z"
   },
   {
    "duration": 11,
    "start_time": "2022-11-15T01:55:04.432Z"
   },
   {
    "duration": 13,
    "start_time": "2022-11-15T01:55:04.444Z"
   },
   {
    "duration": 14,
    "start_time": "2022-11-15T01:55:04.459Z"
   },
   {
    "duration": 17,
    "start_time": "2022-11-15T01:55:04.475Z"
   },
   {
    "duration": 62,
    "start_time": "2022-11-15T01:55:04.493Z"
   },
   {
    "duration": 10,
    "start_time": "2022-11-15T01:55:04.556Z"
   },
   {
    "duration": 10,
    "start_time": "2022-11-15T01:55:04.567Z"
   },
   {
    "duration": 19,
    "start_time": "2022-11-15T01:55:04.579Z"
   },
   {
    "duration": 20,
    "start_time": "2022-11-15T01:55:04.600Z"
   },
   {
    "duration": 9,
    "start_time": "2022-11-15T01:55:04.622Z"
   },
   {
    "duration": 79,
    "start_time": "2022-11-15T01:55:04.633Z"
   },
   {
    "duration": 4,
    "start_time": "2022-11-15T01:55:04.716Z"
   },
   {
    "duration": 100,
    "start_time": "2022-11-15T01:55:04.722Z"
   },
   {
    "duration": 13,
    "start_time": "2022-11-15T01:55:04.824Z"
   },
   {
    "duration": 20,
    "start_time": "2022-11-15T01:55:04.838Z"
   },
   {
    "duration": 68,
    "start_time": "2022-11-15T01:55:04.861Z"
   },
   {
    "duration": 9,
    "start_time": "2022-11-15T01:55:04.931Z"
   },
   {
    "duration": 18,
    "start_time": "2022-11-15T01:55:04.941Z"
   },
   {
    "duration": 31,
    "start_time": "2022-11-15T01:55:04.960Z"
   },
   {
    "duration": 13,
    "start_time": "2022-11-15T01:55:04.992Z"
   },
   {
    "duration": 14,
    "start_time": "2022-11-15T01:55:05.006Z"
   },
   {
    "duration": 95,
    "start_time": "2022-11-15T01:55:05.021Z"
   },
   {
    "duration": 101,
    "start_time": "2022-11-15T01:55:05.118Z"
   },
   {
    "duration": 8,
    "start_time": "2022-11-15T01:55:05.221Z"
   },
   {
    "duration": 13,
    "start_time": "2022-11-15T01:55:05.231Z"
   },
   {
    "duration": 15,
    "start_time": "2022-11-15T01:55:05.246Z"
   },
   {
    "duration": 10,
    "start_time": "2022-11-15T01:55:05.262Z"
   },
   {
    "duration": 10,
    "start_time": "2022-11-15T01:55:05.274Z"
   },
   {
    "duration": 27,
    "start_time": "2022-11-15T01:55:05.286Z"
   },
   {
    "duration": 4,
    "start_time": "2022-11-15T01:55:05.314Z"
   },
   {
    "duration": 20,
    "start_time": "2022-11-15T01:55:05.319Z"
   },
   {
    "duration": 11,
    "start_time": "2022-11-15T01:55:05.340Z"
   },
   {
    "duration": 16,
    "start_time": "2022-11-15T01:55:05.353Z"
   },
   {
    "duration": 25,
    "start_time": "2022-11-15T01:55:05.371Z"
   },
   {
    "duration": 18,
    "start_time": "2022-11-15T01:55:05.398Z"
   },
   {
    "duration": 27,
    "start_time": "2022-11-15T01:55:05.418Z"
   },
   {
    "duration": 18,
    "start_time": "2022-11-15T01:55:05.446Z"
   },
   {
    "duration": 14,
    "start_time": "2022-11-15T01:55:05.466Z"
   },
   {
    "duration": 12,
    "start_time": "2022-11-15T01:55:05.482Z"
   },
   {
    "duration": 8,
    "start_time": "2022-11-15T01:55:05.495Z"
   },
   {
    "duration": 7,
    "start_time": "2022-11-15T01:55:05.505Z"
   },
   {
    "duration": 11,
    "start_time": "2022-11-15T01:55:05.514Z"
   },
   {
    "duration": 6,
    "start_time": "2022-11-15T01:55:05.526Z"
   },
   {
    "duration": 7,
    "start_time": "2022-11-15T01:55:05.534Z"
   },
   {
    "duration": 9,
    "start_time": "2022-11-15T01:55:05.543Z"
   },
   {
    "duration": 7065,
    "start_time": "2022-11-15T01:55:05.553Z"
   },
   {
    "duration": 3,
    "start_time": "2022-11-15T01:55:12.620Z"
   },
   {
    "duration": 7,
    "start_time": "2022-11-15T01:55:12.624Z"
   },
   {
    "duration": 57,
    "start_time": "2022-11-15T03:09:58.922Z"
   },
   {
    "duration": 1625,
    "start_time": "2022-11-15T03:10:10.222Z"
   },
   {
    "duration": 1526,
    "start_time": "2022-11-15T03:10:11.849Z"
   },
   {
    "duration": 17,
    "start_time": "2022-11-15T03:10:13.376Z"
   },
   {
    "duration": 13,
    "start_time": "2022-11-15T03:10:13.395Z"
   },
   {
    "duration": 18,
    "start_time": "2022-11-15T03:10:13.410Z"
   },
   {
    "duration": 19,
    "start_time": "2022-11-15T03:10:13.431Z"
   },
   {
    "duration": 13,
    "start_time": "2022-11-15T03:10:13.452Z"
   },
   {
    "duration": 10,
    "start_time": "2022-11-15T03:10:13.466Z"
   },
   {
    "duration": 43,
    "start_time": "2022-11-15T03:10:13.477Z"
   },
   {
    "duration": 15,
    "start_time": "2022-11-15T03:10:13.524Z"
   },
   {
    "duration": 3,
    "start_time": "2022-11-15T03:14:06.048Z"
   },
   {
    "duration": 11,
    "start_time": "2022-11-15T03:14:32.158Z"
   },
   {
    "duration": 10,
    "start_time": "2022-11-15T03:14:40.969Z"
   },
   {
    "duration": 22,
    "start_time": "2022-11-15T03:22:04.218Z"
   },
   {
    "duration": 9,
    "start_time": "2022-11-15T03:22:28.763Z"
   },
   {
    "duration": 9,
    "start_time": "2022-11-15T03:23:08.205Z"
   },
   {
    "duration": 15,
    "start_time": "2022-11-15T03:23:17.206Z"
   },
   {
    "duration": 15,
    "start_time": "2022-11-15T03:23:24.740Z"
   },
   {
    "duration": 9,
    "start_time": "2022-11-15T03:23:41.370Z"
   },
   {
    "duration": 10,
    "start_time": "2022-11-15T03:23:47.381Z"
   },
   {
    "duration": 442,
    "start_time": "2022-11-15T03:30:10.140Z"
   },
   {
    "duration": 323,
    "start_time": "2022-11-15T03:30:22.106Z"
   },
   {
    "duration": 13,
    "start_time": "2022-11-15T03:35:36.487Z"
   },
   {
    "duration": 10,
    "start_time": "2022-11-15T03:35:46.262Z"
   },
   {
    "duration": 5,
    "start_time": "2022-11-15T03:36:14.287Z"
   },
   {
    "duration": 319,
    "start_time": "2022-11-15T03:36:48.367Z"
   },
   {
    "duration": 193,
    "start_time": "2022-11-15T03:36:54.579Z"
   },
   {
    "duration": 7,
    "start_time": "2022-11-15T03:37:11.992Z"
   },
   {
    "duration": 5,
    "start_time": "2022-11-15T03:37:19.829Z"
   },
   {
    "duration": 261,
    "start_time": "2022-11-15T03:37:25.652Z"
   },
   {
    "duration": 286,
    "start_time": "2022-11-15T03:37:30.099Z"
   },
   {
    "duration": 412,
    "start_time": "2022-11-15T03:49:32.947Z"
   },
   {
    "duration": 577,
    "start_time": "2022-11-15T03:49:52.058Z"
   },
   {
    "duration": 284,
    "start_time": "2022-11-15T03:50:15.077Z"
   },
   {
    "duration": 246,
    "start_time": "2022-11-15T03:50:40.068Z"
   },
   {
    "duration": 277,
    "start_time": "2022-11-15T03:51:39.850Z"
   },
   {
    "duration": 397,
    "start_time": "2022-11-15T03:54:31.012Z"
   },
   {
    "duration": 441,
    "start_time": "2022-11-15T03:55:13.373Z"
   },
   {
    "duration": 230,
    "start_time": "2022-11-15T03:55:17.178Z"
   },
   {
    "duration": 300,
    "start_time": "2022-11-15T03:56:33.255Z"
   },
   {
    "duration": 233,
    "start_time": "2022-11-15T03:56:33.825Z"
   },
   {
    "duration": 9,
    "start_time": "2022-11-15T03:56:34.813Z"
   },
   {
    "duration": 317,
    "start_time": "2022-11-15T03:56:35.926Z"
   },
   {
    "duration": 59,
    "start_time": "2022-11-15T03:58:39.418Z"
   },
   {
    "duration": 2,
    "start_time": "2022-11-15T04:11:13.304Z"
   },
   {
    "duration": 43,
    "start_time": "2022-11-15T04:11:44.175Z"
   },
   {
    "duration": 15,
    "start_time": "2022-11-15T04:11:56.192Z"
   },
   {
    "duration": 1420,
    "start_time": "2022-11-15T04:12:04.854Z"
   },
   {
    "duration": 422,
    "start_time": "2022-11-15T04:12:06.277Z"
   },
   {
    "duration": 15,
    "start_time": "2022-11-15T04:12:06.700Z"
   },
   {
    "duration": 18,
    "start_time": "2022-11-15T04:12:06.717Z"
   },
   {
    "duration": 8,
    "start_time": "2022-11-15T04:12:06.737Z"
   },
   {
    "duration": 12,
    "start_time": "2022-11-15T04:12:06.747Z"
   },
   {
    "duration": 9,
    "start_time": "2022-11-15T04:12:06.761Z"
   },
   {
    "duration": 44,
    "start_time": "2022-11-15T04:12:06.771Z"
   },
   {
    "duration": 9,
    "start_time": "2022-11-15T04:12:06.817Z"
   },
   {
    "duration": 10,
    "start_time": "2022-11-15T04:12:06.829Z"
   },
   {
    "duration": 16,
    "start_time": "2022-11-15T04:12:06.841Z"
   },
   {
    "duration": 8,
    "start_time": "2022-11-15T04:12:06.859Z"
   },
   {
    "duration": 84,
    "start_time": "2022-11-15T04:12:06.869Z"
   },
   {
    "duration": 62,
    "start_time": "2022-11-15T04:12:06.954Z"
   },
   {
    "duration": 47,
    "start_time": "2022-11-15T04:12:07.018Z"
   },
   {
    "duration": 19,
    "start_time": "2022-11-15T04:12:07.066Z"
   },
   {
    "duration": 41,
    "start_time": "2022-11-15T04:12:07.087Z"
   },
   {
    "duration": 31,
    "start_time": "2022-11-15T04:12:07.130Z"
   },
   {
    "duration": 33,
    "start_time": "2022-11-15T04:12:07.163Z"
   },
   {
    "duration": 39,
    "start_time": "2022-11-15T04:12:07.197Z"
   },
   {
    "duration": 27,
    "start_time": "2022-11-15T04:12:07.238Z"
   },
   {
    "duration": 323,
    "start_time": "2022-11-15T04:12:07.266Z"
   },
   {
    "duration": 226,
    "start_time": "2022-11-15T04:12:07.591Z"
   },
   {
    "duration": 6,
    "start_time": "2022-11-15T04:12:07.818Z"
   },
   {
    "duration": 373,
    "start_time": "2022-11-15T04:12:07.825Z"
   },
   {
    "duration": 4,
    "start_time": "2022-11-15T04:12:08.200Z"
   },
   {
    "duration": 19,
    "start_time": "2022-11-15T04:12:08.206Z"
   },
   {
    "duration": 55,
    "start_time": "2022-11-15T04:12:08.230Z"
   },
   {
    "duration": 33,
    "start_time": "2022-11-15T04:12:08.287Z"
   },
   {
    "duration": 9,
    "start_time": "2022-11-15T04:12:08.321Z"
   },
   {
    "duration": 19,
    "start_time": "2022-11-15T04:12:08.331Z"
   },
   {
    "duration": 13,
    "start_time": "2022-11-15T04:12:08.352Z"
   },
   {
    "duration": 56,
    "start_time": "2022-11-15T04:12:08.367Z"
   },
   {
    "duration": 105,
    "start_time": "2022-11-15T04:12:08.425Z"
   },
   {
    "duration": 24,
    "start_time": "2022-11-15T04:12:08.532Z"
   },
   {
    "duration": 7,
    "start_time": "2022-11-15T04:12:08.558Z"
   },
   {
    "duration": 14,
    "start_time": "2022-11-15T04:12:08.567Z"
   },
   {
    "duration": 8,
    "start_time": "2022-11-15T04:12:08.582Z"
   },
   {
    "duration": 18,
    "start_time": "2022-11-15T04:12:08.591Z"
   },
   {
    "duration": 59,
    "start_time": "2022-11-15T04:12:08.611Z"
   },
   {
    "duration": 9,
    "start_time": "2022-11-15T04:12:08.672Z"
   },
   {
    "duration": 17,
    "start_time": "2022-11-15T04:12:08.683Z"
   },
   {
    "duration": 25,
    "start_time": "2022-11-15T04:12:08.701Z"
   },
   {
    "duration": 13,
    "start_time": "2022-11-15T04:12:08.727Z"
   },
   {
    "duration": 8,
    "start_time": "2022-11-15T04:12:08.741Z"
   },
   {
    "duration": 10,
    "start_time": "2022-11-15T04:12:08.811Z"
   },
   {
    "duration": 91,
    "start_time": "2022-11-15T04:12:08.823Z"
   },
   {
    "duration": 8,
    "start_time": "2022-11-15T04:12:08.916Z"
   },
   {
    "duration": 7,
    "start_time": "2022-11-15T04:12:08.925Z"
   },
   {
    "duration": 15,
    "start_time": "2022-11-15T04:12:08.933Z"
   },
   {
    "duration": 71,
    "start_time": "2022-11-15T04:12:08.950Z"
   },
   {
    "duration": 9,
    "start_time": "2022-11-15T04:12:09.023Z"
   },
   {
    "duration": 10,
    "start_time": "2022-11-15T04:12:09.034Z"
   },
   {
    "duration": 21,
    "start_time": "2022-11-15T04:12:09.045Z"
   },
   {
    "duration": 12,
    "start_time": "2022-11-15T04:12:09.068Z"
   },
   {
    "duration": 35,
    "start_time": "2022-11-15T04:12:09.081Z"
   },
   {
    "duration": 97,
    "start_time": "2022-11-15T04:12:09.120Z"
   },
   {
    "duration": 13,
    "start_time": "2022-11-15T04:12:09.220Z"
   },
   {
    "duration": 10,
    "start_time": "2022-11-15T04:12:09.235Z"
   },
   {
    "duration": 68,
    "start_time": "2022-11-15T04:12:09.247Z"
   },
   {
    "duration": 8,
    "start_time": "2022-11-15T04:12:09.316Z"
   },
   {
    "duration": 17,
    "start_time": "2022-11-15T04:12:09.326Z"
   },
   {
    "duration": 10,
    "start_time": "2022-11-15T04:12:09.345Z"
   },
   {
    "duration": 23,
    "start_time": "2022-11-15T04:12:09.357Z"
   },
   {
    "duration": 4,
    "start_time": "2022-11-15T04:12:09.381Z"
   },
   {
    "duration": 26,
    "start_time": "2022-11-15T04:12:09.386Z"
   },
   {
    "duration": 18,
    "start_time": "2022-11-15T04:12:09.414Z"
   },
   {
    "duration": 13,
    "start_time": "2022-11-15T04:12:09.433Z"
   },
   {
    "duration": 11,
    "start_time": "2022-11-15T04:12:09.448Z"
   },
   {
    "duration": 8,
    "start_time": "2022-11-15T04:12:09.462Z"
   },
   {
    "duration": 12,
    "start_time": "2022-11-15T04:12:09.472Z"
   },
   {
    "duration": 32,
    "start_time": "2022-11-15T04:12:09.486Z"
   },
   {
    "duration": 14,
    "start_time": "2022-11-15T04:12:09.520Z"
   },
   {
    "duration": 13,
    "start_time": "2022-11-15T04:12:09.536Z"
   },
   {
    "duration": 10,
    "start_time": "2022-11-15T04:12:09.551Z"
   },
   {
    "duration": 19,
    "start_time": "2022-11-15T04:12:09.562Z"
   },
   {
    "duration": 15,
    "start_time": "2022-11-15T04:12:09.583Z"
   },
   {
    "duration": 9,
    "start_time": "2022-11-15T04:12:09.599Z"
   },
   {
    "duration": 8,
    "start_time": "2022-11-15T04:12:09.612Z"
   },
   {
    "duration": 7,
    "start_time": "2022-11-15T04:12:09.622Z"
   },
   {
    "duration": 9085,
    "start_time": "2022-11-15T04:12:09.631Z"
   },
   {
    "duration": 3,
    "start_time": "2022-11-15T04:12:18.721Z"
   },
   {
    "duration": 23,
    "start_time": "2022-11-15T04:12:18.726Z"
   },
   {
    "duration": 13,
    "start_time": "2022-11-15T04:16:00.497Z"
   },
   {
    "duration": 56,
    "start_time": "2022-11-15T04:40:19.282Z"
   },
   {
    "duration": 7,
    "start_time": "2022-11-15T04:40:44.581Z"
   },
   {
    "duration": 7,
    "start_time": "2022-11-15T04:41:08.250Z"
   },
   {
    "duration": 7,
    "start_time": "2022-11-15T04:41:14.322Z"
   },
   {
    "duration": 4,
    "start_time": "2022-11-15T04:45:11.344Z"
   },
   {
    "duration": 1433,
    "start_time": "2022-11-15T04:45:30.909Z"
   },
   {
    "duration": 385,
    "start_time": "2022-11-15T04:45:32.346Z"
   },
   {
    "duration": 14,
    "start_time": "2022-11-15T04:45:32.733Z"
   },
   {
    "duration": 17,
    "start_time": "2022-11-15T04:45:32.749Z"
   },
   {
    "duration": 14,
    "start_time": "2022-11-15T04:45:32.767Z"
   },
   {
    "duration": 11,
    "start_time": "2022-11-15T04:45:32.783Z"
   },
   {
    "duration": 25,
    "start_time": "2022-11-15T04:45:32.795Z"
   },
   {
    "duration": 35,
    "start_time": "2022-11-15T04:45:32.822Z"
   },
   {
    "duration": 16,
    "start_time": "2022-11-15T04:45:32.859Z"
   },
   {
    "duration": 17,
    "start_time": "2022-11-15T04:45:32.877Z"
   },
   {
    "duration": 15,
    "start_time": "2022-11-15T04:45:32.896Z"
   },
   {
    "duration": 8,
    "start_time": "2022-11-15T04:45:32.913Z"
   },
   {
    "duration": 58,
    "start_time": "2022-11-15T04:45:32.923Z"
   },
   {
    "duration": 60,
    "start_time": "2022-11-15T04:45:32.983Z"
   },
   {
    "duration": 42,
    "start_time": "2022-11-15T04:45:33.045Z"
   },
   {
    "duration": 36,
    "start_time": "2022-11-15T04:45:33.089Z"
   },
   {
    "duration": 42,
    "start_time": "2022-11-15T04:45:33.127Z"
   },
   {
    "duration": 28,
    "start_time": "2022-11-15T04:45:33.171Z"
   },
   {
    "duration": 37,
    "start_time": "2022-11-15T04:45:33.201Z"
   },
   {
    "duration": 29,
    "start_time": "2022-11-15T04:45:33.240Z"
   },
   {
    "duration": 45,
    "start_time": "2022-11-15T04:45:33.271Z"
   },
   {
    "duration": 312,
    "start_time": "2022-11-15T04:45:33.319Z"
   },
   {
    "duration": 244,
    "start_time": "2022-11-15T04:45:33.633Z"
   },
   {
    "duration": 5,
    "start_time": "2022-11-15T04:45:33.879Z"
   },
   {
    "duration": 377,
    "start_time": "2022-11-15T04:45:33.886Z"
   },
   {
    "duration": 2,
    "start_time": "2022-11-15T04:45:34.265Z"
   },
   {
    "duration": 25,
    "start_time": "2022-11-15T04:45:34.269Z"
   },
   {
    "duration": 53,
    "start_time": "2022-11-15T04:45:34.299Z"
   },
   {
    "duration": 9,
    "start_time": "2022-11-15T04:45:34.354Z"
   },
   {
    "duration": 15,
    "start_time": "2022-11-15T04:45:34.365Z"
   },
   {
    "duration": 15,
    "start_time": "2022-11-15T04:45:34.382Z"
   },
   {
    "duration": 22,
    "start_time": "2022-11-15T04:45:34.398Z"
   },
   {
    "duration": 89,
    "start_time": "2022-11-15T04:45:34.422Z"
   },
   {
    "duration": 102,
    "start_time": "2022-11-15T04:45:34.515Z"
   },
   {
    "duration": 6,
    "start_time": "2022-11-15T04:45:34.619Z"
   },
   {
    "duration": 6,
    "start_time": "2022-11-15T04:45:34.626Z"
   },
   {
    "duration": 14,
    "start_time": "2022-11-15T04:45:34.634Z"
   },
   {
    "duration": 12,
    "start_time": "2022-11-15T04:45:34.651Z"
   },
   {
    "duration": 14,
    "start_time": "2022-11-15T04:45:34.665Z"
   },
   {
    "duration": 70,
    "start_time": "2022-11-15T04:45:34.681Z"
   },
   {
    "duration": 12,
    "start_time": "2022-11-15T04:45:34.753Z"
   },
   {
    "duration": 11,
    "start_time": "2022-11-15T04:45:34.767Z"
   },
   {
    "duration": 33,
    "start_time": "2022-11-15T04:45:34.779Z"
   },
   {
    "duration": 15,
    "start_time": "2022-11-15T04:45:34.814Z"
   },
   {
    "duration": 18,
    "start_time": "2022-11-15T04:45:34.831Z"
   },
   {
    "duration": 64,
    "start_time": "2022-11-15T04:45:34.851Z"
   },
   {
    "duration": 97,
    "start_time": "2022-11-15T04:45:34.917Z"
   },
   {
    "duration": 9,
    "start_time": "2022-11-15T04:45:35.016Z"
   },
   {
    "duration": 15,
    "start_time": "2022-11-15T04:45:35.026Z"
   },
   {
    "duration": 16,
    "start_time": "2022-11-15T04:45:35.043Z"
   },
   {
    "duration": 70,
    "start_time": "2022-11-15T04:45:35.061Z"
   },
   {
    "duration": 11,
    "start_time": "2022-11-15T04:45:35.132Z"
   },
   {
    "duration": 12,
    "start_time": "2022-11-15T04:45:35.144Z"
   },
   {
    "duration": 19,
    "start_time": "2022-11-15T04:45:35.157Z"
   },
   {
    "duration": 14,
    "start_time": "2022-11-15T04:45:35.178Z"
   },
   {
    "duration": 27,
    "start_time": "2022-11-15T04:45:35.194Z"
   },
   {
    "duration": 96,
    "start_time": "2022-11-15T04:45:35.223Z"
   },
   {
    "duration": 93,
    "start_time": "2022-11-15T04:45:35.321Z"
   },
   {
    "duration": 7,
    "start_time": "2022-11-15T04:45:35.416Z"
   },
   {
    "duration": 13,
    "start_time": "2022-11-15T04:45:35.425Z"
   },
   {
    "duration": 5,
    "start_time": "2022-11-15T04:45:35.440Z"
   },
   {
    "duration": 125,
    "start_time": "2022-11-15T04:45:35.447Z"
   },
   {
    "duration": 0,
    "start_time": "2022-11-15T04:45:35.575Z"
   },
   {
    "duration": 0,
    "start_time": "2022-11-15T04:45:35.576Z"
   },
   {
    "duration": 0,
    "start_time": "2022-11-15T04:45:35.577Z"
   },
   {
    "duration": 0,
    "start_time": "2022-11-15T04:45:35.579Z"
   },
   {
    "duration": 0,
    "start_time": "2022-11-15T04:45:35.580Z"
   },
   {
    "duration": 0,
    "start_time": "2022-11-15T04:45:35.581Z"
   },
   {
    "duration": 0,
    "start_time": "2022-11-15T04:45:35.582Z"
   },
   {
    "duration": 0,
    "start_time": "2022-11-15T04:45:35.584Z"
   },
   {
    "duration": 0,
    "start_time": "2022-11-15T04:45:35.584Z"
   },
   {
    "duration": 0,
    "start_time": "2022-11-15T04:45:35.586Z"
   },
   {
    "duration": 0,
    "start_time": "2022-11-15T04:45:35.612Z"
   },
   {
    "duration": 0,
    "start_time": "2022-11-15T04:45:35.613Z"
   },
   {
    "duration": 0,
    "start_time": "2022-11-15T04:45:35.614Z"
   },
   {
    "duration": 0,
    "start_time": "2022-11-15T04:45:35.615Z"
   },
   {
    "duration": 0,
    "start_time": "2022-11-15T04:45:35.616Z"
   },
   {
    "duration": 0,
    "start_time": "2022-11-15T04:45:35.618Z"
   },
   {
    "duration": 0,
    "start_time": "2022-11-15T04:45:35.619Z"
   },
   {
    "duration": 0,
    "start_time": "2022-11-15T04:45:35.620Z"
   },
   {
    "duration": 0,
    "start_time": "2022-11-15T04:45:35.621Z"
   },
   {
    "duration": 0,
    "start_time": "2022-11-15T04:45:35.622Z"
   },
   {
    "duration": 0,
    "start_time": "2022-11-15T04:45:35.623Z"
   },
   {
    "duration": 0,
    "start_time": "2022-11-15T04:45:35.624Z"
   },
   {
    "duration": 0,
    "start_time": "2022-11-15T04:45:35.625Z"
   },
   {
    "duration": 0,
    "start_time": "2022-11-15T04:45:35.627Z"
   },
   {
    "duration": 0,
    "start_time": "2022-11-15T04:45:35.628Z"
   },
   {
    "duration": 0,
    "start_time": "2022-11-15T04:45:35.629Z"
   },
   {
    "duration": 0,
    "start_time": "2022-11-15T04:45:35.630Z"
   },
   {
    "duration": 0,
    "start_time": "2022-11-15T04:45:35.631Z"
   },
   {
    "duration": 0,
    "start_time": "2022-11-15T04:45:35.632Z"
   },
   {
    "duration": 6,
    "start_time": "2022-11-15T04:46:49.320Z"
   },
   {
    "duration": 1428,
    "start_time": "2022-11-15T04:47:23.233Z"
   },
   {
    "duration": 377,
    "start_time": "2022-11-15T04:47:24.663Z"
   },
   {
    "duration": 15,
    "start_time": "2022-11-15T04:47:25.042Z"
   },
   {
    "duration": 16,
    "start_time": "2022-11-15T04:47:25.060Z"
   },
   {
    "duration": 23,
    "start_time": "2022-11-15T04:47:25.078Z"
   },
   {
    "duration": 16,
    "start_time": "2022-11-15T04:47:25.103Z"
   },
   {
    "duration": 14,
    "start_time": "2022-11-15T04:47:25.120Z"
   },
   {
    "duration": 15,
    "start_time": "2022-11-15T04:47:25.135Z"
   },
   {
    "duration": 10,
    "start_time": "2022-11-15T04:47:25.151Z"
   },
   {
    "duration": 26,
    "start_time": "2022-11-15T04:47:25.164Z"
   },
   {
    "duration": 44,
    "start_time": "2022-11-15T04:47:25.191Z"
   },
   {
    "duration": 10,
    "start_time": "2022-11-15T04:47:25.236Z"
   },
   {
    "duration": 56,
    "start_time": "2022-11-15T04:47:25.247Z"
   },
   {
    "duration": 49,
    "start_time": "2022-11-15T04:47:25.305Z"
   },
   {
    "duration": 57,
    "start_time": "2022-11-15T04:47:25.356Z"
   },
   {
    "duration": 18,
    "start_time": "2022-11-15T04:47:25.415Z"
   },
   {
    "duration": 28,
    "start_time": "2022-11-15T04:47:25.435Z"
   },
   {
    "duration": 22,
    "start_time": "2022-11-15T04:47:25.464Z"
   },
   {
    "duration": 43,
    "start_time": "2022-11-15T04:47:25.488Z"
   },
   {
    "duration": 38,
    "start_time": "2022-11-15T04:47:25.533Z"
   },
   {
    "duration": 43,
    "start_time": "2022-11-15T04:47:25.572Z"
   },
   {
    "duration": 295,
    "start_time": "2022-11-15T04:47:25.617Z"
   },
   {
    "duration": 221,
    "start_time": "2022-11-15T04:47:25.914Z"
   },
   {
    "duration": 5,
    "start_time": "2022-11-15T04:47:26.137Z"
   },
   {
    "duration": 438,
    "start_time": "2022-11-15T04:47:26.144Z"
   },
   {
    "duration": 3,
    "start_time": "2022-11-15T04:47:26.584Z"
   },
   {
    "duration": 27,
    "start_time": "2022-11-15T04:47:26.588Z"
   },
   {
    "duration": 50,
    "start_time": "2022-11-15T04:47:26.619Z"
   },
   {
    "duration": 10,
    "start_time": "2022-11-15T04:47:26.671Z"
   },
   {
    "duration": 8,
    "start_time": "2022-11-15T04:47:26.682Z"
   },
   {
    "duration": 18,
    "start_time": "2022-11-15T04:47:26.711Z"
   },
   {
    "duration": 12,
    "start_time": "2022-11-15T04:47:26.731Z"
   },
   {
    "duration": 6,
    "start_time": "2022-11-15T04:47:26.745Z"
   },
   {
    "duration": 68,
    "start_time": "2022-11-15T04:47:26.753Z"
   },
   {
    "duration": 93,
    "start_time": "2022-11-15T04:47:26.824Z"
   },
   {
    "duration": 6,
    "start_time": "2022-11-15T04:47:26.919Z"
   },
   {
    "duration": 11,
    "start_time": "2022-11-15T04:47:26.927Z"
   },
   {
    "duration": 8,
    "start_time": "2022-11-15T04:47:26.940Z"
   },
   {
    "duration": 14,
    "start_time": "2022-11-15T04:47:26.949Z"
   },
   {
    "duration": 71,
    "start_time": "2022-11-15T04:47:26.965Z"
   },
   {
    "duration": 9,
    "start_time": "2022-11-15T04:47:27.037Z"
   },
   {
    "duration": 10,
    "start_time": "2022-11-15T04:47:27.048Z"
   },
   {
    "duration": 18,
    "start_time": "2022-11-15T04:47:27.059Z"
   },
   {
    "duration": 11,
    "start_time": "2022-11-15T04:47:27.079Z"
   },
   {
    "duration": 23,
    "start_time": "2022-11-15T04:47:27.092Z"
   },
   {
    "duration": 96,
    "start_time": "2022-11-15T04:47:27.117Z"
   },
   {
    "duration": 106,
    "start_time": "2022-11-15T04:47:27.215Z"
   },
   {
    "duration": 13,
    "start_time": "2022-11-15T04:47:27.323Z"
   },
   {
    "duration": 9,
    "start_time": "2022-11-15T04:47:27.338Z"
   },
   {
    "duration": 18,
    "start_time": "2022-11-15T04:47:27.349Z"
   },
   {
    "duration": 81,
    "start_time": "2022-11-15T04:47:27.369Z"
   },
   {
    "duration": 9,
    "start_time": "2022-11-15T04:47:27.452Z"
   },
   {
    "duration": 13,
    "start_time": "2022-11-15T04:47:27.463Z"
   },
   {
    "duration": 27,
    "start_time": "2022-11-15T04:47:27.477Z"
   },
   {
    "duration": 14,
    "start_time": "2022-11-15T04:47:27.506Z"
   },
   {
    "duration": 14,
    "start_time": "2022-11-15T04:47:27.521Z"
   },
   {
    "duration": 178,
    "start_time": "2022-11-15T04:47:27.538Z"
   },
   {
    "duration": 7,
    "start_time": "2022-11-15T04:47:27.718Z"
   },
   {
    "duration": 18,
    "start_time": "2022-11-15T04:47:27.727Z"
   },
   {
    "duration": 16,
    "start_time": "2022-11-15T04:47:27.747Z"
   },
   {
    "duration": 16,
    "start_time": "2022-11-15T04:47:27.765Z"
   },
   {
    "duration": 10,
    "start_time": "2022-11-15T04:47:27.783Z"
   },
   {
    "duration": 7,
    "start_time": "2022-11-15T04:47:27.794Z"
   },
   {
    "duration": 8,
    "start_time": "2022-11-15T04:47:27.803Z"
   },
   {
    "duration": 30,
    "start_time": "2022-11-15T04:47:27.813Z"
   },
   {
    "duration": 5,
    "start_time": "2022-11-15T04:47:27.845Z"
   },
   {
    "duration": 16,
    "start_time": "2022-11-15T04:47:27.851Z"
   },
   {
    "duration": 14,
    "start_time": "2022-11-15T04:47:27.868Z"
   },
   {
    "duration": 36,
    "start_time": "2022-11-15T04:47:27.884Z"
   },
   {
    "duration": 13,
    "start_time": "2022-11-15T04:47:27.922Z"
   },
   {
    "duration": 23,
    "start_time": "2022-11-15T04:47:27.937Z"
   },
   {
    "duration": 15,
    "start_time": "2022-11-15T04:47:27.962Z"
   },
   {
    "duration": 14,
    "start_time": "2022-11-15T04:47:27.978Z"
   },
   {
    "duration": 23,
    "start_time": "2022-11-15T04:47:27.994Z"
   },
   {
    "duration": 17,
    "start_time": "2022-11-15T04:47:28.019Z"
   },
   {
    "duration": 30,
    "start_time": "2022-11-15T04:47:28.037Z"
   },
   {
    "duration": 13,
    "start_time": "2022-11-15T04:47:28.068Z"
   },
   {
    "duration": 48,
    "start_time": "2022-11-15T04:47:28.082Z"
   },
   {
    "duration": 8,
    "start_time": "2022-11-15T04:47:28.131Z"
   },
   {
    "duration": 22,
    "start_time": "2022-11-15T04:47:28.141Z"
   },
   {
    "duration": 22,
    "start_time": "2022-11-15T04:47:28.165Z"
   },
   {
    "duration": 8140,
    "start_time": "2022-11-15T04:47:28.192Z"
   },
   {
    "duration": 3,
    "start_time": "2022-11-15T04:47:36.334Z"
   },
   {
    "duration": 37,
    "start_time": "2022-11-15T04:47:36.339Z"
   },
   {
    "duration": 5,
    "start_time": "2022-11-15T04:48:06.240Z"
   },
   {
    "duration": 3,
    "start_time": "2022-11-15T04:48:14.405Z"
   },
   {
    "duration": 20,
    "start_time": "2022-11-15T04:49:40.507Z"
   },
   {
    "duration": 4,
    "start_time": "2022-11-15T04:50:02.428Z"
   },
   {
    "duration": 22,
    "start_time": "2022-11-15T04:50:04.372Z"
   },
   {
    "duration": 5,
    "start_time": "2022-11-15T04:51:31.051Z"
   },
   {
    "duration": 263,
    "start_time": "2022-11-15T04:51:34.774Z"
   },
   {
    "duration": 8,
    "start_time": "2022-11-15T05:03:37.158Z"
   },
   {
    "duration": 207,
    "start_time": "2022-11-15T05:03:41.129Z"
   },
   {
    "duration": 6,
    "start_time": "2022-11-15T05:24:06.790Z"
   },
   {
    "duration": 16,
    "start_time": "2022-11-15T05:24:55.786Z"
   },
   {
    "duration": 1416,
    "start_time": "2022-11-15T05:25:14.052Z"
   },
   {
    "duration": 367,
    "start_time": "2022-11-15T05:25:15.470Z"
   },
   {
    "duration": 15,
    "start_time": "2022-11-15T05:25:15.838Z"
   },
   {
    "duration": 20,
    "start_time": "2022-11-15T05:25:15.855Z"
   },
   {
    "duration": 8,
    "start_time": "2022-11-15T05:25:15.876Z"
   },
   {
    "duration": 44,
    "start_time": "2022-11-15T05:25:15.886Z"
   },
   {
    "duration": 12,
    "start_time": "2022-11-15T05:25:15.932Z"
   },
   {
    "duration": 29,
    "start_time": "2022-11-15T05:25:15.945Z"
   },
   {
    "duration": 24,
    "start_time": "2022-11-15T05:25:15.976Z"
   },
   {
    "duration": 13,
    "start_time": "2022-11-15T05:25:16.003Z"
   },
   {
    "duration": 20,
    "start_time": "2022-11-15T05:25:16.017Z"
   },
   {
    "duration": 16,
    "start_time": "2022-11-15T05:25:16.039Z"
   },
   {
    "duration": 56,
    "start_time": "2022-11-15T05:25:16.057Z"
   },
   {
    "duration": 47,
    "start_time": "2022-11-15T05:25:16.115Z"
   },
   {
    "duration": 75,
    "start_time": "2022-11-15T05:25:16.166Z"
   },
   {
    "duration": 17,
    "start_time": "2022-11-15T05:25:16.243Z"
   },
   {
    "duration": 33,
    "start_time": "2022-11-15T05:25:16.263Z"
   },
   {
    "duration": 40,
    "start_time": "2022-11-15T05:25:16.297Z"
   },
   {
    "duration": 45,
    "start_time": "2022-11-15T05:25:16.339Z"
   },
   {
    "duration": 49,
    "start_time": "2022-11-15T05:25:16.386Z"
   },
   {
    "duration": 46,
    "start_time": "2022-11-15T05:25:16.437Z"
   },
   {
    "duration": 347,
    "start_time": "2022-11-15T05:25:16.485Z"
   },
   {
    "duration": 238,
    "start_time": "2022-11-15T05:25:16.834Z"
   },
   {
    "duration": 6,
    "start_time": "2022-11-15T05:25:17.074Z"
   },
   {
    "duration": 377,
    "start_time": "2022-11-15T05:25:17.081Z"
   },
   {
    "duration": 3,
    "start_time": "2022-11-15T05:25:17.460Z"
   },
   {
    "duration": 26,
    "start_time": "2022-11-15T05:25:17.465Z"
   },
   {
    "duration": 54,
    "start_time": "2022-11-15T05:25:17.496Z"
   },
   {
    "duration": 9,
    "start_time": "2022-11-15T05:25:17.552Z"
   },
   {
    "duration": 15,
    "start_time": "2022-11-15T05:25:17.563Z"
   },
   {
    "duration": 21,
    "start_time": "2022-11-15T05:25:17.580Z"
   },
   {
    "duration": 13,
    "start_time": "2022-11-15T05:25:17.612Z"
   },
   {
    "duration": 5,
    "start_time": "2022-11-15T05:25:17.627Z"
   },
   {
    "duration": 82,
    "start_time": "2022-11-15T05:25:17.633Z"
   },
   {
    "duration": 98,
    "start_time": "2022-11-15T05:25:17.717Z"
   },
   {
    "duration": 10,
    "start_time": "2022-11-15T05:25:17.816Z"
   },
   {
    "duration": 12,
    "start_time": "2022-11-15T05:25:17.828Z"
   },
   {
    "duration": 18,
    "start_time": "2022-11-15T05:25:17.841Z"
   },
   {
    "duration": 29,
    "start_time": "2022-11-15T05:25:17.861Z"
   },
   {
    "duration": 67,
    "start_time": "2022-11-15T05:25:17.892Z"
   },
   {
    "duration": 11,
    "start_time": "2022-11-15T05:25:17.961Z"
   },
   {
    "duration": 8,
    "start_time": "2022-11-15T05:25:17.974Z"
   },
   {
    "duration": 30,
    "start_time": "2022-11-15T05:25:17.984Z"
   },
   {
    "duration": 14,
    "start_time": "2022-11-15T05:25:18.016Z"
   },
   {
    "duration": 6,
    "start_time": "2022-11-15T05:25:18.032Z"
   },
   {
    "duration": 176,
    "start_time": "2022-11-15T05:25:18.040Z"
   },
   {
    "duration": 12,
    "start_time": "2022-11-15T05:25:18.218Z"
   },
   {
    "duration": 29,
    "start_time": "2022-11-15T05:25:18.232Z"
   },
   {
    "duration": 10,
    "start_time": "2022-11-15T05:25:18.263Z"
   },
   {
    "duration": 15,
    "start_time": "2022-11-15T05:25:18.275Z"
   },
   {
    "duration": 81,
    "start_time": "2022-11-15T05:25:18.292Z"
   },
   {
    "duration": 13,
    "start_time": "2022-11-15T05:25:18.375Z"
   },
   {
    "duration": 9,
    "start_time": "2022-11-15T05:25:18.390Z"
   },
   {
    "duration": 28,
    "start_time": "2022-11-15T05:25:18.401Z"
   },
   {
    "duration": 14,
    "start_time": "2022-11-15T05:25:18.430Z"
   },
   {
    "duration": 8,
    "start_time": "2022-11-15T05:25:18.451Z"
   },
   {
    "duration": 67,
    "start_time": "2022-11-15T05:25:18.461Z"
   },
   {
    "duration": 95,
    "start_time": "2022-11-15T05:25:18.531Z"
   },
   {
    "duration": 5,
    "start_time": "2022-11-15T05:25:18.628Z"
   },
   {
    "duration": 15,
    "start_time": "2022-11-15T05:25:18.635Z"
   },
   {
    "duration": 150,
    "start_time": "2022-11-15T05:25:18.651Z"
   },
   {
    "duration": 0,
    "start_time": "2022-11-15T05:25:18.803Z"
   },
   {
    "duration": 0,
    "start_time": "2022-11-15T05:25:18.805Z"
   },
   {
    "duration": 0,
    "start_time": "2022-11-15T05:25:18.806Z"
   },
   {
    "duration": 0,
    "start_time": "2022-11-15T05:25:18.812Z"
   },
   {
    "duration": 0,
    "start_time": "2022-11-15T05:25:18.813Z"
   },
   {
    "duration": 0,
    "start_time": "2022-11-15T05:25:18.815Z"
   },
   {
    "duration": 0,
    "start_time": "2022-11-15T05:25:18.816Z"
   },
   {
    "duration": 0,
    "start_time": "2022-11-15T05:25:18.818Z"
   },
   {
    "duration": 0,
    "start_time": "2022-11-15T05:25:18.819Z"
   },
   {
    "duration": 0,
    "start_time": "2022-11-15T05:25:18.820Z"
   },
   {
    "duration": 0,
    "start_time": "2022-11-15T05:25:18.822Z"
   },
   {
    "duration": 0,
    "start_time": "2022-11-15T05:25:18.823Z"
   },
   {
    "duration": 0,
    "start_time": "2022-11-15T05:25:18.824Z"
   },
   {
    "duration": 0,
    "start_time": "2022-11-15T05:25:18.826Z"
   },
   {
    "duration": 0,
    "start_time": "2022-11-15T05:25:18.828Z"
   },
   {
    "duration": 0,
    "start_time": "2022-11-15T05:25:18.829Z"
   },
   {
    "duration": 0,
    "start_time": "2022-11-15T05:25:18.830Z"
   },
   {
    "duration": 0,
    "start_time": "2022-11-15T05:25:18.832Z"
   },
   {
    "duration": 0,
    "start_time": "2022-11-15T05:25:18.833Z"
   },
   {
    "duration": 0,
    "start_time": "2022-11-15T05:25:18.835Z"
   },
   {
    "duration": 0,
    "start_time": "2022-11-15T05:25:18.836Z"
   },
   {
    "duration": 0,
    "start_time": "2022-11-15T05:25:18.838Z"
   },
   {
    "duration": 0,
    "start_time": "2022-11-15T05:25:18.839Z"
   },
   {
    "duration": 0,
    "start_time": "2022-11-15T05:25:18.841Z"
   },
   {
    "duration": 33,
    "start_time": "2022-11-15T05:26:17.528Z"
   },
   {
    "duration": 37,
    "start_time": "2022-11-15T05:26:19.029Z"
   },
   {
    "duration": 24,
    "start_time": "2022-11-15T05:26:58.273Z"
   },
   {
    "duration": 22,
    "start_time": "2022-11-15T05:28:16.434Z"
   },
   {
    "duration": 59,
    "start_time": "2022-11-15T05:28:52.699Z"
   },
   {
    "duration": 58,
    "start_time": "2022-11-15T05:29:45.085Z"
   },
   {
    "duration": 48,
    "start_time": "2022-11-15T05:30:45.852Z"
   },
   {
    "duration": 52,
    "start_time": "2022-11-15T05:38:27.193Z"
   },
   {
    "duration": 12,
    "start_time": "2022-11-15T05:40:56.753Z"
   },
   {
    "duration": 44,
    "start_time": "2022-11-15T05:44:41.461Z"
   },
   {
    "duration": 40,
    "start_time": "2022-11-15T05:51:23.472Z"
   },
   {
    "duration": 37,
    "start_time": "2022-11-15T05:58:08.258Z"
   },
   {
    "duration": 33,
    "start_time": "2022-11-15T05:58:13.710Z"
   },
   {
    "duration": 55,
    "start_time": "2022-11-15T05:59:16.520Z"
   },
   {
    "duration": 26,
    "start_time": "2022-11-15T05:59:56.298Z"
   },
   {
    "duration": 75,
    "start_time": "2022-11-15T06:00:46.147Z"
   },
   {
    "duration": 49,
    "start_time": "2022-11-15T06:00:51.867Z"
   },
   {
    "duration": 18,
    "start_time": "2022-11-15T06:00:52.654Z"
   },
   {
    "duration": 5,
    "start_time": "2022-11-15T06:06:51.748Z"
   },
   {
    "duration": 4,
    "start_time": "2022-11-15T06:06:55.212Z"
   },
   {
    "duration": 5,
    "start_time": "2022-11-15T06:06:56.679Z"
   },
   {
    "duration": 5,
    "start_time": "2022-11-15T06:07:31.411Z"
   },
   {
    "duration": 11,
    "start_time": "2022-11-15T06:14:41.730Z"
   },
   {
    "duration": 3,
    "start_time": "2022-11-15T06:14:46.960Z"
   },
   {
    "duration": 15,
    "start_time": "2022-11-15T06:14:50.661Z"
   },
   {
    "duration": 15,
    "start_time": "2022-11-15T06:15:18.914Z"
   },
   {
    "duration": 6,
    "start_time": "2022-11-15T06:15:39.505Z"
   },
   {
    "duration": 10,
    "start_time": "2022-11-15T06:15:51.851Z"
   },
   {
    "duration": 19,
    "start_time": "2022-11-15T06:16:57.620Z"
   },
   {
    "duration": 21,
    "start_time": "2022-11-15T06:17:15.434Z"
   },
   {
    "duration": 17,
    "start_time": "2022-11-15T06:25:06.497Z"
   },
   {
    "duration": 19,
    "start_time": "2022-11-15T06:25:31.325Z"
   },
   {
    "duration": 20,
    "start_time": "2022-11-15T06:25:38.235Z"
   },
   {
    "duration": 6,
    "start_time": "2022-11-15T06:27:19.893Z"
   },
   {
    "duration": 3,
    "start_time": "2022-11-15T06:27:36.017Z"
   },
   {
    "duration": 14,
    "start_time": "2022-11-15T06:39:43.704Z"
   },
   {
    "duration": 11,
    "start_time": "2022-11-15T06:40:43.743Z"
   },
   {
    "duration": 16,
    "start_time": "2022-11-15T06:40:56.586Z"
   },
   {
    "duration": 13,
    "start_time": "2022-11-15T06:41:47.125Z"
   },
   {
    "duration": 14,
    "start_time": "2022-11-15T06:43:21.254Z"
   },
   {
    "duration": 58,
    "start_time": "2022-11-15T06:43:35.773Z"
   },
   {
    "duration": 49,
    "start_time": "2022-11-15T06:46:25.296Z"
   },
   {
    "duration": 60,
    "start_time": "2022-11-15T06:47:20.939Z"
   },
   {
    "duration": 73,
    "start_time": "2022-11-15T06:48:43.311Z"
   },
   {
    "duration": 64,
    "start_time": "2022-11-15T06:49:23.829Z"
   },
   {
    "duration": 51,
    "start_time": "2022-11-15T06:50:44.031Z"
   },
   {
    "duration": 61,
    "start_time": "2022-11-15T06:54:11.765Z"
   },
   {
    "duration": 45,
    "start_time": "2022-11-15T06:54:25.619Z"
   },
   {
    "duration": 55,
    "start_time": "2022-11-15T06:54:35.264Z"
   },
   {
    "duration": 60,
    "start_time": "2022-11-15T06:54:47.117Z"
   },
   {
    "duration": 55,
    "start_time": "2022-11-15T06:55:07.496Z"
   },
   {
    "duration": 63,
    "start_time": "2022-11-15T06:55:09.750Z"
   },
   {
    "duration": 60,
    "start_time": "2022-11-15T06:55:25.151Z"
   },
   {
    "duration": 27,
    "start_time": "2022-11-15T06:56:07.614Z"
   },
   {
    "duration": 25,
    "start_time": "2022-11-15T06:56:29.238Z"
   },
   {
    "duration": 36,
    "start_time": "2022-11-15T06:58:56.179Z"
   },
   {
    "duration": 24,
    "start_time": "2022-11-15T06:58:58.370Z"
   },
   {
    "duration": 28,
    "start_time": "2022-11-15T07:01:33.972Z"
   },
   {
    "duration": 45,
    "start_time": "2022-11-15T07:02:02.132Z"
   },
   {
    "duration": 57,
    "start_time": "2022-11-15T07:03:28.519Z"
   },
   {
    "duration": 35,
    "start_time": "2022-11-15T07:05:03.142Z"
   },
   {
    "duration": 46,
    "start_time": "2022-11-15T07:05:17.019Z"
   },
   {
    "duration": 33,
    "start_time": "2022-11-15T07:05:25.771Z"
   },
   {
    "duration": 54,
    "start_time": "2022-11-15T07:11:02.838Z"
   },
   {
    "duration": 48,
    "start_time": "2022-11-15T07:11:41.784Z"
   },
   {
    "duration": 40,
    "start_time": "2022-11-15T07:11:55.791Z"
   },
   {
    "duration": 29,
    "start_time": "2022-11-15T07:11:58.934Z"
   },
   {
    "duration": 51,
    "start_time": "2022-11-15T07:12:01.923Z"
   },
   {
    "duration": 13,
    "start_time": "2022-11-15T07:12:13.800Z"
   },
   {
    "duration": 69,
    "start_time": "2022-11-15T07:12:37.633Z"
   },
   {
    "duration": 56,
    "start_time": "2022-11-15T07:12:40.349Z"
   },
   {
    "duration": 144,
    "start_time": "2022-11-15T07:12:45.022Z"
   },
   {
    "duration": 125,
    "start_time": "2022-11-15T07:13:21.232Z"
   },
   {
    "duration": 4,
    "start_time": "2022-11-15T07:13:38.855Z"
   },
   {
    "duration": 12,
    "start_time": "2022-11-15T07:13:51.496Z"
   },
   {
    "duration": 5,
    "start_time": "2022-11-15T07:13:54.243Z"
   },
   {
    "duration": 104,
    "start_time": "2022-11-15T07:15:58.970Z"
   },
   {
    "duration": 47,
    "start_time": "2022-11-15T07:16:15.775Z"
   },
   {
    "duration": 49,
    "start_time": "2022-11-15T07:17:03.221Z"
   },
   {
    "duration": 61,
    "start_time": "2022-11-15T07:17:12.507Z"
   },
   {
    "duration": 44,
    "start_time": "2022-11-15T07:17:47.667Z"
   },
   {
    "duration": 51,
    "start_time": "2022-11-15T07:17:49.939Z"
   },
   {
    "duration": 56,
    "start_time": "2022-11-15T07:18:16.765Z"
   },
   {
    "duration": 52,
    "start_time": "2022-11-15T07:18:24.223Z"
   },
   {
    "duration": 49,
    "start_time": "2022-11-15T07:18:37.919Z"
   },
   {
    "duration": 48,
    "start_time": "2022-11-15T07:18:54.418Z"
   },
   {
    "duration": 54,
    "start_time": "2022-11-15T07:19:48.360Z"
   },
   {
    "duration": 5,
    "start_time": "2022-11-15T07:24:35.154Z"
   },
   {
    "duration": 14,
    "start_time": "2022-11-15T07:32:18.366Z"
   },
   {
    "duration": 13,
    "start_time": "2022-11-15T07:32:41.858Z"
   },
   {
    "duration": 13,
    "start_time": "2022-11-15T07:33:37.737Z"
   },
   {
    "duration": 1691,
    "start_time": "2022-11-15T07:33:53.219Z"
   },
   {
    "duration": 420,
    "start_time": "2022-11-15T07:33:54.912Z"
   },
   {
    "duration": 17,
    "start_time": "2022-11-15T07:33:55.334Z"
   },
   {
    "duration": 15,
    "start_time": "2022-11-15T07:33:55.353Z"
   },
   {
    "duration": 8,
    "start_time": "2022-11-15T07:33:55.370Z"
   },
   {
    "duration": 37,
    "start_time": "2022-11-15T07:33:55.380Z"
   },
   {
    "duration": 10,
    "start_time": "2022-11-15T07:33:55.419Z"
   },
   {
    "duration": 16,
    "start_time": "2022-11-15T07:33:55.431Z"
   },
   {
    "duration": 9,
    "start_time": "2022-11-15T07:33:55.449Z"
   },
   {
    "duration": 14,
    "start_time": "2022-11-15T07:33:55.462Z"
   },
   {
    "duration": 20,
    "start_time": "2022-11-15T07:33:55.513Z"
   },
   {
    "duration": 12,
    "start_time": "2022-11-15T07:33:55.535Z"
   },
   {
    "duration": 77,
    "start_time": "2022-11-15T07:33:55.548Z"
   },
   {
    "duration": 47,
    "start_time": "2022-11-15T07:33:55.627Z"
   },
   {
    "duration": 70,
    "start_time": "2022-11-15T07:33:55.676Z"
   },
   {
    "duration": 21,
    "start_time": "2022-11-15T07:33:55.748Z"
   },
   {
    "duration": 41,
    "start_time": "2022-11-15T07:33:55.771Z"
   },
   {
    "duration": 21,
    "start_time": "2022-11-15T07:33:55.814Z"
   },
   {
    "duration": 44,
    "start_time": "2022-11-15T07:33:55.836Z"
   },
   {
    "duration": 54,
    "start_time": "2022-11-15T07:33:55.882Z"
   },
   {
    "duration": 42,
    "start_time": "2022-11-15T07:33:55.938Z"
   },
   {
    "duration": 360,
    "start_time": "2022-11-15T07:33:55.982Z"
   },
   {
    "duration": 273,
    "start_time": "2022-11-15T07:33:56.345Z"
   },
   {
    "duration": 8,
    "start_time": "2022-11-15T07:33:56.620Z"
   },
   {
    "duration": 458,
    "start_time": "2022-11-15T07:33:56.630Z"
   },
   {
    "duration": 53,
    "start_time": "2022-11-15T07:33:57.090Z"
   },
   {
    "duration": 28,
    "start_time": "2022-11-15T07:33:57.145Z"
   },
   {
    "duration": 91,
    "start_time": "2022-11-15T07:33:57.178Z"
   },
   {
    "duration": 143,
    "start_time": "2022-11-15T07:33:57.270Z"
   },
   {
    "duration": 0,
    "start_time": "2022-11-15T07:33:57.415Z"
   },
   {
    "duration": 0,
    "start_time": "2022-11-15T07:33:57.416Z"
   },
   {
    "duration": 0,
    "start_time": "2022-11-15T07:33:57.418Z"
   },
   {
    "duration": 0,
    "start_time": "2022-11-15T07:33:57.419Z"
   },
   {
    "duration": 0,
    "start_time": "2022-11-15T07:33:57.421Z"
   },
   {
    "duration": 0,
    "start_time": "2022-11-15T07:33:57.422Z"
   },
   {
    "duration": 0,
    "start_time": "2022-11-15T07:33:57.423Z"
   },
   {
    "duration": 0,
    "start_time": "2022-11-15T07:33:57.424Z"
   },
   {
    "duration": 0,
    "start_time": "2022-11-15T07:33:57.425Z"
   },
   {
    "duration": 0,
    "start_time": "2022-11-15T07:33:57.426Z"
   },
   {
    "duration": 0,
    "start_time": "2022-11-15T07:33:57.428Z"
   },
   {
    "duration": 0,
    "start_time": "2022-11-15T07:33:57.429Z"
   },
   {
    "duration": 0,
    "start_time": "2022-11-15T07:33:57.430Z"
   },
   {
    "duration": 0,
    "start_time": "2022-11-15T07:33:57.431Z"
   },
   {
    "duration": 0,
    "start_time": "2022-11-15T07:33:57.432Z"
   },
   {
    "duration": 0,
    "start_time": "2022-11-15T07:33:57.434Z"
   },
   {
    "duration": 0,
    "start_time": "2022-11-15T07:33:57.435Z"
   },
   {
    "duration": 0,
    "start_time": "2022-11-15T07:33:57.436Z"
   },
   {
    "duration": 0,
    "start_time": "2022-11-15T07:33:57.437Z"
   },
   {
    "duration": 0,
    "start_time": "2022-11-15T07:33:57.438Z"
   },
   {
    "duration": 0,
    "start_time": "2022-11-15T07:33:57.439Z"
   },
   {
    "duration": 0,
    "start_time": "2022-11-15T07:33:57.440Z"
   },
   {
    "duration": 0,
    "start_time": "2022-11-15T07:33:57.441Z"
   },
   {
    "duration": 0,
    "start_time": "2022-11-15T07:33:57.443Z"
   },
   {
    "duration": 0,
    "start_time": "2022-11-15T07:33:57.444Z"
   },
   {
    "duration": 0,
    "start_time": "2022-11-15T07:33:57.445Z"
   },
   {
    "duration": 0,
    "start_time": "2022-11-15T07:33:57.446Z"
   },
   {
    "duration": 0,
    "start_time": "2022-11-15T07:33:57.448Z"
   },
   {
    "duration": 0,
    "start_time": "2022-11-15T07:33:57.449Z"
   },
   {
    "duration": 0,
    "start_time": "2022-11-15T07:33:57.451Z"
   },
   {
    "duration": 0,
    "start_time": "2022-11-15T07:33:57.513Z"
   },
   {
    "duration": 0,
    "start_time": "2022-11-15T07:33:57.515Z"
   },
   {
    "duration": 0,
    "start_time": "2022-11-15T07:33:57.516Z"
   },
   {
    "duration": 0,
    "start_time": "2022-11-15T07:33:57.518Z"
   },
   {
    "duration": 0,
    "start_time": "2022-11-15T07:33:57.519Z"
   },
   {
    "duration": 0,
    "start_time": "2022-11-15T07:33:57.520Z"
   },
   {
    "duration": 0,
    "start_time": "2022-11-15T07:33:57.521Z"
   },
   {
    "duration": 0,
    "start_time": "2022-11-15T07:33:57.523Z"
   },
   {
    "duration": 0,
    "start_time": "2022-11-15T07:33:57.525Z"
   },
   {
    "duration": 0,
    "start_time": "2022-11-15T07:33:57.526Z"
   },
   {
    "duration": 0,
    "start_time": "2022-11-15T07:33:57.527Z"
   },
   {
    "duration": 0,
    "start_time": "2022-11-15T07:33:57.528Z"
   },
   {
    "duration": 0,
    "start_time": "2022-11-15T07:33:57.530Z"
   },
   {
    "duration": 0,
    "start_time": "2022-11-15T07:33:57.531Z"
   },
   {
    "duration": 0,
    "start_time": "2022-11-15T07:33:57.533Z"
   },
   {
    "duration": 0,
    "start_time": "2022-11-15T07:33:57.534Z"
   },
   {
    "duration": 0,
    "start_time": "2022-11-15T07:33:57.535Z"
   },
   {
    "duration": 0,
    "start_time": "2022-11-15T07:33:57.537Z"
   },
   {
    "duration": 33,
    "start_time": "2022-11-15T07:34:21.792Z"
   },
   {
    "duration": 13,
    "start_time": "2022-11-15T07:34:47.139Z"
   },
   {
    "duration": 1482,
    "start_time": "2022-11-15T07:35:12.017Z"
   },
   {
    "duration": 422,
    "start_time": "2022-11-15T07:35:13.502Z"
   },
   {
    "duration": 18,
    "start_time": "2022-11-15T07:35:13.925Z"
   },
   {
    "duration": 17,
    "start_time": "2022-11-15T07:35:13.946Z"
   },
   {
    "duration": 12,
    "start_time": "2022-11-15T07:35:13.965Z"
   },
   {
    "duration": 40,
    "start_time": "2022-11-15T07:35:13.979Z"
   },
   {
    "duration": 11,
    "start_time": "2022-11-15T07:35:14.022Z"
   },
   {
    "duration": 26,
    "start_time": "2022-11-15T07:35:14.035Z"
   },
   {
    "duration": 8,
    "start_time": "2022-11-15T07:35:14.064Z"
   },
   {
    "duration": 13,
    "start_time": "2022-11-15T07:35:14.075Z"
   },
   {
    "duration": 34,
    "start_time": "2022-11-15T07:35:14.113Z"
   },
   {
    "duration": 11,
    "start_time": "2022-11-15T07:35:14.150Z"
   },
   {
    "duration": 60,
    "start_time": "2022-11-15T07:35:14.170Z"
   },
   {
    "duration": 48,
    "start_time": "2022-11-15T07:35:14.232Z"
   },
   {
    "duration": 74,
    "start_time": "2022-11-15T07:35:14.282Z"
   },
   {
    "duration": 19,
    "start_time": "2022-11-15T07:35:14.358Z"
   },
   {
    "duration": 35,
    "start_time": "2022-11-15T07:35:14.379Z"
   },
   {
    "duration": 23,
    "start_time": "2022-11-15T07:35:14.416Z"
   },
   {
    "duration": 34,
    "start_time": "2022-11-15T07:35:14.441Z"
   },
   {
    "duration": 59,
    "start_time": "2022-11-15T07:35:14.477Z"
   },
   {
    "duration": 38,
    "start_time": "2022-11-15T07:35:14.538Z"
   },
   {
    "duration": 361,
    "start_time": "2022-11-15T07:35:14.578Z"
   },
   {
    "duration": 262,
    "start_time": "2022-11-15T07:35:14.942Z"
   },
   {
    "duration": 8,
    "start_time": "2022-11-15T07:35:15.212Z"
   },
   {
    "duration": 398,
    "start_time": "2022-11-15T07:35:15.222Z"
   },
   {
    "duration": 44,
    "start_time": "2022-11-15T07:35:15.622Z"
   },
   {
    "duration": 47,
    "start_time": "2022-11-15T07:35:15.668Z"
   },
   {
    "duration": 84,
    "start_time": "2022-11-15T07:35:15.719Z"
   },
   {
    "duration": 122,
    "start_time": "2022-11-15T07:35:15.804Z"
   },
   {
    "duration": 237,
    "start_time": "2022-11-15T07:35:16.013Z"
   },
   {
    "duration": 0,
    "start_time": "2022-11-15T07:35:16.252Z"
   },
   {
    "duration": 0,
    "start_time": "2022-11-15T07:35:16.254Z"
   },
   {
    "duration": 0,
    "start_time": "2022-11-15T07:35:16.255Z"
   },
   {
    "duration": 0,
    "start_time": "2022-11-15T07:35:16.257Z"
   },
   {
    "duration": 0,
    "start_time": "2022-11-15T07:35:16.259Z"
   },
   {
    "duration": 0,
    "start_time": "2022-11-15T07:35:16.260Z"
   },
   {
    "duration": 0,
    "start_time": "2022-11-15T07:35:16.260Z"
   },
   {
    "duration": 0,
    "start_time": "2022-11-15T07:35:16.262Z"
   },
   {
    "duration": 0,
    "start_time": "2022-11-15T07:35:16.263Z"
   },
   {
    "duration": 0,
    "start_time": "2022-11-15T07:35:16.264Z"
   },
   {
    "duration": 0,
    "start_time": "2022-11-15T07:35:16.266Z"
   },
   {
    "duration": 0,
    "start_time": "2022-11-15T07:35:16.267Z"
   },
   {
    "duration": 0,
    "start_time": "2022-11-15T07:35:16.269Z"
   },
   {
    "duration": 0,
    "start_time": "2022-11-15T07:35:16.270Z"
   },
   {
    "duration": 0,
    "start_time": "2022-11-15T07:35:16.271Z"
   },
   {
    "duration": 0,
    "start_time": "2022-11-15T07:35:16.272Z"
   },
   {
    "duration": 0,
    "start_time": "2022-11-15T07:35:16.273Z"
   },
   {
    "duration": 0,
    "start_time": "2022-11-15T07:35:16.274Z"
   },
   {
    "duration": 0,
    "start_time": "2022-11-15T07:35:16.312Z"
   },
   {
    "duration": 0,
    "start_time": "2022-11-15T07:35:16.314Z"
   },
   {
    "duration": 0,
    "start_time": "2022-11-15T07:35:16.316Z"
   },
   {
    "duration": 0,
    "start_time": "2022-11-15T07:35:16.317Z"
   },
   {
    "duration": 0,
    "start_time": "2022-11-15T07:35:16.318Z"
   },
   {
    "duration": 0,
    "start_time": "2022-11-15T07:35:16.319Z"
   },
   {
    "duration": 0,
    "start_time": "2022-11-15T07:35:16.321Z"
   },
   {
    "duration": 0,
    "start_time": "2022-11-15T07:35:16.322Z"
   },
   {
    "duration": 0,
    "start_time": "2022-11-15T07:35:16.323Z"
   },
   {
    "duration": 0,
    "start_time": "2022-11-15T07:35:16.324Z"
   },
   {
    "duration": 0,
    "start_time": "2022-11-15T07:35:16.326Z"
   },
   {
    "duration": 0,
    "start_time": "2022-11-15T07:35:16.327Z"
   },
   {
    "duration": 0,
    "start_time": "2022-11-15T07:35:16.328Z"
   },
   {
    "duration": 0,
    "start_time": "2022-11-15T07:35:16.330Z"
   },
   {
    "duration": 0,
    "start_time": "2022-11-15T07:35:16.331Z"
   },
   {
    "duration": 0,
    "start_time": "2022-11-15T07:35:16.333Z"
   },
   {
    "duration": 0,
    "start_time": "2022-11-15T07:35:16.334Z"
   },
   {
    "duration": 0,
    "start_time": "2022-11-15T07:35:16.336Z"
   },
   {
    "duration": 0,
    "start_time": "2022-11-15T07:35:16.337Z"
   },
   {
    "duration": 0,
    "start_time": "2022-11-15T07:35:16.339Z"
   },
   {
    "duration": 0,
    "start_time": "2022-11-15T07:35:16.344Z"
   },
   {
    "duration": 0,
    "start_time": "2022-11-15T07:35:16.345Z"
   },
   {
    "duration": 0,
    "start_time": "2022-11-15T07:35:16.346Z"
   },
   {
    "duration": 0,
    "start_time": "2022-11-15T07:35:16.348Z"
   },
   {
    "duration": 0,
    "start_time": "2022-11-15T07:35:16.350Z"
   },
   {
    "duration": 0,
    "start_time": "2022-11-15T07:35:16.351Z"
   },
   {
    "duration": 0,
    "start_time": "2022-11-15T07:35:16.352Z"
   },
   {
    "duration": 0,
    "start_time": "2022-11-15T07:35:16.412Z"
   },
   {
    "duration": 0,
    "start_time": "2022-11-15T07:35:16.413Z"
   },
   {
    "duration": 61,
    "start_time": "2022-11-15T07:37:30.051Z"
   },
   {
    "duration": 19,
    "start_time": "2022-11-15T07:37:44.055Z"
   },
   {
    "duration": 15,
    "start_time": "2022-11-15T07:38:22.522Z"
   },
   {
    "duration": 6,
    "start_time": "2022-11-15T08:12:24.581Z"
   },
   {
    "duration": 8,
    "start_time": "2022-11-15T08:13:32.904Z"
   },
   {
    "duration": 9,
    "start_time": "2022-11-15T08:13:42.059Z"
   },
   {
    "duration": 12,
    "start_time": "2022-11-15T08:13:55.158Z"
   },
   {
    "duration": 14,
    "start_time": "2022-11-15T08:13:55.581Z"
   },
   {
    "duration": 15,
    "start_time": "2022-11-15T08:15:30.456Z"
   },
   {
    "duration": 11,
    "start_time": "2022-11-15T08:15:50.172Z"
   },
   {
    "duration": 9,
    "start_time": "2022-11-15T08:16:53.730Z"
   },
   {
    "duration": 111,
    "start_time": "2022-11-15T08:18:15.002Z"
   },
   {
    "duration": 76,
    "start_time": "2022-11-15T08:18:28.340Z"
   },
   {
    "duration": 29,
    "start_time": "2022-11-15T08:18:32.186Z"
   },
   {
    "duration": 5,
    "start_time": "2022-11-15T08:19:13.654Z"
   },
   {
    "duration": 12,
    "start_time": "2022-11-15T08:19:14.874Z"
   },
   {
    "duration": 6,
    "start_time": "2022-11-15T08:22:19.282Z"
   },
   {
    "duration": 5,
    "start_time": "2022-11-15T08:22:25.922Z"
   },
   {
    "duration": 6,
    "start_time": "2022-11-15T08:22:51.051Z"
   },
   {
    "duration": 7,
    "start_time": "2022-11-15T08:23:00.656Z"
   },
   {
    "duration": 7,
    "start_time": "2022-11-15T08:23:07.523Z"
   },
   {
    "duration": 5,
    "start_time": "2022-11-15T08:25:11.384Z"
   },
   {
    "duration": 6,
    "start_time": "2022-11-15T08:25:23.239Z"
   },
   {
    "duration": 4,
    "start_time": "2022-11-15T08:25:29.801Z"
   },
   {
    "duration": 7,
    "start_time": "2022-11-15T08:25:37.217Z"
   },
   {
    "duration": 4,
    "start_time": "2022-11-15T08:25:37.842Z"
   },
   {
    "duration": 1417,
    "start_time": "2022-11-15T08:25:44.936Z"
   },
   {
    "duration": 394,
    "start_time": "2022-11-15T08:25:46.356Z"
   },
   {
    "duration": 15,
    "start_time": "2022-11-15T08:25:46.751Z"
   },
   {
    "duration": 15,
    "start_time": "2022-11-15T08:25:46.768Z"
   },
   {
    "duration": 28,
    "start_time": "2022-11-15T08:25:46.785Z"
   },
   {
    "duration": 11,
    "start_time": "2022-11-15T08:25:46.815Z"
   },
   {
    "duration": 18,
    "start_time": "2022-11-15T08:25:46.827Z"
   },
   {
    "duration": 17,
    "start_time": "2022-11-15T08:25:46.847Z"
   },
   {
    "duration": 9,
    "start_time": "2022-11-15T08:25:46.866Z"
   },
   {
    "duration": 42,
    "start_time": "2022-11-15T08:25:46.877Z"
   },
   {
    "duration": 17,
    "start_time": "2022-11-15T08:25:46.921Z"
   },
   {
    "duration": 8,
    "start_time": "2022-11-15T08:25:46.940Z"
   },
   {
    "duration": 65,
    "start_time": "2022-11-15T08:25:46.950Z"
   },
   {
    "duration": 45,
    "start_time": "2022-11-15T08:25:47.017Z"
   },
   {
    "duration": 84,
    "start_time": "2022-11-15T08:25:47.064Z"
   },
   {
    "duration": 21,
    "start_time": "2022-11-15T08:25:47.151Z"
   },
   {
    "duration": 65,
    "start_time": "2022-11-15T08:25:47.175Z"
   },
   {
    "duration": 40,
    "start_time": "2022-11-15T08:25:47.243Z"
   },
   {
    "duration": 60,
    "start_time": "2022-11-15T08:25:47.285Z"
   },
   {
    "duration": 51,
    "start_time": "2022-11-15T08:25:47.350Z"
   },
   {
    "duration": 42,
    "start_time": "2022-11-15T08:25:47.403Z"
   },
   {
    "duration": 382,
    "start_time": "2022-11-15T08:25:47.448Z"
   },
   {
    "duration": 243,
    "start_time": "2022-11-15T08:25:47.831Z"
   },
   {
    "duration": 6,
    "start_time": "2022-11-15T08:25:48.076Z"
   },
   {
    "duration": 397,
    "start_time": "2022-11-15T08:25:48.083Z"
   },
   {
    "duration": 65,
    "start_time": "2022-11-15T08:25:48.482Z"
   },
   {
    "duration": 32,
    "start_time": "2022-11-15T08:25:48.550Z"
   },
   {
    "duration": 91,
    "start_time": "2022-11-15T08:25:48.587Z"
   },
   {
    "duration": 232,
    "start_time": "2022-11-15T08:25:48.681Z"
   },
   {
    "duration": 10,
    "start_time": "2022-11-15T08:25:48.915Z"
   },
   {
    "duration": 282,
    "start_time": "2022-11-15T08:25:48.927Z"
   },
   {
    "duration": 0,
    "start_time": "2022-11-15T08:25:49.211Z"
   },
   {
    "duration": 0,
    "start_time": "2022-11-15T08:25:49.212Z"
   },
   {
    "duration": 0,
    "start_time": "2022-11-15T08:25:49.214Z"
   },
   {
    "duration": 0,
    "start_time": "2022-11-15T08:25:49.215Z"
   },
   {
    "duration": 0,
    "start_time": "2022-11-15T08:25:49.217Z"
   },
   {
    "duration": 0,
    "start_time": "2022-11-15T08:25:49.218Z"
   },
   {
    "duration": 0,
    "start_time": "2022-11-15T08:25:49.219Z"
   },
   {
    "duration": 0,
    "start_time": "2022-11-15T08:25:49.221Z"
   },
   {
    "duration": 0,
    "start_time": "2022-11-15T08:25:49.222Z"
   },
   {
    "duration": 0,
    "start_time": "2022-11-15T08:25:49.223Z"
   },
   {
    "duration": 0,
    "start_time": "2022-11-15T08:25:49.225Z"
   },
   {
    "duration": 0,
    "start_time": "2022-11-15T08:25:49.226Z"
   },
   {
    "duration": 0,
    "start_time": "2022-11-15T08:25:49.228Z"
   },
   {
    "duration": 0,
    "start_time": "2022-11-15T08:25:49.229Z"
   },
   {
    "duration": 0,
    "start_time": "2022-11-15T08:25:49.231Z"
   },
   {
    "duration": 0,
    "start_time": "2022-11-15T08:25:49.232Z"
   },
   {
    "duration": 0,
    "start_time": "2022-11-15T08:25:49.234Z"
   },
   {
    "duration": 0,
    "start_time": "2022-11-15T08:25:49.235Z"
   },
   {
    "duration": 0,
    "start_time": "2022-11-15T08:25:49.236Z"
   },
   {
    "duration": 0,
    "start_time": "2022-11-15T08:25:49.237Z"
   },
   {
    "duration": 0,
    "start_time": "2022-11-15T08:25:49.239Z"
   },
   {
    "duration": 0,
    "start_time": "2022-11-15T08:25:49.240Z"
   },
   {
    "duration": 0,
    "start_time": "2022-11-15T08:25:49.242Z"
   },
   {
    "duration": 0,
    "start_time": "2022-11-15T08:25:49.243Z"
   },
   {
    "duration": 0,
    "start_time": "2022-11-15T08:25:49.244Z"
   },
   {
    "duration": 0,
    "start_time": "2022-11-15T08:25:49.246Z"
   },
   {
    "duration": 0,
    "start_time": "2022-11-15T08:25:49.247Z"
   },
   {
    "duration": 0,
    "start_time": "2022-11-15T08:25:49.248Z"
   },
   {
    "duration": 0,
    "start_time": "2022-11-15T08:25:49.249Z"
   },
   {
    "duration": 0,
    "start_time": "2022-11-15T08:25:49.250Z"
   },
   {
    "duration": 0,
    "start_time": "2022-11-15T08:25:49.252Z"
   },
   {
    "duration": 1,
    "start_time": "2022-11-15T08:25:49.312Z"
   },
   {
    "duration": 0,
    "start_time": "2022-11-15T08:25:49.314Z"
   },
   {
    "duration": 0,
    "start_time": "2022-11-15T08:25:49.315Z"
   },
   {
    "duration": 0,
    "start_time": "2022-11-15T08:25:49.316Z"
   },
   {
    "duration": 0,
    "start_time": "2022-11-15T08:25:49.317Z"
   },
   {
    "duration": 0,
    "start_time": "2022-11-15T08:25:49.319Z"
   },
   {
    "duration": 0,
    "start_time": "2022-11-15T08:25:49.320Z"
   },
   {
    "duration": 0,
    "start_time": "2022-11-15T08:25:49.321Z"
   },
   {
    "duration": 0,
    "start_time": "2022-11-15T08:25:49.322Z"
   },
   {
    "duration": 0,
    "start_time": "2022-11-15T08:25:49.324Z"
   },
   {
    "duration": 0,
    "start_time": "2022-11-15T08:25:49.326Z"
   },
   {
    "duration": 0,
    "start_time": "2022-11-15T08:25:49.329Z"
   },
   {
    "duration": 0,
    "start_time": "2022-11-15T08:25:49.331Z"
   },
   {
    "duration": 11,
    "start_time": "2022-11-15T08:33:14.006Z"
   },
   {
    "duration": 7,
    "start_time": "2022-11-15T08:34:08.878Z"
   },
   {
    "duration": 4,
    "start_time": "2022-11-15T08:34:16.347Z"
   },
   {
    "duration": 7,
    "start_time": "2022-11-15T08:34:21.190Z"
   },
   {
    "duration": 3,
    "start_time": "2022-11-15T08:34:23.663Z"
   },
   {
    "duration": 4,
    "start_time": "2022-11-15T08:34:44.875Z"
   },
   {
    "duration": 43,
    "start_time": "2022-11-15T08:34:52.472Z"
   },
   {
    "duration": 43,
    "start_time": "2022-11-15T08:34:59.178Z"
   },
   {
    "duration": 57,
    "start_time": "2022-11-15T08:35:02.900Z"
   },
   {
    "duration": 4,
    "start_time": "2022-11-15T08:35:13.140Z"
   },
   {
    "duration": 10,
    "start_time": "2022-11-15T08:36:34.131Z"
   },
   {
    "duration": 7,
    "start_time": "2022-11-15T08:36:43.498Z"
   },
   {
    "duration": 4,
    "start_time": "2022-11-15T08:36:48.903Z"
   },
   {
    "duration": 10,
    "start_time": "2022-11-15T08:39:35.623Z"
   },
   {
    "duration": 9,
    "start_time": "2022-11-15T08:55:09.651Z"
   },
   {
    "duration": 17,
    "start_time": "2022-11-15T08:55:53.055Z"
   },
   {
    "duration": 9,
    "start_time": "2022-11-15T08:55:55.125Z"
   },
   {
    "duration": 12,
    "start_time": "2022-11-15T08:57:39.890Z"
   },
   {
    "duration": 11,
    "start_time": "2022-11-15T08:58:02.132Z"
   },
   {
    "duration": 15,
    "start_time": "2022-11-15T08:58:20.043Z"
   },
   {
    "duration": 9,
    "start_time": "2022-11-15T08:58:27.068Z"
   },
   {
    "duration": 11,
    "start_time": "2022-11-15T08:58:39.012Z"
   },
   {
    "duration": 11,
    "start_time": "2022-11-15T08:58:44.477Z"
   },
   {
    "duration": 12,
    "start_time": "2022-11-15T09:00:11.779Z"
   },
   {
    "duration": 11,
    "start_time": "2022-11-15T09:01:38.494Z"
   },
   {
    "duration": 1458,
    "start_time": "2022-11-15T09:01:51.921Z"
   },
   {
    "duration": 419,
    "start_time": "2022-11-15T09:01:53.381Z"
   },
   {
    "duration": 18,
    "start_time": "2022-11-15T09:01:53.802Z"
   },
   {
    "duration": 16,
    "start_time": "2022-11-15T09:01:53.823Z"
   },
   {
    "duration": 13,
    "start_time": "2022-11-15T09:01:53.841Z"
   },
   {
    "duration": 17,
    "start_time": "2022-11-15T09:01:53.856Z"
   },
   {
    "duration": 38,
    "start_time": "2022-11-15T09:01:53.875Z"
   },
   {
    "duration": 14,
    "start_time": "2022-11-15T09:01:53.915Z"
   },
   {
    "duration": 8,
    "start_time": "2022-11-15T09:01:53.931Z"
   },
   {
    "duration": 10,
    "start_time": "2022-11-15T09:01:53.942Z"
   },
   {
    "duration": 17,
    "start_time": "2022-11-15T09:01:53.954Z"
   },
   {
    "duration": 39,
    "start_time": "2022-11-15T09:01:53.973Z"
   },
   {
    "duration": 49,
    "start_time": "2022-11-15T09:01:54.014Z"
   },
   {
    "duration": 67,
    "start_time": "2022-11-15T09:01:54.064Z"
   },
   {
    "duration": 52,
    "start_time": "2022-11-15T09:01:54.133Z"
   },
   {
    "duration": 37,
    "start_time": "2022-11-15T09:01:54.188Z"
   },
   {
    "duration": 31,
    "start_time": "2022-11-15T09:01:54.228Z"
   },
   {
    "duration": 30,
    "start_time": "2022-11-15T09:01:54.261Z"
   },
   {
    "duration": 57,
    "start_time": "2022-11-15T09:01:54.293Z"
   },
   {
    "duration": 42,
    "start_time": "2022-11-15T09:01:54.352Z"
   },
   {
    "duration": 54,
    "start_time": "2022-11-15T09:01:54.396Z"
   },
   {
    "duration": 384,
    "start_time": "2022-11-15T09:01:54.452Z"
   },
   {
    "duration": 284,
    "start_time": "2022-11-15T09:01:54.838Z"
   },
   {
    "duration": 7,
    "start_time": "2022-11-15T09:01:55.125Z"
   },
   {
    "duration": 387,
    "start_time": "2022-11-15T09:01:55.134Z"
   },
   {
    "duration": 41,
    "start_time": "2022-11-15T09:01:55.523Z"
   },
   {
    "duration": 46,
    "start_time": "2022-11-15T09:01:55.566Z"
   },
   {
    "duration": 68,
    "start_time": "2022-11-15T09:01:55.617Z"
   },
   {
    "duration": 228,
    "start_time": "2022-11-15T09:01:55.687Z"
   },
   {
    "duration": 95,
    "start_time": "2022-11-15T09:01:55.918Z"
   },
   {
    "duration": 8,
    "start_time": "2022-11-15T09:01:56.016Z"
   },
   {
    "duration": 19,
    "start_time": "2022-11-15T09:01:56.026Z"
   },
   {
    "duration": 41,
    "start_time": "2022-11-15T09:01:56.047Z"
   },
   {
    "duration": 157,
    "start_time": "2022-11-15T09:01:56.090Z"
   },
   {
    "duration": 0,
    "start_time": "2022-11-15T09:01:56.249Z"
   },
   {
    "duration": 0,
    "start_time": "2022-11-15T09:01:56.251Z"
   },
   {
    "duration": 0,
    "start_time": "2022-11-15T09:01:56.252Z"
   },
   {
    "duration": 0,
    "start_time": "2022-11-15T09:01:56.253Z"
   },
   {
    "duration": 0,
    "start_time": "2022-11-15T09:01:56.255Z"
   },
   {
    "duration": 0,
    "start_time": "2022-11-15T09:01:56.257Z"
   },
   {
    "duration": 0,
    "start_time": "2022-11-15T09:01:56.258Z"
   },
   {
    "duration": 0,
    "start_time": "2022-11-15T09:01:56.260Z"
   },
   {
    "duration": 0,
    "start_time": "2022-11-15T09:01:56.263Z"
   },
   {
    "duration": 0,
    "start_time": "2022-11-15T09:01:56.264Z"
   },
   {
    "duration": 0,
    "start_time": "2022-11-15T09:01:56.265Z"
   },
   {
    "duration": 0,
    "start_time": "2022-11-15T09:01:56.267Z"
   },
   {
    "duration": 0,
    "start_time": "2022-11-15T09:01:56.268Z"
   },
   {
    "duration": 0,
    "start_time": "2022-11-15T09:01:56.270Z"
   },
   {
    "duration": 0,
    "start_time": "2022-11-15T09:01:56.271Z"
   },
   {
    "duration": 0,
    "start_time": "2022-11-15T09:01:56.272Z"
   },
   {
    "duration": 0,
    "start_time": "2022-11-15T09:01:56.274Z"
   },
   {
    "duration": 0,
    "start_time": "2022-11-15T09:01:56.314Z"
   },
   {
    "duration": 0,
    "start_time": "2022-11-15T09:01:56.315Z"
   },
   {
    "duration": 0,
    "start_time": "2022-11-15T09:01:56.317Z"
   },
   {
    "duration": 0,
    "start_time": "2022-11-15T09:01:56.318Z"
   },
   {
    "duration": 0,
    "start_time": "2022-11-15T09:01:56.320Z"
   },
   {
    "duration": 0,
    "start_time": "2022-11-15T09:01:56.322Z"
   },
   {
    "duration": 0,
    "start_time": "2022-11-15T09:01:56.323Z"
   },
   {
    "duration": 0,
    "start_time": "2022-11-15T09:01:56.325Z"
   },
   {
    "duration": 0,
    "start_time": "2022-11-15T09:01:56.326Z"
   },
   {
    "duration": 0,
    "start_time": "2022-11-15T09:01:56.327Z"
   },
   {
    "duration": 0,
    "start_time": "2022-11-15T09:01:56.328Z"
   },
   {
    "duration": 0,
    "start_time": "2022-11-15T09:01:56.329Z"
   },
   {
    "duration": 0,
    "start_time": "2022-11-15T09:01:56.331Z"
   },
   {
    "duration": 0,
    "start_time": "2022-11-15T09:01:56.332Z"
   },
   {
    "duration": 0,
    "start_time": "2022-11-15T09:01:56.334Z"
   },
   {
    "duration": 0,
    "start_time": "2022-11-15T09:01:56.335Z"
   },
   {
    "duration": 0,
    "start_time": "2022-11-15T09:01:56.338Z"
   },
   {
    "duration": 0,
    "start_time": "2022-11-15T09:01:56.339Z"
   },
   {
    "duration": 0,
    "start_time": "2022-11-15T09:01:56.341Z"
   },
   {
    "duration": 0,
    "start_time": "2022-11-15T09:01:56.342Z"
   },
   {
    "duration": 0,
    "start_time": "2022-11-15T09:01:56.344Z"
   },
   {
    "duration": 0,
    "start_time": "2022-11-15T09:01:56.345Z"
   },
   {
    "duration": 0,
    "start_time": "2022-11-15T09:01:56.347Z"
   },
   {
    "duration": 0,
    "start_time": "2022-11-15T09:01:56.349Z"
   },
   {
    "duration": 0,
    "start_time": "2022-11-15T09:01:56.351Z"
   },
   {
    "duration": 74,
    "start_time": "2022-11-15T09:05:43.299Z"
   },
   {
    "duration": 15,
    "start_time": "2022-11-15T09:07:45.391Z"
   },
   {
    "duration": 1799,
    "start_time": "2022-11-15T09:08:20.963Z"
   },
   {
    "duration": 532,
    "start_time": "2022-11-15T09:08:22.765Z"
   },
   {
    "duration": 21,
    "start_time": "2022-11-15T09:08:23.299Z"
   },
   {
    "duration": 21,
    "start_time": "2022-11-15T09:08:23.323Z"
   },
   {
    "duration": 13,
    "start_time": "2022-11-15T09:08:23.346Z"
   },
   {
    "duration": 15,
    "start_time": "2022-11-15T09:08:23.361Z"
   },
   {
    "duration": 10,
    "start_time": "2022-11-15T09:08:23.412Z"
   },
   {
    "duration": 38,
    "start_time": "2022-11-15T09:08:23.424Z"
   },
   {
    "duration": 17,
    "start_time": "2022-11-15T09:08:23.464Z"
   },
   {
    "duration": 49,
    "start_time": "2022-11-15T09:08:23.484Z"
   },
   {
    "duration": 69,
    "start_time": "2022-11-15T09:08:23.535Z"
   },
   {
    "duration": 43,
    "start_time": "2022-11-15T09:08:23.606Z"
   },
   {
    "duration": 84,
    "start_time": "2022-11-15T09:08:23.651Z"
   },
   {
    "duration": 59,
    "start_time": "2022-11-15T09:08:23.737Z"
   },
   {
    "duration": 74,
    "start_time": "2022-11-15T09:08:23.798Z"
   },
   {
    "duration": 39,
    "start_time": "2022-11-15T09:08:23.874Z"
   },
   {
    "duration": 69,
    "start_time": "2022-11-15T09:08:23.916Z"
   },
   {
    "duration": 94,
    "start_time": "2022-11-15T09:08:23.988Z"
   },
   {
    "duration": 87,
    "start_time": "2022-11-15T09:08:24.084Z"
   },
   {
    "duration": 37,
    "start_time": "2022-11-15T09:08:24.175Z"
   },
   {
    "duration": 47,
    "start_time": "2022-11-15T09:08:24.215Z"
   },
   {
    "duration": 966,
    "start_time": "2022-11-15T09:08:24.264Z"
   },
   {
    "duration": 618,
    "start_time": "2022-11-15T09:08:25.233Z"
   },
   {
    "duration": 59,
    "start_time": "2022-11-15T09:08:25.854Z"
   },
   {
    "duration": 1035,
    "start_time": "2022-11-15T09:08:25.916Z"
   },
   {
    "duration": 63,
    "start_time": "2022-11-15T09:08:26.956Z"
   },
   {
    "duration": 34,
    "start_time": "2022-11-15T09:08:27.021Z"
   },
   {
    "duration": 91,
    "start_time": "2022-11-15T09:08:27.062Z"
   },
   {
    "duration": 62,
    "start_time": "2022-11-15T09:08:27.155Z"
   },
   {
    "duration": 110,
    "start_time": "2022-11-15T09:08:27.222Z"
   },
   {
    "duration": 18,
    "start_time": "2022-11-15T09:08:27.334Z"
   },
   {
    "duration": 11,
    "start_time": "2022-11-15T09:08:27.355Z"
   },
   {
    "duration": 31,
    "start_time": "2022-11-15T09:08:27.368Z"
   },
   {
    "duration": 219,
    "start_time": "2022-11-15T09:08:27.401Z"
   },
   {
    "duration": 0,
    "start_time": "2022-11-15T09:08:27.622Z"
   },
   {
    "duration": 1,
    "start_time": "2022-11-15T09:08:27.623Z"
   },
   {
    "duration": 0,
    "start_time": "2022-11-15T09:08:27.627Z"
   },
   {
    "duration": 0,
    "start_time": "2022-11-15T09:08:27.628Z"
   },
   {
    "duration": 0,
    "start_time": "2022-11-15T09:08:27.630Z"
   },
   {
    "duration": 0,
    "start_time": "2022-11-15T09:08:27.631Z"
   },
   {
    "duration": 0,
    "start_time": "2022-11-15T09:08:27.632Z"
   },
   {
    "duration": 0,
    "start_time": "2022-11-15T09:08:27.633Z"
   },
   {
    "duration": 0,
    "start_time": "2022-11-15T09:08:27.635Z"
   },
   {
    "duration": 0,
    "start_time": "2022-11-15T09:08:27.636Z"
   },
   {
    "duration": 0,
    "start_time": "2022-11-15T09:08:27.637Z"
   },
   {
    "duration": 0,
    "start_time": "2022-11-15T09:08:27.638Z"
   },
   {
    "duration": 0,
    "start_time": "2022-11-15T09:08:27.640Z"
   },
   {
    "duration": 0,
    "start_time": "2022-11-15T09:08:27.641Z"
   },
   {
    "duration": 0,
    "start_time": "2022-11-15T09:08:27.643Z"
   },
   {
    "duration": 0,
    "start_time": "2022-11-15T09:08:27.644Z"
   },
   {
    "duration": 0,
    "start_time": "2022-11-15T09:08:27.645Z"
   },
   {
    "duration": 0,
    "start_time": "2022-11-15T09:08:27.646Z"
   },
   {
    "duration": 0,
    "start_time": "2022-11-15T09:08:27.647Z"
   },
   {
    "duration": 0,
    "start_time": "2022-11-15T09:08:27.649Z"
   },
   {
    "duration": 0,
    "start_time": "2022-11-15T09:08:27.650Z"
   },
   {
    "duration": 0,
    "start_time": "2022-11-15T09:08:27.651Z"
   },
   {
    "duration": 0,
    "start_time": "2022-11-15T09:08:27.652Z"
   },
   {
    "duration": 0,
    "start_time": "2022-11-15T09:08:27.653Z"
   },
   {
    "duration": 0,
    "start_time": "2022-11-15T09:08:27.655Z"
   },
   {
    "duration": 0,
    "start_time": "2022-11-15T09:08:27.656Z"
   },
   {
    "duration": 0,
    "start_time": "2022-11-15T09:08:27.658Z"
   },
   {
    "duration": 0,
    "start_time": "2022-11-15T09:08:27.659Z"
   },
   {
    "duration": 0,
    "start_time": "2022-11-15T09:08:27.661Z"
   },
   {
    "duration": 0,
    "start_time": "2022-11-15T09:08:27.662Z"
   },
   {
    "duration": 0,
    "start_time": "2022-11-15T09:08:27.663Z"
   },
   {
    "duration": 0,
    "start_time": "2022-11-15T09:08:27.664Z"
   },
   {
    "duration": 0,
    "start_time": "2022-11-15T09:08:27.666Z"
   },
   {
    "duration": 0,
    "start_time": "2022-11-15T09:08:27.713Z"
   },
   {
    "duration": 0,
    "start_time": "2022-11-15T09:08:27.714Z"
   },
   {
    "duration": 1,
    "start_time": "2022-11-15T09:08:27.715Z"
   },
   {
    "duration": 0,
    "start_time": "2022-11-15T09:08:27.717Z"
   },
   {
    "duration": 0,
    "start_time": "2022-11-15T09:08:27.718Z"
   },
   {
    "duration": 0,
    "start_time": "2022-11-15T09:08:27.722Z"
   },
   {
    "duration": 0,
    "start_time": "2022-11-15T09:08:27.724Z"
   },
   {
    "duration": 0,
    "start_time": "2022-11-15T09:08:27.725Z"
   },
   {
    "duration": 0,
    "start_time": "2022-11-15T09:08:27.728Z"
   },
   {
    "duration": 119,
    "start_time": "2022-11-15T09:12:02.199Z"
   },
   {
    "duration": 1511,
    "start_time": "2022-11-15T09:12:11.398Z"
   },
   {
    "duration": 388,
    "start_time": "2022-11-15T09:12:12.911Z"
   },
   {
    "duration": 16,
    "start_time": "2022-11-15T09:12:13.301Z"
   },
   {
    "duration": 16,
    "start_time": "2022-11-15T09:12:13.319Z"
   },
   {
    "duration": 9,
    "start_time": "2022-11-15T09:12:13.336Z"
   },
   {
    "duration": 18,
    "start_time": "2022-11-15T09:12:13.347Z"
   },
   {
    "duration": 13,
    "start_time": "2022-11-15T09:12:13.367Z"
   },
   {
    "duration": 42,
    "start_time": "2022-11-15T09:12:13.381Z"
   },
   {
    "duration": 12,
    "start_time": "2022-11-15T09:12:13.425Z"
   },
   {
    "duration": 14,
    "start_time": "2022-11-15T09:12:13.439Z"
   },
   {
    "duration": 18,
    "start_time": "2022-11-15T09:12:13.454Z"
   },
   {
    "duration": 38,
    "start_time": "2022-11-15T09:12:13.474Z"
   },
   {
    "duration": 49,
    "start_time": "2022-11-15T09:12:13.514Z"
   },
   {
    "duration": 64,
    "start_time": "2022-11-15T09:12:13.565Z"
   },
   {
    "duration": 49,
    "start_time": "2022-11-15T09:12:13.631Z"
   },
   {
    "duration": 32,
    "start_time": "2022-11-15T09:12:13.682Z"
   },
   {
    "duration": 42,
    "start_time": "2022-11-15T09:12:13.716Z"
   },
   {
    "duration": 20,
    "start_time": "2022-11-15T09:12:13.760Z"
   },
   {
    "duration": 41,
    "start_time": "2022-11-15T09:12:13.782Z"
   },
   {
    "duration": 29,
    "start_time": "2022-11-15T09:12:13.824Z"
   },
   {
    "duration": 30,
    "start_time": "2022-11-15T09:12:13.855Z"
   },
   {
    "duration": 338,
    "start_time": "2022-11-15T09:12:13.886Z"
   },
   {
    "duration": 258,
    "start_time": "2022-11-15T09:12:14.226Z"
   },
   {
    "duration": 6,
    "start_time": "2022-11-15T09:12:14.485Z"
   },
   {
    "duration": 399,
    "start_time": "2022-11-15T09:12:14.493Z"
   },
   {
    "duration": 52,
    "start_time": "2022-11-15T09:12:14.894Z"
   },
   {
    "duration": 24,
    "start_time": "2022-11-15T09:12:14.948Z"
   },
   {
    "duration": 82,
    "start_time": "2022-11-15T09:12:14.977Z"
   },
   {
    "duration": 156,
    "start_time": "2022-11-15T09:12:15.061Z"
   },
   {
    "duration": 101,
    "start_time": "2022-11-15T09:12:15.219Z"
   },
   {
    "duration": 7,
    "start_time": "2022-11-15T09:12:15.322Z"
   },
   {
    "duration": 8,
    "start_time": "2022-11-15T09:12:15.331Z"
   },
   {
    "duration": 139,
    "start_time": "2022-11-15T09:12:15.341Z"
   },
   {
    "duration": 0,
    "start_time": "2022-11-15T09:12:15.482Z"
   },
   {
    "duration": 0,
    "start_time": "2022-11-15T09:12:15.484Z"
   },
   {
    "duration": 0,
    "start_time": "2022-11-15T09:12:15.485Z"
   },
   {
    "duration": 0,
    "start_time": "2022-11-15T09:12:15.487Z"
   },
   {
    "duration": 0,
    "start_time": "2022-11-15T09:12:15.488Z"
   },
   {
    "duration": 0,
    "start_time": "2022-11-15T09:12:15.490Z"
   },
   {
    "duration": 0,
    "start_time": "2022-11-15T09:12:15.491Z"
   },
   {
    "duration": 0,
    "start_time": "2022-11-15T09:12:15.492Z"
   },
   {
    "duration": 0,
    "start_time": "2022-11-15T09:12:15.512Z"
   },
   {
    "duration": 0,
    "start_time": "2022-11-15T09:12:15.514Z"
   },
   {
    "duration": 0,
    "start_time": "2022-11-15T09:12:15.516Z"
   },
   {
    "duration": 0,
    "start_time": "2022-11-15T09:12:15.517Z"
   },
   {
    "duration": 0,
    "start_time": "2022-11-15T09:12:15.519Z"
   },
   {
    "duration": 0,
    "start_time": "2022-11-15T09:12:15.520Z"
   },
   {
    "duration": 0,
    "start_time": "2022-11-15T09:12:15.522Z"
   },
   {
    "duration": 0,
    "start_time": "2022-11-15T09:12:15.523Z"
   },
   {
    "duration": 0,
    "start_time": "2022-11-15T09:12:15.525Z"
   },
   {
    "duration": 0,
    "start_time": "2022-11-15T09:12:15.526Z"
   },
   {
    "duration": 0,
    "start_time": "2022-11-15T09:12:15.527Z"
   },
   {
    "duration": 0,
    "start_time": "2022-11-15T09:12:15.528Z"
   },
   {
    "duration": 0,
    "start_time": "2022-11-15T09:12:15.530Z"
   },
   {
    "duration": 0,
    "start_time": "2022-11-15T09:12:15.532Z"
   },
   {
    "duration": 0,
    "start_time": "2022-11-15T09:12:15.533Z"
   },
   {
    "duration": 0,
    "start_time": "2022-11-15T09:12:15.534Z"
   },
   {
    "duration": 0,
    "start_time": "2022-11-15T09:12:15.536Z"
   },
   {
    "duration": 0,
    "start_time": "2022-11-15T09:12:15.537Z"
   },
   {
    "duration": 0,
    "start_time": "2022-11-15T09:12:15.538Z"
   },
   {
    "duration": 0,
    "start_time": "2022-11-15T09:12:15.539Z"
   },
   {
    "duration": 0,
    "start_time": "2022-11-15T09:12:15.541Z"
   },
   {
    "duration": 0,
    "start_time": "2022-11-15T09:12:15.542Z"
   },
   {
    "duration": 0,
    "start_time": "2022-11-15T09:12:15.543Z"
   },
   {
    "duration": 0,
    "start_time": "2022-11-15T09:12:15.544Z"
   },
   {
    "duration": 0,
    "start_time": "2022-11-15T09:12:15.545Z"
   },
   {
    "duration": 0,
    "start_time": "2022-11-15T09:12:15.547Z"
   },
   {
    "duration": 0,
    "start_time": "2022-11-15T09:12:15.547Z"
   },
   {
    "duration": 0,
    "start_time": "2022-11-15T09:12:15.548Z"
   },
   {
    "duration": 0,
    "start_time": "2022-11-15T09:12:15.550Z"
   },
   {
    "duration": 0,
    "start_time": "2022-11-15T09:12:15.613Z"
   },
   {
    "duration": 0,
    "start_time": "2022-11-15T09:12:15.614Z"
   },
   {
    "duration": 0,
    "start_time": "2022-11-15T09:12:15.615Z"
   },
   {
    "duration": 0,
    "start_time": "2022-11-15T09:12:15.617Z"
   },
   {
    "duration": 0,
    "start_time": "2022-11-15T09:12:15.618Z"
   },
   {
    "duration": 0,
    "start_time": "2022-11-15T09:12:15.619Z"
   },
   {
    "duration": 21,
    "start_time": "2022-11-15T09:13:13.055Z"
   },
   {
    "duration": 11,
    "start_time": "2022-11-15T09:13:37.842Z"
   },
   {
    "duration": 4,
    "start_time": "2022-11-15T09:13:49.103Z"
   },
   {
    "duration": 13,
    "start_time": "2022-11-15T09:13:54.879Z"
   },
   {
    "duration": 24,
    "start_time": "2022-11-15T09:14:02.488Z"
   },
   {
    "duration": 12,
    "start_time": "2022-11-15T09:14:28.965Z"
   },
   {
    "duration": 54,
    "start_time": "2022-11-15T09:15:41.611Z"
   },
   {
    "duration": 1495,
    "start_time": "2022-11-15T09:16:14.816Z"
   },
   {
    "duration": 525,
    "start_time": "2022-11-15T09:16:16.313Z"
   },
   {
    "duration": 15,
    "start_time": "2022-11-15T09:16:16.840Z"
   },
   {
    "duration": 35,
    "start_time": "2022-11-15T09:16:16.857Z"
   },
   {
    "duration": 19,
    "start_time": "2022-11-15T09:16:16.894Z"
   },
   {
    "duration": 12,
    "start_time": "2022-11-15T09:16:16.915Z"
   },
   {
    "duration": 10,
    "start_time": "2022-11-15T09:16:16.928Z"
   },
   {
    "duration": 14,
    "start_time": "2022-11-15T09:16:16.940Z"
   },
   {
    "duration": 12,
    "start_time": "2022-11-15T09:16:16.958Z"
   },
   {
    "duration": 40,
    "start_time": "2022-11-15T09:16:16.973Z"
   },
   {
    "duration": 19,
    "start_time": "2022-11-15T09:16:17.016Z"
   },
   {
    "duration": 9,
    "start_time": "2022-11-15T09:16:17.037Z"
   },
   {
    "duration": 96,
    "start_time": "2022-11-15T09:16:17.047Z"
   },
   {
    "duration": 76,
    "start_time": "2022-11-15T09:16:17.145Z"
   },
   {
    "duration": 54,
    "start_time": "2022-11-15T09:16:17.223Z"
   },
   {
    "duration": 19,
    "start_time": "2022-11-15T09:16:17.279Z"
   },
   {
    "duration": 20,
    "start_time": "2022-11-15T09:16:17.313Z"
   },
   {
    "duration": 28,
    "start_time": "2022-11-15T09:16:17.335Z"
   },
   {
    "duration": 46,
    "start_time": "2022-11-15T09:16:17.367Z"
   },
   {
    "duration": 30,
    "start_time": "2022-11-15T09:16:17.415Z"
   },
   {
    "duration": 31,
    "start_time": "2022-11-15T09:16:17.447Z"
   },
   {
    "duration": 325,
    "start_time": "2022-11-15T09:16:17.480Z"
   },
   {
    "duration": 255,
    "start_time": "2022-11-15T09:16:17.812Z"
   },
   {
    "duration": 6,
    "start_time": "2022-11-15T09:16:18.069Z"
   },
   {
    "duration": 414,
    "start_time": "2022-11-15T09:16:18.076Z"
   },
   {
    "duration": 58,
    "start_time": "2022-11-15T09:16:18.492Z"
   },
   {
    "duration": 25,
    "start_time": "2022-11-15T09:16:18.552Z"
   },
   {
    "duration": 83,
    "start_time": "2022-11-15T09:16:18.581Z"
   },
   {
    "duration": 58,
    "start_time": "2022-11-15T09:16:18.666Z"
   },
   {
    "duration": 189,
    "start_time": "2022-11-15T09:16:18.725Z"
   },
   {
    "duration": 6,
    "start_time": "2022-11-15T09:16:18.916Z"
   },
   {
    "duration": 12,
    "start_time": "2022-11-15T09:16:18.924Z"
   },
   {
    "duration": 14,
    "start_time": "2022-11-15T09:16:18.938Z"
   },
   {
    "duration": 152,
    "start_time": "2022-11-15T09:16:18.954Z"
   },
   {
    "duration": 0,
    "start_time": "2022-11-15T09:16:19.112Z"
   },
   {
    "duration": 0,
    "start_time": "2022-11-15T09:16:19.114Z"
   },
   {
    "duration": 0,
    "start_time": "2022-11-15T09:16:19.116Z"
   },
   {
    "duration": 0,
    "start_time": "2022-11-15T09:16:19.117Z"
   },
   {
    "duration": 0,
    "start_time": "2022-11-15T09:16:19.118Z"
   },
   {
    "duration": 0,
    "start_time": "2022-11-15T09:16:19.120Z"
   },
   {
    "duration": 0,
    "start_time": "2022-11-15T09:16:19.121Z"
   },
   {
    "duration": 0,
    "start_time": "2022-11-15T09:16:19.123Z"
   },
   {
    "duration": 0,
    "start_time": "2022-11-15T09:16:19.124Z"
   },
   {
    "duration": 0,
    "start_time": "2022-11-15T09:16:19.127Z"
   },
   {
    "duration": 0,
    "start_time": "2022-11-15T09:16:19.128Z"
   },
   {
    "duration": 0,
    "start_time": "2022-11-15T09:16:19.130Z"
   },
   {
    "duration": 0,
    "start_time": "2022-11-15T09:16:19.131Z"
   },
   {
    "duration": 0,
    "start_time": "2022-11-15T09:16:19.133Z"
   },
   {
    "duration": 0,
    "start_time": "2022-11-15T09:16:19.135Z"
   },
   {
    "duration": 0,
    "start_time": "2022-11-15T09:16:19.136Z"
   },
   {
    "duration": 0,
    "start_time": "2022-11-15T09:16:19.138Z"
   },
   {
    "duration": 0,
    "start_time": "2022-11-15T09:16:19.139Z"
   },
   {
    "duration": 0,
    "start_time": "2022-11-15T09:16:19.141Z"
   },
   {
    "duration": 0,
    "start_time": "2022-11-15T09:16:19.143Z"
   },
   {
    "duration": 0,
    "start_time": "2022-11-15T09:16:19.144Z"
   },
   {
    "duration": 0,
    "start_time": "2022-11-15T09:16:19.146Z"
   },
   {
    "duration": 0,
    "start_time": "2022-11-15T09:16:19.147Z"
   },
   {
    "duration": 0,
    "start_time": "2022-11-15T09:16:19.148Z"
   },
   {
    "duration": 0,
    "start_time": "2022-11-15T09:16:19.150Z"
   },
   {
    "duration": 0,
    "start_time": "2022-11-15T09:16:19.152Z"
   },
   {
    "duration": 0,
    "start_time": "2022-11-15T09:16:19.153Z"
   },
   {
    "duration": 1,
    "start_time": "2022-11-15T09:16:19.211Z"
   },
   {
    "duration": 0,
    "start_time": "2022-11-15T09:16:19.213Z"
   },
   {
    "duration": 0,
    "start_time": "2022-11-15T09:16:19.214Z"
   },
   {
    "duration": 0,
    "start_time": "2022-11-15T09:16:19.216Z"
   },
   {
    "duration": 0,
    "start_time": "2022-11-15T09:16:19.217Z"
   },
   {
    "duration": 0,
    "start_time": "2022-11-15T09:16:19.219Z"
   },
   {
    "duration": 0,
    "start_time": "2022-11-15T09:16:19.220Z"
   },
   {
    "duration": 0,
    "start_time": "2022-11-15T09:16:19.221Z"
   },
   {
    "duration": 1,
    "start_time": "2022-11-15T09:16:19.222Z"
   },
   {
    "duration": 0,
    "start_time": "2022-11-15T09:16:19.224Z"
   },
   {
    "duration": 0,
    "start_time": "2022-11-15T09:16:19.225Z"
   },
   {
    "duration": 0,
    "start_time": "2022-11-15T09:16:19.227Z"
   },
   {
    "duration": 0,
    "start_time": "2022-11-15T09:16:19.229Z"
   },
   {
    "duration": 0,
    "start_time": "2022-11-15T09:16:19.232Z"
   },
   {
    "duration": 0,
    "start_time": "2022-11-15T09:16:19.233Z"
   },
   {
    "duration": 14,
    "start_time": "2022-11-15T09:21:42.397Z"
   },
   {
    "duration": 16,
    "start_time": "2022-11-15T09:22:17.871Z"
   },
   {
    "duration": 15,
    "start_time": "2022-11-15T09:23:27.387Z"
   },
   {
    "duration": 23,
    "start_time": "2022-11-15T09:24:13.538Z"
   },
   {
    "duration": 27,
    "start_time": "2022-11-15T09:25:48.486Z"
   },
   {
    "duration": 59,
    "start_time": "2022-11-15T09:26:07.199Z"
   },
   {
    "duration": 18,
    "start_time": "2022-11-15T09:26:11.634Z"
   },
   {
    "duration": 1498,
    "start_time": "2022-11-15T09:28:30.199Z"
   },
   {
    "duration": 387,
    "start_time": "2022-11-15T09:28:31.700Z"
   },
   {
    "duration": 25,
    "start_time": "2022-11-15T09:28:32.088Z"
   },
   {
    "duration": 36,
    "start_time": "2022-11-15T09:28:32.117Z"
   },
   {
    "duration": 38,
    "start_time": "2022-11-15T09:28:32.155Z"
   },
   {
    "duration": 33,
    "start_time": "2022-11-15T09:28:32.195Z"
   },
   {
    "duration": 20,
    "start_time": "2022-11-15T09:28:32.231Z"
   },
   {
    "duration": 53,
    "start_time": "2022-11-15T09:28:32.253Z"
   },
   {
    "duration": 16,
    "start_time": "2022-11-15T09:28:32.308Z"
   },
   {
    "duration": 14,
    "start_time": "2022-11-15T09:28:32.328Z"
   },
   {
    "duration": 37,
    "start_time": "2022-11-15T09:28:32.345Z"
   },
   {
    "duration": 13,
    "start_time": "2022-11-15T09:28:32.384Z"
   },
   {
    "duration": 72,
    "start_time": "2022-11-15T09:28:32.399Z"
   },
   {
    "duration": 63,
    "start_time": "2022-11-15T09:28:32.474Z"
   },
   {
    "duration": 52,
    "start_time": "2022-11-15T09:28:32.539Z"
   },
   {
    "duration": 41,
    "start_time": "2022-11-15T09:28:32.593Z"
   },
   {
    "duration": 76,
    "start_time": "2022-11-15T09:28:32.636Z"
   },
   {
    "duration": 26,
    "start_time": "2022-11-15T09:28:32.714Z"
   },
   {
    "duration": 60,
    "start_time": "2022-11-15T09:28:32.742Z"
   },
   {
    "duration": 25,
    "start_time": "2022-11-15T09:28:32.804Z"
   },
   {
    "duration": 118,
    "start_time": "2022-11-15T09:28:32.831Z"
   },
   {
    "duration": 308,
    "start_time": "2022-11-15T09:28:32.952Z"
   },
   {
    "duration": 250,
    "start_time": "2022-11-15T09:28:33.262Z"
   },
   {
    "duration": 6,
    "start_time": "2022-11-15T09:28:33.515Z"
   },
   {
    "duration": 391,
    "start_time": "2022-11-15T09:28:33.523Z"
   },
   {
    "duration": 36,
    "start_time": "2022-11-15T09:28:33.915Z"
   },
   {
    "duration": 25,
    "start_time": "2022-11-15T09:28:33.953Z"
   },
   {
    "duration": 55,
    "start_time": "2022-11-15T09:28:34.014Z"
   },
   {
    "duration": 48,
    "start_time": "2022-11-15T09:28:34.071Z"
   },
   {
    "duration": 94,
    "start_time": "2022-11-15T09:28:34.122Z"
   },
   {
    "duration": 102,
    "start_time": "2022-11-15T09:28:34.218Z"
   },
   {
    "duration": 11,
    "start_time": "2022-11-15T09:28:34.322Z"
   },
   {
    "duration": 29,
    "start_time": "2022-11-15T09:28:34.335Z"
   },
   {
    "duration": 157,
    "start_time": "2022-11-15T09:28:34.366Z"
   },
   {
    "duration": 0,
    "start_time": "2022-11-15T09:28:34.525Z"
   },
   {
    "duration": 0,
    "start_time": "2022-11-15T09:28:34.526Z"
   },
   {
    "duration": 0,
    "start_time": "2022-11-15T09:28:34.527Z"
   },
   {
    "duration": 0,
    "start_time": "2022-11-15T09:28:34.530Z"
   },
   {
    "duration": 0,
    "start_time": "2022-11-15T09:28:34.533Z"
   },
   {
    "duration": 0,
    "start_time": "2022-11-15T09:28:34.534Z"
   },
   {
    "duration": 0,
    "start_time": "2022-11-15T09:28:34.536Z"
   },
   {
    "duration": 0,
    "start_time": "2022-11-15T09:28:34.537Z"
   },
   {
    "duration": 0,
    "start_time": "2022-11-15T09:28:34.539Z"
   },
   {
    "duration": 0,
    "start_time": "2022-11-15T09:28:34.540Z"
   },
   {
    "duration": 0,
    "start_time": "2022-11-15T09:28:34.541Z"
   },
   {
    "duration": 0,
    "start_time": "2022-11-15T09:28:34.543Z"
   },
   {
    "duration": 0,
    "start_time": "2022-11-15T09:28:34.544Z"
   },
   {
    "duration": 0,
    "start_time": "2022-11-15T09:28:34.546Z"
   },
   {
    "duration": 0,
    "start_time": "2022-11-15T09:28:34.547Z"
   },
   {
    "duration": 0,
    "start_time": "2022-11-15T09:28:34.549Z"
   },
   {
    "duration": 0,
    "start_time": "2022-11-15T09:28:34.555Z"
   },
   {
    "duration": 0,
    "start_time": "2022-11-15T09:28:34.563Z"
   },
   {
    "duration": 0,
    "start_time": "2022-11-15T09:28:34.564Z"
   },
   {
    "duration": 0,
    "start_time": "2022-11-15T09:28:34.567Z"
   },
   {
    "duration": 0,
    "start_time": "2022-11-15T09:28:34.569Z"
   },
   {
    "duration": 0,
    "start_time": "2022-11-15T09:28:34.612Z"
   },
   {
    "duration": 0,
    "start_time": "2022-11-15T09:28:34.614Z"
   },
   {
    "duration": 0,
    "start_time": "2022-11-15T09:28:34.616Z"
   },
   {
    "duration": 0,
    "start_time": "2022-11-15T09:28:34.617Z"
   },
   {
    "duration": 1,
    "start_time": "2022-11-15T09:28:34.619Z"
   },
   {
    "duration": 0,
    "start_time": "2022-11-15T09:28:34.621Z"
   },
   {
    "duration": 0,
    "start_time": "2022-11-15T09:28:34.622Z"
   },
   {
    "duration": 0,
    "start_time": "2022-11-15T09:28:34.624Z"
   },
   {
    "duration": 0,
    "start_time": "2022-11-15T09:28:34.625Z"
   },
   {
    "duration": 0,
    "start_time": "2022-11-15T09:28:34.626Z"
   },
   {
    "duration": 0,
    "start_time": "2022-11-15T09:28:34.628Z"
   },
   {
    "duration": 0,
    "start_time": "2022-11-15T09:28:34.629Z"
   },
   {
    "duration": 1,
    "start_time": "2022-11-15T09:28:34.631Z"
   },
   {
    "duration": 0,
    "start_time": "2022-11-15T09:28:34.634Z"
   },
   {
    "duration": 0,
    "start_time": "2022-11-15T09:28:34.637Z"
   },
   {
    "duration": 0,
    "start_time": "2022-11-15T09:28:34.640Z"
   },
   {
    "duration": 0,
    "start_time": "2022-11-15T09:28:34.641Z"
   },
   {
    "duration": 0,
    "start_time": "2022-11-15T09:28:34.643Z"
   },
   {
    "duration": 0,
    "start_time": "2022-11-15T09:28:34.644Z"
   },
   {
    "duration": 0,
    "start_time": "2022-11-15T09:28:34.645Z"
   },
   {
    "duration": 0,
    "start_time": "2022-11-15T09:28:34.647Z"
   },
   {
    "duration": 12,
    "start_time": "2022-11-15T09:29:35.884Z"
   },
   {
    "duration": 13,
    "start_time": "2022-11-15T09:30:10.037Z"
   },
   {
    "duration": 11,
    "start_time": "2022-11-15T09:30:18.807Z"
   },
   {
    "duration": 11,
    "start_time": "2022-11-15T09:30:22.486Z"
   },
   {
    "duration": 13,
    "start_time": "2022-11-15T09:30:36.424Z"
   },
   {
    "duration": 65,
    "start_time": "2022-11-15T09:39:54.302Z"
   },
   {
    "duration": 27,
    "start_time": "2022-11-15T09:52:53.414Z"
   },
   {
    "duration": 13,
    "start_time": "2022-11-15T09:53:14.741Z"
   },
   {
    "duration": 15,
    "start_time": "2022-11-15T09:54:50.588Z"
   },
   {
    "duration": 69,
    "start_time": "2022-11-15T10:02:08.420Z"
   },
   {
    "duration": 73,
    "start_time": "2022-11-15T10:02:27.008Z"
   },
   {
    "duration": 10,
    "start_time": "2022-11-15T10:08:28.714Z"
   },
   {
    "duration": 3,
    "start_time": "2022-11-15T10:08:31.391Z"
   },
   {
    "duration": 3,
    "start_time": "2022-11-15T10:08:33.935Z"
   },
   {
    "duration": 3,
    "start_time": "2022-11-15T10:08:41.690Z"
   },
   {
    "duration": 3,
    "start_time": "2022-11-15T10:08:42.602Z"
   },
   {
    "duration": 15,
    "start_time": "2022-11-15T10:36:59.768Z"
   },
   {
    "duration": 13,
    "start_time": "2022-11-15T10:37:14.276Z"
   },
   {
    "duration": 4,
    "start_time": "2022-11-15T10:37:33.522Z"
   },
   {
    "duration": 10,
    "start_time": "2022-11-15T10:40:20.791Z"
   },
   {
    "duration": 3,
    "start_time": "2022-11-15T10:40:26.193Z"
   },
   {
    "duration": 13,
    "start_time": "2022-11-15T10:40:26.591Z"
   },
   {
    "duration": 9,
    "start_time": "2022-11-15T10:40:51.868Z"
   },
   {
    "duration": 3,
    "start_time": "2022-11-15T10:41:11.561Z"
   },
   {
    "duration": 119,
    "start_time": "2022-11-15T10:48:00.802Z"
   },
   {
    "duration": 2,
    "start_time": "2022-11-15T10:48:06.472Z"
   },
   {
    "duration": 3,
    "start_time": "2022-11-15T10:48:07.234Z"
   },
   {
    "duration": 1534,
    "start_time": "2022-11-15T11:04:02.476Z"
   },
   {
    "duration": 444,
    "start_time": "2022-11-15T11:04:04.012Z"
   },
   {
    "duration": 16,
    "start_time": "2022-11-15T11:04:04.458Z"
   },
   {
    "duration": 28,
    "start_time": "2022-11-15T11:04:04.477Z"
   },
   {
    "duration": 17,
    "start_time": "2022-11-15T11:04:04.507Z"
   },
   {
    "duration": 22,
    "start_time": "2022-11-15T11:04:04.526Z"
   },
   {
    "duration": 11,
    "start_time": "2022-11-15T11:04:04.550Z"
   },
   {
    "duration": 21,
    "start_time": "2022-11-15T11:04:04.563Z"
   },
   {
    "duration": 9,
    "start_time": "2022-11-15T11:04:04.586Z"
   },
   {
    "duration": 22,
    "start_time": "2022-11-15T11:04:04.598Z"
   },
   {
    "duration": 31,
    "start_time": "2022-11-15T11:04:04.621Z"
   },
   {
    "duration": 8,
    "start_time": "2022-11-15T11:04:04.654Z"
   },
   {
    "duration": 69,
    "start_time": "2022-11-15T11:04:04.663Z"
   },
   {
    "duration": 46,
    "start_time": "2022-11-15T11:04:04.734Z"
   },
   {
    "duration": 81,
    "start_time": "2022-11-15T11:04:04.782Z"
   },
   {
    "duration": 22,
    "start_time": "2022-11-15T11:04:04.865Z"
   },
   {
    "duration": 63,
    "start_time": "2022-11-15T11:04:04.889Z"
   },
   {
    "duration": 25,
    "start_time": "2022-11-15T11:04:04.954Z"
   },
   {
    "duration": 43,
    "start_time": "2022-11-15T11:04:04.981Z"
   },
   {
    "duration": 31,
    "start_time": "2022-11-15T11:04:05.027Z"
   },
   {
    "duration": 29,
    "start_time": "2022-11-15T11:04:05.060Z"
   },
   {
    "duration": 358,
    "start_time": "2022-11-15T11:04:05.091Z"
   },
   {
    "duration": 244,
    "start_time": "2022-11-15T11:04:05.450Z"
   },
   {
    "duration": 6,
    "start_time": "2022-11-15T11:04:05.696Z"
   },
   {
    "duration": 390,
    "start_time": "2022-11-15T11:04:05.712Z"
   },
   {
    "duration": 48,
    "start_time": "2022-11-15T11:04:06.104Z"
   },
   {
    "duration": 25,
    "start_time": "2022-11-15T11:04:06.153Z"
   },
   {
    "duration": 81,
    "start_time": "2022-11-15T11:04:06.182Z"
   },
   {
    "duration": 246,
    "start_time": "2022-11-15T11:04:06.265Z"
   },
   {
    "duration": 31,
    "start_time": "2022-11-15T11:04:06.514Z"
   },
   {
    "duration": 13,
    "start_time": "2022-11-15T11:04:06.548Z"
   },
   {
    "duration": 44,
    "start_time": "2022-11-15T11:04:06.564Z"
   },
   {
    "duration": 47,
    "start_time": "2022-11-15T11:04:06.610Z"
   },
   {
    "duration": 5,
    "start_time": "2022-11-15T11:04:06.659Z"
   },
   {
    "duration": 89,
    "start_time": "2022-11-15T11:04:06.666Z"
   },
   {
    "duration": 0,
    "start_time": "2022-11-15T11:04:06.757Z"
   },
   {
    "duration": 0,
    "start_time": "2022-11-15T11:04:06.760Z"
   },
   {
    "duration": 0,
    "start_time": "2022-11-15T11:04:06.761Z"
   },
   {
    "duration": 0,
    "start_time": "2022-11-15T11:04:06.763Z"
   },
   {
    "duration": 0,
    "start_time": "2022-11-15T11:04:06.765Z"
   },
   {
    "duration": 0,
    "start_time": "2022-11-15T11:04:06.767Z"
   },
   {
    "duration": 0,
    "start_time": "2022-11-15T11:04:06.768Z"
   },
   {
    "duration": 0,
    "start_time": "2022-11-15T11:04:06.770Z"
   },
   {
    "duration": 0,
    "start_time": "2022-11-15T11:04:06.771Z"
   },
   {
    "duration": 0,
    "start_time": "2022-11-15T11:04:06.773Z"
   },
   {
    "duration": 0,
    "start_time": "2022-11-15T11:04:06.774Z"
   },
   {
    "duration": 0,
    "start_time": "2022-11-15T11:04:06.775Z"
   },
   {
    "duration": 0,
    "start_time": "2022-11-15T11:04:06.777Z"
   },
   {
    "duration": 0,
    "start_time": "2022-11-15T11:04:06.778Z"
   },
   {
    "duration": 0,
    "start_time": "2022-11-15T11:04:06.780Z"
   },
   {
    "duration": 0,
    "start_time": "2022-11-15T11:04:06.781Z"
   },
   {
    "duration": 0,
    "start_time": "2022-11-15T11:04:06.783Z"
   },
   {
    "duration": 0,
    "start_time": "2022-11-15T11:04:06.784Z"
   },
   {
    "duration": 0,
    "start_time": "2022-11-15T11:04:06.785Z"
   },
   {
    "duration": 0,
    "start_time": "2022-11-15T11:04:06.787Z"
   },
   {
    "duration": 0,
    "start_time": "2022-11-15T11:04:06.788Z"
   },
   {
    "duration": 0,
    "start_time": "2022-11-15T11:04:06.791Z"
   },
   {
    "duration": 0,
    "start_time": "2022-11-15T11:04:06.792Z"
   },
   {
    "duration": 0,
    "start_time": "2022-11-15T11:04:06.794Z"
   },
   {
    "duration": 3,
    "start_time": "2022-11-15T11:17:17.317Z"
   },
   {
    "duration": 108,
    "start_time": "2022-11-15T11:20:10.963Z"
   },
   {
    "duration": 18,
    "start_time": "2022-11-15T11:20:23.174Z"
   },
   {
    "duration": 1496,
    "start_time": "2022-11-15T11:21:24.148Z"
   },
   {
    "duration": 393,
    "start_time": "2022-11-15T11:21:25.646Z"
   },
   {
    "duration": 15,
    "start_time": "2022-11-15T11:21:26.041Z"
   },
   {
    "duration": 28,
    "start_time": "2022-11-15T11:21:26.057Z"
   },
   {
    "duration": 10,
    "start_time": "2022-11-15T11:21:26.087Z"
   },
   {
    "duration": 15,
    "start_time": "2022-11-15T11:21:26.111Z"
   },
   {
    "duration": 14,
    "start_time": "2022-11-15T11:21:26.128Z"
   },
   {
    "duration": 16,
    "start_time": "2022-11-15T11:21:26.144Z"
   },
   {
    "duration": 12,
    "start_time": "2022-11-15T11:21:26.162Z"
   },
   {
    "duration": 44,
    "start_time": "2022-11-15T11:21:26.176Z"
   },
   {
    "duration": 20,
    "start_time": "2022-11-15T11:21:26.222Z"
   },
   {
    "duration": 10,
    "start_time": "2022-11-15T11:21:26.244Z"
   },
   {
    "duration": 92,
    "start_time": "2022-11-15T11:21:26.256Z"
   },
   {
    "duration": 99,
    "start_time": "2022-11-15T11:21:26.352Z"
   },
   {
    "duration": 59,
    "start_time": "2022-11-15T11:21:26.453Z"
   },
   {
    "duration": 21,
    "start_time": "2022-11-15T11:21:26.514Z"
   },
   {
    "duration": 34,
    "start_time": "2022-11-15T11:21:26.538Z"
   },
   {
    "duration": 42,
    "start_time": "2022-11-15T11:21:26.575Z"
   },
   {
    "duration": 57,
    "start_time": "2022-11-15T11:21:26.619Z"
   },
   {
    "duration": 69,
    "start_time": "2022-11-15T11:21:26.678Z"
   },
   {
    "duration": 90,
    "start_time": "2022-11-15T11:21:26.749Z"
   },
   {
    "duration": 450,
    "start_time": "2022-11-15T11:21:26.840Z"
   },
   {
    "duration": 322,
    "start_time": "2022-11-15T11:21:27.292Z"
   },
   {
    "duration": 6,
    "start_time": "2022-11-15T11:21:27.616Z"
   },
   {
    "duration": 473,
    "start_time": "2022-11-15T11:21:27.623Z"
   },
   {
    "duration": 49,
    "start_time": "2022-11-15T11:21:28.098Z"
   },
   {
    "duration": 33,
    "start_time": "2022-11-15T11:21:28.149Z"
   },
   {
    "duration": 71,
    "start_time": "2022-11-15T11:21:28.185Z"
   },
   {
    "duration": 64,
    "start_time": "2022-11-15T11:21:28.259Z"
   },
   {
    "duration": 107,
    "start_time": "2022-11-15T11:21:28.412Z"
   },
   {
    "duration": 7,
    "start_time": "2022-11-15T11:21:28.521Z"
   },
   {
    "duration": 4,
    "start_time": "2022-11-15T11:21:28.530Z"
   },
   {
    "duration": 15,
    "start_time": "2022-11-15T11:21:28.536Z"
   },
   {
    "duration": 6,
    "start_time": "2022-11-15T11:21:28.553Z"
   },
   {
    "duration": 22,
    "start_time": "2022-11-15T11:21:28.561Z"
   },
   {
    "duration": 6,
    "start_time": "2022-11-15T11:21:28.585Z"
   },
   {
    "duration": 27,
    "start_time": "2022-11-15T11:21:28.593Z"
   },
   {
    "duration": 10,
    "start_time": "2022-11-15T11:21:28.622Z"
   },
   {
    "duration": 9,
    "start_time": "2022-11-15T11:21:28.634Z"
   },
   {
    "duration": 19,
    "start_time": "2022-11-15T11:21:28.644Z"
   },
   {
    "duration": 108,
    "start_time": "2022-11-15T11:21:28.667Z"
   },
   {
    "duration": 0,
    "start_time": "2022-11-15T11:21:28.776Z"
   },
   {
    "duration": 0,
    "start_time": "2022-11-15T11:21:28.778Z"
   },
   {
    "duration": 0,
    "start_time": "2022-11-15T11:21:28.779Z"
   },
   {
    "duration": 0,
    "start_time": "2022-11-15T11:21:28.781Z"
   },
   {
    "duration": 0,
    "start_time": "2022-11-15T11:21:28.782Z"
   },
   {
    "duration": 0,
    "start_time": "2022-11-15T11:21:28.784Z"
   },
   {
    "duration": 0,
    "start_time": "2022-11-15T11:21:28.785Z"
   },
   {
    "duration": 0,
    "start_time": "2022-11-15T11:21:28.787Z"
   },
   {
    "duration": 0,
    "start_time": "2022-11-15T11:21:28.788Z"
   },
   {
    "duration": 0,
    "start_time": "2022-11-15T11:21:28.789Z"
   },
   {
    "duration": 0,
    "start_time": "2022-11-15T11:21:28.790Z"
   },
   {
    "duration": 0,
    "start_time": "2022-11-15T11:21:28.791Z"
   },
   {
    "duration": 1,
    "start_time": "2022-11-15T11:21:28.812Z"
   },
   {
    "duration": 0,
    "start_time": "2022-11-15T11:21:28.814Z"
   },
   {
    "duration": 0,
    "start_time": "2022-11-15T11:21:28.816Z"
   },
   {
    "duration": 0,
    "start_time": "2022-11-15T11:21:28.817Z"
   },
   {
    "duration": 0,
    "start_time": "2022-11-15T11:21:28.819Z"
   },
   {
    "duration": 12,
    "start_time": "2022-11-15T11:22:54.275Z"
   },
   {
    "duration": 10,
    "start_time": "2022-11-15T11:36:22.291Z"
   },
   {
    "duration": 3,
    "start_time": "2022-11-15T11:36:28.666Z"
   },
   {
    "duration": 3,
    "start_time": "2022-11-15T11:36:28.967Z"
   },
   {
    "duration": 3,
    "start_time": "2022-11-15T11:36:29.110Z"
   },
   {
    "duration": 3,
    "start_time": "2022-11-15T11:36:29.606Z"
   },
   {
    "duration": 4,
    "start_time": "2022-11-15T11:36:30.266Z"
   },
   {
    "duration": 10,
    "start_time": "2022-11-15T11:36:35.301Z"
   },
   {
    "duration": 4,
    "start_time": "2022-11-15T11:36:49.306Z"
   },
   {
    "duration": 4,
    "start_time": "2022-11-15T11:38:37.804Z"
   },
   {
    "duration": 3,
    "start_time": "2022-11-15T11:40:58.762Z"
   },
   {
    "duration": 53,
    "start_time": "2022-11-15T11:41:42.471Z"
   },
   {
    "duration": 60,
    "start_time": "2022-11-15T11:41:54.057Z"
   },
   {
    "duration": 4,
    "start_time": "2022-11-15T11:42:05.493Z"
   },
   {
    "duration": 115,
    "start_time": "2022-11-15T11:42:27.776Z"
   },
   {
    "duration": 4,
    "start_time": "2022-11-15T11:42:33.167Z"
   },
   {
    "duration": 3,
    "start_time": "2022-11-15T11:42:43.200Z"
   },
   {
    "duration": 5,
    "start_time": "2022-11-15T11:43:30.435Z"
   },
   {
    "duration": 3,
    "start_time": "2022-11-15T11:43:38.669Z"
   },
   {
    "duration": 4,
    "start_time": "2022-11-15T11:53:03.599Z"
   },
   {
    "duration": 3,
    "start_time": "2022-11-15T11:53:26.388Z"
   },
   {
    "duration": 5,
    "start_time": "2022-11-15T11:54:10.760Z"
   },
   {
    "duration": 5,
    "start_time": "2022-11-15T11:54:11.368Z"
   },
   {
    "duration": 4,
    "start_time": "2022-11-15T11:54:11.987Z"
   },
   {
    "duration": 6,
    "start_time": "2022-11-15T11:57:51.506Z"
   },
   {
    "duration": 5,
    "start_time": "2022-11-15T12:00:11.876Z"
   },
   {
    "duration": 12,
    "start_time": "2022-11-15T12:02:53.396Z"
   },
   {
    "duration": 4,
    "start_time": "2022-11-15T12:03:04.138Z"
   },
   {
    "duration": 5,
    "start_time": "2022-11-15T12:03:07.156Z"
   },
   {
    "duration": 1574,
    "start_time": "2022-11-15T14:26:02.993Z"
   },
   {
    "duration": 844,
    "start_time": "2022-11-15T14:26:04.569Z"
   },
   {
    "duration": 12,
    "start_time": "2022-11-15T14:26:05.415Z"
   },
   {
    "duration": 15,
    "start_time": "2022-11-15T14:26:05.429Z"
   },
   {
    "duration": 8,
    "start_time": "2022-11-15T14:26:05.445Z"
   },
   {
    "duration": 9,
    "start_time": "2022-11-15T14:26:05.455Z"
   },
   {
    "duration": 16,
    "start_time": "2022-11-15T14:26:05.466Z"
   },
   {
    "duration": 15,
    "start_time": "2022-11-15T14:26:05.483Z"
   },
   {
    "duration": 7,
    "start_time": "2022-11-15T14:26:05.500Z"
   },
   {
    "duration": 10,
    "start_time": "2022-11-15T14:26:05.510Z"
   },
   {
    "duration": 17,
    "start_time": "2022-11-15T14:26:05.521Z"
   },
   {
    "duration": 8,
    "start_time": "2022-11-15T14:26:05.539Z"
   },
   {
    "duration": 44,
    "start_time": "2022-11-15T14:26:05.577Z"
   },
   {
    "duration": 62,
    "start_time": "2022-11-15T14:26:05.623Z"
   },
   {
    "duration": 56,
    "start_time": "2022-11-15T14:26:05.687Z"
   },
   {
    "duration": 19,
    "start_time": "2022-11-15T14:26:05.745Z"
   },
   {
    "duration": 20,
    "start_time": "2022-11-15T14:26:05.778Z"
   },
   {
    "duration": 25,
    "start_time": "2022-11-15T14:26:05.800Z"
   },
   {
    "duration": 36,
    "start_time": "2022-11-15T14:26:05.827Z"
   },
   {
    "duration": 39,
    "start_time": "2022-11-15T14:26:05.864Z"
   },
   {
    "duration": 27,
    "start_time": "2022-11-15T14:26:05.905Z"
   },
   {
    "duration": 316,
    "start_time": "2022-11-15T14:26:05.934Z"
   },
   {
    "duration": 239,
    "start_time": "2022-11-15T14:26:06.252Z"
   },
   {
    "duration": 5,
    "start_time": "2022-11-15T14:26:06.493Z"
   },
   {
    "duration": 391,
    "start_time": "2022-11-15T14:26:06.500Z"
   },
   {
    "duration": 42,
    "start_time": "2022-11-15T14:26:06.893Z"
   },
   {
    "duration": 43,
    "start_time": "2022-11-15T14:26:06.937Z"
   },
   {
    "duration": 50,
    "start_time": "2022-11-15T14:26:06.984Z"
   },
   {
    "duration": 52,
    "start_time": "2022-11-15T14:26:07.036Z"
   },
   {
    "duration": 111,
    "start_time": "2022-11-15T14:26:07.179Z"
   },
   {
    "duration": 9,
    "start_time": "2022-11-15T14:26:07.291Z"
   },
   {
    "duration": 11,
    "start_time": "2022-11-15T14:26:07.301Z"
   },
   {
    "duration": 16,
    "start_time": "2022-11-15T14:26:07.314Z"
   },
   {
    "duration": 6,
    "start_time": "2022-11-15T14:26:07.332Z"
   },
   {
    "duration": 11,
    "start_time": "2022-11-15T14:26:07.339Z"
   },
   {
    "duration": 8,
    "start_time": "2022-11-15T14:26:07.351Z"
   },
   {
    "duration": 6,
    "start_time": "2022-11-15T14:26:07.361Z"
   },
   {
    "duration": 8,
    "start_time": "2022-11-15T14:26:07.369Z"
   },
   {
    "duration": 9,
    "start_time": "2022-11-15T14:26:07.378Z"
   },
   {
    "duration": 111,
    "start_time": "2022-11-15T14:26:07.389Z"
   },
   {
    "duration": 0,
    "start_time": "2022-11-15T14:26:07.502Z"
   },
   {
    "duration": 0,
    "start_time": "2022-11-15T14:26:07.504Z"
   },
   {
    "duration": 0,
    "start_time": "2022-11-15T14:26:07.504Z"
   },
   {
    "duration": 0,
    "start_time": "2022-11-15T14:26:07.505Z"
   },
   {
    "duration": 0,
    "start_time": "2022-11-15T14:26:07.506Z"
   },
   {
    "duration": 0,
    "start_time": "2022-11-15T14:26:07.508Z"
   },
   {
    "duration": 1272,
    "start_time": "2022-11-15T14:27:37.610Z"
   },
   {
    "duration": 340,
    "start_time": "2022-11-15T14:27:38.884Z"
   },
   {
    "duration": 14,
    "start_time": "2022-11-15T14:27:39.226Z"
   },
   {
    "duration": 17,
    "start_time": "2022-11-15T14:27:39.242Z"
   },
   {
    "duration": 18,
    "start_time": "2022-11-15T14:27:39.260Z"
   },
   {
    "duration": 9,
    "start_time": "2022-11-15T14:27:39.280Z"
   },
   {
    "duration": 13,
    "start_time": "2022-11-15T14:27:39.291Z"
   },
   {
    "duration": 22,
    "start_time": "2022-11-15T14:27:39.306Z"
   },
   {
    "duration": 10,
    "start_time": "2022-11-15T14:27:39.330Z"
   },
   {
    "duration": 16,
    "start_time": "2022-11-15T14:27:39.343Z"
   },
   {
    "duration": 33,
    "start_time": "2022-11-15T14:27:39.360Z"
   },
   {
    "duration": 8,
    "start_time": "2022-11-15T14:27:39.395Z"
   },
   {
    "duration": 52,
    "start_time": "2022-11-15T14:27:39.405Z"
   },
   {
    "duration": 48,
    "start_time": "2022-11-15T14:27:39.458Z"
   },
   {
    "duration": 40,
    "start_time": "2022-11-15T14:27:39.508Z"
   },
   {
    "duration": 15,
    "start_time": "2022-11-15T14:27:39.549Z"
   },
   {
    "duration": 16,
    "start_time": "2022-11-15T14:27:39.578Z"
   },
   {
    "duration": 17,
    "start_time": "2022-11-15T14:27:39.595Z"
   },
   {
    "duration": 27,
    "start_time": "2022-11-15T14:27:39.613Z"
   },
   {
    "duration": 48,
    "start_time": "2022-11-15T14:27:39.642Z"
   },
   {
    "duration": 26,
    "start_time": "2022-11-15T14:27:39.691Z"
   },
   {
    "duration": 302,
    "start_time": "2022-11-15T14:27:39.718Z"
   },
   {
    "duration": 228,
    "start_time": "2022-11-15T14:27:40.022Z"
   },
   {
    "duration": 5,
    "start_time": "2022-11-15T14:27:40.252Z"
   },
   {
    "duration": 377,
    "start_time": "2022-11-15T14:27:40.258Z"
   },
   {
    "duration": 45,
    "start_time": "2022-11-15T14:27:40.637Z"
   },
   {
    "duration": 25,
    "start_time": "2022-11-15T14:27:40.684Z"
   },
   {
    "duration": 73,
    "start_time": "2022-11-15T14:27:40.712Z"
   },
   {
    "duration": 18,
    "start_time": "2022-11-15T14:27:40.786Z"
   },
   {
    "duration": 109,
    "start_time": "2022-11-15T14:27:40.878Z"
   },
   {
    "duration": 6,
    "start_time": "2022-11-15T14:27:40.989Z"
   },
   {
    "duration": 11,
    "start_time": "2022-11-15T14:27:40.997Z"
   },
   {
    "duration": 20,
    "start_time": "2022-11-15T14:27:41.010Z"
   },
   {
    "duration": 3,
    "start_time": "2022-11-15T14:27:41.032Z"
   },
   {
    "duration": 6,
    "start_time": "2022-11-15T14:27:41.036Z"
   },
   {
    "duration": 10,
    "start_time": "2022-11-15T14:27:41.044Z"
   },
   {
    "duration": 6,
    "start_time": "2022-11-15T14:27:41.056Z"
   },
   {
    "duration": 2,
    "start_time": "2022-11-15T14:27:41.079Z"
   },
   {
    "duration": 8,
    "start_time": "2022-11-15T14:27:41.083Z"
   },
   {
    "duration": 10,
    "start_time": "2022-11-15T14:27:41.092Z"
   },
   {
    "duration": 126,
    "start_time": "2022-11-15T14:27:41.103Z"
   },
   {
    "duration": 0,
    "start_time": "2022-11-15T14:27:41.231Z"
   },
   {
    "duration": 0,
    "start_time": "2022-11-15T14:27:41.232Z"
   },
   {
    "duration": 0,
    "start_time": "2022-11-15T14:27:41.233Z"
   },
   {
    "duration": 0,
    "start_time": "2022-11-15T14:27:41.234Z"
   },
   {
    "duration": 0,
    "start_time": "2022-11-15T14:27:41.235Z"
   },
   {
    "duration": 4,
    "start_time": "2022-11-15T14:28:02.252Z"
   },
   {
    "duration": 14,
    "start_time": "2022-11-15T14:28:02.270Z"
   },
   {
    "duration": 30,
    "start_time": "2022-11-15T14:28:02.289Z"
   },
   {
    "duration": 27,
    "start_time": "2022-11-15T14:28:02.322Z"
   },
   {
    "duration": 0,
    "start_time": "2022-11-15T14:28:02.352Z"
   },
   {
    "duration": 0,
    "start_time": "2022-11-15T14:28:02.353Z"
   },
   {
    "duration": 13,
    "start_time": "2022-11-15T14:28:48.825Z"
   },
   {
    "duration": 8,
    "start_time": "2022-11-15T14:28:48.841Z"
   },
   {
    "duration": 10,
    "start_time": "2022-11-15T14:28:48.857Z"
   },
   {
    "duration": 481,
    "start_time": "2022-11-15T14:29:48.937Z"
   },
   {
    "duration": 12,
    "start_time": "2022-11-15T14:30:45.069Z"
   },
   {
    "duration": 14,
    "start_time": "2022-11-15T14:32:11.071Z"
   },
   {
    "duration": 25,
    "start_time": "2022-11-15T14:32:11.087Z"
   },
   {
    "duration": 27,
    "start_time": "2022-11-15T14:32:11.115Z"
   },
   {
    "duration": 1382,
    "start_time": "2022-11-15T14:35:53.734Z"
   },
   {
    "duration": 327,
    "start_time": "2022-11-15T14:35:55.118Z"
   },
   {
    "duration": 13,
    "start_time": "2022-11-15T14:35:55.447Z"
   },
   {
    "duration": 34,
    "start_time": "2022-11-15T14:35:55.462Z"
   },
   {
    "duration": 21,
    "start_time": "2022-11-15T14:35:55.498Z"
   },
   {
    "duration": 27,
    "start_time": "2022-11-15T14:35:55.521Z"
   },
   {
    "duration": 40,
    "start_time": "2022-11-15T14:35:55.549Z"
   },
   {
    "duration": 32,
    "start_time": "2022-11-15T14:35:55.590Z"
   },
   {
    "duration": 15,
    "start_time": "2022-11-15T14:35:55.624Z"
   },
   {
    "duration": 28,
    "start_time": "2022-11-15T14:35:55.642Z"
   },
   {
    "duration": 33,
    "start_time": "2022-11-15T14:35:55.672Z"
   },
   {
    "duration": 14,
    "start_time": "2022-11-15T14:35:55.706Z"
   },
   {
    "duration": 84,
    "start_time": "2022-11-15T14:35:55.723Z"
   },
   {
    "duration": 39,
    "start_time": "2022-11-15T14:35:55.809Z"
   },
   {
    "duration": 56,
    "start_time": "2022-11-15T14:35:55.849Z"
   },
   {
    "duration": 15,
    "start_time": "2022-11-15T14:35:55.907Z"
   },
   {
    "duration": 40,
    "start_time": "2022-11-15T14:35:55.924Z"
   },
   {
    "duration": 41,
    "start_time": "2022-11-15T14:35:55.967Z"
   },
   {
    "duration": 52,
    "start_time": "2022-11-15T14:35:56.010Z"
   },
   {
    "duration": 24,
    "start_time": "2022-11-15T14:35:56.063Z"
   },
   {
    "duration": 29,
    "start_time": "2022-11-15T14:35:56.088Z"
   },
   {
    "duration": 279,
    "start_time": "2022-11-15T14:35:56.119Z"
   },
   {
    "duration": 213,
    "start_time": "2022-11-15T14:35:56.399Z"
   },
   {
    "duration": 6,
    "start_time": "2022-11-15T14:35:56.613Z"
   },
   {
    "duration": 331,
    "start_time": "2022-11-15T14:35:56.620Z"
   },
   {
    "duration": 41,
    "start_time": "2022-11-15T14:35:56.952Z"
   },
   {
    "duration": 20,
    "start_time": "2022-11-15T14:35:56.995Z"
   },
   {
    "duration": 66,
    "start_time": "2022-11-15T14:35:57.020Z"
   },
   {
    "duration": 90,
    "start_time": "2022-11-15T14:35:57.088Z"
   },
   {
    "duration": 110,
    "start_time": "2022-11-15T14:35:57.180Z"
   },
   {
    "duration": 13,
    "start_time": "2022-11-15T14:35:57.292Z"
   },
   {
    "duration": 33,
    "start_time": "2022-11-15T14:35:57.307Z"
   },
   {
    "duration": 34,
    "start_time": "2022-11-15T14:35:57.342Z"
   },
   {
    "duration": 14,
    "start_time": "2022-11-15T14:35:57.378Z"
   },
   {
    "duration": 22,
    "start_time": "2022-11-15T14:35:57.394Z"
   },
   {
    "duration": 40,
    "start_time": "2022-11-15T14:35:57.418Z"
   },
   {
    "duration": 33,
    "start_time": "2022-11-15T14:35:57.459Z"
   },
   {
    "duration": 14,
    "start_time": "2022-11-15T14:35:57.493Z"
   },
   {
    "duration": 20,
    "start_time": "2022-11-15T14:35:57.509Z"
   },
   {
    "duration": 8,
    "start_time": "2022-11-15T14:35:57.531Z"
   },
   {
    "duration": 7,
    "start_time": "2022-11-15T14:35:57.541Z"
   },
   {
    "duration": 5,
    "start_time": "2022-11-15T14:35:57.549Z"
   },
   {
    "duration": 6,
    "start_time": "2022-11-15T14:35:57.555Z"
   },
   {
    "duration": 427,
    "start_time": "2022-11-15T14:35:57.562Z"
   },
   {
    "duration": 3,
    "start_time": "2022-11-15T14:35:57.991Z"
   },
   {
    "duration": 8,
    "start_time": "2022-11-15T14:35:57.995Z"
   },
   {
    "duration": 413,
    "start_time": "2022-11-15T14:37:52.432Z"
   },
   {
    "duration": 461,
    "start_time": "2022-11-15T14:38:05.600Z"
   },
   {
    "duration": 961,
    "start_time": "2022-11-15T14:40:20.113Z"
   },
   {
    "duration": 226,
    "start_time": "2022-11-15T14:40:33.478Z"
   },
   {
    "duration": 402,
    "start_time": "2022-11-15T14:41:50.464Z"
   },
   {
    "duration": 346,
    "start_time": "2022-11-15T14:42:34.384Z"
   },
   {
    "duration": 393,
    "start_time": "2022-11-15T14:43:03.099Z"
   },
   {
    "duration": 387,
    "start_time": "2022-11-15T15:02:55.068Z"
   },
   {
    "duration": 3,
    "start_time": "2022-11-15T15:19:00.780Z"
   },
   {
    "duration": 4,
    "start_time": "2022-11-15T15:20:21.936Z"
   },
   {
    "duration": 4,
    "start_time": "2022-11-15T15:47:19.129Z"
   },
   {
    "duration": 4,
    "start_time": "2022-11-15T15:59:57.780Z"
   },
   {
    "duration": 11,
    "start_time": "2022-11-15T16:07:58.962Z"
   },
   {
    "duration": 10,
    "start_time": "2022-11-15T16:10:11.159Z"
   },
   {
    "duration": 10,
    "start_time": "2022-11-15T16:10:58.750Z"
   },
   {
    "duration": 5,
    "start_time": "2022-11-15T16:12:36.439Z"
   },
   {
    "duration": 4,
    "start_time": "2022-11-15T16:12:44.630Z"
   },
   {
    "duration": 4,
    "start_time": "2022-11-15T16:13:15.111Z"
   },
   {
    "duration": 5,
    "start_time": "2022-11-15T16:13:56.863Z"
   },
   {
    "duration": 4,
    "start_time": "2022-11-15T16:14:10.641Z"
   },
   {
    "duration": 5,
    "start_time": "2022-11-15T16:14:29.082Z"
   },
   {
    "duration": 5,
    "start_time": "2022-11-15T16:14:42.310Z"
   },
   {
    "duration": 5,
    "start_time": "2022-11-15T16:16:56.110Z"
   },
   {
    "duration": 5,
    "start_time": "2022-11-15T16:19:38.138Z"
   },
   {
    "duration": 6,
    "start_time": "2022-11-15T16:20:25.987Z"
   },
   {
    "duration": 5,
    "start_time": "2022-11-15T16:21:13.555Z"
   },
   {
    "duration": 3,
    "start_time": "2022-11-15T16:21:20.363Z"
   },
   {
    "duration": 5,
    "start_time": "2022-11-15T16:21:22.712Z"
   },
   {
    "duration": 6,
    "start_time": "2022-11-15T16:26:09.098Z"
   },
   {
    "duration": 12,
    "start_time": "2022-11-15T16:27:30.338Z"
   },
   {
    "duration": 11,
    "start_time": "2022-11-15T16:27:52.556Z"
   },
   {
    "duration": 6,
    "start_time": "2022-11-15T16:28:03.806Z"
   },
   {
    "duration": 6,
    "start_time": "2022-11-15T16:28:11.390Z"
   },
   {
    "duration": 5,
    "start_time": "2022-11-15T16:28:20.479Z"
   },
   {
    "duration": 5,
    "start_time": "2022-11-15T16:29:52.178Z"
   },
   {
    "duration": 5,
    "start_time": "2022-11-15T16:30:17.163Z"
   },
   {
    "duration": 4,
    "start_time": "2022-11-15T16:30:25.952Z"
   },
   {
    "duration": 71,
    "start_time": "2022-11-15T16:34:56.842Z"
   },
   {
    "duration": 5,
    "start_time": "2022-11-15T16:35:02.391Z"
   },
   {
    "duration": 10,
    "start_time": "2022-11-15T17:10:56.755Z"
   },
   {
    "duration": 12,
    "start_time": "2022-11-15T17:11:11.655Z"
   },
   {
    "duration": 1292,
    "start_time": "2022-11-15T17:11:25.976Z"
   },
   {
    "duration": 421,
    "start_time": "2022-11-15T17:11:27.270Z"
   },
   {
    "duration": 15,
    "start_time": "2022-11-15T17:11:27.692Z"
   },
   {
    "duration": 15,
    "start_time": "2022-11-15T17:11:27.709Z"
   },
   {
    "duration": 8,
    "start_time": "2022-11-15T17:11:27.726Z"
   },
   {
    "duration": 13,
    "start_time": "2022-11-15T17:11:27.735Z"
   },
   {
    "duration": 39,
    "start_time": "2022-11-15T17:11:27.749Z"
   },
   {
    "duration": 15,
    "start_time": "2022-11-15T17:11:27.789Z"
   },
   {
    "duration": 7,
    "start_time": "2022-11-15T17:11:27.806Z"
   },
   {
    "duration": 11,
    "start_time": "2022-11-15T17:11:27.815Z"
   },
   {
    "duration": 19,
    "start_time": "2022-11-15T17:11:27.828Z"
   },
   {
    "duration": 9,
    "start_time": "2022-11-15T17:11:27.859Z"
   },
   {
    "duration": 45,
    "start_time": "2022-11-15T17:11:27.877Z"
   },
   {
    "duration": 37,
    "start_time": "2022-11-15T17:11:27.923Z"
   },
   {
    "duration": 54,
    "start_time": "2022-11-15T17:11:27.962Z"
   },
   {
    "duration": 15,
    "start_time": "2022-11-15T17:11:28.017Z"
   },
   {
    "duration": 20,
    "start_time": "2022-11-15T17:11:28.034Z"
   },
   {
    "duration": 35,
    "start_time": "2022-11-15T17:11:28.055Z"
   },
   {
    "duration": 28,
    "start_time": "2022-11-15T17:11:28.092Z"
   },
   {
    "duration": 25,
    "start_time": "2022-11-15T17:11:28.122Z"
   },
   {
    "duration": 54,
    "start_time": "2022-11-15T17:11:28.149Z"
   },
   {
    "duration": 289,
    "start_time": "2022-11-15T17:11:28.206Z"
   },
   {
    "duration": 212,
    "start_time": "2022-11-15T17:11:28.497Z"
   },
   {
    "duration": 5,
    "start_time": "2022-11-15T17:11:28.710Z"
   },
   {
    "duration": 332,
    "start_time": "2022-11-15T17:11:28.717Z"
   },
   {
    "duration": 43,
    "start_time": "2022-11-15T17:11:29.051Z"
   },
   {
    "duration": 21,
    "start_time": "2022-11-15T17:11:29.095Z"
   },
   {
    "duration": 60,
    "start_time": "2022-11-15T17:11:29.119Z"
   },
   {
    "duration": 15,
    "start_time": "2022-11-15T17:11:29.181Z"
   },
   {
    "duration": 104,
    "start_time": "2022-11-15T17:11:29.279Z"
   },
   {
    "duration": 6,
    "start_time": "2022-11-15T17:11:29.384Z"
   },
   {
    "duration": 7,
    "start_time": "2022-11-15T17:11:29.392Z"
   },
   {
    "duration": 14,
    "start_time": "2022-11-15T17:11:29.401Z"
   },
   {
    "duration": 2,
    "start_time": "2022-11-15T17:11:29.417Z"
   },
   {
    "duration": 4,
    "start_time": "2022-11-15T17:11:29.421Z"
   },
   {
    "duration": 4,
    "start_time": "2022-11-15T17:11:29.427Z"
   },
   {
    "duration": 7,
    "start_time": "2022-11-15T17:11:29.433Z"
   },
   {
    "duration": 17,
    "start_time": "2022-11-15T17:11:29.442Z"
   },
   {
    "duration": 27,
    "start_time": "2022-11-15T17:11:29.461Z"
   },
   {
    "duration": 8,
    "start_time": "2022-11-15T17:11:29.490Z"
   },
   {
    "duration": 15,
    "start_time": "2022-11-15T17:11:29.499Z"
   },
   {
    "duration": 18,
    "start_time": "2022-11-15T17:11:29.515Z"
   },
   {
    "duration": 10,
    "start_time": "2022-11-15T17:11:29.535Z"
   },
   {
    "duration": 17,
    "start_time": "2022-11-15T17:11:29.546Z"
   },
   {
    "duration": 408,
    "start_time": "2022-11-15T17:11:29.565Z"
   },
   {
    "duration": 4,
    "start_time": "2022-11-15T17:11:29.975Z"
   },
   {
    "duration": 8,
    "start_time": "2022-11-15T17:11:29.981Z"
   },
   {
    "duration": 371,
    "start_time": "2022-11-15T17:17:13.845Z"
   },
   {
    "duration": 346,
    "start_time": "2022-11-15T17:17:18.811Z"
   },
   {
    "duration": 1309,
    "start_time": "2022-11-15T17:17:32.560Z"
   },
   {
    "duration": 379,
    "start_time": "2022-11-15T17:17:33.871Z"
   },
   {
    "duration": 13,
    "start_time": "2022-11-15T17:17:34.252Z"
   },
   {
    "duration": 28,
    "start_time": "2022-11-15T17:17:34.267Z"
   },
   {
    "duration": 12,
    "start_time": "2022-11-15T17:17:34.296Z"
   },
   {
    "duration": 18,
    "start_time": "2022-11-15T17:17:34.310Z"
   },
   {
    "duration": 22,
    "start_time": "2022-11-15T17:17:34.329Z"
   },
   {
    "duration": 17,
    "start_time": "2022-11-15T17:17:34.353Z"
   },
   {
    "duration": 8,
    "start_time": "2022-11-15T17:17:34.372Z"
   },
   {
    "duration": 22,
    "start_time": "2022-11-15T17:17:34.382Z"
   },
   {
    "duration": 31,
    "start_time": "2022-11-15T17:17:34.406Z"
   },
   {
    "duration": 8,
    "start_time": "2022-11-15T17:17:34.439Z"
   },
   {
    "duration": 44,
    "start_time": "2022-11-15T17:17:34.449Z"
   },
   {
    "duration": 37,
    "start_time": "2022-11-15T17:17:34.495Z"
   },
   {
    "duration": 59,
    "start_time": "2022-11-15T17:17:34.533Z"
   },
   {
    "duration": 15,
    "start_time": "2022-11-15T17:17:34.594Z"
   },
   {
    "duration": 21,
    "start_time": "2022-11-15T17:17:34.611Z"
   },
   {
    "duration": 32,
    "start_time": "2022-11-15T17:17:34.634Z"
   },
   {
    "duration": 43,
    "start_time": "2022-11-15T17:17:34.668Z"
   },
   {
    "duration": 27,
    "start_time": "2022-11-15T17:17:34.712Z"
   },
   {
    "duration": 24,
    "start_time": "2022-11-15T17:17:34.740Z"
   },
   {
    "duration": 285,
    "start_time": "2022-11-15T17:17:34.766Z"
   },
   {
    "duration": 224,
    "start_time": "2022-11-15T17:17:35.053Z"
   },
   {
    "duration": 7,
    "start_time": "2022-11-15T17:17:35.279Z"
   },
   {
    "duration": 341,
    "start_time": "2022-11-15T17:17:35.287Z"
   },
   {
    "duration": 38,
    "start_time": "2022-11-15T17:17:35.630Z"
   },
   {
    "duration": 30,
    "start_time": "2022-11-15T17:17:35.669Z"
   },
   {
    "duration": 76,
    "start_time": "2022-11-15T17:17:35.703Z"
   },
   {
    "duration": 14,
    "start_time": "2022-11-15T17:17:35.781Z"
   },
   {
    "duration": 200,
    "start_time": "2022-11-15T17:17:35.797Z"
   },
   {
    "duration": 10,
    "start_time": "2022-11-15T17:17:35.999Z"
   },
   {
    "duration": 17,
    "start_time": "2022-11-15T17:17:36.011Z"
   },
   {
    "duration": 21,
    "start_time": "2022-11-15T17:17:36.030Z"
   },
   {
    "duration": 24,
    "start_time": "2022-11-15T17:17:36.053Z"
   },
   {
    "duration": 15,
    "start_time": "2022-11-15T17:17:36.078Z"
   },
   {
    "duration": 16,
    "start_time": "2022-11-15T17:17:36.095Z"
   },
   {
    "duration": 15,
    "start_time": "2022-11-15T17:17:36.113Z"
   },
   {
    "duration": 13,
    "start_time": "2022-11-15T17:17:36.130Z"
   },
   {
    "duration": 9,
    "start_time": "2022-11-15T17:17:36.144Z"
   },
   {
    "duration": 10,
    "start_time": "2022-11-15T17:17:36.154Z"
   },
   {
    "duration": 6,
    "start_time": "2022-11-15T17:17:36.165Z"
   },
   {
    "duration": 5,
    "start_time": "2022-11-15T17:17:36.173Z"
   },
   {
    "duration": 7,
    "start_time": "2022-11-15T17:17:36.179Z"
   },
   {
    "duration": 9,
    "start_time": "2022-11-15T17:17:36.187Z"
   },
   {
    "duration": 394,
    "start_time": "2022-11-15T17:17:36.198Z"
   },
   {
    "duration": 3,
    "start_time": "2022-11-15T17:17:36.593Z"
   },
   {
    "duration": 16,
    "start_time": "2022-11-15T17:17:36.598Z"
   },
   {
    "duration": 70,
    "start_time": "2022-11-15T17:43:54.761Z"
   },
   {
    "duration": 96,
    "start_time": "2022-11-15T17:50:23.525Z"
   },
   {
    "duration": 9,
    "start_time": "2022-11-15T17:50:29.500Z"
   },
   {
    "duration": 8,
    "start_time": "2022-11-15T17:50:43.173Z"
   },
   {
    "duration": 9,
    "start_time": "2022-11-15T17:51:18.089Z"
   },
   {
    "duration": 9,
    "start_time": "2022-11-15T17:51:46.334Z"
   },
   {
    "duration": 10,
    "start_time": "2022-11-15T17:52:43.090Z"
   },
   {
    "duration": 4,
    "start_time": "2022-11-15T17:52:52.721Z"
   },
   {
    "duration": 4,
    "start_time": "2022-11-15T17:53:40.151Z"
   },
   {
    "duration": 100,
    "start_time": "2022-11-15T18:36:00.882Z"
   },
   {
    "duration": 9,
    "start_time": "2022-11-15T18:38:04.412Z"
   },
   {
    "duration": 10,
    "start_time": "2022-11-15T18:38:25.445Z"
   },
   {
    "duration": 9,
    "start_time": "2022-11-15T18:39:29.816Z"
   },
   {
    "duration": 9,
    "start_time": "2022-11-15T18:40:38.539Z"
   },
   {
    "duration": 10,
    "start_time": "2022-11-15T18:43:36.364Z"
   },
   {
    "duration": 11,
    "start_time": "2022-11-15T18:45:26.043Z"
   },
   {
    "duration": 9,
    "start_time": "2022-11-15T18:45:41.002Z"
   },
   {
    "duration": 9,
    "start_time": "2022-11-15T18:46:32.466Z"
   },
   {
    "duration": 9,
    "start_time": "2022-11-15T18:46:38.612Z"
   },
   {
    "duration": 11,
    "start_time": "2022-11-15T18:46:44.283Z"
   },
   {
    "duration": 12,
    "start_time": "2022-11-15T18:46:52.336Z"
   },
   {
    "duration": 11,
    "start_time": "2022-11-15T18:47:23.646Z"
   },
   {
    "duration": 11,
    "start_time": "2022-11-15T18:47:57.261Z"
   },
   {
    "duration": 14,
    "start_time": "2022-11-15T18:48:02.524Z"
   },
   {
    "duration": 13,
    "start_time": "2022-11-15T18:49:16.387Z"
   },
   {
    "duration": 13,
    "start_time": "2022-11-15T18:50:46.907Z"
   },
   {
    "duration": 12,
    "start_time": "2022-11-15T18:50:55.186Z"
   },
   {
    "duration": 10,
    "start_time": "2022-11-15T18:52:58.121Z"
   },
   {
    "duration": 12,
    "start_time": "2022-11-15T18:53:05.926Z"
   },
   {
    "duration": 1145,
    "start_time": "2022-11-15T18:54:50.700Z"
   },
   {
    "duration": 14,
    "start_time": "2022-11-15T18:55:09.817Z"
   },
   {
    "duration": 1115,
    "start_time": "2022-11-15T18:55:21.740Z"
   },
   {
    "duration": 1079,
    "start_time": "2022-11-15T18:55:33.014Z"
   },
   {
    "duration": 16,
    "start_time": "2022-11-15T18:55:40.160Z"
   },
   {
    "duration": 12,
    "start_time": "2022-11-15T18:57:33.346Z"
   },
   {
    "duration": 11,
    "start_time": "2022-11-15T18:57:41.113Z"
   },
   {
    "duration": 14,
    "start_time": "2022-11-15T18:57:58.749Z"
   },
   {
    "duration": 13,
    "start_time": "2022-11-15T18:58:06.544Z"
   },
   {
    "duration": 1136,
    "start_time": "2022-11-15T18:58:16.588Z"
   },
   {
    "duration": 14,
    "start_time": "2022-11-15T18:58:38.693Z"
   },
   {
    "duration": 6,
    "start_time": "2022-11-15T18:58:47.670Z"
   },
   {
    "duration": 6,
    "start_time": "2022-11-15T18:59:10.170Z"
   },
   {
    "duration": 5,
    "start_time": "2022-11-15T18:59:14.993Z"
   },
   {
    "duration": 5,
    "start_time": "2022-11-15T18:59:39.738Z"
   },
   {
    "duration": 5,
    "start_time": "2022-11-15T18:59:59.909Z"
   },
   {
    "duration": 5,
    "start_time": "2022-11-15T19:00:02.278Z"
   },
   {
    "duration": 4,
    "start_time": "2022-11-15T19:00:12.794Z"
   },
   {
    "duration": 5,
    "start_time": "2022-11-15T19:00:26.998Z"
   },
   {
    "duration": 6,
    "start_time": "2022-11-15T19:00:42.758Z"
   },
   {
    "duration": 11,
    "start_time": "2022-11-15T19:01:17.931Z"
   },
   {
    "duration": 5,
    "start_time": "2022-11-15T19:01:26.515Z"
   },
   {
    "duration": 12,
    "start_time": "2022-11-15T19:01:43.561Z"
   },
   {
    "duration": 11,
    "start_time": "2022-11-15T19:01:48.939Z"
   },
   {
    "duration": 11,
    "start_time": "2022-11-15T19:02:00.118Z"
   },
   {
    "duration": 18,
    "start_time": "2022-11-15T19:10:27.242Z"
   },
   {
    "duration": 10,
    "start_time": "2022-11-15T19:10:37.442Z"
   },
   {
    "duration": 18,
    "start_time": "2022-11-15T19:10:38.143Z"
   },
   {
    "duration": 1401,
    "start_time": "2022-11-15T19:11:09.892Z"
   },
   {
    "duration": 339,
    "start_time": "2022-11-15T19:11:11.295Z"
   },
   {
    "duration": 13,
    "start_time": "2022-11-15T19:11:11.636Z"
   },
   {
    "duration": 14,
    "start_time": "2022-11-15T19:11:11.652Z"
   },
   {
    "duration": 8,
    "start_time": "2022-11-15T19:11:11.679Z"
   },
   {
    "duration": 12,
    "start_time": "2022-11-15T19:11:11.689Z"
   },
   {
    "duration": 8,
    "start_time": "2022-11-15T19:11:11.703Z"
   },
   {
    "duration": 13,
    "start_time": "2022-11-15T19:11:11.713Z"
   },
   {
    "duration": 13,
    "start_time": "2022-11-15T19:11:11.728Z"
   },
   {
    "duration": 39,
    "start_time": "2022-11-15T19:11:11.744Z"
   },
   {
    "duration": 16,
    "start_time": "2022-11-15T19:11:11.784Z"
   },
   {
    "duration": 7,
    "start_time": "2022-11-15T19:11:11.801Z"
   },
   {
    "duration": 44,
    "start_time": "2022-11-15T19:11:11.810Z"
   },
   {
    "duration": 40,
    "start_time": "2022-11-15T19:11:11.878Z"
   },
   {
    "duration": 43,
    "start_time": "2022-11-15T19:11:11.919Z"
   },
   {
    "duration": 18,
    "start_time": "2022-11-15T19:11:11.978Z"
   },
   {
    "duration": 22,
    "start_time": "2022-11-15T19:11:11.998Z"
   },
   {
    "duration": 18,
    "start_time": "2022-11-15T19:11:12.021Z"
   },
   {
    "duration": 49,
    "start_time": "2022-11-15T19:11:12.042Z"
   },
   {
    "duration": 24,
    "start_time": "2022-11-15T19:11:12.092Z"
   },
   {
    "duration": 26,
    "start_time": "2022-11-15T19:11:12.118Z"
   },
   {
    "duration": 300,
    "start_time": "2022-11-15T19:11:12.146Z"
   },
   {
    "duration": 218,
    "start_time": "2022-11-15T19:11:12.447Z"
   },
   {
    "duration": 12,
    "start_time": "2022-11-15T19:11:12.667Z"
   },
   {
    "duration": 360,
    "start_time": "2022-11-15T19:11:12.680Z"
   },
   {
    "duration": 49,
    "start_time": "2022-11-15T19:11:13.041Z"
   },
   {
    "duration": 22,
    "start_time": "2022-11-15T19:11:13.092Z"
   },
   {
    "duration": 63,
    "start_time": "2022-11-15T19:11:13.117Z"
   },
   {
    "duration": 99,
    "start_time": "2022-11-15T19:11:13.181Z"
   },
   {
    "duration": 96,
    "start_time": "2022-11-15T19:11:13.282Z"
   },
   {
    "duration": 7,
    "start_time": "2022-11-15T19:11:13.380Z"
   },
   {
    "duration": 6,
    "start_time": "2022-11-15T19:11:13.389Z"
   },
   {
    "duration": 14,
    "start_time": "2022-11-15T19:11:13.396Z"
   },
   {
    "duration": 2,
    "start_time": "2022-11-15T19:11:13.412Z"
   },
   {
    "duration": 4,
    "start_time": "2022-11-15T19:11:13.416Z"
   },
   {
    "duration": 6,
    "start_time": "2022-11-15T19:11:13.422Z"
   },
   {
    "duration": 5,
    "start_time": "2022-11-15T19:11:13.429Z"
   },
   {
    "duration": 7,
    "start_time": "2022-11-15T19:11:13.436Z"
   },
   {
    "duration": 2,
    "start_time": "2022-11-15T19:11:13.479Z"
   },
   {
    "duration": 6,
    "start_time": "2022-11-15T19:11:13.483Z"
   },
   {
    "duration": 5,
    "start_time": "2022-11-15T19:11:13.491Z"
   },
   {
    "duration": 7,
    "start_time": "2022-11-15T19:11:13.497Z"
   },
   {
    "duration": 6,
    "start_time": "2022-11-15T19:11:13.506Z"
   },
   {
    "duration": 19,
    "start_time": "2022-11-15T19:11:13.513Z"
   },
   {
    "duration": 4,
    "start_time": "2022-11-15T19:11:13.534Z"
   },
   {
    "duration": 3,
    "start_time": "2022-11-15T19:11:13.579Z"
   },
   {
    "duration": 449,
    "start_time": "2022-11-15T19:11:13.585Z"
   },
   {
    "duration": 4,
    "start_time": "2022-11-15T19:11:14.036Z"
   },
   {
    "duration": 14,
    "start_time": "2022-11-15T19:11:14.044Z"
   },
   {
    "duration": 83,
    "start_time": "2022-11-15T19:11:51.392Z"
   },
   {
    "duration": 11,
    "start_time": "2022-11-15T19:11:59.523Z"
   },
   {
    "duration": 12,
    "start_time": "2022-11-15T19:13:50.148Z"
   },
   {
    "duration": 71,
    "start_time": "2022-11-15T19:20:19.520Z"
   },
   {
    "duration": 4,
    "start_time": "2022-11-15T19:24:02.304Z"
   },
   {
    "duration": 97,
    "start_time": "2022-11-15T19:26:55.713Z"
   },
   {
    "duration": 1287,
    "start_time": "2022-11-15T19:27:19.537Z"
   },
   {
    "duration": 342,
    "start_time": "2022-11-15T19:27:20.825Z"
   },
   {
    "duration": 13,
    "start_time": "2022-11-15T19:27:21.169Z"
   },
   {
    "duration": 35,
    "start_time": "2022-11-15T19:27:21.184Z"
   },
   {
    "duration": 28,
    "start_time": "2022-11-15T19:27:21.221Z"
   },
   {
    "duration": 42,
    "start_time": "2022-11-15T19:27:21.251Z"
   },
   {
    "duration": 37,
    "start_time": "2022-11-15T19:27:21.295Z"
   },
   {
    "duration": 32,
    "start_time": "2022-11-15T19:27:21.334Z"
   },
   {
    "duration": 10,
    "start_time": "2022-11-15T19:27:21.367Z"
   },
   {
    "duration": 33,
    "start_time": "2022-11-15T19:27:21.381Z"
   },
   {
    "duration": 39,
    "start_time": "2022-11-15T19:27:21.415Z"
   },
   {
    "duration": 8,
    "start_time": "2022-11-15T19:27:21.456Z"
   },
   {
    "duration": 54,
    "start_time": "2022-11-15T19:27:21.465Z"
   },
   {
    "duration": 42,
    "start_time": "2022-11-15T19:27:21.521Z"
   },
   {
    "duration": 59,
    "start_time": "2022-11-15T19:27:21.565Z"
   },
   {
    "duration": 16,
    "start_time": "2022-11-15T19:27:21.626Z"
   },
   {
    "duration": 48,
    "start_time": "2022-11-15T19:27:21.644Z"
   },
   {
    "duration": 44,
    "start_time": "2022-11-15T19:27:21.693Z"
   },
   {
    "duration": 59,
    "start_time": "2022-11-15T19:27:21.739Z"
   },
   {
    "duration": 34,
    "start_time": "2022-11-15T19:27:21.800Z"
   },
   {
    "duration": 43,
    "start_time": "2022-11-15T19:27:21.836Z"
   },
   {
    "duration": 306,
    "start_time": "2022-11-15T19:27:21.880Z"
   },
   {
    "duration": 230,
    "start_time": "2022-11-15T19:27:22.187Z"
   },
   {
    "duration": 5,
    "start_time": "2022-11-15T19:27:22.419Z"
   },
   {
    "duration": 343,
    "start_time": "2022-11-15T19:27:22.426Z"
   },
   {
    "duration": 39,
    "start_time": "2022-11-15T19:27:22.771Z"
   },
   {
    "duration": 21,
    "start_time": "2022-11-15T19:27:22.812Z"
   },
   {
    "duration": 68,
    "start_time": "2022-11-15T19:27:22.836Z"
   },
   {
    "duration": 74,
    "start_time": "2022-11-15T19:27:22.905Z"
   },
   {
    "duration": 102,
    "start_time": "2022-11-15T19:27:22.981Z"
   },
   {
    "duration": 6,
    "start_time": "2022-11-15T19:27:23.085Z"
   },
   {
    "duration": 5,
    "start_time": "2022-11-15T19:27:23.092Z"
   },
   {
    "duration": 12,
    "start_time": "2022-11-15T19:27:23.098Z"
   },
   {
    "duration": 3,
    "start_time": "2022-11-15T19:27:23.111Z"
   },
   {
    "duration": 6,
    "start_time": "2022-11-15T19:27:23.115Z"
   },
   {
    "duration": 5,
    "start_time": "2022-11-15T19:27:23.122Z"
   },
   {
    "duration": 5,
    "start_time": "2022-11-15T19:27:23.128Z"
   },
   {
    "duration": 5,
    "start_time": "2022-11-15T19:27:23.134Z"
   },
   {
    "duration": 9,
    "start_time": "2022-11-15T19:27:23.140Z"
   },
   {
    "duration": 27,
    "start_time": "2022-11-15T19:27:23.151Z"
   },
   {
    "duration": 3,
    "start_time": "2022-11-15T19:27:23.180Z"
   },
   {
    "duration": 6,
    "start_time": "2022-11-15T19:27:23.184Z"
   },
   {
    "duration": 7,
    "start_time": "2022-11-15T19:27:23.192Z"
   },
   {
    "duration": 16,
    "start_time": "2022-11-15T19:27:23.201Z"
   },
   {
    "duration": 4,
    "start_time": "2022-11-15T19:27:23.218Z"
   },
   {
    "duration": 5,
    "start_time": "2022-11-15T19:27:23.223Z"
   },
   {
    "duration": 420,
    "start_time": "2022-11-15T19:27:23.229Z"
   },
   {
    "duration": 3,
    "start_time": "2022-11-15T19:27:23.651Z"
   },
   {
    "duration": 112,
    "start_time": "2022-11-15T19:27:23.656Z"
   },
   {
    "duration": 1367,
    "start_time": "2022-11-15T19:28:31.555Z"
   },
   {
    "duration": 375,
    "start_time": "2022-11-15T19:28:32.924Z"
   },
   {
    "duration": 13,
    "start_time": "2022-11-15T19:28:33.301Z"
   },
   {
    "duration": 14,
    "start_time": "2022-11-15T19:28:33.316Z"
   },
   {
    "duration": 7,
    "start_time": "2022-11-15T19:28:33.332Z"
   },
   {
    "duration": 9,
    "start_time": "2022-11-15T19:28:33.341Z"
   },
   {
    "duration": 31,
    "start_time": "2022-11-15T19:28:33.352Z"
   },
   {
    "duration": 13,
    "start_time": "2022-11-15T19:28:33.384Z"
   },
   {
    "duration": 7,
    "start_time": "2022-11-15T19:28:33.399Z"
   },
   {
    "duration": 14,
    "start_time": "2022-11-15T19:28:33.409Z"
   },
   {
    "duration": 16,
    "start_time": "2022-11-15T19:28:33.424Z"
   },
   {
    "duration": 7,
    "start_time": "2022-11-15T19:28:33.442Z"
   },
   {
    "duration": 72,
    "start_time": "2022-11-15T19:28:33.450Z"
   },
   {
    "duration": 60,
    "start_time": "2022-11-15T19:28:33.524Z"
   },
   {
    "duration": 43,
    "start_time": "2022-11-15T19:28:33.585Z"
   },
   {
    "duration": 16,
    "start_time": "2022-11-15T19:28:33.629Z"
   },
   {
    "duration": 37,
    "start_time": "2022-11-15T19:28:33.647Z"
   },
   {
    "duration": 21,
    "start_time": "2022-11-15T19:28:33.685Z"
   },
   {
    "duration": 32,
    "start_time": "2022-11-15T19:28:33.708Z"
   },
   {
    "duration": 42,
    "start_time": "2022-11-15T19:28:33.742Z"
   },
   {
    "duration": 28,
    "start_time": "2022-11-15T19:28:33.786Z"
   },
   {
    "duration": 349,
    "start_time": "2022-11-15T19:28:33.816Z"
   },
   {
    "duration": 206,
    "start_time": "2022-11-15T19:28:34.167Z"
   },
   {
    "duration": 5,
    "start_time": "2022-11-15T19:28:34.375Z"
   },
   {
    "duration": 333,
    "start_time": "2022-11-15T19:28:34.382Z"
   },
   {
    "duration": 36,
    "start_time": "2022-11-15T19:28:34.716Z"
   },
   {
    "duration": 32,
    "start_time": "2022-11-15T19:28:34.753Z"
   },
   {
    "duration": 44,
    "start_time": "2022-11-15T19:28:34.788Z"
   },
   {
    "duration": 148,
    "start_time": "2022-11-15T19:28:34.833Z"
   },
   {
    "duration": 106,
    "start_time": "2022-11-15T19:28:34.983Z"
   },
   {
    "duration": 6,
    "start_time": "2022-11-15T19:28:35.091Z"
   },
   {
    "duration": 6,
    "start_time": "2022-11-15T19:28:35.099Z"
   },
   {
    "duration": 15,
    "start_time": "2022-11-15T19:28:35.107Z"
   },
   {
    "duration": 4,
    "start_time": "2022-11-15T19:28:35.123Z"
   },
   {
    "duration": 4,
    "start_time": "2022-11-15T19:28:35.129Z"
   },
   {
    "duration": 7,
    "start_time": "2022-11-15T19:28:35.135Z"
   },
   {
    "duration": 7,
    "start_time": "2022-11-15T19:28:35.143Z"
   },
   {
    "duration": 26,
    "start_time": "2022-11-15T19:28:35.152Z"
   },
   {
    "duration": 2,
    "start_time": "2022-11-15T19:28:35.180Z"
   },
   {
    "duration": 9,
    "start_time": "2022-11-15T19:28:35.184Z"
   },
   {
    "duration": 5,
    "start_time": "2022-11-15T19:28:35.195Z"
   },
   {
    "duration": 9,
    "start_time": "2022-11-15T19:28:35.202Z"
   },
   {
    "duration": 8,
    "start_time": "2022-11-15T19:28:35.213Z"
   },
   {
    "duration": 18,
    "start_time": "2022-11-15T19:28:35.223Z"
   },
   {
    "duration": 3,
    "start_time": "2022-11-15T19:28:35.242Z"
   },
   {
    "duration": 7,
    "start_time": "2022-11-15T19:28:35.247Z"
   },
   {
    "duration": 430,
    "start_time": "2022-11-15T19:28:35.255Z"
   },
   {
    "duration": 3,
    "start_time": "2022-11-15T19:28:35.687Z"
   },
   {
    "duration": 128,
    "start_time": "2022-11-15T19:28:35.692Z"
   },
   {
    "duration": 4,
    "start_time": "2022-11-15T19:29:55.076Z"
   },
   {
    "duration": 374,
    "start_time": "2022-11-15T19:29:55.083Z"
   },
   {
    "duration": 21,
    "start_time": "2022-11-15T19:29:55.459Z"
   },
   {
    "duration": 16,
    "start_time": "2022-11-15T19:29:55.482Z"
   },
   {
    "duration": 8,
    "start_time": "2022-11-15T19:29:55.500Z"
   },
   {
    "duration": 15,
    "start_time": "2022-11-15T19:29:55.510Z"
   },
   {
    "duration": 18,
    "start_time": "2022-11-15T19:29:55.526Z"
   },
   {
    "duration": 35,
    "start_time": "2022-11-15T19:29:55.545Z"
   },
   {
    "duration": 8,
    "start_time": "2022-11-15T19:29:55.581Z"
   },
   {
    "duration": 18,
    "start_time": "2022-11-15T19:29:55.591Z"
   },
   {
    "duration": 17,
    "start_time": "2022-11-15T19:29:55.612Z"
   },
   {
    "duration": 7,
    "start_time": "2022-11-15T19:29:55.631Z"
   },
   {
    "duration": 66,
    "start_time": "2022-11-15T19:29:55.640Z"
   },
   {
    "duration": 52,
    "start_time": "2022-11-15T19:29:55.707Z"
   },
   {
    "duration": 67,
    "start_time": "2022-11-15T19:29:55.761Z"
   },
   {
    "duration": 16,
    "start_time": "2022-11-15T19:29:55.830Z"
   },
   {
    "duration": 33,
    "start_time": "2022-11-15T19:29:55.848Z"
   },
   {
    "duration": 25,
    "start_time": "2022-11-15T19:29:55.882Z"
   },
   {
    "duration": 42,
    "start_time": "2022-11-15T19:29:55.909Z"
   },
   {
    "duration": 41,
    "start_time": "2022-11-15T19:29:55.952Z"
   },
   {
    "duration": 34,
    "start_time": "2022-11-15T19:29:55.994Z"
   },
   {
    "duration": 290,
    "start_time": "2022-11-15T19:29:56.030Z"
   },
   {
    "duration": 205,
    "start_time": "2022-11-15T19:29:56.322Z"
   },
   {
    "duration": 6,
    "start_time": "2022-11-15T19:29:56.528Z"
   },
   {
    "duration": 270,
    "start_time": "2022-11-15T19:29:56.535Z"
   },
   {
    "duration": 34,
    "start_time": "2022-11-15T19:29:56.807Z"
   },
   {
    "duration": 43,
    "start_time": "2022-11-15T19:29:56.842Z"
   },
   {
    "duration": 38,
    "start_time": "2022-11-15T19:29:56.887Z"
   },
   {
    "duration": 58,
    "start_time": "2022-11-15T19:29:56.928Z"
   },
   {
    "duration": 97,
    "start_time": "2022-11-15T19:29:56.988Z"
   },
   {
    "duration": 94,
    "start_time": "2022-11-15T19:29:57.087Z"
   },
   {
    "duration": 7,
    "start_time": "2022-11-15T19:29:57.183Z"
   },
   {
    "duration": 16,
    "start_time": "2022-11-15T19:29:57.192Z"
   },
   {
    "duration": 5,
    "start_time": "2022-11-15T19:29:57.210Z"
   },
   {
    "duration": 7,
    "start_time": "2022-11-15T19:29:57.216Z"
   },
   {
    "duration": 7,
    "start_time": "2022-11-15T19:29:57.225Z"
   },
   {
    "duration": 4,
    "start_time": "2022-11-15T19:29:57.234Z"
   },
   {
    "duration": 9,
    "start_time": "2022-11-15T19:29:57.240Z"
   },
   {
    "duration": 9,
    "start_time": "2022-11-15T19:29:57.250Z"
   },
   {
    "duration": 18,
    "start_time": "2022-11-15T19:29:57.260Z"
   },
   {
    "duration": 10,
    "start_time": "2022-11-15T19:29:57.280Z"
   },
   {
    "duration": 10,
    "start_time": "2022-11-15T19:29:57.292Z"
   },
   {
    "duration": 6,
    "start_time": "2022-11-15T19:29:57.304Z"
   },
   {
    "duration": 21,
    "start_time": "2022-11-15T19:29:57.312Z"
   },
   {
    "duration": 4,
    "start_time": "2022-11-15T19:29:57.335Z"
   },
   {
    "duration": 9,
    "start_time": "2022-11-15T19:29:57.340Z"
   },
   {
    "duration": 440,
    "start_time": "2022-11-15T19:29:57.350Z"
   },
   {
    "duration": 4,
    "start_time": "2022-11-15T19:29:57.791Z"
   },
   {
    "duration": 13,
    "start_time": "2022-11-15T19:29:57.796Z"
   },
   {
    "duration": 4,
    "start_time": "2022-11-15T19:30:26.234Z"
   },
   {
    "duration": 360,
    "start_time": "2022-11-15T19:30:26.242Z"
   },
   {
    "duration": 10,
    "start_time": "2022-11-15T19:30:26.604Z"
   },
   {
    "duration": 29,
    "start_time": "2022-11-15T19:30:26.615Z"
   },
   {
    "duration": 8,
    "start_time": "2022-11-15T19:30:26.647Z"
   },
   {
    "duration": 10,
    "start_time": "2022-11-15T19:30:26.656Z"
   },
   {
    "duration": 15,
    "start_time": "2022-11-15T19:30:26.668Z"
   },
   {
    "duration": 13,
    "start_time": "2022-11-15T19:30:26.685Z"
   },
   {
    "duration": 8,
    "start_time": "2022-11-15T19:30:26.699Z"
   },
   {
    "duration": 10,
    "start_time": "2022-11-15T19:30:26.708Z"
   },
   {
    "duration": 16,
    "start_time": "2022-11-15T19:30:26.720Z"
   },
   {
    "duration": 41,
    "start_time": "2022-11-15T19:30:26.737Z"
   },
   {
    "duration": 41,
    "start_time": "2022-11-15T19:30:26.780Z"
   },
   {
    "duration": 38,
    "start_time": "2022-11-15T19:30:26.823Z"
   },
   {
    "duration": 50,
    "start_time": "2022-11-15T19:30:26.862Z"
   },
   {
    "duration": 15,
    "start_time": "2022-11-15T19:30:26.914Z"
   },
   {
    "duration": 19,
    "start_time": "2022-11-15T19:30:26.931Z"
   },
   {
    "duration": 48,
    "start_time": "2022-11-15T19:30:26.952Z"
   },
   {
    "duration": 32,
    "start_time": "2022-11-15T19:30:27.002Z"
   },
   {
    "duration": 26,
    "start_time": "2022-11-15T19:30:27.036Z"
   },
   {
    "duration": 33,
    "start_time": "2022-11-15T19:30:27.063Z"
   },
   {
    "duration": 278,
    "start_time": "2022-11-15T19:30:27.097Z"
   },
   {
    "duration": 210,
    "start_time": "2022-11-15T19:30:27.378Z"
   },
   {
    "duration": 6,
    "start_time": "2022-11-15T19:30:27.589Z"
   },
   {
    "duration": 374,
    "start_time": "2022-11-15T19:30:27.596Z"
   },
   {
    "duration": 37,
    "start_time": "2022-11-15T19:30:27.972Z"
   },
   {
    "duration": 21,
    "start_time": "2022-11-15T19:30:28.011Z"
   },
   {
    "duration": 58,
    "start_time": "2022-11-15T19:30:28.034Z"
   },
   {
    "duration": 83,
    "start_time": "2022-11-15T19:30:28.096Z"
   },
   {
    "duration": 100,
    "start_time": "2022-11-15T19:30:28.182Z"
   },
   {
    "duration": 5,
    "start_time": "2022-11-15T19:30:28.284Z"
   },
   {
    "duration": 16,
    "start_time": "2022-11-15T19:30:28.291Z"
   },
   {
    "duration": 10,
    "start_time": "2022-11-15T19:30:28.309Z"
   },
   {
    "duration": 3,
    "start_time": "2022-11-15T19:30:28.320Z"
   },
   {
    "duration": 8,
    "start_time": "2022-11-15T19:30:28.324Z"
   },
   {
    "duration": 5,
    "start_time": "2022-11-15T19:30:28.333Z"
   },
   {
    "duration": 5,
    "start_time": "2022-11-15T19:30:28.339Z"
   },
   {
    "duration": 5,
    "start_time": "2022-11-15T19:30:28.345Z"
   },
   {
    "duration": 26,
    "start_time": "2022-11-15T19:30:28.352Z"
   },
   {
    "duration": 2,
    "start_time": "2022-11-15T19:30:28.380Z"
   },
   {
    "duration": 10,
    "start_time": "2022-11-15T19:30:28.383Z"
   },
   {
    "duration": 17,
    "start_time": "2022-11-15T19:30:28.394Z"
   },
   {
    "duration": 11,
    "start_time": "2022-11-15T19:30:28.413Z"
   },
   {
    "duration": 8,
    "start_time": "2022-11-15T19:30:28.425Z"
   },
   {
    "duration": 4,
    "start_time": "2022-11-15T19:30:28.435Z"
   },
   {
    "duration": 5,
    "start_time": "2022-11-15T19:30:28.441Z"
   },
   {
    "duration": 381,
    "start_time": "2022-11-15T19:30:28.447Z"
   },
   {
    "duration": 5,
    "start_time": "2022-11-15T19:30:28.830Z"
   },
   {
    "duration": 14,
    "start_time": "2022-11-15T19:30:28.836Z"
   },
   {
    "duration": 439,
    "start_time": "2022-11-15T19:32:17.121Z"
   },
   {
    "duration": 1356,
    "start_time": "2022-11-15T19:33:25.936Z"
   },
   {
    "duration": 336,
    "start_time": "2022-11-15T19:33:27.294Z"
   },
   {
    "duration": 15,
    "start_time": "2022-11-15T19:33:27.631Z"
   },
   {
    "duration": 14,
    "start_time": "2022-11-15T19:33:27.648Z"
   },
   {
    "duration": 8,
    "start_time": "2022-11-15T19:33:27.678Z"
   },
   {
    "duration": 11,
    "start_time": "2022-11-15T19:33:27.688Z"
   },
   {
    "duration": 8,
    "start_time": "2022-11-15T19:33:27.701Z"
   },
   {
    "duration": 14,
    "start_time": "2022-11-15T19:33:27.710Z"
   },
   {
    "duration": 8,
    "start_time": "2022-11-15T19:33:27.725Z"
   },
   {
    "duration": 44,
    "start_time": "2022-11-15T19:33:27.735Z"
   },
   {
    "duration": 14,
    "start_time": "2022-11-15T19:33:27.781Z"
   },
   {
    "duration": 8,
    "start_time": "2022-11-15T19:33:27.796Z"
   },
   {
    "duration": 43,
    "start_time": "2022-11-15T19:33:27.805Z"
   },
   {
    "duration": 65,
    "start_time": "2022-11-15T19:33:27.849Z"
   },
   {
    "duration": 44,
    "start_time": "2022-11-15T19:33:27.915Z"
   },
   {
    "duration": 35,
    "start_time": "2022-11-15T19:33:27.961Z"
   },
   {
    "duration": 25,
    "start_time": "2022-11-15T19:33:27.997Z"
   },
   {
    "duration": 21,
    "start_time": "2022-11-15T19:33:28.024Z"
   },
   {
    "duration": 39,
    "start_time": "2022-11-15T19:33:28.047Z"
   },
   {
    "duration": 27,
    "start_time": "2022-11-15T19:33:28.088Z"
   },
   {
    "duration": 26,
    "start_time": "2022-11-15T19:33:28.116Z"
   },
   {
    "duration": 300,
    "start_time": "2022-11-15T19:33:28.143Z"
   },
   {
    "duration": 235,
    "start_time": "2022-11-15T19:33:28.444Z"
   },
   {
    "duration": 6,
    "start_time": "2022-11-15T19:33:28.681Z"
   },
   {
    "duration": 388,
    "start_time": "2022-11-15T19:33:28.688Z"
   },
   {
    "duration": 36,
    "start_time": "2022-11-15T19:33:29.078Z"
   },
   {
    "duration": 19,
    "start_time": "2022-11-15T19:33:29.116Z"
   },
   {
    "duration": 78,
    "start_time": "2022-11-15T19:33:29.139Z"
   },
   {
    "duration": 65,
    "start_time": "2022-11-15T19:33:29.218Z"
   },
   {
    "duration": 94,
    "start_time": "2022-11-15T19:33:29.284Z"
   },
   {
    "duration": 8,
    "start_time": "2022-11-15T19:33:29.379Z"
   },
   {
    "duration": 8,
    "start_time": "2022-11-15T19:33:29.389Z"
   },
   {
    "duration": 12,
    "start_time": "2022-11-15T19:33:29.399Z"
   },
   {
    "duration": 2,
    "start_time": "2022-11-15T19:33:29.414Z"
   },
   {
    "duration": 20,
    "start_time": "2022-11-15T19:33:29.418Z"
   },
   {
    "duration": 8,
    "start_time": "2022-11-15T19:33:29.440Z"
   },
   {
    "duration": 9,
    "start_time": "2022-11-15T19:33:29.450Z"
   },
   {
    "duration": 8,
    "start_time": "2022-11-15T19:33:29.460Z"
   },
   {
    "duration": 3,
    "start_time": "2022-11-15T19:33:29.478Z"
   },
   {
    "duration": 8,
    "start_time": "2022-11-15T19:33:29.483Z"
   },
   {
    "duration": 8,
    "start_time": "2022-11-15T19:33:29.493Z"
   },
   {
    "duration": 8,
    "start_time": "2022-11-15T19:33:29.503Z"
   },
   {
    "duration": 7,
    "start_time": "2022-11-15T19:33:29.512Z"
   },
   {
    "duration": 10,
    "start_time": "2022-11-15T19:33:29.521Z"
   },
   {
    "duration": 7,
    "start_time": "2022-11-15T19:33:29.533Z"
   },
   {
    "duration": 18,
    "start_time": "2022-11-15T19:33:29.542Z"
   },
   {
    "duration": 433,
    "start_time": "2022-11-15T19:33:29.562Z"
   },
   {
    "duration": 2,
    "start_time": "2022-11-15T19:33:29.997Z"
   },
   {
    "duration": 12,
    "start_time": "2022-11-15T19:33:30.001Z"
   },
   {
    "duration": 4,
    "start_time": "2022-11-15T19:35:04.115Z"
   },
   {
    "duration": 314,
    "start_time": "2022-11-15T19:35:04.131Z"
   },
   {
    "duration": 10,
    "start_time": "2022-11-15T19:35:04.447Z"
   },
   {
    "duration": 26,
    "start_time": "2022-11-15T19:35:04.458Z"
   },
   {
    "duration": 7,
    "start_time": "2022-11-15T19:35:04.486Z"
   },
   {
    "duration": 13,
    "start_time": "2022-11-15T19:35:04.495Z"
   },
   {
    "duration": 9,
    "start_time": "2022-11-15T19:35:04.510Z"
   },
   {
    "duration": 13,
    "start_time": "2022-11-15T19:35:04.520Z"
   },
   {
    "duration": 8,
    "start_time": "2022-11-15T19:35:04.535Z"
   },
   {
    "duration": 42,
    "start_time": "2022-11-15T19:35:04.545Z"
   },
   {
    "duration": 16,
    "start_time": "2022-11-15T19:35:04.589Z"
   },
   {
    "duration": 7,
    "start_time": "2022-11-15T19:35:04.607Z"
   },
   {
    "duration": 40,
    "start_time": "2022-11-15T19:35:04.616Z"
   },
   {
    "duration": 57,
    "start_time": "2022-11-15T19:35:04.658Z"
   },
   {
    "duration": 40,
    "start_time": "2022-11-15T19:35:04.716Z"
   },
   {
    "duration": 34,
    "start_time": "2022-11-15T19:35:04.757Z"
   },
   {
    "duration": 16,
    "start_time": "2022-11-15T19:35:04.793Z"
   },
   {
    "duration": 17,
    "start_time": "2022-11-15T19:35:04.810Z"
   },
   {
    "duration": 32,
    "start_time": "2022-11-15T19:35:04.828Z"
   },
   {
    "duration": 41,
    "start_time": "2022-11-15T19:35:04.862Z"
   },
   {
    "duration": 27,
    "start_time": "2022-11-15T19:35:04.904Z"
   },
   {
    "duration": 294,
    "start_time": "2022-11-15T19:35:04.933Z"
   },
   {
    "duration": 203,
    "start_time": "2022-11-15T19:35:05.228Z"
   },
   {
    "duration": 5,
    "start_time": "2022-11-15T19:35:05.433Z"
   },
   {
    "duration": 279,
    "start_time": "2022-11-15T19:35:05.440Z"
   },
   {
    "duration": 40,
    "start_time": "2022-11-15T19:35:05.721Z"
   },
   {
    "duration": 34,
    "start_time": "2022-11-15T19:35:05.763Z"
   },
   {
    "duration": 37,
    "start_time": "2022-11-15T19:35:05.798Z"
   },
   {
    "duration": 143,
    "start_time": "2022-11-15T19:35:05.838Z"
   },
   {
    "duration": 106,
    "start_time": "2022-11-15T19:35:05.982Z"
   },
   {
    "duration": 7,
    "start_time": "2022-11-15T19:35:06.090Z"
   },
   {
    "duration": 14,
    "start_time": "2022-11-15T19:35:06.099Z"
   },
   {
    "duration": 13,
    "start_time": "2022-11-15T19:35:06.115Z"
   },
   {
    "duration": 9,
    "start_time": "2022-11-15T19:35:06.130Z"
   },
   {
    "duration": 5,
    "start_time": "2022-11-15T19:35:06.141Z"
   },
   {
    "duration": 5,
    "start_time": "2022-11-15T19:35:06.147Z"
   },
   {
    "duration": 6,
    "start_time": "2022-11-15T19:35:06.154Z"
   },
   {
    "duration": 6,
    "start_time": "2022-11-15T19:35:06.161Z"
   },
   {
    "duration": 10,
    "start_time": "2022-11-15T19:35:06.168Z"
   },
   {
    "duration": 18,
    "start_time": "2022-11-15T19:35:06.179Z"
   },
   {
    "duration": 10,
    "start_time": "2022-11-15T19:35:06.198Z"
   },
   {
    "duration": 10,
    "start_time": "2022-11-15T19:35:06.210Z"
   },
   {
    "duration": 10,
    "start_time": "2022-11-15T19:35:06.222Z"
   },
   {
    "duration": 10,
    "start_time": "2022-11-15T19:35:06.234Z"
   },
   {
    "duration": 15,
    "start_time": "2022-11-15T19:35:06.245Z"
   },
   {
    "duration": 6,
    "start_time": "2022-11-15T19:35:06.262Z"
   },
   {
    "duration": 370,
    "start_time": "2022-11-15T19:35:06.269Z"
   },
   {
    "duration": 4,
    "start_time": "2022-11-15T19:35:06.640Z"
   },
   {
    "duration": 16,
    "start_time": "2022-11-15T19:35:06.646Z"
   },
   {
    "duration": 14,
    "start_time": "2022-11-15T19:35:57.643Z"
   },
   {
    "duration": 1447,
    "start_time": "2022-11-15T20:45:21.661Z"
   },
   {
    "duration": 336,
    "start_time": "2022-11-15T20:45:23.111Z"
   },
   {
    "duration": 13,
    "start_time": "2022-11-15T20:45:23.449Z"
   },
   {
    "duration": 21,
    "start_time": "2022-11-15T20:45:23.463Z"
   },
   {
    "duration": 8,
    "start_time": "2022-11-15T20:45:23.486Z"
   },
   {
    "duration": 8,
    "start_time": "2022-11-15T20:45:23.495Z"
   },
   {
    "duration": 8,
    "start_time": "2022-11-15T20:45:23.505Z"
   },
   {
    "duration": 12,
    "start_time": "2022-11-15T20:45:23.514Z"
   },
   {
    "duration": 12,
    "start_time": "2022-11-15T20:45:23.528Z"
   },
   {
    "duration": 48,
    "start_time": "2022-11-15T20:45:23.542Z"
   },
   {
    "duration": 21,
    "start_time": "2022-11-15T20:45:23.592Z"
   },
   {
    "duration": 11,
    "start_time": "2022-11-15T20:45:23.615Z"
   },
   {
    "duration": 84,
    "start_time": "2022-11-15T20:45:23.629Z"
   },
   {
    "duration": 39,
    "start_time": "2022-11-15T20:45:23.717Z"
   },
   {
    "duration": 52,
    "start_time": "2022-11-15T20:45:23.758Z"
   },
   {
    "duration": 14,
    "start_time": "2022-11-15T20:45:23.812Z"
   },
   {
    "duration": 19,
    "start_time": "2022-11-15T20:45:23.828Z"
   },
   {
    "duration": 38,
    "start_time": "2022-11-15T20:45:23.848Z"
   },
   {
    "duration": 52,
    "start_time": "2022-11-15T20:45:23.889Z"
   },
   {
    "duration": 34,
    "start_time": "2022-11-15T20:45:23.943Z"
   },
   {
    "duration": 38,
    "start_time": "2022-11-15T20:45:23.979Z"
   },
   {
    "duration": 290,
    "start_time": "2022-11-15T20:45:24.021Z"
   },
   {
    "duration": 220,
    "start_time": "2022-11-15T20:45:24.312Z"
   },
   {
    "duration": 8,
    "start_time": "2022-11-15T20:45:24.534Z"
   },
   {
    "duration": 383,
    "start_time": "2022-11-15T20:45:24.544Z"
   },
   {
    "duration": 52,
    "start_time": "2022-11-15T20:45:24.929Z"
   },
   {
    "duration": 20,
    "start_time": "2022-11-15T20:45:24.983Z"
   },
   {
    "duration": 46,
    "start_time": "2022-11-15T20:45:25.004Z"
   },
   {
    "duration": 42,
    "start_time": "2022-11-15T20:45:25.052Z"
   },
   {
    "duration": 182,
    "start_time": "2022-11-15T20:45:25.096Z"
   },
   {
    "duration": 7,
    "start_time": "2022-11-15T20:45:25.280Z"
   },
   {
    "duration": 6,
    "start_time": "2022-11-15T20:45:25.289Z"
   },
   {
    "duration": 13,
    "start_time": "2022-11-15T20:45:25.297Z"
   },
   {
    "duration": 3,
    "start_time": "2022-11-15T20:45:25.312Z"
   },
   {
    "duration": 4,
    "start_time": "2022-11-15T20:45:25.317Z"
   },
   {
    "duration": 5,
    "start_time": "2022-11-15T20:45:25.324Z"
   },
   {
    "duration": 6,
    "start_time": "2022-11-15T20:45:25.331Z"
   },
   {
    "duration": 5,
    "start_time": "2022-11-15T20:45:25.338Z"
   },
   {
    "duration": 9,
    "start_time": "2022-11-15T20:45:25.344Z"
   },
   {
    "duration": 23,
    "start_time": "2022-11-15T20:45:25.355Z"
   },
   {
    "duration": 3,
    "start_time": "2022-11-15T20:45:25.381Z"
   },
   {
    "duration": 6,
    "start_time": "2022-11-15T20:45:25.385Z"
   },
   {
    "duration": 8,
    "start_time": "2022-11-15T20:45:25.392Z"
   },
   {
    "duration": 15,
    "start_time": "2022-11-15T20:45:25.401Z"
   },
   {
    "duration": 3,
    "start_time": "2022-11-15T20:45:25.417Z"
   },
   {
    "duration": 7,
    "start_time": "2022-11-15T20:45:25.422Z"
   },
   {
    "duration": 462,
    "start_time": "2022-11-15T20:45:25.431Z"
   },
   {
    "duration": 3,
    "start_time": "2022-11-15T20:45:25.894Z"
   },
   {
    "duration": 7,
    "start_time": "2022-11-15T20:45:25.899Z"
   },
   {
    "duration": 1395,
    "start_time": "2022-11-15T20:47:30.108Z"
   },
   {
    "duration": 358,
    "start_time": "2022-11-15T20:47:31.505Z"
   },
   {
    "duration": 20,
    "start_time": "2022-11-15T20:47:31.865Z"
   },
   {
    "duration": 21,
    "start_time": "2022-11-15T20:47:31.886Z"
   },
   {
    "duration": 8,
    "start_time": "2022-11-15T20:47:31.909Z"
   },
   {
    "duration": 11,
    "start_time": "2022-11-15T20:47:31.919Z"
   },
   {
    "duration": 12,
    "start_time": "2022-11-15T20:47:31.931Z"
   },
   {
    "duration": 14,
    "start_time": "2022-11-15T20:47:31.945Z"
   },
   {
    "duration": 24,
    "start_time": "2022-11-15T20:47:31.961Z"
   },
   {
    "duration": 11,
    "start_time": "2022-11-15T20:47:31.987Z"
   },
   {
    "duration": 17,
    "start_time": "2022-11-15T20:47:32.000Z"
   },
   {
    "duration": 10,
    "start_time": "2022-11-15T20:47:32.019Z"
   },
   {
    "duration": 83,
    "start_time": "2022-11-15T20:47:32.030Z"
   },
   {
    "duration": 44,
    "start_time": "2022-11-15T20:47:32.117Z"
   },
   {
    "duration": 59,
    "start_time": "2022-11-15T20:47:32.163Z"
   },
   {
    "duration": 16,
    "start_time": "2022-11-15T20:47:32.224Z"
   },
   {
    "duration": 37,
    "start_time": "2022-11-15T20:47:32.242Z"
   },
   {
    "duration": 17,
    "start_time": "2022-11-15T20:47:32.281Z"
   },
   {
    "duration": 33,
    "start_time": "2022-11-15T20:47:32.300Z"
   },
   {
    "duration": 44,
    "start_time": "2022-11-15T20:47:32.335Z"
   },
   {
    "duration": 31,
    "start_time": "2022-11-15T20:47:32.381Z"
   },
   {
    "duration": 336,
    "start_time": "2022-11-15T20:47:32.414Z"
   },
   {
    "duration": 245,
    "start_time": "2022-11-15T20:47:32.751Z"
   },
   {
    "duration": 6,
    "start_time": "2022-11-15T20:47:32.997Z"
   },
   {
    "duration": 400,
    "start_time": "2022-11-15T20:47:33.005Z"
   },
   {
    "duration": 38,
    "start_time": "2022-11-15T20:47:33.406Z"
   },
   {
    "duration": 40,
    "start_time": "2022-11-15T20:47:33.446Z"
   },
   {
    "duration": 45,
    "start_time": "2022-11-15T20:47:33.488Z"
   },
   {
    "duration": 50,
    "start_time": "2022-11-15T20:47:33.535Z"
   },
   {
    "duration": 197,
    "start_time": "2022-11-15T20:47:33.586Z"
   },
   {
    "duration": 7,
    "start_time": "2022-11-15T20:47:33.785Z"
   },
   {
    "duration": 4,
    "start_time": "2022-11-15T20:47:33.793Z"
   },
   {
    "duration": 13,
    "start_time": "2022-11-15T20:47:33.799Z"
   },
   {
    "duration": 4,
    "start_time": "2022-11-15T20:47:33.814Z"
   },
   {
    "duration": 6,
    "start_time": "2022-11-15T20:47:33.820Z"
   },
   {
    "duration": 7,
    "start_time": "2022-11-15T20:47:33.827Z"
   },
   {
    "duration": 4,
    "start_time": "2022-11-15T20:47:33.836Z"
   },
   {
    "duration": 6,
    "start_time": "2022-11-15T20:47:33.842Z"
   },
   {
    "duration": 2,
    "start_time": "2022-11-15T20:47:33.878Z"
   },
   {
    "duration": 7,
    "start_time": "2022-11-15T20:47:33.882Z"
   },
   {
    "duration": 17,
    "start_time": "2022-11-15T20:47:33.894Z"
   },
   {
    "duration": 26,
    "start_time": "2022-11-15T20:47:33.915Z"
   },
   {
    "duration": 12,
    "start_time": "2022-11-15T20:47:33.943Z"
   },
   {
    "duration": 29,
    "start_time": "2022-11-15T20:47:33.956Z"
   },
   {
    "duration": 5,
    "start_time": "2022-11-15T20:47:33.987Z"
   },
   {
    "duration": 8,
    "start_time": "2022-11-15T20:47:33.994Z"
   },
   {
    "duration": 463,
    "start_time": "2022-11-15T20:47:34.004Z"
   },
   {
    "duration": 10,
    "start_time": "2022-11-15T20:47:34.468Z"
   },
   {
    "duration": 9,
    "start_time": "2022-11-15T20:47:34.481Z"
   },
   {
    "duration": 1347,
    "start_time": "2022-11-15T20:47:50.645Z"
   },
   {
    "duration": 352,
    "start_time": "2022-11-15T20:47:51.994Z"
   },
   {
    "duration": 12,
    "start_time": "2022-11-15T20:47:52.348Z"
   },
   {
    "duration": 19,
    "start_time": "2022-11-15T20:47:52.362Z"
   },
   {
    "duration": 9,
    "start_time": "2022-11-15T20:47:52.382Z"
   },
   {
    "duration": 9,
    "start_time": "2022-11-15T20:47:52.393Z"
   },
   {
    "duration": 7,
    "start_time": "2022-11-15T20:47:52.404Z"
   },
   {
    "duration": 17,
    "start_time": "2022-11-15T20:47:52.413Z"
   },
   {
    "duration": 7,
    "start_time": "2022-11-15T20:47:52.432Z"
   },
   {
    "duration": 10,
    "start_time": "2022-11-15T20:47:52.441Z"
   },
   {
    "duration": 40,
    "start_time": "2022-11-15T20:47:52.452Z"
   },
   {
    "duration": 8,
    "start_time": "2022-11-15T20:47:52.494Z"
   },
   {
    "duration": 41,
    "start_time": "2022-11-15T20:47:52.503Z"
   },
   {
    "duration": 63,
    "start_time": "2022-11-15T20:47:52.546Z"
   },
   {
    "duration": 41,
    "start_time": "2022-11-15T20:47:52.611Z"
   },
   {
    "duration": 26,
    "start_time": "2022-11-15T20:47:52.654Z"
   },
   {
    "duration": 18,
    "start_time": "2022-11-15T20:47:52.682Z"
   },
   {
    "duration": 16,
    "start_time": "2022-11-15T20:47:52.702Z"
   },
   {
    "duration": 27,
    "start_time": "2022-11-15T20:47:52.720Z"
   },
   {
    "duration": 39,
    "start_time": "2022-11-15T20:47:52.748Z"
   },
   {
    "duration": 23,
    "start_time": "2022-11-15T20:47:52.789Z"
   },
   {
    "duration": 280,
    "start_time": "2022-11-15T20:47:52.813Z"
   },
   {
    "duration": 201,
    "start_time": "2022-11-15T20:47:53.094Z"
   },
   {
    "duration": 5,
    "start_time": "2022-11-15T20:47:53.297Z"
   },
   {
    "duration": 335,
    "start_time": "2022-11-15T20:47:53.303Z"
   },
   {
    "duration": 42,
    "start_time": "2022-11-15T20:47:53.640Z"
   },
   {
    "duration": 18,
    "start_time": "2022-11-15T20:47:53.684Z"
   },
   {
    "duration": 42,
    "start_time": "2022-11-15T20:47:53.705Z"
   },
   {
    "duration": 37,
    "start_time": "2022-11-15T20:47:53.749Z"
   },
   {
    "duration": 103,
    "start_time": "2022-11-15T20:47:53.788Z"
   },
   {
    "duration": 10,
    "start_time": "2022-11-15T20:47:53.979Z"
   },
   {
    "duration": 6,
    "start_time": "2022-11-15T20:47:53.991Z"
   },
   {
    "duration": 14,
    "start_time": "2022-11-15T20:47:53.998Z"
   },
   {
    "duration": 7,
    "start_time": "2022-11-15T20:47:54.013Z"
   },
   {
    "duration": 6,
    "start_time": "2022-11-15T20:47:54.022Z"
   },
   {
    "duration": 9,
    "start_time": "2022-11-15T20:47:54.030Z"
   },
   {
    "duration": 9,
    "start_time": "2022-11-15T20:47:54.040Z"
   },
   {
    "duration": 5,
    "start_time": "2022-11-15T20:47:54.051Z"
   },
   {
    "duration": 21,
    "start_time": "2022-11-15T20:47:54.058Z"
   },
   {
    "duration": 8,
    "start_time": "2022-11-15T20:47:54.081Z"
   },
   {
    "duration": 7,
    "start_time": "2022-11-15T20:47:54.090Z"
   },
   {
    "duration": 9,
    "start_time": "2022-11-15T20:47:54.098Z"
   },
   {
    "duration": 11,
    "start_time": "2022-11-15T20:47:54.109Z"
   },
   {
    "duration": 20,
    "start_time": "2022-11-15T20:47:54.123Z"
   },
   {
    "duration": 4,
    "start_time": "2022-11-15T20:47:54.145Z"
   },
   {
    "duration": 5,
    "start_time": "2022-11-15T20:47:54.150Z"
   },
   {
    "duration": 379,
    "start_time": "2022-11-15T20:47:54.157Z"
   },
   {
    "duration": 3,
    "start_time": "2022-11-15T20:47:54.537Z"
   },
   {
    "duration": 6,
    "start_time": "2022-11-15T20:47:54.542Z"
   }
  ],
  "kernelspec": {
   "display_name": "Python 3 (ipykernel)",
   "language": "python",
   "name": "python3"
  },
  "language_info": {
   "codemirror_mode": {
    "name": "ipython",
    "version": 3
   },
   "file_extension": ".py",
   "mimetype": "text/x-python",
   "name": "python",
   "nbconvert_exporter": "python",
   "pygments_lexer": "ipython3",
   "version": "3.9.5"
  },
  "toc": {
   "base_numbering": 1,
   "nav_menu": {
    "height": "173px",
    "width": "252px"
   },
   "number_sections": true,
   "sideBar": true,
   "skip_h1_title": true,
   "title_cell": "Table of Contents",
   "title_sidebar": "Contents",
   "toc_cell": false,
   "toc_position": {
    "height": "calc(100% - 180px)",
    "left": "10px",
    "top": "150px",
    "width": "205.8px"
   },
   "toc_section_display": true,
   "toc_window_display": true
  }
 },
 "nbformat": 4,
 "nbformat_minor": 2
}
