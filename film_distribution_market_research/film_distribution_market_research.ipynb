{
 "cells": [
  {
   "cell_type": "markdown",
   "id": "15aa8255",
   "metadata": {
    "tags": []
   },
   "source": [
    "# Исследование рынка российского кинопроката "
   ]
  },
  {
   "cell_type": "markdown",
   "id": "cf88aa1e",
   "metadata": {},
   "source": [
    "## Изучение данных"
   ]
  },
  {
   "cell_type": "code",
   "execution_count": 1,
   "id": "f005a812",
   "metadata": {},
   "outputs": [],
   "source": [
    "import pandas as pd"
   ]
  },
  {
   "cell_type": "code",
   "execution_count": 2,
   "id": "b47a1374",
   "metadata": {},
   "outputs": [],
   "source": [
    "try:\n",
    "    df_movies = pd.read_csv('mkrf_movies.csv')\n",
    "    df_shows = pd.read_csv('mkrf_shows.csv')\n",
    "    \n",
    "except FileNotFoundError:\n",
    "    df_movies = pd.read_csv('/datasets/mkrf_movies.csv')\n",
    "    df_shows = pd.read_csv('/datasets/mkrf_shows.csv')"
   ]
  },
  {
   "cell_type": "code",
   "execution_count": 3,
   "id": "36e84751",
   "metadata": {},
   "outputs": [
    {
     "data": {
      "text/plain": [
       "'/home/user-0-501163977/work'"
      ]
     },
     "execution_count": 3,
     "metadata": {},
     "output_type": "execute_result"
    }
   ],
   "source": [
    "import os \n",
    "os.path.abspath(os.curdir)"
   ]
  },
  {
   "cell_type": "markdown",
   "id": "c3271315",
   "metadata": {},
   "source": [
    "Изучение файла с фильмами"
   ]
  },
  {
   "cell_type": "code",
   "execution_count": 4,
   "id": "0d5a1726",
   "metadata": {},
   "outputs": [
    {
     "data": {
      "text/html": [
       "<div>\n",
       "<style scoped>\n",
       "    .dataframe tbody tr th:only-of-type {\n",
       "        vertical-align: middle;\n",
       "    }\n",
       "\n",
       "    .dataframe tbody tr th {\n",
       "        vertical-align: top;\n",
       "    }\n",
       "\n",
       "    .dataframe thead th {\n",
       "        text-align: right;\n",
       "    }\n",
       "</style>\n",
       "<table border=\"1\" class=\"dataframe\">\n",
       "  <thead>\n",
       "    <tr style=\"text-align: right;\">\n",
       "      <th></th>\n",
       "      <th>title</th>\n",
       "      <th>puNumber</th>\n",
       "      <th>show_start_date</th>\n",
       "      <th>type</th>\n",
       "      <th>film_studio</th>\n",
       "      <th>production_country</th>\n",
       "      <th>director</th>\n",
       "      <th>producer</th>\n",
       "      <th>age_restriction</th>\n",
       "      <th>refundable_support</th>\n",
       "      <th>nonrefundable_support</th>\n",
       "      <th>budget</th>\n",
       "      <th>financing_source</th>\n",
       "      <th>ratings</th>\n",
       "      <th>genres</th>\n",
       "    </tr>\n",
       "  </thead>\n",
       "  <tbody>\n",
       "    <tr>\n",
       "      <td>0</td>\n",
       "      <td>Открытый простор</td>\n",
       "      <td>221048915</td>\n",
       "      <td>2015-11-27T12:00:00.000Z</td>\n",
       "      <td>Художественный</td>\n",
       "      <td>Тачстоун Пикчерз, Кобальт Пикчерз, Бикон Пикче...</td>\n",
       "      <td>США</td>\n",
       "      <td>Кевин Костнер</td>\n",
       "      <td>Дэвид Валдес, Кевин Костнер, Джейк Эбертс</td>\n",
       "      <td>«18+» - запрещено для детей</td>\n",
       "      <td>NaN</td>\n",
       "      <td>NaN</td>\n",
       "      <td>NaN</td>\n",
       "      <td>NaN</td>\n",
       "      <td>7.2</td>\n",
       "      <td>боевик,драма,мелодрама</td>\n",
       "    </tr>\n",
       "    <tr>\n",
       "      <td>1</td>\n",
       "      <td>Особо важное задание</td>\n",
       "      <td>111013716</td>\n",
       "      <td>2016-09-13T12:00:00.000Z</td>\n",
       "      <td>Художественный</td>\n",
       "      <td>Киностудия \"Мосфильм\"</td>\n",
       "      <td>СССР</td>\n",
       "      <td>Е.Матвеев</td>\n",
       "      <td>NaN</td>\n",
       "      <td>«6+» - для детей старше 6 лет</td>\n",
       "      <td>NaN</td>\n",
       "      <td>NaN</td>\n",
       "      <td>NaN</td>\n",
       "      <td>NaN</td>\n",
       "      <td>6.6</td>\n",
       "      <td>драма,военный</td>\n",
       "    </tr>\n",
       "    <tr>\n",
       "      <td>2</td>\n",
       "      <td>Особо опасен</td>\n",
       "      <td>221038416</td>\n",
       "      <td>2016-10-10T12:00:00.000Z</td>\n",
       "      <td>Художественный</td>\n",
       "      <td>Юниверсал Пикчерз, Кикстарт Продакшнз, Марк Пл...</td>\n",
       "      <td>США</td>\n",
       "      <td>Тимур Бекмамбетов</td>\n",
       "      <td>Джим Лемли, Джейсон Нетер, Марк Е.Платт, Яйн Смит</td>\n",
       "      <td>«18+» - запрещено для детей</td>\n",
       "      <td>NaN</td>\n",
       "      <td>NaN</td>\n",
       "      <td>NaN</td>\n",
       "      <td>NaN</td>\n",
       "      <td>6.8</td>\n",
       "      <td>фантастика,боевик,триллер</td>\n",
       "    </tr>\n",
       "    <tr>\n",
       "      <td>3</td>\n",
       "      <td>Особо опасен</td>\n",
       "      <td>221026916</td>\n",
       "      <td>2016-06-10T12:00:00.000Z</td>\n",
       "      <td>Художественный</td>\n",
       "      <td>Юниверсал Пикчерз, Кикстарт Продакшнз, Марк Пл...</td>\n",
       "      <td>США</td>\n",
       "      <td>Тимур Бекмамбетов</td>\n",
       "      <td>Джим Лемли, Джейсон Нетер, Марк Е.Платт, Яйн Смит</td>\n",
       "      <td>«18+» - запрещено для детей</td>\n",
       "      <td>NaN</td>\n",
       "      <td>NaN</td>\n",
       "      <td>NaN</td>\n",
       "      <td>NaN</td>\n",
       "      <td>6.8</td>\n",
       "      <td>фантастика,боевик,триллер</td>\n",
       "    </tr>\n",
       "    <tr>\n",
       "      <td>4</td>\n",
       "      <td>Особо опасен</td>\n",
       "      <td>221030815</td>\n",
       "      <td>2015-07-29T12:00:00.000Z</td>\n",
       "      <td>Художественный</td>\n",
       "      <td>Юниверсал Пикчерз, Кикстарт Продакшнз, Марк Пл...</td>\n",
       "      <td>США</td>\n",
       "      <td>Тимур Бекмамбетов</td>\n",
       "      <td>Джим Лемли, Джейсон Нетер, Марк Е.Платт, Яйн Смит</td>\n",
       "      <td>«18+» - запрещено для детей</td>\n",
       "      <td>NaN</td>\n",
       "      <td>NaN</td>\n",
       "      <td>NaN</td>\n",
       "      <td>NaN</td>\n",
       "      <td>6.8</td>\n",
       "      <td>фантастика,боевик,триллер</td>\n",
       "    </tr>\n",
       "    <tr>\n",
       "      <td>5</td>\n",
       "      <td>Остановился поезд</td>\n",
       "      <td>111013816</td>\n",
       "      <td>2016-09-13T12:00:00.000Z</td>\n",
       "      <td>Художественный</td>\n",
       "      <td>Киностудия \"Мосфильм\"</td>\n",
       "      <td>СССР</td>\n",
       "      <td>В.Абдрашитов</td>\n",
       "      <td>NaN</td>\n",
       "      <td>«6+» - для детей старше 6 лет</td>\n",
       "      <td>NaN</td>\n",
       "      <td>NaN</td>\n",
       "      <td>NaN</td>\n",
       "      <td>NaN</td>\n",
       "      <td>7.7</td>\n",
       "      <td>драма</td>\n",
       "    </tr>\n",
       "    <tr>\n",
       "      <td>6</td>\n",
       "      <td>Любовь и голуби</td>\n",
       "      <td>111007013</td>\n",
       "      <td>2013-10-18T12:00:00.000Z</td>\n",
       "      <td>Художественный</td>\n",
       "      <td>Киностудия \"Мосфильм\"</td>\n",
       "      <td>СССР</td>\n",
       "      <td>В.Меньшов</td>\n",
       "      <td>NaN</td>\n",
       "      <td>«12+» - для детей старше 12 лет</td>\n",
       "      <td>NaN</td>\n",
       "      <td>NaN</td>\n",
       "      <td>NaN</td>\n",
       "      <td>NaN</td>\n",
       "      <td>8.3</td>\n",
       "      <td>мелодрама,комедия</td>\n",
       "    </tr>\n",
       "    <tr>\n",
       "      <td>7</td>\n",
       "      <td>Любовь и сигареты</td>\n",
       "      <td>221074614</td>\n",
       "      <td>2014-12-29T12:00:00.000Z</td>\n",
       "      <td>Художественный</td>\n",
       "      <td>Юнайтед Артистс, Грин Стрит Филмз, Айкон Интер...</td>\n",
       "      <td>США</td>\n",
       "      <td>Джон Туртурро</td>\n",
       "      <td>Джон Пенотти, Джон Туртурро</td>\n",
       "      <td>«18+» - запрещено для детей</td>\n",
       "      <td>NaN</td>\n",
       "      <td>NaN</td>\n",
       "      <td>NaN</td>\n",
       "      <td>NaN</td>\n",
       "      <td>6.6</td>\n",
       "      <td>мюзикл,мелодрама,комедия</td>\n",
       "    </tr>\n",
       "    <tr>\n",
       "      <td>8</td>\n",
       "      <td>Отпетые мошенники.</td>\n",
       "      <td>121011416</td>\n",
       "      <td>2016-05-05T12:00:00.000Z</td>\n",
       "      <td>Художественный</td>\n",
       "      <td>Пульсар Продюксьон, ТФ1 Фильм</td>\n",
       "      <td>Франция</td>\n",
       "      <td>Эрик Беснард</td>\n",
       "      <td>Патрис Леду</td>\n",
       "      <td>«18+» - запрещено для детей</td>\n",
       "      <td>NaN</td>\n",
       "      <td>NaN</td>\n",
       "      <td>NaN</td>\n",
       "      <td>NaN</td>\n",
       "      <td>8.0</td>\n",
       "      <td>комедия,криминал</td>\n",
       "    </tr>\n",
       "    <tr>\n",
       "      <td>9</td>\n",
       "      <td>Отпуск за свой счет</td>\n",
       "      <td>111019114</td>\n",
       "      <td>2014-12-01T12:00:00.000Z</td>\n",
       "      <td>Художественный</td>\n",
       "      <td>Киностудия \"Мосфильм\", Телевидение ВНР</td>\n",
       "      <td>СССР, Венгрия</td>\n",
       "      <td>В.Титов</td>\n",
       "      <td>NaN</td>\n",
       "      <td>«12+» - для детей старше 12 лет</td>\n",
       "      <td>NaN</td>\n",
       "      <td>NaN</td>\n",
       "      <td>NaN</td>\n",
       "      <td>NaN</td>\n",
       "      <td>7.8</td>\n",
       "      <td>мелодрама,комедия</td>\n",
       "    </tr>\n",
       "  </tbody>\n",
       "</table>\n",
       "</div>"
      ],
      "text/plain": [
       "                  title   puNumber           show_start_date            type  \\\n",
       "0      Открытый простор  221048915  2015-11-27T12:00:00.000Z  Художественный   \n",
       "1  Особо важное задание  111013716  2016-09-13T12:00:00.000Z  Художественный   \n",
       "2          Особо опасен  221038416  2016-10-10T12:00:00.000Z  Художественный   \n",
       "3          Особо опасен  221026916  2016-06-10T12:00:00.000Z  Художественный   \n",
       "4          Особо опасен  221030815  2015-07-29T12:00:00.000Z  Художественный   \n",
       "5     Остановился поезд  111013816  2016-09-13T12:00:00.000Z  Художественный   \n",
       "6       Любовь и голуби  111007013  2013-10-18T12:00:00.000Z  Художественный   \n",
       "7     Любовь и сигареты  221074614  2014-12-29T12:00:00.000Z  Художественный   \n",
       "8    Отпетые мошенники.  121011416  2016-05-05T12:00:00.000Z  Художественный   \n",
       "9   Отпуск за свой счет  111019114  2014-12-01T12:00:00.000Z  Художественный   \n",
       "\n",
       "                                         film_studio production_country  \\\n",
       "0  Тачстоун Пикчерз, Кобальт Пикчерз, Бикон Пикче...                США   \n",
       "1                              Киностудия \"Мосфильм\"               СССР   \n",
       "2  Юниверсал Пикчерз, Кикстарт Продакшнз, Марк Пл...                США   \n",
       "3  Юниверсал Пикчерз, Кикстарт Продакшнз, Марк Пл...                США   \n",
       "4  Юниверсал Пикчерз, Кикстарт Продакшнз, Марк Пл...                США   \n",
       "5                              Киностудия \"Мосфильм\"               СССР   \n",
       "6                              Киностудия \"Мосфильм\"               СССР   \n",
       "7  Юнайтед Артистс, Грин Стрит Филмз, Айкон Интер...                США   \n",
       "8                     Пульсар Продюксьон, ТФ1 Фильм             Франция   \n",
       "9             Киностудия \"Мосфильм\", Телевидение ВНР      СССР, Венгрия   \n",
       "\n",
       "            director                                           producer  \\\n",
       "0      Кевин Костнер          Дэвид Валдес, Кевин Костнер, Джейк Эбертс   \n",
       "1          Е.Матвеев                                                NaN   \n",
       "2  Тимур Бекмамбетов  Джим Лемли, Джейсон Нетер, Марк Е.Платт, Яйн Смит   \n",
       "3  Тимур Бекмамбетов  Джим Лемли, Джейсон Нетер, Марк Е.Платт, Яйн Смит   \n",
       "4  Тимур Бекмамбетов  Джим Лемли, Джейсон Нетер, Марк Е.Платт, Яйн Смит   \n",
       "5       В.Абдрашитов                                                NaN   \n",
       "6          В.Меньшов                                                NaN   \n",
       "7      Джон Туртурро                        Джон Пенотти, Джон Туртурро   \n",
       "8       Эрик Беснард                                        Патрис Леду   \n",
       "9            В.Титов                                                NaN   \n",
       "\n",
       "                   age_restriction  refundable_support  nonrefundable_support  \\\n",
       "0      «18+» - запрещено для детей                 NaN                    NaN   \n",
       "1    «6+» - для детей старше 6 лет                 NaN                    NaN   \n",
       "2      «18+» - запрещено для детей                 NaN                    NaN   \n",
       "3      «18+» - запрещено для детей                 NaN                    NaN   \n",
       "4      «18+» - запрещено для детей                 NaN                    NaN   \n",
       "5    «6+» - для детей старше 6 лет                 NaN                    NaN   \n",
       "6  «12+» - для детей старше 12 лет                 NaN                    NaN   \n",
       "7      «18+» - запрещено для детей                 NaN                    NaN   \n",
       "8      «18+» - запрещено для детей                 NaN                    NaN   \n",
       "9  «12+» - для детей старше 12 лет                 NaN                    NaN   \n",
       "\n",
       "   budget financing_source ratings                     genres  \n",
       "0     NaN              NaN     7.2     боевик,драма,мелодрама  \n",
       "1     NaN              NaN     6.6              драма,военный  \n",
       "2     NaN              NaN     6.8  фантастика,боевик,триллер  \n",
       "3     NaN              NaN     6.8  фантастика,боевик,триллер  \n",
       "4     NaN              NaN     6.8  фантастика,боевик,триллер  \n",
       "5     NaN              NaN     7.7                      драма  \n",
       "6     NaN              NaN     8.3          мелодрама,комедия  \n",
       "7     NaN              NaN     6.6   мюзикл,мелодрама,комедия  \n",
       "8     NaN              NaN     8.0           комедия,криминал  \n",
       "9     NaN              NaN     7.8          мелодрама,комедия  "
      ]
     },
     "metadata": {},
     "output_type": "display_data"
    }
   ],
   "source": [
    "display(df_movies.head(10))"
   ]
  },
  {
   "cell_type": "code",
   "execution_count": 5,
   "id": "58385ea0",
   "metadata": {},
   "outputs": [
    {
     "name": "stdout",
     "output_type": "stream",
     "text": [
      "<class 'pandas.core.frame.DataFrame'>\n",
      "RangeIndex: 7486 entries, 0 to 7485\n",
      "Data columns (total 15 columns):\n",
      "title                    7486 non-null object\n",
      "puNumber                 7486 non-null object\n",
      "show_start_date          7486 non-null object\n",
      "type                     7486 non-null object\n",
      "film_studio              7468 non-null object\n",
      "production_country       7484 non-null object\n",
      "director                 7477 non-null object\n",
      "producer                 6918 non-null object\n",
      "age_restriction          7486 non-null object\n",
      "refundable_support       332 non-null float64\n",
      "nonrefundable_support    332 non-null float64\n",
      "budget                   332 non-null float64\n",
      "financing_source         332 non-null object\n",
      "ratings                  6519 non-null object\n",
      "genres                   6510 non-null object\n",
      "dtypes: float64(3), object(12)\n",
      "memory usage: 877.4+ KB\n"
     ]
    }
   ],
   "source": [
    "df_movies.info()"
   ]
  },
  {
   "cell_type": "markdown",
   "id": "8479d189",
   "metadata": {},
   "source": [
    "Cогласно документации, таблица `df_movies` содержит информацию из реестра прокатных удостоверений. \n",
    "У одного фильма может быть несколько прокатных удостоверений.\n",
    "\n",
    "В таблице 15 столбцов со следующими типами данных: `object` и `float`\n",
    "\n",
    "* `title` — название фильма;\n",
    "* `puNumber` — номер прокатного удостоверения;\n",
    "* `show_start_date` — дата премьеры фильма;\n",
    "* `type` — тип фильма;\n",
    "* `film_studio` — студия-производитель;\n",
    "* `production_country` — страна-производитель;\n",
    "* `director` — режиссёр;\n",
    "* `producer` — продюсер;\n",
    "* `age_restriction` — возрастная категория;\n",
    "* `refundable_support` — объём возвратных средств государственной поддержки;\n",
    "* `nonrefundable_support` — объём невозвратных средств государственной поддержки;\n",
    "* `financing_source` — источник государственного финансирования;\n",
    "* `budget` — общий бюджет фильма;\n",
    "* `ratings` — рейтинг фильма на КиноПоиске;\n",
    "* `genres` — жанр фильма.\n",
    "\n",
    "Столбец `budget` уже включает в себя полный объём государственной поддержки. Данные в этом столбце указаны только для тех фильмов, которые получили государственную поддержку."
   ]
  },
  {
   "cell_type": "code",
   "execution_count": 6,
   "id": "3c832254",
   "metadata": {},
   "outputs": [
    {
     "data": {
      "text/html": [
       "<div>\n",
       "<style scoped>\n",
       "    .dataframe tbody tr th:only-of-type {\n",
       "        vertical-align: middle;\n",
       "    }\n",
       "\n",
       "    .dataframe tbody tr th {\n",
       "        vertical-align: top;\n",
       "    }\n",
       "\n",
       "    .dataframe thead th {\n",
       "        text-align: right;\n",
       "    }\n",
       "</style>\n",
       "<table border=\"1\" class=\"dataframe\">\n",
       "  <thead>\n",
       "    <tr style=\"text-align: right;\">\n",
       "      <th></th>\n",
       "      <th>refundable_support</th>\n",
       "      <th>nonrefundable_support</th>\n",
       "      <th>budget</th>\n",
       "    </tr>\n",
       "  </thead>\n",
       "  <tbody>\n",
       "    <tr>\n",
       "      <td>count</td>\n",
       "      <td>3.320000e+02</td>\n",
       "      <td>3.320000e+02</td>\n",
       "      <td>3.320000e+02</td>\n",
       "    </tr>\n",
       "    <tr>\n",
       "      <td>mean</td>\n",
       "      <td>1.186446e+07</td>\n",
       "      <td>4.898099e+07</td>\n",
       "      <td>1.272297e+08</td>\n",
       "    </tr>\n",
       "    <tr>\n",
       "      <td>std</td>\n",
       "      <td>2.491656e+07</td>\n",
       "      <td>5.998012e+07</td>\n",
       "      <td>1.885883e+08</td>\n",
       "    </tr>\n",
       "    <tr>\n",
       "      <td>min</td>\n",
       "      <td>0.000000e+00</td>\n",
       "      <td>0.000000e+00</td>\n",
       "      <td>0.000000e+00</td>\n",
       "    </tr>\n",
       "    <tr>\n",
       "      <td>25%</td>\n",
       "      <td>0.000000e+00</td>\n",
       "      <td>2.500000e+07</td>\n",
       "      <td>4.200000e+07</td>\n",
       "    </tr>\n",
       "    <tr>\n",
       "      <td>50%</td>\n",
       "      <td>0.000000e+00</td>\n",
       "      <td>3.000000e+07</td>\n",
       "      <td>6.864992e+07</td>\n",
       "    </tr>\n",
       "    <tr>\n",
       "      <td>75%</td>\n",
       "      <td>1.500000e+07</td>\n",
       "      <td>4.037500e+07</td>\n",
       "      <td>1.419853e+08</td>\n",
       "    </tr>\n",
       "    <tr>\n",
       "      <td>max</td>\n",
       "      <td>1.800000e+08</td>\n",
       "      <td>4.000000e+08</td>\n",
       "      <td>2.305074e+09</td>\n",
       "    </tr>\n",
       "  </tbody>\n",
       "</table>\n",
       "</div>"
      ],
      "text/plain": [
       "       refundable_support  nonrefundable_support        budget\n",
       "count        3.320000e+02           3.320000e+02  3.320000e+02\n",
       "mean         1.186446e+07           4.898099e+07  1.272297e+08\n",
       "std          2.491656e+07           5.998012e+07  1.885883e+08\n",
       "min          0.000000e+00           0.000000e+00  0.000000e+00\n",
       "25%          0.000000e+00           2.500000e+07  4.200000e+07\n",
       "50%          0.000000e+00           3.000000e+07  6.864992e+07\n",
       "75%          1.500000e+07           4.037500e+07  1.419853e+08\n",
       "max          1.800000e+08           4.000000e+08  2.305074e+09"
      ]
     },
     "metadata": {},
     "output_type": "display_data"
    }
   ],
   "source": [
    "display(df_movies.describe())"
   ]
  },
  {
   "cell_type": "markdown",
   "id": "c9743112",
   "metadata": {},
   "source": [
    "### Вывод №1"
   ]
  },
  {
   "cell_type": "markdown",
   "id": "0fd5312c",
   "metadata": {},
   "source": [
    "Какие проблемы `df_movies` в данных обнаружены визуально:\n",
    "\n",
    "    1. Некорректное название столбца puNumber, содержит прописную букву\n",
    "    2. Пропуски (NaN) в колонках 'refundable_support', 'nonrefundable_support', 'budget', 'financing_source'\n",
    "    3. Тип данных графы 'show_start_date' 'object' вместо 'datetime'\n",
    "    4. Пропуски (NaN) в графе 'producer'\n",
    "    5. Тип данных в колонке 'puNumber' \"object\", хотя на первый взгляд в графе одни числа\n",
    "    6. Колонка 'ratings' имеет тип данных 'object' вместо 'float'\n",
    "    7. NaN-ы в столбце \"producer\""
   ]
  },
  {
   "cell_type": "markdown",
   "id": "b1649f91",
   "metadata": {},
   "source": [
    "Изучим таблицу с шоу `df_shows`"
   ]
  },
  {
   "cell_type": "code",
   "execution_count": 7,
   "id": "1cd12188",
   "metadata": {},
   "outputs": [
    {
     "data": {
      "text/html": [
       "<div>\n",
       "<style scoped>\n",
       "    .dataframe tbody tr th:only-of-type {\n",
       "        vertical-align: middle;\n",
       "    }\n",
       "\n",
       "    .dataframe tbody tr th {\n",
       "        vertical-align: top;\n",
       "    }\n",
       "\n",
       "    .dataframe thead th {\n",
       "        text-align: right;\n",
       "    }\n",
       "</style>\n",
       "<table border=\"1\" class=\"dataframe\">\n",
       "  <thead>\n",
       "    <tr style=\"text-align: right;\">\n",
       "      <th></th>\n",
       "      <th>puNumber</th>\n",
       "      <th>box_office</th>\n",
       "    </tr>\n",
       "  </thead>\n",
       "  <tbody>\n",
       "    <tr>\n",
       "      <td>0</td>\n",
       "      <td>111000113</td>\n",
       "      <td>2.450000e+03</td>\n",
       "    </tr>\n",
       "    <tr>\n",
       "      <td>1</td>\n",
       "      <td>111000115</td>\n",
       "      <td>6.104000e+04</td>\n",
       "    </tr>\n",
       "    <tr>\n",
       "      <td>2</td>\n",
       "      <td>111000116</td>\n",
       "      <td>1.530300e+08</td>\n",
       "    </tr>\n",
       "    <tr>\n",
       "      <td>3</td>\n",
       "      <td>111000117</td>\n",
       "      <td>1.226096e+07</td>\n",
       "    </tr>\n",
       "    <tr>\n",
       "      <td>4</td>\n",
       "      <td>111000118</td>\n",
       "      <td>1.636841e+08</td>\n",
       "    </tr>\n",
       "  </tbody>\n",
       "</table>\n",
       "</div>"
      ],
      "text/plain": [
       "    puNumber    box_office\n",
       "0  111000113  2.450000e+03\n",
       "1  111000115  6.104000e+04\n",
       "2  111000116  1.530300e+08\n",
       "3  111000117  1.226096e+07\n",
       "4  111000118  1.636841e+08"
      ]
     },
     "metadata": {},
     "output_type": "display_data"
    }
   ],
   "source": [
    "display(df_shows.head())"
   ]
  },
  {
   "cell_type": "code",
   "execution_count": 8,
   "id": "56086d6d",
   "metadata": {},
   "outputs": [
    {
     "name": "stdout",
     "output_type": "stream",
     "text": [
      "<class 'pandas.core.frame.DataFrame'>\n",
      "RangeIndex: 3158 entries, 0 to 3157\n",
      "Data columns (total 2 columns):\n",
      "puNumber      3158 non-null int64\n",
      "box_office    3158 non-null float64\n",
      "dtypes: float64(1), int64(1)\n",
      "memory usage: 49.5 KB\n"
     ]
    }
   ],
   "source": [
    "df_shows.info()"
   ]
  },
  {
   "cell_type": "markdown",
   "id": "e366a66b",
   "metadata": {},
   "source": [
    "В таблице содержится 2 столбца с типами данных `int` и `float`."
   ]
  },
  {
   "cell_type": "markdown",
   "id": "b7c540fb",
   "metadata": {},
   "source": [
    "Согласно документации, датасет `df_shows` содержит сведения о показах фильмов в российских кинотеатрах.\n",
    "\n",
    "* `puNumber` — номер прокатного удостоверения;\n",
    "* `box_office` — сборы в рублях.\n"
   ]
  },
  {
   "cell_type": "code",
   "execution_count": 9,
   "id": "2a2c120a",
   "metadata": {},
   "outputs": [
    {
     "data": {
      "text/html": [
       "<div>\n",
       "<style scoped>\n",
       "    .dataframe tbody tr th:only-of-type {\n",
       "        vertical-align: middle;\n",
       "    }\n",
       "\n",
       "    .dataframe tbody tr th {\n",
       "        vertical-align: top;\n",
       "    }\n",
       "\n",
       "    .dataframe thead th {\n",
       "        text-align: right;\n",
       "    }\n",
       "</style>\n",
       "<table border=\"1\" class=\"dataframe\">\n",
       "  <thead>\n",
       "    <tr style=\"text-align: right;\">\n",
       "      <th></th>\n",
       "      <th>puNumber</th>\n",
       "      <th>box_office</th>\n",
       "    </tr>\n",
       "  </thead>\n",
       "  <tbody>\n",
       "    <tr>\n",
       "      <td>count</td>\n",
       "      <td>3.158000e+03</td>\n",
       "      <td>3.158000e+03</td>\n",
       "    </tr>\n",
       "    <tr>\n",
       "      <td>mean</td>\n",
       "      <td>1.201875e+08</td>\n",
       "      <td>7.647870e+07</td>\n",
       "    </tr>\n",
       "    <tr>\n",
       "      <td>std</td>\n",
       "      <td>1.238394e+07</td>\n",
       "      <td>2.403531e+08</td>\n",
       "    </tr>\n",
       "    <tr>\n",
       "      <td>min</td>\n",
       "      <td>1.110001e+08</td>\n",
       "      <td>0.000000e+00</td>\n",
       "    </tr>\n",
       "    <tr>\n",
       "      <td>25%</td>\n",
       "      <td>1.130002e+08</td>\n",
       "      <td>8.623900e+04</td>\n",
       "    </tr>\n",
       "    <tr>\n",
       "      <td>50%</td>\n",
       "      <td>1.210131e+08</td>\n",
       "      <td>2.327988e+06</td>\n",
       "    </tr>\n",
       "    <tr>\n",
       "      <td>75%</td>\n",
       "      <td>1.210283e+08</td>\n",
       "      <td>2.397967e+07</td>\n",
       "    </tr>\n",
       "    <tr>\n",
       "      <td>max</td>\n",
       "      <td>2.240264e+08</td>\n",
       "      <td>3.073569e+09</td>\n",
       "    </tr>\n",
       "  </tbody>\n",
       "</table>\n",
       "</div>"
      ],
      "text/plain": [
       "           puNumber    box_office\n",
       "count  3.158000e+03  3.158000e+03\n",
       "mean   1.201875e+08  7.647870e+07\n",
       "std    1.238394e+07  2.403531e+08\n",
       "min    1.110001e+08  0.000000e+00\n",
       "25%    1.130002e+08  8.623900e+04\n",
       "50%    1.210131e+08  2.327988e+06\n",
       "75%    1.210283e+08  2.397967e+07\n",
       "max    2.240264e+08  3.073569e+09"
      ]
     },
     "metadata": {},
     "output_type": "display_data"
    }
   ],
   "source": [
    " display(df_shows.describe())"
   ]
  },
  {
   "cell_type": "markdown",
   "id": "c29e7115",
   "metadata": {},
   "source": [
    "### Вывод №2"
   ]
  },
  {
   "cell_type": "markdown",
   "id": "ecff1e6e",
   "metadata": {},
   "source": [
    "Какие проблемы `df_shows` в данных обнаружены визуально: \n",
    "\n",
    "    1. Некорректное название столбца `puNumber`"
   ]
  },
  {
   "cell_type": "markdown",
   "id": "adaa3e7c",
   "metadata": {},
   "source": [
    "## Предобработка данных"
   ]
  },
  {
   "cell_type": "markdown",
   "id": "3ba5d1fb",
   "metadata": {
    "tags": []
   },
   "source": [
    "### Преобразование типов данных"
   ]
  },
  {
   "cell_type": "markdown",
   "id": "3ac0f752",
   "metadata": {},
   "source": [
    "Для начала переименуем столбцы таблиц со строчными буквами на корректные. В обоих таблицах этот столбец называется `puNumber`:"
   ]
  },
  {
   "cell_type": "code",
   "execution_count": 10,
   "id": "94cf34e9",
   "metadata": {},
   "outputs": [],
   "source": [
    "df_shows = df_shows.rename(columns=({'puNumber' : 'release_doc_number'}))"
   ]
  },
  {
   "cell_type": "code",
   "execution_count": 11,
   "id": "121d8617",
   "metadata": {},
   "outputs": [
    {
     "name": "stdout",
     "output_type": "stream",
     "text": [
      "Index(['release_doc_number', 'box_office'], dtype='object')\n"
     ]
    }
   ],
   "source": [
    "print(df_shows.columns) "
   ]
  },
  {
   "cell_type": "code",
   "execution_count": 12,
   "id": "ea29130a",
   "metadata": {},
   "outputs": [],
   "source": [
    "df_movies = df_movies.rename(columns=({'puNumber' : 'release_doc_number'}))"
   ]
  },
  {
   "cell_type": "code",
   "execution_count": 13,
   "id": "6c4ce196",
   "metadata": {},
   "outputs": [
    {
     "name": "stdout",
     "output_type": "stream",
     "text": [
      "Index(['title', 'release_doc_number', 'show_start_date', 'type', 'film_studio',\n",
      "       'production_country', 'director', 'producer', 'age_restriction',\n",
      "       'refundable_support', 'nonrefundable_support', 'budget',\n",
      "       'financing_source', 'ratings', 'genres'],\n",
      "      dtype='object')\n"
     ]
    }
   ],
   "source": [
    "print(df_movies.columns)"
   ]
  },
  {
   "cell_type": "markdown",
   "id": "dd029b81",
   "metadata": {},
   "source": [
    "Колонки переименованы.\n",
    "\n",
    "Теперь изменим типы данных, о которых говорилось в пунке исследования 1.1:"
   ]
  },
  {
   "cell_type": "code",
   "execution_count": 14,
   "id": "9b0de01f",
   "metadata": {},
   "outputs": [
    {
     "name": "stdout",
     "output_type": "stream",
     "text": [
      "0      2015-11-27 12:00:00+00:00\n",
      "1      2016-09-13 12:00:00+00:00\n",
      "2      2016-10-10 12:00:00+00:00\n",
      "3      2016-06-10 12:00:00+00:00\n",
      "4      2015-07-29 12:00:00+00:00\n",
      "                  ...           \n",
      "7481   2019-12-23 12:00:00+00:00\n",
      "7482   2019-12-24 12:00:00+00:00\n",
      "7483   2019-12-28 12:00:00+00:00\n",
      "7484   2019-12-30 12:00:00+00:00\n",
      "7485   2019-12-30 12:00:00+00:00\n",
      "Name: show_start_date, Length: 7486, dtype: datetime64[ns, UTC]\n"
     ]
    }
   ],
   "source": [
    "df_movies['show_start_date'] = pd.to_datetime(df_movies['show_start_date'], format='%Y-%m-%dT%H:%M:%S.%f')\n",
    "print(df_movies['show_start_date'])"
   ]
  },
  {
   "cell_type": "markdown",
   "id": "53dac8fd",
   "metadata": {},
   "source": [
    "Заменим тип столбца номера релиза фильма на целочисленный:"
   ]
  },
  {
   "cell_type": "code",
   "execution_count": 15,
   "id": "e04148e6",
   "metadata": {},
   "outputs": [
    {
     "name": "stdout",
     "output_type": "stream",
     "text": [
      "int64\n"
     ]
    },
    {
     "name": "stderr",
     "output_type": "stream",
     "text": [
      "/opt/conda/lib/python3.7/site-packages/ipykernel_launcher.py:3: SettingWithCopyWarning: \n",
      "A value is trying to be set on a copy of a slice from a DataFrame\n",
      "\n",
      "See the caveats in the documentation: http://pandas.pydata.org/pandas-docs/stable/user_guide/indexing.html#returning-a-view-versus-a-copy\n",
      "  This is separate from the ipykernel package so we can avoid doing imports until\n"
     ]
    }
   ],
   "source": [
    "df_movies['release_doc_number'] = df_movies['release_doc_number']\n",
    "# print(~df_movies['release_doc_number'].str.isdigit())\n",
    "df_movies['release_doc_number'][~(df_movies['release_doc_number'].str.isdigit())] = 0\n",
    "df_movies['release_doc_number'] = df_movies['release_doc_number'].astype('int')\n",
    "print(df_movies['release_doc_number'].dtypes)"
   ]
  },
  {
   "cell_type": "code",
   "execution_count": 16,
   "id": "8ed6bfa6",
   "metadata": {},
   "outputs": [
    {
     "data": {
      "text/plain": [
       "False"
      ]
     },
     "execution_count": 16,
     "metadata": {},
     "output_type": "execute_result"
    }
   ],
   "source": [
    "\" 2\".isdigit()"
   ]
  },
  {
   "cell_type": "markdown",
   "id": "45169e70",
   "metadata": {},
   "source": [
    "Тип данных столбца изменен на `int`, а странные значения заменены на 0."
   ]
  },
  {
   "cell_type": "markdown",
   "id": "0162838c",
   "metadata": {},
   "source": [
    "#### Вывод"
   ]
  },
  {
   "cell_type": "markdown",
   "id": "cce31918",
   "metadata": {},
   "source": [
    "Изменила по-позможности типы данных столбцов на соответствующие значениям. Привела значения столбцов к единому формату. Колонки с некорректными названиями переименованы."
   ]
  },
  {
   "cell_type": "markdown",
   "id": "fdd1523a",
   "metadata": {},
   "source": [
    "### Обработка пропусков"
   ]
  },
  {
   "cell_type": "markdown",
   "id": "f28f8b09",
   "metadata": {},
   "source": [
    "Изучим пропущенные значения в данных, и, по-возможности, заполним их:"
   ]
  },
  {
   "cell_type": "code",
   "execution_count": 17,
   "id": "a9e6be65",
   "metadata": {},
   "outputs": [
    {
     "data": {
      "text/plain": [
       "title                       0\n",
       "release_doc_number          0\n",
       "show_start_date             0\n",
       "type                        0\n",
       "film_studio                18\n",
       "production_country          2\n",
       "director                    9\n",
       "producer                  568\n",
       "age_restriction             0\n",
       "refundable_support       7154\n",
       "nonrefundable_support    7154\n",
       "budget                   7154\n",
       "financing_source         7154\n",
       "ratings                   967\n",
       "genres                    976\n",
       "dtype: int64"
      ]
     },
     "execution_count": 17,
     "metadata": {},
     "output_type": "execute_result"
    }
   ],
   "source": [
    "df_movies.isna().sum()"
   ]
  },
  {
   "cell_type": "markdown",
   "id": "88db6974",
   "metadata": {},
   "source": [
    "Пропущено несколько значений о студии-производителе (`film_studio`)\n",
    "Немало пропусков имен продюссеров в графе `producer`\n",
    "Большая часть значений в столбцах финансирования пустуют. Процентов 8 строк столбцов `ratings` и `genres` не заполнены по какой-то причине.\n",
    "\n",
    "Столбец `ratings` имеет тип данных 'object' и перевести в тип float просто так не получится - скорее всего, там есть строки или не численные типы данных. Исследуем графу `ratings`:"
   ]
  },
  {
   "cell_type": "code",
   "execution_count": 18,
   "id": "600b8fe9",
   "metadata": {},
   "outputs": [
    {
     "data": {
      "text/html": [
       "<div>\n",
       "<style scoped>\n",
       "    .dataframe tbody tr th:only-of-type {\n",
       "        vertical-align: middle;\n",
       "    }\n",
       "\n",
       "    .dataframe tbody tr th {\n",
       "        vertical-align: top;\n",
       "    }\n",
       "\n",
       "    .dataframe thead th {\n",
       "        text-align: right;\n",
       "    }\n",
       "</style>\n",
       "<table border=\"1\" class=\"dataframe\">\n",
       "  <thead>\n",
       "    <tr style=\"text-align: right;\">\n",
       "      <th></th>\n",
       "      <th>release_doc_number</th>\n",
       "    </tr>\n",
       "    <tr>\n",
       "      <th>ratings</th>\n",
       "      <th></th>\n",
       "    </tr>\n",
       "  </thead>\n",
       "  <tbody>\n",
       "    <tr>\n",
       "      <td>1.0</td>\n",
       "      <td>1</td>\n",
       "    </tr>\n",
       "    <tr>\n",
       "      <td>1.1</td>\n",
       "      <td>2</td>\n",
       "    </tr>\n",
       "    <tr>\n",
       "      <td>1.2</td>\n",
       "      <td>1</td>\n",
       "    </tr>\n",
       "    <tr>\n",
       "      <td>1.3</td>\n",
       "      <td>1</td>\n",
       "    </tr>\n",
       "    <tr>\n",
       "      <td>1.4</td>\n",
       "      <td>2</td>\n",
       "    </tr>\n",
       "    <tr>\n",
       "      <td>...</td>\n",
       "      <td>...</td>\n",
       "    </tr>\n",
       "    <tr>\n",
       "      <td>91%</td>\n",
       "      <td>3</td>\n",
       "    </tr>\n",
       "    <tr>\n",
       "      <td>94%</td>\n",
       "      <td>3</td>\n",
       "    </tr>\n",
       "    <tr>\n",
       "      <td>97%</td>\n",
       "      <td>3</td>\n",
       "    </tr>\n",
       "    <tr>\n",
       "      <td>98%</td>\n",
       "      <td>2</td>\n",
       "    </tr>\n",
       "    <tr>\n",
       "      <td>99%</td>\n",
       "      <td>4</td>\n",
       "    </tr>\n",
       "  </tbody>\n",
       "</table>\n",
       "<p>94 rows × 1 columns</p>\n",
       "</div>"
      ],
      "text/plain": [
       "         release_doc_number\n",
       "ratings                    \n",
       "1.0                       1\n",
       "1.1                       2\n",
       "1.2                       1\n",
       "1.3                       1\n",
       "1.4                       2\n",
       "...                     ...\n",
       "91%                       3\n",
       "94%                       3\n",
       "97%                       3\n",
       "98%                       2\n",
       "99%                       4\n",
       "\n",
       "[94 rows x 1 columns]"
      ]
     },
     "metadata": {},
     "output_type": "display_data"
    }
   ],
   "source": [
    "pivot_rating = pd.pivot_table(df_movies, index='ratings', values='release_doc_number', aggfunc='count')\n",
    "display(pivot_rating)"
   ]
  },
  {
   "cell_type": "markdown",
   "id": "5abc2264",
   "metadata": {},
   "source": [
    "Все понятно - часть рейтинга записана в строковой форме. Но наны не позволяют легким движением руки перевести проценты в числа."
   ]
  },
  {
   "cell_type": "markdown",
   "id": "37d3830d",
   "metadata": {},
   "source": [
    "Похоже, что эти наны и портят всю статистику. Если заменить эти наны на нули, можно сильно исказить выборку нулевыми значениями рейтингов, тогда как их просто нет. Но и оставить пропуски тоже не выйдет, т.к. иначе не получится изменить тип данных чисел и привести проценты к общему виду. Также по категориальным нельзя будект строить графики и анализировать популярность фильмов. Заполним этим словом 'nan' все пропуски данных, чтобы можно было изменить тип данных столбца на численный."
   ]
  },
  {
   "cell_type": "code",
   "execution_count": 19,
   "id": "a5d9329c",
   "metadata": {},
   "outputs": [
    {
     "name": "stdout",
     "output_type": "stream",
     "text": [
      "967\n"
     ]
    }
   ],
   "source": [
    "print(df_movies['ratings'].isna().sum())"
   ]
  },
  {
   "cell_type": "code",
   "execution_count": 20,
   "id": "5cff6220",
   "metadata": {},
   "outputs": [],
   "source": [
    "df_movies['ratings'] = df_movies['ratings'].fillna('nan')"
   ]
  },
  {
   "cell_type": "code",
   "execution_count": 21,
   "id": "db92f414",
   "metadata": {},
   "outputs": [
    {
     "data": {
      "text/plain": [
       "nan    967\n",
       "6.6    312\n",
       "6.7    308\n",
       "6.8    261\n",
       "7.2    252\n",
       "      ... \n",
       "28%      1\n",
       "90%      1\n",
       "64%      1\n",
       "62%      1\n",
       "89%      1\n",
       "Name: ratings, Length: 95, dtype: int64"
      ]
     },
     "execution_count": 21,
     "metadata": {},
     "output_type": "execute_result"
    }
   ],
   "source": [
    "df_movies['ratings'].value_counts()"
   ]
  },
  {
   "cell_type": "code",
   "execution_count": 22,
   "id": "1088029c",
   "metadata": {},
   "outputs": [
    {
     "name": "stderr",
     "output_type": "stream",
     "text": [
      "/opt/conda/lib/python3.7/site-packages/ipykernel_launcher.py:3: SettingWithCopyWarning: \n",
      "A value is trying to be set on a copy of a slice from a DataFrame\n",
      "\n",
      "See the caveats in the documentation: http://pandas.pydata.org/pandas-docs/stable/user_guide/indexing.html#returning-a-view-versus-a-copy\n",
      "  This is separate from the ipykernel package so we can avoid doing imports until\n",
      "/opt/conda/lib/python3.7/site-packages/ipykernel_launcher.py:4: SettingWithCopyWarning: \n",
      "A value is trying to be set on a copy of a slice from a DataFrame\n",
      "\n",
      "See the caveats in the documentation: http://pandas.pydata.org/pandas-docs/stable/user_guide/indexing.html#returning-a-view-versus-a-copy\n",
      "  after removing the cwd from sys.path.\n"
     ]
    }
   ],
   "source": [
    "import numpy as np\n",
    "# print(df_movies['ratings'].value_counts())\n",
    "df_movies['ratings'][df_movies['ratings'].str.contains('%')] = df_movies[df_movies['ratings'].str.contains('%')]['ratings'].str.rstrip('%').astype(float) / 10.0\n",
    "df_movies['ratings'][df_movies['ratings'] != 'nan'] = df_movies['ratings'][df_movies['ratings'] != 'nan'].astype(float)\n",
    "df_movies['ratings'] = df_movies['ratings'].replace('nan', np.NaN)\n",
    "# print(df_movies['ratings'].value_counts())\n"
   ]
  },
  {
   "cell_type": "code",
   "execution_count": 23,
   "id": "b13e7094",
   "metadata": {},
   "outputs": [
    {
     "name": "stdout",
     "output_type": "stream",
     "text": [
      "[7.2 6.6 6.8 7.7 8.3 8.  7.8 8.1 7.1 6.  7.4 5.8 8.7 6.3 6.9 5.  4.3 7.3\n",
      " 7.  6.4 nan 8.2 7.5 6.7 7.9 5.9 6.2 5.6 6.5 2.4 7.6 6.1 8.6 8.5 8.8 5.5\n",
      " 5.1 5.7 5.4 9.9 4.4 4.5 5.3 4.1 8.4 2.6 3.8 4.6 4.8 4.  3.  1.6 4.2 5.2\n",
      " 4.7 4.9 3.9 2.7 3.3 2.9 2.8 3.7 1.4 3.1 9.7 3.5 3.2 1.5 2.1 2.5 9.2 3.4\n",
      " 1.1 3.6 9.1 9.4 9.  1.9 1.  8.9 1.3 1.8 1.2 1.7 9.8]\n"
     ]
    }
   ],
   "source": [
    "print(df_movies['ratings'].unique())"
   ]
  },
  {
   "cell_type": "markdown",
   "id": "cbc90282",
   "metadata": {},
   "source": [
    "Тип данных колонки остался `object` из-за строковых 'nan'-ов"
   ]
  },
  {
   "cell_type": "code",
   "execution_count": 24,
   "id": "654a95d1",
   "metadata": {},
   "outputs": [
    {
     "name": "stdout",
     "output_type": "stream",
     "text": [
      "<class 'numpy.float64'>\n"
     ]
    }
   ],
   "source": [
    "print(type(df_movies['ratings'][0]))"
   ]
  },
  {
   "cell_type": "markdown",
   "id": "ee872c4d",
   "metadata": {},
   "source": [
    "NaN-ы и нулевые значения могут означать, что эти фильмы еще не вышли и рейтинг отсутсвует. Поэтому нет смысла заполнять NaN-s нулями, это создаст выбросы и будет мешать анализу."
   ]
  },
  {
   "cell_type": "code",
   "execution_count": 25,
   "id": "23cfac3e",
   "metadata": {},
   "outputs": [
    {
     "data": {
      "text/html": [
       "<div>\n",
       "<style scoped>\n",
       "    .dataframe tbody tr th:only-of-type {\n",
       "        vertical-align: middle;\n",
       "    }\n",
       "\n",
       "    .dataframe tbody tr th {\n",
       "        vertical-align: top;\n",
       "    }\n",
       "\n",
       "    .dataframe thead th {\n",
       "        text-align: right;\n",
       "    }\n",
       "</style>\n",
       "<table border=\"1\" class=\"dataframe\">\n",
       "  <thead>\n",
       "    <tr style=\"text-align: right;\">\n",
       "      <th></th>\n",
       "      <th>title</th>\n",
       "      <th>release_doc_number</th>\n",
       "      <th>show_start_date</th>\n",
       "      <th>type</th>\n",
       "      <th>film_studio</th>\n",
       "      <th>production_country</th>\n",
       "      <th>director</th>\n",
       "      <th>producer</th>\n",
       "      <th>age_restriction</th>\n",
       "      <th>refundable_support</th>\n",
       "      <th>nonrefundable_support</th>\n",
       "      <th>budget</th>\n",
       "      <th>financing_source</th>\n",
       "      <th>ratings</th>\n",
       "      <th>genres</th>\n",
       "    </tr>\n",
       "  </thead>\n",
       "  <tbody>\n",
       "    <tr>\n",
       "      <td>0</td>\n",
       "      <td>Открытый простор</td>\n",
       "      <td>221048915</td>\n",
       "      <td>2015-11-27 12:00:00+00:00</td>\n",
       "      <td>Художественный</td>\n",
       "      <td>Тачстоун Пикчерз, Кобальт Пикчерз, Бикон Пикче...</td>\n",
       "      <td>США</td>\n",
       "      <td>Кевин Костнер</td>\n",
       "      <td>Дэвид Валдес, Кевин Костнер, Джейк Эбертс</td>\n",
       "      <td>«18+» - запрещено для детей</td>\n",
       "      <td>NaN</td>\n",
       "      <td>NaN</td>\n",
       "      <td>NaN</td>\n",
       "      <td>NaN</td>\n",
       "      <td>7.2</td>\n",
       "      <td>боевик,драма,мелодрама</td>\n",
       "    </tr>\n",
       "    <tr>\n",
       "      <td>1</td>\n",
       "      <td>Особо важное задание</td>\n",
       "      <td>111013716</td>\n",
       "      <td>2016-09-13 12:00:00+00:00</td>\n",
       "      <td>Художественный</td>\n",
       "      <td>Киностудия \"Мосфильм\"</td>\n",
       "      <td>СССР</td>\n",
       "      <td>Е.Матвеев</td>\n",
       "      <td>NaN</td>\n",
       "      <td>«6+» - для детей старше 6 лет</td>\n",
       "      <td>NaN</td>\n",
       "      <td>NaN</td>\n",
       "      <td>NaN</td>\n",
       "      <td>NaN</td>\n",
       "      <td>6.6</td>\n",
       "      <td>драма,военный</td>\n",
       "    </tr>\n",
       "  </tbody>\n",
       "</table>\n",
       "</div>"
      ],
      "text/plain": [
       "                  title  release_doc_number           show_start_date  \\\n",
       "0      Открытый простор           221048915 2015-11-27 12:00:00+00:00   \n",
       "1  Особо важное задание           111013716 2016-09-13 12:00:00+00:00   \n",
       "\n",
       "             type                                        film_studio  \\\n",
       "0  Художественный  Тачстоун Пикчерз, Кобальт Пикчерз, Бикон Пикче...   \n",
       "1  Художественный                              Киностудия \"Мосфильм\"   \n",
       "\n",
       "  production_country       director  \\\n",
       "0                США  Кевин Костнер   \n",
       "1               СССР      Е.Матвеев   \n",
       "\n",
       "                                    producer                age_restriction  \\\n",
       "0  Дэвид Валдес, Кевин Костнер, Джейк Эбертс    «18+» - запрещено для детей   \n",
       "1                                        NaN  «6+» - для детей старше 6 лет   \n",
       "\n",
       "   refundable_support  nonrefundable_support  budget financing_source  \\\n",
       "0                 NaN                    NaN     NaN              NaN   \n",
       "1                 NaN                    NaN     NaN              NaN   \n",
       "\n",
       "   ratings                  genres  \n",
       "0      7.2  боевик,драма,мелодрама  \n",
       "1      6.6           драма,военный  "
      ]
     },
     "metadata": {},
     "output_type": "display_data"
    }
   ],
   "source": [
    "display(df_movies.head(2))"
   ]
  },
  {
   "cell_type": "code",
   "execution_count": 26,
   "id": "4630b054",
   "metadata": {},
   "outputs": [
    {
     "name": "stdout",
     "output_type": "stream",
     "text": [
      "<class 'pandas.core.frame.DataFrame'>\n",
      "RangeIndex: 7486 entries, 0 to 7485\n",
      "Data columns (total 15 columns):\n",
      "title                    7486 non-null object\n",
      "release_doc_number       7486 non-null int64\n",
      "show_start_date          7486 non-null datetime64[ns, UTC]\n",
      "type                     7486 non-null object\n",
      "film_studio              7468 non-null object\n",
      "production_country       7484 non-null object\n",
      "director                 7477 non-null object\n",
      "producer                 6918 non-null object\n",
      "age_restriction          7486 non-null object\n",
      "refundable_support       332 non-null float64\n",
      "nonrefundable_support    332 non-null float64\n",
      "budget                   332 non-null float64\n",
      "financing_source         332 non-null object\n",
      "ratings                  6519 non-null float64\n",
      "genres                   6510 non-null object\n",
      "dtypes: datetime64[ns, UTC](1), float64(4), int64(1), object(9)\n",
      "memory usage: 877.4+ KB\n"
     ]
    }
   ],
   "source": [
    "df_movies.info()"
   ]
  },
  {
   "cell_type": "code",
   "execution_count": 27,
   "id": "89ff5d93",
   "metadata": {},
   "outputs": [
    {
     "name": "stdout",
     "output_type": "stream",
     "text": [
      "[nan 'Министерство культуры' 'Фонд кино'\n",
      " 'Министерство культуры, Фонд кино']\n"
     ]
    }
   ],
   "source": [
    "print(df_movies['financing_source'].unique())"
   ]
  },
  {
   "cell_type": "code",
   "execution_count": 28,
   "id": "ab45cae2",
   "metadata": {},
   "outputs": [
    {
     "name": "stdout",
     "output_type": "stream",
     "text": [
      "[           nan 2.65000000e+07 2.60000000e+07 1.07847945e+08\n",
      " 2.80000000e+07 2.50000000e+07 1.00000000e+08 4.65022990e+07\n",
      " 7.50000000e+07 3.40000000e+07 3.00000000e+07 4.00000000e+07\n",
      " 2.30000000e+07 4.50000000e+07 5.65790550e+07 2.55000000e+07\n",
      " 2.75100000e+07 1.00000000e+07 2.40000000e+07 2.45000000e+07\n",
      " 2.70000000e+07 5.00000000e+06 9.00000000e+07 2.00000000e+07\n",
      " 7.00000000e+07 9.70000000e+07 2.44500000e+07 5.00000000e+07\n",
      " 0.00000000e+00 6.00000000e+07 2.75000000e+07 2.69500000e+07\n",
      " 1.10000000e+08 1.50000000e+07 5.90000000e+07 2.50000000e+08\n",
      " 3.70000000e+07 3.50000000e+07 2.01452850e+07 2.59000000e+07\n",
      " 6.00000000e+06 3.92104482e+08 2.52000000e+07 2.29040000e+07\n",
      " 2.90000000e+07 5.10000000e+07 4.70000000e+06 5.30000000e+06\n",
      " 2.17000000e+07 2.49860000e+07 2.53450000e+07 1.33000000e+08\n",
      " 1.75000000e+08 3.01239150e+07 2.85000000e+07 3.00000000e+08\n",
      " 4.15000000e+07 2.00000000e+08 1.50000000e+08 5.50000000e+07\n",
      " 6.40000000e+07 5.00008660e+07 1.15200000e+07 1.90000000e+08\n",
      " 2.25000000e+08 8.00000000e+06 4.00000000e+08 2.60000000e+08\n",
      " 3.10000000e+07 8.50000000e+07 8.00000000e+07 1.38969465e+08\n",
      " 1.20000000e+08 1.30000000e+08 1.40000000e+08 3.00000000e+06]\n"
     ]
    }
   ],
   "source": [
    "print(df_movies['nonrefundable_support'].unique())"
   ]
  },
  {
   "cell_type": "code",
   "execution_count": 29,
   "id": "b74b45c9",
   "metadata": {},
   "outputs": [
    {
     "name": "stdout",
     "output_type": "stream",
     "text": [
      "Бен Блейн, Крис Блейн                                                    1\n",
      "Дастин Хоффман                                                           1\n",
      "Дэн Фогельман                                                            1\n",
      "Ю.Суходольский                                                           1\n",
      "Том Ван Авермат, Брайан Бакли, Ян Ингленд, Шон Кристенсен, Сэм Френч     1\n",
      "                                                                        ..\n",
      "Тиль Швайгер                                                            14\n",
      "Ридли Скотт                                                             16\n",
      "Стивен Содерберг                                                        17\n",
      "Д.Червяцов                                                              17\n",
      "О.Семёнова                                                              47\n",
      "Name: director, Length: 4811, dtype: int64\n"
     ]
    }
   ],
   "source": [
    "print(df_movies['director'].value_counts().sort_values())"
   ]
  },
  {
   "cell_type": "markdown",
   "id": "7ddda29f",
   "metadata": {},
   "source": [
    "В большинстве строк содержатся пропущенные значения."
   ]
  },
  {
   "cell_type": "markdown",
   "id": "1fb981c9",
   "metadata": {},
   "source": [
    "#### Вывод"
   ]
  },
  {
   "cell_type": "markdown",
   "id": "39c85088",
   "metadata": {},
   "source": [
    "Большинство пропусков оставлены незаполненными,т.к. чаще всего это пропуски в названиях, которые мы не можем заполнить, либо могут исказить выборку, создав аномалмии. "
   ]
  },
  {
   "cell_type": "markdown",
   "id": "9687fc30",
   "metadata": {},
   "source": [
    "### Обработка дубликатов"
   ]
  },
  {
   "cell_type": "markdown",
   "id": "bb350acc",
   "metadata": {},
   "source": [
    "Изучим, имеются ли явные дубликаты в таблице `df_movies`:"
   ]
  },
  {
   "cell_type": "code",
   "execution_count": 30,
   "id": "7a734f05",
   "metadata": {},
   "outputs": [
    {
     "name": "stdout",
     "output_type": "stream",
     "text": [
      "0\n"
     ]
    }
   ],
   "source": [
    "print(df_movies.duplicated().sum())"
   ]
  },
  {
   "cell_type": "code",
   "execution_count": 31,
   "id": "937d231f",
   "metadata": {},
   "outputs": [
    {
     "name": "stdout",
     "output_type": "stream",
     "text": [
      "0\n"
     ]
    }
   ],
   "source": [
    "print(df_shows.duplicated().sum())"
   ]
  },
  {
   "cell_type": "markdown",
   "id": "be045b7a",
   "metadata": {},
   "source": [
    "Не обнаружено явных дубликатов. Посмотрим, какие есть особенности в данных, возможно, там найдутся дубликаты.\n",
    "\n",
    "Изучим, есть ли дубликаты в столбце номеров прокатного удостоверения:"
   ]
  },
  {
   "cell_type": "code",
   "execution_count": 32,
   "id": "f72e9abe",
   "metadata": {},
   "outputs": [
    {
     "name": "stdout",
     "output_type": "stream",
     "text": [
      "0\n"
     ]
    }
   ],
   "source": [
    "print(df_shows['release_doc_number'].duplicated().sum())"
   ]
  },
  {
   "cell_type": "code",
   "execution_count": 33,
   "id": "5c930434",
   "metadata": {},
   "outputs": [
    {
     "name": "stdout",
     "output_type": "stream",
     "text": [
      "3\n"
     ]
    }
   ],
   "source": [
    "print(df_movies['release_doc_number'].duplicated().sum())"
   ]
  },
  {
   "cell_type": "code",
   "execution_count": 34,
   "id": "d7d73ecf",
   "metadata": {},
   "outputs": [
    {
     "data": {
      "text/html": [
       "<div>\n",
       "<style scoped>\n",
       "    .dataframe tbody tr th:only-of-type {\n",
       "        vertical-align: middle;\n",
       "    }\n",
       "\n",
       "    .dataframe tbody tr th {\n",
       "        vertical-align: top;\n",
       "    }\n",
       "\n",
       "    .dataframe thead th {\n",
       "        text-align: right;\n",
       "    }\n",
       "</style>\n",
       "<table border=\"1\" class=\"dataframe\">\n",
       "  <thead>\n",
       "    <tr style=\"text-align: right;\">\n",
       "      <th></th>\n",
       "      <th>title</th>\n",
       "      <th>release_doc_number</th>\n",
       "      <th>show_start_date</th>\n",
       "      <th>type</th>\n",
       "      <th>film_studio</th>\n",
       "      <th>production_country</th>\n",
       "      <th>director</th>\n",
       "      <th>producer</th>\n",
       "      <th>age_restriction</th>\n",
       "      <th>refundable_support</th>\n",
       "      <th>nonrefundable_support</th>\n",
       "      <th>budget</th>\n",
       "      <th>financing_source</th>\n",
       "      <th>ratings</th>\n",
       "      <th>genres</th>\n",
       "    </tr>\n",
       "  </thead>\n",
       "  <tbody>\n",
       "    <tr>\n",
       "      <td>1797</td>\n",
       "      <td>Курбан-роман. (История с жертвой)</td>\n",
       "      <td>0</td>\n",
       "      <td>2014-05-15 12:00:00+00:00</td>\n",
       "      <td>Художественный</td>\n",
       "      <td>ФОНД \"ИННОВАЦИЯ\"</td>\n",
       "      <td>Россия</td>\n",
       "      <td>С.Юзеев</td>\n",
       "      <td>М.Галицкая</td>\n",
       "      <td>«12+» - для детей старше 12 лет</td>\n",
       "      <td>NaN</td>\n",
       "      <td>NaN</td>\n",
       "      <td>NaN</td>\n",
       "      <td>NaN</td>\n",
       "      <td>NaN</td>\n",
       "      <td>NaN</td>\n",
       "    </tr>\n",
       "    <tr>\n",
       "      <td>4639</td>\n",
       "      <td>Иоанна - женщина на папском престоле /По роман...</td>\n",
       "      <td>221154310</td>\n",
       "      <td>2010-12-17 12:00:00+00:00</td>\n",
       "      <td>Художественный</td>\n",
       "      <td>Константин Фильм, А Эр Ди Дегето Фильм, Дюне ...</td>\n",
       "      <td>Германия - Великобритания - Италия - Испания</td>\n",
       "      <td>Зенке Вортманн</td>\n",
       "      <td>Оливер Бербен, Дорис Д.Хайнце, Фарук Элтан</td>\n",
       "      <td>«16+» - для детей старше 16 лет</td>\n",
       "      <td>NaN</td>\n",
       "      <td>NaN</td>\n",
       "      <td>NaN</td>\n",
       "      <td>NaN</td>\n",
       "      <td>7.6</td>\n",
       "      <td>драма,мелодрама,история</td>\n",
       "    </tr>\n",
       "    <tr>\n",
       "      <td>5068</td>\n",
       "      <td>Анализируй то!</td>\n",
       "      <td>221054410</td>\n",
       "      <td>2010-05-25 12:00:00+00:00</td>\n",
       "      <td>Художественный</td>\n",
       "      <td>Уорнер Бразерс, Виллидж Роадшоу Пикчерз, Эн-Пи...</td>\n",
       "      <td>США</td>\n",
       "      <td>Гарольд Реймис</td>\n",
       "      <td>Джейн Розенталь, Паул Уэйнстейн</td>\n",
       "      <td>«12+» - для детей старше 12 лет</td>\n",
       "      <td>NaN</td>\n",
       "      <td>NaN</td>\n",
       "      <td>NaN</td>\n",
       "      <td>NaN</td>\n",
       "      <td>6.8</td>\n",
       "      <td>комедия,криминал</td>\n",
       "    </tr>\n",
       "  </tbody>\n",
       "</table>\n",
       "</div>"
      ],
      "text/plain": [
       "                                                  title  release_doc_number  \\\n",
       "1797                  Курбан-роман. (История с жертвой)                   0   \n",
       "4639  Иоанна - женщина на папском престоле /По роман...           221154310   \n",
       "5068                                     Анализируй то!           221054410   \n",
       "\n",
       "               show_start_date            type  \\\n",
       "1797 2014-05-15 12:00:00+00:00  Художественный   \n",
       "4639 2010-12-17 12:00:00+00:00  Художественный   \n",
       "5068 2010-05-25 12:00:00+00:00  Художественный   \n",
       "\n",
       "                                            film_studio  \\\n",
       "1797                                   ФОНД \"ИННОВАЦИЯ\"   \n",
       "4639   Константин Фильм, А Эр Ди Дегето Фильм, Дюне ...   \n",
       "5068  Уорнер Бразерс, Виллидж Роадшоу Пикчерз, Эн-Пи...   \n",
       "\n",
       "                                production_country        director  \\\n",
       "1797                                        Россия         С.Юзеев   \n",
       "4639  Германия - Великобритания - Италия - Испания  Зенке Вортманн   \n",
       "5068                                           США  Гарольд Реймис   \n",
       "\n",
       "                                        producer  \\\n",
       "1797                                  М.Галицкая   \n",
       "4639  Оливер Бербен, Дорис Д.Хайнце, Фарук Элтан   \n",
       "5068             Джейн Розенталь, Паул Уэйнстейн   \n",
       "\n",
       "                      age_restriction  refundable_support  \\\n",
       "1797  «12+» - для детей старше 12 лет                 NaN   \n",
       "4639  «16+» - для детей старше 16 лет                 NaN   \n",
       "5068  «12+» - для детей старше 12 лет                 NaN   \n",
       "\n",
       "      nonrefundable_support  budget financing_source  ratings  \\\n",
       "1797                    NaN     NaN              NaN      NaN   \n",
       "4639                    NaN     NaN              NaN      7.6   \n",
       "5068                    NaN     NaN              NaN      6.8   \n",
       "\n",
       "                       genres  \n",
       "1797                      NaN  \n",
       "4639  драма,мелодрама,история  \n",
       "5068         комедия,криминал  "
      ]
     },
     "metadata": {},
     "output_type": "display_data"
    }
   ],
   "source": [
    "display(df_movies[df_movies['release_doc_number'].duplicated()])"
   ]
  },
  {
   "cell_type": "markdown",
   "id": "993eb8cc",
   "metadata": {},
   "source": [
    "Почему-то первый номер релиза посчитался ка дубликат, но по двум остальным понятно, что это разные фильмы с одним регистрационным номером проката. Вероятнее всего, это ошибка в номере проката.\n",
    "\n",
    "Посчитаем дубликаты в названиях фильмов `title`:"
   ]
  },
  {
   "cell_type": "code",
   "execution_count": 35,
   "id": "1a88375d",
   "metadata": {},
   "outputs": [
    {
     "name": "stdout",
     "output_type": "stream",
     "text": [
      "714\n"
     ]
    }
   ],
   "source": [
    "print(df_movies['title'].duplicated().sum())"
   ]
  },
  {
   "cell_type": "markdown",
   "id": "467c54ec",
   "metadata": {},
   "source": [
    "А среди названий дубликатов много. Разные прокатные номера могут быть связаны с тем, что фильм показывают разные прокатчики или в разных форматах. Попробуем найти еще дубликаты, приведя данные к одному регистру."
   ]
  },
  {
   "cell_type": "code",
   "execution_count": 36,
   "id": "9087c9c1",
   "metadata": {},
   "outputs": [
    {
     "name": "stdout",
     "output_type": "stream",
     "text": [
      "724\n"
     ]
    }
   ],
   "source": [
    "df_movies['title'] = df_movies['title'].str.lower()\n",
    "print(df_movies['title'].duplicated().sum())"
   ]
  },
  {
   "cell_type": "markdown",
   "id": "edd5b2da",
   "metadata": {},
   "source": [
    "И еще 10 дубликатов нашлось."
   ]
  },
  {
   "cell_type": "markdown",
   "id": "58c03dad",
   "metadata": {},
   "source": [
    "#### Вывод"
   ]
  },
  {
   "cell_type": "markdown",
   "id": "17e5a878",
   "metadata": {},
   "source": [
    "Я решила, что фильмы с различными прокатными лицензиями следует считать по-разному, поэтому не стала объединять дубликаты в один фильм и нужно их считать по-разному."
   ]
  },
  {
   "cell_type": "markdown",
   "id": "2ea5d1ae",
   "metadata": {},
   "source": [
    "### Категориальные данные"
   ]
  },
  {
   "cell_type": "markdown",
   "id": "7da8abbe",
   "metadata": {},
   "source": [
    "Изучим столбцы, которые содержат категориальные данные"
   ]
  },
  {
   "cell_type": "code",
   "execution_count": 37,
   "id": "f6394e1f",
   "metadata": {},
   "outputs": [
    {
     "name": "stdout",
     "output_type": "stream",
     "text": [
      "США                                                    2172\n",
      "Россия                                                 1821\n",
      "СССР                                                    347\n",
      "Франция                                                 301\n",
      "Великобритания                                          257\n",
      "                                                       ... \n",
      "США - Великобритания - Исландия                           1\n",
      "Швейцария-Франция                                         1\n",
      "Россия, Франция, Латвия                                   1\n",
      "Россия, Испания                                           1\n",
      "США - Великобритания - Германия - - Швеция - Канада       1\n",
      "Name: production_country, Length: 950, dtype: int64\n"
     ]
    }
   ],
   "source": [
    "print(df_movies['production_country'].value_counts())"
   ]
  },
  {
   "cell_type": "markdown",
   "id": "597f2bac",
   "metadata": {},
   "source": [
    "По срезу этой колонки видно, что данные содержат по несколько стран, которые повторяются в различных вариациях."
   ]
  },
  {
   "cell_type": "code",
   "execution_count": 38,
   "id": "e79ed329",
   "metadata": {},
   "outputs": [
    {
     "name": "stdout",
     "output_type": "stream",
     "text": [
      "драма                               476\n",
      "комедия                             352\n",
      "мелодрама,комедия                   222\n",
      "драма,мелодрама,комедия             189\n",
      "драма,мелодрама                     183\n",
      "                                   ... \n",
      "фантастика,комедия,боевик             1\n",
      "документальный,триллер,биография      1\n",
      "мюзикл,мелодрама,фэнтези              1\n",
      "драма,спорт,боевик                    1\n",
      "мультфильм,детский,комедия            1\n",
      "Name: genres, Length: 742, dtype: int64\n"
     ]
    }
   ],
   "source": [
    "print(df_movies['genres'].value_counts())"
   ]
  },
  {
   "cell_type": "markdown",
   "id": "2f6c5827",
   "metadata": {},
   "source": [
    "Аналогичная картина для графы жанров, это списки жанров с повторяющимися словами"
   ]
  },
  {
   "cell_type": "code",
   "execution_count": 39,
   "id": "fd5ac567",
   "metadata": {},
   "outputs": [
    {
     "name": "stdout",
     "output_type": "stream",
     "text": [
      "«16+» - для детей старше 16 лет           2851\n",
      "«18+» - запрещено для детей               1605\n",
      "«12+» - для детей старше 12 лет           1593\n",
      "«0+» - для любой зрительской аудитории     811\n",
      "«6+» - для детей старше 6 лет              626\n",
      "Name: age_restriction, dtype: int64\n"
     ]
    }
   ],
   "source": [
    "print(df_movies['age_restriction'].value_counts())"
   ]
  },
  {
   "cell_type": "markdown",
   "id": "bebc028a",
   "metadata": {},
   "source": [
    "Колонка `age_restriction` гораздо понятнее, чем предыдущие, но все же, с ней по-прежнему трудно работать: я бы отделила возраст в отдельный, численный столбец, а вторую часть строки оставила бы как описание."
   ]
  },
  {
   "cell_type": "code",
   "execution_count": 40,
   "id": "a6bb0977",
   "metadata": {},
   "outputs": [
    {
     "name": "stdout",
     "output_type": "stream",
     "text": [
      "['Художественный' 'Анимационный' 'Прочие' 'Документальный'\n",
      " 'Научно-популярный' ' Художественный' ' Анимационный'\n",
      " 'Музыкально-развлекательный']\n"
     ]
    }
   ],
   "source": [
    "print(df_movies['type'].unique())"
   ]
  },
  {
   "cell_type": "markdown",
   "id": "12def0ac",
   "metadata": {},
   "source": [
    "Некоторые слова дублируются в виде названий с пробелами. Исправим это."
   ]
  },
  {
   "cell_type": "code",
   "execution_count": 41,
   "id": "d5aac857",
   "metadata": {},
   "outputs": [],
   "source": [
    "df_movies['type'] = df_movies['type'].where(df_movies['type']!=' Художественный', 'Художественный')"
   ]
  },
  {
   "cell_type": "code",
   "execution_count": 42,
   "id": "3c504664",
   "metadata": {},
   "outputs": [],
   "source": [
    "df_movies['type'] = df_movies['type'].where(df_movies['type']!=' Анимационный', 'Анимационный')"
   ]
  },
  {
   "cell_type": "code",
   "execution_count": 43,
   "id": "478fa5e3",
   "metadata": {},
   "outputs": [
    {
     "name": "stdout",
     "output_type": "stream",
     "text": [
      "['Художественный' 'Анимационный' 'Прочие' 'Документальный'\n",
      " 'Научно-популярный' 'Музыкально-развлекательный']\n"
     ]
    }
   ],
   "source": [
    "print(df_movies['type'].unique())"
   ]
  },
  {
   "cell_type": "markdown",
   "id": "64e43e3b",
   "metadata": {},
   "source": [
    "Теперь повторяющихся значений в столбце `type` нет."
   ]
  },
  {
   "cell_type": "code",
   "execution_count": 44,
   "id": "88e3ebcd",
   "metadata": {},
   "outputs": [
    {
     "name": "stdout",
     "output_type": "stream",
     "text": [
      "Студия \"Беларусьфильм\", ООО \"Централ Партнершип\"                                                                                                                                          1\n",
      "Би-Би-Си, Кросс Стрит Филмз, Перфект Ворлд Пикчерз                                                                                                                                        1\n",
      "Эй Джи Си Студиос, Центрополис Интертейнмент, Интертейнмент Ван, Ру Йи Медиа, Старлайт Калчер Интертейнмент, Стрит Интертейнмент, Марк Гордон Компани                                     1\n",
      "Ле Фильм де Турней, Патэ, Оранж Студио, Алви Дистрибусьон, Франс 2 Синема, Кофимаж 24, Софисинема 9, Банк Популер Имаж 6, Синемаж 7, Франс Телевизьон, Канал +, Сине +, Иль де Франс      1\n",
      "Адам Шредер Продакшнз, Дэвис Интертейнмент                                                                                                                                                1\n",
      "                                                                                                                                                                                       ... \n",
      "ФГУП \"ТПО \"Киностудия \"Союзмультфильм\"                                                                                                                                                   16\n",
      "ООО \"Мульт в кино\"                                                                                                                                                                       18\n",
      "Анимаккорд Лтд                                                                                                                                                                           23\n",
      "ООО \"Мульт в кино\"                                                                                                                                                                       57\n",
      "Киностудия \"Мосфильм\"                                                                                                                                                                   341\n",
      "Name: film_studio, Length: 5490, dtype: int64\n"
     ]
    }
   ],
   "source": [
    "print(df_movies['film_studio'].value_counts().sort_values())"
   ]
  },
  {
   "cell_type": "markdown",
   "id": "5aaa6a2e",
   "metadata": {},
   "source": [
    "Здесь есть одинаковые названия киностудий, которые посчитаны как уникальные - скорее всего, из-за пробелов"
   ]
  },
  {
   "cell_type": "code",
   "execution_count": 45,
   "id": "a8815d6d",
   "metadata": {},
   "outputs": [
    {
     "name": "stdout",
     "output_type": "stream",
     "text": [
      "Министерство культуры               164\n",
      "Фонд кино                           146\n",
      "Министерство культуры, Фонд кино     22\n",
      "Name: financing_source, dtype: int64\n"
     ]
    }
   ],
   "source": [
    "print(df_movies['financing_source'].value_counts())"
   ]
  },
  {
   "cell_type": "markdown",
   "id": "7a78e09b",
   "metadata": {},
   "source": [
    "Фильмы спонсируют фонды в по-отдельности и одновременно."
   ]
  },
  {
   "cell_type": "code",
   "execution_count": 46,
   "id": "4d00a001",
   "metadata": {},
   "outputs": [
    {
     "name": "stdout",
     "output_type": "stream",
     "text": [
      "П.Смирнов                                                               67\n",
      "Олег Кузовков, Дмитрий Ловейко, Марина Ратина                           28\n",
      "С.Сельянов                                                              18\n",
      "Д.Ловейко, О.Кузовков                                                   17\n",
      "Джерри Брукхаймер                                                       11\n",
      "                                                                        ..\n",
      "Камаль Бансаль                                                           1\n",
      "Аарон Барнетт, Эри Лантос, Роберт Лантош                                 1\n",
      "Винсент Витторио, Ливия Джуджолли, Майкл Росс, Люси Сигл, Крис Харви     1\n",
      "Роберт Бенмусса, Роман Полански, Ален Сард                               1\n",
      "Джулиус Р.Нассо, Стивен Сигал                                            1\n",
      "Name: producer, Length: 5349, dtype: int64\n"
     ]
    }
   ],
   "source": [
    "print(df_movies['producer'].value_counts())"
   ]
  },
  {
   "cell_type": "code",
   "execution_count": 47,
   "id": "3220a19e",
   "metadata": {},
   "outputs": [
    {
     "name": "stdout",
     "output_type": "stream",
     "text": [
      "день святого валентина_                                        5\n",
      "гарри поттер и дары смерти - часть 1/по роману дж.к.ролинг/    4\n",
      "рапунцель: запутанная история                                  4\n",
      "знакомство с факерами 2.                                       4\n",
      "безумцы                                                        4\n",
      "                                                              ..\n",
      "землетрясение /по произведению су сяо вея/                     1\n",
      "зеленая карета                                                 1\n",
      "последний самурай                                              1\n",
      "мой парень - киллер                                            1\n",
      "самая одинокая планета /по рассказу тома бисселла/             1\n",
      "Name: title, Length: 6762, dtype: int64\n"
     ]
    }
   ],
   "source": [
    "print(df_movies['title'].value_counts())"
   ]
  },
  {
   "cell_type": "markdown",
   "id": "711b720d",
   "metadata": {},
   "source": [
    "Некоторые фильмы повторяются. Позже можно будет изучить причину таких повторов."
   ]
  },
  {
   "cell_type": "markdown",
   "id": "db2d55f4",
   "metadata": {},
   "source": [
    "Разделим таблицу на две, в одну из них положим категориальные данные(`release_doc_number`, `title`, `type`, `film_studio`, `production_country`, `director`, `producer`, `financing_source`, `genres`), в другую колличественные, а общим столбцом выберем release_doc_number"
   ]
  },
  {
   "cell_type": "code",
   "execution_count": 48,
   "id": "ccebcd2f",
   "metadata": {},
   "outputs": [],
   "source": [
    "movies_info = df_movies[['release_doc_number', 'title', 'type', 'film_studio', 'production_country', 'director', 'producer', 'age_restriction','financing_source', 'genres']]"
   ]
  },
  {
   "cell_type": "code",
   "execution_count": 49,
   "id": "87e3ceab",
   "metadata": {},
   "outputs": [
    {
     "data": {
      "text/html": [
       "<div>\n",
       "<style scoped>\n",
       "    .dataframe tbody tr th:only-of-type {\n",
       "        vertical-align: middle;\n",
       "    }\n",
       "\n",
       "    .dataframe tbody tr th {\n",
       "        vertical-align: top;\n",
       "    }\n",
       "\n",
       "    .dataframe thead th {\n",
       "        text-align: right;\n",
       "    }\n",
       "</style>\n",
       "<table border=\"1\" class=\"dataframe\">\n",
       "  <thead>\n",
       "    <tr style=\"text-align: right;\">\n",
       "      <th></th>\n",
       "      <th>release_doc_number</th>\n",
       "      <th>title</th>\n",
       "      <th>type</th>\n",
       "      <th>film_studio</th>\n",
       "      <th>production_country</th>\n",
       "      <th>director</th>\n",
       "      <th>producer</th>\n",
       "      <th>age_restriction</th>\n",
       "      <th>financing_source</th>\n",
       "      <th>genres</th>\n",
       "    </tr>\n",
       "  </thead>\n",
       "  <tbody>\n",
       "    <tr>\n",
       "      <td>0</td>\n",
       "      <td>221048915</td>\n",
       "      <td>открытый простор</td>\n",
       "      <td>Художественный</td>\n",
       "      <td>Тачстоун Пикчерз, Кобальт Пикчерз, Бикон Пикче...</td>\n",
       "      <td>США</td>\n",
       "      <td>Кевин Костнер</td>\n",
       "      <td>Дэвид Валдес, Кевин Костнер, Джейк Эбертс</td>\n",
       "      <td>«18+» - запрещено для детей</td>\n",
       "      <td>NaN</td>\n",
       "      <td>боевик,драма,мелодрама</td>\n",
       "    </tr>\n",
       "    <tr>\n",
       "      <td>1</td>\n",
       "      <td>111013716</td>\n",
       "      <td>особо важное задание</td>\n",
       "      <td>Художественный</td>\n",
       "      <td>Киностудия \"Мосфильм\"</td>\n",
       "      <td>СССР</td>\n",
       "      <td>Е.Матвеев</td>\n",
       "      <td>NaN</td>\n",
       "      <td>«6+» - для детей старше 6 лет</td>\n",
       "      <td>NaN</td>\n",
       "      <td>драма,военный</td>\n",
       "    </tr>\n",
       "    <tr>\n",
       "      <td>2</td>\n",
       "      <td>221038416</td>\n",
       "      <td>особо опасен</td>\n",
       "      <td>Художественный</td>\n",
       "      <td>Юниверсал Пикчерз, Кикстарт Продакшнз, Марк Пл...</td>\n",
       "      <td>США</td>\n",
       "      <td>Тимур Бекмамбетов</td>\n",
       "      <td>Джим Лемли, Джейсон Нетер, Марк Е.Платт, Яйн Смит</td>\n",
       "      <td>«18+» - запрещено для детей</td>\n",
       "      <td>NaN</td>\n",
       "      <td>фантастика,боевик,триллер</td>\n",
       "    </tr>\n",
       "  </tbody>\n",
       "</table>\n",
       "</div>"
      ],
      "text/plain": [
       "   release_doc_number                 title            type  \\\n",
       "0           221048915      открытый простор  Художественный   \n",
       "1           111013716  особо важное задание  Художественный   \n",
       "2           221038416          особо опасен  Художественный   \n",
       "\n",
       "                                         film_studio production_country  \\\n",
       "0  Тачстоун Пикчерз, Кобальт Пикчерз, Бикон Пикче...                США   \n",
       "1                              Киностудия \"Мосфильм\"               СССР   \n",
       "2  Юниверсал Пикчерз, Кикстарт Продакшнз, Марк Пл...                США   \n",
       "\n",
       "            director                                           producer  \\\n",
       "0      Кевин Костнер          Дэвид Валдес, Кевин Костнер, Джейк Эбертс   \n",
       "1          Е.Матвеев                                                NaN   \n",
       "2  Тимур Бекмамбетов  Джим Лемли, Джейсон Нетер, Марк Е.Платт, Яйн Смит   \n",
       "\n",
       "                 age_restriction financing_source                     genres  \n",
       "0    «18+» - запрещено для детей              NaN     боевик,драма,мелодрама  \n",
       "1  «6+» - для детей старше 6 лет              NaN              драма,военный  \n",
       "2    «18+» - запрещено для детей              NaN  фантастика,боевик,триллер  "
      ]
     },
     "metadata": {},
     "output_type": "display_data"
    }
   ],
   "source": [
    "display(movies_info.head(3))"
   ]
  },
  {
   "cell_type": "markdown",
   "id": "f36e922c",
   "metadata": {},
   "source": [
    "Такую таблицу стало гораздо удобнее изучать"
   ]
  },
  {
   "cell_type": "markdown",
   "id": "567fa10f",
   "metadata": {},
   "source": [
    "#### Вывод"
   ]
  },
  {
   "cell_type": "markdown",
   "id": "d930d7ac",
   "metadata": {},
   "source": [
    "В общем категориальные данные объединяет то, что уникальных значений очень много, и их можно бы оптимизировать, выделив важные нам категории и сгруппировать по ним строки. Например, все фильмы, произведенные в России."
   ]
  },
  {
   "cell_type": "markdown",
   "id": "9e0ab47c",
   "metadata": {},
   "source": [
    "### Количественные переменные"
   ]
  },
  {
   "cell_type": "markdown",
   "id": "b47188b6",
   "metadata": {},
   "source": [
    "Теперь изучим количеcтвенные данные."
   ]
  },
  {
   "cell_type": "markdown",
   "id": "c3c2debb",
   "metadata": {},
   "source": [
    "Создадим переменную, в которой будет храниться срез таблицы `df_movies`, состоящий из колличественных данных:"
   ]
  },
  {
   "cell_type": "code",
   "execution_count": 50,
   "id": "f0b630ce",
   "metadata": {},
   "outputs": [],
   "source": [
    "movies_stat = df_movies[['release_doc_number', 'show_start_date', 'refundable_support', 'nonrefundable_support', 'budget', 'ratings']]"
   ]
  },
  {
   "cell_type": "code",
   "execution_count": 51,
   "id": "5d384b04",
   "metadata": {},
   "outputs": [
    {
     "data": {
      "text/html": [
       "<div>\n",
       "<style scoped>\n",
       "    .dataframe tbody tr th:only-of-type {\n",
       "        vertical-align: middle;\n",
       "    }\n",
       "\n",
       "    .dataframe tbody tr th {\n",
       "        vertical-align: top;\n",
       "    }\n",
       "\n",
       "    .dataframe thead th {\n",
       "        text-align: right;\n",
       "    }\n",
       "</style>\n",
       "<table border=\"1\" class=\"dataframe\">\n",
       "  <thead>\n",
       "    <tr style=\"text-align: right;\">\n",
       "      <th></th>\n",
       "      <th>release_doc_number</th>\n",
       "      <th>show_start_date</th>\n",
       "      <th>refundable_support</th>\n",
       "      <th>nonrefundable_support</th>\n",
       "      <th>budget</th>\n",
       "      <th>ratings</th>\n",
       "    </tr>\n",
       "  </thead>\n",
       "  <tbody>\n",
       "    <tr>\n",
       "      <td>0</td>\n",
       "      <td>221048915</td>\n",
       "      <td>2015-11-27 12:00:00+00:00</td>\n",
       "      <td>NaN</td>\n",
       "      <td>NaN</td>\n",
       "      <td>NaN</td>\n",
       "      <td>7.2</td>\n",
       "    </tr>\n",
       "    <tr>\n",
       "      <td>1</td>\n",
       "      <td>111013716</td>\n",
       "      <td>2016-09-13 12:00:00+00:00</td>\n",
       "      <td>NaN</td>\n",
       "      <td>NaN</td>\n",
       "      <td>NaN</td>\n",
       "      <td>6.6</td>\n",
       "    </tr>\n",
       "    <tr>\n",
       "      <td>2</td>\n",
       "      <td>221038416</td>\n",
       "      <td>2016-10-10 12:00:00+00:00</td>\n",
       "      <td>NaN</td>\n",
       "      <td>NaN</td>\n",
       "      <td>NaN</td>\n",
       "      <td>6.8</td>\n",
       "    </tr>\n",
       "  </tbody>\n",
       "</table>\n",
       "</div>"
      ],
      "text/plain": [
       "   release_doc_number           show_start_date  refundable_support  \\\n",
       "0           221048915 2015-11-27 12:00:00+00:00                 NaN   \n",
       "1           111013716 2016-09-13 12:00:00+00:00                 NaN   \n",
       "2           221038416 2016-10-10 12:00:00+00:00                 NaN   \n",
       "\n",
       "   nonrefundable_support  budget  ratings  \n",
       "0                    NaN     NaN      7.2  \n",
       "1                    NaN     NaN      6.6  \n",
       "2                    NaN     NaN      6.8  "
      ]
     },
     "metadata": {},
     "output_type": "display_data"
    }
   ],
   "source": [
    "display(movies_stat.head(3))"
   ]
  },
  {
   "cell_type": "code",
   "execution_count": 52,
   "id": "5b20590b",
   "metadata": {},
   "outputs": [
    {
     "name": "stdout",
     "output_type": "stream",
     "text": [
      "Уникальные значения столбца budget , и частота их встречаемости:\n",
      "0.0           17\n",
      "38000000.0     6\n",
      "80000000.0     4\n",
      "50000000.0     4\n",
      "37142857.0     3\n",
      "              ..\n",
      "74071918.0     1\n",
      "48571430.0     1\n",
      "69883049.0     1\n",
      "51196711.0     1\n",
      "46923776.0     1\n",
      "Name: budget, Length: 290, dtype: int64\n",
      "\n",
      "Уникальные значения столбца refundable_support , и частота их встречаемости:\n",
      "0.0            221\n",
      "20000000.0      12\n",
      "25000000.0      10\n",
      "10000000.0      10\n",
      "15000000.0       9\n",
      "5000000.0        9\n",
      "50000000.0       8\n",
      "40000000.0       8\n",
      "30000000.0       7\n",
      "60000000.0       6\n",
      "100000000.0      5\n",
      "110000000.0      2\n",
      "55000000.0       2\n",
      "75000000.0       2\n",
      "19000000.0       2\n",
      "115000000.0      1\n",
      "8000000.0        1\n",
      "7346881.0        1\n",
      "44000000.0       1\n",
      "28000000.0       1\n",
      "7153119.0        1\n",
      "26000000.0       1\n",
      "41000000.0       1\n",
      "17000000.0       1\n",
      "150000000.0      1\n",
      "36000000.0       1\n",
      "38000000.0       1\n",
      "180000000.0      1\n",
      "9000000.0        1\n",
      "3500000.0        1\n",
      "35000000.0       1\n",
      "80000000.0       1\n",
      "29000000.0       1\n",
      "7000000.0        1\n",
      "Name: refundable_support, dtype: int64\n",
      "\n",
      "Уникальные значения столбца nonrefundable_support , и частота их встречаемости:\n",
      "25000000.0     53\n",
      "30000000.0     48\n",
      "35000000.0     29\n",
      "40000000.0     26\n",
      "20000000.0     19\n",
      "               ..\n",
      "3000000.0       1\n",
      "51000000.0      1\n",
      "22904000.0      1\n",
      "50000866.0      1\n",
      "140000000.0     1\n",
      "Name: nonrefundable_support, Length: 75, dtype: int64\n",
      "\n"
     ]
    }
   ],
   "source": [
    "for column in ['budget', 'refundable_support','nonrefundable_support']:\n",
    "    print('Уникальные значения столбца', column, ', и частота их встречаемости:')\n",
    "    print(movies_stat[column].value_counts())\n",
    "    print()"
   ]
  },
  {
   "cell_type": "markdown",
   "id": "18e6238e",
   "metadata": {},
   "source": [
    "Cтранных значений пока не обнаружено в этих данных."
   ]
  },
  {
   "cell_type": "markdown",
   "id": "f0715568",
   "metadata": {},
   "source": [
    "#### Вывод "
   ]
  },
  {
   "cell_type": "markdown",
   "id": "82a11243",
   "metadata": {},
   "source": [
    "Выше при заполнении пропусков были выявлены и исправлены странные значения в количественных данных и заменены на корректные (была замечена строка 'нет' в графе `release_doc_number`). В графе `ratings` пропуски заменили на 'nan', это необходимо было сделать, чтобы обработать данные и привести к одному формату. В графе `release_doc_number` мы заменили строковые данные (у таких фильмов номеров релизов нет) на нули, поскольку прокатное удостоверение с номером 0 нигде не использовалось. Типы данных были заменены с типа `object` на тип `int` в строках `ratings` и `release_doc_number`. В графе `ratings` данные были приведены к одному виду типа float (и данные, представленные процентами были приведены к интервалу 0-1).\n",
    "Столбцы `refundable_support`, `nonrefundable_support` и `budget` имеют тип данных `float`, поэтому там нет посторонних значений."
   ]
  },
  {
   "cell_type": "markdown",
   "id": "fca26058",
   "metadata": {},
   "source": [
    "### Добавление столбцов "
   ]
  },
  {
   "cell_type": "markdown",
   "id": "8f64db7d",
   "metadata": {},
   "source": [
    "Вычислим год проката фильма. Для этого создадим столбец в таблице и заполним его соответствующими значениями года, которые возьмем из графы `show_start_date`"
   ]
  },
  {
   "cell_type": "code",
   "execution_count": 53,
   "id": "649d61dc",
   "metadata": {},
   "outputs": [
    {
     "name": "stderr",
     "output_type": "stream",
     "text": [
      "/opt/conda/lib/python3.7/site-packages/ipykernel_launcher.py:1: SettingWithCopyWarning: \n",
      "A value is trying to be set on a copy of a slice from a DataFrame.\n",
      "Try using .loc[row_indexer,col_indexer] = value instead\n",
      "\n",
      "See the caveats in the documentation: http://pandas.pydata.org/pandas-docs/stable/user_guide/indexing.html#returning-a-view-versus-a-copy\n",
      "  \"\"\"Entry point for launching an IPython kernel.\n"
     ]
    },
    {
     "data": {
      "text/plain": [
       "dtype('int64')"
      ]
     },
     "execution_count": 53,
     "metadata": {},
     "output_type": "execute_result"
    }
   ],
   "source": [
    "movies_stat['year'] = movies_stat['show_start_date'].dt.year\n",
    "movies_stat['year'].dtypes"
   ]
  },
  {
   "cell_type": "code",
   "execution_count": 54,
   "id": "b463bc61",
   "metadata": {},
   "outputs": [
    {
     "data": {
      "text/html": [
       "<div>\n",
       "<style scoped>\n",
       "    .dataframe tbody tr th:only-of-type {\n",
       "        vertical-align: middle;\n",
       "    }\n",
       "\n",
       "    .dataframe tbody tr th {\n",
       "        vertical-align: top;\n",
       "    }\n",
       "\n",
       "    .dataframe thead th {\n",
       "        text-align: right;\n",
       "    }\n",
       "</style>\n",
       "<table border=\"1\" class=\"dataframe\">\n",
       "  <thead>\n",
       "    <tr style=\"text-align: right;\">\n",
       "      <th></th>\n",
       "      <th>release_doc_number</th>\n",
       "      <th>show_start_date</th>\n",
       "      <th>refundable_support</th>\n",
       "      <th>nonrefundable_support</th>\n",
       "      <th>budget</th>\n",
       "      <th>ratings</th>\n",
       "      <th>year</th>\n",
       "    </tr>\n",
       "  </thead>\n",
       "  <tbody>\n",
       "    <tr>\n",
       "      <td>0</td>\n",
       "      <td>221048915</td>\n",
       "      <td>2015-11-27 12:00:00+00:00</td>\n",
       "      <td>NaN</td>\n",
       "      <td>NaN</td>\n",
       "      <td>NaN</td>\n",
       "      <td>7.2</td>\n",
       "      <td>2015</td>\n",
       "    </tr>\n",
       "    <tr>\n",
       "      <td>1</td>\n",
       "      <td>111013716</td>\n",
       "      <td>2016-09-13 12:00:00+00:00</td>\n",
       "      <td>NaN</td>\n",
       "      <td>NaN</td>\n",
       "      <td>NaN</td>\n",
       "      <td>6.6</td>\n",
       "      <td>2016</td>\n",
       "    </tr>\n",
       "    <tr>\n",
       "      <td>2</td>\n",
       "      <td>221038416</td>\n",
       "      <td>2016-10-10 12:00:00+00:00</td>\n",
       "      <td>NaN</td>\n",
       "      <td>NaN</td>\n",
       "      <td>NaN</td>\n",
       "      <td>6.8</td>\n",
       "      <td>2016</td>\n",
       "    </tr>\n",
       "  </tbody>\n",
       "</table>\n",
       "</div>"
      ],
      "text/plain": [
       "   release_doc_number           show_start_date  refundable_support  \\\n",
       "0           221048915 2015-11-27 12:00:00+00:00                 NaN   \n",
       "1           111013716 2016-09-13 12:00:00+00:00                 NaN   \n",
       "2           221038416 2016-10-10 12:00:00+00:00                 NaN   \n",
       "\n",
       "   nonrefundable_support  budget  ratings  year  \n",
       "0                    NaN     NaN      7.2  2015  \n",
       "1                    NaN     NaN      6.6  2016  \n",
       "2                    NaN     NaN      6.8  2016  "
      ]
     },
     "metadata": {},
     "output_type": "display_data"
    }
   ],
   "source": [
    "display(movies_stat.head(3))"
   ]
  },
  {
   "cell_type": "markdown",
   "id": "38e6813c",
   "metadata": {},
   "source": [
    "Появилась отдельная графа с годом выхода фильма"
   ]
  },
  {
   "cell_type": "markdown",
   "id": "c190aa44",
   "metadata": {},
   "source": [
    "Создадим два столбца: с именем и фамилией главного режиссёра и основным жанром фильма. \n",
    "\n",
    "В столбцы войдут первые значения из списка режиссёров из графы `director` и жанров (`genre`) соответственно.\n",
    "\n",
    "Создадим функцию, которая заполнит таблицу нужными значениями:"
   ]
  },
  {
   "cell_type": "code",
   "execution_count": 55,
   "id": "2b0d1e69",
   "metadata": {},
   "outputs": [
    {
     "data": {
      "text/html": [
       "<div>\n",
       "<style scoped>\n",
       "    .dataframe tbody tr th:only-of-type {\n",
       "        vertical-align: middle;\n",
       "    }\n",
       "\n",
       "    .dataframe tbody tr th {\n",
       "        vertical-align: top;\n",
       "    }\n",
       "\n",
       "    .dataframe thead th {\n",
       "        text-align: right;\n",
       "    }\n",
       "</style>\n",
       "<table border=\"1\" class=\"dataframe\">\n",
       "  <thead>\n",
       "    <tr style=\"text-align: right;\">\n",
       "      <th></th>\n",
       "      <th>release_doc_number</th>\n",
       "      <th>title</th>\n",
       "      <th>type</th>\n",
       "      <th>film_studio</th>\n",
       "      <th>production_country</th>\n",
       "      <th>director</th>\n",
       "      <th>producer</th>\n",
       "      <th>age_restriction</th>\n",
       "      <th>financing_source</th>\n",
       "      <th>genres</th>\n",
       "    </tr>\n",
       "  </thead>\n",
       "  <tbody>\n",
       "    <tr>\n",
       "      <td>0</td>\n",
       "      <td>221048915</td>\n",
       "      <td>открытый простор</td>\n",
       "      <td>Художественный</td>\n",
       "      <td>Тачстоун Пикчерз, Кобальт Пикчерз, Бикон Пикче...</td>\n",
       "      <td>США</td>\n",
       "      <td>Кевин Костнер</td>\n",
       "      <td>Дэвид Валдес, Кевин Костнер, Джейк Эбертс</td>\n",
       "      <td>«18+» - запрещено для детей</td>\n",
       "      <td>NaN</td>\n",
       "      <td>боевик,драма,мелодрама</td>\n",
       "    </tr>\n",
       "    <tr>\n",
       "      <td>1</td>\n",
       "      <td>111013716</td>\n",
       "      <td>особо важное задание</td>\n",
       "      <td>Художественный</td>\n",
       "      <td>Киностудия \"Мосфильм\"</td>\n",
       "      <td>СССР</td>\n",
       "      <td>Е.Матвеев</td>\n",
       "      <td>NaN</td>\n",
       "      <td>«6+» - для детей старше 6 лет</td>\n",
       "      <td>NaN</td>\n",
       "      <td>драма,военный</td>\n",
       "    </tr>\n",
       "  </tbody>\n",
       "</table>\n",
       "</div>"
      ],
      "text/plain": [
       "   release_doc_number                 title            type  \\\n",
       "0           221048915      открытый простор  Художественный   \n",
       "1           111013716  особо важное задание  Художественный   \n",
       "\n",
       "                                         film_studio production_country  \\\n",
       "0  Тачстоун Пикчерз, Кобальт Пикчерз, Бикон Пикче...                США   \n",
       "1                              Киностудия \"Мосфильм\"               СССР   \n",
       "\n",
       "        director                                   producer  \\\n",
       "0  Кевин Костнер  Дэвид Валдес, Кевин Костнер, Джейк Эбертс   \n",
       "1      Е.Матвеев                                        NaN   \n",
       "\n",
       "                 age_restriction financing_source                  genres  \n",
       "0    «18+» - запрещено для детей              NaN  боевик,драма,мелодрама  \n",
       "1  «6+» - для детей старше 6 лет              NaN           драма,военный  "
      ]
     },
     "metadata": {},
     "output_type": "display_data"
    }
   ],
   "source": [
    "display(movies_info.head(2))"
   ]
  },
  {
   "cell_type": "code",
   "execution_count": null,
   "id": "833fd31f",
   "metadata": {},
   "outputs": [],
   "source": []
  },
  {
   "cell_type": "code",
   "execution_count": 56,
   "id": "f61163a8",
   "metadata": {},
   "outputs": [
    {
     "name": "stderr",
     "output_type": "stream",
     "text": [
      "/opt/conda/lib/python3.7/site-packages/ipykernel_launcher.py:9: SettingWithCopyWarning: \n",
      "A value is trying to be set on a copy of a slice from a DataFrame.\n",
      "Try using .loc[row_indexer,col_indexer] = value instead\n",
      "\n",
      "See the caveats in the documentation: http://pandas.pydata.org/pandas-docs/stable/user_guide/indexing.html#returning-a-view-versus-a-copy\n",
      "  if __name__ == '__main__':\n",
      "/opt/conda/lib/python3.7/site-packages/ipykernel_launcher.py:10: SettingWithCopyWarning: \n",
      "A value is trying to be set on a copy of a slice from a DataFrame\n",
      "\n",
      "See the caveats in the documentation: http://pandas.pydata.org/pandas-docs/stable/user_guide/indexing.html#returning-a-view-versus-a-copy\n",
      "  # Remove the CWD from sys.path while we load stuff.\n",
      "/opt/conda/lib/python3.7/site-packages/pandas/core/generic.py:9114: SettingWithCopyWarning: \n",
      "A value is trying to be set on a copy of a slice from a DataFrame\n",
      "\n",
      "See the caveats in the documentation: http://pandas.pydata.org/pandas-docs/stable/user_guide/indexing.html#returning-a-view-versus-a-copy\n",
      "  self._update_inplace(new_data)\n",
      "/opt/conda/lib/python3.7/site-packages/IPython/core/interactiveshell.py:3441: SettingWithCopyWarning: \n",
      "A value is trying to be set on a copy of a slice from a DataFrame\n",
      "\n",
      "See the caveats in the documentation: http://pandas.pydata.org/pandas-docs/stable/user_guide/indexing.html#returning-a-view-versus-a-copy\n",
      "  exec(code_obj, self.user_global_ns, self.user_ns)\n"
     ]
    }
   ],
   "source": [
    "def take_first_name(raw):\n",
    "    \"\"\"\n",
    "    Функция возвращает первое имя из графы директоров датасета\n",
    "    \n",
    "    \"\"\"\n",
    "    directors = raw['director']\n",
    "    return raw['director'].split(',')[0]\n",
    "    \n",
    "movies_info['name'] = 'nan'\n",
    "movies_info['name'][~movies_info['director'].isna()] = movies_info[~movies_info['director'].isna()].apply(take_first_name, axis=1)"
   ]
  },
  {
   "cell_type": "code",
   "execution_count": 57,
   "id": "ced339ff",
   "metadata": {},
   "outputs": [
    {
     "data": {
      "text/html": [
       "<div>\n",
       "<style scoped>\n",
       "    .dataframe tbody tr th:only-of-type {\n",
       "        vertical-align: middle;\n",
       "    }\n",
       "\n",
       "    .dataframe tbody tr th {\n",
       "        vertical-align: top;\n",
       "    }\n",
       "\n",
       "    .dataframe thead th {\n",
       "        text-align: right;\n",
       "    }\n",
       "</style>\n",
       "<table border=\"1\" class=\"dataframe\">\n",
       "  <thead>\n",
       "    <tr style=\"text-align: right;\">\n",
       "      <th></th>\n",
       "      <th>release_doc_number</th>\n",
       "      <th>title</th>\n",
       "      <th>type</th>\n",
       "      <th>film_studio</th>\n",
       "      <th>production_country</th>\n",
       "      <th>director</th>\n",
       "      <th>producer</th>\n",
       "      <th>age_restriction</th>\n",
       "      <th>financing_source</th>\n",
       "      <th>genres</th>\n",
       "      <th>name</th>\n",
       "    </tr>\n",
       "  </thead>\n",
       "  <tbody>\n",
       "    <tr>\n",
       "      <td>50</td>\n",
       "      <td>111005815</td>\n",
       "      <td>асса</td>\n",
       "      <td>Художественный</td>\n",
       "      <td>Киностудия \"Мосфильм\"</td>\n",
       "      <td>СССР</td>\n",
       "      <td>С.Соловьев</td>\n",
       "      <td>NaN</td>\n",
       "      <td>«16+» - для детей старше 16 лет</td>\n",
       "      <td>NaN</td>\n",
       "      <td>фэнтези,боевик</td>\n",
       "      <td>С.Соловьев</td>\n",
       "    </tr>\n",
       "    <tr>\n",
       "      <td>51</td>\n",
       "      <td>221015415</td>\n",
       "      <td>бандитки.</td>\n",
       "      <td>Художественный</td>\n",
       "      <td>Европа Корп., ТФ 1 Фильм Продюксьон</td>\n",
       "      <td>Франция - Мексика - США</td>\n",
       "      <td>Иоахим Реннинг, Эспен Сандберг</td>\n",
       "      <td>Люк Бессон, Ариель Зейтун</td>\n",
       "      <td>«12+» - для детей старше 12 лет</td>\n",
       "      <td>NaN</td>\n",
       "      <td>боевик,комедия,криминал</td>\n",
       "      <td>Иоахим Реннинг</td>\n",
       "    </tr>\n",
       "    <tr>\n",
       "      <td>52</td>\n",
       "      <td>111010513</td>\n",
       "      <td>айболит - 66</td>\n",
       "      <td>Художественный</td>\n",
       "      <td>Киностудия \"Мосфильм\"</td>\n",
       "      <td>СССР</td>\n",
       "      <td>Ролан Быков</td>\n",
       "      <td>NaN</td>\n",
       "      <td>«0+» - для любой зрительской аудитории</td>\n",
       "      <td>NaN</td>\n",
       "      <td>мюзикл,комедия,детский</td>\n",
       "      <td>Ролан Быков</td>\n",
       "    </tr>\n",
       "    <tr>\n",
       "      <td>53</td>\n",
       "      <td>111010813</td>\n",
       "      <td>алешкина любовь</td>\n",
       "      <td>Художественный</td>\n",
       "      <td>Киностудия \"Мосфильм\"</td>\n",
       "      <td>СССР</td>\n",
       "      <td>Семен Туманов</td>\n",
       "      <td>NaN</td>\n",
       "      <td>«12+» - для детей старше 12 лет</td>\n",
       "      <td>NaN</td>\n",
       "      <td>драма,мелодрама,комедия</td>\n",
       "      <td>Семен Туманов</td>\n",
       "    </tr>\n",
       "    <tr>\n",
       "      <td>54</td>\n",
       "      <td>221004416</td>\n",
       "      <td>50 первых поцелуев</td>\n",
       "      <td>Художественный</td>\n",
       "      <td>Коламбиа Пикчерз, Хэппи Медисон Продакшнз, Фла...</td>\n",
       "      <td>США</td>\n",
       "      <td>Питер Сигал</td>\n",
       "      <td>Бини Барнс, Джозеф Дрэйк, Джон Линсон</td>\n",
       "      <td>«18+» - запрещено для детей</td>\n",
       "      <td>NaN</td>\n",
       "      <td>комедия,мелодрама,драма</td>\n",
       "      <td>Питер Сигал</td>\n",
       "    </tr>\n",
       "  </tbody>\n",
       "</table>\n",
       "</div>"
      ],
      "text/plain": [
       "    release_doc_number               title            type  \\\n",
       "50           111005815                асса  Художественный   \n",
       "51           221015415           бандитки.  Художественный   \n",
       "52           111010513        айболит - 66  Художественный   \n",
       "53           111010813     алешкина любовь  Художественный   \n",
       "54           221004416  50 первых поцелуев  Художественный   \n",
       "\n",
       "                                          film_studio  \\\n",
       "50                              Киностудия \"Мосфильм\"   \n",
       "51                Европа Корп., ТФ 1 Фильм Продюксьон   \n",
       "52                              Киностудия \"Мосфильм\"   \n",
       "53                              Киностудия \"Мосфильм\"   \n",
       "54  Коламбиа Пикчерз, Хэппи Медисон Продакшнз, Фла...   \n",
       "\n",
       "         production_country                        director  \\\n",
       "50                     СССР                      С.Соловьев   \n",
       "51  Франция - Мексика - США  Иоахим Реннинг, Эспен Сандберг   \n",
       "52                     СССР                     Ролан Быков   \n",
       "53                     СССР                   Семен Туманов   \n",
       "54                      США                     Питер Сигал   \n",
       "\n",
       "                                 producer  \\\n",
       "50                                    NaN   \n",
       "51              Люк Бессон, Ариель Зейтун   \n",
       "52                                    NaN   \n",
       "53                                    NaN   \n",
       "54  Бини Барнс, Джозеф Дрэйк, Джон Линсон   \n",
       "\n",
       "                           age_restriction financing_source  \\\n",
       "50         «16+» - для детей старше 16 лет              NaN   \n",
       "51         «12+» - для детей старше 12 лет              NaN   \n",
       "52  «0+» - для любой зрительской аудитории              NaN   \n",
       "53         «12+» - для детей старше 12 лет              NaN   \n",
       "54             «18+» - запрещено для детей              NaN   \n",
       "\n",
       "                     genres            name  \n",
       "50           фэнтези,боевик      С.Соловьев  \n",
       "51  боевик,комедия,криминал  Иоахим Реннинг  \n",
       "52   мюзикл,комедия,детский     Ролан Быков  \n",
       "53  драма,мелодрама,комедия   Семен Туманов  \n",
       "54  комедия,мелодрама,драма     Питер Сигал  "
      ]
     },
     "metadata": {},
     "output_type": "display_data"
    }
   ],
   "source": [
    "display(movies_info[50:55])"
   ]
  },
  {
   "cell_type": "markdown",
   "id": "768fe962",
   "metadata": {},
   "source": [
    "Первое или единственное имя добавлено в таблицу."
   ]
  },
  {
   "cell_type": "markdown",
   "id": "1886ce8b",
   "metadata": {},
   "source": [
    "Добавим теперь первый жанр из графы `genre`:"
   ]
  },
  {
   "cell_type": "code",
   "execution_count": 58,
   "id": "dfd82297",
   "metadata": {},
   "outputs": [
    {
     "name": "stderr",
     "output_type": "stream",
     "text": [
      "/opt/conda/lib/python3.7/site-packages/ipykernel_launcher.py:11: SettingWithCopyWarning: \n",
      "A value is trying to be set on a copy of a slice from a DataFrame.\n",
      "Try using .loc[row_indexer,col_indexer] = value instead\n",
      "\n",
      "See the caveats in the documentation: http://pandas.pydata.org/pandas-docs/stable/user_guide/indexing.html#returning-a-view-versus-a-copy\n",
      "  # This is added back by InteractiveShellApp.init_path()\n",
      "/opt/conda/lib/python3.7/site-packages/ipykernel_launcher.py:12: SettingWithCopyWarning: \n",
      "A value is trying to be set on a copy of a slice from a DataFrame\n",
      "\n",
      "See the caveats in the documentation: http://pandas.pydata.org/pandas-docs/stable/user_guide/indexing.html#returning-a-view-versus-a-copy\n",
      "  if sys.path[0] == '':\n"
     ]
    }
   ],
   "source": [
    "def take_first_genre(raw):\n",
    "    \n",
    "    \"\"\"\n",
    "    Функция возвращает первый жанр из графы жанров датасета\n",
    "    \n",
    "    \"\"\"\n",
    "    \n",
    "    genres = raw['genres']\n",
    "    return raw['genres'].split(',')[0]\n",
    "    \n",
    "movies_info['main_genre'] = 'nan'\n",
    "movies_info['main_genre'][~movies_info['genres'].isna()] = movies_info[~movies_info['genres'].isna()].apply(take_first_genre, axis=1)"
   ]
  },
  {
   "cell_type": "code",
   "execution_count": 59,
   "id": "dc1d0f3d",
   "metadata": {},
   "outputs": [
    {
     "data": {
      "text/html": [
       "<div>\n",
       "<style scoped>\n",
       "    .dataframe tbody tr th:only-of-type {\n",
       "        vertical-align: middle;\n",
       "    }\n",
       "\n",
       "    .dataframe tbody tr th {\n",
       "        vertical-align: top;\n",
       "    }\n",
       "\n",
       "    .dataframe thead th {\n",
       "        text-align: right;\n",
       "    }\n",
       "</style>\n",
       "<table border=\"1\" class=\"dataframe\">\n",
       "  <thead>\n",
       "    <tr style=\"text-align: right;\">\n",
       "      <th></th>\n",
       "      <th>release_doc_number</th>\n",
       "      <th>title</th>\n",
       "      <th>type</th>\n",
       "      <th>film_studio</th>\n",
       "      <th>production_country</th>\n",
       "      <th>director</th>\n",
       "      <th>producer</th>\n",
       "      <th>age_restriction</th>\n",
       "      <th>financing_source</th>\n",
       "      <th>genres</th>\n",
       "      <th>name</th>\n",
       "      <th>main_genre</th>\n",
       "    </tr>\n",
       "  </thead>\n",
       "  <tbody>\n",
       "    <tr>\n",
       "      <td>0</td>\n",
       "      <td>221048915</td>\n",
       "      <td>открытый простор</td>\n",
       "      <td>Художественный</td>\n",
       "      <td>Тачстоун Пикчерз, Кобальт Пикчерз, Бикон Пикче...</td>\n",
       "      <td>США</td>\n",
       "      <td>Кевин Костнер</td>\n",
       "      <td>Дэвид Валдес, Кевин Костнер, Джейк Эбертс</td>\n",
       "      <td>«18+» - запрещено для детей</td>\n",
       "      <td>NaN</td>\n",
       "      <td>боевик,драма,мелодрама</td>\n",
       "      <td>Кевин Костнер</td>\n",
       "      <td>боевик</td>\n",
       "    </tr>\n",
       "    <tr>\n",
       "      <td>1</td>\n",
       "      <td>111013716</td>\n",
       "      <td>особо важное задание</td>\n",
       "      <td>Художественный</td>\n",
       "      <td>Киностудия \"Мосфильм\"</td>\n",
       "      <td>СССР</td>\n",
       "      <td>Е.Матвеев</td>\n",
       "      <td>NaN</td>\n",
       "      <td>«6+» - для детей старше 6 лет</td>\n",
       "      <td>NaN</td>\n",
       "      <td>драма,военный</td>\n",
       "      <td>Е.Матвеев</td>\n",
       "      <td>драма</td>\n",
       "    </tr>\n",
       "    <tr>\n",
       "      <td>2</td>\n",
       "      <td>221038416</td>\n",
       "      <td>особо опасен</td>\n",
       "      <td>Художественный</td>\n",
       "      <td>Юниверсал Пикчерз, Кикстарт Продакшнз, Марк Пл...</td>\n",
       "      <td>США</td>\n",
       "      <td>Тимур Бекмамбетов</td>\n",
       "      <td>Джим Лемли, Джейсон Нетер, Марк Е.Платт, Яйн Смит</td>\n",
       "      <td>«18+» - запрещено для детей</td>\n",
       "      <td>NaN</td>\n",
       "      <td>фантастика,боевик,триллер</td>\n",
       "      <td>Тимур Бекмамбетов</td>\n",
       "      <td>фантастика</td>\n",
       "    </tr>\n",
       "  </tbody>\n",
       "</table>\n",
       "</div>"
      ],
      "text/plain": [
       "   release_doc_number                 title            type  \\\n",
       "0           221048915      открытый простор  Художественный   \n",
       "1           111013716  особо важное задание  Художественный   \n",
       "2           221038416          особо опасен  Художественный   \n",
       "\n",
       "                                         film_studio production_country  \\\n",
       "0  Тачстоун Пикчерз, Кобальт Пикчерз, Бикон Пикче...                США   \n",
       "1                              Киностудия \"Мосфильм\"               СССР   \n",
       "2  Юниверсал Пикчерз, Кикстарт Продакшнз, Марк Пл...                США   \n",
       "\n",
       "            director                                           producer  \\\n",
       "0      Кевин Костнер          Дэвид Валдес, Кевин Костнер, Джейк Эбертс   \n",
       "1          Е.Матвеев                                                NaN   \n",
       "2  Тимур Бекмамбетов  Джим Лемли, Джейсон Нетер, Марк Е.Платт, Яйн Смит   \n",
       "\n",
       "                 age_restriction financing_source                     genres  \\\n",
       "0    «18+» - запрещено для детей              NaN     боевик,драма,мелодрама   \n",
       "1  «6+» - для детей старше 6 лет              NaN              драма,военный   \n",
       "2    «18+» - запрещено для детей              NaN  фантастика,боевик,триллер   \n",
       "\n",
       "                name  main_genre  \n",
       "0      Кевин Костнер      боевик  \n",
       "1          Е.Матвеев       драма  \n",
       "2  Тимур Бекмамбетов  фантастика  "
      ]
     },
     "metadata": {},
     "output_type": "display_data"
    }
   ],
   "source": [
    "display(movies_info.head(3))"
   ]
  },
  {
   "cell_type": "markdown",
   "id": "6de604ef",
   "metadata": {},
   "source": [
    "Главный жанр теперь есть в таблице."
   ]
  },
  {
   "cell_type": "markdown",
   "id": "2761a377",
   "metadata": {},
   "source": [
    "Посчитаем, какую долю от общего бюджета фильма составляет государственная поддержка."
   ]
  },
  {
   "cell_type": "code",
   "execution_count": 60,
   "id": "6cda9c9b",
   "metadata": {},
   "outputs": [
    {
     "name": "stderr",
     "output_type": "stream",
     "text": [
      "/opt/conda/lib/python3.7/site-packages/ipykernel_launcher.py:1: SettingWithCopyWarning: \n",
      "A value is trying to be set on a copy of a slice from a DataFrame.\n",
      "Try using .loc[row_indexer,col_indexer] = value instead\n",
      "\n",
      "See the caveats in the documentation: http://pandas.pydata.org/pandas-docs/stable/user_guide/indexing.html#returning-a-view-versus-a-copy\n",
      "  \"\"\"Entry point for launching an IPython kernel.\n"
     ]
    }
   ],
   "source": [
    "movies_stat['budget_share'] = (movies_stat['refundable_support'] + movies_stat['nonrefundable_support']) / movies_stat['budget']"
   ]
  },
  {
   "cell_type": "code",
   "execution_count": 61,
   "id": "529cae7a",
   "metadata": {},
   "outputs": [
    {
     "data": {
      "text/html": [
       "<div>\n",
       "<style scoped>\n",
       "    .dataframe tbody tr th:only-of-type {\n",
       "        vertical-align: middle;\n",
       "    }\n",
       "\n",
       "    .dataframe tbody tr th {\n",
       "        vertical-align: top;\n",
       "    }\n",
       "\n",
       "    .dataframe thead th {\n",
       "        text-align: right;\n",
       "    }\n",
       "</style>\n",
       "<table border=\"1\" class=\"dataframe\">\n",
       "  <thead>\n",
       "    <tr style=\"text-align: right;\">\n",
       "      <th></th>\n",
       "      <th>release_doc_number</th>\n",
       "      <th>show_start_date</th>\n",
       "      <th>refundable_support</th>\n",
       "      <th>nonrefundable_support</th>\n",
       "      <th>budget</th>\n",
       "      <th>ratings</th>\n",
       "      <th>year</th>\n",
       "      <th>budget_share</th>\n",
       "    </tr>\n",
       "  </thead>\n",
       "  <tbody>\n",
       "    <tr>\n",
       "      <td>2053</td>\n",
       "      <td>111023614</td>\n",
       "      <td>2014-12-19 12:00:00+00:00</td>\n",
       "      <td>0.0</td>\n",
       "      <td>23000000.0</td>\n",
       "      <td>0.0</td>\n",
       "      <td>6.6</td>\n",
       "      <td>2014</td>\n",
       "      <td>inf</td>\n",
       "    </tr>\n",
       "    <tr>\n",
       "      <td>2058</td>\n",
       "      <td>111000415</td>\n",
       "      <td>2015-01-26 12:00:00+00:00</td>\n",
       "      <td>0.0</td>\n",
       "      <td>75000000.0</td>\n",
       "      <td>0.0</td>\n",
       "      <td>6.6</td>\n",
       "      <td>2015</td>\n",
       "      <td>inf</td>\n",
       "    </tr>\n",
       "    <tr>\n",
       "      <td>2472</td>\n",
       "      <td>111017315</td>\n",
       "      <td>2015-09-28 12:00:00+00:00</td>\n",
       "      <td>10000000.0</td>\n",
       "      <td>70000000.0</td>\n",
       "      <td>0.0</td>\n",
       "      <td>7.8</td>\n",
       "      <td>2015</td>\n",
       "      <td>inf</td>\n",
       "    </tr>\n",
       "    <tr>\n",
       "      <td>2532</td>\n",
       "      <td>111009615</td>\n",
       "      <td>2015-05-26 12:00:00+00:00</td>\n",
       "      <td>20000000.0</td>\n",
       "      <td>0.0</td>\n",
       "      <td>0.0</td>\n",
       "      <td>6.2</td>\n",
       "      <td>2015</td>\n",
       "      <td>inf</td>\n",
       "    </tr>\n",
       "    <tr>\n",
       "      <td>2615</td>\n",
       "      <td>114001715</td>\n",
       "      <td>2015-07-21 12:00:00+00:00</td>\n",
       "      <td>60000000.0</td>\n",
       "      <td>100000000.0</td>\n",
       "      <td>0.0</td>\n",
       "      <td>4.6</td>\n",
       "      <td>2015</td>\n",
       "      <td>inf</td>\n",
       "    </tr>\n",
       "    <tr>\n",
       "      <td>2684</td>\n",
       "      <td>111010215</td>\n",
       "      <td>2015-06-08 12:00:00+00:00</td>\n",
       "      <td>0.0</td>\n",
       "      <td>59000000.0</td>\n",
       "      <td>0.0</td>\n",
       "      <td>6.3</td>\n",
       "      <td>2015</td>\n",
       "      <td>inf</td>\n",
       "    </tr>\n",
       "    <tr>\n",
       "      <td>2788</td>\n",
       "      <td>111017115</td>\n",
       "      <td>2015-09-30 12:00:00+00:00</td>\n",
       "      <td>0.0</td>\n",
       "      <td>35000000.0</td>\n",
       "      <td>0.0</td>\n",
       "      <td>5.1</td>\n",
       "      <td>2015</td>\n",
       "      <td>inf</td>\n",
       "    </tr>\n",
       "    <tr>\n",
       "      <td>2874</td>\n",
       "      <td>111004916</td>\n",
       "      <td>2016-03-01 12:00:00+00:00</td>\n",
       "      <td>0.0</td>\n",
       "      <td>6000000.0</td>\n",
       "      <td>0.0</td>\n",
       "      <td>4.3</td>\n",
       "      <td>2016</td>\n",
       "      <td>inf</td>\n",
       "    </tr>\n",
       "    <tr>\n",
       "      <td>3047</td>\n",
       "      <td>111008216</td>\n",
       "      <td>2016-04-29 12:00:00+00:00</td>\n",
       "      <td>19000000.0</td>\n",
       "      <td>51000000.0</td>\n",
       "      <td>0.0</td>\n",
       "      <td>6.3</td>\n",
       "      <td>2016</td>\n",
       "      <td>inf</td>\n",
       "    </tr>\n",
       "    <tr>\n",
       "      <td>3565</td>\n",
       "      <td>111018116</td>\n",
       "      <td>2016-12-16 12:00:00+00:00</td>\n",
       "      <td>0.0</td>\n",
       "      <td>250000000.0</td>\n",
       "      <td>0.0</td>\n",
       "      <td>5.6</td>\n",
       "      <td>2016</td>\n",
       "      <td>inf</td>\n",
       "    </tr>\n",
       "    <tr>\n",
       "      <td>3675</td>\n",
       "      <td>114001817</td>\n",
       "      <td>2017-06-27 12:00:00+00:00</td>\n",
       "      <td>20000000.0</td>\n",
       "      <td>20000000.0</td>\n",
       "      <td>0.0</td>\n",
       "      <td>5.2</td>\n",
       "      <td>2017</td>\n",
       "      <td>inf</td>\n",
       "    </tr>\n",
       "    <tr>\n",
       "      <td>3739</td>\n",
       "      <td>111004317</td>\n",
       "      <td>2017-06-07 12:00:00+00:00</td>\n",
       "      <td>25000000.0</td>\n",
       "      <td>20000000.0</td>\n",
       "      <td>0.0</td>\n",
       "      <td>4.8</td>\n",
       "      <td>2017</td>\n",
       "      <td>inf</td>\n",
       "    </tr>\n",
       "    <tr>\n",
       "      <td>5673</td>\n",
       "      <td>111012117</td>\n",
       "      <td>2018-02-01 12:00:00+00:00</td>\n",
       "      <td>20000000.0</td>\n",
       "      <td>40000000.0</td>\n",
       "      <td>0.0</td>\n",
       "      <td>5.8</td>\n",
       "      <td>2018</td>\n",
       "      <td>inf</td>\n",
       "    </tr>\n",
       "    <tr>\n",
       "      <td>5806</td>\n",
       "      <td>114001018</td>\n",
       "      <td>2018-05-31 12:00:00+00:00</td>\n",
       "      <td>10000000.0</td>\n",
       "      <td>60000000.0</td>\n",
       "      <td>0.0</td>\n",
       "      <td>5.0</td>\n",
       "      <td>2018</td>\n",
       "      <td>inf</td>\n",
       "    </tr>\n",
       "    <tr>\n",
       "      <td>6008</td>\n",
       "      <td>114003018</td>\n",
       "      <td>2018-08-23 12:00:00+00:00</td>\n",
       "      <td>40000000.0</td>\n",
       "      <td>40000000.0</td>\n",
       "      <td>0.0</td>\n",
       "      <td>5.2</td>\n",
       "      <td>2018</td>\n",
       "      <td>inf</td>\n",
       "    </tr>\n",
       "    <tr>\n",
       "      <td>6323</td>\n",
       "      <td>114006518</td>\n",
       "      <td>2018-11-08 12:00:00+00:00</td>\n",
       "      <td>0.0</td>\n",
       "      <td>138969465.0</td>\n",
       "      <td>0.0</td>\n",
       "      <td>NaN</td>\n",
       "      <td>2018</td>\n",
       "      <td>inf</td>\n",
       "    </tr>\n",
       "    <tr>\n",
       "      <td>6823</td>\n",
       "      <td>114002419</td>\n",
       "      <td>2019-04-20 12:00:00+00:00</td>\n",
       "      <td>60000000.0</td>\n",
       "      <td>120000000.0</td>\n",
       "      <td>0.0</td>\n",
       "      <td>6.2</td>\n",
       "      <td>2019</td>\n",
       "      <td>inf</td>\n",
       "    </tr>\n",
       "  </tbody>\n",
       "</table>\n",
       "</div>"
      ],
      "text/plain": [
       "      release_doc_number           show_start_date  refundable_support  \\\n",
       "2053           111023614 2014-12-19 12:00:00+00:00                 0.0   \n",
       "2058           111000415 2015-01-26 12:00:00+00:00                 0.0   \n",
       "2472           111017315 2015-09-28 12:00:00+00:00          10000000.0   \n",
       "2532           111009615 2015-05-26 12:00:00+00:00          20000000.0   \n",
       "2615           114001715 2015-07-21 12:00:00+00:00          60000000.0   \n",
       "2684           111010215 2015-06-08 12:00:00+00:00                 0.0   \n",
       "2788           111017115 2015-09-30 12:00:00+00:00                 0.0   \n",
       "2874           111004916 2016-03-01 12:00:00+00:00                 0.0   \n",
       "3047           111008216 2016-04-29 12:00:00+00:00          19000000.0   \n",
       "3565           111018116 2016-12-16 12:00:00+00:00                 0.0   \n",
       "3675           114001817 2017-06-27 12:00:00+00:00          20000000.0   \n",
       "3739           111004317 2017-06-07 12:00:00+00:00          25000000.0   \n",
       "5673           111012117 2018-02-01 12:00:00+00:00          20000000.0   \n",
       "5806           114001018 2018-05-31 12:00:00+00:00          10000000.0   \n",
       "6008           114003018 2018-08-23 12:00:00+00:00          40000000.0   \n",
       "6323           114006518 2018-11-08 12:00:00+00:00                 0.0   \n",
       "6823           114002419 2019-04-20 12:00:00+00:00          60000000.0   \n",
       "\n",
       "      nonrefundable_support  budget  ratings  year  budget_share  \n",
       "2053             23000000.0     0.0      6.6  2014           inf  \n",
       "2058             75000000.0     0.0      6.6  2015           inf  \n",
       "2472             70000000.0     0.0      7.8  2015           inf  \n",
       "2532                    0.0     0.0      6.2  2015           inf  \n",
       "2615            100000000.0     0.0      4.6  2015           inf  \n",
       "2684             59000000.0     0.0      6.3  2015           inf  \n",
       "2788             35000000.0     0.0      5.1  2015           inf  \n",
       "2874              6000000.0     0.0      4.3  2016           inf  \n",
       "3047             51000000.0     0.0      6.3  2016           inf  \n",
       "3565            250000000.0     0.0      5.6  2016           inf  \n",
       "3675             20000000.0     0.0      5.2  2017           inf  \n",
       "3739             20000000.0     0.0      4.8  2017           inf  \n",
       "5673             40000000.0     0.0      5.8  2018           inf  \n",
       "5806             60000000.0     0.0      5.0  2018           inf  \n",
       "6008             40000000.0     0.0      5.2  2018           inf  \n",
       "6323            138969465.0     0.0      NaN  2018           inf  \n",
       "6823            120000000.0     0.0      6.2  2019           inf  "
      ]
     },
     "execution_count": 61,
     "metadata": {},
     "output_type": "execute_result"
    }
   ],
   "source": [
    "# Код ревьюера\n",
    "movies_stat[movies_stat['budget_share'] == np.inf]"
   ]
  },
  {
   "cell_type": "code",
   "execution_count": 62,
   "id": "bc3b354b",
   "metadata": {
    "scrolled": true
   },
   "outputs": [
    {
     "data": {
      "text/html": [
       "<div>\n",
       "<style scoped>\n",
       "    .dataframe tbody tr th:only-of-type {\n",
       "        vertical-align: middle;\n",
       "    }\n",
       "\n",
       "    .dataframe tbody tr th {\n",
       "        vertical-align: top;\n",
       "    }\n",
       "\n",
       "    .dataframe thead th {\n",
       "        text-align: right;\n",
       "    }\n",
       "</style>\n",
       "<table border=\"1\" class=\"dataframe\">\n",
       "  <thead>\n",
       "    <tr style=\"text-align: right;\">\n",
       "      <th></th>\n",
       "      <th>release_doc_number</th>\n",
       "      <th>show_start_date</th>\n",
       "      <th>refundable_support</th>\n",
       "      <th>nonrefundable_support</th>\n",
       "      <th>budget</th>\n",
       "      <th>ratings</th>\n",
       "      <th>year</th>\n",
       "      <th>budget_share</th>\n",
       "    </tr>\n",
       "  </thead>\n",
       "  <tbody>\n",
       "    <tr>\n",
       "      <td>1281</td>\n",
       "      <td>111005313</td>\n",
       "      <td>2013-10-11 12:00:00+00:00</td>\n",
       "      <td>0.0</td>\n",
       "      <td>26500000.0</td>\n",
       "      <td>79411900.0</td>\n",
       "      <td>8.1</td>\n",
       "      <td>2013</td>\n",
       "      <td>0.333703</td>\n",
       "    </tr>\n",
       "    <tr>\n",
       "      <td>1448</td>\n",
       "      <td>111003314</td>\n",
       "      <td>2014-03-28 12:00:00+00:00</td>\n",
       "      <td>0.0</td>\n",
       "      <td>26000000.0</td>\n",
       "      <td>37142857.0</td>\n",
       "      <td>NaN</td>\n",
       "      <td>2014</td>\n",
       "      <td>0.700000</td>\n",
       "    </tr>\n",
       "    <tr>\n",
       "      <td>1498</td>\n",
       "      <td>111004213</td>\n",
       "      <td>2013-09-10 12:00:00+00:00</td>\n",
       "      <td>0.0</td>\n",
       "      <td>107847945.0</td>\n",
       "      <td>176023490.0</td>\n",
       "      <td>5.3</td>\n",
       "      <td>2013</td>\n",
       "      <td>0.612691</td>\n",
       "    </tr>\n",
       "    <tr>\n",
       "      <td>1524</td>\n",
       "      <td>111004314</td>\n",
       "      <td>2014-05-05 12:00:00+00:00</td>\n",
       "      <td>0.0</td>\n",
       "      <td>28000000.0</td>\n",
       "      <td>40574140.0</td>\n",
       "      <td>4.2</td>\n",
       "      <td>2014</td>\n",
       "      <td>0.690095</td>\n",
       "    </tr>\n",
       "    <tr>\n",
       "      <td>1792</td>\n",
       "      <td>111004414</td>\n",
       "      <td>2014-04-23 12:00:00+00:00</td>\n",
       "      <td>0.0</td>\n",
       "      <td>25000000.0</td>\n",
       "      <td>40015122.0</td>\n",
       "      <td>6.4</td>\n",
       "      <td>2014</td>\n",
       "      <td>0.624764</td>\n",
       "    </tr>\n",
       "    <tr>\n",
       "      <td>...</td>\n",
       "      <td>...</td>\n",
       "      <td>...</td>\n",
       "      <td>...</td>\n",
       "      <td>...</td>\n",
       "      <td>...</td>\n",
       "      <td>...</td>\n",
       "      <td>...</td>\n",
       "      <td>...</td>\n",
       "    </tr>\n",
       "    <tr>\n",
       "      <td>7464</td>\n",
       "      <td>111022019</td>\n",
       "      <td>2019-12-26 12:00:00+00:00</td>\n",
       "      <td>100000000.0</td>\n",
       "      <td>400000000.0</td>\n",
       "      <td>980000000.0</td>\n",
       "      <td>6.0</td>\n",
       "      <td>2019</td>\n",
       "      <td>0.510204</td>\n",
       "    </tr>\n",
       "    <tr>\n",
       "      <td>7466</td>\n",
       "      <td>114005019</td>\n",
       "      <td>2019-12-20 12:00:00+00:00</td>\n",
       "      <td>100000000.0</td>\n",
       "      <td>0.0</td>\n",
       "      <td>190000000.0</td>\n",
       "      <td>6.7</td>\n",
       "      <td>2019</td>\n",
       "      <td>0.526316</td>\n",
       "    </tr>\n",
       "    <tr>\n",
       "      <td>7474</td>\n",
       "      <td>111022519</td>\n",
       "      <td>2019-12-23 12:00:00+00:00</td>\n",
       "      <td>100000000.0</td>\n",
       "      <td>400000000.0</td>\n",
       "      <td>944000000.0</td>\n",
       "      <td>5.7</td>\n",
       "      <td>2019</td>\n",
       "      <td>0.529661</td>\n",
       "    </tr>\n",
       "    <tr>\n",
       "      <td>7476</td>\n",
       "      <td>111023019</td>\n",
       "      <td>2019-12-26 12:00:00+00:00</td>\n",
       "      <td>0.0</td>\n",
       "      <td>30000000.0</td>\n",
       "      <td>46154000.0</td>\n",
       "      <td>5.9</td>\n",
       "      <td>2019</td>\n",
       "      <td>0.649998</td>\n",
       "    </tr>\n",
       "    <tr>\n",
       "      <td>7478</td>\n",
       "      <td>111023119</td>\n",
       "      <td>2019-12-24 12:00:00+00:00</td>\n",
       "      <td>40000000.0</td>\n",
       "      <td>60000000.0</td>\n",
       "      <td>150147502.0</td>\n",
       "      <td>4.5</td>\n",
       "      <td>2019</td>\n",
       "      <td>0.666012</td>\n",
       "    </tr>\n",
       "  </tbody>\n",
       "</table>\n",
       "<p>332 rows × 8 columns</p>\n",
       "</div>"
      ],
      "text/plain": [
       "      release_doc_number           show_start_date  refundable_support  \\\n",
       "1281           111005313 2013-10-11 12:00:00+00:00                 0.0   \n",
       "1448           111003314 2014-03-28 12:00:00+00:00                 0.0   \n",
       "1498           111004213 2013-09-10 12:00:00+00:00                 0.0   \n",
       "1524           111004314 2014-05-05 12:00:00+00:00                 0.0   \n",
       "1792           111004414 2014-04-23 12:00:00+00:00                 0.0   \n",
       "...                  ...                       ...                 ...   \n",
       "7464           111022019 2019-12-26 12:00:00+00:00         100000000.0   \n",
       "7466           114005019 2019-12-20 12:00:00+00:00         100000000.0   \n",
       "7474           111022519 2019-12-23 12:00:00+00:00         100000000.0   \n",
       "7476           111023019 2019-12-26 12:00:00+00:00                 0.0   \n",
       "7478           111023119 2019-12-24 12:00:00+00:00          40000000.0   \n",
       "\n",
       "      nonrefundable_support       budget  ratings  year  budget_share  \n",
       "1281             26500000.0   79411900.0      8.1  2013      0.333703  \n",
       "1448             26000000.0   37142857.0      NaN  2014      0.700000  \n",
       "1498            107847945.0  176023490.0      5.3  2013      0.612691  \n",
       "1524             28000000.0   40574140.0      4.2  2014      0.690095  \n",
       "1792             25000000.0   40015122.0      6.4  2014      0.624764  \n",
       "...                     ...          ...      ...   ...           ...  \n",
       "7464            400000000.0  980000000.0      6.0  2019      0.510204  \n",
       "7466                    0.0  190000000.0      6.7  2019      0.526316  \n",
       "7474            400000000.0  944000000.0      5.7  2019      0.529661  \n",
       "7476             30000000.0   46154000.0      5.9  2019      0.649998  \n",
       "7478             60000000.0  150147502.0      4.5  2019      0.666012  \n",
       "\n",
       "[332 rows x 8 columns]"
      ]
     },
     "metadata": {},
     "output_type": "display_data"
    }
   ],
   "source": [
    "display(movies_stat[~movies_stat['budget_share'].isna()])"
   ]
  },
  {
   "cell_type": "code",
   "execution_count": 63,
   "id": "86503b1e",
   "metadata": {
    "scrolled": true
   },
   "outputs": [
    {
     "data": {
      "text/html": [
       "<div>\n",
       "<style scoped>\n",
       "    .dataframe tbody tr th:only-of-type {\n",
       "        vertical-align: middle;\n",
       "    }\n",
       "\n",
       "    .dataframe tbody tr th {\n",
       "        vertical-align: top;\n",
       "    }\n",
       "\n",
       "    .dataframe thead th {\n",
       "        text-align: right;\n",
       "    }\n",
       "</style>\n",
       "<table border=\"1\" class=\"dataframe\">\n",
       "  <thead>\n",
       "    <tr style=\"text-align: right;\">\n",
       "      <th></th>\n",
       "      <th>release_doc_number</th>\n",
       "      <th>show_start_date</th>\n",
       "      <th>refundable_support</th>\n",
       "      <th>nonrefundable_support</th>\n",
       "      <th>budget</th>\n",
       "      <th>ratings</th>\n",
       "      <th>year</th>\n",
       "      <th>budget_share</th>\n",
       "    </tr>\n",
       "  </thead>\n",
       "  <tbody>\n",
       "    <tr>\n",
       "      <td>1281</td>\n",
       "      <td>111005313</td>\n",
       "      <td>2013-10-11 12:00:00+00:00</td>\n",
       "      <td>0.0</td>\n",
       "      <td>26500000.0</td>\n",
       "      <td>79411900.0</td>\n",
       "      <td>8.1</td>\n",
       "      <td>2013</td>\n",
       "      <td>0.33</td>\n",
       "    </tr>\n",
       "    <tr>\n",
       "      <td>1448</td>\n",
       "      <td>111003314</td>\n",
       "      <td>2014-03-28 12:00:00+00:00</td>\n",
       "      <td>0.0</td>\n",
       "      <td>26000000.0</td>\n",
       "      <td>37142857.0</td>\n",
       "      <td>NaN</td>\n",
       "      <td>2014</td>\n",
       "      <td>0.70</td>\n",
       "    </tr>\n",
       "    <tr>\n",
       "      <td>1498</td>\n",
       "      <td>111004213</td>\n",
       "      <td>2013-09-10 12:00:00+00:00</td>\n",
       "      <td>0.0</td>\n",
       "      <td>107847945.0</td>\n",
       "      <td>176023490.0</td>\n",
       "      <td>5.3</td>\n",
       "      <td>2013</td>\n",
       "      <td>0.61</td>\n",
       "    </tr>\n",
       "    <tr>\n",
       "      <td>1524</td>\n",
       "      <td>111004314</td>\n",
       "      <td>2014-05-05 12:00:00+00:00</td>\n",
       "      <td>0.0</td>\n",
       "      <td>28000000.0</td>\n",
       "      <td>40574140.0</td>\n",
       "      <td>4.2</td>\n",
       "      <td>2014</td>\n",
       "      <td>0.69</td>\n",
       "    </tr>\n",
       "    <tr>\n",
       "      <td>1792</td>\n",
       "      <td>111004414</td>\n",
       "      <td>2014-04-23 12:00:00+00:00</td>\n",
       "      <td>0.0</td>\n",
       "      <td>25000000.0</td>\n",
       "      <td>40015122.0</td>\n",
       "      <td>6.4</td>\n",
       "      <td>2014</td>\n",
       "      <td>0.62</td>\n",
       "    </tr>\n",
       "    <tr>\n",
       "      <td>...</td>\n",
       "      <td>...</td>\n",
       "      <td>...</td>\n",
       "      <td>...</td>\n",
       "      <td>...</td>\n",
       "      <td>...</td>\n",
       "      <td>...</td>\n",
       "      <td>...</td>\n",
       "      <td>...</td>\n",
       "    </tr>\n",
       "    <tr>\n",
       "      <td>7464</td>\n",
       "      <td>111022019</td>\n",
       "      <td>2019-12-26 12:00:00+00:00</td>\n",
       "      <td>100000000.0</td>\n",
       "      <td>400000000.0</td>\n",
       "      <td>980000000.0</td>\n",
       "      <td>6.0</td>\n",
       "      <td>2019</td>\n",
       "      <td>0.51</td>\n",
       "    </tr>\n",
       "    <tr>\n",
       "      <td>7466</td>\n",
       "      <td>114005019</td>\n",
       "      <td>2019-12-20 12:00:00+00:00</td>\n",
       "      <td>100000000.0</td>\n",
       "      <td>0.0</td>\n",
       "      <td>190000000.0</td>\n",
       "      <td>6.7</td>\n",
       "      <td>2019</td>\n",
       "      <td>0.53</td>\n",
       "    </tr>\n",
       "    <tr>\n",
       "      <td>7474</td>\n",
       "      <td>111022519</td>\n",
       "      <td>2019-12-23 12:00:00+00:00</td>\n",
       "      <td>100000000.0</td>\n",
       "      <td>400000000.0</td>\n",
       "      <td>944000000.0</td>\n",
       "      <td>5.7</td>\n",
       "      <td>2019</td>\n",
       "      <td>0.53</td>\n",
       "    </tr>\n",
       "    <tr>\n",
       "      <td>7476</td>\n",
       "      <td>111023019</td>\n",
       "      <td>2019-12-26 12:00:00+00:00</td>\n",
       "      <td>0.0</td>\n",
       "      <td>30000000.0</td>\n",
       "      <td>46154000.0</td>\n",
       "      <td>5.9</td>\n",
       "      <td>2019</td>\n",
       "      <td>0.65</td>\n",
       "    </tr>\n",
       "    <tr>\n",
       "      <td>7478</td>\n",
       "      <td>111023119</td>\n",
       "      <td>2019-12-24 12:00:00+00:00</td>\n",
       "      <td>40000000.0</td>\n",
       "      <td>60000000.0</td>\n",
       "      <td>150147502.0</td>\n",
       "      <td>4.5</td>\n",
       "      <td>2019</td>\n",
       "      <td>0.67</td>\n",
       "    </tr>\n",
       "  </tbody>\n",
       "</table>\n",
       "<p>332 rows × 8 columns</p>\n",
       "</div>"
      ],
      "text/plain": [
       "      release_doc_number           show_start_date  refundable_support  \\\n",
       "1281           111005313 2013-10-11 12:00:00+00:00                 0.0   \n",
       "1448           111003314 2014-03-28 12:00:00+00:00                 0.0   \n",
       "1498           111004213 2013-09-10 12:00:00+00:00                 0.0   \n",
       "1524           111004314 2014-05-05 12:00:00+00:00                 0.0   \n",
       "1792           111004414 2014-04-23 12:00:00+00:00                 0.0   \n",
       "...                  ...                       ...                 ...   \n",
       "7464           111022019 2019-12-26 12:00:00+00:00         100000000.0   \n",
       "7466           114005019 2019-12-20 12:00:00+00:00         100000000.0   \n",
       "7474           111022519 2019-12-23 12:00:00+00:00         100000000.0   \n",
       "7476           111023019 2019-12-26 12:00:00+00:00                 0.0   \n",
       "7478           111023119 2019-12-24 12:00:00+00:00          40000000.0   \n",
       "\n",
       "      nonrefundable_support       budget  ratings  year  budget_share  \n",
       "1281             26500000.0   79411900.0      8.1  2013          0.33  \n",
       "1448             26000000.0   37142857.0      NaN  2014          0.70  \n",
       "1498            107847945.0  176023490.0      5.3  2013          0.61  \n",
       "1524             28000000.0   40574140.0      4.2  2014          0.69  \n",
       "1792             25000000.0   40015122.0      6.4  2014          0.62  \n",
       "...                     ...          ...      ...   ...           ...  \n",
       "7464            400000000.0  980000000.0      6.0  2019          0.51  \n",
       "7466                    0.0  190000000.0      6.7  2019          0.53  \n",
       "7474            400000000.0  944000000.0      5.7  2019          0.53  \n",
       "7476             30000000.0   46154000.0      5.9  2019          0.65  \n",
       "7478             60000000.0  150147502.0      4.5  2019          0.67  \n",
       "\n",
       "[332 rows x 8 columns]"
      ]
     },
     "metadata": {},
     "output_type": "display_data"
    }
   ],
   "source": [
    "movies_stat = movies_stat.round(2)\n",
    "display(movies_stat[~movies_stat['budget_share'].isna()])"
   ]
  },
  {
   "cell_type": "markdown",
   "id": "dbb3b2d8",
   "metadata": {},
   "source": [
    "### Вывод"
   ]
  },
  {
   "cell_type": "markdown",
   "id": "79a7d482",
   "metadata": {},
   "source": [
    "## Исследовательский анализ данных"
   ]
  },
  {
   "cell_type": "markdown",
   "id": "d18d58b0",
   "metadata": {},
   "source": [
    "Посмотрим, сколько фильмов выходило в прокат каждый год.\n",
    "\n",
    "Данные о прокате в кинотеатрах известны не для всех фильмов.\n",
    "\n",
    "Посчитаем, какую долю составляют фильмы с указанной информацией о прокате в кинотеатрах.\n",
    "Для этого объединим нужные данные из двух таблиц и составим сводную таблицу:"
   ]
  },
  {
   "cell_type": "code",
   "execution_count": 64,
   "id": "54b2ffab",
   "metadata": {},
   "outputs": [
    {
     "data": {
      "text/html": [
       "<div>\n",
       "<style scoped>\n",
       "    .dataframe tbody tr th:only-of-type {\n",
       "        vertical-align: middle;\n",
       "    }\n",
       "\n",
       "    .dataframe tbody tr th {\n",
       "        vertical-align: top;\n",
       "    }\n",
       "\n",
       "    .dataframe thead th {\n",
       "        text-align: right;\n",
       "    }\n",
       "</style>\n",
       "<table border=\"1\" class=\"dataframe\">\n",
       "  <thead>\n",
       "    <tr style=\"text-align: right;\">\n",
       "      <th></th>\n",
       "      <th>release_doc_number</th>\n",
       "      <th>year</th>\n",
       "    </tr>\n",
       "  </thead>\n",
       "  <tbody>\n",
       "    <tr>\n",
       "      <td>0</td>\n",
       "      <td>221048915</td>\n",
       "      <td>2015</td>\n",
       "    </tr>\n",
       "    <tr>\n",
       "      <td>1</td>\n",
       "      <td>111013716</td>\n",
       "      <td>2016</td>\n",
       "    </tr>\n",
       "    <tr>\n",
       "      <td>2</td>\n",
       "      <td>221038416</td>\n",
       "      <td>2016</td>\n",
       "    </tr>\n",
       "    <tr>\n",
       "      <td>3</td>\n",
       "      <td>221026916</td>\n",
       "      <td>2016</td>\n",
       "    </tr>\n",
       "    <tr>\n",
       "      <td>4</td>\n",
       "      <td>221030815</td>\n",
       "      <td>2015</td>\n",
       "    </tr>\n",
       "  </tbody>\n",
       "</table>\n",
       "</div>"
      ],
      "text/plain": [
       "   release_doc_number  year\n",
       "0           221048915  2015\n",
       "1           111013716  2016\n",
       "2           221038416  2016\n",
       "3           221026916  2016\n",
       "4           221030815  2015"
      ]
     },
     "metadata": {},
     "output_type": "display_data"
    }
   ],
   "source": [
    "release_data = movies_stat[['release_doc_number','year']]\n",
    "display(release_data.head())"
   ]
  },
  {
   "cell_type": "code",
   "execution_count": 65,
   "id": "85d9e5d0",
   "metadata": {},
   "outputs": [
    {
     "data": {
      "text/html": [
       "<div>\n",
       "<style scoped>\n",
       "    .dataframe tbody tr th:only-of-type {\n",
       "        vertical-align: middle;\n",
       "    }\n",
       "\n",
       "    .dataframe tbody tr th {\n",
       "        vertical-align: top;\n",
       "    }\n",
       "\n",
       "    .dataframe thead th {\n",
       "        text-align: right;\n",
       "    }\n",
       "</style>\n",
       "<table border=\"1\" class=\"dataframe\">\n",
       "  <thead>\n",
       "    <tr style=\"text-align: right;\">\n",
       "      <th></th>\n",
       "      <th>release_doc_number</th>\n",
       "      <th>year</th>\n",
       "      <th>box_office</th>\n",
       "      <th>title</th>\n",
       "      <th>type</th>\n",
       "      <th>film_studio</th>\n",
       "      <th>production_country</th>\n",
       "      <th>director</th>\n",
       "      <th>producer</th>\n",
       "      <th>age_restriction</th>\n",
       "      <th>financing_source</th>\n",
       "      <th>genres</th>\n",
       "      <th>name</th>\n",
       "      <th>main_genre</th>\n",
       "    </tr>\n",
       "  </thead>\n",
       "  <tbody>\n",
       "    <tr>\n",
       "      <td>0</td>\n",
       "      <td>221048915</td>\n",
       "      <td>2015</td>\n",
       "      <td>NaN</td>\n",
       "      <td>открытый простор</td>\n",
       "      <td>Художественный</td>\n",
       "      <td>Тачстоун Пикчерз, Кобальт Пикчерз, Бикон Пикче...</td>\n",
       "      <td>США</td>\n",
       "      <td>Кевин Костнер</td>\n",
       "      <td>Дэвид Валдес, Кевин Костнер, Джейк Эбертс</td>\n",
       "      <td>«18+» - запрещено для детей</td>\n",
       "      <td>NaN</td>\n",
       "      <td>боевик,драма,мелодрама</td>\n",
       "      <td>Кевин Костнер</td>\n",
       "      <td>боевик</td>\n",
       "    </tr>\n",
       "    <tr>\n",
       "      <td>1</td>\n",
       "      <td>111013716</td>\n",
       "      <td>2016</td>\n",
       "      <td>NaN</td>\n",
       "      <td>особо важное задание</td>\n",
       "      <td>Художественный</td>\n",
       "      <td>Киностудия \"Мосфильм\"</td>\n",
       "      <td>СССР</td>\n",
       "      <td>Е.Матвеев</td>\n",
       "      <td>NaN</td>\n",
       "      <td>«6+» - для детей старше 6 лет</td>\n",
       "      <td>NaN</td>\n",
       "      <td>драма,военный</td>\n",
       "      <td>Е.Матвеев</td>\n",
       "      <td>драма</td>\n",
       "    </tr>\n",
       "    <tr>\n",
       "      <td>2</td>\n",
       "      <td>221038416</td>\n",
       "      <td>2016</td>\n",
       "      <td>NaN</td>\n",
       "      <td>особо опасен</td>\n",
       "      <td>Художественный</td>\n",
       "      <td>Юниверсал Пикчерз, Кикстарт Продакшнз, Марк Пл...</td>\n",
       "      <td>США</td>\n",
       "      <td>Тимур Бекмамбетов</td>\n",
       "      <td>Джим Лемли, Джейсон Нетер, Марк Е.Платт, Яйн Смит</td>\n",
       "      <td>«18+» - запрещено для детей</td>\n",
       "      <td>NaN</td>\n",
       "      <td>фантастика,боевик,триллер</td>\n",
       "      <td>Тимур Бекмамбетов</td>\n",
       "      <td>фантастика</td>\n",
       "    </tr>\n",
       "    <tr>\n",
       "      <td>3</td>\n",
       "      <td>221026916</td>\n",
       "      <td>2016</td>\n",
       "      <td>NaN</td>\n",
       "      <td>особо опасен</td>\n",
       "      <td>Художественный</td>\n",
       "      <td>Юниверсал Пикчерз, Кикстарт Продакшнз, Марк Пл...</td>\n",
       "      <td>США</td>\n",
       "      <td>Тимур Бекмамбетов</td>\n",
       "      <td>Джим Лемли, Джейсон Нетер, Марк Е.Платт, Яйн Смит</td>\n",
       "      <td>«18+» - запрещено для детей</td>\n",
       "      <td>NaN</td>\n",
       "      <td>фантастика,боевик,триллер</td>\n",
       "      <td>Тимур Бекмамбетов</td>\n",
       "      <td>фантастика</td>\n",
       "    </tr>\n",
       "    <tr>\n",
       "      <td>4</td>\n",
       "      <td>221030815</td>\n",
       "      <td>2015</td>\n",
       "      <td>NaN</td>\n",
       "      <td>особо опасен</td>\n",
       "      <td>Художественный</td>\n",
       "      <td>Юниверсал Пикчерз, Кикстарт Продакшнз, Марк Пл...</td>\n",
       "      <td>США</td>\n",
       "      <td>Тимур Бекмамбетов</td>\n",
       "      <td>Джим Лемли, Джейсон Нетер, Марк Е.Платт, Яйн Смит</td>\n",
       "      <td>«18+» - запрещено для детей</td>\n",
       "      <td>NaN</td>\n",
       "      <td>фантастика,боевик,триллер</td>\n",
       "      <td>Тимур Бекмамбетов</td>\n",
       "      <td>фантастика</td>\n",
       "    </tr>\n",
       "  </tbody>\n",
       "</table>\n",
       "</div>"
      ],
      "text/plain": [
       "   release_doc_number  year  box_office                 title            type  \\\n",
       "0           221048915  2015         NaN      открытый простор  Художественный   \n",
       "1           111013716  2016         NaN  особо важное задание  Художественный   \n",
       "2           221038416  2016         NaN          особо опасен  Художественный   \n",
       "3           221026916  2016         NaN          особо опасен  Художественный   \n",
       "4           221030815  2015         NaN          особо опасен  Художественный   \n",
       "\n",
       "                                         film_studio production_country  \\\n",
       "0  Тачстоун Пикчерз, Кобальт Пикчерз, Бикон Пикче...                США   \n",
       "1                              Киностудия \"Мосфильм\"               СССР   \n",
       "2  Юниверсал Пикчерз, Кикстарт Продакшнз, Марк Пл...                США   \n",
       "3  Юниверсал Пикчерз, Кикстарт Продакшнз, Марк Пл...                США   \n",
       "4  Юниверсал Пикчерз, Кикстарт Продакшнз, Марк Пл...                США   \n",
       "\n",
       "            director                                           producer  \\\n",
       "0      Кевин Костнер          Дэвид Валдес, Кевин Костнер, Джейк Эбертс   \n",
       "1          Е.Матвеев                                                NaN   \n",
       "2  Тимур Бекмамбетов  Джим Лемли, Джейсон Нетер, Марк Е.Платт, Яйн Смит   \n",
       "3  Тимур Бекмамбетов  Джим Лемли, Джейсон Нетер, Марк Е.Платт, Яйн Смит   \n",
       "4  Тимур Бекмамбетов  Джим Лемли, Джейсон Нетер, Марк Е.Платт, Яйн Смит   \n",
       "\n",
       "                 age_restriction financing_source                     genres  \\\n",
       "0    «18+» - запрещено для детей              NaN     боевик,драма,мелодрама   \n",
       "1  «6+» - для детей старше 6 лет              NaN              драма,военный   \n",
       "2    «18+» - запрещено для детей              NaN  фантастика,боевик,триллер   \n",
       "3    «18+» - запрещено для детей              NaN  фантастика,боевик,триллер   \n",
       "4    «18+» - запрещено для детей              NaN  фантастика,боевик,триллер   \n",
       "\n",
       "                name  main_genre  \n",
       "0      Кевин Костнер      боевик  \n",
       "1          Е.Матвеев       драма  \n",
       "2  Тимур Бекмамбетов  фантастика  \n",
       "3  Тимур Бекмамбетов  фантастика  \n",
       "4  Тимур Бекмамбетов  фантастика  "
      ]
     },
     "metadata": {},
     "output_type": "display_data"
    }
   ],
   "source": [
    "release_data = release_data.merge(df_shows, on='release_doc_number',  how='outer')\n",
    "release_data = release_data.merge(movies_info, on='release_doc_number', how='outer')\n",
    "display(release_data.head())"
   ]
  },
  {
   "cell_type": "code",
   "execution_count": 66,
   "id": "48d4cb2a",
   "metadata": {},
   "outputs": [],
   "source": [
    "release_data['title'] = movies_info['title']"
   ]
  },
  {
   "cell_type": "code",
   "execution_count": 67,
   "id": "87d34d5d",
   "metadata": {},
   "outputs": [
    {
     "data": {
      "text/html": [
       "<div>\n",
       "<style scoped>\n",
       "    .dataframe tbody tr th:only-of-type {\n",
       "        vertical-align: middle;\n",
       "    }\n",
       "\n",
       "    .dataframe tbody tr th {\n",
       "        vertical-align: top;\n",
       "    }\n",
       "\n",
       "    .dataframe thead th {\n",
       "        text-align: right;\n",
       "    }\n",
       "</style>\n",
       "<table border=\"1\" class=\"dataframe\">\n",
       "  <thead>\n",
       "    <tr style=\"text-align: right;\">\n",
       "      <th></th>\n",
       "      <th>release_doc_number</th>\n",
       "      <th>year</th>\n",
       "      <th>box_office</th>\n",
       "      <th>title</th>\n",
       "      <th>type</th>\n",
       "      <th>film_studio</th>\n",
       "      <th>production_country</th>\n",
       "      <th>director</th>\n",
       "      <th>producer</th>\n",
       "      <th>age_restriction</th>\n",
       "      <th>financing_source</th>\n",
       "      <th>genres</th>\n",
       "      <th>name</th>\n",
       "      <th>main_genre</th>\n",
       "    </tr>\n",
       "  </thead>\n",
       "  <tbody>\n",
       "    <tr>\n",
       "      <td>0</td>\n",
       "      <td>221048915</td>\n",
       "      <td>2015</td>\n",
       "      <td>NaN</td>\n",
       "      <td>открытый простор</td>\n",
       "      <td>Художественный</td>\n",
       "      <td>Тачстоун Пикчерз, Кобальт Пикчерз, Бикон Пикче...</td>\n",
       "      <td>США</td>\n",
       "      <td>Кевин Костнер</td>\n",
       "      <td>Дэвид Валдес, Кевин Костнер, Джейк Эбертс</td>\n",
       "      <td>«18+» - запрещено для детей</td>\n",
       "      <td>NaN</td>\n",
       "      <td>боевик,драма,мелодрама</td>\n",
       "      <td>Кевин Костнер</td>\n",
       "      <td>боевик</td>\n",
       "    </tr>\n",
       "    <tr>\n",
       "      <td>1</td>\n",
       "      <td>111013716</td>\n",
       "      <td>2016</td>\n",
       "      <td>NaN</td>\n",
       "      <td>особо важное задание</td>\n",
       "      <td>Художественный</td>\n",
       "      <td>Киностудия \"Мосфильм\"</td>\n",
       "      <td>СССР</td>\n",
       "      <td>Е.Матвеев</td>\n",
       "      <td>NaN</td>\n",
       "      <td>«6+» - для детей старше 6 лет</td>\n",
       "      <td>NaN</td>\n",
       "      <td>драма,военный</td>\n",
       "      <td>Е.Матвеев</td>\n",
       "      <td>драма</td>\n",
       "    </tr>\n",
       "    <tr>\n",
       "      <td>2</td>\n",
       "      <td>221038416</td>\n",
       "      <td>2016</td>\n",
       "      <td>NaN</td>\n",
       "      <td>особо опасен</td>\n",
       "      <td>Художественный</td>\n",
       "      <td>Юниверсал Пикчерз, Кикстарт Продакшнз, Марк Пл...</td>\n",
       "      <td>США</td>\n",
       "      <td>Тимур Бекмамбетов</td>\n",
       "      <td>Джим Лемли, Джейсон Нетер, Марк Е.Платт, Яйн Смит</td>\n",
       "      <td>«18+» - запрещено для детей</td>\n",
       "      <td>NaN</td>\n",
       "      <td>фантастика,боевик,триллер</td>\n",
       "      <td>Тимур Бекмамбетов</td>\n",
       "      <td>фантастика</td>\n",
       "    </tr>\n",
       "    <tr>\n",
       "      <td>3</td>\n",
       "      <td>221026916</td>\n",
       "      <td>2016</td>\n",
       "      <td>NaN</td>\n",
       "      <td>особо опасен</td>\n",
       "      <td>Художественный</td>\n",
       "      <td>Юниверсал Пикчерз, Кикстарт Продакшнз, Марк Пл...</td>\n",
       "      <td>США</td>\n",
       "      <td>Тимур Бекмамбетов</td>\n",
       "      <td>Джим Лемли, Джейсон Нетер, Марк Е.Платт, Яйн Смит</td>\n",
       "      <td>«18+» - запрещено для детей</td>\n",
       "      <td>NaN</td>\n",
       "      <td>фантастика,боевик,триллер</td>\n",
       "      <td>Тимур Бекмамбетов</td>\n",
       "      <td>фантастика</td>\n",
       "    </tr>\n",
       "    <tr>\n",
       "      <td>4</td>\n",
       "      <td>221030815</td>\n",
       "      <td>2015</td>\n",
       "      <td>NaN</td>\n",
       "      <td>особо опасен</td>\n",
       "      <td>Художественный</td>\n",
       "      <td>Юниверсал Пикчерз, Кикстарт Продакшнз, Марк Пл...</td>\n",
       "      <td>США</td>\n",
       "      <td>Тимур Бекмамбетов</td>\n",
       "      <td>Джим Лемли, Джейсон Нетер, Марк Е.Платт, Яйн Смит</td>\n",
       "      <td>«18+» - запрещено для детей</td>\n",
       "      <td>NaN</td>\n",
       "      <td>фантастика,боевик,триллер</td>\n",
       "      <td>Тимур Бекмамбетов</td>\n",
       "      <td>фантастика</td>\n",
       "    </tr>\n",
       "  </tbody>\n",
       "</table>\n",
       "</div>"
      ],
      "text/plain": [
       "   release_doc_number  year  box_office                 title            type  \\\n",
       "0           221048915  2015         NaN      открытый простор  Художественный   \n",
       "1           111013716  2016         NaN  особо важное задание  Художественный   \n",
       "2           221038416  2016         NaN          особо опасен  Художественный   \n",
       "3           221026916  2016         NaN          особо опасен  Художественный   \n",
       "4           221030815  2015         NaN          особо опасен  Художественный   \n",
       "\n",
       "                                         film_studio production_country  \\\n",
       "0  Тачстоун Пикчерз, Кобальт Пикчерз, Бикон Пикче...                США   \n",
       "1                              Киностудия \"Мосфильм\"               СССР   \n",
       "2  Юниверсал Пикчерз, Кикстарт Продакшнз, Марк Пл...                США   \n",
       "3  Юниверсал Пикчерз, Кикстарт Продакшнз, Марк Пл...                США   \n",
       "4  Юниверсал Пикчерз, Кикстарт Продакшнз, Марк Пл...                США   \n",
       "\n",
       "            director                                           producer  \\\n",
       "0      Кевин Костнер          Дэвид Валдес, Кевин Костнер, Джейк Эбертс   \n",
       "1          Е.Матвеев                                                NaN   \n",
       "2  Тимур Бекмамбетов  Джим Лемли, Джейсон Нетер, Марк Е.Платт, Яйн Смит   \n",
       "3  Тимур Бекмамбетов  Джим Лемли, Джейсон Нетер, Марк Е.Платт, Яйн Смит   \n",
       "4  Тимур Бекмамбетов  Джим Лемли, Джейсон Нетер, Марк Е.Платт, Яйн Смит   \n",
       "\n",
       "                 age_restriction financing_source                     genres  \\\n",
       "0    «18+» - запрещено для детей              NaN     боевик,драма,мелодрама   \n",
       "1  «6+» - для детей старше 6 лет              NaN              драма,военный   \n",
       "2    «18+» - запрещено для детей              NaN  фантастика,боевик,триллер   \n",
       "3    «18+» - запрещено для детей              NaN  фантастика,боевик,триллер   \n",
       "4    «18+» - запрещено для детей              NaN  фантастика,боевик,триллер   \n",
       "\n",
       "                name  main_genre  \n",
       "0      Кевин Костнер      боевик  \n",
       "1          Е.Матвеев       драма  \n",
       "2  Тимур Бекмамбетов  фантастика  \n",
       "3  Тимур Бекмамбетов  фантастика  \n",
       "4  Тимур Бекмамбетов  фантастика  "
      ]
     },
     "metadata": {},
     "output_type": "display_data"
    }
   ],
   "source": [
    "display(release_data.head())"
   ]
  },
  {
   "cell_type": "markdown",
   "id": "9c4ad97d",
   "metadata": {},
   "source": [
    "Каждый год выходило всех фильмов:"
   ]
  },
  {
   "cell_type": "code",
   "execution_count": 68,
   "id": "8ca458dc",
   "metadata": {},
   "outputs": [
    {
     "name": "stdout",
     "output_type": "stream",
     "text": [
      "Total titles:\n"
     ]
    },
    {
     "data": {
      "text/html": [
       "<div>\n",
       "<style scoped>\n",
       "    .dataframe tbody tr th:only-of-type {\n",
       "        vertical-align: middle;\n",
       "    }\n",
       "\n",
       "    .dataframe tbody tr th {\n",
       "        vertical-align: top;\n",
       "    }\n",
       "\n",
       "    .dataframe thead th {\n",
       "        text-align: right;\n",
       "    }\n",
       "</style>\n",
       "<table border=\"1\" class=\"dataframe\">\n",
       "  <thead>\n",
       "    <tr style=\"text-align: right;\">\n",
       "      <th></th>\n",
       "      <th>title</th>\n",
       "    </tr>\n",
       "    <tr>\n",
       "      <th>year</th>\n",
       "      <th></th>\n",
       "    </tr>\n",
       "  </thead>\n",
       "  <tbody>\n",
       "    <tr>\n",
       "      <td>2010</td>\n",
       "      <td>989</td>\n",
       "    </tr>\n",
       "    <tr>\n",
       "      <td>2011</td>\n",
       "      <td>622</td>\n",
       "    </tr>\n",
       "    <tr>\n",
       "      <td>2012</td>\n",
       "      <td>594</td>\n",
       "    </tr>\n",
       "    <tr>\n",
       "      <td>2013</td>\n",
       "      <td>630</td>\n",
       "    </tr>\n",
       "    <tr>\n",
       "      <td>2014</td>\n",
       "      <td>808</td>\n",
       "    </tr>\n",
       "    <tr>\n",
       "      <td>2015</td>\n",
       "      <td>705</td>\n",
       "    </tr>\n",
       "    <tr>\n",
       "      <td>2016</td>\n",
       "      <td>818</td>\n",
       "    </tr>\n",
       "    <tr>\n",
       "      <td>2017</td>\n",
       "      <td>505</td>\n",
       "    </tr>\n",
       "    <tr>\n",
       "      <td>2018</td>\n",
       "      <td>891</td>\n",
       "    </tr>\n",
       "    <tr>\n",
       "      <td>2019</td>\n",
       "      <td>924</td>\n",
       "    </tr>\n",
       "  </tbody>\n",
       "</table>\n",
       "</div>"
      ],
      "text/plain": [
       "      title\n",
       "year       \n",
       "2010    989\n",
       "2011    622\n",
       "2012    594\n",
       "2013    630\n",
       "2014    808\n",
       "2015    705\n",
       "2016    818\n",
       "2017    505\n",
       "2018    891\n",
       "2019    924"
      ]
     },
     "metadata": {},
     "output_type": "display_data"
    },
    {
     "name": "stdout",
     "output_type": "stream",
     "text": [
      "Unique titles:\n"
     ]
    },
    {
     "data": {
      "text/html": [
       "<div>\n",
       "<style scoped>\n",
       "    .dataframe tbody tr th:only-of-type {\n",
       "        vertical-align: middle;\n",
       "    }\n",
       "\n",
       "    .dataframe tbody tr th {\n",
       "        vertical-align: top;\n",
       "    }\n",
       "\n",
       "    .dataframe thead th {\n",
       "        text-align: right;\n",
       "    }\n",
       "</style>\n",
       "<table border=\"1\" class=\"dataframe\">\n",
       "  <thead>\n",
       "    <tr style=\"text-align: right;\">\n",
       "      <th></th>\n",
       "      <th>all_movies_per_year</th>\n",
       "    </tr>\n",
       "    <tr>\n",
       "      <th>year</th>\n",
       "      <th></th>\n",
       "    </tr>\n",
       "  </thead>\n",
       "  <tbody>\n",
       "    <tr>\n",
       "      <td>2010</td>\n",
       "      <td>841</td>\n",
       "    </tr>\n",
       "    <tr>\n",
       "      <td>2011</td>\n",
       "      <td>559</td>\n",
       "    </tr>\n",
       "    <tr>\n",
       "      <td>2012</td>\n",
       "      <td>546</td>\n",
       "    </tr>\n",
       "    <tr>\n",
       "      <td>2013</td>\n",
       "      <td>586</td>\n",
       "    </tr>\n",
       "    <tr>\n",
       "      <td>2014</td>\n",
       "      <td>762</td>\n",
       "    </tr>\n",
       "    <tr>\n",
       "      <td>2015</td>\n",
       "      <td>670</td>\n",
       "    </tr>\n",
       "    <tr>\n",
       "      <td>2016</td>\n",
       "      <td>791</td>\n",
       "    </tr>\n",
       "    <tr>\n",
       "      <td>2017</td>\n",
       "      <td>504</td>\n",
       "    </tr>\n",
       "    <tr>\n",
       "      <td>2018</td>\n",
       "      <td>883</td>\n",
       "    </tr>\n",
       "    <tr>\n",
       "      <td>2019</td>\n",
       "      <td>919</td>\n",
       "    </tr>\n",
       "  </tbody>\n",
       "</table>\n",
       "</div>"
      ],
      "text/plain": [
       "      all_movies_per_year\n",
       "year                     \n",
       "2010                  841\n",
       "2011                  559\n",
       "2012                  546\n",
       "2013                  586\n",
       "2014                  762\n",
       "2015                  670\n",
       "2016                  791\n",
       "2017                  504\n",
       "2018                  883\n",
       "2019                  919"
      ]
     },
     "metadata": {},
     "output_type": "display_data"
    }
   ],
   "source": [
    "# released_movie_amount = pd.pivot_table(release_data, index = 'year', values = 'title', aggfunc='count')\n",
    "print('Total titles:')\n",
    "res = release_data[['year', 'title']].groupby('year').count()\n",
    "display(res)\n",
    "\n",
    "print(\"Unique titles:\")\n",
    "res = release_data[['year', 'title']].groupby('year').nunique()\n",
    "res = res[['title']]\n",
    "res.columns = ['all_movies_per_year']\n",
    "display(res)"
   ]
  },
  {
   "cell_type": "markdown",
   "id": "d3400af7",
   "metadata": {},
   "source": [
    "На последней таблице видно количество уникальных фильмов, выпускаемых ежегодно. Из этого видно, что число премьер ежегодно растет."
   ]
  },
  {
   "cell_type": "markdown",
   "id": "69be1af2",
   "metadata": {},
   "source": [
    "Посчитаем, какая доля фильмов составляют фильмы с указанной информацией о прокате:"
   ]
  },
  {
   "cell_type": "code",
   "execution_count": 69,
   "id": "7fff4cbf",
   "metadata": {},
   "outputs": [],
   "source": [
    "#released_movie_share = (df_shows['release_doc_number'][~df_shows['release_doc_number'].isna()].count()) / (movies_stat['release_doc_number'][~movies_stat['release_doc_number'].isna()].count())"
   ]
  },
  {
   "cell_type": "code",
   "execution_count": 70,
   "id": "455abebf",
   "metadata": {},
   "outputs": [],
   "source": [
    "# print(released_movie_share)"
   ]
  },
  {
   "cell_type": "code",
   "execution_count": 71,
   "id": "fd0cfbee",
   "metadata": {},
   "outputs": [
    {
     "data": {
      "text/html": [
       "<div>\n",
       "<style scoped>\n",
       "    .dataframe tbody tr th:only-of-type {\n",
       "        vertical-align: middle;\n",
       "    }\n",
       "\n",
       "    .dataframe tbody tr th {\n",
       "        vertical-align: top;\n",
       "    }\n",
       "\n",
       "    .dataframe thead th {\n",
       "        text-align: right;\n",
       "    }\n",
       "</style>\n",
       "<table border=\"1\" class=\"dataframe\">\n",
       "  <thead>\n",
       "    <tr style=\"text-align: right;\">\n",
       "      <th></th>\n",
       "      <th>release_doc_number</th>\n",
       "      <th>box_office</th>\n",
       "      <th>title</th>\n",
       "      <th>show_start_date_x</th>\n",
       "      <th>type</th>\n",
       "      <th>film_studio</th>\n",
       "      <th>production_country</th>\n",
       "      <th>director</th>\n",
       "      <th>producer</th>\n",
       "      <th>age_restriction</th>\n",
       "      <th>...</th>\n",
       "      <th>financing_source</th>\n",
       "      <th>ratings_x</th>\n",
       "      <th>genres</th>\n",
       "      <th>show_start_date_y</th>\n",
       "      <th>refundable_support_y</th>\n",
       "      <th>nonrefundable_support_y</th>\n",
       "      <th>budget_y</th>\n",
       "      <th>ratings_y</th>\n",
       "      <th>year</th>\n",
       "      <th>budget_share</th>\n",
       "    </tr>\n",
       "  </thead>\n",
       "  <tbody>\n",
       "    <tr>\n",
       "      <td>0</td>\n",
       "      <td>111000113</td>\n",
       "      <td>2.450000e+03</td>\n",
       "      <td>тайна перевала дятлова</td>\n",
       "      <td>2013-01-17 12:00:00+00:00</td>\n",
       "      <td>Художественный</td>\n",
       "      <td>ООО \"Нон-Стоп Продакшн\"</td>\n",
       "      <td>Россия</td>\n",
       "      <td>Ренни Харлин</td>\n",
       "      <td>А.Роднянский, С.Мелькумов, С.Беспалов, Киа Джэм</td>\n",
       "      <td>«16+» - для детей старше 16 лет</td>\n",
       "      <td>...</td>\n",
       "      <td>NaN</td>\n",
       "      <td>5.1</td>\n",
       "      <td>ужасы,фантастика</td>\n",
       "      <td>2013-01-17 12:00:00+00:00</td>\n",
       "      <td>NaN</td>\n",
       "      <td>NaN</td>\n",
       "      <td>NaN</td>\n",
       "      <td>5.1</td>\n",
       "      <td>2013</td>\n",
       "      <td>NaN</td>\n",
       "    </tr>\n",
       "    <tr>\n",
       "      <td>1</td>\n",
       "      <td>111000115</td>\n",
       "      <td>6.104000e+04</td>\n",
       "      <td>небесный верблюд</td>\n",
       "      <td>2015-01-14 12:00:00+00:00</td>\n",
       "      <td>Художественный</td>\n",
       "      <td>ООО Продюсерский центр \"Всё хорошо\"</td>\n",
       "      <td>Россия</td>\n",
       "      <td>Ю.Фетинг</td>\n",
       "      <td>И.Плиско</td>\n",
       "      <td>«0+» - для любой зрительской аудитории</td>\n",
       "      <td>...</td>\n",
       "      <td>Министерство культуры</td>\n",
       "      <td>6.7</td>\n",
       "      <td>детский,семейный</td>\n",
       "      <td>2015-01-14 12:00:00+00:00</td>\n",
       "      <td>0.0</td>\n",
       "      <td>34000000.0</td>\n",
       "      <td>49280496.0</td>\n",
       "      <td>6.7</td>\n",
       "      <td>2015</td>\n",
       "      <td>0.69</td>\n",
       "    </tr>\n",
       "    <tr>\n",
       "      <td>2</td>\n",
       "      <td>111000116</td>\n",
       "      <td>1.530300e+08</td>\n",
       "      <td>статус: \"свободен\"</td>\n",
       "      <td>2016-01-13 12:00:00+00:00</td>\n",
       "      <td>Художественный</td>\n",
       "      <td>ООО \"Кинодом\"</td>\n",
       "      <td>Россия</td>\n",
       "      <td>П.Руминов</td>\n",
       "      <td>С.Ливнев, Д.Козловский, С.Бобза</td>\n",
       "      <td>«16+» - для детей старше 16 лет</td>\n",
       "      <td>...</td>\n",
       "      <td>Фонд кино</td>\n",
       "      <td>5.8</td>\n",
       "      <td>комедия,мелодрама</td>\n",
       "      <td>2016-01-13 12:00:00+00:00</td>\n",
       "      <td>20000000.0</td>\n",
       "      <td>20000000.0</td>\n",
       "      <td>78686500.0</td>\n",
       "      <td>5.8</td>\n",
       "      <td>2016</td>\n",
       "      <td>0.51</td>\n",
       "    </tr>\n",
       "    <tr>\n",
       "      <td>3</td>\n",
       "      <td>111000117</td>\n",
       "      <td>1.226096e+07</td>\n",
       "      <td>после тебя</td>\n",
       "      <td>2017-01-10 12:00:00+00:00</td>\n",
       "      <td>Художественный</td>\n",
       "      <td>Компания Production Value WorldWide (ООО \"ПРОД...</td>\n",
       "      <td>Россия</td>\n",
       "      <td>А.Матисон</td>\n",
       "      <td>С.Безруков</td>\n",
       "      <td>«16+» - для детей старше 16 лет</td>\n",
       "      <td>...</td>\n",
       "      <td>Министерство культуры, Фонд кино</td>\n",
       "      <td>6.7</td>\n",
       "      <td>драма</td>\n",
       "      <td>2017-01-10 12:00:00+00:00</td>\n",
       "      <td>7000000.0</td>\n",
       "      <td>20000000.0</td>\n",
       "      <td>45483233.0</td>\n",
       "      <td>6.7</td>\n",
       "      <td>2017</td>\n",
       "      <td>0.59</td>\n",
       "    </tr>\n",
       "    <tr>\n",
       "      <td>4</td>\n",
       "      <td>111000118</td>\n",
       "      <td>1.636841e+08</td>\n",
       "      <td>зомбоящик (zомбоящик)</td>\n",
       "      <td>2018-01-23 12:00:00+00:00</td>\n",
       "      <td>Художественный</td>\n",
       "      <td>ООО \"Комеди Клаб продакшн\"</td>\n",
       "      <td>Россия</td>\n",
       "      <td>З.Болотаев, К.Смирнов</td>\n",
       "      <td>Е.Казаков, Т.Бадзиев</td>\n",
       "      <td>«18+» - запрещено для детей</td>\n",
       "      <td>...</td>\n",
       "      <td>NaN</td>\n",
       "      <td>3.2</td>\n",
       "      <td>комедия</td>\n",
       "      <td>2018-01-23 12:00:00+00:00</td>\n",
       "      <td>NaN</td>\n",
       "      <td>NaN</td>\n",
       "      <td>NaN</td>\n",
       "      <td>3.2</td>\n",
       "      <td>2018</td>\n",
       "      <td>NaN</td>\n",
       "    </tr>\n",
       "  </tbody>\n",
       "</table>\n",
       "<p>5 rows × 23 columns</p>\n",
       "</div>"
      ],
      "text/plain": [
       "   release_doc_number    box_office                   title  \\\n",
       "0           111000113  2.450000e+03  тайна перевала дятлова   \n",
       "1           111000115  6.104000e+04        небесный верблюд   \n",
       "2           111000116  1.530300e+08      статус: \"свободен\"   \n",
       "3           111000117  1.226096e+07              после тебя   \n",
       "4           111000118  1.636841e+08   зомбоящик (zомбоящик)   \n",
       "\n",
       "          show_start_date_x            type  \\\n",
       "0 2013-01-17 12:00:00+00:00  Художественный   \n",
       "1 2015-01-14 12:00:00+00:00  Художественный   \n",
       "2 2016-01-13 12:00:00+00:00  Художественный   \n",
       "3 2017-01-10 12:00:00+00:00  Художественный   \n",
       "4 2018-01-23 12:00:00+00:00  Художественный   \n",
       "\n",
       "                                         film_studio production_country  \\\n",
       "0                            ООО \"Нон-Стоп Продакшн\"             Россия   \n",
       "1                ООО Продюсерский центр \"Всё хорошо\"             Россия   \n",
       "2                                      ООО \"Кинодом\"             Россия   \n",
       "3  Компания Production Value WorldWide (ООО \"ПРОД...             Россия   \n",
       "4                         ООО \"Комеди Клаб продакшн\"             Россия   \n",
       "\n",
       "                director                                         producer  \\\n",
       "0           Ренни Харлин  А.Роднянский, С.Мелькумов, С.Беспалов, Киа Джэм   \n",
       "1               Ю.Фетинг                                         И.Плиско   \n",
       "2              П.Руминов                  С.Ливнев, Д.Козловский, С.Бобза   \n",
       "3              А.Матисон                                       С.Безруков   \n",
       "4  З.Болотаев, К.Смирнов                             Е.Казаков, Т.Бадзиев   \n",
       "\n",
       "                          age_restriction  ...  \\\n",
       "0         «16+» - для детей старше 16 лет  ...   \n",
       "1  «0+» - для любой зрительской аудитории  ...   \n",
       "2         «16+» - для детей старше 16 лет  ...   \n",
       "3         «16+» - для детей старше 16 лет  ...   \n",
       "4             «18+» - запрещено для детей  ...   \n",
       "\n",
       "                   financing_source  ratings_x             genres  \\\n",
       "0                               NaN        5.1   ужасы,фантастика   \n",
       "1             Министерство культуры        6.7   детский,семейный   \n",
       "2                         Фонд кино        5.8  комедия,мелодрама   \n",
       "3  Министерство культуры, Фонд кино        6.7              драма   \n",
       "4                               NaN        3.2            комедия   \n",
       "\n",
       "          show_start_date_y  refundable_support_y nonrefundable_support_y  \\\n",
       "0 2013-01-17 12:00:00+00:00                   NaN                     NaN   \n",
       "1 2015-01-14 12:00:00+00:00                   0.0              34000000.0   \n",
       "2 2016-01-13 12:00:00+00:00            20000000.0              20000000.0   \n",
       "3 2017-01-10 12:00:00+00:00             7000000.0              20000000.0   \n",
       "4 2018-01-23 12:00:00+00:00                   NaN                     NaN   \n",
       "\n",
       "     budget_y  ratings_y  year  budget_share  \n",
       "0         NaN        5.1  2013           NaN  \n",
       "1  49280496.0        6.7  2015          0.69  \n",
       "2  78686500.0        5.8  2016          0.51  \n",
       "3  45483233.0        6.7  2017          0.59  \n",
       "4         NaN        3.2  2018           NaN  \n",
       "\n",
       "[5 rows x 23 columns]"
      ]
     },
     "metadata": {},
     "output_type": "display_data"
    },
    {
     "name": "stdout",
     "output_type": "stream",
     "text": [
      "<class 'pandas.core.frame.DataFrame'>\n",
      "Int64Index: 3158 entries, 0 to 3157\n",
      "Data columns (total 23 columns):\n",
      "release_doc_number         3158 non-null int64\n",
      "box_office                 3158 non-null float64\n",
      "title                      3158 non-null object\n",
      "show_start_date_x          3158 non-null datetime64[ns, UTC]\n",
      "type                       3158 non-null object\n",
      "film_studio                3157 non-null object\n",
      "production_country         3157 non-null object\n",
      "director                   3157 non-null object\n",
      "producer                   3042 non-null object\n",
      "age_restriction            3158 non-null object\n",
      "refundable_support_x       318 non-null float64\n",
      "nonrefundable_support_x    318 non-null float64\n",
      "budget_x                   318 non-null float64\n",
      "financing_source           318 non-null object\n",
      "ratings_x                  2914 non-null float64\n",
      "genres                     2909 non-null object\n",
      "show_start_date_y          3158 non-null datetime64[ns, UTC]\n",
      "refundable_support_y       318 non-null float64\n",
      "nonrefundable_support_y    318 non-null float64\n",
      "budget_y                   318 non-null float64\n",
      "ratings_y                  2914 non-null float64\n",
      "year                       3158 non-null int64\n",
      "budget_share               318 non-null float64\n",
      "dtypes: datetime64[ns, UTC](2), float64(10), int64(2), object(9)\n",
      "memory usage: 592.1+ KB\n"
     ]
    }
   ],
   "source": [
    "show_merged = df_shows.merge(df_movies, on='release_doc_number', how='left').merge(movies_stat, on='release_doc_number', how='left')\n",
    "display(show_merged.head())\n",
    "show_merged.info()"
   ]
  },
  {
   "cell_type": "code",
   "execution_count": 72,
   "id": "4f5b28c0",
   "metadata": {},
   "outputs": [
    {
     "data": {
      "text/html": [
       "<div>\n",
       "<style scoped>\n",
       "    .dataframe tbody tr th:only-of-type {\n",
       "        vertical-align: middle;\n",
       "    }\n",
       "\n",
       "    .dataframe tbody tr th {\n",
       "        vertical-align: top;\n",
       "    }\n",
       "\n",
       "    .dataframe thead th {\n",
       "        text-align: right;\n",
       "    }\n",
       "</style>\n",
       "<table border=\"1\" class=\"dataframe\">\n",
       "  <thead>\n",
       "    <tr style=\"text-align: right;\">\n",
       "      <th></th>\n",
       "      <th>unique_shows</th>\n",
       "    </tr>\n",
       "    <tr>\n",
       "      <th>year</th>\n",
       "      <th></th>\n",
       "    </tr>\n",
       "  </thead>\n",
       "  <tbody>\n",
       "    <tr>\n",
       "      <td>2010</td>\n",
       "      <td>102</td>\n",
       "    </tr>\n",
       "    <tr>\n",
       "      <td>2011</td>\n",
       "      <td>108</td>\n",
       "    </tr>\n",
       "    <tr>\n",
       "      <td>2012</td>\n",
       "      <td>128</td>\n",
       "    </tr>\n",
       "    <tr>\n",
       "      <td>2013</td>\n",
       "      <td>184</td>\n",
       "    </tr>\n",
       "    <tr>\n",
       "      <td>2014</td>\n",
       "      <td>277</td>\n",
       "    </tr>\n",
       "    <tr>\n",
       "      <td>2015</td>\n",
       "      <td>463</td>\n",
       "    </tr>\n",
       "    <tr>\n",
       "      <td>2016</td>\n",
       "      <td>522</td>\n",
       "    </tr>\n",
       "    <tr>\n",
       "      <td>2017</td>\n",
       "      <td>357</td>\n",
       "    </tr>\n",
       "    <tr>\n",
       "      <td>2018</td>\n",
       "      <td>475</td>\n",
       "    </tr>\n",
       "    <tr>\n",
       "      <td>2019</td>\n",
       "      <td>530</td>\n",
       "    </tr>\n",
       "  </tbody>\n",
       "</table>\n",
       "</div>"
      ],
      "text/plain": [
       "      unique_shows\n",
       "year              \n",
       "2010           102\n",
       "2011           108\n",
       "2012           128\n",
       "2013           184\n",
       "2014           277\n",
       "2015           463\n",
       "2016           522\n",
       "2017           357\n",
       "2018           475\n",
       "2019           530"
      ]
     },
     "metadata": {},
     "output_type": "display_data"
    }
   ],
   "source": [
    "stat_by_year = pd.pivot_table(show_merged, index='year', values='title', aggfunc='nunique')\n",
    "stat_by_year = stat_by_year[['title']]\n",
    "stat_by_year.columns = ['unique_shows']\n",
    "display(stat_by_year)\n",
    "\n",
    "stat_by_year = stat_by_year.merge(res, left_index=True, right_index=True)\n"
   ]
  },
  {
   "cell_type": "code",
   "execution_count": 73,
   "id": "2baed9fc",
   "metadata": {},
   "outputs": [
    {
     "data": {
      "text/html": [
       "<div>\n",
       "<style scoped>\n",
       "    .dataframe tbody tr th:only-of-type {\n",
       "        vertical-align: middle;\n",
       "    }\n",
       "\n",
       "    .dataframe tbody tr th {\n",
       "        vertical-align: top;\n",
       "    }\n",
       "\n",
       "    .dataframe thead th {\n",
       "        text-align: right;\n",
       "    }\n",
       "</style>\n",
       "<table border=\"1\" class=\"dataframe\">\n",
       "  <thead>\n",
       "    <tr style=\"text-align: right;\">\n",
       "      <th></th>\n",
       "      <th>unique_shows</th>\n",
       "      <th>all_movies_per_year</th>\n",
       "    </tr>\n",
       "    <tr>\n",
       "      <th>year</th>\n",
       "      <th></th>\n",
       "      <th></th>\n",
       "    </tr>\n",
       "  </thead>\n",
       "  <tbody>\n",
       "    <tr>\n",
       "      <td>2010</td>\n",
       "      <td>102</td>\n",
       "      <td>841</td>\n",
       "    </tr>\n",
       "    <tr>\n",
       "      <td>2011</td>\n",
       "      <td>108</td>\n",
       "      <td>559</td>\n",
       "    </tr>\n",
       "    <tr>\n",
       "      <td>2012</td>\n",
       "      <td>128</td>\n",
       "      <td>546</td>\n",
       "    </tr>\n",
       "    <tr>\n",
       "      <td>2013</td>\n",
       "      <td>184</td>\n",
       "      <td>586</td>\n",
       "    </tr>\n",
       "    <tr>\n",
       "      <td>2014</td>\n",
       "      <td>277</td>\n",
       "      <td>762</td>\n",
       "    </tr>\n",
       "    <tr>\n",
       "      <td>2015</td>\n",
       "      <td>463</td>\n",
       "      <td>670</td>\n",
       "    </tr>\n",
       "    <tr>\n",
       "      <td>2016</td>\n",
       "      <td>522</td>\n",
       "      <td>791</td>\n",
       "    </tr>\n",
       "    <tr>\n",
       "      <td>2017</td>\n",
       "      <td>357</td>\n",
       "      <td>504</td>\n",
       "    </tr>\n",
       "    <tr>\n",
       "      <td>2018</td>\n",
       "      <td>475</td>\n",
       "      <td>883</td>\n",
       "    </tr>\n",
       "    <tr>\n",
       "      <td>2019</td>\n",
       "      <td>530</td>\n",
       "      <td>919</td>\n",
       "    </tr>\n",
       "  </tbody>\n",
       "</table>\n",
       "</div>"
      ],
      "text/plain": [
       "      unique_shows  all_movies_per_year\n",
       "year                                   \n",
       "2010           102                  841\n",
       "2011           108                  559\n",
       "2012           128                  546\n",
       "2013           184                  586\n",
       "2014           277                  762\n",
       "2015           463                  670\n",
       "2016           522                  791\n",
       "2017           357                  504\n",
       "2018           475                  883\n",
       "2019           530                  919"
      ]
     },
     "metadata": {},
     "output_type": "display_data"
    }
   ],
   "source": [
    "display(stat_by_year)"
   ]
  },
  {
   "cell_type": "code",
   "execution_count": 74,
   "id": "920d682f",
   "metadata": {
    "scrolled": true
   },
   "outputs": [
    {
     "data": {
      "text/html": [
       "<div>\n",
       "<style scoped>\n",
       "    .dataframe tbody tr th:only-of-type {\n",
       "        vertical-align: middle;\n",
       "    }\n",
       "\n",
       "    .dataframe tbody tr th {\n",
       "        vertical-align: top;\n",
       "    }\n",
       "\n",
       "    .dataframe thead th {\n",
       "        text-align: right;\n",
       "    }\n",
       "</style>\n",
       "<table border=\"1\" class=\"dataframe\">\n",
       "  <thead>\n",
       "    <tr style=\"text-align: right;\">\n",
       "      <th></th>\n",
       "      <th>unique_shows</th>\n",
       "      <th>all_movies_per_year</th>\n",
       "      <th>share_of_shows_by_all</th>\n",
       "    </tr>\n",
       "    <tr>\n",
       "      <th>year</th>\n",
       "      <th></th>\n",
       "      <th></th>\n",
       "      <th></th>\n",
       "    </tr>\n",
       "  </thead>\n",
       "  <tbody>\n",
       "    <tr>\n",
       "      <td>2010</td>\n",
       "      <td>102</td>\n",
       "      <td>841</td>\n",
       "      <td>0.121284</td>\n",
       "    </tr>\n",
       "    <tr>\n",
       "      <td>2011</td>\n",
       "      <td>108</td>\n",
       "      <td>559</td>\n",
       "      <td>0.193202</td>\n",
       "    </tr>\n",
       "    <tr>\n",
       "      <td>2012</td>\n",
       "      <td>128</td>\n",
       "      <td>546</td>\n",
       "      <td>0.234432</td>\n",
       "    </tr>\n",
       "    <tr>\n",
       "      <td>2013</td>\n",
       "      <td>184</td>\n",
       "      <td>586</td>\n",
       "      <td>0.313993</td>\n",
       "    </tr>\n",
       "    <tr>\n",
       "      <td>2014</td>\n",
       "      <td>277</td>\n",
       "      <td>762</td>\n",
       "      <td>0.363517</td>\n",
       "    </tr>\n",
       "    <tr>\n",
       "      <td>2015</td>\n",
       "      <td>463</td>\n",
       "      <td>670</td>\n",
       "      <td>0.691045</td>\n",
       "    </tr>\n",
       "    <tr>\n",
       "      <td>2016</td>\n",
       "      <td>522</td>\n",
       "      <td>791</td>\n",
       "      <td>0.659924</td>\n",
       "    </tr>\n",
       "    <tr>\n",
       "      <td>2017</td>\n",
       "      <td>357</td>\n",
       "      <td>504</td>\n",
       "      <td>0.708333</td>\n",
       "    </tr>\n",
       "    <tr>\n",
       "      <td>2018</td>\n",
       "      <td>475</td>\n",
       "      <td>883</td>\n",
       "      <td>0.537939</td>\n",
       "    </tr>\n",
       "    <tr>\n",
       "      <td>2019</td>\n",
       "      <td>530</td>\n",
       "      <td>919</td>\n",
       "      <td>0.576714</td>\n",
       "    </tr>\n",
       "  </tbody>\n",
       "</table>\n",
       "</div>"
      ],
      "text/plain": [
       "      unique_shows  all_movies_per_year  share_of_shows_by_all\n",
       "year                                                          \n",
       "2010           102                  841               0.121284\n",
       "2011           108                  559               0.193202\n",
       "2012           128                  546               0.234432\n",
       "2013           184                  586               0.313993\n",
       "2014           277                  762               0.363517\n",
       "2015           463                  670               0.691045\n",
       "2016           522                  791               0.659924\n",
       "2017           357                  504               0.708333\n",
       "2018           475                  883               0.537939\n",
       "2019           530                  919               0.576714"
      ]
     },
     "metadata": {},
     "output_type": "display_data"
    }
   ],
   "source": [
    "stat_by_year['share_of_shows_by_all'] = stat_by_year['unique_shows'] / res['all_movies_per_year']\n",
    "display(stat_by_year)"
   ]
  },
  {
   "cell_type": "code",
   "execution_count": 75,
   "id": "db2013e7",
   "metadata": {
    "scrolled": false
   },
   "outputs": [
    {
     "data": {
      "text/plain": [
       "<matplotlib.axes._subplots.AxesSubplot at 0x7f9775d72350>"
      ]
     },
     "execution_count": 75,
     "metadata": {},
     "output_type": "execute_result"
    },
    {
     "data": {
      "image/png": "[encoded data removed]",
      "text/plain": [
       "<Figure size 432x288 with 1 Axes>"
      ]
     },
     "metadata": {
      "needs_background": "light"
     },
     "output_type": "display_data"
    }
   ],
   "source": [
    "stat_by_year['share_of_shows_by_all'].plot(kind='bar')"
   ]
  },
  {
   "cell_type": "code",
   "execution_count": 76,
   "id": "bb7d726a",
   "metadata": {},
   "outputs": [
    {
     "data": {
      "text/plain": [
       "count    10.000000\n",
       "mean      0.440038\n",
       "std       0.220643\n",
       "min       0.121284\n",
       "25%       0.254322\n",
       "50%       0.450728\n",
       "75%       0.639122\n",
       "max       0.708333\n",
       "Name: share_of_shows_by_all, dtype: float64"
      ]
     },
     "metadata": {},
     "output_type": "display_data"
    }
   ],
   "source": [
    "display(stat_by_year['share_of_shows_by_all'].describe())"
   ]
  },
  {
   "cell_type": "markdown",
   "id": "2cd19b92",
   "metadata": {},
   "source": [
    "Динамика проката по годам:"
   ]
  },
  {
   "cell_type": "code",
   "execution_count": 77,
   "id": "4e2bb846",
   "metadata": {},
   "outputs": [
    {
     "data": {
      "text/html": [
       "<div>\n",
       "<style scoped>\n",
       "    .dataframe tbody tr th:only-of-type {\n",
       "        vertical-align: middle;\n",
       "    }\n",
       "\n",
       "    .dataframe tbody tr th {\n",
       "        vertical-align: top;\n",
       "    }\n",
       "\n",
       "    .dataframe thead th {\n",
       "        text-align: right;\n",
       "    }\n",
       "</style>\n",
       "<table border=\"1\" class=\"dataframe\">\n",
       "  <thead>\n",
       "    <tr style=\"text-align: right;\">\n",
       "      <th></th>\n",
       "      <th>box_office</th>\n",
       "      <th>year</th>\n",
       "    </tr>\n",
       "    <tr>\n",
       "      <th>year</th>\n",
       "      <th></th>\n",
       "      <th></th>\n",
       "    </tr>\n",
       "  </thead>\n",
       "  <tbody>\n",
       "    <tr>\n",
       "      <td>2010</td>\n",
       "      <td>2.428654e+06</td>\n",
       "      <td>2010</td>\n",
       "    </tr>\n",
       "    <tr>\n",
       "      <td>2011</td>\n",
       "      <td>1.410276e+07</td>\n",
       "      <td>2011</td>\n",
       "    </tr>\n",
       "    <tr>\n",
       "      <td>2012</td>\n",
       "      <td>6.955423e+06</td>\n",
       "      <td>2012</td>\n",
       "    </tr>\n",
       "    <tr>\n",
       "      <td>2013</td>\n",
       "      <td>2.979971e+07</td>\n",
       "      <td>2013</td>\n",
       "    </tr>\n",
       "    <tr>\n",
       "      <td>2014</td>\n",
       "      <td>7.444952e+09</td>\n",
       "      <td>2014</td>\n",
       "    </tr>\n",
       "    <tr>\n",
       "      <td>2015</td>\n",
       "      <td>3.949737e+10</td>\n",
       "      <td>2015</td>\n",
       "    </tr>\n",
       "    <tr>\n",
       "      <td>2016</td>\n",
       "      <td>4.786630e+10</td>\n",
       "      <td>2016</td>\n",
       "    </tr>\n",
       "    <tr>\n",
       "      <td>2017</td>\n",
       "      <td>4.856371e+10</td>\n",
       "      <td>2017</td>\n",
       "    </tr>\n",
       "    <tr>\n",
       "      <td>2018</td>\n",
       "      <td>4.966840e+10</td>\n",
       "      <td>2018</td>\n",
       "    </tr>\n",
       "    <tr>\n",
       "      <td>2019</td>\n",
       "      <td>4.842571e+10</td>\n",
       "      <td>2019</td>\n",
       "    </tr>\n",
       "  </tbody>\n",
       "</table>\n",
       "</div>"
      ],
      "text/plain": [
       "        box_office  year\n",
       "year                    \n",
       "2010  2.428654e+06  2010\n",
       "2011  1.410276e+07  2011\n",
       "2012  6.955423e+06  2012\n",
       "2013  2.979971e+07  2013\n",
       "2014  7.444952e+09  2014\n",
       "2015  3.949737e+10  2015\n",
       "2016  4.786630e+10  2016\n",
       "2017  4.856371e+10  2017\n",
       "2018  4.966840e+10  2018\n",
       "2019  4.842571e+10  2019"
      ]
     },
     "metadata": {},
     "output_type": "display_data"
    },
    {
     "data": {
      "text/plain": [
       "Text(0.5, 1.0, 'Income per year')"
      ]
     },
     "execution_count": 77,
     "metadata": {},
     "output_type": "execute_result"
    },
    {
     "data": {
      "image/png": "[encoded data removed]",
      "text/plain": [
       "<Figure size 864x432 with 1 Axes>"
      ]
     },
     "metadata": {
      "needs_background": "light"
     },
     "output_type": "display_data"
    }
   ],
   "source": [
    "release_per_year = pd.DataFrame(release_data[['year', 'box_office']].groupby('year')['box_office'].sum()) #pd.pivot_table(release)\n",
    "release_per_year['year'] = release_per_year.index\n",
    "display(release_per_year)\n",
    "fig = release_per_year.plot(x='year', y='box_office', style='o-', grid=True, figsize=(12, 6), logy=True)\n",
    "fig.set_ylabel('total income')\n",
    "fig.set_title('Income per year')\n",
    "# release_per_year.hist(bins=10)"
   ]
  },
  {
   "cell_type": "markdown",
   "id": "f0eb9a85",
   "metadata": {},
   "source": [
    "Самая большая прибыль с кинопоказов зафиксирована с 2015 года, Самая мальенькая - в 2010. С 2012 до 2015 года можно сказать, что прибыть выросла на 4 порядка.\n"
   ]
  },
  {
   "cell_type": "markdown",
   "id": "35f5f09d",
   "metadata": {},
   "source": [
    "Построим сводную таблицу и найдем  среднюю и медиану от прибыли кинопоказов по годам."
   ]
  },
  {
   "cell_type": "code",
   "execution_count": 78,
   "id": "aa4987d0",
   "metadata": {},
   "outputs": [
    {
     "data": {
      "text/html": [
       "<div>\n",
       "<style scoped>\n",
       "    .dataframe tbody tr th:only-of-type {\n",
       "        vertical-align: middle;\n",
       "    }\n",
       "\n",
       "    .dataframe tbody tr th {\n",
       "        vertical-align: top;\n",
       "    }\n",
       "\n",
       "    .dataframe thead th {\n",
       "        text-align: right;\n",
       "    }\n",
       "</style>\n",
       "<table border=\"1\" class=\"dataframe\">\n",
       "  <thead>\n",
       "    <tr style=\"text-align: right;\">\n",
       "      <th></th>\n",
       "      <th>median_income</th>\n",
       "      <th>mean_income</th>\n",
       "    </tr>\n",
       "    <tr>\n",
       "      <th>year</th>\n",
       "      <th></th>\n",
       "      <th></th>\n",
       "    </tr>\n",
       "  </thead>\n",
       "  <tbody>\n",
       "    <tr>\n",
       "      <td>2010</td>\n",
       "      <td>1700.000</td>\n",
       "      <td>2.313004e+04</td>\n",
       "    </tr>\n",
       "    <tr>\n",
       "      <td>2011</td>\n",
       "      <td>3000.000</td>\n",
       "      <td>1.293832e+05</td>\n",
       "    </tr>\n",
       "    <tr>\n",
       "      <td>2012</td>\n",
       "      <td>5660.000</td>\n",
       "      <td>5.433924e+04</td>\n",
       "    </tr>\n",
       "    <tr>\n",
       "      <td>2013</td>\n",
       "      <td>3522.500</td>\n",
       "      <td>1.619549e+05</td>\n",
       "    </tr>\n",
       "    <tr>\n",
       "      <td>2014</td>\n",
       "      <td>18160.000</td>\n",
       "      <td>2.668442e+07</td>\n",
       "    </tr>\n",
       "    <tr>\n",
       "      <td>2015</td>\n",
       "      <td>4920933.000</td>\n",
       "      <td>8.494057e+07</td>\n",
       "    </tr>\n",
       "    <tr>\n",
       "      <td>2016</td>\n",
       "      <td>3846679.410</td>\n",
       "      <td>9.100057e+07</td>\n",
       "    </tr>\n",
       "    <tr>\n",
       "      <td>2017</td>\n",
       "      <td>9968340.000</td>\n",
       "      <td>1.360328e+08</td>\n",
       "    </tr>\n",
       "    <tr>\n",
       "      <td>2018</td>\n",
       "      <td>8891102.210</td>\n",
       "      <td>1.045651e+08</td>\n",
       "    </tr>\n",
       "    <tr>\n",
       "      <td>2019</td>\n",
       "      <td>4627798.345</td>\n",
       "      <td>9.136926e+07</td>\n",
       "    </tr>\n",
       "  </tbody>\n",
       "</table>\n",
       "</div>"
      ],
      "text/plain": [
       "      median_income   mean_income\n",
       "year                             \n",
       "2010       1700.000  2.313004e+04\n",
       "2011       3000.000  1.293832e+05\n",
       "2012       5660.000  5.433924e+04\n",
       "2013       3522.500  1.619549e+05\n",
       "2014      18160.000  2.668442e+07\n",
       "2015    4920933.000  8.494057e+07\n",
       "2016    3846679.410  9.100057e+07\n",
       "2017    9968340.000  1.360328e+08\n",
       "2018    8891102.210  1.045651e+08\n",
       "2019    4627798.345  9.136926e+07"
      ]
     },
     "metadata": {},
     "output_type": "display_data"
    }
   ],
   "source": [
    "year_income = pd.pivot_table(release_data, values=['box_office'], index='year', aggfunc=['median', 'mean'])\n",
    "\n",
    "year_income.columns = ['median_income', 'mean_income']\n",
    "display(year_income)"
   ]
  },
  {
   "cell_type": "code",
   "execution_count": 79,
   "id": "3ab7b911",
   "metadata": {},
   "outputs": [
    {
     "data": {
      "text/plain": [
       "Text(0.5, 1.0, 'Income per movie (annually)')"
      ]
     },
     "execution_count": 79,
     "metadata": {},
     "output_type": "execute_result"
    },
    {
     "data": {
      "image/png": "[encoded data removed]",
      "text/plain": [
       "<Figure size 432x288 with 1 Axes>"
      ]
     },
     "metadata": {
      "needs_background": "light"
     },
     "output_type": "display_data"
    }
   ],
   "source": [
    "fig = year_income.plot(logy=True)\n",
    "fig.set_ylabel('income per movie')\n",
    "fig.set_title('Income per movie (annually)')"
   ]
  },
  {
   "cell_type": "markdown",
   "id": "a606da4e",
   "metadata": {},
   "source": [
    "Есть несколько елиниц фильмов, у которы прибыль фантастически большая, медианная же - всегда на порядок меньше. "
   ]
  },
  {
   "cell_type": "code",
   "execution_count": 80,
   "id": "a36bc0e8",
   "metadata": {},
   "outputs": [
    {
     "data": {
      "text/html": [
       "<div>\n",
       "<style scoped>\n",
       "    .dataframe tbody tr th:only-of-type {\n",
       "        vertical-align: middle;\n",
       "    }\n",
       "\n",
       "    .dataframe tbody tr th {\n",
       "        vertical-align: top;\n",
       "    }\n",
       "\n",
       "    .dataframe thead tr th {\n",
       "        text-align: left;\n",
       "    }\n",
       "\n",
       "    .dataframe thead tr:last-of-type th {\n",
       "        text-align: right;\n",
       "    }\n",
       "</style>\n",
       "<table border=\"1\" class=\"dataframe\">\n",
       "  <thead>\n",
       "    <tr>\n",
       "      <th></th>\n",
       "      <th colspan=\"5\" halign=\"left\">mean</th>\n",
       "      <th colspan=\"5\" halign=\"left\">median</th>\n",
       "    </tr>\n",
       "    <tr>\n",
       "      <th></th>\n",
       "      <th colspan=\"5\" halign=\"left\">box_office</th>\n",
       "      <th colspan=\"5\" halign=\"left\">box_office</th>\n",
       "    </tr>\n",
       "    <tr>\n",
       "      <th>age_restriction</th>\n",
       "      <th>«0+» - для любой зрительской аудитории</th>\n",
       "      <th>«12+» - для детей старше 12 лет</th>\n",
       "      <th>«16+» - для детей старше 16 лет</th>\n",
       "      <th>«18+» - запрещено для детей</th>\n",
       "      <th>«6+» - для детей старше 6 лет</th>\n",
       "      <th>«0+» - для любой зрительской аудитории</th>\n",
       "      <th>«12+» - для детей старше 12 лет</th>\n",
       "      <th>«16+» - для детей старше 16 лет</th>\n",
       "      <th>«18+» - запрещено для детей</th>\n",
       "      <th>«6+» - для детей старше 6 лет</th>\n",
       "    </tr>\n",
       "    <tr>\n",
       "      <th>year</th>\n",
       "      <th></th>\n",
       "      <th></th>\n",
       "      <th></th>\n",
       "      <th></th>\n",
       "      <th></th>\n",
       "      <th></th>\n",
       "      <th></th>\n",
       "      <th></th>\n",
       "      <th></th>\n",
       "      <th></th>\n",
       "    </tr>\n",
       "  </thead>\n",
       "  <tbody>\n",
       "    <tr>\n",
       "      <td>2010</td>\n",
       "      <td>8.580050e+04</td>\n",
       "      <td>7.067412e+03</td>\n",
       "      <td>6.319172e+03</td>\n",
       "      <td>6.798125e+03</td>\n",
       "      <td>NaN</td>\n",
       "      <td>6052.50</td>\n",
       "      <td>2650.00</td>\n",
       "      <td>1000.000</td>\n",
       "      <td>915.00</td>\n",
       "      <td>NaN</td>\n",
       "    </tr>\n",
       "    <tr>\n",
       "      <td>2011</td>\n",
       "      <td>4.499957e+05</td>\n",
       "      <td>9.995045e+03</td>\n",
       "      <td>7.065056e+03</td>\n",
       "      <td>5.200000e+02</td>\n",
       "      <td>4.500000e+02</td>\n",
       "      <td>7010.00</td>\n",
       "      <td>3741.50</td>\n",
       "      <td>2835.000</td>\n",
       "      <td>520.00</td>\n",
       "      <td>4.500000e+02</td>\n",
       "    </tr>\n",
       "    <tr>\n",
       "      <td>2012</td>\n",
       "      <td>7.554943e+04</td>\n",
       "      <td>6.795875e+03</td>\n",
       "      <td>6.641257e+04</td>\n",
       "      <td>1.074000e+04</td>\n",
       "      <td>7.146312e+04</td>\n",
       "      <td>18067.50</td>\n",
       "      <td>3685.00</td>\n",
       "      <td>1600.000</td>\n",
       "      <td>1385.00</td>\n",
       "      <td>6.475000e+03</td>\n",
       "    </tr>\n",
       "    <tr>\n",
       "      <td>2013</td>\n",
       "      <td>7.325142e+04</td>\n",
       "      <td>3.485056e+05</td>\n",
       "      <td>1.462377e+04</td>\n",
       "      <td>3.225778e+05</td>\n",
       "      <td>1.383662e+04</td>\n",
       "      <td>13225.00</td>\n",
       "      <td>2250.00</td>\n",
       "      <td>3300.000</td>\n",
       "      <td>1775.00</td>\n",
       "      <td>3.457500e+03</td>\n",
       "    </tr>\n",
       "    <tr>\n",
       "      <td>2014</td>\n",
       "      <td>9.883217e+06</td>\n",
       "      <td>3.077122e+07</td>\n",
       "      <td>6.637562e+06</td>\n",
       "      <td>4.910473e+07</td>\n",
       "      <td>5.768715e+07</td>\n",
       "      <td>190855.00</td>\n",
       "      <td>6037.50</td>\n",
       "      <td>13640.000</td>\n",
       "      <td>180108.00</td>\n",
       "      <td>1.258100e+05</td>\n",
       "    </tr>\n",
       "    <tr>\n",
       "      <td>2015</td>\n",
       "      <td>9.719348e+06</td>\n",
       "      <td>1.865217e+08</td>\n",
       "      <td>6.766739e+07</td>\n",
       "      <td>4.115385e+07</td>\n",
       "      <td>1.641849e+08</td>\n",
       "      <td>2943318.70</td>\n",
       "      <td>15351562.50</td>\n",
       "      <td>4676819.400</td>\n",
       "      <td>4616614.70</td>\n",
       "      <td>2.038098e+07</td>\n",
       "    </tr>\n",
       "    <tr>\n",
       "      <td>2016</td>\n",
       "      <td>3.664118e+06</td>\n",
       "      <td>1.488347e+08</td>\n",
       "      <td>9.156345e+07</td>\n",
       "      <td>4.499291e+07</td>\n",
       "      <td>1.721878e+08</td>\n",
       "      <td>2571294.10</td>\n",
       "      <td>4690635.25</td>\n",
       "      <td>5133021.740</td>\n",
       "      <td>6107001.74</td>\n",
       "      <td>3.026256e+06</td>\n",
       "    </tr>\n",
       "    <tr>\n",
       "      <td>2017</td>\n",
       "      <td>7.653298e+07</td>\n",
       "      <td>1.914982e+08</td>\n",
       "      <td>1.549177e+08</td>\n",
       "      <td>6.565643e+07</td>\n",
       "      <td>2.685809e+08</td>\n",
       "      <td>22178956.00</td>\n",
       "      <td>9010548.00</td>\n",
       "      <td>9702077.000</td>\n",
       "      <td>8212677.00</td>\n",
       "      <td>5.199210e+07</td>\n",
       "    </tr>\n",
       "    <tr>\n",
       "      <td>2018</td>\n",
       "      <td>6.489800e+06</td>\n",
       "      <td>2.129447e+08</td>\n",
       "      <td>1.057923e+08</td>\n",
       "      <td>4.893903e+07</td>\n",
       "      <td>1.486026e+08</td>\n",
       "      <td>3616937.28</td>\n",
       "      <td>8931965.66</td>\n",
       "      <td>9010638.625</td>\n",
       "      <td>7179466.00</td>\n",
       "      <td>1.468885e+07</td>\n",
       "    </tr>\n",
       "    <tr>\n",
       "      <td>2019</td>\n",
       "      <td>5.915356e+06</td>\n",
       "      <td>1.491788e+08</td>\n",
       "      <td>7.164842e+07</td>\n",
       "      <td>5.531036e+07</td>\n",
       "      <td>1.586734e+08</td>\n",
       "      <td>3885434.50</td>\n",
       "      <td>3405545.76</td>\n",
       "      <td>3210717.810</td>\n",
       "      <td>5603216.55</td>\n",
       "      <td>1.287535e+07</td>\n",
       "    </tr>\n",
       "  </tbody>\n",
       "</table>\n",
       "</div>"
      ],
      "text/plain": [
       "                                                  mean  \\\n",
       "                                            box_office   \n",
       "age_restriction «0+» - для любой зрительской аудитории   \n",
       "year                                                     \n",
       "2010                                      8.580050e+04   \n",
       "2011                                      4.499957e+05   \n",
       "2012                                      7.554943e+04   \n",
       "2013                                      7.325142e+04   \n",
       "2014                                      9.883217e+06   \n",
       "2015                                      9.719348e+06   \n",
       "2016                                      3.664118e+06   \n",
       "2017                                      7.653298e+07   \n",
       "2018                                      6.489800e+06   \n",
       "2019                                      5.915356e+06   \n",
       "\n",
       "                                                 \\\n",
       "                                                  \n",
       "age_restriction «12+» - для детей старше 12 лет   \n",
       "year                                              \n",
       "2010                               7.067412e+03   \n",
       "2011                               9.995045e+03   \n",
       "2012                               6.795875e+03   \n",
       "2013                               3.485056e+05   \n",
       "2014                               3.077122e+07   \n",
       "2015                               1.865217e+08   \n",
       "2016                               1.488347e+08   \n",
       "2017                               1.914982e+08   \n",
       "2018                               2.129447e+08   \n",
       "2019                               1.491788e+08   \n",
       "\n",
       "                                                                             \\\n",
       "                                                                              \n",
       "age_restriction «16+» - для детей старше 16 лет «18+» - запрещено для детей   \n",
       "year                                                                          \n",
       "2010                               6.319172e+03                6.798125e+03   \n",
       "2011                               7.065056e+03                5.200000e+02   \n",
       "2012                               6.641257e+04                1.074000e+04   \n",
       "2013                               1.462377e+04                3.225778e+05   \n",
       "2014                               6.637562e+06                4.910473e+07   \n",
       "2015                               6.766739e+07                4.115385e+07   \n",
       "2016                               9.156345e+07                4.499291e+07   \n",
       "2017                               1.549177e+08                6.565643e+07   \n",
       "2018                               1.057923e+08                4.893903e+07   \n",
       "2019                               7.164842e+07                5.531036e+07   \n",
       "\n",
       "                                               \\\n",
       "                                                \n",
       "age_restriction «6+» - для детей старше 6 лет   \n",
       "year                                            \n",
       "2010                                      NaN   \n",
       "2011                             4.500000e+02   \n",
       "2012                             7.146312e+04   \n",
       "2013                             1.383662e+04   \n",
       "2014                             5.768715e+07   \n",
       "2015                             1.641849e+08   \n",
       "2016                             1.721878e+08   \n",
       "2017                             2.685809e+08   \n",
       "2018                             1.486026e+08   \n",
       "2019                             1.586734e+08   \n",
       "\n",
       "                                                median  \\\n",
       "                                            box_office   \n",
       "age_restriction «0+» - для любой зрительской аудитории   \n",
       "year                                                     \n",
       "2010                                           6052.50   \n",
       "2011                                           7010.00   \n",
       "2012                                          18067.50   \n",
       "2013                                          13225.00   \n",
       "2014                                         190855.00   \n",
       "2015                                        2943318.70   \n",
       "2016                                        2571294.10   \n",
       "2017                                       22178956.00   \n",
       "2018                                        3616937.28   \n",
       "2019                                        3885434.50   \n",
       "\n",
       "                                                 \\\n",
       "                                                  \n",
       "age_restriction «12+» - для детей старше 12 лет   \n",
       "year                                              \n",
       "2010                                    2650.00   \n",
       "2011                                    3741.50   \n",
       "2012                                    3685.00   \n",
       "2013                                    2250.00   \n",
       "2014                                    6037.50   \n",
       "2015                                15351562.50   \n",
       "2016                                 4690635.25   \n",
       "2017                                 9010548.00   \n",
       "2018                                 8931965.66   \n",
       "2019                                 3405545.76   \n",
       "\n",
       "                                                                             \\\n",
       "                                                                              \n",
       "age_restriction «16+» - для детей старше 16 лет «18+» - запрещено для детей   \n",
       "year                                                                          \n",
       "2010                                   1000.000                      915.00   \n",
       "2011                                   2835.000                      520.00   \n",
       "2012                                   1600.000                     1385.00   \n",
       "2013                                   3300.000                     1775.00   \n",
       "2014                                  13640.000                   180108.00   \n",
       "2015                                4676819.400                  4616614.70   \n",
       "2016                                5133021.740                  6107001.74   \n",
       "2017                                9702077.000                  8212677.00   \n",
       "2018                                9010638.625                  7179466.00   \n",
       "2019                                3210717.810                  5603216.55   \n",
       "\n",
       "                                               \n",
       "                                               \n",
       "age_restriction «6+» - для детей старше 6 лет  \n",
       "year                                           \n",
       "2010                                      NaN  \n",
       "2011                             4.500000e+02  \n",
       "2012                             6.475000e+03  \n",
       "2013                             3.457500e+03  \n",
       "2014                             1.258100e+05  \n",
       "2015                             2.038098e+07  \n",
       "2016                             3.026256e+06  \n",
       "2017                             5.199210e+07  \n",
       "2018                             1.468885e+07  \n",
       "2019                             1.287535e+07  "
      ]
     },
     "metadata": {},
     "output_type": "display_data"
    }
   ],
   "source": [
    "restriction_income = pd.pivot_table(release_data, values=['box_office'], index=['year'], columns=['age_restriction'], aggfunc=['mean', 'median'])\n",
    "\n",
    "display(restriction_income)"
   ]
  },
  {
   "cell_type": "code",
   "execution_count": 81,
   "id": "ab41f64b",
   "metadata": {},
   "outputs": [
    {
     "data": {
      "text/plain": [
       "Text(0.5, 1.0, 'Mean income per category annually')"
      ]
     },
     "execution_count": 81,
     "metadata": {},
     "output_type": "execute_result"
    },
    {
     "data": {
      "image/png": "[encoded data removed]",
      "text/plain": [
       "<Figure size 720x720 with 1 Axes>"
      ]
     },
     "metadata": {
      "needs_background": "light"
     },
     "output_type": "display_data"
    }
   ],
   "source": [
    "fig = restriction_income['mean'][5:].plot(figsize=(10, 10))\n",
    "fig.set_ylabel('income per category')\n",
    "fig.set_title('Mean income per category annually')"
   ]
  },
  {
   "cell_type": "code",
   "execution_count": 82,
   "id": "bdd942ab",
   "metadata": {},
   "outputs": [
    {
     "data": {
      "text/plain": [
       "Text(0.5, 1, 'Median income per category annually')"
      ]
     },
     "execution_count": 82,
     "metadata": {},
     "output_type": "execute_result"
    },
    {
     "data": {
      "image/png": "[encoded data removed]",
      "text/plain": [
       "<Figure size 720x720 with 1 Axes>"
      ]
     },
     "metadata": {
      "needs_background": "light"
     },
     "output_type": "display_data"
    }
   ],
   "source": [
    "restriction_income['median'][5:].plot(figsize=(10, 10), logy=True)\n",
    "fig.set_ylabel('income per category')\n",
    "fig.set_title('Median income per category annually')"
   ]
  },
  {
   "cell_type": "markdown",
   "id": "ba0de1f1",
   "metadata": {},
   "source": [
    "Фильмы с ограничением  6+ - самые доходные без учета \"черных лебедей\" - аномалий. А в среднем самыеь доходные фильмы находятся в категориях 6+ и 12+. Картина в зависимости от года изменяется, за последние годы прибыль на фильм падает. С 2017 года лидирующая категория поменялась на 12+."
   ]
  },
  {
   "cell_type": "markdown",
   "id": "075ab131",
   "metadata": {},
   "source": [
    "### Выводы"
   ]
  },
  {
   "cell_type": "markdown",
   "id": "e7625cbb",
   "metadata": {},
   "source": [
    "Есть фильмы-аномалии, у которых прибыль гораздо выше, чем у остаьных, что перетягивает среденее в более высокую сторону. Самая прибыльная категория без учета аномальм - от 6 лет. Самая прибыльная категория за последние годы - от 12 лет. Прибыль за один фильм за апоследние несколько лет падает."
   ]
  },
  {
   "cell_type": "markdown",
   "id": "8e994b68",
   "metadata": {},
   "source": [
    "## Исследование фильмов, получивших господдержку"
   ]
  },
  {
   "cell_type": "markdown",
   "id": "ebcd7bc0",
   "metadata": {},
   "source": [
    "* Можно выьбрать те фильимы, у которых в графе господдержки > 0, и сравнить с теми, у которых нет господдержки. \n",
    "* Посмотреть зависимости прибыли от господдержи\n",
    "* рейтинг от господдержки\n",
    "* господдержка в зависимости от категории зрителей. \n",
    "* Можно построить корелляции. \n",
    "* Исследовать возвратные и невозвратные гос. поддержки, \n",
    "* иследовьать есть сязь источника государственной поддержки с остальными параметрами.\n",
    "\n",
    "Разделять таблицу в итоге оказалось не так удобно, как я думала. Соберем теперь все обратно:)"
   ]
  },
  {
   "cell_type": "code",
   "execution_count": 83,
   "id": "53e2b794",
   "metadata": {},
   "outputs": [],
   "source": [
    "all_stat = movies_stat.merge(df_shows, how='outer').merge(movies_info, how='outer')\n",
    "# display(movies_stat)\n"
   ]
  },
  {
   "cell_type": "code",
   "execution_count": 84,
   "id": "78572aed",
   "metadata": {},
   "outputs": [],
   "source": [
    "all_stat['total_support'] = all_stat['refundable_support'] + all_stat['nonrefundable_support'] # общая финансовая поддержув\n",
    "all_stat['ref_support_part'] = all_stat['refundable_support'] / (all_stat['budget']) # доля возвратной поддержки в бюджете\n",
    "all_stat['nonref_support_part'] = all_stat['nonrefundable_support'] / (all_stat['budget']) # доля невозвратной поддержки в бюджете\n",
    "all_stat['total_support_part'] = all_stat['total_support'] / (all_stat['budget']) # доля общей поддержки в бюджете"
   ]
  },
  {
   "cell_type": "code",
   "execution_count": 85,
   "id": "a26ab648",
   "metadata": {},
   "outputs": [
    {
     "name": "stderr",
     "output_type": "stream",
     "text": [
      "/opt/conda/lib/python3.7/site-packages/pandas/plotting/_matplotlib/core.py:1085: UserWarning: Attempted to set non-positive left xlim on a log-scaled axis.\n",
      "Invalid limit will be ignored.\n",
      "  ax.set_xlim(left, right)\n"
     ]
    },
    {
     "data": {
      "text/plain": [
       "Text(0.5, 1.0, 'Income vs Refundable Support')"
      ]
     },
     "execution_count": 85,
     "metadata": {},
     "output_type": "execute_result"
    },
    {
     "data": {
      "image/png": "[encoded data removed]",
      "text/plain": [
       "<Figure size 432x288 with 1 Axes>"
      ]
     },
     "metadata": {
      "needs_background": "light"
     },
     "output_type": "display_data"
    }
   ],
   "source": [
    "fig = all_stat.plot(x='refundable_support', y='box_office', style='o', logy=True, logx=True)\n",
    "fig.set_ylabel('income')\n",
    "fig.set_title('Income vs Refundable Support')"
   ]
  },
  {
   "cell_type": "code",
   "execution_count": 86,
   "id": "c7069c3e",
   "metadata": {},
   "outputs": [
    {
     "data": {
      "text/plain": [
       "Text(0.5, 1.0, 'Income vs Non-Refundable Support')"
      ]
     },
     "execution_count": 86,
     "metadata": {},
     "output_type": "execute_result"
    },
    {
     "data": {
      "image/png": "[encoded data removed]",
      "text/plain": [
       "<Figure size 432x288 with 1 Axes>"
      ]
     },
     "metadata": {
      "needs_background": "light"
     },
     "output_type": "display_data"
    }
   ],
   "source": [
    "fig = all_stat.plot(x='nonrefundable_support', y='box_office', style='o', logy=True, logx=True)\n",
    "fig.set_ylabel('income')\n",
    "fig.set_title('Income vs Non-Refundable Support')"
   ]
  },
  {
   "cell_type": "code",
   "execution_count": null,
   "id": "345858a0",
   "metadata": {},
   "outputs": [],
   "source": []
  },
  {
   "cell_type": "code",
   "execution_count": 87,
   "id": "4b35c05a",
   "metadata": {},
   "outputs": [
    {
     "data": {
      "text/plain": [
       "Text(0.5, 1.0, 'Income vs Total Support')"
      ]
     },
     "execution_count": 87,
     "metadata": {},
     "output_type": "execute_result"
    },
    {
     "data": {
      "image/png": "[encoded data removed]",
      "text/plain": [
       "<Figure size 432x288 with 1 Axes>"
      ]
     },
     "metadata": {
      "needs_background": "light"
     },
     "output_type": "display_data"
    }
   ],
   "source": [
    "fig = all_stat.plot(x='total_support', y='box_office', style='o', logy=True, logx=True)\n",
    "fig.set_ylabel('income')\n",
    "fig.set_title('Income vs Total Support')"
   ]
  },
  {
   "cell_type": "code",
   "execution_count": 88,
   "id": "9a473aac",
   "metadata": {},
   "outputs": [
    {
     "data": {
      "text/plain": [
       "Text(0.5, 1.0, 'Rating vs Refundable Support')"
      ]
     },
     "execution_count": 88,
     "metadata": {},
     "output_type": "execute_result"
    },
    {
     "data": {
      "image/png": "[encoded data removed]",
      "text/plain": [
       "<Figure size 432x288 with 1 Axes>"
      ]
     },
     "metadata": {
      "needs_background": "light"
     },
     "output_type": "display_data"
    }
   ],
   "source": [
    "fig = all_stat.plot(x='refundable_support', y='ratings', style='o', logx=True)\n",
    "fig.set_ylabel('rating')\n",
    "fig.set_title('Rating vs Refundable Support')"
   ]
  },
  {
   "cell_type": "code",
   "execution_count": 89,
   "id": "9c7838c6",
   "metadata": {},
   "outputs": [
    {
     "data": {
      "text/plain": [
       "Text(0.5, 1.0, 'Rating vs Non-Refundable Support')"
      ]
     },
     "execution_count": 89,
     "metadata": {},
     "output_type": "execute_result"
    },
    {
     "data": {
      "image/png": "[encoded data removed]",
      "text/plain": [
       "<Figure size 432x288 with 1 Axes>"
      ]
     },
     "metadata": {
      "needs_background": "light"
     },
     "output_type": "display_data"
    }
   ],
   "source": [
    "fig = all_stat.plot(x='nonrefundable_support', y='ratings', style='o', logx=True)\n",
    "fig.set_ylabel('rating')\n",
    "fig.set_title('Rating vs Non-Refundable Support')"
   ]
  },
  {
   "cell_type": "code",
   "execution_count": 90,
   "id": "609884ca",
   "metadata": {},
   "outputs": [
    {
     "data": {
      "text/plain": [
       "Text(0.5, 1.0, 'Income vs Total Support')"
      ]
     },
     "execution_count": 90,
     "metadata": {},
     "output_type": "execute_result"
    },
    {
     "data": {
      "image/png": "[encoded data removed]",
      "text/plain": [
       "<Figure size 432x288 with 1 Axes>"
      ]
     },
     "metadata": {
      "needs_background": "light"
     },
     "output_type": "display_data"
    }
   ],
   "source": [
    "fig = all_stat.plot(x='total_support', y='ratings', style='o', logx=True)\n",
    "fig.set_ylabel('income')\n",
    "fig.set_title('Income vs Total Support')"
   ]
  },
  {
   "cell_type": "code",
   "execution_count": 91,
   "id": "e4cec26b",
   "metadata": {},
   "outputs": [],
   "source": [
    "fig = all_stat['income_per_refundable_support'] = all_stat['box_office'] / (all_stat['refundable_support'])"
   ]
  },
  {
   "cell_type": "code",
   "execution_count": 92,
   "id": "1da4eec4",
   "metadata": {},
   "outputs": [
    {
     "data": {
      "text/plain": [
       "Text(0.5, 1.0, 'Income per Investmets vs Refundable Support')"
      ]
     },
     "execution_count": 92,
     "metadata": {},
     "output_type": "execute_result"
    },
    {
     "data": {
      "image/png": "[encoded data removed]",
      "text/plain": [
       "<Figure size 432x288 with 1 Axes>"
      ]
     },
     "metadata": {
      "needs_background": "light"
     },
     "output_type": "display_data"
    }
   ],
   "source": [
    "fig = all_stat.plot(x='refundable_support', y='income_per_refundable_support', style='o', logy=True, logx=True)\n",
    "fig.set_ylabel('Income per Investments')\n",
    "fig.set_title('Income per Investmets vs Refundable Support')"
   ]
  },
  {
   "cell_type": "markdown",
   "id": "73ec15ca",
   "metadata": {},
   "source": [
    "Практически нет зависимости"
   ]
  },
  {
   "cell_type": "code",
   "execution_count": 93,
   "id": "69521acc",
   "metadata": {},
   "outputs": [],
   "source": [
    "all_stat['income_per_nonrefundable_support'] = all_stat['box_office'] / (all_stat['nonrefundable_support'])"
   ]
  },
  {
   "cell_type": "code",
   "execution_count": 94,
   "id": "74c78764",
   "metadata": {},
   "outputs": [
    {
     "data": {
      "text/plain": [
       "Text(0.5, 1.0, 'Income per Investmets vs Non-Refundable Support')"
      ]
     },
     "execution_count": 94,
     "metadata": {},
     "output_type": "execute_result"
    },
    {
     "data": {
      "image/png": "[encoded data removed]",
      "text/plain": [
       "<Figure size 432x288 with 1 Axes>"
      ]
     },
     "metadata": {
      "needs_background": "light"
     },
     "output_type": "display_data"
    }
   ],
   "source": [
    "fig = all_stat.plot(x='nonrefundable_support', y='income_per_refundable_support', style='o', logy=True, logx=True)\n",
    "fig.set_ylabel('Income per Investments')\n",
    "fig.set_title('Income per Investmets vs Non-Refundable Support')"
   ]
  },
  {
   "cell_type": "code",
   "execution_count": 95,
   "id": "34f851aa",
   "metadata": {},
   "outputs": [],
   "source": [
    "fig = all_stat['income_per_total_support'] = all_stat['box_office'] / (all_stat['total_support'])"
   ]
  },
  {
   "cell_type": "code",
   "execution_count": 96,
   "id": "e1d89511",
   "metadata": {},
   "outputs": [
    {
     "data": {
      "text/plain": [
       "Text(0.5, 1.0, 'Income per Investmets vs Total Support')"
      ]
     },
     "execution_count": 96,
     "metadata": {},
     "output_type": "execute_result"
    },
    {
     "data": {
      "image/png": "[encoded data removed]",
      "text/plain": [
       "<Figure size 432x288 with 1 Axes>"
      ]
     },
     "metadata": {
      "needs_background": "light"
     },
     "output_type": "display_data"
    }
   ],
   "source": [
    "fig = all_stat.plot(x='total_support', y='income_per_total_support', style='o', logy=True, logx=True)\n",
    "fig.set_ylabel('Income per Investments')\n",
    "fig.set_title('Income per Investmets vs Total Support')"
   ]
  },
  {
   "cell_type": "code",
   "execution_count": 97,
   "id": "225af8e9",
   "metadata": {},
   "outputs": [
    {
     "name": "stdout",
     "output_type": "stream",
     "text": [
      "7167\n"
     ]
    },
    {
     "data": {
      "text/plain": [
       "Text(0.5, 1.0, 'Income per Refundable Part')"
      ]
     },
     "execution_count": 97,
     "metadata": {},
     "output_type": "execute_result"
    },
    {
     "data": {
      "image/png": "[encoded data removed]",
      "text/plain": [
       "<Figure size 432x288 with 1 Axes>"
      ]
     },
     "metadata": {
      "needs_background": "light"
     },
     "output_type": "display_data"
    }
   ],
   "source": [
    "print(all_stat['ref_support_part'].isna().sum())\n",
    "fig = all_stat[all_stat['budget'] > 0].plot(x='ref_support_part', y='box_office', style='o', logy=True)\n",
    "fig.set_ylabel('Income')\n",
    "fig.set_title('Income per Refundable Part')"
   ]
  },
  {
   "cell_type": "code",
   "execution_count": 98,
   "id": "03bf7f22",
   "metadata": {},
   "outputs": [
    {
     "data": {
      "text/plain": [
       "Text(0.5, 1.0, 'Income per Non-Refundable Part')"
      ]
     },
     "execution_count": 98,
     "metadata": {},
     "output_type": "execute_result"
    },
    {
     "data": {
      "image/png": "[encoded data removed]",
      "text/plain": [
       "<Figure size 432x288 with 1 Axes>"
      ]
     },
     "metadata": {
      "needs_background": "light"
     },
     "output_type": "display_data"
    }
   ],
   "source": [
    "fig = all_stat[all_stat['budget'] > 0].plot(x='nonref_support_part', y='box_office', style='o', logy=True)\n",
    "fig.set_ylabel('Income')\n",
    "fig.set_title('Income per Non-Refundable Part')"
   ]
  },
  {
   "cell_type": "code",
   "execution_count": 99,
   "id": "9c8ad9b2",
   "metadata": {},
   "outputs": [
    {
     "data": {
      "text/plain": [
       "Text(0.5, 1.0, 'Income per Support Part')"
      ]
     },
     "execution_count": 99,
     "metadata": {},
     "output_type": "execute_result"
    },
    {
     "data": {
      "image/png": "[encoded data removed]",
      "text/plain": [
       "<Figure size 432x288 with 1 Axes>"
      ]
     },
     "metadata": {
      "needs_background": "light"
     },
     "output_type": "display_data"
    }
   ],
   "source": [
    "fig = all_stat[all_stat['budget'] > 0].plot(x='total_support_part', y='box_office', style='o', logy=True)\n",
    "fig.set_ylabel('Income')\n",
    "fig.set_title('Income per Support Part')"
   ]
  },
  {
   "cell_type": "code",
   "execution_count": 100,
   "id": "ce0afaa0",
   "metadata": {},
   "outputs": [
    {
     "data": {
      "text/plain": [
       "Text(0.5, 1.0, 'Rating per refundable part')"
      ]
     },
     "execution_count": 100,
     "metadata": {},
     "output_type": "execute_result"
    },
    {
     "data": {
      "image/png": "[encoded data removed]",
      "text/plain": [
       "<Figure size 432x288 with 1 Axes>"
      ]
     },
     "metadata": {
      "needs_background": "light"
     },
     "output_type": "display_data"
    }
   ],
   "source": [
    "fig = all_stat[all_stat['budget'] > 0].plot(x='ref_support_part', y='ratings', style='o')\n",
    "fig.set_ylabel('Rating')\n",
    "fig.set_title('Rating per refundable part')"
   ]
  },
  {
   "cell_type": "code",
   "execution_count": null,
   "id": "ca3e6a76",
   "metadata": {},
   "outputs": [
    {
     "data": {
      "text/plain": [
       "Text(0.5, 1.0, 'Rating per non-refundable part')"
      ]
     },
     "execution_count": 101,
     "metadata": {},
     "output_type": "execute_result"
    }
   ],
   "source": [
    "fig = all_stat[all_stat['budget'] > 0].plot(x='nonref_support_part', y='ratings', style='o')\n",
    "fig.set_ylabel('Rating')\n",
    "fig.set_title('Rating per non-refundable part')"
   ]
  },
  {
   "cell_type": "code",
   "execution_count": null,
   "id": "f5852bf7",
   "metadata": {},
   "outputs": [],
   "source": [
    "fig = all_stat[all_stat['budget'] > 0].plot(x='total_support_part', y='ratings', style='o')\n",
    "fig.set_ylabel('Rating')\n",
    "fig.set_title('Rating per total part')"
   ]
  },
  {
   "cell_type": "markdown",
   "id": "06b8b9d6",
   "metadata": {},
   "source": [
    "Объем государственного финансирования положительно влияет на доход фильма, почти не влияет на рейтинг фильма, также почти не влияет на доход с вложенной единицы капитала.\n",
    "\n",
    "Интересно, что доля невозвратной государственной поддержки отрицательно влияет на сборы."
   ]
  },
  {
   "cell_type": "markdown",
   "id": "39f89e62",
   "metadata": {},
   "source": [
    "## Итоговый вывод"
   ]
  },
  {
   "cell_type": "markdown",
   "id": "19dd43c6",
   "metadata": {},
   "source": [
    "Текущие тренды таковы:\n",
    "    \n",
    "    * Прибыль с кинопоказов выросла с 2015 года и сейчас находится примерно на плато;\n",
    "    * Есть небольшое количество фильмов с аномально большим доходом, одновременно с этим наблюдается уменьшение прибыльности каждого отдельного фильма за последние годы;\n",
    "    * Наиболее прибыльные и, скорее всего, наиболее популярные категории  - `6+` и `12+`\n",
    "    * Государственная поддержка хорошо влияет на доходность фильма, но повышенная доля невозвратной финансовой помощи плохо влияет на доходность фильма. "
   ]
  }
 ],
 "metadata": {
  "ExecuteTimeLog": [
   {
    "duration": 774,
    "start_time": "2021-10-06T10:16:19.795Z"
   },
   {
    "duration": 2450,
    "start_time": "2021-10-06T10:16:20.572Z"
   },
   {
    "duration": 82349,
    "start_time": "2021-10-06T10:15:00.680Z"
   },
   {
    "duration": 82344,
    "start_time": "2021-10-06T10:15:00.686Z"
   },
   {
    "duration": 82344,
    "start_time": "2021-10-06T10:15:00.688Z"
   },
   {
    "duration": 82342,
    "start_time": "2021-10-06T10:15:00.691Z"
   },
   {
    "duration": 82341,
    "start_time": "2021-10-06T10:15:00.694Z"
   },
   {
    "duration": 82334,
    "start_time": "2021-10-06T10:15:00.702Z"
   },
   {
    "duration": 82332,
    "start_time": "2021-10-06T10:15:00.705Z"
   },
   {
    "duration": 82331,
    "start_time": "2021-10-06T10:15:00.708Z"
   },
   {
    "duration": 82330,
    "start_time": "2021-10-06T10:15:00.710Z"
   },
   {
    "duration": 82327,
    "start_time": "2021-10-06T10:15:00.714Z"
   },
   {
    "duration": 82326,
    "start_time": "2021-10-06T10:15:00.716Z"
   },
   {
    "duration": 82325,
    "start_time": "2021-10-06T10:15:00.719Z"
   },
   {
    "duration": 82323,
    "start_time": "2021-10-06T10:15:00.722Z"
   },
   {
    "duration": 82320,
    "start_time": "2021-10-06T10:15:00.726Z"
   },
   {
    "duration": 82313,
    "start_time": "2021-10-06T10:15:00.734Z"
   },
   {
    "duration": 82312,
    "start_time": "2021-10-06T10:15:00.737Z"
   },
   {
    "duration": 82310,
    "start_time": "2021-10-06T10:15:00.740Z"
   },
   {
    "duration": 82308,
    "start_time": "2021-10-06T10:15:00.743Z"
   },
   {
    "duration": 82307,
    "start_time": "2021-10-06T10:15:00.746Z"
   },
   {
    "duration": 82304,
    "start_time": "2021-10-06T10:15:00.750Z"
   },
   {
    "duration": 82302,
    "start_time": "2021-10-06T10:15:00.753Z"
   },
   {
    "duration": 82300,
    "start_time": "2021-10-06T10:15:00.756Z"
   },
   {
    "duration": 82297,
    "start_time": "2021-10-06T10:15:00.761Z"
   },
   {
    "duration": 82295,
    "start_time": "2021-10-06T10:15:00.764Z"
   },
   {
    "duration": 82293,
    "start_time": "2021-10-06T10:15:00.767Z"
   },
   {
    "duration": 82313,
    "start_time": "2021-10-06T10:15:00.770Z"
   },
   {
    "duration": 82313,
    "start_time": "2021-10-06T10:15:00.772Z"
   },
   {
    "duration": 82311,
    "start_time": "2021-10-06T10:15:00.775Z"
   },
   {
    "duration": 82306,
    "start_time": "2021-10-06T10:15:00.782Z"
   },
   {
    "duration": 82305,
    "start_time": "2021-10-06T10:15:00.785Z"
   },
   {
    "duration": 82303,
    "start_time": "2021-10-06T10:15:00.788Z"
   },
   {
    "duration": 82147,
    "start_time": "2021-10-06T10:15:00.945Z"
   },
   {
    "duration": 81747,
    "start_time": "2021-10-06T10:15:01.346Z"
   },
   {
    "duration": 81543,
    "start_time": "2021-10-06T10:15:01.551Z"
   },
   {
    "duration": 81534,
    "start_time": "2021-10-06T10:15:01.562Z"
   },
   {
    "duration": 81520,
    "start_time": "2021-10-06T10:15:01.577Z"
   },
   {
    "duration": 81517,
    "start_time": "2021-10-06T10:15:01.581Z"
   },
   {
    "duration": 81514,
    "start_time": "2021-10-06T10:15:01.585Z"
   },
   {
    "duration": 81512,
    "start_time": "2021-10-06T10:15:01.589Z"
   },
   {
    "duration": 81510,
    "start_time": "2021-10-06T10:15:01.592Z"
   },
   {
    "duration": 81507,
    "start_time": "2021-10-06T10:15:01.596Z"
   },
   {
    "duration": 81503,
    "start_time": "2021-10-06T10:15:01.601Z"
   },
   {
    "duration": 81503,
    "start_time": "2021-10-06T10:15:01.603Z"
   },
   {
    "duration": 81500,
    "start_time": "2021-10-06T10:15:01.607Z"
   },
   {
    "duration": 81498,
    "start_time": "2021-10-06T10:15:01.610Z"
   },
   {
    "duration": 81495,
    "start_time": "2021-10-06T10:15:01.614Z"
   },
   {
    "duration": 81494,
    "start_time": "2021-10-06T10:15:01.617Z"
   },
   {
    "duration": 81491,
    "start_time": "2021-10-06T10:15:01.621Z"
   },
   {
    "duration": 81491,
    "start_time": "2021-10-06T10:15:01.623Z"
   },
   {
    "duration": 81489,
    "start_time": "2021-10-06T10:15:01.627Z"
   },
   {
    "duration": 81486,
    "start_time": "2021-10-06T10:15:01.631Z"
   },
   {
    "duration": 81483,
    "start_time": "2021-10-06T10:15:01.635Z"
   },
   {
    "duration": 81481,
    "start_time": "2021-10-06T10:15:01.638Z"
   },
   {
    "duration": 81479,
    "start_time": "2021-10-06T10:15:01.641Z"
   },
   {
    "duration": 81537,
    "start_time": "2021-10-06T10:15:01.645Z"
   },
   {
    "duration": 81535,
    "start_time": "2021-10-06T10:15:01.649Z"
   },
   {
    "duration": 81534,
    "start_time": "2021-10-06T10:15:01.651Z"
   },
   {
    "duration": 81532,
    "start_time": "2021-10-06T10:15:01.654Z"
   },
   {
    "duration": 81532,
    "start_time": "2021-10-06T10:15:01.656Z"
   },
   {
    "duration": 81530,
    "start_time": "2021-10-06T10:15:01.659Z"
   },
   {
    "duration": 81529,
    "start_time": "2021-10-06T10:15:01.661Z"
   },
   {
    "duration": 81525,
    "start_time": "2021-10-06T10:15:01.666Z"
   },
   {
    "duration": 81523,
    "start_time": "2021-10-06T10:15:01.670Z"
   },
   {
    "duration": 81520,
    "start_time": "2021-10-06T10:15:01.674Z"
   },
   {
    "duration": 81511,
    "start_time": "2021-10-06T10:15:01.685Z"
   },
   {
    "duration": 81496,
    "start_time": "2021-10-06T10:15:01.701Z"
   },
   {
    "duration": 81494,
    "start_time": "2021-10-06T10:15:01.704Z"
   },
   {
    "duration": 81493,
    "start_time": "2021-10-06T10:15:01.706Z"
   },
   {
    "duration": 81491,
    "start_time": "2021-10-06T10:15:01.709Z"
   },
   {
    "duration": 81489,
    "start_time": "2021-10-06T10:15:01.713Z"
   },
   {
    "duration": 81486,
    "start_time": "2021-10-06T10:15:01.717Z"
   },
   {
    "duration": 81483,
    "start_time": "2021-10-06T10:15:01.721Z"
   },
   {
    "duration": 81482,
    "start_time": "2021-10-06T10:15:01.724Z"
   },
   {
    "duration": 81479,
    "start_time": "2021-10-06T10:15:01.728Z"
   },
   {
    "duration": 81477,
    "start_time": "2021-10-06T10:15:01.731Z"
   },
   {
    "duration": 81476,
    "start_time": "2021-10-06T10:15:01.734Z"
   },
   {
    "duration": 81475,
    "start_time": "2021-10-06T10:15:01.736Z"
   },
   {
    "duration": 81473,
    "start_time": "2021-10-06T10:15:01.739Z"
   },
   {
    "duration": 81472,
    "start_time": "2021-10-06T10:15:01.742Z"
   },
   {
    "duration": 81470,
    "start_time": "2021-10-06T10:15:01.745Z"
   },
   {
    "duration": 81467,
    "start_time": "2021-10-06T10:15:01.749Z"
   },
   {
    "duration": 81465,
    "start_time": "2021-10-06T10:15:01.752Z"
   },
   {
    "duration": 81528,
    "start_time": "2021-10-06T10:15:01.755Z"
   },
   {
    "duration": 81525,
    "start_time": "2021-10-06T10:15:01.759Z"
   },
   {
    "duration": 81524,
    "start_time": "2021-10-06T10:15:01.762Z"
   },
   {
    "duration": 81521,
    "start_time": "2021-10-06T10:15:01.766Z"
   },
   {
    "duration": 81521,
    "start_time": "2021-10-06T10:15:01.768Z"
   },
   {
    "duration": 81519,
    "start_time": "2021-10-06T10:15:01.771Z"
   },
   {
    "duration": 81517,
    "start_time": "2021-10-06T10:15:01.774Z"
   },
   {
    "duration": 81516,
    "start_time": "2021-10-06T10:15:01.777Z"
   },
   {
    "duration": 81516,
    "start_time": "2021-10-06T10:15:01.779Z"
   },
   {
    "duration": 13,
    "start_time": "2021-10-06T10:16:30.926Z"
   },
   {
    "duration": 279,
    "start_time": "2021-10-06T10:18:02.288Z"
   },
   {
    "duration": 3,
    "start_time": "2021-10-06T10:18:05.546Z"
   },
   {
    "duration": 298,
    "start_time": "2021-10-06T10:18:05.552Z"
   },
   {
    "duration": 6,
    "start_time": "2021-10-06T10:18:05.853Z"
   },
   {
    "duration": 27,
    "start_time": "2021-10-06T10:18:05.861Z"
   },
   {
    "duration": 24,
    "start_time": "2021-10-06T10:18:05.890Z"
   },
   {
    "duration": 30,
    "start_time": "2021-10-06T10:18:05.916Z"
   },
   {
    "duration": 9,
    "start_time": "2021-10-06T10:18:05.949Z"
   },
   {
    "duration": 8,
    "start_time": "2021-10-06T10:18:05.986Z"
   },
   {
    "duration": 33,
    "start_time": "2021-10-06T10:18:05.997Z"
   },
   {
    "duration": 5,
    "start_time": "2021-10-06T10:18:06.033Z"
   },
   {
    "duration": 11,
    "start_time": "2021-10-06T10:18:06.040Z"
   },
   {
    "duration": 34,
    "start_time": "2021-10-06T10:18:06.054Z"
   },
   {
    "duration": 12,
    "start_time": "2021-10-06T10:18:06.091Z"
   },
   {
    "duration": 16,
    "start_time": "2021-10-06T10:18:06.106Z"
   },
   {
    "duration": 15,
    "start_time": "2021-10-06T10:18:06.124Z"
   },
   {
    "duration": 45,
    "start_time": "2021-10-06T10:18:06.141Z"
   },
   {
    "duration": 20,
    "start_time": "2021-10-06T10:18:06.189Z"
   },
   {
    "duration": 8,
    "start_time": "2021-10-06T10:18:06.211Z"
   },
   {
    "duration": 9,
    "start_time": "2021-10-06T10:18:06.221Z"
   },
   {
    "duration": 10,
    "start_time": "2021-10-06T10:18:06.233Z"
   },
   {
    "duration": 73,
    "start_time": "2021-10-06T10:18:06.245Z"
   },
   {
    "duration": 5,
    "start_time": "2021-10-06T10:18:06.321Z"
   },
   {
    "duration": 4,
    "start_time": "2021-10-06T10:18:06.333Z"
   },
   {
    "duration": 53,
    "start_time": "2021-10-06T10:18:06.340Z"
   },
   {
    "duration": 15,
    "start_time": "2021-10-06T10:18:06.396Z"
   },
   {
    "duration": 5,
    "start_time": "2021-10-06T10:18:06.413Z"
   },
   {
    "duration": 8,
    "start_time": "2021-10-06T10:18:06.420Z"
   },
   {
    "duration": 12,
    "start_time": "2021-10-06T10:18:06.430Z"
   },
   {
    "duration": 25,
    "start_time": "2021-10-06T10:18:06.482Z"
   },
   {
    "duration": 6,
    "start_time": "2021-10-06T10:18:06.509Z"
   },
   {
    "duration": 7,
    "start_time": "2021-10-06T10:18:06.518Z"
   },
   {
    "duration": 7,
    "start_time": "2021-10-06T10:18:06.526Z"
   },
   {
    "duration": 64,
    "start_time": "2021-10-06T10:18:06.535Z"
   },
   {
    "duration": 7,
    "start_time": "2021-10-06T10:18:06.601Z"
   },
   {
    "duration": 15,
    "start_time": "2021-10-06T10:18:06.610Z"
   },
   {
    "duration": 10,
    "start_time": "2021-10-06T10:18:06.628Z"
   },
   {
    "duration": 9,
    "start_time": "2021-10-06T10:18:06.641Z"
   },
   {
    "duration": 8,
    "start_time": "2021-10-06T10:18:06.683Z"
   },
   {
    "duration": 12,
    "start_time": "2021-10-06T10:18:06.693Z"
   },
   {
    "duration": 7,
    "start_time": "2021-10-06T10:18:06.707Z"
   },
   {
    "duration": 7,
    "start_time": "2021-10-06T10:18:06.716Z"
   },
   {
    "duration": 8,
    "start_time": "2021-10-06T10:18:06.725Z"
   },
   {
    "duration": 51,
    "start_time": "2021-10-06T10:18:06.736Z"
   },
   {
    "duration": 8,
    "start_time": "2021-10-06T10:18:06.790Z"
   },
   {
    "duration": 13,
    "start_time": "2021-10-06T10:18:06.801Z"
   },
   {
    "duration": 13,
    "start_time": "2021-10-06T10:18:06.817Z"
   },
   {
    "duration": 8,
    "start_time": "2021-10-06T10:18:06.882Z"
   },
   {
    "duration": 22,
    "start_time": "2021-10-06T10:18:06.893Z"
   },
   {
    "duration": 8,
    "start_time": "2021-10-06T10:18:06.917Z"
   },
   {
    "duration": 16,
    "start_time": "2021-10-06T10:18:06.927Z"
   },
   {
    "duration": 53,
    "start_time": "2021-10-06T10:18:06.946Z"
   },
   {
    "duration": 10,
    "start_time": "2021-10-06T10:18:07.002Z"
   },
   {
    "duration": 14,
    "start_time": "2021-10-06T10:18:07.016Z"
   },
   {
    "duration": 20,
    "start_time": "2021-10-06T10:18:07.082Z"
   },
   {
    "duration": 244,
    "start_time": "2021-10-06T10:18:07.105Z"
   },
   {
    "duration": 18,
    "start_time": "2021-10-06T10:18:07.351Z"
   },
   {
    "duration": 211,
    "start_time": "2021-10-06T10:18:07.382Z"
   },
   {
    "duration": 18,
    "start_time": "2021-10-06T10:18:07.596Z"
   },
   {
    "duration": 13,
    "start_time": "2021-10-06T10:18:07.617Z"
   },
   {
    "duration": 52,
    "start_time": "2021-10-06T10:18:07.633Z"
   },
   {
    "duration": 12,
    "start_time": "2021-10-06T10:18:07.688Z"
   },
   {
    "duration": 36,
    "start_time": "2021-10-06T10:18:07.704Z"
   },
   {
    "duration": 41,
    "start_time": "2021-10-06T10:18:07.743Z"
   },
   {
    "duration": 28,
    "start_time": "2021-10-06T10:18:07.787Z"
   },
   {
    "duration": 65,
    "start_time": "2021-10-06T10:18:07.818Z"
   },
   {
    "duration": 9,
    "start_time": "2021-10-06T10:18:07.886Z"
   },
   {
    "duration": 6,
    "start_time": "2021-10-06T10:18:07.898Z"
   },
   {
    "duration": 1088,
    "start_time": "2021-10-06T10:18:07.914Z"
   },
   {
    "duration": 30,
    "start_time": "2021-10-06T10:18:09.006Z"
   },
   {
    "duration": 799,
    "start_time": "2021-10-06T10:18:09.039Z"
   },
   {
    "duration": 72,
    "start_time": "2021-10-06T10:18:09.841Z"
   },
   {
    "duration": 559,
    "start_time": "2021-10-06T10:18:09.916Z"
   },
   {
    "duration": 923,
    "start_time": "2021-10-06T10:18:10.477Z"
   },
   {
    "duration": 24,
    "start_time": "2021-10-06T10:18:11.402Z"
   },
   {
    "duration": 11,
    "start_time": "2021-10-06T10:18:11.428Z"
   },
   {
    "duration": 1179,
    "start_time": "2021-10-06T10:18:11.441Z"
   },
   {
    "duration": 1123,
    "start_time": "2021-10-06T10:18:12.622Z"
   },
   {
    "duration": 1124,
    "start_time": "2021-10-06T10:18:13.747Z"
   },
   {
    "duration": 510,
    "start_time": "2021-10-06T10:18:14.874Z"
   },
   {
    "duration": 522,
    "start_time": "2021-10-06T10:18:15.387Z"
   },
   {
    "duration": 532,
    "start_time": "2021-10-06T10:18:15.912Z"
   },
   {
    "duration": 5,
    "start_time": "2021-10-06T10:18:16.447Z"
   },
   {
    "duration": 1168,
    "start_time": "2021-10-06T10:18:16.454Z"
   },
   {
    "duration": 5,
    "start_time": "2021-10-06T10:18:17.625Z"
   },
   {
    "duration": 1093,
    "start_time": "2021-10-06T10:18:17.633Z"
   },
   {
    "duration": 6,
    "start_time": "2021-10-06T10:18:18.728Z"
   },
   {
    "duration": 1131,
    "start_time": "2021-10-06T10:18:18.736Z"
   },
   {
    "duration": 1213,
    "start_time": "2021-10-06T10:18:19.869Z"
   },
   {
    "duration": 82249,
    "start_time": "2021-10-06T10:16:58.836Z"
   },
   {
    "duration": 82247,
    "start_time": "2021-10-06T10:16:58.839Z"
   },
   {
    "duration": 82246,
    "start_time": "2021-10-06T10:16:58.842Z"
   },
   {
    "duration": 82245,
    "start_time": "2021-10-06T10:16:58.844Z"
   },
   {
    "duration": 82240,
    "start_time": "2021-10-06T10:16:58.851Z"
   },
   {
    "duration": 355,
    "start_time": "2021-10-06T10:22:08.480Z"
   },
   {
    "duration": 96,
    "start_time": "2021-10-06T10:22:20.036Z"
   },
   {
    "duration": 5,
    "start_time": "2021-10-06T10:22:23.766Z"
   },
   {
    "duration": 6,
    "start_time": "2021-10-06T10:22:26.225Z"
   },
   {
    "duration": 5,
    "start_time": "2021-10-06T10:23:26.153Z"
   },
   {
    "duration": 24,
    "start_time": "2021-10-06T10:55:09.783Z"
   },
   {
    "duration": 94,
    "start_time": "2021-10-06T11:03:36.271Z"
   },
   {
    "duration": 1143,
    "start_time": "2021-10-06T11:05:50.045Z"
   },
   {
    "duration": 82359,
    "start_time": "2021-10-06T11:04:28.832Z"
   },
   {
    "duration": 82350,
    "start_time": "2021-10-06T11:04:28.842Z"
   },
   {
    "duration": 82348,
    "start_time": "2021-10-06T11:04:28.846Z"
   },
   {
    "duration": 82339,
    "start_time": "2021-10-06T11:04:28.856Z"
   },
   {
    "duration": 82336,
    "start_time": "2021-10-06T11:04:28.860Z"
   },
   {
    "duration": 50,
    "start_time": "2021-10-06T11:06:00.911Z"
   },
   {
    "duration": 1116,
    "start_time": "2021-10-06T11:10:55.291Z"
   },
   {
    "duration": 82365,
    "start_time": "2021-10-06T11:09:34.045Z"
   },
   {
    "duration": 82363,
    "start_time": "2021-10-06T11:09:34.049Z"
   },
   {
    "duration": 82357,
    "start_time": "2021-10-06T11:09:34.056Z"
   },
   {
    "duration": 82355,
    "start_time": "2021-10-06T11:09:34.060Z"
   },
   {
    "duration": 82350,
    "start_time": "2021-10-06T11:09:34.066Z"
   },
   {
    "duration": 1208,
    "start_time": "2021-10-06T11:11:13.428Z"
   },
   {
    "duration": 561,
    "start_time": "2021-10-06T11:11:18.313Z"
   },
   {
    "duration": 3,
    "start_time": "2021-10-06T13:51:52.111Z"
   },
   {
    "duration": 292,
    "start_time": "2021-10-06T13:54:39.645Z"
   },
   {
    "duration": 587,
    "start_time": "2021-10-06T13:55:00.761Z"
   },
   {
    "duration": 255,
    "start_time": "2021-10-06T13:55:01.350Z"
   },
   {
    "duration": 9,
    "start_time": "2021-10-06T13:55:01.607Z"
   },
   {
    "duration": 23,
    "start_time": "2021-10-06T13:55:01.618Z"
   },
   {
    "duration": 24,
    "start_time": "2021-10-06T13:55:01.643Z"
   },
   {
    "duration": 34,
    "start_time": "2021-10-06T13:55:01.669Z"
   },
   {
    "duration": 7,
    "start_time": "2021-10-06T13:55:01.705Z"
   },
   {
    "duration": 21,
    "start_time": "2021-10-06T13:55:01.714Z"
   },
   {
    "duration": 17,
    "start_time": "2021-10-06T13:55:01.737Z"
   },
   {
    "duration": 4,
    "start_time": "2021-10-06T13:55:01.756Z"
   },
   {
    "duration": 11,
    "start_time": "2021-10-06T13:55:01.761Z"
   },
   {
    "duration": 19,
    "start_time": "2021-10-06T13:55:01.774Z"
   },
   {
    "duration": 12,
    "start_time": "2021-10-06T13:55:01.794Z"
   },
   {
    "duration": 22,
    "start_time": "2021-10-06T13:55:01.807Z"
   },
   {
    "duration": 21,
    "start_time": "2021-10-06T13:55:01.831Z"
   },
   {
    "duration": 24,
    "start_time": "2021-10-06T13:55:01.854Z"
   },
   {
    "duration": 28,
    "start_time": "2021-10-06T13:55:01.880Z"
   },
   {
    "duration": 15,
    "start_time": "2021-10-06T13:55:01.909Z"
   },
   {
    "duration": 4,
    "start_time": "2021-10-06T13:55:01.926Z"
   },
   {
    "duration": 21,
    "start_time": "2021-10-06T13:55:01.931Z"
   },
   {
    "duration": 15,
    "start_time": "2021-10-06T13:55:01.954Z"
   },
   {
    "duration": 32,
    "start_time": "2021-10-06T13:55:01.970Z"
   },
   {
    "duration": 4,
    "start_time": "2021-10-06T13:55:02.007Z"
   },
   {
    "duration": 11,
    "start_time": "2021-10-06T13:55:02.014Z"
   },
   {
    "duration": 25,
    "start_time": "2021-10-06T13:55:02.026Z"
   },
   {
    "duration": 24,
    "start_time": "2021-10-06T13:55:02.054Z"
   },
   {
    "duration": 20,
    "start_time": "2021-10-06T13:55:02.080Z"
   },
   {
    "duration": 37,
    "start_time": "2021-10-06T13:55:02.102Z"
   },
   {
    "duration": 22,
    "start_time": "2021-10-06T13:55:02.141Z"
   },
   {
    "duration": 26,
    "start_time": "2021-10-06T13:55:02.165Z"
   },
   {
    "duration": 5,
    "start_time": "2021-10-06T13:55:02.193Z"
   },
   {
    "duration": 46,
    "start_time": "2021-10-06T13:55:02.200Z"
   },
   {
    "duration": 57,
    "start_time": "2021-10-06T13:55:02.248Z"
   },
   {
    "duration": 25,
    "start_time": "2021-10-06T13:55:02.307Z"
   },
   {
    "duration": 17,
    "start_time": "2021-10-06T13:55:02.334Z"
   },
   {
    "duration": 24,
    "start_time": "2021-10-06T13:55:02.353Z"
   },
   {
    "duration": 28,
    "start_time": "2021-10-06T13:55:02.378Z"
   },
   {
    "duration": 20,
    "start_time": "2021-10-06T13:55:02.408Z"
   },
   {
    "duration": 19,
    "start_time": "2021-10-06T13:55:02.430Z"
   },
   {
    "duration": 7,
    "start_time": "2021-10-06T13:55:02.451Z"
   },
   {
    "duration": 43,
    "start_time": "2021-10-06T13:55:02.459Z"
   },
   {
    "duration": 21,
    "start_time": "2021-10-06T13:55:02.504Z"
   },
   {
    "duration": 17,
    "start_time": "2021-10-06T13:55:02.526Z"
   },
   {
    "duration": 19,
    "start_time": "2021-10-06T13:55:02.544Z"
   },
   {
    "duration": 24,
    "start_time": "2021-10-06T13:55:02.564Z"
   },
   {
    "duration": 30,
    "start_time": "2021-10-06T13:55:02.590Z"
   },
   {
    "duration": 8,
    "start_time": "2021-10-06T13:55:02.622Z"
   },
   {
    "duration": 18,
    "start_time": "2021-10-06T13:55:02.632Z"
   },
   {
    "duration": 14,
    "start_time": "2021-10-06T13:55:02.651Z"
   },
   {
    "duration": 6,
    "start_time": "2021-10-06T13:55:02.666Z"
   },
   {
    "duration": 18,
    "start_time": "2021-10-06T13:55:02.673Z"
   },
   {
    "duration": 14,
    "start_time": "2021-10-06T13:55:02.692Z"
   },
   {
    "duration": 7,
    "start_time": "2021-10-06T13:55:02.708Z"
   },
   {
    "duration": 27,
    "start_time": "2021-10-06T13:55:02.717Z"
   },
   {
    "duration": 12,
    "start_time": "2021-10-06T13:55:02.746Z"
   },
   {
    "duration": 145,
    "start_time": "2021-10-06T13:55:02.760Z"
   },
   {
    "duration": 10,
    "start_time": "2021-10-06T13:55:02.907Z"
   },
   {
    "duration": 134,
    "start_time": "2021-10-06T13:55:02.919Z"
   },
   {
    "duration": 11,
    "start_time": "2021-10-06T13:55:03.054Z"
   },
   {
    "duration": 19,
    "start_time": "2021-10-06T13:55:03.067Z"
   },
   {
    "duration": 37,
    "start_time": "2021-10-06T13:55:03.087Z"
   },
   {
    "duration": 21,
    "start_time": "2021-10-06T13:55:03.126Z"
   },
   {
    "duration": 15,
    "start_time": "2021-10-06T13:55:03.149Z"
   },
   {
    "duration": 46,
    "start_time": "2021-10-06T13:55:03.166Z"
   },
   {
    "duration": 3,
    "start_time": "2021-10-06T13:55:03.214Z"
   },
   {
    "duration": 16,
    "start_time": "2021-10-06T13:55:03.219Z"
   },
   {
    "duration": 40,
    "start_time": "2021-10-06T13:55:03.237Z"
   },
   {
    "duration": 2,
    "start_time": "2021-10-06T13:55:03.282Z"
   },
   {
    "duration": 22,
    "start_time": "2021-10-06T13:55:03.286Z"
   },
   {
    "duration": 91,
    "start_time": "2021-10-06T13:55:03.310Z"
   },
   {
    "duration": -844,
    "start_time": "2021-10-06T13:55:04.247Z"
   },
   {
    "duration": -847,
    "start_time": "2021-10-06T13:55:04.251Z"
   },
   {
    "duration": -855,
    "start_time": "2021-10-06T13:55:04.260Z"
   },
   {
    "duration": -859,
    "start_time": "2021-10-06T13:55:04.264Z"
   },
   {
    "duration": -862,
    "start_time": "2021-10-06T13:55:04.268Z"
   },
   {
    "duration": -865,
    "start_time": "2021-10-06T13:55:04.272Z"
   },
   {
    "duration": -868,
    "start_time": "2021-10-06T13:55:04.276Z"
   },
   {
    "duration": -871,
    "start_time": "2021-10-06T13:55:04.280Z"
   },
   {
    "duration": -874,
    "start_time": "2021-10-06T13:55:04.284Z"
   },
   {
    "duration": -887,
    "start_time": "2021-10-06T13:55:04.298Z"
   },
   {
    "duration": -899,
    "start_time": "2021-10-06T13:55:04.310Z"
   },
   {
    "duration": -904,
    "start_time": "2021-10-06T13:55:04.316Z"
   },
   {
    "duration": -909,
    "start_time": "2021-10-06T13:55:04.322Z"
   },
   {
    "duration": -912,
    "start_time": "2021-10-06T13:55:04.326Z"
   },
   {
    "duration": -1025,
    "start_time": "2021-10-06T13:55:04.440Z"
   },
   {
    "duration": -1028,
    "start_time": "2021-10-06T13:55:04.444Z"
   },
   {
    "duration": -1031,
    "start_time": "2021-10-06T13:55:04.448Z"
   },
   {
    "duration": -1033,
    "start_time": "2021-10-06T13:55:04.451Z"
   },
   {
    "duration": -1039,
    "start_time": "2021-10-06T13:55:04.458Z"
   },
   {
    "duration": -1047,
    "start_time": "2021-10-06T13:55:04.467Z"
   },
   {
    "duration": -1054,
    "start_time": "2021-10-06T13:55:04.475Z"
   },
   {
    "duration": -1058,
    "start_time": "2021-10-06T13:55:04.479Z"
   },
   {
    "duration": -1061,
    "start_time": "2021-10-06T13:55:04.483Z"
   },
   {
    "duration": -1064,
    "start_time": "2021-10-06T13:55:04.487Z"
   },
   {
    "duration": -1068,
    "start_time": "2021-10-06T13:55:04.492Z"
   },
   {
    "duration": -1071,
    "start_time": "2021-10-06T13:55:04.496Z"
   },
   {
    "duration": -1074,
    "start_time": "2021-10-06T13:55:04.500Z"
   },
   {
    "duration": 587,
    "start_time": "2021-10-06T13:59:02.433Z"
   },
   {
    "duration": 301,
    "start_time": "2021-10-06T13:59:03.021Z"
   },
   {
    "duration": 9,
    "start_time": "2021-10-06T13:59:03.323Z"
   },
   {
    "duration": 38,
    "start_time": "2021-10-06T13:59:03.333Z"
   },
   {
    "duration": 21,
    "start_time": "2021-10-06T13:59:03.372Z"
   },
   {
    "duration": 22,
    "start_time": "2021-10-06T13:59:03.394Z"
   },
   {
    "duration": 12,
    "start_time": "2021-10-06T13:59:03.417Z"
   },
   {
    "duration": 17,
    "start_time": "2021-10-06T13:59:03.431Z"
   },
   {
    "duration": 22,
    "start_time": "2021-10-06T13:59:03.450Z"
   },
   {
    "duration": 13,
    "start_time": "2021-10-06T13:59:03.473Z"
   },
   {
    "duration": 21,
    "start_time": "2021-10-06T13:59:03.487Z"
   },
   {
    "duration": 16,
    "start_time": "2021-10-06T13:59:03.509Z"
   },
   {
    "duration": 15,
    "start_time": "2021-10-06T13:59:03.527Z"
   },
   {
    "duration": 24,
    "start_time": "2021-10-06T13:59:03.543Z"
   },
   {
    "duration": 12,
    "start_time": "2021-10-06T13:59:03.569Z"
   },
   {
    "duration": 13,
    "start_time": "2021-10-06T13:59:03.582Z"
   },
   {
    "duration": 29,
    "start_time": "2021-10-06T13:59:03.597Z"
   },
   {
    "duration": 14,
    "start_time": "2021-10-06T13:59:03.628Z"
   },
   {
    "duration": 4,
    "start_time": "2021-10-06T13:59:03.644Z"
   },
   {
    "duration": 16,
    "start_time": "2021-10-06T13:59:03.649Z"
   },
   {
    "duration": 10,
    "start_time": "2021-10-06T13:59:03.667Z"
   },
   {
    "duration": 32,
    "start_time": "2021-10-06T13:59:03.679Z"
   },
   {
    "duration": 5,
    "start_time": "2021-10-06T13:59:03.714Z"
   },
   {
    "duration": 9,
    "start_time": "2021-10-06T13:59:03.721Z"
   },
   {
    "duration": 19,
    "start_time": "2021-10-06T13:59:03.731Z"
   },
   {
    "duration": 9,
    "start_time": "2021-10-06T13:59:03.752Z"
   },
   {
    "duration": 7,
    "start_time": "2021-10-06T13:59:03.762Z"
   },
   {
    "duration": 7,
    "start_time": "2021-10-06T13:59:03.770Z"
   },
   {
    "duration": 16,
    "start_time": "2021-10-06T13:59:03.779Z"
   },
   {
    "duration": 17,
    "start_time": "2021-10-06T13:59:03.797Z"
   },
   {
    "duration": 30,
    "start_time": "2021-10-06T13:59:03.816Z"
   },
   {
    "duration": 5,
    "start_time": "2021-10-06T13:59:03.848Z"
   },
   {
    "duration": 8,
    "start_time": "2021-10-06T13:59:03.855Z"
   },
   {
    "duration": 16,
    "start_time": "2021-10-06T13:59:03.865Z"
   },
   {
    "duration": 5,
    "start_time": "2021-10-06T13:59:03.883Z"
   },
   {
    "duration": 11,
    "start_time": "2021-10-06T13:59:03.889Z"
   },
   {
    "duration": 7,
    "start_time": "2021-10-06T13:59:03.901Z"
   },
   {
    "duration": 41,
    "start_time": "2021-10-06T13:59:03.910Z"
   },
   {
    "duration": 8,
    "start_time": "2021-10-06T13:59:03.952Z"
   },
   {
    "duration": 8,
    "start_time": "2021-10-06T13:59:03.962Z"
   },
   {
    "duration": 9,
    "start_time": "2021-10-06T13:59:03.972Z"
   },
   {
    "duration": 6,
    "start_time": "2021-10-06T13:59:03.982Z"
   },
   {
    "duration": 7,
    "start_time": "2021-10-06T13:59:03.989Z"
   },
   {
    "duration": 11,
    "start_time": "2021-10-06T13:59:03.998Z"
   },
   {
    "duration": 35,
    "start_time": "2021-10-06T13:59:04.010Z"
   },
   {
    "duration": 8,
    "start_time": "2021-10-06T13:59:04.048Z"
   },
   {
    "duration": 7,
    "start_time": "2021-10-06T13:59:04.058Z"
   },
   {
    "duration": 4,
    "start_time": "2021-10-06T13:59:04.067Z"
   },
   {
    "duration": 13,
    "start_time": "2021-10-06T13:59:04.073Z"
   },
   {
    "duration": 5,
    "start_time": "2021-10-06T13:59:04.088Z"
   },
   {
    "duration": 11,
    "start_time": "2021-10-06T13:59:04.094Z"
   },
   {
    "duration": 43,
    "start_time": "2021-10-06T13:59:04.106Z"
   },
   {
    "duration": 7,
    "start_time": "2021-10-06T13:59:04.152Z"
   },
   {
    "duration": 9,
    "start_time": "2021-10-06T13:59:04.160Z"
   },
   {
    "duration": 13,
    "start_time": "2021-10-06T13:59:04.171Z"
   },
   {
    "duration": 165,
    "start_time": "2021-10-06T13:59:04.185Z"
   },
   {
    "duration": 11,
    "start_time": "2021-10-06T13:59:04.352Z"
   },
   {
    "duration": 158,
    "start_time": "2021-10-06T13:59:04.365Z"
   },
   {
    "duration": 20,
    "start_time": "2021-10-06T13:59:04.524Z"
   },
   {
    "duration": 4,
    "start_time": "2021-10-06T13:59:04.546Z"
   },
   {
    "duration": 16,
    "start_time": "2021-10-06T13:59:04.551Z"
   },
   {
    "duration": 23,
    "start_time": "2021-10-06T13:59:04.569Z"
   },
   {
    "duration": 9,
    "start_time": "2021-10-06T13:59:04.594Z"
   },
   {
    "duration": 55,
    "start_time": "2021-10-06T13:59:04.605Z"
   },
   {
    "duration": 4,
    "start_time": "2021-10-06T13:59:04.661Z"
   },
   {
    "duration": 17,
    "start_time": "2021-10-06T13:59:04.667Z"
   },
   {
    "duration": 21,
    "start_time": "2021-10-06T13:59:04.686Z"
   },
   {
    "duration": 2,
    "start_time": "2021-10-06T13:59:04.713Z"
   },
   {
    "duration": 33,
    "start_time": "2021-10-06T13:59:04.717Z"
   },
   {
    "duration": 77,
    "start_time": "2021-10-06T13:59:04.751Z"
   },
   {
    "duration": -1456,
    "start_time": "2021-10-06T13:59:06.286Z"
   },
   {
    "duration": -1459,
    "start_time": "2021-10-06T13:59:06.290Z"
   },
   {
    "duration": -1464,
    "start_time": "2021-10-06T13:59:06.296Z"
   },
   {
    "duration": -1467,
    "start_time": "2021-10-06T13:59:06.300Z"
   },
   {
    "duration": -1472,
    "start_time": "2021-10-06T13:59:06.305Z"
   },
   {
    "duration": -1475,
    "start_time": "2021-10-06T13:59:06.309Z"
   },
   {
    "duration": -1478,
    "start_time": "2021-10-06T13:59:06.313Z"
   },
   {
    "duration": -1480,
    "start_time": "2021-10-06T13:59:06.316Z"
   },
   {
    "duration": -1484,
    "start_time": "2021-10-06T13:59:06.320Z"
   },
   {
    "duration": -1486,
    "start_time": "2021-10-06T13:59:06.323Z"
   },
   {
    "duration": -1490,
    "start_time": "2021-10-06T13:59:06.328Z"
   },
   {
    "duration": -1492,
    "start_time": "2021-10-06T13:59:06.331Z"
   },
   {
    "duration": -1496,
    "start_time": "2021-10-06T13:59:06.335Z"
   },
   {
    "duration": -1498,
    "start_time": "2021-10-06T13:59:06.338Z"
   },
   {
    "duration": -1502,
    "start_time": "2021-10-06T13:59:06.343Z"
   },
   {
    "duration": -1506,
    "start_time": "2021-10-06T13:59:06.348Z"
   },
   {
    "duration": -1509,
    "start_time": "2021-10-06T13:59:06.352Z"
   },
   {
    "duration": -1513,
    "start_time": "2021-10-06T13:59:06.356Z"
   },
   {
    "duration": -1515,
    "start_time": "2021-10-06T13:59:06.359Z"
   },
   {
    "duration": -1518,
    "start_time": "2021-10-06T13:59:06.363Z"
   },
   {
    "duration": -1521,
    "start_time": "2021-10-06T13:59:06.367Z"
   },
   {
    "duration": -1552,
    "start_time": "2021-10-06T13:59:06.399Z"
   },
   {
    "duration": -1559,
    "start_time": "2021-10-06T13:59:06.406Z"
   },
   {
    "duration": 7,
    "start_time": "2021-10-06T14:01:37.407Z"
   },
   {
    "duration": 636,
    "start_time": "2021-10-06T14:02:00.375Z"
   },
   {
    "duration": 244,
    "start_time": "2021-10-06T14:02:01.013Z"
   },
   {
    "duration": 8,
    "start_time": "2021-10-06T14:02:01.259Z"
   },
   {
    "duration": 27,
    "start_time": "2021-10-06T14:02:01.269Z"
   },
   {
    "duration": 43,
    "start_time": "2021-10-06T14:02:01.298Z"
   },
   {
    "duration": 24,
    "start_time": "2021-10-06T14:02:01.343Z"
   },
   {
    "duration": 19,
    "start_time": "2021-10-06T14:02:01.369Z"
   },
   {
    "duration": 23,
    "start_time": "2021-10-06T14:02:01.390Z"
   },
   {
    "duration": 26,
    "start_time": "2021-10-06T14:02:01.415Z"
   },
   {
    "duration": 8,
    "start_time": "2021-10-06T14:02:01.442Z"
   },
   {
    "duration": 24,
    "start_time": "2021-10-06T14:02:01.451Z"
   },
   {
    "duration": 32,
    "start_time": "2021-10-06T14:02:01.477Z"
   },
   {
    "duration": 24,
    "start_time": "2021-10-06T14:02:01.511Z"
   },
   {
    "duration": 23,
    "start_time": "2021-10-06T14:02:01.537Z"
   },
   {
    "duration": 17,
    "start_time": "2021-10-06T14:02:01.562Z"
   },
   {
    "duration": 10,
    "start_time": "2021-10-06T14:02:01.581Z"
   },
   {
    "duration": 58,
    "start_time": "2021-10-06T14:02:01.593Z"
   },
   {
    "duration": 26,
    "start_time": "2021-10-06T14:02:01.653Z"
   },
   {
    "duration": 21,
    "start_time": "2021-10-06T14:02:01.681Z"
   },
   {
    "duration": 16,
    "start_time": "2021-10-06T14:02:01.704Z"
   },
   {
    "duration": 18,
    "start_time": "2021-10-06T14:02:01.721Z"
   },
   {
    "duration": 29,
    "start_time": "2021-10-06T14:02:01.740Z"
   },
   {
    "duration": 4,
    "start_time": "2021-10-06T14:02:01.773Z"
   },
   {
    "duration": 11,
    "start_time": "2021-10-06T14:02:01.780Z"
   },
   {
    "duration": 32,
    "start_time": "2021-10-06T14:02:01.792Z"
   },
   {
    "duration": 24,
    "start_time": "2021-10-06T14:02:01.825Z"
   },
   {
    "duration": 33,
    "start_time": "2021-10-06T14:02:01.851Z"
   },
   {
    "duration": 12,
    "start_time": "2021-10-06T14:02:01.885Z"
   },
   {
    "duration": 27,
    "start_time": "2021-10-06T14:02:01.899Z"
   },
   {
    "duration": 35,
    "start_time": "2021-10-06T14:02:01.928Z"
   },
   {
    "duration": 7,
    "start_time": "2021-10-06T14:02:01.965Z"
   },
   {
    "duration": 7,
    "start_time": "2021-10-06T14:02:01.973Z"
   },
   {
    "duration": 6,
    "start_time": "2021-10-06T14:02:01.982Z"
   },
   {
    "duration": 17,
    "start_time": "2021-10-06T14:02:01.990Z"
   },
   {
    "duration": 5,
    "start_time": "2021-10-06T14:02:02.009Z"
   },
   {
    "duration": 32,
    "start_time": "2021-10-06T14:02:02.015Z"
   },
   {
    "duration": 12,
    "start_time": "2021-10-06T14:02:02.049Z"
   },
   {
    "duration": 9,
    "start_time": "2021-10-06T14:02:02.063Z"
   },
   {
    "duration": 17,
    "start_time": "2021-10-06T14:02:02.074Z"
   },
   {
    "duration": 7,
    "start_time": "2021-10-06T14:02:02.093Z"
   },
   {
    "duration": 13,
    "start_time": "2021-10-06T14:02:02.102Z"
   },
   {
    "duration": 15,
    "start_time": "2021-10-06T14:02:02.117Z"
   },
   {
    "duration": 23,
    "start_time": "2021-10-06T14:02:02.134Z"
   },
   {
    "duration": 14,
    "start_time": "2021-10-06T14:02:02.159Z"
   },
   {
    "duration": 7,
    "start_time": "2021-10-06T14:02:02.175Z"
   },
   {
    "duration": 9,
    "start_time": "2021-10-06T14:02:02.192Z"
   },
   {
    "duration": 11,
    "start_time": "2021-10-06T14:02:02.204Z"
   },
   {
    "duration": 8,
    "start_time": "2021-10-06T14:02:02.217Z"
   },
   {
    "duration": 22,
    "start_time": "2021-10-06T14:02:02.227Z"
   },
   {
    "duration": 7,
    "start_time": "2021-10-06T14:02:02.251Z"
   },
   {
    "duration": 22,
    "start_time": "2021-10-06T14:02:02.259Z"
   },
   {
    "duration": 13,
    "start_time": "2021-10-06T14:02:02.283Z"
   },
   {
    "duration": 12,
    "start_time": "2021-10-06T14:02:02.298Z"
   },
   {
    "duration": 22,
    "start_time": "2021-10-06T14:02:02.311Z"
   },
   {
    "duration": 16,
    "start_time": "2021-10-06T14:02:02.335Z"
   },
   {
    "duration": 136,
    "start_time": "2021-10-06T14:02:02.353Z"
   },
   {
    "duration": 11,
    "start_time": "2021-10-06T14:02:02.491Z"
   },
   {
    "duration": 142,
    "start_time": "2021-10-06T14:02:02.504Z"
   },
   {
    "duration": 12,
    "start_time": "2021-10-06T14:02:02.648Z"
   },
   {
    "duration": 10,
    "start_time": "2021-10-06T14:02:02.662Z"
   },
   {
    "duration": 18,
    "start_time": "2021-10-06T14:02:02.674Z"
   },
   {
    "duration": 16,
    "start_time": "2021-10-06T14:02:02.693Z"
   },
   {
    "duration": 15,
    "start_time": "2021-10-06T14:02:02.711Z"
   },
   {
    "duration": 38,
    "start_time": "2021-10-06T14:02:02.728Z"
   },
   {
    "duration": 4,
    "start_time": "2021-10-06T14:02:02.767Z"
   },
   {
    "duration": 21,
    "start_time": "2021-10-06T14:02:02.772Z"
   },
   {
    "duration": 25,
    "start_time": "2021-10-06T14:02:02.794Z"
   },
   {
    "duration": 2,
    "start_time": "2021-10-06T14:02:02.848Z"
   },
   {
    "duration": 19,
    "start_time": "2021-10-06T14:02:02.852Z"
   },
   {
    "duration": 19,
    "start_time": "2021-10-06T14:02:02.872Z"
   },
   {
    "duration": 282,
    "start_time": "2021-10-06T14:02:02.892Z"
   },
   {
    "duration": -903,
    "start_time": "2021-10-06T14:02:04.079Z"
   },
   {
    "duration": -906,
    "start_time": "2021-10-06T14:02:04.083Z"
   },
   {
    "duration": -909,
    "start_time": "2021-10-06T14:02:04.087Z"
   },
   {
    "duration": -912,
    "start_time": "2021-10-06T14:02:04.090Z"
   },
   {
    "duration": -914,
    "start_time": "2021-10-06T14:02:04.093Z"
   },
   {
    "duration": -917,
    "start_time": "2021-10-06T14:02:04.097Z"
   },
   {
    "duration": -920,
    "start_time": "2021-10-06T14:02:04.101Z"
   },
   {
    "duration": -925,
    "start_time": "2021-10-06T14:02:04.107Z"
   },
   {
    "duration": -927,
    "start_time": "2021-10-06T14:02:04.110Z"
   },
   {
    "duration": -929,
    "start_time": "2021-10-06T14:02:04.113Z"
   },
   {
    "duration": -932,
    "start_time": "2021-10-06T14:02:04.117Z"
   },
   {
    "duration": -935,
    "start_time": "2021-10-06T14:02:04.121Z"
   },
   {
    "duration": -938,
    "start_time": "2021-10-06T14:02:04.124Z"
   },
   {
    "duration": -940,
    "start_time": "2021-10-06T14:02:04.127Z"
   },
   {
    "duration": -942,
    "start_time": "2021-10-06T14:02:04.130Z"
   },
   {
    "duration": -945,
    "start_time": "2021-10-06T14:02:04.134Z"
   },
   {
    "duration": -948,
    "start_time": "2021-10-06T14:02:04.138Z"
   },
   {
    "duration": -951,
    "start_time": "2021-10-06T14:02:04.142Z"
   },
   {
    "duration": -955,
    "start_time": "2021-10-06T14:02:04.147Z"
   },
   {
    "duration": -970,
    "start_time": "2021-10-06T14:02:04.163Z"
   },
   {
    "duration": -981,
    "start_time": "2021-10-06T14:02:04.175Z"
   },
   {
    "duration": -1010,
    "start_time": "2021-10-06T14:02:04.205Z"
   },
   {
    "duration": -1014,
    "start_time": "2021-10-06T14:02:04.210Z"
   },
   {
    "duration": -1017,
    "start_time": "2021-10-06T14:02:04.214Z"
   },
   {
    "duration": -1022,
    "start_time": "2021-10-06T14:02:04.220Z"
   },
   {
    "duration": -1026,
    "start_time": "2021-10-06T14:02:04.225Z"
   },
   {
    "duration": 12,
    "start_time": "2021-10-06T14:02:40.076Z"
   },
   {
    "duration": 70,
    "start_time": "2021-10-06T14:03:06.742Z"
   },
   {
    "duration": 15,
    "start_time": "2021-10-06T14:03:09.778Z"
   },
   {
    "duration": 14,
    "start_time": "2021-10-06T14:23:59.092Z"
   },
   {
    "duration": 25,
    "start_time": "2021-10-06T14:24:14.831Z"
   },
   {
    "duration": 226,
    "start_time": "2021-10-06T14:50:15.583Z"
   },
   {
    "duration": 23,
    "start_time": "2021-10-06T14:50:21.857Z"
   },
   {
    "duration": 21,
    "start_time": "2021-10-06T14:50:41.800Z"
   },
   {
    "duration": 19,
    "start_time": "2021-10-06T14:51:03.488Z"
   },
   {
    "duration": 26,
    "start_time": "2021-10-06T14:51:52.765Z"
   },
   {
    "duration": 610,
    "start_time": "2021-10-06T14:52:29.539Z"
   },
   {
    "duration": 949,
    "start_time": "2021-10-06T14:52:30.151Z"
   },
   {
    "duration": 7,
    "start_time": "2021-10-06T14:52:31.102Z"
   },
   {
    "duration": 38,
    "start_time": "2021-10-06T14:52:31.111Z"
   },
   {
    "duration": 34,
    "start_time": "2021-10-06T14:52:31.151Z"
   },
   {
    "duration": 37,
    "start_time": "2021-10-06T14:52:31.186Z"
   },
   {
    "duration": 36,
    "start_time": "2021-10-06T14:52:31.225Z"
   },
   {
    "duration": 32,
    "start_time": "2021-10-06T14:52:31.264Z"
   },
   {
    "duration": 36,
    "start_time": "2021-10-06T14:52:31.298Z"
   },
   {
    "duration": 14,
    "start_time": "2021-10-06T14:52:31.336Z"
   },
   {
    "duration": 39,
    "start_time": "2021-10-06T14:52:31.351Z"
   },
   {
    "duration": 36,
    "start_time": "2021-10-06T14:52:31.392Z"
   },
   {
    "duration": 29,
    "start_time": "2021-10-06T14:52:31.430Z"
   },
   {
    "duration": 36,
    "start_time": "2021-10-06T14:52:31.461Z"
   },
   {
    "duration": 25,
    "start_time": "2021-10-06T14:52:31.498Z"
   },
   {
    "duration": 28,
    "start_time": "2021-10-06T14:52:31.525Z"
   },
   {
    "duration": 30,
    "start_time": "2021-10-06T14:52:31.555Z"
   },
   {
    "duration": 36,
    "start_time": "2021-10-06T14:52:31.586Z"
   },
   {
    "duration": 11,
    "start_time": "2021-10-06T14:52:31.624Z"
   },
   {
    "duration": 23,
    "start_time": "2021-10-06T14:52:31.636Z"
   },
   {
    "duration": 24,
    "start_time": "2021-10-06T14:52:31.661Z"
   },
   {
    "duration": 34,
    "start_time": "2021-10-06T14:52:31.687Z"
   },
   {
    "duration": 6,
    "start_time": "2021-10-06T14:52:31.725Z"
   },
   {
    "duration": 20,
    "start_time": "2021-10-06T14:52:31.733Z"
   },
   {
    "duration": 27,
    "start_time": "2021-10-06T14:52:31.755Z"
   },
   {
    "duration": 32,
    "start_time": "2021-10-06T14:52:31.784Z"
   },
   {
    "duration": 15,
    "start_time": "2021-10-06T14:52:31.818Z"
   },
   {
    "duration": 22,
    "start_time": "2021-10-06T14:52:31.834Z"
   },
   {
    "duration": 27,
    "start_time": "2021-10-06T14:52:31.857Z"
   },
   {
    "duration": 34,
    "start_time": "2021-10-06T14:52:31.886Z"
   },
   {
    "duration": 13,
    "start_time": "2021-10-06T14:52:31.922Z"
   },
   {
    "duration": 18,
    "start_time": "2021-10-06T14:52:31.937Z"
   },
   {
    "duration": 25,
    "start_time": "2021-10-06T14:52:31.957Z"
   },
   {
    "duration": 38,
    "start_time": "2021-10-06T14:52:31.983Z"
   },
   {
    "duration": 8,
    "start_time": "2021-10-06T14:52:32.023Z"
   },
   {
    "duration": 29,
    "start_time": "2021-10-06T14:52:32.033Z"
   },
   {
    "duration": 25,
    "start_time": "2021-10-06T14:52:32.064Z"
   },
   {
    "duration": 25,
    "start_time": "2021-10-06T14:52:32.091Z"
   },
   {
    "duration": 40,
    "start_time": "2021-10-06T14:52:32.118Z"
   },
   {
    "duration": 30,
    "start_time": "2021-10-06T14:52:32.159Z"
   },
   {
    "duration": 32,
    "start_time": "2021-10-06T14:52:32.191Z"
   },
   {
    "duration": 15,
    "start_time": "2021-10-06T14:52:32.225Z"
   },
   {
    "duration": 22,
    "start_time": "2021-10-06T14:52:32.241Z"
   },
   {
    "duration": 36,
    "start_time": "2021-10-06T14:52:32.264Z"
   },
   {
    "duration": 16,
    "start_time": "2021-10-06T14:52:32.301Z"
   },
   {
    "duration": 30,
    "start_time": "2021-10-06T14:52:32.319Z"
   },
   {
    "duration": 19,
    "start_time": "2021-10-06T14:52:32.351Z"
   },
   {
    "duration": 16,
    "start_time": "2021-10-06T14:52:32.372Z"
   },
   {
    "duration": 24,
    "start_time": "2021-10-06T14:52:32.390Z"
   },
   {
    "duration": 23,
    "start_time": "2021-10-06T14:52:32.415Z"
   },
   {
    "duration": 19,
    "start_time": "2021-10-06T14:52:32.440Z"
   },
   {
    "duration": 23,
    "start_time": "2021-10-06T14:52:32.461Z"
   },
   {
    "duration": 19,
    "start_time": "2021-10-06T14:52:32.486Z"
   },
   {
    "duration": 19,
    "start_time": "2021-10-06T14:52:32.507Z"
   },
   {
    "duration": 28,
    "start_time": "2021-10-06T14:52:32.527Z"
   },
   {
    "duration": 145,
    "start_time": "2021-10-06T14:52:32.557Z"
   },
   {
    "duration": 10,
    "start_time": "2021-10-06T14:52:32.704Z"
   },
   {
    "duration": 139,
    "start_time": "2021-10-06T14:52:32.716Z"
   },
   {
    "duration": 11,
    "start_time": "2021-10-06T14:52:32.856Z"
   },
   {
    "duration": 19,
    "start_time": "2021-10-06T14:52:32.869Z"
   },
   {
    "duration": 44,
    "start_time": "2021-10-06T14:52:32.890Z"
   },
   {
    "duration": 25,
    "start_time": "2021-10-06T14:52:32.936Z"
   },
   {
    "duration": 20,
    "start_time": "2021-10-06T14:52:32.963Z"
   },
   {
    "duration": 49,
    "start_time": "2021-10-06T14:52:32.985Z"
   },
   {
    "duration": 4,
    "start_time": "2021-10-06T14:52:33.036Z"
   },
   {
    "duration": 32,
    "start_time": "2021-10-06T14:52:33.042Z"
   },
   {
    "duration": 36,
    "start_time": "2021-10-06T14:52:33.076Z"
   },
   {
    "duration": 3,
    "start_time": "2021-10-06T14:52:33.117Z"
   },
   {
    "duration": 19,
    "start_time": "2021-10-06T14:52:33.121Z"
   },
   {
    "duration": 43,
    "start_time": "2021-10-06T14:52:33.142Z"
   },
   {
    "duration": 622,
    "start_time": "2021-10-06T14:52:33.187Z"
   },
   {
    "duration": 19,
    "start_time": "2021-10-06T14:52:33.811Z"
   },
   {
    "duration": 465,
    "start_time": "2021-10-06T14:52:33.832Z"
   },
   {
    "duration": 47,
    "start_time": "2021-10-06T14:52:34.299Z"
   },
   {
    "duration": 338,
    "start_time": "2021-10-06T14:52:34.348Z"
   },
   {
    "duration": 427,
    "start_time": "2021-10-06T14:52:34.688Z"
   },
   {
    "duration": 28,
    "start_time": "2021-10-06T14:52:35.117Z"
   },
   {
    "duration": 7,
    "start_time": "2021-10-06T14:52:35.146Z"
   },
   {
    "duration": 665,
    "start_time": "2021-10-06T14:52:35.155Z"
   },
   {
    "duration": 611,
    "start_time": "2021-10-06T14:52:35.821Z"
   },
   {
    "duration": 676,
    "start_time": "2021-10-06T14:52:36.434Z"
   },
   {
    "duration": 304,
    "start_time": "2021-10-06T14:52:37.111Z"
   },
   {
    "duration": 314,
    "start_time": "2021-10-06T14:52:37.416Z"
   },
   {
    "duration": 313,
    "start_time": "2021-10-06T14:52:37.732Z"
   },
   {
    "duration": 3,
    "start_time": "2021-10-06T14:52:38.047Z"
   },
   {
    "duration": 808,
    "start_time": "2021-10-06T14:52:38.052Z"
   },
   {
    "duration": 4,
    "start_time": "2021-10-06T14:52:38.862Z"
   },
   {
    "duration": 747,
    "start_time": "2021-10-06T14:52:38.867Z"
   },
   {
    "duration": 4,
    "start_time": "2021-10-06T14:52:39.616Z"
   },
   {
    "duration": 669,
    "start_time": "2021-10-06T14:52:39.621Z"
   },
   {
    "duration": 829,
    "start_time": "2021-10-06T14:52:40.291Z"
   },
   {
    "duration": -147,
    "start_time": "2021-10-06T14:52:41.269Z"
   },
   {
    "duration": -162,
    "start_time": "2021-10-06T14:52:41.285Z"
   },
   {
    "duration": -176,
    "start_time": "2021-10-06T14:52:41.300Z"
   },
   {
    "duration": -193,
    "start_time": "2021-10-06T14:52:41.318Z"
   },
   {
    "duration": -211,
    "start_time": "2021-10-06T14:52:41.337Z"
   },
   {
    "duration": 30,
    "start_time": "2021-10-06T14:53:04.440Z"
   },
   {
    "duration": 36,
    "start_time": "2021-10-06T14:53:59.102Z"
   },
   {
    "duration": 624,
    "start_time": "2021-10-06T14:54:22.806Z"
   },
   {
    "duration": 284,
    "start_time": "2021-10-06T14:54:23.432Z"
   },
   {
    "duration": 8,
    "start_time": "2021-10-06T14:54:23.718Z"
   },
   {
    "duration": 18,
    "start_time": "2021-10-06T14:54:23.728Z"
   },
   {
    "duration": 13,
    "start_time": "2021-10-06T14:54:23.748Z"
   },
   {
    "duration": 18,
    "start_time": "2021-10-06T14:54:23.762Z"
   },
   {
    "duration": 7,
    "start_time": "2021-10-06T14:54:23.782Z"
   },
   {
    "duration": 6,
    "start_time": "2021-10-06T14:54:23.792Z"
   },
   {
    "duration": 44,
    "start_time": "2021-10-06T14:54:23.801Z"
   },
   {
    "duration": 4,
    "start_time": "2021-10-06T14:54:23.848Z"
   },
   {
    "duration": 6,
    "start_time": "2021-10-06T14:54:23.854Z"
   },
   {
    "duration": 8,
    "start_time": "2021-10-06T14:54:23.862Z"
   },
   {
    "duration": 3,
    "start_time": "2021-10-06T14:54:23.872Z"
   },
   {
    "duration": 18,
    "start_time": "2021-10-06T14:54:23.877Z"
   },
   {
    "duration": 11,
    "start_time": "2021-10-06T14:54:23.896Z"
   },
   {
    "duration": 37,
    "start_time": "2021-10-06T14:54:23.909Z"
   },
   {
    "duration": 10,
    "start_time": "2021-10-06T14:54:23.948Z"
   },
   {
    "duration": 16,
    "start_time": "2021-10-06T14:54:23.960Z"
   },
   {
    "duration": 3,
    "start_time": "2021-10-06T14:54:23.977Z"
   },
   {
    "duration": 12,
    "start_time": "2021-10-06T14:54:23.982Z"
   },
   {
    "duration": 9,
    "start_time": "2021-10-06T14:54:23.996Z"
   },
   {
    "duration": 48,
    "start_time": "2021-10-06T14:54:24.007Z"
   },
   {
    "duration": 5,
    "start_time": "2021-10-06T14:54:24.059Z"
   },
   {
    "duration": 5,
    "start_time": "2021-10-06T14:54:24.066Z"
   },
   {
    "duration": 16,
    "start_time": "2021-10-06T14:54:24.072Z"
   },
   {
    "duration": 11,
    "start_time": "2021-10-06T14:54:24.090Z"
   },
   {
    "duration": 4,
    "start_time": "2021-10-06T14:54:24.103Z"
   },
   {
    "duration": 7,
    "start_time": "2021-10-06T14:54:24.108Z"
   },
   {
    "duration": 35,
    "start_time": "2021-10-06T14:54:24.117Z"
   },
   {
    "duration": 17,
    "start_time": "2021-10-06T14:54:24.154Z"
   },
   {
    "duration": 5,
    "start_time": "2021-10-06T14:54:24.173Z"
   },
   {
    "duration": 4,
    "start_time": "2021-10-06T14:54:24.179Z"
   },
   {
    "duration": 5,
    "start_time": "2021-10-06T14:54:24.185Z"
   },
   {
    "duration": 17,
    "start_time": "2021-10-06T14:54:24.191Z"
   },
   {
    "duration": 38,
    "start_time": "2021-10-06T14:54:24.210Z"
   },
   {
    "duration": 12,
    "start_time": "2021-10-06T14:54:24.250Z"
   },
   {
    "duration": 10,
    "start_time": "2021-10-06T14:54:24.264Z"
   },
   {
    "duration": 8,
    "start_time": "2021-10-06T14:54:24.275Z"
   },
   {
    "duration": 10,
    "start_time": "2021-10-06T14:54:24.285Z"
   },
   {
    "duration": 11,
    "start_time": "2021-10-06T14:54:24.297Z"
   },
   {
    "duration": 8,
    "start_time": "2021-10-06T14:54:24.309Z"
   },
   {
    "duration": 28,
    "start_time": "2021-10-06T14:54:24.318Z"
   },
   {
    "duration": 5,
    "start_time": "2021-10-06T14:54:24.348Z"
   },
   {
    "duration": 11,
    "start_time": "2021-10-06T14:54:24.355Z"
   },
   {
    "duration": 6,
    "start_time": "2021-10-06T14:54:24.368Z"
   },
   {
    "duration": 11,
    "start_time": "2021-10-06T14:54:24.375Z"
   },
   {
    "duration": 9,
    "start_time": "2021-10-06T14:54:24.388Z"
   },
   {
    "duration": 9,
    "start_time": "2021-10-06T14:54:24.399Z"
   },
   {
    "duration": 45,
    "start_time": "2021-10-06T14:54:24.409Z"
   },
   {
    "duration": 6,
    "start_time": "2021-10-06T14:54:24.456Z"
   },
   {
    "duration": 16,
    "start_time": "2021-10-06T14:54:24.464Z"
   },
   {
    "duration": 19,
    "start_time": "2021-10-06T14:54:24.482Z"
   },
   {
    "duration": 7,
    "start_time": "2021-10-06T14:54:24.502Z"
   },
   {
    "duration": 39,
    "start_time": "2021-10-06T14:54:24.512Z"
   },
   {
    "duration": 17,
    "start_time": "2021-10-06T14:54:24.553Z"
   },
   {
    "duration": 575,
    "start_time": "2021-10-06T14:55:23.255Z"
   },
   {
    "duration": 242,
    "start_time": "2021-10-06T14:55:23.832Z"
   },
   {
    "duration": 8,
    "start_time": "2021-10-06T14:55:24.076Z"
   },
   {
    "duration": 23,
    "start_time": "2021-10-06T14:55:24.086Z"
   },
   {
    "duration": 12,
    "start_time": "2021-10-06T14:55:24.111Z"
   },
   {
    "duration": 20,
    "start_time": "2021-10-06T14:55:24.125Z"
   },
   {
    "duration": 7,
    "start_time": "2021-10-06T14:55:24.147Z"
   },
   {
    "duration": 6,
    "start_time": "2021-10-06T14:55:24.156Z"
   },
   {
    "duration": 20,
    "start_time": "2021-10-06T14:55:24.164Z"
   },
   {
    "duration": 3,
    "start_time": "2021-10-06T14:55:24.186Z"
   },
   {
    "duration": 12,
    "start_time": "2021-10-06T14:55:24.191Z"
   },
   {
    "duration": 9,
    "start_time": "2021-10-06T14:55:24.205Z"
   },
   {
    "duration": 4,
    "start_time": "2021-10-06T14:55:24.216Z"
   },
   {
    "duration": 32,
    "start_time": "2021-10-06T14:55:24.221Z"
   },
   {
    "duration": 11,
    "start_time": "2021-10-06T14:55:24.255Z"
   },
   {
    "duration": 5,
    "start_time": "2021-10-06T14:55:24.268Z"
   },
   {
    "duration": 11,
    "start_time": "2021-10-06T14:55:24.274Z"
   },
   {
    "duration": 13,
    "start_time": "2021-10-06T14:55:24.287Z"
   },
   {
    "duration": 3,
    "start_time": "2021-10-06T14:55:24.302Z"
   },
   {
    "duration": 41,
    "start_time": "2021-10-06T14:55:24.307Z"
   },
   {
    "duration": 14,
    "start_time": "2021-10-06T14:55:24.350Z"
   },
   {
    "duration": 35,
    "start_time": "2021-10-06T14:55:24.366Z"
   },
   {
    "duration": 6,
    "start_time": "2021-10-06T14:55:24.406Z"
   },
   {
    "duration": 3,
    "start_time": "2021-10-06T14:55:24.416Z"
   },
   {
    "duration": 37,
    "start_time": "2021-10-06T14:55:24.421Z"
   },
   {
    "duration": 16,
    "start_time": "2021-10-06T14:55:24.460Z"
   },
   {
    "duration": 4,
    "start_time": "2021-10-06T14:55:24.479Z"
   },
   {
    "duration": 10,
    "start_time": "2021-10-06T14:55:24.485Z"
   },
   {
    "duration": 11,
    "start_time": "2021-10-06T14:55:24.497Z"
   },
   {
    "duration": 48,
    "start_time": "2021-10-06T14:55:24.510Z"
   },
   {
    "duration": 6,
    "start_time": "2021-10-06T14:55:24.560Z"
   },
   {
    "duration": 5,
    "start_time": "2021-10-06T14:55:24.568Z"
   },
   {
    "duration": 9,
    "start_time": "2021-10-06T14:55:24.576Z"
   },
   {
    "duration": 24,
    "start_time": "2021-10-06T14:55:24.586Z"
   },
   {
    "duration": 37,
    "start_time": "2021-10-06T14:55:24.611Z"
   },
   {
    "duration": 13,
    "start_time": "2021-10-06T14:55:24.650Z"
   },
   {
    "duration": 11,
    "start_time": "2021-10-06T14:55:24.664Z"
   },
   {
    "duration": 7,
    "start_time": "2021-10-06T14:55:24.676Z"
   },
   {
    "duration": 7,
    "start_time": "2021-10-06T14:55:24.685Z"
   },
   {
    "duration": 6,
    "start_time": "2021-10-06T14:55:24.694Z"
   },
   {
    "duration": 9,
    "start_time": "2021-10-06T14:55:24.701Z"
   },
   {
    "duration": 33,
    "start_time": "2021-10-06T14:55:24.712Z"
   },
   {
    "duration": 7,
    "start_time": "2021-10-06T14:55:24.747Z"
   },
   {
    "duration": 9,
    "start_time": "2021-10-06T14:55:24.756Z"
   },
   {
    "duration": 5,
    "start_time": "2021-10-06T14:55:24.767Z"
   },
   {
    "duration": 17,
    "start_time": "2021-10-06T14:55:24.774Z"
   },
   {
    "duration": 20,
    "start_time": "2021-10-06T14:55:24.793Z"
   },
   {
    "duration": 13,
    "start_time": "2021-10-06T14:55:24.815Z"
   },
   {
    "duration": 26,
    "start_time": "2021-10-06T14:55:24.830Z"
   },
   {
    "duration": 6,
    "start_time": "2021-10-06T14:55:24.858Z"
   },
   {
    "duration": 19,
    "start_time": "2021-10-06T14:55:24.865Z"
   },
   {
    "duration": 16,
    "start_time": "2021-10-06T14:55:24.885Z"
   },
   {
    "duration": 8,
    "start_time": "2021-10-06T14:55:24.903Z"
   },
   {
    "duration": 9,
    "start_time": "2021-10-06T14:55:24.913Z"
   },
   {
    "duration": 29,
    "start_time": "2021-10-06T14:55:24.924Z"
   },
   {
    "duration": 150,
    "start_time": "2021-10-06T14:55:24.955Z"
   },
   {
    "duration": 11,
    "start_time": "2021-10-06T14:55:25.107Z"
   },
   {
    "duration": 137,
    "start_time": "2021-10-06T14:55:25.119Z"
   },
   {
    "duration": 12,
    "start_time": "2021-10-06T14:55:25.257Z"
   },
   {
    "duration": 7,
    "start_time": "2021-10-06T14:55:25.271Z"
   },
   {
    "duration": 17,
    "start_time": "2021-10-06T14:55:25.280Z"
   },
   {
    "duration": 17,
    "start_time": "2021-10-06T14:55:25.299Z"
   },
   {
    "duration": 32,
    "start_time": "2021-10-06T14:55:25.318Z"
   },
   {
    "duration": 26,
    "start_time": "2021-10-06T14:55:25.352Z"
   },
   {
    "duration": 4,
    "start_time": "2021-10-06T14:55:25.380Z"
   },
   {
    "duration": 14,
    "start_time": "2021-10-06T14:55:25.386Z"
   },
   {
    "duration": 52,
    "start_time": "2021-10-06T14:55:25.402Z"
   },
   {
    "duration": 2,
    "start_time": "2021-10-06T14:55:25.459Z"
   },
   {
    "duration": 12,
    "start_time": "2021-10-06T14:55:25.463Z"
   },
   {
    "duration": 31,
    "start_time": "2021-10-06T14:56:01.017Z"
   },
   {
    "duration": 30,
    "start_time": "2021-10-06T14:57:14.954Z"
   },
   {
    "duration": 35,
    "start_time": "2021-10-06T14:57:22.489Z"
   },
   {
    "duration": 450,
    "start_time": "2021-10-06T15:00:43.063Z"
   },
   {
    "duration": 356,
    "start_time": "2021-10-06T15:01:11.926Z"
   },
   {
    "duration": 272,
    "start_time": "2021-10-06T15:02:44.922Z"
   },
   {
    "duration": 223,
    "start_time": "2021-10-06T15:03:00.825Z"
   },
   {
    "duration": 42,
    "start_time": "2021-10-06T15:03:04.999Z"
   },
   {
    "duration": 206,
    "start_time": "2021-10-06T15:03:06.270Z"
   },
   {
    "duration": 218,
    "start_time": "2021-10-06T15:03:37.124Z"
   },
   {
    "duration": 232,
    "start_time": "2021-10-06T15:04:08.257Z"
   },
   {
    "duration": 213,
    "start_time": "2021-10-06T15:04:25.662Z"
   },
   {
    "duration": 207,
    "start_time": "2021-10-06T15:04:41.236Z"
   },
   {
    "duration": 11,
    "start_time": "2021-10-06T15:04:48.660Z"
   },
   {
    "duration": 14,
    "start_time": "2021-10-06T15:08:16.004Z"
   },
   {
    "duration": 373,
    "start_time": "2021-10-06T15:08:43.497Z"
   },
   {
    "duration": 14,
    "start_time": "2021-10-06T15:08:51.753Z"
   },
   {
    "duration": 611,
    "start_time": "2021-10-06T15:10:06.683Z"
   },
   {
    "duration": 16,
    "start_time": "2021-10-06T15:10:53.712Z"
   },
   {
    "duration": 19,
    "start_time": "2021-10-06T15:13:18.991Z"
   },
   {
    "duration": 13,
    "start_time": "2021-10-06T15:13:34.561Z"
   },
   {
    "duration": 7,
    "start_time": "2021-10-06T15:16:58.767Z"
   },
   {
    "duration": 5,
    "start_time": "2021-10-06T15:17:04.002Z"
   },
   {
    "duration": 228,
    "start_time": "2021-10-06T15:18:28.911Z"
   },
   {
    "duration": 824,
    "start_time": "2021-10-06T15:18:35.840Z"
   },
   {
    "duration": 14,
    "start_time": "2021-10-06T15:18:41.359Z"
   },
   {
    "duration": 17,
    "start_time": "2021-10-06T15:18:52.917Z"
   },
   {
    "duration": 75,
    "start_time": "2021-10-06T15:18:57.969Z"
   },
   {
    "duration": 15,
    "start_time": "2021-10-06T15:19:09.201Z"
   },
   {
    "duration": 14,
    "start_time": "2021-10-06T15:19:40.997Z"
   },
   {
    "duration": 15,
    "start_time": "2021-10-06T15:19:44.938Z"
   },
   {
    "duration": 12,
    "start_time": "2021-10-06T15:20:15.454Z"
   },
   {
    "duration": 12,
    "start_time": "2021-10-06T15:20:22.737Z"
   },
   {
    "duration": 15,
    "start_time": "2021-10-06T15:20:36.118Z"
   },
   {
    "duration": 22,
    "start_time": "2021-10-06T15:22:58.470Z"
   },
   {
    "duration": 23,
    "start_time": "2021-10-06T15:23:09.845Z"
   },
   {
    "duration": 23,
    "start_time": "2021-10-06T15:23:20.365Z"
   },
   {
    "duration": 23,
    "start_time": "2021-10-06T15:23:20.681Z"
   },
   {
    "duration": 25,
    "start_time": "2021-10-06T15:23:21.416Z"
   },
   {
    "duration": 25,
    "start_time": "2021-10-06T15:23:22.250Z"
   },
   {
    "duration": 2,
    "start_time": "2021-10-06T15:23:29.084Z"
   },
   {
    "duration": 2,
    "start_time": "2021-10-06T15:23:29.365Z"
   },
   {
    "duration": 44,
    "start_time": "2021-10-06T15:23:34.739Z"
   },
   {
    "duration": 16,
    "start_time": "2021-10-06T15:24:34.512Z"
   },
   {
    "duration": 5,
    "start_time": "2021-10-06T15:24:35.959Z"
   },
   {
    "duration": 5,
    "start_time": "2021-10-06T15:24:45.186Z"
   },
   {
    "duration": 17,
    "start_time": "2021-10-06T15:26:36.443Z"
   },
   {
    "duration": 16,
    "start_time": "2021-10-06T15:26:37.595Z"
   },
   {
    "duration": 15,
    "start_time": "2021-10-06T15:26:39.938Z"
   },
   {
    "duration": 71,
    "start_time": "2021-10-06T15:27:58.327Z"
   },
   {
    "duration": 72,
    "start_time": "2021-10-06T15:28:18.413Z"
   },
   {
    "duration": 5,
    "start_time": "2021-10-06T15:28:19.734Z"
   },
   {
    "duration": 45,
    "start_time": "2021-10-06T15:28:22.096Z"
   },
   {
    "duration": 74,
    "start_time": "2021-10-06T15:28:22.663Z"
   },
   {
    "duration": 1893,
    "start_time": "2021-10-06T15:28:38.155Z"
   },
   {
    "duration": 232,
    "start_time": "2021-10-06T15:28:40.050Z"
   },
   {
    "duration": 8,
    "start_time": "2021-10-06T15:28:40.284Z"
   },
   {
    "duration": 34,
    "start_time": "2021-10-06T15:28:40.294Z"
   },
   {
    "duration": 31,
    "start_time": "2021-10-06T15:28:40.329Z"
   },
   {
    "duration": 21,
    "start_time": "2021-10-06T15:28:40.362Z"
   },
   {
    "duration": 14,
    "start_time": "2021-10-06T15:28:40.385Z"
   },
   {
    "duration": 23,
    "start_time": "2021-10-06T15:28:40.401Z"
   },
   {
    "duration": 30,
    "start_time": "2021-10-06T15:28:40.426Z"
   },
   {
    "duration": 7,
    "start_time": "2021-10-06T15:28:40.458Z"
   },
   {
    "duration": 22,
    "start_time": "2021-10-06T15:28:40.466Z"
   },
   {
    "duration": 23,
    "start_time": "2021-10-06T15:28:40.489Z"
   },
   {
    "duration": 18,
    "start_time": "2021-10-06T15:28:40.514Z"
   },
   {
    "duration": 24,
    "start_time": "2021-10-06T15:28:40.534Z"
   },
   {
    "duration": 10,
    "start_time": "2021-10-06T15:28:40.560Z"
   },
   {
    "duration": 22,
    "start_time": "2021-10-06T15:28:40.572Z"
   },
   {
    "duration": 26,
    "start_time": "2021-10-06T15:28:40.596Z"
   },
   {
    "duration": 13,
    "start_time": "2021-10-06T15:28:40.624Z"
   },
   {
    "duration": 7,
    "start_time": "2021-10-06T15:28:40.639Z"
   },
   {
    "duration": 10,
    "start_time": "2021-10-06T15:28:40.647Z"
   },
   {
    "duration": 21,
    "start_time": "2021-10-06T15:28:40.658Z"
   },
   {
    "duration": 29,
    "start_time": "2021-10-06T15:28:40.681Z"
   },
   {
    "duration": 5,
    "start_time": "2021-10-06T15:28:40.714Z"
   },
   {
    "duration": 18,
    "start_time": "2021-10-06T15:28:40.721Z"
   },
   {
    "duration": 26,
    "start_time": "2021-10-06T15:28:40.741Z"
   },
   {
    "duration": 26,
    "start_time": "2021-10-06T15:28:40.768Z"
   },
   {
    "duration": 16,
    "start_time": "2021-10-06T15:28:40.796Z"
   },
   {
    "duration": 12,
    "start_time": "2021-10-06T15:28:40.814Z"
   },
   {
    "duration": 14,
    "start_time": "2021-10-06T15:28:40.828Z"
   },
   {
    "duration": 18,
    "start_time": "2021-10-06T15:28:40.844Z"
   },
   {
    "duration": 7,
    "start_time": "2021-10-06T15:28:40.864Z"
   },
   {
    "duration": 22,
    "start_time": "2021-10-06T15:28:40.873Z"
   },
   {
    "duration": 18,
    "start_time": "2021-10-06T15:28:40.897Z"
   },
   {
    "duration": 28,
    "start_time": "2021-10-06T15:28:40.917Z"
   },
   {
    "duration": 5,
    "start_time": "2021-10-06T15:28:40.946Z"
   },
   {
    "duration": 23,
    "start_time": "2021-10-06T15:28:40.952Z"
   },
   {
    "duration": 29,
    "start_time": "2021-10-06T15:28:40.977Z"
   },
   {
    "duration": 14,
    "start_time": "2021-10-06T15:28:41.007Z"
   },
   {
    "duration": 15,
    "start_time": "2021-10-06T15:28:41.023Z"
   },
   {
    "duration": 9,
    "start_time": "2021-10-06T15:28:41.039Z"
   },
   {
    "duration": 7,
    "start_time": "2021-10-06T15:28:41.050Z"
   },
   {
    "duration": 16,
    "start_time": "2021-10-06T15:28:41.059Z"
   },
   {
    "duration": 10,
    "start_time": "2021-10-06T15:28:41.076Z"
   },
   {
    "duration": 34,
    "start_time": "2021-10-06T15:28:41.088Z"
   },
   {
    "duration": 34,
    "start_time": "2021-10-06T15:28:41.123Z"
   },
   {
    "duration": 24,
    "start_time": "2021-10-06T15:28:41.159Z"
   },
   {
    "duration": 33,
    "start_time": "2021-10-06T15:28:41.184Z"
   },
   {
    "duration": 21,
    "start_time": "2021-10-06T15:28:41.218Z"
   },
   {
    "duration": 29,
    "start_time": "2021-10-06T15:28:41.241Z"
   },
   {
    "duration": 18,
    "start_time": "2021-10-06T15:28:41.272Z"
   },
   {
    "duration": 20,
    "start_time": "2021-10-06T15:28:41.292Z"
   },
   {
    "duration": 27,
    "start_time": "2021-10-06T15:28:41.314Z"
   },
   {
    "duration": 17,
    "start_time": "2021-10-06T15:28:41.343Z"
   },
   {
    "duration": 16,
    "start_time": "2021-10-06T15:28:41.362Z"
   },
   {
    "duration": 24,
    "start_time": "2021-10-06T15:28:41.380Z"
   },
   {
    "duration": 143,
    "start_time": "2021-10-06T15:28:41.406Z"
   },
   {
    "duration": 15,
    "start_time": "2021-10-06T15:28:41.551Z"
   },
   {
    "duration": 181,
    "start_time": "2021-10-06T15:28:41.568Z"
   },
   {
    "duration": 14,
    "start_time": "2021-10-06T15:28:41.751Z"
   },
   {
    "duration": 14,
    "start_time": "2021-10-06T15:28:41.767Z"
   },
   {
    "duration": 33,
    "start_time": "2021-10-06T15:28:41.783Z"
   },
   {
    "duration": 15,
    "start_time": "2021-10-06T15:28:41.818Z"
   },
   {
    "duration": 6,
    "start_time": "2021-10-06T15:28:41.835Z"
   },
   {
    "duration": 25,
    "start_time": "2021-10-06T15:28:41.844Z"
   },
   {
    "duration": 3,
    "start_time": "2021-10-06T15:28:41.871Z"
   },
   {
    "duration": 29,
    "start_time": "2021-10-06T15:28:41.876Z"
   },
   {
    "duration": 29,
    "start_time": "2021-10-06T15:28:41.907Z"
   },
   {
    "duration": 2,
    "start_time": "2021-10-06T15:28:41.947Z"
   },
   {
    "duration": 11,
    "start_time": "2021-10-06T15:28:41.951Z"
   },
   {
    "duration": 52,
    "start_time": "2021-10-06T15:28:41.963Z"
   },
   {
    "duration": 74,
    "start_time": "2021-10-06T15:28:42.016Z"
   },
   {
    "duration": 69,
    "start_time": "2021-10-06T15:30:05.444Z"
   },
   {
    "duration": 68,
    "start_time": "2021-10-06T15:30:29.783Z"
   },
   {
    "duration": 273,
    "start_time": "2021-10-06T15:30:44.066Z"
   },
   {
    "duration": 228,
    "start_time": "2021-10-06T15:31:09.261Z"
   },
   {
    "duration": 228,
    "start_time": "2021-10-06T15:31:57.343Z"
   },
   {
    "duration": 15,
    "start_time": "2021-10-06T15:32:46.830Z"
   },
   {
    "duration": 241,
    "start_time": "2021-10-06T15:34:03.206Z"
   },
   {
    "duration": 16,
    "start_time": "2021-10-06T15:34:30.350Z"
   },
   {
    "duration": 6,
    "start_time": "2021-10-06T15:35:01.398Z"
   },
   {
    "duration": 4,
    "start_time": "2021-10-06T15:38:14.616Z"
   },
   {
    "duration": 7,
    "start_time": "2021-10-06T15:38:25.449Z"
   },
   {
    "duration": 235,
    "start_time": "2021-10-06T15:40:11.948Z"
   },
   {
    "duration": 3,
    "start_time": "2021-10-06T15:44:35.462Z"
   },
   {
    "duration": 5,
    "start_time": "2021-10-06T15:44:45.074Z"
   },
   {
    "duration": 173,
    "start_time": "2021-10-06T15:45:22.271Z"
   },
   {
    "duration": 227,
    "start_time": "2021-10-06T15:46:48.929Z"
   },
   {
    "duration": 74,
    "start_time": "2021-10-06T15:47:06.292Z"
   },
   {
    "duration": 240,
    "start_time": "2021-10-06T15:47:11.863Z"
   },
   {
    "duration": 206,
    "start_time": "2021-10-06T15:47:21.380Z"
   },
   {
    "duration": 161,
    "start_time": "2021-10-06T15:48:31.706Z"
   },
   {
    "duration": 71,
    "start_time": "2021-10-06T15:52:32.003Z"
   },
   {
    "duration": 8,
    "start_time": "2021-10-06T15:54:41.588Z"
   },
   {
    "duration": 212,
    "start_time": "2021-10-06T16:01:16.587Z"
   },
   {
    "duration": 554,
    "start_time": "2021-10-06T16:01:41.002Z"
   },
   {
    "duration": 248,
    "start_time": "2021-10-06T16:01:41.557Z"
   },
   {
    "duration": 8,
    "start_time": "2021-10-06T16:01:41.807Z"
   },
   {
    "duration": 35,
    "start_time": "2021-10-06T16:01:41.818Z"
   },
   {
    "duration": 17,
    "start_time": "2021-10-06T16:01:41.855Z"
   },
   {
    "duration": 19,
    "start_time": "2021-10-06T16:01:41.874Z"
   },
   {
    "duration": 7,
    "start_time": "2021-10-06T16:01:41.895Z"
   },
   {
    "duration": 23,
    "start_time": "2021-10-06T16:01:41.904Z"
   },
   {
    "duration": 25,
    "start_time": "2021-10-06T16:01:41.929Z"
   },
   {
    "duration": 4,
    "start_time": "2021-10-06T16:01:41.956Z"
   },
   {
    "duration": 8,
    "start_time": "2021-10-06T16:01:41.962Z"
   },
   {
    "duration": 16,
    "start_time": "2021-10-06T16:01:41.971Z"
   },
   {
    "duration": 7,
    "start_time": "2021-10-06T16:01:41.988Z"
   },
   {
    "duration": 15,
    "start_time": "2021-10-06T16:01:41.997Z"
   },
   {
    "duration": 10,
    "start_time": "2021-10-06T16:01:42.013Z"
   },
   {
    "duration": 22,
    "start_time": "2021-10-06T16:01:42.024Z"
   },
   {
    "duration": 13,
    "start_time": "2021-10-06T16:01:42.048Z"
   },
   {
    "duration": 20,
    "start_time": "2021-10-06T16:01:42.062Z"
   },
   {
    "duration": 4,
    "start_time": "2021-10-06T16:01:42.084Z"
   },
   {
    "duration": 8,
    "start_time": "2021-10-06T16:01:42.089Z"
   },
   {
    "duration": 16,
    "start_time": "2021-10-06T16:01:42.099Z"
   },
   {
    "duration": 41,
    "start_time": "2021-10-06T16:01:42.116Z"
   },
   {
    "duration": 5,
    "start_time": "2021-10-06T16:01:42.160Z"
   },
   {
    "duration": 6,
    "start_time": "2021-10-06T16:01:42.167Z"
   },
   {
    "duration": 18,
    "start_time": "2021-10-06T16:01:42.174Z"
   },
   {
    "duration": 21,
    "start_time": "2021-10-06T16:01:42.193Z"
   },
   {
    "duration": 5,
    "start_time": "2021-10-06T16:01:42.215Z"
   },
   {
    "duration": 23,
    "start_time": "2021-10-06T16:01:42.222Z"
   },
   {
    "duration": 13,
    "start_time": "2021-10-06T16:01:42.247Z"
   },
   {
    "duration": 21,
    "start_time": "2021-10-06T16:01:42.262Z"
   },
   {
    "duration": 4,
    "start_time": "2021-10-06T16:01:42.285Z"
   },
   {
    "duration": 8,
    "start_time": "2021-10-06T16:01:42.290Z"
   },
   {
    "duration": 8,
    "start_time": "2021-10-06T16:01:42.299Z"
   },
   {
    "duration": 25,
    "start_time": "2021-10-06T16:01:42.309Z"
   },
   {
    "duration": 4,
    "start_time": "2021-10-06T16:01:42.345Z"
   },
   {
    "duration": 21,
    "start_time": "2021-10-06T16:01:42.350Z"
   },
   {
    "duration": 14,
    "start_time": "2021-10-06T16:01:42.373Z"
   },
   {
    "duration": 16,
    "start_time": "2021-10-06T16:01:42.388Z"
   },
   {
    "duration": 10,
    "start_time": "2021-10-06T16:01:42.405Z"
   },
   {
    "duration": 9,
    "start_time": "2021-10-06T16:01:42.417Z"
   },
   {
    "duration": 12,
    "start_time": "2021-10-06T16:01:42.427Z"
   },
   {
    "duration": 12,
    "start_time": "2021-10-06T16:01:42.441Z"
   },
   {
    "duration": 13,
    "start_time": "2021-10-06T16:01:42.455Z"
   },
   {
    "duration": 14,
    "start_time": "2021-10-06T16:01:42.470Z"
   },
   {
    "duration": 10,
    "start_time": "2021-10-06T16:01:42.485Z"
   },
   {
    "duration": 11,
    "start_time": "2021-10-06T16:01:42.497Z"
   },
   {
    "duration": 10,
    "start_time": "2021-10-06T16:01:42.510Z"
   },
   {
    "duration": 5,
    "start_time": "2021-10-06T16:01:42.522Z"
   },
   {
    "duration": 18,
    "start_time": "2021-10-06T16:01:42.529Z"
   },
   {
    "duration": 13,
    "start_time": "2021-10-06T16:01:42.549Z"
   },
   {
    "duration": 19,
    "start_time": "2021-10-06T16:01:42.563Z"
   },
   {
    "duration": 17,
    "start_time": "2021-10-06T16:01:42.583Z"
   },
   {
    "duration": 6,
    "start_time": "2021-10-06T16:01:42.602Z"
   },
   {
    "duration": 10,
    "start_time": "2021-10-06T16:01:42.609Z"
   },
   {
    "duration": 16,
    "start_time": "2021-10-06T16:01:42.621Z"
   },
   {
    "duration": 139,
    "start_time": "2021-10-06T16:01:42.639Z"
   },
   {
    "duration": 11,
    "start_time": "2021-10-06T16:01:42.780Z"
   },
   {
    "duration": 138,
    "start_time": "2021-10-06T16:01:42.793Z"
   },
   {
    "duration": 15,
    "start_time": "2021-10-06T16:01:42.933Z"
   },
   {
    "duration": 12,
    "start_time": "2021-10-06T16:01:42.949Z"
   },
   {
    "duration": 18,
    "start_time": "2021-10-06T16:01:42.963Z"
   },
   {
    "duration": 17,
    "start_time": "2021-10-06T16:01:42.983Z"
   },
   {
    "duration": 7,
    "start_time": "2021-10-06T16:01:43.001Z"
   },
   {
    "duration": 38,
    "start_time": "2021-10-06T16:01:43.009Z"
   },
   {
    "duration": 3,
    "start_time": "2021-10-06T16:01:43.049Z"
   },
   {
    "duration": 13,
    "start_time": "2021-10-06T16:01:43.054Z"
   },
   {
    "duration": 23,
    "start_time": "2021-10-06T16:01:43.068Z"
   },
   {
    "duration": 2,
    "start_time": "2021-10-06T16:01:43.096Z"
   },
   {
    "duration": 6,
    "start_time": "2021-10-06T16:01:43.099Z"
   },
   {
    "duration": 76,
    "start_time": "2021-10-06T16:01:43.106Z"
   },
   {
    "duration": 14,
    "start_time": "2021-10-06T16:01:43.183Z"
   },
   {
    "duration": 11,
    "start_time": "2021-10-06T16:01:43.199Z"
   },
   {
    "duration": 13,
    "start_time": "2021-10-06T16:01:43.212Z"
   },
   {
    "duration": 233,
    "start_time": "2021-10-06T16:01:43.226Z"
   },
   {
    "duration": 7,
    "start_time": "2021-10-06T16:01:43.461Z"
   },
   {
    "duration": 574,
    "start_time": "2021-10-06T16:01:43.469Z"
   },
   {
    "duration": 19,
    "start_time": "2021-10-06T16:01:44.044Z"
   },
   {
    "duration": 466,
    "start_time": "2021-10-06T16:01:44.065Z"
   },
   {
    "duration": 41,
    "start_time": "2021-10-06T16:01:44.533Z"
   },
   {
    "duration": 331,
    "start_time": "2021-10-06T16:01:44.576Z"
   },
   {
    "duration": 410,
    "start_time": "2021-10-06T16:01:44.909Z"
   },
   {
    "duration": 26,
    "start_time": "2021-10-06T16:01:45.321Z"
   },
   {
    "duration": 7,
    "start_time": "2021-10-06T16:01:45.349Z"
   },
   {
    "duration": 812,
    "start_time": "2021-10-06T16:01:45.358Z"
   },
   {
    "duration": 596,
    "start_time": "2021-10-06T16:01:46.172Z"
   },
   {
    "duration": 676,
    "start_time": "2021-10-06T16:01:46.770Z"
   },
   {
    "duration": 303,
    "start_time": "2021-10-06T16:01:47.448Z"
   },
   {
    "duration": 304,
    "start_time": "2021-10-06T16:01:47.753Z"
   },
   {
    "duration": 324,
    "start_time": "2021-10-06T16:01:48.059Z"
   },
   {
    "duration": 3,
    "start_time": "2021-10-06T16:01:48.385Z"
   },
   {
    "duration": 677,
    "start_time": "2021-10-06T16:01:48.390Z"
   },
   {
    "duration": 4,
    "start_time": "2021-10-06T16:01:49.069Z"
   },
   {
    "duration": 613,
    "start_time": "2021-10-06T16:01:49.074Z"
   },
   {
    "duration": 3,
    "start_time": "2021-10-06T16:01:49.689Z"
   },
   {
    "duration": 819,
    "start_time": "2021-10-06T16:01:49.694Z"
   },
   {
    "duration": 736,
    "start_time": "2021-10-06T16:02:03.578Z"
   },
   {
    "duration": 333,
    "start_time": "2021-10-06T16:03:33.906Z"
   },
   {
    "duration": 681,
    "start_time": "2021-10-06T16:03:48.558Z"
   },
   {
    "duration": 663,
    "start_time": "2021-10-06T16:04:18.524Z"
   },
   {
    "duration": 228,
    "start_time": "2021-10-06T16:04:36.019Z"
   },
   {
    "duration": 666,
    "start_time": "2021-10-06T16:04:47.865Z"
   },
   {
    "duration": 525,
    "start_time": "2021-10-06T16:06:00.788Z"
   },
   {
    "duration": 385,
    "start_time": "2021-10-06T16:06:27.618Z"
   },
   {
    "duration": 681,
    "start_time": "2021-10-06T16:06:38.156Z"
   },
   {
    "duration": 398,
    "start_time": "2021-10-06T16:07:08.547Z"
   },
   {
    "duration": 382,
    "start_time": "2021-10-06T16:08:42.780Z"
   },
   {
    "duration": 385,
    "start_time": "2021-10-06T16:08:47.844Z"
   },
   {
    "duration": 74,
    "start_time": "2021-10-06T16:09:00.081Z"
   },
   {
    "duration": 73,
    "start_time": "2021-10-06T16:09:15.918Z"
   },
   {
    "duration": 406,
    "start_time": "2021-10-06T16:09:21.811Z"
   },
   {
    "duration": 1303,
    "start_time": "2021-10-06T16:09:29.568Z"
   },
   {
    "duration": 223,
    "start_time": "2021-10-06T16:09:39.959Z"
   },
   {
    "duration": 420,
    "start_time": "2021-10-06T16:09:46.826Z"
   },
   {
    "duration": 377,
    "start_time": "2021-10-06T16:11:01.065Z"
   },
   {
    "duration": 383,
    "start_time": "2021-10-06T16:11:21.040Z"
   },
   {
    "duration": 677,
    "start_time": "2021-10-06T16:11:31.292Z"
   },
   {
    "duration": 4,
    "start_time": "2021-10-06T16:12:55.597Z"
   },
   {
    "duration": 532,
    "start_time": "2021-10-06T16:12:56.415Z"
   },
   {
    "duration": 4,
    "start_time": "2021-10-06T16:12:58.238Z"
   },
   {
    "duration": 512,
    "start_time": "2021-10-06T16:13:03.993Z"
   },
   {
    "duration": 540,
    "start_time": "2021-10-06T16:13:37.293Z"
   },
   {
    "duration": 245,
    "start_time": "2021-10-06T16:13:37.835Z"
   },
   {
    "duration": 8,
    "start_time": "2021-10-06T16:13:38.082Z"
   },
   {
    "duration": 23,
    "start_time": "2021-10-06T16:13:38.092Z"
   },
   {
    "duration": 13,
    "start_time": "2021-10-06T16:13:38.116Z"
   },
   {
    "duration": 27,
    "start_time": "2021-10-06T16:13:38.131Z"
   },
   {
    "duration": 6,
    "start_time": "2021-10-06T16:13:38.160Z"
   },
   {
    "duration": 17,
    "start_time": "2021-10-06T16:13:38.169Z"
   },
   {
    "duration": 23,
    "start_time": "2021-10-06T16:13:38.188Z"
   },
   {
    "duration": 4,
    "start_time": "2021-10-06T16:13:38.213Z"
   },
   {
    "duration": 11,
    "start_time": "2021-10-06T16:13:38.218Z"
   },
   {
    "duration": 21,
    "start_time": "2021-10-06T16:13:38.231Z"
   },
   {
    "duration": 2,
    "start_time": "2021-10-06T16:13:38.254Z"
   },
   {
    "duration": 14,
    "start_time": "2021-10-06T16:13:38.258Z"
   },
   {
    "duration": 10,
    "start_time": "2021-10-06T16:13:38.274Z"
   },
   {
    "duration": 5,
    "start_time": "2021-10-06T16:13:38.286Z"
   },
   {
    "duration": 9,
    "start_time": "2021-10-06T16:13:38.293Z"
   },
   {
    "duration": 14,
    "start_time": "2021-10-06T16:13:38.304Z"
   },
   {
    "duration": 3,
    "start_time": "2021-10-06T16:13:38.345Z"
   },
   {
    "duration": 6,
    "start_time": "2021-10-06T16:13:38.350Z"
   },
   {
    "duration": 8,
    "start_time": "2021-10-06T16:13:38.357Z"
   },
   {
    "duration": 25,
    "start_time": "2021-10-06T16:13:38.366Z"
   },
   {
    "duration": 4,
    "start_time": "2021-10-06T16:13:38.395Z"
   },
   {
    "duration": 6,
    "start_time": "2021-10-06T16:13:38.401Z"
   },
   {
    "duration": 37,
    "start_time": "2021-10-06T16:13:38.409Z"
   },
   {
    "duration": 12,
    "start_time": "2021-10-06T16:13:38.447Z"
   },
   {
    "duration": 6,
    "start_time": "2021-10-06T16:13:38.461Z"
   },
   {
    "duration": 9,
    "start_time": "2021-10-06T16:13:38.469Z"
   },
   {
    "duration": 8,
    "start_time": "2021-10-06T16:13:38.480Z"
   },
   {
    "duration": 17,
    "start_time": "2021-10-06T16:13:38.490Z"
   },
   {
    "duration": 4,
    "start_time": "2021-10-06T16:13:38.508Z"
   },
   {
    "duration": 30,
    "start_time": "2021-10-06T16:13:38.514Z"
   },
   {
    "duration": 3,
    "start_time": "2021-10-06T16:13:38.546Z"
   },
   {
    "duration": 16,
    "start_time": "2021-10-06T16:13:38.551Z"
   },
   {
    "duration": 4,
    "start_time": "2021-10-06T16:13:38.569Z"
   },
   {
    "duration": 14,
    "start_time": "2021-10-06T16:13:38.574Z"
   },
   {
    "duration": 27,
    "start_time": "2021-10-06T16:13:38.590Z"
   },
   {
    "duration": 10,
    "start_time": "2021-10-06T16:13:38.619Z"
   },
   {
    "duration": 9,
    "start_time": "2021-10-06T16:13:38.631Z"
   },
   {
    "duration": 6,
    "start_time": "2021-10-06T16:13:38.644Z"
   },
   {
    "duration": 8,
    "start_time": "2021-10-06T16:13:38.652Z"
   },
   {
    "duration": 5,
    "start_time": "2021-10-06T16:13:38.662Z"
   },
   {
    "duration": 7,
    "start_time": "2021-10-06T16:13:38.669Z"
   },
   {
    "duration": 9,
    "start_time": "2021-10-06T16:13:38.677Z"
   },
   {
    "duration": 4,
    "start_time": "2021-10-06T16:13:38.688Z"
   },
   {
    "duration": 8,
    "start_time": "2021-10-06T16:13:38.693Z"
   },
   {
    "duration": 7,
    "start_time": "2021-10-06T16:13:38.703Z"
   },
   {
    "duration": 33,
    "start_time": "2021-10-06T16:13:38.711Z"
   },
   {
    "duration": 9,
    "start_time": "2021-10-06T16:13:38.746Z"
   },
   {
    "duration": 5,
    "start_time": "2021-10-06T16:13:38.757Z"
   },
   {
    "duration": 13,
    "start_time": "2021-10-06T16:13:38.764Z"
   },
   {
    "duration": 11,
    "start_time": "2021-10-06T16:13:38.779Z"
   },
   {
    "duration": 5,
    "start_time": "2021-10-06T16:13:38.792Z"
   },
   {
    "duration": 8,
    "start_time": "2021-10-06T16:13:38.799Z"
   },
   {
    "duration": 40,
    "start_time": "2021-10-06T16:13:38.809Z"
   },
   {
    "duration": 139,
    "start_time": "2021-10-06T16:13:38.850Z"
   },
   {
    "duration": 11,
    "start_time": "2021-10-06T16:13:38.990Z"
   },
   {
    "duration": 126,
    "start_time": "2021-10-06T16:13:39.003Z"
   },
   {
    "duration": 14,
    "start_time": "2021-10-06T16:13:39.131Z"
   },
   {
    "duration": 5,
    "start_time": "2021-10-06T16:13:39.147Z"
   },
   {
    "duration": 14,
    "start_time": "2021-10-06T16:13:39.154Z"
   },
   {
    "duration": 15,
    "start_time": "2021-10-06T16:13:39.170Z"
   },
   {
    "duration": 6,
    "start_time": "2021-10-06T16:13:39.186Z"
   },
   {
    "duration": 52,
    "start_time": "2021-10-06T16:13:39.193Z"
   },
   {
    "duration": 3,
    "start_time": "2021-10-06T16:13:39.247Z"
   },
   {
    "duration": 15,
    "start_time": "2021-10-06T16:13:39.252Z"
   },
   {
    "duration": 22,
    "start_time": "2021-10-06T16:13:39.268Z"
   },
   {
    "duration": 2,
    "start_time": "2021-10-06T16:13:39.295Z"
   },
   {
    "duration": 16,
    "start_time": "2021-10-06T16:13:39.299Z"
   },
   {
    "duration": 74,
    "start_time": "2021-10-06T16:13:39.316Z"
   },
   {
    "duration": 20,
    "start_time": "2021-10-06T16:13:39.392Z"
   },
   {
    "duration": 7,
    "start_time": "2021-10-06T16:13:39.414Z"
   },
   {
    "duration": 27,
    "start_time": "2021-10-06T16:13:39.423Z"
   },
   {
    "duration": 258,
    "start_time": "2021-10-06T16:13:39.451Z"
   },
   {
    "duration": 7,
    "start_time": "2021-10-06T16:13:39.710Z"
   },
   {
    "duration": 666,
    "start_time": "2021-10-06T16:13:39.718Z"
   },
   {
    "duration": 17,
    "start_time": "2021-10-06T16:13:40.386Z"
   },
   {
    "duration": 446,
    "start_time": "2021-10-06T16:13:40.404Z"
   },
   {
    "duration": 35,
    "start_time": "2021-10-06T16:13:40.852Z"
   },
   {
    "duration": 336,
    "start_time": "2021-10-06T16:13:40.890Z"
   },
   {
    "duration": 417,
    "start_time": "2021-10-06T16:13:41.227Z"
   },
   {
    "duration": 17,
    "start_time": "2021-10-06T16:13:41.646Z"
   },
   {
    "duration": 14,
    "start_time": "2021-10-06T16:13:41.664Z"
   },
   {
    "duration": 685,
    "start_time": "2021-10-06T16:13:41.679Z"
   },
   {
    "duration": 595,
    "start_time": "2021-10-06T16:13:42.366Z"
   },
   {
    "duration": 667,
    "start_time": "2021-10-06T16:13:42.963Z"
   },
   {
    "duration": 303,
    "start_time": "2021-10-06T16:13:43.632Z"
   },
   {
    "duration": 312,
    "start_time": "2021-10-06T16:13:43.937Z"
   },
   {
    "duration": 304,
    "start_time": "2021-10-06T16:13:44.250Z"
   },
   {
    "duration": 4,
    "start_time": "2021-10-06T16:13:44.555Z"
   },
   {
    "duration": 475,
    "start_time": "2021-10-06T16:13:44.560Z"
   },
   {
    "duration": 10,
    "start_time": "2021-10-06T16:13:45.036Z"
   },
   {
    "duration": 437,
    "start_time": "2021-10-06T16:13:45.047Z"
   },
   {
    "duration": 416,
    "start_time": "2021-10-06T16:14:07.035Z"
   },
   {
    "duration": 5,
    "start_time": "2021-10-06T16:14:12.085Z"
   },
   {
    "duration": 744,
    "start_time": "2021-10-06T16:14:12.942Z"
   },
   {
    "duration": 845,
    "start_time": "2021-10-06T16:14:16.262Z"
   },
   {
    "duration": 689,
    "start_time": "2021-10-06T16:14:24.146Z"
   },
   {
    "duration": 7,
    "start_time": "2021-10-06T16:15:44.119Z"
   },
   {
    "duration": 583,
    "start_time": "2021-10-06T16:15:44.799Z"
   },
   {
    "duration": 581,
    "start_time": "2021-10-06T16:15:45.398Z"
   },
   {
    "duration": 726,
    "start_time": "2021-10-06T16:15:46.598Z"
   },
   {
    "duration": 303,
    "start_time": "2021-10-06T16:15:47.435Z"
   },
   {
    "duration": 335,
    "start_time": "2021-10-06T16:15:48.081Z"
   },
   {
    "duration": 288,
    "start_time": "2021-10-06T16:15:48.916Z"
   },
   {
    "duration": 4,
    "start_time": "2021-10-06T16:15:51.314Z"
   },
   {
    "duration": 615,
    "start_time": "2021-10-06T16:15:52.045Z"
   },
   {
    "duration": 4,
    "start_time": "2021-10-06T16:15:54.649Z"
   },
   {
    "duration": 706,
    "start_time": "2021-10-06T16:15:56.075Z"
   },
   {
    "duration": 3,
    "start_time": "2021-10-06T16:16:00.120Z"
   },
   {
    "duration": 653,
    "start_time": "2021-10-06T16:16:01.523Z"
   },
   {
    "duration": 497,
    "start_time": "2021-10-06T16:16:04.114Z"
   },
   {
    "duration": 475,
    "start_time": "2021-10-06T16:16:09.008Z"
   },
   {
    "duration": 6,
    "start_time": "2021-10-06T16:18:03.645Z"
   },
   {
    "duration": 580,
    "start_time": "2021-10-06T16:18:05.396Z"
   },
   {
    "duration": 727,
    "start_time": "2021-10-06T16:18:06.538Z"
   },
   {
    "duration": 592,
    "start_time": "2021-10-06T16:18:08.136Z"
   },
   {
    "duration": 301,
    "start_time": "2021-10-06T16:18:08.897Z"
   },
   {
    "duration": 308,
    "start_time": "2021-10-06T16:18:09.536Z"
   },
   {
    "duration": 292,
    "start_time": "2021-10-06T16:18:10.324Z"
   },
   {
    "duration": 4,
    "start_time": "2021-10-06T16:18:11.154Z"
   },
   {
    "duration": 603,
    "start_time": "2021-10-06T16:18:11.844Z"
   },
   {
    "duration": 3,
    "start_time": "2021-10-06T16:18:13.586Z"
   },
   {
    "duration": 616,
    "start_time": "2021-10-06T16:18:14.341Z"
   },
   {
    "duration": 4,
    "start_time": "2021-10-06T16:18:17.236Z"
   },
   {
    "duration": 803,
    "start_time": "2021-10-06T16:18:18.715Z"
   },
   {
    "duration": 497,
    "start_time": "2021-10-06T16:18:21.613Z"
   },
   {
    "duration": 477,
    "start_time": "2021-10-06T16:18:29.284Z"
   },
   {
    "duration": 7,
    "start_time": "2021-10-06T16:24:21.516Z"
   },
   {
    "duration": 614,
    "start_time": "2021-10-06T16:24:22.108Z"
   },
   {
    "duration": 618,
    "start_time": "2021-10-06T16:24:23.524Z"
   },
   {
    "duration": 625,
    "start_time": "2021-10-06T16:24:26.931Z"
   },
   {
    "duration": 520,
    "start_time": "2021-10-06T16:24:28.335Z"
   },
   {
    "duration": 343,
    "start_time": "2021-10-06T16:24:29.534Z"
   },
   {
    "duration": 300,
    "start_time": "2021-10-06T16:24:30.572Z"
   },
   {
    "duration": 5,
    "start_time": "2021-10-06T16:24:33.470Z"
   },
   {
    "duration": 593,
    "start_time": "2021-10-06T16:24:33.979Z"
   },
   {
    "duration": 4,
    "start_time": "2021-10-06T16:24:35.434Z"
   },
   {
    "duration": 591,
    "start_time": "2021-10-06T16:24:37.742Z"
   },
   {
    "duration": 4,
    "start_time": "2021-10-06T16:24:40.215Z"
   },
   {
    "duration": 609,
    "start_time": "2021-10-06T16:24:40.639Z"
   },
   {
    "duration": 474,
    "start_time": "2021-10-06T16:24:57.318Z"
   },
   {
    "duration": 493,
    "start_time": "2021-10-06T16:25:12.913Z"
   },
   {
    "duration": 167,
    "start_time": "2021-10-06T16:25:23.600Z"
   },
   {
    "duration": 470,
    "start_time": "2021-10-06T16:25:25.351Z"
   },
   {
    "duration": 162,
    "start_time": "2021-10-06T16:26:12.221Z"
   },
   {
    "duration": 432,
    "start_time": "2021-10-06T16:26:15.830Z"
   },
   {
    "duration": 170,
    "start_time": "2021-10-06T16:26:20.461Z"
   },
   {
    "duration": 84,
    "start_time": "2021-10-06T16:31:20.646Z"
   },
   {
    "duration": 4,
    "start_time": "2021-10-06T16:52:18.206Z"
   },
   {
    "duration": 5,
    "start_time": "2021-10-06T16:52:19.783Z"
   },
   {
    "duration": 5,
    "start_time": "2021-10-06T16:52:21.418Z"
   },
   {
    "duration": 68,
    "start_time": "2021-10-06T16:52:47.214Z"
   },
   {
    "duration": 637,
    "start_time": "2021-10-06T16:52:53.279Z"
   },
   {
    "duration": 211,
    "start_time": "2021-10-06T16:53:17.409Z"
   },
   {
    "duration": 78,
    "start_time": "2021-10-06T16:53:41.977Z"
   },
   {
    "duration": 23,
    "start_time": "2021-10-06T16:54:42.893Z"
   },
   {
    "duration": 534,
    "start_time": "2021-10-06T16:55:00.088Z"
   },
   {
    "duration": 235,
    "start_time": "2021-10-06T16:55:00.624Z"
   },
   {
    "duration": 8,
    "start_time": "2021-10-06T16:55:00.861Z"
   },
   {
    "duration": 39,
    "start_time": "2021-10-06T16:55:00.871Z"
   },
   {
    "duration": 24,
    "start_time": "2021-10-06T16:55:00.911Z"
   },
   {
    "duration": 33,
    "start_time": "2021-10-06T16:55:00.937Z"
   },
   {
    "duration": 11,
    "start_time": "2021-10-06T16:55:00.972Z"
   },
   {
    "duration": 19,
    "start_time": "2021-10-06T16:55:00.986Z"
   },
   {
    "duration": 27,
    "start_time": "2021-10-06T16:55:01.007Z"
   },
   {
    "duration": 23,
    "start_time": "2021-10-06T16:55:01.036Z"
   },
   {
    "duration": 18,
    "start_time": "2021-10-06T16:55:01.061Z"
   },
   {
    "duration": 25,
    "start_time": "2021-10-06T16:55:01.080Z"
   },
   {
    "duration": 22,
    "start_time": "2021-10-06T16:55:01.107Z"
   },
   {
    "duration": 37,
    "start_time": "2021-10-06T16:55:01.130Z"
   },
   {
    "duration": 29,
    "start_time": "2021-10-06T16:55:01.169Z"
   },
   {
    "duration": 63,
    "start_time": "2021-10-06T16:55:01.200Z"
   },
   {
    "duration": 32,
    "start_time": "2021-10-06T16:55:01.265Z"
   },
   {
    "duration": 45,
    "start_time": "2021-10-06T16:55:01.299Z"
   },
   {
    "duration": 24,
    "start_time": "2021-10-06T16:55:01.345Z"
   },
   {
    "duration": 32,
    "start_time": "2021-10-06T16:55:01.370Z"
   },
   {
    "duration": 51,
    "start_time": "2021-10-06T16:55:01.403Z"
   },
   {
    "duration": 55,
    "start_time": "2021-10-06T16:55:01.456Z"
   },
   {
    "duration": 45,
    "start_time": "2021-10-06T16:55:01.516Z"
   },
   {
    "duration": 23,
    "start_time": "2021-10-06T16:55:01.564Z"
   },
   {
    "duration": 37,
    "start_time": "2021-10-06T16:55:01.589Z"
   },
   {
    "duration": 35,
    "start_time": "2021-10-06T16:55:01.627Z"
   },
   {
    "duration": 24,
    "start_time": "2021-10-06T16:55:01.663Z"
   },
   {
    "duration": 37,
    "start_time": "2021-10-06T16:55:01.688Z"
   },
   {
    "duration": 30,
    "start_time": "2021-10-06T16:55:01.726Z"
   },
   {
    "duration": 37,
    "start_time": "2021-10-06T16:55:01.758Z"
   },
   {
    "duration": 9,
    "start_time": "2021-10-06T16:55:01.797Z"
   },
   {
    "duration": 30,
    "start_time": "2021-10-06T16:55:01.807Z"
   },
   {
    "duration": 21,
    "start_time": "2021-10-06T16:55:01.839Z"
   },
   {
    "duration": 41,
    "start_time": "2021-10-06T16:55:01.862Z"
   },
   {
    "duration": 45,
    "start_time": "2021-10-06T16:55:01.905Z"
   },
   {
    "duration": 41,
    "start_time": "2021-10-06T16:55:01.951Z"
   },
   {
    "duration": 30,
    "start_time": "2021-10-06T16:55:01.994Z"
   },
   {
    "duration": 19,
    "start_time": "2021-10-06T16:55:02.025Z"
   },
   {
    "duration": 29,
    "start_time": "2021-10-06T16:55:02.045Z"
   },
   {
    "duration": 33,
    "start_time": "2021-10-06T16:55:02.076Z"
   },
   {
    "duration": 41,
    "start_time": "2021-10-06T16:55:02.110Z"
   },
   {
    "duration": 25,
    "start_time": "2021-10-06T16:55:02.153Z"
   },
   {
    "duration": 17,
    "start_time": "2021-10-06T16:55:02.186Z"
   },
   {
    "duration": 27,
    "start_time": "2021-10-06T16:55:02.205Z"
   },
   {
    "duration": 20,
    "start_time": "2021-10-06T16:55:02.234Z"
   },
   {
    "duration": 36,
    "start_time": "2021-10-06T16:55:02.255Z"
   },
   {
    "duration": 49,
    "start_time": "2021-10-06T16:55:02.293Z"
   },
   {
    "duration": 30,
    "start_time": "2021-10-06T16:55:02.344Z"
   },
   {
    "duration": 36,
    "start_time": "2021-10-06T16:55:02.376Z"
   },
   {
    "duration": 20,
    "start_time": "2021-10-06T16:55:02.414Z"
   },
   {
    "duration": 29,
    "start_time": "2021-10-06T16:55:02.436Z"
   },
   {
    "duration": 28,
    "start_time": "2021-10-06T16:55:02.467Z"
   },
   {
    "duration": 21,
    "start_time": "2021-10-06T16:55:02.497Z"
   },
   {
    "duration": 21,
    "start_time": "2021-10-06T16:55:02.520Z"
   },
   {
    "duration": 24,
    "start_time": "2021-10-06T16:55:02.543Z"
   },
   {
    "duration": 156,
    "start_time": "2021-10-06T16:55:02.569Z"
   },
   {
    "duration": 18,
    "start_time": "2021-10-06T16:55:02.727Z"
   },
   {
    "duration": 136,
    "start_time": "2021-10-06T16:55:02.747Z"
   },
   {
    "duration": 12,
    "start_time": "2021-10-06T16:55:02.885Z"
   },
   {
    "duration": 16,
    "start_time": "2021-10-06T16:55:02.899Z"
   },
   {
    "duration": 20,
    "start_time": "2021-10-06T16:55:02.916Z"
   },
   {
    "duration": 19,
    "start_time": "2021-10-06T16:55:02.937Z"
   },
   {
    "duration": 18,
    "start_time": "2021-10-06T16:55:09.544Z"
   },
   {
    "duration": 17,
    "start_time": "2021-10-06T16:55:10.389Z"
   },
   {
    "duration": 20,
    "start_time": "2021-10-06T16:55:52.604Z"
   },
   {
    "duration": 20,
    "start_time": "2021-10-06T16:56:06.501Z"
   },
   {
    "duration": 13,
    "start_time": "2021-10-06T16:56:37.651Z"
   },
   {
    "duration": 79,
    "start_time": "2021-10-06T17:04:01.147Z"
   },
   {
    "duration": 85,
    "start_time": "2021-10-06T17:04:09.435Z"
   },
   {
    "duration": 580,
    "start_time": "2021-10-06T17:07:15.928Z"
   },
   {
    "duration": 240,
    "start_time": "2021-10-06T17:07:16.510Z"
   },
   {
    "duration": 8,
    "start_time": "2021-10-06T17:07:16.753Z"
   },
   {
    "duration": 20,
    "start_time": "2021-10-06T17:07:16.763Z"
   },
   {
    "duration": 14,
    "start_time": "2021-10-06T17:07:16.785Z"
   },
   {
    "duration": 18,
    "start_time": "2021-10-06T17:07:16.801Z"
   },
   {
    "duration": 6,
    "start_time": "2021-10-06T17:07:16.821Z"
   },
   {
    "duration": 6,
    "start_time": "2021-10-06T17:07:16.846Z"
   },
   {
    "duration": 15,
    "start_time": "2021-10-06T17:07:16.854Z"
   },
   {
    "duration": 3,
    "start_time": "2021-10-06T17:07:16.871Z"
   },
   {
    "duration": 10,
    "start_time": "2021-10-06T17:07:16.876Z"
   },
   {
    "duration": 13,
    "start_time": "2021-10-06T17:07:16.888Z"
   },
   {
    "duration": 3,
    "start_time": "2021-10-06T17:07:16.903Z"
   },
   {
    "duration": 31,
    "start_time": "2021-10-06T17:07:16.908Z"
   },
   {
    "duration": 12,
    "start_time": "2021-10-06T17:07:16.944Z"
   },
   {
    "duration": 4,
    "start_time": "2021-10-06T17:07:16.958Z"
   },
   {
    "duration": 16,
    "start_time": "2021-10-06T17:07:16.964Z"
   },
   {
    "duration": 28,
    "start_time": "2021-10-06T17:07:16.982Z"
   },
   {
    "duration": 10,
    "start_time": "2021-10-06T17:07:17.012Z"
   },
   {
    "duration": 19,
    "start_time": "2021-10-06T17:07:17.024Z"
   },
   {
    "duration": 19,
    "start_time": "2021-10-06T17:07:17.045Z"
   },
   {
    "duration": 47,
    "start_time": "2021-10-06T17:07:17.065Z"
   },
   {
    "duration": 5,
    "start_time": "2021-10-06T17:07:17.116Z"
   },
   {
    "duration": 15,
    "start_time": "2021-10-06T17:07:17.123Z"
   },
   {
    "duration": 41,
    "start_time": "2021-10-06T17:07:17.140Z"
   },
   {
    "duration": 24,
    "start_time": "2021-10-06T17:07:17.183Z"
   },
   {
    "duration": 8,
    "start_time": "2021-10-06T17:07:17.208Z"
   },
   {
    "duration": 18,
    "start_time": "2021-10-06T17:07:17.217Z"
   },
   {
    "duration": 10,
    "start_time": "2021-10-06T17:07:17.236Z"
   },
   {
    "duration": 25,
    "start_time": "2021-10-06T17:07:17.248Z"
   },
   {
    "duration": 7,
    "start_time": "2021-10-06T17:07:17.275Z"
   },
   {
    "duration": 12,
    "start_time": "2021-10-06T17:07:17.284Z"
   },
   {
    "duration": 5,
    "start_time": "2021-10-06T17:07:17.298Z"
   },
   {
    "duration": 15,
    "start_time": "2021-10-06T17:07:17.305Z"
   },
   {
    "duration": 5,
    "start_time": "2021-10-06T17:07:17.322Z"
   },
   {
    "duration": 9,
    "start_time": "2021-10-06T17:07:17.344Z"
   },
   {
    "duration": 22,
    "start_time": "2021-10-06T17:07:17.355Z"
   },
   {
    "duration": 10,
    "start_time": "2021-10-06T17:07:17.378Z"
   },
   {
    "duration": 6,
    "start_time": "2021-10-06T17:07:17.390Z"
   },
   {
    "duration": 6,
    "start_time": "2021-10-06T17:07:17.397Z"
   },
   {
    "duration": 5,
    "start_time": "2021-10-06T17:07:17.405Z"
   },
   {
    "duration": 6,
    "start_time": "2021-10-06T17:07:17.412Z"
   },
   {
    "duration": 7,
    "start_time": "2021-10-06T17:07:17.419Z"
   },
   {
    "duration": 24,
    "start_time": "2021-10-06T17:07:17.427Z"
   },
   {
    "duration": 12,
    "start_time": "2021-10-06T17:07:17.453Z"
   },
   {
    "duration": 16,
    "start_time": "2021-10-06T17:07:17.467Z"
   },
   {
    "duration": 8,
    "start_time": "2021-10-06T17:07:17.484Z"
   },
   {
    "duration": 5,
    "start_time": "2021-10-06T17:07:17.494Z"
   },
   {
    "duration": 13,
    "start_time": "2021-10-06T17:07:17.500Z"
   },
   {
    "duration": 8,
    "start_time": "2021-10-06T17:07:17.514Z"
   },
   {
    "duration": 25,
    "start_time": "2021-10-06T17:07:17.523Z"
   },
   {
    "duration": 18,
    "start_time": "2021-10-06T17:07:17.550Z"
   },
   {
    "duration": 6,
    "start_time": "2021-10-06T17:07:17.569Z"
   },
   {
    "duration": 9,
    "start_time": "2021-10-06T17:07:17.576Z"
   },
   {
    "duration": 15,
    "start_time": "2021-10-06T17:07:17.587Z"
   },
   {
    "duration": 151,
    "start_time": "2021-10-06T17:07:17.603Z"
   },
   {
    "duration": 10,
    "start_time": "2021-10-06T17:07:17.756Z"
   },
   {
    "duration": 139,
    "start_time": "2021-10-06T17:07:17.767Z"
   },
   {
    "duration": 11,
    "start_time": "2021-10-06T17:07:17.907Z"
   },
   {
    "duration": 12,
    "start_time": "2021-10-06T17:07:17.919Z"
   },
   {
    "duration": 19,
    "start_time": "2021-10-06T17:07:17.932Z"
   },
   {
    "duration": 17,
    "start_time": "2021-10-06T17:07:17.953Z"
   },
   {
    "duration": 19,
    "start_time": "2021-10-06T17:07:17.972Z"
   },
   {
    "duration": 7,
    "start_time": "2021-10-06T17:07:17.993Z"
   },
   {
    "duration": 56,
    "start_time": "2021-10-06T17:07:18.002Z"
   },
   {
    "duration": 5,
    "start_time": "2021-10-06T17:07:18.060Z"
   },
   {
    "duration": 14,
    "start_time": "2021-10-06T17:07:18.067Z"
   },
   {
    "duration": 25,
    "start_time": "2021-10-06T17:07:18.087Z"
   },
   {
    "duration": 2,
    "start_time": "2021-10-06T17:07:18.145Z"
   },
   {
    "duration": 8,
    "start_time": "2021-10-06T17:07:18.149Z"
   },
   {
    "duration": 46,
    "start_time": "2021-10-06T17:07:18.159Z"
   },
   {
    "duration": 17,
    "start_time": "2021-10-06T17:07:18.207Z"
   },
   {
    "duration": 23,
    "start_time": "2021-10-06T17:07:18.225Z"
   },
   {
    "duration": 8,
    "start_time": "2021-10-06T17:07:18.250Z"
   },
   {
    "duration": 243,
    "start_time": "2021-10-06T17:07:18.260Z"
   },
   {
    "duration": 8,
    "start_time": "2021-10-06T17:07:18.505Z"
   },
   {
    "duration": 597,
    "start_time": "2021-10-06T17:07:18.515Z"
   },
   {
    "duration": 34,
    "start_time": "2021-10-06T17:07:19.114Z"
   },
   {
    "duration": 482,
    "start_time": "2021-10-06T17:07:19.150Z"
   },
   {
    "duration": 45,
    "start_time": "2021-10-06T17:07:19.634Z"
   },
   {
    "duration": 364,
    "start_time": "2021-10-06T17:07:19.681Z"
   },
   {
    "duration": 431,
    "start_time": "2021-10-06T17:07:20.047Z"
   },
   {
    "duration": 17,
    "start_time": "2021-10-06T17:07:20.480Z"
   },
   {
    "duration": 7,
    "start_time": "2021-10-06T17:07:20.499Z"
   },
   {
    "duration": 685,
    "start_time": "2021-10-06T17:07:20.507Z"
   },
   {
    "duration": 622,
    "start_time": "2021-10-06T17:07:21.194Z"
   },
   {
    "duration": 707,
    "start_time": "2021-10-06T17:07:21.818Z"
   },
   {
    "duration": 313,
    "start_time": "2021-10-06T17:07:22.527Z"
   },
   {
    "duration": 316,
    "start_time": "2021-10-06T17:07:22.841Z"
   },
   {
    "duration": 331,
    "start_time": "2021-10-06T17:07:23.158Z"
   },
   {
    "duration": 4,
    "start_time": "2021-10-06T17:07:23.491Z"
   },
   {
    "duration": 722,
    "start_time": "2021-10-06T17:07:23.497Z"
   },
   {
    "duration": 4,
    "start_time": "2021-10-06T17:07:24.221Z"
   },
   {
    "duration": 655,
    "start_time": "2021-10-06T17:07:24.226Z"
   },
   {
    "duration": 4,
    "start_time": "2021-10-06T17:07:24.883Z"
   },
   {
    "duration": 731,
    "start_time": "2021-10-06T17:07:24.888Z"
   },
   {
    "duration": 498,
    "start_time": "2021-10-06T17:07:25.620Z"
   },
   {
    "duration": 491,
    "start_time": "2021-10-06T17:07:26.120Z"
   },
   {
    "duration": 495,
    "start_time": "2021-10-06T17:07:26.612Z"
   },
   {
    "duration": 191,
    "start_time": "2021-10-06T17:07:27.108Z"
   },
   {
    "duration": 199,
    "start_time": "2021-10-06T17:07:27.301Z"
   }
  ],
  "kernelspec": {
   "display_name": "Python 3 (ipykernel)",
   "language": "python",
   "name": "python3"
  },
  "language_info": {
   "codemirror_mode": {
    "name": "ipython",
    "version": 3
   },
   "file_extension": ".py",
   "mimetype": "text/x-python",
   "name": "python",
   "nbconvert_exporter": "python",
   "pygments_lexer": "ipython3",
   "version": "3.9.5"
  },
  "toc": {
   "base_numbering": 1,
   "nav_menu": {},
   "number_sections": true,
   "sideBar": true,
   "skip_h1_title": true,
   "title_cell": "Table of Contents",
   "title_sidebar": "Contents",
   "toc_cell": false,
   "toc_position": {},
   "toc_section_display": true,
   "toc_window_display": true
  },
  "toc-autonumbering": true,
  "toc-showmarkdowntxt": false
 },
 "nbformat": 4,
 "nbformat_minor": 5
}
