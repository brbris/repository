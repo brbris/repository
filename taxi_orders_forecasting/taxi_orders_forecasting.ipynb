{
 "cells": [
  {
   "cell_type": "markdown",
   "metadata": {},
   "source": [
    "***"
   ]
  },
  {
   "cell_type": "markdown",
   "metadata": {
    "toc": true
   },
   "source": [
    "<h1>Содержание<span class=\"tocSkip\"></span></h1>\n",
    "<div class=\"toc\"><ul class=\"toc-item\"><li><span><a href=\"#Подготовка\" data-toc-modified-id=\"Подготовка-1\"><span class=\"toc-item-num\">1&nbsp;&nbsp;</span>Подготовка</a></span></li><li><span><a href=\"#Анализ\" data-toc-modified-id=\"Анализ-2\"><span class=\"toc-item-num\">2&nbsp;&nbsp;</span>Анализ</a></span></li><li><span><a href=\"#Обучение\" data-toc-modified-id=\"Обучение-3\"><span class=\"toc-item-num\">3&nbsp;&nbsp;</span>Обучение</a></span><ul class=\"toc-item\"><li><span><a href=\"#Линейная-регрессия\" data-toc-modified-id=\"Линейная-регрессия-3.1\"><span class=\"toc-item-num\">3.1&nbsp;&nbsp;</span>Линейная регрессия</a></span></li><li><span><a href=\"#LGBM\" data-toc-modified-id=\"LGBM-3.2\"><span class=\"toc-item-num\">3.2&nbsp;&nbsp;</span>LGBM</a></span></li><li><span><a href=\"#Random-Forest\" data-toc-modified-id=\"Random-Forest-3.3\"><span class=\"toc-item-num\">3.3&nbsp;&nbsp;</span>Random Forest</a></span></li></ul></li><li><span><a href=\"#Тестирование\" data-toc-modified-id=\"Тестирование-4\"><span class=\"toc-item-num\">4&nbsp;&nbsp;</span>Тестирование</a></span></li><li><span><a href=\"#Выводы\" data-toc-modified-id=\"Выводы-5\"><span class=\"toc-item-num\">5&nbsp;&nbsp;</span>Выводы</a></span></li><li><span><a href=\"#Чек-лист-проверки\" data-toc-modified-id=\"Чек-лист-проверки-6\"><span class=\"toc-item-num\">6&nbsp;&nbsp;</span>Чек-лист проверки</a></span></li></ul></div>"
   ]
  },
  {
   "cell_type": "markdown",
   "metadata": {},
   "source": [
    "## Подготовка"
   ]
  },
  {
   "cell_type": "code",
   "execution_count": 1,
   "metadata": {},
   "outputs": [],
   "source": [
    "import lightgbm\n",
    "import pandas as pd\n",
    "import numpy as np\n",
    "import matplotlib.pyplot as plt\n",
    "from sklearn.ensemble import RandomForestRegressor\n",
    "from sklearn.linear_model import LinearRegression\n",
    "from sklearn.metrics import mean_squared_error\n",
    "from sklearn.metrics import SCORERS\n",
    "from sklearn.model_selection import RandomizedSearchCV\n",
    "from sklearn.model_selection import TimeSeriesSplit\n",
    "from sklearn.model_selection import train_test_split\n",
    "from sklearn.model_selection import GridSearchCV\n",
    "from scipy.stats import randint\n",
    "from statsmodels.tsa.seasonal import seasonal_decompose\n"
   ]
  },
  {
   "cell_type": "code",
   "execution_count": 2,
   "metadata": {},
   "outputs": [],
   "source": [
    "df = pd.read_csv('/datasets/taxi.csv')"
   ]
  },
  {
   "cell_type": "code",
   "execution_count": 3,
   "metadata": {
    "scrolled": false
   },
   "outputs": [
    {
     "data": {
      "text/html": [
       "<div>\n",
       "<style scoped>\n",
       "    .dataframe tbody tr th:only-of-type {\n",
       "        vertical-align: middle;\n",
       "    }\n",
       "\n",
       "    .dataframe tbody tr th {\n",
       "        vertical-align: top;\n",
       "    }\n",
       "\n",
       "    .dataframe thead th {\n",
       "        text-align: right;\n",
       "    }\n",
       "</style>\n",
       "<table border=\"1\" class=\"dataframe\">\n",
       "  <thead>\n",
       "    <tr style=\"text-align: right;\">\n",
       "      <th></th>\n",
       "      <th>datetime</th>\n",
       "      <th>num_orders</th>\n",
       "    </tr>\n",
       "  </thead>\n",
       "  <tbody>\n",
       "    <tr>\n",
       "      <th>0</th>\n",
       "      <td>2018-03-01 00:00:00</td>\n",
       "      <td>9</td>\n",
       "    </tr>\n",
       "    <tr>\n",
       "      <th>1</th>\n",
       "      <td>2018-03-01 00:10:00</td>\n",
       "      <td>14</td>\n",
       "    </tr>\n",
       "    <tr>\n",
       "      <th>2</th>\n",
       "      <td>2018-03-01 00:20:00</td>\n",
       "      <td>28</td>\n",
       "    </tr>\n",
       "    <tr>\n",
       "      <th>3</th>\n",
       "      <td>2018-03-01 00:30:00</td>\n",
       "      <td>20</td>\n",
       "    </tr>\n",
       "    <tr>\n",
       "      <th>4</th>\n",
       "      <td>2018-03-01 00:40:00</td>\n",
       "      <td>32</td>\n",
       "    </tr>\n",
       "  </tbody>\n",
       "</table>\n",
       "</div>"
      ],
      "text/plain": [
       "              datetime  num_orders\n",
       "0  2018-03-01 00:00:00           9\n",
       "1  2018-03-01 00:10:00          14\n",
       "2  2018-03-01 00:20:00          28\n",
       "3  2018-03-01 00:30:00          20\n",
       "4  2018-03-01 00:40:00          32"
      ]
     },
     "metadata": {},
     "output_type": "display_data"
    }
   ],
   "source": [
    "display(df.head())"
   ]
  },
  {
   "cell_type": "markdown",
   "metadata": {},
   "source": [
    "Столбец `datetime` содержит информацию о дате и времени, на который совершено определенное количество заказов. Количество заказов находится в столбце `num_orders`."
   ]
  },
  {
   "cell_type": "code",
   "execution_count": 4,
   "metadata": {
    "scrolled": false
   },
   "outputs": [
    {
     "name": "stdout",
     "output_type": "stream",
     "text": [
      "<class 'pandas.core.frame.DataFrame'>\n",
      "RangeIndex: 26496 entries, 0 to 26495\n",
      "Data columns (total 2 columns):\n",
      " #   Column      Non-Null Count  Dtype \n",
      "---  ------      --------------  ----- \n",
      " 0   datetime    26496 non-null  object\n",
      " 1   num_orders  26496 non-null  int64 \n",
      "dtypes: int64(1), object(1)\n",
      "memory usage: 414.1+ KB\n"
     ]
    }
   ],
   "source": [
    "df.info()"
   ]
  },
  {
   "cell_type": "markdown",
   "metadata": {},
   "source": [
    "Таблица содержит 26 496 строк и 2 столбца. Ясных пропустов в данных нет. Типы данных столбцов: строковый `object` и  целочисленный `int64`."
   ]
  },
  {
   "cell_type": "markdown",
   "metadata": {},
   "source": [
    " Проверка наличия пропусков:"
   ]
  },
  {
   "cell_type": "code",
   "execution_count": 5,
   "metadata": {
    "scrolled": true
   },
   "outputs": [
    {
     "name": "stdout",
     "output_type": "stream",
     "text": [
      "datetime        0\n",
      "num_orders    0.0\n",
      "dtype: object\n"
     ]
    }
   ],
   "source": [
    "print(df[df.isna() == True].sum())"
   ]
  },
  {
   "cell_type": "markdown",
   "metadata": {},
   "source": [
    "Явных пропусков не онаружено"
   ]
  },
  {
   "cell_type": "markdown",
   "metadata": {},
   "source": [
    "Проверка наличия дубликатов:"
   ]
  },
  {
   "cell_type": "code",
   "execution_count": 6,
   "metadata": {},
   "outputs": [
    {
     "name": "stdout",
     "output_type": "stream",
     "text": [
      "Количество дубликатов в исходной таблице: 0\n"
     ]
    }
   ],
   "source": [
    "print('Количество дубликатов в исходной таблице: {}'.format(df.duplicated().sum()))"
   ]
  },
  {
   "cell_type": "code",
   "execution_count": 7,
   "metadata": {},
   "outputs": [
    {
     "name": "stdout",
     "output_type": "stream",
     "text": [
      "Количество дубликатов столбца datetime: 0\n"
     ]
    }
   ],
   "source": [
    "print('Количество дубликатов столбца datetime:', df['datetime'][df['datetime'].duplicated()].sum())"
   ]
  },
  {
   "cell_type": "code",
   "execution_count": 8,
   "metadata": {},
   "outputs": [],
   "source": [
    "df.sort_index(inplace=True)"
   ]
  },
  {
   "cell_type": "code",
   "execution_count": 9,
   "metadata": {
    "scrolled": false
   },
   "outputs": [
    {
     "data": {
      "text/html": [
       "<div>\n",
       "<style scoped>\n",
       "    .dataframe tbody tr th:only-of-type {\n",
       "        vertical-align: middle;\n",
       "    }\n",
       "\n",
       "    .dataframe tbody tr th {\n",
       "        vertical-align: top;\n",
       "    }\n",
       "\n",
       "    .dataframe thead th {\n",
       "        text-align: right;\n",
       "    }\n",
       "</style>\n",
       "<table border=\"1\" class=\"dataframe\">\n",
       "  <thead>\n",
       "    <tr style=\"text-align: right;\">\n",
       "      <th></th>\n",
       "      <th>datetime</th>\n",
       "      <th>num_orders</th>\n",
       "    </tr>\n",
       "  </thead>\n",
       "  <tbody>\n",
       "    <tr>\n",
       "      <th>0</th>\n",
       "      <td>2018-03-01 00:00:00</td>\n",
       "      <td>9</td>\n",
       "    </tr>\n",
       "    <tr>\n",
       "      <th>1</th>\n",
       "      <td>2018-03-01 00:10:00</td>\n",
       "      <td>14</td>\n",
       "    </tr>\n",
       "    <tr>\n",
       "      <th>2</th>\n",
       "      <td>2018-03-01 00:20:00</td>\n",
       "      <td>28</td>\n",
       "    </tr>\n",
       "    <tr>\n",
       "      <th>3</th>\n",
       "      <td>2018-03-01 00:30:00</td>\n",
       "      <td>20</td>\n",
       "    </tr>\n",
       "    <tr>\n",
       "      <th>4</th>\n",
       "      <td>2018-03-01 00:40:00</td>\n",
       "      <td>32</td>\n",
       "    </tr>\n",
       "  </tbody>\n",
       "</table>\n",
       "</div>"
      ],
      "text/plain": [
       "              datetime  num_orders\n",
       "0  2018-03-01 00:00:00           9\n",
       "1  2018-03-01 00:10:00          14\n",
       "2  2018-03-01 00:20:00          28\n",
       "3  2018-03-01 00:30:00          20\n",
       "4  2018-03-01 00:40:00          32"
      ]
     },
     "metadata": {},
     "output_type": "display_data"
    }
   ],
   "source": [
    "display(df.head())"
   ]
  },
  {
   "cell_type": "code",
   "execution_count": 65,
   "metadata": {
    "scrolled": false
   },
   "outputs": [
    {
     "data": {
      "text/plain": [
       "Text(0.5, 1.0, 'Data')"
      ]
     },
     "execution_count": 65,
     "metadata": {},
     "output_type": "execute_result"
    },
    {
     "data": {
      "image/png": "[encoded data removed]",
      "text/plain": [
       "<Figure size 432x288 with 1 Axes>"
      ]
     },
     "metadata": {
      "needs_background": "light"
     },
     "output_type": "display_data"
    }
   ],
   "source": [
    "df.plot()\n",
    "plt.title('Data')"
   ]
  },
  {
   "cell_type": "markdown",
   "metadata": {},
   "source": [
    "Минимальное количество заказов на момент времени - 0, максимальное  - 119. Явных странностей в данных не обнаружено."
   ]
  },
  {
   "cell_type": "markdown",
   "metadata": {},
   "source": [
    " **Вывод:** Данные загружены и изучены. Таблица исследована на наличие пропусков и дубликатов. На первый взгляд странностей в данных не выявлено.  "
   ]
  },
  {
   "cell_type": "markdown",
   "metadata": {},
   "source": [
    "## Анализ"
   ]
  },
  {
   "cell_type": "code",
   "execution_count": 11,
   "metadata": {
    "scrolled": true
   },
   "outputs": [
    {
     "name": "stdout",
     "output_type": "stream",
     "text": [
      "В столбце datetime данных аномальной длинны не обнаружено.\n"
     ]
    }
   ],
   "source": [
    "unusual_datetime_raws = []\n",
    "for i in  range(len(df['datetime'])):\n",
    "    if len(df.iloc[i]['datetime']) < 19:\n",
    "        unusual_datetime_raws.append(df.iloc[i]['datetime'])\n",
    "\n",
    "if len(unusual_datetime_raws) != 0:\n",
    "    print(unusual_datetime_raws)\n",
    "else:\n",
    "    print(\"В столбце datetime данных аномальной длинны не обнаружено.\")"
   ]
  },
  {
   "cell_type": "markdown",
   "metadata": {},
   "source": [
    "Скорее всего с данными в datetime все впорядке."
   ]
  },
  {
   "cell_type": "markdown",
   "metadata": {},
   "source": [
    "Изучение статистических данных исходной таблицы:"
   ]
  },
  {
   "cell_type": "code",
   "execution_count": 12,
   "metadata": {
    "scrolled": false
   },
   "outputs": [
    {
     "data": {
      "text/html": [
       "<div>\n",
       "<style scoped>\n",
       "    .dataframe tbody tr th:only-of-type {\n",
       "        vertical-align: middle;\n",
       "    }\n",
       "\n",
       "    .dataframe tbody tr th {\n",
       "        vertical-align: top;\n",
       "    }\n",
       "\n",
       "    .dataframe thead th {\n",
       "        text-align: right;\n",
       "    }\n",
       "</style>\n",
       "<table border=\"1\" class=\"dataframe\">\n",
       "  <thead>\n",
       "    <tr style=\"text-align: right;\">\n",
       "      <th></th>\n",
       "      <th>num_orders</th>\n",
       "    </tr>\n",
       "  </thead>\n",
       "  <tbody>\n",
       "    <tr>\n",
       "      <th>count</th>\n",
       "      <td>26496.000000</td>\n",
       "    </tr>\n",
       "    <tr>\n",
       "      <th>mean</th>\n",
       "      <td>14.070463</td>\n",
       "    </tr>\n",
       "    <tr>\n",
       "      <th>std</th>\n",
       "      <td>9.211330</td>\n",
       "    </tr>\n",
       "    <tr>\n",
       "      <th>min</th>\n",
       "      <td>0.000000</td>\n",
       "    </tr>\n",
       "    <tr>\n",
       "      <th>25%</th>\n",
       "      <td>8.000000</td>\n",
       "    </tr>\n",
       "    <tr>\n",
       "      <th>50%</th>\n",
       "      <td>13.000000</td>\n",
       "    </tr>\n",
       "    <tr>\n",
       "      <th>75%</th>\n",
       "      <td>19.000000</td>\n",
       "    </tr>\n",
       "    <tr>\n",
       "      <th>max</th>\n",
       "      <td>119.000000</td>\n",
       "    </tr>\n",
       "  </tbody>\n",
       "</table>\n",
       "</div>"
      ],
      "text/plain": [
       "         num_orders\n",
       "count  26496.000000\n",
       "mean      14.070463\n",
       "std        9.211330\n",
       "min        0.000000\n",
       "25%        8.000000\n",
       "50%       13.000000\n",
       "75%       19.000000\n",
       "max      119.000000"
      ]
     },
     "execution_count": 12,
     "metadata": {},
     "output_type": "execute_result"
    }
   ],
   "source": [
    "df.describe()"
   ]
  },
  {
   "cell_type": "markdown",
   "metadata": {},
   "source": [
    "В среднем происходщит 14 вызовов каждые 10 минут. 75% данных о заказах составляет менее 19 заказов каждые 10 минут. Максимальное число заказов в 10 минутный ромежуток - 119 заказов, минимальное - 0."
   ]
  },
  {
   "cell_type": "markdown",
   "metadata": {},
   "source": [
    "Установление `datetime` в качестве индексации таблицы"
   ]
  },
  {
   "cell_type": "code",
   "execution_count": 13,
   "metadata": {},
   "outputs": [],
   "source": [
    "df['datetime'] = pd.to_datetime(df['datetime'])\n",
    "df.set_index('datetime', inplace=True)"
   ]
  },
  {
   "cell_type": "markdown",
   "metadata": {},
   "source": [
    "Ресемплинг данных по одному часу:"
   ]
  },
  {
   "cell_type": "code",
   "execution_count": 14,
   "metadata": {},
   "outputs": [],
   "source": [
    "# df = df['2018-06-01':'2018-06-30'].resample('1H').sum()\n",
    "df = df.resample('1H').sum()"
   ]
  },
  {
   "cell_type": "code",
   "execution_count": 15,
   "metadata": {
    "scrolled": true
   },
   "outputs": [
    {
     "data": {
      "text/plain": [
       "Text(0.5, 1.0, 'Taxi orders')"
      ]
     },
     "execution_count": 15,
     "metadata": {},
     "output_type": "execute_result"
    },
    {
     "data": {
      "image/png": "[encoded data removed]",
      "text/plain": [
       "<Figure size 432x288 with 1 Axes>"
      ]
     },
     "metadata": {
      "needs_background": "light"
     },
     "output_type": "display_data"
    }
   ],
   "source": [
    "df.plot()\n",
    "plt.title('Taxi orders')"
   ]
  },
  {
   "cell_type": "code",
   "execution_count": 16,
   "metadata": {},
   "outputs": [],
   "source": [
    "df['rolling_mean'] = df.rolling(144).mean()"
   ]
  },
  {
   "cell_type": "code",
   "execution_count": 17,
   "metadata": {
    "scrolled": false
   },
   "outputs": [
    {
     "data": {
      "text/plain": [
       "Text(0.5, 1.0, 'Taxi orders')"
      ]
     },
     "execution_count": 17,
     "metadata": {},
     "output_type": "execute_result"
    },
    {
     "data": {
      "image/png": "[encoded data removed]",
      "text/plain": [
       "<Figure size 432x288 with 1 Axes>"
      ]
     },
     "metadata": {
      "needs_background": "light"
     },
     "output_type": "display_data"
    }
   ],
   "source": [
    "df.plot()\n",
    "plt.title('Taxi orders')"
   ]
  },
  {
   "cell_type": "markdown",
   "metadata": {},
   "source": [
    "**Вывод:** Временной ряд нестационарный, так как прослеживается явный рост среднего. Значит, его распределение со временем меняется и делать прогнозирование невозможно."
   ]
  },
  {
   "cell_type": "code",
   "execution_count": 18,
   "metadata": {
    "scrolled": false
   },
   "outputs": [
    {
     "name": "stdout",
     "output_type": "stream",
     "text": [
      "num_orders      0\n",
      "rolling_mean    0\n",
      "dtype: int64\n"
     ]
    }
   ],
   "source": [
    "print(df[df.isna() == True].count())"
   ]
  },
  {
   "cell_type": "code",
   "execution_count": 19,
   "metadata": {},
   "outputs": [
    {
     "name": "stdout",
     "output_type": "stream",
     "text": [
      "num_orders      0\n",
      "rolling_mean    0\n",
      "dtype: int64\n"
     ]
    }
   ],
   "source": [
    "print(df[df.isin([np.inf, -np.inf]) == True].count())"
   ]
  },
  {
   "cell_type": "code",
   "execution_count": 20,
   "metadata": {},
   "outputs": [
    {
     "data": {
      "text/plain": [
       "array([[ True, False],\n",
       "       [ True, False],\n",
       "       [ True, False],\n",
       "       ...,\n",
       "       [ True,  True],\n",
       "       [ True,  True],\n",
       "       [ True,  True]])"
      ]
     },
     "execution_count": 20,
     "metadata": {},
     "output_type": "execute_result"
    }
   ],
   "source": [
    "np.isfinite(np.array(df))"
   ]
  },
  {
   "cell_type": "code",
   "execution_count": 21,
   "metadata": {},
   "outputs": [
    {
     "data": {
      "text/html": [
       "<div>\n",
       "<style scoped>\n",
       "    .dataframe tbody tr th:only-of-type {\n",
       "        vertical-align: middle;\n",
       "    }\n",
       "\n",
       "    .dataframe tbody tr th {\n",
       "        vertical-align: top;\n",
       "    }\n",
       "\n",
       "    .dataframe thead th {\n",
       "        text-align: right;\n",
       "    }\n",
       "</style>\n",
       "<table border=\"1\" class=\"dataframe\">\n",
       "  <thead>\n",
       "    <tr style=\"text-align: right;\">\n",
       "      <th></th>\n",
       "      <th>num_orders</th>\n",
       "      <th>rolling_mean</th>\n",
       "    </tr>\n",
       "    <tr>\n",
       "      <th>datetime</th>\n",
       "      <th></th>\n",
       "      <th></th>\n",
       "    </tr>\n",
       "  </thead>\n",
       "  <tbody>\n",
       "    <tr>\n",
       "      <th>2018-03-01 00:00:00</th>\n",
       "      <td>124</td>\n",
       "      <td>NaN</td>\n",
       "    </tr>\n",
       "    <tr>\n",
       "      <th>2018-03-01 01:00:00</th>\n",
       "      <td>85</td>\n",
       "      <td>NaN</td>\n",
       "    </tr>\n",
       "    <tr>\n",
       "      <th>2018-03-01 02:00:00</th>\n",
       "      <td>71</td>\n",
       "      <td>NaN</td>\n",
       "    </tr>\n",
       "    <tr>\n",
       "      <th>2018-03-01 03:00:00</th>\n",
       "      <td>66</td>\n",
       "      <td>NaN</td>\n",
       "    </tr>\n",
       "    <tr>\n",
       "      <th>2018-03-01 04:00:00</th>\n",
       "      <td>43</td>\n",
       "      <td>NaN</td>\n",
       "    </tr>\n",
       "  </tbody>\n",
       "</table>\n",
       "</div>"
      ],
      "text/plain": [
       "                     num_orders  rolling_mean\n",
       "datetime                                     \n",
       "2018-03-01 00:00:00         124           NaN\n",
       "2018-03-01 01:00:00          85           NaN\n",
       "2018-03-01 02:00:00          71           NaN\n",
       "2018-03-01 03:00:00          66           NaN\n",
       "2018-03-01 04:00:00          43           NaN"
      ]
     },
     "metadata": {},
     "output_type": "display_data"
    }
   ],
   "source": [
    "display(df.head())"
   ]
  },
  {
   "cell_type": "code",
   "execution_count": 22,
   "metadata": {},
   "outputs": [],
   "source": [
    "df = df.dropna()"
   ]
  },
  {
   "cell_type": "markdown",
   "metadata": {},
   "source": [
    "Исследуем сезонность и тренды по некоторым месяцам:"
   ]
  },
  {
   "cell_type": "markdown",
   "metadata": {},
   "source": [
    "Март"
   ]
  },
  {
   "cell_type": "code",
   "execution_count": 23,
   "metadata": {},
   "outputs": [],
   "source": [
    "df_march = df['2018-03-01':'2018-03-31']"
   ]
  },
  {
   "cell_type": "code",
   "execution_count": 24,
   "metadata": {},
   "outputs": [],
   "source": [
    "decomposed = seasonal_decompose(df_march['num_orders'])"
   ]
  },
  {
   "cell_type": "code",
   "execution_count": 25,
   "metadata": {
    "scrolled": false
   },
   "outputs": [
    {
     "data": {
      "image/png": "[encoded data removed]",
      "text/plain": [
       "<Figure size 432x576 with 3 Axes>"
      ]
     },
     "metadata": {
      "needs_background": "light"
     },
     "output_type": "display_data"
    }
   ],
   "source": [
    "plt.figure(figsize=(6, 8))\n",
    "plt.subplot(311)\n",
    "decomposed.trend.plot(ax=plt.gca())\n",
    "plt.title('Trend')\n",
    "plt.subplot(312)\n",
    "decomposed.seasonal.plot(ax=plt.gca())\n",
    "plt.title('Seasonality')\n",
    "plt.subplot(313)\n",
    "decomposed.resid.plot(ax=plt.gca())\n",
    "plt.title('Residuals')\n",
    "plt.tight_layout()"
   ]
  },
  {
   "cell_type": "markdown",
   "metadata": {},
   "source": [
    "**Вывод:** В определенные дни заказов больше, в другие - их почти нет, необходимо дальнейшее более детальное исследование"
   ]
  },
  {
   "cell_type": "code",
   "execution_count": 26,
   "metadata": {},
   "outputs": [],
   "source": [
    "df_15_march = df['2018-03-13':'2018-03-16']"
   ]
  },
  {
   "cell_type": "code",
   "execution_count": 27,
   "metadata": {},
   "outputs": [],
   "source": [
    "decomposed = seasonal_decompose(df_15_march['num_orders'])"
   ]
  },
  {
   "cell_type": "code",
   "execution_count": 28,
   "metadata": {
    "scrolled": false
   },
   "outputs": [
    {
     "data": {
      "image/png": "[encoded data removed]",
      "text/plain": [
       "<Figure size 432x576 with 3 Axes>"
      ]
     },
     "metadata": {
      "needs_background": "light"
     },
     "output_type": "display_data"
    }
   ],
   "source": [
    "plt.figure(figsize=(6, 8))\n",
    "plt.subplot(311)\n",
    "decomposed.trend.plot(ax=plt.gca())\n",
    "plt.title('Trend')\n",
    "plt.subplot(312)\n",
    "decomposed.seasonal.plot(ax=plt.gca())\n",
    "plt.title('Seasonality')\n",
    "plt.subplot(313)\n",
    "decomposed.resid.plot(ax=plt.gca())\n",
    "plt.title('Residuals')\n",
    "plt.tight_layout()"
   ]
  },
  {
   "cell_type": "markdown",
   "metadata": {},
   "source": [
    "**Вывод:** Имеется тренд роста заказов в исследуемое время в середине марта. Также наблюдается сезонность: пик заказов приходится на полночь, а минимум - в районе 6 утра."
   ]
  },
  {
   "cell_type": "markdown",
   "metadata": {},
   "source": [
    "Июль"
   ]
  },
  {
   "cell_type": "code",
   "execution_count": 29,
   "metadata": {},
   "outputs": [],
   "source": [
    "df_july = df['2018-07-01':'2018-07-30']"
   ]
  },
  {
   "cell_type": "code",
   "execution_count": 30,
   "metadata": {},
   "outputs": [],
   "source": [
    "decomposed = seasonal_decompose(df_july['num_orders'])"
   ]
  },
  {
   "cell_type": "code",
   "execution_count": 31,
   "metadata": {
    "scrolled": false
   },
   "outputs": [
    {
     "data": {
      "image/png": "[encoded data removed]",
      "text/plain": [
       "<Figure size 432x576 with 3 Axes>"
      ]
     },
     "metadata": {
      "needs_background": "light"
     },
     "output_type": "display_data"
    }
   ],
   "source": [
    "plt.figure(figsize=(6, 8))\n",
    "plt.subplot(311)\n",
    "decomposed.trend.plot(ax=plt.gca())\n",
    "plt.title('Trend')\n",
    "plt.subplot(312)\n",
    "decomposed.seasonal.plot(ax=plt.gca())\n",
    "plt.title('Seasonality')\n",
    "plt.subplot(313)\n",
    "decomposed.resid.plot(ax=plt.gca())\n",
    "plt.title('Residuals')\n",
    "plt.tight_layout()"
   ]
  },
  {
   "cell_type": "code",
   "execution_count": 32,
   "metadata": {},
   "outputs": [],
   "source": [
    "df_15_jule = df['2018-07-13':'2018-07-16']"
   ]
  },
  {
   "cell_type": "code",
   "execution_count": 33,
   "metadata": {},
   "outputs": [],
   "source": [
    "decomposed = seasonal_decompose(df_15_jule['num_orders'])"
   ]
  },
  {
   "cell_type": "code",
   "execution_count": 34,
   "metadata": {},
   "outputs": [
    {
     "data": {
      "image/png": "[encoded data removed]",
      "text/plain": [
       "<Figure size 432x576 with 3 Axes>"
      ]
     },
     "metadata": {
      "needs_background": "light"
     },
     "output_type": "display_data"
    }
   ],
   "source": [
    "plt.figure(figsize=(6, 8))\n",
    "plt.subplot(311)\n",
    "decomposed.trend.plot(ax=plt.gca())\n",
    "plt.title('Trend')\n",
    "plt.subplot(312)\n",
    "decomposed.seasonal.plot(ax=plt.gca())\n",
    "plt.title('Seasonality')\n",
    "plt.subplot(313)\n",
    "decomposed.resid.plot(ax=plt.gca())\n",
    "plt.title('Residuals')\n",
    "plt.tight_layout()"
   ]
  },
  {
   "cell_type": "markdown",
   "metadata": {},
   "source": [
    "**Вывод:** В середине июля также наблюдается сезонность: пик заказов приходится на полночь, а минимум - в районе 6 утра. Тренд неясен."
   ]
  },
  {
   "cell_type": "markdown",
   "metadata": {},
   "source": [
    "Чтобы ряд сделать стационарным, найдём разности его значений."
   ]
  },
  {
   "cell_type": "code",
   "execution_count": 35,
   "metadata": {},
   "outputs": [],
   "source": [
    "df_modified = df - df.shift(fill_value=0)"
   ]
  },
  {
   "cell_type": "code",
   "execution_count": 36,
   "metadata": {
    "scrolled": false
   },
   "outputs": [
    {
     "data": {
      "text/plain": [
       "Text(0.5, 1.0, 'Taxi orders with mean and std')"
      ]
     },
     "execution_count": 36,
     "metadata": {},
     "output_type": "execute_result"
    },
    {
     "data": {
      "image/png": "[encoded data removed]",
      "text/plain": [
       "<Figure size 432x288 with 1 Axes>"
      ]
     },
     "metadata": {
      "needs_background": "light"
     },
     "output_type": "display_data"
    }
   ],
   "source": [
    "df_modified['mean'] = df_modified['num_orders'].rolling(170).mean()\n",
    "df_modified['std'] = df_modified['num_orders'].rolling(170).std()\n",
    "df_modified.plot()\n",
    "plt.title('Taxi orders with mean and std')"
   ]
  },
  {
   "cell_type": "markdown",
   "metadata": {},
   "source": [
    "Ряд стационарный, и теперь данные можно прогнозировать."
   ]
  },
  {
   "cell_type": "code",
   "execution_count": 37,
   "metadata": {},
   "outputs": [],
   "source": [
    "def make_features(data, lag_col_name, max_lag, rolling_mean_size):\n",
    "    data['hour'] = data.index.hour\n",
    "    data['dayofweek'] = data.index.dayofweek\n",
    "    data['rolling_mean'] = data[lag_col_name].shift().rolling(rolling_mean_size).mean()\n",
    "\n",
    "    for lag in range(1, max_lag + 1):\n",
    "        data['lag_{}'.format(lag)] = data[lag_col_name].shift(lag)\n"
   ]
  },
  {
   "cell_type": "code",
   "execution_count": 38,
   "metadata": {},
   "outputs": [],
   "source": [
    "make_features(df, 'num_orders', 24, 48)"
   ]
  },
  {
   "cell_type": "code",
   "execution_count": 39,
   "metadata": {},
   "outputs": [],
   "source": [
    "df = df.dropna()"
   ]
  },
  {
   "cell_type": "code",
   "execution_count": 40,
   "metadata": {
    "scrolled": false
   },
   "outputs": [
    {
     "data": {
      "text/html": [
       "<div>\n",
       "<style scoped>\n",
       "    .dataframe tbody tr th:only-of-type {\n",
       "        vertical-align: middle;\n",
       "    }\n",
       "\n",
       "    .dataframe tbody tr th {\n",
       "        vertical-align: top;\n",
       "    }\n",
       "\n",
       "    .dataframe thead th {\n",
       "        text-align: right;\n",
       "    }\n",
       "</style>\n",
       "<table border=\"1\" class=\"dataframe\">\n",
       "  <thead>\n",
       "    <tr style=\"text-align: right;\">\n",
       "      <th></th>\n",
       "      <th>num_orders</th>\n",
       "      <th>rolling_mean</th>\n",
       "      <th>hour</th>\n",
       "      <th>dayofweek</th>\n",
       "      <th>lag_1</th>\n",
       "      <th>lag_2</th>\n",
       "      <th>lag_3</th>\n",
       "      <th>lag_4</th>\n",
       "      <th>lag_5</th>\n",
       "      <th>lag_6</th>\n",
       "      <th>...</th>\n",
       "      <th>lag_15</th>\n",
       "      <th>lag_16</th>\n",
       "      <th>lag_17</th>\n",
       "      <th>lag_18</th>\n",
       "      <th>lag_19</th>\n",
       "      <th>lag_20</th>\n",
       "      <th>lag_21</th>\n",
       "      <th>lag_22</th>\n",
       "      <th>lag_23</th>\n",
       "      <th>lag_24</th>\n",
       "    </tr>\n",
       "    <tr>\n",
       "      <th>datetime</th>\n",
       "      <th></th>\n",
       "      <th></th>\n",
       "      <th></th>\n",
       "      <th></th>\n",
       "      <th></th>\n",
       "      <th></th>\n",
       "      <th></th>\n",
       "      <th></th>\n",
       "      <th></th>\n",
       "      <th></th>\n",
       "      <th></th>\n",
       "      <th></th>\n",
       "      <th></th>\n",
       "      <th></th>\n",
       "      <th></th>\n",
       "      <th></th>\n",
       "      <th></th>\n",
       "      <th></th>\n",
       "      <th></th>\n",
       "      <th></th>\n",
       "      <th></th>\n",
       "    </tr>\n",
       "  </thead>\n",
       "  <tbody>\n",
       "    <tr>\n",
       "      <th>2018-03-08 23:00:00</th>\n",
       "      <td>79</td>\n",
       "      <td>63.916667</td>\n",
       "      <td>23</td>\n",
       "      <td>3</td>\n",
       "      <td>88.0</td>\n",
       "      <td>86.0</td>\n",
       "      <td>114.0</td>\n",
       "      <td>72.0</td>\n",
       "      <td>81.0</td>\n",
       "      <td>41.0</td>\n",
       "      <td>...</td>\n",
       "      <td>77.0</td>\n",
       "      <td>19.0</td>\n",
       "      <td>6.0</td>\n",
       "      <td>6.0</td>\n",
       "      <td>60.0</td>\n",
       "      <td>68.0</td>\n",
       "      <td>65.0</td>\n",
       "      <td>78.0</td>\n",
       "      <td>143.0</td>\n",
       "      <td>94.0</td>\n",
       "    </tr>\n",
       "    <tr>\n",
       "      <th>2018-03-09 00:00:00</th>\n",
       "      <td>84</td>\n",
       "      <td>64.583333</td>\n",
       "      <td>0</td>\n",
       "      <td>4</td>\n",
       "      <td>79.0</td>\n",
       "      <td>88.0</td>\n",
       "      <td>86.0</td>\n",
       "      <td>114.0</td>\n",
       "      <td>72.0</td>\n",
       "      <td>81.0</td>\n",
       "      <td>...</td>\n",
       "      <td>97.0</td>\n",
       "      <td>77.0</td>\n",
       "      <td>19.0</td>\n",
       "      <td>6.0</td>\n",
       "      <td>6.0</td>\n",
       "      <td>60.0</td>\n",
       "      <td>68.0</td>\n",
       "      <td>65.0</td>\n",
       "      <td>78.0</td>\n",
       "      <td>143.0</td>\n",
       "    </tr>\n",
       "    <tr>\n",
       "      <th>2018-03-09 01:00:00</th>\n",
       "      <td>66</td>\n",
       "      <td>64.250000</td>\n",
       "      <td>1</td>\n",
       "      <td>4</td>\n",
       "      <td>84.0</td>\n",
       "      <td>79.0</td>\n",
       "      <td>88.0</td>\n",
       "      <td>86.0</td>\n",
       "      <td>114.0</td>\n",
       "      <td>72.0</td>\n",
       "      <td>...</td>\n",
       "      <td>68.0</td>\n",
       "      <td>97.0</td>\n",
       "      <td>77.0</td>\n",
       "      <td>19.0</td>\n",
       "      <td>6.0</td>\n",
       "      <td>6.0</td>\n",
       "      <td>60.0</td>\n",
       "      <td>68.0</td>\n",
       "      <td>65.0</td>\n",
       "      <td>78.0</td>\n",
       "    </tr>\n",
       "    <tr>\n",
       "      <th>2018-03-09 02:00:00</th>\n",
       "      <td>29</td>\n",
       "      <td>63.104167</td>\n",
       "      <td>2</td>\n",
       "      <td>4</td>\n",
       "      <td>66.0</td>\n",
       "      <td>84.0</td>\n",
       "      <td>79.0</td>\n",
       "      <td>88.0</td>\n",
       "      <td>86.0</td>\n",
       "      <td>114.0</td>\n",
       "      <td>...</td>\n",
       "      <td>80.0</td>\n",
       "      <td>68.0</td>\n",
       "      <td>97.0</td>\n",
       "      <td>77.0</td>\n",
       "      <td>19.0</td>\n",
       "      <td>6.0</td>\n",
       "      <td>6.0</td>\n",
       "      <td>60.0</td>\n",
       "      <td>68.0</td>\n",
       "      <td>65.0</td>\n",
       "    </tr>\n",
       "    <tr>\n",
       "      <th>2018-03-09 03:00:00</th>\n",
       "      <td>31</td>\n",
       "      <td>63.208333</td>\n",
       "      <td>3</td>\n",
       "      <td>4</td>\n",
       "      <td>29.0</td>\n",
       "      <td>66.0</td>\n",
       "      <td>84.0</td>\n",
       "      <td>79.0</td>\n",
       "      <td>88.0</td>\n",
       "      <td>86.0</td>\n",
       "      <td>...</td>\n",
       "      <td>48.0</td>\n",
       "      <td>80.0</td>\n",
       "      <td>68.0</td>\n",
       "      <td>97.0</td>\n",
       "      <td>77.0</td>\n",
       "      <td>19.0</td>\n",
       "      <td>6.0</td>\n",
       "      <td>6.0</td>\n",
       "      <td>60.0</td>\n",
       "      <td>68.0</td>\n",
       "    </tr>\n",
       "  </tbody>\n",
       "</table>\n",
       "<p>5 rows × 28 columns</p>\n",
       "</div>"
      ],
      "text/plain": [
       "                     num_orders  rolling_mean  hour  dayofweek  lag_1  lag_2  \\\n",
       "datetime                                                                       \n",
       "2018-03-08 23:00:00          79     63.916667    23          3   88.0   86.0   \n",
       "2018-03-09 00:00:00          84     64.583333     0          4   79.0   88.0   \n",
       "2018-03-09 01:00:00          66     64.250000     1          4   84.0   79.0   \n",
       "2018-03-09 02:00:00          29     63.104167     2          4   66.0   84.0   \n",
       "2018-03-09 03:00:00          31     63.208333     3          4   29.0   66.0   \n",
       "\n",
       "                     lag_3  lag_4  lag_5  lag_6  ...  lag_15  lag_16  lag_17  \\\n",
       "datetime                                         ...                           \n",
       "2018-03-08 23:00:00  114.0   72.0   81.0   41.0  ...    77.0    19.0     6.0   \n",
       "2018-03-09 00:00:00   86.0  114.0   72.0   81.0  ...    97.0    77.0    19.0   \n",
       "2018-03-09 01:00:00   88.0   86.0  114.0   72.0  ...    68.0    97.0    77.0   \n",
       "2018-03-09 02:00:00   79.0   88.0   86.0  114.0  ...    80.0    68.0    97.0   \n",
       "2018-03-09 03:00:00   84.0   79.0   88.0   86.0  ...    48.0    80.0    68.0   \n",
       "\n",
       "                     lag_18  lag_19  lag_20  lag_21  lag_22  lag_23  lag_24  \n",
       "datetime                                                                     \n",
       "2018-03-08 23:00:00     6.0    60.0    68.0    65.0    78.0   143.0    94.0  \n",
       "2018-03-09 00:00:00     6.0     6.0    60.0    68.0    65.0    78.0   143.0  \n",
       "2018-03-09 01:00:00    19.0     6.0     6.0    60.0    68.0    65.0    78.0  \n",
       "2018-03-09 02:00:00    77.0    19.0     6.0     6.0    60.0    68.0    65.0  \n",
       "2018-03-09 03:00:00    97.0    77.0    19.0     6.0     6.0    60.0    68.0  \n",
       "\n",
       "[5 rows x 28 columns]"
      ]
     },
     "metadata": {},
     "output_type": "display_data"
    }
   ],
   "source": [
    "display(df.head())"
   ]
  },
  {
   "cell_type": "markdown",
   "metadata": {},
   "source": [
    "По исходным данным создадим обучающую и тестовую выборки. В соответствии с условиями заказчика разделяем тестовую выборку к тренировочной в соотношении 1:9\n"
   ]
  },
  {
   "cell_type": "code",
   "execution_count": 41,
   "metadata": {},
   "outputs": [
    {
     "name": "stdout",
     "output_type": "stream",
     "text": [
      "2018-03-08 23:00:00 2018-08-14 08:00:00\n",
      "2018-08-14 09:00:00 2018-08-31 23:00:00\n"
     ]
    }
   ],
   "source": [
    "train, test = train_test_split(df, shuffle=False, test_size=0.1)\n",
    "\n",
    "#Проверка корректности деления:\n",
    "\n",
    "print(train.index.min(), train.index.max())\n",
    "print(test.index.min(), test.index.max())"
   ]
  },
  {
   "cell_type": "markdown",
   "metadata": {},
   "source": [
    "Тренировочная выборка заканчивается 14 августа в 3 утра, тестовая начинается в 4 утра этого дня. Данные разделены корректно.\n"
   ]
  },
  {
   "cell_type": "code",
   "execution_count": 42,
   "metadata": {},
   "outputs": [],
   "source": [
    "X_train = train.drop(['num_orders'], axis= 1)\n",
    "y_train = train['num_orders']\n",
    "X_test = test.drop(['num_orders'], axis= 1)\n",
    "y_test = test['num_orders']"
   ]
  },
  {
   "cell_type": "markdown",
   "metadata": {},
   "source": [
    "Далее получим предсказания на тренировочной и тестовой выборках"
   ]
  },
  {
   "cell_type": "markdown",
   "metadata": {},
   "source": [
    "**Вывод:** Таблица исследована на аномальные значения, которых не обнаружено. Столбец даты и времени задан в качестве индексов, проведен ресемплинг данных по 1 часу. Общий тренд говорит об увеличении количества заказов к лету. Ежедневная сезонность: в полночь наблуюается пик числа ежечасных заказов, в районе 6 утра - минимум заказов. Созданы дополнительные календарные признаки и признаки отстающих значений и признак скользящего среднего. Данные разделены на обучающую и тренировочную выборки и готовы к обучению моделей."
   ]
  },
  {
   "cell_type": "markdown",
   "metadata": {},
   "source": [
    "## Обучение"
   ]
  },
  {
   "cell_type": "markdown",
   "metadata": {},
   "source": [
    "**Задача прогнозирования:** нужно спрогнозировать количество заказов такси на следующий час"
   ]
  },
  {
   "cell_type": "markdown",
   "metadata": {},
   "source": [
    "### Линейная регрессия"
   ]
  },
  {
   "cell_type": "code",
   "execution_count": 43,
   "metadata": {},
   "outputs": [
    {
     "data": {
      "text/plain": [
       "LinearRegression()"
      ]
     },
     "execution_count": 43,
     "metadata": {},
     "output_type": "execute_result"
    }
   ],
   "source": [
    "model = LinearRegression()\n",
    "model.fit(X_train, y_train)"
   ]
  },
  {
   "cell_type": "code",
   "execution_count": 44,
   "metadata": {},
   "outputs": [],
   "source": [
    "preds_train = model.predict(X_train)\n",
    "preds_test = model.predict(X_test)"
   ]
  },
  {
   "cell_type": "code",
   "execution_count": 45,
   "metadata": {
    "scrolled": false
   },
   "outputs": [
    {
     "name": "stdout",
     "output_type": "stream",
     "text": [
      "Fitting 5 folds for each of 4 candidates, totalling 20 fits\n",
      "[CV 1/5] END .............fit_intercept=True, normalize=True; total time=   0.3s\n",
      "[CV 2/5] END .............fit_intercept=True, normalize=True; total time=   0.2s\n",
      "[CV 3/5] END .............fit_intercept=True, normalize=True; total time=   0.3s\n",
      "[CV 4/5] END .............fit_intercept=True, normalize=True; total time=   0.2s\n",
      "[CV 5/5] END .............fit_intercept=True, normalize=True; total time=   0.2s\n",
      "[CV 1/5] END ............fit_intercept=True, normalize=False; total time=   0.2s\n",
      "[CV 2/5] END ............fit_intercept=True, normalize=False; total time=   0.3s\n",
      "[CV 3/5] END ............fit_intercept=True, normalize=False; total time=   0.1s\n",
      "[CV 4/5] END ............fit_intercept=True, normalize=False; total time=   0.2s\n",
      "[CV 5/5] END ............fit_intercept=True, normalize=False; total time=   0.3s\n",
      "[CV 1/5] END ............fit_intercept=False, normalize=True; total time=   0.3s\n",
      "[CV 2/5] END ............fit_intercept=False, normalize=True; total time=   0.2s\n",
      "[CV 3/5] END ............fit_intercept=False, normalize=True; total time=   0.1s\n",
      "[CV 4/5] END ............fit_intercept=False, normalize=True; total time=   0.2s\n",
      "[CV 5/5] END ............fit_intercept=False, normalize=True; total time=   0.2s\n",
      "[CV 1/5] END ...........fit_intercept=False, normalize=False; total time=   0.2s\n",
      "[CV 2/5] END ...........fit_intercept=False, normalize=False; total time=   0.2s\n",
      "[CV 3/5] END ...........fit_intercept=False, normalize=False; total time=   0.2s\n",
      "[CV 4/5] END ...........fit_intercept=False, normalize=False; total time=   0.3s\n",
      "[CV 5/5] END ...........fit_intercept=False, normalize=False; total time=   0.1s\n",
      "Best parameters:  {'fit_intercept': True, 'normalize': True}\n",
      "Best score:  5\n"
     ]
    }
   ],
   "source": [
    "# Определение гиперпараметров\n",
    "params = {\n",
    "    'fit_intercept': [True, False],\n",
    "    'normalize': [True, False]\n",
    "}\n",
    "\n",
    "# Создание модели и объекта GridSearchCV\n",
    "model = LinearRegression()\n",
    "grid = GridSearchCV(model, params, scoring='neg_root_mean_squared_error', verbose=4)\n",
    "\n",
    "# Обучение модели на тренировочных данных\n",
    "grid.fit(X_train, y_train)\n",
    "\n",
    "LR_grid_params = grid.best_params_\n",
    "\n",
    "# Вывод лучших гиперпараметров и соответствующего значения метрики\n",
    "print(\"Best parameters: \", grid.best_params_)\n",
    "print(\"Best score: \", round(np.sqrt(-grid.best_score_)))"
   ]
  },
  {
   "cell_type": "code",
   "execution_count": 46,
   "metadata": {},
   "outputs": [
    {
     "name": "stdout",
     "output_type": "stream",
     "text": [
      "RMSE обучающей выборки: 26.107042035407876\n",
      "RMSE тестовой выборки: 44.73795546248795\n"
     ]
    }
   ],
   "source": [
    "linear_model = LinearRegression(**grid.best_params_)\n",
    "model.fit(X_train, y_train)\n",
    "preds_train = model.predict(X_train)\n",
    "preds_test = model.predict(X_test)\n",
    "\n",
    "print(\"RMSE обучающей выборки:\", mean_squared_error(y_train, preds_train, squared=False))\n",
    "print(\"RMSE тестовой выборки:\", mean_squared_error(y_test, preds_test, squared=False))"
   ]
  },
  {
   "cell_type": "markdown",
   "metadata": {},
   "source": [
    "### LGBM"
   ]
  },
  {
   "cell_type": "code",
   "execution_count": 47,
   "metadata": {},
   "outputs": [
    {
     "name": "stdout",
     "output_type": "stream",
     "text": [
      "(3802, 27)\n"
     ]
    }
   ],
   "source": [
    "print(X_train.shape)"
   ]
  },
  {
   "cell_type": "code",
   "execution_count": 48,
   "metadata": {},
   "outputs": [
    {
     "data": {
      "text/html": [
       "<div>\n",
       "<style scoped>\n",
       "    .dataframe tbody tr th:only-of-type {\n",
       "        vertical-align: middle;\n",
       "    }\n",
       "\n",
       "    .dataframe tbody tr th {\n",
       "        vertical-align: top;\n",
       "    }\n",
       "\n",
       "    .dataframe thead th {\n",
       "        text-align: right;\n",
       "    }\n",
       "</style>\n",
       "<table border=\"1\" class=\"dataframe\">\n",
       "  <thead>\n",
       "    <tr style=\"text-align: right;\">\n",
       "      <th></th>\n",
       "      <th>rolling_mean</th>\n",
       "      <th>hour</th>\n",
       "      <th>dayofweek</th>\n",
       "      <th>lag_1</th>\n",
       "      <th>lag_2</th>\n",
       "      <th>lag_3</th>\n",
       "      <th>lag_4</th>\n",
       "      <th>lag_5</th>\n",
       "      <th>lag_6</th>\n",
       "      <th>lag_7</th>\n",
       "      <th>...</th>\n",
       "      <th>lag_15</th>\n",
       "      <th>lag_16</th>\n",
       "      <th>lag_17</th>\n",
       "      <th>lag_18</th>\n",
       "      <th>lag_19</th>\n",
       "      <th>lag_20</th>\n",
       "      <th>lag_21</th>\n",
       "      <th>lag_22</th>\n",
       "      <th>lag_23</th>\n",
       "      <th>lag_24</th>\n",
       "    </tr>\n",
       "    <tr>\n",
       "      <th>datetime</th>\n",
       "      <th></th>\n",
       "      <th></th>\n",
       "      <th></th>\n",
       "      <th></th>\n",
       "      <th></th>\n",
       "      <th></th>\n",
       "      <th></th>\n",
       "      <th></th>\n",
       "      <th></th>\n",
       "      <th></th>\n",
       "      <th></th>\n",
       "      <th></th>\n",
       "      <th></th>\n",
       "      <th></th>\n",
       "      <th></th>\n",
       "      <th></th>\n",
       "      <th></th>\n",
       "      <th></th>\n",
       "      <th></th>\n",
       "      <th></th>\n",
       "      <th></th>\n",
       "    </tr>\n",
       "  </thead>\n",
       "  <tbody>\n",
       "    <tr>\n",
       "      <th>2018-03-08 23:00:00</th>\n",
       "      <td>63.916667</td>\n",
       "      <td>23</td>\n",
       "      <td>3</td>\n",
       "      <td>88.0</td>\n",
       "      <td>86.0</td>\n",
       "      <td>114.0</td>\n",
       "      <td>72.0</td>\n",
       "      <td>81.0</td>\n",
       "      <td>41.0</td>\n",
       "      <td>96.0</td>\n",
       "      <td>...</td>\n",
       "      <td>77.0</td>\n",
       "      <td>19.0</td>\n",
       "      <td>6.0</td>\n",
       "      <td>6.0</td>\n",
       "      <td>60.0</td>\n",
       "      <td>68.0</td>\n",
       "      <td>65.0</td>\n",
       "      <td>78.0</td>\n",
       "      <td>143.0</td>\n",
       "      <td>94.0</td>\n",
       "    </tr>\n",
       "    <tr>\n",
       "      <th>2018-03-09 00:00:00</th>\n",
       "      <td>64.583333</td>\n",
       "      <td>0</td>\n",
       "      <td>4</td>\n",
       "      <td>79.0</td>\n",
       "      <td>88.0</td>\n",
       "      <td>86.0</td>\n",
       "      <td>114.0</td>\n",
       "      <td>72.0</td>\n",
       "      <td>81.0</td>\n",
       "      <td>41.0</td>\n",
       "      <td>...</td>\n",
       "      <td>97.0</td>\n",
       "      <td>77.0</td>\n",
       "      <td>19.0</td>\n",
       "      <td>6.0</td>\n",
       "      <td>6.0</td>\n",
       "      <td>60.0</td>\n",
       "      <td>68.0</td>\n",
       "      <td>65.0</td>\n",
       "      <td>78.0</td>\n",
       "      <td>143.0</td>\n",
       "    </tr>\n",
       "    <tr>\n",
       "      <th>2018-03-09 01:00:00</th>\n",
       "      <td>64.250000</td>\n",
       "      <td>1</td>\n",
       "      <td>4</td>\n",
       "      <td>84.0</td>\n",
       "      <td>79.0</td>\n",
       "      <td>88.0</td>\n",
       "      <td>86.0</td>\n",
       "      <td>114.0</td>\n",
       "      <td>72.0</td>\n",
       "      <td>81.0</td>\n",
       "      <td>...</td>\n",
       "      <td>68.0</td>\n",
       "      <td>97.0</td>\n",
       "      <td>77.0</td>\n",
       "      <td>19.0</td>\n",
       "      <td>6.0</td>\n",
       "      <td>6.0</td>\n",
       "      <td>60.0</td>\n",
       "      <td>68.0</td>\n",
       "      <td>65.0</td>\n",
       "      <td>78.0</td>\n",
       "    </tr>\n",
       "    <tr>\n",
       "      <th>2018-03-09 02:00:00</th>\n",
       "      <td>63.104167</td>\n",
       "      <td>2</td>\n",
       "      <td>4</td>\n",
       "      <td>66.0</td>\n",
       "      <td>84.0</td>\n",
       "      <td>79.0</td>\n",
       "      <td>88.0</td>\n",
       "      <td>86.0</td>\n",
       "      <td>114.0</td>\n",
       "      <td>72.0</td>\n",
       "      <td>...</td>\n",
       "      <td>80.0</td>\n",
       "      <td>68.0</td>\n",
       "      <td>97.0</td>\n",
       "      <td>77.0</td>\n",
       "      <td>19.0</td>\n",
       "      <td>6.0</td>\n",
       "      <td>6.0</td>\n",
       "      <td>60.0</td>\n",
       "      <td>68.0</td>\n",
       "      <td>65.0</td>\n",
       "    </tr>\n",
       "    <tr>\n",
       "      <th>2018-03-09 03:00:00</th>\n",
       "      <td>63.208333</td>\n",
       "      <td>3</td>\n",
       "      <td>4</td>\n",
       "      <td>29.0</td>\n",
       "      <td>66.0</td>\n",
       "      <td>84.0</td>\n",
       "      <td>79.0</td>\n",
       "      <td>88.0</td>\n",
       "      <td>86.0</td>\n",
       "      <td>114.0</td>\n",
       "      <td>...</td>\n",
       "      <td>48.0</td>\n",
       "      <td>80.0</td>\n",
       "      <td>68.0</td>\n",
       "      <td>97.0</td>\n",
       "      <td>77.0</td>\n",
       "      <td>19.0</td>\n",
       "      <td>6.0</td>\n",
       "      <td>6.0</td>\n",
       "      <td>60.0</td>\n",
       "      <td>68.0</td>\n",
       "    </tr>\n",
       "  </tbody>\n",
       "</table>\n",
       "<p>5 rows × 27 columns</p>\n",
       "</div>"
      ],
      "text/plain": [
       "                     rolling_mean  hour  dayofweek  lag_1  lag_2  lag_3  \\\n",
       "datetime                                                                  \n",
       "2018-03-08 23:00:00     63.916667    23          3   88.0   86.0  114.0   \n",
       "2018-03-09 00:00:00     64.583333     0          4   79.0   88.0   86.0   \n",
       "2018-03-09 01:00:00     64.250000     1          4   84.0   79.0   88.0   \n",
       "2018-03-09 02:00:00     63.104167     2          4   66.0   84.0   79.0   \n",
       "2018-03-09 03:00:00     63.208333     3          4   29.0   66.0   84.0   \n",
       "\n",
       "                     lag_4  lag_5  lag_6  lag_7  ...  lag_15  lag_16  lag_17  \\\n",
       "datetime                                         ...                           \n",
       "2018-03-08 23:00:00   72.0   81.0   41.0   96.0  ...    77.0    19.0     6.0   \n",
       "2018-03-09 00:00:00  114.0   72.0   81.0   41.0  ...    97.0    77.0    19.0   \n",
       "2018-03-09 01:00:00   86.0  114.0   72.0   81.0  ...    68.0    97.0    77.0   \n",
       "2018-03-09 02:00:00   88.0   86.0  114.0   72.0  ...    80.0    68.0    97.0   \n",
       "2018-03-09 03:00:00   79.0   88.0   86.0  114.0  ...    48.0    80.0    68.0   \n",
       "\n",
       "                     lag_18  lag_19  lag_20  lag_21  lag_22  lag_23  lag_24  \n",
       "datetime                                                                     \n",
       "2018-03-08 23:00:00     6.0    60.0    68.0    65.0    78.0   143.0    94.0  \n",
       "2018-03-09 00:00:00     6.0     6.0    60.0    68.0    65.0    78.0   143.0  \n",
       "2018-03-09 01:00:00    19.0     6.0     6.0    60.0    68.0    65.0    78.0  \n",
       "2018-03-09 02:00:00    77.0    19.0     6.0     6.0    60.0    68.0    65.0  \n",
       "2018-03-09 03:00:00    97.0    77.0    19.0     6.0     6.0    60.0    68.0  \n",
       "\n",
       "[5 rows x 27 columns]"
      ]
     },
     "execution_count": 48,
     "metadata": {},
     "output_type": "execute_result"
    }
   ],
   "source": [
    "(X_train.head())"
   ]
  },
  {
   "cell_type": "code",
   "execution_count": 49,
   "metadata": {},
   "outputs": [
    {
     "name": "stdout",
     "output_type": "stream",
     "text": [
      "(3802,)\n"
     ]
    }
   ],
   "source": [
    "print(y_train.shape)"
   ]
  },
  {
   "cell_type": "code",
   "execution_count": 50,
   "metadata": {},
   "outputs": [],
   "source": [
    "params = {\n",
    "    \"learning_rate\" : [1, 0.1, 0.01],\n",
    "    \"n_estimators\" : [20, 50, 100],\n",
    "    \"max_depth\" : [3, 5],\n",
    "    \"boosting_type\" : ['gbdt'],\n",
    "    \"num_leaves\" : [10**5],\n",
    "    \"min_split_gain\" : [0],\n",
    "    \"min_child_samples\" : [20],\n",
    "    \"subsample\" : [0.67],\n",
    "    \"subsample_freq\" : [1],\n",
    "    \"colsample_bytree\" : [0.67]\n",
    "         }\n",
    "\n",
    "model = lightgbm.LGBMRegressor()\n",
    "grid = GridSearchCV(model, params, scoring = 'neg_root_mean_squared_error',verbose=4)"
   ]
  },
  {
   "cell_type": "code",
   "execution_count": 51,
   "metadata": {
    "scrolled": false
   },
   "outputs": [
    {
     "name": "stdout",
     "output_type": "stream",
     "text": [
      "Fitting 5 folds for each of 18 candidates, totalling 90 fits\n",
      "[CV 1/5] END boosting_type=gbdt, colsample_bytree=0.67, learning_rate=1, max_depth=3, min_child_samples=20, min_split_gain=0, n_estimators=20, num_leaves=100000, subsample=0.67, subsample_freq=1; total time=  15.6s\n",
      "[CV 2/5] END boosting_type=gbdt, colsample_bytree=0.67, learning_rate=1, max_depth=3, min_child_samples=20, min_split_gain=0, n_estimators=20, num_leaves=100000, subsample=0.67, subsample_freq=1; total time=  16.9s\n",
      "[CV 3/5] END boosting_type=gbdt, colsample_bytree=0.67, learning_rate=1, max_depth=3, min_child_samples=20, min_split_gain=0, n_estimators=20, num_leaves=100000, subsample=0.67, subsample_freq=1; total time=  17.9s\n",
      "[CV 4/5] END boosting_type=gbdt, colsample_bytree=0.67, learning_rate=1, max_depth=3, min_child_samples=20, min_split_gain=0, n_estimators=20, num_leaves=100000, subsample=0.67, subsample_freq=1; total time=   6.8s\n",
      "[CV 5/5] END boosting_type=gbdt, colsample_bytree=0.67, learning_rate=1, max_depth=3, min_child_samples=20, min_split_gain=0, n_estimators=20, num_leaves=100000, subsample=0.67, subsample_freq=1; total time=  13.7s\n",
      "[CV 1/5] END boosting_type=gbdt, colsample_bytree=0.67, learning_rate=1, max_depth=3, min_child_samples=20, min_split_gain=0, n_estimators=50, num_leaves=100000, subsample=0.67, subsample_freq=1; total time=  40.4s\n",
      "[CV 2/5] END boosting_type=gbdt, colsample_bytree=0.67, learning_rate=1, max_depth=3, min_child_samples=20, min_split_gain=0, n_estimators=50, num_leaves=100000, subsample=0.67, subsample_freq=1; total time=  40.7s\n",
      "[CV 3/5] END boosting_type=gbdt, colsample_bytree=0.67, learning_rate=1, max_depth=3, min_child_samples=20, min_split_gain=0, n_estimators=50, num_leaves=100000, subsample=0.67, subsample_freq=1; total time=  45.1s\n",
      "[CV 4/5] END boosting_type=gbdt, colsample_bytree=0.67, learning_rate=1, max_depth=3, min_child_samples=20, min_split_gain=0, n_estimators=50, num_leaves=100000, subsample=0.67, subsample_freq=1; total time=  44.8s\n",
      "[CV 5/5] END boosting_type=gbdt, colsample_bytree=0.67, learning_rate=1, max_depth=3, min_child_samples=20, min_split_gain=0, n_estimators=50, num_leaves=100000, subsample=0.67, subsample_freq=1; total time=  34.6s\n",
      "[CV 1/5] END boosting_type=gbdt, colsample_bytree=0.67, learning_rate=1, max_depth=3, min_child_samples=20, min_split_gain=0, n_estimators=100, num_leaves=100000, subsample=0.67, subsample_freq=1; total time=  49.8s\n",
      "[CV 2/5] END boosting_type=gbdt, colsample_bytree=0.67, learning_rate=1, max_depth=3, min_child_samples=20, min_split_gain=0, n_estimators=100, num_leaves=100000, subsample=0.67, subsample_freq=1; total time=  59.6s\n",
      "[CV 3/5] END boosting_type=gbdt, colsample_bytree=0.67, learning_rate=1, max_depth=3, min_child_samples=20, min_split_gain=0, n_estimators=100, num_leaves=100000, subsample=0.67, subsample_freq=1; total time=  54.3s\n",
      "[CV 4/5] END boosting_type=gbdt, colsample_bytree=0.67, learning_rate=1, max_depth=3, min_child_samples=20, min_split_gain=0, n_estimators=100, num_leaves=100000, subsample=0.67, subsample_freq=1; total time=  51.8s\n",
      "[CV 5/5] END boosting_type=gbdt, colsample_bytree=0.67, learning_rate=1, max_depth=3, min_child_samples=20, min_split_gain=0, n_estimators=100, num_leaves=100000, subsample=0.67, subsample_freq=1; total time=  37.9s\n",
      "[CV 1/5] END boosting_type=gbdt, colsample_bytree=0.67, learning_rate=1, max_depth=5, min_child_samples=20, min_split_gain=0, n_estimators=20, num_leaves=100000, subsample=0.67, subsample_freq=1; total time=  14.8s\n",
      "[CV 2/5] END boosting_type=gbdt, colsample_bytree=0.67, learning_rate=1, max_depth=5, min_child_samples=20, min_split_gain=0, n_estimators=20, num_leaves=100000, subsample=0.67, subsample_freq=1; total time=  32.1s\n",
      "[CV 3/5] END boosting_type=gbdt, colsample_bytree=0.67, learning_rate=1, max_depth=5, min_child_samples=20, min_split_gain=0, n_estimators=20, num_leaves=100000, subsample=0.67, subsample_freq=1; total time=  34.6s\n",
      "[CV 4/5] END boosting_type=gbdt, colsample_bytree=0.67, learning_rate=1, max_depth=5, min_child_samples=20, min_split_gain=0, n_estimators=20, num_leaves=100000, subsample=0.67, subsample_freq=1; total time=  35.8s\n",
      "[CV 5/5] END boosting_type=gbdt, colsample_bytree=0.67, learning_rate=1, max_depth=5, min_child_samples=20, min_split_gain=0, n_estimators=20, num_leaves=100000, subsample=0.67, subsample_freq=1; total time=  38.9s\n",
      "[CV 1/5] END boosting_type=gbdt, colsample_bytree=0.67, learning_rate=1, max_depth=5, min_child_samples=20, min_split_gain=0, n_estimators=50, num_leaves=100000, subsample=0.67, subsample_freq=1; total time= 1.2min\n",
      "[CV 2/5] END boosting_type=gbdt, colsample_bytree=0.67, learning_rate=1, max_depth=5, min_child_samples=20, min_split_gain=0, n_estimators=50, num_leaves=100000, subsample=0.67, subsample_freq=1; total time=  52.5s\n",
      "[CV 3/5] END boosting_type=gbdt, colsample_bytree=0.67, learning_rate=1, max_depth=5, min_child_samples=20, min_split_gain=0, n_estimators=50, num_leaves=100000, subsample=0.67, subsample_freq=1; total time=  54.0s\n",
      "[CV 4/5] END boosting_type=gbdt, colsample_bytree=0.67, learning_rate=1, max_depth=5, min_child_samples=20, min_split_gain=0, n_estimators=50, num_leaves=100000, subsample=0.67, subsample_freq=1; total time=  51.6s\n",
      "[CV 5/5] END boosting_type=gbdt, colsample_bytree=0.67, learning_rate=1, max_depth=5, min_child_samples=20, min_split_gain=0, n_estimators=50, num_leaves=100000, subsample=0.67, subsample_freq=1; total time=  52.1s\n",
      "[CV 1/5] END boosting_type=gbdt, colsample_bytree=0.67, learning_rate=1, max_depth=5, min_child_samples=20, min_split_gain=0, n_estimators=100, num_leaves=100000, subsample=0.67, subsample_freq=1; total time= 1.5min\n",
      "[CV 2/5] END boosting_type=gbdt, colsample_bytree=0.67, learning_rate=1, max_depth=5, min_child_samples=20, min_split_gain=0, n_estimators=100, num_leaves=100000, subsample=0.67, subsample_freq=1; total time= 2.1min\n",
      "[CV 3/5] END boosting_type=gbdt, colsample_bytree=0.67, learning_rate=1, max_depth=5, min_child_samples=20, min_split_gain=0, n_estimators=100, num_leaves=100000, subsample=0.67, subsample_freq=1; total time= 2.9min\n",
      "[CV 4/5] END boosting_type=gbdt, colsample_bytree=0.67, learning_rate=1, max_depth=5, min_child_samples=20, min_split_gain=0, n_estimators=100, num_leaves=100000, subsample=0.67, subsample_freq=1; total time= 2.8min\n",
      "[CV 5/5] END boosting_type=gbdt, colsample_bytree=0.67, learning_rate=1, max_depth=5, min_child_samples=20, min_split_gain=0, n_estimators=100, num_leaves=100000, subsample=0.67, subsample_freq=1; total time= 3.0min\n",
      "[CV 1/5] END boosting_type=gbdt, colsample_bytree=0.67, learning_rate=0.1, max_depth=3, min_child_samples=20, min_split_gain=0, n_estimators=20, num_leaves=100000, subsample=0.67, subsample_freq=1; total time=  18.0s\n",
      "[CV 2/5] END boosting_type=gbdt, colsample_bytree=0.67, learning_rate=0.1, max_depth=3, min_child_samples=20, min_split_gain=0, n_estimators=20, num_leaves=100000, subsample=0.67, subsample_freq=1; total time=  17.6s\n",
      "[CV 3/5] END boosting_type=gbdt, colsample_bytree=0.67, learning_rate=0.1, max_depth=3, min_child_samples=20, min_split_gain=0, n_estimators=20, num_leaves=100000, subsample=0.67, subsample_freq=1; total time=  10.6s\n",
      "[CV 4/5] END boosting_type=gbdt, colsample_bytree=0.67, learning_rate=0.1, max_depth=3, min_child_samples=20, min_split_gain=0, n_estimators=20, num_leaves=100000, subsample=0.67, subsample_freq=1; total time=  17.6s\n",
      "[CV 5/5] END boosting_type=gbdt, colsample_bytree=0.67, learning_rate=0.1, max_depth=3, min_child_samples=20, min_split_gain=0, n_estimators=20, num_leaves=100000, subsample=0.67, subsample_freq=1; total time=  17.9s\n",
      "[CV 1/5] END boosting_type=gbdt, colsample_bytree=0.67, learning_rate=0.1, max_depth=3, min_child_samples=20, min_split_gain=0, n_estimators=50, num_leaves=100000, subsample=0.67, subsample_freq=1; total time=  42.6s\n",
      "[CV 2/5] END boosting_type=gbdt, colsample_bytree=0.67, learning_rate=0.1, max_depth=3, min_child_samples=20, min_split_gain=0, n_estimators=50, num_leaves=100000, subsample=0.67, subsample_freq=1; total time=  46.4s\n",
      "[CV 3/5] END boosting_type=gbdt, colsample_bytree=0.67, learning_rate=0.1, max_depth=3, min_child_samples=20, min_split_gain=0, n_estimators=50, num_leaves=100000, subsample=0.67, subsample_freq=1; total time=  45.5s\n",
      "[CV 4/5] END boosting_type=gbdt, colsample_bytree=0.67, learning_rate=0.1, max_depth=3, min_child_samples=20, min_split_gain=0, n_estimators=50, num_leaves=100000, subsample=0.67, subsample_freq=1; total time=  42.3s\n",
      "[CV 5/5] END boosting_type=gbdt, colsample_bytree=0.67, learning_rate=0.1, max_depth=3, min_child_samples=20, min_split_gain=0, n_estimators=50, num_leaves=100000, subsample=0.67, subsample_freq=1; total time=  41.6s\n",
      "[CV 1/5] END boosting_type=gbdt, colsample_bytree=0.67, learning_rate=0.1, max_depth=3, min_child_samples=20, min_split_gain=0, n_estimators=100, num_leaves=100000, subsample=0.67, subsample_freq=1; total time= 1.4min\n",
      "[CV 2/5] END boosting_type=gbdt, colsample_bytree=0.67, learning_rate=0.1, max_depth=3, min_child_samples=20, min_split_gain=0, n_estimators=100, num_leaves=100000, subsample=0.67, subsample_freq=1; total time= 1.3min\n",
      "[CV 3/5] END boosting_type=gbdt, colsample_bytree=0.67, learning_rate=0.1, max_depth=3, min_child_samples=20, min_split_gain=0, n_estimators=100, num_leaves=100000, subsample=0.67, subsample_freq=1; total time= 1.4min\n",
      "[CV 4/5] END boosting_type=gbdt, colsample_bytree=0.67, learning_rate=0.1, max_depth=3, min_child_samples=20, min_split_gain=0, n_estimators=100, num_leaves=100000, subsample=0.67, subsample_freq=1; total time= 1.3min\n",
      "[CV 5/5] END boosting_type=gbdt, colsample_bytree=0.67, learning_rate=0.1, max_depth=3, min_child_samples=20, min_split_gain=0, n_estimators=100, num_leaves=100000, subsample=0.67, subsample_freq=1; total time= 1.4min\n",
      "[CV 1/5] END boosting_type=gbdt, colsample_bytree=0.67, learning_rate=0.1, max_depth=5, min_child_samples=20, min_split_gain=0, n_estimators=20, num_leaves=100000, subsample=0.67, subsample_freq=1; total time=  45.3s\n",
      "[CV 2/5] END boosting_type=gbdt, colsample_bytree=0.67, learning_rate=0.1, max_depth=5, min_child_samples=20, min_split_gain=0, n_estimators=20, num_leaves=100000, subsample=0.67, subsample_freq=1; total time=  46.6s\n",
      "[CV 3/5] END boosting_type=gbdt, colsample_bytree=0.67, learning_rate=0.1, max_depth=5, min_child_samples=20, min_split_gain=0, n_estimators=20, num_leaves=100000, subsample=0.67, subsample_freq=1; total time=  53.4s\n",
      "[CV 4/5] END boosting_type=gbdt, colsample_bytree=0.67, learning_rate=0.1, max_depth=5, min_child_samples=20, min_split_gain=0, n_estimators=20, num_leaves=100000, subsample=0.67, subsample_freq=1; total time=  46.4s\n",
      "[CV 5/5] END boosting_type=gbdt, colsample_bytree=0.67, learning_rate=0.1, max_depth=5, min_child_samples=20, min_split_gain=0, n_estimators=20, num_leaves=100000, subsample=0.67, subsample_freq=1; total time=  52.8s\n",
      "[CV 1/5] END boosting_type=gbdt, colsample_bytree=0.67, learning_rate=0.1, max_depth=5, min_child_samples=20, min_split_gain=0, n_estimators=50, num_leaves=100000, subsample=0.67, subsample_freq=1; total time= 1.9min\n",
      "[CV 2/5] END boosting_type=gbdt, colsample_bytree=0.67, learning_rate=0.1, max_depth=5, min_child_samples=20, min_split_gain=0, n_estimators=50, num_leaves=100000, subsample=0.67, subsample_freq=1; total time= 1.6min\n",
      "[CV 3/5] END boosting_type=gbdt, colsample_bytree=0.67, learning_rate=0.1, max_depth=5, min_child_samples=20, min_split_gain=0, n_estimators=50, num_leaves=100000, subsample=0.67, subsample_freq=1; total time= 1.4min\n",
      "[CV 4/5] END boosting_type=gbdt, colsample_bytree=0.67, learning_rate=0.1, max_depth=5, min_child_samples=20, min_split_gain=0, n_estimators=50, num_leaves=100000, subsample=0.67, subsample_freq=1; total time= 1.5min\n",
      "[CV 5/5] END boosting_type=gbdt, colsample_bytree=0.67, learning_rate=0.1, max_depth=5, min_child_samples=20, min_split_gain=0, n_estimators=50, num_leaves=100000, subsample=0.67, subsample_freq=1; total time= 1.6min\n",
      "[CV 1/5] END boosting_type=gbdt, colsample_bytree=0.67, learning_rate=0.1, max_depth=5, min_child_samples=20, min_split_gain=0, n_estimators=100, num_leaves=100000, subsample=0.67, subsample_freq=1; total time= 2.8min\n",
      "[CV 2/5] END boosting_type=gbdt, colsample_bytree=0.67, learning_rate=0.1, max_depth=5, min_child_samples=20, min_split_gain=0, n_estimators=100, num_leaves=100000, subsample=0.67, subsample_freq=1; total time= 2.8min\n",
      "[CV 3/5] END boosting_type=gbdt, colsample_bytree=0.67, learning_rate=0.1, max_depth=5, min_child_samples=20, min_split_gain=0, n_estimators=100, num_leaves=100000, subsample=0.67, subsample_freq=1; total time= 2.5min\n",
      "[CV 4/5] END boosting_type=gbdt, colsample_bytree=0.67, learning_rate=0.1, max_depth=5, min_child_samples=20, min_split_gain=0, n_estimators=100, num_leaves=100000, subsample=0.67, subsample_freq=1; total time= 2.8min\n",
      "[CV 5/5] END boosting_type=gbdt, colsample_bytree=0.67, learning_rate=0.1, max_depth=5, min_child_samples=20, min_split_gain=0, n_estimators=100, num_leaves=100000, subsample=0.67, subsample_freq=1; total time= 3.3min\n",
      "[CV 1/5] END boosting_type=gbdt, colsample_bytree=0.67, learning_rate=0.01, max_depth=3, min_child_samples=20, min_split_gain=0, n_estimators=20, num_leaves=100000, subsample=0.67, subsample_freq=1; total time=  19.1s\n",
      "[CV 2/5] END boosting_type=gbdt, colsample_bytree=0.67, learning_rate=0.01, max_depth=3, min_child_samples=20, min_split_gain=0, n_estimators=20, num_leaves=100000, subsample=0.67, subsample_freq=1; total time=  19.2s\n",
      "[CV 3/5] END boosting_type=gbdt, colsample_bytree=0.67, learning_rate=0.01, max_depth=3, min_child_samples=20, min_split_gain=0, n_estimators=20, num_leaves=100000, subsample=0.67, subsample_freq=1; total time=  17.1s\n",
      "[CV 4/5] END boosting_type=gbdt, colsample_bytree=0.67, learning_rate=0.01, max_depth=3, min_child_samples=20, min_split_gain=0, n_estimators=20, num_leaves=100000, subsample=0.67, subsample_freq=1; total time=  10.2s\n",
      "[CV 5/5] END boosting_type=gbdt, colsample_bytree=0.67, learning_rate=0.01, max_depth=3, min_child_samples=20, min_split_gain=0, n_estimators=20, num_leaves=100000, subsample=0.67, subsample_freq=1; total time=  17.3s\n",
      "[CV 1/5] END boosting_type=gbdt, colsample_bytree=0.67, learning_rate=0.01, max_depth=3, min_child_samples=20, min_split_gain=0, n_estimators=50, num_leaves=100000, subsample=0.67, subsample_freq=1; total time=  42.5s\n",
      "[CV 2/5] END boosting_type=gbdt, colsample_bytree=0.67, learning_rate=0.01, max_depth=3, min_child_samples=20, min_split_gain=0, n_estimators=50, num_leaves=100000, subsample=0.67, subsample_freq=1; total time=  41.6s\n",
      "[CV 3/5] END boosting_type=gbdt, colsample_bytree=0.67, learning_rate=0.01, max_depth=3, min_child_samples=20, min_split_gain=0, n_estimators=50, num_leaves=100000, subsample=0.67, subsample_freq=1; total time=  41.8s\n",
      "[CV 4/5] END boosting_type=gbdt, colsample_bytree=0.67, learning_rate=0.01, max_depth=3, min_child_samples=20, min_split_gain=0, n_estimators=50, num_leaves=100000, subsample=0.67, subsample_freq=1; total time=  38.3s\n",
      "[CV 5/5] END boosting_type=gbdt, colsample_bytree=0.67, learning_rate=0.01, max_depth=3, min_child_samples=20, min_split_gain=0, n_estimators=50, num_leaves=100000, subsample=0.67, subsample_freq=1; total time=  40.6s\n",
      "[CV 1/5] END boosting_type=gbdt, colsample_bytree=0.67, learning_rate=0.01, max_depth=3, min_child_samples=20, min_split_gain=0, n_estimators=100, num_leaves=100000, subsample=0.67, subsample_freq=1; total time=  18.4s\n",
      "[CV 2/5] END boosting_type=gbdt, colsample_bytree=0.67, learning_rate=0.01, max_depth=3, min_child_samples=20, min_split_gain=0, n_estimators=100, num_leaves=100000, subsample=0.67, subsample_freq=1; total time=   8.7s\n",
      "[CV 3/5] END boosting_type=gbdt, colsample_bytree=0.67, learning_rate=0.01, max_depth=3, min_child_samples=20, min_split_gain=0, n_estimators=100, num_leaves=100000, subsample=0.67, subsample_freq=1; total time=  12.7s\n",
      "[CV 4/5] END boosting_type=gbdt, colsample_bytree=0.67, learning_rate=0.01, max_depth=3, min_child_samples=20, min_split_gain=0, n_estimators=100, num_leaves=100000, subsample=0.67, subsample_freq=1; total time=   6.9s\n",
      "[CV 5/5] END boosting_type=gbdt, colsample_bytree=0.67, learning_rate=0.01, max_depth=3, min_child_samples=20, min_split_gain=0, n_estimators=100, num_leaves=100000, subsample=0.67, subsample_freq=1; total time=  14.6s\n",
      "[CV 1/5] END boosting_type=gbdt, colsample_bytree=0.67, learning_rate=0.01, max_depth=5, min_child_samples=20, min_split_gain=0, n_estimators=20, num_leaves=100000, subsample=0.67, subsample_freq=1; total time=  13.6s\n",
      "[CV 2/5] END boosting_type=gbdt, colsample_bytree=0.67, learning_rate=0.01, max_depth=5, min_child_samples=20, min_split_gain=0, n_estimators=20, num_leaves=100000, subsample=0.67, subsample_freq=1; total time=   5.1s\n",
      "[CV 3/5] END boosting_type=gbdt, colsample_bytree=0.67, learning_rate=0.01, max_depth=5, min_child_samples=20, min_split_gain=0, n_estimators=20, num_leaves=100000, subsample=0.67, subsample_freq=1; total time=   8.3s\n",
      "[CV 4/5] END boosting_type=gbdt, colsample_bytree=0.67, learning_rate=0.01, max_depth=5, min_child_samples=20, min_split_gain=0, n_estimators=20, num_leaves=100000, subsample=0.67, subsample_freq=1; total time=   9.0s\n",
      "[CV 5/5] END boosting_type=gbdt, colsample_bytree=0.67, learning_rate=0.01, max_depth=5, min_child_samples=20, min_split_gain=0, n_estimators=20, num_leaves=100000, subsample=0.67, subsample_freq=1; total time=  12.3s\n",
      "[CV 1/5] END boosting_type=gbdt, colsample_bytree=0.67, learning_rate=0.01, max_depth=5, min_child_samples=20, min_split_gain=0, n_estimators=50, num_leaves=100000, subsample=0.67, subsample_freq=1; total time=  11.9s\n",
      "[CV 2/5] END boosting_type=gbdt, colsample_bytree=0.67, learning_rate=0.01, max_depth=5, min_child_samples=20, min_split_gain=0, n_estimators=50, num_leaves=100000, subsample=0.67, subsample_freq=1; total time=  12.8s\n",
      "[CV 3/5] END boosting_type=gbdt, colsample_bytree=0.67, learning_rate=0.01, max_depth=5, min_child_samples=20, min_split_gain=0, n_estimators=50, num_leaves=100000, subsample=0.67, subsample_freq=1; total time=   6.6s\n",
      "[CV 4/5] END boosting_type=gbdt, colsample_bytree=0.67, learning_rate=0.01, max_depth=5, min_child_samples=20, min_split_gain=0, n_estimators=50, num_leaves=100000, subsample=0.67, subsample_freq=1; total time=  28.7s\n",
      "[CV 5/5] END boosting_type=gbdt, colsample_bytree=0.67, learning_rate=0.01, max_depth=5, min_child_samples=20, min_split_gain=0, n_estimators=50, num_leaves=100000, subsample=0.67, subsample_freq=1; total time=   7.1s\n",
      "[CV 1/5] END boosting_type=gbdt, colsample_bytree=0.67, learning_rate=0.01, max_depth=5, min_child_samples=20, min_split_gain=0, n_estimators=100, num_leaves=100000, subsample=0.67, subsample_freq=1; total time=  24.0s\n",
      "[CV 2/5] END boosting_type=gbdt, colsample_bytree=0.67, learning_rate=0.01, max_depth=5, min_child_samples=20, min_split_gain=0, n_estimators=100, num_leaves=100000, subsample=0.67, subsample_freq=1; total time= 3.8min\n",
      "[CV 3/5] END boosting_type=gbdt, colsample_bytree=0.67, learning_rate=0.01, max_depth=5, min_child_samples=20, min_split_gain=0, n_estimators=100, num_leaves=100000, subsample=0.67, subsample_freq=1; total time= 3.9min\n",
      "[CV 4/5] END boosting_type=gbdt, colsample_bytree=0.67, learning_rate=0.01, max_depth=5, min_child_samples=20, min_split_gain=0, n_estimators=100, num_leaves=100000, subsample=0.67, subsample_freq=1; total time= 4.6min\n",
      "[CV 5/5] END boosting_type=gbdt, colsample_bytree=0.67, learning_rate=0.01, max_depth=5, min_child_samples=20, min_split_gain=0, n_estimators=100, num_leaves=100000, subsample=0.67, subsample_freq=1; total time= 3.9min\n"
     ]
    },
    {
     "data": {
      "text/plain": [
       "GridSearchCV(estimator=LGBMRegressor(),\n",
       "             param_grid={'boosting_type': ['gbdt'], 'colsample_bytree': [0.67],\n",
       "                         'learning_rate': [1, 0.1, 0.01], 'max_depth': [3, 5],\n",
       "                         'min_child_samples': [20], 'min_split_gain': [0],\n",
       "                         'n_estimators': [20, 50, 100], 'num_leaves': [100000],\n",
       "                         'subsample': [0.67], 'subsample_freq': [1]},\n",
       "             scoring='neg_root_mean_squared_error', verbose=4)"
      ]
     },
     "execution_count": 51,
     "metadata": {},
     "output_type": "execute_result"
    }
   ],
   "source": [
    "grid.fit(X_train, y_train)"
   ]
  },
  {
   "cell_type": "code",
   "execution_count": 52,
   "metadata": {},
   "outputs": [],
   "source": [
    "LGBM_best_params = grid.best_params_"
   ]
  },
  {
   "cell_type": "code",
   "execution_count": 53,
   "metadata": {
    "scrolled": false
   },
   "outputs": [
    {
     "name": "stdout",
     "output_type": "stream",
     "text": [
      "Best parameters:  {'boosting_type': 'gbdt', 'colsample_bytree': 0.67, 'learning_rate': 0.1, 'max_depth': 5, 'min_child_samples': 20, 'min_split_gain': 0, 'n_estimators': 100, 'num_leaves': 100000, 'subsample': 0.67, 'subsample_freq': 1}\n",
      "Best score:  23\n"
     ]
    }
   ],
   "source": [
    "print(\"Best parameters: \", grid.best_params_)\n",
    "print(\"Best score: \", round(-grid.best_score_))"
   ]
  },
  {
   "cell_type": "markdown",
   "metadata": {},
   "source": [
    "**Вывод:** Обучены модели линейной регрессии и LGBM-регрессор c перебора нескольких различных параметров. С помощью gridsearch получена предварительная оценка качества моделей на части тренировочной выборки. Далее будет проведена оценка качества на тестовых выборках."
   ]
  },
  {
   "cell_type": "markdown",
   "metadata": {},
   "source": [
    "### Random Forest"
   ]
  },
  {
   "cell_type": "code",
   "execution_count": 54,
   "metadata": {
    "scrolled": false
   },
   "outputs": [
    {
     "name": "stdout",
     "output_type": "stream",
     "text": [
      "Fitting 3 folds for each of 50 candidates, totalling 150 fits\n",
      "[CV 1/3] END criterion=mse, max_depth=10, min_samples_leaf=1, min_samples_split=6, n_estimators=200; total time=   2.1s\n",
      "[CV 2/3] END criterion=mse, max_depth=10, min_samples_leaf=1, min_samples_split=6, n_estimators=200; total time=   3.9s\n",
      "[CV 3/3] END criterion=mse, max_depth=10, min_samples_leaf=1, min_samples_split=6, n_estimators=200; total time=   5.7s\n",
      "[CV 1/3] END criterion=mse, max_depth=5, min_samples_leaf=2, min_samples_split=6, n_estimators=300; total time=   1.8s\n",
      "[CV 2/3] END criterion=mse, max_depth=5, min_samples_leaf=2, min_samples_split=6, n_estimators=300; total time=   3.2s\n",
      "[CV 3/3] END criterion=mse, max_depth=5, min_samples_leaf=2, min_samples_split=6, n_estimators=300; total time=   4.6s\n",
      "[CV 1/3] END criterion=mse, max_depth=10, min_samples_leaf=1, min_samples_split=4, n_estimators=100; total time=   1.0s\n",
      "[CV 2/3] END criterion=mse, max_depth=10, min_samples_leaf=1, min_samples_split=4, n_estimators=100; total time=   1.9s\n",
      "[CV 3/3] END criterion=mse, max_depth=10, min_samples_leaf=1, min_samples_split=4, n_estimators=100; total time=   2.9s\n",
      "[CV 1/3] END criterion=mse, max_depth=10, min_samples_leaf=3, min_samples_split=4, n_estimators=300; total time=   3.3s\n",
      "[CV 2/3] END criterion=mse, max_depth=10, min_samples_leaf=3, min_samples_split=4, n_estimators=300; total time=   5.7s\n",
      "[CV 3/3] END criterion=mse, max_depth=10, min_samples_leaf=3, min_samples_split=4, n_estimators=300; total time=   8.4s\n",
      "[CV 1/3] END criterion=mse, max_depth=10, min_samples_leaf=1, min_samples_split=8, n_estimators=100; total time=   1.0s\n",
      "[CV 2/3] END criterion=mse, max_depth=10, min_samples_leaf=1, min_samples_split=8, n_estimators=100; total time=   1.9s\n",
      "[CV 3/3] END criterion=mse, max_depth=10, min_samples_leaf=1, min_samples_split=8, n_estimators=100; total time=   2.8s\n",
      "[CV 1/3] END criterion=mse, max_depth=5, min_samples_leaf=3, min_samples_split=6, n_estimators=300; total time=   1.7s\n",
      "[CV 2/3] END criterion=mse, max_depth=5, min_samples_leaf=3, min_samples_split=6, n_estimators=300; total time=   3.4s\n",
      "[CV 3/3] END criterion=mse, max_depth=5, min_samples_leaf=3, min_samples_split=6, n_estimators=300; total time=   4.6s\n",
      "[CV 1/3] END criterion=mse, max_depth=10, min_samples_leaf=3, min_samples_split=8, n_estimators=300; total time=   2.8s\n",
      "[CV 2/3] END criterion=mse, max_depth=10, min_samples_leaf=3, min_samples_split=8, n_estimators=300; total time=   5.5s\n",
      "[CV 3/3] END criterion=mse, max_depth=10, min_samples_leaf=3, min_samples_split=8, n_estimators=300; total time=   8.0s\n",
      "[CV 1/3] END criterion=mse, max_depth=5, min_samples_leaf=1, min_samples_split=2, n_estimators=200; total time=   1.2s\n",
      "[CV 2/3] END criterion=mse, max_depth=5, min_samples_leaf=1, min_samples_split=2, n_estimators=200; total time=   2.1s\n",
      "[CV 3/3] END criterion=mse, max_depth=5, min_samples_leaf=1, min_samples_split=2, n_estimators=200; total time=   3.0s\n",
      "[CV 1/3] END criterion=mse, max_depth=5, min_samples_leaf=2, min_samples_split=8, n_estimators=300; total time=   1.8s\n",
      "[CV 2/3] END criterion=mse, max_depth=5, min_samples_leaf=2, min_samples_split=8, n_estimators=300; total time=   3.1s\n",
      "[CV 3/3] END criterion=mse, max_depth=5, min_samples_leaf=2, min_samples_split=8, n_estimators=300; total time=   4.5s\n",
      "[CV 1/3] END criterion=mse, max_depth=10, min_samples_leaf=2, min_samples_split=6, n_estimators=100; total time=   0.9s\n",
      "[CV 2/3] END criterion=mse, max_depth=10, min_samples_leaf=2, min_samples_split=6, n_estimators=100; total time=   1.8s\n",
      "[CV 3/3] END criterion=mse, max_depth=10, min_samples_leaf=2, min_samples_split=6, n_estimators=100; total time=   2.7s\n",
      "[CV 1/3] END criterion=mse, max_depth=10, min_samples_leaf=1, min_samples_split=4, n_estimators=200; total time=   2.0s\n",
      "[CV 2/3] END criterion=mse, max_depth=10, min_samples_leaf=1, min_samples_split=4, n_estimators=200; total time=   3.8s\n",
      "[CV 3/3] END criterion=mse, max_depth=10, min_samples_leaf=1, min_samples_split=4, n_estimators=200; total time=   5.4s\n",
      "[CV 1/3] END criterion=mse, max_depth=5, min_samples_leaf=2, min_samples_split=2, n_estimators=300; total time=   1.8s\n",
      "[CV 2/3] END criterion=mse, max_depth=5, min_samples_leaf=2, min_samples_split=2, n_estimators=300; total time=   3.0s\n",
      "[CV 3/3] END criterion=mse, max_depth=5, min_samples_leaf=2, min_samples_split=2, n_estimators=300; total time=   4.5s\n",
      "[CV 1/3] END criterion=mse, max_depth=10, min_samples_leaf=1, min_samples_split=2, n_estimators=300; total time=   3.1s\n",
      "[CV 2/3] END criterion=mse, max_depth=10, min_samples_leaf=1, min_samples_split=2, n_estimators=300; total time=   6.1s\n",
      "[CV 3/3] END criterion=mse, max_depth=10, min_samples_leaf=1, min_samples_split=2, n_estimators=300; total time=   8.6s\n",
      "[CV 1/3] END criterion=mse, max_depth=5, min_samples_leaf=3, min_samples_split=4, n_estimators=100; total time=   0.6s\n",
      "[CV 2/3] END criterion=mse, max_depth=5, min_samples_leaf=3, min_samples_split=4, n_estimators=100; total time=   1.1s\n",
      "[CV 3/3] END criterion=mse, max_depth=5, min_samples_leaf=3, min_samples_split=4, n_estimators=100; total time=   1.5s\n",
      "[CV 1/3] END criterion=mse, max_depth=5, min_samples_leaf=2, min_samples_split=6, n_estimators=100; total time=   0.6s\n",
      "[CV 2/3] END criterion=mse, max_depth=5, min_samples_leaf=2, min_samples_split=6, n_estimators=100; total time=   1.1s\n",
      "[CV 3/3] END criterion=mse, max_depth=5, min_samples_leaf=2, min_samples_split=6, n_estimators=100; total time=   1.5s\n",
      "[CV 1/3] END criterion=mse, max_depth=5, min_samples_leaf=2, min_samples_split=2, n_estimators=200; total time=   1.2s\n",
      "[CV 2/3] END criterion=mse, max_depth=5, min_samples_leaf=2, min_samples_split=2, n_estimators=200; total time=   2.1s\n",
      "[CV 3/3] END criterion=mse, max_depth=5, min_samples_leaf=2, min_samples_split=2, n_estimators=200; total time=   3.5s\n",
      "[CV 1/3] END criterion=mse, max_depth=5, min_samples_leaf=2, min_samples_split=2, n_estimators=200; total time=   1.3s\n",
      "[CV 2/3] END criterion=mse, max_depth=5, min_samples_leaf=2, min_samples_split=2, n_estimators=200; total time=   2.1s\n",
      "[CV 3/3] END criterion=mse, max_depth=5, min_samples_leaf=2, min_samples_split=2, n_estimators=200; total time=   3.1s\n",
      "[CV 1/3] END criterion=mse, max_depth=10, min_samples_leaf=1, min_samples_split=8, n_estimators=300; total time=   2.8s\n",
      "[CV 2/3] END criterion=mse, max_depth=10, min_samples_leaf=1, min_samples_split=8, n_estimators=300; total time=   5.4s\n",
      "[CV 3/3] END criterion=mse, max_depth=10, min_samples_leaf=1, min_samples_split=8, n_estimators=300; total time=   8.1s\n",
      "[CV 1/3] END criterion=mse, max_depth=10, min_samples_leaf=3, min_samples_split=2, n_estimators=100; total time=   0.9s\n",
      "[CV 2/3] END criterion=mse, max_depth=10, min_samples_leaf=3, min_samples_split=2, n_estimators=100; total time=   1.8s\n",
      "[CV 3/3] END criterion=mse, max_depth=10, min_samples_leaf=3, min_samples_split=2, n_estimators=100; total time=   2.8s\n",
      "[CV 1/3] END criterion=mse, max_depth=5, min_samples_leaf=1, min_samples_split=2, n_estimators=200; total time=   1.2s\n",
      "[CV 2/3] END criterion=mse, max_depth=5, min_samples_leaf=1, min_samples_split=2, n_estimators=200; total time=   2.3s\n",
      "[CV 3/3] END criterion=mse, max_depth=5, min_samples_leaf=1, min_samples_split=2, n_estimators=200; total time=   3.1s\n",
      "[CV 1/3] END criterion=mse, max_depth=5, min_samples_leaf=3, min_samples_split=2, n_estimators=200; total time=   1.2s\n",
      "[CV 2/3] END criterion=mse, max_depth=5, min_samples_leaf=3, min_samples_split=2, n_estimators=200; total time=   2.1s\n",
      "[CV 3/3] END criterion=mse, max_depth=5, min_samples_leaf=3, min_samples_split=2, n_estimators=200; total time=   3.0s\n",
      "[CV 1/3] END criterion=mse, max_depth=10, min_samples_leaf=3, min_samples_split=4, n_estimators=200; total time=   1.9s\n",
      "[CV 2/3] END criterion=mse, max_depth=10, min_samples_leaf=3, min_samples_split=4, n_estimators=200; total time=   3.5s\n",
      "[CV 3/3] END criterion=mse, max_depth=10, min_samples_leaf=3, min_samples_split=4, n_estimators=200; total time=   5.3s\n",
      "[CV 1/3] END criterion=mse, max_depth=5, min_samples_leaf=3, min_samples_split=2, n_estimators=300; total time=   1.7s\n",
      "[CV 2/3] END criterion=mse, max_depth=5, min_samples_leaf=3, min_samples_split=2, n_estimators=300; total time=   3.1s\n",
      "[CV 3/3] END criterion=mse, max_depth=5, min_samples_leaf=3, min_samples_split=2, n_estimators=300; total time=   4.6s\n",
      "[CV 1/3] END criterion=mse, max_depth=10, min_samples_leaf=3, min_samples_split=2, n_estimators=300; total time=   3.1s\n",
      "[CV 2/3] END criterion=mse, max_depth=10, min_samples_leaf=3, min_samples_split=2, n_estimators=300; total time=   5.8s\n",
      "[CV 3/3] END criterion=mse, max_depth=10, min_samples_leaf=3, min_samples_split=2, n_estimators=300; total time=   8.3s\n",
      "[CV 1/3] END criterion=mse, max_depth=10, min_samples_leaf=3, min_samples_split=4, n_estimators=200; total time=   2.0s\n",
      "[CV 2/3] END criterion=mse, max_depth=10, min_samples_leaf=3, min_samples_split=4, n_estimators=200; total time=   3.6s\n",
      "[CV 3/3] END criterion=mse, max_depth=10, min_samples_leaf=3, min_samples_split=4, n_estimators=200; total time=   5.3s\n",
      "[CV 1/3] END criterion=mse, max_depth=5, min_samples_leaf=3, min_samples_split=2, n_estimators=300; total time=   1.9s\n",
      "[CV 2/3] END criterion=mse, max_depth=5, min_samples_leaf=3, min_samples_split=2, n_estimators=300; total time=   3.3s\n",
      "[CV 3/3] END criterion=mse, max_depth=5, min_samples_leaf=3, min_samples_split=2, n_estimators=300; total time=   4.4s\n",
      "[CV 1/3] END criterion=mse, max_depth=10, min_samples_leaf=2, min_samples_split=6, n_estimators=300; total time=   2.9s\n",
      "[CV 2/3] END criterion=mse, max_depth=10, min_samples_leaf=2, min_samples_split=6, n_estimators=300; total time=   5.4s\n",
      "[CV 3/3] END criterion=mse, max_depth=10, min_samples_leaf=2, min_samples_split=6, n_estimators=300; total time=   8.1s\n",
      "[CV 1/3] END criterion=mse, max_depth=5, min_samples_leaf=1, min_samples_split=2, n_estimators=200; total time=   1.2s\n",
      "[CV 2/3] END criterion=mse, max_depth=5, min_samples_leaf=1, min_samples_split=2, n_estimators=200; total time=   2.2s\n",
      "[CV 3/3] END criterion=mse, max_depth=5, min_samples_leaf=1, min_samples_split=2, n_estimators=200; total time=   3.4s\n",
      "[CV 1/3] END criterion=mse, max_depth=5, min_samples_leaf=1, min_samples_split=8, n_estimators=100; total time=   0.6s\n",
      "[CV 2/3] END criterion=mse, max_depth=5, min_samples_leaf=1, min_samples_split=8, n_estimators=100; total time=   1.1s\n",
      "[CV 3/3] END criterion=mse, max_depth=5, min_samples_leaf=1, min_samples_split=8, n_estimators=100; total time=   1.6s\n",
      "[CV 1/3] END criterion=mse, max_depth=5, min_samples_leaf=3, min_samples_split=8, n_estimators=300; total time=   1.7s\n",
      "[CV 2/3] END criterion=mse, max_depth=5, min_samples_leaf=3, min_samples_split=8, n_estimators=300; total time=   3.2s\n",
      "[CV 3/3] END criterion=mse, max_depth=5, min_samples_leaf=3, min_samples_split=8, n_estimators=300; total time=   4.4s\n",
      "[CV 1/3] END criterion=mse, max_depth=10, min_samples_leaf=3, min_samples_split=2, n_estimators=100; total time=   0.9s\n",
      "[CV 2/3] END criterion=mse, max_depth=10, min_samples_leaf=3, min_samples_split=2, n_estimators=100; total time=   1.8s\n",
      "[CV 3/3] END criterion=mse, max_depth=10, min_samples_leaf=3, min_samples_split=2, n_estimators=100; total time=   2.7s\n",
      "[CV 1/3] END criterion=mse, max_depth=5, min_samples_leaf=3, min_samples_split=6, n_estimators=300; total time=   1.8s\n",
      "[CV 2/3] END criterion=mse, max_depth=5, min_samples_leaf=3, min_samples_split=6, n_estimators=300; total time=   3.2s\n",
      "[CV 3/3] END criterion=mse, max_depth=5, min_samples_leaf=3, min_samples_split=6, n_estimators=300; total time=   4.5s\n",
      "[CV 1/3] END criterion=mse, max_depth=10, min_samples_leaf=3, min_samples_split=4, n_estimators=200; total time=   2.0s\n",
      "[CV 2/3] END criterion=mse, max_depth=10, min_samples_leaf=3, min_samples_split=4, n_estimators=200; total time=   3.7s\n",
      "[CV 3/3] END criterion=mse, max_depth=10, min_samples_leaf=3, min_samples_split=4, n_estimators=200; total time=   5.5s\n",
      "[CV 1/3] END criterion=mse, max_depth=10, min_samples_leaf=3, min_samples_split=2, n_estimators=300; total time=   2.8s\n",
      "[CV 2/3] END criterion=mse, max_depth=10, min_samples_leaf=3, min_samples_split=2, n_estimators=300; total time=   5.3s\n",
      "[CV 3/3] END criterion=mse, max_depth=10, min_samples_leaf=3, min_samples_split=2, n_estimators=300; total time=   8.0s\n",
      "[CV 1/3] END criterion=mse, max_depth=10, min_samples_leaf=3, min_samples_split=4, n_estimators=200; total time=   1.9s\n",
      "[CV 2/3] END criterion=mse, max_depth=10, min_samples_leaf=3, min_samples_split=4, n_estimators=200; total time=   3.7s\n",
      "[CV 3/3] END criterion=mse, max_depth=10, min_samples_leaf=3, min_samples_split=4, n_estimators=200; total time=   5.4s\n",
      "[CV 1/3] END criterion=mse, max_depth=5, min_samples_leaf=3, min_samples_split=6, n_estimators=100; total time=   0.6s\n",
      "[CV 2/3] END criterion=mse, max_depth=5, min_samples_leaf=3, min_samples_split=6, n_estimators=100; total time=   1.1s\n",
      "[CV 3/3] END criterion=mse, max_depth=5, min_samples_leaf=3, min_samples_split=6, n_estimators=100; total time=   1.5s\n",
      "[CV 1/3] END criterion=mse, max_depth=10, min_samples_leaf=3, min_samples_split=2, n_estimators=200; total time=   1.9s\n",
      "[CV 2/3] END criterion=mse, max_depth=10, min_samples_leaf=3, min_samples_split=2, n_estimators=200; total time=   3.6s\n",
      "[CV 3/3] END criterion=mse, max_depth=10, min_samples_leaf=3, min_samples_split=2, n_estimators=200; total time=   5.4s\n",
      "[CV 1/3] END criterion=mse, max_depth=5, min_samples_leaf=3, min_samples_split=6, n_estimators=300; total time=   1.8s\n",
      "[CV 2/3] END criterion=mse, max_depth=5, min_samples_leaf=3, min_samples_split=6, n_estimators=300; total time=   3.2s\n",
      "[CV 3/3] END criterion=mse, max_depth=5, min_samples_leaf=3, min_samples_split=6, n_estimators=300; total time=   4.7s\n",
      "[CV 1/3] END criterion=mse, max_depth=10, min_samples_leaf=1, min_samples_split=8, n_estimators=300; total time=   3.0s\n",
      "[CV 2/3] END criterion=mse, max_depth=10, min_samples_leaf=1, min_samples_split=8, n_estimators=300; total time=   5.7s\n",
      "[CV 3/3] END criterion=mse, max_depth=10, min_samples_leaf=1, min_samples_split=8, n_estimators=300; total time=   8.2s\n",
      "[CV 1/3] END criterion=mse, max_depth=5, min_samples_leaf=3, min_samples_split=8, n_estimators=200; total time=   1.2s\n",
      "[CV 2/3] END criterion=mse, max_depth=5, min_samples_leaf=3, min_samples_split=8, n_estimators=200; total time=   2.2s\n",
      "[CV 3/3] END criterion=mse, max_depth=5, min_samples_leaf=3, min_samples_split=8, n_estimators=200; total time=   3.0s\n",
      "[CV 1/3] END criterion=mse, max_depth=5, min_samples_leaf=1, min_samples_split=8, n_estimators=100; total time=   0.6s\n",
      "[CV 2/3] END criterion=mse, max_depth=5, min_samples_leaf=1, min_samples_split=8, n_estimators=100; total time=   1.1s\n",
      "[CV 3/3] END criterion=mse, max_depth=5, min_samples_leaf=1, min_samples_split=8, n_estimators=100; total time=   1.7s\n",
      "[CV 1/3] END criterion=mse, max_depth=10, min_samples_leaf=2, min_samples_split=2, n_estimators=200; total time=   2.5s\n",
      "[CV 2/3] END criterion=mse, max_depth=10, min_samples_leaf=2, min_samples_split=2, n_estimators=200; total time=   3.9s\n",
      "[CV 3/3] END criterion=mse, max_depth=10, min_samples_leaf=2, min_samples_split=2, n_estimators=200; total time=   5.7s\n",
      "[CV 1/3] END criterion=mse, max_depth=10, min_samples_leaf=2, min_samples_split=6, n_estimators=300; total time=   3.0s\n",
      "[CV 2/3] END criterion=mse, max_depth=10, min_samples_leaf=2, min_samples_split=6, n_estimators=300; total time=   5.5s\n",
      "[CV 3/3] END criterion=mse, max_depth=10, min_samples_leaf=2, min_samples_split=6, n_estimators=300; total time=   8.4s\n",
      "[CV 1/3] END criterion=mse, max_depth=5, min_samples_leaf=3, min_samples_split=4, n_estimators=300; total time=   2.0s\n",
      "[CV 2/3] END criterion=mse, max_depth=5, min_samples_leaf=3, min_samples_split=4, n_estimators=300; total time=   3.4s\n",
      "[CV 3/3] END criterion=mse, max_depth=5, min_samples_leaf=3, min_samples_split=4, n_estimators=300; total time=   4.6s\n",
      "[CV 1/3] END criterion=mse, max_depth=5, min_samples_leaf=1, min_samples_split=2, n_estimators=300; total time=   1.8s\n",
      "[CV 2/3] END criterion=mse, max_depth=5, min_samples_leaf=1, min_samples_split=2, n_estimators=300; total time=   3.3s\n",
      "[CV 3/3] END criterion=mse, max_depth=5, min_samples_leaf=1, min_samples_split=2, n_estimators=300; total time=   4.6s\n",
      "[CV 1/3] END criterion=mse, max_depth=10, min_samples_leaf=1, min_samples_split=4, n_estimators=100; total time=   1.0s\n",
      "[CV 2/3] END criterion=mse, max_depth=10, min_samples_leaf=1, min_samples_split=4, n_estimators=100; total time=   2.0s\n",
      "[CV 3/3] END criterion=mse, max_depth=10, min_samples_leaf=1, min_samples_split=4, n_estimators=100; total time=   2.9s\n",
      "[CV 1/3] END criterion=mse, max_depth=10, min_samples_leaf=3, min_samples_split=4, n_estimators=100; total time=   1.0s\n",
      "[CV 2/3] END criterion=mse, max_depth=10, min_samples_leaf=3, min_samples_split=4, n_estimators=100; total time=   1.9s\n",
      "[CV 3/3] END criterion=mse, max_depth=10, min_samples_leaf=3, min_samples_split=4, n_estimators=100; total time=   2.9s\n",
      "[CV 1/3] END criterion=mse, max_depth=10, min_samples_leaf=3, min_samples_split=6, n_estimators=300; total time=   3.1s\n",
      "[CV 2/3] END criterion=mse, max_depth=10, min_samples_leaf=3, min_samples_split=6, n_estimators=300; total time=   5.6s\n",
      "[CV 3/3] END criterion=mse, max_depth=10, min_samples_leaf=3, min_samples_split=6, n_estimators=300; total time=   8.5s\n",
      "[CV 1/3] END criterion=mse, max_depth=5, min_samples_leaf=2, min_samples_split=4, n_estimators=200; total time=   1.2s\n",
      "[CV 2/3] END criterion=mse, max_depth=5, min_samples_leaf=2, min_samples_split=4, n_estimators=200; total time=   2.1s\n",
      "[CV 3/3] END criterion=mse, max_depth=5, min_samples_leaf=2, min_samples_split=4, n_estimators=200; total time=   3.0s\n",
      "[CV 1/3] END criterion=mse, max_depth=10, min_samples_leaf=2, min_samples_split=8, n_estimators=200; total time=   2.0s\n",
      "[CV 2/3] END criterion=mse, max_depth=10, min_samples_leaf=2, min_samples_split=8, n_estimators=200; total time=   3.7s\n",
      "[CV 3/3] END criterion=mse, max_depth=10, min_samples_leaf=2, min_samples_split=8, n_estimators=200; total time=   5.6s\n",
      "Best params:  {'criterion': 'mse', 'max_depth': 10, 'min_samples_leaf': 1, 'min_samples_split': 4, 'n_estimators': 200}\n",
      "Best score:  27.604064188490568\n"
     ]
    }
   ],
   "source": [
    "model_RF = RandomForestRegressor()\n",
    "rs_params = {\n",
    "    'n_estimators': [100, 200, 300],\n",
    "    'max_depth': [5, 10],\n",
    "    'criterion': ['mse'],\n",
    "    'min_samples_leaf':randint(1,4),\n",
    "    'min_samples_split':np.arange(2, 10, step=2)\n",
    "}\n",
    "\n",
    "random_RF = RandomizedSearchCV(model_RF, rs_params, n_iter=50, scoring='neg_mean_squared_error', n_jobs=-1, cv=TimeSeriesSplit(n_splits=3), verbose=5)\n",
    "model_random = random_RF.fit(X_train, y_train)\n",
    "print('Best params: ', model_random.best_params_)\n",
    "print('Best score: ', np.sqrt(-model_random.best_score_))\n"
   ]
  },
  {
   "cell_type": "code",
   "execution_count": 55,
   "metadata": {},
   "outputs": [],
   "source": [
    "best_params_rf = model_random.best_params_"
   ]
  },
  {
   "cell_type": "markdown",
   "metadata": {},
   "source": [
    "## Тестирование"
   ]
  },
  {
   "cell_type": "markdown",
   "metadata": {},
   "source": [
    "**Тестирование  модели LinearRegression**"
   ]
  },
  {
   "cell_type": "code",
   "execution_count": 56,
   "metadata": {},
   "outputs": [],
   "source": [
    "model = LinearRegression(**LR_grid_params)\n",
    "model.fit(X_train, y_train)\n",
    "LR_preds_train = model.predict(X_train)\n",
    "LR_preds_test = model.predict(X_test)\n",
    "LR_test_score = mean_squared_error(y_test, LR_preds_test, squared=False)"
   ]
  },
  {
   "cell_type": "code",
   "execution_count": 57,
   "metadata": {},
   "outputs": [
    {
     "name": "stdout",
     "output_type": "stream",
     "text": [
      "RMSE обучающей выборки: 26.107042035407876\n",
      "RMSE тестовой выборки: 44.73795546248794\n"
     ]
    }
   ],
   "source": [
    "print(\"RMSE обучающей выборки:\", mean_squared_error(y_train, LR_preds_train, squared=False))\n",
    "print(\"RMSE тестовой выборки:\", mean_squared_error(y_test, LR_preds_test, squared=False))"
   ]
  },
  {
   "cell_type": "markdown",
   "metadata": {},
   "source": [
    "**Тестирование  модели LGBM**"
   ]
  },
  {
   "cell_type": "code",
   "execution_count": 58,
   "metadata": {},
   "outputs": [],
   "source": [
    "model = lightgbm.LGBMRegressor(**LGBM_best_params)\n",
    "model.fit(X_train, y_train)\n",
    "LGBM_preds_train = model.predict(X_train)\n",
    "LGBM_preds_test = model.predict(X_test)\n",
    "LGBM_test_score = mean_squared_error(y_test, LGBM_preds_test, squared=False)"
   ]
  },
  {
   "cell_type": "code",
   "execution_count": 59,
   "metadata": {
    "scrolled": true
   },
   "outputs": [
    {
     "name": "stdout",
     "output_type": "stream",
     "text": [
      "RMSE обучающей выборки: 16.17767769700125\n",
      "RMSE тестовой выборки: 41.43475870276854\n"
     ]
    }
   ],
   "source": [
    "print(\"RMSE обучающей выборки:\", mean_squared_error(y_train, LGBM_preds_train, squared=False))\n",
    "print(\"RMSE тестовой выборки:\", mean_squared_error(y_test, LGBM_preds_test, squared=False))"
   ]
  },
  {
   "cell_type": "markdown",
   "metadata": {},
   "source": [
    "**Тестирование  модели Random Forest**"
   ]
  },
  {
   "cell_type": "code",
   "execution_count": 60,
   "metadata": {},
   "outputs": [],
   "source": [
    "model_RF = RandomForestRegressor(**best_params_rf, random_state=42)\n",
    "model_RF.fit(X_train, y_train)\n",
    "RF_preds_train = model_RF.predict(X_train)\n",
    "RF_preds_test = model_RF.predict(X_test)\n",
    "RF_test_score = mean_squared_error(y_test, RF_preds_test, squared=False)"
   ]
  },
  {
   "cell_type": "code",
   "execution_count": 61,
   "metadata": {},
   "outputs": [
    {
     "name": "stdout",
     "output_type": "stream",
     "text": [
      "RMSE обучающей выборки: 14.464752389062847\n",
      "RMSE тестовой выборки: 44.46684189618085\n"
     ]
    }
   ],
   "source": [
    "print(\"RMSE обучающей выборки:\", mean_squared_error(y_train, RF_preds_train, squared=False))\n",
    "print(\"RMSE тестовой выборки:\", mean_squared_error(y_test, RF_preds_test, squared=False))"
   ]
  },
  {
   "cell_type": "markdown",
   "metadata": {},
   "source": [
    "**Вывод:** Обучены три модели: линейная регрессия, случайный лес и LGBM-регрессор. Линейная регрессия показала хорошее качество с минимальной ошибкой на тренировочной выборке во время перебора параметров, RMSE на тестовой выборке показло удовлетворительный результат метрики, равный 45. Качество RandomForest-модели на тестовой выборке при подборе параметров показало худшее качество, чем линейная регрессия, и LGBM но дало удовлетворительный результат равный 44. Лучшее качество в итоге показала модель LGBM c **RMSE = 41**. Задача исследования достигнута."
   ]
  },
  {
   "cell_type": "code",
   "execution_count": 62,
   "metadata": {},
   "outputs": [
    {
     "data": {
      "text/html": [
       "<div>\n",
       "<style scoped>\n",
       "    .dataframe tbody tr th:only-of-type {\n",
       "        vertical-align: middle;\n",
       "    }\n",
       "\n",
       "    .dataframe tbody tr th {\n",
       "        vertical-align: top;\n",
       "    }\n",
       "\n",
       "    .dataframe thead th {\n",
       "        text-align: right;\n",
       "    }\n",
       "</style>\n",
       "<table border=\"1\" class=\"dataframe\">\n",
       "  <thead>\n",
       "    <tr style=\"text-align: right;\">\n",
       "      <th></th>\n",
       "      <th>Метрика RMSE</th>\n",
       "      <th>n_estimators</th>\n",
       "      <th>max_depth</th>\n",
       "    </tr>\n",
       "    <tr>\n",
       "      <th>Модель</th>\n",
       "      <th></th>\n",
       "      <th></th>\n",
       "      <th></th>\n",
       "    </tr>\n",
       "  </thead>\n",
       "  <tbody>\n",
       "    <tr>\n",
       "      <th>Линейная регрессия</th>\n",
       "      <td>45</td>\n",
       "      <td>-</td>\n",
       "      <td>-</td>\n",
       "    </tr>\n",
       "    <tr>\n",
       "      <th>LGBM</th>\n",
       "      <td>41</td>\n",
       "      <td>100</td>\n",
       "      <td>5</td>\n",
       "    </tr>\n",
       "    <tr>\n",
       "      <th>Random Forest</th>\n",
       "      <td>44</td>\n",
       "      <td>300</td>\n",
       "      <td>10</td>\n",
       "    </tr>\n",
       "  </tbody>\n",
       "</table>\n",
       "</div>"
      ],
      "text/plain": [
       "                    Метрика RMSE n_estimators max_depth\n",
       "Модель                                                 \n",
       "Линейная регрессия            45            -         -\n",
       "LGBM                          41          100         5\n",
       "Random Forest                 44          300        10"
      ]
     },
     "metadata": {},
     "output_type": "display_data"
    }
   ],
   "source": [
    "results ={'Модель': ['Линейная регрессия', 'LGBM', 'Random Forest'],\n",
    "          'Метрика RMSE': [round(LR_test_score), round(LGBM_test_score), round(RF_test_score)],\n",
    "          'n_estimators': ['-', 100, 300],\n",
    "          'max_depth': ['-', 5, 10]\n",
    "         }\n",
    "\n",
    "results = pd.DataFrame(results)\n",
    "results.set_index('Модель', inplace=True)\n",
    "display(results)"
   ]
  },
  {
   "cell_type": "markdown",
   "metadata": {},
   "source": [
    "## Выводы"
   ]
  },
  {
   "cell_type": "markdown",
   "metadata": {},
   "source": [
    "Датасет был загружен, исследован и подготовлен для обусения модели. Исследованы тренд и сезонность данных, выявлены закономерности датасета: имеется тренд к плавному увеличению числа заказов такси со временем, а также сезонность в виде ежедневных пиков популярности заказов в полночь и минимумом примерно в 5-6 утра. Созданы дополнительные календарные признаки, признаки отстающих значений и признак скользящего среднего. Временной сделан более стационарным разносттью его значений и готов к прогнозированию. Данные были разделены на тренировочную и тестовую в соотношении 9 к 1, далее обуены три модели с перебором нескольких различных гиперпараметров. Все модели показали удовлетворительное качество на тестовой выборке. Лучшее качество на тестовой выборке показала модель LGBM, RMSE = 41. Данную модель рекомендовано использовать для предсказания количества заказов на следующий час."
   ]
  },
  {
   "cell_type": "markdown",
   "metadata": {},
   "source": [
    "***"
   ]
  }
 ],
 "metadata": {
  "ExecuteTimeLog": [
   {
    "duration": 534,
    "start_time": "2023-06-30T12:39:19.583Z"
   },
   {
    "duration": 156,
    "start_time": "2023-06-30T12:42:29.025Z"
   },
   {
    "duration": 23,
    "start_time": "2023-06-30T12:42:47.004Z"
   },
   {
    "duration": 26,
    "start_time": "2023-06-30T12:43:04.671Z"
   },
   {
    "duration": 113,
    "start_time": "2023-06-30T12:43:50.228Z"
   },
   {
    "duration": 3,
    "start_time": "2023-06-30T12:46:44.795Z"
   },
   {
    "duration": 12,
    "start_time": "2023-06-30T12:46:54.181Z"
   },
   {
    "duration": 1066,
    "start_time": "2023-06-30T12:52:32.196Z"
   },
   {
    "duration": 251,
    "start_time": "2023-06-30T13:00:35.411Z"
   },
   {
    "duration": 60,
    "start_time": "2023-06-30T13:00:46.154Z"
   },
   {
    "duration": 298,
    "start_time": "2023-06-30T13:00:46.645Z"
   },
   {
    "duration": 13,
    "start_time": "2023-06-30T13:00:52.157Z"
   },
   {
    "duration": 18,
    "start_time": "2023-06-30T13:01:21.548Z"
   },
   {
    "duration": 16,
    "start_time": "2023-06-30T13:01:26.566Z"
   },
   {
    "duration": 20,
    "start_time": "2023-06-30T13:01:57.292Z"
   },
   {
    "duration": 19,
    "start_time": "2023-06-30T13:02:06.181Z"
   },
   {
    "duration": 21,
    "start_time": "2023-06-30T13:02:18.901Z"
   },
   {
    "duration": 15,
    "start_time": "2023-06-30T13:05:40.593Z"
   },
   {
    "duration": 16,
    "start_time": "2023-06-30T13:05:45.991Z"
   },
   {
    "duration": 119,
    "start_time": "2023-06-30T13:06:09.238Z"
   },
   {
    "duration": 1605,
    "start_time": "2023-06-30T13:06:10.196Z"
   },
   {
    "duration": 11,
    "start_time": "2023-06-30T13:06:23.740Z"
   },
   {
    "duration": 371,
    "start_time": "2023-06-30T13:06:25.634Z"
   },
   {
    "duration": 12,
    "start_time": "2023-06-30T13:14:07.801Z"
   },
   {
    "duration": 7,
    "start_time": "2023-06-30T13:14:15.195Z"
   },
   {
    "duration": 7,
    "start_time": "2023-06-30T13:14:33.024Z"
   },
   {
    "duration": 6,
    "start_time": "2023-06-30T13:14:38.836Z"
   },
   {
    "duration": 427,
    "start_time": "2023-06-30T13:14:42.706Z"
   },
   {
    "duration": 421,
    "start_time": "2023-06-30T13:23:07.883Z"
   },
   {
    "duration": 326,
    "start_time": "2023-06-30T13:23:21.003Z"
   },
   {
    "duration": 9,
    "start_time": "2023-06-30T13:24:00.674Z"
   },
   {
    "duration": 95,
    "start_time": "2023-06-30T13:24:01.413Z"
   },
   {
    "duration": 407,
    "start_time": "2023-06-30T13:24:04.491Z"
   },
   {
    "duration": 8,
    "start_time": "2023-06-30T13:24:09.691Z"
   },
   {
    "duration": 523,
    "start_time": "2023-06-30T13:24:12.482Z"
   },
   {
    "duration": 14,
    "start_time": "2023-06-30T13:29:46.482Z"
   },
   {
    "duration": 355,
    "start_time": "2023-06-30T13:29:47.155Z"
   },
   {
    "duration": 18,
    "start_time": "2023-06-30T13:29:57.267Z"
   },
   {
    "duration": 527,
    "start_time": "2023-06-30T13:29:58.001Z"
   },
   {
    "duration": 7,
    "start_time": "2023-06-30T13:30:02.333Z"
   },
   {
    "duration": 546,
    "start_time": "2023-06-30T13:30:03.531Z"
   },
   {
    "duration": 13,
    "start_time": "2023-06-30T13:30:18.094Z"
   },
   {
    "duration": 392,
    "start_time": "2023-06-30T13:30:18.914Z"
   },
   {
    "duration": 16,
    "start_time": "2023-06-30T13:30:32.368Z"
   },
   {
    "duration": 267,
    "start_time": "2023-06-30T13:30:33.074Z"
   },
   {
    "duration": 14,
    "start_time": "2023-06-30T13:30:37.922Z"
   },
   {
    "duration": 13,
    "start_time": "2023-06-30T13:30:41.003Z"
   },
   {
    "duration": 201,
    "start_time": "2023-06-30T13:30:41.838Z"
   },
   {
    "duration": 246,
    "start_time": "2023-06-30T13:30:51.974Z"
   },
   {
    "duration": 7,
    "start_time": "2023-06-30T13:30:55.223Z"
   },
   {
    "duration": 319,
    "start_time": "2023-06-30T13:30:56.256Z"
   },
   {
    "duration": 6,
    "start_time": "2023-06-30T13:31:02.024Z"
   },
   {
    "duration": 253,
    "start_time": "2023-06-30T13:31:02.482Z"
   },
   {
    "duration": 7,
    "start_time": "2023-06-30T13:31:13.339Z"
   },
   {
    "duration": 239,
    "start_time": "2023-06-30T13:31:14.037Z"
   },
   {
    "duration": 7,
    "start_time": "2023-06-30T13:31:21.573Z"
   },
   {
    "duration": 193,
    "start_time": "2023-06-30T13:31:22.521Z"
   },
   {
    "duration": 199,
    "start_time": "2023-06-30T13:31:39.118Z"
   },
   {
    "duration": 6,
    "start_time": "2023-06-30T13:32:18.315Z"
   },
   {
    "duration": 212,
    "start_time": "2023-06-30T13:32:18.704Z"
   },
   {
    "duration": 12,
    "start_time": "2023-06-30T13:32:38.725Z"
   },
   {
    "duration": 249,
    "start_time": "2023-06-30T13:32:39.325Z"
   },
   {
    "duration": 8,
    "start_time": "2023-06-30T13:32:40.264Z"
   },
   {
    "duration": 209,
    "start_time": "2023-06-30T13:32:41.470Z"
   },
   {
    "duration": 10,
    "start_time": "2023-06-30T13:34:54.812Z"
   },
   {
    "duration": 210,
    "start_time": "2023-06-30T13:34:55.168Z"
   },
   {
    "duration": 6,
    "start_time": "2023-06-30T13:34:55.771Z"
   },
   {
    "duration": 202,
    "start_time": "2023-06-30T13:34:56.361Z"
   },
   {
    "duration": 441,
    "start_time": "2023-06-30T13:35:08.681Z"
   },
   {
    "duration": 54,
    "start_time": "2023-06-30T13:35:09.124Z"
   },
   {
    "duration": 16,
    "start_time": "2023-06-30T13:35:09.180Z"
   },
   {
    "duration": 26,
    "start_time": "2023-06-30T13:35:09.198Z"
   },
   {
    "duration": 32,
    "start_time": "2023-06-30T13:35:09.227Z"
   },
   {
    "duration": 41,
    "start_time": "2023-06-30T13:35:09.261Z"
   },
   {
    "duration": 664,
    "start_time": "2023-06-30T13:35:09.304Z"
   },
   {
    "duration": 13,
    "start_time": "2023-06-30T13:35:09.972Z"
   },
   {
    "duration": 15,
    "start_time": "2023-06-30T13:35:09.987Z"
   },
   {
    "duration": 274,
    "start_time": "2023-06-30T13:35:10.004Z"
   },
   {
    "duration": 5,
    "start_time": "2023-06-30T13:35:10.280Z"
   },
   {
    "duration": 286,
    "start_time": "2023-06-30T13:35:10.287Z"
   },
   {
    "duration": 480,
    "start_time": "2023-06-30T17:46:02.354Z"
   },
   {
    "duration": 356,
    "start_time": "2023-06-30T17:46:02.836Z"
   },
   {
    "duration": 17,
    "start_time": "2023-06-30T17:46:03.194Z"
   },
   {
    "duration": 12,
    "start_time": "2023-06-30T17:46:03.212Z"
   },
   {
    "duration": 22,
    "start_time": "2023-06-30T17:46:03.226Z"
   },
   {
    "duration": 33,
    "start_time": "2023-06-30T17:46:03.250Z"
   },
   {
    "duration": 672,
    "start_time": "2023-06-30T17:46:03.285Z"
   },
   {
    "duration": 17,
    "start_time": "2023-06-30T17:46:03.959Z"
   },
   {
    "duration": 22,
    "start_time": "2023-06-30T17:46:03.978Z"
   },
   {
    "duration": 300,
    "start_time": "2023-06-30T17:46:04.001Z"
   },
   {
    "duration": 8,
    "start_time": "2023-06-30T17:46:04.303Z"
   },
   {
    "duration": 368,
    "start_time": "2023-06-30T17:46:04.313Z"
   },
   {
    "duration": 93,
    "start_time": "2023-06-30T17:47:06.014Z"
   },
   {
    "duration": 9,
    "start_time": "2023-06-30T17:47:10.614Z"
   },
   {
    "duration": 9,
    "start_time": "2023-06-30T17:47:12.893Z"
   },
   {
    "duration": 596,
    "start_time": "2023-06-30T17:47:30.187Z"
   },
   {
    "duration": 15,
    "start_time": "2023-06-30T17:48:47.966Z"
   },
   {
    "duration": 19,
    "start_time": "2023-06-30T17:49:39.313Z"
   },
   {
    "duration": 832,
    "start_time": "2023-06-30T17:49:47.517Z"
   },
   {
    "duration": 50,
    "start_time": "2023-06-30T17:49:48.351Z"
   },
   {
    "duration": 14,
    "start_time": "2023-06-30T17:49:48.403Z"
   },
   {
    "duration": 24,
    "start_time": "2023-06-30T17:49:48.419Z"
   },
   {
    "duration": 2,
    "start_time": "2023-06-30T17:49:48.445Z"
   },
   {
    "duration": 8,
    "start_time": "2023-06-30T17:49:48.449Z"
   },
   {
    "duration": 38,
    "start_time": "2023-06-30T17:49:48.458Z"
   },
   {
    "duration": 500,
    "start_time": "2023-06-30T17:49:48.502Z"
   },
   {
    "duration": 15,
    "start_time": "2023-06-30T17:49:49.003Z"
   },
   {
    "duration": 17,
    "start_time": "2023-06-30T17:49:49.019Z"
   },
   {
    "duration": 263,
    "start_time": "2023-06-30T17:49:49.038Z"
   },
   {
    "duration": 8,
    "start_time": "2023-06-30T17:49:49.304Z"
   },
   {
    "duration": 306,
    "start_time": "2023-06-30T17:49:49.313Z"
   },
   {
    "duration": 69,
    "start_time": "2023-06-30T17:49:49.622Z"
   },
   {
    "duration": 17,
    "start_time": "2023-06-30T18:01:55.305Z"
   },
   {
    "duration": 7,
    "start_time": "2023-06-30T18:02:15.918Z"
   },
   {
    "duration": 17,
    "start_time": "2023-06-30T18:02:28.092Z"
   },
   {
    "duration": 104,
    "start_time": "2023-06-30T18:05:03.658Z"
   },
   {
    "duration": 123,
    "start_time": "2023-06-30T18:07:36.830Z"
   },
   {
    "duration": 11,
    "start_time": "2023-06-30T18:07:46.595Z"
   },
   {
    "duration": 5,
    "start_time": "2023-06-30T18:07:52.546Z"
   },
   {
    "duration": 866,
    "start_time": "2023-06-30T18:11:20.519Z"
   },
   {
    "duration": 45,
    "start_time": "2023-06-30T18:11:21.389Z"
   },
   {
    "duration": 12,
    "start_time": "2023-06-30T18:11:21.436Z"
   },
   {
    "duration": 12,
    "start_time": "2023-06-30T18:11:21.450Z"
   },
   {
    "duration": 44,
    "start_time": "2023-06-30T18:11:21.468Z"
   },
   {
    "duration": 4,
    "start_time": "2023-06-30T18:11:21.514Z"
   },
   {
    "duration": 15,
    "start_time": "2023-06-30T18:11:21.520Z"
   },
   {
    "duration": 42,
    "start_time": "2023-06-30T18:11:21.537Z"
   },
   {
    "duration": 482,
    "start_time": "2023-06-30T18:11:21.581Z"
   },
   {
    "duration": 24,
    "start_time": "2023-06-30T18:11:22.076Z"
   },
   {
    "duration": 10,
    "start_time": "2023-06-30T18:11:22.104Z"
   },
   {
    "duration": 241,
    "start_time": "2023-06-30T18:11:22.115Z"
   },
   {
    "duration": 8,
    "start_time": "2023-06-30T18:11:22.358Z"
   },
   {
    "duration": 277,
    "start_time": "2023-06-30T18:11:22.369Z"
   },
   {
    "duration": 84,
    "start_time": "2023-06-30T18:11:22.649Z"
   },
   {
    "duration": 908,
    "start_time": "2023-06-30T18:11:52.283Z"
   },
   {
    "duration": 43,
    "start_time": "2023-06-30T18:11:53.196Z"
   },
   {
    "duration": 14,
    "start_time": "2023-06-30T18:11:53.241Z"
   },
   {
    "duration": 30,
    "start_time": "2023-06-30T18:11:53.257Z"
   },
   {
    "duration": 16,
    "start_time": "2023-06-30T18:11:53.291Z"
   },
   {
    "duration": 17,
    "start_time": "2023-06-30T18:11:53.309Z"
   },
   {
    "duration": 67,
    "start_time": "2023-06-30T18:11:53.328Z"
   },
   {
    "duration": 16,
    "start_time": "2023-06-30T18:11:53.398Z"
   },
   {
    "duration": 586,
    "start_time": "2023-06-30T18:11:53.416Z"
   },
   {
    "duration": 15,
    "start_time": "2023-06-30T18:11:54.006Z"
   },
   {
    "duration": 18,
    "start_time": "2023-06-30T18:11:54.023Z"
   },
   {
    "duration": 311,
    "start_time": "2023-06-30T18:11:54.043Z"
   },
   {
    "duration": 34,
    "start_time": "2023-06-30T18:11:54.364Z"
   },
   {
    "duration": 305,
    "start_time": "2023-06-30T18:11:54.409Z"
   },
   {
    "duration": 111,
    "start_time": "2023-06-30T18:11:54.716Z"
   },
   {
    "duration": 9,
    "start_time": "2023-06-30T18:26:07.797Z"
   },
   {
    "duration": 5,
    "start_time": "2023-06-30T18:28:01.696Z"
   },
   {
    "duration": 85,
    "start_time": "2023-06-30T18:28:46.218Z"
   },
   {
    "duration": 63,
    "start_time": "2023-06-30T18:28:57.184Z"
   },
   {
    "duration": 6,
    "start_time": "2023-06-30T18:29:00.816Z"
   },
   {
    "duration": 11,
    "start_time": "2023-06-30T18:29:23.717Z"
   },
   {
    "duration": 6,
    "start_time": "2023-06-30T18:30:26.393Z"
   },
   {
    "duration": 20,
    "start_time": "2023-06-30T18:31:02.664Z"
   },
   {
    "duration": 15,
    "start_time": "2023-06-30T18:31:13.433Z"
   },
   {
    "duration": 904,
    "start_time": "2023-06-30T18:31:26.239Z"
   },
   {
    "duration": 69,
    "start_time": "2023-06-30T18:31:27.145Z"
   },
   {
    "duration": 21,
    "start_time": "2023-06-30T18:31:27.216Z"
   },
   {
    "duration": 23,
    "start_time": "2023-06-30T18:31:27.239Z"
   },
   {
    "duration": 22,
    "start_time": "2023-06-30T18:31:27.266Z"
   },
   {
    "duration": 29,
    "start_time": "2023-06-30T18:31:27.292Z"
   },
   {
    "duration": 19,
    "start_time": "2023-06-30T18:31:27.323Z"
   },
   {
    "duration": 14,
    "start_time": "2023-06-30T18:31:27.344Z"
   },
   {
    "duration": 12,
    "start_time": "2023-06-30T18:31:27.369Z"
   },
   {
    "duration": 10,
    "start_time": "2023-06-30T18:31:27.388Z"
   },
   {
    "duration": 22,
    "start_time": "2023-06-30T18:31:27.399Z"
   },
   {
    "duration": 486,
    "start_time": "2023-06-30T18:31:27.423Z"
   },
   {
    "duration": 10,
    "start_time": "2023-06-30T18:31:27.911Z"
   },
   {
    "duration": 17,
    "start_time": "2023-06-30T18:31:27.924Z"
   },
   {
    "duration": 248,
    "start_time": "2023-06-30T18:31:27.943Z"
   },
   {
    "duration": 7,
    "start_time": "2023-06-30T18:31:28.192Z"
   },
   {
    "duration": 280,
    "start_time": "2023-06-30T18:31:28.200Z"
   },
   {
    "duration": 66,
    "start_time": "2023-06-30T18:31:28.484Z"
   },
   {
    "duration": 893,
    "start_time": "2023-06-30T18:31:40.456Z"
   },
   {
    "duration": 63,
    "start_time": "2023-06-30T18:31:41.351Z"
   },
   {
    "duration": 12,
    "start_time": "2023-06-30T18:31:41.416Z"
   },
   {
    "duration": 14,
    "start_time": "2023-06-30T18:31:41.430Z"
   },
   {
    "duration": 8,
    "start_time": "2023-06-30T18:31:41.446Z"
   },
   {
    "duration": 31,
    "start_time": "2023-06-30T18:31:41.456Z"
   },
   {
    "duration": 14,
    "start_time": "2023-06-30T18:31:41.490Z"
   },
   {
    "duration": 23,
    "start_time": "2023-06-30T18:31:41.506Z"
   },
   {
    "duration": 14,
    "start_time": "2023-06-30T18:31:41.530Z"
   },
   {
    "duration": 21,
    "start_time": "2023-06-30T18:31:41.546Z"
   },
   {
    "duration": 36,
    "start_time": "2023-06-30T18:31:41.568Z"
   },
   {
    "duration": 485,
    "start_time": "2023-06-30T18:31:41.607Z"
   },
   {
    "duration": 15,
    "start_time": "2023-06-30T18:31:42.094Z"
   },
   {
    "duration": 10,
    "start_time": "2023-06-30T18:31:42.112Z"
   },
   {
    "duration": 244,
    "start_time": "2023-06-30T18:31:42.123Z"
   },
   {
    "duration": 12,
    "start_time": "2023-06-30T18:31:42.369Z"
   },
   {
    "duration": 293,
    "start_time": "2023-06-30T18:31:42.391Z"
   },
   {
    "duration": 59,
    "start_time": "2023-06-30T18:31:42.690Z"
   },
   {
    "duration": 916,
    "start_time": "2023-06-30T18:32:54.311Z"
   },
   {
    "duration": 54,
    "start_time": "2023-06-30T18:32:55.229Z"
   },
   {
    "duration": 17,
    "start_time": "2023-06-30T18:32:55.285Z"
   },
   {
    "duration": 18,
    "start_time": "2023-06-30T18:32:55.304Z"
   },
   {
    "duration": 9,
    "start_time": "2023-06-30T18:32:55.325Z"
   },
   {
    "duration": 42,
    "start_time": "2023-06-30T18:32:55.336Z"
   },
   {
    "duration": 17,
    "start_time": "2023-06-30T18:32:55.381Z"
   },
   {
    "duration": 19,
    "start_time": "2023-06-30T18:32:55.400Z"
   },
   {
    "duration": 4,
    "start_time": "2023-06-30T18:32:55.421Z"
   },
   {
    "duration": 9,
    "start_time": "2023-06-30T18:32:55.428Z"
   },
   {
    "duration": 24,
    "start_time": "2023-06-30T18:32:55.459Z"
   },
   {
    "duration": 547,
    "start_time": "2023-06-30T18:32:55.491Z"
   },
   {
    "duration": 21,
    "start_time": "2023-06-30T18:32:56.040Z"
   },
   {
    "duration": 30,
    "start_time": "2023-06-30T18:32:56.067Z"
   },
   {
    "duration": 320,
    "start_time": "2023-06-30T18:32:56.101Z"
   },
   {
    "duration": 7,
    "start_time": "2023-06-30T18:32:56.422Z"
   },
   {
    "duration": 313,
    "start_time": "2023-06-30T18:32:56.430Z"
   },
   {
    "duration": 86,
    "start_time": "2023-06-30T18:32:56.746Z"
   },
   {
    "duration": 15,
    "start_time": "2023-06-30T18:33:14.341Z"
   },
   {
    "duration": 892,
    "start_time": "2023-06-30T18:33:23.857Z"
   },
   {
    "duration": 57,
    "start_time": "2023-06-30T18:33:24.751Z"
   },
   {
    "duration": 15,
    "start_time": "2023-06-30T18:33:24.810Z"
   },
   {
    "duration": 11,
    "start_time": "2023-06-30T18:33:24.827Z"
   },
   {
    "duration": 14,
    "start_time": "2023-06-30T18:33:24.840Z"
   },
   {
    "duration": 22,
    "start_time": "2023-06-30T18:33:24.855Z"
   },
   {
    "duration": 13,
    "start_time": "2023-06-30T18:33:24.878Z"
   },
   {
    "duration": 21,
    "start_time": "2023-06-30T18:33:24.894Z"
   },
   {
    "duration": 3,
    "start_time": "2023-06-30T18:33:24.917Z"
   },
   {
    "duration": 14,
    "start_time": "2023-06-30T18:33:24.922Z"
   },
   {
    "duration": 34,
    "start_time": "2023-06-30T18:33:24.937Z"
   },
   {
    "duration": 518,
    "start_time": "2023-06-30T18:33:24.973Z"
   },
   {
    "duration": 13,
    "start_time": "2023-06-30T18:33:25.493Z"
   },
   {
    "duration": 11,
    "start_time": "2023-06-30T18:33:25.508Z"
   },
   {
    "duration": 306,
    "start_time": "2023-06-30T18:33:25.521Z"
   },
   {
    "duration": 6,
    "start_time": "2023-06-30T18:33:25.829Z"
   },
   {
    "duration": 318,
    "start_time": "2023-06-30T18:33:25.836Z"
   },
   {
    "duration": 82,
    "start_time": "2023-06-30T18:33:26.156Z"
   },
   {
    "duration": 849,
    "start_time": "2023-06-30T18:35:46.685Z"
   },
   {
    "duration": 49,
    "start_time": "2023-06-30T18:35:47.536Z"
   },
   {
    "duration": 13,
    "start_time": "2023-06-30T18:35:47.591Z"
   },
   {
    "duration": 12,
    "start_time": "2023-06-30T18:35:47.606Z"
   },
   {
    "duration": 11,
    "start_time": "2023-06-30T18:35:47.620Z"
   },
   {
    "duration": 52,
    "start_time": "2023-06-30T18:35:47.633Z"
   },
   {
    "duration": 14,
    "start_time": "2023-06-30T18:35:47.690Z"
   },
   {
    "duration": 15,
    "start_time": "2023-06-30T18:35:47.706Z"
   },
   {
    "duration": 4,
    "start_time": "2023-06-30T18:35:47.723Z"
   },
   {
    "duration": 15,
    "start_time": "2023-06-30T18:35:47.730Z"
   },
   {
    "duration": 42,
    "start_time": "2023-06-30T18:35:47.747Z"
   },
   {
    "duration": 482,
    "start_time": "2023-06-30T18:35:47.792Z"
   },
   {
    "duration": 14,
    "start_time": "2023-06-30T18:35:48.280Z"
   },
   {
    "duration": 18,
    "start_time": "2023-06-30T18:35:48.296Z"
   },
   {
    "duration": 232,
    "start_time": "2023-06-30T18:35:48.316Z"
   },
   {
    "duration": 34,
    "start_time": "2023-06-30T18:35:48.549Z"
   },
   {
    "duration": 261,
    "start_time": "2023-06-30T18:35:48.586Z"
   },
   {
    "duration": 80,
    "start_time": "2023-06-30T18:35:48.849Z"
   },
   {
    "duration": 7,
    "start_time": "2023-06-30T18:36:21.851Z"
   },
   {
    "duration": 940,
    "start_time": "2023-06-30T18:36:30.525Z"
   },
   {
    "duration": 43,
    "start_time": "2023-06-30T18:36:31.471Z"
   },
   {
    "duration": 17,
    "start_time": "2023-06-30T18:36:31.517Z"
   },
   {
    "duration": 34,
    "start_time": "2023-06-30T18:36:31.536Z"
   },
   {
    "duration": 23,
    "start_time": "2023-06-30T18:36:31.572Z"
   },
   {
    "duration": 31,
    "start_time": "2023-06-30T18:36:31.596Z"
   },
   {
    "duration": 25,
    "start_time": "2023-06-30T18:36:31.629Z"
   },
   {
    "duration": 40,
    "start_time": "2023-06-30T18:36:31.656Z"
   },
   {
    "duration": 12,
    "start_time": "2023-06-30T18:36:31.697Z"
   },
   {
    "duration": 68,
    "start_time": "2023-06-30T18:36:31.711Z"
   },
   {
    "duration": 31,
    "start_time": "2023-06-30T18:36:31.780Z"
   },
   {
    "duration": 522,
    "start_time": "2023-06-30T18:36:31.813Z"
   },
   {
    "duration": 13,
    "start_time": "2023-06-30T18:36:32.337Z"
   },
   {
    "duration": 25,
    "start_time": "2023-06-30T18:36:32.363Z"
   },
   {
    "duration": 259,
    "start_time": "2023-06-30T18:36:32.390Z"
   },
   {
    "duration": 22,
    "start_time": "2023-06-30T18:36:32.651Z"
   },
   {
    "duration": 268,
    "start_time": "2023-06-30T18:36:32.675Z"
   },
   {
    "duration": 95,
    "start_time": "2023-06-30T18:36:32.945Z"
   },
   {
    "duration": 877,
    "start_time": "2023-06-30T18:36:42.994Z"
   },
   {
    "duration": 51,
    "start_time": "2023-06-30T18:36:43.873Z"
   },
   {
    "duration": 14,
    "start_time": "2023-06-30T18:36:43.926Z"
   },
   {
    "duration": 53,
    "start_time": "2023-06-30T18:36:43.942Z"
   },
   {
    "duration": 7,
    "start_time": "2023-06-30T18:36:43.997Z"
   },
   {
    "duration": 15,
    "start_time": "2023-06-30T18:36:44.006Z"
   },
   {
    "duration": 29,
    "start_time": "2023-06-30T18:36:44.023Z"
   },
   {
    "duration": 20,
    "start_time": "2023-06-30T18:36:44.053Z"
   },
   {
    "duration": 6,
    "start_time": "2023-06-30T18:36:44.075Z"
   },
   {
    "duration": 20,
    "start_time": "2023-06-30T18:36:44.089Z"
   },
   {
    "duration": 29,
    "start_time": "2023-06-30T18:36:44.111Z"
   },
   {
    "duration": 560,
    "start_time": "2023-06-30T18:36:44.142Z"
   },
   {
    "duration": 11,
    "start_time": "2023-06-30T18:36:44.704Z"
   },
   {
    "duration": 10,
    "start_time": "2023-06-30T18:36:44.718Z"
   },
   {
    "duration": 261,
    "start_time": "2023-06-30T18:36:44.730Z"
   },
   {
    "duration": 9,
    "start_time": "2023-06-30T18:36:44.992Z"
   },
   {
    "duration": 321,
    "start_time": "2023-06-30T18:36:45.003Z"
   },
   {
    "duration": 92,
    "start_time": "2023-06-30T18:36:45.326Z"
   },
   {
    "duration": 924,
    "start_time": "2023-06-30T18:37:19.230Z"
   },
   {
    "duration": 62,
    "start_time": "2023-06-30T18:37:20.156Z"
   },
   {
    "duration": 14,
    "start_time": "2023-06-30T18:37:20.220Z"
   },
   {
    "duration": 16,
    "start_time": "2023-06-30T18:37:20.235Z"
   },
   {
    "duration": 97,
    "start_time": "2023-06-30T18:37:20.253Z"
   },
   {
    "duration": 0,
    "start_time": "2023-06-30T18:37:20.352Z"
   },
   {
    "duration": 0,
    "start_time": "2023-06-30T18:37:20.353Z"
   },
   {
    "duration": 0,
    "start_time": "2023-06-30T18:37:20.355Z"
   },
   {
    "duration": 0,
    "start_time": "2023-06-30T18:37:20.356Z"
   },
   {
    "duration": 0,
    "start_time": "2023-06-30T18:37:20.357Z"
   },
   {
    "duration": 0,
    "start_time": "2023-06-30T18:37:20.358Z"
   },
   {
    "duration": 0,
    "start_time": "2023-06-30T18:37:20.359Z"
   },
   {
    "duration": 0,
    "start_time": "2023-06-30T18:37:20.360Z"
   },
   {
    "duration": 0,
    "start_time": "2023-06-30T18:37:20.360Z"
   },
   {
    "duration": 0,
    "start_time": "2023-06-30T18:37:20.361Z"
   },
   {
    "duration": 0,
    "start_time": "2023-06-30T18:37:20.362Z"
   },
   {
    "duration": 0,
    "start_time": "2023-06-30T18:37:20.362Z"
   },
   {
    "duration": 0,
    "start_time": "2023-06-30T18:37:20.369Z"
   },
   {
    "duration": 902,
    "start_time": "2023-06-30T19:35:34.339Z"
   },
   {
    "duration": 43,
    "start_time": "2023-06-30T19:35:35.243Z"
   },
   {
    "duration": 14,
    "start_time": "2023-06-30T19:35:35.288Z"
   },
   {
    "duration": 13,
    "start_time": "2023-06-30T19:35:35.304Z"
   },
   {
    "duration": 12,
    "start_time": "2023-06-30T19:35:35.318Z"
   },
   {
    "duration": 39,
    "start_time": "2023-06-30T19:35:35.333Z"
   },
   {
    "duration": 17,
    "start_time": "2023-06-30T19:35:35.375Z"
   },
   {
    "duration": 26,
    "start_time": "2023-06-30T19:35:35.395Z"
   },
   {
    "duration": 4,
    "start_time": "2023-06-30T19:35:35.423Z"
   },
   {
    "duration": 34,
    "start_time": "2023-06-30T19:35:35.431Z"
   },
   {
    "duration": 22,
    "start_time": "2023-06-30T19:35:35.468Z"
   },
   {
    "duration": 471,
    "start_time": "2023-06-30T19:35:35.492Z"
   },
   {
    "duration": 11,
    "start_time": "2023-06-30T19:35:35.964Z"
   },
   {
    "duration": 20,
    "start_time": "2023-06-30T19:35:35.976Z"
   },
   {
    "duration": 243,
    "start_time": "2023-06-30T19:35:35.997Z"
   },
   {
    "duration": 6,
    "start_time": "2023-06-30T19:35:36.241Z"
   },
   {
    "duration": 260,
    "start_time": "2023-06-30T19:35:36.259Z"
   },
   {
    "duration": 79,
    "start_time": "2023-06-30T19:35:36.521Z"
   },
   {
    "duration": 11,
    "start_time": "2023-06-30T19:35:58.194Z"
   },
   {
    "duration": 786,
    "start_time": "2023-06-30T19:36:20.721Z"
   },
   {
    "duration": 40,
    "start_time": "2023-06-30T19:36:21.509Z"
   },
   {
    "duration": 12,
    "start_time": "2023-06-30T19:36:21.550Z"
   },
   {
    "duration": 11,
    "start_time": "2023-06-30T19:36:21.563Z"
   },
   {
    "duration": 12,
    "start_time": "2023-06-30T19:36:21.576Z"
   },
   {
    "duration": 9,
    "start_time": "2023-06-30T19:36:21.589Z"
   },
   {
    "duration": 18,
    "start_time": "2023-06-30T19:36:21.599Z"
   },
   {
    "duration": 47,
    "start_time": "2023-06-30T19:36:21.618Z"
   },
   {
    "duration": 3,
    "start_time": "2023-06-30T19:36:21.666Z"
   },
   {
    "duration": 11,
    "start_time": "2023-06-30T19:36:21.670Z"
   },
   {
    "duration": 15,
    "start_time": "2023-06-30T19:36:21.682Z"
   },
   {
    "duration": 402,
    "start_time": "2023-06-30T19:36:21.698Z"
   },
   {
    "duration": 9,
    "start_time": "2023-06-30T19:36:22.101Z"
   },
   {
    "duration": 9,
    "start_time": "2023-06-30T19:36:22.113Z"
   },
   {
    "duration": 217,
    "start_time": "2023-06-30T19:36:22.124Z"
   },
   {
    "duration": 6,
    "start_time": "2023-06-30T19:36:22.343Z"
   },
   {
    "duration": 228,
    "start_time": "2023-06-30T19:36:22.351Z"
   },
   {
    "duration": 61,
    "start_time": "2023-06-30T19:36:22.581Z"
   },
   {
    "duration": 1208,
    "start_time": "2023-06-30T19:38:04.015Z"
   },
   {
    "duration": 805,
    "start_time": "2023-06-30T19:38:23.403Z"
   },
   {
    "duration": 41,
    "start_time": "2023-06-30T19:38:24.210Z"
   },
   {
    "duration": 12,
    "start_time": "2023-06-30T19:38:24.252Z"
   },
   {
    "duration": 11,
    "start_time": "2023-06-30T19:38:24.266Z"
   },
   {
    "duration": 20,
    "start_time": "2023-06-30T19:38:24.279Z"
   },
   {
    "duration": 6,
    "start_time": "2023-06-30T19:38:24.300Z"
   },
   {
    "duration": 16,
    "start_time": "2023-06-30T19:38:24.309Z"
   },
   {
    "duration": 48,
    "start_time": "2023-06-30T19:38:24.327Z"
   },
   {
    "duration": 6,
    "start_time": "2023-06-30T19:38:24.377Z"
   },
   {
    "duration": 16,
    "start_time": "2023-06-30T19:38:24.385Z"
   },
   {
    "duration": 26,
    "start_time": "2023-06-30T19:38:24.402Z"
   },
   {
    "duration": 489,
    "start_time": "2023-06-30T19:38:24.430Z"
   },
   {
    "duration": 12,
    "start_time": "2023-06-30T19:38:24.920Z"
   },
   {
    "duration": 27,
    "start_time": "2023-06-30T19:38:24.935Z"
   },
   {
    "duration": 225,
    "start_time": "2023-06-30T19:38:24.965Z"
   },
   {
    "duration": 8,
    "start_time": "2023-06-30T19:38:25.192Z"
   },
   {
    "duration": 316,
    "start_time": "2023-06-30T19:38:25.202Z"
   },
   {
    "duration": 63,
    "start_time": "2023-06-30T19:38:25.520Z"
   },
   {
    "duration": 1108,
    "start_time": "2023-07-01T08:46:03.993Z"
   },
   {
    "duration": 133,
    "start_time": "2023-07-01T08:46:05.103Z"
   },
   {
    "duration": 19,
    "start_time": "2023-07-01T08:46:05.237Z"
   },
   {
    "duration": 60,
    "start_time": "2023-07-01T08:46:05.260Z"
   },
   {
    "duration": 75,
    "start_time": "2023-07-01T08:46:05.323Z"
   },
   {
    "duration": 8,
    "start_time": "2023-07-01T08:46:05.400Z"
   },
   {
    "duration": 17,
    "start_time": "2023-07-01T08:46:05.410Z"
   },
   {
    "duration": 14,
    "start_time": "2023-07-01T08:46:05.430Z"
   },
   {
    "duration": 47,
    "start_time": "2023-07-01T08:46:05.446Z"
   },
   {
    "duration": 14,
    "start_time": "2023-07-01T08:46:05.494Z"
   },
   {
    "duration": 18,
    "start_time": "2023-07-01T08:46:05.509Z"
   },
   {
    "duration": 756,
    "start_time": "2023-07-01T08:46:05.529Z"
   },
   {
    "duration": 11,
    "start_time": "2023-07-01T08:46:06.287Z"
   },
   {
    "duration": 14,
    "start_time": "2023-07-01T08:46:06.302Z"
   },
   {
    "duration": 268,
    "start_time": "2023-07-01T08:46:06.318Z"
   },
   {
    "duration": 8,
    "start_time": "2023-07-01T08:46:06.588Z"
   },
   {
    "duration": 291,
    "start_time": "2023-07-01T08:46:06.597Z"
   },
   {
    "duration": 253,
    "start_time": "2023-07-01T08:46:06.891Z"
   },
   {
    "duration": 1022,
    "start_time": "2023-07-01T09:31:40.218Z"
   },
   {
    "duration": 64,
    "start_time": "2023-07-01T09:31:41.242Z"
   },
   {
    "duration": 23,
    "start_time": "2023-07-01T09:31:41.308Z"
   },
   {
    "duration": 30,
    "start_time": "2023-07-01T09:31:41.333Z"
   },
   {
    "duration": 45,
    "start_time": "2023-07-01T09:31:41.372Z"
   },
   {
    "duration": 172,
    "start_time": "2023-07-01T09:31:41.420Z"
   },
   {
    "duration": 0,
    "start_time": "2023-07-01T09:31:41.594Z"
   },
   {
    "duration": 0,
    "start_time": "2023-07-01T09:31:41.597Z"
   },
   {
    "duration": 0,
    "start_time": "2023-07-01T09:31:41.598Z"
   },
   {
    "duration": 0,
    "start_time": "2023-07-01T09:31:41.599Z"
   },
   {
    "duration": 0,
    "start_time": "2023-07-01T09:31:41.601Z"
   },
   {
    "duration": 0,
    "start_time": "2023-07-01T09:31:41.602Z"
   },
   {
    "duration": 0,
    "start_time": "2023-07-01T09:31:41.604Z"
   },
   {
    "duration": 0,
    "start_time": "2023-07-01T09:31:41.605Z"
   },
   {
    "duration": 0,
    "start_time": "2023-07-01T09:31:41.606Z"
   },
   {
    "duration": 0,
    "start_time": "2023-07-01T09:31:41.607Z"
   },
   {
    "duration": 0,
    "start_time": "2023-07-01T09:31:41.608Z"
   },
   {
    "duration": 0,
    "start_time": "2023-07-01T09:31:41.608Z"
   },
   {
    "duration": 0,
    "start_time": "2023-07-01T09:31:41.609Z"
   },
   {
    "duration": 10,
    "start_time": "2023-07-01T09:32:55.605Z"
   },
   {
    "duration": 17,
    "start_time": "2023-07-01T09:33:55.775Z"
   },
   {
    "duration": 23,
    "start_time": "2023-07-01T09:33:58.771Z"
   },
   {
    "duration": 3,
    "start_time": "2023-07-01T09:34:14.030Z"
   },
   {
    "duration": 933,
    "start_time": "2023-07-01T12:50:03.962Z"
   },
   {
    "duration": 161,
    "start_time": "2023-07-01T12:50:04.897Z"
   },
   {
    "duration": 13,
    "start_time": "2023-07-01T12:50:05.060Z"
   },
   {
    "duration": 32,
    "start_time": "2023-07-01T12:50:05.075Z"
   },
   {
    "duration": 45,
    "start_time": "2023-07-01T12:50:05.117Z"
   },
   {
    "duration": 18,
    "start_time": "2023-07-01T12:50:05.164Z"
   },
   {
    "duration": 34,
    "start_time": "2023-07-01T12:50:05.185Z"
   },
   {
    "duration": 36,
    "start_time": "2023-07-01T12:50:05.222Z"
   },
   {
    "duration": 32,
    "start_time": "2023-07-01T12:50:05.260Z"
   },
   {
    "duration": 73,
    "start_time": "2023-07-01T12:50:05.295Z"
   },
   {
    "duration": 799,
    "start_time": "2023-07-01T12:50:05.370Z"
   },
   {
    "duration": 11,
    "start_time": "2023-07-01T12:50:06.171Z"
   },
   {
    "duration": 34,
    "start_time": "2023-07-01T12:50:06.183Z"
   },
   {
    "duration": 296,
    "start_time": "2023-07-01T12:50:06.218Z"
   },
   {
    "duration": 7,
    "start_time": "2023-07-01T12:50:06.515Z"
   },
   {
    "duration": 331,
    "start_time": "2023-07-01T12:50:06.524Z"
   },
   {
    "duration": 104,
    "start_time": "2023-07-01T12:50:06.857Z"
   },
   {
    "duration": 1988,
    "start_time": "2023-07-01T12:55:33.083Z"
   },
   {
    "duration": 871,
    "start_time": "2023-07-01T12:55:44.662Z"
   },
   {
    "duration": 49,
    "start_time": "2023-07-01T12:55:45.535Z"
   },
   {
    "duration": 14,
    "start_time": "2023-07-01T12:55:45.586Z"
   },
   {
    "duration": 54,
    "start_time": "2023-07-01T12:55:45.603Z"
   },
   {
    "duration": 12,
    "start_time": "2023-07-01T12:55:45.659Z"
   },
   {
    "duration": 23,
    "start_time": "2023-07-01T12:55:45.673Z"
   },
   {
    "duration": 45,
    "start_time": "2023-07-01T12:55:45.698Z"
   },
   {
    "duration": 17,
    "start_time": "2023-07-01T12:55:45.746Z"
   },
   {
    "duration": 6,
    "start_time": "2023-07-01T12:55:45.765Z"
   },
   {
    "duration": 10,
    "start_time": "2023-07-01T12:55:45.773Z"
   },
   {
    "duration": 28,
    "start_time": "2023-07-01T12:55:45.785Z"
   },
   {
    "duration": 594,
    "start_time": "2023-07-01T12:55:45.815Z"
   },
   {
    "duration": 19,
    "start_time": "2023-07-01T12:55:46.410Z"
   },
   {
    "duration": 34,
    "start_time": "2023-07-01T12:55:46.431Z"
   },
   {
    "duration": 276,
    "start_time": "2023-07-01T12:55:46.467Z"
   },
   {
    "duration": 11,
    "start_time": "2023-07-01T12:55:46.746Z"
   },
   {
    "duration": 303,
    "start_time": "2023-07-01T12:55:46.759Z"
   },
   {
    "duration": 203,
    "start_time": "2023-07-01T12:55:47.063Z"
   },
   {
    "duration": 2094,
    "start_time": "2023-07-01T12:56:27.034Z"
   },
   {
    "duration": 1018,
    "start_time": "2023-07-01T12:56:33.998Z"
   },
   {
    "duration": 62,
    "start_time": "2023-07-01T12:56:35.022Z"
   },
   {
    "duration": 20,
    "start_time": "2023-07-01T12:56:35.087Z"
   },
   {
    "duration": 60,
    "start_time": "2023-07-01T12:56:35.108Z"
   },
   {
    "duration": 36,
    "start_time": "2023-07-01T12:56:35.172Z"
   },
   {
    "duration": 55,
    "start_time": "2023-07-01T12:56:35.230Z"
   },
   {
    "duration": 37,
    "start_time": "2023-07-01T12:56:35.287Z"
   },
   {
    "duration": 29,
    "start_time": "2023-07-01T12:56:35.326Z"
   },
   {
    "duration": 16,
    "start_time": "2023-07-01T12:56:35.356Z"
   },
   {
    "duration": 16,
    "start_time": "2023-07-01T12:56:35.373Z"
   },
   {
    "duration": 65,
    "start_time": "2023-07-01T12:56:35.391Z"
   },
   {
    "duration": 560,
    "start_time": "2023-07-01T12:56:35.458Z"
   },
   {
    "duration": 16,
    "start_time": "2023-07-01T12:56:36.020Z"
   },
   {
    "duration": 33,
    "start_time": "2023-07-01T12:56:36.039Z"
   },
   {
    "duration": 280,
    "start_time": "2023-07-01T12:56:36.074Z"
   },
   {
    "duration": 8,
    "start_time": "2023-07-01T12:56:36.358Z"
   },
   {
    "duration": 346,
    "start_time": "2023-07-01T12:56:36.369Z"
   },
   {
    "duration": 110,
    "start_time": "2023-07-01T12:56:36.717Z"
   },
   {
    "duration": 2118,
    "start_time": "2023-07-01T12:58:04.859Z"
   },
   {
    "duration": 984,
    "start_time": "2023-07-01T12:58:11.797Z"
   },
   {
    "duration": 74,
    "start_time": "2023-07-01T12:58:12.783Z"
   },
   {
    "duration": 18,
    "start_time": "2023-07-01T12:58:12.858Z"
   },
   {
    "duration": 16,
    "start_time": "2023-07-01T12:58:12.877Z"
   },
   {
    "duration": 24,
    "start_time": "2023-07-01T12:58:12.895Z"
   },
   {
    "duration": 49,
    "start_time": "2023-07-01T12:58:12.930Z"
   },
   {
    "duration": 10,
    "start_time": "2023-07-01T12:58:12.982Z"
   },
   {
    "duration": 67,
    "start_time": "2023-07-01T12:58:12.994Z"
   },
   {
    "duration": 15,
    "start_time": "2023-07-01T12:58:13.063Z"
   },
   {
    "duration": 18,
    "start_time": "2023-07-01T12:58:13.079Z"
   },
   {
    "duration": 783,
    "start_time": "2023-07-01T12:58:13.099Z"
   },
   {
    "duration": 13,
    "start_time": "2023-07-01T12:58:13.884Z"
   },
   {
    "duration": 88,
    "start_time": "2023-07-01T12:58:13.899Z"
   },
   {
    "duration": 329,
    "start_time": "2023-07-01T12:58:13.992Z"
   },
   {
    "duration": 9,
    "start_time": "2023-07-01T12:58:14.323Z"
   },
   {
    "duration": 404,
    "start_time": "2023-07-01T12:58:14.334Z"
   },
   {
    "duration": 133,
    "start_time": "2023-07-01T12:58:14.739Z"
   },
   {
    "duration": 174,
    "start_time": "2023-07-01T13:04:10.964Z"
   },
   {
    "duration": 10,
    "start_time": "2023-07-01T13:04:56.027Z"
   },
   {
    "duration": 15,
    "start_time": "2023-07-01T13:05:02.591Z"
   },
   {
    "duration": 13,
    "start_time": "2023-07-01T13:22:49.589Z"
   },
   {
    "duration": 9,
    "start_time": "2023-07-01T13:22:52.628Z"
   },
   {
    "duration": 10,
    "start_time": "2023-07-01T13:30:22.288Z"
   },
   {
    "duration": 16,
    "start_time": "2023-07-01T13:31:55.220Z"
   },
   {
    "duration": 13,
    "start_time": "2023-07-01T13:32:15.249Z"
   },
   {
    "duration": 15,
    "start_time": "2023-07-01T13:32:51.400Z"
   },
   {
    "duration": 10,
    "start_time": "2023-07-01T13:48:52.620Z"
   },
   {
    "duration": 3,
    "start_time": "2023-07-01T13:50:23.118Z"
   },
   {
    "duration": 4,
    "start_time": "2023-07-01T13:50:35.452Z"
   },
   {
    "duration": 10,
    "start_time": "2023-07-01T13:50:46.733Z"
   },
   {
    "duration": 12,
    "start_time": "2023-07-01T13:51:05.144Z"
   },
   {
    "duration": 8,
    "start_time": "2023-07-01T13:51:16.064Z"
   },
   {
    "duration": 8,
    "start_time": "2023-07-01T13:51:21.645Z"
   },
   {
    "duration": 13,
    "start_time": "2023-07-01T13:51:26.024Z"
   },
   {
    "duration": 11,
    "start_time": "2023-07-01T13:51:34.152Z"
   },
   {
    "duration": 11,
    "start_time": "2023-07-01T13:52:17.946Z"
   },
   {
    "duration": 13,
    "start_time": "2023-07-01T13:52:23.125Z"
   },
   {
    "duration": 5,
    "start_time": "2023-07-01T13:52:50.223Z"
   },
   {
    "duration": 5,
    "start_time": "2023-07-01T13:53:25.183Z"
   },
   {
    "duration": 12,
    "start_time": "2023-07-01T13:53:42.722Z"
   },
   {
    "duration": 892,
    "start_time": "2023-07-01T13:54:05.774Z"
   },
   {
    "duration": 50,
    "start_time": "2023-07-01T13:54:06.668Z"
   },
   {
    "duration": 14,
    "start_time": "2023-07-01T13:54:06.720Z"
   },
   {
    "duration": 12,
    "start_time": "2023-07-01T13:54:06.736Z"
   },
   {
    "duration": 11,
    "start_time": "2023-07-01T13:54:06.750Z"
   },
   {
    "duration": 12,
    "start_time": "2023-07-01T13:54:06.762Z"
   },
   {
    "duration": 38,
    "start_time": "2023-07-01T13:54:06.776Z"
   },
   {
    "duration": 5,
    "start_time": "2023-07-01T13:54:06.817Z"
   },
   {
    "duration": 14,
    "start_time": "2023-07-01T13:54:06.823Z"
   },
   {
    "duration": 15,
    "start_time": "2023-07-01T13:54:06.839Z"
   },
   {
    "duration": 526,
    "start_time": "2023-07-01T13:54:06.856Z"
   },
   {
    "duration": 11,
    "start_time": "2023-07-01T13:54:07.384Z"
   },
   {
    "duration": 15,
    "start_time": "2023-07-01T13:54:07.404Z"
   },
   {
    "duration": 244,
    "start_time": "2023-07-01T13:54:07.422Z"
   },
   {
    "duration": 6,
    "start_time": "2023-07-01T13:54:07.668Z"
   },
   {
    "duration": 273,
    "start_time": "2023-07-01T13:54:07.675Z"
   },
   {
    "duration": 10,
    "start_time": "2023-07-01T13:54:07.949Z"
   },
   {
    "duration": 10,
    "start_time": "2023-07-01T13:54:07.961Z"
   },
   {
    "duration": 132,
    "start_time": "2023-07-01T13:54:07.973Z"
   },
   {
    "duration": 0,
    "start_time": "2023-07-01T13:54:08.107Z"
   },
   {
    "duration": 0,
    "start_time": "2023-07-01T13:54:08.108Z"
   },
   {
    "duration": 6,
    "start_time": "2023-07-01T14:41:30.219Z"
   },
   {
    "duration": 18,
    "start_time": "2023-07-01T14:41:31.226Z"
   },
   {
    "duration": 10,
    "start_time": "2023-07-01T14:42:08.162Z"
   },
   {
    "duration": 11,
    "start_time": "2023-07-01T14:42:16.802Z"
   },
   {
    "duration": 5,
    "start_time": "2023-07-01T14:42:21.262Z"
   },
   {
    "duration": 6,
    "start_time": "2023-07-01T14:42:34.015Z"
   },
   {
    "duration": 49,
    "start_time": "2023-07-01T14:42:50.742Z"
   },
   {
    "duration": 1100,
    "start_time": "2023-07-01T16:33:18.917Z"
   },
   {
    "duration": 47,
    "start_time": "2023-07-01T16:33:20.019Z"
   },
   {
    "duration": 20,
    "start_time": "2023-07-01T16:33:20.068Z"
   },
   {
    "duration": 32,
    "start_time": "2023-07-01T16:33:20.090Z"
   },
   {
    "duration": 63,
    "start_time": "2023-07-01T16:33:20.136Z"
   },
   {
    "duration": 16,
    "start_time": "2023-07-01T16:33:20.201Z"
   },
   {
    "duration": 14,
    "start_time": "2023-07-01T16:33:20.220Z"
   },
   {
    "duration": 6,
    "start_time": "2023-07-01T16:33:20.236Z"
   },
   {
    "duration": 17,
    "start_time": "2023-07-01T16:33:20.244Z"
   },
   {
    "duration": 47,
    "start_time": "2023-07-01T16:33:20.264Z"
   },
   {
    "duration": 622,
    "start_time": "2023-07-01T16:33:20.314Z"
   },
   {
    "duration": 18,
    "start_time": "2023-07-01T16:33:20.939Z"
   },
   {
    "duration": 18,
    "start_time": "2023-07-01T16:33:20.960Z"
   },
   {
    "duration": 289,
    "start_time": "2023-07-01T16:33:20.983Z"
   },
   {
    "duration": 12,
    "start_time": "2023-07-01T16:33:21.274Z"
   },
   {
    "duration": 380,
    "start_time": "2023-07-01T16:33:21.288Z"
   },
   {
    "duration": 12,
    "start_time": "2023-07-01T16:33:21.671Z"
   },
   {
    "duration": 22,
    "start_time": "2023-07-01T16:33:21.685Z"
   },
   {
    "duration": 192,
    "start_time": "2023-07-01T16:33:21.710Z"
   },
   {
    "duration": 0,
    "start_time": "2023-07-01T16:33:21.905Z"
   },
   {
    "duration": 0,
    "start_time": "2023-07-01T16:33:21.907Z"
   },
   {
    "duration": 0,
    "start_time": "2023-07-01T16:33:21.909Z"
   },
   {
    "duration": 0,
    "start_time": "2023-07-01T16:33:21.910Z"
   },
   {
    "duration": 9,
    "start_time": "2023-07-01T16:34:08.736Z"
   },
   {
    "duration": 10,
    "start_time": "2023-07-01T16:34:10.386Z"
   },
   {
    "duration": 19,
    "start_time": "2023-07-01T16:34:15.992Z"
   },
   {
    "duration": 9,
    "start_time": "2023-07-01T16:34:19.691Z"
   },
   {
    "duration": 10,
    "start_time": "2023-07-01T16:34:21.079Z"
   },
   {
    "duration": 11,
    "start_time": "2023-07-01T16:34:50.855Z"
   },
   {
    "duration": 80,
    "start_time": "2023-07-01T16:37:23.720Z"
   },
   {
    "duration": 3,
    "start_time": "2023-07-01T16:37:39.393Z"
   },
   {
    "duration": 249,
    "start_time": "2023-07-01T16:37:48.601Z"
   },
   {
    "duration": 7,
    "start_time": "2023-07-01T16:38:02.500Z"
   },
   {
    "duration": 200,
    "start_time": "2023-07-01T16:40:03.109Z"
   },
   {
    "duration": 139,
    "start_time": "2023-07-01T16:44:05.464Z"
   },
   {
    "duration": 1193,
    "start_time": "2023-07-01T16:46:09.652Z"
   },
   {
    "duration": 47,
    "start_time": "2023-07-01T16:46:10.847Z"
   },
   {
    "duration": 12,
    "start_time": "2023-07-01T16:46:10.896Z"
   },
   {
    "duration": 15,
    "start_time": "2023-07-01T16:46:10.910Z"
   },
   {
    "duration": 13,
    "start_time": "2023-07-01T16:46:10.927Z"
   },
   {
    "duration": 12,
    "start_time": "2023-07-01T16:46:10.942Z"
   },
   {
    "duration": 10,
    "start_time": "2023-07-01T16:46:10.956Z"
   },
   {
    "duration": 34,
    "start_time": "2023-07-01T16:46:10.968Z"
   },
   {
    "duration": 8,
    "start_time": "2023-07-01T16:46:11.004Z"
   },
   {
    "duration": 20,
    "start_time": "2023-07-01T16:46:11.014Z"
   },
   {
    "duration": 241,
    "start_time": "2023-07-01T16:46:11.036Z"
   },
   {
    "duration": 9,
    "start_time": "2023-07-01T16:46:11.279Z"
   },
   {
    "duration": 9,
    "start_time": "2023-07-01T16:46:11.303Z"
   },
   {
    "duration": 243,
    "start_time": "2023-07-01T16:46:11.315Z"
   },
   {
    "duration": 7,
    "start_time": "2023-07-01T16:46:11.559Z"
   },
   {
    "duration": 259,
    "start_time": "2023-07-01T16:46:11.567Z"
   },
   {
    "duration": 9,
    "start_time": "2023-07-01T16:46:11.827Z"
   },
   {
    "duration": 19,
    "start_time": "2023-07-01T16:46:11.837Z"
   },
   {
    "duration": 117,
    "start_time": "2023-07-01T16:46:11.858Z"
   },
   {
    "duration": 0,
    "start_time": "2023-07-01T16:46:11.977Z"
   },
   {
    "duration": 0,
    "start_time": "2023-07-01T16:46:11.978Z"
   },
   {
    "duration": 0,
    "start_time": "2023-07-01T16:46:11.980Z"
   },
   {
    "duration": 0,
    "start_time": "2023-07-01T16:46:11.982Z"
   },
   {
    "duration": 0,
    "start_time": "2023-07-01T16:46:11.983Z"
   },
   {
    "duration": 7,
    "start_time": "2023-07-01T16:46:23.471Z"
   },
   {
    "duration": 13,
    "start_time": "2023-07-01T16:46:24.330Z"
   },
   {
    "duration": 6,
    "start_time": "2023-07-01T16:46:27.051Z"
   },
   {
    "duration": 8,
    "start_time": "2023-07-01T16:46:28.231Z"
   },
   {
    "duration": 133,
    "start_time": "2023-07-01T16:46:29.550Z"
   },
   {
    "duration": 156,
    "start_time": "2023-07-01T16:46:41.178Z"
   },
   {
    "duration": 151,
    "start_time": "2023-07-01T16:47:09.130Z"
   },
   {
    "duration": 165,
    "start_time": "2023-07-01T16:47:14.052Z"
   },
   {
    "duration": 301,
    "start_time": "2023-07-01T16:47:26.971Z"
   },
   {
    "duration": 725,
    "start_time": "2023-07-01T16:51:00.408Z"
   },
   {
    "duration": 8,
    "start_time": "2023-07-01T16:52:28.752Z"
   },
   {
    "duration": 1208,
    "start_time": "2023-07-01T16:52:43.220Z"
   },
   {
    "duration": 49,
    "start_time": "2023-07-01T16:52:44.431Z"
   },
   {
    "duration": 15,
    "start_time": "2023-07-01T16:52:44.483Z"
   },
   {
    "duration": 18,
    "start_time": "2023-07-01T16:52:44.501Z"
   },
   {
    "duration": 17,
    "start_time": "2023-07-01T16:52:44.521Z"
   },
   {
    "duration": 16,
    "start_time": "2023-07-01T16:52:44.540Z"
   },
   {
    "duration": 44,
    "start_time": "2023-07-01T16:52:44.558Z"
   },
   {
    "duration": 4,
    "start_time": "2023-07-01T16:52:44.605Z"
   },
   {
    "duration": 12,
    "start_time": "2023-07-01T16:52:44.611Z"
   },
   {
    "duration": 20,
    "start_time": "2023-07-01T16:52:44.627Z"
   },
   {
    "duration": 232,
    "start_time": "2023-07-01T16:52:44.649Z"
   },
   {
    "duration": 18,
    "start_time": "2023-07-01T16:52:44.884Z"
   },
   {
    "duration": 1403,
    "start_time": "2023-07-01T16:52:44.904Z"
   },
   {
    "duration": 0,
    "start_time": "2023-07-01T16:52:46.310Z"
   },
   {
    "duration": 0,
    "start_time": "2023-07-01T16:52:46.311Z"
   },
   {
    "duration": 0,
    "start_time": "2023-07-01T16:52:46.312Z"
   },
   {
    "duration": 0,
    "start_time": "2023-07-01T16:52:46.314Z"
   },
   {
    "duration": 0,
    "start_time": "2023-07-01T16:52:46.315Z"
   },
   {
    "duration": 0,
    "start_time": "2023-07-01T16:52:46.317Z"
   },
   {
    "duration": 0,
    "start_time": "2023-07-01T16:52:46.319Z"
   },
   {
    "duration": 0,
    "start_time": "2023-07-01T16:52:46.320Z"
   },
   {
    "duration": 0,
    "start_time": "2023-07-01T16:52:46.321Z"
   },
   {
    "duration": 0,
    "start_time": "2023-07-01T16:52:46.323Z"
   },
   {
    "duration": 0,
    "start_time": "2023-07-01T16:52:46.324Z"
   },
   {
    "duration": 1109,
    "start_time": "2023-07-01T17:19:03.737Z"
   },
   {
    "duration": 44,
    "start_time": "2023-07-01T17:19:04.848Z"
   },
   {
    "duration": 10,
    "start_time": "2023-07-01T17:19:04.894Z"
   },
   {
    "duration": 13,
    "start_time": "2023-07-01T17:19:04.905Z"
   },
   {
    "duration": 11,
    "start_time": "2023-07-01T17:19:04.920Z"
   },
   {
    "duration": 11,
    "start_time": "2023-07-01T17:19:04.932Z"
   },
   {
    "duration": 7,
    "start_time": "2023-07-01T17:19:04.944Z"
   },
   {
    "duration": 4,
    "start_time": "2023-07-01T17:19:04.953Z"
   },
   {
    "duration": 9,
    "start_time": "2023-07-01T17:19:04.958Z"
   },
   {
    "duration": 44,
    "start_time": "2023-07-01T17:19:04.969Z"
   },
   {
    "duration": 214,
    "start_time": "2023-07-01T17:19:05.015Z"
   },
   {
    "duration": 9,
    "start_time": "2023-07-01T17:19:05.230Z"
   },
   {
    "duration": 23,
    "start_time": "2023-07-01T17:19:05.241Z"
   },
   {
    "duration": 245,
    "start_time": "2023-07-01T17:19:05.267Z"
   },
   {
    "duration": 6,
    "start_time": "2023-07-01T17:19:05.513Z"
   },
   {
    "duration": 229,
    "start_time": "2023-07-01T17:19:05.521Z"
   },
   {
    "duration": 8,
    "start_time": "2023-07-01T17:19:05.752Z"
   },
   {
    "duration": 12,
    "start_time": "2023-07-01T17:19:05.762Z"
   },
   {
    "duration": 27,
    "start_time": "2023-07-01T17:19:05.776Z"
   },
   {
    "duration": 16,
    "start_time": "2023-07-01T17:19:05.805Z"
   },
   {
    "duration": 9,
    "start_time": "2023-07-01T17:19:05.823Z"
   },
   {
    "duration": 9,
    "start_time": "2023-07-01T17:19:05.834Z"
   },
   {
    "duration": 587,
    "start_time": "2023-07-01T17:19:05.845Z"
   },
   {
    "duration": 232,
    "start_time": "2023-07-01T17:19:06.434Z"
   },
   {
    "duration": 1237,
    "start_time": "2023-07-01T17:19:56.577Z"
   },
   {
    "duration": 45,
    "start_time": "2023-07-01T17:19:57.817Z"
   },
   {
    "duration": 11,
    "start_time": "2023-07-01T17:19:57.864Z"
   },
   {
    "duration": 12,
    "start_time": "2023-07-01T17:19:57.876Z"
   },
   {
    "duration": 12,
    "start_time": "2023-07-01T17:19:57.890Z"
   },
   {
    "duration": 12,
    "start_time": "2023-07-01T17:19:57.904Z"
   },
   {
    "duration": 9,
    "start_time": "2023-07-01T17:19:57.917Z"
   },
   {
    "duration": 5,
    "start_time": "2023-07-01T17:19:57.927Z"
   },
   {
    "duration": 9,
    "start_time": "2023-07-01T17:19:57.933Z"
   },
   {
    "duration": 14,
    "start_time": "2023-07-01T17:19:57.943Z"
   },
   {
    "duration": 235,
    "start_time": "2023-07-01T17:19:57.959Z"
   },
   {
    "duration": 14,
    "start_time": "2023-07-01T17:19:58.195Z"
   },
   {
    "duration": 20,
    "start_time": "2023-07-01T17:19:58.211Z"
   },
   {
    "duration": 209,
    "start_time": "2023-07-01T17:19:58.233Z"
   },
   {
    "duration": 6,
    "start_time": "2023-07-01T17:19:58.443Z"
   },
   {
    "duration": 219,
    "start_time": "2023-07-01T17:19:58.450Z"
   },
   {
    "duration": 9,
    "start_time": "2023-07-01T17:19:58.671Z"
   },
   {
    "duration": 22,
    "start_time": "2023-07-01T17:19:58.682Z"
   },
   {
    "duration": 22,
    "start_time": "2023-07-01T17:19:58.706Z"
   },
   {
    "duration": 24,
    "start_time": "2023-07-01T17:19:58.730Z"
   },
   {
    "duration": 9,
    "start_time": "2023-07-01T17:19:58.755Z"
   },
   {
    "duration": 19,
    "start_time": "2023-07-01T17:19:58.766Z"
   },
   {
    "duration": 570,
    "start_time": "2023-07-01T17:19:58.787Z"
   },
   {
    "duration": 226,
    "start_time": "2023-07-01T17:19:59.359Z"
   },
   {
    "duration": 218,
    "start_time": "2023-07-01T17:20:35.664Z"
   },
   {
    "duration": 172,
    "start_time": "2023-07-01T17:21:42.928Z"
   },
   {
    "duration": 755,
    "start_time": "2023-07-01T17:22:36.210Z"
   },
   {
    "duration": 1132,
    "start_time": "2023-07-01T17:24:30.585Z"
   },
   {
    "duration": 45,
    "start_time": "2023-07-01T17:24:31.719Z"
   },
   {
    "duration": 12,
    "start_time": "2023-07-01T17:24:31.766Z"
   },
   {
    "duration": 18,
    "start_time": "2023-07-01T17:24:31.779Z"
   },
   {
    "duration": 18,
    "start_time": "2023-07-01T17:24:31.800Z"
   },
   {
    "duration": 14,
    "start_time": "2023-07-01T17:24:31.819Z"
   },
   {
    "duration": 19,
    "start_time": "2023-07-01T17:24:31.835Z"
   },
   {
    "duration": 5,
    "start_time": "2023-07-01T17:24:31.856Z"
   },
   {
    "duration": 36,
    "start_time": "2023-07-01T17:24:31.863Z"
   },
   {
    "duration": 18,
    "start_time": "2023-07-01T17:24:31.900Z"
   },
   {
    "duration": 207,
    "start_time": "2023-07-01T17:24:31.920Z"
   },
   {
    "duration": 9,
    "start_time": "2023-07-01T17:24:32.129Z"
   },
   {
    "duration": 46,
    "start_time": "2023-07-01T17:24:32.140Z"
   },
   {
    "duration": 157,
    "start_time": "2023-07-01T17:24:32.189Z"
   },
   {
    "duration": 6,
    "start_time": "2023-07-01T17:24:32.348Z"
   },
   {
    "duration": 206,
    "start_time": "2023-07-01T17:24:32.356Z"
   },
   {
    "duration": 8,
    "start_time": "2023-07-01T17:24:32.564Z"
   },
   {
    "duration": 27,
    "start_time": "2023-07-01T17:24:32.574Z"
   },
   {
    "duration": 28,
    "start_time": "2023-07-01T17:24:32.603Z"
   },
   {
    "duration": 16,
    "start_time": "2023-07-01T17:24:32.632Z"
   },
   {
    "duration": 44,
    "start_time": "2023-07-01T17:24:32.649Z"
   },
   {
    "duration": 119,
    "start_time": "2023-07-01T17:24:32.695Z"
   },
   {
    "duration": 0,
    "start_time": "2023-07-01T17:24:32.815Z"
   },
   {
    "duration": 0,
    "start_time": "2023-07-01T17:24:32.817Z"
   },
   {
    "duration": 1171,
    "start_time": "2023-07-01T17:25:10.744Z"
   },
   {
    "duration": 45,
    "start_time": "2023-07-01T17:25:11.917Z"
   },
   {
    "duration": 12,
    "start_time": "2023-07-01T17:25:11.964Z"
   },
   {
    "duration": 13,
    "start_time": "2023-07-01T17:25:11.979Z"
   },
   {
    "duration": 13,
    "start_time": "2023-07-01T17:25:11.994Z"
   },
   {
    "duration": 16,
    "start_time": "2023-07-01T17:25:12.009Z"
   },
   {
    "duration": 11,
    "start_time": "2023-07-01T17:25:12.027Z"
   },
   {
    "duration": 5,
    "start_time": "2023-07-01T17:25:12.040Z"
   },
   {
    "duration": 12,
    "start_time": "2023-07-01T17:25:12.047Z"
   },
   {
    "duration": 42,
    "start_time": "2023-07-01T17:25:12.063Z"
   },
   {
    "duration": 219,
    "start_time": "2023-07-01T17:25:12.107Z"
   },
   {
    "duration": 9,
    "start_time": "2023-07-01T17:25:12.327Z"
   },
   {
    "duration": 17,
    "start_time": "2023-07-01T17:25:12.338Z"
   },
   {
    "duration": 181,
    "start_time": "2023-07-01T17:25:12.357Z"
   },
   {
    "duration": 5,
    "start_time": "2023-07-01T17:25:12.540Z"
   },
   {
    "duration": 178,
    "start_time": "2023-07-01T17:25:12.547Z"
   },
   {
    "duration": 9,
    "start_time": "2023-07-01T17:25:12.727Z"
   },
   {
    "duration": 11,
    "start_time": "2023-07-01T17:25:12.737Z"
   },
   {
    "duration": 11,
    "start_time": "2023-07-01T17:25:12.750Z"
   },
   {
    "duration": 17,
    "start_time": "2023-07-01T17:25:12.762Z"
   },
   {
    "duration": 26,
    "start_time": "2023-07-01T17:25:12.781Z"
   },
   {
    "duration": 8,
    "start_time": "2023-07-01T17:25:12.809Z"
   },
   {
    "duration": 492,
    "start_time": "2023-07-01T17:25:12.819Z"
   },
   {
    "duration": 165,
    "start_time": "2023-07-01T17:25:13.312Z"
   },
   {
    "duration": 1188,
    "start_time": "2023-07-01T17:26:58.778Z"
   },
   {
    "duration": 45,
    "start_time": "2023-07-01T17:26:59.968Z"
   },
   {
    "duration": 11,
    "start_time": "2023-07-01T17:27:00.015Z"
   },
   {
    "duration": 51,
    "start_time": "2023-07-01T17:27:00.027Z"
   },
   {
    "duration": 37,
    "start_time": "2023-07-01T17:27:00.082Z"
   },
   {
    "duration": 32,
    "start_time": "2023-07-01T17:27:00.122Z"
   },
   {
    "duration": 28,
    "start_time": "2023-07-01T17:27:00.156Z"
   },
   {
    "duration": 32,
    "start_time": "2023-07-01T17:27:00.186Z"
   },
   {
    "duration": 34,
    "start_time": "2023-07-01T17:27:00.220Z"
   },
   {
    "duration": 47,
    "start_time": "2023-07-01T17:27:00.255Z"
   },
   {
    "duration": 285,
    "start_time": "2023-07-01T17:27:00.304Z"
   },
   {
    "duration": 22,
    "start_time": "2023-07-01T17:27:00.591Z"
   },
   {
    "duration": 57,
    "start_time": "2023-07-01T17:27:00.615Z"
   },
   {
    "duration": 238,
    "start_time": "2023-07-01T17:27:00.675Z"
   },
   {
    "duration": 7,
    "start_time": "2023-07-01T17:27:00.915Z"
   },
   {
    "duration": 282,
    "start_time": "2023-07-01T17:27:00.925Z"
   },
   {
    "duration": 11,
    "start_time": "2023-07-01T17:27:01.209Z"
   },
   {
    "duration": 34,
    "start_time": "2023-07-01T17:27:01.222Z"
   },
   {
    "duration": 32,
    "start_time": "2023-07-01T17:27:01.258Z"
   },
   {
    "duration": 42,
    "start_time": "2023-07-01T17:27:01.292Z"
   },
   {
    "duration": 35,
    "start_time": "2023-07-01T17:27:01.336Z"
   },
   {
    "duration": 46,
    "start_time": "2023-07-01T17:27:01.373Z"
   },
   {
    "duration": 642,
    "start_time": "2023-07-01T17:27:01.421Z"
   },
   {
    "duration": 186,
    "start_time": "2023-07-01T17:27:02.065Z"
   },
   {
    "duration": 12,
    "start_time": "2023-07-01T17:27:27.811Z"
   },
   {
    "duration": 1082,
    "start_time": "2023-07-01T17:27:33.822Z"
   },
   {
    "duration": 44,
    "start_time": "2023-07-01T17:27:34.906Z"
   },
   {
    "duration": 10,
    "start_time": "2023-07-01T17:27:34.952Z"
   },
   {
    "duration": 13,
    "start_time": "2023-07-01T17:27:34.964Z"
   },
   {
    "duration": 12,
    "start_time": "2023-07-01T17:27:34.978Z"
   },
   {
    "duration": 18,
    "start_time": "2023-07-01T17:27:34.992Z"
   },
   {
    "duration": 8,
    "start_time": "2023-07-01T17:27:35.011Z"
   },
   {
    "duration": 5,
    "start_time": "2023-07-01T17:27:35.021Z"
   },
   {
    "duration": 12,
    "start_time": "2023-07-01T17:27:35.027Z"
   },
   {
    "duration": 13,
    "start_time": "2023-07-01T17:27:35.043Z"
   },
   {
    "duration": 227,
    "start_time": "2023-07-01T17:27:35.057Z"
   },
   {
    "duration": 16,
    "start_time": "2023-07-01T17:27:35.285Z"
   },
   {
    "duration": 15,
    "start_time": "2023-07-01T17:27:35.303Z"
   },
   {
    "duration": 209,
    "start_time": "2023-07-01T17:27:35.320Z"
   },
   {
    "duration": 6,
    "start_time": "2023-07-01T17:27:35.531Z"
   },
   {
    "duration": 250,
    "start_time": "2023-07-01T17:27:35.539Z"
   },
   {
    "duration": 14,
    "start_time": "2023-07-01T17:27:35.791Z"
   },
   {
    "duration": 12,
    "start_time": "2023-07-01T17:27:35.806Z"
   },
   {
    "duration": 8,
    "start_time": "2023-07-01T17:27:35.819Z"
   },
   {
    "duration": 16,
    "start_time": "2023-07-01T17:27:35.829Z"
   },
   {
    "duration": 11,
    "start_time": "2023-07-01T17:27:35.847Z"
   },
   {
    "duration": 7,
    "start_time": "2023-07-01T17:27:35.860Z"
   },
   {
    "duration": 670,
    "start_time": "2023-07-01T17:27:35.869Z"
   },
   {
    "duration": 217,
    "start_time": "2023-07-01T17:27:36.541Z"
   },
   {
    "duration": 7,
    "start_time": "2023-07-01T17:28:12.930Z"
   },
   {
    "duration": 1108,
    "start_time": "2023-07-01T17:28:18.495Z"
   },
   {
    "duration": 46,
    "start_time": "2023-07-01T17:28:19.605Z"
   },
   {
    "duration": 12,
    "start_time": "2023-07-01T17:28:19.652Z"
   },
   {
    "duration": 13,
    "start_time": "2023-07-01T17:28:19.667Z"
   },
   {
    "duration": 13,
    "start_time": "2023-07-01T17:28:19.682Z"
   },
   {
    "duration": 11,
    "start_time": "2023-07-01T17:28:19.702Z"
   },
   {
    "duration": 7,
    "start_time": "2023-07-01T17:28:19.714Z"
   },
   {
    "duration": 5,
    "start_time": "2023-07-01T17:28:19.723Z"
   },
   {
    "duration": 9,
    "start_time": "2023-07-01T17:28:19.729Z"
   },
   {
    "duration": 13,
    "start_time": "2023-07-01T17:28:19.740Z"
   },
   {
    "duration": 219,
    "start_time": "2023-07-01T17:28:19.754Z"
   },
   {
    "duration": 9,
    "start_time": "2023-07-01T17:28:19.975Z"
   },
   {
    "duration": 22,
    "start_time": "2023-07-01T17:28:19.986Z"
   },
   {
    "duration": 224,
    "start_time": "2023-07-01T17:28:20.009Z"
   },
   {
    "duration": 7,
    "start_time": "2023-07-01T17:28:20.234Z"
   },
   {
    "duration": 288,
    "start_time": "2023-07-01T17:28:20.242Z"
   },
   {
    "duration": 11,
    "start_time": "2023-07-01T17:28:20.533Z"
   },
   {
    "duration": 10,
    "start_time": "2023-07-01T17:28:20.546Z"
   },
   {
    "duration": 5,
    "start_time": "2023-07-01T17:28:20.558Z"
   },
   {
    "duration": 44,
    "start_time": "2023-07-01T17:28:20.566Z"
   },
   {
    "duration": 8,
    "start_time": "2023-07-01T17:28:20.611Z"
   },
   {
    "duration": 11,
    "start_time": "2023-07-01T17:28:20.620Z"
   },
   {
    "duration": 684,
    "start_time": "2023-07-01T17:28:20.633Z"
   },
   {
    "duration": 340,
    "start_time": "2023-07-01T17:28:21.318Z"
   },
   {
    "duration": 125,
    "start_time": "2023-07-01T17:29:10.430Z"
   },
   {
    "duration": 1203,
    "start_time": "2023-07-01T17:31:42.808Z"
   },
   {
    "duration": 44,
    "start_time": "2023-07-01T17:31:44.013Z"
   },
   {
    "duration": 11,
    "start_time": "2023-07-01T17:31:44.059Z"
   },
   {
    "duration": 11,
    "start_time": "2023-07-01T17:31:44.072Z"
   },
   {
    "duration": 11,
    "start_time": "2023-07-01T17:31:44.085Z"
   },
   {
    "duration": 11,
    "start_time": "2023-07-01T17:31:44.098Z"
   },
   {
    "duration": 7,
    "start_time": "2023-07-01T17:31:44.110Z"
   },
   {
    "duration": 4,
    "start_time": "2023-07-01T17:31:44.119Z"
   },
   {
    "duration": 10,
    "start_time": "2023-07-01T17:31:44.124Z"
   },
   {
    "duration": 13,
    "start_time": "2023-07-01T17:31:44.136Z"
   },
   {
    "duration": 194,
    "start_time": "2023-07-01T17:31:44.151Z"
   },
   {
    "duration": 10,
    "start_time": "2023-07-01T17:31:44.347Z"
   },
   {
    "duration": 11,
    "start_time": "2023-07-01T17:31:44.358Z"
   },
   {
    "duration": 262,
    "start_time": "2023-07-01T17:31:44.372Z"
   },
   {
    "duration": 6,
    "start_time": "2023-07-01T17:31:44.636Z"
   },
   {
    "duration": 367,
    "start_time": "2023-07-01T17:31:44.644Z"
   },
   {
    "duration": 10,
    "start_time": "2023-07-01T17:31:45.013Z"
   },
   {
    "duration": 50,
    "start_time": "2023-07-01T17:31:45.025Z"
   },
   {
    "duration": 5,
    "start_time": "2023-07-01T17:31:45.077Z"
   },
   {
    "duration": 28,
    "start_time": "2023-07-01T17:31:45.084Z"
   },
   {
    "duration": 12,
    "start_time": "2023-07-01T17:31:45.114Z"
   },
   {
    "duration": 8,
    "start_time": "2023-07-01T17:31:45.128Z"
   },
   {
    "duration": 809,
    "start_time": "2023-07-01T17:31:45.138Z"
   },
   {
    "duration": 321,
    "start_time": "2023-07-01T17:31:45.949Z"
   },
   {
    "duration": 6,
    "start_time": "2023-07-01T17:35:15.842Z"
   },
   {
    "duration": 7,
    "start_time": "2023-07-01T17:35:17.201Z"
   },
   {
    "duration": 1154,
    "start_time": "2023-07-01T17:35:23.940Z"
   },
   {
    "duration": 46,
    "start_time": "2023-07-01T17:35:25.096Z"
   },
   {
    "duration": 12,
    "start_time": "2023-07-01T17:35:25.143Z"
   },
   {
    "duration": 15,
    "start_time": "2023-07-01T17:35:25.157Z"
   },
   {
    "duration": 21,
    "start_time": "2023-07-01T17:35:25.175Z"
   },
   {
    "duration": 22,
    "start_time": "2023-07-01T17:35:25.198Z"
   },
   {
    "duration": 9,
    "start_time": "2023-07-01T17:35:25.222Z"
   },
   {
    "duration": 4,
    "start_time": "2023-07-01T17:35:25.232Z"
   },
   {
    "duration": 11,
    "start_time": "2023-07-01T17:35:25.238Z"
   },
   {
    "duration": 17,
    "start_time": "2023-07-01T17:35:25.250Z"
   },
   {
    "duration": 221,
    "start_time": "2023-07-01T17:35:25.269Z"
   },
   {
    "duration": 19,
    "start_time": "2023-07-01T17:35:25.492Z"
   },
   {
    "duration": 14,
    "start_time": "2023-07-01T17:35:25.513Z"
   },
   {
    "duration": 234,
    "start_time": "2023-07-01T17:35:25.530Z"
   },
   {
    "duration": 8,
    "start_time": "2023-07-01T17:35:25.766Z"
   },
   {
    "duration": 264,
    "start_time": "2023-07-01T17:35:25.776Z"
   },
   {
    "duration": 13,
    "start_time": "2023-07-01T17:35:26.043Z"
   },
   {
    "duration": 8,
    "start_time": "2023-07-01T17:35:26.058Z"
   },
   {
    "duration": 7,
    "start_time": "2023-07-01T17:35:26.068Z"
   },
   {
    "duration": 17,
    "start_time": "2023-07-01T17:35:26.102Z"
   },
   {
    "duration": 9,
    "start_time": "2023-07-01T17:35:26.122Z"
   },
   {
    "duration": 7,
    "start_time": "2023-07-01T17:35:26.134Z"
   },
   {
    "duration": 10,
    "start_time": "2023-07-01T17:35:26.143Z"
   },
   {
    "duration": 773,
    "start_time": "2023-07-01T17:35:26.155Z"
   },
   {
    "duration": 355,
    "start_time": "2023-07-01T17:35:26.930Z"
   },
   {
    "duration": 1239,
    "start_time": "2023-07-01T17:36:06.412Z"
   },
   {
    "duration": 45,
    "start_time": "2023-07-01T17:36:07.653Z"
   },
   {
    "duration": 14,
    "start_time": "2023-07-01T17:36:07.700Z"
   },
   {
    "duration": 17,
    "start_time": "2023-07-01T17:36:07.716Z"
   },
   {
    "duration": 12,
    "start_time": "2023-07-01T17:36:07.736Z"
   },
   {
    "duration": 12,
    "start_time": "2023-07-01T17:36:07.750Z"
   },
   {
    "duration": 48,
    "start_time": "2023-07-01T17:36:07.764Z"
   },
   {
    "duration": 8,
    "start_time": "2023-07-01T17:36:07.815Z"
   },
   {
    "duration": 8,
    "start_time": "2023-07-01T17:36:07.827Z"
   },
   {
    "duration": 21,
    "start_time": "2023-07-01T17:36:07.837Z"
   },
   {
    "duration": 259,
    "start_time": "2023-07-01T17:36:07.860Z"
   },
   {
    "duration": 10,
    "start_time": "2023-07-01T17:36:08.120Z"
   },
   {
    "duration": 30,
    "start_time": "2023-07-01T17:36:08.132Z"
   },
   {
    "duration": 256,
    "start_time": "2023-07-01T17:36:08.166Z"
   },
   {
    "duration": 8,
    "start_time": "2023-07-01T17:36:08.423Z"
   },
   {
    "duration": 269,
    "start_time": "2023-07-01T17:36:08.433Z"
   },
   {
    "duration": 10,
    "start_time": "2023-07-01T17:36:08.703Z"
   },
   {
    "duration": 14,
    "start_time": "2023-07-01T17:36:08.714Z"
   },
   {
    "duration": 5,
    "start_time": "2023-07-01T17:36:08.729Z"
   },
   {
    "duration": 17,
    "start_time": "2023-07-01T17:36:08.736Z"
   },
   {
    "duration": 7,
    "start_time": "2023-07-01T17:36:08.755Z"
   },
   {
    "duration": 39,
    "start_time": "2023-07-01T17:36:08.763Z"
   },
   {
    "duration": 9,
    "start_time": "2023-07-01T17:36:08.804Z"
   },
   {
    "duration": 584,
    "start_time": "2023-07-01T17:36:08.815Z"
   },
   {
    "duration": 191,
    "start_time": "2023-07-01T17:36:09.402Z"
   },
   {
    "duration": 1143,
    "start_time": "2023-07-01T17:37:31.766Z"
   },
   {
    "duration": 48,
    "start_time": "2023-07-01T17:37:32.911Z"
   },
   {
    "duration": 11,
    "start_time": "2023-07-01T17:37:32.961Z"
   },
   {
    "duration": 14,
    "start_time": "2023-07-01T17:37:32.973Z"
   },
   {
    "duration": 23,
    "start_time": "2023-07-01T17:37:32.990Z"
   },
   {
    "duration": 13,
    "start_time": "2023-07-01T17:37:33.015Z"
   },
   {
    "duration": 16,
    "start_time": "2023-07-01T17:37:33.030Z"
   },
   {
    "duration": 11,
    "start_time": "2023-07-01T17:37:33.048Z"
   },
   {
    "duration": 13,
    "start_time": "2023-07-01T17:37:33.060Z"
   },
   {
    "duration": 41,
    "start_time": "2023-07-01T17:37:33.075Z"
   },
   {
    "duration": 215,
    "start_time": "2023-07-01T17:37:33.117Z"
   },
   {
    "duration": 10,
    "start_time": "2023-07-01T17:37:33.333Z"
   },
   {
    "duration": 13,
    "start_time": "2023-07-01T17:37:33.344Z"
   },
   {
    "duration": 250,
    "start_time": "2023-07-01T17:37:33.359Z"
   },
   {
    "duration": 8,
    "start_time": "2023-07-01T17:37:33.610Z"
   },
   {
    "duration": 296,
    "start_time": "2023-07-01T17:37:33.620Z"
   },
   {
    "duration": 10,
    "start_time": "2023-07-01T17:37:33.918Z"
   },
   {
    "duration": 10,
    "start_time": "2023-07-01T17:37:33.930Z"
   },
   {
    "duration": 6,
    "start_time": "2023-07-01T17:37:33.942Z"
   },
   {
    "duration": 24,
    "start_time": "2023-07-01T17:37:33.951Z"
   },
   {
    "duration": 38,
    "start_time": "2023-07-01T17:37:33.976Z"
   },
   {
    "duration": 18,
    "start_time": "2023-07-01T17:37:34.016Z"
   },
   {
    "duration": 9,
    "start_time": "2023-07-01T17:37:34.036Z"
   },
   {
    "duration": 577,
    "start_time": "2023-07-01T17:37:34.047Z"
   },
   {
    "duration": 209,
    "start_time": "2023-07-01T17:37:34.626Z"
   },
   {
    "duration": 1119,
    "start_time": "2023-07-01T17:38:11.592Z"
   },
   {
    "duration": 46,
    "start_time": "2023-07-01T17:38:12.719Z"
   },
   {
    "duration": 12,
    "start_time": "2023-07-01T17:38:12.766Z"
   },
   {
    "duration": 13,
    "start_time": "2023-07-01T17:38:12.780Z"
   },
   {
    "duration": 16,
    "start_time": "2023-07-01T17:38:12.795Z"
   },
   {
    "duration": 17,
    "start_time": "2023-07-01T17:38:12.813Z"
   },
   {
    "duration": 11,
    "start_time": "2023-07-01T17:38:12.832Z"
   },
   {
    "duration": 8,
    "start_time": "2023-07-01T17:38:12.845Z"
   },
   {
    "duration": 10,
    "start_time": "2023-07-01T17:38:12.854Z"
   },
   {
    "duration": 15,
    "start_time": "2023-07-01T17:38:12.866Z"
   },
   {
    "duration": 219,
    "start_time": "2023-07-01T17:38:12.901Z"
   },
   {
    "duration": 10,
    "start_time": "2023-07-01T17:38:13.122Z"
   },
   {
    "duration": 14,
    "start_time": "2023-07-01T17:38:13.134Z"
   },
   {
    "duration": 244,
    "start_time": "2023-07-01T17:38:13.151Z"
   },
   {
    "duration": 14,
    "start_time": "2023-07-01T17:38:13.397Z"
   },
   {
    "duration": 261,
    "start_time": "2023-07-01T17:38:13.413Z"
   },
   {
    "duration": 9,
    "start_time": "2023-07-01T17:38:13.676Z"
   },
   {
    "duration": 30,
    "start_time": "2023-07-01T17:38:13.687Z"
   },
   {
    "duration": 27,
    "start_time": "2023-07-01T17:38:13.719Z"
   },
   {
    "duration": 23,
    "start_time": "2023-07-01T17:38:13.748Z"
   },
   {
    "duration": 11,
    "start_time": "2023-07-01T17:38:13.774Z"
   },
   {
    "duration": 1782,
    "start_time": "2023-07-01T17:38:13.787Z"
   },
   {
    "duration": 0,
    "start_time": "2023-07-01T17:38:15.571Z"
   },
   {
    "duration": 0,
    "start_time": "2023-07-01T17:38:15.572Z"
   },
   {
    "duration": 0,
    "start_time": "2023-07-01T17:38:15.573Z"
   },
   {
    "duration": 6,
    "start_time": "2023-07-01T17:38:22.345Z"
   },
   {
    "duration": 8,
    "start_time": "2023-07-01T17:38:22.551Z"
   },
   {
    "duration": 688,
    "start_time": "2023-07-01T17:38:22.726Z"
   },
   {
    "duration": 224,
    "start_time": "2023-07-01T17:38:23.417Z"
   },
   {
    "duration": 1057,
    "start_time": "2023-07-01T17:41:41.438Z"
   },
   {
    "duration": 49,
    "start_time": "2023-07-01T17:41:42.497Z"
   },
   {
    "duration": 11,
    "start_time": "2023-07-01T17:41:42.548Z"
   },
   {
    "duration": 17,
    "start_time": "2023-07-01T17:41:42.560Z"
   },
   {
    "duration": 11,
    "start_time": "2023-07-01T17:41:42.579Z"
   },
   {
    "duration": 21,
    "start_time": "2023-07-01T17:41:42.592Z"
   },
   {
    "duration": 10,
    "start_time": "2023-07-01T17:41:42.616Z"
   },
   {
    "duration": 5,
    "start_time": "2023-07-01T17:41:42.628Z"
   },
   {
    "duration": 12,
    "start_time": "2023-07-01T17:41:42.635Z"
   },
   {
    "duration": 14,
    "start_time": "2023-07-01T17:41:42.649Z"
   },
   {
    "duration": 224,
    "start_time": "2023-07-01T17:41:42.665Z"
   },
   {
    "duration": 14,
    "start_time": "2023-07-01T17:41:42.891Z"
   },
   {
    "duration": 17,
    "start_time": "2023-07-01T17:41:42.908Z"
   },
   {
    "duration": 241,
    "start_time": "2023-07-01T17:41:42.928Z"
   },
   {
    "duration": 8,
    "start_time": "2023-07-01T17:41:43.171Z"
   },
   {
    "duration": 261,
    "start_time": "2023-07-01T17:41:43.182Z"
   },
   {
    "duration": 9,
    "start_time": "2023-07-01T17:41:43.445Z"
   },
   {
    "duration": 19,
    "start_time": "2023-07-01T17:41:43.456Z"
   },
   {
    "duration": 5,
    "start_time": "2023-07-01T17:41:43.476Z"
   },
   {
    "duration": 34,
    "start_time": "2023-07-01T17:41:43.482Z"
   },
   {
    "duration": 6,
    "start_time": "2023-07-01T17:41:43.518Z"
   },
   {
    "duration": 7,
    "start_time": "2023-07-01T17:41:43.526Z"
   },
   {
    "duration": 14,
    "start_time": "2023-07-01T17:41:43.534Z"
   },
   {
    "duration": 792,
    "start_time": "2023-07-01T17:41:43.551Z"
   },
   {
    "duration": 5,
    "start_time": "2023-07-01T17:41:44.345Z"
   },
   {
    "duration": 12,
    "start_time": "2023-07-01T17:41:44.352Z"
   },
   {
    "duration": 809,
    "start_time": "2023-07-01T17:41:44.366Z"
   },
   {
    "duration": 102,
    "start_time": "2023-07-01T17:43:44.025Z"
   },
   {
    "duration": 6,
    "start_time": "2023-07-01T17:44:50.315Z"
   },
   {
    "duration": 8,
    "start_time": "2023-07-01T17:45:14.544Z"
   },
   {
    "duration": 504,
    "start_time": "2023-07-01T17:45:34.326Z"
   },
   {
    "duration": 5,
    "start_time": "2023-07-01T17:46:42.815Z"
   },
   {
    "duration": 7,
    "start_time": "2023-07-01T17:46:43.246Z"
   },
   {
    "duration": 671,
    "start_time": "2023-07-01T17:46:43.846Z"
   },
   {
    "duration": 5,
    "start_time": "2023-07-01T17:46:44.777Z"
   },
   {
    "duration": 7,
    "start_time": "2023-07-01T17:46:45.232Z"
   },
   {
    "duration": 7,
    "start_time": "2023-07-01T17:46:54.586Z"
   },
   {
    "duration": 479,
    "start_time": "2023-07-01T17:46:55.253Z"
   },
   {
    "duration": 1203,
    "start_time": "2023-07-01T17:47:34.013Z"
   },
   {
    "duration": 45,
    "start_time": "2023-07-01T17:47:35.218Z"
   },
   {
    "duration": 11,
    "start_time": "2023-07-01T17:47:35.265Z"
   },
   {
    "duration": 12,
    "start_time": "2023-07-01T17:47:35.277Z"
   },
   {
    "duration": 40,
    "start_time": "2023-07-01T17:47:35.291Z"
   },
   {
    "duration": 12,
    "start_time": "2023-07-01T17:47:35.333Z"
   },
   {
    "duration": 9,
    "start_time": "2023-07-01T17:47:35.346Z"
   },
   {
    "duration": 24,
    "start_time": "2023-07-01T17:47:35.356Z"
   },
   {
    "duration": 15,
    "start_time": "2023-07-01T17:47:35.382Z"
   },
   {
    "duration": 27,
    "start_time": "2023-07-01T17:47:35.399Z"
   },
   {
    "duration": 229,
    "start_time": "2023-07-01T17:47:35.427Z"
   },
   {
    "duration": 11,
    "start_time": "2023-07-01T17:47:35.659Z"
   },
   {
    "duration": 28,
    "start_time": "2023-07-01T17:47:35.671Z"
   },
   {
    "duration": 249,
    "start_time": "2023-07-01T17:47:35.702Z"
   },
   {
    "duration": 6,
    "start_time": "2023-07-01T17:47:35.953Z"
   },
   {
    "duration": 291,
    "start_time": "2023-07-01T17:47:35.961Z"
   },
   {
    "duration": 10,
    "start_time": "2023-07-01T17:47:36.254Z"
   },
   {
    "duration": 20,
    "start_time": "2023-07-01T17:47:36.266Z"
   },
   {
    "duration": 5,
    "start_time": "2023-07-01T17:47:36.287Z"
   },
   {
    "duration": 25,
    "start_time": "2023-07-01T17:47:36.293Z"
   },
   {
    "duration": 27,
    "start_time": "2023-07-01T17:47:36.321Z"
   },
   {
    "duration": 13,
    "start_time": "2023-07-01T17:47:36.351Z"
   },
   {
    "duration": 9,
    "start_time": "2023-07-01T17:47:36.366Z"
   },
   {
    "duration": 721,
    "start_time": "2023-07-01T17:47:36.377Z"
   },
   {
    "duration": 15,
    "start_time": "2023-07-01T17:47:37.100Z"
   },
   {
    "duration": 11,
    "start_time": "2023-07-01T17:47:37.118Z"
   },
   {
    "duration": 580,
    "start_time": "2023-07-01T17:47:37.130Z"
   },
   {
    "duration": 7,
    "start_time": "2023-07-01T17:47:37.713Z"
   },
   {
    "duration": 13,
    "start_time": "2023-07-01T17:47:37.721Z"
   },
   {
    "duration": 655,
    "start_time": "2023-07-01T17:47:37.736Z"
   },
   {
    "duration": 9,
    "start_time": "2023-07-01T17:47:38.393Z"
   },
   {
    "duration": 10,
    "start_time": "2023-07-01T17:47:38.404Z"
   },
   {
    "duration": 498,
    "start_time": "2023-07-01T17:47:38.416Z"
   },
   {
    "duration": 6,
    "start_time": "2023-07-01T17:47:49.116Z"
   },
   {
    "duration": 9,
    "start_time": "2023-07-01T17:47:49.529Z"
   },
   {
    "duration": 507,
    "start_time": "2023-07-01T17:47:49.916Z"
   },
   {
    "duration": 147,
    "start_time": "2023-07-01T17:52:00.152Z"
   },
   {
    "duration": 1246,
    "start_time": "2023-07-01T17:55:07.316Z"
   },
   {
    "duration": 48,
    "start_time": "2023-07-01T17:55:08.564Z"
   },
   {
    "duration": 13,
    "start_time": "2023-07-01T17:55:08.615Z"
   },
   {
    "duration": 14,
    "start_time": "2023-07-01T17:55:08.631Z"
   },
   {
    "duration": 17,
    "start_time": "2023-07-01T17:55:08.647Z"
   },
   {
    "duration": 36,
    "start_time": "2023-07-01T17:55:08.667Z"
   },
   {
    "duration": 12,
    "start_time": "2023-07-01T17:55:08.705Z"
   },
   {
    "duration": 5,
    "start_time": "2023-07-01T17:55:08.719Z"
   },
   {
    "duration": 9,
    "start_time": "2023-07-01T17:55:08.726Z"
   },
   {
    "duration": 14,
    "start_time": "2023-07-01T17:55:08.738Z"
   },
   {
    "duration": 227,
    "start_time": "2023-07-01T17:55:08.754Z"
   },
   {
    "duration": 10,
    "start_time": "2023-07-01T17:55:08.982Z"
   },
   {
    "duration": 11,
    "start_time": "2023-07-01T17:55:09.002Z"
   },
   {
    "duration": 249,
    "start_time": "2023-07-01T17:55:09.015Z"
   },
   {
    "duration": 6,
    "start_time": "2023-07-01T17:55:09.266Z"
   },
   {
    "duration": 256,
    "start_time": "2023-07-01T17:55:09.274Z"
   },
   {
    "duration": 8,
    "start_time": "2023-07-01T17:55:09.532Z"
   },
   {
    "duration": 8,
    "start_time": "2023-07-01T17:55:09.542Z"
   },
   {
    "duration": 5,
    "start_time": "2023-07-01T17:55:09.551Z"
   },
   {
    "duration": 13,
    "start_time": "2023-07-01T17:55:09.557Z"
   },
   {
    "duration": 32,
    "start_time": "2023-07-01T17:55:09.572Z"
   },
   {
    "duration": 6,
    "start_time": "2023-07-01T17:55:09.606Z"
   },
   {
    "duration": 12,
    "start_time": "2023-07-01T17:55:09.613Z"
   },
   {
    "duration": 724,
    "start_time": "2023-07-01T17:55:09.626Z"
   },
   {
    "duration": 92,
    "start_time": "2023-07-01T17:55:10.352Z"
   },
   {
    "duration": 0,
    "start_time": "2023-07-01T17:55:10.447Z"
   },
   {
    "duration": 0,
    "start_time": "2023-07-01T17:55:10.449Z"
   },
   {
    "duration": 0,
    "start_time": "2023-07-01T17:55:10.451Z"
   },
   {
    "duration": 0,
    "start_time": "2023-07-01T17:55:10.452Z"
   },
   {
    "duration": 0,
    "start_time": "2023-07-01T17:55:10.454Z"
   },
   {
    "duration": 0,
    "start_time": "2023-07-01T17:55:10.455Z"
   },
   {
    "duration": 0,
    "start_time": "2023-07-01T17:55:10.458Z"
   },
   {
    "duration": 0,
    "start_time": "2023-07-01T17:55:10.459Z"
   },
   {
    "duration": 0,
    "start_time": "2023-07-01T17:55:10.460Z"
   },
   {
    "duration": 5,
    "start_time": "2023-07-01T17:55:33.663Z"
   },
   {
    "duration": 9,
    "start_time": "2023-07-01T17:55:33.670Z"
   },
   {
    "duration": 568,
    "start_time": "2023-07-01T17:55:33.681Z"
   },
   {
    "duration": 4,
    "start_time": "2023-07-01T17:55:34.251Z"
   },
   {
    "duration": 17,
    "start_time": "2023-07-01T17:55:34.257Z"
   },
   {
    "duration": 615,
    "start_time": "2023-07-01T17:55:34.276Z"
   },
   {
    "duration": 10,
    "start_time": "2023-07-01T17:55:34.892Z"
   },
   {
    "duration": 8,
    "start_time": "2023-07-01T17:55:34.903Z"
   },
   {
    "duration": 464,
    "start_time": "2023-07-01T17:55:34.913Z"
   },
   {
    "duration": 78,
    "start_time": "2023-07-01T18:00:58.640Z"
   },
   {
    "duration": 1113,
    "start_time": "2023-07-01T18:02:13.042Z"
   },
   {
    "duration": 44,
    "start_time": "2023-07-01T18:02:14.157Z"
   },
   {
    "duration": 11,
    "start_time": "2023-07-01T18:02:14.203Z"
   },
   {
    "duration": 32,
    "start_time": "2023-07-01T18:02:14.215Z"
   },
   {
    "duration": 16,
    "start_time": "2023-07-01T18:02:14.249Z"
   },
   {
    "duration": 38,
    "start_time": "2023-07-01T18:02:14.266Z"
   },
   {
    "duration": 25,
    "start_time": "2023-07-01T18:02:14.306Z"
   },
   {
    "duration": 28,
    "start_time": "2023-07-01T18:02:14.333Z"
   },
   {
    "duration": 39,
    "start_time": "2023-07-01T18:02:14.362Z"
   },
   {
    "duration": 26,
    "start_time": "2023-07-01T18:02:14.403Z"
   },
   {
    "duration": 212,
    "start_time": "2023-07-01T18:02:14.431Z"
   },
   {
    "duration": 9,
    "start_time": "2023-07-01T18:02:14.644Z"
   },
   {
    "duration": 28,
    "start_time": "2023-07-01T18:02:14.655Z"
   },
   {
    "duration": 229,
    "start_time": "2023-07-01T18:02:14.685Z"
   },
   {
    "duration": 8,
    "start_time": "2023-07-01T18:02:14.916Z"
   },
   {
    "duration": 285,
    "start_time": "2023-07-01T18:02:14.926Z"
   },
   {
    "duration": 10,
    "start_time": "2023-07-01T18:02:15.213Z"
   },
   {
    "duration": 33,
    "start_time": "2023-07-01T18:02:15.224Z"
   },
   {
    "duration": 20,
    "start_time": "2023-07-01T18:02:15.258Z"
   },
   {
    "duration": 28,
    "start_time": "2023-07-01T18:02:15.279Z"
   },
   {
    "duration": 33,
    "start_time": "2023-07-01T18:02:15.309Z"
   },
   {
    "duration": 27,
    "start_time": "2023-07-01T18:02:15.344Z"
   },
   {
    "duration": 35,
    "start_time": "2023-07-01T18:02:15.373Z"
   },
   {
    "duration": 749,
    "start_time": "2023-07-01T18:02:15.410Z"
   },
   {
    "duration": 6,
    "start_time": "2023-07-01T18:02:16.160Z"
   },
   {
    "duration": 27,
    "start_time": "2023-07-01T18:02:16.167Z"
   },
   {
    "duration": 571,
    "start_time": "2023-07-01T18:02:16.196Z"
   },
   {
    "duration": 6,
    "start_time": "2023-07-01T18:02:16.770Z"
   },
   {
    "duration": 24,
    "start_time": "2023-07-01T18:02:16.777Z"
   },
   {
    "duration": 693,
    "start_time": "2023-07-01T18:02:16.803Z"
   },
   {
    "duration": 4,
    "start_time": "2023-07-01T18:02:17.502Z"
   },
   {
    "duration": 19,
    "start_time": "2023-07-01T18:02:17.508Z"
   },
   {
    "duration": 467,
    "start_time": "2023-07-01T18:02:17.529Z"
   },
   {
    "duration": 1290,
    "start_time": "2023-07-01T18:03:00.134Z"
   },
   {
    "duration": 51,
    "start_time": "2023-07-01T18:03:01.427Z"
   },
   {
    "duration": 13,
    "start_time": "2023-07-01T18:03:01.480Z"
   },
   {
    "duration": 41,
    "start_time": "2023-07-01T18:03:01.495Z"
   },
   {
    "duration": 40,
    "start_time": "2023-07-01T18:03:01.539Z"
   },
   {
    "duration": 58,
    "start_time": "2023-07-01T18:03:01.581Z"
   },
   {
    "duration": 40,
    "start_time": "2023-07-01T18:03:01.641Z"
   },
   {
    "duration": 28,
    "start_time": "2023-07-01T18:03:01.683Z"
   },
   {
    "duration": 30,
    "start_time": "2023-07-01T18:03:01.713Z"
   },
   {
    "duration": 48,
    "start_time": "2023-07-01T18:03:01.745Z"
   },
   {
    "duration": 233,
    "start_time": "2023-07-01T18:03:01.795Z"
   },
   {
    "duration": 10,
    "start_time": "2023-07-01T18:03:02.029Z"
   },
   {
    "duration": 34,
    "start_time": "2023-07-01T18:03:02.041Z"
   },
   {
    "duration": 270,
    "start_time": "2023-07-01T18:03:02.080Z"
   },
   {
    "duration": 8,
    "start_time": "2023-07-01T18:03:02.352Z"
   },
   {
    "duration": 295,
    "start_time": "2023-07-01T18:03:02.362Z"
   },
   {
    "duration": 9,
    "start_time": "2023-07-01T18:03:02.659Z"
   },
   {
    "duration": 35,
    "start_time": "2023-07-01T18:03:02.670Z"
   },
   {
    "duration": 25,
    "start_time": "2023-07-01T18:03:02.707Z"
   },
   {
    "duration": 26,
    "start_time": "2023-07-01T18:03:02.734Z"
   },
   {
    "duration": 31,
    "start_time": "2023-07-01T18:03:02.762Z"
   },
   {
    "duration": 9,
    "start_time": "2023-07-01T18:03:02.796Z"
   },
   {
    "duration": 19,
    "start_time": "2023-07-01T18:03:02.807Z"
   },
   {
    "duration": 747,
    "start_time": "2023-07-01T18:03:02.828Z"
   },
   {
    "duration": 5,
    "start_time": "2023-07-01T18:03:03.577Z"
   },
   {
    "duration": 21,
    "start_time": "2023-07-01T18:03:03.584Z"
   },
   {
    "duration": 552,
    "start_time": "2023-07-01T18:03:03.607Z"
   },
   {
    "duration": 5,
    "start_time": "2023-07-01T18:03:04.161Z"
   },
   {
    "duration": 9,
    "start_time": "2023-07-01T18:03:04.168Z"
   },
   {
    "duration": 657,
    "start_time": "2023-07-01T18:03:04.179Z"
   },
   {
    "duration": 7,
    "start_time": "2023-07-01T18:03:04.838Z"
   },
   {
    "duration": 8,
    "start_time": "2023-07-01T18:03:04.847Z"
   },
   {
    "duration": 480,
    "start_time": "2023-07-01T18:03:04.857Z"
   },
   {
    "duration": 1097,
    "start_time": "2023-07-01T18:04:22.247Z"
   },
   {
    "duration": 45,
    "start_time": "2023-07-01T18:04:23.346Z"
   },
   {
    "duration": 11,
    "start_time": "2023-07-01T18:04:23.393Z"
   },
   {
    "duration": 25,
    "start_time": "2023-07-01T18:04:23.406Z"
   },
   {
    "duration": 18,
    "start_time": "2023-07-01T18:04:23.434Z"
   },
   {
    "duration": 12,
    "start_time": "2023-07-01T18:04:23.454Z"
   },
   {
    "duration": 12,
    "start_time": "2023-07-01T18:04:23.468Z"
   },
   {
    "duration": 15,
    "start_time": "2023-07-01T18:04:23.481Z"
   },
   {
    "duration": 8,
    "start_time": "2023-07-01T18:04:23.502Z"
   },
   {
    "duration": 17,
    "start_time": "2023-07-01T18:04:23.511Z"
   },
   {
    "duration": 257,
    "start_time": "2023-07-01T18:04:23.530Z"
   },
   {
    "duration": 14,
    "start_time": "2023-07-01T18:04:23.789Z"
   },
   {
    "duration": 16,
    "start_time": "2023-07-01T18:04:23.805Z"
   },
   {
    "duration": 269,
    "start_time": "2023-07-01T18:04:23.825Z"
   },
   {
    "duration": 11,
    "start_time": "2023-07-01T18:04:24.095Z"
   },
   {
    "duration": 259,
    "start_time": "2023-07-01T18:04:24.108Z"
   },
   {
    "duration": 9,
    "start_time": "2023-07-01T18:04:24.368Z"
   },
   {
    "duration": 25,
    "start_time": "2023-07-01T18:04:24.379Z"
   },
   {
    "duration": 4,
    "start_time": "2023-07-01T18:04:24.406Z"
   },
   {
    "duration": 15,
    "start_time": "2023-07-01T18:04:24.412Z"
   },
   {
    "duration": 8,
    "start_time": "2023-07-01T18:04:24.428Z"
   },
   {
    "duration": 8,
    "start_time": "2023-07-01T18:04:24.438Z"
   },
   {
    "duration": 11,
    "start_time": "2023-07-01T18:04:24.448Z"
   },
   {
    "duration": 802,
    "start_time": "2023-07-01T18:04:24.461Z"
   },
   {
    "duration": 5,
    "start_time": "2023-07-01T18:04:25.265Z"
   },
   {
    "duration": 15,
    "start_time": "2023-07-01T18:04:25.272Z"
   },
   {
    "duration": 517,
    "start_time": "2023-07-01T18:04:25.289Z"
   },
   {
    "duration": 6,
    "start_time": "2023-07-01T18:04:25.809Z"
   },
   {
    "duration": 10,
    "start_time": "2023-07-01T18:04:25.817Z"
   },
   {
    "duration": 656,
    "start_time": "2023-07-01T18:04:25.829Z"
   },
   {
    "duration": 14,
    "start_time": "2023-07-01T18:04:26.487Z"
   },
   {
    "duration": 24,
    "start_time": "2023-07-01T18:04:26.503Z"
   },
   {
    "duration": 419,
    "start_time": "2023-07-01T18:04:26.529Z"
   },
   {
    "duration": 3,
    "start_time": "2023-07-01T18:07:17.900Z"
   },
   {
    "duration": 129,
    "start_time": "2023-07-01T18:09:00.558Z"
   },
   {
    "duration": 288,
    "start_time": "2023-07-01T18:09:16.918Z"
   },
   {
    "duration": 5,
    "start_time": "2023-07-01T18:12:19.418Z"
   },
   {
    "duration": 524,
    "start_time": "2023-07-01T18:12:20.258Z"
   },
   {
    "duration": 75,
    "start_time": "2023-07-01T18:13:25.358Z"
   },
   {
    "duration": 10,
    "start_time": "2023-07-01T18:19:21.730Z"
   },
   {
    "duration": 363,
    "start_time": "2023-07-01T18:19:29.805Z"
   },
   {
    "duration": 6,
    "start_time": "2023-07-01T18:22:58.799Z"
   },
   {
    "duration": 5,
    "start_time": "2023-07-01T18:23:40.423Z"
   },
   {
    "duration": 4,
    "start_time": "2023-07-01T18:24:04.223Z"
   },
   {
    "duration": 21,
    "start_time": "2023-07-01T18:35:00.586Z"
   },
   {
    "duration": 4,
    "start_time": "2023-07-01T18:35:51.158Z"
   },
   {
    "duration": 6,
    "start_time": "2023-07-01T18:35:59.086Z"
   },
   {
    "duration": 4,
    "start_time": "2023-07-01T18:36:02.791Z"
   },
   {
    "duration": 5,
    "start_time": "2023-07-01T18:36:32.197Z"
   },
   {
    "duration": 4,
    "start_time": "2023-07-01T18:36:36.184Z"
   },
   {
    "duration": 141,
    "start_time": "2023-07-01T18:38:07.468Z"
   },
   {
    "duration": 15,
    "start_time": "2023-07-01T18:46:04.943Z"
   },
   {
    "duration": 7,
    "start_time": "2023-07-01T18:46:14.268Z"
   },
   {
    "duration": 9,
    "start_time": "2023-07-01T18:52:40.947Z"
   },
   {
    "duration": 3,
    "start_time": "2023-07-01T19:09:04.053Z"
   },
   {
    "duration": 6,
    "start_time": "2023-07-01T19:12:00.618Z"
   },
   {
    "duration": 71,
    "start_time": "2023-07-01T19:12:46.559Z"
   },
   {
    "duration": 11,
    "start_time": "2023-07-01T19:13:54.418Z"
   },
   {
    "duration": 18,
    "start_time": "2023-07-01T19:14:19.838Z"
   },
   {
    "duration": 14,
    "start_time": "2023-07-01T19:14:35.850Z"
   },
   {
    "duration": 19,
    "start_time": "2023-07-01T19:14:42.446Z"
   },
   {
    "duration": 19,
    "start_time": "2023-07-01T19:15:18.644Z"
   },
   {
    "duration": 1420,
    "start_time": "2023-07-01T19:15:41.817Z"
   },
   {
    "duration": 45,
    "start_time": "2023-07-01T19:15:43.239Z"
   },
   {
    "duration": 11,
    "start_time": "2023-07-01T19:15:43.286Z"
   },
   {
    "duration": 11,
    "start_time": "2023-07-01T19:15:43.298Z"
   },
   {
    "duration": 11,
    "start_time": "2023-07-01T19:15:43.312Z"
   },
   {
    "duration": 10,
    "start_time": "2023-07-01T19:15:43.325Z"
   },
   {
    "duration": 6,
    "start_time": "2023-07-01T19:15:43.337Z"
   },
   {
    "duration": 4,
    "start_time": "2023-07-01T19:15:43.345Z"
   },
   {
    "duration": 9,
    "start_time": "2023-07-01T19:15:43.350Z"
   },
   {
    "duration": 14,
    "start_time": "2023-07-01T19:15:43.361Z"
   },
   {
    "duration": 218,
    "start_time": "2023-07-01T19:15:43.377Z"
   },
   {
    "duration": 11,
    "start_time": "2023-07-01T19:15:43.596Z"
   },
   {
    "duration": 17,
    "start_time": "2023-07-01T19:15:43.608Z"
   },
   {
    "duration": 291,
    "start_time": "2023-07-01T19:15:43.628Z"
   },
   {
    "duration": 8,
    "start_time": "2023-07-01T19:15:43.921Z"
   },
   {
    "duration": 299,
    "start_time": "2023-07-01T19:15:43.931Z"
   },
   {
    "duration": 7,
    "start_time": "2023-07-01T19:15:44.232Z"
   },
   {
    "duration": 8,
    "start_time": "2023-07-01T19:15:44.241Z"
   },
   {
    "duration": 9,
    "start_time": "2023-07-01T19:15:44.250Z"
   },
   {
    "duration": 19,
    "start_time": "2023-07-01T19:15:44.261Z"
   },
   {
    "duration": 16,
    "start_time": "2023-07-01T19:15:44.281Z"
   },
   {
    "duration": 6,
    "start_time": "2023-07-01T19:15:44.301Z"
   },
   {
    "duration": 82,
    "start_time": "2023-07-01T19:15:44.308Z"
   },
   {
    "duration": 747,
    "start_time": "2023-07-01T19:15:44.392Z"
   },
   {
    "duration": 5,
    "start_time": "2023-07-01T19:15:45.140Z"
   },
   {
    "duration": 19,
    "start_time": "2023-07-01T19:15:45.146Z"
   },
   {
    "duration": 414,
    "start_time": "2023-07-01T19:15:45.167Z"
   },
   {
    "duration": 5,
    "start_time": "2023-07-01T19:15:45.583Z"
   },
   {
    "duration": 14,
    "start_time": "2023-07-01T19:15:45.589Z"
   },
   {
    "duration": 671,
    "start_time": "2023-07-01T19:15:45.604Z"
   },
   {
    "duration": 6,
    "start_time": "2023-07-01T19:15:46.276Z"
   },
   {
    "duration": 20,
    "start_time": "2023-07-01T19:15:46.283Z"
   },
   {
    "duration": 453,
    "start_time": "2023-07-01T19:15:46.306Z"
   },
   {
    "duration": 5,
    "start_time": "2023-07-01T19:15:46.762Z"
   },
   {
    "duration": 454,
    "start_time": "2023-07-01T19:15:46.769Z"
   },
   {
    "duration": 5,
    "start_time": "2023-07-01T19:15:47.225Z"
   },
   {
    "duration": 24,
    "start_time": "2023-07-01T19:15:47.232Z"
   },
   {
    "duration": 26,
    "start_time": "2023-07-01T19:15:47.257Z"
   },
   {
    "duration": 13,
    "start_time": "2023-07-01T19:15:47.284Z"
   },
   {
    "duration": 35,
    "start_time": "2023-07-01T19:15:47.299Z"
   },
   {
    "duration": 1530,
    "start_time": "2023-07-01T19:46:26.233Z"
   },
   {
    "duration": 45,
    "start_time": "2023-07-01T19:46:27.765Z"
   },
   {
    "duration": 12,
    "start_time": "2023-07-01T19:46:27.812Z"
   },
   {
    "duration": 14,
    "start_time": "2023-07-01T19:46:27.826Z"
   },
   {
    "duration": 12,
    "start_time": "2023-07-01T19:46:27.845Z"
   },
   {
    "duration": 50,
    "start_time": "2023-07-01T19:46:27.859Z"
   },
   {
    "duration": 8,
    "start_time": "2023-07-01T19:46:27.911Z"
   },
   {
    "duration": 17,
    "start_time": "2023-07-01T19:46:27.921Z"
   },
   {
    "duration": 10,
    "start_time": "2023-07-01T19:46:27.940Z"
   },
   {
    "duration": 16,
    "start_time": "2023-07-01T19:46:27.952Z"
   },
   {
    "duration": 228,
    "start_time": "2023-07-01T19:46:27.970Z"
   },
   {
    "duration": 9,
    "start_time": "2023-07-01T19:46:28.201Z"
   },
   {
    "duration": 13,
    "start_time": "2023-07-01T19:46:28.212Z"
   },
   {
    "duration": 249,
    "start_time": "2023-07-01T19:46:28.228Z"
   },
   {
    "duration": 6,
    "start_time": "2023-07-01T19:46:28.479Z"
   },
   {
    "duration": 270,
    "start_time": "2023-07-01T19:46:28.487Z"
   },
   {
    "duration": 9,
    "start_time": "2023-07-01T19:46:28.759Z"
   },
   {
    "duration": 13,
    "start_time": "2023-07-01T19:46:28.770Z"
   },
   {
    "duration": 5,
    "start_time": "2023-07-01T19:46:28.802Z"
   },
   {
    "duration": 14,
    "start_time": "2023-07-01T19:46:28.808Z"
   },
   {
    "duration": 9,
    "start_time": "2023-07-01T19:46:28.824Z"
   },
   {
    "duration": 8,
    "start_time": "2023-07-01T19:46:28.835Z"
   },
   {
    "duration": 119,
    "start_time": "2023-07-01T19:46:28.844Z"
   },
   {
    "duration": 726,
    "start_time": "2023-07-01T19:46:28.965Z"
   },
   {
    "duration": 4,
    "start_time": "2023-07-01T19:46:29.693Z"
   },
   {
    "duration": 10,
    "start_time": "2023-07-01T19:46:29.699Z"
   },
   {
    "duration": 467,
    "start_time": "2023-07-01T19:46:29.711Z"
   },
   {
    "duration": 5,
    "start_time": "2023-07-01T19:46:30.180Z"
   },
   {
    "duration": 27,
    "start_time": "2023-07-01T19:46:30.187Z"
   },
   {
    "duration": 728,
    "start_time": "2023-07-01T19:46:30.216Z"
   },
   {
    "duration": 6,
    "start_time": "2023-07-01T19:46:30.946Z"
   },
   {
    "duration": 36,
    "start_time": "2023-07-01T19:46:30.953Z"
   },
   {
    "duration": 495,
    "start_time": "2023-07-01T19:46:30.990Z"
   },
   {
    "duration": 5,
    "start_time": "2023-07-01T19:46:31.487Z"
   },
   {
    "duration": 502,
    "start_time": "2023-07-01T19:46:31.501Z"
   },
   {
    "duration": 5,
    "start_time": "2023-07-01T19:46:32.005Z"
   },
   {
    "duration": 15,
    "start_time": "2023-07-01T19:46:32.012Z"
   },
   {
    "duration": 21,
    "start_time": "2023-07-01T19:46:32.029Z"
   },
   {
    "duration": 13,
    "start_time": "2023-07-01T19:46:32.052Z"
   },
   {
    "duration": 44,
    "start_time": "2023-07-01T19:46:32.067Z"
   },
   {
    "duration": 71,
    "start_time": "2023-07-01T19:54:53.577Z"
   },
   {
    "duration": 25,
    "start_time": "2023-07-01T19:55:34.933Z"
   },
   {
    "duration": 20,
    "start_time": "2023-07-01T19:55:55.904Z"
   },
   {
    "duration": 30,
    "start_time": "2023-07-01T19:56:04.765Z"
   },
   {
    "duration": 1484,
    "start_time": "2023-07-01T19:56:35.373Z"
   },
   {
    "duration": 58,
    "start_time": "2023-07-01T19:56:36.859Z"
   },
   {
    "duration": 70,
    "start_time": "2023-07-01T19:56:36.918Z"
   },
   {
    "duration": 34,
    "start_time": "2023-07-01T19:56:36.990Z"
   },
   {
    "duration": 20,
    "start_time": "2023-07-01T19:56:37.031Z"
   },
   {
    "duration": 15,
    "start_time": "2023-07-01T19:56:37.053Z"
   },
   {
    "duration": 32,
    "start_time": "2023-07-01T19:56:37.071Z"
   },
   {
    "duration": 4,
    "start_time": "2023-07-01T19:56:37.105Z"
   },
   {
    "duration": 17,
    "start_time": "2023-07-01T19:56:37.111Z"
   },
   {
    "duration": 19,
    "start_time": "2023-07-01T19:56:37.130Z"
   },
   {
    "duration": 261,
    "start_time": "2023-07-01T19:56:37.152Z"
   },
   {
    "duration": 15,
    "start_time": "2023-07-01T19:56:37.415Z"
   },
   {
    "duration": 19,
    "start_time": "2023-07-01T19:56:37.432Z"
   },
   {
    "duration": 302,
    "start_time": "2023-07-01T19:56:37.457Z"
   },
   {
    "duration": 8,
    "start_time": "2023-07-01T19:56:37.760Z"
   },
   {
    "duration": 320,
    "start_time": "2023-07-01T19:56:37.770Z"
   },
   {
    "duration": 15,
    "start_time": "2023-07-01T19:56:38.092Z"
   },
   {
    "duration": 11,
    "start_time": "2023-07-01T19:56:38.109Z"
   },
   {
    "duration": 4,
    "start_time": "2023-07-01T19:56:38.123Z"
   },
   {
    "duration": 16,
    "start_time": "2023-07-01T19:56:38.129Z"
   },
   {
    "duration": 6,
    "start_time": "2023-07-01T19:56:38.148Z"
   },
   {
    "duration": 135,
    "start_time": "2023-07-01T19:56:38.156Z"
   },
   {
    "duration": 13,
    "start_time": "2023-07-01T19:56:38.293Z"
   },
   {
    "duration": 771,
    "start_time": "2023-07-01T19:56:38.308Z"
   },
   {
    "duration": 7,
    "start_time": "2023-07-01T19:56:39.081Z"
   },
   {
    "duration": 19,
    "start_time": "2023-07-01T19:56:39.090Z"
   },
   {
    "duration": 472,
    "start_time": "2023-07-01T19:56:39.111Z"
   },
   {
    "duration": 7,
    "start_time": "2023-07-01T19:56:39.585Z"
   },
   {
    "duration": 17,
    "start_time": "2023-07-01T19:56:39.602Z"
   },
   {
    "duration": 693,
    "start_time": "2023-07-01T19:56:39.621Z"
   },
   {
    "duration": 6,
    "start_time": "2023-07-01T19:56:40.317Z"
   },
   {
    "duration": 26,
    "start_time": "2023-07-01T19:56:40.325Z"
   },
   {
    "duration": 549,
    "start_time": "2023-07-01T19:56:40.353Z"
   },
   {
    "duration": 5,
    "start_time": "2023-07-01T19:56:40.904Z"
   },
   {
    "duration": 505,
    "start_time": "2023-07-01T19:56:40.911Z"
   },
   {
    "duration": 7,
    "start_time": "2023-07-01T19:56:41.418Z"
   },
   {
    "duration": 19,
    "start_time": "2023-07-01T19:56:41.426Z"
   },
   {
    "duration": 15,
    "start_time": "2023-07-01T19:56:41.446Z"
   },
   {
    "duration": 18,
    "start_time": "2023-07-01T19:56:41.463Z"
   },
   {
    "duration": 34,
    "start_time": "2023-07-01T19:56:41.483Z"
   },
   {
    "duration": 18,
    "start_time": "2023-07-01T19:56:41.520Z"
   },
   {
    "duration": 1610,
    "start_time": "2023-07-01T19:57:32.036Z"
   },
   {
    "duration": 57,
    "start_time": "2023-07-01T19:57:33.648Z"
   },
   {
    "duration": 14,
    "start_time": "2023-07-01T19:57:33.708Z"
   },
   {
    "duration": 39,
    "start_time": "2023-07-01T19:57:33.724Z"
   },
   {
    "duration": 18,
    "start_time": "2023-07-01T19:57:33.765Z"
   },
   {
    "duration": 22,
    "start_time": "2023-07-01T19:57:33.785Z"
   },
   {
    "duration": 11,
    "start_time": "2023-07-01T19:57:33.809Z"
   },
   {
    "duration": 11,
    "start_time": "2023-07-01T19:57:33.822Z"
   },
   {
    "duration": 16,
    "start_time": "2023-07-01T19:57:33.835Z"
   },
   {
    "duration": 27,
    "start_time": "2023-07-01T19:57:33.854Z"
   },
   {
    "duration": 266,
    "start_time": "2023-07-01T19:57:33.883Z"
   },
   {
    "duration": 14,
    "start_time": "2023-07-01T19:57:34.152Z"
   },
   {
    "duration": 18,
    "start_time": "2023-07-01T19:57:34.169Z"
   },
   {
    "duration": 306,
    "start_time": "2023-07-01T19:57:34.203Z"
   },
   {
    "duration": 8,
    "start_time": "2023-07-01T19:57:34.511Z"
   },
   {
    "duration": 295,
    "start_time": "2023-07-01T19:57:34.521Z"
   },
   {
    "duration": 12,
    "start_time": "2023-07-01T19:57:34.819Z"
   },
   {
    "duration": 11,
    "start_time": "2023-07-01T19:57:34.834Z"
   },
   {
    "duration": 6,
    "start_time": "2023-07-01T19:57:34.847Z"
   },
   {
    "duration": 56,
    "start_time": "2023-07-01T19:57:34.855Z"
   },
   {
    "duration": 10,
    "start_time": "2023-07-01T19:57:34.914Z"
   },
   {
    "duration": 109,
    "start_time": "2023-07-01T19:57:34.927Z"
   },
   {
    "duration": 27,
    "start_time": "2023-07-01T19:57:35.038Z"
   },
   {
    "duration": 844,
    "start_time": "2023-07-01T19:57:35.067Z"
   },
   {
    "duration": 7,
    "start_time": "2023-07-01T19:57:35.913Z"
   },
   {
    "duration": 18,
    "start_time": "2023-07-01T19:57:35.923Z"
   },
   {
    "duration": 527,
    "start_time": "2023-07-01T19:57:35.943Z"
   },
   {
    "duration": 6,
    "start_time": "2023-07-01T19:57:36.474Z"
   },
   {
    "duration": 24,
    "start_time": "2023-07-01T19:57:36.483Z"
   },
   {
    "duration": 833,
    "start_time": "2023-07-01T19:57:36.511Z"
   },
   {
    "duration": 7,
    "start_time": "2023-07-01T19:57:37.346Z"
   },
   {
    "duration": 16,
    "start_time": "2023-07-01T19:57:37.356Z"
   },
   {
    "duration": 517,
    "start_time": "2023-07-01T19:57:37.374Z"
   },
   {
    "duration": 8,
    "start_time": "2023-07-01T19:57:37.894Z"
   },
   {
    "duration": 569,
    "start_time": "2023-07-01T19:57:37.905Z"
   },
   {
    "duration": 13,
    "start_time": "2023-07-01T19:57:38.477Z"
   },
   {
    "duration": 6,
    "start_time": "2023-07-01T19:57:38.502Z"
   },
   {
    "duration": 11,
    "start_time": "2023-07-01T19:57:38.510Z"
   },
   {
    "duration": 17,
    "start_time": "2023-07-01T19:57:38.524Z"
   },
   {
    "duration": 36,
    "start_time": "2023-07-01T19:57:38.543Z"
   },
   {
    "duration": 35,
    "start_time": "2023-07-01T19:57:38.581Z"
   },
   {
    "duration": 674,
    "start_time": "2023-07-01T19:57:48.457Z"
   },
   {
    "duration": 1481,
    "start_time": "2023-07-01T19:57:55.598Z"
   },
   {
    "duration": 46,
    "start_time": "2023-07-01T19:57:57.081Z"
   },
   {
    "duration": 16,
    "start_time": "2023-07-01T19:57:57.129Z"
   },
   {
    "duration": 23,
    "start_time": "2023-07-01T19:57:57.148Z"
   },
   {
    "duration": 34,
    "start_time": "2023-07-01T19:57:57.173Z"
   },
   {
    "duration": 14,
    "start_time": "2023-07-01T19:57:57.209Z"
   },
   {
    "duration": 13,
    "start_time": "2023-07-01T19:57:57.226Z"
   },
   {
    "duration": 23,
    "start_time": "2023-07-01T19:57:57.241Z"
   },
   {
    "duration": 30,
    "start_time": "2023-07-01T19:57:57.267Z"
   },
   {
    "duration": 26,
    "start_time": "2023-07-01T19:57:57.303Z"
   },
   {
    "duration": 345,
    "start_time": "2023-07-01T19:57:57.332Z"
   },
   {
    "duration": 23,
    "start_time": "2023-07-01T19:57:57.680Z"
   },
   {
    "duration": 17,
    "start_time": "2023-07-01T19:57:57.706Z"
   },
   {
    "duration": 276,
    "start_time": "2023-07-01T19:57:57.726Z"
   },
   {
    "duration": 8,
    "start_time": "2023-07-01T19:57:58.004Z"
   },
   {
    "duration": 317,
    "start_time": "2023-07-01T19:57:58.014Z"
   },
   {
    "duration": 11,
    "start_time": "2023-07-01T19:57:58.333Z"
   },
   {
    "duration": 12,
    "start_time": "2023-07-01T19:57:58.346Z"
   },
   {
    "duration": 7,
    "start_time": "2023-07-01T19:57:58.360Z"
   },
   {
    "duration": 12,
    "start_time": "2023-07-01T19:57:58.403Z"
   },
   {
    "duration": 12,
    "start_time": "2023-07-01T19:57:58.418Z"
   },
   {
    "duration": 110,
    "start_time": "2023-07-01T19:57:58.433Z"
   },
   {
    "duration": 9,
    "start_time": "2023-07-01T19:57:58.545Z"
   },
   {
    "duration": 843,
    "start_time": "2023-07-01T19:57:58.556Z"
   },
   {
    "duration": 6,
    "start_time": "2023-07-01T19:57:59.401Z"
   },
   {
    "duration": 13,
    "start_time": "2023-07-01T19:57:59.408Z"
   },
   {
    "duration": 470,
    "start_time": "2023-07-01T19:57:59.423Z"
   },
   {
    "duration": 10,
    "start_time": "2023-07-01T19:57:59.896Z"
   },
   {
    "duration": 18,
    "start_time": "2023-07-01T19:57:59.908Z"
   },
   {
    "duration": 805,
    "start_time": "2023-07-01T19:57:59.928Z"
   },
   {
    "duration": 9,
    "start_time": "2023-07-01T19:58:00.739Z"
   },
   {
    "duration": 71,
    "start_time": "2023-07-01T19:58:00.751Z"
   },
   {
    "duration": 605,
    "start_time": "2023-07-01T19:58:00.825Z"
   },
   {
    "duration": 7,
    "start_time": "2023-07-01T19:58:01.433Z"
   },
   {
    "duration": 576,
    "start_time": "2023-07-01T19:58:01.442Z"
   },
   {
    "duration": 6,
    "start_time": "2023-07-01T19:58:02.020Z"
   },
   {
    "duration": 67,
    "start_time": "2023-07-01T19:58:02.028Z"
   },
   {
    "duration": 44,
    "start_time": "2023-07-01T19:58:02.097Z"
   },
   {
    "duration": 36,
    "start_time": "2023-07-01T19:58:02.142Z"
   },
   {
    "duration": 62,
    "start_time": "2023-07-01T19:58:02.181Z"
   },
   {
    "duration": 23,
    "start_time": "2023-07-01T19:58:02.245Z"
   },
   {
    "duration": 1580,
    "start_time": "2023-07-01T20:04:22.880Z"
   },
   {
    "duration": 48,
    "start_time": "2023-07-01T20:04:24.462Z"
   },
   {
    "duration": 11,
    "start_time": "2023-07-01T20:04:24.513Z"
   },
   {
    "duration": 14,
    "start_time": "2023-07-01T20:04:24.526Z"
   },
   {
    "duration": 12,
    "start_time": "2023-07-01T20:04:24.545Z"
   },
   {
    "duration": 12,
    "start_time": "2023-07-01T20:04:24.559Z"
   },
   {
    "duration": 41,
    "start_time": "2023-07-01T20:04:24.573Z"
   },
   {
    "duration": 8,
    "start_time": "2023-07-01T20:04:24.619Z"
   },
   {
    "duration": 9,
    "start_time": "2023-07-01T20:04:24.629Z"
   },
   {
    "duration": 16,
    "start_time": "2023-07-01T20:04:24.640Z"
   },
   {
    "duration": 223,
    "start_time": "2023-07-01T20:04:24.658Z"
   },
   {
    "duration": 10,
    "start_time": "2023-07-01T20:04:24.882Z"
   },
   {
    "duration": 25,
    "start_time": "2023-07-01T20:04:24.903Z"
   },
   {
    "duration": 247,
    "start_time": "2023-07-01T20:04:24.932Z"
   },
   {
    "duration": 7,
    "start_time": "2023-07-01T20:04:25.184Z"
   },
   {
    "duration": 274,
    "start_time": "2023-07-01T20:04:25.208Z"
   },
   {
    "duration": 18,
    "start_time": "2023-07-01T20:04:25.484Z"
   },
   {
    "duration": 22,
    "start_time": "2023-07-01T20:04:25.506Z"
   },
   {
    "duration": 5,
    "start_time": "2023-07-01T20:04:25.530Z"
   },
   {
    "duration": 20,
    "start_time": "2023-07-01T20:04:25.537Z"
   },
   {
    "duration": 7,
    "start_time": "2023-07-01T20:04:25.560Z"
   },
   {
    "duration": 122,
    "start_time": "2023-07-01T20:04:25.569Z"
   },
   {
    "duration": 25,
    "start_time": "2023-07-01T20:04:25.692Z"
   },
   {
    "duration": 791,
    "start_time": "2023-07-01T20:04:25.719Z"
   },
   {
    "duration": 7,
    "start_time": "2023-07-01T20:04:26.517Z"
   },
   {
    "duration": 20,
    "start_time": "2023-07-01T20:04:26.526Z"
   },
   {
    "duration": 529,
    "start_time": "2023-07-01T20:04:26.548Z"
   },
   {
    "duration": 6,
    "start_time": "2023-07-01T20:04:27.079Z"
   },
   {
    "duration": 23,
    "start_time": "2023-07-01T20:04:27.086Z"
   },
   {
    "duration": 703,
    "start_time": "2023-07-01T20:04:27.110Z"
   },
   {
    "duration": 6,
    "start_time": "2023-07-01T20:04:27.815Z"
   },
   {
    "duration": 9,
    "start_time": "2023-07-01T20:04:27.823Z"
   },
   {
    "duration": 462,
    "start_time": "2023-07-01T20:04:27.834Z"
   },
   {
    "duration": 13,
    "start_time": "2023-07-01T20:04:28.304Z"
   },
   {
    "duration": 464,
    "start_time": "2023-07-01T20:04:28.321Z"
   },
   {
    "duration": 18,
    "start_time": "2023-07-01T20:04:28.787Z"
   },
   {
    "duration": 10,
    "start_time": "2023-07-01T20:04:28.807Z"
   },
   {
    "duration": 9,
    "start_time": "2023-07-01T20:04:28.821Z"
   },
   {
    "duration": 8,
    "start_time": "2023-07-01T20:04:28.832Z"
   },
   {
    "duration": 23,
    "start_time": "2023-07-01T20:04:28.842Z"
   },
   {
    "duration": 35,
    "start_time": "2023-07-01T20:04:28.870Z"
   },
   {
    "duration": 1735,
    "start_time": "2023-07-01T20:05:58.443Z"
   },
   {
    "duration": 63,
    "start_time": "2023-07-01T20:06:00.180Z"
   },
   {
    "duration": 15,
    "start_time": "2023-07-01T20:06:00.246Z"
   },
   {
    "duration": 49,
    "start_time": "2023-07-01T20:06:00.263Z"
   },
   {
    "duration": 53,
    "start_time": "2023-07-01T20:06:00.321Z"
   },
   {
    "duration": 63,
    "start_time": "2023-07-01T20:06:00.379Z"
   },
   {
    "duration": 57,
    "start_time": "2023-07-01T20:06:00.444Z"
   },
   {
    "duration": 111,
    "start_time": "2023-07-01T20:06:00.504Z"
   },
   {
    "duration": 43,
    "start_time": "2023-07-01T20:06:00.618Z"
   },
   {
    "duration": 105,
    "start_time": "2023-07-01T20:06:00.663Z"
   },
   {
    "duration": 252,
    "start_time": "2023-07-01T20:06:00.771Z"
   },
   {
    "duration": 12,
    "start_time": "2023-07-01T20:06:01.025Z"
   },
   {
    "duration": 34,
    "start_time": "2023-07-01T20:06:01.039Z"
   },
   {
    "duration": 289,
    "start_time": "2023-07-01T20:06:01.078Z"
   },
   {
    "duration": 8,
    "start_time": "2023-07-01T20:06:01.368Z"
   },
   {
    "duration": 363,
    "start_time": "2023-07-01T20:06:01.377Z"
   },
   {
    "duration": 10,
    "start_time": "2023-07-01T20:06:01.741Z"
   },
   {
    "duration": 20,
    "start_time": "2023-07-01T20:06:01.753Z"
   },
   {
    "duration": 45,
    "start_time": "2023-07-01T20:06:01.775Z"
   },
   {
    "duration": 50,
    "start_time": "2023-07-01T20:06:01.823Z"
   },
   {
    "duration": 62,
    "start_time": "2023-07-01T20:06:01.874Z"
   },
   {
    "duration": 125,
    "start_time": "2023-07-01T20:06:01.939Z"
   },
   {
    "duration": 88,
    "start_time": "2023-07-01T20:06:02.067Z"
   },
   {
    "duration": 859,
    "start_time": "2023-07-01T20:06:02.157Z"
   },
   {
    "duration": 8,
    "start_time": "2023-07-01T20:06:03.021Z"
   },
   {
    "duration": 17,
    "start_time": "2023-07-01T20:06:03.032Z"
   },
   {
    "duration": 490,
    "start_time": "2023-07-01T20:06:03.051Z"
   },
   {
    "duration": 5,
    "start_time": "2023-07-01T20:06:03.543Z"
   },
   {
    "duration": 13,
    "start_time": "2023-07-01T20:06:03.550Z"
   },
   {
    "duration": 766,
    "start_time": "2023-07-01T20:06:03.566Z"
   },
   {
    "duration": 6,
    "start_time": "2023-07-01T20:06:04.333Z"
   },
   {
    "duration": 9,
    "start_time": "2023-07-01T20:06:04.341Z"
   },
   {
    "duration": 525,
    "start_time": "2023-07-01T20:06:04.351Z"
   },
   {
    "duration": 4,
    "start_time": "2023-07-01T20:06:04.879Z"
   },
   {
    "duration": 519,
    "start_time": "2023-07-01T20:06:04.885Z"
   },
   {
    "duration": 6,
    "start_time": "2023-07-01T20:06:05.406Z"
   },
   {
    "duration": 51,
    "start_time": "2023-07-01T20:06:05.417Z"
   },
   {
    "duration": 17,
    "start_time": "2023-07-01T20:06:05.471Z"
   },
   {
    "duration": 54,
    "start_time": "2023-07-01T20:06:05.490Z"
   },
   {
    "duration": 44,
    "start_time": "2023-07-01T20:06:05.546Z"
   },
   {
    "duration": 29,
    "start_time": "2023-07-01T20:06:05.595Z"
   },
   {
    "duration": 774,
    "start_time": "2023-07-01T20:06:13.423Z"
   },
   {
    "duration": 1551,
    "start_time": "2023-07-01T20:06:19.517Z"
   },
   {
    "duration": 49,
    "start_time": "2023-07-01T20:06:21.070Z"
   },
   {
    "duration": 12,
    "start_time": "2023-07-01T20:06:21.121Z"
   },
   {
    "duration": 69,
    "start_time": "2023-07-01T20:06:21.135Z"
   },
   {
    "duration": 24,
    "start_time": "2023-07-01T20:06:21.211Z"
   },
   {
    "duration": 35,
    "start_time": "2023-07-01T20:06:21.237Z"
   },
   {
    "duration": 11,
    "start_time": "2023-07-01T20:06:21.274Z"
   },
   {
    "duration": 29,
    "start_time": "2023-07-01T20:06:21.287Z"
   },
   {
    "duration": 29,
    "start_time": "2023-07-01T20:06:21.318Z"
   },
   {
    "duration": 32,
    "start_time": "2023-07-01T20:06:21.348Z"
   },
   {
    "duration": 238,
    "start_time": "2023-07-01T20:06:21.381Z"
   },
   {
    "duration": 14,
    "start_time": "2023-07-01T20:06:21.621Z"
   },
   {
    "duration": 25,
    "start_time": "2023-07-01T20:06:21.637Z"
   },
   {
    "duration": 264,
    "start_time": "2023-07-01T20:06:21.667Z"
   },
   {
    "duration": 8,
    "start_time": "2023-07-01T20:06:21.933Z"
   },
   {
    "duration": 297,
    "start_time": "2023-07-01T20:06:21.942Z"
   },
   {
    "duration": 10,
    "start_time": "2023-07-01T20:06:22.241Z"
   },
   {
    "duration": 25,
    "start_time": "2023-07-01T20:06:22.252Z"
   },
   {
    "duration": 12,
    "start_time": "2023-07-01T20:06:22.279Z"
   },
   {
    "duration": 32,
    "start_time": "2023-07-01T20:06:22.293Z"
   },
   {
    "duration": 14,
    "start_time": "2023-07-01T20:06:22.327Z"
   },
   {
    "duration": 96,
    "start_time": "2023-07-01T20:06:22.343Z"
   },
   {
    "duration": 16,
    "start_time": "2023-07-01T20:06:22.441Z"
   },
   {
    "duration": 749,
    "start_time": "2023-07-01T20:06:22.459Z"
   },
   {
    "duration": 8,
    "start_time": "2023-07-01T20:06:23.211Z"
   },
   {
    "duration": 15,
    "start_time": "2023-07-01T20:06:23.223Z"
   },
   {
    "duration": 462,
    "start_time": "2023-07-01T20:06:23.239Z"
   },
   {
    "duration": 16,
    "start_time": "2023-07-01T20:06:23.703Z"
   },
   {
    "duration": 16,
    "start_time": "2023-07-01T20:06:23.723Z"
   },
   {
    "duration": 677,
    "start_time": "2023-07-01T20:06:23.740Z"
   },
   {
    "duration": 6,
    "start_time": "2023-07-01T20:06:24.419Z"
   },
   {
    "duration": 15,
    "start_time": "2023-07-01T20:06:24.427Z"
   },
   {
    "duration": 431,
    "start_time": "2023-07-01T20:06:24.444Z"
   },
   {
    "duration": 4,
    "start_time": "2023-07-01T20:06:24.877Z"
   },
   {
    "duration": 497,
    "start_time": "2023-07-01T20:06:24.883Z"
   },
   {
    "duration": 4,
    "start_time": "2023-07-01T20:06:25.382Z"
   },
   {
    "duration": 33,
    "start_time": "2023-07-01T20:06:25.388Z"
   },
   {
    "duration": 15,
    "start_time": "2023-07-01T20:06:25.423Z"
   },
   {
    "duration": 11,
    "start_time": "2023-07-01T20:06:25.440Z"
   },
   {
    "duration": 27,
    "start_time": "2023-07-01T20:06:25.452Z"
   },
   {
    "duration": 30,
    "start_time": "2023-07-01T20:06:25.483Z"
   },
   {
    "duration": 16,
    "start_time": "2023-07-01T20:06:41.849Z"
   },
   {
    "duration": 21,
    "start_time": "2023-07-01T20:07:22.122Z"
   },
   {
    "duration": 9,
    "start_time": "2023-07-01T20:07:48.050Z"
   },
   {
    "duration": 18,
    "start_time": "2023-07-01T20:08:04.915Z"
   },
   {
    "duration": 1754,
    "start_time": "2023-07-01T20:08:31.364Z"
   },
   {
    "duration": 56,
    "start_time": "2023-07-01T20:08:33.121Z"
   },
   {
    "duration": 24,
    "start_time": "2023-07-01T20:08:33.179Z"
   },
   {
    "duration": 59,
    "start_time": "2023-07-01T20:08:33.207Z"
   },
   {
    "duration": 14,
    "start_time": "2023-07-01T20:08:33.270Z"
   },
   {
    "duration": 14,
    "start_time": "2023-07-01T20:08:33.286Z"
   },
   {
    "duration": 12,
    "start_time": "2023-07-01T20:08:33.306Z"
   },
   {
    "duration": 26,
    "start_time": "2023-07-01T20:08:33.320Z"
   },
   {
    "duration": 11,
    "start_time": "2023-07-01T20:08:33.348Z"
   },
   {
    "duration": 15,
    "start_time": "2023-07-01T20:08:33.361Z"
   },
   {
    "duration": 232,
    "start_time": "2023-07-01T20:08:33.378Z"
   },
   {
    "duration": 24,
    "start_time": "2023-07-01T20:08:33.613Z"
   },
   {
    "duration": 17,
    "start_time": "2023-07-01T20:08:33.645Z"
   },
   {
    "duration": 361,
    "start_time": "2023-07-01T20:08:33.668Z"
   },
   {
    "duration": 10,
    "start_time": "2023-07-01T20:08:34.030Z"
   },
   {
    "duration": 311,
    "start_time": "2023-07-01T20:08:34.042Z"
   },
   {
    "duration": 9,
    "start_time": "2023-07-01T20:08:34.355Z"
   },
   {
    "duration": 12,
    "start_time": "2023-07-01T20:08:34.366Z"
   },
   {
    "duration": 26,
    "start_time": "2023-07-01T20:08:34.380Z"
   },
   {
    "duration": 44,
    "start_time": "2023-07-01T20:08:34.408Z"
   },
   {
    "duration": 9,
    "start_time": "2023-07-01T20:08:34.454Z"
   },
   {
    "duration": 101,
    "start_time": "2023-07-01T20:08:34.464Z"
   },
   {
    "duration": 11,
    "start_time": "2023-07-01T20:08:34.567Z"
   },
   {
    "duration": 853,
    "start_time": "2023-07-01T20:08:34.579Z"
   },
   {
    "duration": 7,
    "start_time": "2023-07-01T20:08:35.434Z"
   },
   {
    "duration": 13,
    "start_time": "2023-07-01T20:08:35.443Z"
   },
   {
    "duration": 485,
    "start_time": "2023-07-01T20:08:35.458Z"
   },
   {
    "duration": 5,
    "start_time": "2023-07-01T20:08:35.945Z"
   },
   {
    "duration": 19,
    "start_time": "2023-07-01T20:08:35.952Z"
   },
   {
    "duration": 726,
    "start_time": "2023-07-01T20:08:35.973Z"
   },
   {
    "duration": 6,
    "start_time": "2023-07-01T20:08:36.701Z"
   },
   {
    "duration": 38,
    "start_time": "2023-07-01T20:08:36.709Z"
   },
   {
    "duration": 439,
    "start_time": "2023-07-01T20:08:36.750Z"
   },
   {
    "duration": 27,
    "start_time": "2023-07-01T20:08:37.191Z"
   },
   {
    "duration": 530,
    "start_time": "2023-07-01T20:08:37.228Z"
   },
   {
    "duration": 7,
    "start_time": "2023-07-01T20:08:37.761Z"
   },
   {
    "duration": 37,
    "start_time": "2023-07-01T20:08:37.771Z"
   },
   {
    "duration": 40,
    "start_time": "2023-07-01T20:08:37.810Z"
   },
   {
    "duration": 14,
    "start_time": "2023-07-01T20:08:37.852Z"
   },
   {
    "duration": 29,
    "start_time": "2023-07-01T20:08:37.868Z"
   },
   {
    "duration": 24,
    "start_time": "2023-07-01T20:08:37.903Z"
   },
   {
    "duration": 21,
    "start_time": "2023-07-01T20:08:37.929Z"
   },
   {
    "duration": 18,
    "start_time": "2023-07-01T20:08:37.952Z"
   },
   {
    "duration": 1449,
    "start_time": "2023-07-01T20:09:24.104Z"
   },
   {
    "duration": 45,
    "start_time": "2023-07-01T20:09:25.555Z"
   },
   {
    "duration": 16,
    "start_time": "2023-07-01T20:09:25.609Z"
   },
   {
    "duration": 19,
    "start_time": "2023-07-01T20:09:25.628Z"
   },
   {
    "duration": 11,
    "start_time": "2023-07-01T20:09:25.651Z"
   },
   {
    "duration": 14,
    "start_time": "2023-07-01T20:09:25.664Z"
   },
   {
    "duration": 7,
    "start_time": "2023-07-01T20:09:25.680Z"
   },
   {
    "duration": 18,
    "start_time": "2023-07-01T20:09:25.688Z"
   },
   {
    "duration": 30,
    "start_time": "2023-07-01T20:09:25.707Z"
   },
   {
    "duration": 16,
    "start_time": "2023-07-01T20:09:25.739Z"
   },
   {
    "duration": 209,
    "start_time": "2023-07-01T20:09:25.757Z"
   },
   {
    "duration": 10,
    "start_time": "2023-07-01T20:09:25.968Z"
   },
   {
    "duration": 23,
    "start_time": "2023-07-01T20:09:25.980Z"
   },
   {
    "duration": 247,
    "start_time": "2023-07-01T20:09:26.015Z"
   },
   {
    "duration": 6,
    "start_time": "2023-07-01T20:09:26.264Z"
   },
   {
    "duration": 275,
    "start_time": "2023-07-01T20:09:26.271Z"
   },
   {
    "duration": 8,
    "start_time": "2023-07-01T20:09:26.548Z"
   },
   {
    "duration": 8,
    "start_time": "2023-07-01T20:09:26.558Z"
   },
   {
    "duration": 4,
    "start_time": "2023-07-01T20:09:26.568Z"
   },
   {
    "duration": 51,
    "start_time": "2023-07-01T20:09:26.574Z"
   },
   {
    "duration": 6,
    "start_time": "2023-07-01T20:09:26.628Z"
   },
   {
    "duration": 94,
    "start_time": "2023-07-01T20:09:26.635Z"
   },
   {
    "duration": 8,
    "start_time": "2023-07-01T20:09:26.732Z"
   },
   {
    "duration": 778,
    "start_time": "2023-07-01T20:09:26.742Z"
   },
   {
    "duration": 6,
    "start_time": "2023-07-01T20:09:27.526Z"
   },
   {
    "duration": 20,
    "start_time": "2023-07-01T20:09:27.534Z"
   },
   {
    "duration": 481,
    "start_time": "2023-07-01T20:09:27.555Z"
   },
   {
    "duration": 6,
    "start_time": "2023-07-01T20:09:28.037Z"
   },
   {
    "duration": 23,
    "start_time": "2023-07-01T20:09:28.044Z"
   },
   {
    "duration": 664,
    "start_time": "2023-07-01T20:09:28.068Z"
   },
   {
    "duration": 5,
    "start_time": "2023-07-01T20:09:28.734Z"
   },
   {
    "duration": 10,
    "start_time": "2023-07-01T20:09:28.741Z"
   },
   {
    "duration": 469,
    "start_time": "2023-07-01T20:09:28.752Z"
   },
   {
    "duration": 4,
    "start_time": "2023-07-01T20:09:29.227Z"
   },
   {
    "duration": 482,
    "start_time": "2023-07-01T20:09:29.233Z"
   },
   {
    "duration": 12,
    "start_time": "2023-07-01T20:09:29.716Z"
   },
   {
    "duration": 50,
    "start_time": "2023-07-01T20:09:29.733Z"
   },
   {
    "duration": 11,
    "start_time": "2023-07-01T20:09:29.784Z"
   },
   {
    "duration": 41,
    "start_time": "2023-07-01T20:09:29.796Z"
   },
   {
    "duration": 17,
    "start_time": "2023-07-01T20:09:29.839Z"
   },
   {
    "duration": 16,
    "start_time": "2023-07-01T20:09:29.860Z"
   },
   {
    "duration": 8,
    "start_time": "2023-07-01T20:09:29.878Z"
   },
   {
    "duration": 21,
    "start_time": "2023-07-01T20:09:29.888Z"
   },
   {
    "duration": 5,
    "start_time": "2023-07-01T20:12:02.459Z"
   },
   {
    "duration": 1437,
    "start_time": "2023-07-01T20:12:07.955Z"
   },
   {
    "duration": 58,
    "start_time": "2023-07-01T20:12:09.394Z"
   },
   {
    "duration": 11,
    "start_time": "2023-07-01T20:12:09.454Z"
   },
   {
    "duration": 13,
    "start_time": "2023-07-01T20:12:09.466Z"
   },
   {
    "duration": 13,
    "start_time": "2023-07-01T20:12:09.483Z"
   },
   {
    "duration": 22,
    "start_time": "2023-07-01T20:12:09.498Z"
   },
   {
    "duration": 16,
    "start_time": "2023-07-01T20:12:09.528Z"
   },
   {
    "duration": 90,
    "start_time": "2023-07-01T20:12:09.546Z"
   },
   {
    "duration": 13,
    "start_time": "2023-07-01T20:12:09.638Z"
   },
   {
    "duration": 16,
    "start_time": "2023-07-01T20:12:09.653Z"
   },
   {
    "duration": 213,
    "start_time": "2023-07-01T20:12:09.670Z"
   },
   {
    "duration": 26,
    "start_time": "2023-07-01T20:12:09.885Z"
   },
   {
    "duration": 31,
    "start_time": "2023-07-01T20:12:09.916Z"
   },
   {
    "duration": 269,
    "start_time": "2023-07-01T20:12:09.950Z"
   },
   {
    "duration": 8,
    "start_time": "2023-07-01T20:12:10.221Z"
   },
   {
    "duration": 326,
    "start_time": "2023-07-01T20:12:10.231Z"
   },
   {
    "duration": 10,
    "start_time": "2023-07-01T20:12:10.559Z"
   },
   {
    "duration": 20,
    "start_time": "2023-07-01T20:12:10.570Z"
   },
   {
    "duration": 55,
    "start_time": "2023-07-01T20:12:10.592Z"
   },
   {
    "duration": 22,
    "start_time": "2023-07-01T20:12:10.649Z"
   },
   {
    "duration": 24,
    "start_time": "2023-07-01T20:12:10.673Z"
   },
   {
    "duration": 120,
    "start_time": "2023-07-01T20:12:10.700Z"
   },
   {
    "duration": 24,
    "start_time": "2023-07-01T20:12:10.827Z"
   },
   {
    "duration": 764,
    "start_time": "2023-07-01T20:12:10.852Z"
   },
   {
    "duration": 7,
    "start_time": "2023-07-01T20:12:11.618Z"
   },
   {
    "duration": 8,
    "start_time": "2023-07-01T20:12:11.634Z"
   },
   {
    "duration": 434,
    "start_time": "2023-07-01T20:12:11.644Z"
   },
   {
    "duration": 5,
    "start_time": "2023-07-01T20:12:12.080Z"
   },
   {
    "duration": 57,
    "start_time": "2023-07-01T20:12:12.086Z"
   },
   {
    "duration": 1790,
    "start_time": "2023-07-01T20:12:12.145Z"
   },
   {
    "duration": 64,
    "start_time": "2023-07-01T20:12:13.937Z"
   },
   {
    "duration": 41,
    "start_time": "2023-07-01T20:12:14.003Z"
   },
   {
    "duration": 439,
    "start_time": "2023-07-01T20:12:14.046Z"
   },
   {
    "duration": 4,
    "start_time": "2023-07-01T20:12:14.487Z"
   },
   {
    "duration": 482,
    "start_time": "2023-07-01T20:12:14.501Z"
   },
   {
    "duration": 6,
    "start_time": "2023-07-01T20:12:14.984Z"
   },
   {
    "duration": 4,
    "start_time": "2023-07-01T20:12:15.004Z"
   },
   {
    "duration": 56,
    "start_time": "2023-07-01T20:12:15.014Z"
   },
   {
    "duration": 8,
    "start_time": "2023-07-01T20:12:15.072Z"
   },
   {
    "duration": 19,
    "start_time": "2023-07-01T20:12:15.081Z"
   },
   {
    "duration": 9,
    "start_time": "2023-07-01T20:12:15.115Z"
   },
   {
    "duration": 32,
    "start_time": "2023-07-01T20:12:15.125Z"
   },
   {
    "duration": 117,
    "start_time": "2023-07-01T20:14:48.965Z"
   },
   {
    "duration": 32,
    "start_time": "2023-07-01T20:14:54.383Z"
   },
   {
    "duration": 13,
    "start_time": "2023-07-01T20:14:56.826Z"
   },
   {
    "duration": 12,
    "start_time": "2023-07-01T20:18:23.430Z"
   },
   {
    "duration": 16,
    "start_time": "2023-07-01T20:19:35.629Z"
   },
   {
    "duration": 6,
    "start_time": "2023-07-01T20:20:05.845Z"
   },
   {
    "duration": 26,
    "start_time": "2023-07-01T20:20:06.999Z"
   },
   {
    "duration": 44,
    "start_time": "2023-07-01T20:20:32.397Z"
   },
   {
    "duration": 1617,
    "start_time": "2023-07-01T20:22:02.447Z"
   },
   {
    "duration": 61,
    "start_time": "2023-07-01T20:22:04.066Z"
   },
   {
    "duration": 17,
    "start_time": "2023-07-01T20:22:04.142Z"
   },
   {
    "duration": 16,
    "start_time": "2023-07-01T20:22:04.161Z"
   },
   {
    "duration": 11,
    "start_time": "2023-07-01T20:22:04.180Z"
   },
   {
    "duration": 21,
    "start_time": "2023-07-01T20:22:04.193Z"
   },
   {
    "duration": 28,
    "start_time": "2023-07-01T20:22:04.220Z"
   },
   {
    "duration": 4,
    "start_time": "2023-07-01T20:22:04.250Z"
   },
   {
    "duration": 11,
    "start_time": "2023-07-01T20:22:04.256Z"
   },
   {
    "duration": 20,
    "start_time": "2023-07-01T20:22:04.268Z"
   },
   {
    "duration": 224,
    "start_time": "2023-07-01T20:22:04.290Z"
   },
   {
    "duration": 15,
    "start_time": "2023-07-01T20:22:04.516Z"
   },
   {
    "duration": 23,
    "start_time": "2023-07-01T20:22:04.532Z"
   },
   {
    "duration": 257,
    "start_time": "2023-07-01T20:22:04.558Z"
   },
   {
    "duration": 10,
    "start_time": "2023-07-01T20:22:04.822Z"
   },
   {
    "duration": 271,
    "start_time": "2023-07-01T20:22:04.837Z"
   },
   {
    "duration": 18,
    "start_time": "2023-07-01T20:22:05.121Z"
   },
   {
    "duration": 16,
    "start_time": "2023-07-01T20:22:05.143Z"
   },
   {
    "duration": 7,
    "start_time": "2023-07-01T20:22:05.161Z"
   },
   {
    "duration": 26,
    "start_time": "2023-07-01T20:22:05.170Z"
   },
   {
    "duration": 47,
    "start_time": "2023-07-01T20:22:05.198Z"
   },
   {
    "duration": 95,
    "start_time": "2023-07-01T20:22:05.250Z"
   },
   {
    "duration": 11,
    "start_time": "2023-07-01T20:22:05.347Z"
   },
   {
    "duration": 755,
    "start_time": "2023-07-01T20:22:05.360Z"
   },
   {
    "duration": 10,
    "start_time": "2023-07-01T20:22:06.124Z"
   },
   {
    "duration": 18,
    "start_time": "2023-07-01T20:22:06.136Z"
   },
   {
    "duration": 438,
    "start_time": "2023-07-01T20:22:06.156Z"
   },
   {
    "duration": 19,
    "start_time": "2023-07-01T20:22:06.596Z"
   },
   {
    "duration": 35,
    "start_time": "2023-07-01T20:22:06.617Z"
   },
   {
    "duration": 690,
    "start_time": "2023-07-01T20:22:06.654Z"
   },
   {
    "duration": 5,
    "start_time": "2023-07-01T20:22:07.347Z"
   },
   {
    "duration": 13,
    "start_time": "2023-07-01T20:22:07.353Z"
   },
   {
    "duration": 470,
    "start_time": "2023-07-01T20:22:07.368Z"
   },
   {
    "duration": 6,
    "start_time": "2023-07-01T20:22:07.842Z"
   },
   {
    "duration": 499,
    "start_time": "2023-07-01T20:22:07.849Z"
   },
   {
    "duration": 5,
    "start_time": "2023-07-01T20:22:08.350Z"
   },
   {
    "duration": 18,
    "start_time": "2023-07-01T20:22:08.356Z"
   },
   {
    "duration": 8,
    "start_time": "2023-07-01T20:22:08.376Z"
   },
   {
    "duration": 23,
    "start_time": "2023-07-01T20:22:08.404Z"
   },
   {
    "duration": 18,
    "start_time": "2023-07-01T20:22:08.428Z"
   },
   {
    "duration": 6,
    "start_time": "2023-07-01T20:22:08.449Z"
   },
   {
    "duration": 141,
    "start_time": "2023-07-01T20:22:08.457Z"
   },
   {
    "duration": 0,
    "start_time": "2023-07-01T20:22:08.600Z"
   },
   {
    "duration": 1515,
    "start_time": "2023-07-01T20:23:08.021Z"
   },
   {
    "duration": 45,
    "start_time": "2023-07-01T20:23:09.540Z"
   },
   {
    "duration": 11,
    "start_time": "2023-07-01T20:23:09.586Z"
   },
   {
    "duration": 23,
    "start_time": "2023-07-01T20:23:09.599Z"
   },
   {
    "duration": 26,
    "start_time": "2023-07-01T20:23:09.625Z"
   },
   {
    "duration": 12,
    "start_time": "2023-07-01T20:23:09.653Z"
   },
   {
    "duration": 7,
    "start_time": "2023-07-01T20:23:09.667Z"
   },
   {
    "duration": 4,
    "start_time": "2023-07-01T20:23:09.676Z"
   },
   {
    "duration": 8,
    "start_time": "2023-07-01T20:23:09.682Z"
   },
   {
    "duration": 25,
    "start_time": "2023-07-01T20:23:09.692Z"
   },
   {
    "duration": 233,
    "start_time": "2023-07-01T20:23:09.718Z"
   },
   {
    "duration": 10,
    "start_time": "2023-07-01T20:23:09.953Z"
   },
   {
    "duration": 15,
    "start_time": "2023-07-01T20:23:09.964Z"
   },
   {
    "duration": 263,
    "start_time": "2023-07-01T20:23:09.982Z"
   },
   {
    "duration": 6,
    "start_time": "2023-07-01T20:23:10.247Z"
   },
   {
    "duration": 311,
    "start_time": "2023-07-01T20:23:10.255Z"
   },
   {
    "duration": 10,
    "start_time": "2023-07-01T20:23:10.568Z"
   },
   {
    "duration": 52,
    "start_time": "2023-07-01T20:23:10.580Z"
   },
   {
    "duration": 24,
    "start_time": "2023-07-01T20:23:10.633Z"
   },
   {
    "duration": 18,
    "start_time": "2023-07-01T20:23:10.659Z"
   },
   {
    "duration": 12,
    "start_time": "2023-07-01T20:23:10.679Z"
   },
   {
    "duration": 147,
    "start_time": "2023-07-01T20:23:10.693Z"
   },
   {
    "duration": 22,
    "start_time": "2023-07-01T20:23:10.844Z"
   },
   {
    "duration": 825,
    "start_time": "2023-07-01T20:23:10.869Z"
   },
   {
    "duration": 8,
    "start_time": "2023-07-01T20:23:11.696Z"
   },
   {
    "duration": 39,
    "start_time": "2023-07-01T20:23:11.706Z"
   },
   {
    "duration": 447,
    "start_time": "2023-07-01T20:23:11.746Z"
   },
   {
    "duration": 16,
    "start_time": "2023-07-01T20:23:12.201Z"
   },
   {
    "duration": 29,
    "start_time": "2023-07-01T20:23:12.224Z"
   },
   {
    "duration": 681,
    "start_time": "2023-07-01T20:23:12.254Z"
   },
   {
    "duration": 6,
    "start_time": "2023-07-01T20:23:12.937Z"
   },
   {
    "duration": 11,
    "start_time": "2023-07-01T20:23:12.944Z"
   },
   {
    "duration": 418,
    "start_time": "2023-07-01T20:23:12.957Z"
   },
   {
    "duration": 4,
    "start_time": "2023-07-01T20:23:13.377Z"
   },
   {
    "duration": 508,
    "start_time": "2023-07-01T20:23:13.382Z"
   },
   {
    "duration": 17,
    "start_time": "2023-07-01T20:23:13.892Z"
   },
   {
    "duration": 40,
    "start_time": "2023-07-01T20:23:13.920Z"
   },
   {
    "duration": 10,
    "start_time": "2023-07-01T20:23:13.962Z"
   },
   {
    "duration": 16,
    "start_time": "2023-07-01T20:23:13.974Z"
   },
   {
    "duration": 17,
    "start_time": "2023-07-01T20:23:13.992Z"
   },
   {
    "duration": 35,
    "start_time": "2023-07-01T20:23:14.015Z"
   },
   {
    "duration": 139,
    "start_time": "2023-07-01T20:23:14.051Z"
   },
   {
    "duration": 0,
    "start_time": "2023-07-01T20:23:14.192Z"
   },
   {
    "duration": 12,
    "start_time": "2023-07-01T20:30:09.492Z"
   },
   {
    "duration": 11,
    "start_time": "2023-07-01T20:30:18.024Z"
   },
   {
    "duration": 17,
    "start_time": "2023-07-01T20:38:56.723Z"
   },
   {
    "duration": 1646,
    "start_time": "2023-07-01T20:40:17.588Z"
   },
   {
    "duration": 48,
    "start_time": "2023-07-01T20:40:19.236Z"
   },
   {
    "duration": 10,
    "start_time": "2023-07-01T20:40:19.286Z"
   },
   {
    "duration": 16,
    "start_time": "2023-07-01T20:40:19.298Z"
   },
   {
    "duration": 51,
    "start_time": "2023-07-01T20:40:19.316Z"
   },
   {
    "duration": 16,
    "start_time": "2023-07-01T20:40:19.369Z"
   },
   {
    "duration": 10,
    "start_time": "2023-07-01T20:40:19.387Z"
   },
   {
    "duration": 23,
    "start_time": "2023-07-01T20:40:19.398Z"
   },
   {
    "duration": 32,
    "start_time": "2023-07-01T20:40:19.427Z"
   },
   {
    "duration": 20,
    "start_time": "2023-07-01T20:40:19.461Z"
   },
   {
    "duration": 215,
    "start_time": "2023-07-01T20:40:19.483Z"
   },
   {
    "duration": 16,
    "start_time": "2023-07-01T20:40:19.702Z"
   },
   {
    "duration": 11,
    "start_time": "2023-07-01T20:40:19.719Z"
   },
   {
    "duration": 259,
    "start_time": "2023-07-01T20:40:19.736Z"
   },
   {
    "duration": 14,
    "start_time": "2023-07-01T20:40:19.997Z"
   },
   {
    "duration": 323,
    "start_time": "2023-07-01T20:40:20.013Z"
   },
   {
    "duration": 14,
    "start_time": "2023-07-01T20:40:20.338Z"
   },
   {
    "duration": 37,
    "start_time": "2023-07-01T20:40:20.354Z"
   },
   {
    "duration": 33,
    "start_time": "2023-07-01T20:40:20.393Z"
   },
   {
    "duration": 37,
    "start_time": "2023-07-01T20:40:20.435Z"
   },
   {
    "duration": 23,
    "start_time": "2023-07-01T20:40:20.474Z"
   },
   {
    "duration": 163,
    "start_time": "2023-07-01T20:40:20.499Z"
   },
   {
    "duration": 13,
    "start_time": "2023-07-01T20:40:20.665Z"
   },
   {
    "duration": 818,
    "start_time": "2023-07-01T20:40:20.680Z"
   },
   {
    "duration": 20,
    "start_time": "2023-07-01T20:40:21.500Z"
   },
   {
    "duration": 30,
    "start_time": "2023-07-01T20:40:21.522Z"
   },
   {
    "duration": 475,
    "start_time": "2023-07-01T20:40:21.554Z"
   },
   {
    "duration": 6,
    "start_time": "2023-07-01T20:40:22.031Z"
   },
   {
    "duration": 10,
    "start_time": "2023-07-01T20:40:22.042Z"
   },
   {
    "duration": 694,
    "start_time": "2023-07-01T20:40:22.054Z"
   },
   {
    "duration": 5,
    "start_time": "2023-07-01T20:40:22.750Z"
   },
   {
    "duration": 20,
    "start_time": "2023-07-01T20:40:22.756Z"
   },
   {
    "duration": 503,
    "start_time": "2023-07-01T20:40:22.778Z"
   },
   {
    "duration": 5,
    "start_time": "2023-07-01T20:40:23.282Z"
   },
   {
    "duration": 526,
    "start_time": "2023-07-01T20:40:23.288Z"
   },
   {
    "duration": 14,
    "start_time": "2023-07-01T20:40:23.819Z"
   },
   {
    "duration": 25,
    "start_time": "2023-07-01T20:40:23.838Z"
   },
   {
    "duration": 9,
    "start_time": "2023-07-01T20:40:23.865Z"
   },
   {
    "duration": 23,
    "start_time": "2023-07-01T20:40:23.875Z"
   },
   {
    "duration": 44,
    "start_time": "2023-07-01T20:40:23.900Z"
   },
   {
    "duration": 17,
    "start_time": "2023-07-01T20:40:23.948Z"
   },
   {
    "duration": 23,
    "start_time": "2023-07-01T20:40:23.967Z"
   },
   {
    "duration": 19,
    "start_time": "2023-07-01T20:40:23.992Z"
   },
   {
    "duration": 98,
    "start_time": "2023-07-01T20:40:24.016Z"
   },
   {
    "duration": 6,
    "start_time": "2023-07-01T20:42:29.438Z"
   },
   {
    "duration": 4,
    "start_time": "2023-07-01T20:44:10.701Z"
   },
   {
    "duration": 7,
    "start_time": "2023-07-01T20:44:46.968Z"
   },
   {
    "duration": 4,
    "start_time": "2023-07-01T20:45:17.880Z"
   },
   {
    "duration": 4,
    "start_time": "2023-07-01T20:45:34.001Z"
   },
   {
    "duration": 1510,
    "start_time": "2023-07-02T10:33:25.148Z"
   },
   {
    "duration": 62,
    "start_time": "2023-07-02T10:36:52.115Z"
   },
   {
    "duration": 1271,
    "start_time": "2023-07-02T10:38:54.919Z"
   },
   {
    "duration": 154,
    "start_time": "2023-07-02T10:38:56.193Z"
   },
   {
    "duration": 9,
    "start_time": "2023-07-02T10:38:56.348Z"
   },
   {
    "duration": 22,
    "start_time": "2023-07-02T10:38:56.359Z"
   },
   {
    "duration": 13,
    "start_time": "2023-07-02T10:38:56.385Z"
   },
   {
    "duration": 10,
    "start_time": "2023-07-02T10:38:56.399Z"
   },
   {
    "duration": 7,
    "start_time": "2023-07-02T10:38:56.411Z"
   },
   {
    "duration": 5,
    "start_time": "2023-07-02T10:38:56.419Z"
   },
   {
    "duration": 9,
    "start_time": "2023-07-02T10:38:56.426Z"
   },
   {
    "duration": 25,
    "start_time": "2023-07-02T10:38:56.437Z"
   },
   {
    "duration": 250,
    "start_time": "2023-07-02T10:38:56.463Z"
   },
   {
    "duration": 9,
    "start_time": "2023-07-02T10:38:56.715Z"
   },
   {
    "duration": 53,
    "start_time": "2023-07-02T10:38:56.725Z"
   },
   {
    "duration": 218,
    "start_time": "2023-07-02T10:38:56.781Z"
   },
   {
    "duration": 9,
    "start_time": "2023-07-02T10:38:57.001Z"
   },
   {
    "duration": 282,
    "start_time": "2023-07-02T10:38:57.016Z"
   },
   {
    "duration": 8,
    "start_time": "2023-07-02T10:38:57.299Z"
   },
   {
    "duration": 15,
    "start_time": "2023-07-02T10:38:57.308Z"
   },
   {
    "duration": 10,
    "start_time": "2023-07-02T10:38:57.324Z"
   },
   {
    "duration": 18,
    "start_time": "2023-07-02T10:38:57.335Z"
   },
   {
    "duration": 11,
    "start_time": "2023-07-02T10:38:57.354Z"
   },
   {
    "duration": 79,
    "start_time": "2023-07-02T10:38:57.367Z"
   },
   {
    "duration": 11,
    "start_time": "2023-07-02T10:38:57.447Z"
   },
   {
    "duration": 737,
    "start_time": "2023-07-02T10:38:57.459Z"
   },
   {
    "duration": 5,
    "start_time": "2023-07-02T10:38:58.197Z"
   },
   {
    "duration": 10,
    "start_time": "2023-07-02T10:38:58.204Z"
   },
   {
    "duration": 402,
    "start_time": "2023-07-02T10:38:58.215Z"
   },
   {
    "duration": 4,
    "start_time": "2023-07-02T10:38:58.619Z"
   },
   {
    "duration": 10,
    "start_time": "2023-07-02T10:38:58.625Z"
   },
   {
    "duration": 588,
    "start_time": "2023-07-02T10:38:58.636Z"
   },
   {
    "duration": 4,
    "start_time": "2023-07-02T10:38:59.226Z"
   },
   {
    "duration": 8,
    "start_time": "2023-07-02T10:38:59.231Z"
   },
   {
    "duration": 380,
    "start_time": "2023-07-02T10:38:59.240Z"
   },
   {
    "duration": 4,
    "start_time": "2023-07-02T10:38:59.621Z"
   },
   {
    "duration": 396,
    "start_time": "2023-07-02T10:38:59.627Z"
   },
   {
    "duration": 4,
    "start_time": "2023-07-02T10:39:00.025Z"
   },
   {
    "duration": 88,
    "start_time": "2023-07-02T10:39:00.030Z"
   },
   {
    "duration": 45,
    "start_time": "2023-07-02T10:39:00.120Z"
   },
   {
    "duration": 71,
    "start_time": "2023-07-02T10:39:00.167Z"
   },
   {
    "duration": 77,
    "start_time": "2023-07-02T10:39:00.240Z"
   },
   {
    "duration": 56,
    "start_time": "2023-07-02T10:39:00.320Z"
   },
   {
    "duration": 45,
    "start_time": "2023-07-02T10:39:00.378Z"
   },
   {
    "duration": 47,
    "start_time": "2023-07-02T10:39:00.425Z"
   },
   {
    "duration": 304,
    "start_time": "2023-07-02T10:39:00.474Z"
   },
   {
    "duration": 0,
    "start_time": "2023-07-02T10:39:00.780Z"
   },
   {
    "duration": 25,
    "start_time": "2023-07-02T10:40:15.511Z"
   },
   {
    "duration": 6,
    "start_time": "2023-07-02T10:40:24.143Z"
   },
   {
    "duration": 22,
    "start_time": "2023-07-02T10:41:32.762Z"
   },
   {
    "duration": 3,
    "start_time": "2023-07-02T11:09:12.728Z"
   },
   {
    "duration": 1435,
    "start_time": "2023-07-02T11:09:22.821Z"
   },
   {
    "duration": 42,
    "start_time": "2023-07-02T11:09:24.258Z"
   },
   {
    "duration": 10,
    "start_time": "2023-07-02T11:09:24.302Z"
   },
   {
    "duration": 29,
    "start_time": "2023-07-02T11:09:24.313Z"
   },
   {
    "duration": 16,
    "start_time": "2023-07-02T11:09:24.345Z"
   },
   {
    "duration": 10,
    "start_time": "2023-07-02T11:09:24.363Z"
   },
   {
    "duration": 14,
    "start_time": "2023-07-02T11:09:24.374Z"
   },
   {
    "duration": 9,
    "start_time": "2023-07-02T11:09:24.390Z"
   },
   {
    "duration": 29,
    "start_time": "2023-07-02T11:09:24.401Z"
   },
   {
    "duration": 50,
    "start_time": "2023-07-02T11:09:24.431Z"
   },
   {
    "duration": 189,
    "start_time": "2023-07-02T11:09:24.483Z"
   },
   {
    "duration": 13,
    "start_time": "2023-07-02T11:09:24.674Z"
   },
   {
    "duration": 11,
    "start_time": "2023-07-02T11:09:24.690Z"
   },
   {
    "duration": 227,
    "start_time": "2023-07-02T11:09:24.704Z"
   },
   {
    "duration": 6,
    "start_time": "2023-07-02T11:09:24.933Z"
   },
   {
    "duration": 255,
    "start_time": "2023-07-02T11:09:24.940Z"
   },
   {
    "duration": 10,
    "start_time": "2023-07-02T11:09:25.197Z"
   },
   {
    "duration": 17,
    "start_time": "2023-07-02T11:09:25.208Z"
   },
   {
    "duration": 36,
    "start_time": "2023-07-02T11:09:25.227Z"
   },
   {
    "duration": 54,
    "start_time": "2023-07-02T11:09:25.264Z"
   },
   {
    "duration": 26,
    "start_time": "2023-07-02T11:09:25.320Z"
   },
   {
    "duration": 33,
    "start_time": "2023-07-02T11:09:25.348Z"
   },
   {
    "duration": 75,
    "start_time": "2023-07-02T11:09:25.382Z"
   },
   {
    "duration": 669,
    "start_time": "2023-07-02T11:09:25.459Z"
   },
   {
    "duration": 6,
    "start_time": "2023-07-02T11:09:26.130Z"
   },
   {
    "duration": 25,
    "start_time": "2023-07-02T11:09:26.138Z"
   },
   {
    "duration": 486,
    "start_time": "2023-07-02T11:09:26.165Z"
   },
   {
    "duration": 5,
    "start_time": "2023-07-02T11:09:26.652Z"
   },
   {
    "duration": 12,
    "start_time": "2023-07-02T11:09:26.658Z"
   },
   {
    "duration": 688,
    "start_time": "2023-07-02T11:09:26.671Z"
   },
   {
    "duration": 7,
    "start_time": "2023-07-02T11:09:27.368Z"
   },
   {
    "duration": 14,
    "start_time": "2023-07-02T11:09:27.377Z"
   },
   {
    "duration": 431,
    "start_time": "2023-07-02T11:09:27.393Z"
   },
   {
    "duration": 4,
    "start_time": "2023-07-02T11:09:27.826Z"
   },
   {
    "duration": 466,
    "start_time": "2023-07-02T11:09:27.832Z"
   },
   {
    "duration": 5,
    "start_time": "2023-07-02T11:09:28.300Z"
   },
   {
    "duration": 45,
    "start_time": "2023-07-02T11:09:28.307Z"
   },
   {
    "duration": 10,
    "start_time": "2023-07-02T11:09:28.353Z"
   },
   {
    "duration": 44,
    "start_time": "2023-07-02T11:09:28.364Z"
   },
   {
    "duration": 49,
    "start_time": "2023-07-02T11:09:28.410Z"
   },
   {
    "duration": 35,
    "start_time": "2023-07-02T11:09:28.463Z"
   },
   {
    "duration": 15,
    "start_time": "2023-07-02T11:09:28.500Z"
   },
   {
    "duration": 151,
    "start_time": "2023-07-02T11:09:28.517Z"
   },
   {
    "duration": 12,
    "start_time": "2023-07-02T11:09:28.670Z"
   },
   {
    "duration": 1313,
    "start_time": "2023-07-02T11:19:33.729Z"
   },
   {
    "duration": 42,
    "start_time": "2023-07-02T11:19:35.044Z"
   },
   {
    "duration": 10,
    "start_time": "2023-07-02T11:19:35.087Z"
   },
   {
    "duration": 27,
    "start_time": "2023-07-02T11:19:35.099Z"
   },
   {
    "duration": 25,
    "start_time": "2023-07-02T11:19:35.128Z"
   },
   {
    "duration": 24,
    "start_time": "2023-07-02T11:19:35.154Z"
   },
   {
    "duration": 7,
    "start_time": "2023-07-02T11:19:35.180Z"
   },
   {
    "duration": 6,
    "start_time": "2023-07-02T11:19:35.188Z"
   },
   {
    "duration": 12,
    "start_time": "2023-07-02T11:19:35.195Z"
   },
   {
    "duration": 13,
    "start_time": "2023-07-02T11:19:35.209Z"
   },
   {
    "duration": 204,
    "start_time": "2023-07-02T11:19:35.224Z"
   },
   {
    "duration": 9,
    "start_time": "2023-07-02T11:19:35.429Z"
   },
   {
    "duration": 9,
    "start_time": "2023-07-02T11:19:35.439Z"
   },
   {
    "duration": 202,
    "start_time": "2023-07-02T11:19:35.451Z"
   },
   {
    "duration": 15,
    "start_time": "2023-07-02T11:19:35.654Z"
   },
   {
    "duration": 239,
    "start_time": "2023-07-02T11:19:35.671Z"
   },
   {
    "duration": 7,
    "start_time": "2023-07-02T11:19:35.912Z"
   },
   {
    "duration": 31,
    "start_time": "2023-07-02T11:19:35.920Z"
   },
   {
    "duration": 18,
    "start_time": "2023-07-02T11:19:35.952Z"
   },
   {
    "duration": 19,
    "start_time": "2023-07-02T11:19:35.972Z"
   },
   {
    "duration": 21,
    "start_time": "2023-07-02T11:19:35.992Z"
   },
   {
    "duration": 9,
    "start_time": "2023-07-02T11:19:36.014Z"
   },
   {
    "duration": 78,
    "start_time": "2023-07-02T11:19:36.025Z"
   },
   {
    "duration": 692,
    "start_time": "2023-07-02T11:19:36.104Z"
   },
   {
    "duration": 5,
    "start_time": "2023-07-02T11:19:36.798Z"
   },
   {
    "duration": 9,
    "start_time": "2023-07-02T11:19:36.805Z"
   },
   {
    "duration": 400,
    "start_time": "2023-07-02T11:19:36.816Z"
   },
   {
    "duration": 5,
    "start_time": "2023-07-02T11:19:37.218Z"
   },
   {
    "duration": 9,
    "start_time": "2023-07-02T11:19:37.225Z"
   },
   {
    "duration": 597,
    "start_time": "2023-07-02T11:19:37.235Z"
   },
   {
    "duration": 5,
    "start_time": "2023-07-02T11:19:37.833Z"
   },
   {
    "duration": 17,
    "start_time": "2023-07-02T11:19:37.839Z"
   },
   {
    "duration": 433,
    "start_time": "2023-07-02T11:19:37.858Z"
   },
   {
    "duration": 4,
    "start_time": "2023-07-02T11:19:38.293Z"
   },
   {
    "duration": 402,
    "start_time": "2023-07-02T11:19:38.298Z"
   },
   {
    "duration": 4,
    "start_time": "2023-07-02T11:19:38.701Z"
   },
   {
    "duration": 16,
    "start_time": "2023-07-02T11:19:38.707Z"
   },
   {
    "duration": 7,
    "start_time": "2023-07-02T11:19:38.724Z"
   },
   {
    "duration": 14,
    "start_time": "2023-07-02T11:19:38.733Z"
   },
   {
    "duration": 21,
    "start_time": "2023-07-02T11:19:38.748Z"
   },
   {
    "duration": 4,
    "start_time": "2023-07-02T11:19:38.773Z"
   },
   {
    "duration": 12,
    "start_time": "2023-07-02T11:19:38.779Z"
   },
   {
    "duration": 78,
    "start_time": "2023-07-02T11:19:38.793Z"
   },
   {
    "duration": 89,
    "start_time": "2023-07-02T11:19:38.881Z"
   },
   {
    "duration": 1396,
    "start_time": "2023-07-02T11:22:34.479Z"
   },
   {
    "duration": 41,
    "start_time": "2023-07-02T11:22:35.878Z"
   },
   {
    "duration": 10,
    "start_time": "2023-07-02T11:22:35.921Z"
   },
   {
    "duration": 22,
    "start_time": "2023-07-02T11:22:35.932Z"
   },
   {
    "duration": 28,
    "start_time": "2023-07-02T11:22:35.956Z"
   },
   {
    "duration": 29,
    "start_time": "2023-07-02T11:22:35.985Z"
   },
   {
    "duration": 15,
    "start_time": "2023-07-02T11:22:36.016Z"
   },
   {
    "duration": 9,
    "start_time": "2023-07-02T11:22:36.032Z"
   },
   {
    "duration": 12,
    "start_time": "2023-07-02T11:22:36.044Z"
   },
   {
    "duration": 38,
    "start_time": "2023-07-02T11:22:36.057Z"
   },
   {
    "duration": 182,
    "start_time": "2023-07-02T11:22:36.097Z"
   },
   {
    "duration": 9,
    "start_time": "2023-07-02T11:22:36.280Z"
   },
   {
    "duration": 11,
    "start_time": "2023-07-02T11:22:36.290Z"
   },
   {
    "duration": 213,
    "start_time": "2023-07-02T11:22:36.304Z"
   },
   {
    "duration": 6,
    "start_time": "2023-07-02T11:22:36.519Z"
   },
   {
    "duration": 222,
    "start_time": "2023-07-02T11:22:36.526Z"
   },
   {
    "duration": 8,
    "start_time": "2023-07-02T11:22:36.750Z"
   },
   {
    "duration": 9,
    "start_time": "2023-07-02T11:22:36.768Z"
   },
   {
    "duration": 5,
    "start_time": "2023-07-02T11:22:36.778Z"
   },
   {
    "duration": 12,
    "start_time": "2023-07-02T11:22:36.785Z"
   },
   {
    "duration": 5,
    "start_time": "2023-07-02T11:22:36.798Z"
   },
   {
    "duration": 4,
    "start_time": "2023-07-02T11:22:36.805Z"
   },
   {
    "duration": 97,
    "start_time": "2023-07-02T11:22:36.811Z"
   },
   {
    "duration": 655,
    "start_time": "2023-07-02T11:22:36.909Z"
   },
   {
    "duration": 5,
    "start_time": "2023-07-02T11:22:37.565Z"
   },
   {
    "duration": 10,
    "start_time": "2023-07-02T11:22:37.571Z"
   },
   {
    "duration": 411,
    "start_time": "2023-07-02T11:22:37.583Z"
   },
   {
    "duration": 5,
    "start_time": "2023-07-02T11:22:37.995Z"
   },
   {
    "duration": 7,
    "start_time": "2023-07-02T11:22:38.002Z"
   },
   {
    "duration": 601,
    "start_time": "2023-07-02T11:22:38.010Z"
   },
   {
    "duration": 5,
    "start_time": "2023-07-02T11:22:38.612Z"
   },
   {
    "duration": 8,
    "start_time": "2023-07-02T11:22:38.618Z"
   },
   {
    "duration": 396,
    "start_time": "2023-07-02T11:22:38.628Z"
   },
   {
    "duration": 5,
    "start_time": "2023-07-02T11:22:39.026Z"
   },
   {
    "duration": 424,
    "start_time": "2023-07-02T11:22:39.032Z"
   },
   {
    "duration": 4,
    "start_time": "2023-07-02T11:22:39.458Z"
   },
   {
    "duration": 12,
    "start_time": "2023-07-02T11:22:39.468Z"
   },
   {
    "duration": 7,
    "start_time": "2023-07-02T11:22:39.481Z"
   },
   {
    "duration": 17,
    "start_time": "2023-07-02T11:22:39.489Z"
   },
   {
    "duration": 12,
    "start_time": "2023-07-02T11:22:39.507Z"
   },
   {
    "duration": 5,
    "start_time": "2023-07-02T11:22:39.522Z"
   },
   {
    "duration": 9,
    "start_time": "2023-07-02T11:22:39.528Z"
   },
   {
    "duration": 130,
    "start_time": "2023-07-02T11:22:39.538Z"
   },
   {
    "duration": 5,
    "start_time": "2023-07-02T11:22:39.670Z"
   },
   {
    "duration": 54696,
    "start_time": "2023-07-02T11:22:39.677Z"
   },
   {
    "duration": 0,
    "start_time": "2023-07-02T11:23:34.374Z"
   },
   {
    "duration": 1429,
    "start_time": "2023-07-02T11:23:51.606Z"
   },
   {
    "duration": 47,
    "start_time": "2023-07-02T11:23:53.037Z"
   },
   {
    "duration": 13,
    "start_time": "2023-07-02T11:23:53.087Z"
   },
   {
    "duration": 13,
    "start_time": "2023-07-02T11:23:53.102Z"
   },
   {
    "duration": 13,
    "start_time": "2023-07-02T11:23:53.117Z"
   },
   {
    "duration": 42,
    "start_time": "2023-07-02T11:23:53.131Z"
   },
   {
    "duration": 11,
    "start_time": "2023-07-02T11:23:53.175Z"
   },
   {
    "duration": 4,
    "start_time": "2023-07-02T11:23:53.188Z"
   },
   {
    "duration": 10,
    "start_time": "2023-07-02T11:23:53.194Z"
   },
   {
    "duration": 18,
    "start_time": "2023-07-02T11:23:53.206Z"
   },
   {
    "duration": 244,
    "start_time": "2023-07-02T11:23:53.225Z"
   },
   {
    "duration": 10,
    "start_time": "2023-07-02T11:23:53.472Z"
   },
   {
    "duration": 10,
    "start_time": "2023-07-02T11:23:53.484Z"
   },
   {
    "duration": 249,
    "start_time": "2023-07-02T11:23:53.498Z"
   },
   {
    "duration": 19,
    "start_time": "2023-07-02T11:23:53.749Z"
   },
   {
    "duration": 323,
    "start_time": "2023-07-02T11:23:53.770Z"
   },
   {
    "duration": 11,
    "start_time": "2023-07-02T11:23:54.096Z"
   },
   {
    "duration": 10,
    "start_time": "2023-07-02T11:23:54.109Z"
   },
   {
    "duration": 7,
    "start_time": "2023-07-02T11:23:54.121Z"
   },
   {
    "duration": 13,
    "start_time": "2023-07-02T11:23:54.130Z"
   },
   {
    "duration": 9,
    "start_time": "2023-07-02T11:23:54.169Z"
   },
   {
    "duration": 7,
    "start_time": "2023-07-02T11:23:54.180Z"
   },
   {
    "duration": 109,
    "start_time": "2023-07-02T11:23:54.188Z"
   },
   {
    "duration": 689,
    "start_time": "2023-07-02T11:23:54.299Z"
   },
   {
    "duration": 5,
    "start_time": "2023-07-02T11:23:54.989Z"
   },
   {
    "duration": 8,
    "start_time": "2023-07-02T11:23:54.995Z"
   },
   {
    "duration": 399,
    "start_time": "2023-07-02T11:23:55.004Z"
   },
   {
    "duration": 5,
    "start_time": "2023-07-02T11:23:55.405Z"
   },
   {
    "duration": 8,
    "start_time": "2023-07-02T11:23:55.412Z"
   },
   {
    "duration": 615,
    "start_time": "2023-07-02T11:23:55.421Z"
   },
   {
    "duration": 6,
    "start_time": "2023-07-02T11:23:56.038Z"
   },
   {
    "duration": 9,
    "start_time": "2023-07-02T11:23:56.045Z"
   },
   {
    "duration": 437,
    "start_time": "2023-07-02T11:23:56.055Z"
   },
   {
    "duration": 4,
    "start_time": "2023-07-02T11:23:56.493Z"
   },
   {
    "duration": 412,
    "start_time": "2023-07-02T11:23:56.498Z"
   },
   {
    "duration": 4,
    "start_time": "2023-07-02T11:23:56.912Z"
   },
   {
    "duration": 36,
    "start_time": "2023-07-02T11:23:56.917Z"
   },
   {
    "duration": 7,
    "start_time": "2023-07-02T11:23:56.955Z"
   },
   {
    "duration": 23,
    "start_time": "2023-07-02T11:23:56.964Z"
   },
   {
    "duration": 6,
    "start_time": "2023-07-02T11:23:56.989Z"
   },
   {
    "duration": 5,
    "start_time": "2023-07-02T11:23:56.999Z"
   },
   {
    "duration": 38,
    "start_time": "2023-07-02T11:23:57.005Z"
   },
   {
    "duration": 124,
    "start_time": "2023-07-02T11:23:57.044Z"
   },
   {
    "duration": 5,
    "start_time": "2023-07-02T11:23:57.170Z"
   },
   {
    "duration": 1401,
    "start_time": "2023-07-02T11:24:20.995Z"
   },
   {
    "duration": 43,
    "start_time": "2023-07-02T11:24:22.398Z"
   },
   {
    "duration": 10,
    "start_time": "2023-07-02T11:24:22.442Z"
   },
   {
    "duration": 11,
    "start_time": "2023-07-02T11:24:22.453Z"
   },
   {
    "duration": 15,
    "start_time": "2023-07-02T11:24:22.466Z"
   },
   {
    "duration": 11,
    "start_time": "2023-07-02T11:24:22.483Z"
   },
   {
    "duration": 8,
    "start_time": "2023-07-02T11:24:22.495Z"
   },
   {
    "duration": 4,
    "start_time": "2023-07-02T11:24:22.504Z"
   },
   {
    "duration": 13,
    "start_time": "2023-07-02T11:24:22.509Z"
   },
   {
    "duration": 12,
    "start_time": "2023-07-02T11:24:22.524Z"
   },
   {
    "duration": 201,
    "start_time": "2023-07-02T11:24:22.538Z"
   },
   {
    "duration": 8,
    "start_time": "2023-07-02T11:24:22.740Z"
   },
   {
    "duration": 19,
    "start_time": "2023-07-02T11:24:22.750Z"
   },
   {
    "duration": 217,
    "start_time": "2023-07-02T11:24:22.772Z"
   },
   {
    "duration": 6,
    "start_time": "2023-07-02T11:24:22.990Z"
   },
   {
    "duration": 240,
    "start_time": "2023-07-02T11:24:22.997Z"
   },
   {
    "duration": 8,
    "start_time": "2023-07-02T11:24:23.239Z"
   },
   {
    "duration": 20,
    "start_time": "2023-07-02T11:24:23.248Z"
   },
   {
    "duration": 5,
    "start_time": "2023-07-02T11:24:23.269Z"
   },
   {
    "duration": 24,
    "start_time": "2023-07-02T11:24:23.276Z"
   },
   {
    "duration": 9,
    "start_time": "2023-07-02T11:24:23.301Z"
   },
   {
    "duration": 5,
    "start_time": "2023-07-02T11:24:23.312Z"
   },
   {
    "duration": 96,
    "start_time": "2023-07-02T11:24:23.319Z"
   },
   {
    "duration": 699,
    "start_time": "2023-07-02T11:24:23.417Z"
   },
   {
    "duration": 7,
    "start_time": "2023-07-02T11:24:24.118Z"
   },
   {
    "duration": 10,
    "start_time": "2023-07-02T11:24:24.127Z"
   },
   {
    "duration": 402,
    "start_time": "2023-07-02T11:24:24.138Z"
   },
   {
    "duration": 5,
    "start_time": "2023-07-02T11:24:24.541Z"
   },
   {
    "duration": 21,
    "start_time": "2023-07-02T11:24:24.547Z"
   },
   {
    "duration": 563,
    "start_time": "2023-07-02T11:24:24.570Z"
   },
   {
    "duration": 4,
    "start_time": "2023-07-02T11:24:25.135Z"
   },
   {
    "duration": 7,
    "start_time": "2023-07-02T11:24:25.141Z"
   },
   {
    "duration": 395,
    "start_time": "2023-07-02T11:24:25.149Z"
   },
   {
    "duration": 4,
    "start_time": "2023-07-02T11:24:25.545Z"
   },
   {
    "duration": 422,
    "start_time": "2023-07-02T11:24:25.550Z"
   },
   {
    "duration": 4,
    "start_time": "2023-07-02T11:24:25.974Z"
   },
   {
    "duration": 17,
    "start_time": "2023-07-02T11:24:25.979Z"
   },
   {
    "duration": 8,
    "start_time": "2023-07-02T11:24:25.997Z"
   },
   {
    "duration": 22,
    "start_time": "2023-07-02T11:24:26.006Z"
   },
   {
    "duration": 7,
    "start_time": "2023-07-02T11:24:26.030Z"
   },
   {
    "duration": 7,
    "start_time": "2023-07-02T11:24:26.040Z"
   },
   {
    "duration": 28,
    "start_time": "2023-07-02T11:24:26.048Z"
   },
   {
    "duration": 100,
    "start_time": "2023-07-02T11:24:26.078Z"
   },
   {
    "duration": 5,
    "start_time": "2023-07-02T11:24:26.269Z"
   },
   {
    "duration": 1271,
    "start_time": "2023-07-02T11:24:39.011Z"
   },
   {
    "duration": 46,
    "start_time": "2023-07-02T11:24:40.283Z"
   },
   {
    "duration": 12,
    "start_time": "2023-07-02T11:24:40.331Z"
   },
   {
    "duration": 12,
    "start_time": "2023-07-02T11:24:40.344Z"
   },
   {
    "duration": 12,
    "start_time": "2023-07-02T11:24:40.357Z"
   },
   {
    "duration": 10,
    "start_time": "2023-07-02T11:24:40.371Z"
   },
   {
    "duration": 7,
    "start_time": "2023-07-02T11:24:40.382Z"
   },
   {
    "duration": 6,
    "start_time": "2023-07-02T11:24:40.391Z"
   },
   {
    "duration": 8,
    "start_time": "2023-07-02T11:24:40.399Z"
   },
   {
    "duration": 12,
    "start_time": "2023-07-02T11:24:40.408Z"
   },
   {
    "duration": 218,
    "start_time": "2023-07-02T11:24:40.421Z"
   },
   {
    "duration": 10,
    "start_time": "2023-07-02T11:24:40.641Z"
   },
   {
    "duration": 19,
    "start_time": "2023-07-02T11:24:40.652Z"
   },
   {
    "duration": 209,
    "start_time": "2023-07-02T11:24:40.673Z"
   },
   {
    "duration": 6,
    "start_time": "2023-07-02T11:24:40.883Z"
   },
   {
    "duration": 244,
    "start_time": "2023-07-02T11:24:40.891Z"
   },
   {
    "duration": 7,
    "start_time": "2023-07-02T11:24:41.137Z"
   },
   {
    "duration": 22,
    "start_time": "2023-07-02T11:24:41.146Z"
   },
   {
    "duration": 4,
    "start_time": "2023-07-02T11:24:41.170Z"
   },
   {
    "duration": 19,
    "start_time": "2023-07-02T11:24:41.176Z"
   },
   {
    "duration": 6,
    "start_time": "2023-07-02T11:24:41.197Z"
   },
   {
    "duration": 6,
    "start_time": "2023-07-02T11:24:41.204Z"
   },
   {
    "duration": 7,
    "start_time": "2023-07-02T11:24:41.291Z"
   },
   {
    "duration": 697,
    "start_time": "2023-07-02T11:24:41.299Z"
   },
   {
    "duration": 5,
    "start_time": "2023-07-02T11:24:41.997Z"
   },
   {
    "duration": 11,
    "start_time": "2023-07-02T11:24:42.003Z"
   },
   {
    "duration": 423,
    "start_time": "2023-07-02T11:24:42.015Z"
   },
   {
    "duration": 5,
    "start_time": "2023-07-02T11:24:42.439Z"
   },
   {
    "duration": 7,
    "start_time": "2023-07-02T11:24:42.445Z"
   },
   {
    "duration": 609,
    "start_time": "2023-07-02T11:24:42.454Z"
   },
   {
    "duration": 5,
    "start_time": "2023-07-02T11:24:43.068Z"
   },
   {
    "duration": 9,
    "start_time": "2023-07-02T11:24:43.075Z"
   },
   {
    "duration": 439,
    "start_time": "2023-07-02T11:24:43.085Z"
   },
   {
    "duration": 5,
    "start_time": "2023-07-02T11:24:43.526Z"
   },
   {
    "duration": 482,
    "start_time": "2023-07-02T11:24:43.533Z"
   },
   {
    "duration": 5,
    "start_time": "2023-07-02T11:24:44.017Z"
   },
   {
    "duration": 23,
    "start_time": "2023-07-02T11:24:44.024Z"
   },
   {
    "duration": 22,
    "start_time": "2023-07-02T11:24:44.050Z"
   },
   {
    "duration": 22,
    "start_time": "2023-07-02T11:24:44.075Z"
   },
   {
    "duration": 17,
    "start_time": "2023-07-02T11:24:44.100Z"
   },
   {
    "duration": 14,
    "start_time": "2023-07-02T11:24:44.119Z"
   },
   {
    "duration": 25,
    "start_time": "2023-07-02T11:24:44.135Z"
   },
   {
    "duration": 101,
    "start_time": "2023-07-02T11:24:44.171Z"
   },
   {
    "duration": 93,
    "start_time": "2023-07-02T11:24:44.275Z"
   },
   {
    "duration": 801206,
    "start_time": "2023-07-02T11:24:44.370Z"
   },
   {
    "duration": 0,
    "start_time": "2023-07-02T11:38:05.578Z"
   },
   {
    "duration": 1430,
    "start_time": "2023-07-02T11:38:17.795Z"
   },
   {
    "duration": 42,
    "start_time": "2023-07-02T11:38:19.228Z"
   },
   {
    "duration": 13,
    "start_time": "2023-07-02T11:38:19.272Z"
   },
   {
    "duration": 17,
    "start_time": "2023-07-02T11:38:19.287Z"
   },
   {
    "duration": 16,
    "start_time": "2023-07-02T11:38:19.308Z"
   },
   {
    "duration": 43,
    "start_time": "2023-07-02T11:38:19.326Z"
   },
   {
    "duration": 12,
    "start_time": "2023-07-02T11:38:19.371Z"
   },
   {
    "duration": 8,
    "start_time": "2023-07-02T11:38:19.385Z"
   },
   {
    "duration": 13,
    "start_time": "2023-07-02T11:38:19.396Z"
   },
   {
    "duration": 16,
    "start_time": "2023-07-02T11:38:19.411Z"
   },
   {
    "duration": 211,
    "start_time": "2023-07-02T11:38:19.428Z"
   },
   {
    "duration": 8,
    "start_time": "2023-07-02T11:38:19.641Z"
   },
   {
    "duration": 22,
    "start_time": "2023-07-02T11:38:19.651Z"
   },
   {
    "duration": 253,
    "start_time": "2023-07-02T11:38:19.677Z"
   },
   {
    "duration": 6,
    "start_time": "2023-07-02T11:38:19.932Z"
   },
   {
    "duration": 248,
    "start_time": "2023-07-02T11:38:19.940Z"
   },
   {
    "duration": 9,
    "start_time": "2023-07-02T11:38:20.190Z"
   },
   {
    "duration": 13,
    "start_time": "2023-07-02T11:38:20.200Z"
   },
   {
    "duration": 6,
    "start_time": "2023-07-02T11:38:20.215Z"
   },
   {
    "duration": 20,
    "start_time": "2023-07-02T11:38:20.223Z"
   },
   {
    "duration": 6,
    "start_time": "2023-07-02T11:38:20.268Z"
   },
   {
    "duration": 6,
    "start_time": "2023-07-02T11:38:20.276Z"
   },
   {
    "duration": 113,
    "start_time": "2023-07-02T11:38:20.284Z"
   },
   {
    "duration": 989,
    "start_time": "2023-07-02T11:38:20.399Z"
   },
   {
    "duration": 6,
    "start_time": "2023-07-02T11:38:21.392Z"
   },
   {
    "duration": 21,
    "start_time": "2023-07-02T11:38:21.400Z"
   },
   {
    "duration": 502,
    "start_time": "2023-07-02T11:38:21.423Z"
   },
   {
    "duration": 5,
    "start_time": "2023-07-02T11:38:21.927Z"
   },
   {
    "duration": 10,
    "start_time": "2023-07-02T11:38:21.934Z"
   },
   {
    "duration": 627,
    "start_time": "2023-07-02T11:38:21.946Z"
   },
   {
    "duration": 5,
    "start_time": "2023-07-02T11:38:22.575Z"
   },
   {
    "duration": 12,
    "start_time": "2023-07-02T11:38:22.582Z"
   },
   {
    "duration": 433,
    "start_time": "2023-07-02T11:38:22.596Z"
   },
   {
    "duration": 6,
    "start_time": "2023-07-02T11:38:23.031Z"
   },
   {
    "duration": 467,
    "start_time": "2023-07-02T11:38:23.038Z"
   },
   {
    "duration": 4,
    "start_time": "2023-07-02T11:38:23.507Z"
   },
   {
    "duration": 22,
    "start_time": "2023-07-02T11:38:23.512Z"
   },
   {
    "duration": 8,
    "start_time": "2023-07-02T11:38:23.536Z"
   },
   {
    "duration": 25,
    "start_time": "2023-07-02T11:38:23.546Z"
   },
   {
    "duration": 7,
    "start_time": "2023-07-02T11:38:23.573Z"
   },
   {
    "duration": 13,
    "start_time": "2023-07-02T11:38:23.584Z"
   },
   {
    "duration": 21,
    "start_time": "2023-07-02T11:38:23.599Z"
   },
   {
    "duration": 145,
    "start_time": "2023-07-02T11:38:23.624Z"
   },
   {
    "duration": 14,
    "start_time": "2023-07-02T11:38:23.771Z"
   },
   {
    "duration": 26676,
    "start_time": "2023-07-02T11:38:23.787Z"
   },
   {
    "duration": 1632,
    "start_time": "2023-07-02T11:38:52.741Z"
   },
   {
    "duration": 42,
    "start_time": "2023-07-02T11:38:54.375Z"
   },
   {
    "duration": 15,
    "start_time": "2023-07-02T11:38:54.419Z"
   },
   {
    "duration": 14,
    "start_time": "2023-07-02T11:38:54.437Z"
   },
   {
    "duration": 15,
    "start_time": "2023-07-02T11:38:54.454Z"
   },
   {
    "duration": 15,
    "start_time": "2023-07-02T11:38:54.471Z"
   },
   {
    "duration": 9,
    "start_time": "2023-07-02T11:38:54.488Z"
   },
   {
    "duration": 8,
    "start_time": "2023-07-02T11:38:54.499Z"
   },
   {
    "duration": 22,
    "start_time": "2023-07-02T11:38:54.509Z"
   },
   {
    "duration": 34,
    "start_time": "2023-07-02T11:38:54.535Z"
   },
   {
    "duration": 207,
    "start_time": "2023-07-02T11:38:54.571Z"
   },
   {
    "duration": 12,
    "start_time": "2023-07-02T11:38:54.779Z"
   },
   {
    "duration": 10,
    "start_time": "2023-07-02T11:38:54.793Z"
   },
   {
    "duration": 238,
    "start_time": "2023-07-02T11:38:54.805Z"
   },
   {
    "duration": 10,
    "start_time": "2023-07-02T11:38:55.045Z"
   },
   {
    "duration": 281,
    "start_time": "2023-07-02T11:38:55.059Z"
   },
   {
    "duration": 12,
    "start_time": "2023-07-02T11:38:55.342Z"
   },
   {
    "duration": 20,
    "start_time": "2023-07-02T11:38:55.356Z"
   },
   {
    "duration": 6,
    "start_time": "2023-07-02T11:38:55.379Z"
   },
   {
    "duration": 13,
    "start_time": "2023-07-02T11:38:55.387Z"
   },
   {
    "duration": 8,
    "start_time": "2023-07-02T11:38:55.402Z"
   },
   {
    "duration": 6,
    "start_time": "2023-07-02T11:38:55.412Z"
   },
   {
    "duration": 119,
    "start_time": "2023-07-02T11:38:55.420Z"
   },
   {
    "duration": 875,
    "start_time": "2023-07-02T11:38:55.541Z"
   },
   {
    "duration": 4,
    "start_time": "2023-07-02T11:38:56.418Z"
   },
   {
    "duration": 8,
    "start_time": "2023-07-02T11:38:56.424Z"
   },
   {
    "duration": 406,
    "start_time": "2023-07-02T11:38:56.434Z"
   },
   {
    "duration": 5,
    "start_time": "2023-07-02T11:38:56.844Z"
   },
   {
    "duration": 23,
    "start_time": "2023-07-02T11:38:56.851Z"
   },
   {
    "duration": 692,
    "start_time": "2023-07-02T11:38:56.876Z"
   },
   {
    "duration": 5,
    "start_time": "2023-07-02T11:38:57.569Z"
   },
   {
    "duration": 8,
    "start_time": "2023-07-02T11:38:57.576Z"
   },
   {
    "duration": 453,
    "start_time": "2023-07-02T11:38:57.585Z"
   },
   {
    "duration": 5,
    "start_time": "2023-07-02T11:38:58.040Z"
   },
   {
    "duration": 504,
    "start_time": "2023-07-02T11:38:58.047Z"
   },
   {
    "duration": 5,
    "start_time": "2023-07-02T11:38:58.553Z"
   },
   {
    "duration": 21,
    "start_time": "2023-07-02T11:38:58.560Z"
   },
   {
    "duration": 7,
    "start_time": "2023-07-02T11:38:58.583Z"
   },
   {
    "duration": 23,
    "start_time": "2023-07-02T11:38:58.592Z"
   },
   {
    "duration": 7,
    "start_time": "2023-07-02T11:38:58.618Z"
   },
   {
    "duration": 6,
    "start_time": "2023-07-02T11:38:58.627Z"
   },
   {
    "duration": 41,
    "start_time": "2023-07-02T11:38:58.635Z"
   },
   {
    "duration": 193,
    "start_time": "2023-07-02T11:38:58.679Z"
   },
   {
    "duration": 5,
    "start_time": "2023-07-02T11:38:58.875Z"
   },
   {
    "duration": 5,
    "start_time": "2023-07-02T11:58:31.974Z"
   },
   {
    "duration": 22,
    "start_time": "2023-07-02T11:58:31.981Z"
   },
   {
    "duration": 65,
    "start_time": "2023-07-02T12:24:23.527Z"
   },
   {
    "duration": 113,
    "start_time": "2023-07-02T12:24:38.407Z"
   },
   {
    "duration": 13,
    "start_time": "2023-07-02T12:25:02.426Z"
   },
   {
    "duration": 5,
    "start_time": "2023-07-02T12:31:38.908Z"
   },
   {
    "duration": 15,
    "start_time": "2023-07-02T12:31:56.612Z"
   },
   {
    "duration": 3,
    "start_time": "2023-07-02T12:33:01.395Z"
   },
   {
    "duration": 20,
    "start_time": "2023-07-02T12:33:05.407Z"
   },
   {
    "duration": 3,
    "start_time": "2023-07-02T12:33:34.495Z"
   },
   {
    "duration": 20,
    "start_time": "2023-07-02T12:33:35.795Z"
   },
   {
    "duration": 3,
    "start_time": "2023-07-02T12:33:42.806Z"
   },
   {
    "duration": 24,
    "start_time": "2023-07-02T12:33:43.406Z"
   },
   {
    "duration": 4,
    "start_time": "2023-07-02T12:33:54.346Z"
   },
   {
    "duration": 23,
    "start_time": "2023-07-02T12:33:55.046Z"
   },
   {
    "duration": 5,
    "start_time": "2023-07-02T12:34:10.127Z"
   },
   {
    "duration": 27049,
    "start_time": "2023-07-02T12:34:10.946Z"
   },
   {
    "duration": 3,
    "start_time": "2023-07-02T12:34:57.346Z"
   },
   {
    "duration": 4,
    "start_time": "2023-07-02T12:35:22.391Z"
   },
   {
    "duration": 4,
    "start_time": "2023-07-02T12:35:34.149Z"
   },
   {
    "duration": 14438,
    "start_time": "2023-07-02T12:35:34.848Z"
   },
   {
    "duration": 259075,
    "start_time": "2023-07-02T12:35:59.803Z"
   },
   {
    "duration": 5,
    "start_time": "2023-07-02T12:40:18.883Z"
   },
   {
    "duration": 3,
    "start_time": "2023-07-02T12:40:32.734Z"
   },
   {
    "duration": 28016,
    "start_time": "2023-07-02T12:40:33.679Z"
   },
   {
    "duration": 3,
    "start_time": "2023-07-02T12:42:41.995Z"
   },
   {
    "duration": 0,
    "start_time": "2023-07-02T12:47:46.578Z"
   },
   {
    "duration": 0,
    "start_time": "2023-07-02T12:47:46.579Z"
   },
   {
    "duration": 3,
    "start_time": "2023-07-02T12:47:47.930Z"
   },
   {
    "duration": 30139,
    "start_time": "2023-07-02T12:47:48.648Z"
   },
   {
    "duration": 8,
    "start_time": "2023-07-02T12:49:20.770Z"
   },
   {
    "duration": 8664,
    "start_time": "2023-07-02T12:49:21.427Z"
   },
   {
    "duration": 94,
    "start_time": "2023-07-02T12:51:30.499Z"
   },
   {
    "duration": 5,
    "start_time": "2023-07-02T12:51:45.826Z"
   },
   {
    "duration": 10261,
    "start_time": "2023-07-02T12:51:46.927Z"
   },
   {
    "duration": 76,
    "start_time": "2023-07-02T12:55:45.803Z"
   },
   {
    "duration": 5,
    "start_time": "2023-07-02T12:55:47.351Z"
   },
   {
    "duration": 3,
    "start_time": "2023-07-02T12:56:21.919Z"
   },
   {
    "duration": 83981,
    "start_time": "2023-07-02T12:56:23.399Z"
   },
   {
    "duration": 3,
    "start_time": "2023-07-02T12:57:47.385Z"
   },
   {
    "duration": 92,
    "start_time": "2023-07-02T12:57:47.390Z"
   },
   {
    "duration": 12,
    "start_time": "2023-07-02T12:57:47.486Z"
   },
   {
    "duration": 12,
    "start_time": "2023-07-02T12:58:26.799Z"
   },
   {
    "duration": 12,
    "start_time": "2023-07-02T12:58:33.343Z"
   },
   {
    "duration": 112947,
    "start_time": "2023-07-02T12:58:33.727Z"
   },
   {
    "duration": 52,
    "start_time": "2023-07-02T14:50:16.425Z"
   },
   {
    "duration": 1646,
    "start_time": "2023-07-02T14:50:21.973Z"
   },
   {
    "duration": 127,
    "start_time": "2023-07-02T14:50:23.621Z"
   },
   {
    "duration": 12,
    "start_time": "2023-07-02T14:50:23.750Z"
   },
   {
    "duration": 21,
    "start_time": "2023-07-02T14:50:23.764Z"
   },
   {
    "duration": 19,
    "start_time": "2023-07-02T14:50:23.788Z"
   },
   {
    "duration": 12,
    "start_time": "2023-07-02T14:50:23.809Z"
   },
   {
    "duration": 17,
    "start_time": "2023-07-02T14:50:23.823Z"
   },
   {
    "duration": 6,
    "start_time": "2023-07-02T14:50:23.841Z"
   },
   {
    "duration": 13,
    "start_time": "2023-07-02T14:50:23.849Z"
   },
   {
    "duration": 37,
    "start_time": "2023-07-02T14:50:23.865Z"
   },
   {
    "duration": 213,
    "start_time": "2023-07-02T14:50:23.903Z"
   },
   {
    "duration": 8,
    "start_time": "2023-07-02T14:50:24.118Z"
   },
   {
    "duration": 11,
    "start_time": "2023-07-02T14:50:24.128Z"
   },
   {
    "duration": 234,
    "start_time": "2023-07-02T14:50:24.142Z"
   },
   {
    "duration": 6,
    "start_time": "2023-07-02T14:50:24.378Z"
   },
   {
    "duration": 359,
    "start_time": "2023-07-02T14:50:24.386Z"
   },
   {
    "duration": 9,
    "start_time": "2023-07-02T14:50:24.748Z"
   },
   {
    "duration": 12,
    "start_time": "2023-07-02T14:50:24.759Z"
   },
   {
    "duration": 5,
    "start_time": "2023-07-02T14:50:24.773Z"
   },
   {
    "duration": 31,
    "start_time": "2023-07-02T14:50:24.780Z"
   },
   {
    "duration": 10,
    "start_time": "2023-07-02T14:50:24.812Z"
   },
   {
    "duration": 11,
    "start_time": "2023-07-02T14:50:24.824Z"
   },
   {
    "duration": 22,
    "start_time": "2023-07-02T14:50:24.837Z"
   },
   {
    "duration": 765,
    "start_time": "2023-07-02T14:50:24.861Z"
   },
   {
    "duration": 4,
    "start_time": "2023-07-02T14:50:25.629Z"
   },
   {
    "duration": 14,
    "start_time": "2023-07-02T14:50:25.635Z"
   },
   {
    "duration": 437,
    "start_time": "2023-07-02T14:50:25.651Z"
   },
   {
    "duration": 11,
    "start_time": "2023-07-02T14:50:26.090Z"
   },
   {
    "duration": 10,
    "start_time": "2023-07-02T14:50:26.103Z"
   },
   {
    "duration": 673,
    "start_time": "2023-07-02T14:50:26.114Z"
   },
   {
    "duration": 14,
    "start_time": "2023-07-02T14:50:26.790Z"
   },
   {
    "duration": 9,
    "start_time": "2023-07-02T14:50:26.807Z"
   },
   {
    "duration": 480,
    "start_time": "2023-07-02T14:50:26.818Z"
   },
   {
    "duration": 5,
    "start_time": "2023-07-02T14:50:27.299Z"
   },
   {
    "duration": 489,
    "start_time": "2023-07-02T14:50:27.306Z"
   },
   {
    "duration": 5,
    "start_time": "2023-07-02T14:50:27.797Z"
   },
   {
    "duration": 91,
    "start_time": "2023-07-02T14:50:27.804Z"
   },
   {
    "duration": 32,
    "start_time": "2023-07-02T14:50:27.897Z"
   },
   {
    "duration": 33,
    "start_time": "2023-07-02T14:50:27.932Z"
   },
   {
    "duration": 38,
    "start_time": "2023-07-02T14:50:27.967Z"
   },
   {
    "duration": 9,
    "start_time": "2023-07-02T14:50:28.011Z"
   },
   {
    "duration": 36,
    "start_time": "2023-07-02T14:50:28.022Z"
   },
   {
    "duration": 149,
    "start_time": "2023-07-02T14:50:28.063Z"
   },
   {
    "duration": 97,
    "start_time": "2023-07-02T14:50:28.217Z"
   },
   {
    "duration": 111,
    "start_time": "2023-07-02T14:50:28.318Z"
   },
   {
    "duration": 15,
    "start_time": "2023-07-02T14:50:28.431Z"
   },
   {
    "duration": 16,
    "start_time": "2023-07-02T14:50:28.447Z"
   },
   {
    "duration": 6744,
    "start_time": "2023-07-02T14:50:28.465Z"
   },
   {
    "duration": 7,
    "start_time": "2023-07-02T14:50:35.212Z"
   },
   {
    "duration": 92,
    "start_time": "2023-07-02T14:50:35.221Z"
   },
   {
    "duration": 110,
    "start_time": "2023-07-02T14:50:35.402Z"
   },
   {
    "duration": 4,
    "start_time": "2023-07-02T14:51:01.522Z"
   },
   {
    "duration": 114,
    "start_time": "2023-07-02T14:51:05.336Z"
   },
   {
    "duration": 12,
    "start_time": "2023-07-02T14:53:00.137Z"
   },
   {
    "duration": 13,
    "start_time": "2023-07-02T14:54:15.033Z"
   },
   {
    "duration": 11,
    "start_time": "2023-07-02T14:54:46.513Z"
   },
   {
    "duration": 14,
    "start_time": "2023-07-02T14:54:50.806Z"
   },
   {
    "duration": 13,
    "start_time": "2023-07-02T14:54:58.552Z"
   },
   {
    "duration": 12,
    "start_time": "2023-07-02T14:55:05.926Z"
   },
   {
    "duration": 9,
    "start_time": "2023-07-02T14:59:58.514Z"
   },
   {
    "duration": 13,
    "start_time": "2023-07-02T15:06:06.620Z"
   },
   {
    "duration": 1378,
    "start_time": "2023-07-02T15:09:38.608Z"
   },
   {
    "duration": 43,
    "start_time": "2023-07-02T15:09:39.988Z"
   },
   {
    "duration": 12,
    "start_time": "2023-07-02T15:09:40.033Z"
   },
   {
    "duration": 43,
    "start_time": "2023-07-02T15:09:40.047Z"
   },
   {
    "duration": 28,
    "start_time": "2023-07-02T15:09:40.092Z"
   },
   {
    "duration": 33,
    "start_time": "2023-07-02T15:09:40.122Z"
   },
   {
    "duration": 17,
    "start_time": "2023-07-02T15:09:40.156Z"
   },
   {
    "duration": 28,
    "start_time": "2023-07-02T15:09:40.175Z"
   },
   {
    "duration": 41,
    "start_time": "2023-07-02T15:09:40.205Z"
   },
   {
    "duration": 40,
    "start_time": "2023-07-02T15:09:40.248Z"
   },
   {
    "duration": 259,
    "start_time": "2023-07-02T15:09:40.289Z"
   },
   {
    "duration": 11,
    "start_time": "2023-07-02T15:09:40.551Z"
   },
   {
    "duration": 26,
    "start_time": "2023-07-02T15:09:40.563Z"
   },
   {
    "duration": 226,
    "start_time": "2023-07-02T15:09:40.602Z"
   },
   {
    "duration": 6,
    "start_time": "2023-07-02T15:09:40.830Z"
   },
   {
    "duration": 254,
    "start_time": "2023-07-02T15:09:40.838Z"
   },
   {
    "duration": 9,
    "start_time": "2023-07-02T15:09:41.101Z"
   },
   {
    "duration": 28,
    "start_time": "2023-07-02T15:09:41.111Z"
   },
   {
    "duration": 15,
    "start_time": "2023-07-02T15:09:41.141Z"
   },
   {
    "duration": 33,
    "start_time": "2023-07-02T15:09:41.158Z"
   },
   {
    "duration": 30,
    "start_time": "2023-07-02T15:09:41.193Z"
   },
   {
    "duration": 24,
    "start_time": "2023-07-02T15:09:41.225Z"
   },
   {
    "duration": 100,
    "start_time": "2023-07-02T15:09:41.251Z"
   },
   {
    "duration": 733,
    "start_time": "2023-07-02T15:09:41.353Z"
   },
   {
    "duration": 5,
    "start_time": "2023-07-02T15:09:42.088Z"
   },
   {
    "duration": 33,
    "start_time": "2023-07-02T15:09:42.094Z"
   },
   {
    "duration": 455,
    "start_time": "2023-07-02T15:09:42.129Z"
   },
   {
    "duration": 5,
    "start_time": "2023-07-02T15:09:42.585Z"
   },
   {
    "duration": 30,
    "start_time": "2023-07-02T15:09:42.592Z"
   },
   {
    "duration": 662,
    "start_time": "2023-07-02T15:09:42.623Z"
   },
   {
    "duration": 5,
    "start_time": "2023-07-02T15:09:43.287Z"
   },
   {
    "duration": 16,
    "start_time": "2023-07-02T15:09:43.293Z"
   },
   {
    "duration": 471,
    "start_time": "2023-07-02T15:09:43.311Z"
   },
   {
    "duration": 5,
    "start_time": "2023-07-02T15:09:43.783Z"
   },
   {
    "duration": 451,
    "start_time": "2023-07-02T15:09:43.801Z"
   },
   {
    "duration": 4,
    "start_time": "2023-07-02T15:09:44.254Z"
   },
   {
    "duration": 20,
    "start_time": "2023-07-02T15:09:44.259Z"
   },
   {
    "duration": 23,
    "start_time": "2023-07-02T15:09:44.281Z"
   },
   {
    "duration": 16,
    "start_time": "2023-07-02T15:09:44.306Z"
   },
   {
    "duration": 10,
    "start_time": "2023-07-02T15:09:44.324Z"
   },
   {
    "duration": 6,
    "start_time": "2023-07-02T15:09:44.337Z"
   },
   {
    "duration": 13,
    "start_time": "2023-07-02T15:09:44.345Z"
   },
   {
    "duration": 145,
    "start_time": "2023-07-02T15:09:44.359Z"
   },
   {
    "duration": 103,
    "start_time": "2023-07-02T15:09:44.506Z"
   },
   {
    "duration": 27,
    "start_time": "2023-07-02T15:09:44.611Z"
   },
   {
    "duration": 7,
    "start_time": "2023-07-02T15:09:44.640Z"
   },
   {
    "duration": 150,
    "start_time": "2023-07-02T15:09:44.649Z"
   },
   {
    "duration": 0,
    "start_time": "2023-07-02T15:09:44.801Z"
   },
   {
    "duration": 0,
    "start_time": "2023-07-02T15:09:44.802Z"
   },
   {
    "duration": 0,
    "start_time": "2023-07-02T15:09:44.803Z"
   },
   {
    "duration": 0,
    "start_time": "2023-07-02T15:09:44.804Z"
   },
   {
    "duration": 4,
    "start_time": "2023-07-02T15:10:08.013Z"
   },
   {
    "duration": 117,
    "start_time": "2023-07-02T15:10:08.314Z"
   },
   {
    "duration": 13,
    "start_time": "2023-07-02T15:10:08.737Z"
   },
   {
    "duration": 2,
    "start_time": "2023-07-02T15:10:09.122Z"
   },
   {
    "duration": 4,
    "start_time": "2023-07-02T15:18:28.327Z"
   },
   {
    "duration": 143596,
    "start_time": "2023-07-02T15:18:28.907Z"
   },
   {
    "duration": 0,
    "start_time": "2023-07-02T15:20:52.505Z"
   },
   {
    "duration": 0,
    "start_time": "2023-07-02T15:20:52.506Z"
   },
   {
    "duration": 0,
    "start_time": "2023-07-02T15:20:52.507Z"
   },
   {
    "duration": 0,
    "start_time": "2023-07-02T15:20:52.508Z"
   },
   {
    "duration": 1409,
    "start_time": "2023-07-02T15:21:02.390Z"
   },
   {
    "duration": 42,
    "start_time": "2023-07-02T15:21:03.802Z"
   },
   {
    "duration": 11,
    "start_time": "2023-07-02T15:21:03.846Z"
   },
   {
    "duration": 24,
    "start_time": "2023-07-02T15:21:03.858Z"
   },
   {
    "duration": 18,
    "start_time": "2023-07-02T15:21:03.884Z"
   },
   {
    "duration": 11,
    "start_time": "2023-07-02T15:21:03.903Z"
   },
   {
    "duration": 26,
    "start_time": "2023-07-02T15:21:03.916Z"
   },
   {
    "duration": 9,
    "start_time": "2023-07-02T15:21:03.945Z"
   },
   {
    "duration": 10,
    "start_time": "2023-07-02T15:21:03.955Z"
   },
   {
    "duration": 15,
    "start_time": "2023-07-02T15:21:03.966Z"
   },
   {
    "duration": 198,
    "start_time": "2023-07-02T15:21:03.983Z"
   },
   {
    "duration": 9,
    "start_time": "2023-07-02T15:21:04.182Z"
   },
   {
    "duration": 17,
    "start_time": "2023-07-02T15:21:04.192Z"
   },
   {
    "duration": 225,
    "start_time": "2023-07-02T15:21:04.212Z"
   },
   {
    "duration": 5,
    "start_time": "2023-07-02T15:21:04.439Z"
   },
   {
    "duration": 257,
    "start_time": "2023-07-02T15:21:04.446Z"
   },
   {
    "duration": 9,
    "start_time": "2023-07-02T15:21:04.705Z"
   },
   {
    "duration": 33,
    "start_time": "2023-07-02T15:21:04.715Z"
   },
   {
    "duration": 30,
    "start_time": "2023-07-02T15:21:04.750Z"
   },
   {
    "duration": 21,
    "start_time": "2023-07-02T15:21:04.782Z"
   },
   {
    "duration": 40,
    "start_time": "2023-07-02T15:21:04.804Z"
   },
   {
    "duration": 26,
    "start_time": "2023-07-02T15:21:04.846Z"
   },
   {
    "duration": 134,
    "start_time": "2023-07-02T15:21:04.874Z"
   },
   {
    "duration": 744,
    "start_time": "2023-07-02T15:21:05.010Z"
   },
   {
    "duration": 6,
    "start_time": "2023-07-02T15:21:05.756Z"
   },
   {
    "duration": 17,
    "start_time": "2023-07-02T15:21:05.763Z"
   },
   {
    "duration": 483,
    "start_time": "2023-07-02T15:21:05.782Z"
   },
   {
    "duration": 5,
    "start_time": "2023-07-02T15:21:06.266Z"
   },
   {
    "duration": 11,
    "start_time": "2023-07-02T15:21:06.273Z"
   },
   {
    "duration": 612,
    "start_time": "2023-07-02T15:21:06.286Z"
   },
   {
    "duration": 5,
    "start_time": "2023-07-02T15:21:06.902Z"
   },
   {
    "duration": 19,
    "start_time": "2023-07-02T15:21:06.908Z"
   },
   {
    "duration": 439,
    "start_time": "2023-07-02T15:21:06.929Z"
   },
   {
    "duration": 4,
    "start_time": "2023-07-02T15:21:07.370Z"
   },
   {
    "duration": 431,
    "start_time": "2023-07-02T15:21:07.376Z"
   },
   {
    "duration": 4,
    "start_time": "2023-07-02T15:21:07.809Z"
   },
   {
    "duration": 23,
    "start_time": "2023-07-02T15:21:07.815Z"
   },
   {
    "duration": 11,
    "start_time": "2023-07-02T15:21:07.840Z"
   },
   {
    "duration": 21,
    "start_time": "2023-07-02T15:21:07.852Z"
   },
   {
    "duration": 7,
    "start_time": "2023-07-02T15:21:07.874Z"
   },
   {
    "duration": 4,
    "start_time": "2023-07-02T15:21:07.885Z"
   },
   {
    "duration": 10,
    "start_time": "2023-07-02T15:21:07.901Z"
   },
   {
    "duration": 190,
    "start_time": "2023-07-02T15:21:07.912Z"
   },
   {
    "duration": 4,
    "start_time": "2023-07-02T15:21:08.105Z"
   },
   {
    "duration": 109,
    "start_time": "2023-07-02T15:21:08.110Z"
   },
   {
    "duration": 5,
    "start_time": "2023-07-02T15:21:08.221Z"
   },
   {
    "duration": 8,
    "start_time": "2023-07-02T15:21:08.227Z"
   },
   {
    "duration": 77979,
    "start_time": "2023-07-02T15:21:08.237Z"
   },
   {
    "duration": 3,
    "start_time": "2023-07-02T15:22:26.303Z"
   },
   {
    "duration": 7,
    "start_time": "2023-07-02T15:22:26.308Z"
   },
   {
    "duration": 8,
    "start_time": "2023-07-02T15:22:26.317Z"
   },
   {
    "duration": 4,
    "start_time": "2023-07-02T15:27:44.062Z"
   },
   {
    "duration": 117,
    "start_time": "2023-07-02T15:27:56.363Z"
   },
   {
    "duration": 11,
    "start_time": "2023-07-02T15:28:24.892Z"
   },
   {
    "duration": 23970,
    "start_time": "2023-07-02T15:28:29.032Z"
   },
   {
    "duration": 6,
    "start_time": "2023-07-02T15:28:53.005Z"
   },
   {
    "duration": 1388,
    "start_time": "2023-07-02T15:29:55.260Z"
   },
   {
    "duration": 44,
    "start_time": "2023-07-02T15:29:56.650Z"
   },
   {
    "duration": 11,
    "start_time": "2023-07-02T15:29:56.695Z"
   },
   {
    "duration": 11,
    "start_time": "2023-07-02T15:29:56.708Z"
   },
   {
    "duration": 12,
    "start_time": "2023-07-02T15:29:56.722Z"
   },
   {
    "duration": 11,
    "start_time": "2023-07-02T15:29:56.736Z"
   },
   {
    "duration": 7,
    "start_time": "2023-07-02T15:29:56.749Z"
   },
   {
    "duration": 6,
    "start_time": "2023-07-02T15:29:56.757Z"
   },
   {
    "duration": 38,
    "start_time": "2023-07-02T15:29:56.765Z"
   },
   {
    "duration": 14,
    "start_time": "2023-07-02T15:29:56.806Z"
   },
   {
    "duration": 209,
    "start_time": "2023-07-02T15:29:56.821Z"
   },
   {
    "duration": 9,
    "start_time": "2023-07-02T15:29:57.031Z"
   },
   {
    "duration": 15,
    "start_time": "2023-07-02T15:29:57.041Z"
   },
   {
    "duration": 236,
    "start_time": "2023-07-02T15:29:57.057Z"
   },
   {
    "duration": 11,
    "start_time": "2023-07-02T15:29:57.295Z"
   },
   {
    "duration": 268,
    "start_time": "2023-07-02T15:29:57.308Z"
   },
   {
    "duration": 10,
    "start_time": "2023-07-02T15:29:57.577Z"
   },
   {
    "duration": 21,
    "start_time": "2023-07-02T15:29:57.588Z"
   },
   {
    "duration": 5,
    "start_time": "2023-07-02T15:29:57.611Z"
   },
   {
    "duration": 12,
    "start_time": "2023-07-02T15:29:57.618Z"
   },
   {
    "duration": 8,
    "start_time": "2023-07-02T15:29:57.632Z"
   },
   {
    "duration": 13,
    "start_time": "2023-07-02T15:29:57.642Z"
   },
   {
    "duration": 114,
    "start_time": "2023-07-02T15:29:57.657Z"
   },
   {
    "duration": 690,
    "start_time": "2023-07-02T15:29:57.776Z"
   },
   {
    "duration": 5,
    "start_time": "2023-07-02T15:29:58.468Z"
   },
   {
    "duration": 11,
    "start_time": "2023-07-02T15:29:58.475Z"
   },
   {
    "duration": 495,
    "start_time": "2023-07-02T15:29:58.487Z"
   },
   {
    "duration": 5,
    "start_time": "2023-07-02T15:29:58.985Z"
   },
   {
    "duration": 23,
    "start_time": "2023-07-02T15:29:59.001Z"
   },
   {
    "duration": 711,
    "start_time": "2023-07-02T15:29:59.026Z"
   },
   {
    "duration": 5,
    "start_time": "2023-07-02T15:29:59.739Z"
   },
   {
    "duration": 50,
    "start_time": "2023-07-02T15:29:59.746Z"
   },
   {
    "duration": 494,
    "start_time": "2023-07-02T15:29:59.798Z"
   },
   {
    "duration": 7,
    "start_time": "2023-07-02T15:30:00.295Z"
   },
   {
    "duration": 617,
    "start_time": "2023-07-02T15:30:00.303Z"
   },
   {
    "duration": 5,
    "start_time": "2023-07-02T15:30:00.922Z"
   },
   {
    "duration": 97,
    "start_time": "2023-07-02T15:30:00.929Z"
   },
   {
    "duration": 64,
    "start_time": "2023-07-02T15:30:01.028Z"
   },
   {
    "duration": 107,
    "start_time": "2023-07-02T15:30:01.094Z"
   },
   {
    "duration": 67,
    "start_time": "2023-07-02T15:30:01.203Z"
   },
   {
    "duration": 76,
    "start_time": "2023-07-02T15:30:01.272Z"
   },
   {
    "duration": 94,
    "start_time": "2023-07-02T15:30:01.349Z"
   },
   {
    "duration": 60,
    "start_time": "2023-07-02T15:30:01.445Z"
   },
   {
    "duration": 114,
    "start_time": "2023-07-02T15:30:01.601Z"
   },
   {
    "duration": 71,
    "start_time": "2023-07-02T15:30:01.717Z"
   },
   {
    "duration": 32,
    "start_time": "2023-07-02T15:30:01.790Z"
   },
   {
    "duration": 53,
    "start_time": "2023-07-02T15:30:01.824Z"
   },
   {
    "duration": 1337,
    "start_time": "2023-07-02T15:41:58.715Z"
   },
   {
    "duration": 44,
    "start_time": "2023-07-02T15:42:00.055Z"
   },
   {
    "duration": 29,
    "start_time": "2023-07-02T15:42:00.101Z"
   },
   {
    "duration": 43,
    "start_time": "2023-07-02T15:42:00.131Z"
   },
   {
    "duration": 29,
    "start_time": "2023-07-02T15:42:00.178Z"
   },
   {
    "duration": 24,
    "start_time": "2023-07-02T15:42:00.209Z"
   },
   {
    "duration": 24,
    "start_time": "2023-07-02T15:42:00.235Z"
   },
   {
    "duration": 13,
    "start_time": "2023-07-02T15:42:00.261Z"
   },
   {
    "duration": 26,
    "start_time": "2023-07-02T15:42:00.276Z"
   },
   {
    "duration": 25,
    "start_time": "2023-07-02T15:42:00.303Z"
   },
   {
    "duration": 253,
    "start_time": "2023-07-02T15:42:00.330Z"
   },
   {
    "duration": 21,
    "start_time": "2023-07-02T15:42:00.586Z"
   },
   {
    "duration": 21,
    "start_time": "2023-07-02T15:42:00.609Z"
   },
   {
    "duration": 242,
    "start_time": "2023-07-02T15:42:00.635Z"
   },
   {
    "duration": 7,
    "start_time": "2023-07-02T15:42:00.880Z"
   },
   {
    "duration": 281,
    "start_time": "2023-07-02T15:42:00.889Z"
   },
   {
    "duration": 10,
    "start_time": "2023-07-02T15:42:01.173Z"
   },
   {
    "duration": 31,
    "start_time": "2023-07-02T15:42:01.185Z"
   },
   {
    "duration": 13,
    "start_time": "2023-07-02T15:42:01.218Z"
   },
   {
    "duration": 41,
    "start_time": "2023-07-02T15:42:01.233Z"
   },
   {
    "duration": 49,
    "start_time": "2023-07-02T15:42:01.276Z"
   },
   {
    "duration": 20,
    "start_time": "2023-07-02T15:42:01.327Z"
   },
   {
    "duration": 113,
    "start_time": "2023-07-02T15:42:01.349Z"
   },
   {
    "duration": 791,
    "start_time": "2023-07-02T15:42:01.463Z"
   },
   {
    "duration": 6,
    "start_time": "2023-07-02T15:42:02.256Z"
   },
   {
    "duration": 17,
    "start_time": "2023-07-02T15:42:02.264Z"
   },
   {
    "duration": 458,
    "start_time": "2023-07-02T15:42:02.283Z"
   },
   {
    "duration": 5,
    "start_time": "2023-07-02T15:42:02.742Z"
   },
   {
    "duration": 12,
    "start_time": "2023-07-02T15:42:02.749Z"
   },
   {
    "duration": 639,
    "start_time": "2023-07-02T15:42:02.763Z"
   },
   {
    "duration": 5,
    "start_time": "2023-07-02T15:42:03.404Z"
   },
   {
    "duration": 98,
    "start_time": "2023-07-02T15:42:03.411Z"
   },
   {
    "duration": 462,
    "start_time": "2023-07-02T15:42:03.511Z"
   },
   {
    "duration": 9,
    "start_time": "2023-07-02T15:42:03.975Z"
   },
   {
    "duration": 446,
    "start_time": "2023-07-02T15:42:03.986Z"
   },
   {
    "duration": 4,
    "start_time": "2023-07-02T15:42:04.434Z"
   },
   {
    "duration": 16,
    "start_time": "2023-07-02T15:42:04.440Z"
   },
   {
    "duration": 9,
    "start_time": "2023-07-02T15:42:04.458Z"
   },
   {
    "duration": 42,
    "start_time": "2023-07-02T15:42:04.469Z"
   },
   {
    "duration": 10,
    "start_time": "2023-07-02T15:42:04.514Z"
   },
   {
    "duration": 18,
    "start_time": "2023-07-02T15:42:04.528Z"
   },
   {
    "duration": 15,
    "start_time": "2023-07-02T15:42:04.547Z"
   },
   {
    "duration": 141,
    "start_time": "2023-07-02T15:42:04.564Z"
   },
   {
    "duration": 9,
    "start_time": "2023-07-02T15:42:04.707Z"
   },
   {
    "duration": 105,
    "start_time": "2023-07-02T15:42:04.717Z"
   },
   {
    "duration": 7,
    "start_time": "2023-07-02T15:42:04.824Z"
   },
   {
    "duration": 5,
    "start_time": "2023-07-02T15:42:04.832Z"
   },
   {
    "duration": 61275,
    "start_time": "2023-07-02T15:42:04.838Z"
   },
   {
    "duration": 5,
    "start_time": "2023-07-02T15:43:06.115Z"
   },
   {
    "duration": 190,
    "start_time": "2023-07-02T15:43:06.121Z"
   },
   {
    "duration": 5,
    "start_time": "2023-07-02T15:43:06.314Z"
   },
   {
    "duration": 1438,
    "start_time": "2023-07-02T15:43:58.047Z"
   },
   {
    "duration": 45,
    "start_time": "2023-07-02T15:43:59.488Z"
   },
   {
    "duration": 12,
    "start_time": "2023-07-02T15:43:59.536Z"
   },
   {
    "duration": 19,
    "start_time": "2023-07-02T15:43:59.550Z"
   },
   {
    "duration": 18,
    "start_time": "2023-07-02T15:43:59.572Z"
   },
   {
    "duration": 18,
    "start_time": "2023-07-02T15:43:59.603Z"
   },
   {
    "duration": 11,
    "start_time": "2023-07-02T15:43:59.623Z"
   },
   {
    "duration": 14,
    "start_time": "2023-07-02T15:43:59.636Z"
   },
   {
    "duration": 15,
    "start_time": "2023-07-02T15:43:59.652Z"
   },
   {
    "duration": 34,
    "start_time": "2023-07-02T15:43:59.669Z"
   },
   {
    "duration": 207,
    "start_time": "2023-07-02T15:43:59.705Z"
   },
   {
    "duration": 9,
    "start_time": "2023-07-02T15:43:59.914Z"
   },
   {
    "duration": 24,
    "start_time": "2023-07-02T15:43:59.925Z"
   },
   {
    "duration": 252,
    "start_time": "2023-07-02T15:43:59.952Z"
   },
   {
    "duration": 8,
    "start_time": "2023-07-02T15:44:00.207Z"
   },
   {
    "duration": 285,
    "start_time": "2023-07-02T15:44:00.217Z"
   },
   {
    "duration": 10,
    "start_time": "2023-07-02T15:44:00.504Z"
   },
   {
    "duration": 85,
    "start_time": "2023-07-02T15:44:00.516Z"
   },
   {
    "duration": 43,
    "start_time": "2023-07-02T15:44:00.603Z"
   },
   {
    "duration": 35,
    "start_time": "2023-07-02T15:44:00.648Z"
   },
   {
    "duration": 52,
    "start_time": "2023-07-02T15:44:00.685Z"
   },
   {
    "duration": 26,
    "start_time": "2023-07-02T15:44:00.739Z"
   },
   {
    "duration": 118,
    "start_time": "2023-07-02T15:44:00.767Z"
   },
   {
    "duration": 864,
    "start_time": "2023-07-02T15:44:00.887Z"
   },
   {
    "duration": 6,
    "start_time": "2023-07-02T15:44:01.753Z"
   },
   {
    "duration": 24,
    "start_time": "2023-07-02T15:44:01.761Z"
   },
   {
    "duration": 503,
    "start_time": "2023-07-02T15:44:01.787Z"
   },
   {
    "duration": 10,
    "start_time": "2023-07-02T15:44:02.292Z"
   },
   {
    "duration": 29,
    "start_time": "2023-07-02T15:44:02.304Z"
   },
   {
    "duration": 675,
    "start_time": "2023-07-02T15:44:02.335Z"
   },
   {
    "duration": 6,
    "start_time": "2023-07-02T15:44:03.012Z"
   },
   {
    "duration": 20,
    "start_time": "2023-07-02T15:44:03.019Z"
   },
   {
    "duration": 471,
    "start_time": "2023-07-02T15:44:03.041Z"
   },
   {
    "duration": 5,
    "start_time": "2023-07-02T15:44:03.513Z"
   },
   {
    "duration": 521,
    "start_time": "2023-07-02T15:44:03.520Z"
   },
   {
    "duration": 4,
    "start_time": "2023-07-02T15:44:04.043Z"
   },
   {
    "duration": 30,
    "start_time": "2023-07-02T15:44:04.049Z"
   },
   {
    "duration": 10,
    "start_time": "2023-07-02T15:44:04.081Z"
   },
   {
    "duration": 31,
    "start_time": "2023-07-02T15:44:04.093Z"
   },
   {
    "duration": 18,
    "start_time": "2023-07-02T15:44:04.126Z"
   },
   {
    "duration": 9,
    "start_time": "2023-07-02T15:44:04.148Z"
   },
   {
    "duration": 23,
    "start_time": "2023-07-02T15:44:04.159Z"
   },
   {
    "duration": 21,
    "start_time": "2023-07-02T15:44:04.184Z"
   },
   {
    "duration": 108,
    "start_time": "2023-07-02T15:44:04.207Z"
   },
   {
    "duration": 109,
    "start_time": "2023-07-02T15:44:04.317Z"
   },
   {
    "duration": 13,
    "start_time": "2023-07-02T15:44:04.428Z"
   },
   {
    "duration": 16,
    "start_time": "2023-07-02T15:44:04.442Z"
   },
   {
    "duration": 622500,
    "start_time": "2023-07-02T15:44:04.459Z"
   },
   {
    "duration": 0,
    "start_time": "2023-07-02T15:54:26.961Z"
   },
   {
    "duration": 0,
    "start_time": "2023-07-02T15:54:26.962Z"
   },
   {
    "duration": 0,
    "start_time": "2023-07-02T15:54:26.964Z"
   },
   {
    "duration": 0,
    "start_time": "2023-07-02T15:54:26.967Z"
   },
   {
    "duration": 243,
    "start_time": "2023-07-02T15:55:02.169Z"
   },
   {
    "duration": 82,
    "start_time": "2023-07-02T15:55:18.471Z"
   },
   {
    "duration": 85,
    "start_time": "2023-07-02T15:55:21.810Z"
   },
   {
    "duration": 94,
    "start_time": "2023-07-02T15:55:36.411Z"
   },
   {
    "duration": 11790,
    "start_time": "2023-07-02T16:01:57.817Z"
   },
   {
    "duration": 105,
    "start_time": "2023-07-02T16:03:16.287Z"
   },
   {
    "duration": 15972,
    "start_time": "2023-07-02T16:04:12.040Z"
   },
   {
    "duration": 5,
    "start_time": "2023-07-02T16:04:28.015Z"
   },
   {
    "duration": 38887,
    "start_time": "2023-07-02T16:11:18.215Z"
   },
   {
    "duration": 6,
    "start_time": "2023-07-02T16:12:07.055Z"
   },
   {
    "duration": 43732,
    "start_time": "2023-07-02T16:12:29.185Z"
   },
   {
    "duration": 87,
    "start_time": "2023-07-02T16:13:12.919Z"
   },
   {
    "duration": 4,
    "start_time": "2023-07-02T16:14:01.716Z"
   },
   {
    "duration": 1539,
    "start_time": "2023-07-02T16:14:30.189Z"
   },
   {
    "duration": 47,
    "start_time": "2023-07-02T16:14:31.730Z"
   },
   {
    "duration": 12,
    "start_time": "2023-07-02T16:14:31.779Z"
   },
   {
    "duration": 41,
    "start_time": "2023-07-02T16:14:31.793Z"
   },
   {
    "duration": 31,
    "start_time": "2023-07-02T16:14:31.837Z"
   },
   {
    "duration": 29,
    "start_time": "2023-07-02T16:14:31.870Z"
   },
   {
    "duration": 9,
    "start_time": "2023-07-02T16:14:31.901Z"
   },
   {
    "duration": 30,
    "start_time": "2023-07-02T16:14:31.912Z"
   },
   {
    "duration": 20,
    "start_time": "2023-07-02T16:14:31.944Z"
   },
   {
    "duration": 20,
    "start_time": "2023-07-02T16:14:31.966Z"
   },
   {
    "duration": 206,
    "start_time": "2023-07-02T16:14:31.988Z"
   },
   {
    "duration": 10,
    "start_time": "2023-07-02T16:14:32.202Z"
   },
   {
    "duration": 17,
    "start_time": "2023-07-02T16:14:32.214Z"
   },
   {
    "duration": 284,
    "start_time": "2023-07-02T16:14:32.235Z"
   },
   {
    "duration": 7,
    "start_time": "2023-07-02T16:14:32.521Z"
   },
   {
    "duration": 268,
    "start_time": "2023-07-02T16:14:32.529Z"
   },
   {
    "duration": 9,
    "start_time": "2023-07-02T16:14:32.801Z"
   },
   {
    "duration": 7,
    "start_time": "2023-07-02T16:14:32.812Z"
   },
   {
    "duration": 10,
    "start_time": "2023-07-02T16:14:32.821Z"
   },
   {
    "duration": 29,
    "start_time": "2023-07-02T16:14:32.832Z"
   },
   {
    "duration": 25,
    "start_time": "2023-07-02T16:14:32.863Z"
   },
   {
    "duration": 10,
    "start_time": "2023-07-02T16:14:32.890Z"
   },
   {
    "duration": 94,
    "start_time": "2023-07-02T16:14:32.902Z"
   },
   {
    "duration": 781,
    "start_time": "2023-07-02T16:14:32.998Z"
   },
   {
    "duration": 5,
    "start_time": "2023-07-02T16:14:33.781Z"
   },
   {
    "duration": 19,
    "start_time": "2023-07-02T16:14:33.788Z"
   },
   {
    "duration": 455,
    "start_time": "2023-07-02T16:14:33.809Z"
   },
   {
    "duration": 6,
    "start_time": "2023-07-02T16:14:34.266Z"
   },
   {
    "duration": 15,
    "start_time": "2023-07-02T16:14:34.273Z"
   },
   {
    "duration": 659,
    "start_time": "2023-07-02T16:14:34.289Z"
   },
   {
    "duration": 6,
    "start_time": "2023-07-02T16:14:34.950Z"
   },
   {
    "duration": 11,
    "start_time": "2023-07-02T16:14:34.957Z"
   },
   {
    "duration": 465,
    "start_time": "2023-07-02T16:14:34.970Z"
   },
   {
    "duration": 5,
    "start_time": "2023-07-02T16:14:35.438Z"
   },
   {
    "duration": 492,
    "start_time": "2023-07-02T16:14:35.444Z"
   },
   {
    "duration": 5,
    "start_time": "2023-07-02T16:14:35.938Z"
   },
   {
    "duration": 21,
    "start_time": "2023-07-02T16:14:35.945Z"
   },
   {
    "duration": 9,
    "start_time": "2023-07-02T16:14:35.968Z"
   },
   {
    "duration": 30,
    "start_time": "2023-07-02T16:14:35.979Z"
   },
   {
    "duration": 9,
    "start_time": "2023-07-02T16:14:36.011Z"
   },
   {
    "duration": 19,
    "start_time": "2023-07-02T16:14:36.024Z"
   },
   {
    "duration": 18,
    "start_time": "2023-07-02T16:14:36.045Z"
   },
   {
    "duration": 41,
    "start_time": "2023-07-02T16:14:36.065Z"
   },
   {
    "duration": 93,
    "start_time": "2023-07-02T16:14:36.112Z"
   },
   {
    "duration": 114,
    "start_time": "2023-07-02T16:14:36.207Z"
   },
   {
    "duration": 6,
    "start_time": "2023-07-02T16:14:36.323Z"
   },
   {
    "duration": 6,
    "start_time": "2023-07-02T16:14:36.330Z"
   },
   {
    "duration": 399518,
    "start_time": "2023-07-02T16:14:36.338Z"
   },
   {
    "duration": 0,
    "start_time": "2023-07-02T16:21:15.858Z"
   },
   {
    "duration": 0,
    "start_time": "2023-07-02T16:21:15.860Z"
   },
   {
    "duration": 0,
    "start_time": "2023-07-02T16:21:15.861Z"
   },
   {
    "duration": 0,
    "start_time": "2023-07-02T16:21:15.862Z"
   },
   {
    "duration": 0,
    "start_time": "2023-07-02T16:21:15.863Z"
   },
   {
    "duration": 4,
    "start_time": "2023-07-02T16:21:27.964Z"
   },
   {
    "duration": 92983,
    "start_time": "2023-07-02T16:21:30.925Z"
   },
   {
    "duration": 0,
    "start_time": "2023-07-02T16:23:03.911Z"
   },
   {
    "duration": 5,
    "start_time": "2023-07-02T16:25:17.789Z"
   },
   {
    "duration": 91884,
    "start_time": "2023-07-02T16:25:18.739Z"
   },
   {
    "duration": 4,
    "start_time": "2023-07-02T16:27:00.487Z"
   },
   {
    "duration": 14977,
    "start_time": "2023-07-02T16:27:04.558Z"
   },
   {
    "duration": 74,
    "start_time": "2023-07-02T16:27:19.538Z"
   },
   {
    "duration": 16399,
    "start_time": "2023-07-02T16:27:19.616Z"
   },
   {
    "duration": 6,
    "start_time": "2023-07-02T16:31:17.532Z"
   },
   {
    "duration": 47,
    "start_time": "2023-07-02T16:34:04.492Z"
   },
   {
    "duration": 7,
    "start_time": "2023-07-02T16:34:05.264Z"
   },
   {
    "duration": 398,
    "start_time": "2023-07-02T16:34:06.214Z"
   },
   {
    "duration": 15,
    "start_time": "2023-07-02T16:34:09.216Z"
   },
   {
    "duration": 1803,
    "start_time": "2023-07-02T16:35:18.634Z"
   },
   {
    "duration": 51,
    "start_time": "2023-07-02T16:35:20.440Z"
   },
   {
    "duration": 16,
    "start_time": "2023-07-02T16:35:20.494Z"
   },
   {
    "duration": 33,
    "start_time": "2023-07-02T16:35:20.513Z"
   },
   {
    "duration": 15,
    "start_time": "2023-07-02T16:35:20.549Z"
   },
   {
    "duration": 45,
    "start_time": "2023-07-02T16:35:20.566Z"
   },
   {
    "duration": 20,
    "start_time": "2023-07-02T16:35:20.613Z"
   },
   {
    "duration": 7,
    "start_time": "2023-07-02T16:35:20.635Z"
   },
   {
    "duration": 15,
    "start_time": "2023-07-02T16:35:20.643Z"
   },
   {
    "duration": 25,
    "start_time": "2023-07-02T16:35:20.660Z"
   },
   {
    "duration": 205,
    "start_time": "2023-07-02T16:35:20.687Z"
   },
   {
    "duration": 21,
    "start_time": "2023-07-02T16:35:20.894Z"
   },
   {
    "duration": 13,
    "start_time": "2023-07-02T16:35:20.917Z"
   },
   {
    "duration": 239,
    "start_time": "2023-07-02T16:35:20.933Z"
   },
   {
    "duration": 7,
    "start_time": "2023-07-02T16:35:21.174Z"
   },
   {
    "duration": 273,
    "start_time": "2023-07-02T16:35:21.182Z"
   },
   {
    "duration": 13,
    "start_time": "2023-07-02T16:35:21.457Z"
   },
   {
    "duration": 25,
    "start_time": "2023-07-02T16:35:21.472Z"
   },
   {
    "duration": 28,
    "start_time": "2023-07-02T16:35:21.499Z"
   },
   {
    "duration": 15,
    "start_time": "2023-07-02T16:35:21.529Z"
   },
   {
    "duration": 9,
    "start_time": "2023-07-02T16:35:21.546Z"
   },
   {
    "duration": 10,
    "start_time": "2023-07-02T16:35:21.557Z"
   },
   {
    "duration": 102,
    "start_time": "2023-07-02T16:35:21.569Z"
   },
   {
    "duration": 770,
    "start_time": "2023-07-02T16:35:21.673Z"
   },
   {
    "duration": 5,
    "start_time": "2023-07-02T16:35:22.445Z"
   },
   {
    "duration": 11,
    "start_time": "2023-07-02T16:35:22.451Z"
   },
   {
    "duration": 416,
    "start_time": "2023-07-02T16:35:22.463Z"
   },
   {
    "duration": 5,
    "start_time": "2023-07-02T16:35:22.881Z"
   },
   {
    "duration": 16,
    "start_time": "2023-07-02T16:35:22.887Z"
   },
   {
    "duration": 682,
    "start_time": "2023-07-02T16:35:22.910Z"
   },
   {
    "duration": 10,
    "start_time": "2023-07-02T16:35:23.594Z"
   },
   {
    "duration": 17,
    "start_time": "2023-07-02T16:35:23.606Z"
   },
   {
    "duration": 444,
    "start_time": "2023-07-02T16:35:23.625Z"
   },
   {
    "duration": 5,
    "start_time": "2023-07-02T16:35:24.071Z"
   },
   {
    "duration": 461,
    "start_time": "2023-07-02T16:35:24.078Z"
   },
   {
    "duration": 5,
    "start_time": "2023-07-02T16:35:24.541Z"
   },
   {
    "duration": 20,
    "start_time": "2023-07-02T16:35:24.547Z"
   },
   {
    "duration": 8,
    "start_time": "2023-07-02T16:35:24.569Z"
   },
   {
    "duration": 39,
    "start_time": "2023-07-02T16:35:24.579Z"
   },
   {
    "duration": 13,
    "start_time": "2023-07-02T16:35:24.620Z"
   },
   {
    "duration": 8,
    "start_time": "2023-07-02T16:35:24.636Z"
   },
   {
    "duration": 12,
    "start_time": "2023-07-02T16:35:24.645Z"
   },
   {
    "duration": 62,
    "start_time": "2023-07-02T16:35:24.659Z"
   },
   {
    "duration": 605,
    "start_time": "2023-07-02T16:35:24.723Z"
   },
   {
    "duration": 279,
    "start_time": "2023-07-02T16:35:25.330Z"
   },
   {
    "duration": 13,
    "start_time": "2023-07-02T16:35:25.615Z"
   },
   {
    "duration": 79,
    "start_time": "2023-07-02T16:35:25.630Z"
   },
   {
    "duration": 5,
    "start_time": "2023-07-02T16:35:25.711Z"
   },
   {
    "duration": 12,
    "start_time": "2023-07-02T16:35:25.719Z"
   },
   {
    "duration": 158997,
    "start_time": "2023-07-02T16:35:25.733Z"
   },
   {
    "duration": 73,
    "start_time": "2023-07-02T16:38:04.732Z"
   },
   {
    "duration": 2007,
    "start_time": "2023-07-02T16:38:04.806Z"
   },
   {
    "duration": 6,
    "start_time": "2023-07-02T16:38:06.815Z"
   },
   {
    "duration": 595,
    "start_time": "2023-07-02T16:38:06.822Z"
   },
   {
    "duration": 5,
    "start_time": "2023-07-02T16:38:07.421Z"
   },
   {
    "duration": 5,
    "start_time": "2023-07-02T16:39:27.088Z"
   },
   {
    "duration": 460460,
    "start_time": "2023-07-02T16:39:27.652Z"
   },
   {
    "duration": 4,
    "start_time": "2023-07-02T16:47:08.114Z"
   },
   {
    "duration": 504,
    "start_time": "2023-07-02T16:47:08.202Z"
   },
   {
    "duration": 5,
    "start_time": "2023-07-02T16:47:08.708Z"
   },
   {
    "duration": 3,
    "start_time": "2023-07-02T18:52:00.714Z"
   },
   {
    "duration": 4,
    "start_time": "2023-07-02T19:29:59.721Z"
   },
   {
    "duration": 150,
    "start_time": "2023-07-02T19:44:37.018Z"
   },
   {
    "duration": 1459,
    "start_time": "2023-07-02T19:44:48.906Z"
   },
   {
    "duration": 54,
    "start_time": "2023-07-02T19:44:50.368Z"
   },
   {
    "duration": 15,
    "start_time": "2023-07-02T19:44:50.425Z"
   },
   {
    "duration": 34,
    "start_time": "2023-07-02T19:44:50.443Z"
   },
   {
    "duration": 29,
    "start_time": "2023-07-02T19:44:50.480Z"
   },
   {
    "duration": 33,
    "start_time": "2023-07-02T19:44:50.512Z"
   },
   {
    "duration": 12,
    "start_time": "2023-07-02T19:44:50.547Z"
   },
   {
    "duration": 21,
    "start_time": "2023-07-02T19:44:50.561Z"
   },
   {
    "duration": 20,
    "start_time": "2023-07-02T19:44:50.584Z"
   },
   {
    "duration": 313,
    "start_time": "2023-07-02T19:44:50.606Z"
   },
   {
    "duration": 126,
    "start_time": "2023-07-02T19:44:50.921Z"
   },
   {
    "duration": 10,
    "start_time": "2023-07-02T19:44:54.374Z"
   },
   {
    "duration": 12,
    "start_time": "2023-07-02T19:44:59.135Z"
   },
   {
    "duration": 5,
    "start_time": "2023-07-02T19:45:15.274Z"
   },
   {
    "duration": 2531,
    "start_time": "2023-07-02T19:47:55.694Z"
   },
   {
    "duration": 2634,
    "start_time": "2023-07-02T19:49:26.806Z"
   },
   {
    "duration": 2592,
    "start_time": "2023-07-02T19:49:45.575Z"
   },
   {
    "duration": 114,
    "start_time": "2023-07-02T20:00:40.473Z"
   },
   {
    "duration": 101,
    "start_time": "2023-07-02T20:08:39.630Z"
   },
   {
    "duration": 1423,
    "start_time": "2023-07-02T20:33:34.489Z"
   },
   {
    "duration": 46,
    "start_time": "2023-07-02T20:33:35.914Z"
   },
   {
    "duration": 60,
    "start_time": "2023-07-02T20:33:35.962Z"
   },
   {
    "duration": 38,
    "start_time": "2023-07-02T20:33:36.024Z"
   },
   {
    "duration": 12,
    "start_time": "2023-07-02T20:33:36.065Z"
   },
   {
    "duration": 17,
    "start_time": "2023-07-02T20:33:36.079Z"
   },
   {
    "duration": 8,
    "start_time": "2023-07-02T20:33:36.097Z"
   },
   {
    "duration": 4,
    "start_time": "2023-07-02T20:33:36.107Z"
   },
   {
    "duration": 12,
    "start_time": "2023-07-02T20:33:36.112Z"
   },
   {
    "duration": 217,
    "start_time": "2023-07-02T20:33:36.126Z"
   },
   {
    "duration": 2577,
    "start_time": "2023-07-02T20:33:36.345Z"
   },
   {
    "duration": 13,
    "start_time": "2023-07-02T20:33:38.923Z"
   },
   {
    "duration": 9,
    "start_time": "2023-07-02T20:33:38.938Z"
   },
   {
    "duration": 11,
    "start_time": "2023-07-02T20:33:38.950Z"
   },
   {
    "duration": 251,
    "start_time": "2023-07-02T20:33:38.962Z"
   },
   {
    "duration": 7,
    "start_time": "2023-07-02T20:33:39.215Z"
   },
   {
    "duration": 298,
    "start_time": "2023-07-02T20:33:39.223Z"
   },
   {
    "duration": 9,
    "start_time": "2023-07-02T20:33:39.523Z"
   },
   {
    "duration": 55,
    "start_time": "2023-07-02T20:33:39.533Z"
   },
   {
    "duration": 10,
    "start_time": "2023-07-02T20:33:39.590Z"
   },
   {
    "duration": 17,
    "start_time": "2023-07-02T20:33:39.602Z"
   },
   {
    "duration": 16,
    "start_time": "2023-07-02T20:33:39.621Z"
   },
   {
    "duration": 9,
    "start_time": "2023-07-02T20:33:39.639Z"
   },
   {
    "duration": 93,
    "start_time": "2023-07-02T20:33:39.649Z"
   },
   {
    "duration": 867,
    "start_time": "2023-07-02T20:33:39.744Z"
   },
   {
    "duration": 7,
    "start_time": "2023-07-02T20:33:40.613Z"
   },
   {
    "duration": 14,
    "start_time": "2023-07-02T20:33:40.622Z"
   },
   {
    "duration": 422,
    "start_time": "2023-07-02T20:33:40.638Z"
   },
   {
    "duration": 5,
    "start_time": "2023-07-02T20:33:41.061Z"
   },
   {
    "duration": 20,
    "start_time": "2023-07-02T20:33:41.068Z"
   },
   {
    "duration": 627,
    "start_time": "2023-07-02T20:33:41.089Z"
   },
   {
    "duration": 5,
    "start_time": "2023-07-02T20:33:41.717Z"
   },
   {
    "duration": 50,
    "start_time": "2023-07-02T20:33:41.724Z"
   },
   {
    "duration": 470,
    "start_time": "2023-07-02T20:33:41.776Z"
   },
   {
    "duration": 6,
    "start_time": "2023-07-02T20:33:42.248Z"
   },
   {
    "duration": 444,
    "start_time": "2023-07-02T20:33:42.255Z"
   },
   {
    "duration": 5,
    "start_time": "2023-07-02T20:33:42.700Z"
   },
   {
    "duration": 20,
    "start_time": "2023-07-02T20:33:42.706Z"
   },
   {
    "duration": 8,
    "start_time": "2023-07-02T20:33:42.728Z"
   },
   {
    "duration": 17,
    "start_time": "2023-07-02T20:33:42.738Z"
   },
   {
    "duration": 7,
    "start_time": "2023-07-02T20:33:42.760Z"
   },
   {
    "duration": 38,
    "start_time": "2023-07-02T20:33:42.768Z"
   },
   {
    "duration": 18,
    "start_time": "2023-07-02T20:33:42.807Z"
   },
   {
    "duration": 89,
    "start_time": "2023-07-02T20:33:42.827Z"
   },
   {
    "duration": 420,
    "start_time": "2023-07-02T20:33:43.003Z"
   },
   {
    "duration": 188,
    "start_time": "2023-07-02T20:33:43.425Z"
   },
   {
    "duration": 106,
    "start_time": "2023-07-02T20:33:43.615Z"
   },
   {
    "duration": 22,
    "start_time": "2023-07-02T20:33:43.722Z"
   },
   {
    "duration": 6,
    "start_time": "2023-07-02T20:33:43.746Z"
   },
   {
    "duration": 5,
    "start_time": "2023-07-02T20:33:43.754Z"
   },
   {
    "duration": 4816723,
    "start_time": "2023-07-02T20:33:43.761Z"
   },
   {
    "duration": 0,
    "start_time": "2023-07-02T21:54:00.486Z"
   },
   {
    "duration": 0,
    "start_time": "2023-07-02T21:54:00.487Z"
   },
   {
    "duration": 0,
    "start_time": "2023-07-02T21:54:00.490Z"
   },
   {
    "duration": 0,
    "start_time": "2023-07-02T21:54:00.503Z"
   },
   {
    "duration": 0,
    "start_time": "2023-07-02T21:54:00.505Z"
   },
   {
    "duration": 0,
    "start_time": "2023-07-02T21:54:00.506Z"
   },
   {
    "duration": 1622,
    "start_time": "2023-07-02T21:55:29.990Z"
   },
   {
    "duration": 48,
    "start_time": "2023-07-02T21:55:31.620Z"
   },
   {
    "duration": 11,
    "start_time": "2023-07-02T21:55:31.670Z"
   },
   {
    "duration": 70,
    "start_time": "2023-07-02T21:55:31.683Z"
   },
   {
    "duration": 62,
    "start_time": "2023-07-02T21:55:31.754Z"
   },
   {
    "duration": 75,
    "start_time": "2023-07-02T21:55:31.818Z"
   },
   {
    "duration": 16,
    "start_time": "2023-07-02T21:55:31.895Z"
   },
   {
    "duration": 45,
    "start_time": "2023-07-02T21:55:31.913Z"
   },
   {
    "duration": 39,
    "start_time": "2023-07-02T21:55:31.960Z"
   },
   {
    "duration": 267,
    "start_time": "2023-07-02T21:55:32.003Z"
   },
   {
    "duration": 2691,
    "start_time": "2023-07-02T21:55:32.272Z"
   },
   {
    "duration": 13,
    "start_time": "2023-07-02T21:55:34.965Z"
   },
   {
    "duration": 41,
    "start_time": "2023-07-02T21:55:34.980Z"
   },
   {
    "duration": 33,
    "start_time": "2023-07-02T21:55:35.023Z"
   },
   {
    "duration": 275,
    "start_time": "2023-07-02T21:55:35.058Z"
   },
   {
    "duration": 7,
    "start_time": "2023-07-02T21:55:35.335Z"
   },
   {
    "duration": 303,
    "start_time": "2023-07-02T21:55:35.343Z"
   },
   {
    "duration": 9,
    "start_time": "2023-07-02T21:55:35.648Z"
   },
   {
    "duration": 17,
    "start_time": "2023-07-02T21:55:35.659Z"
   },
   {
    "duration": 5,
    "start_time": "2023-07-02T21:55:35.678Z"
   },
   {
    "duration": 34,
    "start_time": "2023-07-02T21:55:35.684Z"
   },
   {
    "duration": 8,
    "start_time": "2023-07-02T21:55:35.720Z"
   },
   {
    "duration": 10,
    "start_time": "2023-07-02T21:55:35.730Z"
   },
   {
    "duration": 96,
    "start_time": "2023-07-02T21:55:35.742Z"
   },
   {
    "duration": 788,
    "start_time": "2023-07-02T21:55:35.840Z"
   },
   {
    "duration": 7,
    "start_time": "2023-07-02T21:55:36.630Z"
   },
   {
    "duration": 17,
    "start_time": "2023-07-02T21:55:36.639Z"
   },
   {
    "duration": 452,
    "start_time": "2023-07-02T21:55:36.662Z"
   },
   {
    "duration": 5,
    "start_time": "2023-07-02T21:55:37.116Z"
   },
   {
    "duration": 12,
    "start_time": "2023-07-02T21:55:37.123Z"
   },
   {
    "duration": 655,
    "start_time": "2023-07-02T21:55:37.137Z"
   },
   {
    "duration": 9,
    "start_time": "2023-07-02T21:55:37.806Z"
   },
   {
    "duration": 10,
    "start_time": "2023-07-02T21:55:37.818Z"
   },
   {
    "duration": 436,
    "start_time": "2023-07-02T21:55:37.830Z"
   },
   {
    "duration": 5,
    "start_time": "2023-07-02T21:55:38.268Z"
   },
   {
    "duration": 479,
    "start_time": "2023-07-02T21:55:38.274Z"
   },
   {
    "duration": 5,
    "start_time": "2023-07-02T21:55:38.754Z"
   },
   {
    "duration": 16,
    "start_time": "2023-07-02T21:55:38.760Z"
   },
   {
    "duration": 8,
    "start_time": "2023-07-02T21:55:38.777Z"
   },
   {
    "duration": 22,
    "start_time": "2023-07-02T21:55:38.804Z"
   },
   {
    "duration": 6,
    "start_time": "2023-07-02T21:55:38.827Z"
   },
   {
    "duration": 6,
    "start_time": "2023-07-02T21:55:38.834Z"
   },
   {
    "duration": 10,
    "start_time": "2023-07-02T21:55:38.842Z"
   },
   {
    "duration": 76,
    "start_time": "2023-07-02T21:55:38.854Z"
   },
   {
    "duration": 600,
    "start_time": "2023-07-02T21:55:39.008Z"
   },
   {
    "duration": 195,
    "start_time": "2023-07-02T21:55:39.610Z"
   },
   {
    "duration": 14,
    "start_time": "2023-07-02T21:55:39.807Z"
   },
   {
    "duration": 24,
    "start_time": "2023-07-02T21:55:39.823Z"
   },
   {
    "duration": 5,
    "start_time": "2023-07-02T21:55:39.849Z"
   },
   {
    "duration": 7,
    "start_time": "2023-07-02T21:55:39.856Z"
   },
   {
    "duration": 7990043,
    "start_time": "2023-07-02T21:55:39.864Z"
   },
   {
    "duration": 5,
    "start_time": "2023-07-03T00:08:49.908Z"
   },
   {
    "duration": 13,
    "start_time": "2023-07-03T00:08:49.914Z"
   },
   {
    "duration": 0,
    "start_time": "2023-07-03T00:11:03.783Z"
   },
   {
    "duration": 0,
    "start_time": "2023-07-03T00:11:03.849Z"
   },
   {
    "duration": 0,
    "start_time": "2023-07-03T00:11:03.906Z"
   },
   {
    "duration": 0,
    "start_time": "2023-07-03T00:11:03.907Z"
   },
   {
    "duration": 99,
    "start_time": "2023-07-03T00:11:07.823Z"
   },
   {
    "duration": 6,
    "start_time": "2023-07-03T00:11:09.623Z"
   },
   {
    "duration": 153663,
    "start_time": "2023-07-03T00:11:12.254Z"
   },
   {
    "duration": 80,
    "start_time": "2023-07-03T00:13:45.925Z"
   },
   {
    "duration": 81,
    "start_time": "2023-07-03T00:20:23.182Z"
   },
   {
    "duration": 88,
    "start_time": "2023-07-04T18:35:51.411Z"
   },
   {
    "duration": 128,
    "start_time": "2023-07-04T18:35:55.640Z"
   },
   {
    "duration": 95,
    "start_time": "2023-07-04T18:37:49.893Z"
   },
   {
    "duration": 128,
    "start_time": "2023-07-04T19:00:12.936Z"
   },
   {
    "duration": 46,
    "start_time": "2023-07-04T19:00:49.229Z"
   },
   {
    "duration": 1728,
    "start_time": "2023-07-04T19:04:57.753Z"
   },
   {
    "duration": 147,
    "start_time": "2023-07-04T19:04:59.484Z"
   },
   {
    "duration": 13,
    "start_time": "2023-07-04T19:04:59.633Z"
   },
   {
    "duration": 25,
    "start_time": "2023-07-04T19:04:59.648Z"
   },
   {
    "duration": 19,
    "start_time": "2023-07-04T19:04:59.676Z"
   },
   {
    "duration": 49,
    "start_time": "2023-07-04T19:04:59.697Z"
   },
   {
    "duration": 8,
    "start_time": "2023-07-04T19:04:59.748Z"
   },
   {
    "duration": 23,
    "start_time": "2023-07-04T19:04:59.758Z"
   },
   {
    "duration": 11,
    "start_time": "2023-07-04T19:04:59.782Z"
   },
   {
    "duration": 281,
    "start_time": "2023-07-04T19:04:59.795Z"
   },
   {
    "duration": 2979,
    "start_time": "2023-07-04T19:05:00.077Z"
   },
   {
    "duration": 13,
    "start_time": "2023-07-04T19:05:03.057Z"
   },
   {
    "duration": 17,
    "start_time": "2023-07-04T19:05:03.072Z"
   },
   {
    "duration": 59,
    "start_time": "2023-07-04T19:05:03.092Z"
   },
   {
    "duration": 292,
    "start_time": "2023-07-04T19:05:03.153Z"
   },
   {
    "duration": 7,
    "start_time": "2023-07-04T19:05:03.446Z"
   },
   {
    "duration": 418,
    "start_time": "2023-07-04T19:05:03.454Z"
   },
   {
    "duration": 13,
    "start_time": "2023-07-04T19:05:03.873Z"
   },
   {
    "duration": 39,
    "start_time": "2023-07-04T19:05:03.904Z"
   },
   {
    "duration": 5,
    "start_time": "2023-07-04T19:05:03.946Z"
   },
   {
    "duration": 19,
    "start_time": "2023-07-04T19:05:03.953Z"
   },
   {
    "duration": 17,
    "start_time": "2023-07-04T19:05:03.974Z"
   },
   {
    "duration": 7,
    "start_time": "2023-07-04T19:05:03.993Z"
   },
   {
    "duration": 46,
    "start_time": "2023-07-04T19:05:04.002Z"
   },
   {
    "duration": 892,
    "start_time": "2023-07-04T19:05:04.051Z"
   },
   {
    "duration": 6,
    "start_time": "2023-07-04T19:05:04.945Z"
   },
   {
    "duration": 30,
    "start_time": "2023-07-04T19:05:04.953Z"
   },
   {
    "duration": 516,
    "start_time": "2023-07-04T19:05:04.985Z"
   },
   {
    "duration": 5,
    "start_time": "2023-07-04T19:05:05.503Z"
   },
   {
    "duration": 38,
    "start_time": "2023-07-04T19:05:05.510Z"
   },
   {
    "duration": 697,
    "start_time": "2023-07-04T19:05:05.550Z"
   },
   {
    "duration": 5,
    "start_time": "2023-07-04T19:05:06.249Z"
   },
   {
    "duration": 22,
    "start_time": "2023-07-04T19:05:06.255Z"
   },
   {
    "duration": 508,
    "start_time": "2023-07-04T19:05:06.279Z"
   },
   {
    "duration": 4,
    "start_time": "2023-07-04T19:05:06.789Z"
   },
   {
    "duration": 497,
    "start_time": "2023-07-04T19:05:06.807Z"
   },
   {
    "duration": 5,
    "start_time": "2023-07-04T19:05:07.306Z"
   },
   {
    "duration": 53,
    "start_time": "2023-07-04T19:05:07.314Z"
   },
   {
    "duration": 9,
    "start_time": "2023-07-04T19:05:07.369Z"
   },
   {
    "duration": 36,
    "start_time": "2023-07-04T19:05:07.379Z"
   },
   {
    "duration": 27,
    "start_time": "2023-07-04T19:05:07.419Z"
   },
   {
    "duration": 7,
    "start_time": "2023-07-04T19:05:07.448Z"
   },
   {
    "duration": 154,
    "start_time": "2023-07-04T19:05:07.456Z"
   },
   {
    "duration": 122,
    "start_time": "2023-07-04T19:05:07.612Z"
   },
   {
    "duration": 3887,
    "start_time": "2023-07-04T19:05:07.739Z"
   },
   {
    "duration": 375,
    "start_time": "2023-07-04T19:05:11.634Z"
   },
   {
    "duration": 74,
    "start_time": "2023-07-04T19:05:12.028Z"
   },
   {
    "duration": 54,
    "start_time": "2023-07-04T19:05:12.108Z"
   },
   {
    "duration": 16,
    "start_time": "2023-07-04T19:05:12.164Z"
   },
   {
    "duration": 18,
    "start_time": "2023-07-04T19:05:12.182Z"
   },
   {
    "duration": 1941018,
    "start_time": "2023-07-04T19:05:12.203Z"
   },
   {
    "duration": 3,
    "start_time": "2023-07-04T19:37:33.223Z"
   },
   {
    "duration": 7,
    "start_time": "2023-07-04T19:37:33.228Z"
   },
   {
    "duration": 78,
    "start_time": "2023-07-04T19:37:33.237Z"
   },
   {
    "duration": 24,
    "start_time": "2023-07-04T19:37:33.402Z"
   },
   {
    "duration": 7499,
    "start_time": "2023-07-04T19:37:33.504Z"
   },
   {
    "duration": 12,
    "start_time": "2023-07-04T19:37:41.009Z"
   },
   {
    "duration": 30,
    "start_time": "2023-07-04T19:56:29.635Z"
   },
   {
    "duration": 5030,
    "start_time": "2023-07-04T19:58:04.215Z"
   },
   {
    "duration": 4,
    "start_time": "2023-07-04T19:59:21.014Z"
   },
   {
    "duration": 123,
    "start_time": "2023-07-04T20:02:00.350Z"
   },
   {
    "duration": 78,
    "start_time": "2023-07-04T20:05:22.071Z"
   },
   {
    "duration": 96,
    "start_time": "2023-07-04T20:05:30.350Z"
   },
   {
    "duration": 84,
    "start_time": "2023-07-04T20:07:05.414Z"
   },
   {
    "duration": 13,
    "start_time": "2023-07-04T20:07:27.570Z"
   },
   {
    "duration": 4,
    "start_time": "2023-07-04T20:08:19.116Z"
   },
   {
    "duration": 18,
    "start_time": "2023-07-04T20:08:24.432Z"
   },
   {
    "duration": 10580,
    "start_time": "2023-07-04T20:12:05.531Z"
   },
   {
    "duration": 9969,
    "start_time": "2023-07-04T20:12:56.480Z"
   },
   {
    "duration": 10070,
    "start_time": "2023-07-04T20:15:44.028Z"
   },
   {
    "duration": 0,
    "start_time": "2023-07-04T20:15:54.102Z"
   },
   {
    "duration": 10108,
    "start_time": "2023-07-04T20:19:39.032Z"
   },
   {
    "duration": 0,
    "start_time": "2023-07-04T20:29:54.965Z"
   },
   {
    "duration": 625017,
    "start_time": "2023-07-04T20:29:58.577Z"
   },
   {
    "duration": 3,
    "start_time": "2023-07-04T20:41:55.993Z"
   },
   {
    "duration": 16,
    "start_time": "2023-07-04T20:42:47.772Z"
   },
   {
    "duration": 22,
    "start_time": "2023-07-04T20:43:27.560Z"
   },
   {
    "duration": 16,
    "start_time": "2023-07-04T20:44:32.631Z"
   },
   {
    "duration": 11464,
    "start_time": "2023-07-04T20:45:57.371Z"
   },
   {
    "duration": 0,
    "start_time": "2023-07-04T20:46:08.837Z"
   },
   {
    "duration": 0,
    "start_time": "2023-07-04T20:46:08.838Z"
   },
   {
    "duration": 450457,
    "start_time": "2023-07-04T20:46:34.593Z"
   },
   {
    "duration": 10,
    "start_time": "2023-07-04T20:54:05.052Z"
   },
   {
    "duration": 13857,
    "start_time": "2023-07-04T20:58:22.858Z"
   },
   {
    "duration": 12,
    "start_time": "2023-07-04T20:59:06.306Z"
   },
   {
    "duration": 4,
    "start_time": "2023-07-04T20:59:10.310Z"
   },
   {
    "duration": 12,
    "start_time": "2023-07-04T21:00:48.299Z"
   },
   {
    "duration": 93,
    "start_time": "2023-07-04T21:00:51.599Z"
   },
   {
    "duration": 80,
    "start_time": "2023-07-04T21:01:00.994Z"
   },
   {
    "duration": 14724,
    "start_time": "2023-07-04T21:01:18.519Z"
   },
   {
    "duration": 11108,
    "start_time": "2023-07-04T21:02:14.757Z"
   },
   {
    "duration": 6552,
    "start_time": "2023-07-04T21:03:25.218Z"
   },
   {
    "duration": 13,
    "start_time": "2023-07-04T21:04:22.718Z"
   },
   {
    "duration": 546152,
    "start_time": "2023-07-04T21:04:46.632Z"
   },
   {
    "duration": 104,
    "start_time": "2023-07-04T21:13:52.786Z"
   },
   {
    "duration": 0,
    "start_time": "2023-07-04T21:13:52.893Z"
   },
   {
    "duration": 34,
    "start_time": "2023-07-04T21:17:18.503Z"
   },
   {
    "duration": 25,
    "start_time": "2023-07-04T21:18:12.231Z"
   },
   {
    "duration": 10492,
    "start_time": "2023-07-04T21:18:17.318Z"
   },
   {
    "duration": 10609,
    "start_time": "2023-07-04T21:20:39.095Z"
   },
   {
    "duration": 13,
    "start_time": "2023-07-04T21:21:22.817Z"
   },
   {
    "duration": 6,
    "start_time": "2023-07-04T21:21:32.199Z"
   },
   {
    "duration": 4,
    "start_time": "2023-07-04T21:22:09.421Z"
   },
   {
    "duration": 105,
    "start_time": "2023-07-04T21:22:39.162Z"
   },
   {
    "duration": 10629,
    "start_time": "2023-07-04T21:22:50.150Z"
   },
   {
    "duration": 10285,
    "start_time": "2023-07-04T21:23:18.129Z"
   },
   {
    "duration": 10165,
    "start_time": "2023-07-04T21:23:32.942Z"
   },
   {
    "duration": 73,
    "start_time": "2023-07-04T21:25:08.921Z"
   },
   {
    "duration": 17,
    "start_time": "2023-07-04T21:39:29.557Z"
   },
   {
    "duration": 12,
    "start_time": "2023-07-04T21:39:44.650Z"
   },
   {
    "duration": 22,
    "start_time": "2023-07-04T21:39:47.313Z"
   },
   {
    "duration": 13,
    "start_time": "2023-07-04T21:39:54.329Z"
   },
   {
    "duration": 10,
    "start_time": "2023-07-04T21:40:10.429Z"
   },
   {
    "duration": 3,
    "start_time": "2023-07-04T21:40:46.207Z"
   },
   {
    "duration": 4,
    "start_time": "2023-07-04T21:41:38.457Z"
   },
   {
    "duration": 82,
    "start_time": "2023-07-04T21:43:20.129Z"
   },
   {
    "duration": 6,
    "start_time": "2023-07-04T21:43:20.841Z"
   },
   {
    "duration": 191,
    "start_time": "2023-07-04T21:45:16.010Z"
   },
   {
    "duration": 6,
    "start_time": "2023-07-04T21:45:16.302Z"
   },
   {
    "duration": 9002,
    "start_time": "2023-07-04T21:45:16.606Z"
   },
   {
    "duration": 6,
    "start_time": "2023-07-04T21:45:25.610Z"
   },
   {
    "duration": 10089,
    "start_time": "2023-07-04T21:45:25.618Z"
   },
   {
    "duration": 7,
    "start_time": "2023-07-04T21:45:35.709Z"
   },
   {
    "duration": 17,
    "start_time": "2023-07-04T21:47:44.313Z"
   },
   {
    "duration": 8,
    "start_time": "2023-07-04T21:47:44.702Z"
   },
   {
    "duration": 11396,
    "start_time": "2023-07-04T21:47:45.127Z"
   },
   {
    "duration": 6,
    "start_time": "2023-07-04T21:47:56.525Z"
   },
   {
    "duration": 9911,
    "start_time": "2023-07-04T21:47:56.532Z"
   },
   {
    "duration": 6,
    "start_time": "2023-07-04T21:48:06.445Z"
   },
   {
    "duration": 9,
    "start_time": "2023-07-04T21:48:36.470Z"
   },
   {
    "duration": 9,
    "start_time": "2023-07-04T21:48:59.930Z"
   },
   {
    "duration": 9,
    "start_time": "2023-07-04T21:50:24.470Z"
   },
   {
    "duration": 13,
    "start_time": "2023-07-04T21:52:33.802Z"
   },
   {
    "duration": 74,
    "start_time": "2023-07-04T21:54:59.249Z"
   },
   {
    "duration": 17,
    "start_time": "2023-07-04T21:57:43.727Z"
   },
   {
    "duration": 2877,
    "start_time": "2023-07-04T21:58:44.749Z"
   },
   {
    "duration": 3,
    "start_time": "2023-07-04T21:58:56.398Z"
   },
   {
    "duration": 108,
    "start_time": "2023-07-04T22:04:19.491Z"
   },
   {
    "duration": 4,
    "start_time": "2023-07-04T22:05:45.650Z"
   },
   {
    "duration": 26,
    "start_time": "2023-07-04T22:06:33.771Z"
   },
   {
    "duration": 1732,
    "start_time": "2023-07-04T22:07:14.741Z"
   },
   {
    "duration": 2040,
    "start_time": "2023-07-04T22:07:35.020Z"
   },
   {
    "duration": 1852,
    "start_time": "2023-07-04T22:12:48.228Z"
   },
   {
    "duration": 1714,
    "start_time": "2023-07-04T22:14:43.128Z"
   },
   {
    "duration": 47,
    "start_time": "2023-07-04T22:14:44.845Z"
   },
   {
    "duration": 32,
    "start_time": "2023-07-04T22:14:44.894Z"
   },
   {
    "duration": 19,
    "start_time": "2023-07-04T22:14:44.930Z"
   },
   {
    "duration": 16,
    "start_time": "2023-07-04T22:14:44.952Z"
   },
   {
    "duration": 16,
    "start_time": "2023-07-04T22:14:44.970Z"
   },
   {
    "duration": 38,
    "start_time": "2023-07-04T22:14:44.988Z"
   },
   {
    "duration": 24,
    "start_time": "2023-07-04T22:14:45.029Z"
   },
   {
    "duration": 26,
    "start_time": "2023-07-04T22:14:45.054Z"
   },
   {
    "duration": 258,
    "start_time": "2023-07-04T22:14:45.082Z"
   },
   {
    "duration": 2937,
    "start_time": "2023-07-04T22:14:45.342Z"
   },
   {
    "duration": 45,
    "start_time": "2023-07-04T22:14:48.281Z"
   },
   {
    "duration": 10,
    "start_time": "2023-07-04T22:14:48.327Z"
   },
   {
    "duration": 12,
    "start_time": "2023-07-04T22:14:48.341Z"
   },
   {
    "duration": 296,
    "start_time": "2023-07-04T22:14:48.355Z"
   },
   {
    "duration": 9,
    "start_time": "2023-07-04T22:14:48.653Z"
   },
   {
    "duration": 389,
    "start_time": "2023-07-04T22:14:48.664Z"
   },
   {
    "duration": 10,
    "start_time": "2023-07-04T22:14:49.055Z"
   },
   {
    "duration": 29,
    "start_time": "2023-07-04T22:14:49.066Z"
   },
   {
    "duration": 10,
    "start_time": "2023-07-04T22:14:49.097Z"
   },
   {
    "duration": 34,
    "start_time": "2023-07-04T22:14:49.110Z"
   },
   {
    "duration": 16,
    "start_time": "2023-07-04T22:14:49.146Z"
   },
   {
    "duration": 11,
    "start_time": "2023-07-04T22:14:49.164Z"
   },
   {
    "duration": 10,
    "start_time": "2023-07-04T22:14:49.177Z"
   },
   {
    "duration": 797,
    "start_time": "2023-07-04T22:14:49.188Z"
   },
   {
    "duration": 5,
    "start_time": "2023-07-04T22:14:49.987Z"
   },
   {
    "duration": 43,
    "start_time": "2023-07-04T22:14:49.993Z"
   },
   {
    "duration": 548,
    "start_time": "2023-07-04T22:14:50.038Z"
   },
   {
    "duration": 25,
    "start_time": "2023-07-04T22:14:50.588Z"
   },
   {
    "duration": 45,
    "start_time": "2023-07-04T22:14:50.615Z"
   },
   {
    "duration": 777,
    "start_time": "2023-07-04T22:14:50.662Z"
   },
   {
    "duration": 6,
    "start_time": "2023-07-04T22:14:51.440Z"
   },
   {
    "duration": 11,
    "start_time": "2023-07-04T22:14:51.448Z"
   },
   {
    "duration": 497,
    "start_time": "2023-07-04T22:14:51.460Z"
   },
   {
    "duration": 5,
    "start_time": "2023-07-04T22:14:51.959Z"
   },
   {
    "duration": 527,
    "start_time": "2023-07-04T22:14:51.965Z"
   },
   {
    "duration": 4,
    "start_time": "2023-07-04T22:14:52.494Z"
   },
   {
    "duration": 47,
    "start_time": "2023-07-04T22:14:52.511Z"
   },
   {
    "duration": 9,
    "start_time": "2023-07-04T22:14:52.559Z"
   },
   {
    "duration": 47,
    "start_time": "2023-07-04T22:14:52.570Z"
   },
   {
    "duration": 36,
    "start_time": "2023-07-04T22:14:52.624Z"
   },
   {
    "duration": 27,
    "start_time": "2023-07-04T22:14:52.662Z"
   },
   {
    "duration": 212,
    "start_time": "2023-07-04T22:14:52.691Z"
   },
   {
    "duration": 125,
    "start_time": "2023-07-04T22:14:52.907Z"
   },
   {
    "duration": 4420,
    "start_time": "2023-07-04T22:14:53.103Z"
   },
   {
    "duration": 375,
    "start_time": "2023-07-04T22:14:57.530Z"
   },
   {
    "duration": 5,
    "start_time": "2023-07-04T22:14:57.907Z"
   },
   {
    "duration": 46,
    "start_time": "2023-07-04T22:14:57.914Z"
   },
   {
    "duration": 4,
    "start_time": "2023-07-04T22:14:57.962Z"
   },
   {
    "duration": 12,
    "start_time": "2023-07-04T22:14:57.967Z"
   },
   {
    "duration": 118444,
    "start_time": "2023-07-04T22:14:58.001Z"
   },
   {
    "duration": 0,
    "start_time": "2023-07-04T22:16:56.447Z"
   },
   {
    "duration": 0,
    "start_time": "2023-07-04T22:16:56.448Z"
   },
   {
    "duration": 0,
    "start_time": "2023-07-04T22:16:56.450Z"
   },
   {
    "duration": 0,
    "start_time": "2023-07-04T22:16:56.451Z"
   },
   {
    "duration": 0,
    "start_time": "2023-07-04T22:16:56.452Z"
   },
   {
    "duration": 0,
    "start_time": "2023-07-04T22:16:56.453Z"
   },
   {
    "duration": 0,
    "start_time": "2023-07-04T22:16:56.454Z"
   },
   {
    "duration": 0,
    "start_time": "2023-07-04T22:16:56.455Z"
   },
   {
    "duration": 0,
    "start_time": "2023-07-04T22:16:56.456Z"
   },
   {
    "duration": 0,
    "start_time": "2023-07-04T22:16:56.457Z"
   },
   {
    "duration": 0,
    "start_time": "2023-07-04T22:16:56.458Z"
   },
   {
    "duration": 13,
    "start_time": "2023-07-04T22:17:15.754Z"
   },
   {
    "duration": 24,
    "start_time": "2023-07-04T22:17:52.595Z"
   },
   {
    "duration": 1830,
    "start_time": "2023-07-04T22:18:19.002Z"
   },
   {
    "duration": 58,
    "start_time": "2023-07-04T22:18:20.835Z"
   },
   {
    "duration": 12,
    "start_time": "2023-07-04T22:18:20.895Z"
   },
   {
    "duration": 22,
    "start_time": "2023-07-04T22:18:20.910Z"
   },
   {
    "duration": 15,
    "start_time": "2023-07-04T22:18:20.937Z"
   },
   {
    "duration": 18,
    "start_time": "2023-07-04T22:18:20.954Z"
   },
   {
    "duration": 15,
    "start_time": "2023-07-04T22:18:21.013Z"
   },
   {
    "duration": 13,
    "start_time": "2023-07-04T22:18:21.031Z"
   },
   {
    "duration": 11,
    "start_time": "2023-07-04T22:18:21.046Z"
   },
   {
    "duration": 285,
    "start_time": "2023-07-04T22:18:21.059Z"
   },
   {
    "duration": 2945,
    "start_time": "2023-07-04T22:18:21.346Z"
   },
   {
    "duration": 19,
    "start_time": "2023-07-04T22:18:24.293Z"
   },
   {
    "duration": 21,
    "start_time": "2023-07-04T22:18:24.314Z"
   },
   {
    "duration": 10,
    "start_time": "2023-07-04T22:18:24.339Z"
   },
   {
    "duration": 298,
    "start_time": "2023-07-04T22:18:24.351Z"
   },
   {
    "duration": 7,
    "start_time": "2023-07-04T22:18:24.651Z"
   },
   {
    "duration": 462,
    "start_time": "2023-07-04T22:18:24.659Z"
   },
   {
    "duration": 11,
    "start_time": "2023-07-04T22:18:25.131Z"
   },
   {
    "duration": 10,
    "start_time": "2023-07-04T22:18:25.144Z"
   },
   {
    "duration": 5,
    "start_time": "2023-07-04T22:18:25.157Z"
   },
   {
    "duration": 16,
    "start_time": "2023-07-04T22:18:25.164Z"
   },
   {
    "duration": 23,
    "start_time": "2023-07-04T22:18:25.183Z"
   },
   {
    "duration": 28,
    "start_time": "2023-07-04T22:18:25.210Z"
   },
   {
    "duration": 21,
    "start_time": "2023-07-04T22:18:25.240Z"
   },
   {
    "duration": 802,
    "start_time": "2023-07-04T22:18:25.263Z"
   },
   {
    "duration": 6,
    "start_time": "2023-07-04T22:18:26.067Z"
   },
   {
    "duration": 19,
    "start_time": "2023-07-04T22:18:26.074Z"
   },
   {
    "duration": 539,
    "start_time": "2023-07-04T22:18:26.095Z"
   },
   {
    "duration": 5,
    "start_time": "2023-07-04T22:18:26.639Z"
   },
   {
    "duration": 18,
    "start_time": "2023-07-04T22:18:26.646Z"
   },
   {
    "duration": 801,
    "start_time": "2023-07-04T22:18:26.666Z"
   },
   {
    "duration": 5,
    "start_time": "2023-07-04T22:18:27.469Z"
   },
   {
    "duration": 10,
    "start_time": "2023-07-04T22:18:27.475Z"
   },
   {
    "duration": 540,
    "start_time": "2023-07-04T22:18:27.486Z"
   },
   {
    "duration": 5,
    "start_time": "2023-07-04T22:18:28.032Z"
   },
   {
    "duration": 536,
    "start_time": "2023-07-04T22:18:28.038Z"
   },
   {
    "duration": 4,
    "start_time": "2023-07-04T22:18:28.575Z"
   },
   {
    "duration": 54,
    "start_time": "2023-07-04T22:18:28.581Z"
   },
   {
    "duration": 10,
    "start_time": "2023-07-04T22:18:28.637Z"
   },
   {
    "duration": 34,
    "start_time": "2023-07-04T22:18:28.649Z"
   },
   {
    "duration": 7,
    "start_time": "2023-07-04T22:18:28.687Z"
   },
   {
    "duration": 15,
    "start_time": "2023-07-04T22:18:28.695Z"
   },
   {
    "duration": 28,
    "start_time": "2023-07-04T22:18:28.714Z"
   },
   {
    "duration": 172,
    "start_time": "2023-07-04T22:18:28.744Z"
   },
   {
    "duration": 3890,
    "start_time": "2023-07-04T22:18:28.926Z"
   },
   {
    "duration": 198,
    "start_time": "2023-07-04T22:18:32.825Z"
   },
   {
    "duration": 72,
    "start_time": "2023-07-04T22:18:33.035Z"
   },
   {
    "duration": 133,
    "start_time": "2023-07-04T22:18:33.114Z"
   },
   {
    "duration": 4,
    "start_time": "2023-07-04T22:18:33.249Z"
   },
   {
    "duration": 20,
    "start_time": "2023-07-04T22:18:33.255Z"
   },
   {
    "duration": 1983,
    "start_time": "2023-07-05T07:42:38.445Z"
   },
   {
    "duration": 138,
    "start_time": "2023-07-05T07:42:40.431Z"
   },
   {
    "duration": 13,
    "start_time": "2023-07-05T07:42:40.571Z"
   },
   {
    "duration": 18,
    "start_time": "2023-07-05T07:42:40.586Z"
   },
   {
    "duration": 19,
    "start_time": "2023-07-05T07:42:40.607Z"
   },
   {
    "duration": 17,
    "start_time": "2023-07-05T07:42:40.628Z"
   },
   {
    "duration": 20,
    "start_time": "2023-07-05T07:42:40.647Z"
   },
   {
    "duration": 15,
    "start_time": "2023-07-05T07:42:40.670Z"
   },
   {
    "duration": 12,
    "start_time": "2023-07-05T07:42:40.687Z"
   },
   {
    "duration": 255,
    "start_time": "2023-07-05T07:42:40.701Z"
   },
   {
    "duration": 2642,
    "start_time": "2023-07-05T07:42:40.958Z"
   },
   {
    "duration": 13,
    "start_time": "2023-07-05T07:42:43.602Z"
   },
   {
    "duration": 17,
    "start_time": "2023-07-05T07:42:43.617Z"
   },
   {
    "duration": 27,
    "start_time": "2023-07-05T07:42:43.639Z"
   },
   {
    "duration": 448,
    "start_time": "2023-07-05T07:42:43.668Z"
   },
   {
    "duration": 7,
    "start_time": "2023-07-05T07:42:44.160Z"
   },
   {
    "duration": 414,
    "start_time": "2023-07-05T07:42:44.169Z"
   },
   {
    "duration": 9,
    "start_time": "2023-07-05T07:42:44.584Z"
   },
   {
    "duration": 20,
    "start_time": "2023-07-05T07:42:44.595Z"
   },
   {
    "duration": 44,
    "start_time": "2023-07-05T07:42:44.617Z"
   },
   {
    "duration": 26,
    "start_time": "2023-07-05T07:42:44.663Z"
   },
   {
    "duration": 19,
    "start_time": "2023-07-05T07:42:44.690Z"
   },
   {
    "duration": 22,
    "start_time": "2023-07-05T07:42:44.711Z"
   },
   {
    "duration": 32,
    "start_time": "2023-07-05T07:42:44.735Z"
   },
   {
    "duration": 816,
    "start_time": "2023-07-05T07:42:44.769Z"
   },
   {
    "duration": 5,
    "start_time": "2023-07-05T07:42:45.587Z"
   },
   {
    "duration": 26,
    "start_time": "2023-07-05T07:42:45.594Z"
   },
   {
    "duration": 487,
    "start_time": "2023-07-05T07:42:45.621Z"
   },
   {
    "duration": 6,
    "start_time": "2023-07-05T07:42:46.110Z"
   },
   {
    "duration": 35,
    "start_time": "2023-07-05T07:42:46.117Z"
   },
   {
    "duration": 696,
    "start_time": "2023-07-05T07:42:46.155Z"
   },
   {
    "duration": 10,
    "start_time": "2023-07-05T07:42:46.853Z"
   },
   {
    "duration": 13,
    "start_time": "2023-07-05T07:42:46.865Z"
   },
   {
    "duration": 558,
    "start_time": "2023-07-05T07:42:46.880Z"
   },
   {
    "duration": 5,
    "start_time": "2023-07-05T07:42:47.440Z"
   },
   {
    "duration": 373,
    "start_time": "2023-07-05T07:42:47.446Z"
   },
   {
    "duration": 4,
    "start_time": "2023-07-05T07:42:47.822Z"
   },
   {
    "duration": 58,
    "start_time": "2023-07-05T07:42:47.828Z"
   },
   {
    "duration": 23,
    "start_time": "2023-07-05T07:42:47.889Z"
   },
   {
    "duration": 48,
    "start_time": "2023-07-05T07:42:47.914Z"
   },
   {
    "duration": 5,
    "start_time": "2023-07-05T07:43:54.423Z"
   },
   {
    "duration": 114,
    "start_time": "2023-07-05T07:43:54.430Z"
   },
   {
    "duration": 8,
    "start_time": "2023-07-05T07:43:54.547Z"
   },
   {
    "duration": 17,
    "start_time": "2023-07-05T07:43:54.557Z"
   },
   {
    "duration": 32,
    "start_time": "2023-07-05T07:43:54.577Z"
   },
   {
    "duration": 19,
    "start_time": "2023-07-05T07:43:54.611Z"
   },
   {
    "duration": 40,
    "start_time": "2023-07-05T07:43:54.632Z"
   },
   {
    "duration": 11,
    "start_time": "2023-07-05T07:43:54.674Z"
   },
   {
    "duration": 21,
    "start_time": "2023-07-05T07:43:54.687Z"
   },
   {
    "duration": 222,
    "start_time": "2023-07-05T07:43:54.711Z"
   },
   {
    "duration": 2560,
    "start_time": "2023-07-05T07:43:54.936Z"
   },
   {
    "duration": 22,
    "start_time": "2023-07-05T07:43:57.498Z"
   },
   {
    "duration": 15,
    "start_time": "2023-07-05T07:43:57.522Z"
   },
   {
    "duration": 25,
    "start_time": "2023-07-05T07:43:57.539Z"
   },
   {
    "duration": 245,
    "start_time": "2023-07-05T07:43:57.566Z"
   },
   {
    "duration": 6,
    "start_time": "2023-07-05T07:43:57.813Z"
   },
   {
    "duration": 267,
    "start_time": "2023-07-05T07:43:57.821Z"
   },
   {
    "duration": 9,
    "start_time": "2023-07-05T07:43:58.090Z"
   },
   {
    "duration": 9,
    "start_time": "2023-07-05T07:43:58.101Z"
   },
   {
    "duration": 15,
    "start_time": "2023-07-05T07:43:58.112Z"
   },
   {
    "duration": 14,
    "start_time": "2023-07-05T07:43:58.128Z"
   },
   {
    "duration": 21,
    "start_time": "2023-07-05T07:43:58.144Z"
   },
   {
    "duration": 12,
    "start_time": "2023-07-05T07:43:58.167Z"
   },
   {
    "duration": 14,
    "start_time": "2023-07-05T07:43:58.182Z"
   },
   {
    "duration": 694,
    "start_time": "2023-07-05T07:43:58.198Z"
   },
   {
    "duration": 7,
    "start_time": "2023-07-05T07:43:58.894Z"
   },
   {
    "duration": 13,
    "start_time": "2023-07-05T07:43:58.902Z"
   },
   {
    "duration": 614,
    "start_time": "2023-07-05T07:43:58.917Z"
   },
   {
    "duration": 5,
    "start_time": "2023-07-05T07:43:59.536Z"
   },
   {
    "duration": 21,
    "start_time": "2023-07-05T07:43:59.542Z"
   },
   {
    "duration": 705,
    "start_time": "2023-07-05T07:43:59.566Z"
   },
   {
    "duration": 6,
    "start_time": "2023-07-05T07:44:00.273Z"
   },
   {
    "duration": 39,
    "start_time": "2023-07-05T07:44:00.281Z"
   },
   {
    "duration": 494,
    "start_time": "2023-07-05T07:44:00.323Z"
   },
   {
    "duration": 5,
    "start_time": "2023-07-05T07:44:00.819Z"
   },
   {
    "duration": 426,
    "start_time": "2023-07-05T07:44:00.826Z"
   },
   {
    "duration": 6,
    "start_time": "2023-07-05T07:44:01.255Z"
   },
   {
    "duration": 54,
    "start_time": "2023-07-05T07:44:01.263Z"
   },
   {
    "duration": 5,
    "start_time": "2023-07-05T07:44:21.570Z"
   },
   {
    "duration": 64,
    "start_time": "2023-07-05T07:44:21.577Z"
   },
   {
    "duration": 10,
    "start_time": "2023-07-05T07:44:21.644Z"
   },
   {
    "duration": 59,
    "start_time": "2023-07-05T07:44:21.656Z"
   },
   {
    "duration": 91,
    "start_time": "2023-07-05T07:44:21.718Z"
   },
   {
    "duration": 37,
    "start_time": "2023-07-05T07:44:21.811Z"
   },
   {
    "duration": 25,
    "start_time": "2023-07-05T07:44:21.850Z"
   },
   {
    "duration": 6,
    "start_time": "2023-07-05T07:44:21.879Z"
   },
   {
    "duration": 13,
    "start_time": "2023-07-05T07:44:21.887Z"
   },
   {
    "duration": 208,
    "start_time": "2023-07-05T07:44:21.902Z"
   },
   {
    "duration": 2847,
    "start_time": "2023-07-05T07:44:22.113Z"
   },
   {
    "duration": 19,
    "start_time": "2023-07-05T07:44:24.962Z"
   },
   {
    "duration": 49,
    "start_time": "2023-07-05T07:44:24.983Z"
   },
   {
    "duration": 54,
    "start_time": "2023-07-05T07:44:25.034Z"
   },
   {
    "duration": 388,
    "start_time": "2023-07-05T07:44:25.090Z"
   },
   {
    "duration": 6,
    "start_time": "2023-07-05T07:44:25.481Z"
   },
   {
    "duration": 274,
    "start_time": "2023-07-05T07:44:25.489Z"
   },
   {
    "duration": 11,
    "start_time": "2023-07-05T07:44:25.765Z"
   },
   {
    "duration": 26,
    "start_time": "2023-07-05T07:44:25.778Z"
   },
   {
    "duration": 26,
    "start_time": "2023-07-05T07:44:25.807Z"
   },
   {
    "duration": 36,
    "start_time": "2023-07-05T07:44:25.836Z"
   },
   {
    "duration": 27,
    "start_time": "2023-07-05T07:44:25.874Z"
   },
   {
    "duration": 5,
    "start_time": "2023-07-05T07:44:25.904Z"
   },
   {
    "duration": 16,
    "start_time": "2023-07-05T07:44:25.911Z"
   },
   {
    "duration": 795,
    "start_time": "2023-07-05T07:44:25.928Z"
   },
   {
    "duration": 6,
    "start_time": "2023-07-05T07:44:26.725Z"
   },
   {
    "duration": 28,
    "start_time": "2023-07-05T07:44:26.733Z"
   },
   {
    "duration": 474,
    "start_time": "2023-07-05T07:44:26.764Z"
   },
   {
    "duration": 5,
    "start_time": "2023-07-05T07:44:27.242Z"
   },
   {
    "duration": 14,
    "start_time": "2023-07-05T07:44:27.260Z"
   },
   {
    "duration": 686,
    "start_time": "2023-07-05T07:44:27.276Z"
   },
   {
    "duration": 7,
    "start_time": "2023-07-05T07:44:27.965Z"
   },
   {
    "duration": 12,
    "start_time": "2023-07-05T07:44:27.974Z"
   },
   {
    "duration": 464,
    "start_time": "2023-07-05T07:44:27.988Z"
   },
   {
    "duration": 9,
    "start_time": "2023-07-05T07:44:28.454Z"
   },
   {
    "duration": 512,
    "start_time": "2023-07-05T07:44:28.465Z"
   },
   {
    "duration": 3,
    "start_time": "2023-07-05T07:44:28.979Z"
   },
   {
    "duration": 28,
    "start_time": "2023-07-05T07:44:28.984Z"
   },
   {
    "duration": 44,
    "start_time": "2023-07-05T07:44:29.014Z"
   },
   {
    "duration": 6,
    "start_time": "2023-07-05T07:49:39.279Z"
   },
   {
    "duration": 52,
    "start_time": "2023-07-05T07:49:39.287Z"
   },
   {
    "duration": 7,
    "start_time": "2023-07-05T07:49:39.341Z"
   },
   {
    "duration": 13,
    "start_time": "2023-07-05T07:49:39.349Z"
   },
   {
    "duration": 11,
    "start_time": "2023-07-05T07:49:39.364Z"
   },
   {
    "duration": 11,
    "start_time": "2023-07-05T07:49:39.377Z"
   },
   {
    "duration": 21,
    "start_time": "2023-07-05T07:49:39.390Z"
   },
   {
    "duration": 6,
    "start_time": "2023-07-05T07:49:39.412Z"
   },
   {
    "duration": 13,
    "start_time": "2023-07-05T07:49:39.420Z"
   },
   {
    "duration": 199,
    "start_time": "2023-07-05T07:49:39.435Z"
   },
   {
    "duration": 2465,
    "start_time": "2023-07-05T07:49:39.636Z"
   },
   {
    "duration": 13,
    "start_time": "2023-07-05T07:49:42.103Z"
   },
   {
    "duration": 48,
    "start_time": "2023-07-05T07:49:42.119Z"
   },
   {
    "duration": 41,
    "start_time": "2023-07-05T07:49:42.169Z"
   },
   {
    "duration": 282,
    "start_time": "2023-07-05T07:49:42.212Z"
   },
   {
    "duration": 6,
    "start_time": "2023-07-05T07:49:42.496Z"
   },
   {
    "duration": 268,
    "start_time": "2023-07-05T07:49:42.504Z"
   },
   {
    "duration": 9,
    "start_time": "2023-07-05T07:49:42.774Z"
   },
   {
    "duration": 11,
    "start_time": "2023-07-05T07:49:42.785Z"
   },
   {
    "duration": 14,
    "start_time": "2023-07-05T07:49:42.797Z"
   },
   {
    "duration": 12,
    "start_time": "2023-07-05T07:49:42.812Z"
   },
   {
    "duration": 37,
    "start_time": "2023-07-05T07:49:42.826Z"
   },
   {
    "duration": 20,
    "start_time": "2023-07-05T07:49:42.864Z"
   },
   {
    "duration": 11,
    "start_time": "2023-07-05T07:49:42.886Z"
   },
   {
    "duration": 703,
    "start_time": "2023-07-05T07:49:42.898Z"
   },
   {
    "duration": 5,
    "start_time": "2023-07-05T07:49:43.603Z"
   },
   {
    "duration": 27,
    "start_time": "2023-07-05T07:49:43.609Z"
   },
   {
    "duration": 487,
    "start_time": "2023-07-05T07:49:43.638Z"
   },
   {
    "duration": 5,
    "start_time": "2023-07-05T07:49:44.127Z"
   },
   {
    "duration": 19,
    "start_time": "2023-07-05T07:49:44.134Z"
   },
   {
    "duration": 822,
    "start_time": "2023-07-05T07:49:44.156Z"
   },
   {
    "duration": 4,
    "start_time": "2023-07-05T07:49:44.980Z"
   },
   {
    "duration": 11,
    "start_time": "2023-07-05T07:49:44.986Z"
   },
   {
    "duration": 462,
    "start_time": "2023-07-05T07:49:44.998Z"
   },
   {
    "duration": 6,
    "start_time": "2023-07-05T07:49:45.463Z"
   },
   {
    "duration": 376,
    "start_time": "2023-07-05T07:49:45.473Z"
   },
   {
    "duration": 2,
    "start_time": "2023-07-05T07:49:45.860Z"
   },
   {
    "duration": 14,
    "start_time": "2023-07-05T07:49:45.864Z"
   },
   {
    "duration": 27,
    "start_time": "2023-07-05T07:49:45.880Z"
   },
   {
    "duration": 27,
    "start_time": "2023-07-05T07:49:45.909Z"
   },
   {
    "duration": 4,
    "start_time": "2023-07-05T08:39:11.393Z"
   },
   {
    "duration": 46,
    "start_time": "2023-07-05T08:39:11.399Z"
   },
   {
    "duration": 9,
    "start_time": "2023-07-05T08:39:11.447Z"
   },
   {
    "duration": 22,
    "start_time": "2023-07-05T08:39:11.459Z"
   },
   {
    "duration": 15,
    "start_time": "2023-07-05T08:39:11.483Z"
   },
   {
    "duration": 18,
    "start_time": "2023-07-05T08:39:11.500Z"
   },
   {
    "duration": 41,
    "start_time": "2023-07-05T08:39:11.520Z"
   },
   {
    "duration": 3,
    "start_time": "2023-07-05T08:39:11.563Z"
   },
   {
    "duration": 30,
    "start_time": "2023-07-05T08:39:11.569Z"
   },
   {
    "duration": 212,
    "start_time": "2023-07-05T08:39:11.601Z"
   },
   {
    "duration": 2604,
    "start_time": "2023-07-05T08:39:11.814Z"
   },
   {
    "duration": 13,
    "start_time": "2023-07-05T08:39:14.420Z"
   },
   {
    "duration": 24,
    "start_time": "2023-07-05T08:39:14.435Z"
   },
   {
    "duration": 10,
    "start_time": "2023-07-05T08:39:14.461Z"
   },
   {
    "duration": 255,
    "start_time": "2023-07-05T08:39:14.473Z"
   },
   {
    "duration": 7,
    "start_time": "2023-07-05T08:39:14.730Z"
   },
   {
    "duration": 293,
    "start_time": "2023-07-05T08:39:14.739Z"
   },
   {
    "duration": 9,
    "start_time": "2023-07-05T08:39:15.034Z"
   },
   {
    "duration": 41,
    "start_time": "2023-07-05T08:39:15.045Z"
   },
   {
    "duration": 27,
    "start_time": "2023-07-05T08:39:15.087Z"
   },
   {
    "duration": 12,
    "start_time": "2023-07-05T08:39:15.116Z"
   },
   {
    "duration": 12,
    "start_time": "2023-07-05T08:39:15.130Z"
   },
   {
    "duration": 11,
    "start_time": "2023-07-05T08:39:15.144Z"
   },
   {
    "duration": 15,
    "start_time": "2023-07-05T08:39:15.158Z"
   },
   {
    "duration": 727,
    "start_time": "2023-07-05T08:39:15.176Z"
   },
   {
    "duration": 6,
    "start_time": "2023-07-05T08:39:15.906Z"
   },
   {
    "duration": 12,
    "start_time": "2023-07-05T08:39:15.913Z"
   },
   {
    "duration": 453,
    "start_time": "2023-07-05T08:39:15.927Z"
   },
   {
    "duration": 5,
    "start_time": "2023-07-05T08:39:16.381Z"
   },
   {
    "duration": 47,
    "start_time": "2023-07-05T08:39:16.388Z"
   },
   {
    "duration": 816,
    "start_time": "2023-07-05T08:39:16.437Z"
   },
   {
    "duration": 6,
    "start_time": "2023-07-05T08:39:17.259Z"
   },
   {
    "duration": 25,
    "start_time": "2023-07-05T08:39:17.267Z"
   },
   {
    "duration": 438,
    "start_time": "2023-07-05T08:39:17.294Z"
   },
   {
    "duration": 14,
    "start_time": "2023-07-05T08:39:17.734Z"
   },
   {
    "duration": 3,
    "start_time": "2023-07-05T08:39:17.759Z"
   },
   {
    "duration": 317,
    "start_time": "2023-07-05T08:39:17.763Z"
   },
   {
    "duration": 3,
    "start_time": "2023-07-05T08:39:18.082Z"
   },
   {
    "duration": 33,
    "start_time": "2023-07-05T08:39:18.087Z"
   },
   {
    "duration": 33,
    "start_time": "2023-07-05T08:39:18.122Z"
   },
   {
    "duration": 31,
    "start_time": "2023-07-05T08:39:18.157Z"
   },
   {
    "duration": 4,
    "start_time": "2023-07-05T08:39:51.172Z"
   },
   {
    "duration": 62,
    "start_time": "2023-07-05T08:39:51.180Z"
   },
   {
    "duration": 9,
    "start_time": "2023-07-05T08:39:51.245Z"
   },
   {
    "duration": 23,
    "start_time": "2023-07-05T08:39:51.256Z"
   },
   {
    "duration": 12,
    "start_time": "2023-07-05T08:39:51.281Z"
   },
   {
    "duration": 25,
    "start_time": "2023-07-05T08:39:51.295Z"
   },
   {
    "duration": 38,
    "start_time": "2023-07-05T08:39:51.322Z"
   },
   {
    "duration": 18,
    "start_time": "2023-07-05T08:39:51.362Z"
   },
   {
    "duration": 33,
    "start_time": "2023-07-05T08:39:51.382Z"
   },
   {
    "duration": 213,
    "start_time": "2023-07-05T08:39:51.417Z"
   },
   {
    "duration": 2690,
    "start_time": "2023-07-05T08:39:51.631Z"
   },
   {
    "duration": 18,
    "start_time": "2023-07-05T08:39:54.323Z"
   },
   {
    "duration": 21,
    "start_time": "2023-07-05T08:39:54.344Z"
   },
   {
    "duration": 29,
    "start_time": "2023-07-05T08:39:54.367Z"
   },
   {
    "duration": 224,
    "start_time": "2023-07-05T08:39:54.399Z"
   },
   {
    "duration": 6,
    "start_time": "2023-07-05T08:39:54.625Z"
   },
   {
    "duration": 277,
    "start_time": "2023-07-05T08:39:54.632Z"
   },
   {
    "duration": 10,
    "start_time": "2023-07-05T08:39:54.911Z"
   },
   {
    "duration": 20,
    "start_time": "2023-07-05T08:39:54.922Z"
   },
   {
    "duration": 18,
    "start_time": "2023-07-05T08:39:54.944Z"
   },
   {
    "duration": 27,
    "start_time": "2023-07-05T08:39:54.964Z"
   },
   {
    "duration": 14,
    "start_time": "2023-07-05T08:39:54.993Z"
   },
   {
    "duration": 29,
    "start_time": "2023-07-05T08:39:55.009Z"
   },
   {
    "duration": 15,
    "start_time": "2023-07-05T08:39:55.040Z"
   },
   {
    "duration": 768,
    "start_time": "2023-07-05T08:39:55.057Z"
   },
   {
    "duration": 5,
    "start_time": "2023-07-05T08:39:55.827Z"
   },
   {
    "duration": 22,
    "start_time": "2023-07-05T08:39:55.833Z"
   },
   {
    "duration": 467,
    "start_time": "2023-07-05T08:39:55.857Z"
   },
   {
    "duration": 5,
    "start_time": "2023-07-05T08:39:56.326Z"
   },
   {
    "duration": 12,
    "start_time": "2023-07-05T08:39:56.333Z"
   },
   {
    "duration": 848,
    "start_time": "2023-07-05T08:39:56.347Z"
   },
   {
    "duration": 6,
    "start_time": "2023-07-05T08:39:57.198Z"
   },
   {
    "duration": 21,
    "start_time": "2023-07-05T08:39:57.206Z"
   },
   {
    "duration": 490,
    "start_time": "2023-07-05T08:39:57.229Z"
   },
   {
    "duration": 12,
    "start_time": "2023-07-05T08:39:57.721Z"
   },
   {
    "duration": 138,
    "start_time": "2023-07-05T08:39:57.735Z"
   },
   {
    "duration": 427,
    "start_time": "2023-07-05T08:39:57.875Z"
   },
   {
    "duration": 4,
    "start_time": "2023-07-05T08:39:58.304Z"
   },
   {
    "duration": 20,
    "start_time": "2023-07-05T08:39:58.310Z"
   },
   {
    "duration": 5,
    "start_time": "2023-07-05T08:41:37.847Z"
   },
   {
    "duration": 53,
    "start_time": "2023-07-05T08:41:37.855Z"
   },
   {
    "duration": 49,
    "start_time": "2023-07-05T08:41:37.911Z"
   },
   {
    "duration": 33,
    "start_time": "2023-07-05T08:41:37.961Z"
   },
   {
    "duration": 32,
    "start_time": "2023-07-05T08:41:37.997Z"
   },
   {
    "duration": 34,
    "start_time": "2023-07-05T08:41:38.031Z"
   },
   {
    "duration": 32,
    "start_time": "2023-07-05T08:41:38.067Z"
   },
   {
    "duration": 10,
    "start_time": "2023-07-05T08:41:38.102Z"
   },
   {
    "duration": 15,
    "start_time": "2023-07-05T08:41:38.114Z"
   },
   {
    "duration": 209,
    "start_time": "2023-07-05T08:41:38.131Z"
   },
   {
    "duration": 2644,
    "start_time": "2023-07-05T08:41:38.342Z"
   },
   {
    "duration": 13,
    "start_time": "2023-07-05T08:41:40.988Z"
   },
   {
    "duration": 9,
    "start_time": "2023-07-05T08:41:41.003Z"
   },
   {
    "duration": 12,
    "start_time": "2023-07-05T08:41:41.013Z"
   },
   {
    "duration": 252,
    "start_time": "2023-07-05T08:41:41.027Z"
   },
   {
    "duration": 8,
    "start_time": "2023-07-05T08:41:41.281Z"
   },
   {
    "duration": 277,
    "start_time": "2023-07-05T08:41:41.291Z"
   },
   {
    "duration": 9,
    "start_time": "2023-07-05T08:41:41.570Z"
   },
   {
    "duration": 20,
    "start_time": "2023-07-05T08:41:41.581Z"
   },
   {
    "duration": 6,
    "start_time": "2023-07-05T08:41:41.602Z"
   },
   {
    "duration": 12,
    "start_time": "2023-07-05T08:41:41.609Z"
   },
   {
    "duration": 14,
    "start_time": "2023-07-05T08:41:41.622Z"
   },
   {
    "duration": 6,
    "start_time": "2023-07-05T08:41:41.638Z"
   },
   {
    "duration": 18,
    "start_time": "2023-07-05T08:41:41.646Z"
   },
   {
    "duration": 726,
    "start_time": "2023-07-05T08:41:41.665Z"
   },
   {
    "duration": 5,
    "start_time": "2023-07-05T08:41:42.393Z"
   },
   {
    "duration": 18,
    "start_time": "2023-07-05T08:41:42.400Z"
   },
   {
    "duration": 602,
    "start_time": "2023-07-05T08:41:42.422Z"
   },
   {
    "duration": 5,
    "start_time": "2023-07-05T08:41:43.028Z"
   },
   {
    "duration": 28,
    "start_time": "2023-07-05T08:41:43.035Z"
   },
   {
    "duration": 722,
    "start_time": "2023-07-05T08:41:43.065Z"
   },
   {
    "duration": 6,
    "start_time": "2023-07-05T08:41:43.789Z"
   },
   {
    "duration": 18,
    "start_time": "2023-07-05T08:41:43.796Z"
   },
   {
    "duration": 511,
    "start_time": "2023-07-05T08:41:43.816Z"
   },
   {
    "duration": 5,
    "start_time": "2023-07-05T08:41:44.329Z"
   },
   {
    "duration": 563,
    "start_time": "2023-07-05T08:41:44.336Z"
   },
   {
    "duration": 4,
    "start_time": "2023-07-05T08:41:44.901Z"
   },
   {
    "duration": 23,
    "start_time": "2023-07-05T08:41:44.906Z"
   },
   {
    "duration": 4,
    "start_time": "2023-07-05T08:41:57.954Z"
   },
   {
    "duration": 41,
    "start_time": "2023-07-05T08:41:57.995Z"
   },
   {
    "duration": 8,
    "start_time": "2023-07-05T08:41:58.039Z"
   },
   {
    "duration": 31,
    "start_time": "2023-07-05T08:41:58.049Z"
   },
   {
    "duration": 18,
    "start_time": "2023-07-05T08:41:58.082Z"
   },
   {
    "duration": 23,
    "start_time": "2023-07-05T08:41:58.102Z"
   },
   {
    "duration": 8,
    "start_time": "2023-07-05T08:41:58.127Z"
   },
   {
    "duration": 4,
    "start_time": "2023-07-05T08:41:58.137Z"
   },
   {
    "duration": 19,
    "start_time": "2023-07-05T08:41:58.143Z"
   },
   {
    "duration": 189,
    "start_time": "2023-07-05T08:41:58.164Z"
   },
   {
    "duration": 2590,
    "start_time": "2023-07-05T08:41:58.359Z"
   },
   {
    "duration": 17,
    "start_time": "2023-07-05T08:42:00.951Z"
   },
   {
    "duration": 68,
    "start_time": "2023-07-05T08:42:00.970Z"
   },
   {
    "duration": 56,
    "start_time": "2023-07-05T08:42:01.040Z"
   },
   {
    "duration": 261,
    "start_time": "2023-07-05T08:42:01.100Z"
   },
   {
    "duration": 6,
    "start_time": "2023-07-05T08:42:01.362Z"
   },
   {
    "duration": 332,
    "start_time": "2023-07-05T08:42:01.370Z"
   },
   {
    "duration": 9,
    "start_time": "2023-07-05T08:42:01.704Z"
   },
   {
    "duration": 62,
    "start_time": "2023-07-05T08:42:01.715Z"
   },
   {
    "duration": 29,
    "start_time": "2023-07-05T08:42:01.779Z"
   },
   {
    "duration": 32,
    "start_time": "2023-07-05T08:42:01.809Z"
   },
   {
    "duration": 32,
    "start_time": "2023-07-05T08:42:01.843Z"
   },
   {
    "duration": 41,
    "start_time": "2023-07-05T08:42:01.877Z"
   },
   {
    "duration": 38,
    "start_time": "2023-07-05T08:42:01.920Z"
   },
   {
    "duration": 780,
    "start_time": "2023-07-05T08:42:01.960Z"
   },
   {
    "duration": 5,
    "start_time": "2023-07-05T08:42:02.742Z"
   },
   {
    "duration": 31,
    "start_time": "2023-07-05T08:42:02.749Z"
   },
   {
    "duration": 445,
    "start_time": "2023-07-05T08:42:02.782Z"
   },
   {
    "duration": 5,
    "start_time": "2023-07-05T08:42:03.229Z"
   },
   {
    "duration": 23,
    "start_time": "2023-07-05T08:42:03.236Z"
   },
   {
    "duration": 694,
    "start_time": "2023-07-05T08:42:03.261Z"
   },
   {
    "duration": 5,
    "start_time": "2023-07-05T08:42:03.959Z"
   },
   {
    "duration": 22,
    "start_time": "2023-07-05T08:42:03.966Z"
   },
   {
    "duration": 502,
    "start_time": "2023-07-05T08:42:03.990Z"
   },
   {
    "duration": 4,
    "start_time": "2023-07-05T08:42:04.494Z"
   },
   {
    "duration": 381,
    "start_time": "2023-07-05T08:42:04.499Z"
   },
   {
    "duration": 4,
    "start_time": "2023-07-05T08:42:04.881Z"
   },
   {
    "duration": 37,
    "start_time": "2023-07-05T08:42:04.887Z"
   },
   {
    "duration": 19,
    "start_time": "2023-07-05T08:42:04.926Z"
   },
   {
    "duration": 52,
    "start_time": "2023-07-05T08:42:04.947Z"
   },
   {
    "duration": 117,
    "start_time": "2023-07-05T08:49:32.962Z"
   },
   {
    "duration": 106,
    "start_time": "2023-07-05T18:41:26.530Z"
   },
   {
    "duration": 63,
    "start_time": "2023-07-05T18:46:50.522Z"
   },
   {
    "duration": 2652,
    "start_time": "2023-07-05T18:46:57.652Z"
   },
   {
    "duration": 250,
    "start_time": "2023-07-05T18:47:00.307Z"
   },
   {
    "duration": 31,
    "start_time": "2023-07-05T18:47:00.560Z"
   },
   {
    "duration": 68,
    "start_time": "2023-07-05T18:47:00.594Z"
   },
   {
    "duration": 33,
    "start_time": "2023-07-05T18:47:00.665Z"
   },
   {
    "duration": 48,
    "start_time": "2023-07-05T18:47:00.701Z"
   },
   {
    "duration": 45,
    "start_time": "2023-07-05T18:47:00.755Z"
   },
   {
    "duration": 49,
    "start_time": "2023-07-05T18:47:00.803Z"
   },
   {
    "duration": 67,
    "start_time": "2023-07-05T18:47:00.855Z"
   },
   {
    "duration": 379,
    "start_time": "2023-07-05T18:47:00.929Z"
   },
   {
    "duration": 3482,
    "start_time": "2023-07-05T18:47:01.314Z"
   },
   {
    "duration": 41,
    "start_time": "2023-07-05T18:47:04.798Z"
   },
   {
    "duration": 9,
    "start_time": "2023-07-05T18:47:04.842Z"
   },
   {
    "duration": 33,
    "start_time": "2023-07-05T18:47:04.856Z"
   },
   {
    "duration": 289,
    "start_time": "2023-07-05T18:47:04.895Z"
   },
   {
    "duration": 11,
    "start_time": "2023-07-05T18:47:05.187Z"
   },
   {
    "duration": 443,
    "start_time": "2023-07-05T18:47:05.200Z"
   },
   {
    "duration": 10,
    "start_time": "2023-07-05T18:47:05.648Z"
   },
   {
    "duration": 10,
    "start_time": "2023-07-05T18:47:05.660Z"
   },
   {
    "duration": 17,
    "start_time": "2023-07-05T18:47:05.672Z"
   },
   {
    "duration": 28,
    "start_time": "2023-07-05T18:47:05.691Z"
   },
   {
    "duration": 18,
    "start_time": "2023-07-05T18:47:05.726Z"
   },
   {
    "duration": 18,
    "start_time": "2023-07-05T18:47:05.747Z"
   },
   {
    "duration": 30,
    "start_time": "2023-07-05T18:47:05.768Z"
   },
   {
    "duration": 834,
    "start_time": "2023-07-05T18:47:05.801Z"
   },
   {
    "duration": 6,
    "start_time": "2023-07-05T18:47:06.638Z"
   },
   {
    "duration": 21,
    "start_time": "2023-07-05T18:47:06.646Z"
   },
   {
    "duration": 536,
    "start_time": "2023-07-05T18:47:06.669Z"
   },
   {
    "duration": 9,
    "start_time": "2023-07-05T18:47:07.215Z"
   },
   {
    "duration": 16,
    "start_time": "2023-07-05T18:47:07.229Z"
   },
   {
    "duration": 820,
    "start_time": "2023-07-05T18:47:07.247Z"
   },
   {
    "duration": 6,
    "start_time": "2023-07-05T18:47:08.068Z"
   },
   {
    "duration": 38,
    "start_time": "2023-07-05T18:47:08.075Z"
   },
   {
    "duration": 584,
    "start_time": "2023-07-05T18:47:08.115Z"
   },
   {
    "duration": 1667,
    "start_time": "2023-07-05T18:47:08.701Z"
   },
   {
    "duration": 0,
    "start_time": "2023-07-05T18:47:10.371Z"
   },
   {
    "duration": 0,
    "start_time": "2023-07-05T18:47:10.373Z"
   },
   {
    "duration": 0,
    "start_time": "2023-07-05T18:47:10.374Z"
   },
   {
    "duration": 0,
    "start_time": "2023-07-05T18:47:10.376Z"
   },
   {
    "duration": 0,
    "start_time": "2023-07-05T18:47:10.378Z"
   },
   {
    "duration": 0,
    "start_time": "2023-07-05T18:47:10.380Z"
   },
   {
    "duration": 0,
    "start_time": "2023-07-05T18:47:10.381Z"
   },
   {
    "duration": 0,
    "start_time": "2023-07-05T18:47:10.382Z"
   },
   {
    "duration": 0,
    "start_time": "2023-07-05T18:47:10.384Z"
   },
   {
    "duration": 0,
    "start_time": "2023-07-05T18:47:10.385Z"
   },
   {
    "duration": 0,
    "start_time": "2023-07-05T18:47:10.386Z"
   },
   {
    "duration": 0,
    "start_time": "2023-07-05T18:47:10.387Z"
   },
   {
    "duration": 0,
    "start_time": "2023-07-05T18:47:10.389Z"
   },
   {
    "duration": 0,
    "start_time": "2023-07-05T18:47:10.390Z"
   },
   {
    "duration": 0,
    "start_time": "2023-07-05T18:47:10.391Z"
   },
   {
    "duration": 0,
    "start_time": "2023-07-05T18:47:10.393Z"
   },
   {
    "duration": 0,
    "start_time": "2023-07-05T18:47:10.394Z"
   },
   {
    "duration": 0,
    "start_time": "2023-07-05T18:47:10.396Z"
   },
   {
    "duration": 0,
    "start_time": "2023-07-05T18:47:10.398Z"
   },
   {
    "duration": 0,
    "start_time": "2023-07-05T18:47:10.399Z"
   },
   {
    "duration": 0,
    "start_time": "2023-07-05T18:47:10.401Z"
   },
   {
    "duration": 0,
    "start_time": "2023-07-05T18:47:10.402Z"
   },
   {
    "duration": 0,
    "start_time": "2023-07-05T18:47:10.404Z"
   },
   {
    "duration": 0,
    "start_time": "2023-07-05T18:47:10.408Z"
   },
   {
    "duration": 0,
    "start_time": "2023-07-05T18:47:10.413Z"
   },
   {
    "duration": 0,
    "start_time": "2023-07-05T18:47:10.414Z"
   },
   {
    "duration": 0,
    "start_time": "2023-07-05T18:47:10.415Z"
   },
   {
    "duration": 5,
    "start_time": "2023-07-05T18:48:21.571Z"
   },
   {
    "duration": 504,
    "start_time": "2023-07-05T18:48:33.432Z"
   },
   {
    "duration": 7,
    "start_time": "2023-07-05T18:49:08.176Z"
   },
   {
    "duration": 564,
    "start_time": "2023-07-05T18:49:09.641Z"
   },
   {
    "duration": 7,
    "start_time": "2023-07-05T18:49:16.564Z"
   },
   {
    "duration": 516,
    "start_time": "2023-07-05T18:49:18.575Z"
   },
   {
    "duration": 6,
    "start_time": "2023-07-05T18:49:28.635Z"
   },
   {
    "duration": 483,
    "start_time": "2023-07-05T18:49:29.323Z"
   },
   {
    "duration": 1706,
    "start_time": "2023-07-05T19:32:44.716Z"
   },
   {
    "duration": 55,
    "start_time": "2023-07-05T19:32:46.426Z"
   },
   {
    "duration": 11,
    "start_time": "2023-07-05T19:32:46.483Z"
   },
   {
    "duration": 12,
    "start_time": "2023-07-05T19:32:46.496Z"
   },
   {
    "duration": 20,
    "start_time": "2023-07-05T19:32:46.510Z"
   },
   {
    "duration": 14,
    "start_time": "2023-07-05T19:32:46.532Z"
   },
   {
    "duration": 11,
    "start_time": "2023-07-05T19:32:46.548Z"
   },
   {
    "duration": 5,
    "start_time": "2023-07-05T19:32:46.560Z"
   },
   {
    "duration": 9,
    "start_time": "2023-07-05T19:32:46.566Z"
   },
   {
    "duration": 286,
    "start_time": "2023-07-05T19:32:46.576Z"
   },
   {
    "duration": 3802,
    "start_time": "2023-07-05T19:32:46.865Z"
   },
   {
    "duration": 15,
    "start_time": "2023-07-05T19:32:50.719Z"
   },
   {
    "duration": 25,
    "start_time": "2023-07-05T19:32:50.736Z"
   },
   {
    "duration": 57,
    "start_time": "2023-07-05T19:32:50.764Z"
   },
   {
    "duration": 627,
    "start_time": "2023-07-05T19:32:50.823Z"
   },
   {
    "duration": 9,
    "start_time": "2023-07-05T19:32:51.452Z"
   },
   {
    "duration": 577,
    "start_time": "2023-07-05T19:32:51.462Z"
   },
   {
    "duration": 10,
    "start_time": "2023-07-05T19:32:52.041Z"
   },
   {
    "duration": 11,
    "start_time": "2023-07-05T19:32:52.053Z"
   },
   {
    "duration": 53,
    "start_time": "2023-07-05T19:32:52.065Z"
   },
   {
    "duration": 50,
    "start_time": "2023-07-05T19:32:52.120Z"
   },
   {
    "duration": 42,
    "start_time": "2023-07-05T19:32:52.171Z"
   },
   {
    "duration": 14,
    "start_time": "2023-07-05T19:32:52.215Z"
   },
   {
    "duration": 11,
    "start_time": "2023-07-05T19:32:52.232Z"
   },
   {
    "duration": 1614,
    "start_time": "2023-07-05T19:32:52.245Z"
   },
   {
    "duration": 6,
    "start_time": "2023-07-05T19:32:53.861Z"
   },
   {
    "duration": 56,
    "start_time": "2023-07-05T19:32:53.869Z"
   },
   {
    "duration": 681,
    "start_time": "2023-07-05T19:32:53.927Z"
   },
   {
    "duration": 6,
    "start_time": "2023-07-05T19:32:54.610Z"
   },
   {
    "duration": 10,
    "start_time": "2023-07-05T19:32:54.619Z"
   },
   {
    "duration": 728,
    "start_time": "2023-07-05T19:32:54.630Z"
   },
   {
    "duration": 4,
    "start_time": "2023-07-05T19:32:55.360Z"
   },
   {
    "duration": 23,
    "start_time": "2023-07-05T19:32:55.366Z"
   },
   {
    "duration": 502,
    "start_time": "2023-07-05T19:32:55.391Z"
   },
   {
    "duration": 6,
    "start_time": "2023-07-05T19:32:55.894Z"
   },
   {
    "duration": 563,
    "start_time": "2023-07-05T19:32:55.901Z"
   },
   {
    "duration": 3,
    "start_time": "2023-07-05T19:32:56.466Z"
   },
   {
    "duration": 23,
    "start_time": "2023-07-05T19:32:56.471Z"
   },
   {
    "duration": 24,
    "start_time": "2023-07-05T19:32:56.496Z"
   },
   {
    "duration": 37,
    "start_time": "2023-07-05T19:32:56.522Z"
   },
   {
    "duration": 6,
    "start_time": "2023-07-05T19:32:56.565Z"
   },
   {
    "duration": 26,
    "start_time": "2023-07-05T19:32:56.573Z"
   },
   {
    "duration": 61,
    "start_time": "2023-07-05T19:32:56.601Z"
   },
   {
    "duration": 181,
    "start_time": "2023-07-05T19:32:56.664Z"
   },
   {
    "duration": 3100,
    "start_time": "2023-07-05T19:32:56.847Z"
   },
   {
    "duration": 207,
    "start_time": "2023-07-05T19:32:59.949Z"
   },
   {
    "duration": 87,
    "start_time": "2023-07-05T19:33:00.161Z"
   },
   {
    "duration": 103,
    "start_time": "2023-07-05T19:33:00.253Z"
   },
   {
    "duration": 3,
    "start_time": "2023-07-05T19:33:00.357Z"
   },
   {
    "duration": 45,
    "start_time": "2023-07-05T19:33:00.362Z"
   },
   {
    "duration": 26914,
    "start_time": "2023-07-05T19:33:00.409Z"
   },
   {
    "duration": 0,
    "start_time": "2023-07-05T19:33:27.325Z"
   },
   {
    "duration": 0,
    "start_time": "2023-07-05T19:33:27.326Z"
   },
   {
    "duration": 0,
    "start_time": "2023-07-05T19:33:27.330Z"
   },
   {
    "duration": 0,
    "start_time": "2023-07-05T19:33:27.331Z"
   },
   {
    "duration": 0,
    "start_time": "2023-07-05T19:33:27.332Z"
   },
   {
    "duration": 0,
    "start_time": "2023-07-05T19:33:27.333Z"
   },
   {
    "duration": 0,
    "start_time": "2023-07-05T19:33:27.335Z"
   },
   {
    "duration": 0,
    "start_time": "2023-07-05T19:33:27.336Z"
   },
   {
    "duration": 0,
    "start_time": "2023-07-05T19:33:27.338Z"
   },
   {
    "duration": 0,
    "start_time": "2023-07-05T19:33:27.338Z"
   },
   {
    "duration": 0,
    "start_time": "2023-07-05T19:33:27.339Z"
   },
   {
    "duration": 5,
    "start_time": "2023-07-05T19:35:16.670Z"
   },
   {
    "duration": 1836,
    "start_time": "2023-07-05T19:36:22.318Z"
   },
   {
    "duration": 48,
    "start_time": "2023-07-05T19:36:24.156Z"
   },
   {
    "duration": 16,
    "start_time": "2023-07-05T19:36:24.205Z"
   },
   {
    "duration": 15,
    "start_time": "2023-07-05T19:36:24.224Z"
   },
   {
    "duration": 16,
    "start_time": "2023-07-05T19:36:24.242Z"
   },
   {
    "duration": 14,
    "start_time": "2023-07-05T19:36:24.270Z"
   },
   {
    "duration": 36,
    "start_time": "2023-07-05T19:36:24.286Z"
   },
   {
    "duration": 5,
    "start_time": "2023-07-05T19:36:24.324Z"
   },
   {
    "duration": 11,
    "start_time": "2023-07-05T19:36:24.331Z"
   },
   {
    "duration": 264,
    "start_time": "2023-07-05T19:36:24.344Z"
   },
   {
    "duration": 3157,
    "start_time": "2023-07-05T19:36:24.610Z"
   },
   {
    "duration": 13,
    "start_time": "2023-07-05T19:36:27.769Z"
   },
   {
    "duration": 9,
    "start_time": "2023-07-05T19:36:27.784Z"
   },
   {
    "duration": 16,
    "start_time": "2023-07-05T19:36:27.813Z"
   },
   {
    "duration": 287,
    "start_time": "2023-07-05T19:36:27.831Z"
   },
   {
    "duration": 7,
    "start_time": "2023-07-05T19:36:28.121Z"
   },
   {
    "duration": 401,
    "start_time": "2023-07-05T19:36:28.130Z"
   },
   {
    "duration": 14,
    "start_time": "2023-07-05T19:36:28.536Z"
   },
   {
    "duration": 11,
    "start_time": "2023-07-05T19:36:28.556Z"
   },
   {
    "duration": 5,
    "start_time": "2023-07-05T19:36:28.569Z"
   },
   {
    "duration": 11,
    "start_time": "2023-07-05T19:36:28.576Z"
   },
   {
    "duration": 6,
    "start_time": "2023-07-05T19:36:28.589Z"
   },
   {
    "duration": 10,
    "start_time": "2023-07-05T19:36:28.613Z"
   },
   {
    "duration": 10,
    "start_time": "2023-07-05T19:36:28.626Z"
   },
   {
    "duration": 803,
    "start_time": "2023-07-05T19:36:28.640Z"
   },
   {
    "duration": 7,
    "start_time": "2023-07-05T19:36:29.445Z"
   },
   {
    "duration": 15,
    "start_time": "2023-07-05T19:36:29.454Z"
   },
   {
    "duration": 627,
    "start_time": "2023-07-05T19:36:29.471Z"
   },
   {
    "duration": 7,
    "start_time": "2023-07-05T19:36:30.100Z"
   },
   {
    "duration": 30,
    "start_time": "2023-07-05T19:36:30.109Z"
   },
   {
    "duration": 721,
    "start_time": "2023-07-05T19:36:30.151Z"
   },
   {
    "duration": 6,
    "start_time": "2023-07-05T19:36:30.874Z"
   },
   {
    "duration": 53,
    "start_time": "2023-07-05T19:36:30.882Z"
   },
   {
    "duration": 530,
    "start_time": "2023-07-05T19:36:30.937Z"
   },
   {
    "duration": 4,
    "start_time": "2023-07-05T19:36:31.469Z"
   },
   {
    "duration": 110,
    "start_time": "2023-07-05T19:36:31.475Z"
   },
   {
    "duration": 0,
    "start_time": "2023-07-05T19:36:31.587Z"
   },
   {
    "duration": 0,
    "start_time": "2023-07-05T19:36:31.588Z"
   },
   {
    "duration": 0,
    "start_time": "2023-07-05T19:36:31.589Z"
   },
   {
    "duration": 0,
    "start_time": "2023-07-05T19:36:31.590Z"
   },
   {
    "duration": 0,
    "start_time": "2023-07-05T19:36:31.591Z"
   },
   {
    "duration": 0,
    "start_time": "2023-07-05T19:36:31.592Z"
   },
   {
    "duration": 0,
    "start_time": "2023-07-05T19:36:31.727Z"
   },
   {
    "duration": 0,
    "start_time": "2023-07-05T19:36:31.728Z"
   },
   {
    "duration": 0,
    "start_time": "2023-07-05T19:36:31.730Z"
   },
   {
    "duration": 0,
    "start_time": "2023-07-05T19:36:31.734Z"
   },
   {
    "duration": 0,
    "start_time": "2023-07-05T19:36:31.735Z"
   },
   {
    "duration": 0,
    "start_time": "2023-07-05T19:36:31.737Z"
   },
   {
    "duration": 0,
    "start_time": "2023-07-05T19:36:31.739Z"
   },
   {
    "duration": 0,
    "start_time": "2023-07-05T19:36:31.741Z"
   },
   {
    "duration": 0,
    "start_time": "2023-07-05T19:36:31.743Z"
   },
   {
    "duration": 0,
    "start_time": "2023-07-05T19:36:31.745Z"
   },
   {
    "duration": 0,
    "start_time": "2023-07-05T19:36:31.748Z"
   },
   {
    "duration": 0,
    "start_time": "2023-07-05T19:36:31.749Z"
   },
   {
    "duration": 0,
    "start_time": "2023-07-05T19:36:31.750Z"
   },
   {
    "duration": 0,
    "start_time": "2023-07-05T19:36:31.750Z"
   },
   {
    "duration": 0,
    "start_time": "2023-07-05T19:36:31.751Z"
   },
   {
    "duration": 0,
    "start_time": "2023-07-05T19:36:31.752Z"
   },
   {
    "duration": 0,
    "start_time": "2023-07-05T19:36:31.753Z"
   },
   {
    "duration": 0,
    "start_time": "2023-07-05T19:36:31.755Z"
   },
   {
    "duration": 0,
    "start_time": "2023-07-05T19:36:31.756Z"
   },
   {
    "duration": 0,
    "start_time": "2023-07-05T19:36:31.758Z"
   },
   {
    "duration": 1742,
    "start_time": "2023-07-05T19:37:29.432Z"
   },
   {
    "duration": 1605,
    "start_time": "2023-07-05T19:38:34.902Z"
   },
   {
    "duration": 72,
    "start_time": "2023-07-05T19:38:36.509Z"
   },
   {
    "duration": 11,
    "start_time": "2023-07-05T19:38:36.583Z"
   },
   {
    "duration": 12,
    "start_time": "2023-07-05T19:38:36.596Z"
   },
   {
    "duration": 31,
    "start_time": "2023-07-05T19:38:36.612Z"
   },
   {
    "duration": 16,
    "start_time": "2023-07-05T19:38:36.645Z"
   },
   {
    "duration": 11,
    "start_time": "2023-07-05T19:38:36.663Z"
   },
   {
    "duration": 5,
    "start_time": "2023-07-05T19:38:36.676Z"
   },
   {
    "duration": 11,
    "start_time": "2023-07-05T19:38:36.683Z"
   },
   {
    "duration": 247,
    "start_time": "2023-07-05T19:38:36.696Z"
   },
   {
    "duration": 2997,
    "start_time": "2023-07-05T19:38:36.952Z"
   },
   {
    "duration": 21,
    "start_time": "2023-07-05T19:38:39.953Z"
   },
   {
    "duration": 19,
    "start_time": "2023-07-05T19:38:39.976Z"
   },
   {
    "duration": 28,
    "start_time": "2023-07-05T19:38:39.998Z"
   },
   {
    "duration": 288,
    "start_time": "2023-07-05T19:38:40.031Z"
   },
   {
    "duration": 13,
    "start_time": "2023-07-05T19:38:40.322Z"
   },
   {
    "duration": 365,
    "start_time": "2023-07-05T19:38:40.349Z"
   },
   {
    "duration": 14,
    "start_time": "2023-07-05T19:38:40.716Z"
   },
   {
    "duration": 9,
    "start_time": "2023-07-05T19:38:40.732Z"
   },
   {
    "duration": 5,
    "start_time": "2023-07-05T19:38:40.743Z"
   },
   {
    "duration": 14,
    "start_time": "2023-07-05T19:38:40.750Z"
   },
   {
    "duration": 6,
    "start_time": "2023-07-05T19:38:40.766Z"
   },
   {
    "duration": 7,
    "start_time": "2023-07-05T19:38:40.773Z"
   },
   {
    "duration": 33,
    "start_time": "2023-07-05T19:38:40.782Z"
   },
   {
    "duration": 816,
    "start_time": "2023-07-05T19:38:40.821Z"
   },
   {
    "duration": 13,
    "start_time": "2023-07-05T19:38:41.639Z"
   },
   {
    "duration": 10,
    "start_time": "2023-07-05T19:38:41.655Z"
   },
   {
    "duration": 484,
    "start_time": "2023-07-05T19:38:41.667Z"
   },
   {
    "duration": 5,
    "start_time": "2023-07-05T19:38:42.155Z"
   },
   {
    "duration": 8,
    "start_time": "2023-07-05T19:38:42.162Z"
   },
   {
    "duration": 806,
    "start_time": "2023-07-05T19:38:42.173Z"
   },
   {
    "duration": 5,
    "start_time": "2023-07-05T19:38:42.981Z"
   },
   {
    "duration": 11,
    "start_time": "2023-07-05T19:38:42.988Z"
   },
   {
    "duration": 508,
    "start_time": "2023-07-05T19:38:43.001Z"
   },
   {
    "duration": 12,
    "start_time": "2023-07-05T19:38:43.521Z"
   },
   {
    "duration": 1704,
    "start_time": "2023-07-05T19:38:43.535Z"
   },
   {
    "duration": 0,
    "start_time": "2023-07-05T19:38:45.242Z"
   },
   {
    "duration": 0,
    "start_time": "2023-07-05T19:38:45.244Z"
   },
   {
    "duration": 0,
    "start_time": "2023-07-05T19:38:45.245Z"
   },
   {
    "duration": 0,
    "start_time": "2023-07-05T19:38:45.246Z"
   },
   {
    "duration": 0,
    "start_time": "2023-07-05T19:38:45.375Z"
   },
   {
    "duration": 0,
    "start_time": "2023-07-05T19:38:45.376Z"
   },
   {
    "duration": 0,
    "start_time": "2023-07-05T19:38:45.378Z"
   },
   {
    "duration": 0,
    "start_time": "2023-07-05T19:38:45.380Z"
   },
   {
    "duration": 0,
    "start_time": "2023-07-05T19:38:45.381Z"
   },
   {
    "duration": 0,
    "start_time": "2023-07-05T19:38:45.383Z"
   },
   {
    "duration": 0,
    "start_time": "2023-07-05T19:38:45.384Z"
   },
   {
    "duration": 0,
    "start_time": "2023-07-05T19:38:45.386Z"
   },
   {
    "duration": 0,
    "start_time": "2023-07-05T19:38:45.387Z"
   },
   {
    "duration": 0,
    "start_time": "2023-07-05T19:38:45.389Z"
   },
   {
    "duration": 0,
    "start_time": "2023-07-05T19:38:45.391Z"
   },
   {
    "duration": 0,
    "start_time": "2023-07-05T19:38:45.392Z"
   },
   {
    "duration": 0,
    "start_time": "2023-07-05T19:38:45.393Z"
   },
   {
    "duration": 0,
    "start_time": "2023-07-05T19:38:45.395Z"
   },
   {
    "duration": 0,
    "start_time": "2023-07-05T19:38:45.397Z"
   },
   {
    "duration": 0,
    "start_time": "2023-07-05T19:38:45.398Z"
   },
   {
    "duration": 0,
    "start_time": "2023-07-05T19:38:45.399Z"
   },
   {
    "duration": 0,
    "start_time": "2023-07-05T19:38:45.400Z"
   },
   {
    "duration": 0,
    "start_time": "2023-07-05T19:38:45.401Z"
   },
   {
    "duration": 0,
    "start_time": "2023-07-05T19:38:45.414Z"
   },
   {
    "duration": 0,
    "start_time": "2023-07-05T19:38:45.415Z"
   },
   {
    "duration": 0,
    "start_time": "2023-07-05T19:38:45.416Z"
   },
   {
    "duration": 2440,
    "start_time": "2023-07-05T19:40:01.352Z"
   },
   {
    "duration": 493,
    "start_time": "2023-07-05T19:40:44.951Z"
   },
   {
    "duration": 1743,
    "start_time": "2023-07-05T19:43:28.972Z"
   },
   {
    "duration": 65,
    "start_time": "2023-07-05T19:43:30.717Z"
   },
   {
    "duration": 20,
    "start_time": "2023-07-05T19:43:30.784Z"
   },
   {
    "duration": 60,
    "start_time": "2023-07-05T19:43:30.806Z"
   },
   {
    "duration": 58,
    "start_time": "2023-07-05T19:43:30.869Z"
   },
   {
    "duration": 108,
    "start_time": "2023-07-05T19:43:30.929Z"
   },
   {
    "duration": 43,
    "start_time": "2023-07-05T19:43:31.039Z"
   },
   {
    "duration": 70,
    "start_time": "2023-07-05T19:43:31.084Z"
   },
   {
    "duration": 42,
    "start_time": "2023-07-05T19:43:31.156Z"
   },
   {
    "duration": 307,
    "start_time": "2023-07-05T19:43:31.200Z"
   },
   {
    "duration": 3096,
    "start_time": "2023-07-05T19:43:31.513Z"
   },
   {
    "duration": 27,
    "start_time": "2023-07-05T19:43:34.610Z"
   },
   {
    "duration": 24,
    "start_time": "2023-07-05T19:43:34.639Z"
   },
   {
    "duration": 13,
    "start_time": "2023-07-05T19:43:34.671Z"
   },
   {
    "duration": 276,
    "start_time": "2023-07-05T19:43:34.685Z"
   },
   {
    "duration": 6,
    "start_time": "2023-07-05T19:43:34.963Z"
   },
   {
    "duration": 396,
    "start_time": "2023-07-05T19:43:34.970Z"
   },
   {
    "duration": 8,
    "start_time": "2023-07-05T19:43:35.368Z"
   },
   {
    "duration": 8,
    "start_time": "2023-07-05T19:43:35.378Z"
   },
   {
    "duration": 5,
    "start_time": "2023-07-05T19:43:35.388Z"
   },
   {
    "duration": 32,
    "start_time": "2023-07-05T19:43:35.395Z"
   },
   {
    "duration": 14,
    "start_time": "2023-07-05T19:43:35.429Z"
   },
   {
    "duration": 18,
    "start_time": "2023-07-05T19:43:35.450Z"
   },
   {
    "duration": 17,
    "start_time": "2023-07-05T19:43:35.470Z"
   },
   {
    "duration": 869,
    "start_time": "2023-07-05T19:43:35.489Z"
   },
   {
    "duration": 5,
    "start_time": "2023-07-05T19:43:36.360Z"
   },
   {
    "duration": 41,
    "start_time": "2023-07-05T19:43:36.367Z"
   },
   {
    "duration": 510,
    "start_time": "2023-07-05T19:43:36.410Z"
   },
   {
    "duration": 9,
    "start_time": "2023-07-05T19:43:36.922Z"
   },
   {
    "duration": 18,
    "start_time": "2023-07-05T19:43:36.934Z"
   },
   {
    "duration": 737,
    "start_time": "2023-07-05T19:43:36.954Z"
   },
   {
    "duration": 5,
    "start_time": "2023-07-05T19:43:37.693Z"
   },
   {
    "duration": 32,
    "start_time": "2023-07-05T19:43:37.700Z"
   },
   {
    "duration": 466,
    "start_time": "2023-07-05T19:43:37.733Z"
   },
   {
    "duration": 4,
    "start_time": "2023-07-05T19:43:38.201Z"
   },
   {
    "duration": 536,
    "start_time": "2023-07-05T19:43:38.213Z"
   },
   {
    "duration": 7,
    "start_time": "2023-07-05T19:43:38.751Z"
   },
   {
    "duration": 38,
    "start_time": "2023-07-05T19:43:38.759Z"
   },
   {
    "duration": 9,
    "start_time": "2023-07-05T19:43:38.799Z"
   },
   {
    "duration": 48,
    "start_time": "2023-07-05T19:43:38.811Z"
   },
   {
    "duration": 6,
    "start_time": "2023-07-05T19:43:38.866Z"
   },
   {
    "duration": 157,
    "start_time": "2023-07-05T19:43:38.874Z"
   },
   {
    "duration": 0,
    "start_time": "2023-07-05T19:43:39.033Z"
   },
   {
    "duration": 0,
    "start_time": "2023-07-05T19:43:39.034Z"
   },
   {
    "duration": 0,
    "start_time": "2023-07-05T19:43:39.035Z"
   },
   {
    "duration": 0,
    "start_time": "2023-07-05T19:43:39.036Z"
   },
   {
    "duration": 0,
    "start_time": "2023-07-05T19:43:39.036Z"
   },
   {
    "duration": 0,
    "start_time": "2023-07-05T19:43:39.039Z"
   },
   {
    "duration": 0,
    "start_time": "2023-07-05T19:43:39.040Z"
   },
   {
    "duration": 0,
    "start_time": "2023-07-05T19:43:39.041Z"
   },
   {
    "duration": 0,
    "start_time": "2023-07-05T19:43:39.042Z"
   },
   {
    "duration": 0,
    "start_time": "2023-07-05T19:43:39.043Z"
   },
   {
    "duration": 0,
    "start_time": "2023-07-05T19:43:39.043Z"
   },
   {
    "duration": 0,
    "start_time": "2023-07-05T19:43:39.044Z"
   },
   {
    "duration": 0,
    "start_time": "2023-07-05T19:43:39.047Z"
   },
   {
    "duration": 0,
    "start_time": "2023-07-05T19:43:39.049Z"
   },
   {
    "duration": 0,
    "start_time": "2023-07-05T19:43:39.050Z"
   },
   {
    "duration": 0,
    "start_time": "2023-07-05T19:43:39.052Z"
   },
   {
    "duration": 0,
    "start_time": "2023-07-05T19:43:39.054Z"
   },
   {
    "duration": 0,
    "start_time": "2023-07-05T19:43:39.055Z"
   },
   {
    "duration": 0,
    "start_time": "2023-07-05T19:43:39.056Z"
   },
   {
    "duration": 0,
    "start_time": "2023-07-05T19:43:39.057Z"
   },
   {
    "duration": 1763,
    "start_time": "2023-07-05T19:44:04.410Z"
   },
   {
    "duration": 47,
    "start_time": "2023-07-05T19:44:06.175Z"
   },
   {
    "duration": 17,
    "start_time": "2023-07-05T19:44:06.225Z"
   },
   {
    "duration": 18,
    "start_time": "2023-07-05T19:44:06.243Z"
   },
   {
    "duration": 15,
    "start_time": "2023-07-05T19:44:06.264Z"
   },
   {
    "duration": 14,
    "start_time": "2023-07-05T19:44:06.281Z"
   },
   {
    "duration": 34,
    "start_time": "2023-07-05T19:44:06.297Z"
   },
   {
    "duration": 5,
    "start_time": "2023-07-05T19:44:06.333Z"
   },
   {
    "duration": 20,
    "start_time": "2023-07-05T19:44:06.340Z"
   },
   {
    "duration": 241,
    "start_time": "2023-07-05T19:44:06.363Z"
   },
   {
    "duration": 3221,
    "start_time": "2023-07-05T19:44:06.606Z"
   },
   {
    "duration": 19,
    "start_time": "2023-07-05T19:44:09.828Z"
   },
   {
    "duration": 15,
    "start_time": "2023-07-05T19:44:09.850Z"
   },
   {
    "duration": 24,
    "start_time": "2023-07-05T19:44:09.869Z"
   },
   {
    "duration": 364,
    "start_time": "2023-07-05T19:44:09.895Z"
   },
   {
    "duration": 6,
    "start_time": "2023-07-05T19:44:10.263Z"
   },
   {
    "duration": 425,
    "start_time": "2023-07-05T19:44:10.271Z"
   },
   {
    "duration": 17,
    "start_time": "2023-07-05T19:44:10.698Z"
   },
   {
    "duration": 18,
    "start_time": "2023-07-05T19:44:10.716Z"
   },
   {
    "duration": 21,
    "start_time": "2023-07-05T19:44:10.735Z"
   },
   {
    "duration": 66,
    "start_time": "2023-07-05T19:44:10.758Z"
   },
   {
    "duration": 41,
    "start_time": "2023-07-05T19:44:10.826Z"
   },
   {
    "duration": 34,
    "start_time": "2023-07-05T19:44:10.868Z"
   },
   {
    "duration": 25,
    "start_time": "2023-07-05T19:44:10.904Z"
   },
   {
    "duration": 808,
    "start_time": "2023-07-05T19:44:10.931Z"
   },
   {
    "duration": 7,
    "start_time": "2023-07-05T19:44:11.747Z"
   },
   {
    "duration": 28,
    "start_time": "2023-07-05T19:44:11.756Z"
   },
   {
    "duration": 510,
    "start_time": "2023-07-05T19:44:11.786Z"
   },
   {
    "duration": 5,
    "start_time": "2023-07-05T19:44:12.298Z"
   },
   {
    "duration": 11,
    "start_time": "2023-07-05T19:44:12.312Z"
   },
   {
    "duration": 725,
    "start_time": "2023-07-05T19:44:12.325Z"
   },
   {
    "duration": 5,
    "start_time": "2023-07-05T19:44:13.055Z"
   },
   {
    "duration": 13,
    "start_time": "2023-07-05T19:44:13.062Z"
   },
   {
    "duration": 463,
    "start_time": "2023-07-05T19:44:13.076Z"
   },
   {
    "duration": 16,
    "start_time": "2023-07-05T19:44:13.541Z"
   },
   {
    "duration": 512,
    "start_time": "2023-07-05T19:44:13.560Z"
   },
   {
    "duration": 4,
    "start_time": "2023-07-05T19:44:14.074Z"
   },
   {
    "duration": 34,
    "start_time": "2023-07-05T19:44:14.079Z"
   },
   {
    "duration": 18,
    "start_time": "2023-07-05T19:44:14.116Z"
   },
   {
    "duration": 31,
    "start_time": "2023-07-05T19:44:14.140Z"
   },
   {
    "duration": 7,
    "start_time": "2023-07-05T19:44:14.175Z"
   },
   {
    "duration": 8,
    "start_time": "2023-07-05T19:44:14.183Z"
   },
   {
    "duration": 39,
    "start_time": "2023-07-05T19:44:14.193Z"
   },
   {
    "duration": 187,
    "start_time": "2023-07-05T19:44:14.236Z"
   },
   {
    "duration": 4093,
    "start_time": "2023-07-05T19:44:14.429Z"
   },
   {
    "duration": 210,
    "start_time": "2023-07-05T19:44:18.542Z"
   },
   {
    "duration": 64,
    "start_time": "2023-07-05T19:44:18.756Z"
   },
   {
    "duration": 97,
    "start_time": "2023-07-05T19:44:18.842Z"
   },
   {
    "duration": 4,
    "start_time": "2023-07-05T19:44:18.941Z"
   },
   {
    "duration": 11,
    "start_time": "2023-07-05T19:44:18.948Z"
   },
   {
    "duration": 3805567,
    "start_time": "2023-07-05T19:44:18.961Z"
   },
   {
    "duration": 0,
    "start_time": "2023-07-05T20:47:44.531Z"
   },
   {
    "duration": 0,
    "start_time": "2023-07-05T20:47:44.534Z"
   },
   {
    "duration": 0,
    "start_time": "2023-07-05T20:47:44.536Z"
   },
   {
    "duration": 0,
    "start_time": "2023-07-05T20:47:44.537Z"
   },
   {
    "duration": 0,
    "start_time": "2023-07-05T20:47:44.538Z"
   },
   {
    "duration": 0,
    "start_time": "2023-07-05T20:47:44.540Z"
   },
   {
    "duration": 0,
    "start_time": "2023-07-05T20:47:44.541Z"
   },
   {
    "duration": 0,
    "start_time": "2023-07-05T20:47:44.546Z"
   },
   {
    "duration": 0,
    "start_time": "2023-07-05T20:47:44.547Z"
   },
   {
    "duration": 0,
    "start_time": "2023-07-05T20:47:44.549Z"
   },
   {
    "duration": 0,
    "start_time": "2023-07-05T20:47:44.550Z"
   },
   {
    "duration": 14,
    "start_time": "2023-07-05T20:47:58.891Z"
   },
   {
    "duration": 9,
    "start_time": "2023-07-05T20:48:37.565Z"
   },
   {
    "duration": 1803,
    "start_time": "2023-07-05T20:54:27.798Z"
   },
   {
    "duration": 71,
    "start_time": "2023-07-05T20:54:29.604Z"
   },
   {
    "duration": 12,
    "start_time": "2023-07-05T20:54:29.678Z"
   },
   {
    "duration": 15,
    "start_time": "2023-07-05T20:54:29.693Z"
   },
   {
    "duration": 20,
    "start_time": "2023-07-05T20:54:29.711Z"
   },
   {
    "duration": 23,
    "start_time": "2023-07-05T20:54:29.732Z"
   },
   {
    "duration": 17,
    "start_time": "2023-07-05T20:54:29.759Z"
   },
   {
    "duration": 5,
    "start_time": "2023-07-05T20:54:29.779Z"
   },
   {
    "duration": 10,
    "start_time": "2023-07-05T20:54:29.786Z"
   },
   {
    "duration": 284,
    "start_time": "2023-07-05T20:54:29.798Z"
   },
   {
    "duration": 3221,
    "start_time": "2023-07-05T20:54:30.084Z"
   },
   {
    "duration": 21,
    "start_time": "2023-07-05T20:54:33.306Z"
   },
   {
    "duration": 14,
    "start_time": "2023-07-05T20:54:33.329Z"
   },
   {
    "duration": 10,
    "start_time": "2023-07-05T20:54:33.346Z"
   },
   {
    "duration": 277,
    "start_time": "2023-07-05T20:54:33.358Z"
   },
   {
    "duration": 7,
    "start_time": "2023-07-05T20:54:33.637Z"
   },
   {
    "duration": 402,
    "start_time": "2023-07-05T20:54:33.646Z"
   },
   {
    "duration": 10,
    "start_time": "2023-07-05T20:54:34.050Z"
   },
   {
    "duration": 9,
    "start_time": "2023-07-05T20:54:34.062Z"
   },
   {
    "duration": 14,
    "start_time": "2023-07-05T20:54:34.075Z"
   },
   {
    "duration": 8,
    "start_time": "2023-07-05T20:54:34.091Z"
   },
   {
    "duration": 25,
    "start_time": "2023-07-05T20:54:34.116Z"
   },
   {
    "duration": 6,
    "start_time": "2023-07-05T20:54:34.143Z"
   },
   {
    "duration": 8,
    "start_time": "2023-07-05T20:54:34.151Z"
   },
   {
    "duration": 818,
    "start_time": "2023-07-05T20:54:34.161Z"
   },
   {
    "duration": 5,
    "start_time": "2023-07-05T20:54:34.981Z"
   },
   {
    "duration": 17,
    "start_time": "2023-07-05T20:54:34.987Z"
   },
   {
    "duration": 498,
    "start_time": "2023-07-05T20:54:35.006Z"
   },
   {
    "duration": 15,
    "start_time": "2023-07-05T20:54:35.506Z"
   },
   {
    "duration": 23,
    "start_time": "2023-07-05T20:54:35.523Z"
   },
   {
    "duration": 747,
    "start_time": "2023-07-05T20:54:35.550Z"
   },
   {
    "duration": 6,
    "start_time": "2023-07-05T20:54:36.299Z"
   },
   {
    "duration": 16,
    "start_time": "2023-07-05T20:54:36.313Z"
   },
   {
    "duration": 471,
    "start_time": "2023-07-05T20:54:36.334Z"
   },
   {
    "duration": 10,
    "start_time": "2023-07-05T20:54:36.807Z"
   },
   {
    "duration": 498,
    "start_time": "2023-07-05T20:54:36.828Z"
   },
   {
    "duration": 9,
    "start_time": "2023-07-05T20:54:37.328Z"
   },
   {
    "duration": 26,
    "start_time": "2023-07-05T20:54:37.343Z"
   },
   {
    "duration": 7,
    "start_time": "2023-07-05T20:54:37.372Z"
   },
   {
    "duration": 24,
    "start_time": "2023-07-05T20:54:37.380Z"
   },
   {
    "duration": 9,
    "start_time": "2023-07-05T20:54:37.429Z"
   },
   {
    "duration": 7,
    "start_time": "2023-07-05T20:54:37.441Z"
   },
   {
    "duration": 25,
    "start_time": "2023-07-05T20:54:37.450Z"
   },
   {
    "duration": 234,
    "start_time": "2023-07-05T20:54:37.522Z"
   },
   {
    "duration": 4074,
    "start_time": "2023-07-05T20:54:37.765Z"
   },
   {
    "duration": 259,
    "start_time": "2023-07-05T20:54:41.856Z"
   },
   {
    "duration": 13,
    "start_time": "2023-07-05T20:54:42.128Z"
   },
   {
    "duration": 115,
    "start_time": "2023-07-05T20:54:42.151Z"
   },
   {
    "duration": 4,
    "start_time": "2023-07-05T20:54:42.267Z"
   },
   {
    "duration": 8,
    "start_time": "2023-07-05T20:54:42.272Z"
   },
   {
    "duration": 3428578,
    "start_time": "2023-07-05T20:54:42.282Z"
   },
   {
    "duration": 0,
    "start_time": "2023-07-05T21:51:50.863Z"
   },
   {
    "duration": 0,
    "start_time": "2023-07-05T21:51:50.865Z"
   },
   {
    "duration": 0,
    "start_time": "2023-07-05T21:51:50.866Z"
   },
   {
    "duration": 0,
    "start_time": "2023-07-05T21:51:50.867Z"
   },
   {
    "duration": 0,
    "start_time": "2023-07-05T21:51:50.869Z"
   },
   {
    "duration": 0,
    "start_time": "2023-07-05T21:51:50.870Z"
   },
   {
    "duration": 0,
    "start_time": "2023-07-05T21:51:50.871Z"
   },
   {
    "duration": 0,
    "start_time": "2023-07-05T21:51:50.873Z"
   },
   {
    "duration": 0,
    "start_time": "2023-07-05T21:51:50.875Z"
   },
   {
    "duration": 0,
    "start_time": "2023-07-05T21:51:50.876Z"
   },
   {
    "duration": 0,
    "start_time": "2023-07-05T21:51:50.877Z"
   },
   {
    "duration": 2040,
    "start_time": "2023-07-05T21:51:57.004Z"
   },
   {
    "duration": 71,
    "start_time": "2023-07-05T21:51:59.054Z"
   },
   {
    "duration": 16,
    "start_time": "2023-07-05T21:51:59.130Z"
   },
   {
    "duration": 35,
    "start_time": "2023-07-05T21:51:59.148Z"
   },
   {
    "duration": 18,
    "start_time": "2023-07-05T21:51:59.187Z"
   },
   {
    "duration": 32,
    "start_time": "2023-07-05T21:51:59.206Z"
   },
   {
    "duration": 34,
    "start_time": "2023-07-05T21:51:59.241Z"
   },
   {
    "duration": 24,
    "start_time": "2023-07-05T21:51:59.284Z"
   },
   {
    "duration": 43,
    "start_time": "2023-07-05T21:51:59.310Z"
   },
   {
    "duration": 329,
    "start_time": "2023-07-05T21:51:59.356Z"
   },
   {
    "duration": 4234,
    "start_time": "2023-07-05T21:51:59.687Z"
   },
   {
    "duration": 23,
    "start_time": "2023-07-05T21:52:03.923Z"
   },
   {
    "duration": 23,
    "start_time": "2023-07-05T21:52:03.948Z"
   },
   {
    "duration": 78,
    "start_time": "2023-07-05T21:52:03.973Z"
   },
   {
    "duration": 326,
    "start_time": "2023-07-05T21:52:04.062Z"
   },
   {
    "duration": 8,
    "start_time": "2023-07-05T21:52:04.392Z"
   },
   {
    "duration": 504,
    "start_time": "2023-07-05T21:52:04.402Z"
   },
   {
    "duration": 16,
    "start_time": "2023-07-05T21:52:04.908Z"
   },
   {
    "duration": 15,
    "start_time": "2023-07-05T21:52:04.928Z"
   },
   {
    "duration": 21,
    "start_time": "2023-07-05T21:52:04.945Z"
   },
   {
    "duration": 41,
    "start_time": "2023-07-05T21:52:04.968Z"
   },
   {
    "duration": 38,
    "start_time": "2023-07-05T21:52:05.011Z"
   },
   {
    "duration": 39,
    "start_time": "2023-07-05T21:52:05.051Z"
   },
   {
    "duration": 37,
    "start_time": "2023-07-05T21:52:05.092Z"
   },
   {
    "duration": 1001,
    "start_time": "2023-07-05T21:52:05.131Z"
   },
   {
    "duration": 8,
    "start_time": "2023-07-05T21:52:06.134Z"
   },
   {
    "duration": 43,
    "start_time": "2023-07-05T21:52:06.144Z"
   },
   {
    "duration": 667,
    "start_time": "2023-07-05T21:52:06.195Z"
   },
   {
    "duration": 19,
    "start_time": "2023-07-05T21:52:06.877Z"
   },
   {
    "duration": 34,
    "start_time": "2023-07-05T21:52:06.898Z"
   },
   {
    "duration": 868,
    "start_time": "2023-07-05T21:52:06.934Z"
   },
   {
    "duration": 5,
    "start_time": "2023-07-05T21:52:07.804Z"
   },
   {
    "duration": 35,
    "start_time": "2023-07-05T21:52:07.811Z"
   },
   {
    "duration": 651,
    "start_time": "2023-07-05T21:52:07.848Z"
   },
   {
    "duration": 4,
    "start_time": "2023-07-05T21:52:08.501Z"
   },
   {
    "duration": 681,
    "start_time": "2023-07-05T21:52:08.507Z"
   },
   {
    "duration": 5,
    "start_time": "2023-07-05T21:52:09.189Z"
   },
   {
    "duration": 36,
    "start_time": "2023-07-05T21:52:09.197Z"
   },
   {
    "duration": 32,
    "start_time": "2023-07-05T21:52:09.236Z"
   },
   {
    "duration": 75,
    "start_time": "2023-07-05T21:52:09.271Z"
   },
   {
    "duration": 93,
    "start_time": "2023-07-05T21:52:09.350Z"
   },
   {
    "duration": 39,
    "start_time": "2023-07-05T21:52:09.445Z"
   },
   {
    "duration": 78,
    "start_time": "2023-07-05T21:52:09.488Z"
   },
   {
    "duration": 205,
    "start_time": "2023-07-05T21:52:09.573Z"
   },
   {
    "duration": 4834,
    "start_time": "2023-07-05T21:52:09.791Z"
   },
   {
    "duration": 126,
    "start_time": "2023-07-05T21:52:14.647Z"
   },
   {
    "duration": 93,
    "start_time": "2023-07-05T21:52:14.779Z"
   },
   {
    "duration": 44,
    "start_time": "2023-07-05T21:52:14.887Z"
   },
   {
    "duration": 21,
    "start_time": "2023-07-05T21:52:14.945Z"
   },
   {
    "duration": 7,
    "start_time": "2023-07-05T21:52:14.972Z"
   },
   {
    "duration": 5645179,
    "start_time": "2023-07-05T21:52:14.981Z"
   },
   {
    "duration": 6,
    "start_time": "2023-07-05T23:26:20.162Z"
   },
   {
    "duration": 51,
    "start_time": "2023-07-05T23:26:20.171Z"
   },
   {
    "duration": 490680,
    "start_time": "2023-07-05T23:26:20.227Z"
   },
   {
    "duration": 3,
    "start_time": "2023-07-05T23:34:30.910Z"
   },
   {
    "duration": 58,
    "start_time": "2023-07-05T23:34:30.915Z"
   },
   {
    "duration": 72,
    "start_time": "2023-07-05T23:34:30.975Z"
   },
   {
    "duration": 185121,
    "start_time": "2023-07-05T23:34:31.114Z"
   },
   {
    "duration": 11,
    "start_time": "2023-07-05T23:37:36.238Z"
   },
   {
    "duration": 7685,
    "start_time": "2023-07-05T23:37:36.251Z"
   },
   {
    "duration": 10,
    "start_time": "2023-07-05T23:37:43.947Z"
   },
   {
    "duration": 35,
    "start_time": "2023-07-05T23:37:43.961Z"
   },
   {
    "duration": 82,
    "start_time": "2023-07-06T08:44:29.481Z"
   },
   {
    "duration": 88,
    "start_time": "2023-07-06T08:45:56.541Z"
   },
   {
    "duration": 1613,
    "start_time": "2023-07-06T08:48:07.162Z"
   }
  ],
  "kernelspec": {
   "display_name": "Python 3 (ipykernel)",
   "language": "python",
   "name": "python3"
  },
  "language_info": {
   "codemirror_mode": {
    "name": "ipython",
    "version": 3
   },
   "file_extension": ".py",
   "mimetype": "text/x-python",
   "name": "python",
   "nbconvert_exporter": "python",
   "pygments_lexer": "ipython3",
   "version": "3.9.5"
  },
  "toc": {
   "base_numbering": 1,
   "nav_menu": {},
   "number_sections": true,
   "sideBar": true,
   "skip_h1_title": true,
   "title_cell": "Содержание",
   "title_sidebar": "Contents",
   "toc_cell": true,
   "toc_position": {
    "height": "calc(100% - 180px)",
    "left": "10px",
    "top": "150px",
    "width": "165px"
   },
   "toc_section_display": true,
   "toc_window_display": true
  }
 },
 "nbformat": 4,
 "nbformat_minor": 2
}
